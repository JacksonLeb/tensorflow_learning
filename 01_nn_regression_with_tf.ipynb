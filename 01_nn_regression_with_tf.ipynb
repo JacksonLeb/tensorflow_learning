{
  "nbformat": 4,
  "nbformat_minor": 0,
  "metadata": {
    "colab": {
      "name": "01_nn_regression_with_tf.ipynb",
      "provenance": [],
      "collapsed_sections": [],
      "authorship_tag": "ABX9TyO506MvwjzTwT7f1rQdgovS",
      "include_colab_link": true
    },
    "kernelspec": {
      "name": "python3",
      "display_name": "Python 3"
    },
    "language_info": {
      "name": "python"
    }
  },
  "cells": [
    {
      "cell_type": "markdown",
      "metadata": {
        "id": "view-in-github",
        "colab_type": "text"
      },
      "source": [
        "<a href=\"https://colab.research.google.com/github/JacksonLeb/tensorflow_learning/blob/main/01_nn_regression_with_tf.ipynb\" target=\"_parent\"><img src=\"https://colab.research.google.com/assets/colab-badge.svg\" alt=\"Open In Colab\"/></a>"
      ]
    },
    {
      "cell_type": "markdown",
      "source": [
        "#Introduction to Regression with Neural Networks in TensorFlow"
      ],
      "metadata": {
        "id": "cVr7adt3M8At"
      }
    },
    {
      "cell_type": "code",
      "source": [
        "#import tensorflow\n",
        "import tensorflow as tf\n",
        "print(tf.__version__)"
      ],
      "metadata": {
        "colab": {
          "base_uri": "https://localhost:8080/"
        },
        "id": "XqeLGsGdNMp0",
        "outputId": "be2d5990-c884-4f4a-d939-9bcf93e1d233"
      },
      "execution_count": 4,
      "outputs": [
        {
          "output_type": "stream",
          "name": "stdout",
          "text": [
            "2.8.2\n"
          ]
        }
      ]
    },
    {
      "cell_type": "markdown",
      "source": [
        "## Creating data to view and fit for the model"
      ],
      "metadata": {
        "id": "ZLdJ36v8NUci"
      }
    },
    {
      "cell_type": "code",
      "source": [
        "import numpy as np\n",
        "import matplotlib.pyplot as plt\n",
        "\n",
        "#creating features\n",
        "X = np.array([-7.0, -4.0, -1.0, 2.0, 5.0, 8.0, 11.0, 14.0])\n",
        "#creating labels\n",
        "y = np.array([3.0, 6.0, 9.0, 12.0, 15.0, 18.0, 21.0, 24.0])\n",
        "\n",
        "plt.scatter(X, y)"
      ],
      "metadata": {
        "colab": {
          "base_uri": "https://localhost:8080/",
          "height": 287
        },
        "id": "m9QZ3pkSNX5Y",
        "outputId": "19e467ca-be76-44dc-8bf7-8cd175a94e4c"
      },
      "execution_count": 5,
      "outputs": [
        {
          "output_type": "execute_result",
          "data": {
            "text/plain": [
              "<matplotlib.collections.PathCollection at 0x7f9a379dba10>"
            ]
          },
          "metadata": {},
          "execution_count": 5
        },
        {
          "output_type": "display_data",
          "data": {
            "text/plain": [
              "<Figure size 432x288 with 1 Axes>"
            ],
            "image/png": "[encoded data removed]"
          },
          "metadata": {
            "needs_background": "light"
          }
        }
      ]
    },
    {
      "cell_type": "code",
      "source": [
        "y == X + 10"
      ],
      "metadata": {
        "colab": {
          "base_uri": "https://localhost:8080/"
        },
        "id": "oohItgZ-NxSq",
        "outputId": "ad2a2817-9411-49f9-e5f1-1f060ec66d66"
      },
      "execution_count": 6,
      "outputs": [
        {
          "output_type": "execute_result",
          "data": {
            "text/plain": [
              "array([ True,  True,  True,  True,  True,  True,  True,  True])"
            ]
          },
          "metadata": {},
          "execution_count": 6
        }
      ]
    },
    {
      "cell_type": "markdown",
      "source": [
        "## input and output shapes\n"
      ],
      "metadata": {
        "id": "gKCL6o2RN5zK"
      }
    },
    {
      "cell_type": "code",
      "source": [
        "#creating a demo tensor for housing prediction model\n",
        "house_info = tf.constant([\"bedroom\", \"bathroom\", \"garage\"])\n",
        "house_price = tf.constant([937000])\n",
        "house_info, house_price"
      ],
      "metadata": {
        "colab": {
          "base_uri": "https://localhost:8080/"
        },
        "id": "EGx1pz9eN7xl",
        "outputId": "e72083cb-3abc-411f-e9ec-d1c138b40a83"
      },
      "execution_count": 7,
      "outputs": [
        {
          "output_type": "execute_result",
          "data": {
            "text/plain": [
              "(<tf.Tensor: shape=(3,), dtype=string, numpy=array([b'bedroom', b'bathroom', b'garage'], dtype=object)>,\n",
              " <tf.Tensor: shape=(1,), dtype=int32, numpy=array([937000], dtype=int32)>)"
            ]
          },
          "metadata": {},
          "execution_count": 7
        }
      ]
    },
    {
      "cell_type": "code",
      "source": [
        "input_shape = X[0].shape\n",
        "output_shape = y[0].shape\n",
        "input_shape, output_shape"
      ],
      "metadata": {
        "colab": {
          "base_uri": "https://localhost:8080/"
        },
        "id": "EZJDyqYyORZs",
        "outputId": "2df8cc06-579b-4853-9770-d67f32d1333a"
      },
      "execution_count": 8,
      "outputs": [
        {
          "output_type": "execute_result",
          "data": {
            "text/plain": [
              "((), ())"
            ]
          },
          "metadata": {},
          "execution_count": 8
        }
      ]
    },
    {
      "cell_type": "code",
      "source": [
        "X[0], y[0]"
      ],
      "metadata": {
        "colab": {
          "base_uri": "https://localhost:8080/"
        },
        "id": "di8o2WcbOhXt",
        "outputId": "48141650-cfc2-4b1e-d26b-1a261e212690"
      },
      "execution_count": 9,
      "outputs": [
        {
          "output_type": "execute_result",
          "data": {
            "text/plain": [
              "(-7.0, 3.0)"
            ]
          },
          "metadata": {},
          "execution_count": 9
        }
      ]
    },
    {
      "cell_type": "code",
      "source": [
        "#turning numpy arrays into tensors"
      ],
      "metadata": {
        "id": "2wHVWOJkPBQ2"
      },
      "execution_count": 10,
      "outputs": []
    },
    {
      "cell_type": "code",
      "source": [
        "X = tf.constant(X)\n",
        "y = tf.constant(y)\n",
        "X, y"
      ],
      "metadata": {
        "colab": {
          "base_uri": "https://localhost:8080/"
        },
        "id": "yxUo2VXXPCoc",
        "outputId": "caa629c1-750b-4f86-a439-d68f83363de6"
      },
      "execution_count": 11,
      "outputs": [
        {
          "output_type": "execute_result",
          "data": {
            "text/plain": [
              "(<tf.Tensor: shape=(8,), dtype=float64, numpy=array([-7., -4., -1.,  2.,  5.,  8., 11., 14.])>,\n",
              " <tf.Tensor: shape=(8,), dtype=float64, numpy=array([ 3.,  6.,  9., 12., 15., 18., 21., 24.])>)"
            ]
          },
          "metadata": {},
          "execution_count": 11
        }
      ]
    },
    {
      "cell_type": "code",
      "source": [
        "input_shape = X[0].shape\n",
        "output_shape = y[0].shape\n",
        "input_shape, output_shape"
      ],
      "metadata": {
        "colab": {
          "base_uri": "https://localhost:8080/"
        },
        "id": "oxRqVBanPJEH",
        "outputId": "bea72987-df8c-4201-8c5c-4cf2e618c379"
      },
      "execution_count": 12,
      "outputs": [
        {
          "output_type": "execute_result",
          "data": {
            "text/plain": [
              "(TensorShape([]), TensorShape([]))"
            ]
          },
          "metadata": {},
          "execution_count": 12
        }
      ]
    },
    {
      "cell_type": "markdown",
      "source": [
        "## Steps in modleing wiht TF\n",
        "###Create Model\n",
        "###Compile Model: Loss and Optimization\n",
        "###Fitting a model"
      ],
      "metadata": {
        "id": "0z6TuKR5PUw3"
      }
    },
    {
      "cell_type": "code",
      "source": [
        "#Set Random Seed\n",
        "tf.random.set_seed(42)\n",
        "\n",
        "#1. Create. model using sequential API\n",
        "model = tf.keras.Sequential([\n",
        "  tf.keras.layers.Dense(1)\n",
        "])\n",
        "\n",
        "#2. Compile\n",
        "model.compile(loss = tf.keras.losses.mae,\n",
        "              optimizer = tf.keras.optimizers.SGD(),\n",
        "              metrics=[\"mae\"])\n",
        "\n",
        "#3. Fit the model\n",
        "model.fit(tf.expand_dims(X, axis=-1), y, epochs=5)\n",
        "\n",
        "\n"
      ],
      "metadata": {
        "colab": {
          "base_uri": "https://localhost:8080/"
        },
        "id": "iDbu_gXgPWQY",
        "outputId": "c8169f77-95c6-42e3-e284-aeaafc16ac7c"
      },
      "execution_count": 13,
      "outputs": [
        {
          "output_type": "stream",
          "name": "stdout",
          "text": [
            "Epoch 1/5\n",
            "1/1 [==============================] - 1s 541ms/step - loss: 11.5048 - mae: 11.5048\n",
            "Epoch 2/5\n",
            "1/1 [==============================] - 0s 7ms/step - loss: 11.3723 - mae: 11.3723\n",
            "Epoch 3/5\n",
            "1/1 [==============================] - 0s 5ms/step - loss: 11.2398 - mae: 11.2398\n",
            "Epoch 4/5\n",
            "1/1 [==============================] - 0s 5ms/step - loss: 11.1073 - mae: 11.1073\n",
            "Epoch 5/5\n",
            "1/1 [==============================] - 0s 5ms/step - loss: 10.9748 - mae: 10.9748\n"
          ]
        },
        {
          "output_type": "execute_result",
          "data": {
            "text/plain": [
              "<keras.callbacks.History at 0x7f9a33788110>"
            ]
          },
          "metadata": {},
          "execution_count": 13
        }
      ]
    },
    {
      "cell_type": "code",
      "source": [
        "#Check out X and Y\n",
        "X, y\n"
      ],
      "metadata": {
        "colab": {
          "base_uri": "https://localhost:8080/"
        },
        "id": "dU1Ufn1LR5jH",
        "outputId": "cd893182-a951-4afe-abc3-b31bf641edd9"
      },
      "execution_count": 14,
      "outputs": [
        {
          "output_type": "execute_result",
          "data": {
            "text/plain": [
              "(<tf.Tensor: shape=(8,), dtype=float64, numpy=array([-7., -4., -1.,  2.,  5.,  8., 11., 14.])>,\n",
              " <tf.Tensor: shape=(8,), dtype=float64, numpy=array([ 3.,  6.,  9., 12., 15., 18., 21., 24.])>)"
            ]
          },
          "metadata": {},
          "execution_count": 14
        }
      ]
    },
    {
      "cell_type": "code",
      "source": [
        "#make a prediction using model\n",
        "y_pred = model.predict([17.0])"
      ],
      "metadata": {
        "id": "Qq5edeGzR9g_"
      },
      "execution_count": 15,
      "outputs": []
    },
    {
      "cell_type": "code",
      "source": [
        "y_pred + 11"
      ],
      "metadata": {
        "colab": {
          "base_uri": "https://localhost:8080/"
        },
        "id": "7EitDkexSE3-",
        "outputId": "83d6fc2c-08a6-4cf0-ae59-980bb969f071"
      },
      "execution_count": 16,
      "outputs": [
        {
          "output_type": "execute_result",
          "data": {
            "text/plain": [
              "array([[23.71602]], dtype=float32)"
            ]
          },
          "metadata": {},
          "execution_count": 16
        }
      ]
    },
    {
      "cell_type": "markdown",
      "source": [
        "#Improving models performance"
      ],
      "metadata": {
        "id": "-ecCT9X7nHqb"
      }
    },
    {
      "cell_type": "code",
      "source": [
        "#rebuilding the model\n",
        "model = tf.keras.Sequential([\n",
        "  tf.keras.layers.Dense(1)\n",
        "])\n",
        "\n",
        "#2. Compile\n",
        "model.compile(loss = tf.keras.losses.mae,\n",
        "              optimizer = tf.keras.optimizers.SGD(),\n",
        "              metrics=[\"mae\"])\n",
        "\n",
        "#3. Fit the model (training for longer)\n",
        "model.fit(tf.expand_dims(X, axis=-1), y, epochs=100)"
      ],
      "metadata": {
        "colab": {
          "base_uri": "https://localhost:8080/"
        },
        "id": "WKtEYB7koLq6",
        "outputId": "88d7f623-4692-4ac3-de39-2a89878991ca"
      },
      "execution_count": 18,
      "outputs": [
        {
          "output_type": "stream",
          "name": "stdout",
          "text": [
            "Epoch 1/100\n",
            "1/1 [==============================] - 0s 489ms/step - loss: 10.5736 - mae: 10.5736\n",
            "Epoch 2/100\n",
            "1/1 [==============================] - 0s 19ms/step - loss: 10.4411 - mae: 10.4411\n",
            "Epoch 3/100\n",
            "1/1 [==============================] - 0s 17ms/step - loss: 10.3086 - mae: 10.3086\n",
            "Epoch 4/100\n",
            "1/1 [==============================] - 0s 15ms/step - loss: 10.1761 - mae: 10.1761\n",
            "Epoch 5/100\n",
            "1/1 [==============================] - 0s 13ms/step - loss: 10.0436 - mae: 10.0436\n",
            "Epoch 6/100\n",
            "1/1 [==============================] - 0s 16ms/step - loss: 9.9111 - mae: 9.9111\n",
            "Epoch 7/100\n",
            "1/1 [==============================] - 0s 13ms/step - loss: 9.7786 - mae: 9.7786\n",
            "Epoch 8/100\n",
            "1/1 [==============================] - 0s 15ms/step - loss: 9.6461 - mae: 9.6461\n",
            "Epoch 9/100\n",
            "1/1 [==============================] - 0s 7ms/step - loss: 9.5136 - mae: 9.5136\n",
            "Epoch 10/100\n",
            "1/1 [==============================] - 0s 7ms/step - loss: 9.3811 - mae: 9.3811\n",
            "Epoch 11/100\n",
            "1/1 [==============================] - 0s 6ms/step - loss: 9.2486 - mae: 9.2486\n",
            "Epoch 12/100\n",
            "1/1 [==============================] - 0s 6ms/step - loss: 9.1161 - mae: 9.1161\n",
            "Epoch 13/100\n",
            "1/1 [==============================] - 0s 6ms/step - loss: 8.9836 - mae: 8.9836\n",
            "Epoch 14/100\n",
            "1/1 [==============================] - 0s 12ms/step - loss: 8.8511 - mae: 8.8511\n",
            "Epoch 15/100\n",
            "1/1 [==============================] - 0s 9ms/step - loss: 8.7186 - mae: 8.7186\n",
            "Epoch 16/100\n",
            "1/1 [==============================] - 0s 9ms/step - loss: 8.5861 - mae: 8.5861\n",
            "Epoch 17/100\n",
            "1/1 [==============================] - 0s 10ms/step - loss: 8.4536 - mae: 8.4536\n",
            "Epoch 18/100\n",
            "1/1 [==============================] - 0s 9ms/step - loss: 8.3211 - mae: 8.3211\n",
            "Epoch 19/100\n",
            "1/1 [==============================] - 0s 9ms/step - loss: 8.1886 - mae: 8.1886\n",
            "Epoch 20/100\n",
            "1/1 [==============================] - 0s 8ms/step - loss: 8.0561 - mae: 8.0561\n",
            "Epoch 21/100\n",
            "1/1 [==============================] - 0s 10ms/step - loss: 7.9236 - mae: 7.9236\n",
            "Epoch 22/100\n",
            "1/1 [==============================] - 0s 12ms/step - loss: 7.7911 - mae: 7.7911\n",
            "Epoch 23/100\n",
            "1/1 [==============================] - 0s 9ms/step - loss: 7.6586 - mae: 7.6586\n",
            "Epoch 24/100\n",
            "1/1 [==============================] - 0s 10ms/step - loss: 7.5261 - mae: 7.5261\n",
            "Epoch 25/100\n",
            "1/1 [==============================] - 0s 10ms/step - loss: 7.3936 - mae: 7.3936\n",
            "Epoch 26/100\n",
            "1/1 [==============================] - 0s 12ms/step - loss: 7.3125 - mae: 7.3125\n",
            "Epoch 27/100\n",
            "1/1 [==============================] - 0s 9ms/step - loss: 7.3069 - mae: 7.3069\n",
            "Epoch 28/100\n",
            "1/1 [==============================] - 0s 11ms/step - loss: 7.3012 - mae: 7.3012\n",
            "Epoch 29/100\n",
            "1/1 [==============================] - 0s 10ms/step - loss: 7.2956 - mae: 7.2956\n",
            "Epoch 30/100\n",
            "1/1 [==============================] - 0s 20ms/step - loss: 7.2900 - mae: 7.2900\n",
            "Epoch 31/100\n",
            "1/1 [==============================] - 0s 12ms/step - loss: 7.2844 - mae: 7.2844\n",
            "Epoch 32/100\n",
            "1/1 [==============================] - 0s 12ms/step - loss: 7.2787 - mae: 7.2787\n",
            "Epoch 33/100\n",
            "1/1 [==============================] - 0s 9ms/step - loss: 7.2731 - mae: 7.2731\n",
            "Epoch 34/100\n",
            "1/1 [==============================] - 0s 23ms/step - loss: 7.2675 - mae: 7.2675\n",
            "Epoch 35/100\n",
            "1/1 [==============================] - 0s 15ms/step - loss: 7.2619 - mae: 7.2619\n",
            "Epoch 36/100\n",
            "1/1 [==============================] - 0s 13ms/step - loss: 7.2562 - mae: 7.2562\n",
            "Epoch 37/100\n",
            "1/1 [==============================] - 0s 17ms/step - loss: 7.2506 - mae: 7.2506\n",
            "Epoch 38/100\n",
            "1/1 [==============================] - 0s 19ms/step - loss: 7.2450 - mae: 7.2450\n",
            "Epoch 39/100\n",
            "1/1 [==============================] - 0s 16ms/step - loss: 7.2394 - mae: 7.2394\n",
            "Epoch 40/100\n",
            "1/1 [==============================] - 0s 8ms/step - loss: 7.2337 - mae: 7.2337\n",
            "Epoch 41/100\n",
            "1/1 [==============================] - 0s 6ms/step - loss: 7.2281 - mae: 7.2281\n",
            "Epoch 42/100\n",
            "1/1 [==============================] - 0s 26ms/step - loss: 7.2225 - mae: 7.2225\n",
            "Epoch 43/100\n",
            "1/1 [==============================] - 0s 22ms/step - loss: 7.2169 - mae: 7.2169\n",
            "Epoch 44/100\n",
            "1/1 [==============================] - 0s 27ms/step - loss: 7.2112 - mae: 7.2112\n",
            "Epoch 45/100\n",
            "1/1 [==============================] - 0s 7ms/step - loss: 7.2056 - mae: 7.2056\n",
            "Epoch 46/100\n",
            "1/1 [==============================] - 0s 6ms/step - loss: 7.2000 - mae: 7.2000\n",
            "Epoch 47/100\n",
            "1/1 [==============================] - 0s 7ms/step - loss: 7.1944 - mae: 7.1944\n",
            "Epoch 48/100\n",
            "1/1 [==============================] - 0s 7ms/step - loss: 7.1887 - mae: 7.1887\n",
            "Epoch 49/100\n",
            "1/1 [==============================] - 0s 6ms/step - loss: 7.1831 - mae: 7.1831\n",
            "Epoch 50/100\n",
            "1/1 [==============================] - 0s 6ms/step - loss: 7.1775 - mae: 7.1775\n",
            "Epoch 51/100\n",
            "1/1 [==============================] - 0s 15ms/step - loss: 7.1719 - mae: 7.1719\n",
            "Epoch 52/100\n",
            "1/1 [==============================] - 0s 12ms/step - loss: 7.1663 - mae: 7.1663\n",
            "Epoch 53/100\n",
            "1/1 [==============================] - 0s 19ms/step - loss: 7.1606 - mae: 7.1606\n",
            "Epoch 54/100\n",
            "1/1 [==============================] - 0s 13ms/step - loss: 7.1550 - mae: 7.1550\n",
            "Epoch 55/100\n",
            "1/1 [==============================] - 0s 14ms/step - loss: 7.1494 - mae: 7.1494\n",
            "Epoch 56/100\n",
            "1/1 [==============================] - 0s 6ms/step - loss: 7.1438 - mae: 7.1438\n",
            "Epoch 57/100\n",
            "1/1 [==============================] - 0s 6ms/step - loss: 7.1381 - mae: 7.1381\n",
            "Epoch 58/100\n",
            "1/1 [==============================] - 0s 6ms/step - loss: 7.1325 - mae: 7.1325\n",
            "Epoch 59/100\n",
            "1/1 [==============================] - 0s 6ms/step - loss: 7.1269 - mae: 7.1269\n",
            "Epoch 60/100\n",
            "1/1 [==============================] - 0s 7ms/step - loss: 7.1213 - mae: 7.1213\n",
            "Epoch 61/100\n",
            "1/1 [==============================] - 0s 6ms/step - loss: 7.1156 - mae: 7.1156\n",
            "Epoch 62/100\n",
            "1/1 [==============================] - 0s 5ms/step - loss: 7.1100 - mae: 7.1100\n",
            "Epoch 63/100\n",
            "1/1 [==============================] - 0s 6ms/step - loss: 7.1044 - mae: 7.1044\n",
            "Epoch 64/100\n",
            "1/1 [==============================] - 0s 5ms/step - loss: 7.0988 - mae: 7.0988\n",
            "Epoch 65/100\n",
            "1/1 [==============================] - 0s 6ms/step - loss: 7.0931 - mae: 7.0931\n",
            "Epoch 66/100\n",
            "1/1 [==============================] - 0s 11ms/step - loss: 7.0875 - mae: 7.0875\n",
            "Epoch 67/100\n",
            "1/1 [==============================] - 0s 17ms/step - loss: 7.0819 - mae: 7.0819\n",
            "Epoch 68/100\n",
            "1/1 [==============================] - 0s 11ms/step - loss: 7.0763 - mae: 7.0763\n",
            "Epoch 69/100\n",
            "1/1 [==============================] - 0s 7ms/step - loss: 7.0706 - mae: 7.0706\n",
            "Epoch 70/100\n",
            "1/1 [==============================] - 0s 11ms/step - loss: 7.0650 - mae: 7.0650\n",
            "Epoch 71/100\n",
            "1/1 [==============================] - 0s 10ms/step - loss: 7.0594 - mae: 7.0594\n",
            "Epoch 72/100\n",
            "1/1 [==============================] - 0s 7ms/step - loss: 7.0538 - mae: 7.0538\n",
            "Epoch 73/100\n",
            "1/1 [==============================] - 0s 7ms/step - loss: 7.0481 - mae: 7.0481\n",
            "Epoch 74/100\n",
            "1/1 [==============================] - 0s 7ms/step - loss: 7.0425 - mae: 7.0425\n",
            "Epoch 75/100\n",
            "1/1 [==============================] - 0s 7ms/step - loss: 7.0369 - mae: 7.0369\n",
            "Epoch 76/100\n",
            "1/1 [==============================] - 0s 6ms/step - loss: 7.0312 - mae: 7.0312\n",
            "Epoch 77/100\n",
            "1/1 [==============================] - 0s 16ms/step - loss: 7.0256 - mae: 7.0256\n",
            "Epoch 78/100\n",
            "1/1 [==============================] - 0s 9ms/step - loss: 7.0200 - mae: 7.0200\n",
            "Epoch 79/100\n",
            "1/1 [==============================] - 0s 14ms/step - loss: 7.0144 - mae: 7.0144\n",
            "Epoch 80/100\n",
            "1/1 [==============================] - 0s 9ms/step - loss: 7.0087 - mae: 7.0087\n",
            "Epoch 81/100\n",
            "1/1 [==============================] - 0s 12ms/step - loss: 7.0031 - mae: 7.0031\n",
            "Epoch 82/100\n",
            "1/1 [==============================] - 0s 15ms/step - loss: 6.9975 - mae: 6.9975\n",
            "Epoch 83/100\n",
            "1/1 [==============================] - 0s 11ms/step - loss: 6.9919 - mae: 6.9919\n",
            "Epoch 84/100\n",
            "1/1 [==============================] - 0s 13ms/step - loss: 6.9862 - mae: 6.9862\n",
            "Epoch 85/100\n",
            "1/1 [==============================] - 0s 8ms/step - loss: 6.9806 - mae: 6.9806\n",
            "Epoch 86/100\n",
            "1/1 [==============================] - 0s 12ms/step - loss: 6.9750 - mae: 6.9750\n",
            "Epoch 87/100\n",
            "1/1 [==============================] - 0s 11ms/step - loss: 6.9694 - mae: 6.9694\n",
            "Epoch 88/100\n",
            "1/1 [==============================] - 0s 8ms/step - loss: 6.9637 - mae: 6.9637\n",
            "Epoch 89/100\n",
            "1/1 [==============================] - 0s 10ms/step - loss: 6.9581 - mae: 6.9581\n",
            "Epoch 90/100\n",
            "1/1 [==============================] - 0s 6ms/step - loss: 6.9525 - mae: 6.9525\n",
            "Epoch 91/100\n",
            "1/1 [==============================] - 0s 7ms/step - loss: 6.9469 - mae: 6.9469\n",
            "Epoch 92/100\n",
            "1/1 [==============================] - 0s 13ms/step - loss: 6.9413 - mae: 6.9413\n",
            "Epoch 93/100\n",
            "1/1 [==============================] - 0s 8ms/step - loss: 6.9356 - mae: 6.9356\n",
            "Epoch 94/100\n",
            "1/1 [==============================] - 0s 6ms/step - loss: 6.9300 - mae: 6.9300\n",
            "Epoch 95/100\n",
            "1/1 [==============================] - 0s 7ms/step - loss: 6.9244 - mae: 6.9244\n",
            "Epoch 96/100\n",
            "1/1 [==============================] - 0s 7ms/step - loss: 6.9188 - mae: 6.9188\n",
            "Epoch 97/100\n",
            "1/1 [==============================] - 0s 7ms/step - loss: 6.9131 - mae: 6.9131\n",
            "Epoch 98/100\n",
            "1/1 [==============================] - 0s 6ms/step - loss: 6.9075 - mae: 6.9075\n",
            "Epoch 99/100\n",
            "1/1 [==============================] - 0s 6ms/step - loss: 6.9019 - mae: 6.9019\n",
            "Epoch 100/100\n",
            "1/1 [==============================] - 0s 13ms/step - loss: 6.8963 - mae: 6.8963\n"
          ]
        },
        {
          "output_type": "execute_result",
          "data": {
            "text/plain": [
              "<keras.callbacks.History at 0x7f9a31cd8610>"
            ]
          },
          "metadata": {},
          "execution_count": 18
        }
      ]
    },
    {
      "cell_type": "code",
      "source": [
        "#Reminder of Data\n",
        "X, y"
      ],
      "metadata": {
        "colab": {
          "base_uri": "https://localhost:8080/"
        },
        "id": "AaFtA06iowCO",
        "outputId": "46692ed1-ed7c-4bb5-93ea-6f0080e2bc5c"
      },
      "execution_count": 19,
      "outputs": [
        {
          "output_type": "execute_result",
          "data": {
            "text/plain": [
              "(<tf.Tensor: shape=(8,), dtype=float64, numpy=array([-7., -4., -1.,  2.,  5.,  8., 11., 14.])>,\n",
              " <tf.Tensor: shape=(8,), dtype=float64, numpy=array([ 3.,  6.,  9., 12., 15., 18., 21., 24.])>)"
            ]
          },
          "metadata": {},
          "execution_count": 19
        }
      ]
    },
    {
      "cell_type": "code",
      "source": [
        "#model evaluation once again\n",
        "model.predict([17.0])"
      ],
      "metadata": {
        "colab": {
          "base_uri": "https://localhost:8080/"
        },
        "id": "ltdk2Vi7oyD1",
        "outputId": "052ef025-0bc9-4239-a9d3-fa8051e51d9b"
      },
      "execution_count": 21,
      "outputs": [
        {
          "output_type": "execute_result",
          "data": {
            "text/plain": [
              "array([[29.901575]], dtype=float32)"
            ]
          },
          "metadata": {},
          "execution_count": 21
        }
      ]
    },
    {
      "cell_type": "code",
      "source": [
        "#rebuilding model with a different neural network\n",
        "#rebuilding the model\n",
        "model = tf.keras.Sequential([\n",
        "  tf.keras.layers.Dense(100, activation=\"relu\"),\n",
        "  tf.keras.layers.Dense(1)\n",
        "])\n",
        "\n",
        "#2. Compile\n",
        "model.compile(loss = tf.keras.losses.mae,\n",
        "              optimizer = tf.keras.optimizers.SGD(),\n",
        "              metrics=[\"mae\"])\n",
        "\n",
        "#3. Fit the model (training for longer)\n",
        "model.fit(tf.expand_dims(X, axis=-1), y, epochs=100)"
      ],
      "metadata": {
        "colab": {
          "base_uri": "https://localhost:8080/"
        },
        "id": "DjOL-Bf5o2y_",
        "outputId": "497652a0-56af-45f1-e976-c257a5840051"
      },
      "execution_count": 25,
      "outputs": [
        {
          "output_type": "stream",
          "name": "stdout",
          "text": [
            "Epoch 1/100\n",
            "1/1 [==============================] - 1s 509ms/step - loss: 14.4086 - mae: 14.4086\n",
            "Epoch 2/100\n",
            "1/1 [==============================] - 0s 8ms/step - loss: 13.9076 - mae: 13.9076\n",
            "Epoch 3/100\n",
            "1/1 [==============================] - 0s 6ms/step - loss: 13.4195 - mae: 13.4195\n",
            "Epoch 4/100\n",
            "1/1 [==============================] - 0s 5ms/step - loss: 12.9349 - mae: 12.9349\n",
            "Epoch 5/100\n",
            "1/1 [==============================] - 0s 6ms/step - loss: 12.4485 - mae: 12.4485\n",
            "Epoch 6/100\n",
            "1/1 [==============================] - 0s 6ms/step - loss: 11.9701 - mae: 11.9701\n",
            "Epoch 7/100\n",
            "1/1 [==============================] - 0s 7ms/step - loss: 11.4835 - mae: 11.4835\n",
            "Epoch 8/100\n",
            "1/1 [==============================] - 0s 13ms/step - loss: 10.9868 - mae: 10.9868\n",
            "Epoch 9/100\n",
            "1/1 [==============================] - 0s 5ms/step - loss: 10.4748 - mae: 10.4748\n",
            "Epoch 10/100\n",
            "1/1 [==============================] - 0s 5ms/step - loss: 9.9398 - mae: 9.9398\n",
            "Epoch 11/100\n",
            "1/1 [==============================] - 0s 5ms/step - loss: 9.3835 - mae: 9.3835\n",
            "Epoch 12/100\n",
            "1/1 [==============================] - 0s 5ms/step - loss: 8.7932 - mae: 8.7932\n",
            "Epoch 13/100\n",
            "1/1 [==============================] - 0s 5ms/step - loss: 8.1637 - mae: 8.1637\n",
            "Epoch 14/100\n",
            "1/1 [==============================] - 0s 5ms/step - loss: 7.4892 - mae: 7.4892\n",
            "Epoch 15/100\n",
            "1/1 [==============================] - 0s 5ms/step - loss: 6.7777 - mae: 6.7777\n",
            "Epoch 16/100\n",
            "1/1 [==============================] - 0s 5ms/step - loss: 6.0556 - mae: 6.0556\n",
            "Epoch 17/100\n",
            "1/1 [==============================] - 0s 7ms/step - loss: 5.2732 - mae: 5.2732\n",
            "Epoch 18/100\n",
            "1/1 [==============================] - 0s 5ms/step - loss: 4.4281 - mae: 4.4281\n",
            "Epoch 19/100\n",
            "1/1 [==============================] - 0s 6ms/step - loss: 3.9710 - mae: 3.9710\n",
            "Epoch 20/100\n",
            "1/1 [==============================] - 0s 6ms/step - loss: 3.8942 - mae: 3.8942\n",
            "Epoch 21/100\n",
            "1/1 [==============================] - 0s 8ms/step - loss: 3.9460 - mae: 3.9460\n",
            "Epoch 22/100\n",
            "1/1 [==============================] - 0s 10ms/step - loss: 3.9005 - mae: 3.9005\n",
            "Epoch 23/100\n",
            "1/1 [==============================] - 0s 11ms/step - loss: 3.9209 - mae: 3.9209\n",
            "Epoch 24/100\n",
            "1/1 [==============================] - 0s 13ms/step - loss: 3.9069 - mae: 3.9069\n",
            "Epoch 25/100\n",
            "1/1 [==============================] - 0s 10ms/step - loss: 3.8957 - mae: 3.8957\n",
            "Epoch 26/100\n",
            "1/1 [==============================] - 0s 11ms/step - loss: 3.9190 - mae: 3.9190\n",
            "Epoch 27/100\n",
            "1/1 [==============================] - 0s 11ms/step - loss: 3.8784 - mae: 3.8784\n",
            "Epoch 28/100\n",
            "1/1 [==============================] - 0s 9ms/step - loss: 3.9288 - mae: 3.9288\n",
            "Epoch 29/100\n",
            "1/1 [==============================] - 0s 5ms/step - loss: 3.8634 - mae: 3.8634\n",
            "Epoch 30/100\n",
            "1/1 [==============================] - 0s 10ms/step - loss: 3.9240 - mae: 3.9240\n",
            "Epoch 31/100\n",
            "1/1 [==============================] - 0s 8ms/step - loss: 3.8698 - mae: 3.8698\n",
            "Epoch 32/100\n",
            "1/1 [==============================] - 0s 12ms/step - loss: 3.8987 - mae: 3.8987\n",
            "Epoch 33/100\n",
            "1/1 [==============================] - 0s 13ms/step - loss: 3.8764 - mae: 3.8764\n",
            "Epoch 34/100\n",
            "1/1 [==============================] - 0s 9ms/step - loss: 3.8774 - mae: 3.8774\n",
            "Epoch 35/100\n",
            "1/1 [==============================] - 0s 9ms/step - loss: 3.8919 - mae: 3.8919\n",
            "Epoch 36/100\n",
            "1/1 [==============================] - 0s 9ms/step - loss: 3.8557 - mae: 3.8557\n",
            "Epoch 37/100\n",
            "1/1 [==============================] - 0s 9ms/step - loss: 3.8987 - mae: 3.8987\n",
            "Epoch 38/100\n",
            "1/1 [==============================] - 0s 10ms/step - loss: 3.8336 - mae: 3.8336\n",
            "Epoch 39/100\n",
            "1/1 [==============================] - 0s 10ms/step - loss: 3.9008 - mae: 3.9008\n",
            "Epoch 40/100\n",
            "1/1 [==============================] - 0s 9ms/step - loss: 3.8403 - mae: 3.8403\n",
            "Epoch 41/100\n",
            "1/1 [==============================] - 0s 9ms/step - loss: 3.8752 - mae: 3.8752\n",
            "Epoch 42/100\n",
            "1/1 [==============================] - 0s 10ms/step - loss: 3.8492 - mae: 3.8492\n",
            "Epoch 43/100\n",
            "1/1 [==============================] - 0s 9ms/step - loss: 3.8575 - mae: 3.8575\n",
            "Epoch 44/100\n",
            "1/1 [==============================] - 0s 16ms/step - loss: 3.8627 - mae: 3.8627\n",
            "Epoch 45/100\n",
            "1/1 [==============================] - 0s 12ms/step - loss: 3.8316 - mae: 3.8316\n",
            "Epoch 46/100\n",
            "1/1 [==============================] - 0s 12ms/step - loss: 3.8697 - mae: 3.8697\n",
            "Epoch 47/100\n",
            "1/1 [==============================] - 0s 16ms/step - loss: 3.8055 - mae: 3.8055\n",
            "Epoch 48/100\n",
            "1/1 [==============================] - 0s 11ms/step - loss: 3.8768 - mae: 3.8768\n",
            "Epoch 49/100\n",
            "1/1 [==============================] - 0s 8ms/step - loss: 3.8119 - mae: 3.8119\n",
            "Epoch 50/100\n",
            "1/1 [==============================] - 0s 7ms/step - loss: 3.8510 - mae: 3.8510\n",
            "Epoch 51/100\n",
            "1/1 [==============================] - 0s 7ms/step - loss: 3.8276 - mae: 3.8276\n",
            "Epoch 52/100\n",
            "1/1 [==============================] - 0s 7ms/step - loss: 3.8325 - mae: 3.8325\n",
            "Epoch 53/100\n",
            "1/1 [==============================] - 0s 6ms/step - loss: 3.8346 - mae: 3.8346\n",
            "Epoch 54/100\n",
            "1/1 [==============================] - 0s 7ms/step - loss: 3.8062 - mae: 3.8062\n",
            "Epoch 55/100\n",
            "1/1 [==============================] - 0s 10ms/step - loss: 3.8418 - mae: 3.8418\n",
            "Epoch 56/100\n",
            "1/1 [==============================] - 0s 6ms/step - loss: 3.7798 - mae: 3.7798\n",
            "Epoch 57/100\n",
            "1/1 [==============================] - 0s 6ms/step - loss: 3.8491 - mae: 3.8491\n",
            "Epoch 58/100\n",
            "1/1 [==============================] - 0s 6ms/step - loss: 3.7845 - mae: 3.7845\n",
            "Epoch 59/100\n",
            "1/1 [==============================] - 0s 17ms/step - loss: 3.8313 - mae: 3.8313\n",
            "Epoch 60/100\n",
            "1/1 [==============================] - 0s 9ms/step - loss: 3.8004 - mae: 3.8004\n",
            "Epoch 61/100\n",
            "1/1 [==============================] - 0s 8ms/step - loss: 3.8061 - mae: 3.8061\n",
            "Epoch 62/100\n",
            "1/1 [==============================] - 0s 7ms/step - loss: 3.8077 - mae: 3.8077\n",
            "Epoch 63/100\n",
            "1/1 [==============================] - 0s 14ms/step - loss: 3.7796 - mae: 3.7796\n",
            "Epoch 64/100\n",
            "1/1 [==============================] - 0s 7ms/step - loss: 3.8151 - mae: 3.8151\n",
            "Epoch 65/100\n",
            "1/1 [==============================] - 0s 7ms/step - loss: 3.7529 - mae: 3.7529\n",
            "Epoch 66/100\n",
            "1/1 [==============================] - 0s 6ms/step - loss: 3.8226 - mae: 3.8226\n",
            "Epoch 67/100\n",
            "1/1 [==============================] - 0s 7ms/step - loss: 3.7627 - mae: 3.7627\n",
            "Epoch 68/100\n",
            "1/1 [==============================] - 0s 6ms/step - loss: 3.8050 - mae: 3.8050\n",
            "Epoch 69/100\n",
            "1/1 [==============================] - 0s 6ms/step - loss: 3.7743 - mae: 3.7743\n",
            "Epoch 70/100\n",
            "1/1 [==============================] - 0s 6ms/step - loss: 3.7784 - mae: 3.7784\n",
            "Epoch 71/100\n",
            "1/1 [==============================] - 0s 7ms/step - loss: 3.7818 - mae: 3.7818\n",
            "Epoch 72/100\n",
            "1/1 [==============================] - 0s 7ms/step - loss: 3.7516 - mae: 3.7516\n",
            "Epoch 73/100\n",
            "1/1 [==============================] - 0s 13ms/step - loss: 3.7894 - mae: 3.7894\n",
            "Epoch 74/100\n",
            "1/1 [==============================] - 0s 23ms/step - loss: 3.7256 - mae: 3.7256\n",
            "Epoch 75/100\n",
            "1/1 [==============================] - 0s 13ms/step - loss: 3.7976 - mae: 3.7976\n",
            "Epoch 76/100\n",
            "1/1 [==============================] - 0s 7ms/step - loss: 3.7417 - mae: 3.7417\n",
            "Epoch 77/100\n",
            "1/1 [==============================] - 0s 7ms/step - loss: 3.7764 - mae: 3.7764\n",
            "Epoch 78/100\n",
            "1/1 [==============================] - 0s 10ms/step - loss: 3.7493 - mae: 3.7493\n",
            "Epoch 79/100\n",
            "1/1 [==============================] - 0s 9ms/step - loss: 3.7494 - mae: 3.7494\n",
            "Epoch 80/100\n",
            "1/1 [==============================] - 0s 9ms/step - loss: 3.7569 - mae: 3.7569\n",
            "Epoch 81/100\n",
            "1/1 [==============================] - 0s 9ms/step - loss: 3.7223 - mae: 3.7223\n",
            "Epoch 82/100\n",
            "1/1 [==============================] - 0s 8ms/step - loss: 3.7647 - mae: 3.7647\n",
            "Epoch 83/100\n",
            "1/1 [==============================] - 0s 8ms/step - loss: 3.7013 - mae: 3.7013\n",
            "Epoch 84/100\n",
            "1/1 [==============================] - 0s 8ms/step - loss: 3.7739 - mae: 3.7739\n",
            "Epoch 85/100\n",
            "1/1 [==============================] - 0s 9ms/step - loss: 3.7175 - mae: 3.7175\n",
            "Epoch 86/100\n",
            "1/1 [==============================] - 0s 12ms/step - loss: 3.7464 - mae: 3.7464\n",
            "Epoch 87/100\n",
            "1/1 [==============================] - 0s 13ms/step - loss: 3.7253 - mae: 3.7253\n",
            "Epoch 88/100\n",
            "1/1 [==============================] - 0s 11ms/step - loss: 3.7191 - mae: 3.7191\n",
            "Epoch 89/100\n",
            "1/1 [==============================] - 0s 9ms/step - loss: 3.7332 - mae: 3.7332\n",
            "Epoch 90/100\n",
            "1/1 [==============================] - 0s 10ms/step - loss: 3.6916 - mae: 3.6916\n",
            "Epoch 91/100\n",
            "1/1 [==============================] - 0s 8ms/step - loss: 3.7411 - mae: 3.7411\n",
            "Epoch 92/100\n",
            "1/1 [==============================] - 0s 7ms/step - loss: 3.6836 - mae: 3.6836\n",
            "Epoch 93/100\n",
            "1/1 [==============================] - 0s 7ms/step - loss: 3.7424 - mae: 3.7424\n",
            "Epoch 94/100\n",
            "1/1 [==============================] - 0s 8ms/step - loss: 3.6943 - mae: 3.6943\n",
            "Epoch 95/100\n",
            "1/1 [==============================] - 0s 17ms/step - loss: 3.7150 - mae: 3.7150\n",
            "Epoch 96/100\n",
            "1/1 [==============================] - 0s 20ms/step - loss: 3.7023 - mae: 3.7023\n",
            "Epoch 97/100\n",
            "1/1 [==============================] - 0s 17ms/step - loss: 3.6874 - mae: 3.6874\n",
            "Epoch 98/100\n",
            "1/1 [==============================] - 0s 32ms/step - loss: 3.7103 - mae: 3.7103\n",
            "Epoch 99/100\n",
            "1/1 [==============================] - 0s 36ms/step - loss: 3.6597 - mae: 3.6597\n",
            "Epoch 100/100\n",
            "1/1 [==============================] - 0s 15ms/step - loss: 3.7214 - mae: 3.7214\n"
          ]
        },
        {
          "output_type": "execute_result",
          "data": {
            "text/plain": [
              "<keras.callbacks.History at 0x7f9a3010bf10>"
            ]
          },
          "metadata": {},
          "execution_count": 25
        }
      ]
    },
    {
      "cell_type": "code",
      "source": [
        "#model evaluation once again\n",
        "model.predict([17.0])"
      ],
      "metadata": {
        "colab": {
          "base_uri": "https://localhost:8080/"
        },
        "id": "Zhlq8nz6po8j",
        "outputId": "67bb5b12-c910-433a-de0c-75979166f4fd"
      },
      "execution_count": 27,
      "outputs": [
        {
          "output_type": "execute_result",
          "data": {
            "text/plain": [
              "array([[32.061348]], dtype=float32)"
            ]
          },
          "metadata": {},
          "execution_count": 27
        }
      ]
    },
    {
      "cell_type": "markdown",
      "source": [
        "##Common ways to improve a model\n",
        "###Adding Layers\n",
        "###Increase the number of hidden neurons\n",
        "###Change activation function\n",
        "###Change optimization function\n",
        "###Change Learning Rate\n"
      ],
      "metadata": {
        "id": "6UFnbBlCqLQH"
      }
    },
    {
      "cell_type": "code",
      "source": [
        "#rebuilding model with a different learning rate\n",
        "#rebuilding the model\n",
        "model = tf.keras.Sequential([\n",
        "  tf.keras.layers.Dense(100, activation=\"relu\"),\n",
        "  tf.keras.layers.Dense(1)\n",
        "])\n",
        "\n",
        "#2. Compile\n",
        "model.compile(loss = tf.keras.losses.mae,\n",
        "              optimizer = tf.keras.optimizers.Adam(learning_rate=0.0001),\n",
        "              metrics=[\"mae\"])\n",
        "\n",
        "#3. Fit the model (training for longer)\n",
        "model.fit(tf.expand_dims(X, axis=-1), y, epochs=100)"
      ],
      "metadata": {
        "colab": {
          "base_uri": "https://localhost:8080/"
        },
        "id": "EYulhRWZqNGf",
        "outputId": "e1fc2e2b-458f-4885-b0e0-75718f09773d"
      },
      "execution_count": 31,
      "outputs": [
        {
          "output_type": "stream",
          "name": "stdout",
          "text": [
            "Epoch 1/100\n",
            "1/1 [==============================] - 1s 689ms/step - loss: 13.4249 - mae: 13.4249\n",
            "Epoch 2/100\n",
            "1/1 [==============================] - 0s 8ms/step - loss: 13.4162 - mae: 13.4162\n",
            "Epoch 3/100\n",
            "1/1 [==============================] - 0s 7ms/step - loss: 13.4075 - mae: 13.4075\n",
            "Epoch 4/100\n",
            "1/1 [==============================] - 0s 6ms/step - loss: 13.3988 - mae: 13.3988\n",
            "Epoch 5/100\n",
            "1/1 [==============================] - 0s 13ms/step - loss: 13.3900 - mae: 13.3900\n",
            "Epoch 6/100\n",
            "1/1 [==============================] - 0s 6ms/step - loss: 13.3813 - mae: 13.3813\n",
            "Epoch 7/100\n",
            "1/1 [==============================] - 0s 7ms/step - loss: 13.3726 - mae: 13.3726\n",
            "Epoch 8/100\n",
            "1/1 [==============================] - 0s 8ms/step - loss: 13.3639 - mae: 13.3639\n",
            "Epoch 9/100\n",
            "1/1 [==============================] - 0s 7ms/step - loss: 13.3552 - mae: 13.3552\n",
            "Epoch 10/100\n",
            "1/1 [==============================] - 0s 7ms/step - loss: 13.3464 - mae: 13.3464\n",
            "Epoch 11/100\n",
            "1/1 [==============================] - 0s 7ms/step - loss: 13.3377 - mae: 13.3377\n",
            "Epoch 12/100\n",
            "1/1 [==============================] - 0s 7ms/step - loss: 13.3290 - mae: 13.3290\n",
            "Epoch 13/100\n",
            "1/1 [==============================] - 0s 7ms/step - loss: 13.3203 - mae: 13.3203\n",
            "Epoch 14/100\n",
            "1/1 [==============================] - 0s 7ms/step - loss: 13.3116 - mae: 13.3116\n",
            "Epoch 15/100\n",
            "1/1 [==============================] - 0s 7ms/step - loss: 13.3028 - mae: 13.3028\n",
            "Epoch 16/100\n",
            "1/1 [==============================] - 0s 7ms/step - loss: 13.2941 - mae: 13.2941\n",
            "Epoch 17/100\n",
            "1/1 [==============================] - 0s 7ms/step - loss: 13.2854 - mae: 13.2854\n",
            "Epoch 18/100\n",
            "1/1 [==============================] - 0s 7ms/step - loss: 13.2767 - mae: 13.2767\n",
            "Epoch 19/100\n",
            "1/1 [==============================] - 0s 12ms/step - loss: 13.2680 - mae: 13.2680\n",
            "Epoch 20/100\n",
            "1/1 [==============================] - 0s 17ms/step - loss: 13.2592 - mae: 13.2592\n",
            "Epoch 21/100\n",
            "1/1 [==============================] - 0s 61ms/step - loss: 13.2505 - mae: 13.2505\n",
            "Epoch 22/100\n",
            "1/1 [==============================] - 0s 26ms/step - loss: 13.2418 - mae: 13.2418\n",
            "Epoch 23/100\n",
            "1/1 [==============================] - 0s 20ms/step - loss: 13.2331 - mae: 13.2331\n",
            "Epoch 24/100\n",
            "1/1 [==============================] - 0s 20ms/step - loss: 13.2244 - mae: 13.2244\n",
            "Epoch 25/100\n",
            "1/1 [==============================] - 0s 12ms/step - loss: 13.2157 - mae: 13.2157\n",
            "Epoch 26/100\n",
            "1/1 [==============================] - 0s 11ms/step - loss: 13.2069 - mae: 13.2069\n",
            "Epoch 27/100\n",
            "1/1 [==============================] - 0s 13ms/step - loss: 13.1982 - mae: 13.1982\n",
            "Epoch 28/100\n",
            "1/1 [==============================] - 0s 13ms/step - loss: 13.1895 - mae: 13.1895\n",
            "Epoch 29/100\n",
            "1/1 [==============================] - 0s 15ms/step - loss: 13.1808 - mae: 13.1808\n",
            "Epoch 30/100\n",
            "1/1 [==============================] - 0s 12ms/step - loss: 13.1721 - mae: 13.1721\n",
            "Epoch 31/100\n",
            "1/1 [==============================] - 0s 15ms/step - loss: 13.1634 - mae: 13.1634\n",
            "Epoch 32/100\n",
            "1/1 [==============================] - 0s 10ms/step - loss: 13.1547 - mae: 13.1547\n",
            "Epoch 33/100\n",
            "1/1 [==============================] - 0s 14ms/step - loss: 13.1460 - mae: 13.1460\n",
            "Epoch 34/100\n",
            "1/1 [==============================] - 0s 14ms/step - loss: 13.1373 - mae: 13.1373\n",
            "Epoch 35/100\n",
            "1/1 [==============================] - 0s 20ms/step - loss: 13.1286 - mae: 13.1286\n",
            "Epoch 36/100\n",
            "1/1 [==============================] - 0s 25ms/step - loss: 13.1199 - mae: 13.1199\n",
            "Epoch 37/100\n",
            "1/1 [==============================] - 0s 21ms/step - loss: 13.1111 - mae: 13.1111\n",
            "Epoch 38/100\n",
            "1/1 [==============================] - 0s 16ms/step - loss: 13.1024 - mae: 13.1024\n",
            "Epoch 39/100\n",
            "1/1 [==============================] - 0s 21ms/step - loss: 13.0937 - mae: 13.0937\n",
            "Epoch 40/100\n",
            "1/1 [==============================] - 0s 33ms/step - loss: 13.0850 - mae: 13.0850\n",
            "Epoch 41/100\n",
            "1/1 [==============================] - 0s 16ms/step - loss: 13.0763 - mae: 13.0763\n",
            "Epoch 42/100\n",
            "1/1 [==============================] - 0s 13ms/step - loss: 13.0676 - mae: 13.0676\n",
            "Epoch 43/100\n",
            "1/1 [==============================] - 0s 12ms/step - loss: 13.0589 - mae: 13.0589\n",
            "Epoch 44/100\n",
            "1/1 [==============================] - 0s 7ms/step - loss: 13.0502 - mae: 13.0502\n",
            "Epoch 45/100\n",
            "1/1 [==============================] - 0s 7ms/step - loss: 13.0415 - mae: 13.0415\n",
            "Epoch 46/100\n",
            "1/1 [==============================] - 0s 6ms/step - loss: 13.0327 - mae: 13.0327\n",
            "Epoch 47/100\n",
            "1/1 [==============================] - 0s 6ms/step - loss: 13.0240 - mae: 13.0240\n",
            "Epoch 48/100\n",
            "1/1 [==============================] - 0s 8ms/step - loss: 13.0153 - mae: 13.0153\n",
            "Epoch 49/100\n",
            "1/1 [==============================] - 0s 8ms/step - loss: 13.0066 - mae: 13.0066\n",
            "Epoch 50/100\n",
            "1/1 [==============================] - 0s 8ms/step - loss: 12.9979 - mae: 12.9979\n",
            "Epoch 51/100\n",
            "1/1 [==============================] - 0s 7ms/step - loss: 12.9892 - mae: 12.9892\n",
            "Epoch 52/100\n",
            "1/1 [==============================] - 0s 7ms/step - loss: 12.9804 - mae: 12.9804\n",
            "Epoch 53/100\n",
            "1/1 [==============================] - 0s 8ms/step - loss: 12.9717 - mae: 12.9717\n",
            "Epoch 54/100\n",
            "1/1 [==============================] - 0s 7ms/step - loss: 12.9630 - mae: 12.9630\n",
            "Epoch 55/100\n",
            "1/1 [==============================] - 0s 8ms/step - loss: 12.9543 - mae: 12.9543\n",
            "Epoch 56/100\n",
            "1/1 [==============================] - 0s 7ms/step - loss: 12.9456 - mae: 12.9456\n",
            "Epoch 57/100\n",
            "1/1 [==============================] - 0s 8ms/step - loss: 12.9368 - mae: 12.9368\n",
            "Epoch 58/100\n",
            "1/1 [==============================] - 0s 7ms/step - loss: 12.9281 - mae: 12.9281\n",
            "Epoch 59/100\n",
            "1/1 [==============================] - 0s 7ms/step - loss: 12.9194 - mae: 12.9194\n",
            "Epoch 60/100\n",
            "1/1 [==============================] - 0s 6ms/step - loss: 12.9107 - mae: 12.9107\n",
            "Epoch 61/100\n",
            "1/1 [==============================] - 0s 6ms/step - loss: 12.9020 - mae: 12.9020\n",
            "Epoch 62/100\n",
            "1/1 [==============================] - 0s 6ms/step - loss: 12.8932 - mae: 12.8932\n",
            "Epoch 63/100\n",
            "1/1 [==============================] - 0s 8ms/step - loss: 12.8845 - mae: 12.8845\n",
            "Epoch 64/100\n",
            "1/1 [==============================] - 0s 6ms/step - loss: 12.8758 - mae: 12.8758\n",
            "Epoch 65/100\n",
            "1/1 [==============================] - 0s 6ms/step - loss: 12.8671 - mae: 12.8671\n",
            "Epoch 66/100\n",
            "1/1 [==============================] - 0s 8ms/step - loss: 12.8583 - mae: 12.8583\n",
            "Epoch 67/100\n",
            "1/1 [==============================] - 0s 5ms/step - loss: 12.8496 - mae: 12.8496\n",
            "Epoch 68/100\n",
            "1/1 [==============================] - 0s 6ms/step - loss: 12.8409 - mae: 12.8409\n",
            "Epoch 69/100\n",
            "1/1 [==============================] - 0s 5ms/step - loss: 12.8322 - mae: 12.8322\n",
            "Epoch 70/100\n",
            "1/1 [==============================] - 0s 6ms/step - loss: 12.8234 - mae: 12.8234\n",
            "Epoch 71/100\n",
            "1/1 [==============================] - 0s 5ms/step - loss: 12.8147 - mae: 12.8147\n",
            "Epoch 72/100\n",
            "1/1 [==============================] - 0s 6ms/step - loss: 12.8060 - mae: 12.8060\n",
            "Epoch 73/100\n",
            "1/1 [==============================] - 0s 8ms/step - loss: 12.7972 - mae: 12.7972\n",
            "Epoch 74/100\n",
            "1/1 [==============================] - 0s 8ms/step - loss: 12.7885 - mae: 12.7885\n",
            "Epoch 75/100\n",
            "1/1 [==============================] - 0s 6ms/step - loss: 12.7798 - mae: 12.7798\n",
            "Epoch 76/100\n",
            "1/1 [==============================] - 0s 17ms/step - loss: 12.7710 - mae: 12.7710\n",
            "Epoch 77/100\n",
            "1/1 [==============================] - 0s 16ms/step - loss: 12.7623 - mae: 12.7623\n",
            "Epoch 78/100\n",
            "1/1 [==============================] - 0s 14ms/step - loss: 12.7536 - mae: 12.7536\n",
            "Epoch 79/100\n",
            "1/1 [==============================] - 0s 11ms/step - loss: 12.7448 - mae: 12.7448\n",
            "Epoch 80/100\n",
            "1/1 [==============================] - 0s 11ms/step - loss: 12.7361 - mae: 12.7361\n",
            "Epoch 81/100\n",
            "1/1 [==============================] - 0s 12ms/step - loss: 12.7274 - mae: 12.7274\n",
            "Epoch 82/100\n",
            "1/1 [==============================] - 0s 10ms/step - loss: 12.7186 - mae: 12.7186\n",
            "Epoch 83/100\n",
            "1/1 [==============================] - 0s 11ms/step - loss: 12.7099 - mae: 12.7099\n",
            "Epoch 84/100\n",
            "1/1 [==============================] - 0s 11ms/step - loss: 12.7011 - mae: 12.7011\n",
            "Epoch 85/100\n",
            "1/1 [==============================] - 0s 11ms/step - loss: 12.6924 - mae: 12.6924\n",
            "Epoch 86/100\n",
            "1/1 [==============================] - 0s 11ms/step - loss: 12.6837 - mae: 12.6837\n",
            "Epoch 87/100\n",
            "1/1 [==============================] - 0s 11ms/step - loss: 12.6749 - mae: 12.6749\n",
            "Epoch 88/100\n",
            "1/1 [==============================] - 0s 11ms/step - loss: 12.6662 - mae: 12.6662\n",
            "Epoch 89/100\n",
            "1/1 [==============================] - 0s 13ms/step - loss: 12.6574 - mae: 12.6574\n",
            "Epoch 90/100\n",
            "1/1 [==============================] - 0s 14ms/step - loss: 12.6487 - mae: 12.6487\n",
            "Epoch 91/100\n",
            "1/1 [==============================] - 0s 11ms/step - loss: 12.6399 - mae: 12.6399\n",
            "Epoch 92/100\n",
            "1/1 [==============================] - 0s 10ms/step - loss: 12.6312 - mae: 12.6312\n",
            "Epoch 93/100\n",
            "1/1 [==============================] - 0s 13ms/step - loss: 12.6224 - mae: 12.6224\n",
            "Epoch 94/100\n",
            "1/1 [==============================] - 0s 12ms/step - loss: 12.6137 - mae: 12.6137\n",
            "Epoch 95/100\n",
            "1/1 [==============================] - 0s 10ms/step - loss: 12.6049 - mae: 12.6049\n",
            "Epoch 96/100\n",
            "1/1 [==============================] - 0s 10ms/step - loss: 12.5962 - mae: 12.5962\n",
            "Epoch 97/100\n",
            "1/1 [==============================] - 0s 10ms/step - loss: 12.5874 - mae: 12.5874\n",
            "Epoch 98/100\n",
            "1/1 [==============================] - 0s 9ms/step - loss: 12.5787 - mae: 12.5787\n",
            "Epoch 99/100\n",
            "1/1 [==============================] - 0s 13ms/step - loss: 12.5699 - mae: 12.5699\n",
            "Epoch 100/100\n",
            "1/1 [==============================] - 0s 10ms/step - loss: 12.5612 - mae: 12.5612\n"
          ]
        },
        {
          "output_type": "execute_result",
          "data": {
            "text/plain": [
              "<keras.callbacks.History at 0x7f9a31c61690>"
            ]
          },
          "metadata": {},
          "execution_count": 31
        }
      ]
    },
    {
      "cell_type": "markdown",
      "source": [
        "##Evaluating a Model\n",
        "\n",
        "In practice a typical workflow youll go thorugh when building nn is:\n",
        "buld a model -> fit model -> evaluate -> tweak and repeat"
      ],
      "metadata": {
        "id": "3mF9JNnJsiwP"
      }
    },
    {
      "cell_type": "code",
      "source": [
        "#rebuilding the model\n",
        "model = tf.keras.Sequential([\n",
        "  tf.keras.layers.Dense(100, activation=\"relu\"),\n",
        "  tf.keras.layers.Dense(100, activation=\"relu\"),\n",
        "  tf.keras.layers.Dense(100, activation=\"relu\"),\n",
        "  tf.keras.layers.Dense(1)\n",
        "])\n",
        "\n",
        "#2. Compile\n",
        "model.compile(loss = tf.keras.losses.mae,\n",
        "              optimizer = tf.keras.optimizers.Adam(lr=0.0001),\n",
        "              metrics=[\"mae\"])\n",
        "\n",
        "#3. Fit the model (training for longer)\n",
        "model.fit(tf.expand_dims(X, axis=-1), y, epochs=100)"
      ],
      "metadata": {
        "colab": {
          "base_uri": "https://localhost:8080/"
        },
        "id": "gLDgMKjCsslv",
        "outputId": "0fae115a-0f44-4c3e-9977-7aefc48f587d"
      },
      "execution_count": 33,
      "outputs": [
        {
          "output_type": "stream",
          "name": "stdout",
          "text": [
            "Epoch 1/100\n"
          ]
        },
        {
          "output_type": "stream",
          "name": "stderr",
          "text": [
            "/usr/local/lib/python3.7/dist-packages/keras/optimizer_v2/adam.py:105: UserWarning: The `lr` argument is deprecated, use `learning_rate` instead.\n",
            "  super(Adam, self).__init__(name, **kwargs)\n"
          ]
        },
        {
          "output_type": "stream",
          "name": "stdout",
          "text": [
            "1/1 [==============================] - 1s 922ms/step - loss: 12.3975 - mae: 12.3975\n",
            "Epoch 2/100\n",
            "1/1 [==============================] - 0s 12ms/step - loss: 12.3544 - mae: 12.3544\n",
            "Epoch 3/100\n",
            "1/1 [==============================] - 0s 11ms/step - loss: 12.3113 - mae: 12.3113\n",
            "Epoch 4/100\n",
            "1/1 [==============================] - 0s 11ms/step - loss: 12.2679 - mae: 12.2679\n",
            "Epoch 5/100\n",
            "1/1 [==============================] - 0s 11ms/step - loss: 12.2242 - mae: 12.2242\n",
            "Epoch 6/100\n",
            "1/1 [==============================] - 0s 12ms/step - loss: 12.1806 - mae: 12.1806\n",
            "Epoch 7/100\n",
            "1/1 [==============================] - 0s 13ms/step - loss: 12.1372 - mae: 12.1372\n",
            "Epoch 8/100\n",
            "1/1 [==============================] - 0s 10ms/step - loss: 12.0950 - mae: 12.0950\n",
            "Epoch 9/100\n",
            "1/1 [==============================] - 0s 11ms/step - loss: 12.0524 - mae: 12.0524\n",
            "Epoch 10/100\n",
            "1/1 [==============================] - 0s 18ms/step - loss: 12.0094 - mae: 12.0094\n",
            "Epoch 11/100\n",
            "1/1 [==============================] - 0s 10ms/step - loss: 11.9663 - mae: 11.9663\n",
            "Epoch 12/100\n",
            "1/1 [==============================] - 0s 10ms/step - loss: 11.9230 - mae: 11.9230\n",
            "Epoch 13/100\n",
            "1/1 [==============================] - 0s 10ms/step - loss: 11.8795 - mae: 11.8795\n",
            "Epoch 14/100\n",
            "1/1 [==============================] - 0s 11ms/step - loss: 11.8360 - mae: 11.8360\n",
            "Epoch 15/100\n",
            "1/1 [==============================] - 0s 10ms/step - loss: 11.7925 - mae: 11.7925\n",
            "Epoch 16/100\n",
            "1/1 [==============================] - 0s 10ms/step - loss: 11.7495 - mae: 11.7495\n",
            "Epoch 17/100\n",
            "1/1 [==============================] - 0s 10ms/step - loss: 11.7062 - mae: 11.7062\n",
            "Epoch 18/100\n",
            "1/1 [==============================] - 0s 9ms/step - loss: 11.6628 - mae: 11.6628\n",
            "Epoch 19/100\n",
            "1/1 [==============================] - 0s 10ms/step - loss: 11.6191 - mae: 11.6191\n",
            "Epoch 20/100\n",
            "1/1 [==============================] - 0s 10ms/step - loss: 11.5751 - mae: 11.5751\n",
            "Epoch 21/100\n",
            "1/1 [==============================] - 0s 13ms/step - loss: 11.5308 - mae: 11.5308\n",
            "Epoch 22/100\n",
            "1/1 [==============================] - 0s 19ms/step - loss: 11.4863 - mae: 11.4863\n",
            "Epoch 23/100\n",
            "1/1 [==============================] - 0s 11ms/step - loss: 11.4420 - mae: 11.4420\n",
            "Epoch 24/100\n",
            "1/1 [==============================] - 0s 14ms/step - loss: 11.3975 - mae: 11.3975\n",
            "Epoch 25/100\n",
            "1/1 [==============================] - 0s 9ms/step - loss: 11.3526 - mae: 11.3526\n",
            "Epoch 26/100\n",
            "1/1 [==============================] - 0s 16ms/step - loss: 11.3074 - mae: 11.3074\n",
            "Epoch 27/100\n",
            "1/1 [==============================] - 0s 14ms/step - loss: 11.2619 - mae: 11.2619\n",
            "Epoch 28/100\n",
            "1/1 [==============================] - 0s 10ms/step - loss: 11.2162 - mae: 11.2162\n",
            "Epoch 29/100\n",
            "1/1 [==============================] - 0s 12ms/step - loss: 11.1708 - mae: 11.1708\n",
            "Epoch 30/100\n",
            "1/1 [==============================] - 0s 10ms/step - loss: 11.1254 - mae: 11.1254\n",
            "Epoch 31/100\n",
            "1/1 [==============================] - 0s 14ms/step - loss: 11.0797 - mae: 11.0797\n",
            "Epoch 32/100\n",
            "1/1 [==============================] - 0s 12ms/step - loss: 11.0335 - mae: 11.0335\n",
            "Epoch 33/100\n",
            "1/1 [==============================] - 0s 17ms/step - loss: 10.9870 - mae: 10.9870\n",
            "Epoch 34/100\n",
            "1/1 [==============================] - 0s 12ms/step - loss: 10.9401 - mae: 10.9401\n",
            "Epoch 35/100\n",
            "1/1 [==============================] - 0s 11ms/step - loss: 10.8928 - mae: 10.8928\n",
            "Epoch 36/100\n",
            "1/1 [==============================] - 0s 11ms/step - loss: 10.8452 - mae: 10.8452\n",
            "Epoch 37/100\n",
            "1/1 [==============================] - 0s 17ms/step - loss: 10.7975 - mae: 10.7975\n",
            "Epoch 38/100\n",
            "1/1 [==============================] - 0s 12ms/step - loss: 10.7496 - mae: 10.7496\n",
            "Epoch 39/100\n",
            "1/1 [==============================] - 0s 11ms/step - loss: 10.7018 - mae: 10.7018\n",
            "Epoch 40/100\n",
            "1/1 [==============================] - 0s 25ms/step - loss: 10.6536 - mae: 10.6536\n",
            "Epoch 41/100\n",
            "1/1 [==============================] - 0s 14ms/step - loss: 10.6048 - mae: 10.6048\n",
            "Epoch 42/100\n",
            "1/1 [==============================] - 0s 12ms/step - loss: 10.5555 - mae: 10.5555\n",
            "Epoch 43/100\n",
            "1/1 [==============================] - 0s 13ms/step - loss: 10.5056 - mae: 10.5056\n",
            "Epoch 44/100\n",
            "1/1 [==============================] - 0s 13ms/step - loss: 10.4554 - mae: 10.4554\n",
            "Epoch 45/100\n",
            "1/1 [==============================] - 0s 14ms/step - loss: 10.4047 - mae: 10.4047\n",
            "Epoch 46/100\n",
            "1/1 [==============================] - 0s 12ms/step - loss: 10.3538 - mae: 10.3538\n",
            "Epoch 47/100\n",
            "1/1 [==============================] - 0s 13ms/step - loss: 10.3024 - mae: 10.3024\n",
            "Epoch 48/100\n",
            "1/1 [==============================] - 0s 11ms/step - loss: 10.2506 - mae: 10.2506\n",
            "Epoch 49/100\n",
            "1/1 [==============================] - 0s 13ms/step - loss: 10.1987 - mae: 10.1987\n",
            "Epoch 50/100\n",
            "1/1 [==============================] - 0s 25ms/step - loss: 10.1462 - mae: 10.1462\n",
            "Epoch 51/100\n",
            "1/1 [==============================] - 0s 13ms/step - loss: 10.0932 - mae: 10.0932\n",
            "Epoch 52/100\n",
            "1/1 [==============================] - 0s 18ms/step - loss: 10.0395 - mae: 10.0395\n",
            "Epoch 53/100\n",
            "1/1 [==============================] - 0s 11ms/step - loss: 9.9852 - mae: 9.9852\n",
            "Epoch 54/100\n",
            "1/1 [==============================] - 0s 13ms/step - loss: 9.9307 - mae: 9.9307\n",
            "Epoch 55/100\n",
            "1/1 [==============================] - 0s 12ms/step - loss: 9.8756 - mae: 9.8756\n",
            "Epoch 56/100\n",
            "1/1 [==============================] - 0s 16ms/step - loss: 9.8200 - mae: 9.8200\n",
            "Epoch 57/100\n",
            "1/1 [==============================] - 0s 15ms/step - loss: 9.7640 - mae: 9.7640\n",
            "Epoch 58/100\n",
            "1/1 [==============================] - 0s 12ms/step - loss: 9.7077 - mae: 9.7077\n",
            "Epoch 59/100\n",
            "1/1 [==============================] - 0s 20ms/step - loss: 9.6509 - mae: 9.6509\n",
            "Epoch 60/100\n",
            "1/1 [==============================] - 0s 13ms/step - loss: 9.5936 - mae: 9.5936\n",
            "Epoch 61/100\n",
            "1/1 [==============================] - 0s 11ms/step - loss: 9.5357 - mae: 9.5357\n",
            "Epoch 62/100\n",
            "1/1 [==============================] - 0s 19ms/step - loss: 9.4772 - mae: 9.4772\n",
            "Epoch 63/100\n",
            "1/1 [==============================] - 0s 13ms/step - loss: 9.4180 - mae: 9.4180\n",
            "Epoch 64/100\n",
            "1/1 [==============================] - 0s 13ms/step - loss: 9.3578 - mae: 9.3578\n",
            "Epoch 65/100\n",
            "1/1 [==============================] - 0s 12ms/step - loss: 9.2968 - mae: 9.2968\n",
            "Epoch 66/100\n",
            "1/1 [==============================] - 0s 12ms/step - loss: 9.2351 - mae: 9.2351\n",
            "Epoch 67/100\n",
            "1/1 [==============================] - 0s 11ms/step - loss: 9.1727 - mae: 9.1727\n",
            "Epoch 68/100\n",
            "1/1 [==============================] - 0s 12ms/step - loss: 9.1094 - mae: 9.1094\n",
            "Epoch 69/100\n",
            "1/1 [==============================] - 0s 18ms/step - loss: 9.0452 - mae: 9.0452\n",
            "Epoch 70/100\n",
            "1/1 [==============================] - 0s 14ms/step - loss: 8.9802 - mae: 8.9802\n",
            "Epoch 71/100\n",
            "1/1 [==============================] - 0s 9ms/step - loss: 8.9145 - mae: 8.9145\n",
            "Epoch 72/100\n",
            "1/1 [==============================] - 0s 12ms/step - loss: 8.8479 - mae: 8.8479\n",
            "Epoch 73/100\n",
            "1/1 [==============================] - 0s 15ms/step - loss: 8.7807 - mae: 8.7807\n",
            "Epoch 74/100\n",
            "1/1 [==============================] - 0s 12ms/step - loss: 8.7254 - mae: 8.7254\n",
            "Epoch 75/100\n",
            "1/1 [==============================] - 0s 9ms/step - loss: 8.6696 - mae: 8.6696\n",
            "Epoch 76/100\n",
            "1/1 [==============================] - 0s 13ms/step - loss: 8.6133 - mae: 8.6133\n",
            "Epoch 77/100\n",
            "1/1 [==============================] - 0s 22ms/step - loss: 8.5566 - mae: 8.5566\n",
            "Epoch 78/100\n",
            "1/1 [==============================] - 0s 13ms/step - loss: 8.4995 - mae: 8.4995\n",
            "Epoch 79/100\n",
            "1/1 [==============================] - 0s 26ms/step - loss: 8.4418 - mae: 8.4418\n",
            "Epoch 80/100\n",
            "1/1 [==============================] - 0s 13ms/step - loss: 8.3835 - mae: 8.3835\n",
            "Epoch 81/100\n",
            "1/1 [==============================] - 0s 13ms/step - loss: 8.3246 - mae: 8.3246\n",
            "Epoch 82/100\n",
            "1/1 [==============================] - 0s 12ms/step - loss: 8.2651 - mae: 8.2651\n",
            "Epoch 83/100\n",
            "1/1 [==============================] - 0s 13ms/step - loss: 8.2052 - mae: 8.2052\n",
            "Epoch 84/100\n",
            "1/1 [==============================] - 0s 12ms/step - loss: 8.1447 - mae: 8.1447\n",
            "Epoch 85/100\n",
            "1/1 [==============================] - 0s 15ms/step - loss: 8.0839 - mae: 8.0839\n",
            "Epoch 86/100\n",
            "1/1 [==============================] - 0s 20ms/step - loss: 8.0226 - mae: 8.0226\n",
            "Epoch 87/100\n",
            "1/1 [==============================] - 0s 25ms/step - loss: 7.9605 - mae: 7.9605\n",
            "Epoch 88/100\n",
            "1/1 [==============================] - 0s 16ms/step - loss: 7.8980 - mae: 7.8980\n",
            "Epoch 89/100\n",
            "1/1 [==============================] - 0s 24ms/step - loss: 7.8349 - mae: 7.8349\n",
            "Epoch 90/100\n",
            "1/1 [==============================] - 0s 17ms/step - loss: 7.7712 - mae: 7.7712\n",
            "Epoch 91/100\n",
            "1/1 [==============================] - 0s 17ms/step - loss: 7.7068 - mae: 7.7068\n",
            "Epoch 92/100\n",
            "1/1 [==============================] - 0s 33ms/step - loss: 7.6417 - mae: 7.6417\n",
            "Epoch 93/100\n",
            "1/1 [==============================] - 0s 22ms/step - loss: 7.5760 - mae: 7.5760\n",
            "Epoch 94/100\n",
            "1/1 [==============================] - 0s 15ms/step - loss: 7.5095 - mae: 7.5095\n",
            "Epoch 95/100\n",
            "1/1 [==============================] - 0s 20ms/step - loss: 7.4424 - mae: 7.4424\n",
            "Epoch 96/100\n",
            "1/1 [==============================] - 0s 19ms/step - loss: 7.3746 - mae: 7.3746\n",
            "Epoch 97/100\n",
            "1/1 [==============================] - 0s 18ms/step - loss: 7.3061 - mae: 7.3061\n",
            "Epoch 98/100\n",
            "1/1 [==============================] - 0s 13ms/step - loss: 7.2367 - mae: 7.2367\n",
            "Epoch 99/100\n",
            "1/1 [==============================] - 0s 15ms/step - loss: 7.1661 - mae: 7.1661\n",
            "Epoch 100/100\n",
            "1/1 [==============================] - 0s 15ms/step - loss: 7.0947 - mae: 7.0947\n"
          ]
        },
        {
          "output_type": "execute_result",
          "data": {
            "text/plain": [
              "<keras.callbacks.History at 0x7f9ac27e4910>"
            ]
          },
          "metadata": {},
          "execution_count": 33
        }
      ]
    },
    {
      "cell_type": "markdown",
      "source": [
        "###When it comes to evaluating models: Visualize, Visualize and Visualize"
      ],
      "metadata": {
        "id": "m4fwSiA5s-_V"
      }
    },
    {
      "cell_type": "markdown",
      "source": [
        "#Its a good ideaa to visualize:\n",
        "- The Data\n",
        "- The model\n",
        "- The training\n",
        "- The predictions"
      ],
      "metadata": {
        "id": "aQkM5vFetJQn"
      }
    },
    {
      "cell_type": "code",
      "source": [
        "#Make a bigger dataset\n",
        "X = tf.range(-100, 100, 4)\n",
        "X"
      ],
      "metadata": {
        "colab": {
          "base_uri": "https://localhost:8080/"
        },
        "id": "gTU4A4u3tUUm",
        "outputId": "859b8859-b202-41be-f3fe-aa60e87712c2"
      },
      "execution_count": 35,
      "outputs": [
        {
          "output_type": "execute_result",
          "data": {
            "text/plain": [
              "<tf.Tensor: shape=(50,), dtype=int32, numpy=\n",
              "array([-100,  -96,  -92,  -88,  -84,  -80,  -76,  -72,  -68,  -64,  -60,\n",
              "        -56,  -52,  -48,  -44,  -40,  -36,  -32,  -28,  -24,  -20,  -16,\n",
              "        -12,   -8,   -4,    0,    4,    8,   12,   16,   20,   24,   28,\n",
              "         32,   36,   40,   44,   48,   52,   56,   60,   64,   68,   72,\n",
              "         76,   80,   84,   88,   92,   96], dtype=int32)>"
            ]
          },
          "metadata": {},
          "execution_count": 35
        }
      ]
    },
    {
      "cell_type": "code",
      "source": [
        "# Make labels for the dataset\n",
        "y = X + 10\n",
        "y"
      ],
      "metadata": {
        "colab": {
          "base_uri": "https://localhost:8080/"
        },
        "id": "hu0kcT9xtcZy",
        "outputId": "add768c8-07ba-4454-e4c8-f0a84c22729a"
      },
      "execution_count": 36,
      "outputs": [
        {
          "output_type": "execute_result",
          "data": {
            "text/plain": [
              "<tf.Tensor: shape=(50,), dtype=int32, numpy=\n",
              "array([-90, -86, -82, -78, -74, -70, -66, -62, -58, -54, -50, -46, -42,\n",
              "       -38, -34, -30, -26, -22, -18, -14, -10,  -6,  -2,   2,   6,  10,\n",
              "        14,  18,  22,  26,  30,  34,  38,  42,  46,  50,  54,  58,  62,\n",
              "        66,  70,  74,  78,  82,  86,  90,  94,  98, 102, 106], dtype=int32)>"
            ]
          },
          "metadata": {},
          "execution_count": 36
        }
      ]
    },
    {
      "cell_type": "code",
      "source": [
        "#visualize the data\n",
        "import matplotlib.pyplot as plt\n",
        "plt.scatter(X, y)"
      ],
      "metadata": {
        "colab": {
          "base_uri": "https://localhost:8080/",
          "height": 283
        },
        "id": "3v9VOXxGthP9",
        "outputId": "67748dd5-5771-43b5-d207-0961798934a9"
      },
      "execution_count": 37,
      "outputs": [
        {
          "output_type": "execute_result",
          "data": {
            "text/plain": [
              "<matplotlib.collections.PathCollection at 0x7f9a29ba7050>"
            ]
          },
          "metadata": {},
          "execution_count": 37
        },
        {
          "output_type": "display_data",
          "data": {
            "text/plain": [
              "<Figure size 432x288 with 1 Axes>"
            ],
            "image/png": "[encoded data removed]"
          },
          "metadata": {
            "needs_background": "light"
          }
        }
      ]
    },
    {
      "cell_type": "markdown",
      "source": [
        "### The 3 sets\n",
        "- Training (model learns from this data) 70-80%\n",
        "- Validation set (the model gets tuned on this data, which is typicall 10-15%\n",
        "- Test Set (model gets evaluated on this set, 10-15%)"
      ],
      "metadata": {
        "id": "fFk5eeUatofg"
      }
    },
    {
      "cell_type": "code",
      "source": [
        "#Check the length of how mahy sammples we have\n",
        "len(X), len(y)"
      ],
      "metadata": {
        "colab": {
          "base_uri": "https://localhost:8080/"
        },
        "id": "XFvIo7_At7kp",
        "outputId": "40bb8ec2-3568-4475-c8d6-b31bb0a29c9c"
      },
      "execution_count": 43,
      "outputs": [
        {
          "output_type": "execute_result",
          "data": {
            "text/plain": [
              "(50, 50)"
            ]
          },
          "metadata": {},
          "execution_count": 43
        }
      ]
    },
    {
      "cell_type": "code",
      "source": [
        "#split the data into train and test\n",
        "X_train = X[:40]\n",
        "y_train = y[:40]\n",
        "\n",
        "X_test = X[40:]\n",
        "y_test = y[40:]\n",
        "len(X_train), len(y_test)"
      ],
      "metadata": {
        "colab": {
          "base_uri": "https://localhost:8080/"
        },
        "id": "TN0gRL57ue6g",
        "outputId": "b39c09c3-2d65-404b-c0db-156aadec3ae0"
      },
      "execution_count": 44,
      "outputs": [
        {
          "output_type": "execute_result",
          "data": {
            "text/plain": [
              "(40, 10)"
            ]
          },
          "metadata": {},
          "execution_count": 44
        }
      ]
    },
    {
      "cell_type": "markdown",
      "source": [
        "#Lets visualize our data \n"
      ],
      "metadata": {
        "id": "tbrxq7Z-u2fP"
      }
    },
    {
      "cell_type": "code",
      "source": [
        "plt.figure(figsize=(10,7))\n",
        "plt.scatter(X_train, y_train, c=\"b\", label=\"Training Data\")\n",
        "plt.scatter(X_test, y_test, c=\"g\", label=\"Testing Data\")\n",
        "plt.legend()"
      ],
      "metadata": {
        "colab": {
          "base_uri": "https://localhost:8080/",
          "height": 446
        },
        "id": "PtqpXu-7vJFO",
        "outputId": "e40a4561-43bf-4664-bd08-88592f58cb27"
      },
      "execution_count": 45,
      "outputs": [
        {
          "output_type": "execute_result",
          "data": {
            "text/plain": [
              "<matplotlib.legend.Legend at 0x7f9a29d08350>"
            ]
          },
          "metadata": {},
          "execution_count": 45
        },
        {
          "output_type": "display_data",
          "data": {
            "text/plain": [
              "<Figure size 720x504 with 1 Axes>"
            ],
            "image/png": "[encoded data removed]"
          },
          "metadata": {
            "needs_background": "light"
          }
        }
      ]
    },
    {
      "cell_type": "markdown",
      "source": [
        "#How to build a neural network for the data\n"
      ],
      "metadata": {
        "id": "cyr4NOfxvblQ"
      }
    },
    {
      "cell_type": "code",
      "source": [
        "#rebuilding the model\n",
        "model = tf.keras.Sequential([\n",
        "  tf.keras.layers.Dense(1,)\n",
        "])\n",
        "\n",
        "#2. Compile\n",
        "model.compile(loss = tf.keras.losses.mae,\n",
        "              optimizer = tf.keras.optimizers.SGD(),\n",
        "              metrics=[\"mae\"])\n",
        "\n",
        "#3. Fit the model (training for longer)\n",
        "#model.fit(tf.expand_dims(X_train, axis=-1), y_train, epochs=100)"
      ],
      "metadata": {
        "id": "9usKgzO3v0N3"
      },
      "execution_count": 48,
      "outputs": []
    },
    {
      "cell_type": "code",
      "source": [
        "##Visualizing the model"
      ],
      "metadata": {
        "id": "q1NAt6zewHvw"
      },
      "execution_count": 49,
      "outputs": []
    },
    {
      "cell_type": "code",
      "source": [
        "#Creatint a model which builds automatically based on input shape\n",
        "tf.random.set_seed(42)\n",
        "\n",
        "#create model\n",
        "model = tf.keras.Sequential([\n",
        "  tf.keras.layers.Dense(1, input_shape=[1])                   \n",
        "])\n",
        "\n",
        "#2. Compile\n",
        "model.compile(loss = tf.keras.losses.mae,\n",
        "              optimizer = tf.keras.optimizers.SGD(),\n",
        "              metrics=[\"mae\"])\n",
        "\n",
        "#3. Fit the model (training for longer)\n",
        "#model.fit(tf.expand_dims(X_train, axis=-1), y_train, epochs=100)"
      ],
      "metadata": {
        "id": "TWBquAO_wPH3"
      },
      "execution_count": 52,
      "outputs": []
    },
    {
      "cell_type": "code",
      "source": [
        "model.summary()"
      ],
      "metadata": {
        "colab": {
          "base_uri": "https://localhost:8080/"
        },
        "id": "LB2k1BBVwsUT",
        "outputId": "1550c8b3-3170-4699-8eb1-71d21f24b5a1"
      },
      "execution_count": 53,
      "outputs": [
        {
          "output_type": "stream",
          "name": "stdout",
          "text": [
            "Model: \"sequential_14\"\n",
            "_________________________________________________________________\n",
            " Layer (type)                Output Shape              Param #   \n",
            "=================================================================\n",
            " dense_29 (Dense)            (None, 1)                 2         \n",
            "                                                                 \n",
            "=================================================================\n",
            "Total params: 2\n",
            "Trainable params: 2\n",
            "Non-trainable params: 0\n",
            "_________________________________________________________________\n"
          ]
        }
      ]
    },
    {
      "cell_type": "markdown",
      "source": [
        "#Total Params = Total number of parameters in the model\n",
        "#Trainable Parametrs - these are the parameters or patters that the model can update as it trains\n",
        "#Non-trainable parameters- these parameters are not updated during training, comonly used when you bring in already learn patters or parametrs during transfer learning"
      ],
      "metadata": {
        "id": "Bx2VJQrewt5X"
      }
    },
    {
      "cell_type": "code",
      "source": [
        "model.fit(tf.expand_dims(X_train, axis=-1), y_train, epochs=100, verbose=0)"
      ],
      "metadata": {
        "colab": {
          "base_uri": "https://localhost:8080/"
        },
        "id": "0weINXJExRpF",
        "outputId": "09a4d084-4794-473e-c796-0bb5646adcf9"
      },
      "execution_count": 55,
      "outputs": [
        {
          "output_type": "execute_result",
          "data": {
            "text/plain": [
              "<keras.callbacks.History at 0x7f9a295fa410>"
            ]
          },
          "metadata": {},
          "execution_count": 55
        }
      ]
    },
    {
      "cell_type": "code",
      "source": [
        ""
      ],
      "metadata": {
        "id": "4geTB2EhyPS0"
      },
      "execution_count": null,
      "outputs": []
    }
  ]
}