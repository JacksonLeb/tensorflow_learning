{
  "nbformat": 4,
  "nbformat_minor": 0,
  "metadata": {
    "colab": {
      "name": "02_neural_network_classification",
      "provenance": [],
      "collapsed_sections": [],
      "authorship_tag": "ABX9TyOl4YvryyyDJFDmfunfztJw",
      "include_colab_link": true
    },
    "kernelspec": {
      "name": "python3",
      "display_name": "Python 3"
    },
    "language_info": {
      "name": "python"
    },
    "gpuClass": "standard"
  },
  "cells": [
    {
      "cell_type": "markdown",
      "metadata": {
        "id": "view-in-github",
        "colab_type": "text"
      },
      "source": [
        "<a href=\"https://colab.research.google.com/github/JacksonLeb/tensorflow_learning/blob/main/02_neural_network_classification.ipynb\" target=\"_parent\"><img src=\"https://colab.research.google.com/assets/colab-badge.svg\" alt=\"Open In Colab\"/></a>"
      ]
    },
    {
      "cell_type": "markdown",
      "source": [
        "#Neural Network classification with tensorflow\n",
        "#Binary, Multiclass and Multilabel classification"
      ],
      "metadata": {
        "id": "wrV4fgrkaL0y"
      }
    },
    {
      "cell_type": "markdown",
      "source": [
        "##creating data to view and fit"
      ],
      "metadata": {
        "id": "ll8uJPZzfU3R"
      }
    },
    {
      "cell_type": "code",
      "source": [
        "from sklearn.datasets import make_circles\n",
        "\n",
        "n_samples = 1000\n",
        "\n",
        "X, y = make_circles(n_samples,\n",
        "                    noise=0.03,\n",
        "                    random_state=42)"
      ],
      "metadata": {
        "id": "1-yX_Hq-fYr-"
      },
      "execution_count": 1,
      "outputs": []
    },
    {
      "cell_type": "code",
      "source": [
        "X, y"
      ],
      "metadata": {
        "colab": {
          "base_uri": "https://localhost:8080/"
        },
        "id": "odnD9YnFfyvc",
        "outputId": "50e7ab39-4bd1-4810-def1-32e27f3dae15"
      },
      "execution_count": 2,
      "outputs": [
        {
          "output_type": "execute_result",
          "data": {
            "text/plain": [
              "(array([[ 0.75424625,  0.23148074],\n",
              "        [-0.75615888,  0.15325888],\n",
              "        [-0.81539193,  0.17328203],\n",
              "        ...,\n",
              "        [-0.13690036, -0.81001183],\n",
              "        [ 0.67036156, -0.76750154],\n",
              "        [ 0.28105665,  0.96382443]]),\n",
              " array([1, 1, 1, 1, 0, 1, 1, 1, 1, 0, 1, 0, 1, 1, 1, 1, 0, 1, 1, 0, 1, 0,\n",
              "        0, 1, 0, 0, 0, 1, 1, 1, 0, 0, 1, 0, 0, 0, 1, 1, 1, 0, 0, 0, 0, 1,\n",
              "        0, 0, 1, 1, 0, 1, 1, 1, 0, 1, 0, 0, 1, 0, 0, 1, 0, 0, 1, 0, 1, 1,\n",
              "        1, 1, 0, 1, 0, 0, 1, 1, 0, 0, 1, 0, 1, 0, 1, 0, 0, 0, 0, 1, 1, 1,\n",
              "        1, 0, 0, 0, 1, 0, 1, 0, 1, 0, 0, 1, 1, 0, 1, 0, 1, 1, 1, 1, 0, 1,\n",
              "        1, 1, 1, 1, 0, 0, 0, 1, 1, 0, 1, 0, 1, 0, 0, 1, 1, 0, 1, 1, 1, 1,\n",
              "        0, 1, 1, 0, 0, 0, 0, 0, 0, 0, 1, 0, 1, 1, 1, 0, 1, 0, 1, 0, 1, 0,\n",
              "        1, 0, 0, 1, 0, 1, 1, 1, 1, 1, 1, 1, 0, 1, 0, 0, 0, 0, 0, 1, 0, 0,\n",
              "        0, 0, 1, 1, 0, 1, 0, 1, 1, 0, 0, 0, 1, 1, 1, 1, 1, 0, 0, 0, 0, 0,\n",
              "        1, 0, 0, 1, 1, 1, 1, 1, 0, 1, 0, 1, 0, 0, 1, 1, 1, 0, 1, 0, 1, 1,\n",
              "        0, 1, 1, 0, 1, 0, 1, 0, 1, 1, 0, 1, 0, 1, 0, 0, 0, 1, 0, 0, 0, 0,\n",
              "        1, 1, 0, 0, 0, 0, 0, 0, 0, 1, 1, 1, 0, 0, 1, 1, 1, 0, 1, 0, 0, 0,\n",
              "        0, 1, 1, 0, 1, 0, 0, 0, 1, 0, 1, 0, 0, 1, 0, 1, 1, 1, 0, 0, 0, 1,\n",
              "        0, 0, 0, 1, 1, 1, 1, 0, 0, 0, 1, 0, 0, 0, 1, 0, 0, 0, 1, 1, 0, 1,\n",
              "        1, 1, 1, 1, 1, 1, 0, 0, 0, 0, 1, 0, 0, 0, 0, 1, 1, 1, 0, 0, 1, 0,\n",
              "        1, 0, 1, 1, 0, 0, 1, 1, 1, 1, 0, 0, 0, 0, 0, 0, 1, 1, 0, 1, 0, 0,\n",
              "        1, 0, 0, 0, 0, 0, 0, 0, 0, 1, 0, 0, 0, 0, 1, 0, 0, 1, 0, 1, 0, 0,\n",
              "        0, 1, 0, 0, 1, 1, 0, 0, 1, 0, 0, 1, 1, 0, 1, 1, 0, 0, 1, 0, 1, 0,\n",
              "        0, 0, 1, 1, 0, 0, 1, 1, 1, 1, 1, 0, 0, 1, 1, 1, 1, 0, 1, 1, 1, 1,\n",
              "        1, 0, 0, 1, 0, 1, 0, 0, 0, 0, 1, 0, 0, 0, 0, 0, 0, 0, 0, 0, 1, 1,\n",
              "        0, 1, 1, 1, 1, 1, 1, 0, 1, 1, 1, 1, 0, 0, 0, 1, 1, 1, 0, 0, 0, 0,\n",
              "        1, 1, 0, 0, 0, 0, 1, 0, 0, 0, 1, 0, 0, 1, 1, 1, 1, 1, 1, 0, 0, 0,\n",
              "        1, 0, 0, 0, 0, 0, 1, 1, 1, 0, 0, 0, 0, 0, 1, 1, 1, 0, 0, 1, 1, 1,\n",
              "        1, 0, 1, 1, 0, 1, 0, 0, 0, 1, 0, 0, 1, 0, 0, 1, 1, 0, 0, 1, 1, 0,\n",
              "        1, 0, 1, 0, 1, 0, 1, 0, 0, 0, 1, 0, 0, 0, 0, 0, 0, 1, 1, 1, 1, 0,\n",
              "        0, 0, 1, 0, 1, 1, 0, 0, 0, 0, 0, 1, 1, 1, 0, 0, 1, 0, 0, 1, 0, 0,\n",
              "        1, 0, 0, 1, 0, 0, 0, 1, 0, 0, 1, 1, 1, 0, 1, 1, 0, 0, 0, 1, 1, 1,\n",
              "        1, 0, 0, 1, 1, 1, 0, 0, 0, 0, 1, 1, 0, 0, 1, 1, 0, 0, 1, 1, 1, 1,\n",
              "        1, 1, 1, 0, 1, 0, 1, 0, 0, 1, 0, 1, 1, 1, 1, 0, 0, 1, 1, 0, 0, 1,\n",
              "        0, 1, 0, 0, 0, 1, 0, 0, 1, 1, 1, 1, 0, 1, 1, 1, 1, 1, 1, 1, 0, 1,\n",
              "        0, 1, 1, 1, 0, 0, 1, 0, 0, 0, 1, 1, 1, 1, 0, 0, 0, 0, 1, 0, 1, 1,\n",
              "        1, 0, 1, 0, 0, 1, 0, 0, 1, 1, 1, 1, 1, 0, 1, 0, 0, 0, 1, 1, 1, 1,\n",
              "        1, 0, 0, 0, 1, 1, 1, 1, 0, 0, 0, 0, 0, 1, 1, 0, 1, 0, 1, 0, 0, 0,\n",
              "        0, 0, 0, 0, 0, 0, 1, 1, 1, 1, 1, 0, 1, 0, 1, 1, 1, 1, 0, 1, 1, 1,\n",
              "        1, 1, 1, 1, 1, 0, 1, 1, 0, 1, 0, 0, 0, 1, 0, 1, 1, 1, 0, 1, 1, 0,\n",
              "        1, 1, 0, 1, 0, 1, 1, 0, 0, 1, 1, 1, 0, 0, 0, 0, 1, 1, 0, 0, 1, 1,\n",
              "        1, 1, 1, 1, 1, 1, 1, 1, 1, 1, 1, 1, 0, 0, 1, 0, 1, 0, 1, 0, 1, 1,\n",
              "        1, 1, 1, 1, 0, 1, 0, 1, 1, 1, 0, 1, 1, 0, 0, 1, 0, 1, 1, 0, 0, 1,\n",
              "        1, 1, 1, 1, 1, 1, 1, 0, 1, 1, 1, 0, 1, 0, 0, 1, 1, 0, 0, 0, 1, 0,\n",
              "        0, 1, 0, 0, 0, 1, 0, 1, 0, 0, 0, 0, 1, 0, 1, 1, 1, 1, 0, 1, 0, 0,\n",
              "        0, 0, 0, 0, 1, 0, 1, 0, 1, 0, 1, 1, 1, 0, 1, 0, 1, 0, 0, 1, 1, 1,\n",
              "        0, 0, 0, 1, 1, 0, 1, 0, 1, 1, 0, 1, 0, 0, 1, 1, 1, 0, 0, 0, 1, 1,\n",
              "        0, 0, 0, 0, 0, 1, 1, 0, 1, 0, 0, 0, 1, 0, 0, 0, 1, 1, 1, 1, 0, 1,\n",
              "        1, 1, 0, 1, 1, 1, 1, 0, 1, 1, 0, 1, 1, 0, 0, 1, 1, 1, 0, 0, 0, 0,\n",
              "        0, 0, 1, 0, 0, 1, 0, 0, 0, 1, 0, 1, 0, 1, 1, 0, 0, 0, 0, 0, 0, 0,\n",
              "        0, 1, 0, 1, 0, 0, 0, 1, 0, 0]))"
            ]
          },
          "metadata": {},
          "execution_count": 2
        }
      ]
    },
    {
      "cell_type": "code",
      "source": [
        "X[0]"
      ],
      "metadata": {
        "colab": {
          "base_uri": "https://localhost:8080/"
        },
        "id": "3-7fvOGxfzSO",
        "outputId": "1113b013-996e-4234-ef15-4bb1dd77cbea"
      },
      "execution_count": 3,
      "outputs": [
        {
          "output_type": "execute_result",
          "data": {
            "text/plain": [
              "array([0.75424625, 0.23148074])"
            ]
          },
          "metadata": {},
          "execution_count": 3
        }
      ]
    },
    {
      "cell_type": "code",
      "source": [
        "y[0]"
      ],
      "metadata": {
        "colab": {
          "base_uri": "https://localhost:8080/"
        },
        "id": "zWq_gv6pf7Vw",
        "outputId": "c3c7b5d4-0327-404d-99e9-ecd85acb6976"
      },
      "execution_count": 4,
      "outputs": [
        {
          "output_type": "execute_result",
          "data": {
            "text/plain": [
              "1"
            ]
          },
          "metadata": {},
          "execution_count": 4
        }
      ]
    },
    {
      "cell_type": "markdown",
      "source": [
        "#visualizing our data"
      ],
      "metadata": {
        "id": "Fyjvh0hTf8Ls"
      }
    },
    {
      "cell_type": "code",
      "source": [
        "import pandas as pd\n",
        "circles = pd.DataFrame({\"X0\":X[:,0], \"X1\":X[:, 1], \"label\":y})\n",
        "circles"
      ],
      "metadata": {
        "id": "gnVP26okf-Ro",
        "outputId": "f8263aa9-2008-4682-c92d-659367958b13",
        "colab": {
          "base_uri": "https://localhost:8080/",
          "height": 424
        }
      },
      "execution_count": 5,
      "outputs": [
        {
          "output_type": "execute_result",
          "data": {
            "text/plain": [
              "           X0        X1  label\n",
              "0    0.754246  0.231481      1\n",
              "1   -0.756159  0.153259      1\n",
              "2   -0.815392  0.173282      1\n",
              "3   -0.393731  0.692883      1\n",
              "4    0.442208 -0.896723      0\n",
              "..        ...       ...    ...\n",
              "995  0.244054  0.944125      0\n",
              "996 -0.978655 -0.272373      0\n",
              "997 -0.136900 -0.810012      1\n",
              "998  0.670362 -0.767502      0\n",
              "999  0.281057  0.963824      0\n",
              "\n",
              "[1000 rows x 3 columns]"
            ],
            "text/html": [
              "\n",
              "  <div id=\"df-806e3636-78ff-4711-bb64-254f8801797a\">\n",
              "    <div class=\"colab-df-container\">\n",
              "      <div>\n",
              "<style scoped>\n",
              "    .dataframe tbody tr th:only-of-type {\n",
              "        vertical-align: middle;\n",
              "    }\n",
              "\n",
              "    .dataframe tbody tr th {\n",
              "        vertical-align: top;\n",
              "    }\n",
              "\n",
              "    .dataframe thead th {\n",
              "        text-align: right;\n",
              "    }\n",
              "</style>\n",
              "<table border=\"1\" class=\"dataframe\">\n",
              "  <thead>\n",
              "    <tr style=\"text-align: right;\">\n",
              "      <th></th>\n",
              "      <th>X0</th>\n",
              "      <th>X1</th>\n",
              "      <th>label</th>\n",
              "    </tr>\n",
              "  </thead>\n",
              "  <tbody>\n",
              "    <tr>\n",
              "      <th>0</th>\n",
              "      <td>0.754246</td>\n",
              "      <td>0.231481</td>\n",
              "      <td>1</td>\n",
              "    </tr>\n",
              "    <tr>\n",
              "      <th>1</th>\n",
              "      <td>-0.756159</td>\n",
              "      <td>0.153259</td>\n",
              "      <td>1</td>\n",
              "    </tr>\n",
              "    <tr>\n",
              "      <th>2</th>\n",
              "      <td>-0.815392</td>\n",
              "      <td>0.173282</td>\n",
              "      <td>1</td>\n",
              "    </tr>\n",
              "    <tr>\n",
              "      <th>3</th>\n",
              "      <td>-0.393731</td>\n",
              "      <td>0.692883</td>\n",
              "      <td>1</td>\n",
              "    </tr>\n",
              "    <tr>\n",
              "      <th>4</th>\n",
              "      <td>0.442208</td>\n",
              "      <td>-0.896723</td>\n",
              "      <td>0</td>\n",
              "    </tr>\n",
              "    <tr>\n",
              "      <th>...</th>\n",
              "      <td>...</td>\n",
              "      <td>...</td>\n",
              "      <td>...</td>\n",
              "    </tr>\n",
              "    <tr>\n",
              "      <th>995</th>\n",
              "      <td>0.244054</td>\n",
              "      <td>0.944125</td>\n",
              "      <td>0</td>\n",
              "    </tr>\n",
              "    <tr>\n",
              "      <th>996</th>\n",
              "      <td>-0.978655</td>\n",
              "      <td>-0.272373</td>\n",
              "      <td>0</td>\n",
              "    </tr>\n",
              "    <tr>\n",
              "      <th>997</th>\n",
              "      <td>-0.136900</td>\n",
              "      <td>-0.810012</td>\n",
              "      <td>1</td>\n",
              "    </tr>\n",
              "    <tr>\n",
              "      <th>998</th>\n",
              "      <td>0.670362</td>\n",
              "      <td>-0.767502</td>\n",
              "      <td>0</td>\n",
              "    </tr>\n",
              "    <tr>\n",
              "      <th>999</th>\n",
              "      <td>0.281057</td>\n",
              "      <td>0.963824</td>\n",
              "      <td>0</td>\n",
              "    </tr>\n",
              "  </tbody>\n",
              "</table>\n",
              "<p>1000 rows × 3 columns</p>\n",
              "</div>\n",
              "      <button class=\"colab-df-convert\" onclick=\"convertToInteractive('df-806e3636-78ff-4711-bb64-254f8801797a')\"\n",
              "              title=\"Convert this dataframe to an interactive table.\"\n",
              "              style=\"display:none;\">\n",
              "        \n",
              "  <svg xmlns=\"http://www.w3.org/2000/svg\" height=\"24px\"viewBox=\"0 0 24 24\"\n",
              "       width=\"24px\">\n",
              "    <path d=\"M0 0h24v24H0V0z\" fill=\"none\"/>\n",
              "    <path d=\"M18.56 5.44l.94 2.06.94-2.06 2.06-.94-2.06-.94-.94-2.06-.94 2.06-2.06.94zm-11 1L8.5 8.5l.94-2.06 2.06-.94-2.06-.94L8.5 2.5l-.94 2.06-2.06.94zm10 10l.94 2.06.94-2.06 2.06-.94-2.06-.94-.94-2.06-.94 2.06-2.06.94z\"/><path d=\"M17.41 7.96l-1.37-1.37c-.4-.4-.92-.59-1.43-.59-.52 0-1.04.2-1.43.59L10.3 9.45l-7.72 7.72c-.78.78-.78 2.05 0 2.83L4 21.41c.39.39.9.59 1.41.59.51 0 1.02-.2 1.41-.59l7.78-7.78 2.81-2.81c.8-.78.8-2.07 0-2.86zM5.41 20L4 18.59l7.72-7.72 1.47 1.35L5.41 20z\"/>\n",
              "  </svg>\n",
              "      </button>\n",
              "      \n",
              "  <style>\n",
              "    .colab-df-container {\n",
              "      display:flex;\n",
              "      flex-wrap:wrap;\n",
              "      gap: 12px;\n",
              "    }\n",
              "\n",
              "    .colab-df-convert {\n",
              "      background-color: #E8F0FE;\n",
              "      border: none;\n",
              "      border-radius: 50%;\n",
              "      cursor: pointer;\n",
              "      display: none;\n",
              "      fill: #1967D2;\n",
              "      height: 32px;\n",
              "      padding: 0 0 0 0;\n",
              "      width: 32px;\n",
              "    }\n",
              "\n",
              "    .colab-df-convert:hover {\n",
              "      background-color: #E2EBFA;\n",
              "      box-shadow: 0px 1px 2px rgba(60, 64, 67, 0.3), 0px 1px 3px 1px rgba(60, 64, 67, 0.15);\n",
              "      fill: #174EA6;\n",
              "    }\n",
              "\n",
              "    [theme=dark] .colab-df-convert {\n",
              "      background-color: #3B4455;\n",
              "      fill: #D2E3FC;\n",
              "    }\n",
              "\n",
              "    [theme=dark] .colab-df-convert:hover {\n",
              "      background-color: #434B5C;\n",
              "      box-shadow: 0px 1px 3px 1px rgba(0, 0, 0, 0.15);\n",
              "      filter: drop-shadow(0px 1px 2px rgba(0, 0, 0, 0.3));\n",
              "      fill: #FFFFFF;\n",
              "    }\n",
              "  </style>\n",
              "\n",
              "      <script>\n",
              "        const buttonEl =\n",
              "          document.querySelector('#df-806e3636-78ff-4711-bb64-254f8801797a button.colab-df-convert');\n",
              "        buttonEl.style.display =\n",
              "          google.colab.kernel.accessAllowed ? 'block' : 'none';\n",
              "\n",
              "        async function convertToInteractive(key) {\n",
              "          const element = document.querySelector('#df-806e3636-78ff-4711-bb64-254f8801797a');\n",
              "          const dataTable =\n",
              "            await google.colab.kernel.invokeFunction('convertToInteractive',\n",
              "                                                     [key], {});\n",
              "          if (!dataTable) return;\n",
              "\n",
              "          const docLinkHtml = 'Like what you see? Visit the ' +\n",
              "            '<a target=\"_blank\" href=https://colab.research.google.com/notebooks/data_table.ipynb>data table notebook</a>'\n",
              "            + ' to learn more about interactive tables.';\n",
              "          element.innerHTML = '';\n",
              "          dataTable['output_type'] = 'display_data';\n",
              "          await google.colab.output.renderOutput(dataTable, element);\n",
              "          const docLink = document.createElement('div');\n",
              "          docLink.innerHTML = docLinkHtml;\n",
              "          element.appendChild(docLink);\n",
              "        }\n",
              "      </script>\n",
              "    </div>\n",
              "  </div>\n",
              "  "
            ]
          },
          "metadata": {},
          "execution_count": 5
        }
      ]
    },
    {
      "cell_type": "code",
      "source": [
        "#visualize with plot\n",
        "import matplotlib.pyplot as plt\n",
        "plt.scatter(X[:, 0], X[:, 1], c=y, cmap=plt.cm.RdYlBu)"
      ],
      "metadata": {
        "id": "izzuBsntgLZr",
        "outputId": "27204be4-e84f-408f-95cd-ad3681c2ef5b",
        "colab": {
          "base_uri": "https://localhost:8080/",
          "height": 283
        }
      },
      "execution_count": 6,
      "outputs": [
        {
          "output_type": "execute_result",
          "data": {
            "text/plain": [
              "<matplotlib.collections.PathCollection at 0x7f09554e97d0>"
            ]
          },
          "metadata": {},
          "execution_count": 6
        },
        {
          "output_type": "display_data",
          "data": {
            "text/plain": [
              "<Figure size 432x288 with 1 Axes>"
            ],
            "image/png": "[encoded data removed]"
          },
          "metadata": {
            "needs_background": "light"
          }
        }
      ]
    },
    {
      "cell_type": "markdown",
      "source": [
        "#input and output shapes"
      ],
      "metadata": {
        "id": "RH3dUFGhgimv"
      }
    },
    {
      "cell_type": "code",
      "source": [
        "X.shape, y.shape"
      ],
      "metadata": {
        "id": "lla3XydZhI-v",
        "outputId": "52838ced-cbf5-44b7-9e6f-e4e0ce3a2d3a",
        "colab": {
          "base_uri": "https://localhost:8080/"
        }
      },
      "execution_count": 7,
      "outputs": [
        {
          "output_type": "execute_result",
          "data": {
            "text/plain": [
              "((1000, 2), (1000,))"
            ]
          },
          "metadata": {},
          "execution_count": 7
        }
      ]
    },
    {
      "cell_type": "code",
      "source": [
        "import tensorflow as tf\n",
        "\n",
        "#set the random seed\n",
        "tf.random.set_seed(42)\n",
        "\n",
        "#creating the model\n",
        "model_1 = tf.keras.Sequential([\n",
        "  tf.keras.layers.Dense(1)\n",
        "])\n",
        "\n",
        "#compiling the model\n",
        "model_1.compile(loss=tf.keras.losses.BinaryCrossentropy(),\n",
        "              optimizer=tf.keras.optimizers.SGD(),\n",
        "              metrics=[\"accuracy\"]\n",
        "              )\n",
        "\n",
        "#fit the model\n",
        "model_1.fit(X, y, epochs=100)"
      ],
      "metadata": {
        "id": "ZnjkL9GlhKHV",
        "outputId": "e352249e-a002-4111-8b87-9865f98301aa",
        "colab": {
          "base_uri": "https://localhost:8080/"
        }
      },
      "execution_count": 8,
      "outputs": [
        {
          "output_type": "stream",
          "name": "stdout",
          "text": [
            "Epoch 1/100\n",
            "32/32 [==============================] - 1s 3ms/step - loss: 2.8544 - accuracy: 0.4600\n",
            "Epoch 2/100\n",
            "32/32 [==============================] - 0s 4ms/step - loss: 0.7131 - accuracy: 0.5430\n",
            "Epoch 3/100\n",
            "32/32 [==============================] - 0s 3ms/step - loss: 0.6973 - accuracy: 0.5090\n",
            "Epoch 4/100\n",
            "32/32 [==============================] - 0s 3ms/step - loss: 0.6950 - accuracy: 0.5010\n",
            "Epoch 5/100\n",
            "32/32 [==============================] - 0s 3ms/step - loss: 0.6942 - accuracy: 0.4830\n",
            "Epoch 6/100\n",
            "32/32 [==============================] - 0s 3ms/step - loss: 0.6938 - accuracy: 0.4990\n",
            "Epoch 7/100\n",
            "32/32 [==============================] - 0s 6ms/step - loss: 0.6943 - accuracy: 0.4880\n",
            "Epoch 8/100\n",
            "32/32 [==============================] - 0s 4ms/step - loss: 0.6941 - accuracy: 0.4950\n",
            "Epoch 9/100\n",
            "32/32 [==============================] - 0s 3ms/step - loss: 0.6940 - accuracy: 0.4840\n",
            "Epoch 10/100\n",
            "32/32 [==============================] - 0s 3ms/step - loss: 0.6938 - accuracy: 0.4820\n",
            "Epoch 11/100\n",
            "32/32 [==============================] - 0s 2ms/step - loss: 0.6944 - accuracy: 0.4640\n",
            "Epoch 12/100\n",
            "32/32 [==============================] - 0s 3ms/step - loss: 0.6945 - accuracy: 0.4800\n",
            "Epoch 13/100\n",
            "32/32 [==============================] - 0s 2ms/step - loss: 0.6943 - accuracy: 0.4830\n",
            "Epoch 14/100\n",
            "32/32 [==============================] - 0s 2ms/step - loss: 0.6944 - accuracy: 0.5030\n",
            "Epoch 15/100\n",
            "32/32 [==============================] - 0s 2ms/step - loss: 0.6941 - accuracy: 0.4510\n",
            "Epoch 16/100\n",
            "32/32 [==============================] - 0s 5ms/step - loss: 0.6944 - accuracy: 0.4880\n",
            "Epoch 17/100\n",
            "32/32 [==============================] - 0s 4ms/step - loss: 0.6941 - accuracy: 0.4910\n",
            "Epoch 18/100\n",
            "32/32 [==============================] - 0s 3ms/step - loss: 0.6940 - accuracy: 0.4760\n",
            "Epoch 19/100\n",
            "32/32 [==============================] - 0s 3ms/step - loss: 0.6941 - accuracy: 0.4820\n",
            "Epoch 20/100\n",
            "32/32 [==============================] - 0s 3ms/step - loss: 0.6941 - accuracy: 0.4560\n",
            "Epoch 21/100\n",
            "32/32 [==============================] - 0s 2ms/step - loss: 0.6939 - accuracy: 0.4900\n",
            "Epoch 22/100\n",
            "32/32 [==============================] - 0s 2ms/step - loss: 0.6942 - accuracy: 0.4690\n",
            "Epoch 23/100\n",
            "32/32 [==============================] - 0s 3ms/step - loss: 0.6940 - accuracy: 0.4840\n",
            "Epoch 24/100\n",
            "32/32 [==============================] - 0s 4ms/step - loss: 0.6942 - accuracy: 0.4680\n",
            "Epoch 25/100\n",
            "32/32 [==============================] - 0s 4ms/step - loss: 0.6939 - accuracy: 0.4890\n",
            "Epoch 26/100\n",
            "32/32 [==============================] - 0s 4ms/step - loss: 0.6943 - accuracy: 0.4740\n",
            "Epoch 27/100\n",
            "32/32 [==============================] - 0s 4ms/step - loss: 0.6938 - accuracy: 0.5060\n",
            "Epoch 28/100\n",
            "32/32 [==============================] - 0s 4ms/step - loss: 0.6943 - accuracy: 0.4690\n",
            "Epoch 29/100\n",
            "32/32 [==============================] - 0s 3ms/step - loss: 0.6942 - accuracy: 0.4620\n",
            "Epoch 30/100\n",
            "32/32 [==============================] - 0s 3ms/step - loss: 0.6941 - accuracy: 0.4870\n",
            "Epoch 31/100\n",
            "32/32 [==============================] - 0s 3ms/step - loss: 0.6942 - accuracy: 0.5230\n",
            "Epoch 32/100\n",
            "32/32 [==============================] - 0s 3ms/step - loss: 0.6941 - accuracy: 0.4670\n",
            "Epoch 33/100\n",
            "32/32 [==============================] - 0s 4ms/step - loss: 0.6942 - accuracy: 0.4760\n",
            "Epoch 34/100\n",
            "32/32 [==============================] - 0s 3ms/step - loss: 0.6946 - accuracy: 0.4590\n",
            "Epoch 35/100\n",
            "32/32 [==============================] - 0s 4ms/step - loss: 0.6941 - accuracy: 0.5010\n",
            "Epoch 36/100\n",
            "32/32 [==============================] - 0s 3ms/step - loss: 0.6943 - accuracy: 0.4710\n",
            "Epoch 37/100\n",
            "32/32 [==============================] - 0s 6ms/step - loss: 0.6940 - accuracy: 0.5020\n",
            "Epoch 38/100\n",
            "32/32 [==============================] - 0s 3ms/step - loss: 0.6940 - accuracy: 0.4670\n",
            "Epoch 39/100\n",
            "32/32 [==============================] - 0s 4ms/step - loss: 0.6941 - accuracy: 0.4350\n",
            "Epoch 40/100\n",
            "32/32 [==============================] - 0s 2ms/step - loss: 0.6948 - accuracy: 0.4720\n",
            "Epoch 41/100\n",
            "32/32 [==============================] - 0s 4ms/step - loss: 0.6941 - accuracy: 0.4730\n",
            "Epoch 42/100\n",
            "32/32 [==============================] - 0s 2ms/step - loss: 0.6941 - accuracy: 0.4640\n",
            "Epoch 43/100\n",
            "32/32 [==============================] - 0s 3ms/step - loss: 0.6942 - accuracy: 0.4850\n",
            "Epoch 44/100\n",
            "32/32 [==============================] - 0s 4ms/step - loss: 0.6935 - accuracy: 0.5080\n",
            "Epoch 45/100\n",
            "32/32 [==============================] - 0s 2ms/step - loss: 0.6944 - accuracy: 0.4710\n",
            "Epoch 46/100\n",
            "32/32 [==============================] - 0s 3ms/step - loss: 0.6942 - accuracy: 0.4850\n",
            "Epoch 47/100\n",
            "32/32 [==============================] - 0s 6ms/step - loss: 0.6939 - accuracy: 0.4940\n",
            "Epoch 48/100\n",
            "32/32 [==============================] - 0s 5ms/step - loss: 0.6939 - accuracy: 0.4900\n",
            "Epoch 49/100\n",
            "32/32 [==============================] - 0s 3ms/step - loss: 0.6941 - accuracy: 0.4770\n",
            "Epoch 50/100\n",
            "32/32 [==============================] - 0s 3ms/step - loss: 0.6941 - accuracy: 0.4980\n",
            "Epoch 51/100\n",
            "32/32 [==============================] - 0s 3ms/step - loss: 0.6942 - accuracy: 0.4820\n",
            "Epoch 52/100\n",
            "32/32 [==============================] - 0s 4ms/step - loss: 0.6941 - accuracy: 0.4890\n",
            "Epoch 53/100\n",
            "32/32 [==============================] - 0s 3ms/step - loss: 0.6939 - accuracy: 0.4690\n",
            "Epoch 54/100\n",
            "32/32 [==============================] - 0s 2ms/step - loss: 0.6943 - accuracy: 0.4920\n",
            "Epoch 55/100\n",
            "32/32 [==============================] - 0s 2ms/step - loss: 0.6942 - accuracy: 0.4970\n",
            "Epoch 56/100\n",
            "32/32 [==============================] - 0s 3ms/step - loss: 0.6940 - accuracy: 0.4800\n",
            "Epoch 57/100\n",
            "32/32 [==============================] - 0s 3ms/step - loss: 0.6944 - accuracy: 0.4710\n",
            "Epoch 58/100\n",
            "32/32 [==============================] - 0s 5ms/step - loss: 0.6942 - accuracy: 0.4870\n",
            "Epoch 59/100\n",
            "32/32 [==============================] - 0s 5ms/step - loss: 0.6939 - accuracy: 0.5030\n",
            "Epoch 60/100\n",
            "32/32 [==============================] - 0s 5ms/step - loss: 0.6942 - accuracy: 0.5060\n",
            "Epoch 61/100\n",
            "32/32 [==============================] - 0s 4ms/step - loss: 0.6944 - accuracy: 0.4990\n",
            "Epoch 62/100\n",
            "32/32 [==============================] - 0s 3ms/step - loss: 0.6941 - accuracy: 0.4760\n",
            "Epoch 63/100\n",
            "32/32 [==============================] - 0s 4ms/step - loss: 0.6940 - accuracy: 0.4690\n",
            "Epoch 64/100\n",
            "32/32 [==============================] - 0s 4ms/step - loss: 0.6942 - accuracy: 0.4930\n",
            "Epoch 65/100\n",
            "32/32 [==============================] - 0s 3ms/step - loss: 0.6943 - accuracy: 0.4690\n",
            "Epoch 66/100\n",
            "32/32 [==============================] - 0s 3ms/step - loss: 0.6940 - accuracy: 0.4770\n",
            "Epoch 67/100\n",
            "32/32 [==============================] - 0s 3ms/step - loss: 0.6945 - accuracy: 0.4670\n",
            "Epoch 68/100\n",
            "32/32 [==============================] - 0s 2ms/step - loss: 0.6939 - accuracy: 0.4680\n",
            "Epoch 69/100\n",
            "32/32 [==============================] - 0s 3ms/step - loss: 0.6943 - accuracy: 0.5070\n",
            "Epoch 70/100\n",
            "32/32 [==============================] - 0s 3ms/step - loss: 0.6943 - accuracy: 0.4630\n",
            "Epoch 71/100\n",
            "32/32 [==============================] - 0s 3ms/step - loss: 0.6939 - accuracy: 0.4820\n",
            "Epoch 72/100\n",
            "32/32 [==============================] - 0s 3ms/step - loss: 0.6942 - accuracy: 0.4890\n",
            "Epoch 73/100\n",
            "32/32 [==============================] - 0s 4ms/step - loss: 0.6941 - accuracy: 0.4760\n",
            "Epoch 74/100\n",
            "32/32 [==============================] - 0s 2ms/step - loss: 0.6940 - accuracy: 0.5090\n",
            "Epoch 75/100\n",
            "32/32 [==============================] - 0s 3ms/step - loss: 0.6941 - accuracy: 0.4940\n",
            "Epoch 76/100\n",
            "32/32 [==============================] - 0s 5ms/step - loss: 0.6940 - accuracy: 0.5010\n",
            "Epoch 77/100\n",
            "32/32 [==============================] - 0s 4ms/step - loss: 0.6942 - accuracy: 0.4870\n",
            "Epoch 78/100\n",
            "32/32 [==============================] - 0s 3ms/step - loss: 0.6941 - accuracy: 0.4610\n",
            "Epoch 79/100\n",
            "32/32 [==============================] - 0s 6ms/step - loss: 0.6940 - accuracy: 0.4860\n",
            "Epoch 80/100\n",
            "32/32 [==============================] - 0s 4ms/step - loss: 0.6943 - accuracy: 0.5050\n",
            "Epoch 81/100\n",
            "32/32 [==============================] - 0s 4ms/step - loss: 0.6943 - accuracy: 0.5050\n",
            "Epoch 82/100\n",
            "32/32 [==============================] - 0s 4ms/step - loss: 0.6941 - accuracy: 0.4690\n",
            "Epoch 83/100\n",
            "32/32 [==============================] - 0s 3ms/step - loss: 0.6941 - accuracy: 0.4930\n",
            "Epoch 84/100\n",
            "32/32 [==============================] - 0s 3ms/step - loss: 0.6942 - accuracy: 0.4960\n",
            "Epoch 85/100\n",
            "32/32 [==============================] - 0s 2ms/step - loss: 0.6939 - accuracy: 0.4930\n",
            "Epoch 86/100\n",
            "32/32 [==============================] - 0s 3ms/step - loss: 0.6940 - accuracy: 0.4880\n",
            "Epoch 87/100\n",
            "32/32 [==============================] - 0s 3ms/step - loss: 0.6942 - accuracy: 0.4720\n",
            "Epoch 88/100\n",
            "32/32 [==============================] - 0s 3ms/step - loss: 0.6944 - accuracy: 0.4470\n",
            "Epoch 89/100\n",
            "32/32 [==============================] - 0s 3ms/step - loss: 0.6945 - accuracy: 0.4720\n",
            "Epoch 90/100\n",
            "32/32 [==============================] - 0s 3ms/step - loss: 0.6941 - accuracy: 0.4820\n",
            "Epoch 91/100\n",
            "32/32 [==============================] - 0s 3ms/step - loss: 0.6944 - accuracy: 0.4860\n",
            "Epoch 92/100\n",
            "32/32 [==============================] - 0s 3ms/step - loss: 0.6941 - accuracy: 0.5050\n",
            "Epoch 93/100\n",
            "32/32 [==============================] - 0s 4ms/step - loss: 0.6941 - accuracy: 0.4720\n",
            "Epoch 94/100\n",
            "32/32 [==============================] - 0s 3ms/step - loss: 0.6946 - accuracy: 0.4770\n",
            "Epoch 95/100\n",
            "32/32 [==============================] - 0s 3ms/step - loss: 0.6940 - accuracy: 0.4760\n",
            "Epoch 96/100\n",
            "32/32 [==============================] - 0s 6ms/step - loss: 0.6945 - accuracy: 0.4610\n",
            "Epoch 97/100\n",
            "32/32 [==============================] - 0s 3ms/step - loss: 0.6942 - accuracy: 0.4690\n",
            "Epoch 98/100\n",
            "32/32 [==============================] - 0s 3ms/step - loss: 0.6942 - accuracy: 0.4840\n",
            "Epoch 99/100\n",
            "32/32 [==============================] - 0s 5ms/step - loss: 0.6944 - accuracy: 0.4980\n",
            "Epoch 100/100\n",
            "32/32 [==============================] - 0s 3ms/step - loss: 0.6943 - accuracy: 0.4850\n"
          ]
        },
        {
          "output_type": "execute_result",
          "data": {
            "text/plain": [
              "<keras.callbacks.History at 0x7f08e8669510>"
            ]
          },
          "metadata": {},
          "execution_count": 8
        }
      ]
    },
    {
      "cell_type": "code",
      "source": [
        "model_1.fit(X, y, epochs=200)\n",
        "model_1.evaluate(X, y)"
      ],
      "metadata": {
        "id": "zB61n5_MiHf8",
        "outputId": "d6f469b3-5bff-40f3-eedc-e915cce47dcf",
        "colab": {
          "base_uri": "https://localhost:8080/"
        }
      },
      "execution_count": 9,
      "outputs": [
        {
          "output_type": "stream",
          "name": "stdout",
          "text": [
            "Epoch 1/200\n",
            "32/32 [==============================] - 0s 5ms/step - loss: 0.6943 - accuracy: 0.4720\n",
            "Epoch 2/200\n",
            "32/32 [==============================] - 0s 4ms/step - loss: 0.6941 - accuracy: 0.4890\n",
            "Epoch 3/200\n",
            "32/32 [==============================] - 0s 5ms/step - loss: 0.6946 - accuracy: 0.4740\n",
            "Epoch 4/200\n",
            "32/32 [==============================] - 0s 3ms/step - loss: 0.6941 - accuracy: 0.4850\n",
            "Epoch 5/200\n",
            "32/32 [==============================] - 0s 4ms/step - loss: 0.6940 - accuracy: 0.4660\n",
            "Epoch 6/200\n",
            "32/32 [==============================] - 0s 3ms/step - loss: 0.6936 - accuracy: 0.5010\n",
            "Epoch 7/200\n",
            "32/32 [==============================] - 0s 5ms/step - loss: 0.6943 - accuracy: 0.5030\n",
            "Epoch 8/200\n",
            "32/32 [==============================] - 0s 4ms/step - loss: 0.6941 - accuracy: 0.4810\n",
            "Epoch 9/200\n",
            "32/32 [==============================] - 0s 3ms/step - loss: 0.6940 - accuracy: 0.4790\n",
            "Epoch 10/200\n",
            "32/32 [==============================] - 0s 4ms/step - loss: 0.6938 - accuracy: 0.4790\n",
            "Epoch 11/200\n",
            "32/32 [==============================] - 0s 4ms/step - loss: 0.6944 - accuracy: 0.4550\n",
            "Epoch 12/200\n",
            "32/32 [==============================] - 0s 4ms/step - loss: 0.6945 - accuracy: 0.4750\n",
            "Epoch 13/200\n",
            "32/32 [==============================] - 0s 3ms/step - loss: 0.6943 - accuracy: 0.4910\n",
            "Epoch 14/200\n",
            "32/32 [==============================] - 0s 2ms/step - loss: 0.6944 - accuracy: 0.5030\n",
            "Epoch 15/200\n",
            "32/32 [==============================] - 0s 4ms/step - loss: 0.6941 - accuracy: 0.4490\n",
            "Epoch 16/200\n",
            "32/32 [==============================] - 0s 5ms/step - loss: 0.6944 - accuracy: 0.4890\n",
            "Epoch 17/200\n",
            "32/32 [==============================] - 0s 6ms/step - loss: 0.6941 - accuracy: 0.4910\n",
            "Epoch 18/200\n",
            "32/32 [==============================] - 0s 6ms/step - loss: 0.6940 - accuracy: 0.4760\n",
            "Epoch 19/200\n",
            "32/32 [==============================] - 0s 3ms/step - loss: 0.6941 - accuracy: 0.4820\n",
            "Epoch 20/200\n",
            "32/32 [==============================] - 0s 3ms/step - loss: 0.6941 - accuracy: 0.4550\n",
            "Epoch 21/200\n",
            "32/32 [==============================] - 0s 2ms/step - loss: 0.6939 - accuracy: 0.4900\n",
            "Epoch 22/200\n",
            "32/32 [==============================] - 0s 3ms/step - loss: 0.6942 - accuracy: 0.4690\n",
            "Epoch 23/200\n",
            "32/32 [==============================] - 0s 3ms/step - loss: 0.6940 - accuracy: 0.4840\n",
            "Epoch 24/200\n",
            "32/32 [==============================] - 0s 3ms/step - loss: 0.6942 - accuracy: 0.4680\n",
            "Epoch 25/200\n",
            "32/32 [==============================] - 0s 7ms/step - loss: 0.6939 - accuracy: 0.4890\n",
            "Epoch 26/200\n",
            "32/32 [==============================] - 0s 3ms/step - loss: 0.6943 - accuracy: 0.4740\n",
            "Epoch 27/200\n",
            "32/32 [==============================] - 0s 6ms/step - loss: 0.6938 - accuracy: 0.5060\n",
            "Epoch 28/200\n",
            "32/32 [==============================] - 0s 3ms/step - loss: 0.6943 - accuracy: 0.4690\n",
            "Epoch 29/200\n",
            "32/32 [==============================] - 0s 3ms/step - loss: 0.6942 - accuracy: 0.4620\n",
            "Epoch 30/200\n",
            "32/32 [==============================] - 0s 6ms/step - loss: 0.6941 - accuracy: 0.4870\n",
            "Epoch 31/200\n",
            "32/32 [==============================] - 0s 4ms/step - loss: 0.6942 - accuracy: 0.5230\n",
            "Epoch 32/200\n",
            "32/32 [==============================] - 0s 3ms/step - loss: 0.6941 - accuracy: 0.4670\n",
            "Epoch 33/200\n",
            "32/32 [==============================] - 0s 2ms/step - loss: 0.6942 - accuracy: 0.4760\n",
            "Epoch 34/200\n",
            "32/32 [==============================] - 0s 3ms/step - loss: 0.6946 - accuracy: 0.4590\n",
            "Epoch 35/200\n",
            "32/32 [==============================] - 0s 3ms/step - loss: 0.6941 - accuracy: 0.5010\n",
            "Epoch 36/200\n",
            "32/32 [==============================] - 0s 2ms/step - loss: 0.6943 - accuracy: 0.4710\n",
            "Epoch 37/200\n",
            "32/32 [==============================] - 0s 2ms/step - loss: 0.6940 - accuracy: 0.5020\n",
            "Epoch 38/200\n",
            "32/32 [==============================] - 0s 4ms/step - loss: 0.6940 - accuracy: 0.4670\n",
            "Epoch 39/200\n",
            "32/32 [==============================] - 0s 2ms/step - loss: 0.6941 - accuracy: 0.4350\n",
            "Epoch 40/200\n",
            "32/32 [==============================] - 0s 3ms/step - loss: 0.6948 - accuracy: 0.4720\n",
            "Epoch 41/200\n",
            "32/32 [==============================] - 0s 2ms/step - loss: 0.6941 - accuracy: 0.4730\n",
            "Epoch 42/200\n",
            "32/32 [==============================] - 0s 7ms/step - loss: 0.6941 - accuracy: 0.4640\n",
            "Epoch 43/200\n",
            "32/32 [==============================] - 0s 8ms/step - loss: 0.6942 - accuracy: 0.4850\n",
            "Epoch 44/200\n",
            "32/32 [==============================] - 0s 6ms/step - loss: 0.6935 - accuracy: 0.5080\n",
            "Epoch 45/200\n",
            "32/32 [==============================] - 0s 4ms/step - loss: 0.6944 - accuracy: 0.4710\n",
            "Epoch 46/200\n",
            "32/32 [==============================] - 0s 4ms/step - loss: 0.6942 - accuracy: 0.4850\n",
            "Epoch 47/200\n",
            "32/32 [==============================] - 0s 2ms/step - loss: 0.6939 - accuracy: 0.4940\n",
            "Epoch 48/200\n",
            "32/32 [==============================] - 0s 3ms/step - loss: 0.6939 - accuracy: 0.4900\n",
            "Epoch 49/200\n",
            "32/32 [==============================] - 0s 4ms/step - loss: 0.6941 - accuracy: 0.4770\n",
            "Epoch 50/200\n",
            "32/32 [==============================] - 0s 4ms/step - loss: 0.6941 - accuracy: 0.4980\n",
            "Epoch 51/200\n",
            "32/32 [==============================] - 0s 5ms/step - loss: 0.6942 - accuracy: 0.4820\n",
            "Epoch 52/200\n",
            "32/32 [==============================] - 0s 4ms/step - loss: 0.6941 - accuracy: 0.4890\n",
            "Epoch 53/200\n",
            "32/32 [==============================] - 0s 4ms/step - loss: 0.6939 - accuracy: 0.4690\n",
            "Epoch 54/200\n",
            "32/32 [==============================] - 0s 3ms/step - loss: 0.6943 - accuracy: 0.4920\n",
            "Epoch 55/200\n",
            "32/32 [==============================] - 0s 4ms/step - loss: 0.6942 - accuracy: 0.4970\n",
            "Epoch 56/200\n",
            "32/32 [==============================] - 0s 4ms/step - loss: 0.6940 - accuracy: 0.4800\n",
            "Epoch 57/200\n",
            "32/32 [==============================] - 0s 3ms/step - loss: 0.6944 - accuracy: 0.4710\n",
            "Epoch 58/200\n",
            "32/32 [==============================] - 0s 3ms/step - loss: 0.6942 - accuracy: 0.4870\n",
            "Epoch 59/200\n",
            "32/32 [==============================] - 0s 6ms/step - loss: 0.6939 - accuracy: 0.5030\n",
            "Epoch 60/200\n",
            "32/32 [==============================] - 0s 4ms/step - loss: 0.6942 - accuracy: 0.5060\n",
            "Epoch 61/200\n",
            "32/32 [==============================] - 0s 2ms/step - loss: 0.6944 - accuracy: 0.4990\n",
            "Epoch 62/200\n",
            "32/32 [==============================] - 0s 3ms/step - loss: 0.6941 - accuracy: 0.4760\n",
            "Epoch 63/200\n",
            "32/32 [==============================] - 0s 5ms/step - loss: 0.6940 - accuracy: 0.4690\n",
            "Epoch 64/200\n",
            "32/32 [==============================] - 0s 4ms/step - loss: 0.6942 - accuracy: 0.4930\n",
            "Epoch 65/200\n",
            "32/32 [==============================] - 0s 3ms/step - loss: 0.6943 - accuracy: 0.4690\n",
            "Epoch 66/200\n",
            "32/32 [==============================] - 0s 2ms/step - loss: 0.6940 - accuracy: 0.4770\n",
            "Epoch 67/200\n",
            "32/32 [==============================] - 0s 2ms/step - loss: 0.6945 - accuracy: 0.4670\n",
            "Epoch 68/200\n",
            "32/32 [==============================] - 0s 4ms/step - loss: 0.6939 - accuracy: 0.4680\n",
            "Epoch 69/200\n",
            "32/32 [==============================] - 0s 3ms/step - loss: 0.6943 - accuracy: 0.5070\n",
            "Epoch 70/200\n",
            "32/32 [==============================] - 0s 3ms/step - loss: 0.6943 - accuracy: 0.4630\n",
            "Epoch 71/200\n",
            "32/32 [==============================] - 0s 4ms/step - loss: 0.6939 - accuracy: 0.4820\n",
            "Epoch 72/200\n",
            "32/32 [==============================] - 0s 3ms/step - loss: 0.6942 - accuracy: 0.4890\n",
            "Epoch 73/200\n",
            "32/32 [==============================] - 0s 3ms/step - loss: 0.6941 - accuracy: 0.4760\n",
            "Epoch 74/200\n",
            "32/32 [==============================] - 0s 4ms/step - loss: 0.6940 - accuracy: 0.5090\n",
            "Epoch 75/200\n",
            "32/32 [==============================] - 0s 3ms/step - loss: 0.6941 - accuracy: 0.4940\n",
            "Epoch 76/200\n",
            "32/32 [==============================] - 0s 3ms/step - loss: 0.6940 - accuracy: 0.5010\n",
            "Epoch 77/200\n",
            "32/32 [==============================] - 0s 3ms/step - loss: 0.6942 - accuracy: 0.4870\n",
            "Epoch 78/200\n",
            "32/32 [==============================] - 0s 5ms/step - loss: 0.6941 - accuracy: 0.4610\n",
            "Epoch 79/200\n",
            "32/32 [==============================] - 0s 4ms/step - loss: 0.6940 - accuracy: 0.4860\n",
            "Epoch 80/200\n",
            "32/32 [==============================] - 0s 3ms/step - loss: 0.6943 - accuracy: 0.5050\n",
            "Epoch 81/200\n",
            "32/32 [==============================] - 0s 4ms/step - loss: 0.6943 - accuracy: 0.5050\n",
            "Epoch 82/200\n",
            "32/32 [==============================] - 0s 5ms/step - loss: 0.6941 - accuracy: 0.4690\n",
            "Epoch 83/200\n",
            "32/32 [==============================] - 0s 4ms/step - loss: 0.6941 - accuracy: 0.4930\n",
            "Epoch 84/200\n",
            "32/32 [==============================] - 0s 4ms/step - loss: 0.6942 - accuracy: 0.4960\n",
            "Epoch 85/200\n",
            "32/32 [==============================] - 0s 3ms/step - loss: 0.6939 - accuracy: 0.4930\n",
            "Epoch 86/200\n",
            "32/32 [==============================] - 0s 3ms/step - loss: 0.6940 - accuracy: 0.4880\n",
            "Epoch 87/200\n",
            "32/32 [==============================] - 0s 3ms/step - loss: 0.6942 - accuracy: 0.4720\n",
            "Epoch 88/200\n",
            "32/32 [==============================] - 0s 2ms/step - loss: 0.6944 - accuracy: 0.4470\n",
            "Epoch 89/200\n",
            "32/32 [==============================] - 0s 3ms/step - loss: 0.6945 - accuracy: 0.4720\n",
            "Epoch 90/200\n",
            "32/32 [==============================] - 0s 5ms/step - loss: 0.6941 - accuracy: 0.4820\n",
            "Epoch 91/200\n",
            "32/32 [==============================] - 0s 4ms/step - loss: 0.6944 - accuracy: 0.4860\n",
            "Epoch 92/200\n",
            "32/32 [==============================] - 0s 3ms/step - loss: 0.6941 - accuracy: 0.5050\n",
            "Epoch 93/200\n",
            "32/32 [==============================] - 0s 3ms/step - loss: 0.6941 - accuracy: 0.4720\n",
            "Epoch 94/200\n",
            "32/32 [==============================] - 0s 4ms/step - loss: 0.6946 - accuracy: 0.4770\n",
            "Epoch 95/200\n",
            "32/32 [==============================] - 0s 2ms/step - loss: 0.6940 - accuracy: 0.4760\n",
            "Epoch 96/200\n",
            "32/32 [==============================] - 0s 2ms/step - loss: 0.6945 - accuracy: 0.4610\n",
            "Epoch 97/200\n",
            "32/32 [==============================] - 0s 2ms/step - loss: 0.6942 - accuracy: 0.4690\n",
            "Epoch 98/200\n",
            "32/32 [==============================] - 0s 3ms/step - loss: 0.6942 - accuracy: 0.4840\n",
            "Epoch 99/200\n",
            "32/32 [==============================] - 0s 3ms/step - loss: 0.6944 - accuracy: 0.4980\n",
            "Epoch 100/200\n",
            "32/32 [==============================] - 0s 4ms/step - loss: 0.6943 - accuracy: 0.4850\n",
            "Epoch 101/200\n",
            "32/32 [==============================] - 0s 3ms/step - loss: 0.6939 - accuracy: 0.5060\n",
            "Epoch 102/200\n",
            "32/32 [==============================] - 0s 3ms/step - loss: 0.6946 - accuracy: 0.4750\n",
            "Epoch 103/200\n",
            "32/32 [==============================] - 0s 4ms/step - loss: 0.6944 - accuracy: 0.4760\n",
            "Epoch 104/200\n",
            "32/32 [==============================] - 0s 3ms/step - loss: 0.6941 - accuracy: 0.4900\n",
            "Epoch 105/200\n",
            "32/32 [==============================] - 0s 3ms/step - loss: 0.6939 - accuracy: 0.4960\n",
            "Epoch 106/200\n",
            "32/32 [==============================] - 0s 8ms/step - loss: 0.6940 - accuracy: 0.4950\n",
            "Epoch 107/200\n",
            "32/32 [==============================] - 0s 3ms/step - loss: 0.6938 - accuracy: 0.4690\n",
            "Epoch 108/200\n",
            "32/32 [==============================] - 0s 2ms/step - loss: 0.6943 - accuracy: 0.4940\n",
            "Epoch 109/200\n",
            "32/32 [==============================] - 0s 4ms/step - loss: 0.6942 - accuracy: 0.4510\n",
            "Epoch 110/200\n",
            "32/32 [==============================] - 0s 4ms/step - loss: 0.6944 - accuracy: 0.4570\n",
            "Epoch 111/200\n",
            "32/32 [==============================] - 0s 3ms/step - loss: 0.6943 - accuracy: 0.4820\n",
            "Epoch 112/200\n",
            "32/32 [==============================] - 0s 3ms/step - loss: 0.6946 - accuracy: 0.4770\n",
            "Epoch 113/200\n",
            "32/32 [==============================] - 0s 5ms/step - loss: 0.6944 - accuracy: 0.4740\n",
            "Epoch 114/200\n",
            "32/32 [==============================] - 0s 3ms/step - loss: 0.6944 - accuracy: 0.4660\n",
            "Epoch 115/200\n",
            "32/32 [==============================] - 0s 4ms/step - loss: 0.6941 - accuracy: 0.4690\n",
            "Epoch 116/200\n",
            "32/32 [==============================] - 0s 3ms/step - loss: 0.6942 - accuracy: 0.4830\n",
            "Epoch 117/200\n",
            "32/32 [==============================] - 0s 3ms/step - loss: 0.6943 - accuracy: 0.5000\n",
            "Epoch 118/200\n",
            "32/32 [==============================] - 0s 3ms/step - loss: 0.6939 - accuracy: 0.4990\n",
            "Epoch 119/200\n",
            "32/32 [==============================] - 0s 3ms/step - loss: 0.6944 - accuracy: 0.4750\n",
            "Epoch 120/200\n",
            "32/32 [==============================] - 0s 3ms/step - loss: 0.6940 - accuracy: 0.4980\n",
            "Epoch 121/200\n",
            "32/32 [==============================] - 0s 3ms/step - loss: 0.6942 - accuracy: 0.4740\n",
            "Epoch 122/200\n",
            "32/32 [==============================] - 0s 4ms/step - loss: 0.6941 - accuracy: 0.4920\n",
            "Epoch 123/200\n",
            "32/32 [==============================] - 0s 3ms/step - loss: 0.6944 - accuracy: 0.4640\n",
            "Epoch 124/200\n",
            "32/32 [==============================] - 0s 5ms/step - loss: 0.6943 - accuracy: 0.4660\n",
            "Epoch 125/200\n",
            "32/32 [==============================] - 0s 3ms/step - loss: 0.6940 - accuracy: 0.4800\n",
            "Epoch 126/200\n",
            "32/32 [==============================] - 0s 4ms/step - loss: 0.6941 - accuracy: 0.4960\n",
            "Epoch 127/200\n",
            "32/32 [==============================] - 0s 3ms/step - loss: 0.6942 - accuracy: 0.4760\n",
            "Epoch 128/200\n",
            "32/32 [==============================] - 0s 4ms/step - loss: 0.6943 - accuracy: 0.4920\n",
            "Epoch 129/200\n",
            "32/32 [==============================] - 0s 5ms/step - loss: 0.6939 - accuracy: 0.5100\n",
            "Epoch 130/200\n",
            "32/32 [==============================] - 0s 4ms/step - loss: 0.6936 - accuracy: 0.4840\n",
            "Epoch 131/200\n",
            "32/32 [==============================] - 0s 3ms/step - loss: 0.6944 - accuracy: 0.4780\n",
            "Epoch 132/200\n",
            "32/32 [==============================] - 0s 5ms/step - loss: 0.6939 - accuracy: 0.4760\n",
            "Epoch 133/200\n",
            "32/32 [==============================] - 0s 3ms/step - loss: 0.6942 - accuracy: 0.4800\n",
            "Epoch 134/200\n",
            "32/32 [==============================] - 0s 5ms/step - loss: 0.6944 - accuracy: 0.4740\n",
            "Epoch 135/200\n",
            "32/32 [==============================] - 0s 4ms/step - loss: 0.6943 - accuracy: 0.4670\n",
            "Epoch 136/200\n",
            "32/32 [==============================] - 0s 3ms/step - loss: 0.6944 - accuracy: 0.4590\n",
            "Epoch 137/200\n",
            "32/32 [==============================] - 0s 2ms/step - loss: 0.6943 - accuracy: 0.4840\n",
            "Epoch 138/200\n",
            "32/32 [==============================] - 0s 2ms/step - loss: 0.6943 - accuracy: 0.4610\n",
            "Epoch 139/200\n",
            "32/32 [==============================] - 0s 2ms/step - loss: 0.6942 - accuracy: 0.4810\n",
            "Epoch 140/200\n",
            "32/32 [==============================] - 0s 2ms/step - loss: 0.6942 - accuracy: 0.4610\n",
            "Epoch 141/200\n",
            "32/32 [==============================] - 0s 2ms/step - loss: 0.6941 - accuracy: 0.4630\n",
            "Epoch 142/200\n",
            "32/32 [==============================] - 0s 2ms/step - loss: 0.6941 - accuracy: 0.4790\n",
            "Epoch 143/200\n",
            "32/32 [==============================] - 0s 2ms/step - loss: 0.6943 - accuracy: 0.4790\n",
            "Epoch 144/200\n",
            "32/32 [==============================] - 0s 2ms/step - loss: 0.6943 - accuracy: 0.4650\n",
            "Epoch 145/200\n",
            "32/32 [==============================] - 0s 2ms/step - loss: 0.6943 - accuracy: 0.4990\n",
            "Epoch 146/200\n",
            "32/32 [==============================] - 0s 2ms/step - loss: 0.6945 - accuracy: 0.4570\n",
            "Epoch 147/200\n",
            "32/32 [==============================] - 0s 1ms/step - loss: 0.6943 - accuracy: 0.5110\n",
            "Epoch 148/200\n",
            "32/32 [==============================] - 0s 2ms/step - loss: 0.6943 - accuracy: 0.4880\n",
            "Epoch 149/200\n",
            "32/32 [==============================] - 0s 2ms/step - loss: 0.6941 - accuracy: 0.4500\n",
            "Epoch 150/200\n",
            "32/32 [==============================] - 0s 1ms/step - loss: 0.6943 - accuracy: 0.4700\n",
            "Epoch 151/200\n",
            "32/32 [==============================] - 0s 1ms/step - loss: 0.6938 - accuracy: 0.4620\n",
            "Epoch 152/200\n",
            "32/32 [==============================] - 0s 1ms/step - loss: 0.6940 - accuracy: 0.4990\n",
            "Epoch 153/200\n",
            "32/32 [==============================] - 0s 1ms/step - loss: 0.6942 - accuracy: 0.4870\n",
            "Epoch 154/200\n",
            "32/32 [==============================] - 0s 2ms/step - loss: 0.6936 - accuracy: 0.4810\n",
            "Epoch 155/200\n",
            "32/32 [==============================] - 0s 2ms/step - loss: 0.6944 - accuracy: 0.4780\n",
            "Epoch 156/200\n",
            "32/32 [==============================] - 0s 2ms/step - loss: 0.6944 - accuracy: 0.4680\n",
            "Epoch 157/200\n",
            "32/32 [==============================] - 0s 1ms/step - loss: 0.6944 - accuracy: 0.4990\n",
            "Epoch 158/200\n",
            "32/32 [==============================] - 0s 1ms/step - loss: 0.6940 - accuracy: 0.4940\n",
            "Epoch 159/200\n",
            "32/32 [==============================] - 0s 1ms/step - loss: 0.6943 - accuracy: 0.4710\n",
            "Epoch 160/200\n",
            "32/32 [==============================] - 0s 2ms/step - loss: 0.6943 - accuracy: 0.4880\n",
            "Epoch 161/200\n",
            "32/32 [==============================] - 0s 2ms/step - loss: 0.6942 - accuracy: 0.4770\n",
            "Epoch 162/200\n",
            "32/32 [==============================] - 0s 2ms/step - loss: 0.6943 - accuracy: 0.4920\n",
            "Epoch 163/200\n",
            "32/32 [==============================] - 0s 2ms/step - loss: 0.6946 - accuracy: 0.4690\n",
            "Epoch 164/200\n",
            "32/32 [==============================] - 0s 1ms/step - loss: 0.6943 - accuracy: 0.4610\n",
            "Epoch 165/200\n",
            "32/32 [==============================] - 0s 2ms/step - loss: 0.6939 - accuracy: 0.4970\n",
            "Epoch 166/200\n",
            "32/32 [==============================] - 0s 2ms/step - loss: 0.6942 - accuracy: 0.4800\n",
            "Epoch 167/200\n",
            "32/32 [==============================] - 0s 2ms/step - loss: 0.6948 - accuracy: 0.4930\n",
            "Epoch 168/200\n",
            "32/32 [==============================] - 0s 2ms/step - loss: 0.6941 - accuracy: 0.4690\n",
            "Epoch 169/200\n",
            "32/32 [==============================] - 0s 1ms/step - loss: 0.6940 - accuracy: 0.4880\n",
            "Epoch 170/200\n",
            "32/32 [==============================] - 0s 2ms/step - loss: 0.6938 - accuracy: 0.4850\n",
            "Epoch 171/200\n",
            "32/32 [==============================] - 0s 2ms/step - loss: 0.6939 - accuracy: 0.4980\n",
            "Epoch 172/200\n",
            "32/32 [==============================] - 0s 1ms/step - loss: 0.6942 - accuracy: 0.4770\n",
            "Epoch 173/200\n",
            "32/32 [==============================] - 0s 2ms/step - loss: 0.6942 - accuracy: 0.4730\n",
            "Epoch 174/200\n",
            "32/32 [==============================] - 0s 2ms/step - loss: 0.6943 - accuracy: 0.4950\n",
            "Epoch 175/200\n",
            "32/32 [==============================] - 0s 2ms/step - loss: 0.6946 - accuracy: 0.4900\n",
            "Epoch 176/200\n",
            "32/32 [==============================] - 0s 2ms/step - loss: 0.6942 - accuracy: 0.4770\n",
            "Epoch 177/200\n",
            "32/32 [==============================] - 0s 2ms/step - loss: 0.6941 - accuracy: 0.4670\n",
            "Epoch 178/200\n",
            "32/32 [==============================] - 0s 2ms/step - loss: 0.6941 - accuracy: 0.4840\n",
            "Epoch 179/200\n",
            "32/32 [==============================] - 0s 2ms/step - loss: 0.6943 - accuracy: 0.4880\n",
            "Epoch 180/200\n",
            "32/32 [==============================] - 0s 2ms/step - loss: 0.6942 - accuracy: 0.4960\n",
            "Epoch 181/200\n",
            "32/32 [==============================] - 0s 2ms/step - loss: 0.6943 - accuracy: 0.4890\n",
            "Epoch 182/200\n",
            "32/32 [==============================] - 0s 1ms/step - loss: 0.6941 - accuracy: 0.4760\n",
            "Epoch 183/200\n",
            "32/32 [==============================] - 0s 2ms/step - loss: 0.6942 - accuracy: 0.5030\n",
            "Epoch 184/200\n",
            "32/32 [==============================] - 0s 2ms/step - loss: 0.6943 - accuracy: 0.4890\n",
            "Epoch 185/200\n",
            "32/32 [==============================] - 0s 1ms/step - loss: 0.6944 - accuracy: 0.4890\n",
            "Epoch 186/200\n",
            "32/32 [==============================] - 0s 2ms/step - loss: 0.6945 - accuracy: 0.4810\n",
            "Epoch 187/200\n",
            "32/32 [==============================] - 0s 2ms/step - loss: 0.6943 - accuracy: 0.4760\n",
            "Epoch 188/200\n",
            "32/32 [==============================] - 0s 1ms/step - loss: 0.6943 - accuracy: 0.4910\n",
            "Epoch 189/200\n",
            "32/32 [==============================] - 0s 2ms/step - loss: 0.6940 - accuracy: 0.5120\n",
            "Epoch 190/200\n",
            "32/32 [==============================] - 0s 1ms/step - loss: 0.6943 - accuracy: 0.4720\n",
            "Epoch 191/200\n",
            "32/32 [==============================] - 0s 2ms/step - loss: 0.6941 - accuracy: 0.4770\n",
            "Epoch 192/200\n",
            "32/32 [==============================] - 0s 2ms/step - loss: 0.6940 - accuracy: 0.4970\n",
            "Epoch 193/200\n",
            "32/32 [==============================] - 0s 2ms/step - loss: 0.6939 - accuracy: 0.4720\n",
            "Epoch 194/200\n",
            "32/32 [==============================] - 0s 2ms/step - loss: 0.6941 - accuracy: 0.4940\n",
            "Epoch 195/200\n",
            "32/32 [==============================] - 0s 2ms/step - loss: 0.6942 - accuracy: 0.4660\n",
            "Epoch 196/200\n",
            "32/32 [==============================] - 0s 2ms/step - loss: 0.6943 - accuracy: 0.4740\n",
            "Epoch 197/200\n",
            "32/32 [==============================] - 0s 1ms/step - loss: 0.6942 - accuracy: 0.4890\n",
            "Epoch 198/200\n",
            "32/32 [==============================] - 0s 2ms/step - loss: 0.6943 - accuracy: 0.4830\n",
            "Epoch 199/200\n",
            "32/32 [==============================] - 0s 2ms/step - loss: 0.6937 - accuracy: 0.5120\n",
            "Epoch 200/200\n",
            "32/32 [==============================] - 0s 2ms/step - loss: 0.6941 - accuracy: 0.4810\n",
            "32/32 [==============================] - 0s 1ms/step - loss: 0.6935 - accuracy: 0.5000\n"
          ]
        },
        {
          "output_type": "execute_result",
          "data": {
            "text/plain": [
              "[0.6934831142425537, 0.5]"
            ]
          },
          "metadata": {},
          "execution_count": 9
        }
      ]
    },
    {
      "cell_type": "code",
      "source": [
        "#creating the model\n",
        "model_2 = tf.keras.Sequential([\n",
        "  tf.keras.layers.Dense(1),\n",
        "  tf.keras.layers.Dense(1)\n",
        "])\n",
        "\n",
        "#compiling the model\n",
        "model_2.compile(loss=tf.keras.losses.BinaryCrossentropy(),\n",
        "              optimizer=tf.keras.optimizers.SGD(),\n",
        "              metrics=[\"accuracy\"]\n",
        "              )\n",
        "\n",
        "#fit the model\n",
        "model_2.fit(X, y, epochs=100)"
      ],
      "metadata": {
        "id": "Yw8Cuoi7i9fC",
        "outputId": "53e59a9c-66f3-42e4-c3f7-87e0ce1d43a4",
        "colab": {
          "base_uri": "https://localhost:8080/"
        }
      },
      "execution_count": 10,
      "outputs": [
        {
          "output_type": "stream",
          "name": "stdout",
          "text": [
            "Epoch 1/100\n",
            "32/32 [==============================] - 1s 2ms/step - loss: 1.9159 - accuracy: 0.4790\n",
            "Epoch 2/100\n",
            "32/32 [==============================] - 0s 2ms/step - loss: 0.7433 - accuracy: 0.5000\n",
            "Epoch 3/100\n",
            "32/32 [==============================] - 0s 2ms/step - loss: 0.7192 - accuracy: 0.4950\n",
            "Epoch 4/100\n",
            "32/32 [==============================] - 0s 2ms/step - loss: 0.7070 - accuracy: 0.5000\n",
            "Epoch 5/100\n",
            "32/32 [==============================] - 0s 2ms/step - loss: 0.7008 - accuracy: 0.5060\n",
            "Epoch 6/100\n",
            "32/32 [==============================] - 0s 2ms/step - loss: 0.6975 - accuracy: 0.4920\n",
            "Epoch 7/100\n",
            "32/32 [==============================] - 0s 2ms/step - loss: 0.6971 - accuracy: 0.5050\n",
            "Epoch 8/100\n",
            "32/32 [==============================] - 0s 2ms/step - loss: 0.6956 - accuracy: 0.5050\n",
            "Epoch 9/100\n",
            "32/32 [==============================] - 0s 2ms/step - loss: 0.6947 - accuracy: 0.4940\n",
            "Epoch 10/100\n",
            "32/32 [==============================] - 0s 2ms/step - loss: 0.6940 - accuracy: 0.4680\n",
            "Epoch 11/100\n",
            "32/32 [==============================] - 0s 1ms/step - loss: 0.6946 - accuracy: 0.4900\n",
            "Epoch 12/100\n",
            "32/32 [==============================] - 0s 2ms/step - loss: 0.6948 - accuracy: 0.4880\n",
            "Epoch 13/100\n",
            "32/32 [==============================] - 0s 1ms/step - loss: 0.6944 - accuracy: 0.4850\n",
            "Epoch 14/100\n",
            "32/32 [==============================] - 0s 2ms/step - loss: 0.6946 - accuracy: 0.4940\n",
            "Epoch 15/100\n",
            "32/32 [==============================] - 0s 2ms/step - loss: 0.6939 - accuracy: 0.4730\n",
            "Epoch 16/100\n",
            "32/32 [==============================] - 0s 2ms/step - loss: 0.6946 - accuracy: 0.4710\n",
            "Epoch 17/100\n",
            "32/32 [==============================] - 0s 2ms/step - loss: 0.6940 - accuracy: 0.4880\n",
            "Epoch 18/100\n",
            "32/32 [==============================] - 0s 2ms/step - loss: 0.6941 - accuracy: 0.4980\n",
            "Epoch 19/100\n",
            "32/32 [==============================] - 0s 2ms/step - loss: 0.6940 - accuracy: 0.4910\n",
            "Epoch 20/100\n",
            "32/32 [==============================] - 0s 1ms/step - loss: 0.6941 - accuracy: 0.4660\n",
            "Epoch 21/100\n",
            "32/32 [==============================] - 0s 2ms/step - loss: 0.6937 - accuracy: 0.5100\n",
            "Epoch 22/100\n",
            "32/32 [==============================] - 0s 1ms/step - loss: 0.6943 - accuracy: 0.4710\n",
            "Epoch 23/100\n",
            "32/32 [==============================] - 0s 2ms/step - loss: 0.6940 - accuracy: 0.4840\n",
            "Epoch 24/100\n",
            "32/32 [==============================] - 0s 2ms/step - loss: 0.6943 - accuracy: 0.4930\n",
            "Epoch 25/100\n",
            "32/32 [==============================] - 0s 2ms/step - loss: 0.6938 - accuracy: 0.4950\n",
            "Epoch 26/100\n",
            "32/32 [==============================] - 0s 2ms/step - loss: 0.6942 - accuracy: 0.4630\n",
            "Epoch 27/100\n",
            "32/32 [==============================] - 0s 2ms/step - loss: 0.6933 - accuracy: 0.5100\n",
            "Epoch 28/100\n",
            "32/32 [==============================] - 0s 1ms/step - loss: 0.6945 - accuracy: 0.4700\n",
            "Epoch 29/100\n",
            "32/32 [==============================] - 0s 2ms/step - loss: 0.6942 - accuracy: 0.4740\n",
            "Epoch 30/100\n",
            "32/32 [==============================] - 0s 2ms/step - loss: 0.6939 - accuracy: 0.5040\n",
            "Epoch 31/100\n",
            "32/32 [==============================] - 0s 1ms/step - loss: 0.6941 - accuracy: 0.5010\n",
            "Epoch 32/100\n",
            "32/32 [==============================] - 0s 1ms/step - loss: 0.6941 - accuracy: 0.4970\n",
            "Epoch 33/100\n",
            "32/32 [==============================] - 0s 2ms/step - loss: 0.6941 - accuracy: 0.4790\n",
            "Epoch 34/100\n",
            "32/32 [==============================] - 0s 1ms/step - loss: 0.6947 - accuracy: 0.4860\n",
            "Epoch 35/100\n",
            "32/32 [==============================] - 0s 1ms/step - loss: 0.6940 - accuracy: 0.5010\n",
            "Epoch 36/100\n",
            "32/32 [==============================] - 0s 2ms/step - loss: 0.6945 - accuracy: 0.4700\n",
            "Epoch 37/100\n",
            "32/32 [==============================] - 0s 2ms/step - loss: 0.6939 - accuracy: 0.4960\n",
            "Epoch 38/100\n",
            "32/32 [==============================] - 0s 2ms/step - loss: 0.6941 - accuracy: 0.4890\n",
            "Epoch 39/100\n",
            "32/32 [==============================] - 0s 2ms/step - loss: 0.6939 - accuracy: 0.4650\n",
            "Epoch 40/100\n",
            "32/32 [==============================] - 0s 2ms/step - loss: 0.6951 - accuracy: 0.4660\n",
            "Epoch 41/100\n",
            "32/32 [==============================] - 0s 2ms/step - loss: 0.6940 - accuracy: 0.4840\n",
            "Epoch 42/100\n",
            "32/32 [==============================] - 0s 1ms/step - loss: 0.6942 - accuracy: 0.4980\n",
            "Epoch 43/100\n",
            "32/32 [==============================] - 0s 2ms/step - loss: 0.6942 - accuracy: 0.4820\n",
            "Epoch 44/100\n",
            "32/32 [==============================] - 0s 1ms/step - loss: 0.6931 - accuracy: 0.5140\n",
            "Epoch 45/100\n",
            "32/32 [==============================] - 0s 2ms/step - loss: 0.6947 - accuracy: 0.4800\n",
            "Epoch 46/100\n",
            "32/32 [==============================] - 0s 2ms/step - loss: 0.6942 - accuracy: 0.4750\n",
            "Epoch 47/100\n",
            "32/32 [==============================] - 0s 2ms/step - loss: 0.6936 - accuracy: 0.4940\n",
            "Epoch 48/100\n",
            "32/32 [==============================] - 0s 2ms/step - loss: 0.6940 - accuracy: 0.4920\n",
            "Epoch 49/100\n",
            "32/32 [==============================] - 0s 2ms/step - loss: 0.6941 - accuracy: 0.4750\n",
            "Epoch 50/100\n",
            "32/32 [==============================] - 0s 1ms/step - loss: 0.6941 - accuracy: 0.4930\n",
            "Epoch 51/100\n",
            "32/32 [==============================] - 0s 1ms/step - loss: 0.6942 - accuracy: 0.4910\n",
            "Epoch 52/100\n",
            "32/32 [==============================] - 0s 2ms/step - loss: 0.6940 - accuracy: 0.4960\n",
            "Epoch 53/100\n",
            "32/32 [==============================] - 0s 2ms/step - loss: 0.6940 - accuracy: 0.4620\n",
            "Epoch 54/100\n",
            "32/32 [==============================] - 0s 1ms/step - loss: 0.6943 - accuracy: 0.4900\n",
            "Epoch 55/100\n",
            "32/32 [==============================] - 0s 2ms/step - loss: 0.6941 - accuracy: 0.4940\n",
            "Epoch 56/100\n",
            "32/32 [==============================] - 0s 2ms/step - loss: 0.6940 - accuracy: 0.4850\n",
            "Epoch 57/100\n",
            "32/32 [==============================] - 0s 2ms/step - loss: 0.6943 - accuracy: 0.4840\n",
            "Epoch 58/100\n",
            "32/32 [==============================] - 0s 2ms/step - loss: 0.6943 - accuracy: 0.4750\n",
            "Epoch 59/100\n",
            "32/32 [==============================] - 0s 2ms/step - loss: 0.6935 - accuracy: 0.5150\n",
            "Epoch 60/100\n",
            "32/32 [==============================] - 0s 2ms/step - loss: 0.6941 - accuracy: 0.4810\n",
            "Epoch 61/100\n",
            "32/32 [==============================] - 0s 1ms/step - loss: 0.6946 - accuracy: 0.4900\n",
            "Epoch 62/100\n",
            "32/32 [==============================] - 0s 2ms/step - loss: 0.6939 - accuracy: 0.4950\n",
            "Epoch 63/100\n",
            "32/32 [==============================] - 0s 2ms/step - loss: 0.6942 - accuracy: 0.4890\n",
            "Epoch 64/100\n",
            "32/32 [==============================] - 0s 2ms/step - loss: 0.6943 - accuracy: 0.4800\n",
            "Epoch 65/100\n",
            "32/32 [==============================] - 0s 1ms/step - loss: 0.6943 - accuracy: 0.4940\n",
            "Epoch 66/100\n",
            "32/32 [==============================] - 0s 1ms/step - loss: 0.6940 - accuracy: 0.4890\n",
            "Epoch 67/100\n",
            "32/32 [==============================] - 0s 2ms/step - loss: 0.6948 - accuracy: 0.4920\n",
            "Epoch 68/100\n",
            "32/32 [==============================] - 0s 2ms/step - loss: 0.6938 - accuracy: 0.4750\n",
            "Epoch 69/100\n",
            "32/32 [==============================] - 0s 2ms/step - loss: 0.6943 - accuracy: 0.4990\n",
            "Epoch 70/100\n",
            "32/32 [==============================] - 0s 1ms/step - loss: 0.6943 - accuracy: 0.4710\n",
            "Epoch 71/100\n",
            "32/32 [==============================] - 0s 1ms/step - loss: 0.6938 - accuracy: 0.4980\n",
            "Epoch 72/100\n",
            "32/32 [==============================] - 0s 2ms/step - loss: 0.6943 - accuracy: 0.4860\n",
            "Epoch 73/100\n",
            "32/32 [==============================] - 0s 2ms/step - loss: 0.6940 - accuracy: 0.4770\n",
            "Epoch 74/100\n",
            "32/32 [==============================] - 0s 2ms/step - loss: 0.6939 - accuracy: 0.4960\n",
            "Epoch 75/100\n",
            "32/32 [==============================] - 0s 1ms/step - loss: 0.6940 - accuracy: 0.4960\n",
            "Epoch 76/100\n",
            "32/32 [==============================] - 0s 2ms/step - loss: 0.6939 - accuracy: 0.5040\n",
            "Epoch 77/100\n",
            "32/32 [==============================] - 0s 1ms/step - loss: 0.6943 - accuracy: 0.4800\n",
            "Epoch 78/100\n",
            "32/32 [==============================] - 0s 2ms/step - loss: 0.6940 - accuracy: 0.4760\n",
            "Epoch 79/100\n",
            "32/32 [==============================] - 0s 2ms/step - loss: 0.6939 - accuracy: 0.5120\n",
            "Epoch 80/100\n",
            "32/32 [==============================] - 0s 2ms/step - loss: 0.6944 - accuracy: 0.4940\n",
            "Epoch 81/100\n",
            "32/32 [==============================] - 0s 1ms/step - loss: 0.6944 - accuracy: 0.4840\n",
            "Epoch 82/100\n",
            "32/32 [==============================] - 0s 2ms/step - loss: 0.6939 - accuracy: 0.4930\n",
            "Epoch 83/100\n",
            "32/32 [==============================] - 0s 1ms/step - loss: 0.6940 - accuracy: 0.5070\n",
            "Epoch 84/100\n",
            "32/32 [==============================] - 0s 1ms/step - loss: 0.6945 - accuracy: 0.4940\n",
            "Epoch 85/100\n",
            "32/32 [==============================] - 0s 2ms/step - loss: 0.6938 - accuracy: 0.4780\n",
            "Epoch 86/100\n",
            "32/32 [==============================] - 0s 2ms/step - loss: 0.6939 - accuracy: 0.4890\n",
            "Epoch 87/100\n",
            "32/32 [==============================] - 0s 2ms/step - loss: 0.6943 - accuracy: 0.4810\n",
            "Epoch 88/100\n",
            "32/32 [==============================] - 0s 1ms/step - loss: 0.6944 - accuracy: 0.4780\n",
            "Epoch 89/100\n",
            "32/32 [==============================] - 0s 1ms/step - loss: 0.6946 - accuracy: 0.4900\n",
            "Epoch 90/100\n",
            "32/32 [==============================] - 0s 2ms/step - loss: 0.6940 - accuracy: 0.4970\n",
            "Epoch 91/100\n",
            "32/32 [==============================] - 0s 2ms/step - loss: 0.6945 - accuracy: 0.4930\n",
            "Epoch 92/100\n",
            "32/32 [==============================] - 0s 2ms/step - loss: 0.6941 - accuracy: 0.4910\n",
            "Epoch 93/100\n",
            "32/32 [==============================] - 0s 2ms/step - loss: 0.6939 - accuracy: 0.4980\n",
            "Epoch 94/100\n",
            "32/32 [==============================] - 0s 2ms/step - loss: 0.6949 - accuracy: 0.4760\n",
            "Epoch 95/100\n",
            "32/32 [==============================] - 0s 1ms/step - loss: 0.6938 - accuracy: 0.4870\n",
            "Epoch 96/100\n",
            "32/32 [==============================] - 0s 2ms/step - loss: 0.6946 - accuracy: 0.4700\n",
            "Epoch 97/100\n",
            "32/32 [==============================] - 0s 2ms/step - loss: 0.6941 - accuracy: 0.4930\n",
            "Epoch 98/100\n",
            "32/32 [==============================] - 0s 2ms/step - loss: 0.6941 - accuracy: 0.4810\n",
            "Epoch 99/100\n",
            "32/32 [==============================] - 0s 1ms/step - loss: 0.6946 - accuracy: 0.4980\n",
            "Epoch 100/100\n",
            "32/32 [==============================] - 0s 1ms/step - loss: 0.6944 - accuracy: 0.4690\n"
          ]
        },
        {
          "output_type": "execute_result",
          "data": {
            "text/plain": [
              "<keras.callbacks.History at 0x7f08e85e1190>"
            ]
          },
          "metadata": {},
          "execution_count": 10
        }
      ]
    },
    {
      "cell_type": "code",
      "source": [
        "model_2.evaluate(X, y)"
      ],
      "metadata": {
        "id": "53YKYfRmjQTC",
        "outputId": "da9b326f-ed0f-418c-a543-48a027f52187",
        "colab": {
          "base_uri": "https://localhost:8080/"
        }
      },
      "execution_count": 11,
      "outputs": [
        {
          "output_type": "stream",
          "name": "stdout",
          "text": [
            "32/32 [==============================] - 0s 1ms/step - loss: 0.6935 - accuracy: 0.5000\n"
          ]
        },
        {
          "output_type": "execute_result",
          "data": {
            "text/plain": [
              "[0.6934733390808105, 0.5]"
            ]
          },
          "metadata": {},
          "execution_count": 11
        }
      ]
    },
    {
      "cell_type": "markdown",
      "source": [
        "#improving our model"
      ],
      "metadata": {
        "id": "u_jdVbv9jVeU"
      }
    },
    {
      "cell_type": "code",
      "source": [
        "#creating the model\n",
        "model_3 = tf.keras.Sequential([\n",
        "  tf.keras.layers.Dense(100), # add one hundred dense neurons\n",
        "  tf.keras.layers.Dense(10),\n",
        "  tf.keras.layers.Dense(1)\n",
        "])\n",
        "\n",
        "#compiling the model\n",
        "model_3.compile(loss=tf.keras.losses.BinaryCrossentropy(),\n",
        "              optimizer=tf.keras.optimizers.Adam(),\n",
        "              metrics=[\"accuracy\"]\n",
        "              )\n",
        "\n",
        "#fit the model\n",
        "model_3.fit(X, y, epochs=100)"
      ],
      "metadata": {
        "id": "2TxfJL3JfVHi",
        "outputId": "4348940b-a736-44cb-eeb2-be6b0202776d",
        "colab": {
          "base_uri": "https://localhost:8080/"
        }
      },
      "execution_count": 12,
      "outputs": [
        {
          "output_type": "stream",
          "name": "stdout",
          "text": [
            "Epoch 1/100\n",
            "32/32 [==============================] - 1s 2ms/step - loss: 2.3779 - accuracy: 0.4680\n",
            "Epoch 2/100\n",
            "32/32 [==============================] - 0s 2ms/step - loss: 0.7022 - accuracy: 0.4890\n",
            "Epoch 3/100\n",
            "32/32 [==============================] - 0s 2ms/step - loss: 0.6934 - accuracy: 0.5110\n",
            "Epoch 4/100\n",
            "32/32 [==============================] - 0s 2ms/step - loss: 0.6967 - accuracy: 0.4860\n",
            "Epoch 5/100\n",
            "32/32 [==============================] - 0s 2ms/step - loss: 0.6955 - accuracy: 0.4830\n",
            "Epoch 6/100\n",
            "32/32 [==============================] - 0s 2ms/step - loss: 0.6961 - accuracy: 0.4620\n",
            "Epoch 7/100\n",
            "32/32 [==============================] - 0s 2ms/step - loss: 0.6955 - accuracy: 0.5130\n",
            "Epoch 8/100\n",
            "32/32 [==============================] - 0s 2ms/step - loss: 0.6957 - accuracy: 0.5090\n",
            "Epoch 9/100\n",
            "32/32 [==============================] - 0s 2ms/step - loss: 0.6986 - accuracy: 0.4880\n",
            "Epoch 10/100\n",
            "32/32 [==============================] - 0s 2ms/step - loss: 0.6947 - accuracy: 0.4410\n",
            "Epoch 11/100\n",
            "32/32 [==============================] - 0s 2ms/step - loss: 0.7013 - accuracy: 0.4640\n",
            "Epoch 12/100\n",
            "32/32 [==============================] - 0s 2ms/step - loss: 0.6957 - accuracy: 0.4920\n",
            "Epoch 13/100\n",
            "32/32 [==============================] - 0s 2ms/step - loss: 0.6979 - accuracy: 0.4900\n",
            "Epoch 14/100\n",
            "32/32 [==============================] - 0s 2ms/step - loss: 0.6956 - accuracy: 0.5030\n",
            "Epoch 15/100\n",
            "32/32 [==============================] - 0s 2ms/step - loss: 0.6976 - accuracy: 0.4680\n",
            "Epoch 16/100\n",
            "32/32 [==============================] - 0s 2ms/step - loss: 0.6950 - accuracy: 0.4990\n",
            "Epoch 17/100\n",
            "32/32 [==============================] - 0s 2ms/step - loss: 0.7022 - accuracy: 0.4900\n",
            "Epoch 18/100\n",
            "32/32 [==============================] - 0s 2ms/step - loss: 0.6960 - accuracy: 0.4650\n",
            "Epoch 19/100\n",
            "32/32 [==============================] - 0s 2ms/step - loss: 0.6974 - accuracy: 0.5130\n",
            "Epoch 20/100\n",
            "32/32 [==============================] - 0s 2ms/step - loss: 0.6989 - accuracy: 0.4770\n",
            "Epoch 21/100\n",
            "32/32 [==============================] - 0s 2ms/step - loss: 0.6984 - accuracy: 0.4910\n",
            "Epoch 22/100\n",
            "32/32 [==============================] - 0s 3ms/step - loss: 0.6968 - accuracy: 0.4680\n",
            "Epoch 23/100\n",
            "32/32 [==============================] - 0s 2ms/step - loss: 0.6958 - accuracy: 0.5180\n",
            "Epoch 24/100\n",
            "32/32 [==============================] - 0s 2ms/step - loss: 0.6977 - accuracy: 0.4750\n",
            "Epoch 25/100\n",
            "32/32 [==============================] - 0s 2ms/step - loss: 0.7017 - accuracy: 0.5040\n",
            "Epoch 26/100\n",
            "32/32 [==============================] - 0s 2ms/step - loss: 0.6977 - accuracy: 0.4990\n",
            "Epoch 27/100\n",
            "32/32 [==============================] - 0s 2ms/step - loss: 0.6986 - accuracy: 0.5140\n",
            "Epoch 28/100\n",
            "32/32 [==============================] - 0s 2ms/step - loss: 0.6980 - accuracy: 0.4850\n",
            "Epoch 29/100\n",
            "32/32 [==============================] - 0s 2ms/step - loss: 0.7000 - accuracy: 0.5030\n",
            "Epoch 30/100\n",
            "32/32 [==============================] - 0s 2ms/step - loss: 0.7092 - accuracy: 0.4900\n",
            "Epoch 31/100\n",
            "32/32 [==============================] - 0s 2ms/step - loss: 0.6941 - accuracy: 0.5320\n",
            "Epoch 32/100\n",
            "32/32 [==============================] - 0s 3ms/step - loss: 0.6976 - accuracy: 0.4680\n",
            "Epoch 33/100\n",
            "32/32 [==============================] - 0s 2ms/step - loss: 0.6984 - accuracy: 0.4720\n",
            "Epoch 34/100\n",
            "32/32 [==============================] - 0s 2ms/step - loss: 0.7020 - accuracy: 0.4790\n",
            "Epoch 35/100\n",
            "32/32 [==============================] - 0s 2ms/step - loss: 0.6975 - accuracy: 0.4970\n",
            "Epoch 36/100\n",
            "32/32 [==============================] - 0s 2ms/step - loss: 0.6957 - accuracy: 0.4960\n",
            "Epoch 37/100\n",
            "32/32 [==============================] - 0s 2ms/step - loss: 0.6967 - accuracy: 0.4870\n",
            "Epoch 38/100\n",
            "32/32 [==============================] - 0s 2ms/step - loss: 0.6994 - accuracy: 0.4910\n",
            "Epoch 39/100\n",
            "32/32 [==============================] - 0s 2ms/step - loss: 0.7003 - accuracy: 0.4600\n",
            "Epoch 40/100\n",
            "32/32 [==============================] - 0s 2ms/step - loss: 0.6974 - accuracy: 0.5080\n",
            "Epoch 41/100\n",
            "32/32 [==============================] - 0s 2ms/step - loss: 0.6983 - accuracy: 0.5100\n",
            "Epoch 42/100\n",
            "32/32 [==============================] - 0s 2ms/step - loss: 0.7037 - accuracy: 0.4920\n",
            "Epoch 43/100\n",
            "32/32 [==============================] - 0s 2ms/step - loss: 0.6965 - accuracy: 0.5130\n",
            "Epoch 44/100\n",
            "32/32 [==============================] - 0s 2ms/step - loss: 0.6982 - accuracy: 0.4880\n",
            "Epoch 45/100\n",
            "32/32 [==============================] - 0s 2ms/step - loss: 0.7028 - accuracy: 0.5040\n",
            "Epoch 46/100\n",
            "32/32 [==============================] - 0s 2ms/step - loss: 0.6958 - accuracy: 0.4630\n",
            "Epoch 47/100\n",
            "32/32 [==============================] - 0s 2ms/step - loss: 0.6982 - accuracy: 0.5010\n",
            "Epoch 48/100\n",
            "32/32 [==============================] - 0s 2ms/step - loss: 0.6996 - accuracy: 0.5020\n",
            "Epoch 49/100\n",
            "32/32 [==============================] - 0s 2ms/step - loss: 0.6984 - accuracy: 0.4910\n",
            "Epoch 50/100\n",
            "32/32 [==============================] - 0s 2ms/step - loss: 0.7009 - accuracy: 0.4670\n",
            "Epoch 51/100\n",
            "32/32 [==============================] - 0s 2ms/step - loss: 0.7027 - accuracy: 0.4930\n",
            "Epoch 52/100\n",
            "32/32 [==============================] - 0s 2ms/step - loss: 0.6976 - accuracy: 0.4880\n",
            "Epoch 53/100\n",
            "32/32 [==============================] - 0s 2ms/step - loss: 0.6965 - accuracy: 0.4950\n",
            "Epoch 54/100\n",
            "32/32 [==============================] - 0s 2ms/step - loss: 0.7028 - accuracy: 0.4890\n",
            "Epoch 55/100\n",
            "32/32 [==============================] - 0s 2ms/step - loss: 0.6975 - accuracy: 0.5040\n",
            "Epoch 56/100\n",
            "32/32 [==============================] - 0s 2ms/step - loss: 0.6974 - accuracy: 0.5030\n",
            "Epoch 57/100\n",
            "32/32 [==============================] - 0s 2ms/step - loss: 0.6992 - accuracy: 0.4600\n",
            "Epoch 58/100\n",
            "32/32 [==============================] - 0s 2ms/step - loss: 0.6990 - accuracy: 0.4780\n",
            "Epoch 59/100\n",
            "32/32 [==============================] - 0s 2ms/step - loss: 0.7035 - accuracy: 0.4850\n",
            "Epoch 60/100\n",
            "32/32 [==============================] - 0s 2ms/step - loss: 0.7029 - accuracy: 0.4970\n",
            "Epoch 61/100\n",
            "32/32 [==============================] - 0s 2ms/step - loss: 0.7017 - accuracy: 0.4870\n",
            "Epoch 62/100\n",
            "32/32 [==============================] - 0s 2ms/step - loss: 0.6966 - accuracy: 0.4910\n",
            "Epoch 63/100\n",
            "32/32 [==============================] - 0s 2ms/step - loss: 0.6951 - accuracy: 0.4660\n",
            "Epoch 64/100\n",
            "32/32 [==============================] - 0s 2ms/step - loss: 0.6958 - accuracy: 0.5020\n",
            "Epoch 65/100\n",
            "32/32 [==============================] - 0s 2ms/step - loss: 0.7009 - accuracy: 0.4930\n",
            "Epoch 66/100\n",
            "32/32 [==============================] - 0s 2ms/step - loss: 0.6978 - accuracy: 0.4980\n",
            "Epoch 67/100\n",
            "32/32 [==============================] - 0s 2ms/step - loss: 0.6996 - accuracy: 0.4570\n",
            "Epoch 68/100\n",
            "32/32 [==============================] - 0s 2ms/step - loss: 0.6957 - accuracy: 0.5020\n",
            "Epoch 69/100\n",
            "32/32 [==============================] - 0s 2ms/step - loss: 0.6970 - accuracy: 0.5100\n",
            "Epoch 70/100\n",
            "32/32 [==============================] - 0s 2ms/step - loss: 0.6992 - accuracy: 0.4890\n",
            "Epoch 71/100\n",
            "32/32 [==============================] - 0s 2ms/step - loss: 0.7002 - accuracy: 0.4530\n",
            "Epoch 72/100\n",
            "32/32 [==============================] - 0s 2ms/step - loss: 0.6982 - accuracy: 0.4940\n",
            "Epoch 73/100\n",
            "32/32 [==============================] - 0s 2ms/step - loss: 0.6964 - accuracy: 0.5210\n",
            "Epoch 74/100\n",
            "32/32 [==============================] - 0s 2ms/step - loss: 0.6969 - accuracy: 0.5100\n",
            "Epoch 75/100\n",
            "32/32 [==============================] - 0s 2ms/step - loss: 0.6967 - accuracy: 0.5190\n",
            "Epoch 76/100\n",
            "32/32 [==============================] - 0s 2ms/step - loss: 0.6976 - accuracy: 0.4860\n",
            "Epoch 77/100\n",
            "32/32 [==============================] - 0s 2ms/step - loss: 0.6982 - accuracy: 0.4990\n",
            "Epoch 78/100\n",
            "32/32 [==============================] - 0s 2ms/step - loss: 0.6980 - accuracy: 0.4790\n",
            "Epoch 79/100\n",
            "32/32 [==============================] - 0s 2ms/step - loss: 0.7022 - accuracy: 0.4930\n",
            "Epoch 80/100\n",
            "32/32 [==============================] - 0s 2ms/step - loss: 0.7011 - accuracy: 0.4890\n",
            "Epoch 81/100\n",
            "32/32 [==============================] - 0s 2ms/step - loss: 0.6986 - accuracy: 0.5060\n",
            "Epoch 82/100\n",
            "32/32 [==============================] - 0s 2ms/step - loss: 0.6976 - accuracy: 0.4940\n",
            "Epoch 83/100\n",
            "32/32 [==============================] - 0s 2ms/step - loss: 0.7011 - accuracy: 0.4620\n",
            "Epoch 84/100\n",
            "32/32 [==============================] - 0s 2ms/step - loss: 0.6973 - accuracy: 0.5200\n",
            "Epoch 85/100\n",
            "32/32 [==============================] - 0s 2ms/step - loss: 0.6969 - accuracy: 0.4680\n",
            "Epoch 86/100\n",
            "32/32 [==============================] - 0s 2ms/step - loss: 0.7016 - accuracy: 0.4870\n",
            "Epoch 87/100\n",
            "32/32 [==============================] - 0s 2ms/step - loss: 0.6981 - accuracy: 0.4640\n",
            "Epoch 88/100\n",
            "32/32 [==============================] - 0s 2ms/step - loss: 0.6983 - accuracy: 0.4660\n",
            "Epoch 89/100\n",
            "32/32 [==============================] - 0s 2ms/step - loss: 0.6980 - accuracy: 0.4740\n",
            "Epoch 90/100\n",
            "32/32 [==============================] - 0s 2ms/step - loss: 0.6983 - accuracy: 0.4900\n",
            "Epoch 91/100\n",
            "32/32 [==============================] - 0s 2ms/step - loss: 0.7004 - accuracy: 0.4980\n",
            "Epoch 92/100\n",
            "32/32 [==============================] - 0s 2ms/step - loss: 0.6987 - accuracy: 0.4870\n",
            "Epoch 93/100\n",
            "32/32 [==============================] - 0s 2ms/step - loss: 0.6981 - accuracy: 0.4760\n",
            "Epoch 94/100\n",
            "32/32 [==============================] - 0s 2ms/step - loss: 0.7008 - accuracy: 0.4940\n",
            "Epoch 95/100\n",
            "32/32 [==============================] - 0s 2ms/step - loss: 0.6976 - accuracy: 0.4590\n",
            "Epoch 96/100\n",
            "32/32 [==============================] - 0s 2ms/step - loss: 0.6986 - accuracy: 0.4770\n",
            "Epoch 97/100\n",
            "32/32 [==============================] - 0s 2ms/step - loss: 0.6977 - accuracy: 0.4560\n",
            "Epoch 98/100\n",
            "32/32 [==============================] - 0s 2ms/step - loss: 0.7002 - accuracy: 0.4850\n",
            "Epoch 99/100\n",
            "32/32 [==============================] - 0s 2ms/step - loss: 0.6980 - accuracy: 0.5070\n",
            "Epoch 100/100\n",
            "32/32 [==============================] - 0s 2ms/step - loss: 0.6963 - accuracy: 0.4930\n"
          ]
        },
        {
          "output_type": "execute_result",
          "data": {
            "text/plain": [
              "<keras.callbacks.History at 0x7f08e84cf050>"
            ]
          },
          "metadata": {},
          "execution_count": 12
        }
      ]
    },
    {
      "cell_type": "code",
      "source": [
        "from sklearn.model_selection import train_test_split\n",
        "X_train, y_train, X_test, y_test = train_test_split(X, y, test_size=0.3, random_state=32)"
      ],
      "metadata": {
        "id": "8C8fKiV_gWTy"
      },
      "execution_count": 13,
      "outputs": []
    },
    {
      "cell_type": "markdown",
      "source": [
        "#Visualizing our models prediciotns using plot decision boundary"
      ],
      "metadata": {
        "id": "hzm3zSy6gu3_"
      }
    },
    {
      "cell_type": "code",
      "source": [
        "import numpy as np\n",
        "\n",
        "\n"
      ],
      "metadata": {
        "id": "h93gxoCNhAO4"
      },
      "execution_count": 14,
      "outputs": []
    },
    {
      "cell_type": "code",
      "source": [
        "def plot_decision_boundary(model, X, y):\n",
        "  #plots decision boundary by a model prediciotn on X\n",
        "  x_min, x_max = X[:, 0].min() - 0.1, X[:, 0].max() + 1.0\n",
        "  y_min, y_max = X[:, 1].min() - 0.1, X[:, 1].max() + 1.0\n",
        "  xx, yy = np.meshgrid(np.linspace(x_min, x_max, 100),\n",
        "                       np.linspace(y_min, y_max, 100))\n",
        "  \n",
        "  #create X values\n",
        "  x_in = np.c_[xx.ravel(), yy.ravel()]\n",
        "\n",
        "  #make predicitions\n",
        "  y_pred = model.predict(x_in)\n",
        "\n",
        "  #Check for multiclass\n",
        "  if(len(y_pred) > 1):\n",
        "    print(\"doing multiclass \")\n",
        "    y_pred = np.argmax(y_pred, axis=1).reshape(xx.shape)\n",
        "\n",
        "  else:\n",
        "    y_pred = np.round(y_pred).reshape(xx.shape)\n",
        "  \n",
        "  plt.contour(xx, yy, y_pred, cmap=plt.cm.RdYlBu, alpha=0.7)\n",
        "  plt.scatter(X[:, 0], X[:, 1], c=y, s=40, cmap=plt.cm.RdYlBu)\n",
        "  plt.xlim(xx.min(), xx.max())\n",
        "  plt.ylim(yy.min(), yy.max())"
      ],
      "metadata": {
        "id": "P91oSHAwhmyX"
      },
      "execution_count": 15,
      "outputs": []
    },
    {
      "cell_type": "code",
      "source": [
        "plot_decision_boundary(model=model_2, X=X, y=y)"
      ],
      "metadata": {
        "id": "v4pWTRVahsmM",
        "outputId": "770692a7-3618-4a9e-ff8c-961fe4a95baf",
        "colab": {
          "base_uri": "https://localhost:8080/",
          "height": 303
        }
      },
      "execution_count": 16,
      "outputs": [
        {
          "output_type": "stream",
          "name": "stdout",
          "text": [
            "doing multiclass \n"
          ]
        },
        {
          "output_type": "stream",
          "name": "stderr",
          "text": [
            "/usr/local/lib/python3.7/dist-packages/ipykernel_launcher.py:22: UserWarning: No contour levels were found within the data range.\n"
          ]
        },
        {
          "output_type": "display_data",
          "data": {
            "text/plain": [
              "<Figure size 432x288 with 1 Axes>"
            ],
            "image/png": "[encoded data removed]"
          },
          "metadata": {
            "needs_background": "light"
          }
        }
      ]
    },
    {
      "cell_type": "code",
      "source": [
        "#creating regression data\n",
        "X_regression = tf.range(0, 1000, 5)\n",
        "y_regression = tf.range(100, 1100, 5) # y = X + 100\n",
        "\n",
        "X_regression, y_regression"
      ],
      "metadata": {
        "id": "bFuoc5_gimFo",
        "outputId": "f12d4a6f-d9b8-43fb-e05e-3f953fc2437e",
        "colab": {
          "base_uri": "https://localhost:8080/"
        }
      },
      "execution_count": 17,
      "outputs": [
        {
          "output_type": "execute_result",
          "data": {
            "text/plain": [
              "(<tf.Tensor: shape=(200,), dtype=int32, numpy=\n",
              " array([  0,   5,  10,  15,  20,  25,  30,  35,  40,  45,  50,  55,  60,\n",
              "         65,  70,  75,  80,  85,  90,  95, 100, 105, 110, 115, 120, 125,\n",
              "        130, 135, 140, 145, 150, 155, 160, 165, 170, 175, 180, 185, 190,\n",
              "        195, 200, 205, 210, 215, 220, 225, 230, 235, 240, 245, 250, 255,\n",
              "        260, 265, 270, 275, 280, 285, 290, 295, 300, 305, 310, 315, 320,\n",
              "        325, 330, 335, 340, 345, 350, 355, 360, 365, 370, 375, 380, 385,\n",
              "        390, 395, 400, 405, 410, 415, 420, 425, 430, 435, 440, 445, 450,\n",
              "        455, 460, 465, 470, 475, 480, 485, 490, 495, 500, 505, 510, 515,\n",
              "        520, 525, 530, 535, 540, 545, 550, 555, 560, 565, 570, 575, 580,\n",
              "        585, 590, 595, 600, 605, 610, 615, 620, 625, 630, 635, 640, 645,\n",
              "        650, 655, 660, 665, 670, 675, 680, 685, 690, 695, 700, 705, 710,\n",
              "        715, 720, 725, 730, 735, 740, 745, 750, 755, 760, 765, 770, 775,\n",
              "        780, 785, 790, 795, 800, 805, 810, 815, 820, 825, 830, 835, 840,\n",
              "        845, 850, 855, 860, 865, 870, 875, 880, 885, 890, 895, 900, 905,\n",
              "        910, 915, 920, 925, 930, 935, 940, 945, 950, 955, 960, 965, 970,\n",
              "        975, 980, 985, 990, 995], dtype=int32)>,\n",
              " <tf.Tensor: shape=(200,), dtype=int32, numpy=\n",
              " array([ 100,  105,  110,  115,  120,  125,  130,  135,  140,  145,  150,\n",
              "         155,  160,  165,  170,  175,  180,  185,  190,  195,  200,  205,\n",
              "         210,  215,  220,  225,  230,  235,  240,  245,  250,  255,  260,\n",
              "         265,  270,  275,  280,  285,  290,  295,  300,  305,  310,  315,\n",
              "         320,  325,  330,  335,  340,  345,  350,  355,  360,  365,  370,\n",
              "         375,  380,  385,  390,  395,  400,  405,  410,  415,  420,  425,\n",
              "         430,  435,  440,  445,  450,  455,  460,  465,  470,  475,  480,\n",
              "         485,  490,  495,  500,  505,  510,  515,  520,  525,  530,  535,\n",
              "         540,  545,  550,  555,  560,  565,  570,  575,  580,  585,  590,\n",
              "         595,  600,  605,  610,  615,  620,  625,  630,  635,  640,  645,\n",
              "         650,  655,  660,  665,  670,  675,  680,  685,  690,  695,  700,\n",
              "         705,  710,  715,  720,  725,  730,  735,  740,  745,  750,  755,\n",
              "         760,  765,  770,  775,  780,  785,  790,  795,  800,  805,  810,\n",
              "         815,  820,  825,  830,  835,  840,  845,  850,  855,  860,  865,\n",
              "         870,  875,  880,  885,  890,  895,  900,  905,  910,  915,  920,\n",
              "         925,  930,  935,  940,  945,  950,  955,  960,  965,  970,  975,\n",
              "         980,  985,  990,  995, 1000, 1005, 1010, 1015, 1020, 1025, 1030,\n",
              "        1035, 1040, 1045, 1050, 1055, 1060, 1065, 1070, 1075, 1080, 1085,\n",
              "        1090, 1095], dtype=int32)>)"
            ]
          },
          "metadata": {},
          "execution_count": 17
        }
      ]
    },
    {
      "cell_type": "markdown",
      "source": [
        "##Exploring Non-linearity"
      ],
      "metadata": {
        "id": "gRRI8G_JkOJs"
      }
    },
    {
      "cell_type": "code",
      "source": [
        "tf.random.set_seed(42)\n",
        "\n",
        "model_4 = tf.keras.Sequential([\n",
        "  tf.keras.layers.Dense(1, activation=tf.keras.activations.linear),\n",
        "])\n",
        "\n",
        "model_4.compile(loss=tf.keras.losses.binary_crossentropy,\n",
        "                optimizer=tf.keras.optimizers.Adam(lr=0.001),\n",
        "                metrics=[\"accuracy\"])\n",
        "\n",
        "history = model_4.fit(X, y, epochs=100)"
      ],
      "metadata": {
        "id": "j_Oo_1JUkU3O",
        "outputId": "bda08951-070f-48a3-ff20-55d7074b7a0e",
        "colab": {
          "base_uri": "https://localhost:8080/"
        }
      },
      "execution_count": 18,
      "outputs": [
        {
          "output_type": "stream",
          "name": "stdout",
          "text": [
            "Epoch 1/100\n"
          ]
        },
        {
          "output_type": "stream",
          "name": "stderr",
          "text": [
            "/usr/local/lib/python3.7/dist-packages/keras/optimizer_v2/adam.py:105: UserWarning: The `lr` argument is deprecated, use `learning_rate` instead.\n",
            "  super(Adam, self).__init__(name, **kwargs)\n"
          ]
        },
        {
          "output_type": "stream",
          "name": "stdout",
          "text": [
            "32/32 [==============================] - 0s 1ms/step - loss: 4.2979 - accuracy: 0.4670\n",
            "Epoch 2/100\n",
            "32/32 [==============================] - 0s 1ms/step - loss: 4.2317 - accuracy: 0.4400\n",
            "Epoch 3/100\n",
            "32/32 [==============================] - 0s 2ms/step - loss: 4.1610 - accuracy: 0.4310\n",
            "Epoch 4/100\n",
            "32/32 [==============================] - 0s 2ms/step - loss: 4.1183 - accuracy: 0.4270\n",
            "Epoch 5/100\n",
            "32/32 [==============================] - 0s 2ms/step - loss: 4.0784 - accuracy: 0.4240\n",
            "Epoch 6/100\n",
            "32/32 [==============================] - 0s 2ms/step - loss: 3.9604 - accuracy: 0.4170\n",
            "Epoch 7/100\n",
            "32/32 [==============================] - 0s 2ms/step - loss: 3.8936 - accuracy: 0.4110\n",
            "Epoch 8/100\n",
            "32/32 [==============================] - 0s 2ms/step - loss: 3.7818 - accuracy: 0.4140\n",
            "Epoch 9/100\n",
            "32/32 [==============================] - 0s 2ms/step - loss: 3.7564 - accuracy: 0.4140\n",
            "Epoch 10/100\n",
            "32/32 [==============================] - 0s 2ms/step - loss: 3.7547 - accuracy: 0.4150\n",
            "Epoch 11/100\n",
            "32/32 [==============================] - 0s 2ms/step - loss: 3.7537 - accuracy: 0.4140\n",
            "Epoch 12/100\n",
            "32/32 [==============================] - 0s 2ms/step - loss: 3.7526 - accuracy: 0.4140\n",
            "Epoch 13/100\n",
            "32/32 [==============================] - 0s 2ms/step - loss: 3.7518 - accuracy: 0.4140\n",
            "Epoch 14/100\n",
            "32/32 [==============================] - 0s 2ms/step - loss: 3.7510 - accuracy: 0.4140\n",
            "Epoch 15/100\n",
            "32/32 [==============================] - 0s 2ms/step - loss: 3.7503 - accuracy: 0.4130\n",
            "Epoch 16/100\n",
            "32/32 [==============================] - 0s 2ms/step - loss: 3.7497 - accuracy: 0.4130\n",
            "Epoch 17/100\n",
            "32/32 [==============================] - 0s 1ms/step - loss: 3.7490 - accuracy: 0.4130\n",
            "Epoch 18/100\n",
            "32/32 [==============================] - 0s 2ms/step - loss: 3.7484 - accuracy: 0.4130\n",
            "Epoch 19/100\n",
            "32/32 [==============================] - 0s 2ms/step - loss: 3.7478 - accuracy: 0.4120\n",
            "Epoch 20/100\n",
            "32/32 [==============================] - 0s 2ms/step - loss: 3.7472 - accuracy: 0.4120\n",
            "Epoch 21/100\n",
            "32/32 [==============================] - 0s 2ms/step - loss: 3.7466 - accuracy: 0.4110\n",
            "Epoch 22/100\n",
            "32/32 [==============================] - 0s 2ms/step - loss: 3.7461 - accuracy: 0.4110\n",
            "Epoch 23/100\n",
            "32/32 [==============================] - 0s 1ms/step - loss: 3.7455 - accuracy: 0.4110\n",
            "Epoch 24/100\n",
            "32/32 [==============================] - 0s 2ms/step - loss: 3.7450 - accuracy: 0.4110\n",
            "Epoch 25/100\n",
            "32/32 [==============================] - 0s 1ms/step - loss: 3.7366 - accuracy: 0.4120\n",
            "Epoch 26/100\n",
            "32/32 [==============================] - 0s 2ms/step - loss: 3.7256 - accuracy: 0.4120\n",
            "Epoch 27/100\n",
            "32/32 [==============================] - 0s 2ms/step - loss: 3.7230 - accuracy: 0.4140\n",
            "Epoch 28/100\n",
            "32/32 [==============================] - 0s 2ms/step - loss: 3.7215 - accuracy: 0.4140\n",
            "Epoch 29/100\n",
            "32/32 [==============================] - 0s 2ms/step - loss: 3.7204 - accuracy: 0.4150\n",
            "Epoch 30/100\n",
            "32/32 [==============================] - 0s 2ms/step - loss: 3.7196 - accuracy: 0.4160\n",
            "Epoch 31/100\n",
            "32/32 [==============================] - 0s 2ms/step - loss: 3.7188 - accuracy: 0.4170\n",
            "Epoch 32/100\n",
            "32/32 [==============================] - 0s 2ms/step - loss: 3.7181 - accuracy: 0.4170\n",
            "Epoch 33/100\n",
            "32/32 [==============================] - 0s 2ms/step - loss: 3.7174 - accuracy: 0.4170\n",
            "Epoch 34/100\n",
            "32/32 [==============================] - 0s 2ms/step - loss: 3.7167 - accuracy: 0.4170\n",
            "Epoch 35/100\n",
            "32/32 [==============================] - 0s 2ms/step - loss: 3.7161 - accuracy: 0.4160\n",
            "Epoch 36/100\n",
            "32/32 [==============================] - 0s 2ms/step - loss: 3.7153 - accuracy: 0.4150\n",
            "Epoch 37/100\n",
            "32/32 [==============================] - 0s 2ms/step - loss: 3.7147 - accuracy: 0.4150\n",
            "Epoch 38/100\n",
            "32/32 [==============================] - 0s 1ms/step - loss: 3.7141 - accuracy: 0.4150\n",
            "Epoch 39/100\n",
            "32/32 [==============================] - 0s 2ms/step - loss: 3.7135 - accuracy: 0.4150\n",
            "Epoch 40/100\n",
            "32/32 [==============================] - 0s 2ms/step - loss: 3.7129 - accuracy: 0.4150\n",
            "Epoch 41/100\n",
            "32/32 [==============================] - 0s 2ms/step - loss: 3.7123 - accuracy: 0.4150\n",
            "Epoch 42/100\n",
            "32/32 [==============================] - 0s 2ms/step - loss: 3.7118 - accuracy: 0.4160\n",
            "Epoch 43/100\n",
            "32/32 [==============================] - 0s 2ms/step - loss: 3.7112 - accuracy: 0.4160\n",
            "Epoch 44/100\n",
            "32/32 [==============================] - 0s 2ms/step - loss: 3.7107 - accuracy: 0.4160\n",
            "Epoch 45/100\n",
            "32/32 [==============================] - 0s 1ms/step - loss: 3.7101 - accuracy: 0.4150\n",
            "Epoch 46/100\n",
            "32/32 [==============================] - 0s 2ms/step - loss: 3.7096 - accuracy: 0.4170\n",
            "Epoch 47/100\n",
            "32/32 [==============================] - 0s 2ms/step - loss: 3.7091 - accuracy: 0.4170\n",
            "Epoch 48/100\n",
            "32/32 [==============================] - 0s 2ms/step - loss: 3.7014 - accuracy: 0.4170\n",
            "Epoch 49/100\n",
            "32/32 [==============================] - 0s 2ms/step - loss: 3.6892 - accuracy: 0.4190\n",
            "Epoch 50/100\n",
            "32/32 [==============================] - 0s 2ms/step - loss: 3.6856 - accuracy: 0.4190\n",
            "Epoch 51/100\n",
            "32/32 [==============================] - 0s 2ms/step - loss: 3.6846 - accuracy: 0.4190\n",
            "Epoch 52/100\n",
            "32/32 [==============================] - 0s 2ms/step - loss: 3.6837 - accuracy: 0.4190\n",
            "Epoch 53/100\n",
            "32/32 [==============================] - 0s 2ms/step - loss: 3.6829 - accuracy: 0.4190\n",
            "Epoch 54/100\n",
            "32/32 [==============================] - 0s 2ms/step - loss: 3.6821 - accuracy: 0.4190\n",
            "Epoch 55/100\n",
            "32/32 [==============================] - 0s 2ms/step - loss: 3.6814 - accuracy: 0.4190\n",
            "Epoch 56/100\n",
            "32/32 [==============================] - 0s 2ms/step - loss: 3.6807 - accuracy: 0.4200\n",
            "Epoch 57/100\n",
            "32/32 [==============================] - 0s 2ms/step - loss: 3.6727 - accuracy: 0.4210\n",
            "Epoch 58/100\n",
            "32/32 [==============================] - 0s 1ms/step - loss: 3.6690 - accuracy: 0.4190\n",
            "Epoch 59/100\n",
            "32/32 [==============================] - 0s 1ms/step - loss: 3.6677 - accuracy: 0.4190\n",
            "Epoch 60/100\n",
            "32/32 [==============================] - 0s 2ms/step - loss: 3.6585 - accuracy: 0.4190\n",
            "Epoch 61/100\n",
            "32/32 [==============================] - 0s 2ms/step - loss: 3.6489 - accuracy: 0.4200\n",
            "Epoch 62/100\n",
            "32/32 [==============================] - 0s 2ms/step - loss: 3.6330 - accuracy: 0.4190\n",
            "Epoch 63/100\n",
            "32/32 [==============================] - 0s 1ms/step - loss: 3.6282 - accuracy: 0.4200\n",
            "Epoch 64/100\n",
            "32/32 [==============================] - 0s 2ms/step - loss: 3.6162 - accuracy: 0.4220\n",
            "Epoch 65/100\n",
            "32/32 [==============================] - 0s 1ms/step - loss: 3.6062 - accuracy: 0.4240\n",
            "Epoch 66/100\n",
            "32/32 [==============================] - 0s 2ms/step - loss: 3.6031 - accuracy: 0.4260\n",
            "Epoch 67/100\n",
            "32/32 [==============================] - 0s 2ms/step - loss: 3.6012 - accuracy: 0.4280\n",
            "Epoch 68/100\n",
            "32/32 [==============================] - 0s 1ms/step - loss: 3.5999 - accuracy: 0.4280\n",
            "Epoch 69/100\n",
            "32/32 [==============================] - 0s 1ms/step - loss: 3.5904 - accuracy: 0.4290\n",
            "Epoch 70/100\n",
            "32/32 [==============================] - 0s 1ms/step - loss: 3.5858 - accuracy: 0.4300\n",
            "Epoch 71/100\n",
            "32/32 [==============================] - 0s 2ms/step - loss: 3.5846 - accuracy: 0.4300\n",
            "Epoch 72/100\n",
            "32/32 [==============================] - 0s 2ms/step - loss: 3.5836 - accuracy: 0.4300\n",
            "Epoch 73/100\n",
            "32/32 [==============================] - 0s 1ms/step - loss: 3.5826 - accuracy: 0.4310\n",
            "Epoch 74/100\n",
            "32/32 [==============================] - 0s 1ms/step - loss: 3.5817 - accuracy: 0.4330\n",
            "Epoch 75/100\n",
            "32/32 [==============================] - 0s 2ms/step - loss: 3.5656 - accuracy: 0.4360\n",
            "Epoch 76/100\n",
            "32/32 [==============================] - 0s 2ms/step - loss: 3.5355 - accuracy: 0.4410\n",
            "Epoch 77/100\n",
            "32/32 [==============================] - 0s 2ms/step - loss: 3.5335 - accuracy: 0.4410\n",
            "Epoch 78/100\n",
            "32/32 [==============================] - 0s 2ms/step - loss: 3.5319 - accuracy: 0.4420\n",
            "Epoch 79/100\n",
            "32/32 [==============================] - 0s 2ms/step - loss: 3.5306 - accuracy: 0.4420\n",
            "Epoch 80/100\n",
            "32/32 [==============================] - 0s 1ms/step - loss: 3.5208 - accuracy: 0.4420\n",
            "Epoch 81/100\n",
            "32/32 [==============================] - 0s 1ms/step - loss: 3.5172 - accuracy: 0.4420\n",
            "Epoch 82/100\n",
            "32/32 [==============================] - 0s 2ms/step - loss: 3.5157 - accuracy: 0.4430\n",
            "Epoch 83/100\n",
            "32/32 [==============================] - 0s 2ms/step - loss: 3.5144 - accuracy: 0.4450\n",
            "Epoch 84/100\n",
            "32/32 [==============================] - 0s 2ms/step - loss: 3.5132 - accuracy: 0.4450\n",
            "Epoch 85/100\n",
            "32/32 [==============================] - 0s 2ms/step - loss: 3.5043 - accuracy: 0.4460\n",
            "Epoch 86/100\n",
            "32/32 [==============================] - 0s 2ms/step - loss: 3.5002 - accuracy: 0.4470\n",
            "Epoch 87/100\n",
            "32/32 [==============================] - 0s 1ms/step - loss: 3.4905 - accuracy: 0.4470\n",
            "Epoch 88/100\n",
            "32/32 [==============================] - 0s 2ms/step - loss: 3.4788 - accuracy: 0.4470\n",
            "Epoch 89/100\n",
            "32/32 [==============================] - 0s 2ms/step - loss: 3.4661 - accuracy: 0.4470\n",
            "Epoch 90/100\n",
            "32/32 [==============================] - 0s 2ms/step - loss: 3.4452 - accuracy: 0.4490\n",
            "Epoch 91/100\n",
            "32/32 [==============================] - 0s 2ms/step - loss: 3.4198 - accuracy: 0.4560\n",
            "Epoch 92/100\n",
            "32/32 [==============================] - 0s 2ms/step - loss: 3.4176 - accuracy: 0.4550\n",
            "Epoch 93/100\n",
            "32/32 [==============================] - 0s 2ms/step - loss: 3.4072 - accuracy: 0.4580\n",
            "Epoch 94/100\n",
            "32/32 [==============================] - 0s 2ms/step - loss: 3.4036 - accuracy: 0.4580\n",
            "Epoch 95/100\n",
            "32/32 [==============================] - 0s 2ms/step - loss: 3.3944 - accuracy: 0.4590\n",
            "Epoch 96/100\n",
            "32/32 [==============================] - 0s 2ms/step - loss: 3.3290 - accuracy: 0.4590\n",
            "Epoch 97/100\n",
            "32/32 [==============================] - 0s 2ms/step - loss: 3.2727 - accuracy: 0.4600\n",
            "Epoch 98/100\n",
            "32/32 [==============================] - 0s 2ms/step - loss: 3.2636 - accuracy: 0.4580\n",
            "Epoch 99/100\n",
            "32/32 [==============================] - 0s 2ms/step - loss: 3.2509 - accuracy: 0.4570\n",
            "Epoch 100/100\n",
            "32/32 [==============================] - 0s 2ms/step - loss: 3.2459 - accuracy: 0.4570\n"
          ]
        }
      ]
    },
    {
      "cell_type": "code",
      "source": [
        "plt.scatter(X[:, 0], X[:, 1], c=y, cmap=plt.cm.RdYlBu)"
      ],
      "metadata": {
        "id": "Eg_na8Qdmw-e",
        "outputId": "3c98b4b6-2aa2-4df4-a7ab-df4dd0e73df9",
        "colab": {
          "base_uri": "https://localhost:8080/",
          "height": 283
        }
      },
      "execution_count": 19,
      "outputs": [
        {
          "output_type": "execute_result",
          "data": {
            "text/plain": [
              "<matplotlib.collections.PathCollection at 0x7f08e5b0ead0>"
            ]
          },
          "metadata": {},
          "execution_count": 19
        },
        {
          "output_type": "display_data",
          "data": {
            "text/plain": [
              "<Figure size 432x288 with 1 Axes>"
            ],
            "image/png": "[encoded data removed]"
          },
          "metadata": {
            "needs_background": "light"
          }
        }
      ]
    },
    {
      "cell_type": "code",
      "source": [
        "model_5 = tf.keras.Sequential([\n",
        "  tf.keras.layers.Dense(4, activation=\"relu\"),\n",
        "  tf.keras.layers.Dense(4, activation=\"relu\"),\n",
        "  tf.keras.layers.Dense(1),\n",
        "])\n",
        "\n",
        "model_5.compile(loss=\"binary_crossentropy\",\n",
        "                optimizer=tf.keras.optimizers.Adam(lr=0.001),\n",
        "                metrics=[\"accuracy\"])\n",
        "\n",
        "history = model_5.fit(X, y, epochs=200)"
      ],
      "metadata": {
        "id": "1jRrALN5nDWU",
        "outputId": "5f9dea29-43f5-416d-8a2a-6d0067ca5567",
        "colab": {
          "base_uri": "https://localhost:8080/"
        }
      },
      "execution_count": 20,
      "outputs": [
        {
          "output_type": "stream",
          "name": "stdout",
          "text": [
            "Epoch 1/200\n"
          ]
        },
        {
          "output_type": "stream",
          "name": "stderr",
          "text": [
            "/usr/local/lib/python3.7/dist-packages/keras/optimizer_v2/adam.py:105: UserWarning: The `lr` argument is deprecated, use `learning_rate` instead.\n",
            "  super(Adam, self).__init__(name, **kwargs)\n"
          ]
        },
        {
          "output_type": "stream",
          "name": "stdout",
          "text": [
            "32/32 [==============================] - 1s 2ms/step - loss: 1.8602 - accuracy: 0.5000\n",
            "Epoch 2/200\n",
            "32/32 [==============================] - 0s 2ms/step - loss: 1.2989 - accuracy: 0.5000\n",
            "Epoch 3/200\n",
            "32/32 [==============================] - 0s 2ms/step - loss: 1.1709 - accuracy: 0.4930\n",
            "Epoch 4/200\n",
            "32/32 [==============================] - 0s 2ms/step - loss: 1.0865 - accuracy: 0.4340\n",
            "Epoch 5/200\n",
            "32/32 [==============================] - 0s 2ms/step - loss: 1.0176 - accuracy: 0.4080\n",
            "Epoch 6/200\n",
            "32/32 [==============================] - 0s 2ms/step - loss: 0.9593 - accuracy: 0.4440\n",
            "Epoch 7/200\n",
            "32/32 [==============================] - 0s 2ms/step - loss: 0.9133 - accuracy: 0.4520\n",
            "Epoch 8/200\n",
            "32/32 [==============================] - 0s 2ms/step - loss: 0.8755 - accuracy: 0.4670\n",
            "Epoch 9/200\n",
            "32/32 [==============================] - 0s 2ms/step - loss: 0.8491 - accuracy: 0.4690\n",
            "Epoch 10/200\n",
            "32/32 [==============================] - 0s 2ms/step - loss: 0.8277 - accuracy: 0.4690\n",
            "Epoch 11/200\n",
            "32/32 [==============================] - 0s 2ms/step - loss: 0.8099 - accuracy: 0.4670\n",
            "Epoch 12/200\n",
            "32/32 [==============================] - 0s 2ms/step - loss: 0.7943 - accuracy: 0.4700\n",
            "Epoch 13/200\n",
            "32/32 [==============================] - 0s 2ms/step - loss: 0.7811 - accuracy: 0.4710\n",
            "Epoch 14/200\n",
            "32/32 [==============================] - 0s 2ms/step - loss: 0.7699 - accuracy: 0.4760\n",
            "Epoch 15/200\n",
            "32/32 [==============================] - 0s 2ms/step - loss: 0.7602 - accuracy: 0.4680\n",
            "Epoch 16/200\n",
            "32/32 [==============================] - 0s 2ms/step - loss: 0.7516 - accuracy: 0.4620\n",
            "Epoch 17/200\n",
            "32/32 [==============================] - 0s 2ms/step - loss: 0.7441 - accuracy: 0.4640\n",
            "Epoch 18/200\n",
            "32/32 [==============================] - 0s 2ms/step - loss: 0.7376 - accuracy: 0.4320\n",
            "Epoch 19/200\n",
            "32/32 [==============================] - 0s 2ms/step - loss: 0.7319 - accuracy: 0.4070\n",
            "Epoch 20/200\n",
            "32/32 [==============================] - 0s 2ms/step - loss: 0.7265 - accuracy: 0.4580\n",
            "Epoch 21/200\n",
            "32/32 [==============================] - 0s 2ms/step - loss: 0.7218 - accuracy: 0.4600\n",
            "Epoch 22/200\n",
            "32/32 [==============================] - 0s 2ms/step - loss: 0.7173 - accuracy: 0.4600\n",
            "Epoch 23/200\n",
            "32/32 [==============================] - 0s 2ms/step - loss: 0.7133 - accuracy: 0.4800\n",
            "Epoch 24/200\n",
            "32/32 [==============================] - 0s 2ms/step - loss: 0.7094 - accuracy: 0.4760\n",
            "Epoch 25/200\n",
            "32/32 [==============================] - 0s 2ms/step - loss: 0.7066 - accuracy: 0.4850\n",
            "Epoch 26/200\n",
            "32/32 [==============================] - 0s 2ms/step - loss: 0.7031 - accuracy: 0.4880\n",
            "Epoch 27/200\n",
            "32/32 [==============================] - 0s 2ms/step - loss: 0.7005 - accuracy: 0.5030\n",
            "Epoch 28/200\n",
            "32/32 [==============================] - 0s 2ms/step - loss: 0.6964 - accuracy: 0.4870\n",
            "Epoch 29/200\n",
            "32/32 [==============================] - 0s 2ms/step - loss: 0.6942 - accuracy: 0.4880\n",
            "Epoch 30/200\n",
            "32/32 [==============================] - 0s 2ms/step - loss: 0.6914 - accuracy: 0.4900\n",
            "Epoch 31/200\n",
            "32/32 [==============================] - 0s 2ms/step - loss: 0.6890 - accuracy: 0.4970\n",
            "Epoch 32/200\n",
            "32/32 [==============================] - 0s 2ms/step - loss: 0.6867 - accuracy: 0.5120\n",
            "Epoch 33/200\n",
            "32/32 [==============================] - 0s 2ms/step - loss: 0.6837 - accuracy: 0.5270\n",
            "Epoch 34/200\n",
            "32/32 [==============================] - 0s 2ms/step - loss: 0.6815 - accuracy: 0.5320\n",
            "Epoch 35/200\n",
            "32/32 [==============================] - 0s 2ms/step - loss: 0.6791 - accuracy: 0.5330\n",
            "Epoch 36/200\n",
            "32/32 [==============================] - 0s 2ms/step - loss: 0.6761 - accuracy: 0.5440\n",
            "Epoch 37/200\n",
            "32/32 [==============================] - 0s 2ms/step - loss: 0.6738 - accuracy: 0.5520\n",
            "Epoch 38/200\n",
            "32/32 [==============================] - 0s 2ms/step - loss: 0.6716 - accuracy: 0.5560\n",
            "Epoch 39/200\n",
            "32/32 [==============================] - 0s 2ms/step - loss: 0.6687 - accuracy: 0.5660\n",
            "Epoch 40/200\n",
            "32/32 [==============================] - 0s 2ms/step - loss: 0.6656 - accuracy: 0.5680\n",
            "Epoch 41/200\n",
            "32/32 [==============================] - 0s 2ms/step - loss: 0.6622 - accuracy: 0.5910\n",
            "Epoch 42/200\n",
            "32/32 [==============================] - 0s 2ms/step - loss: 0.6583 - accuracy: 0.5930\n",
            "Epoch 43/200\n",
            "32/32 [==============================] - 0s 2ms/step - loss: 0.6534 - accuracy: 0.6060\n",
            "Epoch 44/200\n",
            "32/32 [==============================] - 0s 2ms/step - loss: 0.6498 - accuracy: 0.6030\n",
            "Epoch 45/200\n",
            "32/32 [==============================] - 0s 2ms/step - loss: 0.6437 - accuracy: 0.6590\n",
            "Epoch 46/200\n",
            "32/32 [==============================] - 0s 2ms/step - loss: 0.6372 - accuracy: 0.6760\n",
            "Epoch 47/200\n",
            "32/32 [==============================] - 0s 2ms/step - loss: 0.6328 - accuracy: 0.7260\n",
            "Epoch 48/200\n",
            "32/32 [==============================] - 0s 2ms/step - loss: 0.6284 - accuracy: 0.7060\n",
            "Epoch 49/200\n",
            "32/32 [==============================] - 0s 2ms/step - loss: 0.6246 - accuracy: 0.6860\n",
            "Epoch 50/200\n",
            "32/32 [==============================] - 0s 2ms/step - loss: 0.6196 - accuracy: 0.7430\n",
            "Epoch 51/200\n",
            "32/32 [==============================] - 0s 2ms/step - loss: 0.6160 - accuracy: 0.7610\n",
            "Epoch 52/200\n",
            "32/32 [==============================] - 0s 2ms/step - loss: 0.6107 - accuracy: 0.8000\n",
            "Epoch 53/200\n",
            "32/32 [==============================] - 0s 2ms/step - loss: 0.6063 - accuracy: 0.7420\n",
            "Epoch 54/200\n",
            "32/32 [==============================] - 0s 2ms/step - loss: 0.6015 - accuracy: 0.8100\n",
            "Epoch 55/200\n",
            "32/32 [==============================] - 0s 2ms/step - loss: 0.5950 - accuracy: 0.7990\n",
            "Epoch 56/200\n",
            "32/32 [==============================] - 0s 2ms/step - loss: 0.5890 - accuracy: 0.7870\n",
            "Epoch 57/200\n",
            "32/32 [==============================] - 0s 2ms/step - loss: 0.5825 - accuracy: 0.7880\n",
            "Epoch 58/200\n",
            "32/32 [==============================] - 0s 2ms/step - loss: 0.5774 - accuracy: 0.8170\n",
            "Epoch 59/200\n",
            "32/32 [==============================] - 0s 2ms/step - loss: 0.5710 - accuracy: 0.8050\n",
            "Epoch 60/200\n",
            "32/32 [==============================] - 0s 2ms/step - loss: 0.5635 - accuracy: 0.8140\n",
            "Epoch 61/200\n",
            "32/32 [==============================] - 0s 2ms/step - loss: 0.5589 - accuracy: 0.7590\n",
            "Epoch 62/200\n",
            "32/32 [==============================] - 0s 2ms/step - loss: 0.5504 - accuracy: 0.8210\n",
            "Epoch 63/200\n",
            "32/32 [==============================] - 0s 2ms/step - loss: 0.5433 - accuracy: 0.7950\n",
            "Epoch 64/200\n",
            "32/32 [==============================] - 0s 2ms/step - loss: 0.5375 - accuracy: 0.8180\n",
            "Epoch 65/200\n",
            "32/32 [==============================] - 0s 2ms/step - loss: 0.5320 - accuracy: 0.7850\n",
            "Epoch 66/200\n",
            "32/32 [==============================] - 0s 2ms/step - loss: 0.5235 - accuracy: 0.8130\n",
            "Epoch 67/200\n",
            "32/32 [==============================] - 0s 2ms/step - loss: 0.5168 - accuracy: 0.8000\n",
            "Epoch 68/200\n",
            "32/32 [==============================] - 0s 2ms/step - loss: 0.5102 - accuracy: 0.8060\n",
            "Epoch 69/200\n",
            "32/32 [==============================] - 0s 2ms/step - loss: 0.5026 - accuracy: 0.8160\n",
            "Epoch 70/200\n",
            "32/32 [==============================] - 0s 2ms/step - loss: 0.4967 - accuracy: 0.8070\n",
            "Epoch 71/200\n",
            "32/32 [==============================] - 0s 2ms/step - loss: 0.4899 - accuracy: 0.8000\n",
            "Epoch 72/200\n",
            "32/32 [==============================] - 0s 2ms/step - loss: 0.4856 - accuracy: 0.8120\n",
            "Epoch 73/200\n",
            "32/32 [==============================] - 0s 2ms/step - loss: 0.4770 - accuracy: 0.8080\n",
            "Epoch 74/200\n",
            "32/32 [==============================] - 0s 2ms/step - loss: 0.4699 - accuracy: 0.8150\n",
            "Epoch 75/200\n",
            "32/32 [==============================] - 0s 2ms/step - loss: 0.4650 - accuracy: 0.8120\n",
            "Epoch 76/200\n",
            "32/32 [==============================] - 0s 2ms/step - loss: 0.4579 - accuracy: 0.7970\n",
            "Epoch 77/200\n",
            "32/32 [==============================] - 0s 2ms/step - loss: 0.4536 - accuracy: 0.8040\n",
            "Epoch 78/200\n",
            "32/32 [==============================] - 0s 2ms/step - loss: 0.4471 - accuracy: 0.7960\n",
            "Epoch 79/200\n",
            "32/32 [==============================] - 0s 2ms/step - loss: 0.4435 - accuracy: 0.8000\n",
            "Epoch 80/200\n",
            "32/32 [==============================] - 0s 2ms/step - loss: 0.4365 - accuracy: 0.8050\n",
            "Epoch 81/200\n",
            "32/32 [==============================] - 0s 2ms/step - loss: 0.4326 - accuracy: 0.8050\n",
            "Epoch 82/200\n",
            "32/32 [==============================] - 0s 2ms/step - loss: 0.4278 - accuracy: 0.8080\n",
            "Epoch 83/200\n",
            "32/32 [==============================] - 0s 2ms/step - loss: 0.4226 - accuracy: 0.8010\n",
            "Epoch 84/200\n",
            "32/32 [==============================] - 0s 2ms/step - loss: 0.4201 - accuracy: 0.8080\n",
            "Epoch 85/200\n",
            "32/32 [==============================] - 0s 2ms/step - loss: 0.4152 - accuracy: 0.8040\n",
            "Epoch 86/200\n",
            "32/32 [==============================] - 0s 2ms/step - loss: 0.4139 - accuracy: 0.8020\n",
            "Epoch 87/200\n",
            "32/32 [==============================] - 0s 2ms/step - loss: 0.4096 - accuracy: 0.8090\n",
            "Epoch 88/200\n",
            "32/32 [==============================] - 0s 2ms/step - loss: 0.4059 - accuracy: 0.7990\n",
            "Epoch 89/200\n",
            "32/32 [==============================] - 0s 2ms/step - loss: 0.4020 - accuracy: 0.8070\n",
            "Epoch 90/200\n",
            "32/32 [==============================] - 0s 2ms/step - loss: 0.3987 - accuracy: 0.7950\n",
            "Epoch 91/200\n",
            "32/32 [==============================] - 0s 2ms/step - loss: 0.3972 - accuracy: 0.8050\n",
            "Epoch 92/200\n",
            "32/32 [==============================] - 0s 2ms/step - loss: 0.3948 - accuracy: 0.8000\n",
            "Epoch 93/200\n",
            "32/32 [==============================] - 0s 2ms/step - loss: 0.3905 - accuracy: 0.8050\n",
            "Epoch 94/200\n",
            "32/32 [==============================] - 0s 2ms/step - loss: 0.3887 - accuracy: 0.8100\n",
            "Epoch 95/200\n",
            "32/32 [==============================] - 0s 2ms/step - loss: 0.3845 - accuracy: 0.8060\n",
            "Epoch 96/200\n",
            "32/32 [==============================] - 0s 2ms/step - loss: 0.3836 - accuracy: 0.8060\n",
            "Epoch 97/200\n",
            "32/32 [==============================] - 0s 2ms/step - loss: 0.3808 - accuracy: 0.8010\n",
            "Epoch 98/200\n",
            "32/32 [==============================] - 0s 2ms/step - loss: 0.3812 - accuracy: 0.8040\n",
            "Epoch 99/200\n",
            "32/32 [==============================] - 0s 2ms/step - loss: 0.3800 - accuracy: 0.8080\n",
            "Epoch 100/200\n",
            "32/32 [==============================] - 0s 2ms/step - loss: 0.3746 - accuracy: 0.8150\n",
            "Epoch 101/200\n",
            "32/32 [==============================] - 0s 2ms/step - loss: 0.3722 - accuracy: 0.8070\n",
            "Epoch 102/200\n",
            "32/32 [==============================] - 0s 2ms/step - loss: 0.3712 - accuracy: 0.8020\n",
            "Epoch 103/200\n",
            "32/32 [==============================] - 0s 2ms/step - loss: 0.3689 - accuracy: 0.8090\n",
            "Epoch 104/200\n",
            "32/32 [==============================] - 0s 2ms/step - loss: 0.3656 - accuracy: 0.8120\n",
            "Epoch 105/200\n",
            "32/32 [==============================] - 0s 2ms/step - loss: 0.3656 - accuracy: 0.8150\n",
            "Epoch 106/200\n",
            "32/32 [==============================] - 0s 2ms/step - loss: 0.3612 - accuracy: 0.8100\n",
            "Epoch 107/200\n",
            "32/32 [==============================] - 0s 2ms/step - loss: 0.3599 - accuracy: 0.8100\n",
            "Epoch 108/200\n",
            "32/32 [==============================] - 0s 2ms/step - loss: 0.3580 - accuracy: 0.8180\n",
            "Epoch 109/200\n",
            "32/32 [==============================] - 0s 2ms/step - loss: 0.3545 - accuracy: 0.8170\n",
            "Epoch 110/200\n",
            "32/32 [==============================] - 0s 2ms/step - loss: 0.3526 - accuracy: 0.8170\n",
            "Epoch 111/200\n",
            "32/32 [==============================] - 0s 2ms/step - loss: 0.3507 - accuracy: 0.8210\n",
            "Epoch 112/200\n",
            "32/32 [==============================] - 0s 2ms/step - loss: 0.3482 - accuracy: 0.8080\n",
            "Epoch 113/200\n",
            "32/32 [==============================] - 0s 2ms/step - loss: 0.3460 - accuracy: 0.8250\n",
            "Epoch 114/200\n",
            "32/32 [==============================] - 0s 2ms/step - loss: 0.3428 - accuracy: 0.8230\n",
            "Epoch 115/200\n",
            "32/32 [==============================] - 0s 2ms/step - loss: 0.3412 - accuracy: 0.8150\n",
            "Epoch 116/200\n",
            "32/32 [==============================] - 0s 2ms/step - loss: 0.3385 - accuracy: 0.8140\n",
            "Epoch 117/200\n",
            "32/32 [==============================] - 0s 2ms/step - loss: 0.3380 - accuracy: 0.8220\n",
            "Epoch 118/200\n",
            "32/32 [==============================] - 0s 2ms/step - loss: 0.3353 - accuracy: 0.8170\n",
            "Epoch 119/200\n",
            "32/32 [==============================] - 0s 2ms/step - loss: 0.3336 - accuracy: 0.8280\n",
            "Epoch 120/200\n",
            "32/32 [==============================] - 0s 2ms/step - loss: 0.3328 - accuracy: 0.8220\n",
            "Epoch 121/200\n",
            "32/32 [==============================] - 0s 2ms/step - loss: 0.3330 - accuracy: 0.8170\n",
            "Epoch 122/200\n",
            "32/32 [==============================] - 0s 2ms/step - loss: 0.3298 - accuracy: 0.8200\n",
            "Epoch 123/200\n",
            "32/32 [==============================] - 0s 2ms/step - loss: 0.3316 - accuracy: 0.8180\n",
            "Epoch 124/200\n",
            "32/32 [==============================] - 0s 2ms/step - loss: 0.3289 - accuracy: 0.8210\n",
            "Epoch 125/200\n",
            "32/32 [==============================] - 0s 2ms/step - loss: 0.3270 - accuracy: 0.8220\n",
            "Epoch 126/200\n",
            "32/32 [==============================] - 0s 2ms/step - loss: 0.3238 - accuracy: 0.8150\n",
            "Epoch 127/200\n",
            "32/32 [==============================] - 0s 2ms/step - loss: 0.3214 - accuracy: 0.8210\n",
            "Epoch 128/200\n",
            "32/32 [==============================] - 0s 2ms/step - loss: 0.3209 - accuracy: 0.8200\n",
            "Epoch 129/200\n",
            "32/32 [==============================] - 0s 2ms/step - loss: 0.3193 - accuracy: 0.8190\n",
            "Epoch 130/200\n",
            "32/32 [==============================] - 0s 2ms/step - loss: 0.3186 - accuracy: 0.8150\n",
            "Epoch 131/200\n",
            "32/32 [==============================] - 0s 2ms/step - loss: 0.3189 - accuracy: 0.8180\n",
            "Epoch 132/200\n",
            "32/32 [==============================] - 0s 2ms/step - loss: 0.3170 - accuracy: 0.8240\n",
            "Epoch 133/200\n",
            "32/32 [==============================] - 0s 2ms/step - loss: 0.3145 - accuracy: 0.8220\n",
            "Epoch 134/200\n",
            "32/32 [==============================] - 0s 2ms/step - loss: 0.3154 - accuracy: 0.8220\n",
            "Epoch 135/200\n",
            "32/32 [==============================] - 0s 2ms/step - loss: 0.3142 - accuracy: 0.8130\n",
            "Epoch 136/200\n",
            "32/32 [==============================] - 0s 2ms/step - loss: 0.3130 - accuracy: 0.8170\n",
            "Epoch 137/200\n",
            "32/32 [==============================] - 0s 2ms/step - loss: 0.3166 - accuracy: 0.8130\n",
            "Epoch 138/200\n",
            "32/32 [==============================] - 0s 2ms/step - loss: 0.3122 - accuracy: 0.8200\n",
            "Epoch 139/200\n",
            "32/32 [==============================] - 0s 2ms/step - loss: 0.3117 - accuracy: 0.8180\n",
            "Epoch 140/200\n",
            "32/32 [==============================] - 0s 2ms/step - loss: 0.3086 - accuracy: 0.8220\n",
            "Epoch 141/200\n",
            "32/32 [==============================] - 0s 2ms/step - loss: 0.3089 - accuracy: 0.8160\n",
            "Epoch 142/200\n",
            "32/32 [==============================] - 0s 2ms/step - loss: 0.3060 - accuracy: 0.8240\n",
            "Epoch 143/200\n",
            "32/32 [==============================] - 0s 2ms/step - loss: 0.3056 - accuracy: 0.8250\n",
            "Epoch 144/200\n",
            "32/32 [==============================] - 0s 2ms/step - loss: 0.3057 - accuracy: 0.8190\n",
            "Epoch 145/200\n",
            "32/32 [==============================] - 0s 2ms/step - loss: 0.3041 - accuracy: 0.8260\n",
            "Epoch 146/200\n",
            "32/32 [==============================] - 0s 2ms/step - loss: 0.3053 - accuracy: 0.8180\n",
            "Epoch 147/200\n",
            "32/32 [==============================] - 0s 2ms/step - loss: 0.3030 - accuracy: 0.8280\n",
            "Epoch 148/200\n",
            "32/32 [==============================] - 0s 2ms/step - loss: 0.3056 - accuracy: 0.8260\n",
            "Epoch 149/200\n",
            "32/32 [==============================] - 0s 2ms/step - loss: 0.3012 - accuracy: 0.8250\n",
            "Epoch 150/200\n",
            "32/32 [==============================] - 0s 2ms/step - loss: 0.3018 - accuracy: 0.8210\n",
            "Epoch 151/200\n",
            "32/32 [==============================] - 0s 2ms/step - loss: 0.3027 - accuracy: 0.8300\n",
            "Epoch 152/200\n",
            "32/32 [==============================] - 0s 2ms/step - loss: 0.2997 - accuracy: 0.8250\n",
            "Epoch 153/200\n",
            "32/32 [==============================] - 0s 2ms/step - loss: 0.3005 - accuracy: 0.8230\n",
            "Epoch 154/200\n",
            "32/32 [==============================] - 0s 2ms/step - loss: 0.2997 - accuracy: 0.8250\n",
            "Epoch 155/200\n",
            "32/32 [==============================] - 0s 2ms/step - loss: 0.2988 - accuracy: 0.8220\n",
            "Epoch 156/200\n",
            "32/32 [==============================] - 0s 2ms/step - loss: 0.2986 - accuracy: 0.8290\n",
            "Epoch 157/200\n",
            "32/32 [==============================] - 0s 2ms/step - loss: 0.2979 - accuracy: 0.8310\n",
            "Epoch 158/200\n",
            "32/32 [==============================] - 0s 2ms/step - loss: 0.2983 - accuracy: 0.8230\n",
            "Epoch 159/200\n",
            "32/32 [==============================] - 0s 2ms/step - loss: 0.2977 - accuracy: 0.8310\n",
            "Epoch 160/200\n",
            "32/32 [==============================] - 0s 2ms/step - loss: 0.2953 - accuracy: 0.8220\n",
            "Epoch 161/200\n",
            "32/32 [==============================] - 0s 2ms/step - loss: 0.2955 - accuracy: 0.8290\n",
            "Epoch 162/200\n",
            "32/32 [==============================] - 0s 2ms/step - loss: 0.2951 - accuracy: 0.8260\n",
            "Epoch 163/200\n",
            "32/32 [==============================] - 0s 2ms/step - loss: 0.2948 - accuracy: 0.8260\n",
            "Epoch 164/200\n",
            "32/32 [==============================] - 0s 2ms/step - loss: 0.2932 - accuracy: 0.8290\n",
            "Epoch 165/200\n",
            "32/32 [==============================] - 0s 2ms/step - loss: 0.2927 - accuracy: 0.8280\n",
            "Epoch 166/200\n",
            "32/32 [==============================] - 0s 2ms/step - loss: 0.3094 - accuracy: 0.8370\n",
            "Epoch 167/200\n",
            "32/32 [==============================] - 0s 2ms/step - loss: 0.2940 - accuracy: 0.8340\n",
            "Epoch 168/200\n",
            "32/32 [==============================] - 0s 2ms/step - loss: 0.2928 - accuracy: 0.8340\n",
            "Epoch 169/200\n",
            "32/32 [==============================] - 0s 2ms/step - loss: 0.2946 - accuracy: 0.8320\n",
            "Epoch 170/200\n",
            "32/32 [==============================] - 0s 2ms/step - loss: 0.2921 - accuracy: 0.8360\n",
            "Epoch 171/200\n",
            "32/32 [==============================] - 0s 2ms/step - loss: 0.2922 - accuracy: 0.8300\n",
            "Epoch 172/200\n",
            "32/32 [==============================] - 0s 2ms/step - loss: 0.2931 - accuracy: 0.8330\n",
            "Epoch 173/200\n",
            "32/32 [==============================] - 0s 2ms/step - loss: 0.2910 - accuracy: 0.8300\n",
            "Epoch 174/200\n",
            "32/32 [==============================] - 0s 2ms/step - loss: 0.2906 - accuracy: 0.8320\n",
            "Epoch 175/200\n",
            "32/32 [==============================] - 0s 2ms/step - loss: 0.2934 - accuracy: 0.8340\n",
            "Epoch 176/200\n",
            "32/32 [==============================] - 0s 2ms/step - loss: 0.2905 - accuracy: 0.8390\n",
            "Epoch 177/200\n",
            "32/32 [==============================] - 0s 2ms/step - loss: 0.2894 - accuracy: 0.8320\n",
            "Epoch 178/200\n",
            "32/32 [==============================] - 0s 2ms/step - loss: 0.2917 - accuracy: 0.8410\n",
            "Epoch 179/200\n",
            "32/32 [==============================] - 0s 2ms/step - loss: 0.2896 - accuracy: 0.8380\n",
            "Epoch 180/200\n",
            "32/32 [==============================] - 0s 2ms/step - loss: 0.2903 - accuracy: 0.8250\n",
            "Epoch 181/200\n",
            "32/32 [==============================] - 0s 2ms/step - loss: 0.2876 - accuracy: 0.8400\n",
            "Epoch 182/200\n",
            "32/32 [==============================] - 0s 2ms/step - loss: 0.2867 - accuracy: 0.8390\n",
            "Epoch 183/200\n",
            "32/32 [==============================] - 0s 2ms/step - loss: 0.2915 - accuracy: 0.8270\n",
            "Epoch 184/200\n",
            "32/32 [==============================] - 0s 3ms/step - loss: 0.6408 - accuracy: 0.7970\n",
            "Epoch 185/200\n",
            "32/32 [==============================] - 0s 2ms/step - loss: 1.4739 - accuracy: 0.7300\n",
            "Epoch 186/200\n",
            "32/32 [==============================] - 0s 2ms/step - loss: 0.4002 - accuracy: 0.8130\n",
            "Epoch 187/200\n",
            "32/32 [==============================] - 0s 2ms/step - loss: 0.3036 - accuracy: 0.8240\n",
            "Epoch 188/200\n",
            "32/32 [==============================] - 0s 2ms/step - loss: 0.2953 - accuracy: 0.8190\n",
            "Epoch 189/200\n",
            "32/32 [==============================] - 0s 2ms/step - loss: 0.2921 - accuracy: 0.8290\n",
            "Epoch 190/200\n",
            "32/32 [==============================] - 0s 2ms/step - loss: 0.2900 - accuracy: 0.8310\n",
            "Epoch 191/200\n",
            "32/32 [==============================] - 0s 2ms/step - loss: 0.2890 - accuracy: 0.8350\n",
            "Epoch 192/200\n",
            "32/32 [==============================] - 0s 2ms/step - loss: 0.2881 - accuracy: 0.8350\n",
            "Epoch 193/200\n",
            "32/32 [==============================] - 0s 2ms/step - loss: 0.2874 - accuracy: 0.8370\n",
            "Epoch 194/200\n",
            "32/32 [==============================] - 0s 2ms/step - loss: 0.2869 - accuracy: 0.8400\n",
            "Epoch 195/200\n",
            "32/32 [==============================] - 0s 2ms/step - loss: 0.2861 - accuracy: 0.8380\n",
            "Epoch 196/200\n",
            "32/32 [==============================] - 0s 2ms/step - loss: 0.2862 - accuracy: 0.8360\n",
            "Epoch 197/200\n",
            "32/32 [==============================] - 0s 2ms/step - loss: 0.2859 - accuracy: 0.8380\n",
            "Epoch 198/200\n",
            "32/32 [==============================] - 0s 2ms/step - loss: 0.2857 - accuracy: 0.8390\n",
            "Epoch 199/200\n",
            "32/32 [==============================] - 0s 2ms/step - loss: 0.2861 - accuracy: 0.8370\n",
            "Epoch 200/200\n",
            "32/32 [==============================] - 0s 2ms/step - loss: 0.2860 - accuracy: 0.8400\n"
          ]
        }
      ]
    },
    {
      "cell_type": "code",
      "source": [
        "model_5.evaluate(X, y)"
      ],
      "metadata": {
        "id": "Il-W_Z4nq131",
        "outputId": "bf47ac46-ccda-4148-caf1-938ae67dd2f0",
        "colab": {
          "base_uri": "https://localhost:8080/"
        }
      },
      "execution_count": 21,
      "outputs": [
        {
          "output_type": "stream",
          "name": "stdout",
          "text": [
            "32/32 [==============================] - 0s 1ms/step - loss: 0.2852 - accuracy: 0.8360\n"
          ]
        },
        {
          "output_type": "execute_result",
          "data": {
            "text/plain": [
              "[0.28521740436553955, 0.8360000252723694]"
            ]
          },
          "metadata": {},
          "execution_count": 21
        }
      ]
    },
    {
      "cell_type": "code",
      "source": [
        "model_5 = tf.keras.Sequential([\n",
        "  tf.keras.layers.Dense(4, activation=\"relu\"),\n",
        "  tf.keras.layers.Dense(4, activation=\"relu\"),\n",
        "  tf.keras.layers.Dense(1, activation=\"sigmoid\"),\n",
        "])\n",
        "\n",
        "model_5.compile(loss=\"binary_crossentropy\",\n",
        "                optimizer=tf.keras.optimizers.Adam(lr=0.001),\n",
        "                metrics=[\"accuracy\"])\n",
        "\n",
        "history = model_5.fit(X, y, epochs=200)"
      ],
      "metadata": {
        "id": "Mfa1gGP-q_OM",
        "outputId": "6a08c35c-9813-44d9-e99e-0e9577a6551c",
        "colab": {
          "base_uri": "https://localhost:8080/"
        }
      },
      "execution_count": 22,
      "outputs": [
        {
          "output_type": "stream",
          "name": "stdout",
          "text": [
            "Epoch 1/200\n"
          ]
        },
        {
          "output_type": "stream",
          "name": "stderr",
          "text": [
            "/usr/local/lib/python3.7/dist-packages/keras/optimizer_v2/adam.py:105: UserWarning: The `lr` argument is deprecated, use `learning_rate` instead.\n",
            "  super(Adam, self).__init__(name, **kwargs)\n"
          ]
        },
        {
          "output_type": "stream",
          "name": "stdout",
          "text": [
            "32/32 [==============================] - 1s 2ms/step - loss: 0.6931 - accuracy: 0.5010\n",
            "Epoch 2/200\n",
            "32/32 [==============================] - 0s 2ms/step - loss: 0.6928 - accuracy: 0.5110\n",
            "Epoch 3/200\n",
            "32/32 [==============================] - 0s 2ms/step - loss: 0.6924 - accuracy: 0.5310\n",
            "Epoch 4/200\n",
            "32/32 [==============================] - 0s 2ms/step - loss: 0.6921 - accuracy: 0.5060\n",
            "Epoch 5/200\n",
            "32/32 [==============================] - 0s 2ms/step - loss: 0.6919 - accuracy: 0.5100\n",
            "Epoch 6/200\n",
            "32/32 [==============================] - 0s 2ms/step - loss: 0.6916 - accuracy: 0.4980\n",
            "Epoch 7/200\n",
            "32/32 [==============================] - 0s 2ms/step - loss: 0.6911 - accuracy: 0.5080\n",
            "Epoch 8/200\n",
            "32/32 [==============================] - 0s 2ms/step - loss: 0.6907 - accuracy: 0.5040\n",
            "Epoch 9/200\n",
            "32/32 [==============================] - 0s 2ms/step - loss: 0.6902 - accuracy: 0.5210\n",
            "Epoch 10/200\n",
            "32/32 [==============================] - 0s 2ms/step - loss: 0.6897 - accuracy: 0.5100\n",
            "Epoch 11/200\n",
            "32/32 [==============================] - 0s 2ms/step - loss: 0.6892 - accuracy: 0.5120\n",
            "Epoch 12/200\n",
            "32/32 [==============================] - 0s 2ms/step - loss: 0.6886 - accuracy: 0.5270\n",
            "Epoch 13/200\n",
            "32/32 [==============================] - 0s 2ms/step - loss: 0.6880 - accuracy: 0.5260\n",
            "Epoch 14/200\n",
            "32/32 [==============================] - 0s 2ms/step - loss: 0.6874 - accuracy: 0.5370\n",
            "Epoch 15/200\n",
            "32/32 [==============================] - 0s 2ms/step - loss: 0.6868 - accuracy: 0.5410\n",
            "Epoch 16/200\n",
            "32/32 [==============================] - 0s 2ms/step - loss: 0.6860 - accuracy: 0.5470\n",
            "Epoch 17/200\n",
            "32/32 [==============================] - 0s 2ms/step - loss: 0.6853 - accuracy: 0.5460\n",
            "Epoch 18/200\n",
            "32/32 [==============================] - 0s 2ms/step - loss: 0.6845 - accuracy: 0.5490\n",
            "Epoch 19/200\n",
            "32/32 [==============================] - 0s 2ms/step - loss: 0.6837 - accuracy: 0.5500\n",
            "Epoch 20/200\n",
            "32/32 [==============================] - 0s 2ms/step - loss: 0.6827 - accuracy: 0.5520\n",
            "Epoch 21/200\n",
            "32/32 [==============================] - 0s 2ms/step - loss: 0.6818 - accuracy: 0.5530\n",
            "Epoch 22/200\n",
            "32/32 [==============================] - 0s 2ms/step - loss: 0.6806 - accuracy: 0.5480\n",
            "Epoch 23/200\n",
            "32/32 [==============================] - 0s 2ms/step - loss: 0.6796 - accuracy: 0.5540\n",
            "Epoch 24/200\n",
            "32/32 [==============================] - 0s 2ms/step - loss: 0.6787 - accuracy: 0.5520\n",
            "Epoch 25/200\n",
            "32/32 [==============================] - 0s 2ms/step - loss: 0.6773 - accuracy: 0.5410\n",
            "Epoch 26/200\n",
            "32/32 [==============================] - 0s 2ms/step - loss: 0.6759 - accuracy: 0.5490\n",
            "Epoch 27/200\n",
            "32/32 [==============================] - 0s 3ms/step - loss: 0.6748 - accuracy: 0.5810\n",
            "Epoch 28/200\n",
            "32/32 [==============================] - 0s 2ms/step - loss: 0.6730 - accuracy: 0.5810\n",
            "Epoch 29/200\n",
            "32/32 [==============================] - 0s 2ms/step - loss: 0.6718 - accuracy: 0.5620\n",
            "Epoch 30/200\n",
            "32/32 [==============================] - 0s 2ms/step - loss: 0.6703 - accuracy: 0.5730\n",
            "Epoch 31/200\n",
            "32/32 [==============================] - 0s 2ms/step - loss: 0.6686 - accuracy: 0.5880\n",
            "Epoch 32/200\n",
            "32/32 [==============================] - 0s 2ms/step - loss: 0.6670 - accuracy: 0.5880\n",
            "Epoch 33/200\n",
            "32/32 [==============================] - 0s 2ms/step - loss: 0.6651 - accuracy: 0.5960\n",
            "Epoch 34/200\n",
            "32/32 [==============================] - 0s 2ms/step - loss: 0.6636 - accuracy: 0.5910\n",
            "Epoch 35/200\n",
            "32/32 [==============================] - 0s 2ms/step - loss: 0.6616 - accuracy: 0.6090\n",
            "Epoch 36/200\n",
            "32/32 [==============================] - 0s 2ms/step - loss: 0.6596 - accuracy: 0.6020\n",
            "Epoch 37/200\n",
            "32/32 [==============================] - 0s 2ms/step - loss: 0.6577 - accuracy: 0.6140\n",
            "Epoch 38/200\n",
            "32/32 [==============================] - 0s 2ms/step - loss: 0.6558 - accuracy: 0.6070\n",
            "Epoch 39/200\n",
            "32/32 [==============================] - 0s 2ms/step - loss: 0.6537 - accuracy: 0.6200\n",
            "Epoch 40/200\n",
            "32/32 [==============================] - 0s 2ms/step - loss: 0.6518 - accuracy: 0.6400\n",
            "Epoch 41/200\n",
            "32/32 [==============================] - 0s 2ms/step - loss: 0.6496 - accuracy: 0.6520\n",
            "Epoch 42/200\n",
            "32/32 [==============================] - 0s 2ms/step - loss: 0.6475 - accuracy: 0.6660\n",
            "Epoch 43/200\n",
            "32/32 [==============================] - 0s 2ms/step - loss: 0.6450 - accuracy: 0.6780\n",
            "Epoch 44/200\n",
            "32/32 [==============================] - 0s 2ms/step - loss: 0.6432 - accuracy: 0.6630\n",
            "Epoch 45/200\n",
            "32/32 [==============================] - 0s 2ms/step - loss: 0.6400 - accuracy: 0.6880\n",
            "Epoch 46/200\n",
            "32/32 [==============================] - 0s 2ms/step - loss: 0.6375 - accuracy: 0.7020\n",
            "Epoch 47/200\n",
            "32/32 [==============================] - 0s 2ms/step - loss: 0.6355 - accuracy: 0.7140\n",
            "Epoch 48/200\n",
            "32/32 [==============================] - 0s 2ms/step - loss: 0.6324 - accuracy: 0.7190\n",
            "Epoch 49/200\n",
            "32/32 [==============================] - 0s 2ms/step - loss: 0.6275 - accuracy: 0.7040\n",
            "Epoch 50/200\n",
            "32/32 [==============================] - 0s 2ms/step - loss: 0.6224 - accuracy: 0.7100\n",
            "Epoch 51/200\n",
            "32/32 [==============================] - 0s 2ms/step - loss: 0.6188 - accuracy: 0.7280\n",
            "Epoch 52/200\n",
            "32/32 [==============================] - 0s 2ms/step - loss: 0.6156 - accuracy: 0.7470\n",
            "Epoch 53/200\n",
            "32/32 [==============================] - 0s 2ms/step - loss: 0.6120 - accuracy: 0.7390\n",
            "Epoch 54/200\n",
            "32/32 [==============================] - 0s 2ms/step - loss: 0.6082 - accuracy: 0.7530\n",
            "Epoch 55/200\n",
            "32/32 [==============================] - 0s 2ms/step - loss: 0.6050 - accuracy: 0.7630\n",
            "Epoch 56/200\n",
            "32/32 [==============================] - 0s 2ms/step - loss: 0.6014 - accuracy: 0.7520\n",
            "Epoch 57/200\n",
            "32/32 [==============================] - 0s 2ms/step - loss: 0.5975 - accuracy: 0.7650\n",
            "Epoch 58/200\n",
            "32/32 [==============================] - 0s 3ms/step - loss: 0.5940 - accuracy: 0.7680\n",
            "Epoch 59/200\n",
            "32/32 [==============================] - 0s 2ms/step - loss: 0.5907 - accuracy: 0.7780\n",
            "Epoch 60/200\n",
            "32/32 [==============================] - 0s 2ms/step - loss: 0.5865 - accuracy: 0.7750\n",
            "Epoch 61/200\n",
            "32/32 [==============================] - 0s 2ms/step - loss: 0.5830 - accuracy: 0.7630\n",
            "Epoch 62/200\n",
            "32/32 [==============================] - 0s 2ms/step - loss: 0.5779 - accuracy: 0.7800\n",
            "Epoch 63/200\n",
            "32/32 [==============================] - 0s 2ms/step - loss: 0.5728 - accuracy: 0.7810\n",
            "Epoch 64/200\n",
            "32/32 [==============================] - 0s 2ms/step - loss: 0.5675 - accuracy: 0.7820\n",
            "Epoch 65/200\n",
            "32/32 [==============================] - 0s 2ms/step - loss: 0.5619 - accuracy: 0.7840\n",
            "Epoch 66/200\n",
            "32/32 [==============================] - 0s 2ms/step - loss: 0.5572 - accuracy: 0.7900\n",
            "Epoch 67/200\n",
            "32/32 [==============================] - 0s 2ms/step - loss: 0.5522 - accuracy: 0.7890\n",
            "Epoch 68/200\n",
            "32/32 [==============================] - 0s 2ms/step - loss: 0.5473 - accuracy: 0.7920\n",
            "Epoch 69/200\n",
            "32/32 [==============================] - 0s 2ms/step - loss: 0.5423 - accuracy: 0.8090\n",
            "Epoch 70/200\n",
            "32/32 [==============================] - 0s 2ms/step - loss: 0.5378 - accuracy: 0.8080\n",
            "Epoch 71/200\n",
            "32/32 [==============================] - 0s 2ms/step - loss: 0.5328 - accuracy: 0.8050\n",
            "Epoch 72/200\n",
            "32/32 [==============================] - 0s 2ms/step - loss: 0.5285 - accuracy: 0.8190\n",
            "Epoch 73/200\n",
            "32/32 [==============================] - 0s 2ms/step - loss: 0.5236 - accuracy: 0.8150\n",
            "Epoch 74/200\n",
            "32/32 [==============================] - 0s 2ms/step - loss: 0.5185 - accuracy: 0.8240\n",
            "Epoch 75/200\n",
            "32/32 [==============================] - 0s 2ms/step - loss: 0.5141 - accuracy: 0.8230\n",
            "Epoch 76/200\n",
            "32/32 [==============================] - 0s 2ms/step - loss: 0.5093 - accuracy: 0.8190\n",
            "Epoch 77/200\n",
            "32/32 [==============================] - 0s 2ms/step - loss: 0.5050 - accuracy: 0.8450\n",
            "Epoch 78/200\n",
            "32/32 [==============================] - 0s 2ms/step - loss: 0.5002 - accuracy: 0.8290\n",
            "Epoch 79/200\n",
            "32/32 [==============================] - 0s 2ms/step - loss: 0.4958 - accuracy: 0.8410\n",
            "Epoch 80/200\n",
            "32/32 [==============================] - 0s 2ms/step - loss: 0.4898 - accuracy: 0.8600\n",
            "Epoch 81/200\n",
            "32/32 [==============================] - 0s 2ms/step - loss: 0.4853 - accuracy: 0.8560\n",
            "Epoch 82/200\n",
            "32/32 [==============================] - 0s 2ms/step - loss: 0.4804 - accuracy: 0.8490\n",
            "Epoch 83/200\n",
            "32/32 [==============================] - 0s 2ms/step - loss: 0.4754 - accuracy: 0.8530\n",
            "Epoch 84/200\n",
            "32/32 [==============================] - 0s 2ms/step - loss: 0.4702 - accuracy: 0.8890\n",
            "Epoch 85/200\n",
            "32/32 [==============================] - 0s 2ms/step - loss: 0.4655 - accuracy: 0.8730\n",
            "Epoch 86/200\n",
            "32/32 [==============================] - 0s 2ms/step - loss: 0.4608 - accuracy: 0.8870\n",
            "Epoch 87/200\n",
            "32/32 [==============================] - 0s 2ms/step - loss: 0.4557 - accuracy: 0.8860\n",
            "Epoch 88/200\n",
            "32/32 [==============================] - 0s 2ms/step - loss: 0.4506 - accuracy: 0.8840\n",
            "Epoch 89/200\n",
            "32/32 [==============================] - 0s 2ms/step - loss: 0.4459 - accuracy: 0.8890\n",
            "Epoch 90/200\n",
            "32/32 [==============================] - 0s 2ms/step - loss: 0.4413 - accuracy: 0.8790\n",
            "Epoch 91/200\n",
            "32/32 [==============================] - 0s 2ms/step - loss: 0.4359 - accuracy: 0.9060\n",
            "Epoch 92/200\n",
            "32/32 [==============================] - 0s 2ms/step - loss: 0.4311 - accuracy: 0.9150\n",
            "Epoch 93/200\n",
            "32/32 [==============================] - 0s 2ms/step - loss: 0.4272 - accuracy: 0.8840\n",
            "Epoch 94/200\n",
            "32/32 [==============================] - 0s 2ms/step - loss: 0.4216 - accuracy: 0.9320\n",
            "Epoch 95/200\n",
            "32/32 [==============================] - 0s 2ms/step - loss: 0.4170 - accuracy: 0.9120\n",
            "Epoch 96/200\n",
            "32/32 [==============================] - 0s 2ms/step - loss: 0.4116 - accuracy: 0.9190\n",
            "Epoch 97/200\n",
            "32/32 [==============================] - 0s 2ms/step - loss: 0.4066 - accuracy: 0.9220\n",
            "Epoch 98/200\n",
            "32/32 [==============================] - 0s 2ms/step - loss: 0.4016 - accuracy: 0.9290\n",
            "Epoch 99/200\n",
            "32/32 [==============================] - 0s 2ms/step - loss: 0.3972 - accuracy: 0.9470\n",
            "Epoch 100/200\n",
            "32/32 [==============================] - 0s 2ms/step - loss: 0.3917 - accuracy: 0.9370\n",
            "Epoch 101/200\n",
            "32/32 [==============================] - 0s 2ms/step - loss: 0.3871 - accuracy: 0.9260\n",
            "Epoch 102/200\n",
            "32/32 [==============================] - 0s 2ms/step - loss: 0.3821 - accuracy: 0.9560\n",
            "Epoch 103/200\n",
            "32/32 [==============================] - 0s 2ms/step - loss: 0.3768 - accuracy: 0.9460\n",
            "Epoch 104/200\n",
            "32/32 [==============================] - 0s 2ms/step - loss: 0.3719 - accuracy: 0.9500\n",
            "Epoch 105/200\n",
            "32/32 [==============================] - 0s 2ms/step - loss: 0.3678 - accuracy: 0.9570\n",
            "Epoch 106/200\n",
            "32/32 [==============================] - 0s 2ms/step - loss: 0.3620 - accuracy: 0.9620\n",
            "Epoch 107/200\n",
            "32/32 [==============================] - 0s 2ms/step - loss: 0.3574 - accuracy: 0.9580\n",
            "Epoch 108/200\n",
            "32/32 [==============================] - 0s 2ms/step - loss: 0.3527 - accuracy: 0.9700\n",
            "Epoch 109/200\n",
            "32/32 [==============================] - 0s 2ms/step - loss: 0.3469 - accuracy: 0.9650\n",
            "Epoch 110/200\n",
            "32/32 [==============================] - 0s 2ms/step - loss: 0.3421 - accuracy: 0.9720\n",
            "Epoch 111/200\n",
            "32/32 [==============================] - 0s 2ms/step - loss: 0.3373 - accuracy: 0.9760\n",
            "Epoch 112/200\n",
            "32/32 [==============================] - 0s 2ms/step - loss: 0.3333 - accuracy: 0.9690\n",
            "Epoch 113/200\n",
            "32/32 [==============================] - 0s 2ms/step - loss: 0.3273 - accuracy: 0.9770\n",
            "Epoch 114/200\n",
            "32/32 [==============================] - 0s 2ms/step - loss: 0.3229 - accuracy: 0.9760\n",
            "Epoch 115/200\n",
            "32/32 [==============================] - 0s 2ms/step - loss: 0.3180 - accuracy: 0.9780\n",
            "Epoch 116/200\n",
            "32/32 [==============================] - 0s 2ms/step - loss: 0.3128 - accuracy: 0.9770\n",
            "Epoch 117/200\n",
            "32/32 [==============================] - 0s 2ms/step - loss: 0.3084 - accuracy: 0.9770\n",
            "Epoch 118/200\n",
            "32/32 [==============================] - 0s 2ms/step - loss: 0.3033 - accuracy: 0.9800\n",
            "Epoch 119/200\n",
            "32/32 [==============================] - 0s 2ms/step - loss: 0.2984 - accuracy: 0.9840\n",
            "Epoch 120/200\n",
            "32/32 [==============================] - 0s 2ms/step - loss: 0.2938 - accuracy: 0.9800\n",
            "Epoch 121/200\n",
            "32/32 [==============================] - 0s 2ms/step - loss: 0.2895 - accuracy: 0.9790\n",
            "Epoch 122/200\n",
            "32/32 [==============================] - 0s 2ms/step - loss: 0.2843 - accuracy: 0.9790\n",
            "Epoch 123/200\n",
            "32/32 [==============================] - 0s 2ms/step - loss: 0.2798 - accuracy: 0.9790\n",
            "Epoch 124/200\n",
            "32/32 [==============================] - 0s 2ms/step - loss: 0.2758 - accuracy: 0.9810\n",
            "Epoch 125/200\n",
            "32/32 [==============================] - 0s 2ms/step - loss: 0.2712 - accuracy: 0.9790\n",
            "Epoch 126/200\n",
            "32/32 [==============================] - 0s 2ms/step - loss: 0.2668 - accuracy: 0.9860\n",
            "Epoch 127/200\n",
            "32/32 [==============================] - 0s 2ms/step - loss: 0.2624 - accuracy: 0.9880\n",
            "Epoch 128/200\n",
            "32/32 [==============================] - 0s 2ms/step - loss: 0.2589 - accuracy: 0.9850\n",
            "Epoch 129/200\n",
            "32/32 [==============================] - 0s 2ms/step - loss: 0.2542 - accuracy: 0.9870\n",
            "Epoch 130/200\n",
            "32/32 [==============================] - 0s 2ms/step - loss: 0.2502 - accuracy: 0.9860\n",
            "Epoch 131/200\n",
            "32/32 [==============================] - 0s 2ms/step - loss: 0.2467 - accuracy: 0.9860\n",
            "Epoch 132/200\n",
            "32/32 [==============================] - 0s 2ms/step - loss: 0.2426 - accuracy: 0.9880\n",
            "Epoch 133/200\n",
            "32/32 [==============================] - 0s 2ms/step - loss: 0.2384 - accuracy: 0.9890\n",
            "Epoch 134/200\n",
            "32/32 [==============================] - 0s 2ms/step - loss: 0.2349 - accuracy: 0.9890\n",
            "Epoch 135/200\n",
            "32/32 [==============================] - 0s 2ms/step - loss: 0.2310 - accuracy: 0.9870\n",
            "Epoch 136/200\n",
            "32/32 [==============================] - 0s 2ms/step - loss: 0.2263 - accuracy: 0.9880\n",
            "Epoch 137/200\n",
            "32/32 [==============================] - 0s 2ms/step - loss: 0.2227 - accuracy: 0.9860\n",
            "Epoch 138/200\n",
            "32/32 [==============================] - 0s 2ms/step - loss: 0.2174 - accuracy: 0.9900\n",
            "Epoch 139/200\n",
            "32/32 [==============================] - 0s 2ms/step - loss: 0.2126 - accuracy: 0.9900\n",
            "Epoch 140/200\n",
            "32/32 [==============================] - 0s 2ms/step - loss: 0.2086 - accuracy: 0.9900\n",
            "Epoch 141/200\n",
            "32/32 [==============================] - 0s 2ms/step - loss: 0.2049 - accuracy: 0.9890\n",
            "Epoch 142/200\n",
            "32/32 [==============================] - 0s 2ms/step - loss: 0.2004 - accuracy: 0.9890\n",
            "Epoch 143/200\n",
            "32/32 [==============================] - 0s 2ms/step - loss: 0.1977 - accuracy: 0.9890\n",
            "Epoch 144/200\n",
            "32/32 [==============================] - 0s 2ms/step - loss: 0.1942 - accuracy: 0.9880\n",
            "Epoch 145/200\n",
            "32/32 [==============================] - 0s 2ms/step - loss: 0.1908 - accuracy: 0.9900\n",
            "Epoch 146/200\n",
            "32/32 [==============================] - 0s 2ms/step - loss: 0.1882 - accuracy: 0.9920\n",
            "Epoch 147/200\n",
            "32/32 [==============================] - 0s 2ms/step - loss: 0.1849 - accuracy: 0.9890\n",
            "Epoch 148/200\n",
            "32/32 [==============================] - 0s 2ms/step - loss: 0.1822 - accuracy: 0.9930\n",
            "Epoch 149/200\n",
            "32/32 [==============================] - 0s 2ms/step - loss: 0.1792 - accuracy: 0.9920\n",
            "Epoch 150/200\n",
            "32/32 [==============================] - 0s 2ms/step - loss: 0.1769 - accuracy: 0.9910\n",
            "Epoch 151/200\n",
            "32/32 [==============================] - 0s 2ms/step - loss: 0.1744 - accuracy: 0.9920\n",
            "Epoch 152/200\n",
            "32/32 [==============================] - 0s 2ms/step - loss: 0.1714 - accuracy: 0.9930\n",
            "Epoch 153/200\n",
            "32/32 [==============================] - 0s 2ms/step - loss: 0.1688 - accuracy: 0.9920\n",
            "Epoch 154/200\n",
            "32/32 [==============================] - 0s 2ms/step - loss: 0.1668 - accuracy: 0.9910\n",
            "Epoch 155/200\n",
            "32/32 [==============================] - 0s 2ms/step - loss: 0.1642 - accuracy: 0.9920\n",
            "Epoch 156/200\n",
            "32/32 [==============================] - 0s 2ms/step - loss: 0.1623 - accuracy: 0.9890\n",
            "Epoch 157/200\n",
            "32/32 [==============================] - 0s 2ms/step - loss: 0.1595 - accuracy: 0.9920\n",
            "Epoch 158/200\n",
            "32/32 [==============================] - 0s 2ms/step - loss: 0.1571 - accuracy: 0.9910\n",
            "Epoch 159/200\n",
            "32/32 [==============================] - 0s 2ms/step - loss: 0.1552 - accuracy: 0.9930\n",
            "Epoch 160/200\n",
            "32/32 [==============================] - 0s 2ms/step - loss: 0.1533 - accuracy: 0.9940\n",
            "Epoch 161/200\n",
            "32/32 [==============================] - 0s 2ms/step - loss: 0.1511 - accuracy: 0.9910\n",
            "Epoch 162/200\n",
            "32/32 [==============================] - 0s 2ms/step - loss: 0.1488 - accuracy: 0.9930\n",
            "Epoch 163/200\n",
            "32/32 [==============================] - 0s 2ms/step - loss: 0.1469 - accuracy: 0.9910\n",
            "Epoch 164/200\n",
            "32/32 [==============================] - 0s 2ms/step - loss: 0.1448 - accuracy: 0.9930\n",
            "Epoch 165/200\n",
            "32/32 [==============================] - 0s 2ms/step - loss: 0.1433 - accuracy: 0.9940\n",
            "Epoch 166/200\n",
            "32/32 [==============================] - 0s 2ms/step - loss: 0.1414 - accuracy: 0.9920\n",
            "Epoch 167/200\n",
            "32/32 [==============================] - 0s 2ms/step - loss: 0.1394 - accuracy: 0.9920\n",
            "Epoch 168/200\n",
            "32/32 [==============================] - 0s 2ms/step - loss: 0.1376 - accuracy: 0.9930\n",
            "Epoch 169/200\n",
            "32/32 [==============================] - 0s 2ms/step - loss: 0.1358 - accuracy: 0.9940\n",
            "Epoch 170/200\n",
            "32/32 [==============================] - 0s 2ms/step - loss: 0.1341 - accuracy: 0.9930\n",
            "Epoch 171/200\n",
            "32/32 [==============================] - 0s 2ms/step - loss: 0.1324 - accuracy: 0.9920\n",
            "Epoch 172/200\n",
            "32/32 [==============================] - 0s 2ms/step - loss: 0.1307 - accuracy: 0.9940\n",
            "Epoch 173/200\n",
            "32/32 [==============================] - 0s 2ms/step - loss: 0.1292 - accuracy: 0.9930\n",
            "Epoch 174/200\n",
            "32/32 [==============================] - 0s 2ms/step - loss: 0.1272 - accuracy: 0.9940\n",
            "Epoch 175/200\n",
            "32/32 [==============================] - 0s 2ms/step - loss: 0.1267 - accuracy: 0.9930\n",
            "Epoch 176/200\n",
            "32/32 [==============================] - 0s 2ms/step - loss: 0.1244 - accuracy: 0.9930\n",
            "Epoch 177/200\n",
            "32/32 [==============================] - 0s 2ms/step - loss: 0.1226 - accuracy: 0.9930\n",
            "Epoch 178/200\n",
            "32/32 [==============================] - 0s 2ms/step - loss: 0.1215 - accuracy: 0.9930\n",
            "Epoch 179/200\n",
            "32/32 [==============================] - 0s 2ms/step - loss: 0.1197 - accuracy: 0.9930\n",
            "Epoch 180/200\n",
            "32/32 [==============================] - 0s 2ms/step - loss: 0.1183 - accuracy: 0.9930\n",
            "Epoch 181/200\n",
            "32/32 [==============================] - 0s 2ms/step - loss: 0.1171 - accuracy: 0.9930\n",
            "Epoch 182/200\n",
            "32/32 [==============================] - 0s 2ms/step - loss: 0.1159 - accuracy: 0.9920\n",
            "Epoch 183/200\n",
            "32/32 [==============================] - 0s 2ms/step - loss: 0.1149 - accuracy: 0.9920\n",
            "Epoch 184/200\n",
            "32/32 [==============================] - 0s 2ms/step - loss: 0.1129 - accuracy: 0.9930\n",
            "Epoch 185/200\n",
            "32/32 [==============================] - 0s 2ms/step - loss: 0.1116 - accuracy: 0.9910\n",
            "Epoch 186/200\n",
            "32/32 [==============================] - 0s 2ms/step - loss: 0.1110 - accuracy: 0.9930\n",
            "Epoch 187/200\n",
            "32/32 [==============================] - 0s 2ms/step - loss: 0.1093 - accuracy: 0.9920\n",
            "Epoch 188/200\n",
            "32/32 [==============================] - 0s 2ms/step - loss: 0.1079 - accuracy: 0.9920\n",
            "Epoch 189/200\n",
            "32/32 [==============================] - 0s 2ms/step - loss: 0.1070 - accuracy: 0.9910\n",
            "Epoch 190/200\n",
            "32/32 [==============================] - 0s 2ms/step - loss: 0.1055 - accuracy: 0.9930\n",
            "Epoch 191/200\n",
            "32/32 [==============================] - 0s 2ms/step - loss: 0.1044 - accuracy: 0.9940\n",
            "Epoch 192/200\n",
            "32/32 [==============================] - 0s 2ms/step - loss: 0.1037 - accuracy: 0.9910\n",
            "Epoch 193/200\n",
            "32/32 [==============================] - 0s 2ms/step - loss: 0.1021 - accuracy: 0.9930\n",
            "Epoch 194/200\n",
            "32/32 [==============================] - 0s 2ms/step - loss: 0.1009 - accuracy: 0.9930\n",
            "Epoch 195/200\n",
            "32/32 [==============================] - 0s 2ms/step - loss: 0.0999 - accuracy: 0.9940\n",
            "Epoch 196/200\n",
            "32/32 [==============================] - 0s 2ms/step - loss: 0.0986 - accuracy: 0.9940\n",
            "Epoch 197/200\n",
            "32/32 [==============================] - 0s 2ms/step - loss: 0.0978 - accuracy: 0.9920\n",
            "Epoch 198/200\n",
            "32/32 [==============================] - 0s 2ms/step - loss: 0.0968 - accuracy: 0.9930\n",
            "Epoch 199/200\n",
            "32/32 [==============================] - 0s 2ms/step - loss: 0.0959 - accuracy: 0.9910\n",
            "Epoch 200/200\n",
            "32/32 [==============================] - 0s 2ms/step - loss: 0.0948 - accuracy: 0.9910\n"
          ]
        }
      ]
    },
    {
      "cell_type": "code",
      "source": [
        "model_5.evaluate(X, y)"
      ],
      "metadata": {
        "id": "D1pbg1Mnly40",
        "outputId": "df871391-4bec-4f3f-adf7-04b339b242a0",
        "colab": {
          "base_uri": "https://localhost:8080/"
        }
      },
      "execution_count": 23,
      "outputs": [
        {
          "output_type": "stream",
          "name": "stdout",
          "text": [
            "32/32 [==============================] - 0s 1ms/step - loss: 0.0937 - accuracy: 0.9930\n"
          ]
        },
        {
          "output_type": "execute_result",
          "data": {
            "text/plain": [
              "[0.0937400609254837, 0.9929999709129333]"
            ]
          },
          "metadata": {},
          "execution_count": 23
        }
      ]
    },
    {
      "cell_type": "markdown",
      "source": [
        "#Creating a Toy Tensor"
      ],
      "metadata": {
        "id": "I9Cm9j-Hl7qK"
      }
    },
    {
      "cell_type": "code",
      "source": [
        "A = tf.cast(tf.range(-10, 10), tf.float32)"
      ],
      "metadata": {
        "id": "NbAFagksnSR-"
      },
      "execution_count": 24,
      "outputs": []
    },
    {
      "cell_type": "code",
      "source": [
        "A"
      ],
      "metadata": {
        "id": "yJWqIJzhnV7b",
        "outputId": "b1a2affb-f851-409f-cc47-cb4cfed6ef7c",
        "colab": {
          "base_uri": "https://localhost:8080/"
        }
      },
      "execution_count": 25,
      "outputs": [
        {
          "output_type": "execute_result",
          "data": {
            "text/plain": [
              "<tf.Tensor: shape=(20,), dtype=float32, numpy=\n",
              "array([-10.,  -9.,  -8.,  -7.,  -6.,  -5.,  -4.,  -3.,  -2.,  -1.,   0.,\n",
              "         1.,   2.,   3.,   4.,   5.,   6.,   7.,   8.,   9.],\n",
              "      dtype=float32)>"
            ]
          },
          "metadata": {},
          "execution_count": 25
        }
      ]
    },
    {
      "cell_type": "code",
      "source": [
        "plt.plot(A)"
      ],
      "metadata": {
        "id": "ykRG74bqnWbO",
        "outputId": "9b1e9b1e-64c2-4a72-c14d-f265b8098808",
        "colab": {
          "base_uri": "https://localhost:8080/",
          "height": 283
        }
      },
      "execution_count": 26,
      "outputs": [
        {
          "output_type": "execute_result",
          "data": {
            "text/plain": [
              "[<matplotlib.lines.Line2D at 0x7f08e6863fd0>]"
            ]
          },
          "metadata": {},
          "execution_count": 26
        },
        {
          "output_type": "display_data",
          "data": {
            "text/plain": [
              "<Figure size 432x288 with 1 Axes>"
            ],
            "image/png": "[encoded data removed]"
          },
          "metadata": {
            "needs_background": "light"
          }
        }
      ]
    },
    {
      "cell_type": "code",
      "source": [
        "def sigmoid(x):\n",
        "  return 1/(1 + tf.exp(-1 * x))"
      ],
      "metadata": {
        "id": "td0TWrxXnepY"
      },
      "execution_count": 27,
      "outputs": []
    },
    {
      "cell_type": "code",
      "source": [
        "sigmoid(A)"
      ],
      "metadata": {
        "colab": {
          "base_uri": "https://localhost:8080/"
        },
        "id": "UPKI1yr3ny94",
        "outputId": "3718dad2-5655-478f-8a84-aa2dcc13719f"
      },
      "execution_count": 28,
      "outputs": [
        {
          "output_type": "execute_result",
          "data": {
            "text/plain": [
              "<tf.Tensor: shape=(20,), dtype=float32, numpy=\n",
              "array([4.5397872e-05, 1.2339458e-04, 3.3535014e-04, 9.1105117e-04,\n",
              "       2.4726233e-03, 6.6928510e-03, 1.7986210e-02, 4.7425874e-02,\n",
              "       1.1920292e-01, 2.6894143e-01, 5.0000000e-01, 7.3105860e-01,\n",
              "       8.8079703e-01, 9.5257413e-01, 9.8201376e-01, 9.9330717e-01,\n",
              "       9.9752742e-01, 9.9908900e-01, 9.9966466e-01, 9.9987662e-01],\n",
              "      dtype=float32)>"
            ]
          },
          "metadata": {},
          "execution_count": 28
        }
      ]
    },
    {
      "cell_type": "code",
      "source": [
        "plt.plot(sigmoid(A))"
      ],
      "metadata": {
        "colab": {
          "base_uri": "https://localhost:8080/",
          "height": 283
        },
        "id": "qpF_9QMCnz_Q",
        "outputId": "7a450992-67ab-4d38-9c8f-3952da11d81d"
      },
      "execution_count": 29,
      "outputs": [
        {
          "output_type": "execute_result",
          "data": {
            "text/plain": [
              "[<matplotlib.lines.Line2D at 0x7f08e68a3d90>]"
            ]
          },
          "metadata": {},
          "execution_count": 29
        },
        {
          "output_type": "display_data",
          "data": {
            "text/plain": [
              "<Figure size 432x288 with 1 Axes>"
            ],
            "image/png": "[encoded data removed]"
          },
          "metadata": {
            "needs_background": "light"
          }
        }
      ]
    },
    {
      "cell_type": "code",
      "source": [
        "def relu(x):\n",
        "  return tf.maximum(x, 0)"
      ],
      "metadata": {
        "id": "Ej4N_iqdn2cF"
      },
      "execution_count": 30,
      "outputs": []
    },
    {
      "cell_type": "code",
      "source": [
        "relu(A)"
      ],
      "metadata": {
        "colab": {
          "base_uri": "https://localhost:8080/"
        },
        "id": "XIf9v8bsoRly",
        "outputId": "159d44e4-90c4-44f6-8eca-08dcde1ce89a"
      },
      "execution_count": 31,
      "outputs": [
        {
          "output_type": "execute_result",
          "data": {
            "text/plain": [
              "<tf.Tensor: shape=(20,), dtype=float32, numpy=\n",
              "array([0., 0., 0., 0., 0., 0., 0., 0., 0., 0., 0., 1., 2., 3., 4., 5., 6.,\n",
              "       7., 8., 9.], dtype=float32)>"
            ]
          },
          "metadata": {},
          "execution_count": 31
        }
      ]
    },
    {
      "cell_type": "code",
      "source": [
        "plt.plot(relu(A))"
      ],
      "metadata": {
        "colab": {
          "base_uri": "https://localhost:8080/",
          "height": 283
        },
        "id": "frbbwbLwoWHr",
        "outputId": "20851d9d-62f5-4af5-c15e-1128b3c11655"
      },
      "execution_count": 32,
      "outputs": [
        {
          "output_type": "execute_result",
          "data": {
            "text/plain": [
              "[<matplotlib.lines.Line2D at 0x7f08e67ba090>]"
            ]
          },
          "metadata": {},
          "execution_count": 32
        },
        {
          "output_type": "display_data",
          "data": {
            "text/plain": [
              "<Figure size 432x288 with 1 Axes>"
            ],
            "image/png": "[encoded data removed]"
          },
          "metadata": {
            "needs_background": "light"
          }
        }
      ]
    },
    {
      "cell_type": "code",
      "source": [
        "A == tf.keras.activations.linear(A)"
      ],
      "metadata": {
        "colab": {
          "base_uri": "https://localhost:8080/"
        },
        "id": "dWjZ1047odit",
        "outputId": "0b017102-0adc-49ab-d221-59282b7ad0de"
      },
      "execution_count": 33,
      "outputs": [
        {
          "output_type": "execute_result",
          "data": {
            "text/plain": [
              "<tf.Tensor: shape=(20,), dtype=bool, numpy=\n",
              "array([ True,  True,  True,  True,  True,  True,  True,  True,  True,\n",
              "        True,  True,  True,  True,  True,  True,  True,  True,  True,\n",
              "        True,  True])>"
            ]
          },
          "metadata": {},
          "execution_count": 33
        }
      ]
    },
    {
      "cell_type": "code",
      "source": [
        "len(X)"
      ],
      "metadata": {
        "colab": {
          "base_uri": "https://localhost:8080/"
        },
        "id": "OXLa4LzxpBMQ",
        "outputId": "2b4e7587-84ff-429c-91b8-b6cb31c9d777"
      },
      "execution_count": 34,
      "outputs": [
        {
          "output_type": "execute_result",
          "data": {
            "text/plain": [
              "1000"
            ]
          },
          "metadata": {},
          "execution_count": 34
        }
      ]
    },
    {
      "cell_type": "markdown",
      "source": [
        "#EValuating and improoving our classification"
      ],
      "metadata": {
        "id": "nH1QzPK8qPmB"
      }
    },
    {
      "cell_type": "code",
      "source": [
        "X_train,X_test, y_train, y_test = train_test_split(X, y, train_size=0.8, random_state=30)"
      ],
      "metadata": {
        "id": "yLaF5ZuEqTVg"
      },
      "execution_count": 35,
      "outputs": []
    },
    {
      "cell_type": "code",
      "source": [
        "X_train"
      ],
      "metadata": {
        "colab": {
          "base_uri": "https://localhost:8080/"
        },
        "id": "k9v94VFOqgpW",
        "outputId": "8dd07899-988e-460c-928c-76f8558818b8"
      },
      "execution_count": 36,
      "outputs": [
        {
          "output_type": "execute_result",
          "data": {
            "text/plain": [
              "array([[ 0.07637417,  0.79927591],\n",
              "       [ 0.31334331, -0.99172214],\n",
              "       [-1.00064635, -0.0045641 ],\n",
              "       ...,\n",
              "       [ 0.77500267, -0.10640489],\n",
              "       [-0.73073113,  0.34332472],\n",
              "       [-0.98504907,  0.1189595 ]])"
            ]
          },
          "metadata": {},
          "execution_count": 36
        }
      ]
    },
    {
      "cell_type": "code",
      "source": [
        "X_test"
      ],
      "metadata": {
        "colab": {
          "base_uri": "https://localhost:8080/"
        },
        "id": "K4D1XmuyqhX_",
        "outputId": "0b3665ef-dd04-453b-9771-abf8877cb368"
      },
      "execution_count": 37,
      "outputs": [
        {
          "output_type": "execute_result",
          "data": {
            "text/plain": [
              "array([[ 8.31658156e-01,  1.10699644e-01],\n",
              "       [ 9.16025789e-01,  3.89993742e-01],\n",
              "       [-9.72045843e-01,  3.61654589e-01],\n",
              "       [-7.38209836e-01,  3.37148322e-01],\n",
              "       [-3.92458102e-01,  9.45375147e-01],\n",
              "       [ 7.27428100e-01, -3.33168028e-01],\n",
              "       [ 7.32943793e-01, -1.15580996e-01],\n",
              "       [ 5.91304708e-01, -7.39711578e-01],\n",
              "       [-4.03255317e-01, -6.62036347e-01],\n",
              "       [-5.02962454e-01,  8.73045819e-01],\n",
              "       [ 1.87807620e-01, -9.54731369e-01],\n",
              "       [ 2.68337155e-01, -9.88215562e-01],\n",
              "       [-6.42490416e-01, -5.44099292e-01],\n",
              "       [ 8.03103454e-02,  8.00708493e-01],\n",
              "       [-5.76602624e-01,  5.84079749e-01],\n",
              "       [ 3.12887650e-01,  7.75557737e-01],\n",
              "       [ 9.65616710e-01, -4.01765972e-01],\n",
              "       [ 4.02416825e-01, -7.43753546e-01],\n",
              "       [-3.75193021e-01,  6.82659723e-01],\n",
              "       [-7.32711059e-01, -7.42138806e-01],\n",
              "       [-9.78655091e-01, -2.72373248e-01],\n",
              "       [ 9.70958043e-01, -3.08188383e-01],\n",
              "       [ 7.41614129e-01, -2.23074475e-01],\n",
              "       [ 4.07124743e-01,  9.25868244e-01],\n",
              "       [ 5.85390699e-01,  8.20306624e-01],\n",
              "       [-7.74357729e-01, -1.20352006e-02],\n",
              "       [-8.96028730e-01,  4.50466843e-01],\n",
              "       [-5.80426565e-01,  8.58521680e-01],\n",
              "       [ 2.54235715e-01, -7.03968386e-01],\n",
              "       [-6.68271902e-01,  4.14771951e-01],\n",
              "       [-6.65721833e-01, -7.18499125e-01],\n",
              "       [-4.70410495e-01, -5.97574818e-01],\n",
              "       [-8.03313695e-01,  1.74317325e-01],\n",
              "       [-7.10865768e-01,  2.78893253e-01],\n",
              "       [ 7.32853942e-01, -1.92748666e-01],\n",
              "       [-9.30671887e-01,  5.73930873e-02],\n",
              "       [-8.71424725e-01, -5.21022848e-01],\n",
              "       [-3.93730729e-01,  6.92882770e-01],\n",
              "       [ 4.61921237e-01, -6.47975267e-01],\n",
              "       [-2.74275495e-01, -7.41031770e-01],\n",
              "       [ 6.71754086e-01, -4.12176614e-01],\n",
              "       [-8.06633343e-01,  2.48190863e-01],\n",
              "       [-8.40051855e-01, -9.54955602e-02],\n",
              "       [-4.62680094e-01,  5.70176630e-01],\n",
              "       [-7.69240144e-01, -2.44141314e-01],\n",
              "       [ 7.01542366e-01, -4.04227441e-01],\n",
              "       [ 3.99742892e-01, -6.78221964e-01],\n",
              "       [-8.38085000e-01, -2.71276235e-02],\n",
              "       [-6.94389949e-01,  4.69444204e-01],\n",
              "       [-7.92887147e-01, -2.25117551e-01],\n",
              "       [-7.46885042e-01, -2.82221891e-01],\n",
              "       [-8.27353510e-01, -6.31371147e-02],\n",
              "       [ 6.83344690e-01,  4.12451136e-01],\n",
              "       [-6.70857169e-01, -4.33863312e-01],\n",
              "       [ 6.97659863e-01, -4.53386647e-01],\n",
              "       [-4.87502878e-01, -8.63723671e-01],\n",
              "       [-9.34229976e-01, -2.45678783e-01],\n",
              "       [ 4.73401939e-01, -8.57305841e-01],\n",
              "       [-5.84464292e-01, -5.74147168e-01],\n",
              "       [ 7.54246251e-01,  2.31480738e-01],\n",
              "       [-6.47946409e-01, -4.14853004e-01],\n",
              "       [-5.62291360e-01,  8.53759062e-01],\n",
              "       [-7.83150446e-01, -1.01364756e-03],\n",
              "       [ 6.25076654e-01, -8.25542663e-01],\n",
              "       [ 9.44695429e-01, -2.45992841e-01],\n",
              "       [-5.06801640e-01, -6.43681959e-01],\n",
              "       [-9.93084281e-01, -1.21781988e-01],\n",
              "       [-7.76697832e-01,  1.76876156e-01],\n",
              "       [-3.56613948e-01, -9.54755863e-01],\n",
              "       [-5.42564212e-02, -7.87469847e-01],\n",
              "       [ 2.73648332e-01, -7.45056273e-01],\n",
              "       [-2.70167681e-01,  7.79378080e-01],\n",
              "       [-1.62759107e-01, -1.05673597e+00],\n",
              "       [-7.71644909e-01,  2.32490110e-01],\n",
              "       [-6.65403348e-01, -3.85398275e-01],\n",
              "       [ 8.13560933e-01,  5.55201916e-02],\n",
              "       [-4.68501412e-01,  8.40986485e-01],\n",
              "       [ 1.03342836e+00, -1.18571633e-01],\n",
              "       [ 7.84218341e-01, -6.52834018e-02],\n",
              "       [ 3.61551897e-01, -7.36727336e-01],\n",
              "       [ 2.84979579e-01, -9.39136604e-01],\n",
              "       [-2.85250150e-01,  9.66377538e-01],\n",
              "       [ 2.98156376e-01,  7.56653964e-01],\n",
              "       [-9.54229159e-01,  3.26710653e-01],\n",
              "       [ 6.93902323e-01, -4.67767379e-01],\n",
              "       [-5.61174721e-01,  5.80646023e-01],\n",
              "       [-9.31376982e-01, -4.29688663e-01],\n",
              "       [-9.97582978e-01, -2.61919662e-01],\n",
              "       [ 8.04023450e-01, -3.61605440e-01],\n",
              "       [ 5.08713138e-01,  8.32569508e-01],\n",
              "       [ 9.30583745e-01,  2.00988970e-01],\n",
              "       [ 8.42866741e-01,  5.17110319e-01],\n",
              "       [ 6.07179107e-01, -5.51666364e-01],\n",
              "       [-2.49301711e-01, -9.87886783e-01],\n",
              "       [-9.80127379e-01,  2.25347584e-01],\n",
              "       [ 7.61658573e-01, -6.38527762e-01],\n",
              "       [ 6.28840199e-01,  5.41155344e-01],\n",
              "       [ 7.26111568e-01,  7.50174999e-01],\n",
              "       [-5.32833346e-01,  8.00326231e-01],\n",
              "       [ 5.98296238e-01, -4.91676448e-01],\n",
              "       [ 7.62810036e-01,  2.60591400e-01],\n",
              "       [ 6.58440423e-01, -7.08097367e-01],\n",
              "       [-8.74219676e-01, -5.44222988e-01],\n",
              "       [-4.15509603e-01, -6.29437470e-01],\n",
              "       [ 7.50995698e-01, -6.06117612e-01],\n",
              "       [ 5.02803416e-01, -8.65666884e-01],\n",
              "       [-6.73855142e-01,  4.20151328e-01],\n",
              "       [-7.54766579e-01, -5.83975237e-01],\n",
              "       [-3.71417638e-01, -9.14851928e-01],\n",
              "       [ 2.42261144e-02, -9.65208153e-01],\n",
              "       [ 6.39701931e-01, -4.91486570e-01],\n",
              "       [-2.56315622e-02,  8.06975101e-01],\n",
              "       [ 9.31762891e-01, -1.56617611e-01],\n",
              "       [-1.42945805e-01, -7.97617162e-01],\n",
              "       [ 5.26488299e-01,  8.36958348e-01],\n",
              "       [-1.17735911e-01,  8.31400714e-01],\n",
              "       [-4.17656387e-01, -6.40403165e-01],\n",
              "       [-5.10981035e-01, -6.38610951e-01],\n",
              "       [-1.90844174e-01,  9.71150119e-01],\n",
              "       [-5.00548959e-01, -6.41682259e-01],\n",
              "       [ 8.88928919e-01,  4.32518065e-01],\n",
              "       [ 2.63260719e-01, -7.44415144e-01],\n",
              "       [-7.93110314e-01, -3.06860720e-02],\n",
              "       [-2.34602142e-01, -9.64001154e-01],\n",
              "       [-8.39507500e-01, -5.31835615e-01],\n",
              "       [ 9.05803169e-01,  3.63188483e-01],\n",
              "       [ 1.33287899e-01,  1.01137262e+00],\n",
              "       [-8.52027650e-01,  4.79030746e-01],\n",
              "       [-7.19816184e-01, -3.34508775e-01],\n",
              "       [ 5.44432177e-01, -6.32257520e-01],\n",
              "       [ 7.28785331e-01,  6.72417726e-01],\n",
              "       [ 9.73275263e-01, -1.87788599e-01],\n",
              "       [ 7.31951723e-01,  3.33721740e-01],\n",
              "       [-2.68202278e-01,  9.84473955e-01],\n",
              "       [ 7.67054727e-01, -1.54019816e-01],\n",
              "       [ 7.94541527e-01,  1.73905863e-01],\n",
              "       [ 9.99095982e-01, -9.17615509e-02],\n",
              "       [-7.73937548e-01,  6.88611640e-01],\n",
              "       [-9.90042642e-01, -3.34045625e-01],\n",
              "       [ 1.01421213e+00,  9.33146289e-02],\n",
              "       [ 6.65991701e-01,  4.06790204e-01],\n",
              "       [ 4.76176622e-01,  6.11939494e-01],\n",
              "       [-6.56067531e-01,  6.71135219e-01],\n",
              "       [ 2.74075521e-01,  7.12377190e-01],\n",
              "       [ 6.38774154e-01,  4.53453479e-01],\n",
              "       [ 9.84376966e-01, -2.25651719e-01],\n",
              "       [ 7.62455251e-01,  1.44075105e-01],\n",
              "       [-5.79846683e-01, -5.96797850e-01],\n",
              "       [-1.52758572e-02,  8.23325937e-01],\n",
              "       [-7.14242507e-01, -6.79217772e-01],\n",
              "       [-1.00365275e+00,  3.45135578e-02],\n",
              "       [-9.95819722e-01,  1.35760468e-02],\n",
              "       [-7.93522140e-02,  9.72335152e-01],\n",
              "       [-7.31732976e-01, -1.23676741e-01],\n",
              "       [ 7.83485410e-01,  6.24729086e-01],\n",
              "       [-9.91314270e-01,  1.42496017e-01],\n",
              "       [ 7.65775186e-01,  5.96702328e-01],\n",
              "       [-7.71048108e-01,  5.76721374e-01],\n",
              "       [ 5.97240716e-01, -5.66165658e-01],\n",
              "       [-6.40389671e-01,  4.28687049e-01],\n",
              "       [ 9.28247902e-01,  3.82374045e-01],\n",
              "       [-5.90785536e-01, -7.79854907e-01],\n",
              "       [ 5.60680914e-01, -7.66208527e-01],\n",
              "       [ 8.26016208e-01, -4.08165567e-02],\n",
              "       [-1.36483595e-02,  8.03348719e-01],\n",
              "       [ 3.61928379e-01,  9.37331806e-01],\n",
              "       [ 6.86083768e-01,  3.63210656e-01],\n",
              "       [ 8.57196083e-01, -5.92490055e-01],\n",
              "       [ 1.46562326e-01, -9.91843556e-01],\n",
              "       [-6.67864722e-01,  4.81669594e-01],\n",
              "       [-3.55457125e-01,  9.54076323e-01],\n",
              "       [ 7.42810593e-01,  2.65989197e-01],\n",
              "       [ 5.50960741e-01, -8.32909994e-01],\n",
              "       [ 7.63463526e-01,  6.25100840e-01],\n",
              "       [ 2.47887633e-01, -9.91962912e-01],\n",
              "       [ 4.64305094e-01,  9.31847686e-01],\n",
              "       [ 7.52769629e-01, -2.49797749e-01],\n",
              "       [ 9.68596526e-01,  2.09774829e-01],\n",
              "       [ 9.91098824e-01,  2.87542081e-01],\n",
              "       [-2.12269468e-02, -8.55487113e-01],\n",
              "       [-7.83373387e-01,  2.60796109e-01],\n",
              "       [-8.22823456e-01, -1.46382760e-01],\n",
              "       [-3.83561728e-01,  6.98671873e-01],\n",
              "       [ 7.27197906e-01, -1.83257860e-01],\n",
              "       [ 7.65979215e-01,  2.91692192e-01],\n",
              "       [-7.67769076e-01, -1.57860646e-01],\n",
              "       [-2.90140757e-01, -7.44222618e-01],\n",
              "       [ 6.44157727e-01,  8.45038340e-01],\n",
              "       [-4.00061823e-01,  6.60419673e-01],\n",
              "       [-9.28367512e-01,  2.77447861e-01],\n",
              "       [-3.49358366e-01, -6.98234963e-01],\n",
              "       [ 6.83032283e-01,  4.60121267e-01],\n",
              "       [ 3.19133758e-02,  7.85290925e-01],\n",
              "       [ 4.18400667e-01, -7.33519986e-01],\n",
              "       [ 7.03741363e-01,  6.84298764e-01],\n",
              "       [-2.97138789e-01,  7.12138068e-01],\n",
              "       [-6.67686081e-01,  8.50906032e-01],\n",
              "       [-3.45176983e-02, -1.04510607e+00],\n",
              "       [-7.17521830e-01, -3.50849262e-01],\n",
              "       [ 6.35651628e-01,  5.17090195e-01]])"
            ]
          },
          "metadata": {},
          "execution_count": 37
        }
      ]
    },
    {
      "cell_type": "code",
      "source": [
        "y_train"
      ],
      "metadata": {
        "colab": {
          "base_uri": "https://localhost:8080/"
        },
        "id": "WjEE75-GqifC",
        "outputId": "5c8f4be5-bc0a-492a-8125-0695ba8c4c5d"
      },
      "execution_count": 38,
      "outputs": [
        {
          "output_type": "execute_result",
          "data": {
            "text/plain": [
              "array([1, 0, 0, 1, 1, 1, 0, 1, 0, 0, 1, 1, 1, 1, 0, 0, 0, 1, 1, 1, 1, 1,\n",
              "       0, 1, 0, 1, 1, 0, 1, 1, 1, 0, 0, 0, 0, 0, 0, 0, 1, 1, 1, 0, 0, 0,\n",
              "       1, 0, 1, 1, 0, 1, 1, 1, 1, 1, 0, 0, 0, 0, 0, 1, 1, 0, 1, 0, 1, 0,\n",
              "       1, 0, 1, 1, 0, 0, 0, 0, 1, 0, 0, 0, 1, 0, 1, 0, 1, 0, 0, 1, 0, 0,\n",
              "       0, 1, 0, 0, 1, 0, 1, 0, 0, 1, 0, 1, 1, 0, 1, 0, 0, 1, 1, 0, 1, 1,\n",
              "       0, 1, 1, 1, 0, 0, 1, 1, 0, 1, 1, 1, 0, 0, 0, 1, 1, 1, 1, 1, 0, 0,\n",
              "       1, 1, 0, 0, 1, 0, 0, 1, 1, 0, 0, 1, 0, 1, 0, 1, 0, 0, 0, 0, 0, 1,\n",
              "       0, 0, 1, 1, 0, 0, 0, 1, 1, 0, 0, 0, 0, 0, 0, 0, 1, 1, 1, 0, 1, 0,\n",
              "       1, 0, 0, 0, 0, 1, 0, 0, 1, 1, 1, 0, 0, 0, 0, 1, 1, 0, 0, 1, 0, 0,\n",
              "       0, 0, 1, 0, 1, 1, 0, 1, 1, 0, 1, 0, 0, 0, 1, 1, 1, 0, 1, 1, 1, 1,\n",
              "       0, 1, 0, 0, 0, 0, 1, 0, 1, 0, 0, 0, 0, 0, 1, 0, 0, 1, 1, 1, 0, 0,\n",
              "       1, 0, 1, 1, 1, 0, 1, 1, 0, 0, 0, 0, 0, 0, 0, 1, 0, 1, 0, 1, 1, 0,\n",
              "       1, 1, 0, 1, 1, 1, 1, 1, 1, 0, 1, 0, 1, 0, 1, 1, 1, 0, 1, 1, 1, 0,\n",
              "       0, 1, 0, 0, 1, 0, 0, 1, 0, 0, 1, 1, 0, 1, 0, 0, 0, 1, 0, 1, 1, 1,\n",
              "       1, 1, 0, 1, 0, 1, 0, 1, 0, 1, 0, 1, 0, 0, 1, 0, 0, 1, 1, 1, 1, 1,\n",
              "       1, 0, 1, 0, 0, 0, 1, 0, 1, 0, 0, 1, 0, 0, 1, 1, 1, 0, 1, 0, 1, 0,\n",
              "       0, 0, 1, 1, 0, 0, 1, 1, 1, 1, 1, 1, 0, 0, 0, 0, 1, 0, 1, 1, 1, 1,\n",
              "       1, 1, 1, 1, 1, 0, 1, 0, 0, 1, 0, 1, 1, 1, 0, 1, 1, 0, 0, 0, 0, 1,\n",
              "       1, 1, 1, 1, 1, 1, 1, 0, 0, 0, 0, 1, 1, 0, 0, 1, 0, 0, 1, 1, 1, 1,\n",
              "       1, 0, 0, 1, 0, 1, 0, 1, 0, 0, 0, 1, 1, 0, 0, 0, 1, 1, 0, 0, 1, 0,\n",
              "       1, 1, 0, 1, 0, 1, 0, 1, 0, 1, 1, 1, 0, 1, 1, 1, 0, 0, 0, 0, 1, 1,\n",
              "       1, 0, 0, 1, 1, 0, 0, 0, 0, 0, 1, 1, 1, 1, 0, 1, 1, 0, 0, 0, 0, 1,\n",
              "       1, 1, 0, 1, 0, 0, 0, 1, 1, 1, 1, 0, 1, 0, 1, 0, 1, 0, 1, 0, 1, 1,\n",
              "       0, 1, 0, 0, 0, 0, 0, 1, 1, 1, 1, 1, 1, 1, 1, 1, 0, 1, 0, 0, 1, 0,\n",
              "       1, 1, 1, 1, 1, 1, 0, 0, 0, 0, 0, 0, 1, 1, 0, 0, 1, 0, 1, 0, 0, 0,\n",
              "       0, 1, 1, 0, 0, 0, 1, 0, 0, 1, 0, 0, 0, 1, 0, 0, 0, 1, 0, 0, 0, 1,\n",
              "       1, 0, 1, 0, 0, 1, 0, 0, 0, 1, 1, 0, 1, 0, 0, 0, 0, 0, 0, 0, 1, 0,\n",
              "       0, 0, 0, 1, 0, 0, 0, 1, 1, 0, 0, 0, 0, 1, 1, 1, 0, 0, 1, 0, 1, 0,\n",
              "       1, 1, 1, 1, 0, 1, 1, 0, 1, 0, 0, 1, 1, 0, 1, 1, 1, 0, 0, 0, 1, 1,\n",
              "       1, 0, 0, 1, 1, 0, 0, 0, 1, 1, 0, 1, 0, 0, 1, 0, 1, 0, 1, 0, 1, 1,\n",
              "       0, 1, 1, 0, 0, 1, 0, 0, 0, 1, 0, 0, 1, 1, 0, 0, 0, 1, 0, 1, 1, 1,\n",
              "       1, 1, 0, 1, 0, 0, 1, 1, 1, 1, 0, 0, 0, 0, 0, 0, 0, 0, 1, 0, 0, 1,\n",
              "       0, 0, 1, 0, 1, 1, 0, 1, 1, 0, 0, 0, 1, 0, 0, 1, 1, 1, 0, 0, 1, 1,\n",
              "       0, 1, 0, 1, 1, 1, 1, 0, 0, 1, 0, 1, 0, 0, 1, 1, 1, 1, 0, 0, 1, 0,\n",
              "       0, 0, 0, 1, 1, 1, 1, 0, 1, 0, 0, 1, 1, 1, 1, 1, 0, 0, 0, 0, 1, 1,\n",
              "       0, 1, 0, 0, 0, 0, 0, 1, 1, 1, 1, 1, 0, 0, 0, 0, 0, 1, 0, 1, 1, 1,\n",
              "       0, 0, 0, 1, 1, 1, 1, 0])"
            ]
          },
          "metadata": {},
          "execution_count": 38
        }
      ]
    },
    {
      "cell_type": "code",
      "source": [
        "len(y_train), len(X_train)"
      ],
      "metadata": {
        "colab": {
          "base_uri": "https://localhost:8080/"
        },
        "id": "gL9SW7VTqn-4",
        "outputId": "03bf17d4-d85f-4021-c7fb-21461846d8f0"
      },
      "execution_count": 39,
      "outputs": [
        {
          "output_type": "execute_result",
          "data": {
            "text/plain": [
              "(800, 800)"
            ]
          },
          "metadata": {},
          "execution_count": 39
        }
      ]
    },
    {
      "cell_type": "code",
      "source": [
        "model_8 = tf.keras.Sequential([\n",
        "  tf.keras.layers.Dense(4, activation=\"relu\"),\n",
        "  tf.keras.layers.Dense(4, activation=\"relu\"),\n",
        "  tf.keras.layers.Dense(1, activation=\"sigmoid\")\n",
        "])\n",
        "\n",
        "model_8.compile(loss=\"binary_crossentropy\",\n",
        "                optimizer=tf.keras.optimizers.Adam(lr=0.01),\n",
        "                metrics=[\"accuracy\"])\n",
        "\n",
        "model_8.fit(X_train, y_train, epochs=100)"
      ],
      "metadata": {
        "colab": {
          "base_uri": "https://localhost:8080/"
        },
        "id": "CkVDu5ucqp1G",
        "outputId": "86f389b4-cf21-4d78-abed-a393a55549d0"
      },
      "execution_count": 40,
      "outputs": [
        {
          "output_type": "stream",
          "name": "stdout",
          "text": [
            "Epoch 1/100\n"
          ]
        },
        {
          "output_type": "stream",
          "name": "stderr",
          "text": [
            "/usr/local/lib/python3.7/dist-packages/keras/optimizer_v2/adam.py:105: UserWarning: The `lr` argument is deprecated, use `learning_rate` instead.\n",
            "  super(Adam, self).__init__(name, **kwargs)\n"
          ]
        },
        {
          "output_type": "stream",
          "name": "stdout",
          "text": [
            "25/25 [==============================] - 1s 2ms/step - loss: 0.7049 - accuracy: 0.4638\n",
            "Epoch 2/100\n",
            "25/25 [==============================] - 0s 2ms/step - loss: 0.6937 - accuracy: 0.4812\n",
            "Epoch 3/100\n",
            "25/25 [==============================] - 0s 2ms/step - loss: 0.6891 - accuracy: 0.5088\n",
            "Epoch 4/100\n",
            "25/25 [==============================] - 0s 2ms/step - loss: 0.6869 - accuracy: 0.5288\n",
            "Epoch 5/100\n",
            "25/25 [==============================] - 0s 2ms/step - loss: 0.6836 - accuracy: 0.5375\n",
            "Epoch 6/100\n",
            "25/25 [==============================] - 0s 2ms/step - loss: 0.6808 - accuracy: 0.5362\n",
            "Epoch 7/100\n",
            "25/25 [==============================] - 0s 2ms/step - loss: 0.6766 - accuracy: 0.5625\n",
            "Epoch 8/100\n",
            "25/25 [==============================] - 0s 2ms/step - loss: 0.6748 - accuracy: 0.5562\n",
            "Epoch 9/100\n",
            "25/25 [==============================] - 0s 2ms/step - loss: 0.6647 - accuracy: 0.5612\n",
            "Epoch 10/100\n",
            "25/25 [==============================] - 0s 2ms/step - loss: 0.6577 - accuracy: 0.5975\n",
            "Epoch 11/100\n",
            "25/25 [==============================] - 0s 2ms/step - loss: 0.6487 - accuracy: 0.5775\n",
            "Epoch 12/100\n",
            "25/25 [==============================] - 0s 2ms/step - loss: 0.6300 - accuracy: 0.6837\n",
            "Epoch 13/100\n",
            "25/25 [==============================] - 0s 2ms/step - loss: 0.6068 - accuracy: 0.6725\n",
            "Epoch 14/100\n",
            "25/25 [==============================] - 0s 2ms/step - loss: 0.5791 - accuracy: 0.6950\n",
            "Epoch 15/100\n",
            "25/25 [==============================] - 0s 2ms/step - loss: 0.5446 - accuracy: 0.7375\n",
            "Epoch 16/100\n",
            "25/25 [==============================] - 0s 2ms/step - loss: 0.4944 - accuracy: 0.8213\n",
            "Epoch 17/100\n",
            "25/25 [==============================] - 0s 2ms/step - loss: 0.4416 - accuracy: 0.8763\n",
            "Epoch 18/100\n",
            "25/25 [==============================] - 0s 2ms/step - loss: 0.3874 - accuracy: 0.8938\n",
            "Epoch 19/100\n",
            "25/25 [==============================] - 0s 2ms/step - loss: 0.3008 - accuracy: 0.9538\n",
            "Epoch 20/100\n",
            "25/25 [==============================] - 0s 2ms/step - loss: 0.2505 - accuracy: 0.9775\n",
            "Epoch 21/100\n",
            "25/25 [==============================] - 0s 2ms/step - loss: 0.2148 - accuracy: 0.9825\n",
            "Epoch 22/100\n",
            "25/25 [==============================] - 0s 2ms/step - loss: 0.1902 - accuracy: 0.9862\n",
            "Epoch 23/100\n",
            "25/25 [==============================] - 0s 2ms/step - loss: 0.1605 - accuracy: 0.9850\n",
            "Epoch 24/100\n",
            "25/25 [==============================] - 0s 2ms/step - loss: 0.1433 - accuracy: 0.9962\n",
            "Epoch 25/100\n",
            "25/25 [==============================] - 0s 2ms/step - loss: 0.1294 - accuracy: 0.9900\n",
            "Epoch 26/100\n",
            "25/25 [==============================] - 0s 2ms/step - loss: 0.1184 - accuracy: 0.9925\n",
            "Epoch 27/100\n",
            "25/25 [==============================] - 0s 2ms/step - loss: 0.1098 - accuracy: 0.9937\n",
            "Epoch 28/100\n",
            "25/25 [==============================] - 0s 2ms/step - loss: 0.0976 - accuracy: 0.9925\n",
            "Epoch 29/100\n",
            "25/25 [==============================] - 0s 2ms/step - loss: 0.0919 - accuracy: 0.9962\n",
            "Epoch 30/100\n",
            "25/25 [==============================] - 0s 2ms/step - loss: 0.0839 - accuracy: 0.9950\n",
            "Epoch 31/100\n",
            "25/25 [==============================] - 0s 2ms/step - loss: 0.0781 - accuracy: 0.9950\n",
            "Epoch 32/100\n",
            "25/25 [==============================] - 0s 2ms/step - loss: 0.0726 - accuracy: 0.9962\n",
            "Epoch 33/100\n",
            "25/25 [==============================] - 0s 2ms/step - loss: 0.0673 - accuracy: 0.9975\n",
            "Epoch 34/100\n",
            "25/25 [==============================] - 0s 2ms/step - loss: 0.0675 - accuracy: 0.9950\n",
            "Epoch 35/100\n",
            "25/25 [==============================] - 0s 2ms/step - loss: 0.0656 - accuracy: 0.9925\n",
            "Epoch 36/100\n",
            "25/25 [==============================] - 0s 2ms/step - loss: 0.0560 - accuracy: 0.9962\n",
            "Epoch 37/100\n",
            "25/25 [==============================] - 0s 2ms/step - loss: 0.0539 - accuracy: 0.9987\n",
            "Epoch 38/100\n",
            "25/25 [==============================] - 0s 2ms/step - loss: 0.0537 - accuracy: 0.9950\n",
            "Epoch 39/100\n",
            "25/25 [==============================] - 0s 2ms/step - loss: 0.0483 - accuracy: 0.9987\n",
            "Epoch 40/100\n",
            "25/25 [==============================] - 0s 2ms/step - loss: 0.0487 - accuracy: 0.9975\n",
            "Epoch 41/100\n",
            "25/25 [==============================] - 0s 2ms/step - loss: 0.0450 - accuracy: 0.9987\n",
            "Epoch 42/100\n",
            "25/25 [==============================] - 0s 2ms/step - loss: 0.0451 - accuracy: 0.9925\n",
            "Epoch 43/100\n",
            "25/25 [==============================] - 0s 2ms/step - loss: 0.0425 - accuracy: 0.9962\n",
            "Epoch 44/100\n",
            "25/25 [==============================] - 0s 2ms/step - loss: 0.0423 - accuracy: 0.9950\n",
            "Epoch 45/100\n",
            "25/25 [==============================] - 0s 2ms/step - loss: 0.0395 - accuracy: 0.9975\n",
            "Epoch 46/100\n",
            "25/25 [==============================] - 0s 2ms/step - loss: 0.0387 - accuracy: 0.9950\n",
            "Epoch 47/100\n",
            "25/25 [==============================] - 0s 2ms/step - loss: 0.0379 - accuracy: 0.9975\n",
            "Epoch 48/100\n",
            "25/25 [==============================] - 0s 2ms/step - loss: 0.0374 - accuracy: 0.9962\n",
            "Epoch 49/100\n",
            "25/25 [==============================] - 0s 2ms/step - loss: 0.0316 - accuracy: 1.0000\n",
            "Epoch 50/100\n",
            "25/25 [==============================] - 0s 2ms/step - loss: 0.0390 - accuracy: 0.9962\n",
            "Epoch 51/100\n",
            "25/25 [==============================] - 0s 2ms/step - loss: 0.0340 - accuracy: 0.9962\n",
            "Epoch 52/100\n",
            "25/25 [==============================] - 0s 2ms/step - loss: 0.0318 - accuracy: 0.9962\n",
            "Epoch 53/100\n",
            "25/25 [==============================] - 0s 2ms/step - loss: 0.0327 - accuracy: 0.9962\n",
            "Epoch 54/100\n",
            "25/25 [==============================] - 0s 2ms/step - loss: 0.0296 - accuracy: 0.9975\n",
            "Epoch 55/100\n",
            "25/25 [==============================] - 0s 2ms/step - loss: 0.0292 - accuracy: 0.9950\n",
            "Epoch 56/100\n",
            "25/25 [==============================] - 0s 2ms/step - loss: 0.0319 - accuracy: 0.9937\n",
            "Epoch 57/100\n",
            "25/25 [==============================] - 0s 2ms/step - loss: 0.0289 - accuracy: 0.9962\n",
            "Epoch 58/100\n",
            "25/25 [==============================] - 0s 2ms/step - loss: 0.0282 - accuracy: 0.9937\n",
            "Epoch 59/100\n",
            "25/25 [==============================] - 0s 2ms/step - loss: 0.0276 - accuracy: 0.9937\n",
            "Epoch 60/100\n",
            "25/25 [==============================] - 0s 2ms/step - loss: 0.0239 - accuracy: 0.9975\n",
            "Epoch 61/100\n",
            "25/25 [==============================] - 0s 2ms/step - loss: 0.0243 - accuracy: 0.9975\n",
            "Epoch 62/100\n",
            "25/25 [==============================] - 0s 2ms/step - loss: 0.0240 - accuracy: 0.9962\n",
            "Epoch 63/100\n",
            "25/25 [==============================] - 0s 3ms/step - loss: 0.0289 - accuracy: 0.9937\n",
            "Epoch 64/100\n",
            "25/25 [==============================] - 0s 2ms/step - loss: 0.0228 - accuracy: 0.9975\n",
            "Epoch 65/100\n",
            "25/25 [==============================] - 0s 2ms/step - loss: 0.0239 - accuracy: 0.9987\n",
            "Epoch 66/100\n",
            "25/25 [==============================] - 0s 2ms/step - loss: 0.0253 - accuracy: 0.9937\n",
            "Epoch 67/100\n",
            "25/25 [==============================] - 0s 2ms/step - loss: 0.0243 - accuracy: 0.9950\n",
            "Epoch 68/100\n",
            "25/25 [==============================] - 0s 2ms/step - loss: 0.0211 - accuracy: 0.9987\n",
            "Epoch 69/100\n",
            "25/25 [==============================] - 0s 2ms/step - loss: 0.0210 - accuracy: 0.9975\n",
            "Epoch 70/100\n",
            "25/25 [==============================] - 0s 2ms/step - loss: 0.0198 - accuracy: 0.9987\n",
            "Epoch 71/100\n",
            "25/25 [==============================] - 0s 2ms/step - loss: 0.0208 - accuracy: 0.9962\n",
            "Epoch 72/100\n",
            "25/25 [==============================] - 0s 3ms/step - loss: 0.0212 - accuracy: 0.9987\n",
            "Epoch 73/100\n",
            "25/25 [==============================] - 0s 2ms/step - loss: 0.0188 - accuracy: 0.9987\n",
            "Epoch 74/100\n",
            "25/25 [==============================] - 0s 2ms/step - loss: 0.0221 - accuracy: 0.9950\n",
            "Epoch 75/100\n",
            "25/25 [==============================] - 0s 2ms/step - loss: 0.0209 - accuracy: 0.9950\n",
            "Epoch 76/100\n",
            "25/25 [==============================] - 0s 2ms/step - loss: 0.0216 - accuracy: 0.9962\n",
            "Epoch 77/100\n",
            "25/25 [==============================] - 0s 2ms/step - loss: 0.0197 - accuracy: 0.9987\n",
            "Epoch 78/100\n",
            "25/25 [==============================] - 0s 2ms/step - loss: 0.0186 - accuracy: 0.9962\n",
            "Epoch 79/100\n",
            "25/25 [==============================] - 0s 2ms/step - loss: 0.0158 - accuracy: 0.9987\n",
            "Epoch 80/100\n",
            "25/25 [==============================] - 0s 2ms/step - loss: 0.0198 - accuracy: 0.9962\n",
            "Epoch 81/100\n",
            "25/25 [==============================] - 0s 2ms/step - loss: 0.0217 - accuracy: 0.9950\n",
            "Epoch 82/100\n",
            "25/25 [==============================] - 0s 2ms/step - loss: 0.0160 - accuracy: 0.9987\n",
            "Epoch 83/100\n",
            "25/25 [==============================] - 0s 2ms/step - loss: 0.0272 - accuracy: 0.9912\n",
            "Epoch 84/100\n",
            "25/25 [==============================] - 0s 2ms/step - loss: 0.0216 - accuracy: 0.9950\n",
            "Epoch 85/100\n",
            "25/25 [==============================] - 0s 2ms/step - loss: 0.0226 - accuracy: 0.9950\n",
            "Epoch 86/100\n",
            "25/25 [==============================] - 0s 2ms/step - loss: 0.0233 - accuracy: 0.9937\n",
            "Epoch 87/100\n",
            "25/25 [==============================] - 0s 2ms/step - loss: 0.0168 - accuracy: 0.9975\n",
            "Epoch 88/100\n",
            "25/25 [==============================] - 0s 2ms/step - loss: 0.0163 - accuracy: 0.9950\n",
            "Epoch 89/100\n",
            "25/25 [==============================] - 0s 2ms/step - loss: 0.0191 - accuracy: 0.9950\n",
            "Epoch 90/100\n",
            "25/25 [==============================] - 0s 2ms/step - loss: 0.0193 - accuracy: 0.9937\n",
            "Epoch 91/100\n",
            "25/25 [==============================] - 0s 2ms/step - loss: 0.0156 - accuracy: 0.9975\n",
            "Epoch 92/100\n",
            "25/25 [==============================] - 0s 2ms/step - loss: 0.0140 - accuracy: 0.9975\n",
            "Epoch 93/100\n",
            "25/25 [==============================] - 0s 2ms/step - loss: 0.0156 - accuracy: 0.9950\n",
            "Epoch 94/100\n",
            "25/25 [==============================] - 0s 2ms/step - loss: 0.0179 - accuracy: 0.9975\n",
            "Epoch 95/100\n",
            "25/25 [==============================] - 0s 2ms/step - loss: 0.0144 - accuracy: 0.9962\n",
            "Epoch 96/100\n",
            "25/25 [==============================] - 0s 2ms/step - loss: 0.0170 - accuracy: 0.9950\n",
            "Epoch 97/100\n",
            "25/25 [==============================] - 0s 2ms/step - loss: 0.0159 - accuracy: 0.9950\n",
            "Epoch 98/100\n",
            "25/25 [==============================] - 0s 2ms/step - loss: 0.0132 - accuracy: 0.9987\n",
            "Epoch 99/100\n",
            "25/25 [==============================] - 0s 2ms/step - loss: 0.0133 - accuracy: 1.0000\n",
            "Epoch 100/100\n",
            "25/25 [==============================] - 0s 2ms/step - loss: 0.0152 - accuracy: 0.9950\n"
          ]
        },
        {
          "output_type": "execute_result",
          "data": {
            "text/plain": [
              "<keras.callbacks.History at 0x7f08e6753c10>"
            ]
          },
          "metadata": {},
          "execution_count": 40
        }
      ]
    },
    {
      "cell_type": "code",
      "source": [
        "model_8.evaluate(X_test, y_test)"
      ],
      "metadata": {
        "colab": {
          "base_uri": "https://localhost:8080/"
        },
        "id": "j7rmKUl5rQPI",
        "outputId": "b8e2e09e-6253-435b-82e7-07f353460c4c"
      },
      "execution_count": 41,
      "outputs": [
        {
          "output_type": "stream",
          "name": "stdout",
          "text": [
            "7/7 [==============================] - 0s 2ms/step - loss: 0.0110 - accuracy: 1.0000\n"
          ]
        },
        {
          "output_type": "execute_result",
          "data": {
            "text/plain": [
              "[0.010977313853800297, 1.0]"
            ]
          },
          "metadata": {},
          "execution_count": 41
        }
      ]
    },
    {
      "cell_type": "markdown",
      "source": [
        "##plot the loss and training of our model"
      ],
      "metadata": {
        "id": "holg982qry8a"
      }
    },
    {
      "cell_type": "code",
      "source": [
        "pd.DataFrame(history.history).plot()"
      ],
      "metadata": {
        "colab": {
          "base_uri": "https://localhost:8080/",
          "height": 283
        },
        "id": "wJhqgOMAsRVd",
        "outputId": "76236e83-b1d8-41c0-b214-f94880a9fc1d"
      },
      "execution_count": 42,
      "outputs": [
        {
          "output_type": "execute_result",
          "data": {
            "text/plain": [
              "<matplotlib.axes._subplots.AxesSubplot at 0x7f08e652d2d0>"
            ]
          },
          "metadata": {},
          "execution_count": 42
        },
        {
          "output_type": "display_data",
          "data": {
            "text/plain": [
              "<Figure size 432x288 with 1 Axes>"
            ],
            "image/png": "[encoded data removed]"
          },
          "metadata": {
            "needs_background": "light"
          }
        }
      ]
    },
    {
      "cell_type": "markdown",
      "source": [
        "##Finding the ideal leanring rate (learning rate where the loss decreases the most during training)\n",
        "### 1. Learning Rate callback\n"
      ],
      "metadata": {
        "id": "Z9gDF13us5lh"
      }
    },
    {
      "cell_type": "code",
      "source": [
        "tf.random.set_seed(30)\n",
        "\n",
        "model_9 = tf.keras.Sequential([\n",
        "  tf.keras.layers.Dense(4, activation=\"relu\"),\n",
        "  tf.keras.layers.Dense(4, activation=\"relu\"),\n",
        "  tf.keras.layers.Dense(1, activation=\"sigmoid\")\n",
        "])\n",
        "\n",
        "model_9.compile(loss=\"binary_crossentropy\",\n",
        "                optimizer=tf.keras.optimizers.Adam(),\n",
        "                metrics=[\"accuracy\"])\n",
        "\n",
        "lr_scheduler = tf.keras.callbacks.LearningRateScheduler(lambda epoch: 1e-4 * 10 **(epoch/20))\n",
        "history_9 = model_9.fit(X_train, y_train, epochs=100, callbacks=[lr_scheduler])"
      ],
      "metadata": {
        "colab": {
          "base_uri": "https://localhost:8080/"
        },
        "id": "5kSeYOpDtbiU",
        "outputId": "3f82c893-bcf5-4eb8-e706-7cc839f22824"
      },
      "execution_count": 43,
      "outputs": [
        {
          "output_type": "stream",
          "name": "stdout",
          "text": [
            "Epoch 1/100\n",
            "25/25 [==============================] - 1s 2ms/step - loss: 0.6991 - accuracy: 0.5000 - lr: 1.0000e-04\n",
            "Epoch 2/100\n",
            "25/25 [==============================] - 0s 2ms/step - loss: 0.6989 - accuracy: 0.5000 - lr: 1.1220e-04\n",
            "Epoch 3/100\n",
            "25/25 [==============================] - 0s 2ms/step - loss: 0.6988 - accuracy: 0.4988 - lr: 1.2589e-04\n",
            "Epoch 4/100\n",
            "25/25 [==============================] - 0s 2ms/step - loss: 0.6986 - accuracy: 0.5000 - lr: 1.4125e-04\n",
            "Epoch 5/100\n",
            "25/25 [==============================] - 0s 2ms/step - loss: 0.6983 - accuracy: 0.5025 - lr: 1.5849e-04\n",
            "Epoch 6/100\n",
            "25/25 [==============================] - 0s 2ms/step - loss: 0.6981 - accuracy: 0.5025 - lr: 1.7783e-04\n",
            "Epoch 7/100\n",
            "25/25 [==============================] - 0s 2ms/step - loss: 0.6978 - accuracy: 0.5013 - lr: 1.9953e-04\n",
            "Epoch 8/100\n",
            "25/25 [==============================] - 0s 2ms/step - loss: 0.6975 - accuracy: 0.5013 - lr: 2.2387e-04\n",
            "Epoch 9/100\n",
            "25/25 [==============================] - 0s 2ms/step - loss: 0.6972 - accuracy: 0.5050 - lr: 2.5119e-04\n",
            "Epoch 10/100\n",
            "25/25 [==============================] - 0s 2ms/step - loss: 0.6969 - accuracy: 0.5038 - lr: 2.8184e-04\n",
            "Epoch 11/100\n",
            "25/25 [==============================] - 0s 2ms/step - loss: 0.6966 - accuracy: 0.5063 - lr: 3.1623e-04\n",
            "Epoch 12/100\n",
            "25/25 [==============================] - 0s 2ms/step - loss: 0.6961 - accuracy: 0.5050 - lr: 3.5481e-04\n",
            "Epoch 13/100\n",
            "25/25 [==============================] - 0s 2ms/step - loss: 0.6958 - accuracy: 0.5038 - lr: 3.9811e-04\n",
            "Epoch 14/100\n",
            "25/25 [==============================] - 0s 2ms/step - loss: 0.6953 - accuracy: 0.5050 - lr: 4.4668e-04\n",
            "Epoch 15/100\n",
            "25/25 [==============================] - 0s 3ms/step - loss: 0.6948 - accuracy: 0.5050 - lr: 5.0119e-04\n",
            "Epoch 16/100\n",
            "25/25 [==============================] - 0s 2ms/step - loss: 0.6944 - accuracy: 0.5063 - lr: 5.6234e-04\n",
            "Epoch 17/100\n",
            "25/25 [==============================] - 0s 2ms/step - loss: 0.6938 - accuracy: 0.5038 - lr: 6.3096e-04\n",
            "Epoch 18/100\n",
            "25/25 [==============================] - 0s 2ms/step - loss: 0.6932 - accuracy: 0.5050 - lr: 7.0795e-04\n",
            "Epoch 19/100\n",
            "25/25 [==============================] - 0s 2ms/step - loss: 0.6927 - accuracy: 0.5063 - lr: 7.9433e-04\n",
            "Epoch 20/100\n",
            "25/25 [==============================] - 0s 2ms/step - loss: 0.6920 - accuracy: 0.5038 - lr: 8.9125e-04\n",
            "Epoch 21/100\n",
            "25/25 [==============================] - 0s 2ms/step - loss: 0.6914 - accuracy: 0.5063 - lr: 0.0010\n",
            "Epoch 22/100\n",
            "25/25 [==============================] - 0s 2ms/step - loss: 0.6907 - accuracy: 0.5063 - lr: 0.0011\n",
            "Epoch 23/100\n",
            "25/25 [==============================] - 0s 2ms/step - loss: 0.6900 - accuracy: 0.5150 - lr: 0.0013\n",
            "Epoch 24/100\n",
            "25/25 [==============================] - 0s 2ms/step - loss: 0.6891 - accuracy: 0.5163 - lr: 0.0014\n",
            "Epoch 25/100\n",
            "25/25 [==============================] - 0s 2ms/step - loss: 0.6884 - accuracy: 0.5138 - lr: 0.0016\n",
            "Epoch 26/100\n",
            "25/25 [==============================] - 0s 2ms/step - loss: 0.6873 - accuracy: 0.5188 - lr: 0.0018\n",
            "Epoch 27/100\n",
            "25/25 [==============================] - 0s 2ms/step - loss: 0.6861 - accuracy: 0.5200 - lr: 0.0020\n",
            "Epoch 28/100\n",
            "25/25 [==============================] - 0s 2ms/step - loss: 0.6850 - accuracy: 0.5175 - lr: 0.0022\n",
            "Epoch 29/100\n",
            "25/25 [==============================] - 0s 2ms/step - loss: 0.6837 - accuracy: 0.5200 - lr: 0.0025\n",
            "Epoch 30/100\n",
            "25/25 [==============================] - 0s 2ms/step - loss: 0.6820 - accuracy: 0.5238 - lr: 0.0028\n",
            "Epoch 31/100\n",
            "25/25 [==============================] - 0s 2ms/step - loss: 0.6800 - accuracy: 0.5288 - lr: 0.0032\n",
            "Epoch 32/100\n",
            "25/25 [==============================] - 0s 2ms/step - loss: 0.6778 - accuracy: 0.5337 - lr: 0.0035\n",
            "Epoch 33/100\n",
            "25/25 [==============================] - 0s 2ms/step - loss: 0.6733 - accuracy: 0.5337 - lr: 0.0040\n",
            "Epoch 34/100\n",
            "25/25 [==============================] - 0s 2ms/step - loss: 0.6686 - accuracy: 0.5400 - lr: 0.0045\n",
            "Epoch 35/100\n",
            "25/25 [==============================] - 0s 2ms/step - loss: 0.6621 - accuracy: 0.5600 - lr: 0.0050\n",
            "Epoch 36/100\n",
            "25/25 [==============================] - 0s 2ms/step - loss: 0.6530 - accuracy: 0.5888 - lr: 0.0056\n",
            "Epoch 37/100\n",
            "25/25 [==============================] - 0s 2ms/step - loss: 0.6387 - accuracy: 0.5987 - lr: 0.0063\n",
            "Epoch 38/100\n",
            "25/25 [==============================] - 0s 2ms/step - loss: 0.6188 - accuracy: 0.6413 - lr: 0.0071\n",
            "Epoch 39/100\n",
            "25/25 [==============================] - 0s 2ms/step - loss: 0.5941 - accuracy: 0.6662 - lr: 0.0079\n",
            "Epoch 40/100\n",
            "25/25 [==============================] - 0s 2ms/step - loss: 0.5557 - accuracy: 0.7038 - lr: 0.0089\n",
            "Epoch 41/100\n",
            "25/25 [==============================] - 0s 2ms/step - loss: 0.5003 - accuracy: 0.8125 - lr: 0.0100\n",
            "Epoch 42/100\n",
            "25/25 [==============================] - 0s 2ms/step - loss: 0.4105 - accuracy: 0.9300 - lr: 0.0112\n",
            "Epoch 43/100\n",
            "25/25 [==============================] - 0s 2ms/step - loss: 0.3200 - accuracy: 0.9500 - lr: 0.0126\n",
            "Epoch 44/100\n",
            "25/25 [==============================] - 0s 2ms/step - loss: 0.2244 - accuracy: 0.9737 - lr: 0.0141\n",
            "Epoch 45/100\n",
            "25/25 [==============================] - 0s 2ms/step - loss: 0.1612 - accuracy: 0.9862 - lr: 0.0158\n",
            "Epoch 46/100\n",
            "25/25 [==============================] - 0s 2ms/step - loss: 0.1182 - accuracy: 0.9850 - lr: 0.0178\n",
            "Epoch 47/100\n",
            "25/25 [==============================] - 0s 2ms/step - loss: 0.1004 - accuracy: 0.9837 - lr: 0.0200\n",
            "Epoch 48/100\n",
            "25/25 [==============================] - 0s 2ms/step - loss: 0.0886 - accuracy: 0.9850 - lr: 0.0224\n",
            "Epoch 49/100\n",
            "25/25 [==============================] - 0s 2ms/step - loss: 0.0755 - accuracy: 0.9825 - lr: 0.0251\n",
            "Epoch 50/100\n",
            "25/25 [==============================] - 0s 2ms/step - loss: 0.0608 - accuracy: 0.9875 - lr: 0.0282\n",
            "Epoch 51/100\n",
            "25/25 [==============================] - 0s 2ms/step - loss: 0.0663 - accuracy: 0.9750 - lr: 0.0316\n",
            "Epoch 52/100\n",
            "25/25 [==============================] - 0s 2ms/step - loss: 0.0537 - accuracy: 0.9850 - lr: 0.0355\n",
            "Epoch 53/100\n",
            "25/25 [==============================] - 0s 2ms/step - loss: 0.0679 - accuracy: 0.9750 - lr: 0.0398\n",
            "Epoch 54/100\n",
            "25/25 [==============================] - 0s 2ms/step - loss: 0.0730 - accuracy: 0.9725 - lr: 0.0447\n",
            "Epoch 55/100\n",
            "25/25 [==============================] - 0s 2ms/step - loss: 0.0413 - accuracy: 0.9862 - lr: 0.0501\n",
            "Epoch 56/100\n",
            "25/25 [==============================] - 0s 2ms/step - loss: 0.1143 - accuracy: 0.9625 - lr: 0.0562\n",
            "Epoch 57/100\n",
            "25/25 [==============================] - 0s 2ms/step - loss: 0.5616 - accuracy: 0.8313 - lr: 0.0631\n",
            "Epoch 58/100\n",
            "25/25 [==============================] - 0s 2ms/step - loss: 0.4345 - accuracy: 0.7487 - lr: 0.0708\n",
            "Epoch 59/100\n",
            "25/25 [==============================] - 0s 2ms/step - loss: 0.1762 - accuracy: 0.9563 - lr: 0.0794\n",
            "Epoch 60/100\n",
            "25/25 [==============================] - 0s 2ms/step - loss: 0.0907 - accuracy: 0.9650 - lr: 0.0891\n",
            "Epoch 61/100\n",
            "25/25 [==============================] - 0s 2ms/step - loss: 0.0528 - accuracy: 0.9887 - lr: 0.1000\n",
            "Epoch 62/100\n",
            "25/25 [==============================] - 0s 2ms/step - loss: 0.0637 - accuracy: 0.9800 - lr: 0.1122\n",
            "Epoch 63/100\n",
            "25/25 [==============================] - 0s 2ms/step - loss: 0.1135 - accuracy: 0.9513 - lr: 0.1259\n",
            "Epoch 64/100\n",
            "25/25 [==============================] - 0s 2ms/step - loss: 0.3256 - accuracy: 0.8900 - lr: 0.1413\n",
            "Epoch 65/100\n",
            "25/25 [==============================] - 0s 2ms/step - loss: 0.2597 - accuracy: 0.9062 - lr: 0.1585\n",
            "Epoch 66/100\n",
            "25/25 [==============================] - 0s 2ms/step - loss: 0.1336 - accuracy: 0.9600 - lr: 0.1778\n",
            "Epoch 67/100\n",
            "25/25 [==============================] - 0s 2ms/step - loss: 0.1391 - accuracy: 0.9413 - lr: 0.1995\n",
            "Epoch 68/100\n",
            "25/25 [==============================] - 0s 2ms/step - loss: 0.3311 - accuracy: 0.8662 - lr: 0.2239\n",
            "Epoch 69/100\n",
            "25/25 [==============================] - 0s 2ms/step - loss: 0.2810 - accuracy: 0.8850 - lr: 0.2512\n",
            "Epoch 70/100\n",
            "25/25 [==============================] - 0s 2ms/step - loss: 0.1190 - accuracy: 0.9575 - lr: 0.2818\n",
            "Epoch 71/100\n",
            "25/25 [==============================] - 0s 2ms/step - loss: 0.2709 - accuracy: 0.9075 - lr: 0.3162\n",
            "Epoch 72/100\n",
            "25/25 [==============================] - 0s 2ms/step - loss: 0.3614 - accuracy: 0.8363 - lr: 0.3548\n",
            "Epoch 73/100\n",
            "25/25 [==============================] - 0s 2ms/step - loss: 0.1628 - accuracy: 0.9375 - lr: 0.3981\n",
            "Epoch 74/100\n",
            "25/25 [==============================] - 0s 2ms/step - loss: 0.3064 - accuracy: 0.8938 - lr: 0.4467\n",
            "Epoch 75/100\n",
            "25/25 [==============================] - 0s 2ms/step - loss: 0.3362 - accuracy: 0.8450 - lr: 0.5012\n",
            "Epoch 76/100\n",
            "25/25 [==============================] - 0s 2ms/step - loss: 0.6201 - accuracy: 0.6338 - lr: 0.5623\n",
            "Epoch 77/100\n",
            "25/25 [==============================] - 0s 2ms/step - loss: 0.6982 - accuracy: 0.5013 - lr: 0.6310\n",
            "Epoch 78/100\n",
            "25/25 [==============================] - 0s 2ms/step - loss: 0.7146 - accuracy: 0.4963 - lr: 0.7079\n",
            "Epoch 79/100\n",
            "25/25 [==============================] - 0s 2ms/step - loss: 0.7009 - accuracy: 0.5138 - lr: 0.7943\n",
            "Epoch 80/100\n",
            "25/25 [==============================] - 0s 2ms/step - loss: 0.7297 - accuracy: 0.5063 - lr: 0.8913\n",
            "Epoch 81/100\n",
            "25/25 [==============================] - 0s 2ms/step - loss: 0.7236 - accuracy: 0.5063 - lr: 1.0000\n",
            "Epoch 82/100\n",
            "25/25 [==============================] - 0s 2ms/step - loss: 0.7037 - accuracy: 0.5288 - lr: 1.1220\n",
            "Epoch 83/100\n",
            "25/25 [==============================] - 0s 2ms/step - loss: 0.7052 - accuracy: 0.5188 - lr: 1.2589\n",
            "Epoch 84/100\n",
            "25/25 [==============================] - 0s 2ms/step - loss: 0.7714 - accuracy: 0.4988 - lr: 1.4125\n",
            "Epoch 85/100\n",
            "25/25 [==============================] - 0s 3ms/step - loss: 0.7402 - accuracy: 0.4812 - lr: 1.5849\n",
            "Epoch 86/100\n",
            "25/25 [==============================] - 0s 2ms/step - loss: 0.7104 - accuracy: 0.5113 - lr: 1.7783\n",
            "Epoch 87/100\n",
            "25/25 [==============================] - 0s 2ms/step - loss: 0.7074 - accuracy: 0.4563 - lr: 1.9953\n",
            "Epoch 88/100\n",
            "25/25 [==============================] - 0s 2ms/step - loss: 0.7164 - accuracy: 0.4812 - lr: 2.2387\n",
            "Epoch 89/100\n",
            "25/25 [==============================] - 0s 2ms/step - loss: 0.8051 - accuracy: 0.4837 - lr: 2.5119\n",
            "Epoch 90/100\n",
            "25/25 [==============================] - 0s 2ms/step - loss: 0.7666 - accuracy: 0.5337 - lr: 2.8184\n",
            "Epoch 91/100\n",
            "25/25 [==============================] - 0s 2ms/step - loss: 0.7756 - accuracy: 0.5337 - lr: 3.1623\n",
            "Epoch 92/100\n",
            "25/25 [==============================] - 0s 2ms/step - loss: 0.7257 - accuracy: 0.4913 - lr: 3.5481\n",
            "Epoch 93/100\n",
            "25/25 [==============================] - 0s 2ms/step - loss: 0.7303 - accuracy: 0.4938 - lr: 3.9811\n",
            "Epoch 94/100\n",
            "25/25 [==============================] - 0s 2ms/step - loss: 0.8260 - accuracy: 0.5487 - lr: 4.4668\n",
            "Epoch 95/100\n",
            "25/25 [==============================] - 0s 2ms/step - loss: 0.8099 - accuracy: 0.5038 - lr: 5.0119\n",
            "Epoch 96/100\n",
            "25/25 [==============================] - 0s 2ms/step - loss: 0.7550 - accuracy: 0.4812 - lr: 5.6234\n",
            "Epoch 97/100\n",
            "25/25 [==============================] - 0s 2ms/step - loss: 0.7997 - accuracy: 0.5163 - lr: 6.3096\n",
            "Epoch 98/100\n",
            "25/25 [==============================] - 0s 2ms/step - loss: 0.7894 - accuracy: 0.4613 - lr: 7.0795\n",
            "Epoch 99/100\n",
            "25/25 [==============================] - 0s 2ms/step - loss: 0.7674 - accuracy: 0.5013 - lr: 7.9433\n",
            "Epoch 100/100\n",
            "25/25 [==============================] - 0s 2ms/step - loss: 0.8763 - accuracy: 0.5038 - lr: 8.9125\n"
          ]
        }
      ]
    },
    {
      "cell_type": "code",
      "source": [
        "pd.DataFrame(history_9.history).plot(figsize=(10, 7), xlabel=\"epochs\")"
      ],
      "metadata": {
        "colab": {
          "base_uri": "https://localhost:8080/",
          "height": 460
        },
        "id": "myl_8b45uZCV",
        "outputId": "55944155-4fe3-4e96-c22a-565f6416976f"
      },
      "execution_count": 44,
      "outputs": [
        {
          "output_type": "execute_result",
          "data": {
            "text/plain": [
              "<matplotlib.axes._subplots.AxesSubplot at 0x7f08e691ad10>"
            ]
          },
          "metadata": {},
          "execution_count": 44
        },
        {
          "output_type": "display_data",
          "data": {
            "text/plain": [
              "<Figure size 720x504 with 1 Axes>"
            ],
            "image/png": "[encoded data removed]"
          },
          "metadata": {
            "needs_background": "light"
          }
        }
      ]
    },
    {
      "cell_type": "code",
      "source": [
        "model_10 = tf.keras.Sequential([\n",
        "  tf.keras.layers.Dense(4, activation=\"relu\"),\n",
        "  tf.keras.layers.Dense(4, activation=\"relu\"),\n",
        "  tf.keras.layers.Dense(1, activation=\"sigmoid\")\n",
        "])\n",
        "\n",
        "model_10.compile(loss=\"binary_crossentropy\",\n",
        "                 optimizer=tf.keras.optimizers.Adam(lr=0.02),\n",
        "                 metrics=[\"accuracy\"])\n",
        "\n",
        "history_10 = model_10.fit(X_train, y_train, epochs=100)"
      ],
      "metadata": {
        "id": "vxwp2Tr9uy5S",
        "colab": {
          "base_uri": "https://localhost:8080/"
        },
        "outputId": "986a38b8-cb90-4881-da8d-6789b0d84a50"
      },
      "execution_count": 45,
      "outputs": [
        {
          "output_type": "stream",
          "name": "stdout",
          "text": [
            "Epoch 1/100\n"
          ]
        },
        {
          "output_type": "stream",
          "name": "stderr",
          "text": [
            "/usr/local/lib/python3.7/dist-packages/keras/optimizer_v2/adam.py:105: UserWarning: The `lr` argument is deprecated, use `learning_rate` instead.\n",
            "  super(Adam, self).__init__(name, **kwargs)\n"
          ]
        },
        {
          "output_type": "stream",
          "name": "stdout",
          "text": [
            "25/25 [==============================] - 0s 2ms/step - loss: 0.6893 - accuracy: 0.5250\n",
            "Epoch 2/100\n",
            "25/25 [==============================] - 0s 2ms/step - loss: 0.6788 - accuracy: 0.5275\n",
            "Epoch 3/100\n",
            "25/25 [==============================] - 0s 2ms/step - loss: 0.6641 - accuracy: 0.6087\n",
            "Epoch 4/100\n",
            "25/25 [==============================] - 0s 2ms/step - loss: 0.6422 - accuracy: 0.6087\n",
            "Epoch 5/100\n",
            "25/25 [==============================] - 0s 2ms/step - loss: 0.5993 - accuracy: 0.6750\n",
            "Epoch 6/100\n",
            "25/25 [==============================] - 0s 2ms/step - loss: 0.5292 - accuracy: 0.7525\n",
            "Epoch 7/100\n",
            "25/25 [==============================] - 0s 3ms/step - loss: 0.4779 - accuracy: 0.7987\n",
            "Epoch 8/100\n",
            "25/25 [==============================] - 0s 2ms/step - loss: 0.4335 - accuracy: 0.8163\n",
            "Epoch 9/100\n",
            "25/25 [==============================] - 0s 2ms/step - loss: 0.4239 - accuracy: 0.8188\n",
            "Epoch 10/100\n",
            "25/25 [==============================] - 0s 2ms/step - loss: 0.3520 - accuracy: 0.8637\n",
            "Epoch 11/100\n",
            "25/25 [==============================] - 0s 2ms/step - loss: 0.3067 - accuracy: 0.8838\n",
            "Epoch 12/100\n",
            "25/25 [==============================] - 0s 2ms/step - loss: 0.2530 - accuracy: 0.9100\n",
            "Epoch 13/100\n",
            "25/25 [==============================] - 0s 2ms/step - loss: 0.1383 - accuracy: 0.9737\n",
            "Epoch 14/100\n",
            "25/25 [==============================] - 0s 3ms/step - loss: 0.0988 - accuracy: 0.9862\n",
            "Epoch 15/100\n",
            "25/25 [==============================] - 0s 2ms/step - loss: 0.0782 - accuracy: 0.9875\n",
            "Epoch 16/100\n",
            "25/25 [==============================] - 0s 2ms/step - loss: 0.0621 - accuracy: 0.9925\n",
            "Epoch 17/100\n",
            "25/25 [==============================] - 0s 2ms/step - loss: 0.0585 - accuracy: 0.9850\n",
            "Epoch 18/100\n",
            "25/25 [==============================] - 0s 2ms/step - loss: 0.0541 - accuracy: 0.9900\n",
            "Epoch 19/100\n",
            "25/25 [==============================] - 0s 3ms/step - loss: 0.0499 - accuracy: 0.9850\n",
            "Epoch 20/100\n",
            "25/25 [==============================] - 0s 2ms/step - loss: 0.0377 - accuracy: 0.9937\n",
            "Epoch 21/100\n",
            "25/25 [==============================] - 0s 2ms/step - loss: 0.0422 - accuracy: 0.9925\n",
            "Epoch 22/100\n",
            "25/25 [==============================] - 0s 2ms/step - loss: 0.0299 - accuracy: 0.9950\n",
            "Epoch 23/100\n",
            "25/25 [==============================] - 0s 2ms/step - loss: 0.0329 - accuracy: 0.9950\n",
            "Epoch 24/100\n",
            "25/25 [==============================] - 0s 2ms/step - loss: 0.0296 - accuracy: 0.9912\n",
            "Epoch 25/100\n",
            "25/25 [==============================] - 0s 2ms/step - loss: 0.0383 - accuracy: 0.9887\n",
            "Epoch 26/100\n",
            "25/25 [==============================] - 0s 2ms/step - loss: 0.0453 - accuracy: 0.9837\n",
            "Epoch 27/100\n",
            "25/25 [==============================] - 0s 2ms/step - loss: 0.0331 - accuracy: 0.9925\n",
            "Epoch 28/100\n",
            "25/25 [==============================] - 0s 2ms/step - loss: 0.0343 - accuracy: 0.9925\n",
            "Epoch 29/100\n",
            "25/25 [==============================] - 0s 2ms/step - loss: 0.0344 - accuracy: 0.9875\n",
            "Epoch 30/100\n",
            "25/25 [==============================] - 0s 2ms/step - loss: 0.0301 - accuracy: 0.9900\n",
            "Epoch 31/100\n",
            "25/25 [==============================] - 0s 2ms/step - loss: 0.0179 - accuracy: 0.9962\n",
            "Epoch 32/100\n",
            "25/25 [==============================] - 0s 2ms/step - loss: 0.0285 - accuracy: 0.9925\n",
            "Epoch 33/100\n",
            "25/25 [==============================] - 0s 2ms/step - loss: 0.0191 - accuracy: 0.9937\n",
            "Epoch 34/100\n",
            "25/25 [==============================] - 0s 2ms/step - loss: 0.0320 - accuracy: 0.9912\n",
            "Epoch 35/100\n",
            "25/25 [==============================] - 0s 2ms/step - loss: 0.0240 - accuracy: 0.9937\n",
            "Epoch 36/100\n",
            "25/25 [==============================] - 0s 2ms/step - loss: 0.0161 - accuracy: 0.9975\n",
            "Epoch 37/100\n",
            "25/25 [==============================] - 0s 3ms/step - loss: 0.0172 - accuracy: 0.9937\n",
            "Epoch 38/100\n",
            "25/25 [==============================] - 0s 2ms/step - loss: 0.0138 - accuracy: 0.9950\n",
            "Epoch 39/100\n",
            "25/25 [==============================] - 0s 2ms/step - loss: 0.0146 - accuracy: 0.9975\n",
            "Epoch 40/100\n",
            "25/25 [==============================] - 0s 2ms/step - loss: 0.0131 - accuracy: 0.9962\n",
            "Epoch 41/100\n",
            "25/25 [==============================] - 0s 2ms/step - loss: 0.0138 - accuracy: 0.9975\n",
            "Epoch 42/100\n",
            "25/25 [==============================] - 0s 2ms/step - loss: 0.0224 - accuracy: 0.9962\n",
            "Epoch 43/100\n",
            "25/25 [==============================] - 0s 2ms/step - loss: 0.0236 - accuracy: 0.9912\n",
            "Epoch 44/100\n",
            "25/25 [==============================] - 0s 2ms/step - loss: 0.0183 - accuracy: 0.9925\n",
            "Epoch 45/100\n",
            "25/25 [==============================] - 0s 2ms/step - loss: 0.0158 - accuracy: 0.9950\n",
            "Epoch 46/100\n",
            "25/25 [==============================] - 0s 2ms/step - loss: 0.0149 - accuracy: 0.9950\n",
            "Epoch 47/100\n",
            "25/25 [==============================] - 0s 2ms/step - loss: 0.0175 - accuracy: 0.9937\n",
            "Epoch 48/100\n",
            "25/25 [==============================] - 0s 2ms/step - loss: 0.0281 - accuracy: 0.9887\n",
            "Epoch 49/100\n",
            "25/25 [==============================] - 0s 2ms/step - loss: 0.0157 - accuracy: 0.9962\n",
            "Epoch 50/100\n",
            "25/25 [==============================] - 0s 2ms/step - loss: 0.0184 - accuracy: 0.9962\n",
            "Epoch 51/100\n",
            "25/25 [==============================] - 0s 2ms/step - loss: 0.0129 - accuracy: 0.9975\n",
            "Epoch 52/100\n",
            "25/25 [==============================] - 0s 2ms/step - loss: 0.0135 - accuracy: 0.9950\n",
            "Epoch 53/100\n",
            "25/25 [==============================] - 0s 2ms/step - loss: 0.0168 - accuracy: 0.9950\n",
            "Epoch 54/100\n",
            "25/25 [==============================] - 0s 2ms/step - loss: 0.0227 - accuracy: 0.9887\n",
            "Epoch 55/100\n",
            "25/25 [==============================] - 0s 2ms/step - loss: 0.0218 - accuracy: 0.9925\n",
            "Epoch 56/100\n",
            "25/25 [==============================] - 0s 2ms/step - loss: 0.0278 - accuracy: 0.9900\n",
            "Epoch 57/100\n",
            "25/25 [==============================] - 0s 2ms/step - loss: 0.0431 - accuracy: 0.9850\n",
            "Epoch 58/100\n",
            "25/25 [==============================] - 0s 2ms/step - loss: 0.0206 - accuracy: 0.9925\n",
            "Epoch 59/100\n",
            "25/25 [==============================] - 0s 2ms/step - loss: 0.0206 - accuracy: 0.9937\n",
            "Epoch 60/100\n",
            "25/25 [==============================] - 0s 2ms/step - loss: 0.0192 - accuracy: 0.9912\n",
            "Epoch 61/100\n",
            "25/25 [==============================] - 0s 2ms/step - loss: 0.0119 - accuracy: 0.9950\n",
            "Epoch 62/100\n",
            "25/25 [==============================] - 0s 2ms/step - loss: 0.0224 - accuracy: 0.9912\n",
            "Epoch 63/100\n",
            "25/25 [==============================] - 0s 2ms/step - loss: 0.0260 - accuracy: 0.9912\n",
            "Epoch 64/100\n",
            "25/25 [==============================] - 0s 2ms/step - loss: 0.0096 - accuracy: 0.9975\n",
            "Epoch 65/100\n",
            "25/25 [==============================] - 0s 2ms/step - loss: 0.0134 - accuracy: 0.9962\n",
            "Epoch 66/100\n",
            "25/25 [==============================] - 0s 2ms/step - loss: 0.0178 - accuracy: 0.9925\n",
            "Epoch 67/100\n",
            "25/25 [==============================] - 0s 2ms/step - loss: 0.0146 - accuracy: 0.9937\n",
            "Epoch 68/100\n",
            "25/25 [==============================] - 0s 2ms/step - loss: 0.0184 - accuracy: 0.9950\n",
            "Epoch 69/100\n",
            "25/25 [==============================] - 0s 2ms/step - loss: 0.0453 - accuracy: 0.9800\n",
            "Epoch 70/100\n",
            "25/25 [==============================] - 0s 2ms/step - loss: 0.0154 - accuracy: 0.9950\n",
            "Epoch 71/100\n",
            "25/25 [==============================] - 0s 2ms/step - loss: 0.0119 - accuracy: 0.9962\n",
            "Epoch 72/100\n",
            "25/25 [==============================] - 0s 2ms/step - loss: 0.0158 - accuracy: 0.9950\n",
            "Epoch 73/100\n",
            "25/25 [==============================] - 0s 2ms/step - loss: 0.0211 - accuracy: 0.9875\n",
            "Epoch 74/100\n",
            "25/25 [==============================] - 0s 2ms/step - loss: 0.0445 - accuracy: 0.9787\n",
            "Epoch 75/100\n",
            "25/25 [==============================] - 0s 2ms/step - loss: 0.0238 - accuracy: 0.9887\n",
            "Epoch 76/100\n",
            "25/25 [==============================] - 0s 2ms/step - loss: 0.0169 - accuracy: 0.9925\n",
            "Epoch 77/100\n",
            "25/25 [==============================] - 0s 2ms/step - loss: 0.0209 - accuracy: 0.9925\n",
            "Epoch 78/100\n",
            "25/25 [==============================] - 0s 2ms/step - loss: 0.0186 - accuracy: 0.9937\n",
            "Epoch 79/100\n",
            "25/25 [==============================] - 0s 2ms/step - loss: 0.0217 - accuracy: 0.9912\n",
            "Epoch 80/100\n",
            "25/25 [==============================] - 0s 2ms/step - loss: 0.0306 - accuracy: 0.9850\n",
            "Epoch 81/100\n",
            "25/25 [==============================] - 0s 2ms/step - loss: 0.0834 - accuracy: 0.9737\n",
            "Epoch 82/100\n",
            "25/25 [==============================] - 0s 2ms/step - loss: 0.0338 - accuracy: 0.9837\n",
            "Epoch 83/100\n",
            "25/25 [==============================] - 0s 2ms/step - loss: 0.0142 - accuracy: 0.9937\n",
            "Epoch 84/100\n",
            "25/25 [==============================] - 0s 2ms/step - loss: 0.0190 - accuracy: 0.9950\n",
            "Epoch 85/100\n",
            "25/25 [==============================] - 0s 2ms/step - loss: 0.0112 - accuracy: 0.9962\n",
            "Epoch 86/100\n",
            "25/25 [==============================] - 0s 2ms/step - loss: 0.0113 - accuracy: 0.9962\n",
            "Epoch 87/100\n",
            "25/25 [==============================] - 0s 2ms/step - loss: 0.0117 - accuracy: 0.9950\n",
            "Epoch 88/100\n",
            "25/25 [==============================] - 0s 2ms/step - loss: 0.0102 - accuracy: 0.9950\n",
            "Epoch 89/100\n",
            "25/25 [==============================] - 0s 2ms/step - loss: 0.0171 - accuracy: 0.9925\n",
            "Epoch 90/100\n",
            "25/25 [==============================] - 0s 2ms/step - loss: 0.0151 - accuracy: 0.9950\n",
            "Epoch 91/100\n",
            "25/25 [==============================] - 0s 2ms/step - loss: 0.0177 - accuracy: 0.9925\n",
            "Epoch 92/100\n",
            "25/25 [==============================] - 0s 2ms/step - loss: 0.0090 - accuracy: 0.9962\n",
            "Epoch 93/100\n",
            "25/25 [==============================] - 0s 2ms/step - loss: 0.0254 - accuracy: 0.9875\n",
            "Epoch 94/100\n",
            "25/25 [==============================] - 0s 2ms/step - loss: 0.0241 - accuracy: 0.9937\n",
            "Epoch 95/100\n",
            "25/25 [==============================] - 0s 2ms/step - loss: 0.0192 - accuracy: 0.9900\n",
            "Epoch 96/100\n",
            "25/25 [==============================] - 0s 2ms/step - loss: 0.0138 - accuracy: 0.9950\n",
            "Epoch 97/100\n",
            "25/25 [==============================] - 0s 2ms/step - loss: 0.0181 - accuracy: 0.9912\n",
            "Epoch 98/100\n",
            "25/25 [==============================] - 0s 2ms/step - loss: 0.0314 - accuracy: 0.9887\n",
            "Epoch 99/100\n",
            "25/25 [==============================] - 0s 2ms/step - loss: 0.0124 - accuracy: 0.9975\n",
            "Epoch 100/100\n",
            "25/25 [==============================] - 0s 2ms/step - loss: 0.0262 - accuracy: 0.9887\n"
          ]
        }
      ]
    },
    {
      "cell_type": "code",
      "source": [
        "#Evaluate MOdel_10\n",
        "model_10.evaluate(X_test, y_test)"
      ],
      "metadata": {
        "colab": {
          "base_uri": "https://localhost:8080/"
        },
        "id": "D2R1u78dt3Bh",
        "outputId": "3ef32e3d-7199-4b9d-f23c-aef2ea09f655"
      },
      "execution_count": 46,
      "outputs": [
        {
          "output_type": "stream",
          "name": "stdout",
          "text": [
            "7/7 [==============================] - 0s 2ms/step - loss: 0.0671 - accuracy: 0.9800\n"
          ]
        },
        {
          "output_type": "execute_result",
          "data": {
            "text/plain": [
              "[0.06708823889493942, 0.9800000190734863]"
            ]
          },
          "metadata": {},
          "execution_count": 46
        }
      ]
    },
    {
      "cell_type": "markdown",
      "source": [
        "#more classification evaluation metics\n",
        "##Accuracy - Default, not the best for unbalanced data\n",
        "##Precision - Higher precision leads to less false positives\n",
        "##Recall - Higher reacall leads to less false negatives\n",
        "####BEWARE PRECISION RECALL TRADEOFF\n",
        "##f1-score - Combination of precision and recall, usually a good overall metric for a classification model\n",
        "##Confusion Matrix - When comparing predicitiosn to truth labels to see where the model gets confused. Can be hard to use with large numbers of classes\n"
      ],
      "metadata": {
        "id": "ApxnuLT2uFcs"
      }
    },
    {
      "cell_type": "code",
      "source": [
        "loss, accuracy = model_10.evaluate(X_test, y_test)\n",
        "print(f\"Model loss on the test set: {loss}\")\n",
        "print(f\"Model accuracy on the test set : {(accuracy*100):.2f}%\")"
      ],
      "metadata": {
        "colab": {
          "base_uri": "https://localhost:8080/"
        },
        "id": "P5pGAdyRuztr",
        "outputId": "c14bc5d6-f972-428c-916a-dc28fbb543f9"
      },
      "execution_count": 47,
      "outputs": [
        {
          "output_type": "stream",
          "name": "stdout",
          "text": [
            "7/7 [==============================] - 0s 2ms/step - loss: 0.0671 - accuracy: 0.9800\n",
            "Model loss on the test set: 0.06708823889493942\n",
            "Model accuracy on the test set : 98.00%\n"
          ]
        }
      ]
    },
    {
      "cell_type": "code",
      "source": [
        "from sklearn.metrics import confusion_matrix\n",
        "y_preds = model_10.predict(X_test)\n",
        "y_test, y_preds\n",
        "#confusion_matrix(y_test, y_preds)"
      ],
      "metadata": {
        "colab": {
          "base_uri": "https://localhost:8080/"
        },
        "id": "4u1C_hcww6J9",
        "outputId": "8c641843-cda0-4af3-d1b9-f186054a7e83"
      },
      "execution_count": 48,
      "outputs": [
        {
          "output_type": "execute_result",
          "data": {
            "text/plain": [
              "(array([1, 0, 0, 1, 0, 1, 1, 0, 1, 0, 0, 0, 1, 1, 1, 1, 0, 1, 1, 0, 0, 0,\n",
              "        1, 0, 0, 1, 0, 0, 1, 1, 0, 1, 1, 1, 1, 0, 0, 1, 1, 1, 1, 1, 1, 1,\n",
              "        1, 1, 1, 1, 1, 1, 1, 1, 1, 1, 1, 0, 0, 0, 1, 1, 1, 0, 1, 0, 0, 1,\n",
              "        0, 1, 0, 1, 1, 1, 0, 1, 1, 1, 0, 0, 1, 1, 0, 0, 1, 0, 1, 1, 0, 0,\n",
              "        1, 0, 0, 0, 1, 0, 0, 0, 1, 0, 0, 1, 1, 0, 0, 1, 0, 0, 1, 0, 0, 0,\n",
              "        1, 1, 0, 1, 0, 1, 1, 1, 0, 1, 0, 1, 1, 0, 0, 0, 0, 0, 1, 1, 0, 0,\n",
              "        1, 0, 1, 1, 0, 0, 0, 0, 1, 1, 0, 1, 1, 0, 1, 1, 1, 0, 0, 0, 0, 1,\n",
              "        0, 0, 0, 0, 1, 1, 0, 0, 0, 1, 1, 0, 1, 0, 0, 1, 0, 1, 0, 0, 0, 0,\n",
              "        1, 0, 0, 1, 1, 1, 1, 1, 1, 1, 1, 0, 1, 0, 1, 1, 1, 1, 0, 1, 0, 0,\n",
              "        1, 1]), array([[9.86429632e-01],\n",
              "        [1.00311800e-05],\n",
              "        [2.81903283e-08],\n",
              "        [9.99919355e-01],\n",
              "        [2.76668402e-06],\n",
              "        [9.99937296e-01],\n",
              "        [9.99900699e-01],\n",
              "        [7.31050968e-04],\n",
              "        [9.99963164e-01],\n",
              "        [1.27017498e-04],\n",
              "        [8.69056009e-07],\n",
              "        [1.30976674e-09],\n",
              "        [9.99944925e-01],\n",
              "        [9.99875546e-01],\n",
              "        [9.99879003e-01],\n",
              "        [9.99876618e-01],\n",
              "        [3.32907015e-13],\n",
              "        [9.52652216e-01],\n",
              "        [9.99873459e-01],\n",
              "        [2.81404908e-07],\n",
              "        [4.88191363e-05],\n",
              "        [6.76821765e-10],\n",
              "        [9.99914408e-01],\n",
              "        [2.58029303e-07],\n",
              "        [9.39538722e-08],\n",
              "        [9.99943137e-01],\n",
              "        [1.34397578e-06],\n",
              "        [5.86163260e-05],\n",
              "        [9.99982715e-01],\n",
              "        [9.99907374e-01],\n",
              "        [6.52492046e-04],\n",
              "        [9.99950349e-01],\n",
              "        [9.99937654e-01],\n",
              "        [9.99924779e-01],\n",
              "        [9.99902606e-01],\n",
              "        [9.94691730e-01],\n",
              "        [6.15626574e-04],\n",
              "        [9.99871135e-01],\n",
              "        [9.99983072e-01],\n",
              "        [9.99974966e-01],\n",
              "        [9.99959350e-01],\n",
              "        [9.99930918e-01],\n",
              "        [9.99894261e-01],\n",
              "        [9.99885499e-01],\n",
              "        [9.99946117e-01],\n",
              "        [9.99453545e-01],\n",
              "        [9.99967337e-01],\n",
              "        [9.99946058e-01],\n",
              "        [9.99901056e-01],\n",
              "        [9.99922156e-01],\n",
              "        [9.99945760e-01],\n",
              "        [9.99946117e-01],\n",
              "        [9.99894381e-01],\n",
              "        [9.99944627e-01],\n",
              "        [9.74875152e-01],\n",
              "        [3.76292668e-08],\n",
              "        [8.56068730e-03],\n",
              "        [4.46304966e-06],\n",
              "        [9.99942780e-01],\n",
              "        [9.99858975e-01],\n",
              "        [9.99943316e-01],\n",
              "        [1.53154135e-04],\n",
              "        [9.99943316e-01],\n",
              "        [3.24367044e-09],\n",
              "        [6.56059592e-06],\n",
              "        [9.99958575e-01],\n",
              "        [1.43763423e-03],\n",
              "        [9.99936581e-01],\n",
              "        [2.83493673e-10],\n",
              "        [9.99982357e-01],\n",
              "        [9.99200106e-01],\n",
              "        [9.98452783e-01],\n",
              "        [2.45670966e-11],\n",
              "        [9.99931335e-01],\n",
              "        [9.99943733e-01],\n",
              "        [9.99477744e-01],\n",
              "        [7.05102086e-03],\n",
              "        [2.73390356e-06],\n",
              "        [9.99895453e-01],\n",
              "        [9.94298100e-01],\n",
              "        [2.04403932e-07],\n",
              "        [7.40270252e-06],\n",
              "        [9.99880493e-01],\n",
              "        [2.43493741e-06],\n",
              "        [9.47515368e-01],\n",
              "        [9.99880195e-01],\n",
              "        [3.27630878e-05],\n",
              "        [1.07750921e-05],\n",
              "        [5.55519462e-02],\n",
              "        [7.84657004e-06],\n",
              "        [2.40266323e-04],\n",
              "        [9.09894705e-04],\n",
              "        [9.99374866e-01],\n",
              "        [2.20290519e-09],\n",
              "        [6.05921232e-05],\n",
              "        [3.73539866e-10],\n",
              "        [9.99895513e-01],\n",
              "        [8.63887362e-09],\n",
              "        [5.42705953e-02],\n",
              "        [9.99970734e-01],\n",
              "        [9.99580503e-01],\n",
              "        [1.15955891e-06],\n",
              "        [2.24292278e-04],\n",
              "        [9.99957561e-01],\n",
              "        [2.94057010e-08],\n",
              "        [6.47066202e-07],\n",
              "        [9.99906898e-01],\n",
              "        [8.77252221e-01],\n",
              "        [3.71185855e-08],\n",
              "        [6.01654465e-05],\n",
              "        [9.99741316e-01],\n",
              "        [9.99870062e-01],\n",
              "        [1.02555424e-01],\n",
              "        [9.99981284e-01],\n",
              "        [1.17769014e-06],\n",
              "        [9.96834397e-01],\n",
              "        [9.99959469e-01],\n",
              "        [9.99957621e-01],\n",
              "        [6.53186871e-05],\n",
              "        [9.99958277e-01],\n",
              "        [5.96790196e-05],\n",
              "        [9.99473333e-01],\n",
              "        [9.99944210e-01],\n",
              "        [1.84858806e-07],\n",
              "        [9.68113542e-03],\n",
              "        [5.70882548e-05],\n",
              "        [1.16905868e-02],\n",
              "        [5.39499597e-05],\n",
              "        [9.99945283e-01],\n",
              "        [9.99855936e-01],\n",
              "        [8.18631670e-05],\n",
              "        [2.29089728e-05],\n",
              "        [9.99850214e-01],\n",
              "        [2.11437055e-06],\n",
              "        [9.99898672e-01],\n",
              "        [9.98649061e-01],\n",
              "        [2.65479088e-04],\n",
              "        [1.51719655e-06],\n",
              "        [2.26540510e-06],\n",
              "        [5.44355089e-07],\n",
              "        [9.99896049e-01],\n",
              "        [9.99893010e-01],\n",
              "        [9.22856569e-01],\n",
              "        [9.99888659e-01],\n",
              "        [9.99897361e-01],\n",
              "        [1.68325172e-07],\n",
              "        [9.99893069e-01],\n",
              "        [9.99948025e-01],\n",
              "        [9.99868095e-01],\n",
              "        [8.88982415e-03],\n",
              "        [6.90151453e-02],\n",
              "        [7.55109191e-02],\n",
              "        [1.30596757e-03],\n",
              "        [9.99942899e-01],\n",
              "        [3.78608704e-04],\n",
              "        [2.91904807e-03],\n",
              "        [4.14492488e-02],\n",
              "        [2.71281600e-03],\n",
              "        [9.99421597e-01],\n",
              "        [9.99904394e-01],\n",
              "        [3.36587755e-06],\n",
              "        [1.03222701e-05],\n",
              "        [4.68999147e-03],\n",
              "        [9.99795198e-01],\n",
              "        [9.99871194e-01],\n",
              "        [2.10355006e-06],\n",
              "        [9.99895155e-01],\n",
              "        [4.25111064e-14],\n",
              "        [4.94289694e-08],\n",
              "        [9.99898195e-01],\n",
              "        [3.38238146e-06],\n",
              "        [9.99872208e-01],\n",
              "        [5.50002596e-06],\n",
              "        [1.68830156e-03],\n",
              "        [1.68417480e-09],\n",
              "        [1.54063540e-09],\n",
              "        [9.99923706e-01],\n",
              "        [3.58705347e-06],\n",
              "        [4.89366663e-08],\n",
              "        [9.86842871e-01],\n",
              "        [9.99928951e-01],\n",
              "        [9.99898195e-01],\n",
              "        [9.99870658e-01],\n",
              "        [9.99902427e-01],\n",
              "        [9.98732984e-01],\n",
              "        [9.99944925e-01],\n",
              "        [9.99975145e-01],\n",
              "        [5.19201349e-11],\n",
              "        [9.99875546e-01],\n",
              "        [1.43292546e-03],\n",
              "        [9.99969065e-01],\n",
              "        [9.99893546e-01],\n",
              "        [9.99875784e-01],\n",
              "        [9.74397302e-01],\n",
              "        [1.34557486e-04],\n",
              "        [9.99872506e-01],\n",
              "        [1.06388288e-05],\n",
              "        [4.62766643e-08],\n",
              "        [9.99945521e-01],\n",
              "        [9.99896407e-01]], dtype=float32))"
            ]
          },
          "metadata": {},
          "execution_count": 48
        }
      ]
    },
    {
      "cell_type": "markdown",
      "source": [
        "#Y_preds came outin predicition probability form, the standard output from sigmoid acitivation"
      ],
      "metadata": {
        "id": "baRvDJtdxZ_b"
      }
    },
    {
      "cell_type": "code",
      "source": [
        "y_preds = tf.round(y_preds)\n",
        "y_preds"
      ],
      "metadata": {
        "colab": {
          "base_uri": "https://localhost:8080/"
        },
        "id": "tJKrwQlfxs2p",
        "outputId": "0735f9ff-9634-406b-db34-2603f514742b"
      },
      "execution_count": 49,
      "outputs": [
        {
          "output_type": "execute_result",
          "data": {
            "text/plain": [
              "<tf.Tensor: shape=(200, 1), dtype=float32, numpy=\n",
              "array([[1.],\n",
              "       [0.],\n",
              "       [0.],\n",
              "       [1.],\n",
              "       [0.],\n",
              "       [1.],\n",
              "       [1.],\n",
              "       [0.],\n",
              "       [1.],\n",
              "       [0.],\n",
              "       [0.],\n",
              "       [0.],\n",
              "       [1.],\n",
              "       [1.],\n",
              "       [1.],\n",
              "       [1.],\n",
              "       [0.],\n",
              "       [1.],\n",
              "       [1.],\n",
              "       [0.],\n",
              "       [0.],\n",
              "       [0.],\n",
              "       [1.],\n",
              "       [0.],\n",
              "       [0.],\n",
              "       [1.],\n",
              "       [0.],\n",
              "       [0.],\n",
              "       [1.],\n",
              "       [1.],\n",
              "       [0.],\n",
              "       [1.],\n",
              "       [1.],\n",
              "       [1.],\n",
              "       [1.],\n",
              "       [1.],\n",
              "       [0.],\n",
              "       [1.],\n",
              "       [1.],\n",
              "       [1.],\n",
              "       [1.],\n",
              "       [1.],\n",
              "       [1.],\n",
              "       [1.],\n",
              "       [1.],\n",
              "       [1.],\n",
              "       [1.],\n",
              "       [1.],\n",
              "       [1.],\n",
              "       [1.],\n",
              "       [1.],\n",
              "       [1.],\n",
              "       [1.],\n",
              "       [1.],\n",
              "       [1.],\n",
              "       [0.],\n",
              "       [0.],\n",
              "       [0.],\n",
              "       [1.],\n",
              "       [1.],\n",
              "       [1.],\n",
              "       [0.],\n",
              "       [1.],\n",
              "       [0.],\n",
              "       [0.],\n",
              "       [1.],\n",
              "       [0.],\n",
              "       [1.],\n",
              "       [0.],\n",
              "       [1.],\n",
              "       [1.],\n",
              "       [1.],\n",
              "       [0.],\n",
              "       [1.],\n",
              "       [1.],\n",
              "       [1.],\n",
              "       [0.],\n",
              "       [0.],\n",
              "       [1.],\n",
              "       [1.],\n",
              "       [0.],\n",
              "       [0.],\n",
              "       [1.],\n",
              "       [0.],\n",
              "       [1.],\n",
              "       [1.],\n",
              "       [0.],\n",
              "       [0.],\n",
              "       [0.],\n",
              "       [0.],\n",
              "       [0.],\n",
              "       [0.],\n",
              "       [1.],\n",
              "       [0.],\n",
              "       [0.],\n",
              "       [0.],\n",
              "       [1.],\n",
              "       [0.],\n",
              "       [0.],\n",
              "       [1.],\n",
              "       [1.],\n",
              "       [0.],\n",
              "       [0.],\n",
              "       [1.],\n",
              "       [0.],\n",
              "       [0.],\n",
              "       [1.],\n",
              "       [1.],\n",
              "       [0.],\n",
              "       [0.],\n",
              "       [1.],\n",
              "       [1.],\n",
              "       [0.],\n",
              "       [1.],\n",
              "       [0.],\n",
              "       [1.],\n",
              "       [1.],\n",
              "       [1.],\n",
              "       [0.],\n",
              "       [1.],\n",
              "       [0.],\n",
              "       [1.],\n",
              "       [1.],\n",
              "       [0.],\n",
              "       [0.],\n",
              "       [0.],\n",
              "       [0.],\n",
              "       [0.],\n",
              "       [1.],\n",
              "       [1.],\n",
              "       [0.],\n",
              "       [0.],\n",
              "       [1.],\n",
              "       [0.],\n",
              "       [1.],\n",
              "       [1.],\n",
              "       [0.],\n",
              "       [0.],\n",
              "       [0.],\n",
              "       [0.],\n",
              "       [1.],\n",
              "       [1.],\n",
              "       [1.],\n",
              "       [1.],\n",
              "       [1.],\n",
              "       [0.],\n",
              "       [1.],\n",
              "       [1.],\n",
              "       [1.],\n",
              "       [0.],\n",
              "       [0.],\n",
              "       [0.],\n",
              "       [0.],\n",
              "       [1.],\n",
              "       [0.],\n",
              "       [0.],\n",
              "       [0.],\n",
              "       [0.],\n",
              "       [1.],\n",
              "       [1.],\n",
              "       [0.],\n",
              "       [0.],\n",
              "       [0.],\n",
              "       [1.],\n",
              "       [1.],\n",
              "       [0.],\n",
              "       [1.],\n",
              "       [0.],\n",
              "       [0.],\n",
              "       [1.],\n",
              "       [0.],\n",
              "       [1.],\n",
              "       [0.],\n",
              "       [0.],\n",
              "       [0.],\n",
              "       [0.],\n",
              "       [1.],\n",
              "       [0.],\n",
              "       [0.],\n",
              "       [1.],\n",
              "       [1.],\n",
              "       [1.],\n",
              "       [1.],\n",
              "       [1.],\n",
              "       [1.],\n",
              "       [1.],\n",
              "       [1.],\n",
              "       [0.],\n",
              "       [1.],\n",
              "       [0.],\n",
              "       [1.],\n",
              "       [1.],\n",
              "       [1.],\n",
              "       [1.],\n",
              "       [0.],\n",
              "       [1.],\n",
              "       [0.],\n",
              "       [0.],\n",
              "       [1.],\n",
              "       [1.]], dtype=float32)>"
            ]
          },
          "metadata": {},
          "execution_count": 49
        }
      ]
    },
    {
      "cell_type": "code",
      "source": [
        "confusion_matrix(y_test, y_preds)"
      ],
      "metadata": {
        "colab": {
          "base_uri": "https://localhost:8080/"
        },
        "id": "znbKWjbAx-RK",
        "outputId": "5bae2fe2-f760-4c7b-cb08-c5a7ff6f1f17"
      },
      "execution_count": 50,
      "outputs": [
        {
          "output_type": "execute_result",
          "data": {
            "text/plain": [
              "array([[ 90,   3],\n",
              "       [  1, 106]])"
            ]
          },
          "metadata": {},
          "execution_count": 50
        }
      ]
    },
    {
      "cell_type": "markdown",
      "source": [
        "#Making confusion matrix more pretty"
      ],
      "metadata": {
        "id": "P53uu8yqyCcB"
      }
    },
    {
      "cell_type": "code",
      "source": [
        "import itertools\n",
        "\n",
        "figsize= (10,10)\n",
        "\n",
        "cm = confusion_matrix(y_test, y_preds)\n",
        "cm_norm = cm.astype(\"float\") / cm.sum(axis=1)[:, np.newaxis] #normalize confusion matrix\n",
        "cm_norm\n",
        "n_classes = cm.shape[0]\n",
        "\n",
        "#prettifiying\n",
        "fig, ax = plt.subplots(figsize=figsize)\n",
        "cax = ax.matshow(cm, cmap=plt.cm.Blues)\n",
        "fig.colorbar(cax)\n",
        "\n",
        "#create classes\n",
        "classes = False\n",
        "if(classes):\n",
        "  labels = classes\n",
        "else:\n",
        "  labels = np.arange(cm.shape[0])\n",
        "\n",
        "#lable axes\n",
        "ax.set(title=\"Confusion Matrix\",\n",
        "       xlabel=\"Predicted\",\n",
        "       ylabel=\"True\",\n",
        "       xticks=np.arange(n_classes),\n",
        "       yticks=np.arange(n_classes),\n",
        "       xticklabels=labels,\n",
        "       yticklabels=labels)\n",
        "#set axis labels\n",
        "\n",
        "ax.xaxis.set_label_position(\"bottom\")\n",
        "ax.xaxis.tick_bottom()\n",
        "\n",
        "ax.yaxis.label.set_size(20)\n",
        "ax.xaxis.label.set_size(20)\n",
        "\n",
        "threshold = (cm.max() + cm.min()) / 2\n",
        "\n",
        "for i, j in itertools.product(range(cm.shape[0]), range(cm.shape[1])):\n",
        "  plt.text(j, i, f\"{cm[i, j]} ({cm_norm[i, j]*100:.1f}%)\",\n",
        "           horizontalalignment=\"center\",\n",
        "           color=\"white\" if cm[i, j] > threshold else \"black\",\n",
        "           size=15)\n"
      ],
      "metadata": {
        "colab": {
          "base_uri": "https://localhost:8080/",
          "height": 574
        },
        "id": "Esi4A0zHyWGC",
        "outputId": "d5c2d777-efc0-4f91-a2be-c0ae4376bff8"
      },
      "execution_count": 51,
      "outputs": [
        {
          "output_type": "display_data",
          "data": {
            "text/plain": [
              "<Figure size 720x720 with 2 Axes>"
            ],
            "image/png": "[encoded data removed]"
          },
          "metadata": {
            "needs_background": "light"
          }
        }
      ]
    },
    {
      "cell_type": "markdown",
      "source": [
        "#WOrking iwth multiclass classification"
      ],
      "metadata": {
        "id": "19w2iQK6yuWe"
      }
    },
    {
      "cell_type": "markdown",
      "source": [
        "#more than 2 options\n"
      ],
      "metadata": {
        "id": "NIxf6jKx1B-b"
      }
    },
    {
      "cell_type": "code",
      "source": [
        "import tensorflow as tf\n",
        "from tensorflow.keras.datasets import fashion_mnist\n",
        "\n",
        "\n",
        "#data already in training and testing\n",
        "\n",
        "(train_data, train_labels), (test_data, test_labels) = fashion_mnist.load_data()"
      ],
      "metadata": {
        "colab": {
          "base_uri": "https://localhost:8080/"
        },
        "id": "HMlf-sxR2O7U",
        "outputId": "4bb16a8d-e443-440e-df76-5d157cee1b46"
      },
      "execution_count": 52,
      "outputs": [
        {
          "output_type": "stream",
          "name": "stdout",
          "text": [
            "Downloading data from https://storage.googleapis.com/tensorflow/tf-keras-datasets/train-labels-idx1-ubyte.gz\n",
            "32768/29515 [=================================] - 0s 0us/step\n",
            "40960/29515 [=========================================] - 0s 0us/step\n",
            "Downloading data from https://storage.googleapis.com/tensorflow/tf-keras-datasets/train-images-idx3-ubyte.gz\n",
            "26427392/26421880 [==============================] - 0s 0us/step\n",
            "26435584/26421880 [==============================] - 0s 0us/step\n",
            "Downloading data from https://storage.googleapis.com/tensorflow/tf-keras-datasets/t10k-labels-idx1-ubyte.gz\n",
            "16384/5148 [===============================================================================================] - 0s 0us/step\n",
            "Downloading data from https://storage.googleapis.com/tensorflow/tf-keras-datasets/t10k-images-idx3-ubyte.gz\n",
            "4423680/4422102 [==============================] - 0s 0us/step\n",
            "4431872/4422102 [==============================] - 0s 0us/step\n"
          ]
        }
      ]
    },
    {
      "cell_type": "code",
      "source": [
        "print(f\"Trainging Sample:\\n{train_data[0]}\")"
      ],
      "metadata": {
        "colab": {
          "base_uri": "https://localhost:8080/"
        },
        "id": "FgD6eMQB2UMN",
        "outputId": "0a814604-b40c-4b35-b170-d7fcb3a33dd4"
      },
      "execution_count": 53,
      "outputs": [
        {
          "output_type": "stream",
          "name": "stdout",
          "text": [
            "Trainging Sample:\n",
            "[[  0   0   0   0   0   0   0   0   0   0   0   0   0   0   0   0   0   0\n",
            "    0   0   0   0   0   0   0   0   0   0]\n",
            " [  0   0   0   0   0   0   0   0   0   0   0   0   0   0   0   0   0   0\n",
            "    0   0   0   0   0   0   0   0   0   0]\n",
            " [  0   0   0   0   0   0   0   0   0   0   0   0   0   0   0   0   0   0\n",
            "    0   0   0   0   0   0   0   0   0   0]\n",
            " [  0   0   0   0   0   0   0   0   0   0   0   0   1   0   0  13  73   0\n",
            "    0   1   4   0   0   0   0   1   1   0]\n",
            " [  0   0   0   0   0   0   0   0   0   0   0   0   3   0  36 136 127  62\n",
            "   54   0   0   0   1   3   4   0   0   3]\n",
            " [  0   0   0   0   0   0   0   0   0   0   0   0   6   0 102 204 176 134\n",
            "  144 123  23   0   0   0   0  12  10   0]\n",
            " [  0   0   0   0   0   0   0   0   0   0   0   0   0   0 155 236 207 178\n",
            "  107 156 161 109  64  23  77 130  72  15]\n",
            " [  0   0   0   0   0   0   0   0   0   0   0   1   0  69 207 223 218 216\n",
            "  216 163 127 121 122 146 141  88 172  66]\n",
            " [  0   0   0   0   0   0   0   0   0   1   1   1   0 200 232 232 233 229\n",
            "  223 223 215 213 164 127 123 196 229   0]\n",
            " [  0   0   0   0   0   0   0   0   0   0   0   0   0 183 225 216 223 228\n",
            "  235 227 224 222 224 221 223 245 173   0]\n",
            " [  0   0   0   0   0   0   0   0   0   0   0   0   0 193 228 218 213 198\n",
            "  180 212 210 211 213 223 220 243 202   0]\n",
            " [  0   0   0   0   0   0   0   0   0   1   3   0  12 219 220 212 218 192\n",
            "  169 227 208 218 224 212 226 197 209  52]\n",
            " [  0   0   0   0   0   0   0   0   0   0   6   0  99 244 222 220 218 203\n",
            "  198 221 215 213 222 220 245 119 167  56]\n",
            " [  0   0   0   0   0   0   0   0   0   4   0   0  55 236 228 230 228 240\n",
            "  232 213 218 223 234 217 217 209  92   0]\n",
            " [  0   0   1   4   6   7   2   0   0   0   0   0 237 226 217 223 222 219\n",
            "  222 221 216 223 229 215 218 255  77   0]\n",
            " [  0   3   0   0   0   0   0   0   0  62 145 204 228 207 213 221 218 208\n",
            "  211 218 224 223 219 215 224 244 159   0]\n",
            " [  0   0   0   0  18  44  82 107 189 228 220 222 217 226 200 205 211 230\n",
            "  224 234 176 188 250 248 233 238 215   0]\n",
            " [  0  57 187 208 224 221 224 208 204 214 208 209 200 159 245 193 206 223\n",
            "  255 255 221 234 221 211 220 232 246   0]\n",
            " [  3 202 228 224 221 211 211 214 205 205 205 220 240  80 150 255 229 221\n",
            "  188 154 191 210 204 209 222 228 225   0]\n",
            " [ 98 233 198 210 222 229 229 234 249 220 194 215 217 241  65  73 106 117\n",
            "  168 219 221 215 217 223 223 224 229  29]\n",
            " [ 75 204 212 204 193 205 211 225 216 185 197 206 198 213 240 195 227 245\n",
            "  239 223 218 212 209 222 220 221 230  67]\n",
            " [ 48 203 183 194 213 197 185 190 194 192 202 214 219 221 220 236 225 216\n",
            "  199 206 186 181 177 172 181 205 206 115]\n",
            " [  0 122 219 193 179 171 183 196 204 210 213 207 211 210 200 196 194 191\n",
            "  195 191 198 192 176 156 167 177 210  92]\n",
            " [  0   0  74 189 212 191 175 172 175 181 185 188 189 188 193 198 204 209\n",
            "  210 210 211 188 188 194 192 216 170   0]\n",
            " [  2   0   0   0  66 200 222 237 239 242 246 243 244 221 220 193 191 179\n",
            "  182 182 181 176 166 168  99  58   0   0]\n",
            " [  0   0   0   0   0   0   0  40  61  44  72  41  35   0   0   0   0   0\n",
            "    0   0   0   0   0   0   0   0   0   0]\n",
            " [  0   0   0   0   0   0   0   0   0   0   0   0   0   0   0   0   0   0\n",
            "    0   0   0   0   0   0   0   0   0   0]\n",
            " [  0   0   0   0   0   0   0   0   0   0   0   0   0   0   0   0   0   0\n",
            "    0   0   0   0   0   0   0   0   0   0]]\n"
          ]
        }
      ]
    },
    {
      "cell_type": "code",
      "source": [
        "train_data[0].shape, train_labels[0].shape"
      ],
      "metadata": {
        "colab": {
          "base_uri": "https://localhost:8080/"
        },
        "id": "ikX9w90-260v",
        "outputId": "68fe3a6d-afc0-4c52-817b-a676dce16994"
      },
      "execution_count": 54,
      "outputs": [
        {
          "output_type": "execute_result",
          "data": {
            "text/plain": [
              "((28, 28), ())"
            ]
          },
          "metadata": {},
          "execution_count": 54
        }
      ]
    },
    {
      "cell_type": "code",
      "source": [
        "import matplotlib.pyplot as plt\n",
        "plt.imshow(train_data[90])"
      ],
      "metadata": {
        "colab": {
          "base_uri": "https://localhost:8080/",
          "height": 283
        },
        "id": "LrkPCXRi3Loz",
        "outputId": "34451332-3b47-4f57-93d8-a77548d369ef"
      },
      "execution_count": 55,
      "outputs": [
        {
          "output_type": "execute_result",
          "data": {
            "text/plain": [
              "<matplotlib.image.AxesImage at 0x7f08e58610d0>"
            ]
          },
          "metadata": {},
          "execution_count": 55
        },
        {
          "output_type": "display_data",
          "data": {
            "text/plain": [
              "<Figure size 432x288 with 1 Axes>"
            ],
            "image/png": "[encoded data removed]"
          },
          "metadata": {
            "needs_background": "light"
          }
        }
      ]
    },
    {
      "cell_type": "code",
      "source": [
        "#check our label\n",
        "train_labels[90] #ankle boot"
      ],
      "metadata": {
        "colab": {
          "base_uri": "https://localhost:8080/"
        },
        "id": "yJ0HB72R3RzH",
        "outputId": "3e8069dc-d0a5-4263-9160-d3d3a6bf7d02"
      },
      "execution_count": 56,
      "outputs": [
        {
          "output_type": "execute_result",
          "data": {
            "text/plain": [
              "9"
            ]
          },
          "metadata": {},
          "execution_count": 56
        }
      ]
    },
    {
      "cell_type": "code",
      "source": [
        "class_names = [\"T-shirt/top\", \"Trouser\", \"Pullover\", \"Dress\", \"Coat\", \"Sandal\", \"Shirt\", \"Sneaker\", \"Bag\", \"Ankle boot\"]\n",
        "len(class_names)"
      ],
      "metadata": {
        "colab": {
          "base_uri": "https://localhost:8080/"
        },
        "id": "5aOIXDHH3XXR",
        "outputId": "b2572dc1-055f-4b88-8fd4-7f1572c86ded"
      },
      "execution_count": 57,
      "outputs": [
        {
          "output_type": "execute_result",
          "data": {
            "text/plain": [
              "10"
            ]
          },
          "metadata": {},
          "execution_count": 57
        }
      ]
    },
    {
      "cell_type": "code",
      "source": [
        "#Plot an example image and label\n",
        "plt.imshow(train_data[93], cmap=plt.cm.binary)\n",
        "plt.title(class_names[train_labels[93]])"
      ],
      "metadata": {
        "colab": {
          "base_uri": "https://localhost:8080/",
          "height": 299
        },
        "id": "UctvDEOu3zYZ",
        "outputId": "b9a06731-2f3b-437a-b776-43b52b1f80bd"
      },
      "execution_count": 58,
      "outputs": [
        {
          "output_type": "execute_result",
          "data": {
            "text/plain": [
              "Text(0.5, 1.0, 'Ankle boot')"
            ]
          },
          "metadata": {},
          "execution_count": 58
        },
        {
          "output_type": "display_data",
          "data": {
            "text/plain": [
              "<Figure size 432x288 with 1 Axes>"
            ],
            "image/png": "[encoded data removed]"
          },
          "metadata": {
            "needs_background": "light"
          }
        }
      ]
    },
    {
      "cell_type": "code",
      "source": [
        "import random\n",
        "plt.figure(figsize=(10, 10))\n",
        "for i in range(4):\n",
        "  ax = plt.subplot(2, 2, i + 1)\n",
        "  rand_index = random.choice(range(len(train_data)))\n",
        "  plt.imshow(train_data[rand_index], cmap=plt.cm.binary)\n",
        "  plt.title(class_names[train_labels[rand_index]])"
      ],
      "metadata": {
        "colab": {
          "base_uri": "https://localhost:8080/",
          "height": 607
        },
        "id": "_R4k8xvx3-fs",
        "outputId": "601f8e4a-c055-47be-b67b-6081447313d7"
      },
      "execution_count": 59,
      "outputs": [
        {
          "output_type": "display_data",
          "data": {
            "text/plain": [
              "<Figure size 720x720 with 4 Axes>"
            ],
            "image/png": "[encoded data removed]"
          },
          "metadata": {
            "needs_background": "light"
          }
        }
      ]
    },
    {
      "cell_type": "markdown",
      "source": [
        "##building multiclass classification model"
      ],
      "metadata": {
        "id": "zWzZEdTp4h1m"
      }
    },
    {
      "cell_type": "code",
      "source": [
        "train_data[0].shape, train_labels[0].shape"
      ],
      "metadata": {
        "colab": {
          "base_uri": "https://localhost:8080/"
        },
        "id": "vgXr9RVX418-",
        "outputId": "59830243-c67a-4385-c59d-dc80dc39da85"
      },
      "execution_count": 60,
      "outputs": [
        {
          "output_type": "execute_result",
          "data": {
            "text/plain": [
              "((28, 28), ())"
            ]
          },
          "metadata": {},
          "execution_count": 60
        }
      ]
    },
    {
      "cell_type": "code",
      "source": [
        "#output shape = num_classses = 10"
      ],
      "metadata": {
        "id": "nGynM-fu5OgG"
      },
      "execution_count": 61,
      "outputs": []
    },
    {
      "cell_type": "code",
      "source": [
        "model_11 = tf.keras.Sequential([\n",
        "  tf.keras.layers.Flatten(input_shape=(train_data[0].shape)),\n",
        "  tf.keras.layers.Dense(10, activation=\"relu\"),\n",
        "  tf.keras.layers.Dense(10, activation=\"relu\"),\n",
        "  tf.keras.layers.Dense(10, activation=\"softmax\")\n",
        "])\n",
        "\n",
        "model_11.compile(loss=tf.keras.losses.SparseCategoricalCrossentropy(),\n",
        "                 optimizer=tf.keras.optimizers.Adam(),\n",
        "                 metrics=[\"accuracy\"])\n",
        "\n",
        "non_norm_history = model_11.fit(train_data,\n",
        "                                train_labels,\n",
        "                                epochs=10,\n",
        "                                validation_data=(test_data, test_labels))"
      ],
      "metadata": {
        "colab": {
          "base_uri": "https://localhost:8080/"
        },
        "id": "f45Q8aWP5S3E",
        "outputId": "9e9a82ab-879a-4dea-adc0-4da2ec07b52e"
      },
      "execution_count": 62,
      "outputs": [
        {
          "output_type": "stream",
          "name": "stdout",
          "text": [
            "Epoch 1/10\n",
            "1875/1875 [==============================] - 5s 2ms/step - loss: 2.2593 - accuracy: 0.2952 - val_loss: 1.5713 - val_accuracy: 0.3949\n",
            "Epoch 2/10\n",
            "1875/1875 [==============================] - 4s 2ms/step - loss: 1.2040 - accuracy: 0.5470 - val_loss: 1.1082 - val_accuracy: 0.5556\n",
            "Epoch 3/10\n",
            "1875/1875 [==============================] - 4s 2ms/step - loss: 1.0046 - accuracy: 0.6141 - val_loss: 1.0150 - val_accuracy: 0.6118\n",
            "Epoch 4/10\n",
            "1875/1875 [==============================] - 5s 2ms/step - loss: 0.9152 - accuracy: 0.6489 - val_loss: 0.9005 - val_accuracy: 0.6607\n",
            "Epoch 5/10\n",
            "1875/1875 [==============================] - 4s 2ms/step - loss: 0.8803 - accuracy: 0.6609 - val_loss: 0.8877 - val_accuracy: 0.6555\n",
            "Epoch 6/10\n",
            "1875/1875 [==============================] - 4s 2ms/step - loss: 0.8460 - accuracy: 0.6741 - val_loss: 0.8549 - val_accuracy: 0.6726\n",
            "Epoch 7/10\n",
            "1875/1875 [==============================] - 4s 2ms/step - loss: 0.8172 - accuracy: 0.6832 - val_loss: 0.8481 - val_accuracy: 0.6786\n",
            "Epoch 8/10\n",
            "1875/1875 [==============================] - 4s 2ms/step - loss: 0.7897 - accuracy: 0.6935 - val_loss: 0.7564 - val_accuracy: 0.7000\n",
            "Epoch 9/10\n",
            "1875/1875 [==============================] - 5s 3ms/step - loss: 0.7645 - accuracy: 0.7015 - val_loss: 0.8346 - val_accuracy: 0.6839\n",
            "Epoch 10/10\n",
            "1875/1875 [==============================] - 4s 2ms/step - loss: 0.7465 - accuracy: 0.7041 - val_loss: 0.7945 - val_accuracy: 0.6969\n"
          ]
        }
      ]
    },
    {
      "cell_type": "code",
      "source": [
        "train_data_normal = train_data / 255.0\n",
        "test_data_normal = test_data / 255.0"
      ],
      "metadata": {
        "id": "QqckY8HT6fh9"
      },
      "execution_count": 66,
      "outputs": []
    },
    {
      "cell_type": "code",
      "source": [
        "from sklearn.utils import validation\n",
        "\n",
        "model_12 = tf.keras.Sequential([\n",
        "  tf.keras.layers.Flatten(input_shape=(28,28)),\n",
        "  tf.keras.layers.Dense(4, activation=\"relu\"),\n",
        "  tf.keras.layers.Dense(4, activation=\"relu\"),\n",
        "  tf.keras.layers.Dense(10, activation=\"softmax\")\n",
        "])\n",
        "\n",
        "model_12.compile(loss=tf.keras.losses.SparseCategoricalCrossentropy(),\n",
        "                 optimizer=tf.keras.optimizers.Adam(),\n",
        "                 metrics=[\"accuracy\"])\n",
        "\n",
        "normal_history = model_12.fit(train_data_normal, train_labels, epochs=10, validation_data=(test_data_normal, test_labels))"
      ],
      "metadata": {
        "id": "orM7ScUpqtDu",
        "outputId": "ba618d0d-b390-4730-fe40-33d88e359a53",
        "colab": {
          "base_uri": "https://localhost:8080/"
        }
      },
      "execution_count": 69,
      "outputs": [
        {
          "output_type": "stream",
          "name": "stdout",
          "text": [
            "Epoch 1/10\n",
            "1875/1875 [==============================] - 8s 4ms/step - loss: 1.5983 - accuracy: 0.4428 - val_loss: 1.3594 - val_accuracy: 0.5128\n",
            "Epoch 2/10\n",
            "1875/1875 [==============================] - 9s 5ms/step - loss: 1.2102 - accuracy: 0.5495 - val_loss: 1.1491 - val_accuracy: 0.5687\n",
            "Epoch 3/10\n",
            "1875/1875 [==============================] - 10s 5ms/step - loss: 1.0937 - accuracy: 0.5887 - val_loss: 1.0612 - val_accuracy: 0.6045\n",
            "Epoch 4/10\n",
            "1875/1875 [==============================] - 10s 5ms/step - loss: 1.0081 - accuracy: 0.6437 - val_loss: 0.9673 - val_accuracy: 0.6790\n",
            "Epoch 5/10\n",
            "1875/1875 [==============================] - 4s 2ms/step - loss: 0.9103 - accuracy: 0.6973 - val_loss: 0.8873 - val_accuracy: 0.7106\n",
            "Epoch 6/10\n",
            "1875/1875 [==============================] - 5s 2ms/step - loss: 0.8482 - accuracy: 0.7194 - val_loss: 0.8542 - val_accuracy: 0.7261\n",
            "Epoch 7/10\n",
            "1875/1875 [==============================] - 4s 2ms/step - loss: 0.8078 - accuracy: 0.7329 - val_loss: 0.8239 - val_accuracy: 0.7241\n",
            "Epoch 8/10\n",
            "1875/1875 [==============================] - 4s 2ms/step - loss: 0.7815 - accuracy: 0.7393 - val_loss: 0.8050 - val_accuracy: 0.7418\n",
            "Epoch 9/10\n",
            "1875/1875 [==============================] - 5s 2ms/step - loss: 0.7620 - accuracy: 0.7446 - val_loss: 0.7887 - val_accuracy: 0.7423\n",
            "Epoch 10/10\n",
            "1875/1875 [==============================] - 4s 2ms/step - loss: 0.7490 - accuracy: 0.7477 - val_loss: 0.7866 - val_accuracy: 0.7379\n"
          ]
        }
      ]
    },
    {
      "cell_type": "code",
      "source": [
        "model_13 = tf.keras.Sequential([\n",
        "  tf.keras.layers.Flatten(input_shape=(28,28)),\n",
        "  tf.keras.layers.Dense(4, activation=\"relu\"),\n",
        "  tf.keras.layers.Dense(4, activation=\"relu\"),\n",
        "  tf.keras.layers.Dense(10, activation=\"softmax\")\n",
        "])\n",
        "\n",
        "model_13.compile(loss=tf.keras.losses.SparseCategoricalCrossentropy(),\n",
        "                 optimizer=tf.keras.optimizers.Adam(),\n",
        "                 metrics=[\"accuracy\"])\n",
        "#create learning rate callback\n",
        "lr_scheduler = tf.keras.callbacks.LearningRateScheduler(lambda epoch: 1e-3 * 10**(epoch/20))\n",
        "\n",
        "normal_history = model_13.fit(train_data_normal, train_labels, epochs=40, validation_data=(test_data_normal, test_labels), callbacks=[lr_scheduler])"
      ],
      "metadata": {
        "id": "lpgdDVy7rU7G",
        "outputId": "36ca3477-2cb2-4ccd-b58d-dbf52ded0cc5",
        "colab": {
          "base_uri": "https://localhost:8080/"
        }
      },
      "execution_count": 73,
      "outputs": [
        {
          "output_type": "stream",
          "name": "stdout",
          "text": [
            "Epoch 1/40\n",
            "1875/1875 [==============================] - 6s 3ms/step - loss: 1.2835 - accuracy: 0.4867 - val_loss: 0.9789 - val_accuracy: 0.5865 - lr: 0.0010\n",
            "Epoch 2/40\n",
            "1875/1875 [==============================] - 5s 3ms/step - loss: 0.8844 - accuracy: 0.6172 - val_loss: 0.8618 - val_accuracy: 0.6155 - lr: 0.0011\n",
            "Epoch 3/40\n",
            "1875/1875 [==============================] - 4s 2ms/step - loss: 0.8089 - accuracy: 0.6411 - val_loss: 0.8082 - val_accuracy: 0.6545 - lr: 0.0013\n",
            "Epoch 4/40\n",
            "1875/1875 [==============================] - 4s 2ms/step - loss: 0.7796 - accuracy: 0.6670 - val_loss: 0.7901 - val_accuracy: 0.6670 - lr: 0.0014\n",
            "Epoch 5/40\n",
            "1875/1875 [==============================] - 4s 2ms/step - loss: 0.7590 - accuracy: 0.6846 - val_loss: 0.7728 - val_accuracy: 0.6920 - lr: 0.0016\n",
            "Epoch 6/40\n",
            "1875/1875 [==============================] - 4s 2ms/step - loss: 0.7433 - accuracy: 0.6985 - val_loss: 0.7574 - val_accuracy: 0.6973 - lr: 0.0018\n",
            "Epoch 7/40\n",
            "1875/1875 [==============================] - 4s 2ms/step - loss: 0.7100 - accuracy: 0.7353 - val_loss: 0.7094 - val_accuracy: 0.7482 - lr: 0.0020\n",
            "Epoch 8/40\n",
            "1875/1875 [==============================] - 4s 2ms/step - loss: 0.6631 - accuracy: 0.7607 - val_loss: 0.6866 - val_accuracy: 0.7554 - lr: 0.0022\n",
            "Epoch 9/40\n",
            "1875/1875 [==============================] - 4s 2ms/step - loss: 0.6501 - accuracy: 0.7647 - val_loss: 0.6934 - val_accuracy: 0.7552 - lr: 0.0025\n",
            "Epoch 10/40\n",
            "1875/1875 [==============================] - 4s 2ms/step - loss: 0.6425 - accuracy: 0.7678 - val_loss: 0.6621 - val_accuracy: 0.7635 - lr: 0.0028\n",
            "Epoch 11/40\n",
            "1875/1875 [==============================] - 4s 2ms/step - loss: 0.6381 - accuracy: 0.7709 - val_loss: 0.6694 - val_accuracy: 0.7636 - lr: 0.0032\n",
            "Epoch 12/40\n",
            "1875/1875 [==============================] - 4s 2ms/step - loss: 0.6372 - accuracy: 0.7695 - val_loss: 0.6609 - val_accuracy: 0.7653 - lr: 0.0035\n",
            "Epoch 13/40\n",
            "1875/1875 [==============================] - 4s 2ms/step - loss: 0.6369 - accuracy: 0.7706 - val_loss: 0.6615 - val_accuracy: 0.7660 - lr: 0.0040\n",
            "Epoch 14/40\n",
            "1875/1875 [==============================] - 4s 2ms/step - loss: 0.6387 - accuracy: 0.7695 - val_loss: 0.6646 - val_accuracy: 0.7617 - lr: 0.0045\n",
            "Epoch 15/40\n",
            "1875/1875 [==============================] - 4s 2ms/step - loss: 0.6398 - accuracy: 0.7696 - val_loss: 0.6767 - val_accuracy: 0.7630 - lr: 0.0050\n",
            "Epoch 16/40\n",
            "1875/1875 [==============================] - 4s 2ms/step - loss: 0.6406 - accuracy: 0.7694 - val_loss: 0.6814 - val_accuracy: 0.7565 - lr: 0.0056\n",
            "Epoch 17/40\n",
            "1875/1875 [==============================] - 4s 2ms/step - loss: 0.6432 - accuracy: 0.7689 - val_loss: 0.6942 - val_accuracy: 0.7472 - lr: 0.0063\n",
            "Epoch 18/40\n",
            "1875/1875 [==============================] - 4s 2ms/step - loss: 0.6434 - accuracy: 0.7687 - val_loss: 0.6767 - val_accuracy: 0.7590 - lr: 0.0071\n",
            "Epoch 19/40\n",
            "1875/1875 [==============================] - 4s 2ms/step - loss: 0.6509 - accuracy: 0.7663 - val_loss: 0.7018 - val_accuracy: 0.7563 - lr: 0.0079\n",
            "Epoch 20/40\n",
            "1875/1875 [==============================] - 4s 2ms/step - loss: 0.6515 - accuracy: 0.7653 - val_loss: 0.6896 - val_accuracy: 0.7565 - lr: 0.0089\n",
            "Epoch 21/40\n",
            "1875/1875 [==============================] - 4s 2ms/step - loss: 0.6568 - accuracy: 0.7637 - val_loss: 0.6657 - val_accuracy: 0.7630 - lr: 0.0100\n",
            "Epoch 22/40\n",
            "1875/1875 [==============================] - 4s 2ms/step - loss: 0.6586 - accuracy: 0.7628 - val_loss: 0.7130 - val_accuracy: 0.7455 - lr: 0.0112\n",
            "Epoch 23/40\n",
            "1875/1875 [==============================] - 4s 2ms/step - loss: 0.6661 - accuracy: 0.7609 - val_loss: 0.6946 - val_accuracy: 0.7574 - lr: 0.0126\n",
            "Epoch 24/40\n",
            "1875/1875 [==============================] - 4s 2ms/step - loss: 0.6804 - accuracy: 0.7571 - val_loss: 0.6978 - val_accuracy: 0.7474 - lr: 0.0141\n",
            "Epoch 25/40\n",
            "1875/1875 [==============================] - 4s 2ms/step - loss: 0.6753 - accuracy: 0.7584 - val_loss: 1.0548 - val_accuracy: 0.6941 - lr: 0.0158\n",
            "Epoch 26/40\n",
            "1875/1875 [==============================] - 4s 2ms/step - loss: 0.6927 - accuracy: 0.7521 - val_loss: 0.7390 - val_accuracy: 0.7450 - lr: 0.0178\n",
            "Epoch 27/40\n",
            "1875/1875 [==============================] - 4s 2ms/step - loss: 0.6935 - accuracy: 0.7524 - val_loss: 0.6932 - val_accuracy: 0.7564 - lr: 0.0200\n",
            "Epoch 28/40\n",
            "1875/1875 [==============================] - 4s 2ms/step - loss: 0.6985 - accuracy: 0.7501 - val_loss: 0.7021 - val_accuracy: 0.7628 - lr: 0.0224\n",
            "Epoch 29/40\n",
            "1875/1875 [==============================] - 4s 2ms/step - loss: 0.7121 - accuracy: 0.7473 - val_loss: 0.8277 - val_accuracy: 0.7072 - lr: 0.0251\n",
            "Epoch 30/40\n",
            "1875/1875 [==============================] - 4s 2ms/step - loss: 0.7214 - accuracy: 0.7446 - val_loss: 0.7878 - val_accuracy: 0.6952 - lr: 0.0282\n",
            "Epoch 31/40\n",
            "1875/1875 [==============================] - 4s 2ms/step - loss: 0.7476 - accuracy: 0.7363 - val_loss: 0.7810 - val_accuracy: 0.7285 - lr: 0.0316\n",
            "Epoch 32/40\n",
            "1875/1875 [==============================] - 4s 2ms/step - loss: 0.7745 - accuracy: 0.7257 - val_loss: 0.8687 - val_accuracy: 0.6874 - lr: 0.0355\n",
            "Epoch 33/40\n",
            "1875/1875 [==============================] - 5s 2ms/step - loss: 0.7900 - accuracy: 0.7096 - val_loss: 0.8968 - val_accuracy: 0.6727 - lr: 0.0398\n",
            "Epoch 34/40\n",
            "1875/1875 [==============================] - 5s 2ms/step - loss: 0.8756 - accuracy: 0.6722 - val_loss: 0.8439 - val_accuracy: 0.6852 - lr: 0.0447\n",
            "Epoch 35/40\n",
            "1875/1875 [==============================] - 5s 3ms/step - loss: 0.9515 - accuracy: 0.6412 - val_loss: 1.0538 - val_accuracy: 0.5989 - lr: 0.0501\n",
            "Epoch 36/40\n",
            "1875/1875 [==============================] - 4s 2ms/step - loss: 1.5484 - accuracy: 0.3803 - val_loss: 1.9540 - val_accuracy: 0.1793 - lr: 0.0562\n",
            "Epoch 37/40\n",
            "1875/1875 [==============================] - 4s 2ms/step - loss: 1.9199 - accuracy: 0.1944 - val_loss: 1.8274 - val_accuracy: 0.2052 - lr: 0.0631\n",
            "Epoch 38/40\n",
            "1875/1875 [==============================] - 5s 2ms/step - loss: 1.7674 - accuracy: 0.1977 - val_loss: 1.7565 - val_accuracy: 0.1828 - lr: 0.0708\n",
            "Epoch 39/40\n",
            "1875/1875 [==============================] - 5s 3ms/step - loss: 2.3475 - accuracy: 0.1950 - val_loss: 1.7921 - val_accuracy: 0.1998 - lr: 0.0794\n",
            "Epoch 40/40\n",
            "1875/1875 [==============================] - 5s 2ms/step - loss: 1.7654 - accuracy: 0.1974 - val_loss: 1.7758 - val_accuracy: 0.1999 - lr: 0.0891\n"
          ]
        }
      ]
    },
    {
      "cell_type": "code",
      "source": [
        "import numpy as np\n",
        "import matplotlib.pyplot as plt\n",
        "\n",
        "lrs = 1e-3 * 10**(tf.range(40)/20)\n",
        "plt.semilogx(lrs, normal_history.history[\"loss\"])"
      ],
      "metadata": {
        "id": "8BwshAL2t0vd",
        "outputId": "a857c8e4-f342-4ceb-8dfd-5c0ae2110343",
        "colab": {
          "base_uri": "https://localhost:8080/",
          "height": 609
        }
      },
      "execution_count": 72,
      "outputs": [
        {
          "output_type": "error",
          "ename": "ValueError",
          "evalue": "ignored",
          "traceback": [
            "\u001b[0;31m---------------------------------------------------------------------------\u001b[0m",
            "\u001b[0;31mValueError\u001b[0m                                Traceback (most recent call last)",
            "\u001b[0;32m<ipython-input-72-8dd576f37109>\u001b[0m in \u001b[0;36m<module>\u001b[0;34m()\u001b[0m\n\u001b[1;32m      3\u001b[0m \u001b[0;34m\u001b[0m\u001b[0m\n\u001b[1;32m      4\u001b[0m \u001b[0mlrs\u001b[0m \u001b[0;34m=\u001b[0m \u001b[0;36m1e-3\u001b[0m \u001b[0;34m*\u001b[0m \u001b[0;36m10\u001b[0m\u001b[0;34m**\u001b[0m\u001b[0;34m(\u001b[0m\u001b[0mtf\u001b[0m\u001b[0;34m.\u001b[0m\u001b[0mrange\u001b[0m\u001b[0;34m(\u001b[0m\u001b[0;36m40\u001b[0m\u001b[0;34m)\u001b[0m\u001b[0;34m/\u001b[0m\u001b[0;36m20\u001b[0m\u001b[0;34m)\u001b[0m\u001b[0;34m\u001b[0m\u001b[0;34m\u001b[0m\u001b[0m\n\u001b[0;32m----> 5\u001b[0;31m \u001b[0mplt\u001b[0m\u001b[0;34m.\u001b[0m\u001b[0msemilogx\u001b[0m\u001b[0;34m(\u001b[0m\u001b[0mlrs\u001b[0m\u001b[0;34m,\u001b[0m \u001b[0mnormal_history\u001b[0m\u001b[0;34m.\u001b[0m\u001b[0mhistory\u001b[0m\u001b[0;34m[\u001b[0m\u001b[0;34m\"loss\"\u001b[0m\u001b[0;34m]\u001b[0m\u001b[0;34m)\u001b[0m\u001b[0;34m\u001b[0m\u001b[0;34m\u001b[0m\u001b[0m\n\u001b[0m",
            "\u001b[0;32m/usr/local/lib/python3.7/dist-packages/matplotlib/pyplot.py\u001b[0m in \u001b[0;36msemilogx\u001b[0;34m(*args, **kwargs)\u001b[0m\n\u001b[1;32m   2822\u001b[0m \u001b[0;34m@\u001b[0m\u001b[0mdocstring\u001b[0m\u001b[0;34m.\u001b[0m\u001b[0mcopy\u001b[0m\u001b[0;34m(\u001b[0m\u001b[0mAxes\u001b[0m\u001b[0;34m.\u001b[0m\u001b[0msemilogx\u001b[0m\u001b[0;34m)\u001b[0m\u001b[0;34m\u001b[0m\u001b[0;34m\u001b[0m\u001b[0m\n\u001b[1;32m   2823\u001b[0m \u001b[0;32mdef\u001b[0m \u001b[0msemilogx\u001b[0m\u001b[0;34m(\u001b[0m\u001b[0;34m*\u001b[0m\u001b[0margs\u001b[0m\u001b[0;34m,\u001b[0m \u001b[0;34m**\u001b[0m\u001b[0mkwargs\u001b[0m\u001b[0;34m)\u001b[0m\u001b[0;34m:\u001b[0m\u001b[0;34m\u001b[0m\u001b[0;34m\u001b[0m\u001b[0m\n\u001b[0;32m-> 2824\u001b[0;31m     \u001b[0;32mreturn\u001b[0m \u001b[0mgca\u001b[0m\u001b[0;34m(\u001b[0m\u001b[0;34m)\u001b[0m\u001b[0;34m.\u001b[0m\u001b[0msemilogx\u001b[0m\u001b[0;34m(\u001b[0m\u001b[0;34m*\u001b[0m\u001b[0margs\u001b[0m\u001b[0;34m,\u001b[0m \u001b[0;34m**\u001b[0m\u001b[0mkwargs\u001b[0m\u001b[0;34m)\u001b[0m\u001b[0;34m\u001b[0m\u001b[0;34m\u001b[0m\u001b[0m\n\u001b[0m\u001b[1;32m   2825\u001b[0m \u001b[0;34m\u001b[0m\u001b[0m\n\u001b[1;32m   2826\u001b[0m \u001b[0;34m\u001b[0m\u001b[0m\n",
            "\u001b[0;32m/usr/local/lib/python3.7/dist-packages/matplotlib/axes/_axes.py\u001b[0m in \u001b[0;36msemilogx\u001b[0;34m(self, *args, **kwargs)\u001b[0m\n\u001b[1;32m   1826\u001b[0m \u001b[0;34m\u001b[0m\u001b[0m\n\u001b[1;32m   1827\u001b[0m         \u001b[0mself\u001b[0m\u001b[0;34m.\u001b[0m\u001b[0mset_xscale\u001b[0m\u001b[0;34m(\u001b[0m\u001b[0;34m'log'\u001b[0m\u001b[0;34m,\u001b[0m \u001b[0;34m**\u001b[0m\u001b[0md\u001b[0m\u001b[0;34m)\u001b[0m\u001b[0;34m\u001b[0m\u001b[0;34m\u001b[0m\u001b[0m\n\u001b[0;32m-> 1828\u001b[0;31m         \u001b[0ml\u001b[0m \u001b[0;34m=\u001b[0m \u001b[0mself\u001b[0m\u001b[0;34m.\u001b[0m\u001b[0mplot\u001b[0m\u001b[0;34m(\u001b[0m\u001b[0;34m*\u001b[0m\u001b[0margs\u001b[0m\u001b[0;34m,\u001b[0m \u001b[0;34m**\u001b[0m\u001b[0mkwargs\u001b[0m\u001b[0;34m)\u001b[0m\u001b[0;34m\u001b[0m\u001b[0;34m\u001b[0m\u001b[0m\n\u001b[0m\u001b[1;32m   1829\u001b[0m         \u001b[0;32mreturn\u001b[0m \u001b[0ml\u001b[0m\u001b[0;34m\u001b[0m\u001b[0;34m\u001b[0m\u001b[0m\n\u001b[1;32m   1830\u001b[0m \u001b[0;34m\u001b[0m\u001b[0m\n",
            "\u001b[0;32m/usr/local/lib/python3.7/dist-packages/matplotlib/axes/_axes.py\u001b[0m in \u001b[0;36mplot\u001b[0;34m(self, scalex, scaley, data, *args, **kwargs)\u001b[0m\n\u001b[1;32m   1645\u001b[0m         \"\"\"\n\u001b[1;32m   1646\u001b[0m         \u001b[0mkwargs\u001b[0m \u001b[0;34m=\u001b[0m \u001b[0mcbook\u001b[0m\u001b[0;34m.\u001b[0m\u001b[0mnormalize_kwargs\u001b[0m\u001b[0;34m(\u001b[0m\u001b[0mkwargs\u001b[0m\u001b[0;34m,\u001b[0m \u001b[0mmlines\u001b[0m\u001b[0;34m.\u001b[0m\u001b[0mLine2D\u001b[0m\u001b[0;34m)\u001b[0m\u001b[0;34m\u001b[0m\u001b[0;34m\u001b[0m\u001b[0m\n\u001b[0;32m-> 1647\u001b[0;31m         \u001b[0mlines\u001b[0m \u001b[0;34m=\u001b[0m \u001b[0;34m[\u001b[0m\u001b[0;34m*\u001b[0m\u001b[0mself\u001b[0m\u001b[0;34m.\u001b[0m\u001b[0m_get_lines\u001b[0m\u001b[0;34m(\u001b[0m\u001b[0;34m*\u001b[0m\u001b[0margs\u001b[0m\u001b[0;34m,\u001b[0m \u001b[0mdata\u001b[0m\u001b[0;34m=\u001b[0m\u001b[0mdata\u001b[0m\u001b[0;34m,\u001b[0m \u001b[0;34m**\u001b[0m\u001b[0mkwargs\u001b[0m\u001b[0;34m)\u001b[0m\u001b[0;34m]\u001b[0m\u001b[0;34m\u001b[0m\u001b[0;34m\u001b[0m\u001b[0m\n\u001b[0m\u001b[1;32m   1648\u001b[0m         \u001b[0;32mfor\u001b[0m \u001b[0mline\u001b[0m \u001b[0;32min\u001b[0m \u001b[0mlines\u001b[0m\u001b[0;34m:\u001b[0m\u001b[0;34m\u001b[0m\u001b[0;34m\u001b[0m\u001b[0m\n\u001b[1;32m   1649\u001b[0m             \u001b[0mself\u001b[0m\u001b[0;34m.\u001b[0m\u001b[0madd_line\u001b[0m\u001b[0;34m(\u001b[0m\u001b[0mline\u001b[0m\u001b[0;34m)\u001b[0m\u001b[0;34m\u001b[0m\u001b[0;34m\u001b[0m\u001b[0m\n",
            "\u001b[0;32m/usr/local/lib/python3.7/dist-packages/matplotlib/axes/_base.py\u001b[0m in \u001b[0;36m__call__\u001b[0;34m(self, *args, **kwargs)\u001b[0m\n\u001b[1;32m    214\u001b[0m                 \u001b[0mthis\u001b[0m \u001b[0;34m+=\u001b[0m \u001b[0margs\u001b[0m\u001b[0;34m[\u001b[0m\u001b[0;36m0\u001b[0m\u001b[0;34m]\u001b[0m\u001b[0;34m,\u001b[0m\u001b[0;34m\u001b[0m\u001b[0;34m\u001b[0m\u001b[0m\n\u001b[1;32m    215\u001b[0m                 \u001b[0margs\u001b[0m \u001b[0;34m=\u001b[0m \u001b[0margs\u001b[0m\u001b[0;34m[\u001b[0m\u001b[0;36m1\u001b[0m\u001b[0;34m:\u001b[0m\u001b[0;34m]\u001b[0m\u001b[0;34m\u001b[0m\u001b[0;34m\u001b[0m\u001b[0m\n\u001b[0;32m--> 216\u001b[0;31m             \u001b[0;32myield\u001b[0m \u001b[0;32mfrom\u001b[0m \u001b[0mself\u001b[0m\u001b[0;34m.\u001b[0m\u001b[0m_plot_args\u001b[0m\u001b[0;34m(\u001b[0m\u001b[0mthis\u001b[0m\u001b[0;34m,\u001b[0m \u001b[0mkwargs\u001b[0m\u001b[0;34m)\u001b[0m\u001b[0;34m\u001b[0m\u001b[0;34m\u001b[0m\u001b[0m\n\u001b[0m\u001b[1;32m    217\u001b[0m \u001b[0;34m\u001b[0m\u001b[0m\n\u001b[1;32m    218\u001b[0m     \u001b[0;32mdef\u001b[0m \u001b[0mget_next_color\u001b[0m\u001b[0;34m(\u001b[0m\u001b[0mself\u001b[0m\u001b[0;34m)\u001b[0m\u001b[0;34m:\u001b[0m\u001b[0;34m\u001b[0m\u001b[0;34m\u001b[0m\u001b[0m\n",
            "\u001b[0;32m/usr/local/lib/python3.7/dist-packages/matplotlib/axes/_base.py\u001b[0m in \u001b[0;36m_plot_args\u001b[0;34m(self, tup, kwargs)\u001b[0m\n\u001b[1;32m    340\u001b[0m \u001b[0;34m\u001b[0m\u001b[0m\n\u001b[1;32m    341\u001b[0m         \u001b[0;32mif\u001b[0m \u001b[0mx\u001b[0m\u001b[0;34m.\u001b[0m\u001b[0mshape\u001b[0m\u001b[0;34m[\u001b[0m\u001b[0;36m0\u001b[0m\u001b[0;34m]\u001b[0m \u001b[0;34m!=\u001b[0m \u001b[0my\u001b[0m\u001b[0;34m.\u001b[0m\u001b[0mshape\u001b[0m\u001b[0;34m[\u001b[0m\u001b[0;36m0\u001b[0m\u001b[0;34m]\u001b[0m\u001b[0;34m:\u001b[0m\u001b[0;34m\u001b[0m\u001b[0;34m\u001b[0m\u001b[0m\n\u001b[0;32m--> 342\u001b[0;31m             raise ValueError(f\"x and y must have same first dimension, but \"\n\u001b[0m\u001b[1;32m    343\u001b[0m                              f\"have shapes {x.shape} and {y.shape}\")\n\u001b[1;32m    344\u001b[0m         \u001b[0;32mif\u001b[0m \u001b[0mx\u001b[0m\u001b[0;34m.\u001b[0m\u001b[0mndim\u001b[0m \u001b[0;34m>\u001b[0m \u001b[0;36m2\u001b[0m \u001b[0;32mor\u001b[0m \u001b[0my\u001b[0m\u001b[0;34m.\u001b[0m\u001b[0mndim\u001b[0m \u001b[0;34m>\u001b[0m \u001b[0;36m2\u001b[0m\u001b[0;34m:\u001b[0m\u001b[0;34m\u001b[0m\u001b[0;34m\u001b[0m\u001b[0m\n",
            "\u001b[0;31mValueError\u001b[0m: x and y must have same first dimension, but have shapes (40,) and (10,)"
          ]
        },
        {
          "output_type": "display_data",
          "data": {
            "text/plain": [
              "<Figure size 432x288 with 1 Axes>"
            ],
            "image/png": "[encoded data removed]"
          },
          "metadata": {
            "needs_background": "light"
          }
        }
      ]
    },
    {
      "cell_type": "markdown",
      "source": [
        "#evaluating our model"
      ],
      "metadata": {
        "id": "zMXfaBzouMde"
      }
    },
    {
      "cell_type": "code",
      "source": [
        "def make_confusion_matrix(y_true, y_pred, classes=None, figsize=(10,10), text_size=15):\n",
        "  import itertools\n",
        "\n",
        "  figsize= (10,10)\n",
        "\n",
        "  cm = confusion_matrix(y_true, y_preds)\n",
        "  cm_norm = cm.astype(\"float\") / cm.sum(axis=1)[:, np.newaxis] #normalize confusion matrix\n",
        "  cm_norm\n",
        "  n_classes = cm.shape[0]\n",
        "\n",
        "  #prettifiying\n",
        "  fig, ax = plt.subplots(figsize=figsize)\n",
        "  cax = ax.matshow(cm, cmap=plt.cm.Blues)\n",
        "  fig.colorbar(cax)\n",
        "\n",
        "  #setlables to be classes\n",
        "  if(classes):\n",
        "    labels = classes\n",
        "  else:\n",
        "    labels = np.arange(cm.shape[0])\n",
        "\n",
        "  #lable axes\n",
        "  ax.set(title=\"Confusion Matrix\",\n",
        "        xlabel=\"Predicted\",\n",
        "        ylabel=\"True\",\n",
        "        xticks=np.arange(n_classes),\n",
        "        yticks=np.arange(n_classes),\n",
        "        xticklabels=labels,\n",
        "        yticklabels=labels)\n",
        "  #set axis labels\n",
        "\n",
        "  ax.xaxis.set_label_position(\"bottom\")\n",
        "  ax.xaxis.tick_bottom()\n",
        "\n",
        "  ax.yaxis.label.set_size(20)\n",
        "  ax.xaxis.label.set_size(20)\n",
        "\n",
        "  threshold = (cm.max() + cm.min()) / 2\n",
        "\n",
        "  for i, j in itertools.product(range(cm.shape[0]), range(cm.shape[1])):\n",
        "    plt.text(j, i, f\"{cm[i, j]} ({cm_norm[i, j]*100:.1f}%)\",\n",
        "            horizontalalignment=\"center\",\n",
        "            color=\"white\" if cm[i, j] > threshold else \"black\",\n",
        "            size=text_size)\n"
      ],
      "metadata": {
        "id": "tAJ8R0lIvL5F"
      },
      "execution_count": 75,
      "outputs": []
    },
    {
      "cell_type": "code",
      "source": [
        "#making predictions\n",
        "y_probs = model_12.predict(test_data_normal)\n",
        "y_probs"
      ],
      "metadata": {
        "id": "NyZFex-1wF4K",
        "outputId": "d4c5adbe-b1e8-4e93-dd96-33c8e2eabd7f",
        "colab": {
          "base_uri": "https://localhost:8080/"
        }
      },
      "execution_count": 79,
      "outputs": [
        {
          "output_type": "execute_result",
          "data": {
            "text/plain": [
              "array([[6.3010233e-08, 0.0000000e+00, 7.0157758e-04, ..., 2.7667248e-01,\n",
              "        5.1494328e-05, 3.5842100e-01],\n",
              "       [8.9835254e-08, 0.0000000e+00, 6.8202591e-01, ..., 1.0032408e-04,\n",
              "        3.4022789e-09, 2.3441535e-01],\n",
              "       [1.5376748e-02, 9.3884552e-01, 8.2733238e-04, ..., 1.2727405e-05,\n",
              "        8.8825727e-05, 2.5235220e-06],\n",
              "       ...,\n",
              "       [6.7509621e-01, 3.5882000e-05, 5.4864620e-04, ..., 8.3404044e-03,\n",
              "        2.8837010e-01, 3.0988493e-05],\n",
              "       [1.5376748e-02, 9.3884552e-01, 8.2733238e-04, ..., 1.2727405e-05,\n",
              "        8.8825727e-05, 2.5235220e-06],\n",
              "       [5.0045009e-04, 2.4198691e-37, 1.8478880e-02, ..., 1.9358385e-01,\n",
              "        3.9536925e-03, 7.3218271e-02]], dtype=float32)"
            ]
          },
          "metadata": {},
          "execution_count": 79
        }
      ]
    },
    {
      "cell_type": "code",
      "source": [
        "y_probs[0], tf.argmax(y_probs[0])"
      ],
      "metadata": {
        "id": "Q6UsKoZrwOZ1",
        "outputId": "623d15a4-443f-485f-94f2-d78bea957cf4",
        "colab": {
          "base_uri": "https://localhost:8080/"
        }
      },
      "execution_count": 81,
      "outputs": [
        {
          "output_type": "execute_result",
          "data": {
            "text/plain": [
              "(array([6.3010233e-08, 0.0000000e+00, 7.0157758e-04, 8.5417937e-18,\n",
              "        9.8895114e-10, 3.6396778e-01, 1.8554699e-04, 2.7667248e-01,\n",
              "        5.1494328e-05, 3.5842100e-01], dtype=float32),\n",
              " <tf.Tensor: shape=(), dtype=int64, numpy=5>)"
            ]
          },
          "metadata": {},
          "execution_count": 81
        }
      ]
    },
    {
      "cell_type": "code",
      "source": [
        "tf.argmax(y_probs[0])"
      ],
      "metadata": {
        "id": "Y-L54Gsnww_J",
        "outputId": "8715705c-4ab8-49a1-8b2d-91a9f80da83a",
        "colab": {
          "base_uri": "https://localhost:8080/"
        }
      },
      "execution_count": 82,
      "outputs": [
        {
          "output_type": "execute_result",
          "data": {
            "text/plain": [
              "<tf.Tensor: shape=(), dtype=int64, numpy=5>"
            ]
          },
          "metadata": {},
          "execution_count": 82
        }
      ]
    },
    {
      "cell_type": "code",
      "source": [
        "#convert all of prediction probabilities to integrers\n",
        "y_preds = y_probs.argmax(axis=1)\n",
        "y_preds[0]"
      ],
      "metadata": {
        "id": "CMEeHo-ow2d5",
        "outputId": "f1e68561-e6ca-4825-ab4d-c0164c284e9e",
        "colab": {
          "base_uri": "https://localhost:8080/"
        }
      },
      "execution_count": 83,
      "outputs": [
        {
          "output_type": "execute_result",
          "data": {
            "text/plain": [
              "5"
            ]
          },
          "metadata": {},
          "execution_count": 83
        }
      ]
    },
    {
      "cell_type": "markdown",
      "source": [
        "#creating a confusion matrix"
      ],
      "metadata": {
        "id": "mBFSZUhAxBws"
      }
    },
    {
      "cell_type": "code",
      "source": [
        "from sklearn.metrics import confusion_matrix\n",
        "confusion_matrix(y_true=test_labels,\n",
        "                 y_pred=y_preds)"
      ],
      "metadata": {
        "id": "NqKfH9EwxFvR",
        "outputId": "f6be459e-3e69-4ab7-aee5-f0d437e8e744",
        "colab": {
          "base_uri": "https://localhost:8080/"
        }
      },
      "execution_count": 84,
      "outputs": [
        {
          "output_type": "execute_result",
          "data": {
            "text/plain": [
              "array([[729,  22,   4, 164,   4,   8,  60,   1,   8,   0],\n",
              "       [  2, 949,   1,  42,   3,   0,   3,   0,   0,   0],\n",
              "       [ 24,   2, 488,  56, 302,   2, 122,   0,   3,   1],\n",
              "       [ 36,  30,   2, 837,  33,   2,  59,   0,   1,   0],\n",
              "       [  1,   2, 125,  81, 751,   3,  36,   0,   1,   0],\n",
              "       [  7,   0,   8,   0,   0, 789,  13, 122,   8,  53],\n",
              "       [183,   2, 213, 188, 196,   5, 196,   0,  17,   0],\n",
              "       [  0,   0,   0,   0,   0,  75,   0, 876,   5,  44],\n",
              "       [ 47,   4,   1,   7,   2,  23,   6,  18, 892,   0],\n",
              "       [  1,   0,   5,   0,   0,  59,   2,  61,   0, 872]])"
            ]
          },
          "metadata": {},
          "execution_count": 84
        }
      ]
    },
    {
      "cell_type": "code",
      "source": [
        "make_confusion_matrix(y_true=test_labels,\n",
        "                      y_pred=y_preds,\n",
        "                      classes=class_names,\n",
        "                      figsize=(20,20))"
      ],
      "metadata": {
        "id": "eEv0xuPTxVrV",
        "outputId": "0fba0a7f-72e3-4950-d835-81b09f8ea62e",
        "colab": {
          "base_uri": "https://localhost:8080/",
          "height": 580
        }
      },
      "execution_count": 86,
      "outputs": [
        {
          "output_type": "display_data",
          "data": {
            "text/plain": [
              "<Figure size 720x720 with 2 Axes>"
            ],
            "image/png": "[encoded data removed]"
          },
          "metadata": {
            "needs_background": "light"
          }
        }
      ]
    },
    {
      "cell_type": "markdown",
      "source": [
        "#visualizing even more"
      ],
      "metadata": {
        "id": "k5Sm8S0lxf_F"
      }
    },
    {
      "cell_type": "code",
      "source": [
        "import random\n",
        "def plot_random_image(model, images, true_label, classes):\n",
        "  i = random.randint(0,len(images))\n",
        "\n",
        "  #create predictions and targets\n",
        "  target_image = images[i]\n",
        "  pred_probs = model.predict(target_image.reshape(1, 28, 28))\n",
        "  pred_label = classes[pred_probs.argmax()]\n",
        "  true_label = classes[true_label[i]]\n",
        "\n",
        "  plt.imshow(target_image, cmap=plt.cm.binary)\n",
        "\n",
        "  #chang color based on correct or not\n",
        "  if pred_label == true_label:\n",
        "    color=\"green\"\n",
        "  else:\n",
        "    color=\"red\"\n",
        "  \n",
        "  #add x label infor\n",
        "  plt.xlabel(\"pred: {} {:2.0f}% (True: {})\".format(pred_label, 100*tf.reduce_max(pred_probs), true_label), color=color)"
      ],
      "metadata": {
        "id": "NOSgdkwMzXwY"
      },
      "execution_count": 97,
      "outputs": []
    },
    {
      "cell_type": "code",
      "source": [
        "plot_random_image(model_12, test_data_normal, test_labels, class_names)"
      ],
      "metadata": {
        "id": "gI4oV1cQ0Ycv",
        "outputId": "12fe952f-2a69-448f-bc5a-4baa89e080eb",
        "colab": {
          "base_uri": "https://localhost:8080/",
          "height": 279
        }
      },
      "execution_count": 115,
      "outputs": [
        {
          "output_type": "display_data",
          "data": {
            "text/plain": [
              "<Figure size 432x288 with 1 Axes>"
            ],
            "image/png": "[encoded data removed]"
          },
          "metadata": {
            "needs_background": "light"
          }
        }
      ]
    },
    {
      "cell_type": "markdown",
      "source": [
        "#what patterns is our model learning?"
      ],
      "metadata": {
        "id": "VGbyO0j20jEt"
      }
    },
    {
      "cell_type": "code",
      "source": [
        "model_12.layers"
      ],
      "metadata": {
        "id": "p-_pVh-61k2w",
        "outputId": "49f02b8e-8e15-4d43-bd0f-c0e20a4dd117",
        "colab": {
          "base_uri": "https://localhost:8080/"
        }
      },
      "execution_count": 116,
      "outputs": [
        {
          "output_type": "execute_result",
          "data": {
            "text/plain": [
              "[<keras.layers.core.flatten.Flatten at 0x7f08e4bbab50>,\n",
              " <keras.layers.core.dense.Dense at 0x7f08e4bbac50>,\n",
              " <keras.layers.core.dense.Dense at 0x7f08e4bb4050>,\n",
              " <keras.layers.core.dense.Dense at 0x7f08e4bb4410>]"
            ]
          },
          "metadata": {},
          "execution_count": 116
        }
      ]
    },
    {
      "cell_type": "code",
      "source": [
        "#Extract a particular layer\n",
        "model_12.layers[1]"
      ],
      "metadata": {
        "id": "4arX0pDV1mHz",
        "outputId": "998f97e3-36ef-4c0b-91a0-ce03a8dfeda7",
        "colab": {
          "base_uri": "https://localhost:8080/"
        }
      },
      "execution_count": 117,
      "outputs": [
        {
          "output_type": "execute_result",
          "data": {
            "text/plain": [
              "<keras.layers.core.dense.Dense at 0x7f08e4bbac50>"
            ]
          },
          "metadata": {},
          "execution_count": 117
        }
      ]
    },
    {
      "cell_type": "code",
      "source": [
        "weights, biases = model_12.layers[1].get_weights()\n",
        "weights, weights.shape"
      ],
      "metadata": {
        "id": "8XFYdgdR1r9i",
        "outputId": "05a33391-3173-403b-9704-dbbeecdea4e1",
        "colab": {
          "base_uri": "https://localhost:8080/"
        }
      },
      "execution_count": 118,
      "outputs": [
        {
          "output_type": "execute_result",
          "data": {
            "text/plain": [
              "(array([[ 0.39761376, -0.3413707 , -0.24579865, -0.5124468 ],\n",
              "        [-0.03638108, -0.2162416 ,  0.02062715,  0.1394405 ],\n",
              "        [ 0.357419  , -0.34274763, -0.2378151 , -0.39932653],\n",
              "        ...,\n",
              "        [ 0.32415098,  0.92438847, -0.12303004, -0.15570241],\n",
              "        [ 0.7054809 ,  0.6600043 , -0.15416314, -0.5443296 ],\n",
              "        [ 0.8106772 ,  0.4858759 , -0.16137423, -0.6370454 ]],\n",
              "       dtype=float32), (784, 4))"
            ]
          },
          "metadata": {},
          "execution_count": 118
        }
      ]
    },
    {
      "cell_type": "code",
      "source": [
        "biases, biases.shape"
      ],
      "metadata": {
        "id": "1cfFDdxe10jn",
        "outputId": "038156b4-34b4-4670-92b3-f53c3f06b98e",
        "colab": {
          "base_uri": "https://localhost:8080/"
        }
      },
      "execution_count": 119,
      "outputs": [
        {
          "output_type": "execute_result",
          "data": {
            "text/plain": [
              "(array([ 0.01838618,  1.0499455 , -0.6659475 ,  1.313098  ], dtype=float32),\n",
              " (4,))"
            ]
          },
          "metadata": {},
          "execution_count": 119
        }
      ]
    },
    {
      "cell_type": "markdown",
      "source": [
        "#Every neuron has a Bias vector, each of these is paired wihta weights matrix\n",
        "#Bias vecotr gets initialized as zeros\n",
        "#Bias vector dictates how much the patterns with the weights matrix should influence the next layer"
      ],
      "metadata": {
        "id": "FugCBgtH2pRq"
      }
    },
    {
      "cell_type": "code",
      "source": [
        "#anothe rway of seeing deep learning models\n",
        "from tensorflow.keras.utils import plot_model\n",
        "plot_model(model_12, show_shapes=True)"
      ],
      "metadata": {
        "id": "iy2MBNEA3fjX",
        "outputId": "3b61e80c-1f72-4457-ab01-02bf86e3c7d8",
        "colab": {
          "base_uri": "https://localhost:8080/",
          "height": 533
        }
      },
      "execution_count": 120,
      "outputs": [
        {
          "output_type": "execute_result",
          "data": {
            "text/plain": [
              "<IPython.core.display.Image object>"
            ],
            "image/png": "[encoded data removed]"
          },
          "metadata": {},
          "execution_count": 120
        }
      ]
    },
    {
      "cell_type": "code",
      "source": [
        ""
      ],
      "metadata": {
        "id": "MQF94yBR3oS3"
      },
      "execution_count": null,
      "outputs": []
    }
  ]
}