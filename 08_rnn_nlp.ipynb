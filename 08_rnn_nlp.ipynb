{
  "nbformat": 4,
  "nbformat_minor": 0,
  "metadata": {
    "colab": {
      "name": "08_rnn_nlp.ipynb",
      "provenance": [],
      "authorship_tag": "ABX9TyP5NP9FGSRsp6NPNB2qYNnK",
      "include_colab_link": true
    },
    "kernelspec": {
      "name": "python3",
      "display_name": "Python 3"
    },
    "language_info": {
      "name": "python"
    },
    "accelerator": "GPU",
    "gpuClass": "standard"
  },
  "cells": [
    {
      "cell_type": "markdown",
      "metadata": {
        "id": "view-in-github",
        "colab_type": "text"
      },
      "source": [
        "<a href=\"https://colab.research.google.com/github/JacksonLeb/tensorflow_learning/blob/main/08_rnn_nlp.ipynb\" target=\"_parent\"><img src=\"https://colab.research.google.com/assets/colab-badge.svg\" alt=\"Open In Colab\"/></a>"
      ]
    },
    {
      "cell_type": "markdown",
      "source": [
        "#introduction to NLP fundamentals in Tf"
      ],
      "metadata": {
        "id": "ZnD4PEygtE27"
      }
    },
    {
      "cell_type": "markdown",
      "source": [
        "##Getting info from natural language (sequences or speech)\n",
        "##NLP can also be called seq2seq problems"
      ],
      "metadata": {
        "id": "D7gQKzrXtSj_"
      }
    },
    {
      "cell_type": "markdown",
      "source": [
        "###Checking for GPU\n"
      ],
      "metadata": {
        "id": "r3iGdaTrtaso"
      }
    },
    {
      "cell_type": "code",
      "source": [
        "!nvidia-smi -L"
      ],
      "metadata": {
        "colab": {
          "base_uri": "https://localhost:8080/"
        },
        "id": "NICFwKp3ti4A",
        "outputId": "a96a739e-582c-4c2a-a0fc-a8155bccd8ce"
      },
      "execution_count": 1,
      "outputs": [
        {
          "output_type": "stream",
          "name": "stdout",
          "text": [
            "GPU 0: Tesla T4 (UUID: GPU-9b828122-bd48-c505-460a-ad4a27a6c71e)\n"
          ]
        }
      ]
    },
    {
      "cell_type": "code",
      "source": [
        "##Get helper functions\n",
        "!wget https://raw.githubusercontent.com/mrdbourke/tensorflow-deep-learning/main/extras/helper_functions.py"
      ],
      "metadata": {
        "colab": {
          "base_uri": "https://localhost:8080/"
        },
        "id": "a9pVQ8PWtk3o",
        "outputId": "6ead9484-6534-48be-86b2-000fdb69bb82"
      },
      "execution_count": 2,
      "outputs": [
        {
          "output_type": "stream",
          "name": "stdout",
          "text": [
            "--2022-07-27 22:40:53--  https://raw.githubusercontent.com/mrdbourke/tensorflow-deep-learning/main/extras/helper_functions.py\n",
            "Resolving raw.githubusercontent.com (raw.githubusercontent.com)... 185.199.108.133, 185.199.109.133, 185.199.110.133, ...\n",
            "Connecting to raw.githubusercontent.com (raw.githubusercontent.com)|185.199.108.133|:443... connected.\n",
            "HTTP request sent, awaiting response... 200 OK\n",
            "Length: 10246 (10K) [text/plain]\n",
            "Saving to: ‘helper_functions.py’\n",
            "\n",
            "helper_functions.py 100%[===================>]  10.01K  --.-KB/s    in 0s      \n",
            "\n",
            "2022-07-27 22:40:53 (80.8 MB/s) - ‘helper_functions.py’ saved [10246/10246]\n",
            "\n"
          ]
        }
      ]
    },
    {
      "cell_type": "code",
      "source": [
        "from helper_functions import unzip_data, create_tensorboard_callback, plot_loss_curves, compare_historys"
      ],
      "metadata": {
        "id": "Sv2Mb8Ant40V"
      },
      "execution_count": 3,
      "outputs": []
    },
    {
      "cell_type": "code",
      "source": [
        "##Get a text dataset\n",
        "###Using the Kaggle Intro to NLP dataset, samples of tweets labeled hazard or not\n",
        "!wget https://storage.googleapis.com/ztm_tf_course/nlp_getting_started.zip"
      ],
      "metadata": {
        "colab": {
          "base_uri": "https://localhost:8080/"
        },
        "id": "6hpLAV1suBYh",
        "outputId": "4946238a-06a8-4f8f-a785-b4efd700a69a"
      },
      "execution_count": 4,
      "outputs": [
        {
          "output_type": "stream",
          "name": "stdout",
          "text": [
            "--2022-07-27 22:40:58--  https://storage.googleapis.com/ztm_tf_course/nlp_getting_started.zip\n",
            "Resolving storage.googleapis.com (storage.googleapis.com)... 173.194.202.128, 74.125.20.128, 108.177.98.128, ...\n",
            "Connecting to storage.googleapis.com (storage.googleapis.com)|173.194.202.128|:443... connected.\n",
            "HTTP request sent, awaiting response... 200 OK\n",
            "Length: 607343 (593K) [application/zip]\n",
            "Saving to: ‘nlp_getting_started.zip’\n",
            "\n",
            "\rnlp_getting_started   0%[                    ]       0  --.-KB/s               \rnlp_getting_started 100%[===================>] 593.11K  --.-KB/s    in 0.006s  \n",
            "\n",
            "2022-07-27 22:40:58 (102 MB/s) - ‘nlp_getting_started.zip’ saved [607343/607343]\n",
            "\n"
          ]
        }
      ]
    },
    {
      "cell_type": "code",
      "source": [
        "unzip_data(\"nlp_getting_started.zip\")"
      ],
      "metadata": {
        "id": "S-YrbvJruXMQ"
      },
      "execution_count": 5,
      "outputs": []
    },
    {
      "cell_type": "markdown",
      "source": [
        "##Visualizing a text dataset"
      ],
      "metadata": {
        "id": "CGGTc845ubSI"
      }
    },
    {
      "cell_type": "code",
      "source": [
        "import pandas as pd\n",
        "train_df = pd.read_csv(\"train.csv\")\n",
        "test_df = pd.read_csv(\"test.csv\")\n",
        "train_df.head()"
      ],
      "metadata": {
        "colab": {
          "base_uri": "https://localhost:8080/",
          "height": 206
        },
        "id": "dXSyq2QkurM0",
        "outputId": "09051f8f-f57f-46a5-cdc7-4b45c07529d8"
      },
      "execution_count": 6,
      "outputs": [
        {
          "output_type": "execute_result",
          "data": {
            "text/plain": [
              "   id keyword location                                               text  \\\n",
              "0   1     NaN      NaN  Our Deeds are the Reason of this #earthquake M...   \n",
              "1   4     NaN      NaN             Forest fire near La Ronge Sask. Canada   \n",
              "2   5     NaN      NaN  All residents asked to 'shelter in place' are ...   \n",
              "3   6     NaN      NaN  13,000 people receive #wildfires evacuation or...   \n",
              "4   7     NaN      NaN  Just got sent this photo from Ruby #Alaska as ...   \n",
              "\n",
              "   target  \n",
              "0       1  \n",
              "1       1  \n",
              "2       1  \n",
              "3       1  \n",
              "4       1  "
            ],
            "text/html": [
              "\n",
              "  <div id=\"df-21f4dc91-1e0e-4239-8d7a-362b7321fb23\">\n",
              "    <div class=\"colab-df-container\">\n",
              "      <div>\n",
              "<style scoped>\n",
              "    .dataframe tbody tr th:only-of-type {\n",
              "        vertical-align: middle;\n",
              "    }\n",
              "\n",
              "    .dataframe tbody tr th {\n",
              "        vertical-align: top;\n",
              "    }\n",
              "\n",
              "    .dataframe thead th {\n",
              "        text-align: right;\n",
              "    }\n",
              "</style>\n",
              "<table border=\"1\" class=\"dataframe\">\n",
              "  <thead>\n",
              "    <tr style=\"text-align: right;\">\n",
              "      <th></th>\n",
              "      <th>id</th>\n",
              "      <th>keyword</th>\n",
              "      <th>location</th>\n",
              "      <th>text</th>\n",
              "      <th>target</th>\n",
              "    </tr>\n",
              "  </thead>\n",
              "  <tbody>\n",
              "    <tr>\n",
              "      <th>0</th>\n",
              "      <td>1</td>\n",
              "      <td>NaN</td>\n",
              "      <td>NaN</td>\n",
              "      <td>Our Deeds are the Reason of this #earthquake M...</td>\n",
              "      <td>1</td>\n",
              "    </tr>\n",
              "    <tr>\n",
              "      <th>1</th>\n",
              "      <td>4</td>\n",
              "      <td>NaN</td>\n",
              "      <td>NaN</td>\n",
              "      <td>Forest fire near La Ronge Sask. Canada</td>\n",
              "      <td>1</td>\n",
              "    </tr>\n",
              "    <tr>\n",
              "      <th>2</th>\n",
              "      <td>5</td>\n",
              "      <td>NaN</td>\n",
              "      <td>NaN</td>\n",
              "      <td>All residents asked to 'shelter in place' are ...</td>\n",
              "      <td>1</td>\n",
              "    </tr>\n",
              "    <tr>\n",
              "      <th>3</th>\n",
              "      <td>6</td>\n",
              "      <td>NaN</td>\n",
              "      <td>NaN</td>\n",
              "      <td>13,000 people receive #wildfires evacuation or...</td>\n",
              "      <td>1</td>\n",
              "    </tr>\n",
              "    <tr>\n",
              "      <th>4</th>\n",
              "      <td>7</td>\n",
              "      <td>NaN</td>\n",
              "      <td>NaN</td>\n",
              "      <td>Just got sent this photo from Ruby #Alaska as ...</td>\n",
              "      <td>1</td>\n",
              "    </tr>\n",
              "  </tbody>\n",
              "</table>\n",
              "</div>\n",
              "      <button class=\"colab-df-convert\" onclick=\"convertToInteractive('df-21f4dc91-1e0e-4239-8d7a-362b7321fb23')\"\n",
              "              title=\"Convert this dataframe to an interactive table.\"\n",
              "              style=\"display:none;\">\n",
              "        \n",
              "  <svg xmlns=\"http://www.w3.org/2000/svg\" height=\"24px\"viewBox=\"0 0 24 24\"\n",
              "       width=\"24px\">\n",
              "    <path d=\"M0 0h24v24H0V0z\" fill=\"none\"/>\n",
              "    <path d=\"M18.56 5.44l.94 2.06.94-2.06 2.06-.94-2.06-.94-.94-2.06-.94 2.06-2.06.94zm-11 1L8.5 8.5l.94-2.06 2.06-.94-2.06-.94L8.5 2.5l-.94 2.06-2.06.94zm10 10l.94 2.06.94-2.06 2.06-.94-2.06-.94-.94-2.06-.94 2.06-2.06.94z\"/><path d=\"M17.41 7.96l-1.37-1.37c-.4-.4-.92-.59-1.43-.59-.52 0-1.04.2-1.43.59L10.3 9.45l-7.72 7.72c-.78.78-.78 2.05 0 2.83L4 21.41c.39.39.9.59 1.41.59.51 0 1.02-.2 1.41-.59l7.78-7.78 2.81-2.81c.8-.78.8-2.07 0-2.86zM5.41 20L4 18.59l7.72-7.72 1.47 1.35L5.41 20z\"/>\n",
              "  </svg>\n",
              "      </button>\n",
              "      \n",
              "  <style>\n",
              "    .colab-df-container {\n",
              "      display:flex;\n",
              "      flex-wrap:wrap;\n",
              "      gap: 12px;\n",
              "    }\n",
              "\n",
              "    .colab-df-convert {\n",
              "      background-color: #E8F0FE;\n",
              "      border: none;\n",
              "      border-radius: 50%;\n",
              "      cursor: pointer;\n",
              "      display: none;\n",
              "      fill: #1967D2;\n",
              "      height: 32px;\n",
              "      padding: 0 0 0 0;\n",
              "      width: 32px;\n",
              "    }\n",
              "\n",
              "    .colab-df-convert:hover {\n",
              "      background-color: #E2EBFA;\n",
              "      box-shadow: 0px 1px 2px rgba(60, 64, 67, 0.3), 0px 1px 3px 1px rgba(60, 64, 67, 0.15);\n",
              "      fill: #174EA6;\n",
              "    }\n",
              "\n",
              "    [theme=dark] .colab-df-convert {\n",
              "      background-color: #3B4455;\n",
              "      fill: #D2E3FC;\n",
              "    }\n",
              "\n",
              "    [theme=dark] .colab-df-convert:hover {\n",
              "      background-color: #434B5C;\n",
              "      box-shadow: 0px 1px 3px 1px rgba(0, 0, 0, 0.15);\n",
              "      filter: drop-shadow(0px 1px 2px rgba(0, 0, 0, 0.3));\n",
              "      fill: #FFFFFF;\n",
              "    }\n",
              "  </style>\n",
              "\n",
              "      <script>\n",
              "        const buttonEl =\n",
              "          document.querySelector('#df-21f4dc91-1e0e-4239-8d7a-362b7321fb23 button.colab-df-convert');\n",
              "        buttonEl.style.display =\n",
              "          google.colab.kernel.accessAllowed ? 'block' : 'none';\n",
              "\n",
              "        async function convertToInteractive(key) {\n",
              "          const element = document.querySelector('#df-21f4dc91-1e0e-4239-8d7a-362b7321fb23');\n",
              "          const dataTable =\n",
              "            await google.colab.kernel.invokeFunction('convertToInteractive',\n",
              "                                                     [key], {});\n",
              "          if (!dataTable) return;\n",
              "\n",
              "          const docLinkHtml = 'Like what you see? Visit the ' +\n",
              "            '<a target=\"_blank\" href=https://colab.research.google.com/notebooks/data_table.ipynb>data table notebook</a>'\n",
              "            + ' to learn more about interactive tables.';\n",
              "          element.innerHTML = '';\n",
              "          dataTable['output_type'] = 'display_data';\n",
              "          await google.colab.output.renderOutput(dataTable, element);\n",
              "          const docLink = document.createElement('div');\n",
              "          docLink.innerHTML = docLinkHtml;\n",
              "          element.appendChild(docLink);\n",
              "        }\n",
              "      </script>\n",
              "    </div>\n",
              "  </div>\n",
              "  "
            ]
          },
          "metadata": {},
          "execution_count": 6
        }
      ]
    },
    {
      "cell_type": "code",
      "source": [
        "train_df[\"text\"][0]"
      ],
      "metadata": {
        "colab": {
          "base_uri": "https://localhost:8080/",
          "height": 35
        },
        "id": "QZG6R-H5vMqh",
        "outputId": "9f155cc9-a074-413d-c385-a0f8cf004fe2"
      },
      "execution_count": 7,
      "outputs": [
        {
          "output_type": "execute_result",
          "data": {
            "text/plain": [
              "'Our Deeds are the Reason of this #earthquake May ALLAH Forgive us all'"
            ],
            "application/vnd.google.colaboratory.intrinsic+json": {
              "type": "string"
            }
          },
          "metadata": {},
          "execution_count": 7
        }
      ]
    },
    {
      "cell_type": "code",
      "source": [
        "train_df[\"text\"][10]"
      ],
      "metadata": {
        "colab": {
          "base_uri": "https://localhost:8080/",
          "height": 35
        },
        "id": "upCsjxyJvR1r",
        "outputId": "10a3e832-c9da-4c79-ed12-786f476d2066"
      },
      "execution_count": 8,
      "outputs": [
        {
          "output_type": "execute_result",
          "data": {
            "text/plain": [
              "'Three people died from the heat wave so far'"
            ],
            "application/vnd.google.colaboratory.intrinsic+json": {
              "type": "string"
            }
          },
          "metadata": {},
          "execution_count": 8
        }
      ]
    },
    {
      "cell_type": "code",
      "source": [
        "train_df[\"text\"][100]"
      ],
      "metadata": {
        "colab": {
          "base_uri": "https://localhost:8080/",
          "height": 35
        },
        "id": "AaW_eFiyvUYZ",
        "outputId": "d022fe82-e6cf-48ca-af50-4e3139918856"
      },
      "execution_count": 9,
      "outputs": [
        {
          "output_type": "execute_result",
          "data": {
            "text/plain": [
              "'.@NorwayMFA #Bahrain police had previously died in a road accident they were not killed by explosion https://t.co/gFJfgTodad'"
            ],
            "application/vnd.google.colaboratory.intrinsic+json": {
              "type": "string"
            }
          },
          "metadata": {},
          "execution_count": 9
        }
      ]
    },
    {
      "cell_type": "code",
      "source": [
        "#shuffle trianing df\n",
        "train_df_shuffled = train_df.sample(frac=1, random_state=42)\n",
        "train_df_shuffled.head()"
      ],
      "metadata": {
        "colab": {
          "base_uri": "https://localhost:8080/",
          "height": 206
        },
        "id": "T9eGhTtBvVy6",
        "outputId": "552e6334-1496-4c13-dc34-fdacae374fdc"
      },
      "execution_count": 10,
      "outputs": [
        {
          "output_type": "execute_result",
          "data": {
            "text/plain": [
              "        id      keyword               location  \\\n",
              "2644  3796  destruction                    NaN   \n",
              "2227  3185       deluge                    NaN   \n",
              "5448  7769       police                     UK   \n",
              "132    191   aftershock                    NaN   \n",
              "6845  9810       trauma  Montgomery County, MD   \n",
              "\n",
              "                                                   text  target  \n",
              "2644  So you have a new weapon that can cause un-ima...       1  \n",
              "2227  The f$&amp;@ing things I do for #GISHWHES Just...       0  \n",
              "5448  DT @georgegalloway: RT @Galloway4Mayor: ÛÏThe...       1  \n",
              "132   Aftershock back to school kick off was great. ...       0  \n",
              "6845  in response to trauma Children of Addicts deve...       0  "
            ],
            "text/html": [
              "\n",
              "  <div id=\"df-b6a6decc-1c4e-401c-81de-533bf8349128\">\n",
              "    <div class=\"colab-df-container\">\n",
              "      <div>\n",
              "<style scoped>\n",
              "    .dataframe tbody tr th:only-of-type {\n",
              "        vertical-align: middle;\n",
              "    }\n",
              "\n",
              "    .dataframe tbody tr th {\n",
              "        vertical-align: top;\n",
              "    }\n",
              "\n",
              "    .dataframe thead th {\n",
              "        text-align: right;\n",
              "    }\n",
              "</style>\n",
              "<table border=\"1\" class=\"dataframe\">\n",
              "  <thead>\n",
              "    <tr style=\"text-align: right;\">\n",
              "      <th></th>\n",
              "      <th>id</th>\n",
              "      <th>keyword</th>\n",
              "      <th>location</th>\n",
              "      <th>text</th>\n",
              "      <th>target</th>\n",
              "    </tr>\n",
              "  </thead>\n",
              "  <tbody>\n",
              "    <tr>\n",
              "      <th>2644</th>\n",
              "      <td>3796</td>\n",
              "      <td>destruction</td>\n",
              "      <td>NaN</td>\n",
              "      <td>So you have a new weapon that can cause un-ima...</td>\n",
              "      <td>1</td>\n",
              "    </tr>\n",
              "    <tr>\n",
              "      <th>2227</th>\n",
              "      <td>3185</td>\n",
              "      <td>deluge</td>\n",
              "      <td>NaN</td>\n",
              "      <td>The f$&amp;amp;@ing things I do for #GISHWHES Just...</td>\n",
              "      <td>0</td>\n",
              "    </tr>\n",
              "    <tr>\n",
              "      <th>5448</th>\n",
              "      <td>7769</td>\n",
              "      <td>police</td>\n",
              "      <td>UK</td>\n",
              "      <td>DT @georgegalloway: RT @Galloway4Mayor: ÛÏThe...</td>\n",
              "      <td>1</td>\n",
              "    </tr>\n",
              "    <tr>\n",
              "      <th>132</th>\n",
              "      <td>191</td>\n",
              "      <td>aftershock</td>\n",
              "      <td>NaN</td>\n",
              "      <td>Aftershock back to school kick off was great. ...</td>\n",
              "      <td>0</td>\n",
              "    </tr>\n",
              "    <tr>\n",
              "      <th>6845</th>\n",
              "      <td>9810</td>\n",
              "      <td>trauma</td>\n",
              "      <td>Montgomery County, MD</td>\n",
              "      <td>in response to trauma Children of Addicts deve...</td>\n",
              "      <td>0</td>\n",
              "    </tr>\n",
              "  </tbody>\n",
              "</table>\n",
              "</div>\n",
              "      <button class=\"colab-df-convert\" onclick=\"convertToInteractive('df-b6a6decc-1c4e-401c-81de-533bf8349128')\"\n",
              "              title=\"Convert this dataframe to an interactive table.\"\n",
              "              style=\"display:none;\">\n",
              "        \n",
              "  <svg xmlns=\"http://www.w3.org/2000/svg\" height=\"24px\"viewBox=\"0 0 24 24\"\n",
              "       width=\"24px\">\n",
              "    <path d=\"M0 0h24v24H0V0z\" fill=\"none\"/>\n",
              "    <path d=\"M18.56 5.44l.94 2.06.94-2.06 2.06-.94-2.06-.94-.94-2.06-.94 2.06-2.06.94zm-11 1L8.5 8.5l.94-2.06 2.06-.94-2.06-.94L8.5 2.5l-.94 2.06-2.06.94zm10 10l.94 2.06.94-2.06 2.06-.94-2.06-.94-.94-2.06-.94 2.06-2.06.94z\"/><path d=\"M17.41 7.96l-1.37-1.37c-.4-.4-.92-.59-1.43-.59-.52 0-1.04.2-1.43.59L10.3 9.45l-7.72 7.72c-.78.78-.78 2.05 0 2.83L4 21.41c.39.39.9.59 1.41.59.51 0 1.02-.2 1.41-.59l7.78-7.78 2.81-2.81c.8-.78.8-2.07 0-2.86zM5.41 20L4 18.59l7.72-7.72 1.47 1.35L5.41 20z\"/>\n",
              "  </svg>\n",
              "      </button>\n",
              "      \n",
              "  <style>\n",
              "    .colab-df-container {\n",
              "      display:flex;\n",
              "      flex-wrap:wrap;\n",
              "      gap: 12px;\n",
              "    }\n",
              "\n",
              "    .colab-df-convert {\n",
              "      background-color: #E8F0FE;\n",
              "      border: none;\n",
              "      border-radius: 50%;\n",
              "      cursor: pointer;\n",
              "      display: none;\n",
              "      fill: #1967D2;\n",
              "      height: 32px;\n",
              "      padding: 0 0 0 0;\n",
              "      width: 32px;\n",
              "    }\n",
              "\n",
              "    .colab-df-convert:hover {\n",
              "      background-color: #E2EBFA;\n",
              "      box-shadow: 0px 1px 2px rgba(60, 64, 67, 0.3), 0px 1px 3px 1px rgba(60, 64, 67, 0.15);\n",
              "      fill: #174EA6;\n",
              "    }\n",
              "\n",
              "    [theme=dark] .colab-df-convert {\n",
              "      background-color: #3B4455;\n",
              "      fill: #D2E3FC;\n",
              "    }\n",
              "\n",
              "    [theme=dark] .colab-df-convert:hover {\n",
              "      background-color: #434B5C;\n",
              "      box-shadow: 0px 1px 3px 1px rgba(0, 0, 0, 0.15);\n",
              "      filter: drop-shadow(0px 1px 2px rgba(0, 0, 0, 0.3));\n",
              "      fill: #FFFFFF;\n",
              "    }\n",
              "  </style>\n",
              "\n",
              "      <script>\n",
              "        const buttonEl =\n",
              "          document.querySelector('#df-b6a6decc-1c4e-401c-81de-533bf8349128 button.colab-df-convert');\n",
              "        buttonEl.style.display =\n",
              "          google.colab.kernel.accessAllowed ? 'block' : 'none';\n",
              "\n",
              "        async function convertToInteractive(key) {\n",
              "          const element = document.querySelector('#df-b6a6decc-1c4e-401c-81de-533bf8349128');\n",
              "          const dataTable =\n",
              "            await google.colab.kernel.invokeFunction('convertToInteractive',\n",
              "                                                     [key], {});\n",
              "          if (!dataTable) return;\n",
              "\n",
              "          const docLinkHtml = 'Like what you see? Visit the ' +\n",
              "            '<a target=\"_blank\" href=https://colab.research.google.com/notebooks/data_table.ipynb>data table notebook</a>'\n",
              "            + ' to learn more about interactive tables.';\n",
              "          element.innerHTML = '';\n",
              "          dataTable['output_type'] = 'display_data';\n",
              "          await google.colab.output.renderOutput(dataTable, element);\n",
              "          const docLink = document.createElement('div');\n",
              "          docLink.innerHTML = docLinkHtml;\n",
              "          element.appendChild(docLink);\n",
              "        }\n",
              "      </script>\n",
              "    </div>\n",
              "  </div>\n",
              "  "
            ]
          },
          "metadata": {},
          "execution_count": 10
        }
      ]
    },
    {
      "cell_type": "code",
      "source": [
        "#test df\n",
        "test_df.head()"
      ],
      "metadata": {
        "colab": {
          "base_uri": "https://localhost:8080/",
          "height": 206
        },
        "id": "MsQQhmdqvYzP",
        "outputId": "71b9bb46-eee0-4aef-9f0d-96c7e7d293cd"
      },
      "execution_count": 11,
      "outputs": [
        {
          "output_type": "execute_result",
          "data": {
            "text/plain": [
              "   id keyword location                                               text\n",
              "0   0     NaN      NaN                 Just happened a terrible car crash\n",
              "1   2     NaN      NaN  Heard about #earthquake is different cities, s...\n",
              "2   3     NaN      NaN  there is a forest fire at spot pond, geese are...\n",
              "3   9     NaN      NaN           Apocalypse lighting. #Spokane #wildfires\n",
              "4  11     NaN      NaN      Typhoon Soudelor kills 28 in China and Taiwan"
            ],
            "text/html": [
              "\n",
              "  <div id=\"df-3bb3a032-1a81-4fb8-a17d-aef84fbdd87e\">\n",
              "    <div class=\"colab-df-container\">\n",
              "      <div>\n",
              "<style scoped>\n",
              "    .dataframe tbody tr th:only-of-type {\n",
              "        vertical-align: middle;\n",
              "    }\n",
              "\n",
              "    .dataframe tbody tr th {\n",
              "        vertical-align: top;\n",
              "    }\n",
              "\n",
              "    .dataframe thead th {\n",
              "        text-align: right;\n",
              "    }\n",
              "</style>\n",
              "<table border=\"1\" class=\"dataframe\">\n",
              "  <thead>\n",
              "    <tr style=\"text-align: right;\">\n",
              "      <th></th>\n",
              "      <th>id</th>\n",
              "      <th>keyword</th>\n",
              "      <th>location</th>\n",
              "      <th>text</th>\n",
              "    </tr>\n",
              "  </thead>\n",
              "  <tbody>\n",
              "    <tr>\n",
              "      <th>0</th>\n",
              "      <td>0</td>\n",
              "      <td>NaN</td>\n",
              "      <td>NaN</td>\n",
              "      <td>Just happened a terrible car crash</td>\n",
              "    </tr>\n",
              "    <tr>\n",
              "      <th>1</th>\n",
              "      <td>2</td>\n",
              "      <td>NaN</td>\n",
              "      <td>NaN</td>\n",
              "      <td>Heard about #earthquake is different cities, s...</td>\n",
              "    </tr>\n",
              "    <tr>\n",
              "      <th>2</th>\n",
              "      <td>3</td>\n",
              "      <td>NaN</td>\n",
              "      <td>NaN</td>\n",
              "      <td>there is a forest fire at spot pond, geese are...</td>\n",
              "    </tr>\n",
              "    <tr>\n",
              "      <th>3</th>\n",
              "      <td>9</td>\n",
              "      <td>NaN</td>\n",
              "      <td>NaN</td>\n",
              "      <td>Apocalypse lighting. #Spokane #wildfires</td>\n",
              "    </tr>\n",
              "    <tr>\n",
              "      <th>4</th>\n",
              "      <td>11</td>\n",
              "      <td>NaN</td>\n",
              "      <td>NaN</td>\n",
              "      <td>Typhoon Soudelor kills 28 in China and Taiwan</td>\n",
              "    </tr>\n",
              "  </tbody>\n",
              "</table>\n",
              "</div>\n",
              "      <button class=\"colab-df-convert\" onclick=\"convertToInteractive('df-3bb3a032-1a81-4fb8-a17d-aef84fbdd87e')\"\n",
              "              title=\"Convert this dataframe to an interactive table.\"\n",
              "              style=\"display:none;\">\n",
              "        \n",
              "  <svg xmlns=\"http://www.w3.org/2000/svg\" height=\"24px\"viewBox=\"0 0 24 24\"\n",
              "       width=\"24px\">\n",
              "    <path d=\"M0 0h24v24H0V0z\" fill=\"none\"/>\n",
              "    <path d=\"M18.56 5.44l.94 2.06.94-2.06 2.06-.94-2.06-.94-.94-2.06-.94 2.06-2.06.94zm-11 1L8.5 8.5l.94-2.06 2.06-.94-2.06-.94L8.5 2.5l-.94 2.06-2.06.94zm10 10l.94 2.06.94-2.06 2.06-.94-2.06-.94-.94-2.06-.94 2.06-2.06.94z\"/><path d=\"M17.41 7.96l-1.37-1.37c-.4-.4-.92-.59-1.43-.59-.52 0-1.04.2-1.43.59L10.3 9.45l-7.72 7.72c-.78.78-.78 2.05 0 2.83L4 21.41c.39.39.9.59 1.41.59.51 0 1.02-.2 1.41-.59l7.78-7.78 2.81-2.81c.8-.78.8-2.07 0-2.86zM5.41 20L4 18.59l7.72-7.72 1.47 1.35L5.41 20z\"/>\n",
              "  </svg>\n",
              "      </button>\n",
              "      \n",
              "  <style>\n",
              "    .colab-df-container {\n",
              "      display:flex;\n",
              "      flex-wrap:wrap;\n",
              "      gap: 12px;\n",
              "    }\n",
              "\n",
              "    .colab-df-convert {\n",
              "      background-color: #E8F0FE;\n",
              "      border: none;\n",
              "      border-radius: 50%;\n",
              "      cursor: pointer;\n",
              "      display: none;\n",
              "      fill: #1967D2;\n",
              "      height: 32px;\n",
              "      padding: 0 0 0 0;\n",
              "      width: 32px;\n",
              "    }\n",
              "\n",
              "    .colab-df-convert:hover {\n",
              "      background-color: #E2EBFA;\n",
              "      box-shadow: 0px 1px 2px rgba(60, 64, 67, 0.3), 0px 1px 3px 1px rgba(60, 64, 67, 0.15);\n",
              "      fill: #174EA6;\n",
              "    }\n",
              "\n",
              "    [theme=dark] .colab-df-convert {\n",
              "      background-color: #3B4455;\n",
              "      fill: #D2E3FC;\n",
              "    }\n",
              "\n",
              "    [theme=dark] .colab-df-convert:hover {\n",
              "      background-color: #434B5C;\n",
              "      box-shadow: 0px 1px 3px 1px rgba(0, 0, 0, 0.15);\n",
              "      filter: drop-shadow(0px 1px 2px rgba(0, 0, 0, 0.3));\n",
              "      fill: #FFFFFF;\n",
              "    }\n",
              "  </style>\n",
              "\n",
              "      <script>\n",
              "        const buttonEl =\n",
              "          document.querySelector('#df-3bb3a032-1a81-4fb8-a17d-aef84fbdd87e button.colab-df-convert');\n",
              "        buttonEl.style.display =\n",
              "          google.colab.kernel.accessAllowed ? 'block' : 'none';\n",
              "\n",
              "        async function convertToInteractive(key) {\n",
              "          const element = document.querySelector('#df-3bb3a032-1a81-4fb8-a17d-aef84fbdd87e');\n",
              "          const dataTable =\n",
              "            await google.colab.kernel.invokeFunction('convertToInteractive',\n",
              "                                                     [key], {});\n",
              "          if (!dataTable) return;\n",
              "\n",
              "          const docLinkHtml = 'Like what you see? Visit the ' +\n",
              "            '<a target=\"_blank\" href=https://colab.research.google.com/notebooks/data_table.ipynb>data table notebook</a>'\n",
              "            + ' to learn more about interactive tables.';\n",
              "          element.innerHTML = '';\n",
              "          dataTable['output_type'] = 'display_data';\n",
              "          await google.colab.output.renderOutput(dataTable, element);\n",
              "          const docLink = document.createElement('div');\n",
              "          docLink.innerHTML = docLinkHtml;\n",
              "          element.appendChild(docLink);\n",
              "        }\n",
              "      </script>\n",
              "    </div>\n",
              "  </div>\n",
              "  "
            ]
          },
          "metadata": {},
          "execution_count": 11
        }
      ]
    },
    {
      "cell_type": "code",
      "source": [
        "#examples of each class\n",
        "train_df.target.value_counts()"
      ],
      "metadata": {
        "colab": {
          "base_uri": "https://localhost:8080/"
        },
        "id": "eOI5KrBPvpO4",
        "outputId": "2b52223a-48e7-4751-8ef5-80ccb8f6d9ca"
      },
      "execution_count": 12,
      "outputs": [
        {
          "output_type": "execute_result",
          "data": {
            "text/plain": [
              "0    4342\n",
              "1    3271\n",
              "Name: target, dtype: int64"
            ]
          },
          "metadata": {},
          "execution_count": 12
        }
      ]
    },
    {
      "cell_type": "code",
      "source": [
        "#total num of samples\n",
        "len(train_df), len(test_df)"
      ],
      "metadata": {
        "colab": {
          "base_uri": "https://localhost:8080/"
        },
        "id": "FmNJ9EsKv1BD",
        "outputId": "22eb801f-1d99-4476-e31b-0bcbf1d1d518"
      },
      "execution_count": 13,
      "outputs": [
        {
          "output_type": "execute_result",
          "data": {
            "text/plain": [
              "(7613, 3263)"
            ]
          },
          "metadata": {},
          "execution_count": 13
        }
      ]
    },
    {
      "cell_type": "code",
      "source": [
        "#visualizing random samples\n",
        "import random\n",
        "random_index = random.randint(0, len(train_df)-5) #create random index\n",
        "for row in train_df_shuffled[[\"text\", \"target\"]][random_index:random_index +5 ].itertuples():\n",
        "  _, text, target = row\n",
        "  print(f\"Target: {target}\", \"(real disaster\" if target > 0 else \"(not real disaster)\")\n",
        "  print(f\"Text:\\n{text}\")"
      ],
      "metadata": {
        "colab": {
          "base_uri": "https://localhost:8080/"
        },
        "id": "jqgjc8eTwF6y",
        "outputId": "44610b33-7038-4b50-a8e1-5d73a2d82f01"
      },
      "execution_count": 14,
      "outputs": [
        {
          "output_type": "stream",
          "name": "stdout",
          "text": [
            "Target: 0 (not real disaster)\n",
            "Text:\n",
            "The Civil Rights Movement (Eyewitness History Series) Wexler Sanford Hardcover http://t.co/kK0qFKGqcY http://t.co/SMc1Ro09Fs\n",
            "Target: 0 (not real disaster)\n",
            "Text:\n",
            "One of these candidates is going to have a Frank Grimes level meltdown with how voters love Trump no matter what. http://t.co/pBEgOf4740\n",
            "Target: 0 (not real disaster)\n",
            "Text:\n",
            "BOOM! Your country was just entirely annihilated by a hÛ_ ÛÓ Britain https://t.co/IrFCn71sZv\n",
            "Target: 0 (not real disaster)\n",
            "Text:\n",
            "Please sign &amp; RT to save #SaltRiverWildHorses http://t.co/IKUAYUSEqt http://t.co/BQBHUyfmE9\n",
            "Target: 0 (not real disaster)\n",
            "Text:\n",
            "'Nobody remembers who came in second.' Charles Schulz\n"
          ]
        }
      ]
    },
    {
      "cell_type": "code",
      "source": [
        "#splittting data into training and validation\n",
        "from sklearn.model_selection import train_test_split\n",
        "train_sentences, val_sentences, train_labels, val_labels = train_test_split(train_df_shuffled[\"text\"].to_numpy(),\n",
        "                                                                            train_df_shuffled[\"target\"].to_numpy(),\n",
        "                                                                            test_size=0.1,\n",
        "                                                                            random_state=30)"
      ],
      "metadata": {
        "id": "6D7_Msunwxry"
      },
      "execution_count": 15,
      "outputs": []
    },
    {
      "cell_type": "code",
      "source": [
        "#checking lengths of each data set\n",
        "len(train_sentences), len(val_sentences), len(train_labels), len(val_labels)"
      ],
      "metadata": {
        "colab": {
          "base_uri": "https://localhost:8080/"
        },
        "id": "NdntL4rNBpta",
        "outputId": "0cb4e784-72e4-4b40-9829-890f92347c39"
      },
      "execution_count": 16,
      "outputs": [
        {
          "output_type": "execute_result",
          "data": {
            "text/plain": [
              "(6851, 762, 6851, 762)"
            ]
          },
          "metadata": {},
          "execution_count": 16
        }
      ]
    },
    {
      "cell_type": "code",
      "source": [
        "#check the first 10 sentences\n",
        "train_sentences[:10]"
      ],
      "metadata": {
        "colab": {
          "base_uri": "https://localhost:8080/"
        },
        "id": "cEYvscGPCRf2",
        "outputId": "4c11afa1-0fe8-4928-b8d1-010de78684e5"
      },
      "execution_count": 17,
      "outputs": [
        {
          "output_type": "execute_result",
          "data": {
            "text/plain": [
              "array([\"All residents asked to 'shelter in place' are being notified by officers. No other evacuation or shelter in place orders are expected\",\n",
              "       \"@DavidJordan88 @Stephanenny Except we don't know who started the riot or if it even makes sense to credit any particular individuals...\",\n",
              "       'Shadow boxing the apocalypse',\n",
              "       \"Maybe that's what happens when a tornado meets a volcano\",\n",
              "       '#Politics Democracy\\x89Ûªs hatred for hate: \\x89Û_ Dawabsha threaten to erode Israeli democracy. Homegrown terrorism ha...  http://t.co/q8n5Tn8WME',\n",
              "       \"@TomDean86 he's alright but Hazard/Willian ain't gonna be shifted easily.\",\n",
              "       '0-day bug in fully patched OS X comes under active exploit to hijack Macs http://t.co/sbGiRvQvzb',\n",
              "       'Three Israeli soldiers wounded in West Bank terrorist attack via /r/worldnews http://t.co/su4ZVWADj7',\n",
              "       'If it\\x89Ûªs a war you came to see you will never see a waved white flag in front me.\\nI can\\x89Ûªt end up dead I wont be misled.',\n",
              "       'York Co. first responders compete to save lives in \\x89Û÷Badges for Blood\\x89Ûª #paramedic #EMS http://t.co/E65V80FCus'],\n",
              "      dtype=object)"
            ]
          },
          "metadata": {},
          "execution_count": 17
        }
      ]
    },
    {
      "cell_type": "code",
      "source": [
        "val_sentences[:10]"
      ],
      "metadata": {
        "colab": {
          "base_uri": "https://localhost:8080/"
        },
        "id": "Dd40MBTaCXFt",
        "outputId": "efa7fe6e-7baa-41ab-eb33-0d17516935f3"
      },
      "execution_count": 18,
      "outputs": [
        {
          "output_type": "execute_result",
          "data": {
            "text/plain": [
              "array(['Blaze is my bro http://t.co/UdKeSJ01mL',\n",
              "       'I was taught at school in the 1970s that piracy slavery and suicide-bombing were purely historical. No one then expected them to re-occur',\n",
              "       'http://t.co/FueRk0gWui Twelve feared killed in Pakistani air ambulance helicopter crash http://t.co/Mv7GgGlmVc',\n",
              "       \"I'm a friggin wreck destiel sucks (read the vine description)\\nhttps://t.co/MKX6Ux4OZt\",\n",
              "       'Dr. Bengston on #wildfire management: \\x89ÛÏnumbers and size of fires areas affected and costs of fighting them all show upward trend.\\x89Û\\x9d #smem',\n",
              "       '@ameenshaikh3 sir i just only wanted to make a point about @sureshpprabhu you made and said he is lying about bridge collapse.',\n",
              "       'Wow! I just won this for free The Hobbit: Desolation of Smaug UV digital download code *GIN 9 http://t.co/MjFdCrjs8j #listia',\n",
              "       'Photoset: hakogaku: ?åÊI am a kurd. i was born on a battlefield. raised on a battlefield. gunfire sirens... http://t.co/obp595W7tm',\n",
              "       'Washington Post - 4 dead dozens injured in Gaza blast near house leveled in summer war http://t.co/VjXa13n8Ap',\n",
              "       '@wocowae Police Officer Wounded Suspect Dead After Exchanging Shots http://t.co/oiOeCbsh1f ushed'],\n",
              "      dtype=object)"
            ]
          },
          "metadata": {},
          "execution_count": 18
        }
      ]
    },
    {
      "cell_type": "markdown",
      "source": [
        "## Converting text into numbers"
      ],
      "metadata": {
        "id": "nVIszkTYCY-8"
      }
    },
    {
      "cell_type": "markdown",
      "source": [
        "#Tokenization and Embedding\n",
        "##Tokenization: Each word/character is set to a number/one-hot encoding\n",
        "##Embedding: Each word/character is set to a vector, with user-defined size, allowing for information on the relationship between tokens/words/characters. Additionally, can limit size and can be learned (treated as a weight matrix)\n"
      ],
      "metadata": {
        "id": "VaehOHk5CoHW"
      }
    },
    {
      "cell_type": "code",
      "source": [
        "#Text Vectorization\n",
        "import tensorflow as tf\n",
        "from tensorflow.keras.layers import TextVectorization\n",
        "\n",
        "#Use default TextVectorization parameters\n",
        "text_vectorizer = TextVectorization(max_tokens=None, #how many words in vocabulary (automaticaly add <OOV>)\n",
        "                                    standardize=\"lower_and_strip_punctuation\", #remove fluff,\n",
        "                                    split=\"whitespace\",\n",
        "                                    ngrams=None, #create groups of n words\n",
        "                                    output_mode=\"int\", #how to map tokens to numbers\n",
        "                                    output_sequence_length=None, #how long each batch of a setence should be\n",
        "                                    pad_to_max_tokens=False)\n"
      ],
      "metadata": {
        "id": "Q0gVYSLkDOp3"
      },
      "execution_count": 19,
      "outputs": []
    },
    {
      "cell_type": "code",
      "source": [
        "#find average number of tokens (words) in the trianing tweets\n",
        "round(sum([len(i.split()) for i in train_sentences])/len(train_sentences))"
      ],
      "metadata": {
        "colab": {
          "base_uri": "https://localhost:8080/"
        },
        "id": "x-2vFBt0GNd-",
        "outputId": "9135a37d-4833-4c84-d9a3-d517f255ae06"
      },
      "execution_count": 20,
      "outputs": [
        {
          "output_type": "execute_result",
          "data": {
            "text/plain": [
              "15"
            ]
          },
          "metadata": {},
          "execution_count": 20
        }
      ]
    },
    {
      "cell_type": "code",
      "source": [
        "#set up text vectorization variables\n",
        "max_vocab_length = 10000 # max num of words to have in vocabulary\n",
        "max_length = 15 #max length of a tweet that our models sees\n",
        "\n",
        "text_vectorizer = TextVectorization(max_tokens=max_vocab_length, #how many words in vocabulary (automaticaly add <OOV>)\n",
        "                                    standardize=\"lower_and_strip_punctuation\", #remove fluff,\n",
        "                                    split=\"whitespace\",\n",
        "                                    ngrams=None, #create groups of n words\n",
        "                                    output_mode=\"int\", #how to map tokens to numbers\n",
        "                                    output_sequence_length=max_length, #how long each batch of a setence should be\n",
        "                                    pad_to_max_tokens=True)"
      ],
      "metadata": {
        "id": "HbIW4m3qG2ER"
      },
      "execution_count": 21,
      "outputs": []
    },
    {
      "cell_type": "code",
      "source": [
        "#adapting text_vectorizer to training data\n",
        "text_vectorizer.adapt(train_sentences) #adapt to training data, very important"
      ],
      "metadata": {
        "id": "n0A2cWjAHPK-"
      },
      "execution_count": 22,
      "outputs": []
    },
    {
      "cell_type": "code",
      "source": [
        "train_sentences[:10]"
      ],
      "metadata": {
        "colab": {
          "base_uri": "https://localhost:8080/"
        },
        "id": "RIjbJuNvHn-Q",
        "outputId": "21636622-78ef-410f-b29c-a72997bf06fb"
      },
      "execution_count": 23,
      "outputs": [
        {
          "output_type": "execute_result",
          "data": {
            "text/plain": [
              "array([\"All residents asked to 'shelter in place' are being notified by officers. No other evacuation or shelter in place orders are expected\",\n",
              "       \"@DavidJordan88 @Stephanenny Except we don't know who started the riot or if it even makes sense to credit any particular individuals...\",\n",
              "       'Shadow boxing the apocalypse',\n",
              "       \"Maybe that's what happens when a tornado meets a volcano\",\n",
              "       '#Politics Democracy\\x89Ûªs hatred for hate: \\x89Û_ Dawabsha threaten to erode Israeli democracy. Homegrown terrorism ha...  http://t.co/q8n5Tn8WME',\n",
              "       \"@TomDean86 he's alright but Hazard/Willian ain't gonna be shifted easily.\",\n",
              "       '0-day bug in fully patched OS X comes under active exploit to hijack Macs http://t.co/sbGiRvQvzb',\n",
              "       'Three Israeli soldiers wounded in West Bank terrorist attack via /r/worldnews http://t.co/su4ZVWADj7',\n",
              "       'If it\\x89Ûªs a war you came to see you will never see a waved white flag in front me.\\nI can\\x89Ûªt end up dead I wont be misled.',\n",
              "       'York Co. first responders compete to save lives in \\x89Û÷Badges for Blood\\x89Ûª #paramedic #EMS http://t.co/E65V80FCus'],\n",
              "      dtype=object)"
            ]
          },
          "metadata": {},
          "execution_count": 23
        }
      ]
    },
    {
      "cell_type": "code",
      "source": [
        "#Create sample setnces and tokenize it\n",
        "sample_sentence = \"A tornado destroyed my house\"\n",
        "text_vectorizer([sample_sentence])"
      ],
      "metadata": {
        "colab": {
          "base_uri": "https://localhost:8080/"
        },
        "id": "ghPJeZTdHpmP",
        "outputId": "3ac5037c-b4f0-4326-dba4-dcc80b491678"
      },
      "execution_count": 24,
      "outputs": [
        {
          "output_type": "execute_result",
          "data": {
            "text/plain": [
              "<tf.Tensor: shape=(1, 15), dtype=int64, numpy=\n",
              "array([[  3, 595, 346,  13, 311,   0,   0,   0,   0,   0,   0,   0,   0,\n",
              "          0,   0]])>"
            ]
          },
          "metadata": {},
          "execution_count": 24
        }
      ]
    },
    {
      "cell_type": "code",
      "source": [
        "#Choose a random sentence from the triaing dataset and vectorize it\n",
        "random_sentence = random.choice(train_sentences)\n",
        "print(f\"original sentence: {random_sentence}\\n vectorized sentence: {text_vectorizer([random_sentence])}\")"
      ],
      "metadata": {
        "colab": {
          "base_uri": "https://localhost:8080/"
        },
        "id": "G1A_HeIgH1dl",
        "outputId": "c33be392-253d-4800-9321-48efe389cf35"
      },
      "execution_count": 25,
      "outputs": [
        {
          "output_type": "stream",
          "name": "stdout",
          "text": [
            "original sentence: #NoChillLukeHammings\n",
            "IM SCREAMING\n",
            " vectorized sentence: [[  1  32 301   0   0   0   0   0   0   0   0   0   0   0   0]]\n"
          ]
        }
      ]
    },
    {
      "cell_type": "code",
      "source": [
        "#number of unique words found in train_sentences\n",
        "words_in_vocab = text_vectorizer.get_vocabulary()\n",
        "top_5_words = words_in_vocab[:5]\n",
        "bottom_5_words = words_in_vocab[-5:]\n",
        "print(f\"Num of words: {len(words_in_vocab)}\")\n",
        "top_5_words, bottom_5_words"
      ],
      "metadata": {
        "colab": {
          "base_uri": "https://localhost:8080/"
        },
        "id": "DjHVULaBIOds",
        "outputId": "e53ce57e-139d-4d65-b2ea-1d373b5b3b47"
      },
      "execution_count": 26,
      "outputs": [
        {
          "output_type": "stream",
          "name": "stdout",
          "text": [
            "Num of words: 10000\n"
          ]
        },
        {
          "output_type": "execute_result",
          "data": {
            "text/plain": [
              "(['', '[UNK]', 'the', 'a', 'in'],\n",
              " ['panda', 'panama', 'pampalmater', 'palmoil', 'palmer'])"
            ]
          },
          "metadata": {},
          "execution_count": 26
        }
      ]
    },
    {
      "cell_type": "markdown",
      "source": [
        "### Creating an embedding using an embedding layer\n"
      ],
      "metadata": {
        "id": "ZAjowXaIIfNw"
      }
    },
    {
      "cell_type": "code",
      "source": [
        "#using tensorflow.keras.layeres.Embedding\n",
        "##Parameters: input_dim, output_dim, input_length\n",
        "from tensorflow.keras import layers\n",
        "\n",
        "embedding = layers.Embedding(input_dim=max_vocab_length,\n",
        "                             output_dim=128,\n",
        "                             input_length=max_length)\n",
        "embedding"
      ],
      "metadata": {
        "colab": {
          "base_uri": "https://localhost:8080/"
        },
        "id": "t6Yg2so4JQwK",
        "outputId": "2472a1f7-ffab-443d-dae4-7ee7946571b8"
      },
      "execution_count": 27,
      "outputs": [
        {
          "output_type": "execute_result",
          "data": {
            "text/plain": [
              "<keras.layers.embeddings.Embedding at 0x7f04100f6bd0>"
            ]
          },
          "metadata": {},
          "execution_count": 27
        }
      ]
    },
    {
      "cell_type": "code",
      "source": [
        "#get a random sentence\n",
        "random_sentence = random.choice(train_sentences)\n",
        "print(f\"random sentence: {random_sentence}\")\n",
        "print(f\"embedded:\")\n",
        "sample_embed = embedding(text_vectorizer([random_sentence]))\n",
        "sample_embed"
      ],
      "metadata": {
        "colab": {
          "base_uri": "https://localhost:8080/"
        },
        "id": "RP6-vW_-KAkY",
        "outputId": "b2845d99-eb96-49c8-8ec2-fd1837ef6139"
      },
      "execution_count": 28,
      "outputs": [
        {
          "output_type": "stream",
          "name": "stdout",
          "text": [
            "random sentence: Cross-border terrorism: Pakistan caught red-handed again http://t.co/uDj50J3MV4\n",
            "embedded:\n"
          ]
        },
        {
          "output_type": "execute_result",
          "data": {
            "text/plain": [
              "<tf.Tensor: shape=(1, 15, 128), dtype=float32, numpy=\n",
              "array([[[-0.03958807, -0.01525826,  0.00317426, ...,  0.02307819,\n",
              "         -0.02895102,  0.04406451],\n",
              "        [-0.04168677,  0.04757056, -0.04176748, ...,  0.0343872 ,\n",
              "          0.00117552, -0.04675726],\n",
              "        [-0.0404402 , -0.01409991, -0.01986741, ..., -0.03874302,\n",
              "          0.03078927,  0.04022708],\n",
              "        ...,\n",
              "        [ 0.03095423,  0.02592571,  0.02956278, ..., -0.00507424,\n",
              "         -0.00331098, -0.01307736],\n",
              "        [ 0.03095423,  0.02592571,  0.02956278, ..., -0.00507424,\n",
              "         -0.00331098, -0.01307736],\n",
              "        [ 0.03095423,  0.02592571,  0.02956278, ..., -0.00507424,\n",
              "         -0.00331098, -0.01307736]]], dtype=float32)>"
            ]
          },
          "metadata": {},
          "execution_count": 28
        }
      ]
    },
    {
      "cell_type": "code",
      "source": [
        "sample_embed[0][0], sample_embed[0][0].shape, "
      ],
      "metadata": {
        "colab": {
          "base_uri": "https://localhost:8080/"
        },
        "id": "bnJWDCi5KZIY",
        "outputId": "7d943ae9-33a8-47a6-db1a-007c1038f80a"
      },
      "execution_count": 29,
      "outputs": [
        {
          "output_type": "execute_result",
          "data": {
            "text/plain": [
              "(<tf.Tensor: shape=(128,), dtype=float32, numpy=\n",
              " array([-0.03958807, -0.01525826,  0.00317426,  0.04912117,  0.04147414,\n",
              "         0.04636774, -0.02450562,  0.00150914, -0.04032522,  0.00096303,\n",
              "        -0.01658206, -0.01557084, -0.03651081,  0.02148367, -0.03764522,\n",
              "        -0.00326121, -0.00012162,  0.02221525, -0.02461655, -0.03417462,\n",
              "         0.0475762 , -0.01146208, -0.02497067, -0.000204  ,  0.03244803,\n",
              "        -0.02410991,  0.02290993,  0.04728557,  0.01609837,  0.02175493,\n",
              "         0.01939486,  0.01252573,  0.01923558,  0.04589095,  0.04481547,\n",
              "        -0.00564826,  0.03999725, -0.02430788,  0.03627784,  0.02058608,\n",
              "        -0.03298042,  0.01547693,  0.00061299,  0.03878326,  0.02189846,\n",
              "         0.01030647,  0.00094247,  0.03160058, -0.02842424,  0.01844959,\n",
              "         0.02329219,  0.01505197,  0.01270675,  0.02295461, -0.0068306 ,\n",
              "        -0.00636365,  0.03253921,  0.00347856, -0.03884237, -0.01305293,\n",
              "         0.04648313, -0.03485196, -0.04880828, -0.00329009, -0.00011702,\n",
              "         0.03877152, -0.01190261,  0.02437221, -0.00037683, -0.04854662,\n",
              "        -0.01971314,  0.04232452,  0.0193735 ,  0.01963056, -0.00814223,\n",
              "        -0.04435435, -0.03718423, -0.02533332,  0.02261272, -0.00641494,\n",
              "         0.01354266, -0.02203274, -0.04597402, -0.00652498, -0.0296775 ,\n",
              "        -0.00932579, -0.02976882, -0.0326758 ,  0.02735597,  0.03810266,\n",
              "         0.02009704, -0.01720772, -0.02143531, -0.04514288, -0.02901614,\n",
              "        -0.0293451 ,  0.02152761,  0.03887876,  0.01531554, -0.02541916,\n",
              "        -0.00045888, -0.03177317, -0.00962799,  0.01181145,  0.00289511,\n",
              "         0.03971868,  0.04304386, -0.02101611, -0.04189192, -0.00027686,\n",
              "        -0.0206705 ,  0.01850033, -0.04206321,  0.03730199,  0.02363313,\n",
              "         0.04954571,  0.00696688, -0.00632558,  0.03466724, -0.04292016,\n",
              "        -0.03948908, -0.01809679,  0.01744248,  0.00065554,  0.02638057,\n",
              "         0.02307819, -0.02895102,  0.04406451], dtype=float32)>,\n",
              " TensorShape([128]))"
            ]
          },
          "metadata": {},
          "execution_count": 29
        }
      ]
    },
    {
      "cell_type": "markdown",
      "source": [
        "##Modelling a text dataset (running series of experiments)\n",
        "###1. Naive bayes with Tf-IDF encoder (BASELINE)\n",
        "###2. Feed-forward neural network \n",
        "###3. LSTM\n",
        "###4. GRU\n",
        "###5. Bidirectiona;-LSTM\n",
        "###6. 1D CNN\n",
        "###7. TFHub pretrianed feature extractor\n",
        "###8. TFHub pretrained with 10% of trained datam\n",
        "\n"
      ],
      "metadata": {
        "id": "0DBYy9VgKz6Q"
      }
    },
    {
      "cell_type": "code",
      "source": [
        "###Model 0: Getting a baseline - Skleanrs multinomial naive bayes with tf-idf\n",
        "from sklearn.feature_extraction.text import TfidfVectorizer\n",
        "from sklearn.naive_bayes import MultinomialNB\n",
        "from sklearn.pipeline import Pipeline\n",
        "\n",
        "model_0 = Pipeline([\n",
        "                    (\"tfidf\", TfidfVectorizer()), #convert words to numbers\n",
        "                    (\"clf\", MultinomialNB()) #model the text\n",
        "\n",
        "])\n",
        "\n",
        "#fit the pipeline to the training data\n",
        "model_0.fit(train_sentences, train_labels)"
      ],
      "metadata": {
        "colab": {
          "base_uri": "https://localhost:8080/"
        },
        "id": "XkOIC43piGTm",
        "outputId": "1bf99c7f-a091-4142-de0f-05f467b89b1b"
      },
      "execution_count": 30,
      "outputs": [
        {
          "output_type": "execute_result",
          "data": {
            "text/plain": [
              "Pipeline(steps=[('tfidf', TfidfVectorizer()), ('clf', MultinomialNB())])"
            ]
          },
          "metadata": {},
          "execution_count": 30
        }
      ]
    },
    {
      "cell_type": "code",
      "source": [
        "#Evaluate our baseline model\n",
        "baseline_score = model_0.score(val_sentences, val_labels)"
      ],
      "metadata": {
        "id": "O5X_siMrizGj"
      },
      "execution_count": 31,
      "outputs": []
    },
    {
      "cell_type": "code",
      "source": [
        "baseline_score"
      ],
      "metadata": {
        "colab": {
          "base_uri": "https://localhost:8080/"
        },
        "id": "6BOnGaYPi9ve",
        "outputId": "1f7bba49-aabf-4da8-dba4-4b9ba3642b24"
      },
      "execution_count": 32,
      "outputs": [
        {
          "output_type": "execute_result",
          "data": {
            "text/plain": [
              "0.8044619422572179"
            ]
          },
          "metadata": {},
          "execution_count": 32
        }
      ]
    },
    {
      "cell_type": "code",
      "source": [
        "print(f\"Baseline Score: {baseline_score*100:.2f}%\")"
      ],
      "metadata": {
        "colab": {
          "base_uri": "https://localhost:8080/"
        },
        "id": "7Hashe3Ii-nf",
        "outputId": "50d9a940-4f29-409f-92da-62dc9cd9c1b7"
      },
      "execution_count": 33,
      "outputs": [
        {
          "output_type": "stream",
          "name": "stdout",
          "text": [
            "Baseline Score: 80.45%\n"
          ]
        }
      ]
    },
    {
      "cell_type": "code",
      "source": [
        "baseline_preds = model_0.predict(val_sentences)\n",
        "baseline_preds[:30]"
      ],
      "metadata": {
        "colab": {
          "base_uri": "https://localhost:8080/"
        },
        "id": "BEoJh2s0jJqo",
        "outputId": "23f5fea8-eb83-4314-84bd-3baf83e6d9f2"
      },
      "execution_count": 34,
      "outputs": [
        {
          "output_type": "execute_result",
          "data": {
            "text/plain": [
              "array([0, 1, 1, 0, 1, 0, 0, 0, 1, 1, 0, 0, 1, 0, 0, 0, 1, 0, 1, 0, 0, 0,\n",
              "       1, 1, 0, 1, 0, 0, 1, 1])"
            ]
          },
          "metadata": {},
          "execution_count": 34
        }
      ]
    },
    {
      "cell_type": "code",
      "source": [
        "### creating an evaluation function for our modeling experiements\n",
        "#Accuracy, Precision, Recall and f1-score\n",
        "from sklearn.metrics import accuracy_score, precision_recall_fscore_support\n",
        "\n",
        "def calculate_results(y_true, y_pred):\n",
        "  \"\"\"\n",
        "  Calculate model accuracy, preicision, recall and f1-score\n",
        "  \"\"\"\n",
        "  #calculate model accuracy\n",
        "  model_accuracy = accuracy_score(y_true, y_pred) * 100\n",
        "  \n",
        "  #precision, recall and f1-score(using weighted average)\n",
        "  model_precision, model_recall, model_f1, _ = precision_recall_fscore_support(y_true, y_pred, average=\"weighted\")\n",
        "  \n",
        "  model_results = {\n",
        "      \"accuracy\": model_accuracy,\n",
        "      \"precision\": model_precision,\n",
        "      \"recall\": model_recall,\n",
        "      \"f1\": model_f1\n",
        "  }\n",
        "\n",
        "  return model_results"
      ],
      "metadata": {
        "id": "DdUR34FxjRYZ"
      },
      "execution_count": 35,
      "outputs": []
    },
    {
      "cell_type": "code",
      "source": [
        "baseline_results = calculate_results(val_labels, baseline_preds)\n",
        "baseline_results"
      ],
      "metadata": {
        "colab": {
          "base_uri": "https://localhost:8080/"
        },
        "id": "tjVdDGjnk_q_",
        "outputId": "fc685db3-7fc4-45fe-d347-ba09c49f29fc"
      },
      "execution_count": 36,
      "outputs": [
        {
          "output_type": "execute_result",
          "data": {
            "text/plain": [
              "{'accuracy': 80.4461942257218,\n",
              " 'f1': 0.7993754401853582,\n",
              " 'precision': 0.8113250534023555,\n",
              " 'recall': 0.8044619422572179}"
            ]
          },
          "metadata": {},
          "execution_count": 36
        }
      ]
    },
    {
      "cell_type": "code",
      "source": [
        "### Model 1: Feed Forward NN\n",
        "\n",
        "# Create tensorboard callback (need to create a new one for each model)\n",
        "from helper_functions import create_tensorboard_callback\n",
        "\n",
        "# Create directory to save TensorBoard logs\n",
        "SAVE_DIR = \"model_logs\"\n"
      ],
      "metadata": {
        "id": "Y0JBzhS5lGDW"
      },
      "execution_count": 37,
      "outputs": []
    },
    {
      "cell_type": "code",
      "source": [
        "# Build model with the Functional API\n",
        "from tensorflow.keras import layers\n",
        "inputs = layers.Input(shape=(1,), dtype=\"string\") # inputs are 1-dimensional strings\n",
        "x = text_vectorizer(inputs) # turn the input text into numbers\n",
        "x = embedding(x) # create an embedding of the numerized numbers\n",
        "x = layers.GlobalAveragePooling1D()(x) # lower the dimensionality of the embedding (try running the model without this layer and see what happens)\n",
        "outputs = layers.Dense(1, activation=\"sigmoid\")(x) # create the output layer, want binary outputs so use sigmoid activation\n",
        "model_1 = tf.keras.Model(inputs, outputs, name=\"model_1_dense\") # construct the model"
      ],
      "metadata": {
        "id": "PwSRLYpsl56K"
      },
      "execution_count": 38,
      "outputs": []
    },
    {
      "cell_type": "code",
      "source": [
        "model_1.summary()"
      ],
      "metadata": {
        "colab": {
          "base_uri": "https://localhost:8080/"
        },
        "id": "imqHX2FbmaFz",
        "outputId": "b1875926-64be-4e02-a7d3-d93c5482b30e"
      },
      "execution_count": 39,
      "outputs": [
        {
          "output_type": "stream",
          "name": "stdout",
          "text": [
            "Model: \"model_1_dense\"\n",
            "_________________________________________________________________\n",
            " Layer (type)                Output Shape              Param #   \n",
            "=================================================================\n",
            " input_1 (InputLayer)        [(None, 1)]               0         \n",
            "                                                                 \n",
            " text_vectorization_1 (TextV  (None, 15)               0         \n",
            " ectorization)                                                   \n",
            "                                                                 \n",
            " embedding (Embedding)       (None, 15, 128)           1280000   \n",
            "                                                                 \n",
            " global_average_pooling1d (G  (None, 128)              0         \n",
            " lobalAveragePooling1D)                                          \n",
            "                                                                 \n",
            " dense (Dense)               (None, 1)                 129       \n",
            "                                                                 \n",
            "=================================================================\n",
            "Total params: 1,280,129\n",
            "Trainable params: 1,280,129\n",
            "Non-trainable params: 0\n",
            "_________________________________________________________________\n"
          ]
        }
      ]
    },
    {
      "cell_type": "code",
      "source": [
        "# Compile model\n",
        "model_1.compile(loss=\"binary_crossentropy\",\n",
        "                optimizer=tf.keras.optimizers.Adam(),\n",
        "                metrics=[\"accuracy\"])"
      ],
      "metadata": {
        "id": "fTEaytjamd00"
      },
      "execution_count": 40,
      "outputs": []
    },
    {
      "cell_type": "code",
      "source": [
        "model_1_history = model_1.fit(x=train_sentences,\n",
        "                              y=train_labels,\n",
        "                              epochs=5,\n",
        "                              validation_data=(val_sentences, val_labels),\n",
        "                              callbacks=[create_tensorboard_callback(dir_name=SAVE_DIR,\n",
        "                                                                     experiment_name=\"model_1_dense\")])"
      ],
      "metadata": {
        "colab": {
          "base_uri": "https://localhost:8080/"
        },
        "id": "unGFznThnF8F",
        "outputId": "0be01377-0a5b-4ee8-bab6-6a0956eb1ddb"
      },
      "execution_count": 41,
      "outputs": [
        {
          "output_type": "stream",
          "name": "stdout",
          "text": [
            "Saving TensorBoard log files to: model_logs/model_1_dense/20220727-224108\n",
            "Epoch 1/5\n",
            "215/215 [==============================] - 8s 7ms/step - loss: 0.6114 - accuracy: 0.7006 - val_loss: 0.5164 - val_accuracy: 0.7835\n",
            "Epoch 2/5\n",
            "215/215 [==============================] - 1s 5ms/step - loss: 0.4426 - accuracy: 0.8164 - val_loss: 0.4430 - val_accuracy: 0.7992\n",
            "Epoch 3/5\n",
            "215/215 [==============================] - 1s 4ms/step - loss: 0.3483 - accuracy: 0.8606 - val_loss: 0.4309 - val_accuracy: 0.8136\n",
            "Epoch 4/5\n",
            "215/215 [==============================] - 1s 5ms/step - loss: 0.2852 - accuracy: 0.8899 - val_loss: 0.4399 - val_accuracy: 0.8189\n",
            "Epoch 5/5\n",
            "215/215 [==============================] - 1s 5ms/step - loss: 0.2372 - accuracy: 0.9107 - val_loss: 0.4576 - val_accuracy: 0.7992\n"
          ]
        }
      ]
    },
    {
      "cell_type": "code",
      "source": [
        "#check the results\n",
        "model_1.evaluate(val_sentences, val_labels)"
      ],
      "metadata": {
        "colab": {
          "base_uri": "https://localhost:8080/"
        },
        "id": "Eb3VDnQUoCdn",
        "outputId": "84099698-9549-4d18-c127-6750367a11e5"
      },
      "execution_count": 42,
      "outputs": [
        {
          "output_type": "stream",
          "name": "stdout",
          "text": [
            "24/24 [==============================] - 0s 3ms/step - loss: 0.4576 - accuracy: 0.7992\n"
          ]
        },
        {
          "output_type": "execute_result",
          "data": {
            "text/plain": [
              "[0.4576182961463928, 0.7992125749588013]"
            ]
          },
          "metadata": {},
          "execution_count": 42
        }
      ]
    },
    {
      "cell_type": "code",
      "source": [
        "model_1_pred_probs = model_1.predict(val_sentences)\n",
        "model_1_pred_probs"
      ],
      "metadata": {
        "colab": {
          "base_uri": "https://localhost:8080/"
        },
        "id": "k6778pBuptaD",
        "outputId": "b533d06e-8198-4c46-99d5-6affe2bf7f4e"
      },
      "execution_count": 43,
      "outputs": [
        {
          "output_type": "execute_result",
          "data": {
            "text/plain": [
              "array([[3.65742035e-02],\n",
              "       [5.76329708e-01],\n",
              "       [9.97434318e-01],\n",
              "       [9.18445438e-02],\n",
              "       [9.75460947e-01],\n",
              "       [3.89407575e-02],\n",
              "       [7.12442677e-03],\n",
              "       [1.64515719e-01],\n",
              "       [9.96310294e-01],\n",
              "       [9.80351150e-01],\n",
              "       [2.03029960e-02],\n",
              "       [1.39970303e-01],\n",
              "       [9.99522448e-01],\n",
              "       [5.71614802e-02],\n",
              "       [3.50430794e-02],\n",
              "       [4.50059950e-01],\n",
              "       [9.97578204e-01],\n",
              "       [1.88367814e-01],\n",
              "       [4.99655366e-01],\n",
              "       [3.41268063e-01],\n",
              "       [8.13926905e-02],\n",
              "       [2.62851715e-01],\n",
              "       [8.97087216e-01],\n",
              "       [4.90057647e-01],\n",
              "       [2.95827806e-01],\n",
              "       [9.98772800e-01],\n",
              "       [1.76873162e-01],\n",
              "       [1.87893845e-02],\n",
              "       [9.62860346e-01],\n",
              "       [9.99876499e-01],\n",
              "       [9.99330521e-01],\n",
              "       [1.49382338e-01],\n",
              "       [3.18580121e-01],\n",
              "       [3.29108909e-02],\n",
              "       [5.14534339e-02],\n",
              "       [9.57416534e-01],\n",
              "       [5.55360783e-03],\n",
              "       [3.48500073e-01],\n",
              "       [3.05935860e-01],\n",
              "       [3.67221422e-02],\n",
              "       [3.84910673e-01],\n",
              "       [9.49091971e-01],\n",
              "       [9.16944504e-01],\n",
              "       [2.54246831e-01],\n",
              "       [2.98130605e-03],\n",
              "       [3.89241278e-02],\n",
              "       [1.58841044e-01],\n",
              "       [9.97622907e-01],\n",
              "       [1.59507960e-01],\n",
              "       [2.14856416e-01],\n",
              "       [3.45120490e-01],\n",
              "       [9.58056569e-01],\n",
              "       [2.50727028e-01],\n",
              "       [1.33333370e-01],\n",
              "       [1.12361625e-01],\n",
              "       [4.60538222e-03],\n",
              "       [1.34118766e-01],\n",
              "       [1.19863734e-01],\n",
              "       [6.00788772e-01],\n",
              "       [9.25378740e-01],\n",
              "       [2.03174785e-01],\n",
              "       [5.98233230e-02],\n",
              "       [9.40475106e-01],\n",
              "       [9.98898268e-01],\n",
              "       [1.59877446e-02],\n",
              "       [9.99264419e-01],\n",
              "       [1.19937539e-01],\n",
              "       [9.63091314e-01],\n",
              "       [2.69328833e-01],\n",
              "       [3.32543030e-02],\n",
              "       [1.78994372e-01],\n",
              "       [1.02764957e-01],\n",
              "       [9.37364176e-02],\n",
              "       [2.36380905e-01],\n",
              "       [1.43028691e-01],\n",
              "       [9.52970326e-01],\n",
              "       [6.63215995e-01],\n",
              "       [9.98891175e-01],\n",
              "       [9.98970509e-01],\n",
              "       [9.65010524e-01],\n",
              "       [9.15093869e-02],\n",
              "       [4.83146124e-02],\n",
              "       [4.49759573e-01],\n",
              "       [8.03433716e-01],\n",
              "       [3.56135577e-01],\n",
              "       [6.69527650e-01],\n",
              "       [2.06786990e-02],\n",
              "       [9.68486607e-01],\n",
              "       [1.57155856e-01],\n",
              "       [5.29452115e-02],\n",
              "       [7.26066455e-02],\n",
              "       [2.03722432e-01],\n",
              "       [1.79098099e-02],\n",
              "       [2.66087018e-02],\n",
              "       [9.78527963e-01],\n",
              "       [7.81663507e-02],\n",
              "       [5.00772357e-01],\n",
              "       [4.35406148e-01],\n",
              "       [2.09147900e-01],\n",
              "       [5.23441322e-02],\n",
              "       [1.14917122e-01],\n",
              "       [1.67400301e-01],\n",
              "       [9.21938837e-01],\n",
              "       [3.42733078e-02],\n",
              "       [6.07465431e-02],\n",
              "       [4.61943373e-02],\n",
              "       [5.48727214e-01],\n",
              "       [4.53973562e-02],\n",
              "       [1.86562121e-01],\n",
              "       [1.80094451e-01],\n",
              "       [2.79358644e-02],\n",
              "       [8.03089380e-01],\n",
              "       [9.43897307e-01],\n",
              "       [2.71379858e-01],\n",
              "       [2.53786743e-02],\n",
              "       [4.84837621e-01],\n",
              "       [8.59033048e-01],\n",
              "       [9.70040202e-01],\n",
              "       [9.97241735e-01],\n",
              "       [3.41525048e-01],\n",
              "       [9.95597780e-01],\n",
              "       [9.95077714e-02],\n",
              "       [9.97465611e-01],\n",
              "       [9.96823072e-01],\n",
              "       [1.03397202e-02],\n",
              "       [4.76012170e-01],\n",
              "       [9.64212239e-01],\n",
              "       [3.54263365e-01],\n",
              "       [9.98949230e-01],\n",
              "       [8.37371111e-01],\n",
              "       [1.83637619e-01],\n",
              "       [9.64833200e-01],\n",
              "       [3.32231253e-01],\n",
              "       [4.52954993e-02],\n",
              "       [9.23334479e-01],\n",
              "       [9.12239179e-02],\n",
              "       [3.75403762e-01],\n",
              "       [9.99745429e-01],\n",
              "       [9.99804795e-01],\n",
              "       [1.70130953e-01],\n",
              "       [1.80181079e-02],\n",
              "       [8.78616512e-01],\n",
              "       [9.04459894e-01],\n",
              "       [7.71977186e-01],\n",
              "       [3.21247905e-01],\n",
              "       [8.41981888e-01],\n",
              "       [5.32648802e-01],\n",
              "       [1.47543009e-02],\n",
              "       [2.97492445e-01],\n",
              "       [5.21275401e-03],\n",
              "       [9.94257569e-01],\n",
              "       [4.21643108e-01],\n",
              "       [3.17240995e-03],\n",
              "       [9.22391236e-01],\n",
              "       [3.91143709e-02],\n",
              "       [5.28876483e-02],\n",
              "       [8.25529769e-02],\n",
              "       [4.39188987e-01],\n",
              "       [9.35333550e-01],\n",
              "       [2.58847237e-01],\n",
              "       [9.56320465e-01],\n",
              "       [9.97713685e-01],\n",
              "       [7.32750297e-01],\n",
              "       [6.78114966e-02],\n",
              "       [4.55219746e-02],\n",
              "       [2.75859952e-01],\n",
              "       [1.96383789e-01],\n",
              "       [1.46564217e-02],\n",
              "       [3.99735197e-02],\n",
              "       [5.72612703e-01],\n",
              "       [9.73412693e-01],\n",
              "       [3.14307511e-01],\n",
              "       [5.00390753e-02],\n",
              "       [6.56756805e-03],\n",
              "       [3.28168780e-01],\n",
              "       [3.69656198e-02],\n",
              "       [9.21231925e-01],\n",
              "       [8.45977604e-01],\n",
              "       [1.41244512e-02],\n",
              "       [8.07598174e-01],\n",
              "       [4.54810560e-02],\n",
              "       [7.67702341e-01],\n",
              "       [2.26223189e-02],\n",
              "       [4.40204084e-01],\n",
              "       [2.88031489e-01],\n",
              "       [2.00093463e-02],\n",
              "       [9.99001563e-01],\n",
              "       [7.40799010e-01],\n",
              "       [4.37229842e-01],\n",
              "       [6.66758716e-02],\n",
              "       [1.30339025e-03],\n",
              "       [2.18435720e-01],\n",
              "       [5.24430752e-01],\n",
              "       [7.18275830e-02],\n",
              "       [2.16087595e-01],\n",
              "       [1.74359664e-01],\n",
              "       [9.97645199e-01],\n",
              "       [5.26197910e-01],\n",
              "       [4.64999616e-01],\n",
              "       [5.18043339e-02],\n",
              "       [8.21173936e-02],\n",
              "       [9.99156475e-01],\n",
              "       [1.50819228e-03],\n",
              "       [2.23296639e-02],\n",
              "       [1.68138910e-02],\n",
              "       [9.02847290e-01],\n",
              "       [1.56527273e-02],\n",
              "       [4.46927160e-01],\n",
              "       [9.90653455e-01],\n",
              "       [8.09856225e-03],\n",
              "       [4.34045754e-02],\n",
              "       [4.22454365e-02],\n",
              "       [1.59601659e-01],\n",
              "       [3.46337587e-01],\n",
              "       [5.03544100e-02],\n",
              "       [9.34854567e-01],\n",
              "       [6.70860171e-01],\n",
              "       [6.11359179e-02],\n",
              "       [9.78880763e-01],\n",
              "       [5.69410086e-01],\n",
              "       [8.97182107e-01],\n",
              "       [3.67600620e-02],\n",
              "       [9.65850413e-01],\n",
              "       [1.11235879e-01],\n",
              "       [9.57733169e-02],\n",
              "       [7.51017779e-02],\n",
              "       [6.98549926e-01],\n",
              "       [9.95547295e-01],\n",
              "       [8.02013054e-02],\n",
              "       [3.04572005e-02],\n",
              "       [9.36717451e-01],\n",
              "       [6.62301779e-01],\n",
              "       [1.16543127e-02],\n",
              "       [8.33240449e-01],\n",
              "       [9.21013474e-01],\n",
              "       [4.79746372e-01],\n",
              "       [2.82402962e-01],\n",
              "       [1.22499559e-02],\n",
              "       [9.97752964e-01],\n",
              "       [3.14307511e-01],\n",
              "       [6.00971058e-02],\n",
              "       [1.51033700e-01],\n",
              "       [9.01519973e-03],\n",
              "       [1.96940675e-01],\n",
              "       [1.02702513e-01],\n",
              "       [1.85730979e-02],\n",
              "       [4.96252120e-01],\n",
              "       [7.84579013e-03],\n",
              "       [8.39837670e-01],\n",
              "       [3.07454348e-01],\n",
              "       [8.71773005e-01],\n",
              "       [5.43350101e-01],\n",
              "       [1.25112593e-01],\n",
              "       [3.57602201e-02],\n",
              "       [1.12521559e-01],\n",
              "       [9.67354551e-02],\n",
              "       [6.36559948e-02],\n",
              "       [7.37430295e-03],\n",
              "       [3.40126127e-01],\n",
              "       [8.50540876e-01],\n",
              "       [3.32436077e-02],\n",
              "       [9.91012096e-01],\n",
              "       [2.97097284e-02],\n",
              "       [4.25021956e-03],\n",
              "       [9.99556243e-01],\n",
              "       [1.92952827e-01],\n",
              "       [1.44408479e-01],\n",
              "       [7.98338726e-02],\n",
              "       [2.79300332e-01],\n",
              "       [8.88150215e-01],\n",
              "       [2.42172495e-01],\n",
              "       [7.06990855e-03],\n",
              "       [9.68472660e-01],\n",
              "       [1.48146719e-01],\n",
              "       [5.48625886e-01],\n",
              "       [9.83444929e-01],\n",
              "       [9.99784648e-01],\n",
              "       [3.42067748e-01],\n",
              "       [7.31188834e-01],\n",
              "       [5.14156185e-02],\n",
              "       [9.88142073e-01],\n",
              "       [2.94386894e-01],\n",
              "       [4.72009212e-01],\n",
              "       [1.33514389e-01],\n",
              "       [9.94933903e-01],\n",
              "       [4.18749601e-01],\n",
              "       [2.56558657e-01],\n",
              "       [8.14703047e-01],\n",
              "       [7.38510668e-01],\n",
              "       [7.99992383e-01],\n",
              "       [5.75282983e-02],\n",
              "       [3.14307511e-01],\n",
              "       [1.19754441e-01],\n",
              "       [6.48059368e-01],\n",
              "       [1.55566618e-01],\n",
              "       [9.81854558e-01],\n",
              "       [2.88897067e-01],\n",
              "       [2.80492723e-01],\n",
              "       [4.71614242e-01],\n",
              "       [9.99666810e-01],\n",
              "       [9.13214147e-01],\n",
              "       [3.83993983e-02],\n",
              "       [9.58012223e-01],\n",
              "       [9.98534203e-01],\n",
              "       [4.12798226e-01],\n",
              "       [5.31781800e-02],\n",
              "       [1.24117360e-01],\n",
              "       [2.84366190e-01],\n",
              "       [8.65897655e-01],\n",
              "       [8.68170857e-01],\n",
              "       [1.47340640e-01],\n",
              "       [1.67996615e-01],\n",
              "       [1.31837940e-02],\n",
              "       [2.35688940e-01],\n",
              "       [8.53048116e-02],\n",
              "       [6.48394972e-02],\n",
              "       [9.18530166e-01],\n",
              "       [1.69268385e-01],\n",
              "       [3.59155118e-01],\n",
              "       [2.02340856e-02],\n",
              "       [9.47780371e-01],\n",
              "       [2.44862527e-01],\n",
              "       [6.22568429e-01],\n",
              "       [7.31459677e-01],\n",
              "       [1.85086802e-02],\n",
              "       [1.82819828e-01],\n",
              "       [9.99451935e-01],\n",
              "       [9.41123784e-01],\n",
              "       [1.78100199e-01],\n",
              "       [2.30801448e-01],\n",
              "       [9.94257569e-01],\n",
              "       [4.99937534e-01],\n",
              "       [1.17957383e-01],\n",
              "       [7.15353414e-02],\n",
              "       [1.76433206e-01],\n",
              "       [4.76576835e-02],\n",
              "       [8.51291344e-02],\n",
              "       [1.66866049e-01],\n",
              "       [5.20784371e-02],\n",
              "       [3.39154974e-02],\n",
              "       [5.60928345e-01],\n",
              "       [9.97109234e-01],\n",
              "       [9.19855312e-02],\n",
              "       [8.88560593e-01],\n",
              "       [3.66439879e-01],\n",
              "       [2.29506716e-02],\n",
              "       [2.62325555e-01],\n",
              "       [1.49993151e-01],\n",
              "       [9.92800474e-01],\n",
              "       [7.26257205e-01],\n",
              "       [5.80435954e-02],\n",
              "       [9.85538602e-01],\n",
              "       [6.49020791e-01],\n",
              "       [7.67531097e-02],\n",
              "       [4.87840548e-02],\n",
              "       [1.37893632e-01],\n",
              "       [1.81280985e-01],\n",
              "       [2.18916953e-01],\n",
              "       [6.41165912e-01],\n",
              "       [9.35142279e-01],\n",
              "       [5.48625886e-01],\n",
              "       [1.99346751e-01],\n",
              "       [6.70304075e-02],\n",
              "       [1.24403507e-01],\n",
              "       [9.95285332e-01],\n",
              "       [9.85045493e-01],\n",
              "       [9.31177676e-01],\n",
              "       [5.98016977e-01],\n",
              "       [1.76036686e-01],\n",
              "       [2.96621680e-01],\n",
              "       [5.22866845e-01],\n",
              "       [1.54740410e-02],\n",
              "       [9.98325050e-01],\n",
              "       [9.91094828e-01],\n",
              "       [1.35982573e-01],\n",
              "       [1.23426601e-01],\n",
              "       [1.99223205e-01],\n",
              "       [9.11633223e-02],\n",
              "       [9.09769297e-01],\n",
              "       [9.96380627e-01],\n",
              "       [9.66660142e-01],\n",
              "       [2.81338729e-02],\n",
              "       [1.64239164e-02],\n",
              "       [4.05834585e-01],\n",
              "       [9.97109234e-01],\n",
              "       [6.19910918e-02],\n",
              "       [9.45224464e-01],\n",
              "       [9.99851823e-01],\n",
              "       [1.12048708e-01],\n",
              "       [9.83692408e-01],\n",
              "       [9.88096118e-01],\n",
              "       [6.74207449e-01],\n",
              "       [1.15130790e-01],\n",
              "       [8.71924013e-02],\n",
              "       [4.76483908e-03],\n",
              "       [1.84879284e-02],\n",
              "       [6.65196657e-01],\n",
              "       [9.90193784e-01],\n",
              "       [2.82422274e-01],\n",
              "       [3.21731083e-02],\n",
              "       [8.34358670e-03],\n",
              "       [3.16855647e-02],\n",
              "       [6.33263364e-02],\n",
              "       [6.13606811e-01],\n",
              "       [9.56611097e-01],\n",
              "       [3.33076030e-01],\n",
              "       [6.94619259e-03],\n",
              "       [3.00565772e-02],\n",
              "       [3.00429732e-01],\n",
              "       [2.17743784e-01],\n",
              "       [2.05234334e-01],\n",
              "       [3.11765552e-01],\n",
              "       [9.96124685e-01],\n",
              "       [1.52428374e-01],\n",
              "       [5.88210858e-02],\n",
              "       [1.07185215e-01],\n",
              "       [5.18937826e-01],\n",
              "       [3.27604830e-01],\n",
              "       [9.98534203e-01],\n",
              "       [8.42353702e-01],\n",
              "       [2.87363231e-02],\n",
              "       [1.99833453e-01],\n",
              "       [7.33355135e-02],\n",
              "       [9.87309635e-01],\n",
              "       [1.02590561e-01],\n",
              "       [1.45878255e-01],\n",
              "       [7.25796223e-01],\n",
              "       [6.69046193e-02],\n",
              "       [4.65610549e-02],\n",
              "       [4.44879591e-01],\n",
              "       [8.68754566e-01],\n",
              "       [3.54670286e-01],\n",
              "       [2.29874611e-01],\n",
              "       [3.33405733e-01],\n",
              "       [5.35770297e-01],\n",
              "       [8.99928391e-01],\n",
              "       [9.69494104e-01],\n",
              "       [7.47453690e-01],\n",
              "       [3.28120112e-01],\n",
              "       [1.94932714e-01],\n",
              "       [1.77827507e-01],\n",
              "       [8.11924696e-01],\n",
              "       [3.15090269e-02],\n",
              "       [5.81878722e-01],\n",
              "       [2.32268825e-01],\n",
              "       [3.05135101e-01],\n",
              "       [2.87586540e-01],\n",
              "       [2.40619943e-01],\n",
              "       [2.19329149e-01],\n",
              "       [9.78885472e-01],\n",
              "       [2.34231934e-01],\n",
              "       [4.01289761e-01],\n",
              "       [6.03354156e-01],\n",
              "       [1.75228223e-01],\n",
              "       [1.22058101e-01],\n",
              "       [5.32566488e-01],\n",
              "       [9.94863570e-01],\n",
              "       [2.72305429e-01],\n",
              "       [4.85080063e-01],\n",
              "       [8.34486902e-01],\n",
              "       [3.39667648e-02],\n",
              "       [7.44358718e-01],\n",
              "       [3.11985128e-02],\n",
              "       [6.41066790e-01],\n",
              "       [7.25502253e-01],\n",
              "       [4.03663777e-02],\n",
              "       [2.42938608e-01],\n",
              "       [5.65757811e-01],\n",
              "       [4.05834585e-01],\n",
              "       [2.97332089e-02],\n",
              "       [7.21581340e-01],\n",
              "       [1.65567789e-02],\n",
              "       [4.71117608e-02],\n",
              "       [4.04884033e-02],\n",
              "       [6.34133041e-01],\n",
              "       [1.41279578e-01],\n",
              "       [9.84008074e-01],\n",
              "       [6.19478058e-03],\n",
              "       [1.24104321e-01],\n",
              "       [9.99732077e-01],\n",
              "       [1.57731384e-01],\n",
              "       [5.04094139e-02],\n",
              "       [4.74367999e-02],\n",
              "       [7.20476508e-01],\n",
              "       [4.44033980e-01],\n",
              "       [5.28010249e-01],\n",
              "       [1.87417045e-02],\n",
              "       [5.24237603e-02],\n",
              "       [4.82883066e-01],\n",
              "       [6.27088186e-04],\n",
              "       [4.65864278e-02],\n",
              "       [9.75547612e-01],\n",
              "       [9.07014608e-01],\n",
              "       [1.02348618e-01],\n",
              "       [2.17897445e-01],\n",
              "       [8.74370277e-01],\n",
              "       [8.00098717e-01],\n",
              "       [3.46308887e-01],\n",
              "       [5.88457108e-01],\n",
              "       [6.54381633e-01],\n",
              "       [9.99162436e-01],\n",
              "       [3.68577614e-02],\n",
              "       [7.26074353e-02],\n",
              "       [1.20274851e-03],\n",
              "       [8.85251224e-01],\n",
              "       [1.05334232e-02],\n",
              "       [4.80766714e-01],\n",
              "       [9.77994502e-01],\n",
              "       [7.26251066e-01],\n",
              "       [3.99885148e-01],\n",
              "       [9.99503255e-01],\n",
              "       [6.22919872e-02],\n",
              "       [4.25752729e-01],\n",
              "       [5.83274364e-02],\n",
              "       [1.01473659e-01],\n",
              "       [9.99701440e-01],\n",
              "       [9.74175513e-01],\n",
              "       [1.46676600e-01],\n",
              "       [3.78639162e-01],\n",
              "       [1.50518611e-01],\n",
              "       [9.99800503e-01],\n",
              "       [1.55335311e-02],\n",
              "       [1.88374981e-01],\n",
              "       [4.83146124e-02],\n",
              "       [1.47449389e-01],\n",
              "       [8.65313783e-02],\n",
              "       [8.96054745e-01],\n",
              "       [2.19156414e-01],\n",
              "       [5.27556203e-02],\n",
              "       [9.96092141e-01],\n",
              "       [1.11939184e-01],\n",
              "       [4.50519891e-03],\n",
              "       [9.95717347e-01],\n",
              "       [9.54969153e-02],\n",
              "       [4.27239537e-02],\n",
              "       [9.85922813e-01],\n",
              "       [3.76512945e-01],\n",
              "       [9.54100609e-01],\n",
              "       [9.98800278e-01],\n",
              "       [5.26255965e-01],\n",
              "       [3.23982611e-02],\n",
              "       [9.31057870e-01],\n",
              "       [1.68195754e-01],\n",
              "       [4.64390218e-03],\n",
              "       [9.46767151e-01],\n",
              "       [4.05120924e-02],\n",
              "       [6.71446919e-02],\n",
              "       [1.00662455e-01],\n",
              "       [5.43523014e-01],\n",
              "       [1.00725949e-01],\n",
              "       [1.37945144e-02],\n",
              "       [9.99602497e-01],\n",
              "       [9.99491453e-01],\n",
              "       [9.49806690e-01],\n",
              "       [6.95317149e-01],\n",
              "       [8.19996834e-01],\n",
              "       [9.40406024e-01],\n",
              "       [8.13862026e-01],\n",
              "       [3.68630469e-01],\n",
              "       [5.40265322e-01],\n",
              "       [7.95172572e-01],\n",
              "       [2.92895824e-01],\n",
              "       [7.11365104e-01],\n",
              "       [6.24975413e-02],\n",
              "       [9.85428505e-03],\n",
              "       [1.25450090e-01],\n",
              "       [3.57181355e-02],\n",
              "       [9.56106722e-01],\n",
              "       [3.90930399e-02],\n",
              "       [8.62186849e-02],\n",
              "       [8.39317560e-01],\n",
              "       [2.45365954e-04],\n",
              "       [7.46238172e-01],\n",
              "       [7.57072419e-02],\n",
              "       [3.53714257e-01],\n",
              "       [9.99162436e-01],\n",
              "       [3.75282392e-02],\n",
              "       [9.31057870e-01],\n",
              "       [9.99330521e-01],\n",
              "       [9.05400589e-02],\n",
              "       [8.71369958e-01],\n",
              "       [9.90193784e-01],\n",
              "       [8.92982960e-01],\n",
              "       [2.74490327e-01],\n",
              "       [5.08639514e-01],\n",
              "       [2.72977561e-01],\n",
              "       [7.92858377e-02],\n",
              "       [1.08795598e-01],\n",
              "       [9.95129108e-01],\n",
              "       [9.91966367e-01],\n",
              "       [2.01944873e-01],\n",
              "       [5.96050322e-01],\n",
              "       [9.11882222e-01],\n",
              "       [2.92523116e-01],\n",
              "       [8.03170860e-01],\n",
              "       [1.10871524e-01],\n",
              "       [6.40999913e-01],\n",
              "       [3.16326082e-01],\n",
              "       [8.43817592e-02],\n",
              "       [1.28002644e-01],\n",
              "       [6.93418831e-02],\n",
              "       [9.90572155e-01],\n",
              "       [9.99264419e-01],\n",
              "       [8.65468264e-01],\n",
              "       [4.59434777e-01],\n",
              "       [1.38088241e-01],\n",
              "       [1.38245642e-01],\n",
              "       [2.54408598e-01],\n",
              "       [6.70509577e-01],\n",
              "       [9.12443455e-03],\n",
              "       [6.38517797e-01],\n",
              "       [4.86802280e-01],\n",
              "       [6.12181485e-01],\n",
              "       [1.45062536e-01],\n",
              "       [1.91217067e-03],\n",
              "       [8.79912674e-02],\n",
              "       [2.23317564e-01],\n",
              "       [2.67742760e-02],\n",
              "       [9.13402259e-01],\n",
              "       [2.59339452e-01],\n",
              "       [3.26180905e-01],\n",
              "       [2.11917624e-01],\n",
              "       [1.73424765e-01],\n",
              "       [2.76699942e-03],\n",
              "       [9.99297619e-01],\n",
              "       [8.43505785e-02],\n",
              "       [5.58519065e-01],\n",
              "       [9.98108745e-01],\n",
              "       [9.91040409e-01],\n",
              "       [2.92523324e-01],\n",
              "       [9.20517445e-02],\n",
              "       [6.91944361e-01],\n",
              "       [8.47452521e-01],\n",
              "       [6.05752349e-01],\n",
              "       [2.22222954e-01],\n",
              "       [1.24786802e-01],\n",
              "       [5.19256473e-01],\n",
              "       [2.15512946e-01],\n",
              "       [1.07705981e-01],\n",
              "       [1.87531531e-01],\n",
              "       [8.20616186e-01],\n",
              "       [6.43551722e-02],\n",
              "       [7.04653412e-02],\n",
              "       [5.91301262e-01],\n",
              "       [2.54989058e-01],\n",
              "       [9.96818900e-01],\n",
              "       [1.82974115e-01],\n",
              "       [4.82477009e-01],\n",
              "       [4.55118157e-02],\n",
              "       [9.23934858e-03],\n",
              "       [3.64417553e-01],\n",
              "       [6.54381633e-01],\n",
              "       [1.73266977e-02],\n",
              "       [3.90305132e-01],\n",
              "       [4.08727854e-01],\n",
              "       [1.57420859e-01],\n",
              "       [7.50636458e-01],\n",
              "       [9.99921799e-01],\n",
              "       [9.99893427e-01],\n",
              "       [2.72437125e-01],\n",
              "       [8.80702615e-01],\n",
              "       [3.17061581e-02],\n",
              "       [2.19329149e-01],\n",
              "       [2.36049175e-01],\n",
              "       [4.69021142e-01],\n",
              "       [4.41529639e-02],\n",
              "       [3.17030512e-02],\n",
              "       [2.70471931e-01],\n",
              "       [3.19128036e-01],\n",
              "       [9.86173093e-01],\n",
              "       [6.95614159e-01],\n",
              "       [9.98187959e-01],\n",
              "       [1.07352316e-01],\n",
              "       [2.66688541e-02],\n",
              "       [5.81588484e-02],\n",
              "       [3.84074450e-02],\n",
              "       [3.77122939e-01],\n",
              "       [9.99273479e-01],\n",
              "       [9.96539354e-01],\n",
              "       [2.54134908e-02],\n",
              "       [4.64548349e-01],\n",
              "       [2.28371650e-01],\n",
              "       [5.38676381e-02],\n",
              "       [1.39723346e-01],\n",
              "       [6.27234578e-01],\n",
              "       [8.32511485e-03],\n",
              "       [4.61258888e-01],\n",
              "       [1.45065814e-01],\n",
              "       [4.67162073e-01],\n",
              "       [9.71193492e-01],\n",
              "       [3.16975236e-01],\n",
              "       [4.85231191e-01],\n",
              "       [9.13268328e-02],\n",
              "       [4.20608789e-01],\n",
              "       [8.69623050e-02],\n",
              "       [9.99702156e-01],\n",
              "       [4.41529639e-02],\n",
              "       [1.52220368e-01],\n",
              "       [1.56141773e-01],\n",
              "       [2.78038591e-01],\n",
              "       [1.36390075e-01],\n",
              "       [1.50842443e-01],\n",
              "       [6.90283701e-02],\n",
              "       [1.29594475e-01],\n",
              "       [5.09541392e-01],\n",
              "       [1.26422971e-01],\n",
              "       [2.27229804e-01],\n",
              "       [5.25552571e-01],\n",
              "       [9.25743163e-01],\n",
              "       [8.62014771e-01],\n",
              "       [4.45491932e-02],\n",
              "       [4.71251346e-02],\n",
              "       [9.97434318e-01],\n",
              "       [3.26834381e-01],\n",
              "       [7.93449461e-01],\n",
              "       [1.61638677e-01],\n",
              "       [2.81509571e-02],\n",
              "       [3.45600434e-02],\n",
              "       [2.58963168e-01],\n",
              "       [8.67596209e-01],\n",
              "       [9.98084664e-01],\n",
              "       [2.01636747e-01],\n",
              "       [9.96445119e-01],\n",
              "       [6.54381633e-01],\n",
              "       [1.47498354e-01],\n",
              "       [4.38444316e-01],\n",
              "       [8.11787322e-02],\n",
              "       [3.09504066e-02],\n",
              "       [2.02788055e-01],\n",
              "       [3.93652171e-01],\n",
              "       [2.74216801e-01],\n",
              "       [7.44215846e-01],\n",
              "       [9.06684697e-01],\n",
              "       [2.23124295e-01],\n",
              "       [5.61451428e-02],\n",
              "       [9.12942350e-01],\n",
              "       [7.63605893e-01],\n",
              "       [2.02171072e-01],\n",
              "       [1.10050097e-01],\n",
              "       [4.12902623e-01],\n",
              "       [9.67927337e-01],\n",
              "       [7.02103525e-02],\n",
              "       [6.85797393e-01],\n",
              "       [2.38028485e-02],\n",
              "       [5.96531332e-02],\n",
              "       [2.48280570e-01],\n",
              "       [5.55442035e-01],\n",
              "       [1.50196506e-02],\n",
              "       [2.49096658e-02],\n",
              "       [2.02934355e-01],\n",
              "       [9.99190867e-01],\n",
              "       [9.90833819e-01],\n",
              "       [9.98887479e-01],\n",
              "       [2.30355054e-01],\n",
              "       [8.17700624e-02],\n",
              "       [1.39452284e-02],\n",
              "       [6.68988228e-01],\n",
              "       [9.65168118e-01],\n",
              "       [4.48980220e-02],\n",
              "       [9.78311896e-01],\n",
              "       [9.99701440e-01],\n",
              "       [3.84718291e-02]], dtype=float32)"
            ]
          },
          "metadata": {},
          "execution_count": 43
        }
      ]
    },
    {
      "cell_type": "code",
      "source": [
        "model_1_pred_probs[0]"
      ],
      "metadata": {
        "colab": {
          "base_uri": "https://localhost:8080/"
        },
        "id": "lO_6RbS5p0hl",
        "outputId": "06fa739c-e717-47bd-9c31-e59eb5d4fb49"
      },
      "execution_count": 44,
      "outputs": [
        {
          "output_type": "execute_result",
          "data": {
            "text/plain": [
              "array([0.0365742], dtype=float32)"
            ]
          },
          "metadata": {},
          "execution_count": 44
        }
      ]
    },
    {
      "cell_type": "code",
      "source": [
        "model_1_pred_probs.shape"
      ],
      "metadata": {
        "colab": {
          "base_uri": "https://localhost:8080/"
        },
        "id": "Np19ljwYp2bG",
        "outputId": "994678d7-20b3-4e0e-da37-7d3f3410055b"
      },
      "execution_count": 45,
      "outputs": [
        {
          "output_type": "execute_result",
          "data": {
            "text/plain": [
              "(762, 1)"
            ]
          },
          "metadata": {},
          "execution_count": 45
        }
      ]
    },
    {
      "cell_type": "code",
      "source": [
        "model_1_pred_probs[:10]"
      ],
      "metadata": {
        "colab": {
          "base_uri": "https://localhost:8080/"
        },
        "id": "FEe-BvFHp6fc",
        "outputId": "cc31c7cc-0533-4c1a-9cd5-fab54bbff309"
      },
      "execution_count": 46,
      "outputs": [
        {
          "output_type": "execute_result",
          "data": {
            "text/plain": [
              "array([[0.0365742 ],\n",
              "       [0.5763297 ],\n",
              "       [0.9974343 ],\n",
              "       [0.09184454],\n",
              "       [0.97546095],\n",
              "       [0.03894076],\n",
              "       [0.00712443],\n",
              "       [0.16451572],\n",
              "       [0.9963103 ],\n",
              "       [0.98035115]], dtype=float32)"
            ]
          },
          "metadata": {},
          "execution_count": 46
        }
      ]
    },
    {
      "cell_type": "code",
      "source": [
        "model_1_preds = tf.squeeze(tf.round(model_1_pred_probs))\n",
        "model_1_preds"
      ],
      "metadata": {
        "colab": {
          "base_uri": "https://localhost:8080/"
        },
        "id": "mDgsBmSZqyqX",
        "outputId": "ed8f92e6-a718-4bd9-da54-bce5cb1004c2"
      },
      "execution_count": 47,
      "outputs": [
        {
          "output_type": "execute_result",
          "data": {
            "text/plain": [
              "<tf.Tensor: shape=(762,), dtype=float32, numpy=\n",
              "array([0., 1., 1., 0., 1., 0., 0., 0., 1., 1., 0., 0., 1., 0., 0., 0., 1.,\n",
              "       0., 0., 0., 0., 0., 1., 0., 0., 1., 0., 0., 1., 1., 1., 0., 0., 0.,\n",
              "       0., 1., 0., 0., 0., 0., 0., 1., 1., 0., 0., 0., 0., 1., 0., 0., 0.,\n",
              "       1., 0., 0., 0., 0., 0., 0., 1., 1., 0., 0., 1., 1., 0., 1., 0., 1.,\n",
              "       0., 0., 0., 0., 0., 0., 0., 1., 1., 1., 1., 1., 0., 0., 0., 1., 0.,\n",
              "       1., 0., 1., 0., 0., 0., 0., 0., 0., 1., 0., 1., 0., 0., 0., 0., 0.,\n",
              "       1., 0., 0., 0., 1., 0., 0., 0., 0., 1., 1., 0., 0., 0., 1., 1., 1.,\n",
              "       0., 1., 0., 1., 1., 0., 0., 1., 0., 1., 1., 0., 1., 0., 0., 1., 0.,\n",
              "       0., 1., 1., 0., 0., 1., 1., 1., 0., 1., 1., 0., 0., 0., 1., 0., 0.,\n",
              "       1., 0., 0., 0., 0., 1., 0., 1., 1., 1., 0., 0., 0., 0., 0., 0., 1.,\n",
              "       1., 0., 0., 0., 0., 0., 1., 1., 0., 1., 0., 1., 0., 0., 0., 0., 1.,\n",
              "       1., 0., 0., 0., 0., 1., 0., 0., 0., 1., 1., 0., 0., 0., 1., 0., 0.,\n",
              "       0., 1., 0., 0., 1., 0., 0., 0., 0., 0., 0., 1., 1., 0., 1., 1., 1.,\n",
              "       0., 1., 0., 0., 0., 1., 1., 0., 0., 1., 1., 0., 1., 1., 0., 0., 0.,\n",
              "       1., 0., 0., 0., 0., 0., 0., 0., 0., 0., 1., 0., 1., 1., 0., 0., 0.,\n",
              "       0., 0., 0., 0., 1., 0., 1., 0., 0., 1., 0., 0., 0., 0., 1., 0., 0.,\n",
              "       1., 0., 1., 1., 1., 0., 1., 0., 1., 0., 0., 0., 1., 0., 0., 1., 1.,\n",
              "       1., 0., 0., 0., 1., 0., 1., 0., 0., 0., 1., 1., 0., 1., 1., 0., 0.,\n",
              "       0., 0., 1., 1., 0., 0., 0., 0., 0., 0., 1., 0., 0., 0., 1., 0., 1.,\n",
              "       1., 0., 0., 1., 1., 0., 0., 1., 0., 0., 0., 0., 0., 0., 0., 0., 0.,\n",
              "       1., 1., 0., 1., 0., 0., 0., 0., 1., 1., 0., 1., 1., 0., 0., 0., 0.,\n",
              "       0., 1., 1., 1., 0., 0., 0., 1., 1., 1., 1., 0., 0., 1., 0., 1., 1.,\n",
              "       0., 0., 0., 0., 1., 1., 1., 0., 0., 0., 1., 0., 1., 1., 0., 1., 1.,\n",
              "       1., 0., 0., 0., 0., 1., 1., 0., 0., 0., 0., 0., 1., 1., 0., 0., 0.,\n",
              "       0., 0., 0., 0., 1., 0., 0., 0., 1., 0., 1., 1., 0., 0., 0., 1., 0.,\n",
              "       0., 1., 0., 0., 0., 1., 0., 0., 0., 1., 1., 1., 1., 0., 0., 0., 1.,\n",
              "       0., 1., 0., 0., 0., 0., 0., 1., 0., 0., 1., 0., 0., 1., 1., 0., 0.,\n",
              "       1., 0., 1., 0., 1., 1., 0., 0., 1., 0., 0., 1., 0., 0., 0., 1., 0.,\n",
              "       1., 0., 0., 1., 0., 0., 0., 1., 0., 1., 0., 0., 0., 0., 0., 1., 1.,\n",
              "       0., 0., 1., 1., 0., 1., 1., 1., 0., 0., 0., 1., 0., 0., 1., 1., 0.,\n",
              "       1., 0., 0., 0., 0., 1., 1., 0., 0., 0., 1., 0., 0., 0., 0., 0., 1.,\n",
              "       0., 0., 1., 0., 0., 1., 0., 0., 1., 0., 1., 1., 1., 0., 1., 0., 0.,\n",
              "       1., 0., 0., 0., 1., 0., 0., 1., 1., 1., 1., 1., 1., 1., 0., 1., 1.,\n",
              "       0., 1., 0., 0., 0., 0., 1., 0., 0., 1., 0., 1., 0., 0., 1., 0., 1.,\n",
              "       1., 0., 1., 1., 1., 0., 1., 0., 0., 0., 1., 1., 0., 1., 1., 0., 1.,\n",
              "       0., 1., 0., 0., 0., 0., 1., 1., 1., 0., 0., 0., 0., 1., 0., 1., 0.,\n",
              "       1., 0., 0., 0., 0., 0., 1., 0., 0., 0., 0., 0., 1., 0., 1., 1., 1.,\n",
              "       0., 0., 1., 1., 1., 0., 0., 1., 0., 0., 0., 1., 0., 0., 1., 0., 1.,\n",
              "       0., 0., 0., 0., 0., 1., 0., 0., 0., 0., 1., 1., 1., 0., 1., 0., 0.,\n",
              "       0., 0., 0., 0., 0., 0., 1., 1., 1., 0., 0., 0., 0., 0., 1., 1., 0.,\n",
              "       0., 0., 0., 0., 1., 0., 0., 0., 0., 1., 0., 0., 0., 0., 0., 1., 0.,\n",
              "       0., 0., 0., 0., 0., 0., 0., 1., 0., 0., 1., 1., 1., 0., 0., 1., 0.,\n",
              "       1., 0., 0., 0., 0., 1., 1., 0., 1., 1., 0., 0., 0., 0., 0., 0., 0.,\n",
              "       1., 1., 0., 0., 1., 1., 0., 0., 0., 1., 0., 1., 0., 0., 0., 1., 0.,\n",
              "       0., 0., 1., 1., 1., 0., 0., 0., 1., 1., 0., 1., 1., 0.],\n",
              "      dtype=float32)>"
            ]
          },
          "metadata": {},
          "execution_count": 47
        }
      ]
    },
    {
      "cell_type": "code",
      "source": [
        "#Calculate model_1 results\n",
        "model_1_results = calculate_results(y_true=val_labels,\n",
        "                                    y_pred=model_1_preds)\n",
        "model_1_results"
      ],
      "metadata": {
        "colab": {
          "base_uri": "https://localhost:8080/"
        },
        "id": "8DdOmAB8rAmf",
        "outputId": "cdad5a42-6349-4093-f1c5-039cdc9d0006"
      },
      "execution_count": 48,
      "outputs": [
        {
          "output_type": "execute_result",
          "data": {
            "text/plain": [
              "{'accuracy': 79.92125984251969,\n",
              " 'f1': 0.7969201794869142,\n",
              " 'precision': 0.7994614695308752,\n",
              " 'recall': 0.7992125984251969}"
            ]
          },
          "metadata": {},
          "execution_count": 48
        }
      ]
    },
    {
      "cell_type": "code",
      "source": [
        "baseline_results = text_vectorizer.get_vocabulary()\n",
        "len(words_in_vocab), words_in_vocab[:10]"
      ],
      "metadata": {
        "colab": {
          "base_uri": "https://localhost:8080/"
        },
        "id": "No8ERIEFrNVR",
        "outputId": "121f6242-139d-4016-8e8b-59ebdeb5c776"
      },
      "execution_count": 49,
      "outputs": [
        {
          "output_type": "execute_result",
          "data": {
            "text/plain": [
              "(10000, ['', '[UNK]', 'the', 'a', 'in', 'to', 'of', 'and', 'i', 'is'])"
            ]
          },
          "metadata": {},
          "execution_count": 49
        }
      ]
    },
    {
      "cell_type": "code",
      "source": [
        "words_in_vocab"
      ],
      "metadata": {
        "colab": {
          "base_uri": "https://localhost:8080/"
        },
        "id": "6ZH2gk7xrOSO",
        "outputId": "65e3d41c-f501-4c8c-c625-612f920cd102"
      },
      "execution_count": 50,
      "outputs": [
        {
          "output_type": "execute_result",
          "data": {
            "text/plain": [
              "['',\n",
              " '[UNK]',\n",
              " 'the',\n",
              " 'a',\n",
              " 'in',\n",
              " 'to',\n",
              " 'of',\n",
              " 'and',\n",
              " 'i',\n",
              " 'is',\n",
              " 'for',\n",
              " 'on',\n",
              " 'you',\n",
              " 'my',\n",
              " 'with',\n",
              " 'it',\n",
              " 'that',\n",
              " 'at',\n",
              " 'by',\n",
              " 'this',\n",
              " 'from',\n",
              " 'be',\n",
              " 'are',\n",
              " 'was',\n",
              " 'have',\n",
              " 'like',\n",
              " 'me',\n",
              " 'as',\n",
              " 'up',\n",
              " 'just',\n",
              " 'but',\n",
              " 'so',\n",
              " 'im',\n",
              " 'not',\n",
              " 'amp',\n",
              " 'your',\n",
              " 'out',\n",
              " 'its',\n",
              " 'all',\n",
              " 'will',\n",
              " 'after',\n",
              " 'no',\n",
              " 'fire',\n",
              " 'has',\n",
              " 'an',\n",
              " 'when',\n",
              " 'if',\n",
              " 'get',\n",
              " 'now',\n",
              " 'we',\n",
              " 'about',\n",
              " 'new',\n",
              " 'via',\n",
              " 'more',\n",
              " 'or',\n",
              " 'people',\n",
              " 'what',\n",
              " 'news',\n",
              " 'one',\n",
              " 'how',\n",
              " 'he',\n",
              " 'they',\n",
              " 'over',\n",
              " 'dont',\n",
              " 'been',\n",
              " 'who',\n",
              " 'into',\n",
              " 'video',\n",
              " 'were',\n",
              " 'do',\n",
              " 'can',\n",
              " '2',\n",
              " 'us',\n",
              " 'disaster',\n",
              " 'emergency',\n",
              " 'there',\n",
              " 'police',\n",
              " 'than',\n",
              " 'would',\n",
              " 'still',\n",
              " 'his',\n",
              " 'some',\n",
              " 'her',\n",
              " 'body',\n",
              " 'burning',\n",
              " 'storm',\n",
              " 'crash',\n",
              " 'back',\n",
              " 'had',\n",
              " 'suicide',\n",
              " 'man',\n",
              " 'why',\n",
              " 'know',\n",
              " 'got',\n",
              " 'them',\n",
              " 'buildings',\n",
              " 'world',\n",
              " 'time',\n",
              " 'off',\n",
              " 'see',\n",
              " 'california',\n",
              " 'first',\n",
              " 'day',\n",
              " 'rt',\n",
              " 'bomb',\n",
              " 'youtube',\n",
              " 'cant',\n",
              " 'love',\n",
              " 'nuclear',\n",
              " 'going',\n",
              " 'their',\n",
              " 'dead',\n",
              " 'two',\n",
              " 'train',\n",
              " 'killed',\n",
              " 'go',\n",
              " 'attack',\n",
              " 'our',\n",
              " '3',\n",
              " 'today',\n",
              " 'good',\n",
              " 'fires',\n",
              " 'car',\n",
              " 'full',\n",
              " 'hiroshima',\n",
              " 'families',\n",
              " 'being',\n",
              " 'say',\n",
              " 'may',\n",
              " 'many',\n",
              " 'here',\n",
              " 'think',\n",
              " 'only',\n",
              " 'accident',\n",
              " 'years',\n",
              " 'life',\n",
              " 'u',\n",
              " 'last',\n",
              " 'could',\n",
              " 'watch',\n",
              " 'war',\n",
              " 'down',\n",
              " 'did',\n",
              " 'home',\n",
              " 'collapse',\n",
              " 'want',\n",
              " 'too',\n",
              " 'then',\n",
              " 'look',\n",
              " 'work',\n",
              " 'because',\n",
              " 'way',\n",
              " 'lol',\n",
              " 'even',\n",
              " 'make',\n",
              " 'best',\n",
              " 'army',\n",
              " 'year',\n",
              " 'mh370',\n",
              " 'help',\n",
              " 'wildfire',\n",
              " 'really',\n",
              " 'pm',\n",
              " 'need',\n",
              " 'him',\n",
              " 'bombing',\n",
              " 'am',\n",
              " 'youre',\n",
              " 'take',\n",
              " 'school',\n",
              " 'please',\n",
              " 'another',\n",
              " '4',\n",
              " 'let',\n",
              " 'those',\n",
              " 'should',\n",
              " 'great',\n",
              " 'right',\n",
              " 'obama',\n",
              " 'hot',\n",
              " 'fatal',\n",
              " 'death',\n",
              " 'forest',\n",
              " 'bomber',\n",
              " 'black',\n",
              " 'northern',\n",
              " 'much',\n",
              " 'mass',\n",
              " 'live',\n",
              " '\\x89Û',\n",
              " 'water',\n",
              " 'old',\n",
              " 'legionnaires',\n",
              " '1',\n",
              " 'wreck',\n",
              " 'thats',\n",
              " 'getting',\n",
              " 'flood',\n",
              " 'every',\n",
              " '5',\n",
              " '2015',\n",
              " 'she',\n",
              " 'read',\n",
              " 'latest',\n",
              " 'homes',\n",
              " 'come',\n",
              " 'where',\n",
              " 'under',\n",
              " 'never',\n",
              " 'hit',\n",
              " 'god',\n",
              " 'flames',\n",
              " 'ever',\n",
              " 'said',\n",
              " 's',\n",
              " 'feel',\n",
              " 'damage',\n",
              " 'content',\n",
              " 'atomic',\n",
              " 'any',\n",
              " 'well',\n",
              " 'weather',\n",
              " 'top',\n",
              " 'oil',\n",
              " 'near',\n",
              " 'while',\n",
              " 'shit',\n",
              " 'night',\n",
              " 'coming',\n",
              " 'city',\n",
              " 'before',\n",
              " 'ass',\n",
              " 'these',\n",
              " 'since',\n",
              " 'military',\n",
              " 'japan',\n",
              " 'during',\n",
              " 'truck',\n",
              " 'smoke',\n",
              " 'floods',\n",
              " 'fear',\n",
              " 'cause',\n",
              " 'most',\n",
              " 'little',\n",
              " 'face',\n",
              " 'everyone',\n",
              " 'without',\n",
              " 'movie',\n",
              " 'malaysia',\n",
              " 'injured',\n",
              " 'hope',\n",
              " 'cross',\n",
              " 'check',\n",
              " 'times',\n",
              " 'set',\n",
              " 'plan',\n",
              " 'next',\n",
              " 'looks',\n",
              " 'lightning',\n",
              " 'evacuation',\n",
              " 'debris',\n",
              " 'confirmed',\n",
              " 'weapon',\n",
              " 'thunderstorm',\n",
              " 'through',\n",
              " 'state',\n",
              " 'liked',\n",
              " 'hes',\n",
              " 'fucking',\n",
              " 'flooding',\n",
              " 'earthquake',\n",
              " 'w',\n",
              " 'trapped',\n",
              " 'sinking',\n",
              " 'reddit',\n",
              " 'natural',\n",
              " 'high',\n",
              " 'heat',\n",
              " 'food',\n",
              " 'fall',\n",
              " 'bad',\n",
              " 'always',\n",
              " 'also',\n",
              " 'wounded',\n",
              " 'weapons',\n",
              " 'thunder',\n",
              " 'theres',\n",
              " 'survive',\n",
              " 'stop',\n",
              " 'spill',\n",
              " 'severe',\n",
              " 'says',\n",
              " 'run',\n",
              " 'missing',\n",
              " 'loud',\n",
              " 'injuries',\n",
              " 'head',\n",
              " 'found',\n",
              " 'evacuate',\n",
              " 'wind',\n",
              " 'services',\n",
              " 'screaming',\n",
              " 'save',\n",
              " 'released',\n",
              " 'free',\n",
              " 'blood',\n",
              " '70',\n",
              " 'which',\n",
              " 'summer',\n",
              " 'story',\n",
              " 'someone',\n",
              " 'house',\n",
              " 'gonna',\n",
              " 'girl',\n",
              " 'fatalities',\n",
              " 'failure',\n",
              " 'explosion',\n",
              " 'explode',\n",
              " 'destruction',\n",
              " 'change',\n",
              " 'wreckage',\n",
              " 'until',\n",
              " 'saudi',\n",
              " 'report',\n",
              " 'rain',\n",
              " 'outbreak',\n",
              " 'ive',\n",
              " 'investigators',\n",
              " 'hurricane',\n",
              " 'collapsed',\n",
              " 'bridge',\n",
              " 'breaking',\n",
              " 'boy',\n",
              " 'bloody',\n",
              " 'bag',\n",
              " 'attacked',\n",
              " 'warning',\n",
              " 'terrorist',\n",
              " 'survived',\n",
              " 'put',\n",
              " 'photo',\n",
              " 'panic',\n",
              " 'hail',\n",
              " 'family',\n",
              " 'end',\n",
              " 'dust',\n",
              " 'destroyed',\n",
              " 'deaths',\n",
              " 'danger',\n",
              " 'collided',\n",
              " 'big',\n",
              " 'bags',\n",
              " 'again',\n",
              " 'wrecked',\n",
              " 'wild',\n",
              " 'whirlwind',\n",
              " 'update',\n",
              " 'thing',\n",
              " 'structural',\n",
              " 'sinkhole',\n",
              " 'service',\n",
              " 'refugees',\n",
              " 'made',\n",
              " 'lives',\n",
              " 'injury',\n",
              " 'fuck',\n",
              " 'county',\n",
              " 'area',\n",
              " 'week',\n",
              " 'twister',\n",
              " 'sunk',\n",
              " 'show',\n",
              " 'road',\n",
              " 'rescuers',\n",
              " 'rescue',\n",
              " 'quarantine',\n",
              " 'post',\n",
              " 'other',\n",
              " 'murder',\n",
              " 'mudslide',\n",
              " 'mosque',\n",
              " 'migrants',\n",
              " 'keep',\n",
              " 'heard',\n",
              " 'game',\n",
              " 'destroy',\n",
              " 'derailment',\n",
              " 'catastrophe',\n",
              " 'bus',\n",
              " 'burned',\n",
              " 'bleeding',\n",
              " 'better',\n",
              " 'around',\n",
              " 'air',\n",
              " 'wounds',\n",
              " 'women',\n",
              " 'whole',\n",
              " 'white',\n",
              " 'violent',\n",
              " 'tonight',\n",
              " 'things',\n",
              " 'survivors',\n",
              " 'stock',\n",
              " 'saw',\n",
              " 'sandstorm',\n",
              " 'harm',\n",
              " 'drowning',\n",
              " 'devastation',\n",
              " 'deluge',\n",
              " 'curfew',\n",
              " 'cliff',\n",
              " 'charged',\n",
              " 'casualties',\n",
              " 'battle',\n",
              " 'bang',\n",
              " 'armageddon',\n",
              " 'ambulance',\n",
              " '40',\n",
              " '15',\n",
              " '\\x89ÛÒ',\n",
              " 'woman',\n",
              " 'traumatised',\n",
              " 'screams',\n",
              " 'screamed',\n",
              " 'rescued',\n",
              " 'landslide',\n",
              " 'ill',\n",
              " 'hostages',\n",
              " 'horrible',\n",
              " 'hazardous',\n",
              " 'famine',\n",
              " 'exploded',\n",
              " 'evacuated',\n",
              " 'does',\n",
              " 'bombed',\n",
              " 'blown',\n",
              " 'away',\n",
              " 'apocalypse',\n",
              " 'windstorm',\n",
              " 'wave',\n",
              " 'wanna',\n",
              " 'trauma',\n",
              " 'tragedy',\n",
              " 'ruin',\n",
              " 'rioting',\n",
              " 'real',\n",
              " 'quarantined',\n",
              " 'power',\n",
              " 'phone',\n",
              " 'panicking',\n",
              " 'pandemonium',\n",
              " 'must',\n",
              " 'meltdown',\n",
              " 'massacre',\n",
              " 'lot',\n",
              " 'least',\n",
              " 'lava',\n",
              " 'iran',\n",
              " 'inundated',\n",
              " 'id',\n",
              " 'flattened',\n",
              " 'fedex',\n",
              " 'electrocuted',\n",
              " 'drought',\n",
              " 'displaced',\n",
              " 'detonate',\n",
              " 'desolation',\n",
              " 'cool',\n",
              " 'came',\n",
              " 'call',\n",
              " 'boat',\n",
              " 'blew',\n",
              " 'bioterror',\n",
              " 'against',\n",
              " 'typhoon',\n",
              " 'trouble',\n",
              " 'thank',\n",
              " 'terrorism',\n",
              " 'st',\n",
              " 'something',\n",
              " 'riot',\n",
              " 'red',\n",
              " 'plane',\n",
              " 'past',\n",
              " 'nothing',\n",
              " 'market',\n",
              " 'long',\n",
              " 'lets',\n",
              " 'kills',\n",
              " 'kill',\n",
              " 'hijacking',\n",
              " 'heart',\n",
              " 'hazard',\n",
              " 'drown',\n",
              " 'doing',\n",
              " 'didnt',\n",
              " 'derailed',\n",
              " 'derail',\n",
              " 'crush',\n",
              " 'chemical',\n",
              " 'bagging',\n",
              " 'baby',\n",
              " 'annihilated',\n",
              " '9',\n",
              " 'used',\n",
              " 'twitter',\n",
              " 'tsunami',\n",
              " 'traffic',\n",
              " 'tomorrow',\n",
              " 'suspect',\n",
              " 'sure',\n",
              " 'security',\n",
              " 'pkk',\n",
              " 'part',\n",
              " 'national',\n",
              " 'island',\n",
              " 'isis',\n",
              " 'hijacker',\n",
              " 'ebay',\n",
              " 'detonated',\n",
              " 'crashed',\n",
              " 'august',\n",
              " 'anniversary',\n",
              " 'already',\n",
              " 'airplane',\n",
              " '6',\n",
              " 'whats',\n",
              " 'soon',\n",
              " 'song',\n",
              " 'shoulder',\n",
              " 'reunion',\n",
              " 'responders',\n",
              " 'obliterate',\n",
              " 'minute',\n",
              " 'longer',\n",
              " 'light',\n",
              " 'left',\n",
              " 'hundreds',\n",
              " 'hostage',\n",
              " 'half',\n",
              " 'guys',\n",
              " 'government',\n",
              " 'fun',\n",
              " 'fatality',\n",
              " 'eyewitness',\n",
              " 'done',\n",
              " 'detonation',\n",
              " 'demolish',\n",
              " 'crushed',\n",
              " 'blast',\n",
              " 'believe',\n",
              " 'airport',\n",
              " 'affected',\n",
              " 'actually',\n",
              " 'yet',\n",
              " 'went',\n",
              " 'wake',\n",
              " 'volcano',\n",
              " 'very',\n",
              " 'use',\n",
              " 'upheaval',\n",
              " 'turkey',\n",
              " 'trying',\n",
              " 'thought',\n",
              " 'thanks',\n",
              " 'sound',\n",
              " 'sirens',\n",
              " 'shooting',\n",
              " 'send',\n",
              " 'same',\n",
              " 'remember',\n",
              " 'razed',\n",
              " 'prebreak',\n",
              " 'possible',\n",
              " 'ok',\n",
              " 'oh',\n",
              " 'music',\n",
              " 'media',\n",
              " 'land',\n",
              " 'issues',\n",
              " 'hijack',\n",
              " 'engulfed',\n",
              " 'electrocute',\n",
              " 'died',\n",
              " 'collision',\n",
              " 'collide',\n",
              " 'caused',\n",
              " 'catastrophic',\n",
              " 'care',\n",
              " 'calgary',\n",
              " 'building',\n",
              " 'arson',\n",
              " '8',\n",
              " 'zone',\n",
              " 'wont',\n",
              " 'tornado',\n",
              " 'three',\n",
              " 'start',\n",
              " 'site',\n",
              " 'person',\n",
              " 'obliterated',\n",
              " 'nearby',\n",
              " 'men',\n",
              " 'leave',\n",
              " 'israeli',\n",
              " 'hours',\n",
              " 'group',\n",
              " 'goes',\n",
              " 'gets',\n",
              " 'due',\n",
              " 'drowned',\n",
              " 'demolished',\n",
              " 'deluged',\n",
              " 'declares',\n",
              " 'cyclone',\n",
              " 'beautiful',\n",
              " '16yr',\n",
              " 'yourself',\n",
              " 'sue',\n",
              " 'shot',\n",
              " 'river',\n",
              " 're\\x89Û',\n",
              " 'play',\n",
              " 'plans',\n",
              " 'place',\n",
              " 'officials',\n",
              " 'nowplaying',\n",
              " 'north',\n",
              " 'making',\n",
              " 'lab',\n",
              " 'kids',\n",
              " 'job',\n",
              " 'inside',\n",
              " 'hell',\n",
              " 'fight',\n",
              " 'fan',\n",
              " 'demolition',\n",
              " 'brown',\n",
              " 'bc',\n",
              " 'avalanche',\n",
              " '\\x89ÛÓ',\n",
              " 'words',\n",
              " 'typhoondevastated',\n",
              " 'swallowed',\n",
              " 'such',\n",
              " 'stretcher',\n",
              " 'south',\n",
              " 'snowstorm',\n",
              " 'seismic',\n",
              " 'saipan',\n",
              " 'reuters',\n",
              " 'policy',\n",
              " 'pic',\n",
              " 'outside',\n",
              " 'obliteration',\n",
              " 'n',\n",
              " 'murderer',\n",
              " 'islam',\n",
              " 'hey',\n",
              " 'hellfire',\n",
              " 'far',\n",
              " 'doesnt',\n",
              " 'deal',\n",
              " 'days',\n",
              " 'bush',\n",
              " 'blazing',\n",
              " 'bar',\n",
              " 'anything',\n",
              " 'ago',\n",
              " 'ablaze',\n",
              " 'yeah',\n",
              " 'support',\n",
              " 'second',\n",
              " 'reactor',\n",
              " 'photos',\n",
              " 'mp',\n",
              " 'money',\n",
              " 'might',\n",
              " 'memories',\n",
              " 'literally',\n",
              " 'horror',\n",
              " 'hollywood',\n",
              " 'history',\n",
              " 'few',\n",
              " 'die',\n",
              " 'conclusively',\n",
              " 'casualty',\n",
              " 'business',\n",
              " 'bioterrorism',\n",
              " 'aircraft',\n",
              " 'abc',\n",
              " '7',\n",
              " '50',\n",
              " '30',\n",
              " '12',\n",
              " 'yes',\n",
              " 'west',\n",
              " 'watching',\n",
              " 'wait',\n",
              " 'ur',\n",
              " 'tv',\n",
              " 'theyre',\n",
              " 'tell',\n",
              " 'team',\n",
              " 'stay',\n",
              " 'spot',\n",
              " 'space',\n",
              " 'soudelor',\n",
              " 'seen',\n",
              " 'rubble',\n",
              " 'rainstorm',\n",
              " 'probably',\n",
              " 'pick',\n",
              " 'peace',\n",
              " 'once',\n",
              " 'officer',\n",
              " 'name',\n",
              " 'maybe',\n",
              " 'india',\n",
              " 'hear',\n",
              " 'health',\n",
              " 'find',\n",
              " 'finally',\n",
              " 'everything',\n",
              " 'd',\n",
              " 'crews',\n",
              " 'children',\n",
              " 'child',\n",
              " 'blight',\n",
              " 'amid',\n",
              " '20',\n",
              " 'waves',\n",
              " 'trench',\n",
              " 'transport',\n",
              " 'though',\n",
              " 'stand',\n",
              " 'siren',\n",
              " 'signs',\n",
              " 'shes',\n",
              " 'searching',\n",
              " 'rise',\n",
              " 'projected',\n",
              " 'own',\n",
              " 'order',\n",
              " 'move',\n",
              " 'miners',\n",
              " 'low',\n",
              " 'line',\n",
              " 'leather',\n",
              " 'la',\n",
              " 'having',\n",
              " 'happy',\n",
              " 'flash',\n",
              " 'feeling',\n",
              " 'fast',\n",
              " 'data',\n",
              " 'crisis',\n",
              " 'course',\n",
              " 'both',\n",
              " 'bodies',\n",
              " 'bigger',\n",
              " 'anyone',\n",
              " 'american',\n",
              " 'almost',\n",
              " 'wrong',\n",
              " 'worst',\n",
              " 'united',\n",
              " 'town',\n",
              " 'street',\n",
              " 'rd',\n",
              " 'pretty',\n",
              " 'others',\n",
              " 'online',\n",
              " 'offensive',\n",
              " 'needs',\n",
              " 'nearly',\n",
              " 'myself',\n",
              " 'morning',\n",
              " 'lost',\n",
              " 'huge',\n",
              " 'helicopter',\n",
              " 'heavy',\n",
              " 'hate',\n",
              " 'hat',\n",
              " 'hailstorm',\n",
              " 'effect',\n",
              " 'east',\n",
              " 'caught',\n",
              " 'book',\n",
              " 'bestnaijamade',\n",
              " 'become',\n",
              " '10',\n",
              " 'womens',\n",
              " 'usa',\n",
              " 'talk',\n",
              " 'star',\n",
              " 'sorry',\n",
              " 'self',\n",
              " 'russian',\n",
              " 'refugio',\n",
              " 'reason',\n",
              " 'picking',\n",
              " 'pay',\n",
              " 'pain',\n",
              " 'mayhem',\n",
              " 'manslaughter',\n",
              " 'listen',\n",
              " 'ladies',\n",
              " 'knock',\n",
              " 'jobs',\n",
              " 'ignition',\n",
              " 'eyes',\n",
              " 'costlier',\n",
              " 'closed',\n",
              " 'center',\n",
              " 'called',\n",
              " 'blizzard',\n",
              " 'beach',\n",
              " 'anthrax',\n",
              " 'alone',\n",
              " 'action',\n",
              " 'across',\n",
              " 'youth',\n",
              " 'win',\n",
              " 'view',\n",
              " 'vehicle',\n",
              " 'truth',\n",
              " 'thursday',\n",
              " 'thousands',\n",
              " 'ship',\n",
              " 'saved',\n",
              " 'reports',\n",
              " 'poor',\n",
              " 'pakistan',\n",
              " 'omg',\n",
              " 'mom',\n",
              " 'mishaps',\n",
              " 'meek',\n",
              " 'marks',\n",
              " 'makes',\n",
              " 'm',\n",
              " 'looking',\n",
              " 'level',\n",
              " 'houses',\n",
              " 'hard',\n",
              " 'happened',\n",
              " 'haha',\n",
              " 'guy',\n",
              " 'gun',\n",
              " 'gt',\n",
              " 'giant',\n",
              " 'gbbo',\n",
              " 'friends',\n",
              " 'flag',\n",
              " 'film',\n",
              " 'entire',\n",
              " 'emmerdale',\n",
              " 'declaration',\n",
              " 'damn',\n",
              " 'daily',\n",
              " 'couple',\n",
              " 'country',\n",
              " 'control',\n",
              " 'climate',\n",
              " 'china',\n",
              " 'chile',\n",
              " 'case',\n",
              " 'bbc',\n",
              " 'banned',\n",
              " 'ball',\n",
              " 'aug',\n",
              " 'arsonist',\n",
              " 'appears',\n",
              " 'angry',\n",
              " 'aint',\n",
              " 'aftershock',\n",
              " '60',\n",
              " '25',\n",
              " '13',\n",
              " '11',\n",
              " 'wonder',\n",
              " 'vs',\n",
              " 'virgin',\n",
              " 'village',\n",
              " 'try',\n",
              " 'totally',\n",
              " 'texas',\n",
              " 'temple',\n",
              " 'taking',\n",
              " 'takes',\n",
              " 't',\n",
              " 'side',\n",
              " 'ready',\n",
              " 'radio',\n",
              " 'public',\n",
              " 'playing',\n",
              " 'patience',\n",
              " 'outrage',\n",
              " 'official',\n",
              " 'moment',\n",
              " 'major',\n",
              " 'mad',\n",
              " 'lord',\n",
              " 'learn',\n",
              " 'large',\n",
              " 'isnt',\n",
              " 'govt',\n",
              " 'germs',\n",
              " 'fukushima',\n",
              " 'following',\n",
              " 'follow',\n",
              " 'feared',\n",
              " 'eye',\n",
              " 'else',\n",
              " 'drake',\n",
              " 'disea',\n",
              " 'devastated',\n",
              " 'desolate',\n",
              " 'computers',\n",
              " 'comes',\n",
              " 'cnn',\n",
              " 'class',\n",
              " 'christian',\n",
              " 'centre',\n",
              " 'cars',\n",
              " 'blaze',\n",
              " 'b',\n",
              " 'annihilation',\n",
              " 'america',\n",
              " '11yearold',\n",
              " 'yours',\n",
              " 'york',\n",
              " 'wanted',\n",
              " 'trains',\n",
              " 'toddler',\n",
              " 'till',\n",
              " 'theater',\n",
              " 'taken',\n",
              " 'sounds',\n",
              " 'sign',\n",
              " 'shows',\n",
              " 'running',\n",
              " 'risk',\n",
              " 'reddits',\n",
              " 'quiz',\n",
              " 'property',\n",
              " 'okay',\n",
              " 'niggas',\n",
              " 'myanmar',\n",
              " 'muslims',\n",
              " 'mph',\n",
              " 'mop',\n",
              " 'lmao',\n",
              " 'link',\n",
              " 'likely',\n",
              " 'led',\n",
              " 'issued',\n",
              " 'instead',\n",
              " 'human',\n",
              " 'holding',\n",
              " 'hiring',\n",
              " 'green',\n",
              " 'galactic',\n",
              " 'front',\n",
              " 'friend',\n",
              " 'favorite',\n",
              " 'drive',\n",
              " 'downtown',\n",
              " 'dog',\n",
              " 'date',\n",
              " 'crazy',\n",
              " 'coaches',\n",
              " 'bring',\n",
              " 'blue',\n",
              " 'bed',\n",
              " 'bayelsa',\n",
              " '100',\n",
              " 'wow',\n",
              " 'worse',\n",
              " 'upon',\n",
              " 'unconfirmed',\n",
              " 'turn',\n",
              " 'trust',\n",
              " 'true',\n",
              " 'tote',\n",
              " 'subreddits',\n",
              " 'started',\n",
              " 'seeing',\n",
              " 'secret',\n",
              " 'scared',\n",
              " 'russia',\n",
              " 'room',\n",
              " 'rock',\n",
              " 'rly',\n",
              " 'pradesh',\n",
              " 'ppl',\n",
              " 'neighbours',\n",
              " 'mount',\n",
              " 'mode',\n",
              " 'miss',\n",
              " ...]"
            ]
          },
          "metadata": {},
          "execution_count": 50
        }
      ]
    },
    {
      "cell_type": "code",
      "source": [
        "model_1.summary()"
      ],
      "metadata": {
        "colab": {
          "base_uri": "https://localhost:8080/"
        },
        "id": "ho4mV-dpr2E0",
        "outputId": "d2dc11de-ccc9-4ce1-9770-f0fbbd054116"
      },
      "execution_count": 51,
      "outputs": [
        {
          "output_type": "stream",
          "name": "stdout",
          "text": [
            "Model: \"model_1_dense\"\n",
            "_________________________________________________________________\n",
            " Layer (type)                Output Shape              Param #   \n",
            "=================================================================\n",
            " input_1 (InputLayer)        [(None, 1)]               0         \n",
            "                                                                 \n",
            " text_vectorization_1 (TextV  (None, 15)               0         \n",
            " ectorization)                                                   \n",
            "                                                                 \n",
            " embedding (Embedding)       (None, 15, 128)           1280000   \n",
            "                                                                 \n",
            " global_average_pooling1d (G  (None, 128)              0         \n",
            " lobalAveragePooling1D)                                          \n",
            "                                                                 \n",
            " dense (Dense)               (None, 1)                 129       \n",
            "                                                                 \n",
            "=================================================================\n",
            "Total params: 1,280,129\n",
            "Trainable params: 1,280,129\n",
            "Non-trainable params: 0\n",
            "_________________________________________________________________\n"
          ]
        }
      ]
    },
    {
      "cell_type": "code",
      "source": [
        "#get weight matrix of embedding layer\n",
        "#numerical representations of each token in our training data, learned for 5 epochs\n",
        "embed_weights = model_1.get_layer(\"embedding\").get_weights()[0]\n",
        "print(embed_weights.shape)"
      ],
      "metadata": {
        "colab": {
          "base_uri": "https://localhost:8080/"
        },
        "id": "EptvdDbwsBll",
        "outputId": "e21e9b9f-32f9-49cd-e832-e38253c20426"
      },
      "execution_count": 52,
      "outputs": [
        {
          "output_type": "stream",
          "name": "stdout",
          "text": [
            "(10000, 128)\n"
          ]
        }
      ]
    },
    {
      "cell_type": "code",
      "source": [
        "embed_weights"
      ],
      "metadata": {
        "colab": {
          "base_uri": "https://localhost:8080/"
        },
        "id": "3_qrDxjIsMdn",
        "outputId": "325ffaea-c661-49d5-8c8b-1e0583a76f95"
      },
      "execution_count": 53,
      "outputs": [
        {
          "output_type": "execute_result",
          "data": {
            "text/plain": [
              "array([[ 0.05262721,  0.04759351,  0.01038965, ...,  0.00893207,\n",
              "        -0.02381207, -0.03386072],\n",
              "       [-0.00069337,  0.04993873, -0.0437829 , ..., -0.00193313,\n",
              "         0.02259258,  0.00392428],\n",
              "       [ 0.02504043,  0.04856981, -0.07306533, ...,  0.0372062 ,\n",
              "        -0.04597528, -0.06454707],\n",
              "       ...,\n",
              "       [-0.07607889, -0.05238977,  0.01256561, ..., -0.01529595,\n",
              "         0.04627615,  0.10393449],\n",
              "       [ 0.00108855, -0.03103786, -0.00651623, ..., -0.05128421,\n",
              "         0.07825278, -0.00570883],\n",
              "       [ 0.01533067,  0.06531977, -0.0465888 , ...,  0.08966628,\n",
              "        -0.02825991, -0.09583197]], dtype=float32)"
            ]
          },
          "metadata": {},
          "execution_count": 53
        }
      ]
    },
    {
      "cell_type": "code",
      "source": [
        "#projector tool\n",
        "import io\n",
        "out_v = io.open('vectors.tsv', 'w', encoding=\"utf-8\")\n",
        "out_m = io.open('metadata.tsv', 'w', encoding=\"utf-8\")\n",
        "\n",
        "for index, word in enumerate(words_in_vocab):\n",
        "  if index == 0:\n",
        "    continue\n",
        "\n",
        "  vec = embed_weights[index]\n",
        "  out_v.write('\\t'.join([str(x) for x in vec]) + \"\\n\")\n",
        "  out_m.write(word + \"\\n\")\n",
        "out_v.close()\n",
        "out_m.close()"
      ],
      "metadata": {
        "id": "1zjPoQplsQpK"
      },
      "execution_count": 54,
      "outputs": []
    },
    {
      "cell_type": "code",
      "source": [
        "#download files from colab and upload to projector\n",
        "try:\n",
        "  from google.colab import files\n",
        "  files.download('vectors.tsv')\n",
        "  files.download('metadata.tsv')\n",
        "except Exception:\n",
        "  pass"
      ],
      "metadata": {
        "colab": {
          "base_uri": "https://localhost:8080/",
          "height": 17
        },
        "id": "HOKlSddStyhi",
        "outputId": "2cab83df-ae3f-4af0-9b9d-3f7ea2de8774"
      },
      "execution_count": 55,
      "outputs": [
        {
          "output_type": "display_data",
          "data": {
            "text/plain": [
              "<IPython.core.display.Javascript object>"
            ],
            "application/javascript": [
              "\n",
              "    async function download(id, filename, size) {\n",
              "      if (!google.colab.kernel.accessAllowed) {\n",
              "        return;\n",
              "      }\n",
              "      const div = document.createElement('div');\n",
              "      const label = document.createElement('label');\n",
              "      label.textContent = `Downloading \"${filename}\": `;\n",
              "      div.appendChild(label);\n",
              "      const progress = document.createElement('progress');\n",
              "      progress.max = size;\n",
              "      div.appendChild(progress);\n",
              "      document.body.appendChild(div);\n",
              "\n",
              "      const buffers = [];\n",
              "      let downloaded = 0;\n",
              "\n",
              "      const channel = await google.colab.kernel.comms.open(id);\n",
              "      // Send a message to notify the kernel that we're ready.\n",
              "      channel.send({})\n",
              "\n",
              "      for await (const message of channel.messages) {\n",
              "        // Send a message to notify the kernel that we're ready.\n",
              "        channel.send({})\n",
              "        if (message.buffers) {\n",
              "          for (const buffer of message.buffers) {\n",
              "            buffers.push(buffer);\n",
              "            downloaded += buffer.byteLength;\n",
              "            progress.value = downloaded;\n",
              "          }\n",
              "        }\n",
              "      }\n",
              "      const blob = new Blob(buffers, {type: 'application/binary'});\n",
              "      const a = document.createElement('a');\n",
              "      a.href = window.URL.createObjectURL(blob);\n",
              "      a.download = filename;\n",
              "      div.appendChild(a);\n",
              "      a.click();\n",
              "      div.remove();\n",
              "    }\n",
              "  "
            ]
          },
          "metadata": {}
        },
        {
          "output_type": "display_data",
          "data": {
            "text/plain": [
              "<IPython.core.display.Javascript object>"
            ],
            "application/javascript": [
              "download(\"download_27c093bd-189b-42ef-9770-a2ff93b4d036\", \"vectors.tsv\", 15389784)"
            ]
          },
          "metadata": {}
        },
        {
          "output_type": "display_data",
          "data": {
            "text/plain": [
              "<IPython.core.display.Javascript object>"
            ],
            "application/javascript": [
              "\n",
              "    async function download(id, filename, size) {\n",
              "      if (!google.colab.kernel.accessAllowed) {\n",
              "        return;\n",
              "      }\n",
              "      const div = document.createElement('div');\n",
              "      const label = document.createElement('label');\n",
              "      label.textContent = `Downloading \"${filename}\": `;\n",
              "      div.appendChild(label);\n",
              "      const progress = document.createElement('progress');\n",
              "      progress.max = size;\n",
              "      div.appendChild(progress);\n",
              "      document.body.appendChild(div);\n",
              "\n",
              "      const buffers = [];\n",
              "      let downloaded = 0;\n",
              "\n",
              "      const channel = await google.colab.kernel.comms.open(id);\n",
              "      // Send a message to notify the kernel that we're ready.\n",
              "      channel.send({})\n",
              "\n",
              "      for await (const message of channel.messages) {\n",
              "        // Send a message to notify the kernel that we're ready.\n",
              "        channel.send({})\n",
              "        if (message.buffers) {\n",
              "          for (const buffer of message.buffers) {\n",
              "            buffers.push(buffer);\n",
              "            downloaded += buffer.byteLength;\n",
              "            progress.value = downloaded;\n",
              "          }\n",
              "        }\n",
              "      }\n",
              "      const blob = new Blob(buffers, {type: 'application/binary'});\n",
              "      const a = document.createElement('a');\n",
              "      a.href = window.URL.createObjectURL(blob);\n",
              "      a.download = filename;\n",
              "      div.appendChild(a);\n",
              "      a.click();\n",
              "      div.remove();\n",
              "    }\n",
              "  "
            ]
          },
          "metadata": {}
        },
        {
          "output_type": "display_data",
          "data": {
            "text/plain": [
              "<IPython.core.display.Javascript object>"
            ],
            "application/javascript": [
              "download(\"download_ca997503-90a9-4d3c-b579-996cfeceafa7\", \"metadata.tsv\", 80563)"
            ]
          },
          "metadata": {}
        }
      ]
    },
    {
      "cell_type": "markdown",
      "source": [
        "#Recurrent Neural Network"
      ],
      "metadata": {
        "id": "fHOfPEZVutRs"
      }
    },
    {
      "cell_type": "markdown",
      "source": [
        "##useful for sequence data - use representation of previous input to aid the representation of a later input"
      ],
      "metadata": {
        "id": "jD5N4_yla6au"
      }
    },
    {
      "cell_type": "code",
      "source": [
        "### Model 2: LSTM\n",
        "###LSTM = Long Short Term Memory (one of the most popular RNN)\n",
        "'''\n",
        " input(text) -> toeknize -> embed -> layers (RNNs/Dense) -> Output\n",
        "'''"
      ],
      "metadata": {
        "colab": {
          "base_uri": "https://localhost:8080/",
          "height": 35
        },
        "id": "RympptAgbDW5",
        "outputId": "63cafcbd-930f-4e39-d067-a7b627e05b3d"
      },
      "execution_count": 83,
      "outputs": [
        {
          "output_type": "execute_result",
          "data": {
            "text/plain": [
              "'\\n input(text) -> toeknize -> embed -> layers (RNNs/Dense) -> Output\\n'"
            ],
            "application/vnd.google.colaboratory.intrinsic+json": {
              "type": "string"
            }
          },
          "metadata": {},
          "execution_count": 83
        }
      ]
    },
    {
      "cell_type": "code",
      "source": [
        "from tensorflow.keras import layers\n",
        "\n",
        "inputs = layers.Input(shape=(1,), dtype=\"string\")\n",
        "x = text_vectorizer(inputs)\n",
        "x = embedding(x)\n",
        "print(x.shape)\n",
        "#x = layers.LSTM(64, return_sequences=True)(x)\n",
        "#print(x.shape)\n",
        "x = layers.LSTM(64)(x)\n",
        "print(x.shape)\n",
        "#x = layers.Dense(64, activation=\"relu\")(x)\n",
        "outputs = layers.Dense(1, activation=\"sigmoid\")(x)\n",
        "model_2 = tf.keras.Model(inputs, outputs, name=\"model_2_LSTM\")"
      ],
      "metadata": {
        "colab": {
          "base_uri": "https://localhost:8080/"
        },
        "id": "0LZA0LBDdHUX",
        "outputId": "5d95c967-5fec-4b68-8fb1-ad4c3dd76fa6"
      },
      "execution_count": 84,
      "outputs": [
        {
          "output_type": "stream",
          "name": "stdout",
          "text": [
            "(None, 15, 128)\n",
            "(None, 64)\n"
          ]
        }
      ]
    },
    {
      "cell_type": "code",
      "source": [
        "#Get a summary\n",
        "model_2.summary()"
      ],
      "metadata": {
        "colab": {
          "base_uri": "https://localhost:8080/"
        },
        "id": "faBVR96Edw7A",
        "outputId": "86433533-a6c4-4c60-a840-7f8c76c5fb6a"
      },
      "execution_count": 85,
      "outputs": [
        {
          "output_type": "stream",
          "name": "stdout",
          "text": [
            "Model: \"model_2_LSTM\"\n",
            "_________________________________________________________________\n",
            " Layer (type)                Output Shape              Param #   \n",
            "=================================================================\n",
            " input_5 (InputLayer)        [(None, 1)]               0         \n",
            "                                                                 \n",
            " text_vectorization_1 (TextV  (None, 15)               0         \n",
            " ectorization)                                                   \n",
            "                                                                 \n",
            " embedding (Embedding)       (None, 15, 128)           1280000   \n",
            "                                                                 \n",
            " lstm_2 (LSTM)               (None, 64)                49408     \n",
            "                                                                 \n",
            " dense_4 (Dense)             (None, 1)                 65        \n",
            "                                                                 \n",
            "=================================================================\n",
            "Total params: 1,329,473\n",
            "Trainable params: 1,329,473\n",
            "Non-trainable params: 0\n",
            "_________________________________________________________________\n"
          ]
        }
      ]
    },
    {
      "cell_type": "code",
      "source": [
        "#compile\n",
        "model_2.compile(loss=\"binary_crossentropy\",\n",
        "                optimizer=tf.keras.optimizers.Adam(),\n",
        "                metrics=[\"accuracy\"])"
      ],
      "metadata": {
        "id": "Z8vKhE9xev3g"
      },
      "execution_count": 86,
      "outputs": []
    },
    {
      "cell_type": "code",
      "source": [
        "model_2_history = model_2.fit(train_sentences,\n",
        "                              train_labels,\n",
        "                              epochs=5,\n",
        "                              validation_data=(val_sentences,val_labels),\n",
        "                              callbacks=[create_tensorboard_callback(SAVE_DIR,\n",
        "                                                                     \"model_2_LSTM\")])"
      ],
      "metadata": {
        "colab": {
          "base_uri": "https://localhost:8080/"
        },
        "id": "zcCEMmvMfBec",
        "outputId": "6d6914ca-8dbf-44f1-f4de-abf8cfb73564"
      },
      "execution_count": 87,
      "outputs": [
        {
          "output_type": "stream",
          "name": "stdout",
          "text": [
            "Saving TensorBoard log files to: model_logs/model_2_LSTM/20220727-224220\n",
            "Epoch 1/5\n",
            "215/215 [==============================] - 4s 10ms/step - loss: 0.1071 - accuracy: 0.9657 - val_loss: 1.0187 - val_accuracy: 0.7651\n",
            "Epoch 2/5\n",
            "215/215 [==============================] - 2s 9ms/step - loss: 0.0421 - accuracy: 0.9796 - val_loss: 1.2154 - val_accuracy: 0.7638\n",
            "Epoch 3/5\n",
            "215/215 [==============================] - 2s 7ms/step - loss: 0.0382 - accuracy: 0.9800 - val_loss: 1.2526 - val_accuracy: 0.7559\n",
            "Epoch 4/5\n",
            "215/215 [==============================] - 2s 9ms/step - loss: 0.0402 - accuracy: 0.9804 - val_loss: 1.0269 - val_accuracy: 0.7756\n",
            "Epoch 5/5\n",
            "215/215 [==============================] - 1s 7ms/step - loss: 0.0431 - accuracy: 0.9783 - val_loss: 1.3069 - val_accuracy: 0.7690\n"
          ]
        }
      ]
    },
    {
      "cell_type": "code",
      "source": [
        "model_2_pred_probs = model_2.predict(val_sentences)\n",
        "model_2_pred_probs[:10]"
      ],
      "metadata": {
        "colab": {
          "base_uri": "https://localhost:8080/"
        },
        "id": "IlDFF_PgfRSk",
        "outputId": "d4c08e3e-1f25-4dcc-8cf2-7e166a68c000"
      },
      "execution_count": 88,
      "outputs": [
        {
          "output_type": "execute_result",
          "data": {
            "text/plain": [
              "array([[3.4259376e-04],\n",
              "       [8.9553624e-01],\n",
              "       [9.9989188e-01],\n",
              "       [3.3289699e-03],\n",
              "       [9.9972039e-01],\n",
              "       [2.0499539e-02],\n",
              "       [8.8638262e-05],\n",
              "       [9.9853566e-03],\n",
              "       [9.9866128e-01],\n",
              "       [9.9987066e-01]], dtype=float32)"
            ]
          },
          "metadata": {},
          "execution_count": 88
        }
      ]
    },
    {
      "cell_type": "code",
      "source": [
        "#convert model 2 pred probs to labels\n",
        "model_2_preds = tf.squeeze(tf.round(model_2_pred_probs))\n",
        "model_2_preds[:10]"
      ],
      "metadata": {
        "colab": {
          "base_uri": "https://localhost:8080/"
        },
        "id": "5rpOeSSZfa54",
        "outputId": "050153b5-0a97-4d2f-995e-dab43aa9aa85"
      },
      "execution_count": 89,
      "outputs": [
        {
          "output_type": "execute_result",
          "data": {
            "text/plain": [
              "<tf.Tensor: shape=(10,), dtype=float32, numpy=array([0., 1., 1., 0., 1., 0., 0., 0., 1., 1.], dtype=float32)>"
            ]
          },
          "metadata": {},
          "execution_count": 89
        }
      ]
    },
    {
      "cell_type": "code",
      "source": [
        "model_2_results = calculate_results(y_true=val_labels,\n",
        "                                    y_pred=model_2_preds)"
      ],
      "metadata": {
        "id": "WWBptCNkfkD6"
      },
      "execution_count": 90,
      "outputs": []
    },
    {
      "cell_type": "code",
      "source": [
        "model_2_results"
      ],
      "metadata": {
        "colab": {
          "base_uri": "https://localhost:8080/"
        },
        "id": "gOEi_DQMfySB",
        "outputId": "b8356456-aedc-452a-dc81-2b2a345cdce6"
      },
      "execution_count": 91,
      "outputs": [
        {
          "output_type": "execute_result",
          "data": {
            "text/plain": [
              "{'accuracy': 76.9028871391076,\n",
              " 'f1': 0.7681766761614921,\n",
              " 'precision': 0.7680149813071524,\n",
              " 'recall': 0.7690288713910761}"
            ]
          },
          "metadata": {},
          "execution_count": 91
        }
      ]
    },
    {
      "cell_type": "code",
      "source": [
        "#Model 3: GRU\n",
        "#GRU = Gated recurrent unit\n",
        "##GRU is similar to LSTM, but has less parameters"
      ],
      "metadata": {
        "id": "Y-An2arVf021"
      },
      "execution_count": 92,
      "outputs": []
    },
    {
      "cell_type": "code",
      "source": [
        "from tensorflow.keras import layers\n",
        "\n",
        "model_3_embedding = layers.Embedding(input_dim=max_vocab_length,\n",
        "                                     output_dim=128,\n",
        "                                     embeddings_initializer=\"uniform\",\n",
        "                                     input_length=max_length,\n",
        "                                     name=\"embedding_3\")\n",
        "\n",
        "\n",
        "inputs = layers.Input(shape=(1,), dtype=tf.string)\n",
        "x = text_vectorizer(inputs)\n",
        "x = embedding(x)\n",
        "x = layers.GRU(64)(x)\n",
        "outputs = layers.Dense(1, activation=\"sigmoid\")(x)\n",
        "model_3 = tf.keras.Model(inputs, outputs, name=\"model_3_GRU\")\n",
        "\n",
        "'''\n",
        "# Build an RNN using the GRU cell\n",
        "inputs = layers.Input(shape=(1,), dtype=\"string\")\n",
        "x = text_vectorizer(inputs)\n",
        "x = model_3_embedding(x)\n",
        "# x = layers.GRU(64, return_sequences=True) # stacking recurrent cells requires return_sequences=True\n",
        "x = layers.GRU(64)(x) \n",
        "# x = layers.Dense(64, activation=\"relu\")(x) # optional dense layer after GRU cell\n",
        "outputs = layers.Dense(1, activation=\"sigmoid\")(x)\n",
        "model_3 = tf.keras.Model(inputs, outputs, name=\"model_3_GRU\")\n",
        "'''\n"
      ],
      "metadata": {
        "colab": {
          "base_uri": "https://localhost:8080/",
          "height": 89
        },
        "id": "JzWn9hofgXt3",
        "outputId": "7f685d1f-fdde-450a-9eac-9ab74dfdfcb8"
      },
      "execution_count": 93,
      "outputs": [
        {
          "output_type": "execute_result",
          "data": {
            "text/plain": [
              "'\\n# Build an RNN using the GRU cell\\ninputs = layers.Input(shape=(1,), dtype=\"string\")\\nx = text_vectorizer(inputs)\\nx = model_3_embedding(x)\\n# x = layers.GRU(64, return_sequences=True) # stacking recurrent cells requires return_sequences=True\\nx = layers.GRU(64)(x) \\n# x = layers.Dense(64, activation=\"relu\")(x) # optional dense layer after GRU cell\\noutputs = layers.Dense(1, activation=\"sigmoid\")(x)\\nmodel_3 = tf.keras.Model(inputs, outputs, name=\"model_3_GRU\")\\n'"
            ],
            "application/vnd.google.colaboratory.intrinsic+json": {
              "type": "string"
            }
          },
          "metadata": {},
          "execution_count": 93
        }
      ]
    },
    {
      "cell_type": "code",
      "source": [
        "#compile\n",
        "model_3.compile(loss=\"binary_crossentropy\",\n",
        "                optimizer=tf.keras.optimizers.Adam(),\n",
        "                metrics=[\"accuracy\"])"
      ],
      "metadata": {
        "id": "GDj5HiiwhAM4"
      },
      "execution_count": 94,
      "outputs": []
    },
    {
      "cell_type": "code",
      "source": [
        "model_3.summary()"
      ],
      "metadata": {
        "colab": {
          "base_uri": "https://localhost:8080/"
        },
        "id": "Ofves2m6ilkm",
        "outputId": "acb3830e-a1db-4425-91d5-72256a3211ba"
      },
      "execution_count": 95,
      "outputs": [
        {
          "output_type": "stream",
          "name": "stdout",
          "text": [
            "Model: \"model_3_GRU\"\n",
            "_________________________________________________________________\n",
            " Layer (type)                Output Shape              Param #   \n",
            "=================================================================\n",
            " input_6 (InputLayer)        [(None, 1)]               0         \n",
            "                                                                 \n",
            " text_vectorization_1 (TextV  (None, 15)               0         \n",
            " ectorization)                                                   \n",
            "                                                                 \n",
            " embedding (Embedding)       (None, 15, 128)           1280000   \n",
            "                                                                 \n",
            " gru_1 (GRU)                 (None, 64)                37248     \n",
            "                                                                 \n",
            " dense_5 (Dense)             (None, 1)                 65        \n",
            "                                                                 \n",
            "=================================================================\n",
            "Total params: 1,317,313\n",
            "Trainable params: 1,317,313\n",
            "Non-trainable params: 0\n",
            "_________________________________________________________________\n"
          ]
        }
      ]
    },
    {
      "cell_type": "code",
      "source": [
        "# Fit model\n",
        "model_3_history = model_3.fit(train_sentences,\n",
        "                              train_labels,\n",
        "                              epochs=5,\n",
        "                              validation_data=(val_sentences, val_labels),\n",
        "                              callbacks=[create_tensorboard_callback(SAVE_DIR, \"GRU\")])"
      ],
      "metadata": {
        "colab": {
          "base_uri": "https://localhost:8080/"
        },
        "id": "MYbzl90qip3F",
        "outputId": "6a12d339-35de-4d5c-c3b1-59912448e2a1"
      },
      "execution_count": 96,
      "outputs": [
        {
          "output_type": "stream",
          "name": "stdout",
          "text": [
            "Saving TensorBoard log files to: model_logs/GRU/20220727-224233\n",
            "Epoch 1/5\n",
            "215/215 [==============================] - 4s 8ms/step - loss: 0.1150 - accuracy: 0.9587 - val_loss: 0.8455 - val_accuracy: 0.7638\n",
            "Epoch 2/5\n",
            "215/215 [==============================] - 1s 6ms/step - loss: 0.0495 - accuracy: 0.9791 - val_loss: 1.0266 - val_accuracy: 0.7493\n",
            "Epoch 3/5\n",
            "215/215 [==============================] - 1s 6ms/step - loss: 0.0429 - accuracy: 0.9793 - val_loss: 1.1630 - val_accuracy: 0.7402\n",
            "Epoch 4/5\n",
            "215/215 [==============================] - 1s 6ms/step - loss: 0.0374 - accuracy: 0.9816 - val_loss: 1.4144 - val_accuracy: 0.7441\n",
            "Epoch 5/5\n",
            "215/215 [==============================] - 1s 6ms/step - loss: 0.0361 - accuracy: 0.9820 - val_loss: 1.5737 - val_accuracy: 0.7467\n"
          ]
        }
      ]
    },
    {
      "cell_type": "code",
      "source": [
        "model_3_preds = tf.squeeze(tf.round(model_3.predict(val_sentences)))\n",
        "model_3_preds"
      ],
      "metadata": {
        "colab": {
          "base_uri": "https://localhost:8080/"
        },
        "id": "KxSrnKt-kk_e",
        "outputId": "e74ba958-7fb8-4eb6-fbbd-1aea508e7e21"
      },
      "execution_count": 97,
      "outputs": [
        {
          "output_type": "execute_result",
          "data": {
            "text/plain": [
              "<tf.Tensor: shape=(762,), dtype=float32, numpy=\n",
              "array([0., 1., 1., 0., 1., 0., 0., 0., 1., 1., 0., 0., 1., 0., 0., 0., 1.,\n",
              "       0., 1., 1., 0., 0., 1., 0., 0., 1., 0., 0., 1., 1., 1., 0., 0., 0.,\n",
              "       0., 1., 0., 0., 0., 0., 0., 1., 1., 1., 0., 0., 0., 1., 1., 0., 0.,\n",
              "       1., 0., 0., 1., 0., 0., 0., 0., 0., 0., 0., 1., 1., 0., 1., 0., 1.,\n",
              "       0., 0., 0., 0., 0., 0., 0., 1., 0., 1., 1., 1., 0., 0., 1., 1., 0.,\n",
              "       0., 0., 1., 0., 0., 1., 0., 0., 0., 1., 0., 0., 1., 0., 0., 0., 0.,\n",
              "       1., 0., 0., 0., 1., 0., 1., 0., 0., 1., 1., 1., 0., 1., 1., 1., 1.,\n",
              "       1., 1., 1., 1., 1., 0., 0., 1., 0., 1., 1., 0., 1., 0., 0., 1., 0.,\n",
              "       1., 1., 1., 0., 0., 1., 1., 0., 0., 1., 1., 0., 0., 0., 1., 0., 0.,\n",
              "       1., 0., 0., 0., 1., 1., 0., 1., 1., 0., 0., 0., 0., 0., 0., 0., 1.,\n",
              "       1., 0., 0., 0., 1., 0., 1., 1., 0., 1., 0., 1., 0., 0., 1., 0., 1.,\n",
              "       0., 0., 0., 0., 0., 1., 0., 0., 1., 1., 1., 0., 0., 0., 1., 0., 0.,\n",
              "       0., 1., 0., 1., 1., 0., 0., 0., 1., 1., 0., 1., 1., 0., 1., 1., 1.,\n",
              "       0., 1., 0., 0., 0., 1., 1., 0., 0., 1., 1., 0., 1., 1., 0., 0., 0.,\n",
              "       1., 0., 0., 1., 0., 0., 0., 0., 0., 0., 1., 0., 1., 1., 1., 0., 0.,\n",
              "       0., 0., 0., 0., 1., 0., 1., 0., 0., 1., 0., 1., 0., 0., 1., 0., 0.,\n",
              "       1., 0., 1., 1., 1., 1., 1., 0., 1., 1., 1., 0., 1., 1., 1., 1., 1.,\n",
              "       1., 0., 0., 0., 1., 0., 1., 1., 0., 1., 1., 1., 0., 1., 1., 0., 0.,\n",
              "       1., 1., 1., 1., 0., 0., 0., 0., 0., 0., 1., 0., 1., 0., 1., 1., 1.,\n",
              "       1., 0., 0., 1., 1., 0., 0., 1., 1., 0., 0., 0., 0., 0., 0., 0., 0.,\n",
              "       1., 1., 0., 1., 0., 0., 0., 0., 1., 1., 0., 1., 1., 0., 0., 0., 0.,\n",
              "       0., 0., 1., 1., 1., 1., 0., 1., 1., 1., 1., 0., 0., 1., 0., 1., 1.,\n",
              "       0., 0., 1., 0., 1., 1., 1., 0., 0., 0., 1., 0., 1., 1., 0., 1., 1.,\n",
              "       1., 0., 0., 0., 0., 0., 1., 0., 0., 0., 0., 0., 1., 1., 1., 0., 0.,\n",
              "       1., 0., 0., 1., 1., 0., 0., 0., 0., 1., 1., 1., 0., 0., 1., 1., 0.,\n",
              "       0., 1., 0., 0., 0., 1., 0., 0., 1., 1., 1., 1., 1., 1., 1., 0., 1.,\n",
              "       0., 0., 0., 1., 1., 0., 0., 1., 0., 1., 1., 0., 0., 0., 1., 0., 1.,\n",
              "       1., 0., 1., 0., 1., 1., 0., 1., 1., 0., 0., 1., 0., 0., 0., 1., 0.,\n",
              "       1., 0., 0., 1., 0., 0., 0., 1., 0., 1., 0., 0., 1., 0., 0., 1., 1.,\n",
              "       1., 0., 1., 1., 0., 1., 1., 1., 1., 0., 0., 1., 0., 1., 1., 0., 0.,\n",
              "       1., 0., 0., 0., 0., 1., 1., 0., 0., 0., 1., 0., 0., 0., 0., 0., 1.,\n",
              "       1., 0., 1., 0., 0., 1., 0., 0., 1., 0., 1., 1., 0., 0., 1., 0., 0.,\n",
              "       1., 0., 0., 0., 0., 0., 0., 1., 1., 1., 1., 1., 1., 1., 0., 1., 1.,\n",
              "       1., 1., 0., 0., 0., 0., 1., 0., 0., 1., 0., 1., 0., 1., 1., 0., 1.,\n",
              "       1., 0., 1., 1., 1., 1., 1., 0., 0., 0., 1., 1., 1., 0., 1., 1., 1.,\n",
              "       0., 1., 1., 0., 0., 0., 1., 1., 1., 1., 0., 0., 1., 1., 0., 1., 0.,\n",
              "       1., 0., 0., 0., 0., 0., 1., 1., 1., 0., 0., 0., 1., 0., 1., 1., 1.,\n",
              "       1., 0., 1., 1., 1., 0., 0., 0., 0., 0., 0., 1., 0., 0., 1., 0., 1.,\n",
              "       1., 0., 0., 0., 1., 1., 0., 1., 0., 0., 1., 1., 1., 1., 1., 0., 0.,\n",
              "       0., 0., 0., 0., 1., 0., 1., 1., 1., 0., 0., 0., 0., 0., 1., 1., 0.,\n",
              "       1., 0., 0., 1., 1., 0., 1., 1., 1., 1., 0., 1., 0., 0., 0., 1., 0.,\n",
              "       0., 0., 0., 0., 0., 0., 0., 1., 1., 0., 0., 1., 1., 0., 0., 1., 1.,\n",
              "       1., 0., 0., 0., 0., 1., 1., 1., 1., 1., 0., 0., 0., 0., 0., 1., 0.,\n",
              "       1., 1., 0., 0., 1., 1., 0., 0., 1., 1., 0., 1., 0., 0., 0., 1., 0.,\n",
              "       0., 1., 1., 1., 1., 0., 0., 0., 1., 1., 0., 1., 1., 0.],\n",
              "      dtype=float32)>"
            ]
          },
          "metadata": {},
          "execution_count": 97
        }
      ]
    },
    {
      "cell_type": "code",
      "source": [
        "model_3_results = calculate_results(y_true=val_labels,\n",
        "                                    y_pred=model_3_preds)"
      ],
      "metadata": {
        "id": "JTfeVvyilHFf"
      },
      "execution_count": 98,
      "outputs": []
    },
    {
      "cell_type": "code",
      "source": [
        "model_3_results"
      ],
      "metadata": {
        "colab": {
          "base_uri": "https://localhost:8080/"
        },
        "id": "-jzAoUpmlrkj",
        "outputId": "70389661-cc07-4e2c-fdd3-0f039fa06232"
      },
      "execution_count": 99,
      "outputs": [
        {
          "output_type": "execute_result",
          "data": {
            "text/plain": [
              "{'accuracy': 74.67191601049869,\n",
              " 'f1': 0.7477031434071529,\n",
              " 'precision': 0.7502930146455699,\n",
              " 'recall': 0.7467191601049868}"
            ]
          },
          "metadata": {},
          "execution_count": 99
        }
      ]
    },
    {
      "cell_type": "code",
      "source": [
        "#Model 4: Bidirectional RNN\n",
        "##goes left to right and right to left"
      ],
      "metadata": {
        "id": "7GzSusEOlsvy"
      },
      "execution_count": 100,
      "outputs": []
    },
    {
      "cell_type": "code",
      "source": [
        "from tensorflow.keras import layers\n",
        "inputs = layers.Input(shape=(1,), dtype=\"string\")\n",
        "x = text_vectorizer(inputs)\n",
        "x = embedding(x)\n",
        "#x = layers.Bidirectional(layers.LSTM(64, return_sequences=True))(x)\n",
        "x = layers.Bidirectional(layers.LSTM(64))(x)\n",
        "outputs = layers.Dense(1, activation=\"sigmoid\")(x)\n",
        "model_4 = tf.keras.Model(inputs, outputs, name=\"model_4\")"
      ],
      "metadata": {
        "id": "Use5CQ2VxJJm"
      },
      "execution_count": 101,
      "outputs": []
    },
    {
      "cell_type": "code",
      "source": [
        "model_4.summary()"
      ],
      "metadata": {
        "colab": {
          "base_uri": "https://localhost:8080/"
        },
        "id": "cZkBd7oEyYOJ",
        "outputId": "63743ce7-b047-43d6-c6fb-712c01d1be9a"
      },
      "execution_count": 102,
      "outputs": [
        {
          "output_type": "stream",
          "name": "stdout",
          "text": [
            "Model: \"model_4\"\n",
            "_________________________________________________________________\n",
            " Layer (type)                Output Shape              Param #   \n",
            "=================================================================\n",
            " input_7 (InputLayer)        [(None, 1)]               0         \n",
            "                                                                 \n",
            " text_vectorization_1 (TextV  (None, 15)               0         \n",
            " ectorization)                                                   \n",
            "                                                                 \n",
            " embedding (Embedding)       (None, 15, 128)           1280000   \n",
            "                                                                 \n",
            " bidirectional_1 (Bidirectio  (None, 128)              98816     \n",
            " nal)                                                            \n",
            "                                                                 \n",
            " dense_6 (Dense)             (None, 1)                 129       \n",
            "                                                                 \n",
            "=================================================================\n",
            "Total params: 1,378,945\n",
            "Trainable params: 1,378,945\n",
            "Non-trainable params: 0\n",
            "_________________________________________________________________\n"
          ]
        }
      ]
    },
    {
      "cell_type": "code",
      "source": [
        "#compile\n",
        "model_4.compile(loss=\"binary_crossentropy\",\n",
        "                optimizer=tf.keras.optimizers.Adam(),\n",
        "                metrics=[\"accuracy\"])"
      ],
      "metadata": {
        "id": "adNTiqKuyje2"
      },
      "execution_count": 103,
      "outputs": []
    },
    {
      "cell_type": "code",
      "source": [
        "# Fit model\n",
        "model_4_history = model_4.fit(train_sentences,\n",
        "                              train_labels,\n",
        "                              epochs=5,\n",
        "                              validation_data=(val_sentences, val_labels),\n",
        "                              callbacks=[create_tensorboard_callback(SAVE_DIR, \"Bidrectional\")])"
      ],
      "metadata": {
        "colab": {
          "base_uri": "https://localhost:8080/"
        },
        "id": "bgj9Au4jzIAS",
        "outputId": "53ec32ea-c8b4-4d75-d455-7842eebca19d"
      },
      "execution_count": 104,
      "outputs": [
        {
          "output_type": "stream",
          "name": "stdout",
          "text": [
            "Saving TensorBoard log files to: model_logs/Bidrectional/20220727-224243\n",
            "Epoch 1/5\n",
            "215/215 [==============================] - 5s 12ms/step - loss: 0.0860 - accuracy: 0.9717 - val_loss: 1.0973 - val_accuracy: 0.7493\n",
            "Epoch 2/5\n",
            "215/215 [==============================] - 2s 8ms/step - loss: 0.0410 - accuracy: 0.9783 - val_loss: 1.5554 - val_accuracy: 0.7559\n",
            "Epoch 3/5\n",
            "215/215 [==============================] - 2s 9ms/step - loss: 0.0372 - accuracy: 0.9799 - val_loss: 1.4531 - val_accuracy: 0.7415\n",
            "Epoch 4/5\n",
            "215/215 [==============================] - 2s 10ms/step - loss: 0.0358 - accuracy: 0.9825 - val_loss: 1.5713 - val_accuracy: 0.7362\n",
            "Epoch 5/5\n",
            "215/215 [==============================] - 2s 9ms/step - loss: 0.0329 - accuracy: 0.9829 - val_loss: 1.5450 - val_accuracy: 0.7362\n"
          ]
        }
      ]
    },
    {
      "cell_type": "code",
      "source": [
        "model_4_pred_probs = model_4.predict(val_sentences)\n",
        "model_4_pred_probs"
      ],
      "metadata": {
        "colab": {
          "base_uri": "https://localhost:8080/"
        },
        "id": "rwQB-EBKzYpF",
        "outputId": "f8db6218-f407-4b6c-cd95-87221be1166d"
      },
      "execution_count": 105,
      "outputs": [
        {
          "output_type": "execute_result",
          "data": {
            "text/plain": [
              "array([[1.84321223e-04],\n",
              "       [9.57418382e-01],\n",
              "       [9.99981403e-01],\n",
              "       [4.83224588e-03],\n",
              "       [9.99957442e-01],\n",
              "       [1.14777058e-01],\n",
              "       [1.16224401e-05],\n",
              "       [3.22553678e-03],\n",
              "       [9.99852896e-01],\n",
              "       [9.99978662e-01],\n",
              "       [2.14705055e-04],\n",
              "       [2.67720083e-04],\n",
              "       [9.99995947e-01],\n",
              "       [1.40898395e-04],\n",
              "       [3.57563258e-05],\n",
              "       [7.83382449e-04],\n",
              "       [9.99985933e-01],\n",
              "       [4.57180664e-03],\n",
              "       [9.97756183e-01],\n",
              "       [9.86103415e-01],\n",
              "       [6.49398714e-02],\n",
              "       [2.30821432e-03],\n",
              "       [9.99134958e-01],\n",
              "       [9.76264477e-02],\n",
              "       [7.09559827e-04],\n",
              "       [9.99985576e-01],\n",
              "       [6.71348185e-04],\n",
              "       [9.37954392e-05],\n",
              "       [9.99834061e-01],\n",
              "       [9.99986887e-01],\n",
              "       [9.99979973e-01],\n",
              "       [4.44043719e-04],\n",
              "       [1.12205325e-02],\n",
              "       [5.72153585e-05],\n",
              "       [5.78471518e-05],\n",
              "       [9.99932766e-01],\n",
              "       [9.27420388e-06],\n",
              "       [1.50796380e-02],\n",
              "       [6.38995171e-02],\n",
              "       [1.24305938e-04],\n",
              "       [1.21678153e-04],\n",
              "       [9.99985933e-01],\n",
              "       [9.95145142e-01],\n",
              "       [9.89273489e-01],\n",
              "       [2.34828458e-05],\n",
              "       [1.67059756e-04],\n",
              "       [4.26099271e-01],\n",
              "       [9.99974847e-01],\n",
              "       [9.35541511e-01],\n",
              "       [2.76501960e-04],\n",
              "       [4.37764451e-04],\n",
              "       [9.99989986e-01],\n",
              "       [1.44260557e-04],\n",
              "       [2.03299453e-03],\n",
              "       [9.98312831e-01],\n",
              "       [2.13242001e-05],\n",
              "       [5.91891767e-05],\n",
              "       [5.87079885e-05],\n",
              "       [3.68850626e-04],\n",
              "       [4.34935600e-01],\n",
              "       [6.09923300e-05],\n",
              "       [3.16141406e-04],\n",
              "       [9.99978065e-01],\n",
              "       [9.99989986e-01],\n",
              "       [4.04024395e-05],\n",
              "       [9.99984503e-01],\n",
              "       [1.20289053e-03],\n",
              "       [9.99957204e-01],\n",
              "       [1.42385727e-02],\n",
              "       [8.52161393e-05],\n",
              "       [1.08564403e-04],\n",
              "       [7.08057196e-05],\n",
              "       [1.13344038e-04],\n",
              "       [2.34817271e-03],\n",
              "       [3.67648192e-02],\n",
              "       [9.99933124e-01],\n",
              "       [5.52337260e-05],\n",
              "       [9.99991298e-01],\n",
              "       [9.99984503e-01],\n",
              "       [9.99982595e-01],\n",
              "       [3.75723809e-01],\n",
              "       [5.11854480e-04],\n",
              "       [2.62199700e-01],\n",
              "       [9.99925971e-01],\n",
              "       [1.26679399e-04],\n",
              "       [3.84346634e-01],\n",
              "       [8.93648394e-05],\n",
              "       [9.99967456e-01],\n",
              "       [1.07884996e-01],\n",
              "       [1.25695439e-03],\n",
              "       [6.39615536e-01],\n",
              "       [9.49240231e-04],\n",
              "       [5.77421051e-05],\n",
              "       [2.14885524e-03],\n",
              "       [9.99744356e-01],\n",
              "       [4.88581536e-05],\n",
              "       [5.39943099e-01],\n",
              "       [9.99676585e-01],\n",
              "       [3.89394059e-04],\n",
              "       [5.23984665e-04],\n",
              "       [9.30033930e-05],\n",
              "       [3.22542995e-01],\n",
              "       [9.99660611e-01],\n",
              "       [7.36339571e-05],\n",
              "       [2.49244651e-04],\n",
              "       [1.80987525e-04],\n",
              "       [9.99598205e-01],\n",
              "       [1.61446107e-03],\n",
              "       [9.82497394e-01],\n",
              "       [1.79437697e-02],\n",
              "       [5.04694144e-05],\n",
              "       [9.99942064e-01],\n",
              "       [9.99952793e-01],\n",
              "       [9.29300010e-01],\n",
              "       [4.18990312e-05],\n",
              "       [9.99013066e-01],\n",
              "       [9.99967933e-01],\n",
              "       [9.99947429e-01],\n",
              "       [9.99982595e-01],\n",
              "       [9.90995824e-01],\n",
              "       [9.99980211e-01],\n",
              "       [9.99313593e-01],\n",
              "       [9.99984980e-01],\n",
              "       [9.99988556e-01],\n",
              "       [1.46065549e-05],\n",
              "       [1.55844400e-03],\n",
              "       [9.99935746e-01],\n",
              "       [6.83448389e-02],\n",
              "       [9.99992371e-01],\n",
              "       [8.33179176e-01],\n",
              "       [4.26471174e-01],\n",
              "       [9.99950528e-01],\n",
              "       [1.76941918e-04],\n",
              "       [7.32036904e-02],\n",
              "       [9.97974932e-01],\n",
              "       [2.04701209e-04],\n",
              "       [9.99850392e-01],\n",
              "       [9.99983907e-01],\n",
              "       [9.99990940e-01],\n",
              "       [3.78624187e-04],\n",
              "       [4.36275259e-05],\n",
              "       [9.99911308e-01],\n",
              "       [9.99690533e-01],\n",
              "       [2.34872568e-02],\n",
              "       [7.03788610e-05],\n",
              "       [9.99975085e-01],\n",
              "       [9.98513877e-01],\n",
              "       [9.01882868e-06],\n",
              "       [1.91142040e-04],\n",
              "       [1.37592564e-04],\n",
              "       [9.99986887e-01],\n",
              "       [4.48418483e-02],\n",
              "       [1.17802650e-04],\n",
              "       [9.99915361e-01],\n",
              "       [1.55423535e-04],\n",
              "       [3.85778327e-03],\n",
              "       [5.95868914e-04],\n",
              "       [9.50863361e-01],\n",
              "       [9.99947309e-01],\n",
              "       [1.08042508e-01],\n",
              "       [9.99611437e-01],\n",
              "       [9.99971628e-01],\n",
              "       [7.22351251e-04],\n",
              "       [8.22269022e-02],\n",
              "       [1.74433691e-04],\n",
              "       [3.56402069e-01],\n",
              "       [9.14497748e-02],\n",
              "       [1.72272659e-04],\n",
              "       [1.07191969e-03],\n",
              "       [9.98903275e-01],\n",
              "       [9.99594510e-01],\n",
              "       [5.33022569e-04],\n",
              "       [1.35500624e-04],\n",
              "       [4.50685729e-05],\n",
              "       [9.96946871e-01],\n",
              "       [5.85579728e-05],\n",
              "       [9.99840498e-01],\n",
              "       [7.89334834e-01],\n",
              "       [1.25288134e-05],\n",
              "       [9.99839306e-01],\n",
              "       [1.38938005e-04],\n",
              "       [9.99793828e-01],\n",
              "       [3.40364903e-04],\n",
              "       [5.01642585e-01],\n",
              "       [9.75793183e-01],\n",
              "       [5.04364551e-04],\n",
              "       [9.99989152e-01],\n",
              "       [4.32460248e-01],\n",
              "       [1.68543751e-03],\n",
              "       [6.06771464e-05],\n",
              "       [7.93466279e-06],\n",
              "       [2.88195093e-03],\n",
              "       [9.99756515e-01],\n",
              "       [1.61858287e-03],\n",
              "       [6.16742969e-01],\n",
              "       [5.93841374e-01],\n",
              "       [9.99955297e-01],\n",
              "       [1.24397717e-01],\n",
              "       [6.57769665e-02],\n",
              "       [1.39539843e-04],\n",
              "       [1.02253427e-04],\n",
              "       [9.99985576e-01],\n",
              "       [3.05515459e-05],\n",
              "       [4.50966036e-05],\n",
              "       [2.23898896e-05],\n",
              "       [9.99776542e-01],\n",
              "       [1.42211966e-05],\n",
              "       [6.68903410e-01],\n",
              "       [9.99978065e-01],\n",
              "       [1.82744661e-05],\n",
              "       [3.04006735e-05],\n",
              "       [9.03681575e-05],\n",
              "       [8.71221006e-01],\n",
              "       [7.56059363e-02],\n",
              "       [1.05349565e-04],\n",
              "       [9.99570906e-01],\n",
              "       [7.24871635e-01],\n",
              "       [4.08866217e-05],\n",
              "       [9.99917865e-01],\n",
              "       [9.95307386e-01],\n",
              "       [9.99966741e-01],\n",
              "       [3.53743962e-05],\n",
              "       [9.99965310e-01],\n",
              "       [1.80188213e-02],\n",
              "       [3.56080636e-05],\n",
              "       [9.67430770e-02],\n",
              "       [9.99853253e-01],\n",
              "       [9.99986410e-01],\n",
              "       [1.93928718e-03],\n",
              "       [1.11229636e-03],\n",
              "       [9.99813855e-01],\n",
              "       [9.99774516e-01],\n",
              "       [1.12747148e-05],\n",
              "       [9.99767244e-01],\n",
              "       [9.99972582e-01],\n",
              "       [3.44003528e-01],\n",
              "       [5.30306832e-04],\n",
              "       [3.93468981e-05],\n",
              "       [9.99975085e-01],\n",
              "       [5.33022569e-04],\n",
              "       [2.02983487e-04],\n",
              "       [8.03040624e-01],\n",
              "       [1.31798797e-05],\n",
              "       [4.58937633e-04],\n",
              "       [5.92187920e-04],\n",
              "       [3.53640062e-05],\n",
              "       [3.35256732e-03],\n",
              "       [1.90664444e-03],\n",
              "       [9.95124400e-01],\n",
              "       [3.82178859e-03],\n",
              "       [9.99943256e-01],\n",
              "       [9.99140620e-01],\n",
              "       [9.96564090e-01],\n",
              "       [1.06507141e-04],\n",
              "       [2.55512958e-03],\n",
              "       [4.60321229e-04],\n",
              "       [3.37346835e-04],\n",
              "       [1.80524057e-05],\n",
              "       [6.08782808e-04],\n",
              "       [9.99943018e-01],\n",
              "       [3.97271033e-05],\n",
              "       [9.99982357e-01],\n",
              "       [2.96345097e-05],\n",
              "       [3.17866943e-05],\n",
              "       [9.99989748e-01],\n",
              "       [1.80783667e-04],\n",
              "       [9.96751785e-01],\n",
              "       [3.58802616e-04],\n",
              "       [5.85622452e-02],\n",
              "       [9.99946833e-01],\n",
              "       [7.07597006e-03],\n",
              "       [1.43604238e-05],\n",
              "       [9.99963403e-01],\n",
              "       [2.39203358e-03],\n",
              "       [9.99456584e-01],\n",
              "       [9.99982357e-01],\n",
              "       [9.99991298e-01],\n",
              "       [4.36233312e-01],\n",
              "       [6.86647058e-01],\n",
              "       [6.49014764e-05],\n",
              "       [9.99944329e-01],\n",
              "       [9.92772281e-01],\n",
              "       [9.94818270e-01],\n",
              "       [5.77332685e-04],\n",
              "       [9.99956369e-01],\n",
              "       [9.99764621e-01],\n",
              "       [9.91963267e-01],\n",
              "       [9.99882579e-01],\n",
              "       [9.99817193e-01],\n",
              "       [9.99817908e-01],\n",
              "       [1.36475703e-02],\n",
              "       [5.33022569e-04],\n",
              "       [1.30644912e-04],\n",
              "       [9.99638796e-01],\n",
              "       [4.78122238e-04],\n",
              "       [9.99976277e-01],\n",
              "       [9.95214462e-01],\n",
              "       [3.72977465e-01],\n",
              "       [9.96048152e-01],\n",
              "       [9.99942541e-01],\n",
              "       [9.99944568e-01],\n",
              "       [6.74464100e-05],\n",
              "       [9.99958038e-01],\n",
              "       [9.99920249e-01],\n",
              "       [2.49539223e-02],\n",
              "       [1.74916610e-02],\n",
              "       [1.25103295e-02],\n",
              "       [9.27399635e-01],\n",
              "       [8.39295805e-01],\n",
              "       [9.99930263e-01],\n",
              "       [7.10964799e-01],\n",
              "       [3.39778344e-05],\n",
              "       [1.90338542e-04],\n",
              "       [4.18632895e-01],\n",
              "       [1.19429220e-04],\n",
              "       [1.33886962e-04],\n",
              "       [9.99968648e-01],\n",
              "       [1.25050475e-03],\n",
              "       [9.96236801e-01],\n",
              "       [8.90180891e-05],\n",
              "       [9.99985695e-01],\n",
              "       [4.69531059e-01],\n",
              "       [9.99979973e-01],\n",
              "       [9.99514103e-01],\n",
              "       [3.06805086e-05],\n",
              "       [4.83880430e-01],\n",
              "       [9.99989510e-01],\n",
              "       [9.99957323e-01],\n",
              "       [3.86073917e-01],\n",
              "       [2.01471034e-03],\n",
              "       [9.99986887e-01],\n",
              "       [9.99820530e-01],\n",
              "       [2.62200367e-02],\n",
              "       [6.24604872e-05],\n",
              "       [7.33411908e-02],\n",
              "       [3.60261765e-05],\n",
              "       [3.18343658e-03],\n",
              "       [1.42163874e-04],\n",
              "       [4.76659683e-04],\n",
              "       [3.50191593e-01],\n",
              "       [5.66079542e-02],\n",
              "       [9.99968886e-01],\n",
              "       [1.29679043e-04],\n",
              "       [9.99946713e-01],\n",
              "       [2.21050199e-04],\n",
              "       [2.32041984e-05],\n",
              "       [4.70968157e-01],\n",
              "       [1.67877166e-04],\n",
              "       [9.99985218e-01],\n",
              "       [9.96494114e-01],\n",
              "       [1.69648722e-01],\n",
              "       [9.99984980e-01],\n",
              "       [1.61088202e-02],\n",
              "       [9.04273125e-04],\n",
              "       [2.34976935e-04],\n",
              "       [5.11704013e-04],\n",
              "       [2.05372274e-01],\n",
              "       [9.68226406e-04],\n",
              "       [2.36572116e-03],\n",
              "       [9.99963284e-01],\n",
              "       [9.99456584e-01],\n",
              "       [3.81363094e-01],\n",
              "       [9.98936832e-01],\n",
              "       [5.36791631e-04],\n",
              "       [9.99945045e-01],\n",
              "       [9.99969959e-01],\n",
              "       [9.91617739e-01],\n",
              "       [9.99868035e-01],\n",
              "       [4.06176056e-04],\n",
              "       [2.25181952e-01],\n",
              "       [9.98013139e-01],\n",
              "       [1.50428052e-04],\n",
              "       [9.99989033e-01],\n",
              "       [9.99977469e-01],\n",
              "       [1.36618351e-03],\n",
              "       [2.05510249e-03],\n",
              "       [7.86954761e-01],\n",
              "       [1.63347693e-04],\n",
              "       [9.99916196e-01],\n",
              "       [9.99983549e-01],\n",
              "       [9.99978542e-01],\n",
              "       [5.46941155e-05],\n",
              "       [1.06523396e-04],\n",
              "       [4.32995826e-01],\n",
              "       [9.99968886e-01],\n",
              "       [2.41852758e-04],\n",
              "       [9.99982595e-01],\n",
              "       [9.99987006e-01],\n",
              "       [2.37437329e-04],\n",
              "       [9.99885559e-01],\n",
              "       [9.99887347e-01],\n",
              "       [9.98780549e-01],\n",
              "       [1.09180003e-01],\n",
              "       [3.57088924e-04],\n",
              "       [2.32465263e-05],\n",
              "       [4.14471397e-05],\n",
              "       [5.03045619e-01],\n",
              "       [9.99979973e-01],\n",
              "       [2.38580833e-04],\n",
              "       [1.09414017e-04],\n",
              "       [3.51188392e-05],\n",
              "       [4.39673546e-04],\n",
              "       [3.77086401e-01],\n",
              "       [9.99902725e-01],\n",
              "       [9.99865651e-01],\n",
              "       [9.99215126e-01],\n",
              "       [2.40868685e-05],\n",
              "       [7.59941322e-05],\n",
              "       [9.99492526e-01],\n",
              "       [5.77107785e-05],\n",
              "       [8.95298319e-04],\n",
              "       [9.88840282e-01],\n",
              "       [9.99979734e-01],\n",
              "       [9.66181047e-04],\n",
              "       [6.25747954e-04],\n",
              "       [1.23947655e-04],\n",
              "       [1.42180244e-03],\n",
              "       [7.89032161e-01],\n",
              "       [9.99920249e-01],\n",
              "       [9.99969125e-01],\n",
              "       [8.84561305e-05],\n",
              "       [1.25904218e-04],\n",
              "       [6.82436228e-02],\n",
              "       [9.99984622e-01],\n",
              "       [1.71373413e-05],\n",
              "       [1.02164930e-04],\n",
              "       [9.89922464e-01],\n",
              "       [2.29878147e-04],\n",
              "       [2.10314189e-04],\n",
              "       [1.55414498e-04],\n",
              "       [9.14052069e-01],\n",
              "       [7.60452123e-04],\n",
              "       [1.19429827e-03],\n",
              "       [7.73235857e-01],\n",
              "       [9.98100340e-01],\n",
              "       [9.99984980e-01],\n",
              "       [9.99982953e-01],\n",
              "       [9.99856830e-01],\n",
              "       [9.96494830e-01],\n",
              "       [9.93778646e-01],\n",
              "       [2.09905324e-04],\n",
              "       [9.99964356e-01],\n",
              "       [3.48705835e-05],\n",
              "       [1.80330314e-02],\n",
              "       [2.62934063e-02],\n",
              "       [9.91963148e-01],\n",
              "       [9.99739468e-01],\n",
              "       [6.51209615e-04],\n",
              "       [4.38510597e-01],\n",
              "       [9.99987006e-01],\n",
              "       [7.80385235e-05],\n",
              "       [9.96970296e-01],\n",
              "       [4.87308025e-01],\n",
              "       [2.48612836e-04],\n",
              "       [6.04805648e-01],\n",
              "       [8.09400342e-04],\n",
              "       [9.99974608e-01],\n",
              "       [1.07629772e-03],\n",
              "       [9.99502301e-01],\n",
              "       [9.97660041e-01],\n",
              "       [5.59727196e-03],\n",
              "       [9.99783099e-01],\n",
              "       [2.74604045e-05],\n",
              "       [8.29852104e-01],\n",
              "       [9.99315619e-01],\n",
              "       [4.49738582e-05],\n",
              "       [4.23674941e-01],\n",
              "       [9.37246144e-01],\n",
              "       [4.32995826e-01],\n",
              "       [3.69104200e-05],\n",
              "       [9.99823987e-01],\n",
              "       [2.98564482e-05],\n",
              "       [6.92743342e-05],\n",
              "       [5.63942420e-04],\n",
              "       [9.81675327e-01],\n",
              "       [1.20081392e-03],\n",
              "       [9.87419069e-01],\n",
              "       [1.37993979e-04],\n",
              "       [4.43655095e-04],\n",
              "       [9.99992728e-01],\n",
              "       [7.19148375e-05],\n",
              "       [1.97152127e-04],\n",
              "       [8.19410011e-02],\n",
              "       [9.99894142e-01],\n",
              "       [1.11073544e-02],\n",
              "       [2.93181479e-01],\n",
              "       [1.28076921e-04],\n",
              "       [7.41769152e-04],\n",
              "       [9.99163628e-01],\n",
              "       [1.45625627e-05],\n",
              "       [2.18076690e-04],\n",
              "       [9.99960423e-01],\n",
              "       [9.97839928e-01],\n",
              "       [9.97843981e-01],\n",
              "       [4.63850360e-04],\n",
              "       [5.90189457e-01],\n",
              "       [8.60103130e-01],\n",
              "       [4.93951200e-04],\n",
              "       [9.99363244e-01],\n",
              "       [5.71199596e-01],\n",
              "       [9.99992847e-01],\n",
              "       [1.29279926e-01],\n",
              "       [6.62152306e-05],\n",
              "       [1.30838771e-05],\n",
              "       [9.99726117e-01],\n",
              "       [1.12214884e-05],\n",
              "       [9.89198864e-01],\n",
              "       [9.99971509e-01],\n",
              "       [9.92798805e-01],\n",
              "       [5.28607607e-01],\n",
              "       [9.99993205e-01],\n",
              "       [3.34527977e-05],\n",
              "       [2.74395687e-03],\n",
              "       [7.80266855e-05],\n",
              "       [2.97196413e-04],\n",
              "       [9.99991536e-01],\n",
              "       [9.99952316e-01],\n",
              "       [1.24290567e-02],\n",
              "       [1.57793060e-01],\n",
              "       [3.24942259e-04],\n",
              "       [9.99992728e-01],\n",
              "       [4.26003171e-05],\n",
              "       [1.33218453e-03],\n",
              "       [5.11854480e-04],\n",
              "       [3.94519768e-04],\n",
              "       [2.33045837e-04],\n",
              "       [9.99930263e-01],\n",
              "       [8.23115110e-01],\n",
              "       [1.41251381e-04],\n",
              "       [9.99975443e-01],\n",
              "       [1.39423864e-04],\n",
              "       [3.57448371e-05],\n",
              "       [9.99987364e-01],\n",
              "       [2.60324887e-04],\n",
              "       [8.79461950e-05],\n",
              "       [9.99948621e-01],\n",
              "       [4.85781282e-02],\n",
              "       [9.99958992e-01],\n",
              "       [9.99991298e-01],\n",
              "       [4.99504786e-05],\n",
              "       [2.45179806e-04],\n",
              "       [9.99922276e-01],\n",
              "       [6.10381132e-04],\n",
              "       [6.57496203e-05],\n",
              "       [9.99948144e-01],\n",
              "       [1.02760445e-04],\n",
              "       [9.57595548e-05],\n",
              "       [3.01518769e-04],\n",
              "       [3.58691846e-04],\n",
              "       [9.55976080e-03],\n",
              "       [5.41968766e-05],\n",
              "       [9.99992967e-01],\n",
              "       [9.99979973e-01],\n",
              "       [9.99358237e-01],\n",
              "       [9.84887719e-01],\n",
              "       [6.04348004e-01],\n",
              "       [9.99966979e-01],\n",
              "       [9.99743402e-01],\n",
              "       [2.88557465e-04],\n",
              "       [9.98448730e-01],\n",
              "       [9.99944568e-01],\n",
              "       [9.76045430e-01],\n",
              "       [9.28999364e-01],\n",
              "       [3.89432171e-05],\n",
              "       [2.30233200e-05],\n",
              "       [1.03576691e-04],\n",
              "       [1.70506421e-04],\n",
              "       [9.99973178e-01],\n",
              "       [5.28114319e-01],\n",
              "       [1.89488158e-01],\n",
              "       [9.99626875e-01],\n",
              "       [2.14161737e-05],\n",
              "       [9.97967064e-01],\n",
              "       [6.43329578e-04],\n",
              "       [9.95425045e-01],\n",
              "       [9.99992847e-01],\n",
              "       [5.76513739e-05],\n",
              "       [9.99922276e-01],\n",
              "       [9.99979973e-01],\n",
              "       [7.21001183e-04],\n",
              "       [9.99262154e-01],\n",
              "       [9.99979973e-01],\n",
              "       [9.99931455e-01],\n",
              "       [6.71883762e-01],\n",
              "       [7.46491432e-01],\n",
              "       [1.42457476e-03],\n",
              "       [3.26948444e-04],\n",
              "       [9.51221096e-04],\n",
              "       [9.99984741e-01],\n",
              "       [9.99973893e-01],\n",
              "       [9.69108045e-01],\n",
              "       [2.33210370e-01],\n",
              "       [9.89907980e-01],\n",
              "       [6.26090840e-02],\n",
              "       [9.99449193e-01],\n",
              "       [3.37349105e-04],\n",
              "       [9.98446882e-01],\n",
              "       [9.88984942e-01],\n",
              "       [6.38748556e-02],\n",
              "       [4.10278473e-04],\n",
              "       [9.05978144e-04],\n",
              "       [9.99380589e-01],\n",
              "       [9.99984503e-01],\n",
              "       [9.99221087e-01],\n",
              "       [9.99885917e-01],\n",
              "       [7.35999178e-03],\n",
              "       [5.15163280e-02],\n",
              "       [9.63651001e-01],\n",
              "       [9.99088168e-01],\n",
              "       [1.09441544e-05],\n",
              "       [9.99882221e-01],\n",
              "       [2.31982837e-03],\n",
              "       [9.80365932e-01],\n",
              "       [1.11677371e-01],\n",
              "       [9.72948874e-06],\n",
              "       [4.30072396e-05],\n",
              "       [2.41922156e-04],\n",
              "       [4.29125248e-05],\n",
              "       [9.94141519e-01],\n",
              "       [9.97939050e-01],\n",
              "       [9.99427974e-01],\n",
              "       [2.65905391e-02],\n",
              "       [7.16027990e-03],\n",
              "       [1.45929644e-05],\n",
              "       [9.99984026e-01],\n",
              "       [5.38947061e-03],\n",
              "       [9.98074174e-01],\n",
              "       [9.99979854e-01],\n",
              "       [9.99960542e-01],\n",
              "       [9.99414325e-01],\n",
              "       [3.77225893e-04],\n",
              "       [9.99962449e-01],\n",
              "       [9.99881148e-01],\n",
              "       [9.99368012e-01],\n",
              "       [8.58377576e-01],\n",
              "       [2.09752913e-03],\n",
              "       [1.19111612e-02],\n",
              "       [2.87896575e-04],\n",
              "       [6.91447582e-04],\n",
              "       [2.68841628e-03],\n",
              "       [9.99851346e-01],\n",
              "       [4.06425446e-04],\n",
              "       [2.20934926e-05],\n",
              "       [3.92540311e-03],\n",
              "       [2.81121811e-05],\n",
              "       [9.99974370e-01],\n",
              "       [9.99901056e-01],\n",
              "       [1.05168601e-03],\n",
              "       [2.73301482e-01],\n",
              "       [6.64380641e-05],\n",
              "       [9.99754965e-01],\n",
              "       [5.71199596e-01],\n",
              "       [4.64373661e-05],\n",
              "       [9.98357832e-01],\n",
              "       [3.09698284e-04],\n",
              "       [1.52697263e-04],\n",
              "       [9.99930620e-01],\n",
              "       [9.99995232e-01],\n",
              "       [9.99953985e-01],\n",
              "       [9.98454690e-01],\n",
              "       [9.99909759e-01],\n",
              "       [8.97494901e-05],\n",
              "       [4.38510597e-01],\n",
              "       [1.08201906e-01],\n",
              "       [1.62000084e-04],\n",
              "       [2.60002678e-04],\n",
              "       [1.34242611e-04],\n",
              "       [9.91401017e-01],\n",
              "       [4.94621135e-03],\n",
              "       [9.99942541e-01],\n",
              "       [9.99502063e-01],\n",
              "       [9.99986887e-01],\n",
              "       [7.20009673e-04],\n",
              "       [5.71335222e-05],\n",
              "       [1.70249084e-04],\n",
              "       [1.48859486e-04],\n",
              "       [5.33197308e-04],\n",
              "       [9.99987721e-01],\n",
              "       [9.99977946e-01],\n",
              "       [6.41694496e-05],\n",
              "       [9.99833107e-01],\n",
              "       [1.68405822e-03],\n",
              "       [5.77714702e-04],\n",
              "       [6.81042731e-01],\n",
              "       [9.99242306e-01],\n",
              "       [6.51268812e-04],\n",
              "       [9.99966860e-01],\n",
              "       [9.67144251e-01],\n",
              "       [4.00876403e-01],\n",
              "       [9.99972224e-01],\n",
              "       [6.39847538e-04],\n",
              "       [9.99163866e-01],\n",
              "       [5.87124669e-05],\n",
              "       [5.03013313e-01],\n",
              "       [6.09416456e-04],\n",
              "       [9.99977589e-01],\n",
              "       [2.60002678e-04],\n",
              "       [2.27032971e-04],\n",
              "       [5.28227305e-03],\n",
              "       [2.69088475e-03],\n",
              "       [1.43467505e-02],\n",
              "       [9.77155268e-02],\n",
              "       [1.80025934e-04],\n",
              "       [1.28406465e-01],\n",
              "       [9.99969721e-01],\n",
              "       [9.81585741e-01],\n",
              "       [3.68938148e-01],\n",
              "       [4.25461382e-02],\n",
              "       [9.99949098e-01],\n",
              "       [9.99961853e-01],\n",
              "       [7.29400490e-05],\n",
              "       [9.55700816e-05],\n",
              "       [9.99981403e-01],\n",
              "       [7.28455961e-01],\n",
              "       [9.99937534e-01],\n",
              "       [4.34318095e-01],\n",
              "       [4.99295711e-05],\n",
              "       [8.80625885e-05],\n",
              "       [1.81432992e-01],\n",
              "       [9.99936104e-01],\n",
              "       [9.99989986e-01],\n",
              "       [2.56801903e-01],\n",
              "       [9.99988317e-01],\n",
              "       [5.71199596e-01],\n",
              "       [1.48930727e-02],\n",
              "       [5.01125276e-01],\n",
              "       [2.53923918e-05],\n",
              "       [5.50649187e-04],\n",
              "       [1.16690192e-02],\n",
              "       [8.87985587e-01],\n",
              "       [1.53500494e-03],\n",
              "       [9.99694824e-01],\n",
              "       [8.61905396e-01],\n",
              "       [1.16836955e-03],\n",
              "       [1.36776199e-03],\n",
              "       [9.99991536e-01],\n",
              "       [9.99950528e-01],\n",
              "       [8.33666782e-05],\n",
              "       [2.68895004e-04],\n",
              "       [9.38240767e-01],\n",
              "       [9.99857664e-01],\n",
              "       [3.79902136e-04],\n",
              "       [9.76947308e-01],\n",
              "       [5.83731453e-04],\n",
              "       [2.08938683e-04],\n",
              "       [3.49039532e-04],\n",
              "       [9.99161839e-01],\n",
              "       [2.12970175e-04],\n",
              "       [6.97888609e-05],\n",
              "       [9.97050643e-01],\n",
              "       [9.99982834e-01],\n",
              "       [9.99942780e-01],\n",
              "       [9.99988556e-01],\n",
              "       [1.49973484e-05],\n",
              "       [2.04208802e-04],\n",
              "       [5.51128651e-05],\n",
              "       [9.76943016e-01],\n",
              "       [9.99872208e-01],\n",
              "       [2.34546419e-03],\n",
              "       [9.99745786e-01],\n",
              "       [9.99991536e-01],\n",
              "       [9.77644231e-04]], dtype=float32)"
            ]
          },
          "metadata": {},
          "execution_count": 105
        }
      ]
    },
    {
      "cell_type": "code",
      "source": [
        "model_4_preds = tf.squeeze(tf.round(model_4_pred_probs))"
      ],
      "metadata": {
        "id": "ROZPErBazoMX"
      },
      "execution_count": 106,
      "outputs": []
    },
    {
      "cell_type": "code",
      "source": [
        "model_4_preds[:20]"
      ],
      "metadata": {
        "colab": {
          "base_uri": "https://localhost:8080/"
        },
        "id": "8buRao8yztdG",
        "outputId": "2ef4205d-1670-4ed5-ae31-31bf43813646"
      },
      "execution_count": 107,
      "outputs": [
        {
          "output_type": "execute_result",
          "data": {
            "text/plain": [
              "<tf.Tensor: shape=(20,), dtype=float32, numpy=\n",
              "array([0., 1., 1., 0., 1., 0., 0., 0., 1., 1., 0., 0., 1., 0., 0., 0., 1.,\n",
              "       0., 1., 1.], dtype=float32)>"
            ]
          },
          "metadata": {},
          "execution_count": 107
        }
      ]
    },
    {
      "cell_type": "code",
      "source": [
        "#calc the results of biredcational model\n",
        "model_4_results = calculate_results(val_labels, model_4_preds)"
      ],
      "metadata": {
        "id": "M-jif3FlzvJR"
      },
      "execution_count": 108,
      "outputs": []
    },
    {
      "cell_type": "code",
      "source": [
        "model_4_results"
      ],
      "metadata": {
        "id": "TW7nA3VHz1eu",
        "outputId": "8a33d781-0ff6-4fde-a39a-0f22978705db",
        "colab": {
          "base_uri": "https://localhost:8080/"
        }
      },
      "execution_count": 109,
      "outputs": [
        {
          "output_type": "execute_result",
          "data": {
            "text/plain": [
              "{'accuracy': 73.62204724409449,\n",
              " 'f1': 0.7370534084476977,\n",
              " 'precision': 0.7388015784958836,\n",
              " 'recall': 0.7362204724409449}"
            ]
          },
          "metadata": {},
          "execution_count": 109
        }
      ]
    },
    {
      "cell_type": "markdown",
      "source": [
        "#Convolution Neural Networks for Text (and other sequences)"
      ],
      "metadata": {
        "id": "b28rxXIdz3iZ"
      }
    },
    {
      "cell_type": "markdown",
      "source": [
        "#Model 5: Conv1D NN"
      ],
      "metadata": {
        "id": "fYLSiCAD2E8T"
      }
    },
    {
      "cell_type": "code",
      "source": [
        "#Test out our embedding layer, Conv1d layer and pooling layer\n",
        "embedding_test = embedding(text_vectorizer([\"This is a test sentence\"]))\n",
        "conv_1d = layers.Conv1D(filters=32,\n",
        "                        kernel_size=5,\n",
        "                        activation=\"relu\",\n",
        "                        padding=\"valid\")\n",
        "\n",
        "conv_1d_output = conv_1d(embedding_test)\n",
        "max_pool = layers.GlobalMaxPool1D()\n",
        "max_pool_output = max_pool(conv_1d_output) # Get the most important feature\n",
        "embedding_test.shape, conv_1d_output.shape, max_pool_output.shape"
      ],
      "metadata": {
        "colab": {
          "base_uri": "https://localhost:8080/"
        },
        "id": "Iw-F2j5f2JEW",
        "outputId": "92d9dfdb-213d-4e41-cb9f-fa11cd3baac4"
      },
      "execution_count": 111,
      "outputs": [
        {
          "output_type": "execute_result",
          "data": {
            "text/plain": [
              "(TensorShape([1, 15, 128]), TensorShape([1, 11, 32]), TensorShape([1, 32]))"
            ]
          },
          "metadata": {},
          "execution_count": 111
        }
      ]
    },
    {
      "cell_type": "code",
      "source": [
        "embedding_test"
      ],
      "metadata": {
        "colab": {
          "base_uri": "https://localhost:8080/"
        },
        "id": "6u24Z09Y2Vmg",
        "outputId": "00914f0a-debe-4a4f-d622-c0e0d195e17b"
      },
      "execution_count": 112,
      "outputs": [
        {
          "output_type": "execute_result",
          "data": {
            "text/plain": [
              "<tf.Tensor: shape=(1, 15, 128), dtype=float32, numpy=\n",
              "array([[[ 0.0476912 ,  0.07679784, -0.01126306, ..., -0.07589082,\n",
              "         -0.06985233, -0.01292253],\n",
              "        [ 0.04254068,  0.01673366, -0.05724114, ...,  0.03838583,\n",
              "         -0.06517895, -0.03987761],\n",
              "        [-0.02990822, -0.05489602, -0.00608808, ...,  0.03421354,\n",
              "          0.03112028, -0.01832725],\n",
              "        ...,\n",
              "        [ 0.04591256,  0.03087383,  0.00621633, ...,  0.00714362,\n",
              "          0.00493412, -0.02824576],\n",
              "        [ 0.04591256,  0.03087383,  0.00621633, ...,  0.00714362,\n",
              "          0.00493412, -0.02824576],\n",
              "        [ 0.04591256,  0.03087383,  0.00621633, ...,  0.00714362,\n",
              "          0.00493412, -0.02824576]]], dtype=float32)>"
            ]
          },
          "metadata": {},
          "execution_count": 112
        }
      ]
    },
    {
      "cell_type": "code",
      "source": [
        "conv_1d_output"
      ],
      "metadata": {
        "colab": {
          "base_uri": "https://localhost:8080/"
        },
        "id": "OQNajT-c4V1i",
        "outputId": "c8fe64f4-6067-4d34-f779-b51ee1ceb35e"
      },
      "execution_count": 113,
      "outputs": [
        {
          "output_type": "execute_result",
          "data": {
            "text/plain": [
              "<tf.Tensor: shape=(1, 11, 32), dtype=float32, numpy=\n",
              "array([[[0.        , 0.        , 0.14330956, 0.        , 0.12528147,\n",
              "         0.        , 0.07458106, 0.03641946, 0.        , 0.        ,\n",
              "         0.        , 0.0248801 , 0.        , 0.0381422 , 0.        ,\n",
              "         0.        , 0.07845341, 0.        , 0.        , 0.08560348,\n",
              "         0.        , 0.        , 0.00168963, 0.        , 0.03424046,\n",
              "         0.00439279, 0.05277006, 0.        , 0.05605649, 0.        ,\n",
              "         0.0953401 , 0.        ],\n",
              "        [0.        , 0.        , 0.        , 0.        , 0.03174412,\n",
              "         0.        , 0.03170804, 0.01739686, 0.        , 0.00090978,\n",
              "         0.00899437, 0.01627927, 0.13319923, 0.05416688, 0.01574154,\n",
              "         0.        , 0.        , 0.02437087, 0.        , 0.        ,\n",
              "         0.        , 0.        , 0.        , 0.01274404, 0.08225287,\n",
              "         0.        , 0.05157555, 0.        , 0.        , 0.        ,\n",
              "         0.03636798, 0.09527008],\n",
              "        [0.07581975, 0.08713392, 0.        , 0.        , 0.12602448,\n",
              "         0.05944669, 0.05957615, 0.02426313, 0.        , 0.        ,\n",
              "         0.        , 0.        , 0.        , 0.0126441 , 0.04205078,\n",
              "         0.06675701, 0.        , 0.        , 0.        , 0.        ,\n",
              "         0.04645869, 0.02902747, 0.        , 0.00703762, 0.04050656,\n",
              "         0.        , 0.05298339, 0.05454529, 0.        , 0.2002739 ,\n",
              "         0.        , 0.0439845 ],\n",
              "        [0.13807374, 0.14373095, 0.        , 0.        , 0.12064521,\n",
              "         0.02982833, 0.        , 0.08220109, 0.03460443, 0.003852  ,\n",
              "         0.        , 0.        , 0.        , 0.03014349, 0.01721621,\n",
              "         0.11430027, 0.01308815, 0.02649251, 0.07903819, 0.        ,\n",
              "         0.00991602, 0.08604962, 0.01123144, 0.        , 0.02886972,\n",
              "         0.        , 0.06683297, 0.02381704, 0.        , 0.11269097,\n",
              "         0.05465783, 0.03126975],\n",
              "        [0.        , 0.0018232 , 0.03225753, 0.        , 0.04537311,\n",
              "         0.        , 0.        , 0.05150351, 0.02279313, 0.        ,\n",
              "         0.        , 0.        , 0.        , 0.01673498, 0.04705513,\n",
              "         0.03038304, 0.01810785, 0.00157185, 0.04440726, 0.03012583,\n",
              "         0.03608351, 0.        , 0.        , 0.        , 0.02724433,\n",
              "         0.        , 0.00820961, 0.0688541 , 0.        , 0.02150284,\n",
              "         0.02652447, 0.        ],\n",
              "        [0.01356264, 0.01176681, 0.06212331, 0.        , 0.05327957,\n",
              "         0.        , 0.        , 0.04969221, 0.02719115, 0.        ,\n",
              "         0.00673594, 0.04555022, 0.        , 0.02036015, 0.03668365,\n",
              "         0.01612419, 0.03499044, 0.        , 0.03506338, 0.03448049,\n",
              "         0.        , 0.        , 0.        , 0.        , 0.01969521,\n",
              "         0.        , 0.01632271, 0.04190879, 0.01119411, 0.00224518,\n",
              "         0.        , 0.00259882],\n",
              "        [0.01356263, 0.0117668 , 0.06212331, 0.        , 0.05327956,\n",
              "         0.        , 0.        , 0.04969221, 0.02719115, 0.        ,\n",
              "         0.00673595, 0.04555022, 0.        , 0.02036015, 0.03668366,\n",
              "         0.01612418, 0.03499044, 0.        , 0.03506338, 0.03448049,\n",
              "         0.        , 0.        , 0.        , 0.        , 0.01969521,\n",
              "         0.        , 0.01632271, 0.04190879, 0.0111941 , 0.00224518,\n",
              "         0.        , 0.00259882],\n",
              "        [0.01356264, 0.0117668 , 0.06212332, 0.        , 0.05327957,\n",
              "         0.        , 0.        , 0.04969221, 0.02719116, 0.        ,\n",
              "         0.00673594, 0.04555021, 0.        , 0.02036014, 0.03668366,\n",
              "         0.01612419, 0.03499043, 0.        , 0.03506338, 0.0344805 ,\n",
              "         0.        , 0.        , 0.        , 0.        , 0.01969521,\n",
              "         0.        , 0.01632272, 0.04190879, 0.01119411, 0.00224519,\n",
              "         0.        , 0.00259882],\n",
              "        [0.01356263, 0.0117668 , 0.06212332, 0.        , 0.05327958,\n",
              "         0.        , 0.        , 0.04969222, 0.02719115, 0.        ,\n",
              "         0.00673594, 0.04555023, 0.        , 0.02036015, 0.03668366,\n",
              "         0.01612419, 0.03499044, 0.        , 0.03506338, 0.0344805 ,\n",
              "         0.        , 0.        , 0.        , 0.        , 0.01969521,\n",
              "         0.        , 0.01632271, 0.04190879, 0.01119411, 0.00224518,\n",
              "         0.        , 0.00259883],\n",
              "        [0.01356262, 0.0117668 , 0.06212331, 0.        , 0.05327956,\n",
              "         0.        , 0.        , 0.04969221, 0.02719114, 0.        ,\n",
              "         0.00673595, 0.04555023, 0.        , 0.02036015, 0.03668366,\n",
              "         0.01612417, 0.03499044, 0.        , 0.03506337, 0.03448049,\n",
              "         0.        , 0.        , 0.        , 0.        , 0.01969521,\n",
              "         0.        , 0.01632271, 0.04190879, 0.01119412, 0.00224518,\n",
              "         0.        , 0.00259882],\n",
              "        [0.01356264, 0.01176682, 0.06212332, 0.        , 0.05327956,\n",
              "         0.        , 0.        , 0.04969221, 0.02719114, 0.        ,\n",
              "         0.00673596, 0.04555022, 0.        , 0.02036015, 0.03668367,\n",
              "         0.01612418, 0.03499044, 0.        , 0.03506337, 0.03448049,\n",
              "         0.        , 0.        , 0.        , 0.        , 0.01969521,\n",
              "         0.        , 0.01632271, 0.0419088 , 0.01119411, 0.0022452 ,\n",
              "         0.        , 0.00259882]]], dtype=float32)>"
            ]
          },
          "metadata": {},
          "execution_count": 113
        }
      ]
    },
    {
      "cell_type": "code",
      "source": [
        "max_pool_output"
      ],
      "metadata": {
        "colab": {
          "base_uri": "https://localhost:8080/"
        },
        "id": "7OpPBHkm4XbX",
        "outputId": "536123d3-7363-4832-9e88-2b2b81e034f0"
      },
      "execution_count": 114,
      "outputs": [
        {
          "output_type": "execute_result",
          "data": {
            "text/plain": [
              "<tf.Tensor: shape=(1, 32), dtype=float32, numpy=\n",
              "array([[0.13807374, 0.14373095, 0.14330956, 0.        , 0.12602448,\n",
              "        0.05944669, 0.07458106, 0.08220109, 0.03460443, 0.003852  ,\n",
              "        0.00899437, 0.04555023, 0.13319923, 0.05416688, 0.04705513,\n",
              "        0.11430027, 0.07845341, 0.02649251, 0.07903819, 0.08560348,\n",
              "        0.04645869, 0.08604962, 0.01123144, 0.01274404, 0.08225287,\n",
              "        0.00439279, 0.06683297, 0.0688541 , 0.05605649, 0.2002739 ,\n",
              "        0.0953401 , 0.09527008]], dtype=float32)>"
            ]
          },
          "metadata": {},
          "execution_count": 114
        }
      ]
    },
    {
      "cell_type": "code",
      "source": [
        "#Model 5: 1-dimensional convolutional layer to model sequences\n",
        "from tensorflow.keras import layers\n",
        "inputs = layers.Input(shape=(1,), dtype=tf.string)\n",
        "x = text_vectorizer(inputs)\n",
        "x = embedding(x)\n",
        "x = layers.Conv1D(filters=64, kernel_size=5, activation=\"relu\", padding=\"valid\")(x)\n",
        "x = layers.GlobalMaxPool1D()(x)\n",
        "\n",
        "\n",
        "outputs = layers.Dense(1, activation=\"sigmoid\")(x)\n",
        "model_5 = tf.keras.Model(inputs, outputs, name=\"model_5\")"
      ],
      "metadata": {
        "id": "_KPZVOzd4Ygh"
      },
      "execution_count": 117,
      "outputs": []
    },
    {
      "cell_type": "code",
      "source": [
        "model_5.compile(loss=\"binary_crossentropy\",\n",
        "               optimizer=tf.keras.optimizers.Adam(),\n",
        "                metrics=[\"accuracy\"])"
      ],
      "metadata": {
        "id": "2GSGbTTl5MLG"
      },
      "execution_count": 120,
      "outputs": []
    },
    {
      "cell_type": "code",
      "source": [
        "model_5.summary()"
      ],
      "metadata": {
        "colab": {
          "base_uri": "https://localhost:8080/"
        },
        "id": "w2k2OJiP5ZCd",
        "outputId": "06dc1d83-44ae-45d7-b1ae-51cdfa91cf7f"
      },
      "execution_count": 121,
      "outputs": [
        {
          "output_type": "stream",
          "name": "stdout",
          "text": [
            "Model: \"model_5\"\n",
            "_________________________________________________________________\n",
            " Layer (type)                Output Shape              Param #   \n",
            "=================================================================\n",
            " input_10 (InputLayer)       [(None, 1)]               0         \n",
            "                                                                 \n",
            " text_vectorization_1 (TextV  (None, 15)               0         \n",
            " ectorization)                                                   \n",
            "                                                                 \n",
            " embedding (Embedding)       (None, 15, 128)           1280000   \n",
            "                                                                 \n",
            " conv1d_2 (Conv1D)           (None, 11, 64)            41024     \n",
            "                                                                 \n",
            " global_max_pooling1d_2 (Glo  (None, 64)               0         \n",
            " balMaxPooling1D)                                                \n",
            "                                                                 \n",
            " dense_7 (Dense)             (None, 1)                 65        \n",
            "                                                                 \n",
            "=================================================================\n",
            "Total params: 1,321,089\n",
            "Trainable params: 1,321,089\n",
            "Non-trainable params: 0\n",
            "_________________________________________________________________\n"
          ]
        }
      ]
    },
    {
      "cell_type": "code",
      "source": [
        "model_5_history = model_5.fit(train_sentences,\n",
        "                              train_labels,\n",
        "                              epochs=5,\n",
        "                              validation_data=(val_sentences, val_labels),\n",
        "                              callbacks=[create_tensorboard_callback(SAVE_DIR,\n",
        "                                                                     \"Conv1D\")])"
      ],
      "metadata": {
        "colab": {
          "base_uri": "https://localhost:8080/"
        },
        "id": "cdnDuksE5hTM",
        "outputId": "e416d9e3-7896-4016-a635-4c3a02cd1b67"
      },
      "execution_count": 122,
      "outputs": [
        {
          "output_type": "stream",
          "name": "stdout",
          "text": [
            "Saving TensorBoard log files to: model_logs/Conv1D/20220727-230433\n",
            "Epoch 1/5\n",
            "215/215 [==============================] - 5s 12ms/step - loss: 0.1129 - accuracy: 0.9629 - val_loss: 1.0138 - val_accuracy: 0.7480\n",
            "Epoch 2/5\n",
            "215/215 [==============================] - 2s 8ms/step - loss: 0.0670 - accuracy: 0.9749 - val_loss: 1.1617 - val_accuracy: 0.7388\n",
            "Epoch 3/5\n",
            "215/215 [==============================] - 2s 8ms/step - loss: 0.0566 - accuracy: 0.9783 - val_loss: 1.2929 - val_accuracy: 0.7336\n",
            "Epoch 4/5\n",
            "215/215 [==============================] - 2s 9ms/step - loss: 0.0496 - accuracy: 0.9796 - val_loss: 1.3277 - val_accuracy: 0.7336\n",
            "Epoch 5/5\n",
            "215/215 [==============================] - 2s 8ms/step - loss: 0.0495 - accuracy: 0.9783 - val_loss: 1.3727 - val_accuracy: 0.7415\n"
          ]
        }
      ]
    },
    {
      "cell_type": "code",
      "source": [
        "model_5_pred_probs = model_5.predict(val_sentences)"
      ],
      "metadata": {
        "id": "1vxonHIq55iX"
      },
      "execution_count": 123,
      "outputs": []
    },
    {
      "cell_type": "code",
      "source": [
        "model_5_preds = tf.squeeze(tf.round(model_5_pred_probs))"
      ],
      "metadata": {
        "id": "Jq-US31r6CjL"
      },
      "execution_count": 124,
      "outputs": []
    },
    {
      "cell_type": "code",
      "source": [
        "model_5_preds"
      ],
      "metadata": {
        "colab": {
          "base_uri": "https://localhost:8080/"
        },
        "id": "cqEIYMl16HTM",
        "outputId": "ec4b1c7f-9824-41cc-c17e-cba243673de0"
      },
      "execution_count": 125,
      "outputs": [
        {
          "output_type": "execute_result",
          "data": {
            "text/plain": [
              "<tf.Tensor: shape=(762,), dtype=float32, numpy=\n",
              "array([0., 1., 1., 0., 1., 0., 0., 0., 1., 1., 0., 0., 1., 0., 0., 0., 1.,\n",
              "       0., 1., 1., 0., 0., 1., 1., 0., 1., 0., 0., 1., 1., 1., 0., 0., 0.,\n",
              "       0., 1., 0., 0., 1., 0., 0., 1., 1., 1., 0., 0., 0., 1., 1., 0., 0.,\n",
              "       1., 0., 0., 1., 0., 0., 0., 0., 1., 0., 0., 1., 1., 0., 1., 0., 1.,\n",
              "       1., 0., 0., 0., 0., 0., 0., 1., 0., 1., 1., 1., 0., 0., 1., 1., 0.,\n",
              "       0., 0., 1., 1., 0., 0., 0., 0., 0., 1., 0., 0., 1., 0., 0., 0., 1.,\n",
              "       1., 0., 0., 0., 1., 0., 1., 0., 0., 1., 1., 0., 0., 1., 1., 1., 1.,\n",
              "       1., 1., 1., 1., 1., 0., 0., 1., 0., 1., 1., 0., 1., 0., 0., 1., 0.,\n",
              "       0., 1., 1., 0., 0., 1., 1., 0., 0., 1., 1., 0., 0., 0., 1., 0., 0.,\n",
              "       1., 0., 0., 0., 0., 1., 0., 1., 1., 0., 0., 0., 0., 0., 0., 0., 1.,\n",
              "       1., 0., 0., 0., 1., 0., 1., 1., 0., 1., 0., 1., 0., 0., 1., 0., 1.,\n",
              "       0., 0., 0., 0., 0., 0., 0., 0., 1., 1., 0., 0., 0., 0., 1., 0., 0.,\n",
              "       0., 1., 0., 1., 1., 0., 0., 0., 0., 0., 0., 1., 1., 0., 1., 1., 1.,\n",
              "       0., 1., 0., 0., 0., 1., 1., 0., 1., 1., 1., 0., 1., 1., 0., 0., 0.,\n",
              "       1., 0., 0., 1., 0., 0., 0., 0., 0., 0., 1., 0., 1., 1., 0., 0., 0.,\n",
              "       0., 0., 0., 1., 1., 0., 1., 0., 0., 1., 0., 1., 0., 0., 1., 0., 0.,\n",
              "       1., 0., 1., 1., 1., 1., 1., 0., 1., 1., 1., 0., 1., 1., 1., 1., 1.,\n",
              "       1., 0., 0., 0., 1., 0., 1., 1., 0., 1., 1., 1., 0., 1., 1., 1., 0.,\n",
              "       0., 1., 0., 1., 1., 0., 0., 0., 0., 0., 1., 1., 1., 0., 1., 1., 1.,\n",
              "       1., 0., 1., 1., 1., 0., 0., 1., 1., 0., 0., 0., 0., 0., 0., 0., 0.,\n",
              "       0., 1., 0., 1., 0., 0., 0., 0., 1., 1., 0., 1., 0., 0., 0., 0., 0.,\n",
              "       1., 0., 1., 1., 1., 0., 0., 1., 1., 0., 1., 0., 0., 1., 0., 1., 1.,\n",
              "       0., 0., 1., 0., 1., 1., 1., 0., 0., 0., 1., 0., 1., 1., 0., 1., 1.,\n",
              "       1., 0., 0., 0., 0., 0., 1., 0., 0., 0., 0., 0., 1., 1., 1., 0., 0.,\n",
              "       1., 0., 0., 1., 1., 0., 0., 0., 0., 1., 1., 1., 0., 0., 0., 1., 0.,\n",
              "       0., 0., 0., 0., 0., 1., 0., 0., 1., 1., 1., 1., 1., 1., 1., 0., 1.,\n",
              "       0., 0., 0., 1., 1., 0., 0., 1., 0., 1., 0., 0., 0., 0., 1., 0., 1.,\n",
              "       0., 0., 1., 0., 1., 1., 0., 1., 0., 0., 0., 1., 0., 0., 0., 0., 0.,\n",
              "       1., 0., 0., 1., 0., 0., 0., 1., 0., 1., 0., 0., 1., 0., 0., 1., 1.,\n",
              "       1., 0., 1., 1., 0., 1., 1., 1., 0., 0., 0., 1., 0., 1., 1., 1., 1.,\n",
              "       1., 0., 0., 0., 0., 1., 1., 0., 0., 0., 1., 0., 0., 0., 0., 0., 1.,\n",
              "       1., 0., 1., 0., 0., 1., 0., 0., 1., 0., 1., 1., 0., 0., 1., 0., 0.,\n",
              "       1., 0., 0., 0., 0., 0., 0., 1., 1., 1., 1., 1., 1., 1., 1., 1., 1.,\n",
              "       1., 1., 0., 0., 0., 0., 1., 0., 0., 1., 0., 1., 0., 1., 1., 0., 1.,\n",
              "       1., 0., 1., 1., 1., 1., 1., 0., 0., 0., 1., 1., 1., 0., 0., 0., 1.,\n",
              "       0., 1., 1., 0., 0., 0., 1., 1., 1., 1., 1., 0., 1., 1., 0., 1., 0.,\n",
              "       1., 0., 0., 0., 0., 0., 1., 1., 0., 0., 0., 0., 1., 0., 1., 1., 1.,\n",
              "       1., 0., 1., 1., 1., 1., 0., 0., 0., 0., 0., 1., 0., 0., 0., 0., 1.,\n",
              "       0., 0., 0., 0., 1., 1., 0., 1., 0., 0., 1., 1., 1., 1., 1., 0., 0.,\n",
              "       0., 0., 0., 0., 1., 0., 1., 1., 1., 0., 0., 0., 0., 0., 1., 1., 0.,\n",
              "       1., 0., 0., 1., 1., 0., 1., 0., 1., 1., 0., 1., 0., 0., 0., 1., 0.,\n",
              "       0., 0., 0., 0., 0., 0., 0., 1., 1., 0., 0., 1., 1., 0., 0., 1., 1.,\n",
              "       1., 0., 0., 0., 1., 1., 1., 0., 1., 1., 1., 0., 0., 0., 0., 0., 0.,\n",
              "       1., 1., 0., 0., 1., 1., 0., 0., 1., 1., 0., 0., 0., 0., 0., 1., 0.,\n",
              "       0., 1., 1., 1., 1., 0., 0., 0., 0., 1., 0., 1., 1., 0.],\n",
              "      dtype=float32)>"
            ]
          },
          "metadata": {},
          "execution_count": 125
        }
      ]
    },
    {
      "cell_type": "code",
      "source": [
        "model_5_results = calculate_results(val_labels, model_5_preds)"
      ],
      "metadata": {
        "id": "CgG01_vN6JC4"
      },
      "execution_count": 126,
      "outputs": []
    },
    {
      "cell_type": "code",
      "source": [
        "model_5_results"
      ],
      "metadata": {
        "colab": {
          "base_uri": "https://localhost:8080/"
        },
        "id": "DgCFtnn_6M3O",
        "outputId": "f1173dcc-d684-4a98-878f-912659a0c282"
      },
      "execution_count": 127,
      "outputs": [
        {
          "output_type": "execute_result",
          "data": {
            "text/plain": [
              "{'accuracy': 74.1469816272966,\n",
              " 'f1': 0.7420648803393732,\n",
              " 'precision': 0.7430922932503922,\n",
              " 'recall': 0.7414698162729659}"
            ]
          },
          "metadata": {},
          "execution_count": 127
        }
      ]
    },
    {
      "cell_type": "markdown",
      "source": [
        "#Universal Sentence Encoder transfer learning"
      ],
      "metadata": {
        "id": "MUuZ0Za86NwW"
      }
    },
    {
      "cell_type": "code",
      "source": [
        "#model 5\n",
        "import tensorflow_hub as hub\n",
        "embed = hub.load(\"https://tfhub.dev/google/universal-sentence-encoder/4\")\n",
        "embed_samples = embed([sample_sentence,\"When you call a USE on a sentence, it turn sit into numbers\"])\n"
      ],
      "metadata": {
        "id": "wuA36g1u6OyR"
      },
      "execution_count": 131,
      "outputs": []
    },
    {
      "cell_type": "code",
      "source": [
        "sample_sentence"
      ],
      "metadata": {
        "colab": {
          "base_uri": "https://localhost:8080/",
          "height": 35
        },
        "id": "CP2RD5oW8SeH",
        "outputId": "c64f11c2-9130-45e0-805b-71561fa7c95a"
      },
      "execution_count": 132,
      "outputs": [
        {
          "output_type": "execute_result",
          "data": {
            "text/plain": [
              "'A tornado destroyed my house'"
            ],
            "application/vnd.google.colaboratory.intrinsic+json": {
              "type": "string"
            }
          },
          "metadata": {},
          "execution_count": 132
        }
      ]
    },
    {
      "cell_type": "code",
      "source": [
        "embed_samples[0][:50]"
      ],
      "metadata": {
        "colab": {
          "base_uri": "https://localhost:8080/"
        },
        "id": "RPDdYZK58ibB",
        "outputId": "fce0fa61-7f98-41f2-8bcd-9ec4537a1570"
      },
      "execution_count": 133,
      "outputs": [
        {
          "output_type": "execute_result",
          "data": {
            "text/plain": [
              "<tf.Tensor: shape=(50,), dtype=float32, numpy=\n",
              "array([-0.01050084, -0.00229794, -0.05725909, -0.04777098,  0.04511795,\n",
              "        0.02202453,  0.02400334,  0.0667739 , -0.00083695,  0.05448426,\n",
              "        0.05745116, -0.04347977, -0.00139513,  0.01398681,  0.046919  ,\n",
              "       -0.01260869, -0.06758504, -0.02162268, -0.00623832, -0.00575831,\n",
              "        0.01941228, -0.00105522,  0.0304017 ,  0.06340312, -0.02500383,\n",
              "       -0.07751907,  0.04895177, -0.04103375,  0.00698542, -0.0394792 ,\n",
              "        0.03514631,  0.03659685, -0.05294777,  0.02191273, -0.02828331,\n",
              "       -0.01387694,  0.05540748,  0.01839826, -0.02460213, -0.03052922,\n",
              "        0.04902494, -0.0124156 , -0.01220245, -0.05936461, -0.08365225,\n",
              "       -0.01479258, -0.0334257 , -0.00039739,  0.01519083, -0.01560132],\n",
              "      dtype=float32)>"
            ]
          },
          "metadata": {},
          "execution_count": 133
        }
      ]
    },
    {
      "cell_type": "code",
      "source": [
        "embed_samples[0].shape"
      ],
      "metadata": {
        "colab": {
          "base_uri": "https://localhost:8080/"
        },
        "id": "EBz5Y-Ow8kMO",
        "outputId": "bdedcd4b-2b8e-4f3f-e21b-369f4306eb1d"
      },
      "execution_count": 135,
      "outputs": [
        {
          "output_type": "execute_result",
          "data": {
            "text/plain": [
              "TensorShape([512])"
            ]
          },
          "metadata": {},
          "execution_count": 135
        }
      ]
    },
    {
      "cell_type": "code",
      "source": [
        "#Create keras layer using pretrained embedding layer\n",
        "sentence_encoder_layer = hub.KerasLayer(\"https://tfhub.dev/google/universal-sentence-encoder/4\",\n",
        "                                        input_shape=[],\n",
        "                                        dtype=tf.string,\n",
        "                                        trainable=False,\n",
        "                                        name=\"USE\")"
      ],
      "metadata": {
        "id": "nPPJxkZd8m_a"
      },
      "execution_count": 137,
      "outputs": []
    },
    {
      "cell_type": "code",
      "source": [
        "#model 6\n",
        "model_6 = tf.keras.Sequential([\n",
        "  sentence_encoder_layer,\n",
        "  layers.Dense(1, activation=\"sigmoid\")\n",
        "], name='model_6')\n",
        "\n",
        "model_6.compile(loss=\"binary_crossentropy\",\n",
        "                optimizer=tf.keras.optimizers.Adam(),\n",
        "                metrics=[\"accuracy\"])\n",
        "\n",
        "model_6.summary()"
      ],
      "metadata": {
        "colab": {
          "base_uri": "https://localhost:8080/"
        },
        "id": "9GyrkGpZ9BiE",
        "outputId": "d018ceb9-37c4-4918-d77e-5dab410c238c"
      },
      "execution_count": 138,
      "outputs": [
        {
          "output_type": "stream",
          "name": "stdout",
          "text": [
            "Model: \"model_6\"\n",
            "_________________________________________________________________\n",
            " Layer (type)                Output Shape              Param #   \n",
            "=================================================================\n",
            " USE (KerasLayer)            (None, 512)               256797824 \n",
            "                                                                 \n",
            " dense_8 (Dense)             (None, 1)                 513       \n",
            "                                                                 \n",
            "=================================================================\n",
            "Total params: 256,798,337\n",
            "Trainable params: 513\n",
            "Non-trainable params: 256,797,824\n",
            "_________________________________________________________________\n"
          ]
        }
      ]
    },
    {
      "cell_type": "code",
      "source": [
        "model_6_history = model_6.fit(train_sentences,\n",
        "                              train_labels,\n",
        "                              epochs=5,\n",
        "                              validation_data=(val_sentences, val_labels),\n",
        "                              callbacks=[create_tensorboard_callback(SAVE_DIR,\n",
        "                                                                     \"Transfer_Learning_THUB\")])"
      ],
      "metadata": {
        "colab": {
          "base_uri": "https://localhost:8080/"
        },
        "id": "Ybul56iv90Ds",
        "outputId": "798177f2-2d29-4e97-ab0e-d6c8d45b3854"
      },
      "execution_count": 139,
      "outputs": [
        {
          "output_type": "stream",
          "name": "stdout",
          "text": [
            "Saving TensorBoard log files to: model_logs/Transfer_Learning_THUB/20220727-232240\n",
            "Epoch 1/5\n",
            "215/215 [==============================] - 10s 28ms/step - loss: 0.6438 - accuracy: 0.7527 - val_loss: 0.6021 - val_accuracy: 0.7874\n",
            "Epoch 2/5\n",
            "215/215 [==============================] - 5s 23ms/step - loss: 0.5789 - accuracy: 0.7856 - val_loss: 0.5488 - val_accuracy: 0.7953\n",
            "Epoch 3/5\n",
            "215/215 [==============================] - 5s 22ms/step - loss: 0.5378 - accuracy: 0.7942 - val_loss: 0.5140 - val_accuracy: 0.7992\n",
            "Epoch 4/5\n",
            "215/215 [==============================] - 5s 23ms/step - loss: 0.5105 - accuracy: 0.7957 - val_loss: 0.4895 - val_accuracy: 0.8005\n",
            "Epoch 5/5\n",
            "215/215 [==============================] - 5s 22ms/step - loss: 0.4916 - accuracy: 0.7984 - val_loss: 0.4719 - val_accuracy: 0.7992\n"
          ]
        }
      ]
    },
    {
      "cell_type": "code",
      "source": [
        "model_6_pred_probs = model_6.predict(val_sentences)\n",
        "model_6_preds = tf.squeeze(tf.round(model_6_pred_probs))"
      ],
      "metadata": {
        "id": "EAhtx_cn-DA7"
      },
      "execution_count": 140,
      "outputs": []
    },
    {
      "cell_type": "code",
      "source": [
        "model_6_results = calculate_results(val_labels,\n",
        "                                    model_6_preds)"
      ],
      "metadata": {
        "id": "3lYTFiDP-OUS"
      },
      "execution_count": 141,
      "outputs": []
    },
    {
      "cell_type": "code",
      "source": [
        "model_6_results"
      ],
      "metadata": {
        "colab": {
          "base_uri": "https://localhost:8080/"
        },
        "id": "RiA0ymlS-VuM",
        "outputId": "ea0f3e34-ceff-4d1c-f34d-59d9b2668336"
      },
      "execution_count": 142,
      "outputs": [
        {
          "output_type": "execute_result",
          "data": {
            "text/plain": [
              "{'accuracy': 79.92125984251969,\n",
              " 'f1': 0.7989121284115505,\n",
              " 'precision': 0.7987486083787252,\n",
              " 'recall': 0.7992125984251969}"
            ]
          },
          "metadata": {},
          "execution_count": 142
        }
      ]
    },
    {
      "cell_type": "code",
      "source": [
        ""
      ],
      "metadata": {
        "id": "yjVHtELL-XDB"
      },
      "execution_count": null,
      "outputs": []
    }
  ]
}