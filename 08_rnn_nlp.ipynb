{
  "nbformat": 4,
  "nbformat_minor": 0,
  "metadata": {
    "colab": {
      "name": "08_rnn_nlp.ipynb",
      "provenance": [],
      "authorship_tag": "ABX9TyMbCv69vsj5DOgLCD69PPV5",
      "include_colab_link": true
    },
    "kernelspec": {
      "name": "python3",
      "display_name": "Python 3"
    },
    "language_info": {
      "name": "python"
    },
    "accelerator": "GPU",
    "gpuClass": "standard"
  },
  "cells": [
    {
      "cell_type": "markdown",
      "metadata": {
        "id": "view-in-github",
        "colab_type": "text"
      },
      "source": [
        "<a href=\"https://colab.research.google.com/github/JacksonLeb/tensorflow_learning/blob/main/08_rnn_nlp.ipynb\" target=\"_parent\"><img src=\"https://colab.research.google.com/assets/colab-badge.svg\" alt=\"Open In Colab\"/></a>"
      ]
    },
    {
      "cell_type": "markdown",
      "source": [
        "#introduction to NLP fundamentals in Tf"
      ],
      "metadata": {
        "id": "ZnD4PEygtE27"
      }
    },
    {
      "cell_type": "markdown",
      "source": [
        "##Getting info from natural language (sequences or speech)\n",
        "##NLP can also be called seq2seq problems"
      ],
      "metadata": {
        "id": "D7gQKzrXtSj_"
      }
    },
    {
      "cell_type": "markdown",
      "source": [
        "###Checking for GPU\n"
      ],
      "metadata": {
        "id": "r3iGdaTrtaso"
      }
    },
    {
      "cell_type": "code",
      "source": [
        "!nvidia-smi -L"
      ],
      "metadata": {
        "colab": {
          "base_uri": "https://localhost:8080/"
        },
        "id": "NICFwKp3ti4A",
        "outputId": "d8e87c8d-2185-49b3-f70e-e847d28810bf"
      },
      "execution_count": 1,
      "outputs": [
        {
          "output_type": "stream",
          "name": "stdout",
          "text": [
            "GPU 0: Tesla T4 (UUID: GPU-28a7f458-dd56-ff64-a1e1-24a761ea6b72)\n"
          ]
        }
      ]
    },
    {
      "cell_type": "code",
      "source": [
        "##Get helper functions\n",
        "!wget https://raw.githubusercontent.com/mrdbourke/tensorflow-deep-learning/main/extras/helper_functions.py"
      ],
      "metadata": {
        "colab": {
          "base_uri": "https://localhost:8080/"
        },
        "id": "a9pVQ8PWtk3o",
        "outputId": "7ac9e24d-8115-476f-8ff1-b8350c971c50"
      },
      "execution_count": 2,
      "outputs": [
        {
          "output_type": "stream",
          "name": "stdout",
          "text": [
            "--2022-07-25 22:27:28--  https://raw.githubusercontent.com/mrdbourke/tensorflow-deep-learning/main/extras/helper_functions.py\n",
            "Resolving raw.githubusercontent.com (raw.githubusercontent.com)... 185.199.108.133, 185.199.109.133, 185.199.110.133, ...\n",
            "Connecting to raw.githubusercontent.com (raw.githubusercontent.com)|185.199.108.133|:443... connected.\n",
            "HTTP request sent, awaiting response... 200 OK\n",
            "Length: 10246 (10K) [text/plain]\n",
            "Saving to: ‘helper_functions.py’\n",
            "\n",
            "helper_functions.py 100%[===================>]  10.01K  --.-KB/s    in 0s      \n",
            "\n",
            "2022-07-25 22:27:28 (109 MB/s) - ‘helper_functions.py’ saved [10246/10246]\n",
            "\n"
          ]
        }
      ]
    },
    {
      "cell_type": "code",
      "source": [
        "from helper_functions import unzip_data, create_tensorboard_callback, plot_loss_curves, compare_historys"
      ],
      "metadata": {
        "id": "Sv2Mb8Ant40V"
      },
      "execution_count": 3,
      "outputs": []
    },
    {
      "cell_type": "code",
      "source": [
        "##Get a text dataset\n",
        "###Using the Kaggle Intro to NLP dataset, samples of tweets labeled hazard or not\n",
        "!wget https://storage.googleapis.com/ztm_tf_course/nlp_getting_started.zip"
      ],
      "metadata": {
        "colab": {
          "base_uri": "https://localhost:8080/"
        },
        "id": "6hpLAV1suBYh",
        "outputId": "3cb8b350-e5a7-4d75-c761-01f9060f32d0"
      },
      "execution_count": 4,
      "outputs": [
        {
          "output_type": "stream",
          "name": "stdout",
          "text": [
            "--2022-07-25 22:27:31--  https://storage.googleapis.com/ztm_tf_course/nlp_getting_started.zip\n",
            "Resolving storage.googleapis.com (storage.googleapis.com)... 173.194.69.128, 173.194.79.128, 108.177.96.128, ...\n",
            "Connecting to storage.googleapis.com (storage.googleapis.com)|173.194.69.128|:443... connected.\n",
            "HTTP request sent, awaiting response... 200 OK\n",
            "Length: 607343 (593K) [application/zip]\n",
            "Saving to: ‘nlp_getting_started.zip’\n",
            "\n",
            "\rnlp_getting_started   0%[                    ]       0  --.-KB/s               \rnlp_getting_started 100%[===================>] 593.11K  --.-KB/s    in 0.005s  \n",
            "\n",
            "2022-07-25 22:27:31 (114 MB/s) - ‘nlp_getting_started.zip’ saved [607343/607343]\n",
            "\n"
          ]
        }
      ]
    },
    {
      "cell_type": "code",
      "source": [
        "unzip_data(\"nlp_getting_started.zip\")"
      ],
      "metadata": {
        "id": "S-YrbvJruXMQ"
      },
      "execution_count": 5,
      "outputs": []
    },
    {
      "cell_type": "markdown",
      "source": [
        "##Visualizing a text dataset"
      ],
      "metadata": {
        "id": "CGGTc845ubSI"
      }
    },
    {
      "cell_type": "code",
      "source": [
        "import pandas as pd\n",
        "train_df = pd.read_csv(\"train.csv\")\n",
        "test_df = pd.read_csv(\"test.csv\")\n",
        "train_df.head()"
      ],
      "metadata": {
        "colab": {
          "base_uri": "https://localhost:8080/",
          "height": 206
        },
        "id": "dXSyq2QkurM0",
        "outputId": "1ba2efed-1b12-44f0-e18e-d99482ddf9e9"
      },
      "execution_count": 6,
      "outputs": [
        {
          "output_type": "execute_result",
          "data": {
            "text/plain": [
              "   id keyword location                                               text  \\\n",
              "0   1     NaN      NaN  Our Deeds are the Reason of this #earthquake M...   \n",
              "1   4     NaN      NaN             Forest fire near La Ronge Sask. Canada   \n",
              "2   5     NaN      NaN  All residents asked to 'shelter in place' are ...   \n",
              "3   6     NaN      NaN  13,000 people receive #wildfires evacuation or...   \n",
              "4   7     NaN      NaN  Just got sent this photo from Ruby #Alaska as ...   \n",
              "\n",
              "   target  \n",
              "0       1  \n",
              "1       1  \n",
              "2       1  \n",
              "3       1  \n",
              "4       1  "
            ],
            "text/html": [
              "\n",
              "  <div id=\"df-5a53a9e1-b042-437b-82fc-c2fbe18e48e1\">\n",
              "    <div class=\"colab-df-container\">\n",
              "      <div>\n",
              "<style scoped>\n",
              "    .dataframe tbody tr th:only-of-type {\n",
              "        vertical-align: middle;\n",
              "    }\n",
              "\n",
              "    .dataframe tbody tr th {\n",
              "        vertical-align: top;\n",
              "    }\n",
              "\n",
              "    .dataframe thead th {\n",
              "        text-align: right;\n",
              "    }\n",
              "</style>\n",
              "<table border=\"1\" class=\"dataframe\">\n",
              "  <thead>\n",
              "    <tr style=\"text-align: right;\">\n",
              "      <th></th>\n",
              "      <th>id</th>\n",
              "      <th>keyword</th>\n",
              "      <th>location</th>\n",
              "      <th>text</th>\n",
              "      <th>target</th>\n",
              "    </tr>\n",
              "  </thead>\n",
              "  <tbody>\n",
              "    <tr>\n",
              "      <th>0</th>\n",
              "      <td>1</td>\n",
              "      <td>NaN</td>\n",
              "      <td>NaN</td>\n",
              "      <td>Our Deeds are the Reason of this #earthquake M...</td>\n",
              "      <td>1</td>\n",
              "    </tr>\n",
              "    <tr>\n",
              "      <th>1</th>\n",
              "      <td>4</td>\n",
              "      <td>NaN</td>\n",
              "      <td>NaN</td>\n",
              "      <td>Forest fire near La Ronge Sask. Canada</td>\n",
              "      <td>1</td>\n",
              "    </tr>\n",
              "    <tr>\n",
              "      <th>2</th>\n",
              "      <td>5</td>\n",
              "      <td>NaN</td>\n",
              "      <td>NaN</td>\n",
              "      <td>All residents asked to 'shelter in place' are ...</td>\n",
              "      <td>1</td>\n",
              "    </tr>\n",
              "    <tr>\n",
              "      <th>3</th>\n",
              "      <td>6</td>\n",
              "      <td>NaN</td>\n",
              "      <td>NaN</td>\n",
              "      <td>13,000 people receive #wildfires evacuation or...</td>\n",
              "      <td>1</td>\n",
              "    </tr>\n",
              "    <tr>\n",
              "      <th>4</th>\n",
              "      <td>7</td>\n",
              "      <td>NaN</td>\n",
              "      <td>NaN</td>\n",
              "      <td>Just got sent this photo from Ruby #Alaska as ...</td>\n",
              "      <td>1</td>\n",
              "    </tr>\n",
              "  </tbody>\n",
              "</table>\n",
              "</div>\n",
              "      <button class=\"colab-df-convert\" onclick=\"convertToInteractive('df-5a53a9e1-b042-437b-82fc-c2fbe18e48e1')\"\n",
              "              title=\"Convert this dataframe to an interactive table.\"\n",
              "              style=\"display:none;\">\n",
              "        \n",
              "  <svg xmlns=\"http://www.w3.org/2000/svg\" height=\"24px\"viewBox=\"0 0 24 24\"\n",
              "       width=\"24px\">\n",
              "    <path d=\"M0 0h24v24H0V0z\" fill=\"none\"/>\n",
              "    <path d=\"M18.56 5.44l.94 2.06.94-2.06 2.06-.94-2.06-.94-.94-2.06-.94 2.06-2.06.94zm-11 1L8.5 8.5l.94-2.06 2.06-.94-2.06-.94L8.5 2.5l-.94 2.06-2.06.94zm10 10l.94 2.06.94-2.06 2.06-.94-2.06-.94-.94-2.06-.94 2.06-2.06.94z\"/><path d=\"M17.41 7.96l-1.37-1.37c-.4-.4-.92-.59-1.43-.59-.52 0-1.04.2-1.43.59L10.3 9.45l-7.72 7.72c-.78.78-.78 2.05 0 2.83L4 21.41c.39.39.9.59 1.41.59.51 0 1.02-.2 1.41-.59l7.78-7.78 2.81-2.81c.8-.78.8-2.07 0-2.86zM5.41 20L4 18.59l7.72-7.72 1.47 1.35L5.41 20z\"/>\n",
              "  </svg>\n",
              "      </button>\n",
              "      \n",
              "  <style>\n",
              "    .colab-df-container {\n",
              "      display:flex;\n",
              "      flex-wrap:wrap;\n",
              "      gap: 12px;\n",
              "    }\n",
              "\n",
              "    .colab-df-convert {\n",
              "      background-color: #E8F0FE;\n",
              "      border: none;\n",
              "      border-radius: 50%;\n",
              "      cursor: pointer;\n",
              "      display: none;\n",
              "      fill: #1967D2;\n",
              "      height: 32px;\n",
              "      padding: 0 0 0 0;\n",
              "      width: 32px;\n",
              "    }\n",
              "\n",
              "    .colab-df-convert:hover {\n",
              "      background-color: #E2EBFA;\n",
              "      box-shadow: 0px 1px 2px rgba(60, 64, 67, 0.3), 0px 1px 3px 1px rgba(60, 64, 67, 0.15);\n",
              "      fill: #174EA6;\n",
              "    }\n",
              "\n",
              "    [theme=dark] .colab-df-convert {\n",
              "      background-color: #3B4455;\n",
              "      fill: #D2E3FC;\n",
              "    }\n",
              "\n",
              "    [theme=dark] .colab-df-convert:hover {\n",
              "      background-color: #434B5C;\n",
              "      box-shadow: 0px 1px 3px 1px rgba(0, 0, 0, 0.15);\n",
              "      filter: drop-shadow(0px 1px 2px rgba(0, 0, 0, 0.3));\n",
              "      fill: #FFFFFF;\n",
              "    }\n",
              "  </style>\n",
              "\n",
              "      <script>\n",
              "        const buttonEl =\n",
              "          document.querySelector('#df-5a53a9e1-b042-437b-82fc-c2fbe18e48e1 button.colab-df-convert');\n",
              "        buttonEl.style.display =\n",
              "          google.colab.kernel.accessAllowed ? 'block' : 'none';\n",
              "\n",
              "        async function convertToInteractive(key) {\n",
              "          const element = document.querySelector('#df-5a53a9e1-b042-437b-82fc-c2fbe18e48e1');\n",
              "          const dataTable =\n",
              "            await google.colab.kernel.invokeFunction('convertToInteractive',\n",
              "                                                     [key], {});\n",
              "          if (!dataTable) return;\n",
              "\n",
              "          const docLinkHtml = 'Like what you see? Visit the ' +\n",
              "            '<a target=\"_blank\" href=https://colab.research.google.com/notebooks/data_table.ipynb>data table notebook</a>'\n",
              "            + ' to learn more about interactive tables.';\n",
              "          element.innerHTML = '';\n",
              "          dataTable['output_type'] = 'display_data';\n",
              "          await google.colab.output.renderOutput(dataTable, element);\n",
              "          const docLink = document.createElement('div');\n",
              "          docLink.innerHTML = docLinkHtml;\n",
              "          element.appendChild(docLink);\n",
              "        }\n",
              "      </script>\n",
              "    </div>\n",
              "  </div>\n",
              "  "
            ]
          },
          "metadata": {},
          "execution_count": 6
        }
      ]
    },
    {
      "cell_type": "code",
      "source": [
        "train_df[\"text\"][0]"
      ],
      "metadata": {
        "colab": {
          "base_uri": "https://localhost:8080/",
          "height": 35
        },
        "id": "QZG6R-H5vMqh",
        "outputId": "5faad6d1-6a39-4668-c419-5159ec4ceb46"
      },
      "execution_count": 7,
      "outputs": [
        {
          "output_type": "execute_result",
          "data": {
            "text/plain": [
              "'Our Deeds are the Reason of this #earthquake May ALLAH Forgive us all'"
            ],
            "application/vnd.google.colaboratory.intrinsic+json": {
              "type": "string"
            }
          },
          "metadata": {},
          "execution_count": 7
        }
      ]
    },
    {
      "cell_type": "code",
      "source": [
        "train_df[\"text\"][10]"
      ],
      "metadata": {
        "colab": {
          "base_uri": "https://localhost:8080/",
          "height": 35
        },
        "id": "upCsjxyJvR1r",
        "outputId": "85bccd5d-0592-48ec-a455-6fad1cdfaebb"
      },
      "execution_count": 8,
      "outputs": [
        {
          "output_type": "execute_result",
          "data": {
            "text/plain": [
              "'Three people died from the heat wave so far'"
            ],
            "application/vnd.google.colaboratory.intrinsic+json": {
              "type": "string"
            }
          },
          "metadata": {},
          "execution_count": 8
        }
      ]
    },
    {
      "cell_type": "code",
      "source": [
        "train_df[\"text\"][100]"
      ],
      "metadata": {
        "colab": {
          "base_uri": "https://localhost:8080/",
          "height": 53
        },
        "id": "AaW_eFiyvUYZ",
        "outputId": "03ace122-db6a-48ac-ae29-015fe3991ae5"
      },
      "execution_count": 9,
      "outputs": [
        {
          "output_type": "execute_result",
          "data": {
            "text/plain": [
              "'.@NorwayMFA #Bahrain police had previously died in a road accident they were not killed by explosion https://t.co/gFJfgTodad'"
            ],
            "application/vnd.google.colaboratory.intrinsic+json": {
              "type": "string"
            }
          },
          "metadata": {},
          "execution_count": 9
        }
      ]
    },
    {
      "cell_type": "code",
      "source": [
        "#shuffle trianing df\n",
        "train_df_shuffled = train_df.sample(frac=1, random_state=42)\n",
        "train_df_shuffled.head()"
      ],
      "metadata": {
        "colab": {
          "base_uri": "https://localhost:8080/",
          "height": 206
        },
        "id": "T9eGhTtBvVy6",
        "outputId": "afc52411-2f17-4571-e92d-a76d39b6937d"
      },
      "execution_count": 10,
      "outputs": [
        {
          "output_type": "execute_result",
          "data": {
            "text/plain": [
              "        id      keyword               location  \\\n",
              "2644  3796  destruction                    NaN   \n",
              "2227  3185       deluge                    NaN   \n",
              "5448  7769       police                     UK   \n",
              "132    191   aftershock                    NaN   \n",
              "6845  9810       trauma  Montgomery County, MD   \n",
              "\n",
              "                                                   text  target  \n",
              "2644  So you have a new weapon that can cause un-ima...       1  \n",
              "2227  The f$&amp;@ing things I do for #GISHWHES Just...       0  \n",
              "5448  DT @georgegalloway: RT @Galloway4Mayor: ÛÏThe...       1  \n",
              "132   Aftershock back to school kick off was great. ...       0  \n",
              "6845  in response to trauma Children of Addicts deve...       0  "
            ],
            "text/html": [
              "\n",
              "  <div id=\"df-8e781c4c-72d5-4b48-bb81-983ccdd9404b\">\n",
              "    <div class=\"colab-df-container\">\n",
              "      <div>\n",
              "<style scoped>\n",
              "    .dataframe tbody tr th:only-of-type {\n",
              "        vertical-align: middle;\n",
              "    }\n",
              "\n",
              "    .dataframe tbody tr th {\n",
              "        vertical-align: top;\n",
              "    }\n",
              "\n",
              "    .dataframe thead th {\n",
              "        text-align: right;\n",
              "    }\n",
              "</style>\n",
              "<table border=\"1\" class=\"dataframe\">\n",
              "  <thead>\n",
              "    <tr style=\"text-align: right;\">\n",
              "      <th></th>\n",
              "      <th>id</th>\n",
              "      <th>keyword</th>\n",
              "      <th>location</th>\n",
              "      <th>text</th>\n",
              "      <th>target</th>\n",
              "    </tr>\n",
              "  </thead>\n",
              "  <tbody>\n",
              "    <tr>\n",
              "      <th>2644</th>\n",
              "      <td>3796</td>\n",
              "      <td>destruction</td>\n",
              "      <td>NaN</td>\n",
              "      <td>So you have a new weapon that can cause un-ima...</td>\n",
              "      <td>1</td>\n",
              "    </tr>\n",
              "    <tr>\n",
              "      <th>2227</th>\n",
              "      <td>3185</td>\n",
              "      <td>deluge</td>\n",
              "      <td>NaN</td>\n",
              "      <td>The f$&amp;amp;@ing things I do for #GISHWHES Just...</td>\n",
              "      <td>0</td>\n",
              "    </tr>\n",
              "    <tr>\n",
              "      <th>5448</th>\n",
              "      <td>7769</td>\n",
              "      <td>police</td>\n",
              "      <td>UK</td>\n",
              "      <td>DT @georgegalloway: RT @Galloway4Mayor: ÛÏThe...</td>\n",
              "      <td>1</td>\n",
              "    </tr>\n",
              "    <tr>\n",
              "      <th>132</th>\n",
              "      <td>191</td>\n",
              "      <td>aftershock</td>\n",
              "      <td>NaN</td>\n",
              "      <td>Aftershock back to school kick off was great. ...</td>\n",
              "      <td>0</td>\n",
              "    </tr>\n",
              "    <tr>\n",
              "      <th>6845</th>\n",
              "      <td>9810</td>\n",
              "      <td>trauma</td>\n",
              "      <td>Montgomery County, MD</td>\n",
              "      <td>in response to trauma Children of Addicts deve...</td>\n",
              "      <td>0</td>\n",
              "    </tr>\n",
              "  </tbody>\n",
              "</table>\n",
              "</div>\n",
              "      <button class=\"colab-df-convert\" onclick=\"convertToInteractive('df-8e781c4c-72d5-4b48-bb81-983ccdd9404b')\"\n",
              "              title=\"Convert this dataframe to an interactive table.\"\n",
              "              style=\"display:none;\">\n",
              "        \n",
              "  <svg xmlns=\"http://www.w3.org/2000/svg\" height=\"24px\"viewBox=\"0 0 24 24\"\n",
              "       width=\"24px\">\n",
              "    <path d=\"M0 0h24v24H0V0z\" fill=\"none\"/>\n",
              "    <path d=\"M18.56 5.44l.94 2.06.94-2.06 2.06-.94-2.06-.94-.94-2.06-.94 2.06-2.06.94zm-11 1L8.5 8.5l.94-2.06 2.06-.94-2.06-.94L8.5 2.5l-.94 2.06-2.06.94zm10 10l.94 2.06.94-2.06 2.06-.94-2.06-.94-.94-2.06-.94 2.06-2.06.94z\"/><path d=\"M17.41 7.96l-1.37-1.37c-.4-.4-.92-.59-1.43-.59-.52 0-1.04.2-1.43.59L10.3 9.45l-7.72 7.72c-.78.78-.78 2.05 0 2.83L4 21.41c.39.39.9.59 1.41.59.51 0 1.02-.2 1.41-.59l7.78-7.78 2.81-2.81c.8-.78.8-2.07 0-2.86zM5.41 20L4 18.59l7.72-7.72 1.47 1.35L5.41 20z\"/>\n",
              "  </svg>\n",
              "      </button>\n",
              "      \n",
              "  <style>\n",
              "    .colab-df-container {\n",
              "      display:flex;\n",
              "      flex-wrap:wrap;\n",
              "      gap: 12px;\n",
              "    }\n",
              "\n",
              "    .colab-df-convert {\n",
              "      background-color: #E8F0FE;\n",
              "      border: none;\n",
              "      border-radius: 50%;\n",
              "      cursor: pointer;\n",
              "      display: none;\n",
              "      fill: #1967D2;\n",
              "      height: 32px;\n",
              "      padding: 0 0 0 0;\n",
              "      width: 32px;\n",
              "    }\n",
              "\n",
              "    .colab-df-convert:hover {\n",
              "      background-color: #E2EBFA;\n",
              "      box-shadow: 0px 1px 2px rgba(60, 64, 67, 0.3), 0px 1px 3px 1px rgba(60, 64, 67, 0.15);\n",
              "      fill: #174EA6;\n",
              "    }\n",
              "\n",
              "    [theme=dark] .colab-df-convert {\n",
              "      background-color: #3B4455;\n",
              "      fill: #D2E3FC;\n",
              "    }\n",
              "\n",
              "    [theme=dark] .colab-df-convert:hover {\n",
              "      background-color: #434B5C;\n",
              "      box-shadow: 0px 1px 3px 1px rgba(0, 0, 0, 0.15);\n",
              "      filter: drop-shadow(0px 1px 2px rgba(0, 0, 0, 0.3));\n",
              "      fill: #FFFFFF;\n",
              "    }\n",
              "  </style>\n",
              "\n",
              "      <script>\n",
              "        const buttonEl =\n",
              "          document.querySelector('#df-8e781c4c-72d5-4b48-bb81-983ccdd9404b button.colab-df-convert');\n",
              "        buttonEl.style.display =\n",
              "          google.colab.kernel.accessAllowed ? 'block' : 'none';\n",
              "\n",
              "        async function convertToInteractive(key) {\n",
              "          const element = document.querySelector('#df-8e781c4c-72d5-4b48-bb81-983ccdd9404b');\n",
              "          const dataTable =\n",
              "            await google.colab.kernel.invokeFunction('convertToInteractive',\n",
              "                                                     [key], {});\n",
              "          if (!dataTable) return;\n",
              "\n",
              "          const docLinkHtml = 'Like what you see? Visit the ' +\n",
              "            '<a target=\"_blank\" href=https://colab.research.google.com/notebooks/data_table.ipynb>data table notebook</a>'\n",
              "            + ' to learn more about interactive tables.';\n",
              "          element.innerHTML = '';\n",
              "          dataTable['output_type'] = 'display_data';\n",
              "          await google.colab.output.renderOutput(dataTable, element);\n",
              "          const docLink = document.createElement('div');\n",
              "          docLink.innerHTML = docLinkHtml;\n",
              "          element.appendChild(docLink);\n",
              "        }\n",
              "      </script>\n",
              "    </div>\n",
              "  </div>\n",
              "  "
            ]
          },
          "metadata": {},
          "execution_count": 10
        }
      ]
    },
    {
      "cell_type": "code",
      "source": [
        "#test df\n",
        "test_df.head()"
      ],
      "metadata": {
        "colab": {
          "base_uri": "https://localhost:8080/",
          "height": 206
        },
        "id": "MsQQhmdqvYzP",
        "outputId": "fca10637-efff-42c2-e3ce-622eb2c8299c"
      },
      "execution_count": 11,
      "outputs": [
        {
          "output_type": "execute_result",
          "data": {
            "text/plain": [
              "   id keyword location                                               text\n",
              "0   0     NaN      NaN                 Just happened a terrible car crash\n",
              "1   2     NaN      NaN  Heard about #earthquake is different cities, s...\n",
              "2   3     NaN      NaN  there is a forest fire at spot pond, geese are...\n",
              "3   9     NaN      NaN           Apocalypse lighting. #Spokane #wildfires\n",
              "4  11     NaN      NaN      Typhoon Soudelor kills 28 in China and Taiwan"
            ],
            "text/html": [
              "\n",
              "  <div id=\"df-d757ae6a-9701-4210-885f-394a8739770b\">\n",
              "    <div class=\"colab-df-container\">\n",
              "      <div>\n",
              "<style scoped>\n",
              "    .dataframe tbody tr th:only-of-type {\n",
              "        vertical-align: middle;\n",
              "    }\n",
              "\n",
              "    .dataframe tbody tr th {\n",
              "        vertical-align: top;\n",
              "    }\n",
              "\n",
              "    .dataframe thead th {\n",
              "        text-align: right;\n",
              "    }\n",
              "</style>\n",
              "<table border=\"1\" class=\"dataframe\">\n",
              "  <thead>\n",
              "    <tr style=\"text-align: right;\">\n",
              "      <th></th>\n",
              "      <th>id</th>\n",
              "      <th>keyword</th>\n",
              "      <th>location</th>\n",
              "      <th>text</th>\n",
              "    </tr>\n",
              "  </thead>\n",
              "  <tbody>\n",
              "    <tr>\n",
              "      <th>0</th>\n",
              "      <td>0</td>\n",
              "      <td>NaN</td>\n",
              "      <td>NaN</td>\n",
              "      <td>Just happened a terrible car crash</td>\n",
              "    </tr>\n",
              "    <tr>\n",
              "      <th>1</th>\n",
              "      <td>2</td>\n",
              "      <td>NaN</td>\n",
              "      <td>NaN</td>\n",
              "      <td>Heard about #earthquake is different cities, s...</td>\n",
              "    </tr>\n",
              "    <tr>\n",
              "      <th>2</th>\n",
              "      <td>3</td>\n",
              "      <td>NaN</td>\n",
              "      <td>NaN</td>\n",
              "      <td>there is a forest fire at spot pond, geese are...</td>\n",
              "    </tr>\n",
              "    <tr>\n",
              "      <th>3</th>\n",
              "      <td>9</td>\n",
              "      <td>NaN</td>\n",
              "      <td>NaN</td>\n",
              "      <td>Apocalypse lighting. #Spokane #wildfires</td>\n",
              "    </tr>\n",
              "    <tr>\n",
              "      <th>4</th>\n",
              "      <td>11</td>\n",
              "      <td>NaN</td>\n",
              "      <td>NaN</td>\n",
              "      <td>Typhoon Soudelor kills 28 in China and Taiwan</td>\n",
              "    </tr>\n",
              "  </tbody>\n",
              "</table>\n",
              "</div>\n",
              "      <button class=\"colab-df-convert\" onclick=\"convertToInteractive('df-d757ae6a-9701-4210-885f-394a8739770b')\"\n",
              "              title=\"Convert this dataframe to an interactive table.\"\n",
              "              style=\"display:none;\">\n",
              "        \n",
              "  <svg xmlns=\"http://www.w3.org/2000/svg\" height=\"24px\"viewBox=\"0 0 24 24\"\n",
              "       width=\"24px\">\n",
              "    <path d=\"M0 0h24v24H0V0z\" fill=\"none\"/>\n",
              "    <path d=\"M18.56 5.44l.94 2.06.94-2.06 2.06-.94-2.06-.94-.94-2.06-.94 2.06-2.06.94zm-11 1L8.5 8.5l.94-2.06 2.06-.94-2.06-.94L8.5 2.5l-.94 2.06-2.06.94zm10 10l.94 2.06.94-2.06 2.06-.94-2.06-.94-.94-2.06-.94 2.06-2.06.94z\"/><path d=\"M17.41 7.96l-1.37-1.37c-.4-.4-.92-.59-1.43-.59-.52 0-1.04.2-1.43.59L10.3 9.45l-7.72 7.72c-.78.78-.78 2.05 0 2.83L4 21.41c.39.39.9.59 1.41.59.51 0 1.02-.2 1.41-.59l7.78-7.78 2.81-2.81c.8-.78.8-2.07 0-2.86zM5.41 20L4 18.59l7.72-7.72 1.47 1.35L5.41 20z\"/>\n",
              "  </svg>\n",
              "      </button>\n",
              "      \n",
              "  <style>\n",
              "    .colab-df-container {\n",
              "      display:flex;\n",
              "      flex-wrap:wrap;\n",
              "      gap: 12px;\n",
              "    }\n",
              "\n",
              "    .colab-df-convert {\n",
              "      background-color: #E8F0FE;\n",
              "      border: none;\n",
              "      border-radius: 50%;\n",
              "      cursor: pointer;\n",
              "      display: none;\n",
              "      fill: #1967D2;\n",
              "      height: 32px;\n",
              "      padding: 0 0 0 0;\n",
              "      width: 32px;\n",
              "    }\n",
              "\n",
              "    .colab-df-convert:hover {\n",
              "      background-color: #E2EBFA;\n",
              "      box-shadow: 0px 1px 2px rgba(60, 64, 67, 0.3), 0px 1px 3px 1px rgba(60, 64, 67, 0.15);\n",
              "      fill: #174EA6;\n",
              "    }\n",
              "\n",
              "    [theme=dark] .colab-df-convert {\n",
              "      background-color: #3B4455;\n",
              "      fill: #D2E3FC;\n",
              "    }\n",
              "\n",
              "    [theme=dark] .colab-df-convert:hover {\n",
              "      background-color: #434B5C;\n",
              "      box-shadow: 0px 1px 3px 1px rgba(0, 0, 0, 0.15);\n",
              "      filter: drop-shadow(0px 1px 2px rgba(0, 0, 0, 0.3));\n",
              "      fill: #FFFFFF;\n",
              "    }\n",
              "  </style>\n",
              "\n",
              "      <script>\n",
              "        const buttonEl =\n",
              "          document.querySelector('#df-d757ae6a-9701-4210-885f-394a8739770b button.colab-df-convert');\n",
              "        buttonEl.style.display =\n",
              "          google.colab.kernel.accessAllowed ? 'block' : 'none';\n",
              "\n",
              "        async function convertToInteractive(key) {\n",
              "          const element = document.querySelector('#df-d757ae6a-9701-4210-885f-394a8739770b');\n",
              "          const dataTable =\n",
              "            await google.colab.kernel.invokeFunction('convertToInteractive',\n",
              "                                                     [key], {});\n",
              "          if (!dataTable) return;\n",
              "\n",
              "          const docLinkHtml = 'Like what you see? Visit the ' +\n",
              "            '<a target=\"_blank\" href=https://colab.research.google.com/notebooks/data_table.ipynb>data table notebook</a>'\n",
              "            + ' to learn more about interactive tables.';\n",
              "          element.innerHTML = '';\n",
              "          dataTable['output_type'] = 'display_data';\n",
              "          await google.colab.output.renderOutput(dataTable, element);\n",
              "          const docLink = document.createElement('div');\n",
              "          docLink.innerHTML = docLinkHtml;\n",
              "          element.appendChild(docLink);\n",
              "        }\n",
              "      </script>\n",
              "    </div>\n",
              "  </div>\n",
              "  "
            ]
          },
          "metadata": {},
          "execution_count": 11
        }
      ]
    },
    {
      "cell_type": "code",
      "source": [
        "#examples of each class\n",
        "train_df.target.value_counts()"
      ],
      "metadata": {
        "colab": {
          "base_uri": "https://localhost:8080/"
        },
        "id": "eOI5KrBPvpO4",
        "outputId": "64354f52-fe59-48a6-a904-6cf52755c398"
      },
      "execution_count": 12,
      "outputs": [
        {
          "output_type": "execute_result",
          "data": {
            "text/plain": [
              "0    4342\n",
              "1    3271\n",
              "Name: target, dtype: int64"
            ]
          },
          "metadata": {},
          "execution_count": 12
        }
      ]
    },
    {
      "cell_type": "code",
      "source": [
        "#total num of samples\n",
        "len(train_df), len(test_df)"
      ],
      "metadata": {
        "colab": {
          "base_uri": "https://localhost:8080/"
        },
        "id": "FmNJ9EsKv1BD",
        "outputId": "b6d23352-1513-4247-8cac-645695522b78"
      },
      "execution_count": 13,
      "outputs": [
        {
          "output_type": "execute_result",
          "data": {
            "text/plain": [
              "(7613, 3263)"
            ]
          },
          "metadata": {},
          "execution_count": 13
        }
      ]
    },
    {
      "cell_type": "code",
      "source": [
        "#visualizing random samples\n",
        "import random\n",
        "random_index = random.randint(0, len(train_df)-5) #create random index\n",
        "for row in train_df_shuffled[[\"text\", \"target\"]][random_index:random_index +5 ].itertuples():\n",
        "  _, text, target = row\n",
        "  print(f\"Target: {target}\", \"(real disaster\" if target > 0 else \"(not real disaster)\")\n",
        "  print(f\"Text:\\n{text}\")"
      ],
      "metadata": {
        "colab": {
          "base_uri": "https://localhost:8080/"
        },
        "id": "jqgjc8eTwF6y",
        "outputId": "260d97e1-b4ce-4333-8608-d95730ad626f"
      },
      "execution_count": 14,
      "outputs": [
        {
          "output_type": "stream",
          "name": "stdout",
          "text": [
            "Target: 0 (not real disaster)\n",
            "Text:\n",
            "@ColoicCarnality You were bleeding my instincts kicked in. *She looks away and scratches the back of her head*\n",
            "Target: 1 (real disaster\n",
            "Text:\n",
            "into burning fucking buildings (2/2)\n",
            "Target: 1 (real disaster\n",
            "Text:\n",
            "#?? #???? #??? #??? MH370: Aircraft debris found on La Reunion is from missing Malaysia Airlines ...  http://t.co/hHWv0EUDFv\n",
            "Target: 0 (not real disaster)\n",
            "Text:\n",
            "To All The Meat-Loving Feminists Of The World Riot Grill Has Arrived: Pop quiz! Which do you prefer: fem... http://t.co/KmndkFa7me #art\n",
            "Target: 1 (real disaster\n",
            "Text:\n",
            "WACKOS like #MicheleBachman predict the WORLD will SOON be OBLITERATED by a burning firey INFERNO but cant accept #GlobalWarming!! HELLO!!!\n"
          ]
        }
      ]
    },
    {
      "cell_type": "code",
      "source": [
        "#splittting data into training and validation\n",
        "from sklearn.model_selection import train_test_split\n",
        "train_sentences, val_sentences, train_labels, val_labels = train_test_split(train_df_shuffled[\"text\"].to_numpy(),\n",
        "                                                                            train_df_shuffled[\"target\"].to_numpy(),\n",
        "                                                                            test_size=0.1,\n",
        "                                                                            random_state=30)"
      ],
      "metadata": {
        "id": "6D7_Msunwxry"
      },
      "execution_count": 15,
      "outputs": []
    },
    {
      "cell_type": "code",
      "source": [
        "#checking lengths of each data set\n",
        "len(train_sentences), len(val_sentences), len(train_labels), len(val_labels)"
      ],
      "metadata": {
        "colab": {
          "base_uri": "https://localhost:8080/"
        },
        "id": "NdntL4rNBpta",
        "outputId": "54e3af41-848a-4a20-d61b-bf96d9d6695e"
      },
      "execution_count": 16,
      "outputs": [
        {
          "output_type": "execute_result",
          "data": {
            "text/plain": [
              "(6851, 762, 6851, 762)"
            ]
          },
          "metadata": {},
          "execution_count": 16
        }
      ]
    },
    {
      "cell_type": "code",
      "source": [
        "#check the first 10 sentences\n",
        "train_sentences[:10]"
      ],
      "metadata": {
        "colab": {
          "base_uri": "https://localhost:8080/"
        },
        "id": "cEYvscGPCRf2",
        "outputId": "36608564-62e0-43d1-fac6-efceccff6e6b"
      },
      "execution_count": 17,
      "outputs": [
        {
          "output_type": "execute_result",
          "data": {
            "text/plain": [
              "array([\"All residents asked to 'shelter in place' are being notified by officers. No other evacuation or shelter in place orders are expected\",\n",
              "       \"@DavidJordan88 @Stephanenny Except we don't know who started the riot or if it even makes sense to credit any particular individuals...\",\n",
              "       'Shadow boxing the apocalypse',\n",
              "       \"Maybe that's what happens when a tornado meets a volcano\",\n",
              "       '#Politics Democracy\\x89Ûªs hatred for hate: \\x89Û_ Dawabsha threaten to erode Israeli democracy. Homegrown terrorism ha...  http://t.co/q8n5Tn8WME',\n",
              "       \"@TomDean86 he's alright but Hazard/Willian ain't gonna be shifted easily.\",\n",
              "       '0-day bug in fully patched OS X comes under active exploit to hijack Macs http://t.co/sbGiRvQvzb',\n",
              "       'Three Israeli soldiers wounded in West Bank terrorist attack via /r/worldnews http://t.co/su4ZVWADj7',\n",
              "       'If it\\x89Ûªs a war you came to see you will never see a waved white flag in front me.\\nI can\\x89Ûªt end up dead I wont be misled.',\n",
              "       'York Co. first responders compete to save lives in \\x89Û÷Badges for Blood\\x89Ûª #paramedic #EMS http://t.co/E65V80FCus'],\n",
              "      dtype=object)"
            ]
          },
          "metadata": {},
          "execution_count": 17
        }
      ]
    },
    {
      "cell_type": "code",
      "source": [
        "val_sentences[:10]"
      ],
      "metadata": {
        "colab": {
          "base_uri": "https://localhost:8080/"
        },
        "id": "Dd40MBTaCXFt",
        "outputId": "05d5fa2c-7675-45b2-99e3-5ad645b7c296"
      },
      "execution_count": 18,
      "outputs": [
        {
          "output_type": "execute_result",
          "data": {
            "text/plain": [
              "array(['Blaze is my bro http://t.co/UdKeSJ01mL',\n",
              "       'I was taught at school in the 1970s that piracy slavery and suicide-bombing were purely historical. No one then expected them to re-occur',\n",
              "       'http://t.co/FueRk0gWui Twelve feared killed in Pakistani air ambulance helicopter crash http://t.co/Mv7GgGlmVc',\n",
              "       \"I'm a friggin wreck destiel sucks (read the vine description)\\nhttps://t.co/MKX6Ux4OZt\",\n",
              "       'Dr. Bengston on #wildfire management: \\x89ÛÏnumbers and size of fires areas affected and costs of fighting them all show upward trend.\\x89Û\\x9d #smem',\n",
              "       '@ameenshaikh3 sir i just only wanted to make a point about @sureshpprabhu you made and said he is lying about bridge collapse.',\n",
              "       'Wow! I just won this for free The Hobbit: Desolation of Smaug UV digital download code *GIN 9 http://t.co/MjFdCrjs8j #listia',\n",
              "       'Photoset: hakogaku: ?åÊI am a kurd. i was born on a battlefield. raised on a battlefield. gunfire sirens... http://t.co/obp595W7tm',\n",
              "       'Washington Post - 4 dead dozens injured in Gaza blast near house leveled in summer war http://t.co/VjXa13n8Ap',\n",
              "       '@wocowae Police Officer Wounded Suspect Dead After Exchanging Shots http://t.co/oiOeCbsh1f ushed'],\n",
              "      dtype=object)"
            ]
          },
          "metadata": {},
          "execution_count": 18
        }
      ]
    },
    {
      "cell_type": "markdown",
      "source": [
        "## Converting text into numbers"
      ],
      "metadata": {
        "id": "nVIszkTYCY-8"
      }
    },
    {
      "cell_type": "markdown",
      "source": [
        "#Tokenization and Embedding\n",
        "##Tokenization: Each word/character is set to a number/one-hot encoding\n",
        "##Embedding: Each word/character is set to a vector, with user-defined size, allowing for information on the relationship between tokens/words/characters. Additionally, can limit size and can be learned (treated as a weight matrix)\n"
      ],
      "metadata": {
        "id": "VaehOHk5CoHW"
      }
    },
    {
      "cell_type": "code",
      "source": [
        "#Text Vectorization\n",
        "import tensorflow as tf\n",
        "from tensorflow.keras.layers import TextVectorization\n",
        "\n",
        "#Use default TextVectorization parameters\n",
        "text_vectorizer = TextVectorization(max_tokens=None, #how many words in vocabulary (automaticaly add <OOV>)\n",
        "                                    standardize=\"lower_and_strip_punctuation\", #remove fluff,\n",
        "                                    split=\"whitespace\",\n",
        "                                    ngrams=None, #create groups of n words\n",
        "                                    output_mode=\"int\", #how to map tokens to numbers\n",
        "                                    output_sequence_length=None, #how long each batch of a setence should be\n",
        "                                    pad_to_max_tokens=False)\n"
      ],
      "metadata": {
        "id": "Q0gVYSLkDOp3"
      },
      "execution_count": 19,
      "outputs": []
    },
    {
      "cell_type": "code",
      "source": [
        "#find average number of tokens (words) in the trianing tweets\n",
        "round(sum([len(i.split()) for i in train_sentences])/len(train_sentences))"
      ],
      "metadata": {
        "colab": {
          "base_uri": "https://localhost:8080/"
        },
        "id": "x-2vFBt0GNd-",
        "outputId": "a5968eea-b72d-4dc8-91a5-a6f850a22cc9"
      },
      "execution_count": 20,
      "outputs": [
        {
          "output_type": "execute_result",
          "data": {
            "text/plain": [
              "15"
            ]
          },
          "metadata": {},
          "execution_count": 20
        }
      ]
    },
    {
      "cell_type": "code",
      "source": [
        "#set up text vectorization variables\n",
        "max_vocab_length = 10000 # max num of words to have in vocabulary\n",
        "max_length = 15 #max length of a tweet that our models sees\n",
        "\n",
        "text_vectorizer = TextVectorization(max_tokens=max_vocab_length, #how many words in vocabulary (automaticaly add <OOV>)\n",
        "                                    standardize=\"lower_and_strip_punctuation\", #remove fluff,\n",
        "                                    split=\"whitespace\",\n",
        "                                    ngrams=None, #create groups of n words\n",
        "                                    output_mode=\"int\", #how to map tokens to numbers\n",
        "                                    output_sequence_length=max_length, #how long each batch of a setence should be\n",
        "                                    pad_to_max_tokens=True)"
      ],
      "metadata": {
        "id": "HbIW4m3qG2ER"
      },
      "execution_count": 21,
      "outputs": []
    },
    {
      "cell_type": "code",
      "source": [
        "#adapting text_vectorizer to training data\n",
        "text_vectorizer.adapt(train_sentences) #adapt to training data, very important"
      ],
      "metadata": {
        "id": "n0A2cWjAHPK-"
      },
      "execution_count": 22,
      "outputs": []
    },
    {
      "cell_type": "code",
      "source": [
        "train_sentences[:10]"
      ],
      "metadata": {
        "colab": {
          "base_uri": "https://localhost:8080/"
        },
        "id": "RIjbJuNvHn-Q",
        "outputId": "29960904-2b88-40a4-f810-cb0e8154aafc"
      },
      "execution_count": 23,
      "outputs": [
        {
          "output_type": "execute_result",
          "data": {
            "text/plain": [
              "array([\"All residents asked to 'shelter in place' are being notified by officers. No other evacuation or shelter in place orders are expected\",\n",
              "       \"@DavidJordan88 @Stephanenny Except we don't know who started the riot or if it even makes sense to credit any particular individuals...\",\n",
              "       'Shadow boxing the apocalypse',\n",
              "       \"Maybe that's what happens when a tornado meets a volcano\",\n",
              "       '#Politics Democracy\\x89Ûªs hatred for hate: \\x89Û_ Dawabsha threaten to erode Israeli democracy. Homegrown terrorism ha...  http://t.co/q8n5Tn8WME',\n",
              "       \"@TomDean86 he's alright but Hazard/Willian ain't gonna be shifted easily.\",\n",
              "       '0-day bug in fully patched OS X comes under active exploit to hijack Macs http://t.co/sbGiRvQvzb',\n",
              "       'Three Israeli soldiers wounded in West Bank terrorist attack via /r/worldnews http://t.co/su4ZVWADj7',\n",
              "       'If it\\x89Ûªs a war you came to see you will never see a waved white flag in front me.\\nI can\\x89Ûªt end up dead I wont be misled.',\n",
              "       'York Co. first responders compete to save lives in \\x89Û÷Badges for Blood\\x89Ûª #paramedic #EMS http://t.co/E65V80FCus'],\n",
              "      dtype=object)"
            ]
          },
          "metadata": {},
          "execution_count": 23
        }
      ]
    },
    {
      "cell_type": "code",
      "source": [
        "#Create sample setnces and tokenize it\n",
        "sample_sentence = \"A tornado destroyed my house\"\n",
        "text_vectorizer([sample_sentence])"
      ],
      "metadata": {
        "colab": {
          "base_uri": "https://localhost:8080/"
        },
        "id": "ghPJeZTdHpmP",
        "outputId": "05e2bbe6-f04a-4e07-d8d1-957ffb57cc58"
      },
      "execution_count": 24,
      "outputs": [
        {
          "output_type": "execute_result",
          "data": {
            "text/plain": [
              "<tf.Tensor: shape=(1, 15), dtype=int64, numpy=\n",
              "array([[  3, 595, 346,  13, 311,   0,   0,   0,   0,   0,   0,   0,   0,\n",
              "          0,   0]])>"
            ]
          },
          "metadata": {},
          "execution_count": 24
        }
      ]
    },
    {
      "cell_type": "code",
      "source": [
        "#Choose a random sentence from the triaing dataset and vectorize it\n",
        "random_sentence = random.choice(train_sentences)\n",
        "print(f\"original sentence: {random_sentence}\\n vectorized sentence: {text_vectorizer([random_sentence])}\")"
      ],
      "metadata": {
        "colab": {
          "base_uri": "https://localhost:8080/"
        },
        "id": "G1A_HeIgH1dl",
        "outputId": "2edb650a-6a9d-4293-d40c-66eb475bad08"
      },
      "execution_count": 25,
      "outputs": [
        {
          "output_type": "stream",
          "name": "stdout",
          "text": [
            "original sentence: @PipRhys I predict a riot.\n",
            " vectorized sentence: [[9786    8 2793    3  480    0    0    0    0    0    0    0    0    0\n",
            "     0]]\n"
          ]
        }
      ]
    },
    {
      "cell_type": "code",
      "source": [
        "#number of unique words found in train_sentences\n",
        "words_in_vocab = text_vectorizer.get_vocabulary()\n",
        "top_5_words = words_in_vocab[:5]\n",
        "bottom_5_words = words_in_vocab[-5:]\n",
        "print(f\"Num of words: {len(words_in_vocab)}\")\n",
        "top_5_words, bottom_5_words"
      ],
      "metadata": {
        "colab": {
          "base_uri": "https://localhost:8080/"
        },
        "id": "DjHVULaBIOds",
        "outputId": "075320a6-b0fd-4166-d892-a73c94f4574e"
      },
      "execution_count": 26,
      "outputs": [
        {
          "output_type": "stream",
          "name": "stdout",
          "text": [
            "Num of words: 10000\n"
          ]
        },
        {
          "output_type": "execute_result",
          "data": {
            "text/plain": [
              "(['', '[UNK]', 'the', 'a', 'in'],\n",
              " ['panda', 'panama', 'pampalmater', 'palmoil', 'palmer'])"
            ]
          },
          "metadata": {},
          "execution_count": 26
        }
      ]
    },
    {
      "cell_type": "markdown",
      "source": [
        "### Creating an embedding using an embedding layer\n"
      ],
      "metadata": {
        "id": "ZAjowXaIIfNw"
      }
    },
    {
      "cell_type": "code",
      "source": [
        "#using tensorflow.keras.layeres.Embedding\n",
        "##Parameters: input_dim, output_dim, input_length\n",
        "from tensorflow.keras import layers\n",
        "\n",
        "embedding = layers.Embedding(input_dim=max_vocab_length,\n",
        "                             output_dim=128,\n",
        "                             input_length=max_length)\n",
        "embedding"
      ],
      "metadata": {
        "colab": {
          "base_uri": "https://localhost:8080/"
        },
        "id": "t6Yg2so4JQwK",
        "outputId": "cee723f5-de9b-4a05-d8f3-89c9f625e392"
      },
      "execution_count": 27,
      "outputs": [
        {
          "output_type": "execute_result",
          "data": {
            "text/plain": [
              "<keras.layers.embeddings.Embedding at 0x7f93b00ffad0>"
            ]
          },
          "metadata": {},
          "execution_count": 27
        }
      ]
    },
    {
      "cell_type": "code",
      "source": [
        "#get a random sentence\n",
        "random_sentence = random.choice(train_sentences)\n",
        "print(f\"random sentence: {random_sentence}\")\n",
        "print(f\"embedded:\")\n",
        "sample_embed = embedding(text_vectorizer([random_sentence]))\n",
        "sample_embed"
      ],
      "metadata": {
        "colab": {
          "base_uri": "https://localhost:8080/"
        },
        "id": "RP6-vW_-KAkY",
        "outputId": "ecd9b54d-e59b-4f7e-db0c-fd439b6be27b"
      },
      "execution_count": 28,
      "outputs": [
        {
          "output_type": "stream",
          "name": "stdout",
          "text": [
            "random sentence: Fear Factory - Cars (Official MusicVideo) http://t.co/UUzaUMdObc\n",
            "embedded:\n"
          ]
        },
        {
          "output_type": "execute_result",
          "data": {
            "text/plain": [
              "<tf.Tensor: shape=(1, 15, 128), dtype=float32, numpy=\n",
              "array([[[ 0.03630776, -0.03820932, -0.00445824, ..., -0.04886023,\n",
              "         -0.02145875,  0.04040292],\n",
              "        [-0.01063418,  0.00336517,  0.01590541, ..., -0.047716  ,\n",
              "         -0.03535693, -0.03974954],\n",
              "        [-0.01511597,  0.02685222,  0.00669716, ...,  0.03934802,\n",
              "          0.03094483, -0.02585809],\n",
              "        ...,\n",
              "        [-0.01007362, -0.0152952 , -0.00491195, ..., -0.0267398 ,\n",
              "          0.01454201, -0.00249864],\n",
              "        [-0.01007362, -0.0152952 , -0.00491195, ..., -0.0267398 ,\n",
              "          0.01454201, -0.00249864],\n",
              "        [-0.01007362, -0.0152952 , -0.00491195, ..., -0.0267398 ,\n",
              "          0.01454201, -0.00249864]]], dtype=float32)>"
            ]
          },
          "metadata": {},
          "execution_count": 28
        }
      ]
    },
    {
      "cell_type": "code",
      "source": [
        "sample_embed[0][0], sample_embed[0][0].shape, "
      ],
      "metadata": {
        "colab": {
          "base_uri": "https://localhost:8080/"
        },
        "id": "bnJWDCi5KZIY",
        "outputId": "e8115b02-ddb0-4153-de94-a059a22ffc66"
      },
      "execution_count": 29,
      "outputs": [
        {
          "output_type": "execute_result",
          "data": {
            "text/plain": [
              "(<tf.Tensor: shape=(128,), dtype=float32, numpy=\n",
              " array([ 0.03630776, -0.03820932, -0.00445824,  0.00122439, -0.03274621,\n",
              "         0.03877516,  0.02226405,  0.03202726,  0.02943074,  0.04005379,\n",
              "         0.03334017, -0.03114922, -0.01374232, -0.01096838, -0.02020562,\n",
              "        -0.03324328, -0.03869898, -0.02142135, -0.0289169 ,  0.04141949,\n",
              "        -0.01022698, -0.02106804, -0.00709133, -0.04640056, -0.0066442 ,\n",
              "         0.01029294, -0.0002417 ,  0.02963665, -0.03526785, -0.01382786,\n",
              "        -0.02770214,  0.00579495, -0.03142303, -0.01239208, -0.02850951,\n",
              "         0.01319606,  0.02045951,  0.04064058,  0.00234356,  0.01939703,\n",
              "        -0.00700695, -0.01180419,  0.03196505,  0.01736821,  0.03173614,\n",
              "         0.03339514, -0.04529649, -0.03753884, -0.01445227, -0.04492917,\n",
              "        -0.01459052,  0.04039009,  0.02911403, -0.02472272, -0.01846645,\n",
              "        -0.03449081,  0.00277895, -0.03346279, -0.02423668,  0.02207308,\n",
              "        -0.00086076, -0.00553368,  0.00775637,  0.00055003,  0.01623397,\n",
              "        -0.00508944, -0.03051971, -0.03313917, -0.0340807 , -0.03915399,\n",
              "         0.02814974,  0.03711418,  0.02383104,  0.02332044, -0.03635027,\n",
              "        -0.01044893,  0.03457763,  0.02880517, -0.04135749,  0.01439914,\n",
              "         0.03217116,  0.01777336, -0.04666885,  0.00983722,  0.04613535,\n",
              "         0.02318392,  0.03009957, -0.04023329, -0.02269675, -0.02012995,\n",
              "         0.04829177,  0.00322075,  0.02935803,  0.04490327, -0.03398142,\n",
              "        -0.02239103, -0.02253056, -0.01467919,  0.00216113, -0.03639187,\n",
              "         0.04926981, -0.0139572 ,  0.01000435,  0.00384854, -0.0498221 ,\n",
              "        -0.03396585, -0.04681909, -0.00067405, -0.04841296, -0.02839797,\n",
              "        -0.029682  , -0.02088735, -0.01383115,  0.04947801, -0.01804908,\n",
              "        -0.02202847, -0.03116748, -0.02451308,  0.01202303, -0.01571264,\n",
              "        -0.04072546,  0.01859863,  0.03050194, -0.02686331,  0.04417976,\n",
              "        -0.04886023, -0.02145875,  0.04040292], dtype=float32)>,\n",
              " TensorShape([128]))"
            ]
          },
          "metadata": {},
          "execution_count": 29
        }
      ]
    },
    {
      "cell_type": "markdown",
      "source": [
        "##Modelling a text dataset (running series of experiments)\n",
        "###1. Naive bayes with Tf-IDF encoder (BASELINE)\n",
        "###2. Feed-forward neural network \n",
        "###3. LSTM\n",
        "###4. GRU\n",
        "###5. Bidirectiona;-LSTM\n",
        "###6. 1D CNN\n",
        "###7. TFHub pretrianed feature extractor\n",
        "###8. TFHub pretrained with 10% of trained datam\n",
        "\n"
      ],
      "metadata": {
        "id": "0DBYy9VgKz6Q"
      }
    },
    {
      "cell_type": "code",
      "source": [
        "###Model 0: Getting a baseline - Skleanrs multinomial naive bayes with tf-idf\n",
        "from sklearn.feature_extraction.text import TfidfVectorizer\n",
        "from sklearn.naive_bayes import MultinomialNB\n",
        "from sklearn.pipeline import Pipeline\n",
        "\n",
        "model_0 = Pipeline([\n",
        "                    (\"tfidf\", TfidfVectorizer()), #convert words to numbers\n",
        "                    (\"clf\", MultinomialNB()) #model the text\n",
        "\n",
        "])\n",
        "\n",
        "#fit the pipeline to the training data\n",
        "model_0.fit(train_sentences, train_labels)"
      ],
      "metadata": {
        "colab": {
          "base_uri": "https://localhost:8080/"
        },
        "id": "XkOIC43piGTm",
        "outputId": "87448a91-e74c-4e3d-c45c-cba5dd8d45e6"
      },
      "execution_count": 30,
      "outputs": [
        {
          "output_type": "execute_result",
          "data": {
            "text/plain": [
              "Pipeline(steps=[('tfidf', TfidfVectorizer()), ('clf', MultinomialNB())])"
            ]
          },
          "metadata": {},
          "execution_count": 30
        }
      ]
    },
    {
      "cell_type": "code",
      "source": [
        "#Evaluate our baseline model\n",
        "baseline_score = model_0.score(val_sentences, val_labels)"
      ],
      "metadata": {
        "id": "O5X_siMrizGj"
      },
      "execution_count": 31,
      "outputs": []
    },
    {
      "cell_type": "code",
      "source": [
        "baseline_score"
      ],
      "metadata": {
        "colab": {
          "base_uri": "https://localhost:8080/"
        },
        "id": "6BOnGaYPi9ve",
        "outputId": "86a0063e-932c-4dd3-8860-48ddaea6f455"
      },
      "execution_count": 32,
      "outputs": [
        {
          "output_type": "execute_result",
          "data": {
            "text/plain": [
              "0.8044619422572179"
            ]
          },
          "metadata": {},
          "execution_count": 32
        }
      ]
    },
    {
      "cell_type": "code",
      "source": [
        "print(f\"Baseline Score: {baseline_score*100:.2f}%\")"
      ],
      "metadata": {
        "colab": {
          "base_uri": "https://localhost:8080/"
        },
        "id": "7Hashe3Ii-nf",
        "outputId": "54ad9fbe-952e-4eb2-a254-b4537804809c"
      },
      "execution_count": 34,
      "outputs": [
        {
          "output_type": "stream",
          "name": "stdout",
          "text": [
            "Baseline Score: 80.45%\n"
          ]
        }
      ]
    },
    {
      "cell_type": "code",
      "source": [
        "baseline_preds = model_0.predict(val_sentences)\n",
        "baseline_preds[:30]"
      ],
      "metadata": {
        "colab": {
          "base_uri": "https://localhost:8080/"
        },
        "id": "BEoJh2s0jJqo",
        "outputId": "ac822c49-b253-4702-8a98-97c679e2ccd4"
      },
      "execution_count": 36,
      "outputs": [
        {
          "output_type": "execute_result",
          "data": {
            "text/plain": [
              "array([0, 1, 1, 0, 1, 0, 0, 0, 1, 1, 0, 0, 1, 0, 0, 0, 1, 0, 1, 0, 0, 0,\n",
              "       1, 1, 0, 1, 0, 0, 1, 1])"
            ]
          },
          "metadata": {},
          "execution_count": 36
        }
      ]
    },
    {
      "cell_type": "code",
      "source": [
        "### creating an evaluation function for our modeling experiements\n",
        "#Accuracy, Precision, Recall and f1-score\n",
        "from sklearn.metrics import accuracy_score, precision_recall_fscore_support\n",
        "\n",
        "def calculate_results(y_true, y_pred):\n",
        "  \"\"\"\n",
        "  Calculate model accuracy, preicision, recall and f1-score\n",
        "  \"\"\"\n",
        "  #calculate model accuracy\n",
        "  model_accuracy = accuracy_score(y_true, y_pred) * 100\n",
        "  \n",
        "  #precision, recall and f1-score(using weighted average)\n",
        "  model_precision, model_recall, model_f1, _ = precision_recall_fscore_support(y_true, y_pred, average=\"weighted\")\n",
        "  \n",
        "  model_results = {\n",
        "      \"accuracy\": model_accuracy,\n",
        "      \"precision\": model_precision,\n",
        "      \"recall\": model_recall,\n",
        "      \"f1\": model_f1\n",
        "  }\n",
        "\n",
        "  return model_results"
      ],
      "metadata": {
        "id": "DdUR34FxjRYZ"
      },
      "execution_count": 37,
      "outputs": []
    },
    {
      "cell_type": "code",
      "source": [
        "baseline_results = calculate_results(val_labels, baseline_preds)\n",
        "baseline_results"
      ],
      "metadata": {
        "colab": {
          "base_uri": "https://localhost:8080/"
        },
        "id": "tjVdDGjnk_q_",
        "outputId": "2e1d8021-6e23-4654-f340-137c62fb02fc"
      },
      "execution_count": 38,
      "outputs": [
        {
          "output_type": "execute_result",
          "data": {
            "text/plain": [
              "{'accuracy': 80.4461942257218,\n",
              " 'f1': 0.7993754401853582,\n",
              " 'precision': 0.8113250534023555,\n",
              " 'recall': 0.8044619422572179}"
            ]
          },
          "metadata": {},
          "execution_count": 38
        }
      ]
    },
    {
      "cell_type": "code",
      "source": [
        "### Model 1: Feed Forward NN\n",
        "\n",
        "# Create tensorboard callback (need to create a new one for each model)\n",
        "from helper_functions import create_tensorboard_callback\n",
        "\n",
        "# Create directory to save TensorBoard logs\n",
        "SAVE_DIR = \"model_logs\"\n"
      ],
      "metadata": {
        "id": "Y0JBzhS5lGDW"
      },
      "execution_count": 55,
      "outputs": []
    },
    {
      "cell_type": "code",
      "source": [
        "# Build model with the Functional API\n",
        "from tensorflow.keras import layers\n",
        "inputs = layers.Input(shape=(1,), dtype=\"string\") # inputs are 1-dimensional strings\n",
        "x = text_vectorizer(inputs) # turn the input text into numbers\n",
        "x = embedding(x) # create an embedding of the numerized numbers\n",
        "x = layers.GlobalAveragePooling1D()(x) # lower the dimensionality of the embedding (try running the model without this layer and see what happens)\n",
        "outputs = layers.Dense(1, activation=\"sigmoid\")(x) # create the output layer, want binary outputs so use sigmoid activation\n",
        "model_1 = tf.keras.Model(inputs, outputs, name=\"model_1_dense\") # construct the model"
      ],
      "metadata": {
        "id": "PwSRLYpsl56K"
      },
      "execution_count": 56,
      "outputs": []
    },
    {
      "cell_type": "code",
      "source": [
        "model_1.summary()"
      ],
      "metadata": {
        "colab": {
          "base_uri": "https://localhost:8080/"
        },
        "id": "imqHX2FbmaFz",
        "outputId": "280d6e3b-97fa-4f28-c86f-c8c1e7f3f43a"
      },
      "execution_count": 57,
      "outputs": [
        {
          "output_type": "stream",
          "name": "stdout",
          "text": [
            "Model: \"model_1_dense\"\n",
            "_________________________________________________________________\n",
            " Layer (type)                Output Shape              Param #   \n",
            "=================================================================\n",
            " input_3 (InputLayer)        [(None, 1)]               0         \n",
            "                                                                 \n",
            " text_vectorization_1 (TextV  (None, 15)               0         \n",
            " ectorization)                                                   \n",
            "                                                                 \n",
            " embedding (Embedding)       (None, 15, 128)           1280000   \n",
            "                                                                 \n",
            " global_average_pooling1d_1   (None, 128)              0         \n",
            " (GlobalAveragePooling1D)                                        \n",
            "                                                                 \n",
            " dense_2 (Dense)             (None, 1)                 129       \n",
            "                                                                 \n",
            "=================================================================\n",
            "Total params: 1,280,129\n",
            "Trainable params: 1,280,129\n",
            "Non-trainable params: 0\n",
            "_________________________________________________________________\n"
          ]
        }
      ]
    },
    {
      "cell_type": "code",
      "source": [
        "# Compile model\n",
        "model_1.compile(loss=\"binary_crossentropy\",\n",
        "                optimizer=tf.keras.optimizers.Adam(),\n",
        "                metrics=[\"accuracy\"])"
      ],
      "metadata": {
        "id": "fTEaytjamd00"
      },
      "execution_count": 58,
      "outputs": []
    },
    {
      "cell_type": "code",
      "source": [
        "model_1_history = model_1.fit(x=train_sentences,\n",
        "                              y=train_labels,\n",
        "                              epochs=5,\n",
        "                              validation_data=(val_sentences, val_labels),\n",
        "                              callbacks=[create_tensorboard_callback(dir_name=SAVE_DIR,\n",
        "                                                                     experiment_name=\"model_1_dense\")])"
      ],
      "metadata": {
        "colab": {
          "base_uri": "https://localhost:8080/"
        },
        "id": "unGFznThnF8F",
        "outputId": "a18d6947-4598-470c-9cb7-7fffc7094b24"
      },
      "execution_count": 59,
      "outputs": [
        {
          "output_type": "stream",
          "name": "stdout",
          "text": [
            "Saving TensorBoard log files to: model_logs/model_1_dense/20220725-231623\n",
            "Epoch 1/5\n",
            "215/215 [==============================] - 5s 5ms/step - loss: 0.6118 - accuracy: 0.6894 - val_loss: 0.5161 - val_accuracy: 0.7822\n",
            "Epoch 2/5\n",
            "215/215 [==============================] - 1s 4ms/step - loss: 0.4424 - accuracy: 0.8187 - val_loss: 0.4420 - val_accuracy: 0.7940\n",
            "Epoch 3/5\n",
            "215/215 [==============================] - 1s 4ms/step - loss: 0.3482 - accuracy: 0.8583 - val_loss: 0.4304 - val_accuracy: 0.8163\n",
            "Epoch 4/5\n",
            "215/215 [==============================] - 1s 4ms/step - loss: 0.2851 - accuracy: 0.8904 - val_loss: 0.4391 - val_accuracy: 0.8123\n",
            "Epoch 5/5\n",
            "215/215 [==============================] - 1s 4ms/step - loss: 0.2372 - accuracy: 0.9110 - val_loss: 0.4604 - val_accuracy: 0.8018\n"
          ]
        }
      ]
    },
    {
      "cell_type": "code",
      "source": [
        "#check the results\n",
        "model_1.evaluate(val_sentences, val_labels)"
      ],
      "metadata": {
        "colab": {
          "base_uri": "https://localhost:8080/"
        },
        "id": "Eb3VDnQUoCdn",
        "outputId": "3ba5e172-b677-4133-a2a3-4f265fa8cdcd"
      },
      "execution_count": 60,
      "outputs": [
        {
          "output_type": "stream",
          "name": "stdout",
          "text": [
            "24/24 [==============================] - 0s 4ms/step - loss: 0.4604 - accuracy: 0.8018\n"
          ]
        },
        {
          "output_type": "execute_result",
          "data": {
            "text/plain": [
              "[0.460441917181015, 0.8018372654914856]"
            ]
          },
          "metadata": {},
          "execution_count": 60
        }
      ]
    },
    {
      "cell_type": "code",
      "source": [
        "model_1_pred_probs = model_1.predict(val_sentences)\n",
        "model_1_pred_probs"
      ],
      "metadata": {
        "colab": {
          "base_uri": "https://localhost:8080/"
        },
        "id": "k6778pBuptaD",
        "outputId": "e21e634a-2c5c-4d92-f830-c94f5575642d"
      },
      "execution_count": 61,
      "outputs": [
        {
          "output_type": "execute_result",
          "data": {
            "text/plain": [
              "array([[4.47615385e-02],\n",
              "       [6.48659945e-01],\n",
              "       [9.98234630e-01],\n",
              "       [1.09312452e-01],\n",
              "       [9.74001110e-01],\n",
              "       [5.12504950e-02],\n",
              "       [6.38423907e-03],\n",
              "       [1.75525859e-01],\n",
              "       [9.96820688e-01],\n",
              "       [9.78685498e-01],\n",
              "       [2.46737767e-02],\n",
              "       [1.96991459e-01],\n",
              "       [9.99553621e-01],\n",
              "       [4.73157652e-02],\n",
              "       [5.00250384e-02],\n",
              "       [5.19756496e-01],\n",
              "       [9.98041868e-01],\n",
              "       [2.36845255e-01],\n",
              "       [5.99966466e-01],\n",
              "       [4.76100892e-01],\n",
              "       [1.02969714e-01],\n",
              "       [3.17111075e-01],\n",
              "       [9.04221773e-01],\n",
              "       [5.93289316e-01],\n",
              "       [3.27259570e-01],\n",
              "       [9.98970628e-01],\n",
              "       [2.42150813e-01],\n",
              "       [2.47893520e-02],\n",
              "       [9.69103038e-01],\n",
              "       [9.99899864e-01],\n",
              "       [9.99446094e-01],\n",
              "       [1.67539239e-01],\n",
              "       [4.18343872e-01],\n",
              "       [3.35347988e-02],\n",
              "       [6.88077286e-02],\n",
              "       [9.70032930e-01],\n",
              "       [7.41307717e-03],\n",
              "       [4.12475169e-01],\n",
              "       [3.84077042e-01],\n",
              "       [3.91551778e-02],\n",
              "       [4.05353993e-01],\n",
              "       [9.56774890e-01],\n",
              "       [9.32098031e-01],\n",
              "       [3.39258343e-01],\n",
              "       [3.35653825e-03],\n",
              "       [4.97989766e-02],\n",
              "       [2.22422421e-01],\n",
              "       [9.97903109e-01],\n",
              "       [1.99351668e-01],\n",
              "       [2.55157650e-01],\n",
              "       [3.46491486e-01],\n",
              "       [9.65203643e-01],\n",
              "       [3.17091435e-01],\n",
              "       [1.71704084e-01],\n",
              "       [1.41653895e-01],\n",
              "       [5.79724461e-03],\n",
              "       [1.31482616e-01],\n",
              "       [1.16943836e-01],\n",
              "       [6.76844299e-01],\n",
              "       [9.40205455e-01],\n",
              "       [2.09858447e-01],\n",
              "       [6.46515414e-02],\n",
              "       [9.52868760e-01],\n",
              "       [9.99038577e-01],\n",
              "       [1.88140068e-02],\n",
              "       [9.99402404e-01],\n",
              "       [1.32372916e-01],\n",
              "       [9.74412739e-01],\n",
              "       [3.38817418e-01],\n",
              "       [3.90739739e-02],\n",
              "       [2.33799338e-01],\n",
              "       [9.01701450e-02],\n",
              "       [1.10268183e-01],\n",
              "       [2.91425169e-01],\n",
              "       [1.99496821e-01],\n",
              "       [9.66943622e-01],\n",
              "       [6.80622637e-01],\n",
              "       [9.98755813e-01],\n",
              "       [9.99243021e-01],\n",
              "       [9.62663472e-01],\n",
              "       [1.03735708e-01],\n",
              "       [8.72633681e-02],\n",
              "       [5.00377774e-01],\n",
              "       [8.26146185e-01],\n",
              "       [4.11541641e-01],\n",
              "       [6.89842701e-01],\n",
              "       [2.59701591e-02],\n",
              "       [9.74607766e-01],\n",
              "       [1.87880203e-01],\n",
              "       [7.39323720e-02],\n",
              "       [9.72235277e-02],\n",
              "       [2.05869362e-01],\n",
              "       [2.03127880e-02],\n",
              "       [3.86024266e-02],\n",
              "       [9.83176231e-01],\n",
              "       [8.97840858e-02],\n",
              "       [5.48486531e-01],\n",
              "       [4.76886332e-01],\n",
              "       [2.60540605e-01],\n",
              "       [7.29989037e-02],\n",
              "       [1.14033930e-01],\n",
              "       [2.31256306e-01],\n",
              "       [9.48326290e-01],\n",
              "       [4.04986106e-02],\n",
              "       [7.43406937e-02],\n",
              "       [6.51468039e-02],\n",
              "       [6.01371527e-01],\n",
              "       [5.60955480e-02],\n",
              "       [2.69897491e-01],\n",
              "       [1.59344718e-01],\n",
              "       [2.88961604e-02],\n",
              "       [8.40998471e-01],\n",
              "       [9.56695974e-01],\n",
              "       [3.11137110e-01],\n",
              "       [3.42336707e-02],\n",
              "       [5.14164209e-01],\n",
              "       [8.99312675e-01],\n",
              "       [9.62494671e-01],\n",
              "       [9.97823715e-01],\n",
              "       [3.65460902e-01],\n",
              "       [9.96318579e-01],\n",
              "       [1.20824039e-01],\n",
              "       [9.98489857e-01],\n",
              "       [9.97429311e-01],\n",
              "       [1.23477541e-02],\n",
              "       [4.87766892e-01],\n",
              "       [9.73968327e-01],\n",
              "       [4.95313108e-01],\n",
              "       [9.99361217e-01],\n",
              "       [8.66686165e-01],\n",
              "       [2.04132661e-01],\n",
              "       [9.60709095e-01],\n",
              "       [3.04637253e-01],\n",
              "       [5.60257435e-02],\n",
              "       [9.43334520e-01],\n",
              "       [9.81167406e-02],\n",
              "       [4.14420605e-01],\n",
              "       [9.99749601e-01],\n",
              "       [9.99840260e-01],\n",
              "       [2.40675554e-01],\n",
              "       [2.51438022e-02],\n",
              "       [8.92850935e-01],\n",
              "       [9.29882824e-01],\n",
              "       [8.19445252e-01],\n",
              "       [3.60858858e-01],\n",
              "       [8.90558362e-01],\n",
              "       [5.88534474e-01],\n",
              "       [2.11814456e-02],\n",
              "       [3.19555014e-01],\n",
              "       [7.41684576e-03],\n",
              "       [9.95814621e-01],\n",
              "       [4.89300787e-01],\n",
              "       [3.48146190e-03],\n",
              "       [9.40551937e-01],\n",
              "       [5.13425469e-02],\n",
              "       [6.24818243e-02],\n",
              "       [9.39038470e-02],\n",
              "       [4.59255069e-01],\n",
              "       [9.40843344e-01],\n",
              "       [2.79997766e-01],\n",
              "       [9.66455758e-01],\n",
              "       [9.97894466e-01],\n",
              "       [7.93928802e-01],\n",
              "       [1.14911012e-01],\n",
              "       [4.99484502e-02],\n",
              "       [3.02224994e-01],\n",
              "       [2.62857318e-01],\n",
              "       [2.58976743e-02],\n",
              "       [4.84201498e-02],\n",
              "       [6.73380852e-01],\n",
              "       [9.77246404e-01],\n",
              "       [2.94483095e-01],\n",
              "       [6.14730604e-02],\n",
              "       [7.98095483e-03],\n",
              "       [3.74757230e-01],\n",
              "       [3.53239551e-02],\n",
              "       [9.46114719e-01],\n",
              "       [8.83722067e-01],\n",
              "       [1.77870542e-02],\n",
              "       [8.39215815e-01],\n",
              "       [6.76786602e-02],\n",
              "       [7.87865877e-01],\n",
              "       [3.14388499e-02],\n",
              "       [4.76835102e-01],\n",
              "       [3.54325682e-01],\n",
              "       [2.22414806e-02],\n",
              "       [9.99282777e-01],\n",
              "       [7.55491436e-01],\n",
              "       [4.94530737e-01],\n",
              "       [9.36757997e-02],\n",
              "       [1.30035169e-03],\n",
              "       [2.26017043e-01],\n",
              "       [6.17634177e-01],\n",
              "       [7.57479593e-02],\n",
              "       [3.17058623e-01],\n",
              "       [2.47704506e-01],\n",
              "       [9.98286068e-01],\n",
              "       [6.11785412e-01],\n",
              "       [5.13580680e-01],\n",
              "       [6.98810071e-02],\n",
              "       [1.01669922e-01],\n",
              "       [9.99000490e-01],\n",
              "       [2.00296636e-03],\n",
              "       [3.78774628e-02],\n",
              "       [1.87076721e-02],\n",
              "       [8.95324409e-01],\n",
              "       [2.27620043e-02],\n",
              "       [5.10048509e-01],\n",
              "       [9.92758274e-01],\n",
              "       [1.00156032e-02],\n",
              "       [4.94144969e-02],\n",
              "       [4.95315120e-02],\n",
              "       [2.12623119e-01],\n",
              "       [4.62622195e-01],\n",
              "       [6.47401661e-02],\n",
              "       [9.53484595e-01],\n",
              "       [7.56621778e-01],\n",
              "       [6.85801059e-02],\n",
              "       [9.82031226e-01],\n",
              "       [6.18050992e-01],\n",
              "       [9.19090331e-01],\n",
              "       [4.18848805e-02],\n",
              "       [9.76127803e-01],\n",
              "       [1.58933565e-01],\n",
              "       [8.36291984e-02],\n",
              "       [1.15468599e-01],\n",
              "       [7.45914936e-01],\n",
              "       [9.96500015e-01],\n",
              "       [1.13100328e-01],\n",
              "       [4.31590639e-02],\n",
              "       [9.46238637e-01],\n",
              "       [7.20461249e-01],\n",
              "       [1.40708955e-02],\n",
              "       [8.92312288e-01],\n",
              "       [9.26590502e-01],\n",
              "       [5.55904806e-01],\n",
              "       [2.66649663e-01],\n",
              "       [1.32564921e-02],\n",
              "       [9.98065770e-01],\n",
              "       [2.94483095e-01],\n",
              "       [8.26701820e-02],\n",
              "       [1.54706925e-01],\n",
              "       [1.03549501e-02],\n",
              "       [2.45395169e-01],\n",
              "       [1.53648481e-01],\n",
              "       [2.87163742e-02],\n",
              "       [5.85825026e-01],\n",
              "       [8.10831971e-03],\n",
              "       [8.68755162e-01],\n",
              "       [3.90857279e-01],\n",
              "       [9.15627182e-01],\n",
              "       [6.15764260e-01],\n",
              "       [1.26360178e-01],\n",
              "       [4.58984002e-02],\n",
              "       [1.59030005e-01],\n",
              "       [1.32655933e-01],\n",
              "       [9.50735658e-02],\n",
              "       [9.57141537e-03],\n",
              "       [4.24044698e-01],\n",
              "       [8.97454619e-01],\n",
              "       [3.93850580e-02],\n",
              "       [9.93444085e-01],\n",
              "       [4.30093557e-02],\n",
              "       [5.77326817e-03],\n",
              "       [9.99713123e-01],\n",
              "       [2.47005671e-01],\n",
              "       [1.77405328e-01],\n",
              "       [1.17689103e-01],\n",
              "       [3.85243803e-01],\n",
              "       [9.10929620e-01],\n",
              "       [2.78001040e-01],\n",
              "       [8.82784463e-03],\n",
              "       [9.75665271e-01],\n",
              "       [1.70173332e-01],\n",
              "       [6.36527836e-01],\n",
              "       [9.87477183e-01],\n",
              "       [9.99841332e-01],\n",
              "       [4.37627852e-01],\n",
              "       [7.54923642e-01],\n",
              "       [7.07167238e-02],\n",
              "       [9.89779532e-01],\n",
              "       [3.55461359e-01],\n",
              "       [5.58187544e-01],\n",
              "       [1.46200523e-01],\n",
              "       [9.95712161e-01],\n",
              "       [5.37159324e-01],\n",
              "       [3.37481499e-01],\n",
              "       [8.02935004e-01],\n",
              "       [7.92102754e-01],\n",
              "       [8.04598331e-01],\n",
              "       [8.15399587e-02],\n",
              "       [2.94483095e-01],\n",
              "       [1.35923296e-01],\n",
              "       [6.91267848e-01],\n",
              "       [2.13741690e-01],\n",
              "       [9.85073805e-01],\n",
              "       [3.52130175e-01],\n",
              "       [3.12332690e-01],\n",
              "       [5.96409500e-01],\n",
              "       [9.99595582e-01],\n",
              "       [9.37419176e-01],\n",
              "       [5.08635305e-02],\n",
              "       [9.54284489e-01],\n",
              "       [9.98596013e-01],\n",
              "       [4.18937653e-01],\n",
              "       [7.51897991e-02],\n",
              "       [1.25609279e-01],\n",
              "       [2.93410420e-01],\n",
              "       [9.08881783e-01],\n",
              "       [8.97220433e-01],\n",
              "       [1.70925036e-01],\n",
              "       [2.08337471e-01],\n",
              "       [1.60432775e-02],\n",
              "       [3.34968656e-01],\n",
              "       [1.23391703e-01],\n",
              "       [7.64827207e-02],\n",
              "       [9.14447248e-01],\n",
              "       [2.24686265e-01],\n",
              "       [4.36073959e-01],\n",
              "       [2.13917140e-02],\n",
              "       [9.56283391e-01],\n",
              "       [2.42906526e-01],\n",
              "       [6.91998601e-01],\n",
              "       [8.07242334e-01],\n",
              "       [3.05899456e-02],\n",
              "       [2.21229717e-01],\n",
              "       [9.99626637e-01],\n",
              "       [9.47937906e-01],\n",
              "       [3.40706557e-01],\n",
              "       [2.80212790e-01],\n",
              "       [9.95814621e-01],\n",
              "       [6.23341441e-01],\n",
              "       [1.74486190e-01],\n",
              "       [1.15326099e-01],\n",
              "       [2.29520023e-01],\n",
              "       [5.79655617e-02],\n",
              "       [7.82515481e-02],\n",
              "       [1.59384415e-01],\n",
              "       [5.10579497e-02],\n",
              "       [3.62173766e-02],\n",
              "       [6.00540161e-01],\n",
              "       [9.97284532e-01],\n",
              "       [1.31550431e-01],\n",
              "       [9.10472751e-01],\n",
              "       [4.76773798e-01],\n",
              "       [3.47671025e-02],\n",
              "       [3.50910783e-01],\n",
              "       [2.55388975e-01],\n",
              "       [9.94207501e-01],\n",
              "       [7.65671670e-01],\n",
              "       [6.63619339e-02],\n",
              "       [9.89561856e-01],\n",
              "       [7.35844076e-01],\n",
              "       [1.01052798e-01],\n",
              "       [6.12280108e-02],\n",
              "       [1.68059751e-01],\n",
              "       [2.35370919e-01],\n",
              "       [2.52202719e-01],\n",
              "       [6.65889084e-01],\n",
              "       [9.42671537e-01],\n",
              "       [6.36527836e-01],\n",
              "       [2.17492402e-01],\n",
              "       [7.32722729e-02],\n",
              "       [1.64776966e-01],\n",
              "       [9.96787310e-01],\n",
              "       [9.89868760e-01],\n",
              "       [9.47685063e-01],\n",
              "       [6.60011888e-01],\n",
              "       [2.23578110e-01],\n",
              "       [3.57522011e-01],\n",
              "       [6.02492332e-01],\n",
              "       [2.18975060e-02],\n",
              "       [9.98434603e-01],\n",
              "       [9.93225753e-01],\n",
              "       [1.61782056e-01],\n",
              "       [1.40035912e-01],\n",
              "       [2.46612579e-01],\n",
              "       [1.04320474e-01],\n",
              "       [9.34836149e-01],\n",
              "       [9.97331381e-01],\n",
              "       [9.73245144e-01],\n",
              "       [2.87627671e-02],\n",
              "       [1.85990855e-02],\n",
              "       [4.46544021e-01],\n",
              "       [9.97284532e-01],\n",
              "       [8.82342085e-02],\n",
              "       [9.48056638e-01],\n",
              "       [9.99871612e-01],\n",
              "       [1.53229728e-01],\n",
              "       [9.85514522e-01],\n",
              "       [9.91140544e-01],\n",
              "       [6.23616636e-01],\n",
              "       [1.02377713e-01],\n",
              "       [1.04549579e-01],\n",
              "       [5.65824518e-03],\n",
              "       [2.19236203e-02],\n",
              "       [7.55640507e-01],\n",
              "       [9.91883278e-01],\n",
              "       [3.00226152e-01],\n",
              "       [4.30211611e-02],\n",
              "       [9.45550576e-03],\n",
              "       [5.32454364e-02],\n",
              "       [7.31931478e-02],\n",
              "       [6.85399890e-01],\n",
              "       [9.62700903e-01],\n",
              "       [4.15395647e-01],\n",
              "       [1.02246683e-02],\n",
              "       [3.38511392e-02],\n",
              "       [3.27519834e-01],\n",
              "       [2.84835219e-01],\n",
              "       [2.33069256e-01],\n",
              "       [4.08802271e-01],\n",
              "       [9.96892393e-01],\n",
              "       [1.48134828e-01],\n",
              "       [7.47403428e-02],\n",
              "       [1.28323033e-01],\n",
              "       [5.97713590e-01],\n",
              "       [3.66594493e-01],\n",
              "       [9.98596013e-01],\n",
              "       [8.77781987e-01],\n",
              "       [4.33007628e-02],\n",
              "       [2.13920355e-01],\n",
              "       [9.02680308e-02],\n",
              "       [9.90193188e-01],\n",
              "       [1.22189410e-01],\n",
              "       [1.79795817e-01],\n",
              "       [7.90837944e-01],\n",
              "       [9.58353207e-02],\n",
              "       [5.33044301e-02],\n",
              "       [5.39922178e-01],\n",
              "       [8.78495514e-01],\n",
              "       [4.00034606e-01],\n",
              "       [3.10018450e-01],\n",
              "       [4.08002168e-01],\n",
              "       [6.06542587e-01],\n",
              "       [9.28464055e-01],\n",
              "       [9.77549314e-01],\n",
              "       [8.11857104e-01],\n",
              "       [3.97086889e-01],\n",
              "       [2.31160313e-01],\n",
              "       [2.27770716e-01],\n",
              "       [8.26641142e-01],\n",
              "       [4.58664224e-02],\n",
              "       [6.13696516e-01],\n",
              "       [2.66604692e-01],\n",
              "       [3.85112792e-01],\n",
              "       [3.73651385e-01],\n",
              "       [2.70732999e-01],\n",
              "       [3.85483265e-01],\n",
              "       [9.84065473e-01],\n",
              "       [2.39356562e-01],\n",
              "       [4.75029558e-01],\n",
              "       [6.29305363e-01],\n",
              "       [2.56525397e-01],\n",
              "       [1.79531291e-01],\n",
              "       [6.55408919e-01],\n",
              "       [9.96200979e-01],\n",
              "       [3.25754523e-01],\n",
              "       [5.05006254e-01],\n",
              "       [8.42485487e-01],\n",
              "       [4.81899157e-02],\n",
              "       [7.98785031e-01],\n",
              "       [4.54642698e-02],\n",
              "       [7.19580114e-01],\n",
              "       [7.47532964e-01],\n",
              "       [4.69914712e-02],\n",
              "       [2.79157788e-01],\n",
              "       [6.35224938e-01],\n",
              "       [4.46544021e-01],\n",
              "       [4.30956259e-02],\n",
              "       [7.45590508e-01],\n",
              "       [1.89252160e-02],\n",
              "       [5.32000363e-02],\n",
              "       [6.39346763e-02],\n",
              "       [6.52080953e-01],\n",
              "       [1.91776440e-01],\n",
              "       [9.88281548e-01],\n",
              "       [7.49663543e-03],\n",
              "       [1.69372350e-01],\n",
              "       [9.99671221e-01],\n",
              "       [1.82233989e-01],\n",
              "       [6.23241924e-02],\n",
              "       [6.20669015e-02],\n",
              "       [8.31983387e-01],\n",
              "       [5.00557542e-01],\n",
              "       [6.06846035e-01],\n",
              "       [2.40320433e-02],\n",
              "       [6.70090020e-02],\n",
              "       [6.17889941e-01],\n",
              "       [7.43541576e-04],\n",
              "       [6.79663345e-02],\n",
              "       [9.81267989e-01],\n",
              "       [9.29363132e-01],\n",
              "       [1.38174281e-01],\n",
              "       [2.61739135e-01],\n",
              "       [9.11051810e-01],\n",
              "       [8.31046939e-01],\n",
              "       [3.88797373e-01],\n",
              "       [7.08582342e-01],\n",
              "       [5.57648897e-01],\n",
              "       [9.99240279e-01],\n",
              "       [5.10186702e-02],\n",
              "       [9.68992636e-02],\n",
              "       [1.19100325e-03],\n",
              "       [8.96026850e-01],\n",
              "       [1.10491635e-02],\n",
              "       [6.01388931e-01],\n",
              "       [9.82818544e-01],\n",
              "       [8.08911741e-01],\n",
              "       [4.27999645e-01],\n",
              "       [9.99467075e-01],\n",
              "       [6.18077852e-02],\n",
              "       [5.09460568e-01],\n",
              "       [7.80515894e-02],\n",
              "       [1.26040995e-01],\n",
              "       [9.99798596e-01],\n",
              "       [9.80217218e-01],\n",
              "       [2.05225527e-01],\n",
              "       [4.10554230e-01],\n",
              "       [2.03836590e-01],\n",
              "       [9.99826968e-01],\n",
              "       [1.62740033e-02],\n",
              "       [2.00809583e-01],\n",
              "       [8.72633681e-02],\n",
              "       [1.84224010e-01],\n",
              "       [1.18652090e-01],\n",
              "       [9.20416236e-01],\n",
              "       [2.59794205e-01],\n",
              "       [5.70519716e-02],\n",
              "       [9.97870207e-01],\n",
              "       [1.34974748e-01],\n",
              "       [1.14137437e-02],\n",
              "       [9.96618330e-01],\n",
              "       [1.17947668e-01],\n",
              "       [5.02626970e-02],\n",
              "       [9.88425612e-01],\n",
              "       [3.90012145e-01],\n",
              "       [9.61203575e-01],\n",
              "       [9.98775661e-01],\n",
              "       [5.68504274e-01],\n",
              "       [4.48780134e-02],\n",
              "       [9.43576038e-01],\n",
              "       [1.94500700e-01],\n",
              "       [5.84234484e-03],\n",
              "       [9.53439891e-01],\n",
              "       [4.20351662e-02],\n",
              "       [9.07156393e-02],\n",
              "       [1.74592882e-01],\n",
              "       [5.70695281e-01],\n",
              "       [1.13475144e-01],\n",
              "       [1.32872462e-02],\n",
              "       [9.99595106e-01],\n",
              "       [9.99527454e-01],\n",
              "       [9.58303213e-01],\n",
              "       [7.45505929e-01],\n",
              "       [8.59965801e-01],\n",
              "       [9.56053793e-01],\n",
              "       [8.51549208e-01],\n",
              "       [4.29007739e-01],\n",
              "       [6.75146937e-01],\n",
              "       [8.06182563e-01],\n",
              "       [2.48859510e-01],\n",
              "       [7.84303248e-01],\n",
              "       [8.50720704e-02],\n",
              "       [1.26588279e-02],\n",
              "       [1.67989761e-01],\n",
              "       [4.00896147e-02],\n",
              "       [9.67031538e-01],\n",
              "       [4.88479324e-02],\n",
              "       [1.00965396e-01],\n",
              "       [8.66492987e-01],\n",
              "       [1.78046903e-04],\n",
              "       [7.90562332e-01],\n",
              "       [1.07586928e-01],\n",
              "       [4.65210408e-01],\n",
              "       [9.99240279e-01],\n",
              "       [4.25428040e-02],\n",
              "       [9.43576038e-01],\n",
              "       [9.99446094e-01],\n",
              "       [1.33729875e-01],\n",
              "       [8.50813270e-01],\n",
              "       [9.91883278e-01],\n",
              "       [9.15695846e-01],\n",
              "       [3.04648429e-01],\n",
              "       [5.74950397e-01],\n",
              "       [3.37771118e-01],\n",
              "       [7.78698921e-02],\n",
              "       [1.29992366e-01],\n",
              "       [9.96138990e-01],\n",
              "       [9.93986726e-01],\n",
              "       [2.98000783e-01],\n",
              "       [6.87289417e-01],\n",
              "       [9.40440595e-01],\n",
              "       [3.85579020e-01],\n",
              "       [8.50397050e-01],\n",
              "       [1.44145072e-01],\n",
              "       [6.93869650e-01],\n",
              "       [3.84656250e-01],\n",
              "       [1.04802109e-01],\n",
              "       [1.46003947e-01],\n",
              "       [8.86969641e-02],\n",
              "       [9.90852177e-01],\n",
              "       [9.99402404e-01],\n",
              "       [8.88407290e-01],\n",
              "       [5.24865985e-01],\n",
              "       [1.54345497e-01],\n",
              "       [1.82952583e-01],\n",
              "       [3.69438827e-01],\n",
              "       [7.48128116e-01],\n",
              "       [9.55581106e-03],\n",
              "       [7.31765449e-01],\n",
              "       [5.62924445e-01],\n",
              "       [6.96174622e-01],\n",
              "       [1.45340517e-01],\n",
              "       [2.44178926e-03],\n",
              "       [1.05976649e-01],\n",
              "       [2.81903952e-01],\n",
              "       [3.38755846e-02],\n",
              "       [9.27201211e-01],\n",
              "       [2.92843282e-01],\n",
              "       [3.54493111e-01],\n",
              "       [2.33694285e-01],\n",
              "       [2.68087357e-01],\n",
              "       [2.84736184e-03],\n",
              "       [9.99335825e-01],\n",
              "       [1.03357390e-01],\n",
              "       [6.13780737e-01],\n",
              "       [9.98449445e-01],\n",
              "       [9.90355015e-01],\n",
              "       [4.30459142e-01],\n",
              "       [1.25737175e-01],\n",
              "       [7.11675704e-01],\n",
              "       [8.88983965e-01],\n",
              "       [6.69831097e-01],\n",
              "       [2.55078524e-01],\n",
              "       [1.39645785e-01],\n",
              "       [6.22335553e-01],\n",
              "       [3.07787687e-01],\n",
              "       [1.14799373e-01],\n",
              "       [2.44619697e-01],\n",
              "       [8.67965043e-01],\n",
              "       [7.33367652e-02],\n",
              "       [8.80018398e-02],\n",
              "       [6.42914891e-01],\n",
              "       [3.35822910e-01],\n",
              "       [9.97289300e-01],\n",
              "       [2.07464680e-01],\n",
              "       [5.60037971e-01],\n",
              "       [6.82365447e-02],\n",
              "       [1.07840896e-02],\n",
              "       [4.11346853e-01],\n",
              "       [5.57648897e-01],\n",
              "       [2.15281155e-02],\n",
              "       [4.70640421e-01],\n",
              "       [5.48665166e-01],\n",
              "       [1.86761305e-01],\n",
              "       [7.90200293e-01],\n",
              "       [9.99939919e-01],\n",
              "       [9.99872804e-01],\n",
              "       [3.15880001e-01],\n",
              "       [8.96284401e-01],\n",
              "       [3.55303660e-02],\n",
              "       [3.85483265e-01],\n",
              "       [2.69286543e-01],\n",
              "       [5.04565716e-01],\n",
              "       [4.55924161e-02],\n",
              "       [4.02752496e-02],\n",
              "       [3.83891135e-01],\n",
              "       [3.63364637e-01],\n",
              "       [9.91756797e-01],\n",
              "       [7.12907195e-01],\n",
              "       [9.98910546e-01],\n",
              "       [1.28634214e-01],\n",
              "       [3.03349085e-02],\n",
              "       [8.25333670e-02],\n",
              "       [6.07577674e-02],\n",
              "       [4.95977730e-01],\n",
              "       [9.99394894e-01],\n",
              "       [9.97059643e-01],\n",
              "       [3.32647935e-02],\n",
              "       [5.48157513e-01],\n",
              "       [2.76456922e-01],\n",
              "       [6.98536783e-02],\n",
              "       [1.61584511e-01],\n",
              "       [6.77436292e-01],\n",
              "       [8.27504508e-03],\n",
              "       [5.42229831e-01],\n",
              "       [1.73355490e-01],\n",
              "       [5.08079052e-01],\n",
              "       [9.77907419e-01],\n",
              "       [3.70596498e-01],\n",
              "       [5.35740316e-01],\n",
              "       [1.27064034e-01],\n",
              "       [5.12912452e-01],\n",
              "       [1.02275938e-01],\n",
              "       [9.99588430e-01],\n",
              "       [4.55924161e-02],\n",
              "       [1.91141382e-01],\n",
              "       [1.80157498e-01],\n",
              "       [3.01382393e-01],\n",
              "       [1.91002652e-01],\n",
              "       [1.93012893e-01],\n",
              "       [8.43065977e-02],\n",
              "       [1.73288375e-01],\n",
              "       [5.70461810e-01],\n",
              "       [1.54764771e-01],\n",
              "       [2.99649090e-01],\n",
              "       [6.24130845e-01],\n",
              "       [9.49100018e-01],\n",
              "       [8.73284280e-01],\n",
              "       [6.53610006e-02],\n",
              "       [6.34592623e-02],\n",
              "       [9.98234630e-01],\n",
              "       [5.16206503e-01],\n",
              "       [8.38750601e-01],\n",
              "       [1.97398841e-01],\n",
              "       [3.45180333e-02],\n",
              "       [5.41841723e-02],\n",
              "       [2.75009841e-01],\n",
              "       [8.82630050e-01],\n",
              "       [9.98102009e-01],\n",
              "       [2.59183615e-01],\n",
              "       [9.96979237e-01],\n",
              "       [5.57648897e-01],\n",
              "       [1.77139863e-01],\n",
              "       [4.46961045e-01],\n",
              "       [1.00761734e-01],\n",
              "       [4.33869585e-02],\n",
              "       [2.03938365e-01],\n",
              "       [4.37590480e-01],\n",
              "       [3.21865678e-01],\n",
              "       [7.66062498e-01],\n",
              "       [9.37036335e-01],\n",
              "       [2.92003870e-01],\n",
              "       [9.77770910e-02],\n",
              "       [9.24920678e-01],\n",
              "       [8.26919198e-01],\n",
              "       [2.39649698e-01],\n",
              "       [1.17271699e-01],\n",
              "       [4.43167478e-01],\n",
              "       [9.74652171e-01],\n",
              "       [6.97737411e-02],\n",
              "       [7.67443776e-01],\n",
              "       [2.26091277e-02],\n",
              "       [8.22553709e-02],\n",
              "       [2.10120961e-01],\n",
              "       [5.83963275e-01],\n",
              "       [1.56293362e-02],\n",
              "       [2.67576687e-02],\n",
              "       [2.93602735e-01],\n",
              "       [9.99488473e-01],\n",
              "       [9.93005872e-01],\n",
              "       [9.99148965e-01],\n",
              "       [2.57178843e-01],\n",
              "       [1.12268671e-01],\n",
              "       [1.34268906e-02],\n",
              "       [7.08329201e-01],\n",
              "       [9.79379177e-01],\n",
              "       [6.53765053e-02],\n",
              "       [9.78276789e-01],\n",
              "       [9.99798596e-01],\n",
              "       [3.87655571e-02]], dtype=float32)"
            ]
          },
          "metadata": {},
          "execution_count": 61
        }
      ]
    },
    {
      "cell_type": "code",
      "source": [
        "model_1_pred_probs[0]"
      ],
      "metadata": {
        "colab": {
          "base_uri": "https://localhost:8080/"
        },
        "id": "lO_6RbS5p0hl",
        "outputId": "f36d0cdf-8092-45a0-f7d9-e0f8ee558163"
      },
      "execution_count": 62,
      "outputs": [
        {
          "output_type": "execute_result",
          "data": {
            "text/plain": [
              "array([0.04476154], dtype=float32)"
            ]
          },
          "metadata": {},
          "execution_count": 62
        }
      ]
    },
    {
      "cell_type": "code",
      "source": [
        "model_1_pred_probs.shape"
      ],
      "metadata": {
        "colab": {
          "base_uri": "https://localhost:8080/"
        },
        "id": "Np19ljwYp2bG",
        "outputId": "ff3f15fc-7ba1-417a-ca8e-24698d9b46d5"
      },
      "execution_count": 63,
      "outputs": [
        {
          "output_type": "execute_result",
          "data": {
            "text/plain": [
              "(762, 1)"
            ]
          },
          "metadata": {},
          "execution_count": 63
        }
      ]
    },
    {
      "cell_type": "code",
      "source": [
        "model_1_pred_probs[:10]"
      ],
      "metadata": {
        "colab": {
          "base_uri": "https://localhost:8080/"
        },
        "id": "FEe-BvFHp6fc",
        "outputId": "785806e2-2293-4ee3-c02a-6419dd2fc5e7"
      },
      "execution_count": 64,
      "outputs": [
        {
          "output_type": "execute_result",
          "data": {
            "text/plain": [
              "array([[0.04476154],\n",
              "       [0.64865994],\n",
              "       [0.9982346 ],\n",
              "       [0.10931245],\n",
              "       [0.9740011 ],\n",
              "       [0.0512505 ],\n",
              "       [0.00638424],\n",
              "       [0.17552586],\n",
              "       [0.9968207 ],\n",
              "       [0.9786855 ]], dtype=float32)"
            ]
          },
          "metadata": {},
          "execution_count": 64
        }
      ]
    },
    {
      "cell_type": "code",
      "source": [
        "model_1_preds = tf.squeeze(tf.round(model_1_pred_probs))\n",
        "model_1_preds"
      ],
      "metadata": {
        "colab": {
          "base_uri": "https://localhost:8080/"
        },
        "id": "mDgsBmSZqyqX",
        "outputId": "fb35177c-be0c-41a3-eb00-4cba89118db4"
      },
      "execution_count": 65,
      "outputs": [
        {
          "output_type": "execute_result",
          "data": {
            "text/plain": [
              "<tf.Tensor: shape=(762,), dtype=float32, numpy=\n",
              "array([0., 1., 1., 0., 1., 0., 0., 0., 1., 1., 0., 0., 1., 0., 0., 1., 1.,\n",
              "       0., 1., 0., 0., 0., 1., 1., 0., 1., 0., 0., 1., 1., 1., 0., 0., 0.,\n",
              "       0., 1., 0., 0., 0., 0., 0., 1., 1., 0., 0., 0., 0., 1., 0., 0., 0.,\n",
              "       1., 0., 0., 0., 0., 0., 0., 1., 1., 0., 0., 1., 1., 0., 1., 0., 1.,\n",
              "       0., 0., 0., 0., 0., 0., 0., 1., 1., 1., 1., 1., 0., 0., 1., 1., 0.,\n",
              "       1., 0., 1., 0., 0., 0., 0., 0., 0., 1., 0., 1., 0., 0., 0., 0., 0.,\n",
              "       1., 0., 0., 0., 1., 0., 0., 0., 0., 1., 1., 0., 0., 1., 1., 1., 1.,\n",
              "       0., 1., 0., 1., 1., 0., 0., 1., 0., 1., 1., 0., 1., 0., 0., 1., 0.,\n",
              "       0., 1., 1., 0., 0., 1., 1., 1., 0., 1., 1., 0., 0., 0., 1., 0., 0.,\n",
              "       1., 0., 0., 0., 0., 1., 0., 1., 1., 1., 0., 0., 0., 0., 0., 0., 1.,\n",
              "       1., 0., 0., 0., 0., 0., 1., 1., 0., 1., 0., 1., 0., 0., 0., 0., 1.,\n",
              "       1., 0., 0., 0., 0., 1., 0., 0., 0., 1., 1., 1., 0., 0., 1., 0., 0.,\n",
              "       0., 1., 0., 1., 1., 0., 0., 0., 0., 0., 0., 1., 1., 0., 1., 1., 1.,\n",
              "       0., 1., 0., 0., 0., 1., 1., 0., 0., 1., 1., 0., 1., 1., 1., 0., 0.,\n",
              "       1., 0., 0., 0., 0., 0., 0., 0., 1., 0., 1., 0., 1., 1., 0., 0., 0.,\n",
              "       0., 0., 0., 0., 1., 0., 1., 0., 0., 1., 0., 0., 0., 0., 1., 0., 0.,\n",
              "       1., 0., 1., 1., 1., 0., 1., 0., 1., 0., 1., 0., 1., 1., 0., 1., 1.,\n",
              "       1., 0., 0., 0., 1., 0., 1., 0., 0., 1., 1., 1., 0., 1., 1., 0., 0.,\n",
              "       0., 0., 1., 1., 0., 0., 0., 0., 0., 0., 1., 0., 0., 0., 1., 0., 1.,\n",
              "       1., 0., 0., 1., 1., 0., 0., 1., 1., 0., 0., 0., 0., 0., 0., 0., 0.,\n",
              "       1., 1., 0., 1., 0., 0., 0., 0., 1., 1., 0., 1., 1., 0., 0., 0., 0.,\n",
              "       0., 1., 1., 1., 0., 0., 0., 1., 1., 1., 1., 0., 0., 1., 0., 1., 1.,\n",
              "       0., 0., 0., 0., 1., 1., 1., 0., 0., 0., 1., 0., 1., 1., 0., 1., 1.,\n",
              "       1., 0., 0., 0., 0., 1., 1., 0., 0., 0., 0., 0., 1., 1., 0., 0., 0.,\n",
              "       0., 0., 0., 0., 1., 0., 0., 0., 1., 0., 1., 1., 0., 0., 0., 1., 0.,\n",
              "       0., 1., 0., 0., 1., 1., 0., 0., 0., 1., 1., 1., 1., 0., 0., 0., 1.,\n",
              "       0., 1., 0., 0., 0., 0., 0., 1., 0., 0., 1., 0., 0., 1., 1., 0., 1.,\n",
              "       1., 0., 1., 0., 1., 1., 0., 0., 1., 0., 0., 1., 0., 0., 0., 1., 0.,\n",
              "       1., 0., 0., 1., 0., 0., 0., 1., 1., 1., 0., 0., 1., 0., 0., 1., 1.,\n",
              "       0., 0., 1., 1., 0., 1., 1., 1., 0., 0., 0., 1., 0., 1., 1., 1., 0.,\n",
              "       1., 0., 1., 0., 0., 1., 1., 0., 0., 0., 1., 0., 0., 0., 0., 0., 1.,\n",
              "       0., 0., 1., 0., 0., 1., 0., 0., 1., 0., 1., 1., 1., 0., 1., 0., 0.,\n",
              "       1., 0., 0., 0., 1., 0., 0., 1., 1., 1., 1., 1., 1., 1., 0., 1., 1.,\n",
              "       0., 1., 0., 0., 0., 0., 1., 0., 0., 1., 0., 1., 0., 0., 1., 0., 1.,\n",
              "       1., 0., 1., 1., 1., 0., 1., 0., 0., 0., 1., 1., 0., 1., 1., 0., 1.,\n",
              "       0., 1., 0., 0., 0., 0., 1., 1., 1., 1., 0., 0., 0., 1., 0., 1., 1.,\n",
              "       1., 0., 0., 0., 0., 0., 1., 0., 0., 0., 0., 0., 1., 0., 1., 1., 1.,\n",
              "       0., 0., 1., 1., 1., 0., 0., 1., 0., 0., 0., 1., 0., 0., 1., 0., 1.,\n",
              "       0., 1., 0., 0., 0., 1., 0., 0., 1., 0., 1., 1., 1., 0., 1., 0., 0.,\n",
              "       0., 1., 0., 0., 0., 0., 1., 1., 1., 0., 0., 0., 0., 0., 1., 1., 0.,\n",
              "       1., 0., 0., 0., 1., 0., 1., 0., 1., 1., 0., 1., 0., 1., 0., 1., 0.,\n",
              "       0., 0., 0., 0., 0., 0., 0., 1., 0., 0., 1., 1., 1., 0., 0., 1., 1.,\n",
              "       1., 0., 0., 0., 0., 1., 1., 0., 1., 1., 0., 0., 0., 0., 0., 0., 0.,\n",
              "       1., 1., 0., 0., 1., 1., 0., 0., 0., 1., 0., 1., 0., 0., 0., 1., 0.,\n",
              "       0., 0., 1., 1., 1., 0., 0., 0., 1., 1., 0., 1., 1., 0.],\n",
              "      dtype=float32)>"
            ]
          },
          "metadata": {},
          "execution_count": 65
        }
      ]
    },
    {
      "cell_type": "code",
      "source": [
        "#Calculate model_1 results\n",
        "model_1_results = calculate_results(y_true=val_labels,\n",
        "                                    y_pred=model_1_preds)\n",
        "model_1_results"
      ],
      "metadata": {
        "colab": {
          "base_uri": "https://localhost:8080/"
        },
        "id": "8DdOmAB8rAmf",
        "outputId": "9876b71a-5331-4a3f-ab8c-a8062e102eeb"
      },
      "execution_count": 66,
      "outputs": [
        {
          "output_type": "execute_result",
          "data": {
            "text/plain": [
              "{'accuracy': 80.18372703412074,\n",
              " 'f1': 0.801355032127482,\n",
              " 'precision': 0.8012130523645551,\n",
              " 'recall': 0.8018372703412073}"
            ]
          },
          "metadata": {},
          "execution_count": 66
        }
      ]
    },
    {
      "cell_type": "code",
      "source": [
        "baseline_results = text_vectorizer.get_vocabulary()\n",
        "len(words_in_vocab), words_in_vocab[:10]"
      ],
      "metadata": {
        "colab": {
          "base_uri": "https://localhost:8080/"
        },
        "id": "No8ERIEFrNVR",
        "outputId": "5065f547-db8f-4e74-c4e6-147a4c5dd92d"
      },
      "execution_count": 69,
      "outputs": [
        {
          "output_type": "execute_result",
          "data": {
            "text/plain": [
              "(10000, ['', '[UNK]', 'the', 'a', 'in', 'to', 'of', 'and', 'i', 'is'])"
            ]
          },
          "metadata": {},
          "execution_count": 69
        }
      ]
    },
    {
      "cell_type": "code",
      "source": [
        "words_in_vocab"
      ],
      "metadata": {
        "colab": {
          "base_uri": "https://localhost:8080/"
        },
        "id": "6ZH2gk7xrOSO",
        "outputId": "5a39849a-bd9c-4f40-b04f-e56fa15ba1cb"
      },
      "execution_count": 68,
      "outputs": [
        {
          "output_type": "execute_result",
          "data": {
            "text/plain": [
              "['',\n",
              " '[UNK]',\n",
              " 'the',\n",
              " 'a',\n",
              " 'in',\n",
              " 'to',\n",
              " 'of',\n",
              " 'and',\n",
              " 'i',\n",
              " 'is',\n",
              " 'for',\n",
              " 'on',\n",
              " 'you',\n",
              " 'my',\n",
              " 'with',\n",
              " 'it',\n",
              " 'that',\n",
              " 'at',\n",
              " 'by',\n",
              " 'this',\n",
              " 'from',\n",
              " 'be',\n",
              " 'are',\n",
              " 'was',\n",
              " 'have',\n",
              " 'like',\n",
              " 'me',\n",
              " 'as',\n",
              " 'up',\n",
              " 'just',\n",
              " 'but',\n",
              " 'so',\n",
              " 'im',\n",
              " 'not',\n",
              " 'amp',\n",
              " 'your',\n",
              " 'out',\n",
              " 'its',\n",
              " 'all',\n",
              " 'will',\n",
              " 'after',\n",
              " 'no',\n",
              " 'fire',\n",
              " 'has',\n",
              " 'an',\n",
              " 'when',\n",
              " 'if',\n",
              " 'get',\n",
              " 'now',\n",
              " 'we',\n",
              " 'about',\n",
              " 'new',\n",
              " 'via',\n",
              " 'more',\n",
              " 'or',\n",
              " 'people',\n",
              " 'what',\n",
              " 'news',\n",
              " 'one',\n",
              " 'how',\n",
              " 'he',\n",
              " 'they',\n",
              " 'over',\n",
              " 'dont',\n",
              " 'been',\n",
              " 'who',\n",
              " 'into',\n",
              " 'video',\n",
              " 'were',\n",
              " 'do',\n",
              " 'can',\n",
              " '2',\n",
              " 'us',\n",
              " 'disaster',\n",
              " 'emergency',\n",
              " 'there',\n",
              " 'police',\n",
              " 'than',\n",
              " 'would',\n",
              " 'still',\n",
              " 'his',\n",
              " 'some',\n",
              " 'her',\n",
              " 'body',\n",
              " 'burning',\n",
              " 'storm',\n",
              " 'crash',\n",
              " 'back',\n",
              " 'had',\n",
              " 'suicide',\n",
              " 'man',\n",
              " 'why',\n",
              " 'know',\n",
              " 'got',\n",
              " 'them',\n",
              " 'buildings',\n",
              " 'world',\n",
              " 'time',\n",
              " 'off',\n",
              " 'see',\n",
              " 'california',\n",
              " 'first',\n",
              " 'day',\n",
              " 'rt',\n",
              " 'bomb',\n",
              " 'youtube',\n",
              " 'cant',\n",
              " 'love',\n",
              " 'nuclear',\n",
              " 'going',\n",
              " 'their',\n",
              " 'dead',\n",
              " 'two',\n",
              " 'train',\n",
              " 'killed',\n",
              " 'go',\n",
              " 'attack',\n",
              " 'our',\n",
              " '3',\n",
              " 'today',\n",
              " 'good',\n",
              " 'fires',\n",
              " 'car',\n",
              " 'full',\n",
              " 'hiroshima',\n",
              " 'families',\n",
              " 'being',\n",
              " 'say',\n",
              " 'may',\n",
              " 'many',\n",
              " 'here',\n",
              " 'think',\n",
              " 'only',\n",
              " 'accident',\n",
              " 'years',\n",
              " 'life',\n",
              " 'u',\n",
              " 'last',\n",
              " 'could',\n",
              " 'watch',\n",
              " 'war',\n",
              " 'down',\n",
              " 'did',\n",
              " 'home',\n",
              " 'collapse',\n",
              " 'want',\n",
              " 'too',\n",
              " 'then',\n",
              " 'look',\n",
              " 'work',\n",
              " 'because',\n",
              " 'way',\n",
              " 'lol',\n",
              " 'even',\n",
              " 'make',\n",
              " 'best',\n",
              " 'army',\n",
              " 'year',\n",
              " 'mh370',\n",
              " 'help',\n",
              " 'wildfire',\n",
              " 'really',\n",
              " 'pm',\n",
              " 'need',\n",
              " 'him',\n",
              " 'bombing',\n",
              " 'am',\n",
              " 'youre',\n",
              " 'take',\n",
              " 'school',\n",
              " 'please',\n",
              " 'another',\n",
              " '4',\n",
              " 'let',\n",
              " 'those',\n",
              " 'should',\n",
              " 'great',\n",
              " 'right',\n",
              " 'obama',\n",
              " 'hot',\n",
              " 'fatal',\n",
              " 'death',\n",
              " 'forest',\n",
              " 'bomber',\n",
              " 'black',\n",
              " 'northern',\n",
              " 'much',\n",
              " 'mass',\n",
              " 'live',\n",
              " '\\x89Û',\n",
              " 'water',\n",
              " 'old',\n",
              " 'legionnaires',\n",
              " '1',\n",
              " 'wreck',\n",
              " 'thats',\n",
              " 'getting',\n",
              " 'flood',\n",
              " 'every',\n",
              " '5',\n",
              " '2015',\n",
              " 'she',\n",
              " 'read',\n",
              " 'latest',\n",
              " 'homes',\n",
              " 'come',\n",
              " 'where',\n",
              " 'under',\n",
              " 'never',\n",
              " 'hit',\n",
              " 'god',\n",
              " 'flames',\n",
              " 'ever',\n",
              " 'said',\n",
              " 's',\n",
              " 'feel',\n",
              " 'damage',\n",
              " 'content',\n",
              " 'atomic',\n",
              " 'any',\n",
              " 'well',\n",
              " 'weather',\n",
              " 'top',\n",
              " 'oil',\n",
              " 'near',\n",
              " 'while',\n",
              " 'shit',\n",
              " 'night',\n",
              " 'coming',\n",
              " 'city',\n",
              " 'before',\n",
              " 'ass',\n",
              " 'these',\n",
              " 'since',\n",
              " 'military',\n",
              " 'japan',\n",
              " 'during',\n",
              " 'truck',\n",
              " 'smoke',\n",
              " 'floods',\n",
              " 'fear',\n",
              " 'cause',\n",
              " 'most',\n",
              " 'little',\n",
              " 'face',\n",
              " 'everyone',\n",
              " 'without',\n",
              " 'movie',\n",
              " 'malaysia',\n",
              " 'injured',\n",
              " 'hope',\n",
              " 'cross',\n",
              " 'check',\n",
              " 'times',\n",
              " 'set',\n",
              " 'plan',\n",
              " 'next',\n",
              " 'looks',\n",
              " 'lightning',\n",
              " 'evacuation',\n",
              " 'debris',\n",
              " 'confirmed',\n",
              " 'weapon',\n",
              " 'thunderstorm',\n",
              " 'through',\n",
              " 'state',\n",
              " 'liked',\n",
              " 'hes',\n",
              " 'fucking',\n",
              " 'flooding',\n",
              " 'earthquake',\n",
              " 'w',\n",
              " 'trapped',\n",
              " 'sinking',\n",
              " 'reddit',\n",
              " 'natural',\n",
              " 'high',\n",
              " 'heat',\n",
              " 'food',\n",
              " 'fall',\n",
              " 'bad',\n",
              " 'always',\n",
              " 'also',\n",
              " 'wounded',\n",
              " 'weapons',\n",
              " 'thunder',\n",
              " 'theres',\n",
              " 'survive',\n",
              " 'stop',\n",
              " 'spill',\n",
              " 'severe',\n",
              " 'says',\n",
              " 'run',\n",
              " 'missing',\n",
              " 'loud',\n",
              " 'injuries',\n",
              " 'head',\n",
              " 'found',\n",
              " 'evacuate',\n",
              " 'wind',\n",
              " 'services',\n",
              " 'screaming',\n",
              " 'save',\n",
              " 'released',\n",
              " 'free',\n",
              " 'blood',\n",
              " '70',\n",
              " 'which',\n",
              " 'summer',\n",
              " 'story',\n",
              " 'someone',\n",
              " 'house',\n",
              " 'gonna',\n",
              " 'girl',\n",
              " 'fatalities',\n",
              " 'failure',\n",
              " 'explosion',\n",
              " 'explode',\n",
              " 'destruction',\n",
              " 'change',\n",
              " 'wreckage',\n",
              " 'until',\n",
              " 'saudi',\n",
              " 'report',\n",
              " 'rain',\n",
              " 'outbreak',\n",
              " 'ive',\n",
              " 'investigators',\n",
              " 'hurricane',\n",
              " 'collapsed',\n",
              " 'bridge',\n",
              " 'breaking',\n",
              " 'boy',\n",
              " 'bloody',\n",
              " 'bag',\n",
              " 'attacked',\n",
              " 'warning',\n",
              " 'terrorist',\n",
              " 'survived',\n",
              " 'put',\n",
              " 'photo',\n",
              " 'panic',\n",
              " 'hail',\n",
              " 'family',\n",
              " 'end',\n",
              " 'dust',\n",
              " 'destroyed',\n",
              " 'deaths',\n",
              " 'danger',\n",
              " 'collided',\n",
              " 'big',\n",
              " 'bags',\n",
              " 'again',\n",
              " 'wrecked',\n",
              " 'wild',\n",
              " 'whirlwind',\n",
              " 'update',\n",
              " 'thing',\n",
              " 'structural',\n",
              " 'sinkhole',\n",
              " 'service',\n",
              " 'refugees',\n",
              " 'made',\n",
              " 'lives',\n",
              " 'injury',\n",
              " 'fuck',\n",
              " 'county',\n",
              " 'area',\n",
              " 'week',\n",
              " 'twister',\n",
              " 'sunk',\n",
              " 'show',\n",
              " 'road',\n",
              " 'rescuers',\n",
              " 'rescue',\n",
              " 'quarantine',\n",
              " 'post',\n",
              " 'other',\n",
              " 'murder',\n",
              " 'mudslide',\n",
              " 'mosque',\n",
              " 'migrants',\n",
              " 'keep',\n",
              " 'heard',\n",
              " 'game',\n",
              " 'destroy',\n",
              " 'derailment',\n",
              " 'catastrophe',\n",
              " 'bus',\n",
              " 'burned',\n",
              " 'bleeding',\n",
              " 'better',\n",
              " 'around',\n",
              " 'air',\n",
              " 'wounds',\n",
              " 'women',\n",
              " 'whole',\n",
              " 'white',\n",
              " 'violent',\n",
              " 'tonight',\n",
              " 'things',\n",
              " 'survivors',\n",
              " 'stock',\n",
              " 'saw',\n",
              " 'sandstorm',\n",
              " 'harm',\n",
              " 'drowning',\n",
              " 'devastation',\n",
              " 'deluge',\n",
              " 'curfew',\n",
              " 'cliff',\n",
              " 'charged',\n",
              " 'casualties',\n",
              " 'battle',\n",
              " 'bang',\n",
              " 'armageddon',\n",
              " 'ambulance',\n",
              " '40',\n",
              " '15',\n",
              " '\\x89ÛÒ',\n",
              " 'woman',\n",
              " 'traumatised',\n",
              " 'screams',\n",
              " 'screamed',\n",
              " 'rescued',\n",
              " 'landslide',\n",
              " 'ill',\n",
              " 'hostages',\n",
              " 'horrible',\n",
              " 'hazardous',\n",
              " 'famine',\n",
              " 'exploded',\n",
              " 'evacuated',\n",
              " 'does',\n",
              " 'bombed',\n",
              " 'blown',\n",
              " 'away',\n",
              " 'apocalypse',\n",
              " 'windstorm',\n",
              " 'wave',\n",
              " 'wanna',\n",
              " 'trauma',\n",
              " 'tragedy',\n",
              " 'ruin',\n",
              " 'rioting',\n",
              " 'real',\n",
              " 'quarantined',\n",
              " 'power',\n",
              " 'phone',\n",
              " 'panicking',\n",
              " 'pandemonium',\n",
              " 'must',\n",
              " 'meltdown',\n",
              " 'massacre',\n",
              " 'lot',\n",
              " 'least',\n",
              " 'lava',\n",
              " 'iran',\n",
              " 'inundated',\n",
              " 'id',\n",
              " 'flattened',\n",
              " 'fedex',\n",
              " 'electrocuted',\n",
              " 'drought',\n",
              " 'displaced',\n",
              " 'detonate',\n",
              " 'desolation',\n",
              " 'cool',\n",
              " 'came',\n",
              " 'call',\n",
              " 'boat',\n",
              " 'blew',\n",
              " 'bioterror',\n",
              " 'against',\n",
              " 'typhoon',\n",
              " 'trouble',\n",
              " 'thank',\n",
              " 'terrorism',\n",
              " 'st',\n",
              " 'something',\n",
              " 'riot',\n",
              " 'red',\n",
              " 'plane',\n",
              " 'past',\n",
              " 'nothing',\n",
              " 'market',\n",
              " 'long',\n",
              " 'lets',\n",
              " 'kills',\n",
              " 'kill',\n",
              " 'hijacking',\n",
              " 'heart',\n",
              " 'hazard',\n",
              " 'drown',\n",
              " 'doing',\n",
              " 'didnt',\n",
              " 'derailed',\n",
              " 'derail',\n",
              " 'crush',\n",
              " 'chemical',\n",
              " 'bagging',\n",
              " 'baby',\n",
              " 'annihilated',\n",
              " '9',\n",
              " 'used',\n",
              " 'twitter',\n",
              " 'tsunami',\n",
              " 'traffic',\n",
              " 'tomorrow',\n",
              " 'suspect',\n",
              " 'sure',\n",
              " 'security',\n",
              " 'pkk',\n",
              " 'part',\n",
              " 'national',\n",
              " 'island',\n",
              " 'isis',\n",
              " 'hijacker',\n",
              " 'ebay',\n",
              " 'detonated',\n",
              " 'crashed',\n",
              " 'august',\n",
              " 'anniversary',\n",
              " 'already',\n",
              " 'airplane',\n",
              " '6',\n",
              " 'whats',\n",
              " 'soon',\n",
              " 'song',\n",
              " 'shoulder',\n",
              " 'reunion',\n",
              " 'responders',\n",
              " 'obliterate',\n",
              " 'minute',\n",
              " 'longer',\n",
              " 'light',\n",
              " 'left',\n",
              " 'hundreds',\n",
              " 'hostage',\n",
              " 'half',\n",
              " 'guys',\n",
              " 'government',\n",
              " 'fun',\n",
              " 'fatality',\n",
              " 'eyewitness',\n",
              " 'done',\n",
              " 'detonation',\n",
              " 'demolish',\n",
              " 'crushed',\n",
              " 'blast',\n",
              " 'believe',\n",
              " 'airport',\n",
              " 'affected',\n",
              " 'actually',\n",
              " 'yet',\n",
              " 'went',\n",
              " 'wake',\n",
              " 'volcano',\n",
              " 'very',\n",
              " 'use',\n",
              " 'upheaval',\n",
              " 'turkey',\n",
              " 'trying',\n",
              " 'thought',\n",
              " 'thanks',\n",
              " 'sound',\n",
              " 'sirens',\n",
              " 'shooting',\n",
              " 'send',\n",
              " 'same',\n",
              " 'remember',\n",
              " 'razed',\n",
              " 'prebreak',\n",
              " 'possible',\n",
              " 'ok',\n",
              " 'oh',\n",
              " 'music',\n",
              " 'media',\n",
              " 'land',\n",
              " 'issues',\n",
              " 'hijack',\n",
              " 'engulfed',\n",
              " 'electrocute',\n",
              " 'died',\n",
              " 'collision',\n",
              " 'collide',\n",
              " 'caused',\n",
              " 'catastrophic',\n",
              " 'care',\n",
              " 'calgary',\n",
              " 'building',\n",
              " 'arson',\n",
              " '8',\n",
              " 'zone',\n",
              " 'wont',\n",
              " 'tornado',\n",
              " 'three',\n",
              " 'start',\n",
              " 'site',\n",
              " 'person',\n",
              " 'obliterated',\n",
              " 'nearby',\n",
              " 'men',\n",
              " 'leave',\n",
              " 'israeli',\n",
              " 'hours',\n",
              " 'group',\n",
              " 'goes',\n",
              " 'gets',\n",
              " 'due',\n",
              " 'drowned',\n",
              " 'demolished',\n",
              " 'deluged',\n",
              " 'declares',\n",
              " 'cyclone',\n",
              " 'beautiful',\n",
              " '16yr',\n",
              " 'yourself',\n",
              " 'sue',\n",
              " 'shot',\n",
              " 'river',\n",
              " 're\\x89Û',\n",
              " 'play',\n",
              " 'plans',\n",
              " 'place',\n",
              " 'officials',\n",
              " 'nowplaying',\n",
              " 'north',\n",
              " 'making',\n",
              " 'lab',\n",
              " 'kids',\n",
              " 'job',\n",
              " 'inside',\n",
              " 'hell',\n",
              " 'fight',\n",
              " 'fan',\n",
              " 'demolition',\n",
              " 'brown',\n",
              " 'bc',\n",
              " 'avalanche',\n",
              " '\\x89ÛÓ',\n",
              " 'words',\n",
              " 'typhoondevastated',\n",
              " 'swallowed',\n",
              " 'such',\n",
              " 'stretcher',\n",
              " 'south',\n",
              " 'snowstorm',\n",
              " 'seismic',\n",
              " 'saipan',\n",
              " 'reuters',\n",
              " 'policy',\n",
              " 'pic',\n",
              " 'outside',\n",
              " 'obliteration',\n",
              " 'n',\n",
              " 'murderer',\n",
              " 'islam',\n",
              " 'hey',\n",
              " 'hellfire',\n",
              " 'far',\n",
              " 'doesnt',\n",
              " 'deal',\n",
              " 'days',\n",
              " 'bush',\n",
              " 'blazing',\n",
              " 'bar',\n",
              " 'anything',\n",
              " 'ago',\n",
              " 'ablaze',\n",
              " 'yeah',\n",
              " 'support',\n",
              " 'second',\n",
              " 'reactor',\n",
              " 'photos',\n",
              " 'mp',\n",
              " 'money',\n",
              " 'might',\n",
              " 'memories',\n",
              " 'literally',\n",
              " 'horror',\n",
              " 'hollywood',\n",
              " 'history',\n",
              " 'few',\n",
              " 'die',\n",
              " 'conclusively',\n",
              " 'casualty',\n",
              " 'business',\n",
              " 'bioterrorism',\n",
              " 'aircraft',\n",
              " 'abc',\n",
              " '7',\n",
              " '50',\n",
              " '30',\n",
              " '12',\n",
              " 'yes',\n",
              " 'west',\n",
              " 'watching',\n",
              " 'wait',\n",
              " 'ur',\n",
              " 'tv',\n",
              " 'theyre',\n",
              " 'tell',\n",
              " 'team',\n",
              " 'stay',\n",
              " 'spot',\n",
              " 'space',\n",
              " 'soudelor',\n",
              " 'seen',\n",
              " 'rubble',\n",
              " 'rainstorm',\n",
              " 'probably',\n",
              " 'pick',\n",
              " 'peace',\n",
              " 'once',\n",
              " 'officer',\n",
              " 'name',\n",
              " 'maybe',\n",
              " 'india',\n",
              " 'hear',\n",
              " 'health',\n",
              " 'find',\n",
              " 'finally',\n",
              " 'everything',\n",
              " 'd',\n",
              " 'crews',\n",
              " 'children',\n",
              " 'child',\n",
              " 'blight',\n",
              " 'amid',\n",
              " '20',\n",
              " 'waves',\n",
              " 'trench',\n",
              " 'transport',\n",
              " 'though',\n",
              " 'stand',\n",
              " 'siren',\n",
              " 'signs',\n",
              " 'shes',\n",
              " 'searching',\n",
              " 'rise',\n",
              " 'projected',\n",
              " 'own',\n",
              " 'order',\n",
              " 'move',\n",
              " 'miners',\n",
              " 'low',\n",
              " 'line',\n",
              " 'leather',\n",
              " 'la',\n",
              " 'having',\n",
              " 'happy',\n",
              " 'flash',\n",
              " 'feeling',\n",
              " 'fast',\n",
              " 'data',\n",
              " 'crisis',\n",
              " 'course',\n",
              " 'both',\n",
              " 'bodies',\n",
              " 'bigger',\n",
              " 'anyone',\n",
              " 'american',\n",
              " 'almost',\n",
              " 'wrong',\n",
              " 'worst',\n",
              " 'united',\n",
              " 'town',\n",
              " 'street',\n",
              " 'rd',\n",
              " 'pretty',\n",
              " 'others',\n",
              " 'online',\n",
              " 'offensive',\n",
              " 'needs',\n",
              " 'nearly',\n",
              " 'myself',\n",
              " 'morning',\n",
              " 'lost',\n",
              " 'huge',\n",
              " 'helicopter',\n",
              " 'heavy',\n",
              " 'hate',\n",
              " 'hat',\n",
              " 'hailstorm',\n",
              " 'effect',\n",
              " 'east',\n",
              " 'caught',\n",
              " 'book',\n",
              " 'bestnaijamade',\n",
              " 'become',\n",
              " '10',\n",
              " 'womens',\n",
              " 'usa',\n",
              " 'talk',\n",
              " 'star',\n",
              " 'sorry',\n",
              " 'self',\n",
              " 'russian',\n",
              " 'refugio',\n",
              " 'reason',\n",
              " 'picking',\n",
              " 'pay',\n",
              " 'pain',\n",
              " 'mayhem',\n",
              " 'manslaughter',\n",
              " 'listen',\n",
              " 'ladies',\n",
              " 'knock',\n",
              " 'jobs',\n",
              " 'ignition',\n",
              " 'eyes',\n",
              " 'costlier',\n",
              " 'closed',\n",
              " 'center',\n",
              " 'called',\n",
              " 'blizzard',\n",
              " 'beach',\n",
              " 'anthrax',\n",
              " 'alone',\n",
              " 'action',\n",
              " 'across',\n",
              " 'youth',\n",
              " 'win',\n",
              " 'view',\n",
              " 'vehicle',\n",
              " 'truth',\n",
              " 'thursday',\n",
              " 'thousands',\n",
              " 'ship',\n",
              " 'saved',\n",
              " 'reports',\n",
              " 'poor',\n",
              " 'pakistan',\n",
              " 'omg',\n",
              " 'mom',\n",
              " 'mishaps',\n",
              " 'meek',\n",
              " 'marks',\n",
              " 'makes',\n",
              " 'm',\n",
              " 'looking',\n",
              " 'level',\n",
              " 'houses',\n",
              " 'hard',\n",
              " 'happened',\n",
              " 'haha',\n",
              " 'guy',\n",
              " 'gun',\n",
              " 'gt',\n",
              " 'giant',\n",
              " 'gbbo',\n",
              " 'friends',\n",
              " 'flag',\n",
              " 'film',\n",
              " 'entire',\n",
              " 'emmerdale',\n",
              " 'declaration',\n",
              " 'damn',\n",
              " 'daily',\n",
              " 'couple',\n",
              " 'country',\n",
              " 'control',\n",
              " 'climate',\n",
              " 'china',\n",
              " 'chile',\n",
              " 'case',\n",
              " 'bbc',\n",
              " 'banned',\n",
              " 'ball',\n",
              " 'aug',\n",
              " 'arsonist',\n",
              " 'appears',\n",
              " 'angry',\n",
              " 'aint',\n",
              " 'aftershock',\n",
              " '60',\n",
              " '25',\n",
              " '13',\n",
              " '11',\n",
              " 'wonder',\n",
              " 'vs',\n",
              " 'virgin',\n",
              " 'village',\n",
              " 'try',\n",
              " 'totally',\n",
              " 'texas',\n",
              " 'temple',\n",
              " 'taking',\n",
              " 'takes',\n",
              " 't',\n",
              " 'side',\n",
              " 'ready',\n",
              " 'radio',\n",
              " 'public',\n",
              " 'playing',\n",
              " 'patience',\n",
              " 'outrage',\n",
              " 'official',\n",
              " 'moment',\n",
              " 'major',\n",
              " 'mad',\n",
              " 'lord',\n",
              " 'learn',\n",
              " 'large',\n",
              " 'isnt',\n",
              " 'govt',\n",
              " 'germs',\n",
              " 'fukushima',\n",
              " 'following',\n",
              " 'follow',\n",
              " 'feared',\n",
              " 'eye',\n",
              " 'else',\n",
              " 'drake',\n",
              " 'disea',\n",
              " 'devastated',\n",
              " 'desolate',\n",
              " 'computers',\n",
              " 'comes',\n",
              " 'cnn',\n",
              " 'class',\n",
              " 'christian',\n",
              " 'centre',\n",
              " 'cars',\n",
              " 'blaze',\n",
              " 'b',\n",
              " 'annihilation',\n",
              " 'america',\n",
              " '11yearold',\n",
              " 'yours',\n",
              " 'york',\n",
              " 'wanted',\n",
              " 'trains',\n",
              " 'toddler',\n",
              " 'till',\n",
              " 'theater',\n",
              " 'taken',\n",
              " 'sounds',\n",
              " 'sign',\n",
              " 'shows',\n",
              " 'running',\n",
              " 'risk',\n",
              " 'reddits',\n",
              " 'quiz',\n",
              " 'property',\n",
              " 'okay',\n",
              " 'niggas',\n",
              " 'myanmar',\n",
              " 'muslims',\n",
              " 'mph',\n",
              " 'mop',\n",
              " 'lmao',\n",
              " 'link',\n",
              " 'likely',\n",
              " 'led',\n",
              " 'issued',\n",
              " 'instead',\n",
              " 'human',\n",
              " 'holding',\n",
              " 'hiring',\n",
              " 'green',\n",
              " 'galactic',\n",
              " 'front',\n",
              " 'friend',\n",
              " 'favorite',\n",
              " 'drive',\n",
              " 'downtown',\n",
              " 'dog',\n",
              " 'date',\n",
              " 'crazy',\n",
              " 'coaches',\n",
              " 'bring',\n",
              " 'blue',\n",
              " 'bed',\n",
              " 'bayelsa',\n",
              " '100',\n",
              " 'wow',\n",
              " 'worse',\n",
              " 'upon',\n",
              " 'unconfirmed',\n",
              " 'turn',\n",
              " 'trust',\n",
              " 'true',\n",
              " 'tote',\n",
              " 'subreddits',\n",
              " 'started',\n",
              " 'seeing',\n",
              " 'secret',\n",
              " 'scared',\n",
              " 'russia',\n",
              " 'room',\n",
              " 'rock',\n",
              " 'rly',\n",
              " 'pradesh',\n",
              " 'ppl',\n",
              " 'neighbours',\n",
              " 'mount',\n",
              " 'mode',\n",
              " 'miss',\n",
              " ...]"
            ]
          },
          "metadata": {},
          "execution_count": 68
        }
      ]
    },
    {
      "cell_type": "code",
      "source": [
        "model_1.summary()"
      ],
      "metadata": {
        "colab": {
          "base_uri": "https://localhost:8080/"
        },
        "id": "ho4mV-dpr2E0",
        "outputId": "156d3edf-5e99-487d-9b04-9319546d0961"
      },
      "execution_count": 70,
      "outputs": [
        {
          "output_type": "stream",
          "name": "stdout",
          "text": [
            "Model: \"model_1_dense\"\n",
            "_________________________________________________________________\n",
            " Layer (type)                Output Shape              Param #   \n",
            "=================================================================\n",
            " input_3 (InputLayer)        [(None, 1)]               0         \n",
            "                                                                 \n",
            " text_vectorization_1 (TextV  (None, 15)               0         \n",
            " ectorization)                                                   \n",
            "                                                                 \n",
            " embedding (Embedding)       (None, 15, 128)           1280000   \n",
            "                                                                 \n",
            " global_average_pooling1d_1   (None, 128)              0         \n",
            " (GlobalAveragePooling1D)                                        \n",
            "                                                                 \n",
            " dense_2 (Dense)             (None, 1)                 129       \n",
            "                                                                 \n",
            "=================================================================\n",
            "Total params: 1,280,129\n",
            "Trainable params: 1,280,129\n",
            "Non-trainable params: 0\n",
            "_________________________________________________________________\n"
          ]
        }
      ]
    },
    {
      "cell_type": "code",
      "source": [
        "#get weight matrix of embedding layer\n",
        "#numerical representations of each token in our training data, learned for 5 epochs\n",
        "embed_weights = model_1.get_layer(\"embedding\").get_weights()[0]\n",
        "print(embed_weights.shape)"
      ],
      "metadata": {
        "colab": {
          "base_uri": "https://localhost:8080/"
        },
        "id": "EptvdDbwsBll",
        "outputId": "df9f3bf3-5d6e-4758-bec7-bfb831c39fd3"
      },
      "execution_count": 78,
      "outputs": [
        {
          "output_type": "stream",
          "name": "stdout",
          "text": [
            "(10000, 128)\n"
          ]
        }
      ]
    },
    {
      "cell_type": "code",
      "source": [
        "embed_weights"
      ],
      "metadata": {
        "colab": {
          "base_uri": "https://localhost:8080/"
        },
        "id": "3_qrDxjIsMdn",
        "outputId": "919e9cfd-fcd9-48f4-cda2-8a107b8e878f"
      },
      "execution_count": 77,
      "outputs": [
        {
          "output_type": "execute_result",
          "data": {
            "text/plain": [
              "TensorShape([1, 10000, 128])"
            ]
          },
          "metadata": {},
          "execution_count": 77
        }
      ]
    },
    {
      "cell_type": "code",
      "source": [
        "#projector tool\n",
        "import io\n",
        "out_v = io.open('vectors.tsv', 'w', encoding=\"utf-8\")\n",
        "out_m = io.open('metadata.tsv', 'w', encoding=\"utf-8\")\n",
        "\n",
        "for index, word in enumerate(words_in_vocab):\n",
        "  if index == 0:\n",
        "    continue\n",
        "\n",
        "  vec = embed_weights[index]\n",
        "  out_v.write('\\t'.join([str(x) for x in vec]) + \"\\n\")\n",
        "  out_m.write(word + \"\\n\")\n",
        "out_v.close()\n",
        "out_m.close()"
      ],
      "metadata": {
        "id": "1zjPoQplsQpK"
      },
      "execution_count": 80,
      "outputs": []
    },
    {
      "cell_type": "code",
      "source": [
        "#download files from colab and upload to projector\n",
        "try:\n",
        "  from google.colab import files\n",
        "  files.download('vectors.tsv')\n",
        "  files.download('metadata.tsv')\n",
        "except Exception:\n",
        "  pass"
      ],
      "metadata": {
        "colab": {
          "base_uri": "https://localhost:8080/",
          "height": 17
        },
        "id": "HOKlSddStyhi",
        "outputId": "7714d460-136e-4988-c260-aa92834c5b0f"
      },
      "execution_count": 82,
      "outputs": [
        {
          "output_type": "display_data",
          "data": {
            "text/plain": [
              "<IPython.core.display.Javascript object>"
            ],
            "application/javascript": [
              "\n",
              "    async function download(id, filename, size) {\n",
              "      if (!google.colab.kernel.accessAllowed) {\n",
              "        return;\n",
              "      }\n",
              "      const div = document.createElement('div');\n",
              "      const label = document.createElement('label');\n",
              "      label.textContent = `Downloading \"${filename}\": `;\n",
              "      div.appendChild(label);\n",
              "      const progress = document.createElement('progress');\n",
              "      progress.max = size;\n",
              "      div.appendChild(progress);\n",
              "      document.body.appendChild(div);\n",
              "\n",
              "      const buffers = [];\n",
              "      let downloaded = 0;\n",
              "\n",
              "      const channel = await google.colab.kernel.comms.open(id);\n",
              "      // Send a message to notify the kernel that we're ready.\n",
              "      channel.send({})\n",
              "\n",
              "      for await (const message of channel.messages) {\n",
              "        // Send a message to notify the kernel that we're ready.\n",
              "        channel.send({})\n",
              "        if (message.buffers) {\n",
              "          for (const buffer of message.buffers) {\n",
              "            buffers.push(buffer);\n",
              "            downloaded += buffer.byteLength;\n",
              "            progress.value = downloaded;\n",
              "          }\n",
              "        }\n",
              "      }\n",
              "      const blob = new Blob(buffers, {type: 'application/binary'});\n",
              "      const a = document.createElement('a');\n",
              "      a.href = window.URL.createObjectURL(blob);\n",
              "      a.download = filename;\n",
              "      div.appendChild(a);\n",
              "      a.click();\n",
              "      div.remove();\n",
              "    }\n",
              "  "
            ]
          },
          "metadata": {}
        },
        {
          "output_type": "display_data",
          "data": {
            "text/plain": [
              "<IPython.core.display.Javascript object>"
            ],
            "application/javascript": [
              "download(\"download_43b5a260-b5db-4d5f-b743-1f15ef152e03\", \"vectors.tsv\", 15376936)"
            ]
          },
          "metadata": {}
        },
        {
          "output_type": "display_data",
          "data": {
            "text/plain": [
              "<IPython.core.display.Javascript object>"
            ],
            "application/javascript": [
              "\n",
              "    async function download(id, filename, size) {\n",
              "      if (!google.colab.kernel.accessAllowed) {\n",
              "        return;\n",
              "      }\n",
              "      const div = document.createElement('div');\n",
              "      const label = document.createElement('label');\n",
              "      label.textContent = `Downloading \"${filename}\": `;\n",
              "      div.appendChild(label);\n",
              "      const progress = document.createElement('progress');\n",
              "      progress.max = size;\n",
              "      div.appendChild(progress);\n",
              "      document.body.appendChild(div);\n",
              "\n",
              "      const buffers = [];\n",
              "      let downloaded = 0;\n",
              "\n",
              "      const channel = await google.colab.kernel.comms.open(id);\n",
              "      // Send a message to notify the kernel that we're ready.\n",
              "      channel.send({})\n",
              "\n",
              "      for await (const message of channel.messages) {\n",
              "        // Send a message to notify the kernel that we're ready.\n",
              "        channel.send({})\n",
              "        if (message.buffers) {\n",
              "          for (const buffer of message.buffers) {\n",
              "            buffers.push(buffer);\n",
              "            downloaded += buffer.byteLength;\n",
              "            progress.value = downloaded;\n",
              "          }\n",
              "        }\n",
              "      }\n",
              "      const blob = new Blob(buffers, {type: 'application/binary'});\n",
              "      const a = document.createElement('a');\n",
              "      a.href = window.URL.createObjectURL(blob);\n",
              "      a.download = filename;\n",
              "      div.appendChild(a);\n",
              "      a.click();\n",
              "      div.remove();\n",
              "    }\n",
              "  "
            ]
          },
          "metadata": {}
        },
        {
          "output_type": "display_data",
          "data": {
            "text/plain": [
              "<IPython.core.display.Javascript object>"
            ],
            "application/javascript": [
              "download(\"download_d2e8dca7-4e80-4b58-bb1d-2a5aea05e0c0\", \"metadata.tsv\", 80563)"
            ]
          },
          "metadata": {}
        }
      ]
    },
    {
      "cell_type": "code",
      "source": [
        ""
      ],
      "metadata": {
        "id": "fHOfPEZVutRs"
      },
      "execution_count": null,
      "outputs": []
    }
  ]
}