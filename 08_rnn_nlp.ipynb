{
  "nbformat": 4,
  "nbformat_minor": 0,
  "metadata": {
    "colab": {
      "name": "08_rnn_nlp.ipynb",
      "provenance": [],
      "authorship_tag": "ABX9TyPCfdkUTOA+yeE3AGQZ8xnn",
      "include_colab_link": true
    },
    "kernelspec": {
      "name": "python3",
      "display_name": "Python 3"
    },
    "language_info": {
      "name": "python"
    },
    "accelerator": "GPU",
    "gpuClass": "standard"
  },
  "cells": [
    {
      "cell_type": "markdown",
      "metadata": {
        "id": "view-in-github",
        "colab_type": "text"
      },
      "source": [
        "<a href=\"https://colab.research.google.com/github/JacksonLeb/tensorflow_learning/blob/main/08_rnn_nlp.ipynb\" target=\"_parent\"><img src=\"https://colab.research.google.com/assets/colab-badge.svg\" alt=\"Open In Colab\"/></a>"
      ]
    },
    {
      "cell_type": "markdown",
      "source": [
        "#introduction to NLP fundamentals in Tf"
      ],
      "metadata": {
        "id": "ZnD4PEygtE27"
      }
    },
    {
      "cell_type": "markdown",
      "source": [
        "##Getting info from natural language (sequences or speech)\n",
        "##NLP can also be called seq2seq problems"
      ],
      "metadata": {
        "id": "D7gQKzrXtSj_"
      }
    },
    {
      "cell_type": "markdown",
      "source": [
        "###Checking for GPU\n"
      ],
      "metadata": {
        "id": "r3iGdaTrtaso"
      }
    },
    {
      "cell_type": "code",
      "source": [
        "!nvidia-smi -L"
      ],
      "metadata": {
        "colab": {
          "base_uri": "https://localhost:8080/"
        },
        "id": "NICFwKp3ti4A",
        "outputId": "191d7205-b84e-4035-9c28-d45bf7eb4706"
      },
      "execution_count": 1,
      "outputs": [
        {
          "output_type": "stream",
          "name": "stdout",
          "text": [
            "GPU 0: Tesla T4 (UUID: GPU-e606db87-1c65-8445-0d8b-f80d63df48d1)\n"
          ]
        }
      ]
    },
    {
      "cell_type": "code",
      "source": [
        "##Get helper functions\n",
        "!wget https://raw.githubusercontent.com/mrdbourke/tensorflow-deep-learning/main/extras/helper_functions.py"
      ],
      "metadata": {
        "colab": {
          "base_uri": "https://localhost:8080/"
        },
        "id": "a9pVQ8PWtk3o",
        "outputId": "5570471d-0267-43e0-f3b6-014356b9fc16"
      },
      "execution_count": 2,
      "outputs": [
        {
          "output_type": "stream",
          "name": "stdout",
          "text": [
            "--2022-07-30 17:54:14--  https://raw.githubusercontent.com/mrdbourke/tensorflow-deep-learning/main/extras/helper_functions.py\n",
            "Resolving raw.githubusercontent.com (raw.githubusercontent.com)... 185.199.110.133, 185.199.108.133, 185.199.111.133, ...\n",
            "Connecting to raw.githubusercontent.com (raw.githubusercontent.com)|185.199.110.133|:443... connected.\n",
            "HTTP request sent, awaiting response... 200 OK\n",
            "Length: 10246 (10K) [text/plain]\n",
            "Saving to: ‘helper_functions.py’\n",
            "\n",
            "\rhelper_functions.py   0%[                    ]       0  --.-KB/s               \rhelper_functions.py 100%[===================>]  10.01K  --.-KB/s    in 0s      \n",
            "\n",
            "2022-07-30 17:54:14 (74.2 MB/s) - ‘helper_functions.py’ saved [10246/10246]\n",
            "\n"
          ]
        }
      ]
    },
    {
      "cell_type": "code",
      "source": [
        "from helper_functions import unzip_data, create_tensorboard_callback, plot_loss_curves, compare_historys"
      ],
      "metadata": {
        "id": "Sv2Mb8Ant40V"
      },
      "execution_count": 3,
      "outputs": []
    },
    {
      "cell_type": "code",
      "source": [
        "##Get a text dataset\n",
        "###Using the Kaggle Intro to NLP dataset, samples of tweets labeled hazard or not\n",
        "!wget https://storage.googleapis.com/ztm_tf_course/nlp_getting_started.zip"
      ],
      "metadata": {
        "colab": {
          "base_uri": "https://localhost:8080/"
        },
        "id": "6hpLAV1suBYh",
        "outputId": "45b3b9b7-52af-46c7-f2ff-32b48870bf58"
      },
      "execution_count": 4,
      "outputs": [
        {
          "output_type": "stream",
          "name": "stdout",
          "text": [
            "--2022-07-30 17:54:19--  https://storage.googleapis.com/ztm_tf_course/nlp_getting_started.zip\n",
            "Resolving storage.googleapis.com (storage.googleapis.com)... 172.217.2.112, 172.253.62.128, 142.251.45.16, ...\n",
            "Connecting to storage.googleapis.com (storage.googleapis.com)|172.217.2.112|:443... connected.\n",
            "HTTP request sent, awaiting response... 200 OK\n",
            "Length: 607343 (593K) [application/zip]\n",
            "Saving to: ‘nlp_getting_started.zip’\n",
            "\n",
            "\rnlp_getting_started   0%[                    ]       0  --.-KB/s               \rnlp_getting_started 100%[===================>] 593.11K  --.-KB/s    in 0.006s  \n",
            "\n",
            "2022-07-30 17:54:19 (90.7 MB/s) - ‘nlp_getting_started.zip’ saved [607343/607343]\n",
            "\n"
          ]
        }
      ]
    },
    {
      "cell_type": "code",
      "source": [
        "unzip_data(\"nlp_getting_started.zip\")"
      ],
      "metadata": {
        "id": "S-YrbvJruXMQ"
      },
      "execution_count": 5,
      "outputs": []
    },
    {
      "cell_type": "markdown",
      "source": [
        "##Visualizing a text dataset"
      ],
      "metadata": {
        "id": "CGGTc845ubSI"
      }
    },
    {
      "cell_type": "code",
      "source": [
        "import pandas as pd\n",
        "train_df = pd.read_csv(\"train.csv\")\n",
        "test_df = pd.read_csv(\"test.csv\")\n",
        "train_df.head()"
      ],
      "metadata": {
        "colab": {
          "base_uri": "https://localhost:8080/",
          "height": 206
        },
        "id": "dXSyq2QkurM0",
        "outputId": "507677d7-4b8b-4423-ec6f-0b21fe7a9e3e"
      },
      "execution_count": 6,
      "outputs": [
        {
          "output_type": "execute_result",
          "data": {
            "text/plain": [
              "   id keyword location                                               text  \\\n",
              "0   1     NaN      NaN  Our Deeds are the Reason of this #earthquake M...   \n",
              "1   4     NaN      NaN             Forest fire near La Ronge Sask. Canada   \n",
              "2   5     NaN      NaN  All residents asked to 'shelter in place' are ...   \n",
              "3   6     NaN      NaN  13,000 people receive #wildfires evacuation or...   \n",
              "4   7     NaN      NaN  Just got sent this photo from Ruby #Alaska as ...   \n",
              "\n",
              "   target  \n",
              "0       1  \n",
              "1       1  \n",
              "2       1  \n",
              "3       1  \n",
              "4       1  "
            ],
            "text/html": [
              "\n",
              "  <div id=\"df-699c3803-0e11-43a9-9aba-1247161c493b\">\n",
              "    <div class=\"colab-df-container\">\n",
              "      <div>\n",
              "<style scoped>\n",
              "    .dataframe tbody tr th:only-of-type {\n",
              "        vertical-align: middle;\n",
              "    }\n",
              "\n",
              "    .dataframe tbody tr th {\n",
              "        vertical-align: top;\n",
              "    }\n",
              "\n",
              "    .dataframe thead th {\n",
              "        text-align: right;\n",
              "    }\n",
              "</style>\n",
              "<table border=\"1\" class=\"dataframe\">\n",
              "  <thead>\n",
              "    <tr style=\"text-align: right;\">\n",
              "      <th></th>\n",
              "      <th>id</th>\n",
              "      <th>keyword</th>\n",
              "      <th>location</th>\n",
              "      <th>text</th>\n",
              "      <th>target</th>\n",
              "    </tr>\n",
              "  </thead>\n",
              "  <tbody>\n",
              "    <tr>\n",
              "      <th>0</th>\n",
              "      <td>1</td>\n",
              "      <td>NaN</td>\n",
              "      <td>NaN</td>\n",
              "      <td>Our Deeds are the Reason of this #earthquake M...</td>\n",
              "      <td>1</td>\n",
              "    </tr>\n",
              "    <tr>\n",
              "      <th>1</th>\n",
              "      <td>4</td>\n",
              "      <td>NaN</td>\n",
              "      <td>NaN</td>\n",
              "      <td>Forest fire near La Ronge Sask. Canada</td>\n",
              "      <td>1</td>\n",
              "    </tr>\n",
              "    <tr>\n",
              "      <th>2</th>\n",
              "      <td>5</td>\n",
              "      <td>NaN</td>\n",
              "      <td>NaN</td>\n",
              "      <td>All residents asked to 'shelter in place' are ...</td>\n",
              "      <td>1</td>\n",
              "    </tr>\n",
              "    <tr>\n",
              "      <th>3</th>\n",
              "      <td>6</td>\n",
              "      <td>NaN</td>\n",
              "      <td>NaN</td>\n",
              "      <td>13,000 people receive #wildfires evacuation or...</td>\n",
              "      <td>1</td>\n",
              "    </tr>\n",
              "    <tr>\n",
              "      <th>4</th>\n",
              "      <td>7</td>\n",
              "      <td>NaN</td>\n",
              "      <td>NaN</td>\n",
              "      <td>Just got sent this photo from Ruby #Alaska as ...</td>\n",
              "      <td>1</td>\n",
              "    </tr>\n",
              "  </tbody>\n",
              "</table>\n",
              "</div>\n",
              "      <button class=\"colab-df-convert\" onclick=\"convertToInteractive('df-699c3803-0e11-43a9-9aba-1247161c493b')\"\n",
              "              title=\"Convert this dataframe to an interactive table.\"\n",
              "              style=\"display:none;\">\n",
              "        \n",
              "  <svg xmlns=\"http://www.w3.org/2000/svg\" height=\"24px\"viewBox=\"0 0 24 24\"\n",
              "       width=\"24px\">\n",
              "    <path d=\"M0 0h24v24H0V0z\" fill=\"none\"/>\n",
              "    <path d=\"M18.56 5.44l.94 2.06.94-2.06 2.06-.94-2.06-.94-.94-2.06-.94 2.06-2.06.94zm-11 1L8.5 8.5l.94-2.06 2.06-.94-2.06-.94L8.5 2.5l-.94 2.06-2.06.94zm10 10l.94 2.06.94-2.06 2.06-.94-2.06-.94-.94-2.06-.94 2.06-2.06.94z\"/><path d=\"M17.41 7.96l-1.37-1.37c-.4-.4-.92-.59-1.43-.59-.52 0-1.04.2-1.43.59L10.3 9.45l-7.72 7.72c-.78.78-.78 2.05 0 2.83L4 21.41c.39.39.9.59 1.41.59.51 0 1.02-.2 1.41-.59l7.78-7.78 2.81-2.81c.8-.78.8-2.07 0-2.86zM5.41 20L4 18.59l7.72-7.72 1.47 1.35L5.41 20z\"/>\n",
              "  </svg>\n",
              "      </button>\n",
              "      \n",
              "  <style>\n",
              "    .colab-df-container {\n",
              "      display:flex;\n",
              "      flex-wrap:wrap;\n",
              "      gap: 12px;\n",
              "    }\n",
              "\n",
              "    .colab-df-convert {\n",
              "      background-color: #E8F0FE;\n",
              "      border: none;\n",
              "      border-radius: 50%;\n",
              "      cursor: pointer;\n",
              "      display: none;\n",
              "      fill: #1967D2;\n",
              "      height: 32px;\n",
              "      padding: 0 0 0 0;\n",
              "      width: 32px;\n",
              "    }\n",
              "\n",
              "    .colab-df-convert:hover {\n",
              "      background-color: #E2EBFA;\n",
              "      box-shadow: 0px 1px 2px rgba(60, 64, 67, 0.3), 0px 1px 3px 1px rgba(60, 64, 67, 0.15);\n",
              "      fill: #174EA6;\n",
              "    }\n",
              "\n",
              "    [theme=dark] .colab-df-convert {\n",
              "      background-color: #3B4455;\n",
              "      fill: #D2E3FC;\n",
              "    }\n",
              "\n",
              "    [theme=dark] .colab-df-convert:hover {\n",
              "      background-color: #434B5C;\n",
              "      box-shadow: 0px 1px 3px 1px rgba(0, 0, 0, 0.15);\n",
              "      filter: drop-shadow(0px 1px 2px rgba(0, 0, 0, 0.3));\n",
              "      fill: #FFFFFF;\n",
              "    }\n",
              "  </style>\n",
              "\n",
              "      <script>\n",
              "        const buttonEl =\n",
              "          document.querySelector('#df-699c3803-0e11-43a9-9aba-1247161c493b button.colab-df-convert');\n",
              "        buttonEl.style.display =\n",
              "          google.colab.kernel.accessAllowed ? 'block' : 'none';\n",
              "\n",
              "        async function convertToInteractive(key) {\n",
              "          const element = document.querySelector('#df-699c3803-0e11-43a9-9aba-1247161c493b');\n",
              "          const dataTable =\n",
              "            await google.colab.kernel.invokeFunction('convertToInteractive',\n",
              "                                                     [key], {});\n",
              "          if (!dataTable) return;\n",
              "\n",
              "          const docLinkHtml = 'Like what you see? Visit the ' +\n",
              "            '<a target=\"_blank\" href=https://colab.research.google.com/notebooks/data_table.ipynb>data table notebook</a>'\n",
              "            + ' to learn more about interactive tables.';\n",
              "          element.innerHTML = '';\n",
              "          dataTable['output_type'] = 'display_data';\n",
              "          await google.colab.output.renderOutput(dataTable, element);\n",
              "          const docLink = document.createElement('div');\n",
              "          docLink.innerHTML = docLinkHtml;\n",
              "          element.appendChild(docLink);\n",
              "        }\n",
              "      </script>\n",
              "    </div>\n",
              "  </div>\n",
              "  "
            ]
          },
          "metadata": {},
          "execution_count": 6
        }
      ]
    },
    {
      "cell_type": "code",
      "source": [
        "train_df[\"text\"][0]"
      ],
      "metadata": {
        "colab": {
          "base_uri": "https://localhost:8080/",
          "height": 35
        },
        "id": "QZG6R-H5vMqh",
        "outputId": "fb6544c5-e678-4abc-d6f3-875ba44395c1"
      },
      "execution_count": 7,
      "outputs": [
        {
          "output_type": "execute_result",
          "data": {
            "text/plain": [
              "'Our Deeds are the Reason of this #earthquake May ALLAH Forgive us all'"
            ],
            "application/vnd.google.colaboratory.intrinsic+json": {
              "type": "string"
            }
          },
          "metadata": {},
          "execution_count": 7
        }
      ]
    },
    {
      "cell_type": "code",
      "source": [
        "train_df[\"text\"][10]"
      ],
      "metadata": {
        "colab": {
          "base_uri": "https://localhost:8080/",
          "height": 35
        },
        "id": "upCsjxyJvR1r",
        "outputId": "5a9ba510-0de7-470f-d0a7-654a40b6ed7b"
      },
      "execution_count": 8,
      "outputs": [
        {
          "output_type": "execute_result",
          "data": {
            "text/plain": [
              "'Three people died from the heat wave so far'"
            ],
            "application/vnd.google.colaboratory.intrinsic+json": {
              "type": "string"
            }
          },
          "metadata": {},
          "execution_count": 8
        }
      ]
    },
    {
      "cell_type": "code",
      "source": [
        "train_df[\"text\"][100]"
      ],
      "metadata": {
        "colab": {
          "base_uri": "https://localhost:8080/",
          "height": 35
        },
        "id": "AaW_eFiyvUYZ",
        "outputId": "558ed7a1-d047-4864-a878-3563340e1f79"
      },
      "execution_count": 9,
      "outputs": [
        {
          "output_type": "execute_result",
          "data": {
            "text/plain": [
              "'.@NorwayMFA #Bahrain police had previously died in a road accident they were not killed by explosion https://t.co/gFJfgTodad'"
            ],
            "application/vnd.google.colaboratory.intrinsic+json": {
              "type": "string"
            }
          },
          "metadata": {},
          "execution_count": 9
        }
      ]
    },
    {
      "cell_type": "code",
      "source": [
        "#shuffle trianing df\n",
        "train_df_shuffled = train_df.sample(frac=1, random_state=42)\n",
        "train_df_shuffled.head()"
      ],
      "metadata": {
        "colab": {
          "base_uri": "https://localhost:8080/",
          "height": 206
        },
        "id": "T9eGhTtBvVy6",
        "outputId": "874a7450-8a23-412d-cb65-db6aff698d7c"
      },
      "execution_count": 10,
      "outputs": [
        {
          "output_type": "execute_result",
          "data": {
            "text/plain": [
              "        id      keyword               location  \\\n",
              "2644  3796  destruction                    NaN   \n",
              "2227  3185       deluge                    NaN   \n",
              "5448  7769       police                     UK   \n",
              "132    191   aftershock                    NaN   \n",
              "6845  9810       trauma  Montgomery County, MD   \n",
              "\n",
              "                                                   text  target  \n",
              "2644  So you have a new weapon that can cause un-ima...       1  \n",
              "2227  The f$&amp;@ing things I do for #GISHWHES Just...       0  \n",
              "5448  DT @georgegalloway: RT @Galloway4Mayor: ÛÏThe...       1  \n",
              "132   Aftershock back to school kick off was great. ...       0  \n",
              "6845  in response to trauma Children of Addicts deve...       0  "
            ],
            "text/html": [
              "\n",
              "  <div id=\"df-4d991105-e14f-4aa4-9399-2182ccaa7931\">\n",
              "    <div class=\"colab-df-container\">\n",
              "      <div>\n",
              "<style scoped>\n",
              "    .dataframe tbody tr th:only-of-type {\n",
              "        vertical-align: middle;\n",
              "    }\n",
              "\n",
              "    .dataframe tbody tr th {\n",
              "        vertical-align: top;\n",
              "    }\n",
              "\n",
              "    .dataframe thead th {\n",
              "        text-align: right;\n",
              "    }\n",
              "</style>\n",
              "<table border=\"1\" class=\"dataframe\">\n",
              "  <thead>\n",
              "    <tr style=\"text-align: right;\">\n",
              "      <th></th>\n",
              "      <th>id</th>\n",
              "      <th>keyword</th>\n",
              "      <th>location</th>\n",
              "      <th>text</th>\n",
              "      <th>target</th>\n",
              "    </tr>\n",
              "  </thead>\n",
              "  <tbody>\n",
              "    <tr>\n",
              "      <th>2644</th>\n",
              "      <td>3796</td>\n",
              "      <td>destruction</td>\n",
              "      <td>NaN</td>\n",
              "      <td>So you have a new weapon that can cause un-ima...</td>\n",
              "      <td>1</td>\n",
              "    </tr>\n",
              "    <tr>\n",
              "      <th>2227</th>\n",
              "      <td>3185</td>\n",
              "      <td>deluge</td>\n",
              "      <td>NaN</td>\n",
              "      <td>The f$&amp;amp;@ing things I do for #GISHWHES Just...</td>\n",
              "      <td>0</td>\n",
              "    </tr>\n",
              "    <tr>\n",
              "      <th>5448</th>\n",
              "      <td>7769</td>\n",
              "      <td>police</td>\n",
              "      <td>UK</td>\n",
              "      <td>DT @georgegalloway: RT @Galloway4Mayor: ÛÏThe...</td>\n",
              "      <td>1</td>\n",
              "    </tr>\n",
              "    <tr>\n",
              "      <th>132</th>\n",
              "      <td>191</td>\n",
              "      <td>aftershock</td>\n",
              "      <td>NaN</td>\n",
              "      <td>Aftershock back to school kick off was great. ...</td>\n",
              "      <td>0</td>\n",
              "    </tr>\n",
              "    <tr>\n",
              "      <th>6845</th>\n",
              "      <td>9810</td>\n",
              "      <td>trauma</td>\n",
              "      <td>Montgomery County, MD</td>\n",
              "      <td>in response to trauma Children of Addicts deve...</td>\n",
              "      <td>0</td>\n",
              "    </tr>\n",
              "  </tbody>\n",
              "</table>\n",
              "</div>\n",
              "      <button class=\"colab-df-convert\" onclick=\"convertToInteractive('df-4d991105-e14f-4aa4-9399-2182ccaa7931')\"\n",
              "              title=\"Convert this dataframe to an interactive table.\"\n",
              "              style=\"display:none;\">\n",
              "        \n",
              "  <svg xmlns=\"http://www.w3.org/2000/svg\" height=\"24px\"viewBox=\"0 0 24 24\"\n",
              "       width=\"24px\">\n",
              "    <path d=\"M0 0h24v24H0V0z\" fill=\"none\"/>\n",
              "    <path d=\"M18.56 5.44l.94 2.06.94-2.06 2.06-.94-2.06-.94-.94-2.06-.94 2.06-2.06.94zm-11 1L8.5 8.5l.94-2.06 2.06-.94-2.06-.94L8.5 2.5l-.94 2.06-2.06.94zm10 10l.94 2.06.94-2.06 2.06-.94-2.06-.94-.94-2.06-.94 2.06-2.06.94z\"/><path d=\"M17.41 7.96l-1.37-1.37c-.4-.4-.92-.59-1.43-.59-.52 0-1.04.2-1.43.59L10.3 9.45l-7.72 7.72c-.78.78-.78 2.05 0 2.83L4 21.41c.39.39.9.59 1.41.59.51 0 1.02-.2 1.41-.59l7.78-7.78 2.81-2.81c.8-.78.8-2.07 0-2.86zM5.41 20L4 18.59l7.72-7.72 1.47 1.35L5.41 20z\"/>\n",
              "  </svg>\n",
              "      </button>\n",
              "      \n",
              "  <style>\n",
              "    .colab-df-container {\n",
              "      display:flex;\n",
              "      flex-wrap:wrap;\n",
              "      gap: 12px;\n",
              "    }\n",
              "\n",
              "    .colab-df-convert {\n",
              "      background-color: #E8F0FE;\n",
              "      border: none;\n",
              "      border-radius: 50%;\n",
              "      cursor: pointer;\n",
              "      display: none;\n",
              "      fill: #1967D2;\n",
              "      height: 32px;\n",
              "      padding: 0 0 0 0;\n",
              "      width: 32px;\n",
              "    }\n",
              "\n",
              "    .colab-df-convert:hover {\n",
              "      background-color: #E2EBFA;\n",
              "      box-shadow: 0px 1px 2px rgba(60, 64, 67, 0.3), 0px 1px 3px 1px rgba(60, 64, 67, 0.15);\n",
              "      fill: #174EA6;\n",
              "    }\n",
              "\n",
              "    [theme=dark] .colab-df-convert {\n",
              "      background-color: #3B4455;\n",
              "      fill: #D2E3FC;\n",
              "    }\n",
              "\n",
              "    [theme=dark] .colab-df-convert:hover {\n",
              "      background-color: #434B5C;\n",
              "      box-shadow: 0px 1px 3px 1px rgba(0, 0, 0, 0.15);\n",
              "      filter: drop-shadow(0px 1px 2px rgba(0, 0, 0, 0.3));\n",
              "      fill: #FFFFFF;\n",
              "    }\n",
              "  </style>\n",
              "\n",
              "      <script>\n",
              "        const buttonEl =\n",
              "          document.querySelector('#df-4d991105-e14f-4aa4-9399-2182ccaa7931 button.colab-df-convert');\n",
              "        buttonEl.style.display =\n",
              "          google.colab.kernel.accessAllowed ? 'block' : 'none';\n",
              "\n",
              "        async function convertToInteractive(key) {\n",
              "          const element = document.querySelector('#df-4d991105-e14f-4aa4-9399-2182ccaa7931');\n",
              "          const dataTable =\n",
              "            await google.colab.kernel.invokeFunction('convertToInteractive',\n",
              "                                                     [key], {});\n",
              "          if (!dataTable) return;\n",
              "\n",
              "          const docLinkHtml = 'Like what you see? Visit the ' +\n",
              "            '<a target=\"_blank\" href=https://colab.research.google.com/notebooks/data_table.ipynb>data table notebook</a>'\n",
              "            + ' to learn more about interactive tables.';\n",
              "          element.innerHTML = '';\n",
              "          dataTable['output_type'] = 'display_data';\n",
              "          await google.colab.output.renderOutput(dataTable, element);\n",
              "          const docLink = document.createElement('div');\n",
              "          docLink.innerHTML = docLinkHtml;\n",
              "          element.appendChild(docLink);\n",
              "        }\n",
              "      </script>\n",
              "    </div>\n",
              "  </div>\n",
              "  "
            ]
          },
          "metadata": {},
          "execution_count": 10
        }
      ]
    },
    {
      "cell_type": "code",
      "source": [
        "#test df\n",
        "test_df.head()"
      ],
      "metadata": {
        "colab": {
          "base_uri": "https://localhost:8080/",
          "height": 206
        },
        "id": "MsQQhmdqvYzP",
        "outputId": "5937cbe5-d7c7-4cac-a711-1f897bc8e978"
      },
      "execution_count": 11,
      "outputs": [
        {
          "output_type": "execute_result",
          "data": {
            "text/plain": [
              "   id keyword location                                               text\n",
              "0   0     NaN      NaN                 Just happened a terrible car crash\n",
              "1   2     NaN      NaN  Heard about #earthquake is different cities, s...\n",
              "2   3     NaN      NaN  there is a forest fire at spot pond, geese are...\n",
              "3   9     NaN      NaN           Apocalypse lighting. #Spokane #wildfires\n",
              "4  11     NaN      NaN      Typhoon Soudelor kills 28 in China and Taiwan"
            ],
            "text/html": [
              "\n",
              "  <div id=\"df-1f2aebe8-e2b6-4f85-8046-08d81ee49780\">\n",
              "    <div class=\"colab-df-container\">\n",
              "      <div>\n",
              "<style scoped>\n",
              "    .dataframe tbody tr th:only-of-type {\n",
              "        vertical-align: middle;\n",
              "    }\n",
              "\n",
              "    .dataframe tbody tr th {\n",
              "        vertical-align: top;\n",
              "    }\n",
              "\n",
              "    .dataframe thead th {\n",
              "        text-align: right;\n",
              "    }\n",
              "</style>\n",
              "<table border=\"1\" class=\"dataframe\">\n",
              "  <thead>\n",
              "    <tr style=\"text-align: right;\">\n",
              "      <th></th>\n",
              "      <th>id</th>\n",
              "      <th>keyword</th>\n",
              "      <th>location</th>\n",
              "      <th>text</th>\n",
              "    </tr>\n",
              "  </thead>\n",
              "  <tbody>\n",
              "    <tr>\n",
              "      <th>0</th>\n",
              "      <td>0</td>\n",
              "      <td>NaN</td>\n",
              "      <td>NaN</td>\n",
              "      <td>Just happened a terrible car crash</td>\n",
              "    </tr>\n",
              "    <tr>\n",
              "      <th>1</th>\n",
              "      <td>2</td>\n",
              "      <td>NaN</td>\n",
              "      <td>NaN</td>\n",
              "      <td>Heard about #earthquake is different cities, s...</td>\n",
              "    </tr>\n",
              "    <tr>\n",
              "      <th>2</th>\n",
              "      <td>3</td>\n",
              "      <td>NaN</td>\n",
              "      <td>NaN</td>\n",
              "      <td>there is a forest fire at spot pond, geese are...</td>\n",
              "    </tr>\n",
              "    <tr>\n",
              "      <th>3</th>\n",
              "      <td>9</td>\n",
              "      <td>NaN</td>\n",
              "      <td>NaN</td>\n",
              "      <td>Apocalypse lighting. #Spokane #wildfires</td>\n",
              "    </tr>\n",
              "    <tr>\n",
              "      <th>4</th>\n",
              "      <td>11</td>\n",
              "      <td>NaN</td>\n",
              "      <td>NaN</td>\n",
              "      <td>Typhoon Soudelor kills 28 in China and Taiwan</td>\n",
              "    </tr>\n",
              "  </tbody>\n",
              "</table>\n",
              "</div>\n",
              "      <button class=\"colab-df-convert\" onclick=\"convertToInteractive('df-1f2aebe8-e2b6-4f85-8046-08d81ee49780')\"\n",
              "              title=\"Convert this dataframe to an interactive table.\"\n",
              "              style=\"display:none;\">\n",
              "        \n",
              "  <svg xmlns=\"http://www.w3.org/2000/svg\" height=\"24px\"viewBox=\"0 0 24 24\"\n",
              "       width=\"24px\">\n",
              "    <path d=\"M0 0h24v24H0V0z\" fill=\"none\"/>\n",
              "    <path d=\"M18.56 5.44l.94 2.06.94-2.06 2.06-.94-2.06-.94-.94-2.06-.94 2.06-2.06.94zm-11 1L8.5 8.5l.94-2.06 2.06-.94-2.06-.94L8.5 2.5l-.94 2.06-2.06.94zm10 10l.94 2.06.94-2.06 2.06-.94-2.06-.94-.94-2.06-.94 2.06-2.06.94z\"/><path d=\"M17.41 7.96l-1.37-1.37c-.4-.4-.92-.59-1.43-.59-.52 0-1.04.2-1.43.59L10.3 9.45l-7.72 7.72c-.78.78-.78 2.05 0 2.83L4 21.41c.39.39.9.59 1.41.59.51 0 1.02-.2 1.41-.59l7.78-7.78 2.81-2.81c.8-.78.8-2.07 0-2.86zM5.41 20L4 18.59l7.72-7.72 1.47 1.35L5.41 20z\"/>\n",
              "  </svg>\n",
              "      </button>\n",
              "      \n",
              "  <style>\n",
              "    .colab-df-container {\n",
              "      display:flex;\n",
              "      flex-wrap:wrap;\n",
              "      gap: 12px;\n",
              "    }\n",
              "\n",
              "    .colab-df-convert {\n",
              "      background-color: #E8F0FE;\n",
              "      border: none;\n",
              "      border-radius: 50%;\n",
              "      cursor: pointer;\n",
              "      display: none;\n",
              "      fill: #1967D2;\n",
              "      height: 32px;\n",
              "      padding: 0 0 0 0;\n",
              "      width: 32px;\n",
              "    }\n",
              "\n",
              "    .colab-df-convert:hover {\n",
              "      background-color: #E2EBFA;\n",
              "      box-shadow: 0px 1px 2px rgba(60, 64, 67, 0.3), 0px 1px 3px 1px rgba(60, 64, 67, 0.15);\n",
              "      fill: #174EA6;\n",
              "    }\n",
              "\n",
              "    [theme=dark] .colab-df-convert {\n",
              "      background-color: #3B4455;\n",
              "      fill: #D2E3FC;\n",
              "    }\n",
              "\n",
              "    [theme=dark] .colab-df-convert:hover {\n",
              "      background-color: #434B5C;\n",
              "      box-shadow: 0px 1px 3px 1px rgba(0, 0, 0, 0.15);\n",
              "      filter: drop-shadow(0px 1px 2px rgba(0, 0, 0, 0.3));\n",
              "      fill: #FFFFFF;\n",
              "    }\n",
              "  </style>\n",
              "\n",
              "      <script>\n",
              "        const buttonEl =\n",
              "          document.querySelector('#df-1f2aebe8-e2b6-4f85-8046-08d81ee49780 button.colab-df-convert');\n",
              "        buttonEl.style.display =\n",
              "          google.colab.kernel.accessAllowed ? 'block' : 'none';\n",
              "\n",
              "        async function convertToInteractive(key) {\n",
              "          const element = document.querySelector('#df-1f2aebe8-e2b6-4f85-8046-08d81ee49780');\n",
              "          const dataTable =\n",
              "            await google.colab.kernel.invokeFunction('convertToInteractive',\n",
              "                                                     [key], {});\n",
              "          if (!dataTable) return;\n",
              "\n",
              "          const docLinkHtml = 'Like what you see? Visit the ' +\n",
              "            '<a target=\"_blank\" href=https://colab.research.google.com/notebooks/data_table.ipynb>data table notebook</a>'\n",
              "            + ' to learn more about interactive tables.';\n",
              "          element.innerHTML = '';\n",
              "          dataTable['output_type'] = 'display_data';\n",
              "          await google.colab.output.renderOutput(dataTable, element);\n",
              "          const docLink = document.createElement('div');\n",
              "          docLink.innerHTML = docLinkHtml;\n",
              "          element.appendChild(docLink);\n",
              "        }\n",
              "      </script>\n",
              "    </div>\n",
              "  </div>\n",
              "  "
            ]
          },
          "metadata": {},
          "execution_count": 11
        }
      ]
    },
    {
      "cell_type": "code",
      "source": [
        "#examples of each class\n",
        "train_df.target.value_counts()"
      ],
      "metadata": {
        "colab": {
          "base_uri": "https://localhost:8080/"
        },
        "id": "eOI5KrBPvpO4",
        "outputId": "cfd45ee0-cc3b-4117-cb78-116c5dd834b8"
      },
      "execution_count": 12,
      "outputs": [
        {
          "output_type": "execute_result",
          "data": {
            "text/plain": [
              "0    4342\n",
              "1    3271\n",
              "Name: target, dtype: int64"
            ]
          },
          "metadata": {},
          "execution_count": 12
        }
      ]
    },
    {
      "cell_type": "code",
      "source": [
        "#total num of samples\n",
        "len(train_df), len(test_df)"
      ],
      "metadata": {
        "colab": {
          "base_uri": "https://localhost:8080/"
        },
        "id": "FmNJ9EsKv1BD",
        "outputId": "f818dcaf-47d8-4aaa-ea14-389441187a2b"
      },
      "execution_count": 13,
      "outputs": [
        {
          "output_type": "execute_result",
          "data": {
            "text/plain": [
              "(7613, 3263)"
            ]
          },
          "metadata": {},
          "execution_count": 13
        }
      ]
    },
    {
      "cell_type": "code",
      "source": [
        "#visualizing random samples\n",
        "import random\n",
        "random_index = random.randint(0, len(train_df)-5) #create random index\n",
        "for row in train_df_shuffled[[\"text\", \"target\"]][random_index:random_index +5 ].itertuples():\n",
        "  _, text, target = row\n",
        "  print(f\"Target: {target}\", \"(real disaster\" if target > 0 else \"(not real disaster)\")\n",
        "  print(f\"Text:\\n{text}\")"
      ],
      "metadata": {
        "colab": {
          "base_uri": "https://localhost:8080/"
        },
        "id": "jqgjc8eTwF6y",
        "outputId": "b7792f68-39c8-457d-f62a-e22cf2acf31f"
      },
      "execution_count": 14,
      "outputs": [
        {
          "output_type": "stream",
          "name": "stdout",
          "text": [
            "Target: 0 (not real disaster)\n",
            "Text:\n",
            "@pxnatosil @RenuncieDilma  Fatality!\n",
            "Target: 0 (not real disaster)\n",
            "Text:\n",
            "'But right now you're only annoyed by them. If you actually hung out with them you'd see that they mean no harm.' @AudaciousSpunk\n",
            "Target: 0 (not real disaster)\n",
            "Text:\n",
            "Drake spokes rep for the raptors.Beg to differ the other night when shots rang out at Musik wasn't a goodlook.Running in panic no fun\n",
            "Target: 0 (not real disaster)\n",
            "Text:\n",
            "Looks like it may have been microsofts anti virus trying to update causing the meltdown\n",
            "Target: 0 (not real disaster)\n",
            "Text:\n",
            "#Healthcare #Job in #Kodiak AK: Emergency Services Supervisor - Emergency... at Providence Health &amp; Services http://t.co/8KJ1wDAiGj #Jobs\n"
          ]
        }
      ]
    },
    {
      "cell_type": "code",
      "source": [
        "#splittting data into training and validation\n",
        "from sklearn.model_selection import train_test_split\n",
        "train_sentences, val_sentences, train_labels, val_labels = train_test_split(train_df_shuffled[\"text\"].to_numpy(),\n",
        "                                                                            train_df_shuffled[\"target\"].to_numpy(),\n",
        "                                                                            test_size=0.1,\n",
        "                                                                            random_state=30)"
      ],
      "metadata": {
        "id": "6D7_Msunwxry"
      },
      "execution_count": 15,
      "outputs": []
    },
    {
      "cell_type": "code",
      "source": [
        "#checking lengths of each data set\n",
        "len(train_sentences), len(val_sentences), len(train_labels), len(val_labels)"
      ],
      "metadata": {
        "colab": {
          "base_uri": "https://localhost:8080/"
        },
        "id": "NdntL4rNBpta",
        "outputId": "a0c8223c-fed4-48b5-f54d-d89cdf5c5a9c"
      },
      "execution_count": 16,
      "outputs": [
        {
          "output_type": "execute_result",
          "data": {
            "text/plain": [
              "(6851, 762, 6851, 762)"
            ]
          },
          "metadata": {},
          "execution_count": 16
        }
      ]
    },
    {
      "cell_type": "code",
      "source": [
        "#check the first 10 sentences\n",
        "train_sentences[:10]"
      ],
      "metadata": {
        "colab": {
          "base_uri": "https://localhost:8080/"
        },
        "id": "cEYvscGPCRf2",
        "outputId": "dbfbf369-c61c-48e3-ad97-b06e467bc389"
      },
      "execution_count": 17,
      "outputs": [
        {
          "output_type": "execute_result",
          "data": {
            "text/plain": [
              "array([\"All residents asked to 'shelter in place' are being notified by officers. No other evacuation or shelter in place orders are expected\",\n",
              "       \"@DavidJordan88 @Stephanenny Except we don't know who started the riot or if it even makes sense to credit any particular individuals...\",\n",
              "       'Shadow boxing the apocalypse',\n",
              "       \"Maybe that's what happens when a tornado meets a volcano\",\n",
              "       '#Politics Democracy\\x89Ûªs hatred for hate: \\x89Û_ Dawabsha threaten to erode Israeli democracy. Homegrown terrorism ha...  http://t.co/q8n5Tn8WME',\n",
              "       \"@TomDean86 he's alright but Hazard/Willian ain't gonna be shifted easily.\",\n",
              "       '0-day bug in fully patched OS X comes under active exploit to hijack Macs http://t.co/sbGiRvQvzb',\n",
              "       'Three Israeli soldiers wounded in West Bank terrorist attack via /r/worldnews http://t.co/su4ZVWADj7',\n",
              "       'If it\\x89Ûªs a war you came to see you will never see a waved white flag in front me.\\nI can\\x89Ûªt end up dead I wont be misled.',\n",
              "       'York Co. first responders compete to save lives in \\x89Û÷Badges for Blood\\x89Ûª #paramedic #EMS http://t.co/E65V80FCus'],\n",
              "      dtype=object)"
            ]
          },
          "metadata": {},
          "execution_count": 17
        }
      ]
    },
    {
      "cell_type": "code",
      "source": [
        "val_sentences[:10]"
      ],
      "metadata": {
        "colab": {
          "base_uri": "https://localhost:8080/"
        },
        "id": "Dd40MBTaCXFt",
        "outputId": "701b09e2-b1eb-4b28-e68a-ac20a5201c07"
      },
      "execution_count": 18,
      "outputs": [
        {
          "output_type": "execute_result",
          "data": {
            "text/plain": [
              "array(['Blaze is my bro http://t.co/UdKeSJ01mL',\n",
              "       'I was taught at school in the 1970s that piracy slavery and suicide-bombing were purely historical. No one then expected them to re-occur',\n",
              "       'http://t.co/FueRk0gWui Twelve feared killed in Pakistani air ambulance helicopter crash http://t.co/Mv7GgGlmVc',\n",
              "       \"I'm a friggin wreck destiel sucks (read the vine description)\\nhttps://t.co/MKX6Ux4OZt\",\n",
              "       'Dr. Bengston on #wildfire management: \\x89ÛÏnumbers and size of fires areas affected and costs of fighting them all show upward trend.\\x89Û\\x9d #smem',\n",
              "       '@ameenshaikh3 sir i just only wanted to make a point about @sureshpprabhu you made and said he is lying about bridge collapse.',\n",
              "       'Wow! I just won this for free The Hobbit: Desolation of Smaug UV digital download code *GIN 9 http://t.co/MjFdCrjs8j #listia',\n",
              "       'Photoset: hakogaku: ?åÊI am a kurd. i was born on a battlefield. raised on a battlefield. gunfire sirens... http://t.co/obp595W7tm',\n",
              "       'Washington Post - 4 dead dozens injured in Gaza blast near house leveled in summer war http://t.co/VjXa13n8Ap',\n",
              "       '@wocowae Police Officer Wounded Suspect Dead After Exchanging Shots http://t.co/oiOeCbsh1f ushed'],\n",
              "      dtype=object)"
            ]
          },
          "metadata": {},
          "execution_count": 18
        }
      ]
    },
    {
      "cell_type": "markdown",
      "source": [
        "## Converting text into numbers"
      ],
      "metadata": {
        "id": "nVIszkTYCY-8"
      }
    },
    {
      "cell_type": "markdown",
      "source": [
        "#Tokenization and Embedding\n",
        "##Tokenization: Each word/character is set to a number/one-hot encoding\n",
        "##Embedding: Each word/character is set to a vector, with user-defined size, allowing for information on the relationship between tokens/words/characters. Additionally, can limit size and can be learned (treated as a weight matrix)\n"
      ],
      "metadata": {
        "id": "VaehOHk5CoHW"
      }
    },
    {
      "cell_type": "code",
      "source": [
        "#Text Vectorization\n",
        "import tensorflow as tf\n",
        "from tensorflow.keras.layers import TextVectorization\n",
        "\n",
        "#Use default TextVectorization parameters\n",
        "text_vectorizer = TextVectorization(max_tokens=None, #how many words in vocabulary (automaticaly add <OOV>)\n",
        "                                    standardize=\"lower_and_strip_punctuation\", #remove fluff,\n",
        "                                    split=\"whitespace\",\n",
        "                                    ngrams=None, #create groups of n words\n",
        "                                    output_mode=\"int\", #how to map tokens to numbers\n",
        "                                    output_sequence_length=None, #how long each batch of a setence should be\n",
        "                                    pad_to_max_tokens=False)\n"
      ],
      "metadata": {
        "id": "Q0gVYSLkDOp3"
      },
      "execution_count": 19,
      "outputs": []
    },
    {
      "cell_type": "code",
      "source": [
        "#find average number of tokens (words) in the trianing tweets\n",
        "round(sum([len(i.split()) for i in train_sentences])/len(train_sentences))"
      ],
      "metadata": {
        "colab": {
          "base_uri": "https://localhost:8080/"
        },
        "id": "x-2vFBt0GNd-",
        "outputId": "027c4330-2d2d-4412-a372-4c0725c53cb5"
      },
      "execution_count": 20,
      "outputs": [
        {
          "output_type": "execute_result",
          "data": {
            "text/plain": [
              "15"
            ]
          },
          "metadata": {},
          "execution_count": 20
        }
      ]
    },
    {
      "cell_type": "code",
      "source": [
        "#set up text vectorization variables\n",
        "max_vocab_length = 10000 # max num of words to have in vocabulary\n",
        "max_length = 15 #max length of a tweet that our models sees\n",
        "\n",
        "text_vectorizer = TextVectorization(max_tokens=max_vocab_length, #how many words in vocabulary (automaticaly add <OOV>)\n",
        "                                    standardize=\"lower_and_strip_punctuation\", #remove fluff,\n",
        "                                    split=\"whitespace\",\n",
        "                                    ngrams=None, #create groups of n words\n",
        "                                    output_mode=\"int\", #how to map tokens to numbers\n",
        "                                    output_sequence_length=max_length, #how long each batch of a setence should be\n",
        "                                    pad_to_max_tokens=True)"
      ],
      "metadata": {
        "id": "HbIW4m3qG2ER"
      },
      "execution_count": 21,
      "outputs": []
    },
    {
      "cell_type": "code",
      "source": [
        "#adapting text_vectorizer to training data\n",
        "text_vectorizer.adapt(train_sentences) #adapt to training data, very important"
      ],
      "metadata": {
        "id": "n0A2cWjAHPK-"
      },
      "execution_count": 22,
      "outputs": []
    },
    {
      "cell_type": "code",
      "source": [
        "train_sentences[:10]"
      ],
      "metadata": {
        "colab": {
          "base_uri": "https://localhost:8080/"
        },
        "id": "RIjbJuNvHn-Q",
        "outputId": "37ed899d-b208-4743-e07f-f0862c0881f7"
      },
      "execution_count": 23,
      "outputs": [
        {
          "output_type": "execute_result",
          "data": {
            "text/plain": [
              "array([\"All residents asked to 'shelter in place' are being notified by officers. No other evacuation or shelter in place orders are expected\",\n",
              "       \"@DavidJordan88 @Stephanenny Except we don't know who started the riot or if it even makes sense to credit any particular individuals...\",\n",
              "       'Shadow boxing the apocalypse',\n",
              "       \"Maybe that's what happens when a tornado meets a volcano\",\n",
              "       '#Politics Democracy\\x89Ûªs hatred for hate: \\x89Û_ Dawabsha threaten to erode Israeli democracy. Homegrown terrorism ha...  http://t.co/q8n5Tn8WME',\n",
              "       \"@TomDean86 he's alright but Hazard/Willian ain't gonna be shifted easily.\",\n",
              "       '0-day bug in fully patched OS X comes under active exploit to hijack Macs http://t.co/sbGiRvQvzb',\n",
              "       'Three Israeli soldiers wounded in West Bank terrorist attack via /r/worldnews http://t.co/su4ZVWADj7',\n",
              "       'If it\\x89Ûªs a war you came to see you will never see a waved white flag in front me.\\nI can\\x89Ûªt end up dead I wont be misled.',\n",
              "       'York Co. first responders compete to save lives in \\x89Û÷Badges for Blood\\x89Ûª #paramedic #EMS http://t.co/E65V80FCus'],\n",
              "      dtype=object)"
            ]
          },
          "metadata": {},
          "execution_count": 23
        }
      ]
    },
    {
      "cell_type": "code",
      "source": [
        "#Create sample setnces and tokenize it\n",
        "sample_sentence = \"A tornado destroyed my house\"\n",
        "text_vectorizer([sample_sentence])"
      ],
      "metadata": {
        "colab": {
          "base_uri": "https://localhost:8080/"
        },
        "id": "ghPJeZTdHpmP",
        "outputId": "f3c6786e-f946-4f3b-c801-59d034a838bb"
      },
      "execution_count": 24,
      "outputs": [
        {
          "output_type": "execute_result",
          "data": {
            "text/plain": [
              "<tf.Tensor: shape=(1, 15), dtype=int64, numpy=\n",
              "array([[  3, 595, 346,  13, 311,   0,   0,   0,   0,   0,   0,   0,   0,\n",
              "          0,   0]])>"
            ]
          },
          "metadata": {},
          "execution_count": 24
        }
      ]
    },
    {
      "cell_type": "code",
      "source": [
        "#Choose a random sentence from the triaing dataset and vectorize it\n",
        "random_sentence = random.choice(train_sentences)\n",
        "print(f\"original sentence: {random_sentence}\\n vectorized sentence: {text_vectorizer([random_sentence])}\")"
      ],
      "metadata": {
        "colab": {
          "base_uri": "https://localhost:8080/"
        },
        "id": "G1A_HeIgH1dl",
        "outputId": "54a172ab-7b26-43d8-da85-fe19d976cafc"
      },
      "execution_count": 25,
      "outputs": [
        {
          "output_type": "stream",
          "name": "stdout",
          "text": [
            "original sentence: Slightly doesn't help that he has Suh and Wake in practice. But think he will get there. A lot of weapons! #FinsUp \n",
            "http://t.co/i1EeUxxZ3A\n",
            " vectorized sentence: [[1998  661  159   16   60   43 4480    7  556    4 1621   30  131   60\n",
            "    39]]\n"
          ]
        }
      ]
    },
    {
      "cell_type": "code",
      "source": [
        "#number of unique words found in train_sentences\n",
        "words_in_vocab = text_vectorizer.get_vocabulary()\n",
        "top_5_words = words_in_vocab[:5]\n",
        "bottom_5_words = words_in_vocab[-5:]\n",
        "print(f\"Num of words: {len(words_in_vocab)}\")\n",
        "top_5_words, bottom_5_words"
      ],
      "metadata": {
        "colab": {
          "base_uri": "https://localhost:8080/"
        },
        "id": "DjHVULaBIOds",
        "outputId": "d5edd62c-f229-4240-dfd0-53612f0fb8fc"
      },
      "execution_count": 26,
      "outputs": [
        {
          "output_type": "stream",
          "name": "stdout",
          "text": [
            "Num of words: 10000\n"
          ]
        },
        {
          "output_type": "execute_result",
          "data": {
            "text/plain": [
              "(['', '[UNK]', 'the', 'a', 'in'],\n",
              " ['panda', 'panama', 'pampalmater', 'palmoil', 'palmer'])"
            ]
          },
          "metadata": {},
          "execution_count": 26
        }
      ]
    },
    {
      "cell_type": "markdown",
      "source": [
        "### Creating an embedding using an embedding layer\n"
      ],
      "metadata": {
        "id": "ZAjowXaIIfNw"
      }
    },
    {
      "cell_type": "code",
      "source": [
        "#using tensorflow.keras.layeres.Embedding\n",
        "##Parameters: input_dim, output_dim, input_length\n",
        "from tensorflow.keras import layers\n",
        "\n",
        "embedding = layers.Embedding(input_dim=max_vocab_length,\n",
        "                             output_dim=128,\n",
        "                             input_length=max_length)\n",
        "embedding"
      ],
      "metadata": {
        "colab": {
          "base_uri": "https://localhost:8080/"
        },
        "id": "t6Yg2so4JQwK",
        "outputId": "a531f63e-d95b-4f00-93e9-fad5d7775534"
      },
      "execution_count": 27,
      "outputs": [
        {
          "output_type": "execute_result",
          "data": {
            "text/plain": [
              "<keras.layers.embeddings.Embedding at 0x7efba037cd10>"
            ]
          },
          "metadata": {},
          "execution_count": 27
        }
      ]
    },
    {
      "cell_type": "code",
      "source": [
        "#get a random sentence\n",
        "random_sentence = random.choice(train_sentences)\n",
        "print(f\"random sentence: {random_sentence}\")\n",
        "print(f\"embedded:\")\n",
        "sample_embed = embedding(text_vectorizer([random_sentence]))\n",
        "sample_embed"
      ],
      "metadata": {
        "colab": {
          "base_uri": "https://localhost:8080/"
        },
        "id": "RP6-vW_-KAkY",
        "outputId": "75ee5405-8df5-43e5-84aa-49eaa81c4770"
      },
      "execution_count": 28,
      "outputs": [
        {
          "output_type": "stream",
          "name": "stdout",
          "text": [
            "random sentence: #ArrestpastorNganga it so worrying 2 see how some police officers in Kenya have sunk to low to the point of collaborating with pick pockets\n",
            "embedded:\n"
          ]
        },
        {
          "output_type": "execute_result",
          "data": {
            "text/plain": [
              "<tf.Tensor: shape=(1, 15, 128), dtype=float32, numpy=\n",
              "array([[[-0.00634   , -0.03411329, -0.02733816, ..., -0.00109199,\n",
              "         -0.00367967, -0.0394413 ],\n",
              "        [-0.00848218,  0.01149243,  0.0114172 , ..., -0.04313705,\n",
              "          0.02088666, -0.04094946],\n",
              "        [-0.01337736, -0.04845222,  0.03097222, ..., -0.03989774,\n",
              "         -0.01485755,  0.01324748],\n",
              "        ...,\n",
              "        [ 0.02257364,  0.04437787, -0.04884931, ...,  0.00102862,\n",
              "          0.04846447, -0.00687462],\n",
              "        [ 0.02905599,  0.01677786, -0.04664249, ..., -0.01259058,\n",
              "         -0.02605264,  0.02007088],\n",
              "        [ 0.04488838,  0.04708029, -0.01132544, ..., -0.01845799,\n",
              "          0.01498476, -0.00463766]]], dtype=float32)>"
            ]
          },
          "metadata": {},
          "execution_count": 28
        }
      ]
    },
    {
      "cell_type": "code",
      "source": [
        "sample_embed[0][0], sample_embed[0][0].shape, "
      ],
      "metadata": {
        "colab": {
          "base_uri": "https://localhost:8080/"
        },
        "id": "bnJWDCi5KZIY",
        "outputId": "5ebeca17-acb1-4c7a-c716-36cb91e235e7"
      },
      "execution_count": 29,
      "outputs": [
        {
          "output_type": "execute_result",
          "data": {
            "text/plain": [
              "(<tf.Tensor: shape=(128,), dtype=float32, numpy=\n",
              " array([-0.00634   , -0.03411329, -0.02733816, -0.0009669 ,  0.03351059,\n",
              "        -0.01346784,  0.03323222, -0.01625564,  0.02858922,  0.04201715,\n",
              "         0.02553289, -0.04571294, -0.03280514,  0.01608136, -0.01739334,\n",
              "         0.04982579, -0.0101439 ,  0.04106735, -0.01710286,  0.0390091 ,\n",
              "         0.02954758,  0.02010364,  0.00813643,  0.01636772,  0.00709865,\n",
              "        -0.01273628,  0.00489771,  0.03026823,  0.03133457,  0.00742309,\n",
              "         0.02342864,  0.01824968,  0.0356108 , -0.0146366 ,  0.0182444 ,\n",
              "         0.02948438, -0.04666114,  0.01902426, -0.04081707,  0.01490441,\n",
              "        -0.00650771, -0.04615752, -0.03867546,  0.0443169 ,  0.03351157,\n",
              "         0.00038517, -0.02195569,  0.03274883,  0.04365213,  0.02265698,\n",
              "        -0.00661444,  0.03633923,  0.01207817, -0.03657149, -0.04663044,\n",
              "         0.02837029, -0.04767438,  0.04422189, -0.0082325 , -0.04991914,\n",
              "         0.00923814,  0.0083212 , -0.00327548, -0.04193168, -0.03522986,\n",
              "        -0.04160213, -0.02701475,  0.02948273,  0.01027243, -0.03681258,\n",
              "        -0.00225122,  0.01579633,  0.0452511 , -0.04493782,  0.03261027,\n",
              "        -0.01535017,  0.00089159,  0.04896222, -0.02856907, -0.00398216,\n",
              "         0.02381564,  0.00870889,  0.04242232,  0.01185786,  0.02339541,\n",
              "        -0.02662696, -0.00106099, -0.00410575,  0.00527927,  0.01284068,\n",
              "         0.04866639, -0.02936282, -0.04033328, -0.04725975,  0.02671143,\n",
              "         0.03988286,  0.02534051,  0.01793034, -0.00665624, -0.00608158,\n",
              "        -0.01617905,  0.00774763, -0.00691018, -0.02097517, -0.01832219,\n",
              "         0.01561077, -0.00266134, -0.02288692, -0.00978582,  0.0118328 ,\n",
              "        -0.01016016, -0.03061019,  0.0346435 , -0.01338246,  0.01512501,\n",
              "         0.02775942, -0.02559686, -0.04040337, -0.0483924 ,  0.02865113,\n",
              "        -0.02585512, -0.04146515,  0.00771674, -0.03939128,  0.03034431,\n",
              "        -0.00109199, -0.00367967, -0.0394413 ], dtype=float32)>,\n",
              " TensorShape([128]))"
            ]
          },
          "metadata": {},
          "execution_count": 29
        }
      ]
    },
    {
      "cell_type": "markdown",
      "source": [
        "##Modelling a text dataset (running series of experiments)\n",
        "###1. Naive bayes with Tf-IDF encoder (BASELINE)\n",
        "###2. Feed-forward neural network \n",
        "###3. LSTM\n",
        "###4. GRU\n",
        "###5. Bidirectiona;-LSTM\n",
        "###6. 1D CNN\n",
        "###7. TFHub pretrianed feature extractor\n",
        "###8. TFHub pretrained with 10% of trained datam\n",
        "\n"
      ],
      "metadata": {
        "id": "0DBYy9VgKz6Q"
      }
    },
    {
      "cell_type": "code",
      "source": [
        "###Model 0: Getting a baseline - Skleanrs multinomial naive bayes with tf-idf\n",
        "from sklearn.feature_extraction.text import TfidfVectorizer\n",
        "from sklearn.naive_bayes import MultinomialNB\n",
        "from sklearn.pipeline import Pipeline\n",
        "\n",
        "model_0 = Pipeline([\n",
        "                    (\"tfidf\", TfidfVectorizer()), #convert words to numbers\n",
        "                    (\"clf\", MultinomialNB()) #model the text\n",
        "\n",
        "])\n",
        "\n",
        "#fit the pipeline to the training data\n",
        "model_0.fit(train_sentences, train_labels)"
      ],
      "metadata": {
        "colab": {
          "base_uri": "https://localhost:8080/"
        },
        "id": "XkOIC43piGTm",
        "outputId": "5aec57a1-cf8f-489d-8470-5ade5bb874b7"
      },
      "execution_count": 30,
      "outputs": [
        {
          "output_type": "execute_result",
          "data": {
            "text/plain": [
              "Pipeline(steps=[('tfidf', TfidfVectorizer()), ('clf', MultinomialNB())])"
            ]
          },
          "metadata": {},
          "execution_count": 30
        }
      ]
    },
    {
      "cell_type": "code",
      "source": [
        "#Evaluate our baseline model\n",
        "baseline_score = model_0.score(val_sentences, val_labels)"
      ],
      "metadata": {
        "id": "O5X_siMrizGj"
      },
      "execution_count": 31,
      "outputs": []
    },
    {
      "cell_type": "code",
      "source": [
        "baseline_score"
      ],
      "metadata": {
        "colab": {
          "base_uri": "https://localhost:8080/"
        },
        "id": "6BOnGaYPi9ve",
        "outputId": "63145c56-599f-4cc1-dd58-fbad50f9da53"
      },
      "execution_count": 32,
      "outputs": [
        {
          "output_type": "execute_result",
          "data": {
            "text/plain": [
              "0.8044619422572179"
            ]
          },
          "metadata": {},
          "execution_count": 32
        }
      ]
    },
    {
      "cell_type": "code",
      "source": [
        "print(f\"Baseline Score: {baseline_score*100:.2f}%\")"
      ],
      "metadata": {
        "colab": {
          "base_uri": "https://localhost:8080/"
        },
        "id": "7Hashe3Ii-nf",
        "outputId": "719a9653-7c95-41f0-a6f0-af3293b783ee"
      },
      "execution_count": 33,
      "outputs": [
        {
          "output_type": "stream",
          "name": "stdout",
          "text": [
            "Baseline Score: 80.45%\n"
          ]
        }
      ]
    },
    {
      "cell_type": "code",
      "source": [
        "baseline_preds = model_0.predict(val_sentences)\n",
        "baseline_preds[:30]"
      ],
      "metadata": {
        "colab": {
          "base_uri": "https://localhost:8080/"
        },
        "id": "BEoJh2s0jJqo",
        "outputId": "cfd062d5-b118-40cf-a50e-2e5f7d28acf6"
      },
      "execution_count": 34,
      "outputs": [
        {
          "output_type": "execute_result",
          "data": {
            "text/plain": [
              "array([0, 1, 1, 0, 1, 0, 0, 0, 1, 1, 0, 0, 1, 0, 0, 0, 1, 0, 1, 0, 0, 0,\n",
              "       1, 1, 0, 1, 0, 0, 1, 1])"
            ]
          },
          "metadata": {},
          "execution_count": 34
        }
      ]
    },
    {
      "cell_type": "code",
      "source": [
        "### creating an evaluation function for our modeling experiements\n",
        "#Accuracy, Precision, Recall and f1-score\n",
        "from sklearn.metrics import accuracy_score, precision_recall_fscore_support\n",
        "\n",
        "def calculate_results(y_true, y_pred):\n",
        "  \"\"\"\n",
        "  Calculate model accuracy, preicision, recall and f1-score\n",
        "  \"\"\"\n",
        "  #calculate model accuracy\n",
        "  model_accuracy = accuracy_score(y_true, y_pred) * 100\n",
        "  \n",
        "  #precision, recall and f1-score(using weighted average)\n",
        "  model_precision, model_recall, model_f1, _ = precision_recall_fscore_support(y_true, y_pred, average=\"weighted\")\n",
        "  \n",
        "  model_results = {\n",
        "      \"accuracy\": model_accuracy,\n",
        "      \"precision\": model_precision,\n",
        "      \"recall\": model_recall,\n",
        "      \"f1\": model_f1\n",
        "  }\n",
        "\n",
        "  return model_results"
      ],
      "metadata": {
        "id": "DdUR34FxjRYZ"
      },
      "execution_count": 35,
      "outputs": []
    },
    {
      "cell_type": "code",
      "source": [
        "baseline_results = calculate_results(val_labels, baseline_preds)\n",
        "baseline_results"
      ],
      "metadata": {
        "colab": {
          "base_uri": "https://localhost:8080/"
        },
        "id": "tjVdDGjnk_q_",
        "outputId": "8fe6a2b5-ff5e-4e3e-9298-ecc643ba3282"
      },
      "execution_count": 36,
      "outputs": [
        {
          "output_type": "execute_result",
          "data": {
            "text/plain": [
              "{'accuracy': 80.4461942257218,\n",
              " 'f1': 0.7993754401853582,\n",
              " 'precision': 0.8113250534023555,\n",
              " 'recall': 0.8044619422572179}"
            ]
          },
          "metadata": {},
          "execution_count": 36
        }
      ]
    },
    {
      "cell_type": "code",
      "source": [
        "### Model 1: Feed Forward NN\n",
        "\n",
        "# Create tensorboard callback (need to create a new one for each model)\n",
        "from helper_functions import create_tensorboard_callback\n",
        "\n",
        "# Create directory to save TensorBoard logs\n",
        "SAVE_DIR = \"model_logs\"\n"
      ],
      "metadata": {
        "id": "Y0JBzhS5lGDW"
      },
      "execution_count": 37,
      "outputs": []
    },
    {
      "cell_type": "code",
      "source": [
        "# Build model with the Functional API\n",
        "from tensorflow.keras import layers\n",
        "inputs = layers.Input(shape=(1,), dtype=\"string\") # inputs are 1-dimensional strings\n",
        "x = text_vectorizer(inputs) # turn the input text into numbers\n",
        "x = embedding(x) # create an embedding of the numerized numbers\n",
        "x = layers.GlobalAveragePooling1D()(x) # lower the dimensionality of the embedding (try running the model without this layer and see what happens)\n",
        "outputs = layers.Dense(1, activation=\"sigmoid\")(x) # create the output layer, want binary outputs so use sigmoid activation\n",
        "model_1 = tf.keras.Model(inputs, outputs, name=\"model_1_dense\") # construct the model"
      ],
      "metadata": {
        "id": "PwSRLYpsl56K"
      },
      "execution_count": 38,
      "outputs": []
    },
    {
      "cell_type": "code",
      "source": [
        "model_1.summary()"
      ],
      "metadata": {
        "colab": {
          "base_uri": "https://localhost:8080/"
        },
        "id": "imqHX2FbmaFz",
        "outputId": "674284f3-e2af-4817-aec9-0b226b1eba4d"
      },
      "execution_count": 39,
      "outputs": [
        {
          "output_type": "stream",
          "name": "stdout",
          "text": [
            "Model: \"model_1_dense\"\n",
            "_________________________________________________________________\n",
            " Layer (type)                Output Shape              Param #   \n",
            "=================================================================\n",
            " input_1 (InputLayer)        [(None, 1)]               0         \n",
            "                                                                 \n",
            " text_vectorization_1 (TextV  (None, 15)               0         \n",
            " ectorization)                                                   \n",
            "                                                                 \n",
            " embedding (Embedding)       (None, 15, 128)           1280000   \n",
            "                                                                 \n",
            " global_average_pooling1d (G  (None, 128)              0         \n",
            " lobalAveragePooling1D)                                          \n",
            "                                                                 \n",
            " dense (Dense)               (None, 1)                 129       \n",
            "                                                                 \n",
            "=================================================================\n",
            "Total params: 1,280,129\n",
            "Trainable params: 1,280,129\n",
            "Non-trainable params: 0\n",
            "_________________________________________________________________\n"
          ]
        }
      ]
    },
    {
      "cell_type": "code",
      "source": [
        "# Compile model\n",
        "model_1.compile(loss=\"binary_crossentropy\",\n",
        "                optimizer=tf.keras.optimizers.Adam(),\n",
        "                metrics=[\"accuracy\"])"
      ],
      "metadata": {
        "id": "fTEaytjamd00"
      },
      "execution_count": 40,
      "outputs": []
    },
    {
      "cell_type": "code",
      "source": [
        "model_1_history = model_1.fit(x=train_sentences,\n",
        "                              y=train_labels,\n",
        "                              epochs=5,\n",
        "                              validation_data=(val_sentences, val_labels),\n",
        "                              callbacks=[create_tensorboard_callback(dir_name=SAVE_DIR,\n",
        "                                                                     experiment_name=\"model_1_dense\")])"
      ],
      "metadata": {
        "colab": {
          "base_uri": "https://localhost:8080/"
        },
        "id": "unGFznThnF8F",
        "outputId": "3439470b-f522-44dc-e821-3670b2a6f343"
      },
      "execution_count": 41,
      "outputs": [
        {
          "output_type": "stream",
          "name": "stdout",
          "text": [
            "Saving TensorBoard log files to: model_logs/model_1_dense/20220730-175429\n",
            "Epoch 1/5\n",
            "215/215 [==============================] - 8s 8ms/step - loss: 0.6134 - accuracy: 0.6885 - val_loss: 0.5170 - val_accuracy: 0.7822\n",
            "Epoch 2/5\n",
            "215/215 [==============================] - 2s 7ms/step - loss: 0.4444 - accuracy: 0.8187 - val_loss: 0.4434 - val_accuracy: 0.8045\n",
            "Epoch 3/5\n",
            "215/215 [==============================] - 2s 7ms/step - loss: 0.3499 - accuracy: 0.8600 - val_loss: 0.4276 - val_accuracy: 0.8150\n",
            "Epoch 4/5\n",
            "215/215 [==============================] - 1s 6ms/step - loss: 0.2870 - accuracy: 0.8901 - val_loss: 0.4416 - val_accuracy: 0.8110\n",
            "Epoch 5/5\n",
            "215/215 [==============================] - 1s 4ms/step - loss: 0.2400 - accuracy: 0.9098 - val_loss: 0.4590 - val_accuracy: 0.7992\n"
          ]
        }
      ]
    },
    {
      "cell_type": "code",
      "source": [
        "#check the results\n",
        "model_1.evaluate(val_sentences, val_labels)"
      ],
      "metadata": {
        "colab": {
          "base_uri": "https://localhost:8080/"
        },
        "id": "Eb3VDnQUoCdn",
        "outputId": "b6dd074d-1492-40c7-b36d-b1d86afc312e"
      },
      "execution_count": 42,
      "outputs": [
        {
          "output_type": "stream",
          "name": "stdout",
          "text": [
            "24/24 [==============================] - 0s 3ms/step - loss: 0.4590 - accuracy: 0.7992\n"
          ]
        },
        {
          "output_type": "execute_result",
          "data": {
            "text/plain": [
              "[0.45900651812553406, 0.7992125749588013]"
            ]
          },
          "metadata": {},
          "execution_count": 42
        }
      ]
    },
    {
      "cell_type": "code",
      "source": [
        "model_1_pred_probs = model_1.predict(val_sentences)\n",
        "model_1_pred_probs"
      ],
      "metadata": {
        "colab": {
          "base_uri": "https://localhost:8080/"
        },
        "id": "k6778pBuptaD",
        "outputId": "f3ca415c-4c7e-4462-de90-599228be178e"
      },
      "execution_count": 43,
      "outputs": [
        {
          "output_type": "execute_result",
          "data": {
            "text/plain": [
              "array([[5.86788952e-02],\n",
              "       [6.90048218e-01],\n",
              "       [9.98115182e-01],\n",
              "       [1.30702764e-01],\n",
              "       [9.76066828e-01],\n",
              "       [6.52346462e-02],\n",
              "       [8.54566321e-03],\n",
              "       [1.99619561e-01],\n",
              "       [9.96116638e-01],\n",
              "       [9.83876646e-01],\n",
              "       [3.58607173e-02],\n",
              "       [2.14799508e-01],\n",
              "       [9.99607146e-01],\n",
              "       [7.02357963e-02],\n",
              "       [4.75582629e-02],\n",
              "       [5.10607898e-01],\n",
              "       [9.98073936e-01],\n",
              "       [2.43383393e-01],\n",
              "       [6.35033906e-01],\n",
              "       [4.28218901e-01],\n",
              "       [1.14470840e-01],\n",
              "       [3.39518368e-01],\n",
              "       [9.04472709e-01],\n",
              "       [5.91511488e-01],\n",
              "       [3.37139815e-01],\n",
              "       [9.99111474e-01],\n",
              "       [2.46820286e-01],\n",
              "       [3.18832286e-02],\n",
              "       [9.74665880e-01],\n",
              "       [9.99903083e-01],\n",
              "       [9.99417901e-01],\n",
              "       [1.91243663e-01],\n",
              "       [4.44142103e-01],\n",
              "       [4.14044932e-02],\n",
              "       [7.32851923e-02],\n",
              "       [9.65080619e-01],\n",
              "       [9.81498696e-03],\n",
              "       [4.31085914e-01],\n",
              "       [4.11011696e-01],\n",
              "       [5.23997955e-02],\n",
              "       [3.87802541e-01],\n",
              "       [9.63870466e-01],\n",
              "       [9.29402113e-01],\n",
              "       [3.44325930e-01],\n",
              "       [5.71442721e-03],\n",
              "       [5.22407852e-02],\n",
              "       [2.21375793e-01],\n",
              "       [9.97767329e-01],\n",
              "       [2.18190193e-01],\n",
              "       [2.81143010e-01],\n",
              "       [3.99220914e-01],\n",
              "       [9.59707797e-01],\n",
              "       [3.39249641e-01],\n",
              "       [2.04703867e-01],\n",
              "       [1.40674874e-01],\n",
              "       [5.79087483e-03],\n",
              "       [1.49135292e-01],\n",
              "       [1.37171850e-01],\n",
              "       [7.23435700e-01],\n",
              "       [9.44625497e-01],\n",
              "       [2.52053976e-01],\n",
              "       [7.06733689e-02],\n",
              "       [9.41816270e-01],\n",
              "       [9.99177992e-01],\n",
              "       [2.24827826e-02],\n",
              "       [9.99380946e-01],\n",
              "       [1.15925215e-01],\n",
              "       [9.75015819e-01],\n",
              "       [3.76571923e-01],\n",
              "       [4.21908423e-02],\n",
              "       [2.42262185e-01],\n",
              "       [1.33333296e-01],\n",
              "       [1.47311807e-01],\n",
              "       [2.95986623e-01],\n",
              "       [2.05688402e-01],\n",
              "       [9.70745385e-01],\n",
              "       [6.97598994e-01],\n",
              "       [9.99202549e-01],\n",
              "       [9.99320984e-01],\n",
              "       [9.72529292e-01],\n",
              "       [1.35731637e-01],\n",
              "       [4.79242243e-02],\n",
              "       [5.43763459e-01],\n",
              "       [8.41457963e-01],\n",
              "       [4.14671749e-01],\n",
              "       [7.49750793e-01],\n",
              "       [2.68522073e-02],\n",
              "       [9.77923155e-01],\n",
              "       [1.99071959e-01],\n",
              "       [8.41030106e-02],\n",
              "       [1.04902804e-01],\n",
              "       [2.55962133e-01],\n",
              "       [2.47664452e-02],\n",
              "       [3.92160043e-02],\n",
              "       [9.83231425e-01],\n",
              "       [1.06697522e-01],\n",
              "       [4.94688570e-01],\n",
              "       [5.27530253e-01],\n",
              "       [2.95984924e-01],\n",
              "       [8.22683498e-02],\n",
              "       [1.51278660e-01],\n",
              "       [2.57233053e-01],\n",
              "       [9.44991589e-01],\n",
              "       [4.49192971e-02],\n",
              "       [8.34501088e-02],\n",
              "       [6.98375404e-02],\n",
              "       [6.45648062e-01],\n",
              "       [6.59089461e-02],\n",
              "       [2.49771446e-01],\n",
              "       [1.73709944e-01],\n",
              "       [3.71350348e-02],\n",
              "       [8.41826499e-01],\n",
              "       [9.60314691e-01],\n",
              "       [3.57991725e-01],\n",
              "       [3.33458930e-02],\n",
              "       [5.61343074e-01],\n",
              "       [8.74870002e-01],\n",
              "       [9.68236685e-01],\n",
              "       [9.97751772e-01],\n",
              "       [4.33033288e-01],\n",
              "       [9.95752454e-01],\n",
              "       [1.43635496e-01],\n",
              "       [9.98154581e-01],\n",
              "       [9.97734547e-01],\n",
              "       [1.57426205e-02],\n",
              "       [5.22764325e-01],\n",
              "       [9.76400256e-01],\n",
              "       [4.86054927e-01],\n",
              "       [9.99288261e-01],\n",
              "       [8.78750920e-01],\n",
              "       [2.39193469e-01],\n",
              "       [9.67139721e-01],\n",
              "       [3.87044132e-01],\n",
              "       [7.34881237e-02],\n",
              "       [9.49372530e-01],\n",
              "       [1.09175988e-01],\n",
              "       [4.21507180e-01],\n",
              "       [9.99802172e-01],\n",
              "       [9.99800980e-01],\n",
              "       [2.55931675e-01],\n",
              "       [3.41233574e-02],\n",
              "       [8.96880567e-01],\n",
              "       [9.22740996e-01],\n",
              "       [8.39389086e-01],\n",
              "       [3.67577881e-01],\n",
              "       [8.86937678e-01],\n",
              "       [6.51309252e-01],\n",
              "       [1.88947078e-02],\n",
              "       [3.48804057e-01],\n",
              "       [8.90125241e-03],\n",
              "       [9.95005786e-01],\n",
              "       [4.86451328e-01],\n",
              "       [3.84564651e-03],\n",
              "       [9.48758304e-01],\n",
              "       [6.19071200e-02],\n",
              "       [7.11872280e-02],\n",
              "       [1.03955515e-01],\n",
              "       [4.91075695e-01],\n",
              "       [9.57072139e-01],\n",
              "       [3.54669601e-01],\n",
              "       [9.73413527e-01],\n",
              "       [9.97642815e-01],\n",
              "       [7.65034914e-01],\n",
              "       [1.15253776e-01],\n",
              "       [6.92082122e-02],\n",
              "       [3.34908843e-01],\n",
              "       [2.80395836e-01],\n",
              "       [3.11616547e-02],\n",
              "       [5.69701642e-02],\n",
              "       [6.89947426e-01],\n",
              "       [9.77711022e-01],\n",
              "       [3.26423466e-01],\n",
              "       [7.39702657e-02],\n",
              "       [1.01105729e-02],\n",
              "       [3.79265040e-01],\n",
              "       [4.28506136e-02],\n",
              "       [9.35976088e-01],\n",
              "       [8.77553523e-01],\n",
              "       [1.54591762e-02],\n",
              "       [8.57424915e-01],\n",
              "       [8.13396722e-02],\n",
              "       [8.18551898e-01],\n",
              "       [4.07883525e-02],\n",
              "       [4.95545268e-01],\n",
              "       [3.73914212e-01],\n",
              "       [2.55413130e-02],\n",
              "       [9.99246240e-01],\n",
              "       [7.95559585e-01],\n",
              "       [5.30453146e-01],\n",
              "       [8.82576630e-02],\n",
              "       [1.59655279e-03],\n",
              "       [2.68596649e-01],\n",
              "       [6.43578172e-01],\n",
              "       [8.20560604e-02],\n",
              "       [3.67535263e-01],\n",
              "       [2.64884323e-01],\n",
              "       [9.98006880e-01],\n",
              "       [5.73273599e-01],\n",
              "       [4.98007625e-01],\n",
              "       [7.74585307e-02],\n",
              "       [1.15318462e-01],\n",
              "       [9.99170661e-01],\n",
              "       [2.69387197e-03],\n",
              "       [2.76159011e-02],\n",
              "       [2.14629527e-02],\n",
              "       [9.02585089e-01],\n",
              "       [1.98928528e-02],\n",
              "       [5.18990934e-01],\n",
              "       [9.92257357e-01],\n",
              "       [9.91152693e-03],\n",
              "       [6.57146275e-02],\n",
              "       [4.16065082e-02],\n",
              "       [2.38668993e-01],\n",
              "       [4.58723813e-01],\n",
              "       [6.71154931e-02],\n",
              "       [9.55151200e-01],\n",
              "       [7.79751778e-01],\n",
              "       [7.79769346e-02],\n",
              "       [9.79656994e-01],\n",
              "       [6.55241668e-01],\n",
              "       [9.12109792e-01],\n",
              "       [4.66142781e-02],\n",
              "       [9.79240596e-01],\n",
              "       [1.47619799e-01],\n",
              "       [1.12059437e-01],\n",
              "       [1.20120548e-01],\n",
              "       [7.71375895e-01],\n",
              "       [9.96835887e-01],\n",
              "       [1.34779200e-01],\n",
              "       [5.23374863e-02],\n",
              "       [9.53810215e-01],\n",
              "       [7.57082582e-01],\n",
              "       [1.22715356e-02],\n",
              "       [8.93034220e-01],\n",
              "       [9.26874876e-01],\n",
              "       [5.28025687e-01],\n",
              "       [3.66588563e-01],\n",
              "       [1.57353748e-02],\n",
              "       [9.97898459e-01],\n",
              "       [3.26423466e-01],\n",
              "       [1.09034054e-01],\n",
              "       [1.95955694e-01],\n",
              "       [1.23951444e-02],\n",
              "       [2.33614892e-01],\n",
              "       [1.53734371e-01],\n",
              "       [2.48204321e-02],\n",
              "       [6.23528481e-01],\n",
              "       [1.15115345e-02],\n",
              "       [8.59962583e-01],\n",
              "       [3.82448405e-01],\n",
              "       [9.01904047e-01],\n",
              "       [6.53180063e-01],\n",
              "       [1.49609342e-01],\n",
              "       [5.15463203e-02],\n",
              "       [1.63955837e-01],\n",
              "       [1.32288098e-01],\n",
              "       [1.01413779e-01],\n",
              "       [1.00011323e-02],\n",
              "       [3.99360269e-01],\n",
              "       [8.73927116e-01],\n",
              "       [5.52198961e-02],\n",
              "       [9.91957068e-01],\n",
              "       [4.06979956e-02],\n",
              "       [6.10670121e-03],\n",
              "       [9.99626637e-01],\n",
              "       [3.27223748e-01],\n",
              "       [1.92775518e-01],\n",
              "       [9.97794569e-02],\n",
              "       [3.68517339e-01],\n",
              "       [9.27154958e-01],\n",
              "       [3.29479694e-01],\n",
              "       [9.15532839e-03],\n",
              "       [9.78433907e-01],\n",
              "       [1.85609221e-01],\n",
              "       [6.81119740e-01],\n",
              "       [9.87141132e-01],\n",
              "       [9.99838352e-01],\n",
              "       [4.39550191e-01],\n",
              "       [7.77454913e-01],\n",
              "       [8.16674680e-02],\n",
              "       [9.91146028e-01],\n",
              "       [3.55124354e-01],\n",
              "       [5.79179823e-01],\n",
              "       [1.82193160e-01],\n",
              "       [9.95912075e-01],\n",
              "       [4.56807792e-01],\n",
              "       [3.67533296e-01],\n",
              "       [8.37318063e-01],\n",
              "       [7.78271019e-01],\n",
              "       [8.29471111e-01],\n",
              "       [8.18132535e-02],\n",
              "       [3.26423466e-01],\n",
              "       [1.65705755e-01],\n",
              "       [7.04845071e-01],\n",
              "       [2.27325276e-01],\n",
              "       [9.87669528e-01],\n",
              "       [3.70913923e-01],\n",
              "       [3.75295430e-01],\n",
              "       [6.15349114e-01],\n",
              "       [9.99735892e-01],\n",
              "       [9.35902894e-01],\n",
              "       [5.23738489e-02],\n",
              "       [9.67259824e-01],\n",
              "       [9.98600304e-01],\n",
              "       [4.80204731e-01],\n",
              "       [8.44500139e-02],\n",
              "       [1.59567967e-01],\n",
              "       [3.36872250e-01],\n",
              "       [9.13114846e-01],\n",
              "       [8.93727064e-01],\n",
              "       [2.16573656e-01],\n",
              "       [2.16766164e-01],\n",
              "       [1.92165859e-02],\n",
              "       [3.34523529e-01],\n",
              "       [1.24687351e-01],\n",
              "       [8.88837874e-02],\n",
              "       [9.08820808e-01],\n",
              "       [2.24627167e-01],\n",
              "       [4.68616694e-01],\n",
              "       [3.16200070e-02],\n",
              "       [9.59617317e-01],\n",
              "       [3.32193643e-01],\n",
              "       [6.93224847e-01],\n",
              "       [8.10176790e-01],\n",
              "       [3.51482108e-02],\n",
              "       [2.34103650e-01],\n",
              "       [9.99572217e-01],\n",
              "       [9.49232757e-01],\n",
              "       [3.54989976e-01],\n",
              "       [2.65210181e-01],\n",
              "       [9.95005786e-01],\n",
              "       [6.14282250e-01],\n",
              "       [1.78698882e-01],\n",
              "       [1.17461182e-01],\n",
              "       [2.10043326e-01],\n",
              "       [6.93551525e-02],\n",
              "       [1.00948349e-01],\n",
              "       [2.00573578e-01],\n",
              "       [6.53997734e-02],\n",
              "       [4.27378789e-02],\n",
              "       [6.12972558e-01],\n",
              "       [9.97135401e-01],\n",
              "       [1.19753130e-01],\n",
              "       [9.17809010e-01],\n",
              "       [5.29319644e-01],\n",
              "       [3.57372500e-02],\n",
              "       [3.23359102e-01],\n",
              "       [2.25680098e-01],\n",
              "       [9.94872391e-01],\n",
              "       [7.33847320e-01],\n",
              "       [8.67039263e-02],\n",
              "       [9.86708999e-01],\n",
              "       [7.51689851e-01],\n",
              "       [1.18635394e-01],\n",
              "       [7.56998509e-02],\n",
              "       [1.95465088e-01],\n",
              "       [2.19617262e-01],\n",
              "       [2.97166556e-01],\n",
              "       [7.00898468e-01],\n",
              "       [9.53883290e-01],\n",
              "       [6.81119740e-01],\n",
              "       [2.37152293e-01],\n",
              "       [9.57303792e-02],\n",
              "       [1.75903857e-01],\n",
              "       [9.95227337e-01],\n",
              "       [9.89697993e-01],\n",
              "       [9.53458190e-01],\n",
              "       [6.82824552e-01],\n",
              "       [3.08446616e-01],\n",
              "       [5.96474051e-01],\n",
              "       [6.25909984e-01],\n",
              "       [2.63650492e-02],\n",
              "       [9.98643696e-01],\n",
              "       [9.93368328e-01],\n",
              "       [1.34825915e-01],\n",
              "       [1.80634320e-01],\n",
              "       [2.90207088e-01],\n",
              "       [1.20921083e-01],\n",
              "       [9.28502798e-01],\n",
              "       [9.97072339e-01],\n",
              "       [9.81612265e-01],\n",
              "       [3.41584757e-02],\n",
              "       [2.05956697e-02],\n",
              "       [4.91110027e-01],\n",
              "       [9.97135401e-01],\n",
              "       [9.22637135e-02],\n",
              "       [9.52847481e-01],\n",
              "       [9.99875426e-01],\n",
              "       [1.53947383e-01],\n",
              "       [9.84161615e-01],\n",
              "       [9.88512635e-01],\n",
              "       [7.22003996e-01],\n",
              "       [1.38134986e-01],\n",
              "       [1.17276512e-01],\n",
              "       [7.01214373e-03],\n",
              "       [1.96237210e-02],\n",
              "       [6.80419445e-01],\n",
              "       [9.93791997e-01],\n",
              "       [3.29117000e-01],\n",
              "       [5.28782755e-02],\n",
              "       [9.55252163e-03],\n",
              "       [4.71195243e-02],\n",
              "       [9.38069522e-02],\n",
              "       [7.00416028e-01],\n",
              "       [9.61065888e-01],\n",
              "       [3.93430740e-01],\n",
              "       [1.14391446e-02],\n",
              "       [3.64963077e-02],\n",
              "       [3.73990268e-01],\n",
              "       [3.12522292e-01],\n",
              "       [2.82535970e-01],\n",
              "       [4.42715794e-01],\n",
              "       [9.96641040e-01],\n",
              "       [2.12001890e-01],\n",
              "       [9.76761356e-02],\n",
              "       [1.48672760e-01],\n",
              "       [6.01345956e-01],\n",
              "       [4.06756043e-01],\n",
              "       [9.98600304e-01],\n",
              "       [8.86236131e-01],\n",
              "       [5.14005832e-02],\n",
              "       [2.36978918e-01],\n",
              "       [9.59922969e-02],\n",
              "       [9.90545034e-01],\n",
              "       [1.22734122e-01],\n",
              "       [2.08805397e-01],\n",
              "       [7.85094082e-01],\n",
              "       [9.49766561e-02],\n",
              "       [4.90096100e-02],\n",
              "       [4.93890047e-01],\n",
              "       [8.81573856e-01],\n",
              "       [3.98706675e-01],\n",
              "       [2.90726244e-01],\n",
              "       [4.32886630e-01],\n",
              "       [6.83745146e-01],\n",
              "       [9.41802979e-01],\n",
              "       [9.79706407e-01],\n",
              "       [8.13568413e-01],\n",
              "       [4.29154038e-01],\n",
              "       [2.67839789e-01],\n",
              "       [2.32132003e-01],\n",
              "       [8.40649843e-01],\n",
              "       [4.48645242e-02],\n",
              "       [6.66789293e-01],\n",
              "       [3.15238416e-01],\n",
              "       [4.27341938e-01],\n",
              "       [3.82193893e-01],\n",
              "       [3.11000586e-01],\n",
              "       [3.83606672e-01],\n",
              "       [9.85854328e-01],\n",
              "       [2.31289104e-01],\n",
              "       [5.34849763e-01],\n",
              "       [7.19284832e-01],\n",
              "       [2.83921003e-01],\n",
              "       [1.97291568e-01],\n",
              "       [6.03674769e-01],\n",
              "       [9.96423900e-01],\n",
              "       [3.46061081e-01],\n",
              "       [5.34808934e-01],\n",
              "       [8.67678583e-01],\n",
              "       [5.69617972e-02],\n",
              "       [7.92376935e-01],\n",
              "       [4.23712432e-02],\n",
              "       [8.37908685e-01],\n",
              "       [7.97630787e-01],\n",
              "       [4.97965924e-02],\n",
              "       [2.99955904e-01],\n",
              "       [6.53848588e-01],\n",
              "       [4.91110027e-01],\n",
              "       [4.25319299e-02],\n",
              "       [7.61907697e-01],\n",
              "       [1.91930775e-02],\n",
              "       [6.48707449e-02],\n",
              "       [5.39707281e-02],\n",
              "       [6.80518806e-01],\n",
              "       [2.39599109e-01],\n",
              "       [9.87860024e-01],\n",
              "       [8.81733280e-03],\n",
              "       [1.92417115e-01],\n",
              "       [9.99681950e-01],\n",
              "       [2.33573154e-01],\n",
              "       [8.17601085e-02],\n",
              "       [5.90999946e-02],\n",
              "       [8.20586979e-01],\n",
              "       [5.53006530e-01],\n",
              "       [5.97010493e-01],\n",
              "       [2.25358605e-02],\n",
              "       [8.33469331e-02],\n",
              "       [6.16994083e-01],\n",
              "       [1.05087075e-03],\n",
              "       [7.97483921e-02],\n",
              "       [9.79591668e-01],\n",
              "       [9.38396811e-01],\n",
              "       [1.25136644e-01],\n",
              "       [2.67606258e-01],\n",
              "       [9.44396675e-01],\n",
              "       [8.42341840e-01],\n",
              "       [3.97885919e-01],\n",
              "       [6.92202389e-01],\n",
              "       [6.26688659e-01],\n",
              "       [9.99377549e-01],\n",
              "       [5.68409674e-02],\n",
              "       [9.71835032e-02],\n",
              "       [1.53450458e-03],\n",
              "       [9.10178661e-01],\n",
              "       [1.20403124e-02],\n",
              "       [6.20698869e-01],\n",
              "       [9.77570295e-01],\n",
              "       [8.02214742e-01],\n",
              "       [4.89299208e-01],\n",
              "       [9.99624014e-01],\n",
              "       [8.69787931e-02],\n",
              "       [5.06208599e-01],\n",
              "       [8.07651877e-02],\n",
              "       [1.42776221e-01],\n",
              "       [9.99759495e-01],\n",
              "       [9.82595801e-01],\n",
              "       [2.25388810e-01],\n",
              "       [4.43246007e-01],\n",
              "       [2.26105645e-01],\n",
              "       [9.99873638e-01],\n",
              "       [2.02051140e-02],\n",
              "       [3.18009973e-01],\n",
              "       [4.79242243e-02],\n",
              "       [2.25297153e-01],\n",
              "       [1.38184518e-01],\n",
              "       [9.27044332e-01],\n",
              "       [2.61685699e-01],\n",
              "       [6.93376139e-02],\n",
              "       [9.97201204e-01],\n",
              "       [1.42232835e-01],\n",
              "       [6.27053529e-03],\n",
              "       [9.97232854e-01],\n",
              "       [1.33613393e-01],\n",
              "       [6.23912178e-02],\n",
              "       [9.88385320e-01],\n",
              "       [4.02758390e-01],\n",
              "       [9.55607355e-01],\n",
              "       [9.98600185e-01],\n",
              "       [6.62870526e-01],\n",
              "       [4.76354398e-02],\n",
              "       [9.38401341e-01],\n",
              "       [2.14596406e-01],\n",
              "       [7.39141461e-03],\n",
              "       [9.67017412e-01],\n",
              "       [5.09219766e-02],\n",
              "       [1.15833268e-01],\n",
              "       [1.52585611e-01],\n",
              "       [5.75651824e-01],\n",
              "       [1.41607895e-01],\n",
              "       [2.18012556e-02],\n",
              "       [9.99477804e-01],\n",
              "       [9.99529958e-01],\n",
              "       [9.66363370e-01],\n",
              "       [7.62053430e-01],\n",
              "       [8.46945763e-01],\n",
              "       [9.57194746e-01],\n",
              "       [8.66829038e-01],\n",
              "       [4.20092016e-01],\n",
              "       [6.56399250e-01],\n",
              "       [8.31246495e-01],\n",
              "       [3.02588016e-01],\n",
              "       [8.03396761e-01],\n",
              "       [8.98687541e-02],\n",
              "       [1.43622952e-02],\n",
              "       [1.77948073e-01],\n",
              "       [5.07334694e-02],\n",
              "       [9.55011606e-01],\n",
              "       [6.73291236e-02],\n",
              "       [2.04692259e-01],\n",
              "       [8.66569161e-01],\n",
              "       [2.36549997e-04],\n",
              "       [8.13291013e-01],\n",
              "       [1.06386170e-01],\n",
              "       [4.83532399e-01],\n",
              "       [9.99377549e-01],\n",
              "       [4.92409840e-02],\n",
              "       [9.38401341e-01],\n",
              "       [9.99417901e-01],\n",
              "       [1.43524572e-01],\n",
              "       [8.77439082e-01],\n",
              "       [9.93791997e-01],\n",
              "       [9.14631903e-01],\n",
              "       [3.28245133e-01],\n",
              "       [5.50607145e-01],\n",
              "       [3.25551212e-01],\n",
              "       [1.05346218e-01],\n",
              "       [1.64728835e-01],\n",
              "       [9.96789992e-01],\n",
              "       [9.95032907e-01],\n",
              "       [2.81098127e-01],\n",
              "       [7.03814983e-01],\n",
              "       [9.38130379e-01],\n",
              "       [3.73795569e-01],\n",
              "       [8.68584156e-01],\n",
              "       [1.48187131e-01],\n",
              "       [7.18988836e-01],\n",
              "       [3.67040247e-01],\n",
              "       [1.00855984e-01],\n",
              "       [1.66052848e-01],\n",
              "       [1.01306386e-01],\n",
              "       [9.91603911e-01],\n",
              "       [9.99380946e-01],\n",
              "       [8.99706721e-01],\n",
              "       [5.39735973e-01],\n",
              "       [1.52258560e-01],\n",
              "       [2.04124793e-01],\n",
              "       [3.78252655e-01],\n",
              "       [7.71708429e-01],\n",
              "       [1.59272291e-02],\n",
              "       [7.33169675e-01],\n",
              "       [5.59453249e-01],\n",
              "       [7.16611564e-01],\n",
              "       [1.83320656e-01],\n",
              "       [2.70497217e-03],\n",
              "       [1.19954675e-01],\n",
              "       [2.90880740e-01],\n",
              "       [3.72365080e-02],\n",
              "       [9.30902898e-01],\n",
              "       [3.19485098e-01],\n",
              "       [4.24034595e-01],\n",
              "       [2.94860840e-01],\n",
              "       [3.22459370e-01],\n",
              "       [2.61375983e-03],\n",
              "       [9.99348104e-01],\n",
              "       [1.16033323e-01],\n",
              "       [6.32320881e-01],\n",
              "       [9.98474300e-01],\n",
              "       [9.91110086e-01],\n",
              "       [3.56614351e-01],\n",
              "       [1.27360538e-01],\n",
              "       [7.51877367e-01],\n",
              "       [8.81294072e-01],\n",
              "       [7.01749504e-01],\n",
              "       [2.78601706e-01],\n",
              "       [1.55881628e-01],\n",
              "       [5.74225783e-01],\n",
              "       [3.17979664e-01],\n",
              "       [1.25838742e-01],\n",
              "       [2.61441380e-01],\n",
              "       [8.66517544e-01],\n",
              "       [9.31348577e-02],\n",
              "       [9.90078598e-02],\n",
              "       [6.56012297e-01],\n",
              "       [3.30495656e-01],\n",
              "       [9.97655869e-01],\n",
              "       [2.03480542e-01],\n",
              "       [5.58235645e-01],\n",
              "       [8.65700170e-02],\n",
              "       [1.01913819e-02],\n",
              "       [4.72074866e-01],\n",
              "       [6.26688659e-01],\n",
              "       [2.45339088e-02],\n",
              "       [5.44688940e-01],\n",
              "       [5.37117362e-01],\n",
              "       [1.63911298e-01],\n",
              "       [7.42880702e-01],\n",
              "       [9.99941349e-01],\n",
              "       [9.99887109e-01],\n",
              "       [3.12693506e-01],\n",
              "       [9.06769097e-01],\n",
              "       [4.57595699e-02],\n",
              "       [3.83606672e-01],\n",
              "       [2.60578305e-01],\n",
              "       [5.48693657e-01],\n",
              "       [5.10177352e-02],\n",
              "       [4.81676757e-02],\n",
              "       [4.17683721e-01],\n",
              "       [3.78975123e-01],\n",
              "       [9.88758683e-01],\n",
              "       [7.48289466e-01],\n",
              "       [9.98668909e-01],\n",
              "       [1.72059864e-01],\n",
              "       [3.09920032e-02],\n",
              "       [8.73096436e-02],\n",
              "       [6.96469694e-02],\n",
              "       [4.39676523e-01],\n",
              "       [9.99426723e-01],\n",
              "       [9.97559786e-01],\n",
              "       [3.32266241e-02],\n",
              "       [5.13704598e-01],\n",
              "       [2.93670923e-01],\n",
              "       [6.97886422e-02],\n",
              "       [1.93208545e-01],\n",
              "       [7.21828759e-01],\n",
              "       [1.05176661e-02],\n",
              "       [6.19355857e-01],\n",
              "       [2.04275325e-01],\n",
              "       [5.29844940e-01],\n",
              "       [9.78361547e-01],\n",
              "       [3.42035711e-01],\n",
              "       [5.97533882e-01],\n",
              "       [1.45136401e-01],\n",
              "       [4.68368530e-01],\n",
              "       [1.40793934e-01],\n",
              "       [9.99754488e-01],\n",
              "       [5.10177352e-02],\n",
              "       [1.94700822e-01],\n",
              "       [1.90489441e-01],\n",
              "       [3.36817175e-01],\n",
              "       [2.12705672e-01],\n",
              "       [1.98613420e-01],\n",
              "       [9.13978070e-02],\n",
              "       [1.89411297e-01],\n",
              "       [5.52705944e-01],\n",
              "       [2.22468495e-01],\n",
              "       [3.06955546e-01],\n",
              "       [6.49304807e-01],\n",
              "       [9.50430095e-01],\n",
              "       [8.72352481e-01],\n",
              "       [6.94922805e-02],\n",
              "       [8.15405697e-02],\n",
              "       [9.98115182e-01],\n",
              "       [5.44509172e-01],\n",
              "       [8.77566874e-01],\n",
              "       [1.88803032e-01],\n",
              "       [4.19591516e-02],\n",
              "       [5.65424189e-02],\n",
              "       [3.08674991e-01],\n",
              "       [8.85670602e-01],\n",
              "       [9.98484433e-01],\n",
              "       [2.59794474e-01],\n",
              "       [9.97443199e-01],\n",
              "       [6.26688659e-01],\n",
              "       [2.15239987e-01],\n",
              "       [5.19058406e-01],\n",
              "       [1.16199277e-01],\n",
              "       [4.21592481e-02],\n",
              "       [2.49141380e-01],\n",
              "       [5.00225604e-01],\n",
              "       [3.52761120e-01],\n",
              "       [7.79646516e-01],\n",
              "       [9.38103855e-01],\n",
              "       [2.75842637e-01],\n",
              "       [8.79590511e-02],\n",
              "       [9.35792923e-01],\n",
              "       [8.08023453e-01],\n",
              "       [2.63639838e-01],\n",
              "       [1.32253259e-01],\n",
              "       [4.77039009e-01],\n",
              "       [9.72927928e-01],\n",
              "       [8.91480669e-02],\n",
              "       [8.02485704e-01],\n",
              "       [3.17150578e-02],\n",
              "       [8.86896700e-02],\n",
              "       [2.42684856e-01],\n",
              "       [6.07542753e-01],\n",
              "       [1.88341327e-02],\n",
              "       [2.96594892e-02],\n",
              "       [3.27390134e-01],\n",
              "       [9.99468744e-01],\n",
              "       [9.92733836e-01],\n",
              "       [9.99161482e-01],\n",
              "       [2.96686709e-01],\n",
              "       [1.26053840e-01],\n",
              "       [1.27521558e-02],\n",
              "       [7.38870800e-01],\n",
              "       [9.78460848e-01],\n",
              "       [6.39975592e-02],\n",
              "       [9.79834616e-01],\n",
              "       [9.99759495e-01],\n",
              "       [6.06869459e-02]], dtype=float32)"
            ]
          },
          "metadata": {},
          "execution_count": 43
        }
      ]
    },
    {
      "cell_type": "code",
      "source": [
        "model_1_pred_probs[0]"
      ],
      "metadata": {
        "colab": {
          "base_uri": "https://localhost:8080/"
        },
        "id": "lO_6RbS5p0hl",
        "outputId": "e25d1816-18fc-41c9-ae95-6dedb11d0848"
      },
      "execution_count": 44,
      "outputs": [
        {
          "output_type": "execute_result",
          "data": {
            "text/plain": [
              "array([0.0586789], dtype=float32)"
            ]
          },
          "metadata": {},
          "execution_count": 44
        }
      ]
    },
    {
      "cell_type": "code",
      "source": [
        "model_1_pred_probs.shape"
      ],
      "metadata": {
        "colab": {
          "base_uri": "https://localhost:8080/"
        },
        "id": "Np19ljwYp2bG",
        "outputId": "d484e560-76f6-42fe-ef35-cc3547d447db"
      },
      "execution_count": 45,
      "outputs": [
        {
          "output_type": "execute_result",
          "data": {
            "text/plain": [
              "(762, 1)"
            ]
          },
          "metadata": {},
          "execution_count": 45
        }
      ]
    },
    {
      "cell_type": "code",
      "source": [
        "model_1_pred_probs[:10]"
      ],
      "metadata": {
        "colab": {
          "base_uri": "https://localhost:8080/"
        },
        "id": "FEe-BvFHp6fc",
        "outputId": "37207e54-b2af-46fc-ad9b-ad5f79b8362f"
      },
      "execution_count": 46,
      "outputs": [
        {
          "output_type": "execute_result",
          "data": {
            "text/plain": [
              "array([[0.0586789 ],\n",
              "       [0.6900482 ],\n",
              "       [0.9981152 ],\n",
              "       [0.13070276],\n",
              "       [0.9760668 ],\n",
              "       [0.06523465],\n",
              "       [0.00854566],\n",
              "       [0.19961956],\n",
              "       [0.99611664],\n",
              "       [0.98387665]], dtype=float32)"
            ]
          },
          "metadata": {},
          "execution_count": 46
        }
      ]
    },
    {
      "cell_type": "code",
      "source": [
        "model_1_preds = tf.squeeze(tf.round(model_1_pred_probs))\n",
        "model_1_preds"
      ],
      "metadata": {
        "colab": {
          "base_uri": "https://localhost:8080/"
        },
        "id": "mDgsBmSZqyqX",
        "outputId": "db3437bc-33d9-490b-a17d-dc9ae4c7a5d7"
      },
      "execution_count": 47,
      "outputs": [
        {
          "output_type": "execute_result",
          "data": {
            "text/plain": [
              "<tf.Tensor: shape=(762,), dtype=float32, numpy=\n",
              "array([0., 1., 1., 0., 1., 0., 0., 0., 1., 1., 0., 0., 1., 0., 0., 1., 1.,\n",
              "       0., 1., 0., 0., 0., 1., 1., 0., 1., 0., 0., 1., 1., 1., 0., 0., 0.,\n",
              "       0., 1., 0., 0., 0., 0., 0., 1., 1., 0., 0., 0., 0., 1., 0., 0., 0.,\n",
              "       1., 0., 0., 0., 0., 0., 0., 1., 1., 0., 0., 1., 1., 0., 1., 0., 1.,\n",
              "       0., 0., 0., 0., 0., 0., 0., 1., 1., 1., 1., 1., 0., 0., 1., 1., 0.,\n",
              "       1., 0., 1., 0., 0., 0., 0., 0., 0., 1., 0., 0., 1., 0., 0., 0., 0.,\n",
              "       1., 0., 0., 0., 1., 0., 0., 0., 0., 1., 1., 0., 0., 1., 1., 1., 1.,\n",
              "       0., 1., 0., 1., 1., 0., 1., 1., 0., 1., 1., 0., 1., 0., 0., 1., 0.,\n",
              "       0., 1., 1., 0., 0., 1., 1., 1., 0., 1., 1., 0., 0., 0., 1., 0., 0.,\n",
              "       1., 0., 0., 0., 0., 1., 0., 1., 1., 1., 0., 0., 0., 0., 0., 0., 1.,\n",
              "       1., 0., 0., 0., 0., 0., 1., 1., 0., 1., 0., 1., 0., 0., 0., 0., 1.,\n",
              "       1., 1., 0., 0., 0., 1., 0., 0., 0., 1., 1., 0., 0., 0., 1., 0., 0.,\n",
              "       0., 1., 0., 1., 1., 0., 0., 0., 0., 0., 0., 1., 1., 0., 1., 1., 1.,\n",
              "       0., 1., 0., 0., 0., 1., 1., 0., 0., 1., 1., 0., 1., 1., 1., 0., 0.,\n",
              "       1., 0., 0., 0., 0., 0., 0., 0., 1., 0., 1., 0., 1., 1., 0., 0., 0.,\n",
              "       0., 0., 0., 0., 1., 0., 1., 0., 0., 1., 0., 0., 0., 0., 1., 0., 0.,\n",
              "       1., 0., 1., 1., 1., 0., 1., 0., 1., 0., 1., 0., 1., 0., 0., 1., 1.,\n",
              "       1., 0., 0., 0., 1., 0., 1., 0., 0., 1., 1., 1., 0., 1., 1., 0., 0.,\n",
              "       0., 0., 1., 1., 0., 0., 0., 0., 0., 0., 1., 0., 0., 0., 1., 0., 1.,\n",
              "       1., 0., 0., 1., 1., 0., 0., 1., 1., 0., 0., 0., 0., 0., 0., 0., 0.,\n",
              "       1., 1., 0., 1., 1., 0., 0., 0., 1., 1., 0., 1., 1., 0., 0., 0., 0.,\n",
              "       0., 1., 1., 1., 0., 0., 0., 1., 1., 1., 1., 0., 1., 1., 0., 1., 1.,\n",
              "       0., 0., 0., 0., 1., 1., 1., 0., 0., 0., 1., 0., 1., 1., 0., 1., 1.,\n",
              "       1., 0., 0., 0., 0., 1., 1., 0., 0., 0., 0., 0., 1., 1., 0., 0., 0.,\n",
              "       0., 0., 0., 0., 1., 0., 0., 0., 1., 0., 1., 1., 0., 0., 0., 1., 0.,\n",
              "       0., 1., 0., 0., 0., 1., 0., 0., 0., 1., 1., 1., 1., 0., 0., 0., 1.,\n",
              "       0., 1., 0., 0., 0., 0., 0., 1., 0., 1., 1., 0., 0., 1., 1., 0., 1.,\n",
              "       1., 0., 1., 0., 1., 1., 0., 0., 1., 0., 0., 1., 0., 0., 0., 1., 0.,\n",
              "       1., 0., 0., 1., 0., 0., 0., 1., 1., 1., 0., 0., 1., 0., 0., 1., 1.,\n",
              "       0., 0., 1., 1., 0., 1., 1., 1., 0., 0., 0., 1., 0., 1., 1., 1., 0.,\n",
              "       1., 0., 1., 0., 0., 1., 1., 0., 0., 0., 1., 0., 0., 0., 0., 0., 1.,\n",
              "       0., 0., 1., 0., 0., 1., 0., 0., 1., 0., 1., 1., 1., 0., 1., 0., 0.,\n",
              "       1., 0., 0., 0., 1., 0., 0., 1., 1., 1., 1., 1., 1., 1., 0., 1., 1.,\n",
              "       0., 1., 0., 0., 0., 0., 1., 0., 0., 1., 0., 1., 0., 0., 1., 0., 1.,\n",
              "       1., 0., 1., 1., 1., 0., 1., 0., 0., 0., 1., 1., 0., 1., 1., 0., 1.,\n",
              "       0., 1., 0., 0., 0., 0., 1., 1., 1., 1., 0., 0., 0., 1., 0., 1., 1.,\n",
              "       1., 0., 0., 0., 0., 0., 1., 0., 0., 0., 0., 0., 1., 0., 1., 1., 1.,\n",
              "       0., 0., 1., 1., 1., 0., 0., 1., 0., 0., 0., 1., 0., 0., 1., 0., 1.,\n",
              "       0., 1., 0., 0., 0., 1., 0., 1., 1., 0., 1., 1., 1., 0., 1., 0., 0.,\n",
              "       0., 1., 0., 0., 0., 0., 1., 1., 1., 0., 0., 0., 0., 0., 1., 1., 0.,\n",
              "       1., 0., 0., 0., 1., 0., 1., 0., 1., 1., 0., 1., 0., 0., 0., 1., 0.,\n",
              "       0., 0., 0., 0., 0., 0., 0., 1., 0., 0., 1., 1., 1., 0., 0., 1., 1.,\n",
              "       1., 0., 0., 0., 0., 1., 1., 0., 1., 1., 0., 1., 0., 0., 0., 1., 0.,\n",
              "       1., 1., 0., 0., 1., 1., 0., 0., 0., 1., 0., 1., 0., 0., 0., 1., 0.,\n",
              "       0., 0., 1., 1., 1., 0., 0., 0., 1., 1., 0., 1., 1., 0.],\n",
              "      dtype=float32)>"
            ]
          },
          "metadata": {},
          "execution_count": 47
        }
      ]
    },
    {
      "cell_type": "code",
      "source": [
        "#Calculate model_1 results\n",
        "model_1_results = calculate_results(y_true=val_labels,\n",
        "                                    y_pred=model_1_preds)\n",
        "model_1_results"
      ],
      "metadata": {
        "colab": {
          "base_uri": "https://localhost:8080/"
        },
        "id": "8DdOmAB8rAmf",
        "outputId": "58052ed5-ff77-4af1-a8c2-71bade2fefe1"
      },
      "execution_count": 48,
      "outputs": [
        {
          "output_type": "execute_result",
          "data": {
            "text/plain": [
              "{'accuracy': 79.92125984251969,\n",
              " 'f1': 0.7989121284115505,\n",
              " 'precision': 0.7987486083787252,\n",
              " 'recall': 0.7992125984251969}"
            ]
          },
          "metadata": {},
          "execution_count": 48
        }
      ]
    },
    {
      "cell_type": "code",
      "source": [
        "baseline_results = text_vectorizer.get_vocabulary()\n",
        "len(words_in_vocab), words_in_vocab[:10]"
      ],
      "metadata": {
        "colab": {
          "base_uri": "https://localhost:8080/"
        },
        "id": "No8ERIEFrNVR",
        "outputId": "bfb38617-d4cb-476d-d7d5-0ff5c30e84e5"
      },
      "execution_count": 49,
      "outputs": [
        {
          "output_type": "execute_result",
          "data": {
            "text/plain": [
              "(10000, ['', '[UNK]', 'the', 'a', 'in', 'to', 'of', 'and', 'i', 'is'])"
            ]
          },
          "metadata": {},
          "execution_count": 49
        }
      ]
    },
    {
      "cell_type": "code",
      "source": [
        "words_in_vocab"
      ],
      "metadata": {
        "colab": {
          "base_uri": "https://localhost:8080/"
        },
        "id": "6ZH2gk7xrOSO",
        "outputId": "9967c0a8-2e91-4212-9e4b-6a0d1bf7b08e"
      },
      "execution_count": 50,
      "outputs": [
        {
          "output_type": "execute_result",
          "data": {
            "text/plain": [
              "['',\n",
              " '[UNK]',\n",
              " 'the',\n",
              " 'a',\n",
              " 'in',\n",
              " 'to',\n",
              " 'of',\n",
              " 'and',\n",
              " 'i',\n",
              " 'is',\n",
              " 'for',\n",
              " 'on',\n",
              " 'you',\n",
              " 'my',\n",
              " 'with',\n",
              " 'it',\n",
              " 'that',\n",
              " 'at',\n",
              " 'by',\n",
              " 'this',\n",
              " 'from',\n",
              " 'be',\n",
              " 'are',\n",
              " 'was',\n",
              " 'have',\n",
              " 'like',\n",
              " 'me',\n",
              " 'as',\n",
              " 'up',\n",
              " 'just',\n",
              " 'but',\n",
              " 'so',\n",
              " 'im',\n",
              " 'not',\n",
              " 'amp',\n",
              " 'your',\n",
              " 'out',\n",
              " 'its',\n",
              " 'all',\n",
              " 'will',\n",
              " 'after',\n",
              " 'no',\n",
              " 'fire',\n",
              " 'has',\n",
              " 'an',\n",
              " 'when',\n",
              " 'if',\n",
              " 'get',\n",
              " 'now',\n",
              " 'we',\n",
              " 'about',\n",
              " 'new',\n",
              " 'via',\n",
              " 'more',\n",
              " 'or',\n",
              " 'people',\n",
              " 'what',\n",
              " 'news',\n",
              " 'one',\n",
              " 'how',\n",
              " 'he',\n",
              " 'they',\n",
              " 'over',\n",
              " 'dont',\n",
              " 'been',\n",
              " 'who',\n",
              " 'into',\n",
              " 'video',\n",
              " 'were',\n",
              " 'do',\n",
              " 'can',\n",
              " '2',\n",
              " 'us',\n",
              " 'disaster',\n",
              " 'emergency',\n",
              " 'there',\n",
              " 'police',\n",
              " 'than',\n",
              " 'would',\n",
              " 'still',\n",
              " 'his',\n",
              " 'some',\n",
              " 'her',\n",
              " 'body',\n",
              " 'burning',\n",
              " 'storm',\n",
              " 'crash',\n",
              " 'back',\n",
              " 'had',\n",
              " 'suicide',\n",
              " 'man',\n",
              " 'why',\n",
              " 'know',\n",
              " 'got',\n",
              " 'them',\n",
              " 'buildings',\n",
              " 'world',\n",
              " 'time',\n",
              " 'off',\n",
              " 'see',\n",
              " 'california',\n",
              " 'first',\n",
              " 'day',\n",
              " 'rt',\n",
              " 'bomb',\n",
              " 'youtube',\n",
              " 'cant',\n",
              " 'love',\n",
              " 'nuclear',\n",
              " 'going',\n",
              " 'their',\n",
              " 'dead',\n",
              " 'two',\n",
              " 'train',\n",
              " 'killed',\n",
              " 'go',\n",
              " 'attack',\n",
              " 'our',\n",
              " '3',\n",
              " 'today',\n",
              " 'good',\n",
              " 'fires',\n",
              " 'car',\n",
              " 'full',\n",
              " 'hiroshima',\n",
              " 'families',\n",
              " 'being',\n",
              " 'say',\n",
              " 'may',\n",
              " 'many',\n",
              " 'here',\n",
              " 'think',\n",
              " 'only',\n",
              " 'accident',\n",
              " 'years',\n",
              " 'life',\n",
              " 'u',\n",
              " 'last',\n",
              " 'could',\n",
              " 'watch',\n",
              " 'war',\n",
              " 'down',\n",
              " 'did',\n",
              " 'home',\n",
              " 'collapse',\n",
              " 'want',\n",
              " 'too',\n",
              " 'then',\n",
              " 'look',\n",
              " 'work',\n",
              " 'because',\n",
              " 'way',\n",
              " 'lol',\n",
              " 'even',\n",
              " 'make',\n",
              " 'best',\n",
              " 'army',\n",
              " 'year',\n",
              " 'mh370',\n",
              " 'help',\n",
              " 'wildfire',\n",
              " 'really',\n",
              " 'pm',\n",
              " 'need',\n",
              " 'him',\n",
              " 'bombing',\n",
              " 'am',\n",
              " 'youre',\n",
              " 'take',\n",
              " 'school',\n",
              " 'please',\n",
              " 'another',\n",
              " '4',\n",
              " 'let',\n",
              " 'those',\n",
              " 'should',\n",
              " 'great',\n",
              " 'right',\n",
              " 'obama',\n",
              " 'hot',\n",
              " 'fatal',\n",
              " 'death',\n",
              " 'forest',\n",
              " 'bomber',\n",
              " 'black',\n",
              " 'northern',\n",
              " 'much',\n",
              " 'mass',\n",
              " 'live',\n",
              " '\\x89Û',\n",
              " 'water',\n",
              " 'old',\n",
              " 'legionnaires',\n",
              " '1',\n",
              " 'wreck',\n",
              " 'thats',\n",
              " 'getting',\n",
              " 'flood',\n",
              " 'every',\n",
              " '5',\n",
              " '2015',\n",
              " 'she',\n",
              " 'read',\n",
              " 'latest',\n",
              " 'homes',\n",
              " 'come',\n",
              " 'where',\n",
              " 'under',\n",
              " 'never',\n",
              " 'hit',\n",
              " 'god',\n",
              " 'flames',\n",
              " 'ever',\n",
              " 'said',\n",
              " 's',\n",
              " 'feel',\n",
              " 'damage',\n",
              " 'content',\n",
              " 'atomic',\n",
              " 'any',\n",
              " 'well',\n",
              " 'weather',\n",
              " 'top',\n",
              " 'oil',\n",
              " 'near',\n",
              " 'while',\n",
              " 'shit',\n",
              " 'night',\n",
              " 'coming',\n",
              " 'city',\n",
              " 'before',\n",
              " 'ass',\n",
              " 'these',\n",
              " 'since',\n",
              " 'military',\n",
              " 'japan',\n",
              " 'during',\n",
              " 'truck',\n",
              " 'smoke',\n",
              " 'floods',\n",
              " 'fear',\n",
              " 'cause',\n",
              " 'most',\n",
              " 'little',\n",
              " 'face',\n",
              " 'everyone',\n",
              " 'without',\n",
              " 'movie',\n",
              " 'malaysia',\n",
              " 'injured',\n",
              " 'hope',\n",
              " 'cross',\n",
              " 'check',\n",
              " 'times',\n",
              " 'set',\n",
              " 'plan',\n",
              " 'next',\n",
              " 'looks',\n",
              " 'lightning',\n",
              " 'evacuation',\n",
              " 'debris',\n",
              " 'confirmed',\n",
              " 'weapon',\n",
              " 'thunderstorm',\n",
              " 'through',\n",
              " 'state',\n",
              " 'liked',\n",
              " 'hes',\n",
              " 'fucking',\n",
              " 'flooding',\n",
              " 'earthquake',\n",
              " 'w',\n",
              " 'trapped',\n",
              " 'sinking',\n",
              " 'reddit',\n",
              " 'natural',\n",
              " 'high',\n",
              " 'heat',\n",
              " 'food',\n",
              " 'fall',\n",
              " 'bad',\n",
              " 'always',\n",
              " 'also',\n",
              " 'wounded',\n",
              " 'weapons',\n",
              " 'thunder',\n",
              " 'theres',\n",
              " 'survive',\n",
              " 'stop',\n",
              " 'spill',\n",
              " 'severe',\n",
              " 'says',\n",
              " 'run',\n",
              " 'missing',\n",
              " 'loud',\n",
              " 'injuries',\n",
              " 'head',\n",
              " 'found',\n",
              " 'evacuate',\n",
              " 'wind',\n",
              " 'services',\n",
              " 'screaming',\n",
              " 'save',\n",
              " 'released',\n",
              " 'free',\n",
              " 'blood',\n",
              " '70',\n",
              " 'which',\n",
              " 'summer',\n",
              " 'story',\n",
              " 'someone',\n",
              " 'house',\n",
              " 'gonna',\n",
              " 'girl',\n",
              " 'fatalities',\n",
              " 'failure',\n",
              " 'explosion',\n",
              " 'explode',\n",
              " 'destruction',\n",
              " 'change',\n",
              " 'wreckage',\n",
              " 'until',\n",
              " 'saudi',\n",
              " 'report',\n",
              " 'rain',\n",
              " 'outbreak',\n",
              " 'ive',\n",
              " 'investigators',\n",
              " 'hurricane',\n",
              " 'collapsed',\n",
              " 'bridge',\n",
              " 'breaking',\n",
              " 'boy',\n",
              " 'bloody',\n",
              " 'bag',\n",
              " 'attacked',\n",
              " 'warning',\n",
              " 'terrorist',\n",
              " 'survived',\n",
              " 'put',\n",
              " 'photo',\n",
              " 'panic',\n",
              " 'hail',\n",
              " 'family',\n",
              " 'end',\n",
              " 'dust',\n",
              " 'destroyed',\n",
              " 'deaths',\n",
              " 'danger',\n",
              " 'collided',\n",
              " 'big',\n",
              " 'bags',\n",
              " 'again',\n",
              " 'wrecked',\n",
              " 'wild',\n",
              " 'whirlwind',\n",
              " 'update',\n",
              " 'thing',\n",
              " 'structural',\n",
              " 'sinkhole',\n",
              " 'service',\n",
              " 'refugees',\n",
              " 'made',\n",
              " 'lives',\n",
              " 'injury',\n",
              " 'fuck',\n",
              " 'county',\n",
              " 'area',\n",
              " 'week',\n",
              " 'twister',\n",
              " 'sunk',\n",
              " 'show',\n",
              " 'road',\n",
              " 'rescuers',\n",
              " 'rescue',\n",
              " 'quarantine',\n",
              " 'post',\n",
              " 'other',\n",
              " 'murder',\n",
              " 'mudslide',\n",
              " 'mosque',\n",
              " 'migrants',\n",
              " 'keep',\n",
              " 'heard',\n",
              " 'game',\n",
              " 'destroy',\n",
              " 'derailment',\n",
              " 'catastrophe',\n",
              " 'bus',\n",
              " 'burned',\n",
              " 'bleeding',\n",
              " 'better',\n",
              " 'around',\n",
              " 'air',\n",
              " 'wounds',\n",
              " 'women',\n",
              " 'whole',\n",
              " 'white',\n",
              " 'violent',\n",
              " 'tonight',\n",
              " 'things',\n",
              " 'survivors',\n",
              " 'stock',\n",
              " 'saw',\n",
              " 'sandstorm',\n",
              " 'harm',\n",
              " 'drowning',\n",
              " 'devastation',\n",
              " 'deluge',\n",
              " 'curfew',\n",
              " 'cliff',\n",
              " 'charged',\n",
              " 'casualties',\n",
              " 'battle',\n",
              " 'bang',\n",
              " 'armageddon',\n",
              " 'ambulance',\n",
              " '40',\n",
              " '15',\n",
              " '\\x89ÛÒ',\n",
              " 'woman',\n",
              " 'traumatised',\n",
              " 'screams',\n",
              " 'screamed',\n",
              " 'rescued',\n",
              " 'landslide',\n",
              " 'ill',\n",
              " 'hostages',\n",
              " 'horrible',\n",
              " 'hazardous',\n",
              " 'famine',\n",
              " 'exploded',\n",
              " 'evacuated',\n",
              " 'does',\n",
              " 'bombed',\n",
              " 'blown',\n",
              " 'away',\n",
              " 'apocalypse',\n",
              " 'windstorm',\n",
              " 'wave',\n",
              " 'wanna',\n",
              " 'trauma',\n",
              " 'tragedy',\n",
              " 'ruin',\n",
              " 'rioting',\n",
              " 'real',\n",
              " 'quarantined',\n",
              " 'power',\n",
              " 'phone',\n",
              " 'panicking',\n",
              " 'pandemonium',\n",
              " 'must',\n",
              " 'meltdown',\n",
              " 'massacre',\n",
              " 'lot',\n",
              " 'least',\n",
              " 'lava',\n",
              " 'iran',\n",
              " 'inundated',\n",
              " 'id',\n",
              " 'flattened',\n",
              " 'fedex',\n",
              " 'electrocuted',\n",
              " 'drought',\n",
              " 'displaced',\n",
              " 'detonate',\n",
              " 'desolation',\n",
              " 'cool',\n",
              " 'came',\n",
              " 'call',\n",
              " 'boat',\n",
              " 'blew',\n",
              " 'bioterror',\n",
              " 'against',\n",
              " 'typhoon',\n",
              " 'trouble',\n",
              " 'thank',\n",
              " 'terrorism',\n",
              " 'st',\n",
              " 'something',\n",
              " 'riot',\n",
              " 'red',\n",
              " 'plane',\n",
              " 'past',\n",
              " 'nothing',\n",
              " 'market',\n",
              " 'long',\n",
              " 'lets',\n",
              " 'kills',\n",
              " 'kill',\n",
              " 'hijacking',\n",
              " 'heart',\n",
              " 'hazard',\n",
              " 'drown',\n",
              " 'doing',\n",
              " 'didnt',\n",
              " 'derailed',\n",
              " 'derail',\n",
              " 'crush',\n",
              " 'chemical',\n",
              " 'bagging',\n",
              " 'baby',\n",
              " 'annihilated',\n",
              " '9',\n",
              " 'used',\n",
              " 'twitter',\n",
              " 'tsunami',\n",
              " 'traffic',\n",
              " 'tomorrow',\n",
              " 'suspect',\n",
              " 'sure',\n",
              " 'security',\n",
              " 'pkk',\n",
              " 'part',\n",
              " 'national',\n",
              " 'island',\n",
              " 'isis',\n",
              " 'hijacker',\n",
              " 'ebay',\n",
              " 'detonated',\n",
              " 'crashed',\n",
              " 'august',\n",
              " 'anniversary',\n",
              " 'already',\n",
              " 'airplane',\n",
              " '6',\n",
              " 'whats',\n",
              " 'soon',\n",
              " 'song',\n",
              " 'shoulder',\n",
              " 'reunion',\n",
              " 'responders',\n",
              " 'obliterate',\n",
              " 'minute',\n",
              " 'longer',\n",
              " 'light',\n",
              " 'left',\n",
              " 'hundreds',\n",
              " 'hostage',\n",
              " 'half',\n",
              " 'guys',\n",
              " 'government',\n",
              " 'fun',\n",
              " 'fatality',\n",
              " 'eyewitness',\n",
              " 'done',\n",
              " 'detonation',\n",
              " 'demolish',\n",
              " 'crushed',\n",
              " 'blast',\n",
              " 'believe',\n",
              " 'airport',\n",
              " 'affected',\n",
              " 'actually',\n",
              " 'yet',\n",
              " 'went',\n",
              " 'wake',\n",
              " 'volcano',\n",
              " 'very',\n",
              " 'use',\n",
              " 'upheaval',\n",
              " 'turkey',\n",
              " 'trying',\n",
              " 'thought',\n",
              " 'thanks',\n",
              " 'sound',\n",
              " 'sirens',\n",
              " 'shooting',\n",
              " 'send',\n",
              " 'same',\n",
              " 'remember',\n",
              " 'razed',\n",
              " 'prebreak',\n",
              " 'possible',\n",
              " 'ok',\n",
              " 'oh',\n",
              " 'music',\n",
              " 'media',\n",
              " 'land',\n",
              " 'issues',\n",
              " 'hijack',\n",
              " 'engulfed',\n",
              " 'electrocute',\n",
              " 'died',\n",
              " 'collision',\n",
              " 'collide',\n",
              " 'caused',\n",
              " 'catastrophic',\n",
              " 'care',\n",
              " 'calgary',\n",
              " 'building',\n",
              " 'arson',\n",
              " '8',\n",
              " 'zone',\n",
              " 'wont',\n",
              " 'tornado',\n",
              " 'three',\n",
              " 'start',\n",
              " 'site',\n",
              " 'person',\n",
              " 'obliterated',\n",
              " 'nearby',\n",
              " 'men',\n",
              " 'leave',\n",
              " 'israeli',\n",
              " 'hours',\n",
              " 'group',\n",
              " 'goes',\n",
              " 'gets',\n",
              " 'due',\n",
              " 'drowned',\n",
              " 'demolished',\n",
              " 'deluged',\n",
              " 'declares',\n",
              " 'cyclone',\n",
              " 'beautiful',\n",
              " '16yr',\n",
              " 'yourself',\n",
              " 'sue',\n",
              " 'shot',\n",
              " 'river',\n",
              " 're\\x89Û',\n",
              " 'play',\n",
              " 'plans',\n",
              " 'place',\n",
              " 'officials',\n",
              " 'nowplaying',\n",
              " 'north',\n",
              " 'making',\n",
              " 'lab',\n",
              " 'kids',\n",
              " 'job',\n",
              " 'inside',\n",
              " 'hell',\n",
              " 'fight',\n",
              " 'fan',\n",
              " 'demolition',\n",
              " 'brown',\n",
              " 'bc',\n",
              " 'avalanche',\n",
              " '\\x89ÛÓ',\n",
              " 'words',\n",
              " 'typhoondevastated',\n",
              " 'swallowed',\n",
              " 'such',\n",
              " 'stretcher',\n",
              " 'south',\n",
              " 'snowstorm',\n",
              " 'seismic',\n",
              " 'saipan',\n",
              " 'reuters',\n",
              " 'policy',\n",
              " 'pic',\n",
              " 'outside',\n",
              " 'obliteration',\n",
              " 'n',\n",
              " 'murderer',\n",
              " 'islam',\n",
              " 'hey',\n",
              " 'hellfire',\n",
              " 'far',\n",
              " 'doesnt',\n",
              " 'deal',\n",
              " 'days',\n",
              " 'bush',\n",
              " 'blazing',\n",
              " 'bar',\n",
              " 'anything',\n",
              " 'ago',\n",
              " 'ablaze',\n",
              " 'yeah',\n",
              " 'support',\n",
              " 'second',\n",
              " 'reactor',\n",
              " 'photos',\n",
              " 'mp',\n",
              " 'money',\n",
              " 'might',\n",
              " 'memories',\n",
              " 'literally',\n",
              " 'horror',\n",
              " 'hollywood',\n",
              " 'history',\n",
              " 'few',\n",
              " 'die',\n",
              " 'conclusively',\n",
              " 'casualty',\n",
              " 'business',\n",
              " 'bioterrorism',\n",
              " 'aircraft',\n",
              " 'abc',\n",
              " '7',\n",
              " '50',\n",
              " '30',\n",
              " '12',\n",
              " 'yes',\n",
              " 'west',\n",
              " 'watching',\n",
              " 'wait',\n",
              " 'ur',\n",
              " 'tv',\n",
              " 'theyre',\n",
              " 'tell',\n",
              " 'team',\n",
              " 'stay',\n",
              " 'spot',\n",
              " 'space',\n",
              " 'soudelor',\n",
              " 'seen',\n",
              " 'rubble',\n",
              " 'rainstorm',\n",
              " 'probably',\n",
              " 'pick',\n",
              " 'peace',\n",
              " 'once',\n",
              " 'officer',\n",
              " 'name',\n",
              " 'maybe',\n",
              " 'india',\n",
              " 'hear',\n",
              " 'health',\n",
              " 'find',\n",
              " 'finally',\n",
              " 'everything',\n",
              " 'd',\n",
              " 'crews',\n",
              " 'children',\n",
              " 'child',\n",
              " 'blight',\n",
              " 'amid',\n",
              " '20',\n",
              " 'waves',\n",
              " 'trench',\n",
              " 'transport',\n",
              " 'though',\n",
              " 'stand',\n",
              " 'siren',\n",
              " 'signs',\n",
              " 'shes',\n",
              " 'searching',\n",
              " 'rise',\n",
              " 'projected',\n",
              " 'own',\n",
              " 'order',\n",
              " 'move',\n",
              " 'miners',\n",
              " 'low',\n",
              " 'line',\n",
              " 'leather',\n",
              " 'la',\n",
              " 'having',\n",
              " 'happy',\n",
              " 'flash',\n",
              " 'feeling',\n",
              " 'fast',\n",
              " 'data',\n",
              " 'crisis',\n",
              " 'course',\n",
              " 'both',\n",
              " 'bodies',\n",
              " 'bigger',\n",
              " 'anyone',\n",
              " 'american',\n",
              " 'almost',\n",
              " 'wrong',\n",
              " 'worst',\n",
              " 'united',\n",
              " 'town',\n",
              " 'street',\n",
              " 'rd',\n",
              " 'pretty',\n",
              " 'others',\n",
              " 'online',\n",
              " 'offensive',\n",
              " 'needs',\n",
              " 'nearly',\n",
              " 'myself',\n",
              " 'morning',\n",
              " 'lost',\n",
              " 'huge',\n",
              " 'helicopter',\n",
              " 'heavy',\n",
              " 'hate',\n",
              " 'hat',\n",
              " 'hailstorm',\n",
              " 'effect',\n",
              " 'east',\n",
              " 'caught',\n",
              " 'book',\n",
              " 'bestnaijamade',\n",
              " 'become',\n",
              " '10',\n",
              " 'womens',\n",
              " 'usa',\n",
              " 'talk',\n",
              " 'star',\n",
              " 'sorry',\n",
              " 'self',\n",
              " 'russian',\n",
              " 'refugio',\n",
              " 'reason',\n",
              " 'picking',\n",
              " 'pay',\n",
              " 'pain',\n",
              " 'mayhem',\n",
              " 'manslaughter',\n",
              " 'listen',\n",
              " 'ladies',\n",
              " 'knock',\n",
              " 'jobs',\n",
              " 'ignition',\n",
              " 'eyes',\n",
              " 'costlier',\n",
              " 'closed',\n",
              " 'center',\n",
              " 'called',\n",
              " 'blizzard',\n",
              " 'beach',\n",
              " 'anthrax',\n",
              " 'alone',\n",
              " 'action',\n",
              " 'across',\n",
              " 'youth',\n",
              " 'win',\n",
              " 'view',\n",
              " 'vehicle',\n",
              " 'truth',\n",
              " 'thursday',\n",
              " 'thousands',\n",
              " 'ship',\n",
              " 'saved',\n",
              " 'reports',\n",
              " 'poor',\n",
              " 'pakistan',\n",
              " 'omg',\n",
              " 'mom',\n",
              " 'mishaps',\n",
              " 'meek',\n",
              " 'marks',\n",
              " 'makes',\n",
              " 'm',\n",
              " 'looking',\n",
              " 'level',\n",
              " 'houses',\n",
              " 'hard',\n",
              " 'happened',\n",
              " 'haha',\n",
              " 'guy',\n",
              " 'gun',\n",
              " 'gt',\n",
              " 'giant',\n",
              " 'gbbo',\n",
              " 'friends',\n",
              " 'flag',\n",
              " 'film',\n",
              " 'entire',\n",
              " 'emmerdale',\n",
              " 'declaration',\n",
              " 'damn',\n",
              " 'daily',\n",
              " 'couple',\n",
              " 'country',\n",
              " 'control',\n",
              " 'climate',\n",
              " 'china',\n",
              " 'chile',\n",
              " 'case',\n",
              " 'bbc',\n",
              " 'banned',\n",
              " 'ball',\n",
              " 'aug',\n",
              " 'arsonist',\n",
              " 'appears',\n",
              " 'angry',\n",
              " 'aint',\n",
              " 'aftershock',\n",
              " '60',\n",
              " '25',\n",
              " '13',\n",
              " '11',\n",
              " 'wonder',\n",
              " 'vs',\n",
              " 'virgin',\n",
              " 'village',\n",
              " 'try',\n",
              " 'totally',\n",
              " 'texas',\n",
              " 'temple',\n",
              " 'taking',\n",
              " 'takes',\n",
              " 't',\n",
              " 'side',\n",
              " 'ready',\n",
              " 'radio',\n",
              " 'public',\n",
              " 'playing',\n",
              " 'patience',\n",
              " 'outrage',\n",
              " 'official',\n",
              " 'moment',\n",
              " 'major',\n",
              " 'mad',\n",
              " 'lord',\n",
              " 'learn',\n",
              " 'large',\n",
              " 'isnt',\n",
              " 'govt',\n",
              " 'germs',\n",
              " 'fukushima',\n",
              " 'following',\n",
              " 'follow',\n",
              " 'feared',\n",
              " 'eye',\n",
              " 'else',\n",
              " 'drake',\n",
              " 'disea',\n",
              " 'devastated',\n",
              " 'desolate',\n",
              " 'computers',\n",
              " 'comes',\n",
              " 'cnn',\n",
              " 'class',\n",
              " 'christian',\n",
              " 'centre',\n",
              " 'cars',\n",
              " 'blaze',\n",
              " 'b',\n",
              " 'annihilation',\n",
              " 'america',\n",
              " '11yearold',\n",
              " 'yours',\n",
              " 'york',\n",
              " 'wanted',\n",
              " 'trains',\n",
              " 'toddler',\n",
              " 'till',\n",
              " 'theater',\n",
              " 'taken',\n",
              " 'sounds',\n",
              " 'sign',\n",
              " 'shows',\n",
              " 'running',\n",
              " 'risk',\n",
              " 'reddits',\n",
              " 'quiz',\n",
              " 'property',\n",
              " 'okay',\n",
              " 'niggas',\n",
              " 'myanmar',\n",
              " 'muslims',\n",
              " 'mph',\n",
              " 'mop',\n",
              " 'lmao',\n",
              " 'link',\n",
              " 'likely',\n",
              " 'led',\n",
              " 'issued',\n",
              " 'instead',\n",
              " 'human',\n",
              " 'holding',\n",
              " 'hiring',\n",
              " 'green',\n",
              " 'galactic',\n",
              " 'front',\n",
              " 'friend',\n",
              " 'favorite',\n",
              " 'drive',\n",
              " 'downtown',\n",
              " 'dog',\n",
              " 'date',\n",
              " 'crazy',\n",
              " 'coaches',\n",
              " 'bring',\n",
              " 'blue',\n",
              " 'bed',\n",
              " 'bayelsa',\n",
              " '100',\n",
              " 'wow',\n",
              " 'worse',\n",
              " 'upon',\n",
              " 'unconfirmed',\n",
              " 'turn',\n",
              " 'trust',\n",
              " 'true',\n",
              " 'tote',\n",
              " 'subreddits',\n",
              " 'started',\n",
              " 'seeing',\n",
              " 'secret',\n",
              " 'scared',\n",
              " 'russia',\n",
              " 'room',\n",
              " 'rock',\n",
              " 'rly',\n",
              " 'pradesh',\n",
              " 'ppl',\n",
              " 'neighbours',\n",
              " 'mount',\n",
              " 'mode',\n",
              " 'miss',\n",
              " ...]"
            ]
          },
          "metadata": {},
          "execution_count": 50
        }
      ]
    },
    {
      "cell_type": "code",
      "source": [
        "model_1.summary()"
      ],
      "metadata": {
        "colab": {
          "base_uri": "https://localhost:8080/"
        },
        "id": "ho4mV-dpr2E0",
        "outputId": "d0ebea7a-11e3-4cf1-eac6-fdb4166953d8"
      },
      "execution_count": 51,
      "outputs": [
        {
          "output_type": "stream",
          "name": "stdout",
          "text": [
            "Model: \"model_1_dense\"\n",
            "_________________________________________________________________\n",
            " Layer (type)                Output Shape              Param #   \n",
            "=================================================================\n",
            " input_1 (InputLayer)        [(None, 1)]               0         \n",
            "                                                                 \n",
            " text_vectorization_1 (TextV  (None, 15)               0         \n",
            " ectorization)                                                   \n",
            "                                                                 \n",
            " embedding (Embedding)       (None, 15, 128)           1280000   \n",
            "                                                                 \n",
            " global_average_pooling1d (G  (None, 128)              0         \n",
            " lobalAveragePooling1D)                                          \n",
            "                                                                 \n",
            " dense (Dense)               (None, 1)                 129       \n",
            "                                                                 \n",
            "=================================================================\n",
            "Total params: 1,280,129\n",
            "Trainable params: 1,280,129\n",
            "Non-trainable params: 0\n",
            "_________________________________________________________________\n"
          ]
        }
      ]
    },
    {
      "cell_type": "code",
      "source": [
        "#get weight matrix of embedding layer\n",
        "#numerical representations of each token in our training data, learned for 5 epochs\n",
        "embed_weights = model_1.get_layer(\"embedding\").get_weights()[0]\n",
        "print(embed_weights.shape)"
      ],
      "metadata": {
        "colab": {
          "base_uri": "https://localhost:8080/"
        },
        "id": "EptvdDbwsBll",
        "outputId": "2b8beb78-e335-40ae-d86a-8885c29a5ea0"
      },
      "execution_count": 52,
      "outputs": [
        {
          "output_type": "stream",
          "name": "stdout",
          "text": [
            "(10000, 128)\n"
          ]
        }
      ]
    },
    {
      "cell_type": "code",
      "source": [
        "embed_weights"
      ],
      "metadata": {
        "colab": {
          "base_uri": "https://localhost:8080/"
        },
        "id": "3_qrDxjIsMdn",
        "outputId": "bf8085cf-2955-469d-8126-c97778c867a6"
      },
      "execution_count": 53,
      "outputs": [
        {
          "output_type": "execute_result",
          "data": {
            "text/plain": [
              "array([[-0.00093335, -0.05233907,  0.02591362, ..., -0.02182777,\n",
              "         0.00608161,  0.00829956],\n",
              "       [-0.00620219, -0.03787991, -0.02619308, ...,  0.00029334,\n",
              "        -0.00116826, -0.03886334],\n",
              "       [ 0.0493309 ,  0.01820524,  0.02168775, ...,  0.03159839,\n",
              "        -0.00606056,  0.05337802],\n",
              "       ...,\n",
              "       [-0.06866074,  0.06444575, -0.06795012, ..., -0.02404651,\n",
              "        -0.06006249, -0.03016897],\n",
              "       [-0.05499896,  0.07174769, -0.03598017, ..., -0.08194141,\n",
              "        -0.03921252, -0.05171083],\n",
              "       [ 0.03398293, -0.08831825,  0.02714097, ...,  0.06196194,\n",
              "         0.00611054,  0.01944149]], dtype=float32)"
            ]
          },
          "metadata": {},
          "execution_count": 53
        }
      ]
    },
    {
      "cell_type": "code",
      "source": [
        "#projector tool\n",
        "import io\n",
        "out_v = io.open('vectors.tsv', 'w', encoding=\"utf-8\")\n",
        "out_m = io.open('metadata.tsv', 'w', encoding=\"utf-8\")\n",
        "\n",
        "for index, word in enumerate(words_in_vocab):\n",
        "  if index == 0:\n",
        "    continue\n",
        "\n",
        "  vec = embed_weights[index]\n",
        "  out_v.write('\\t'.join([str(x) for x in vec]) + \"\\n\")\n",
        "  out_m.write(word + \"\\n\")\n",
        "out_v.close()\n",
        "out_m.close()"
      ],
      "metadata": {
        "id": "1zjPoQplsQpK"
      },
      "execution_count": 54,
      "outputs": []
    },
    {
      "cell_type": "code",
      "source": [
        "#download files from colab and upload to projector\n",
        "try:\n",
        "  from google.colab import files\n",
        "  files.download('vectors.tsv')\n",
        "  files.download('metadata.tsv')\n",
        "except Exception:\n",
        "  pass"
      ],
      "metadata": {
        "colab": {
          "base_uri": "https://localhost:8080/",
          "height": 0
        },
        "id": "HOKlSddStyhi",
        "outputId": "12ff8f9a-78e4-4404-b2e7-8423c603d4bd"
      },
      "execution_count": 55,
      "outputs": [
        {
          "output_type": "display_data",
          "data": {
            "text/plain": [
              "<IPython.core.display.Javascript object>"
            ],
            "application/javascript": [
              "\n",
              "    async function download(id, filename, size) {\n",
              "      if (!google.colab.kernel.accessAllowed) {\n",
              "        return;\n",
              "      }\n",
              "      const div = document.createElement('div');\n",
              "      const label = document.createElement('label');\n",
              "      label.textContent = `Downloading \"${filename}\": `;\n",
              "      div.appendChild(label);\n",
              "      const progress = document.createElement('progress');\n",
              "      progress.max = size;\n",
              "      div.appendChild(progress);\n",
              "      document.body.appendChild(div);\n",
              "\n",
              "      const buffers = [];\n",
              "      let downloaded = 0;\n",
              "\n",
              "      const channel = await google.colab.kernel.comms.open(id);\n",
              "      // Send a message to notify the kernel that we're ready.\n",
              "      channel.send({})\n",
              "\n",
              "      for await (const message of channel.messages) {\n",
              "        // Send a message to notify the kernel that we're ready.\n",
              "        channel.send({})\n",
              "        if (message.buffers) {\n",
              "          for (const buffer of message.buffers) {\n",
              "            buffers.push(buffer);\n",
              "            downloaded += buffer.byteLength;\n",
              "            progress.value = downloaded;\n",
              "          }\n",
              "        }\n",
              "      }\n",
              "      const blob = new Blob(buffers, {type: 'application/binary'});\n",
              "      const a = document.createElement('a');\n",
              "      a.href = window.URL.createObjectURL(blob);\n",
              "      a.download = filename;\n",
              "      div.appendChild(a);\n",
              "      a.click();\n",
              "      div.remove();\n",
              "    }\n",
              "  "
            ]
          },
          "metadata": {}
        },
        {
          "output_type": "display_data",
          "data": {
            "text/plain": [
              "<IPython.core.display.Javascript object>"
            ],
            "application/javascript": [
              "download(\"download_6ecdda5e-b797-4f94-96e1-5b64b05c8add\", \"vectors.tsv\", 15388405)"
            ]
          },
          "metadata": {}
        },
        {
          "output_type": "display_data",
          "data": {
            "text/plain": [
              "<IPython.core.display.Javascript object>"
            ],
            "application/javascript": [
              "\n",
              "    async function download(id, filename, size) {\n",
              "      if (!google.colab.kernel.accessAllowed) {\n",
              "        return;\n",
              "      }\n",
              "      const div = document.createElement('div');\n",
              "      const label = document.createElement('label');\n",
              "      label.textContent = `Downloading \"${filename}\": `;\n",
              "      div.appendChild(label);\n",
              "      const progress = document.createElement('progress');\n",
              "      progress.max = size;\n",
              "      div.appendChild(progress);\n",
              "      document.body.appendChild(div);\n",
              "\n",
              "      const buffers = [];\n",
              "      let downloaded = 0;\n",
              "\n",
              "      const channel = await google.colab.kernel.comms.open(id);\n",
              "      // Send a message to notify the kernel that we're ready.\n",
              "      channel.send({})\n",
              "\n",
              "      for await (const message of channel.messages) {\n",
              "        // Send a message to notify the kernel that we're ready.\n",
              "        channel.send({})\n",
              "        if (message.buffers) {\n",
              "          for (const buffer of message.buffers) {\n",
              "            buffers.push(buffer);\n",
              "            downloaded += buffer.byteLength;\n",
              "            progress.value = downloaded;\n",
              "          }\n",
              "        }\n",
              "      }\n",
              "      const blob = new Blob(buffers, {type: 'application/binary'});\n",
              "      const a = document.createElement('a');\n",
              "      a.href = window.URL.createObjectURL(blob);\n",
              "      a.download = filename;\n",
              "      div.appendChild(a);\n",
              "      a.click();\n",
              "      div.remove();\n",
              "    }\n",
              "  "
            ]
          },
          "metadata": {}
        },
        {
          "output_type": "display_data",
          "data": {
            "text/plain": [
              "<IPython.core.display.Javascript object>"
            ],
            "application/javascript": [
              "download(\"download_b4fdc2de-78e2-468d-8a33-1d0df95d2b0a\", \"metadata.tsv\", 80563)"
            ]
          },
          "metadata": {}
        }
      ]
    },
    {
      "cell_type": "markdown",
      "source": [
        "#Recurrent Neural Network"
      ],
      "metadata": {
        "id": "fHOfPEZVutRs"
      }
    },
    {
      "cell_type": "markdown",
      "source": [
        "##useful for sequence data - use representation of previous input to aid the representation of a later input"
      ],
      "metadata": {
        "id": "jD5N4_yla6au"
      }
    },
    {
      "cell_type": "code",
      "source": [
        "### Model 2: LSTM\n",
        "###LSTM = Long Short Term Memory (one of the most popular RNN)\n",
        "'''\n",
        " input(text) -> toeknize -> embed -> layers (RNNs/Dense) -> Output\n",
        "'''"
      ],
      "metadata": {
        "colab": {
          "base_uri": "https://localhost:8080/",
          "height": 0
        },
        "id": "RympptAgbDW5",
        "outputId": "00f6b346-6127-475f-8162-bfa5bb734246"
      },
      "execution_count": 56,
      "outputs": [
        {
          "output_type": "execute_result",
          "data": {
            "text/plain": [
              "'\\n input(text) -> toeknize -> embed -> layers (RNNs/Dense) -> Output\\n'"
            ],
            "application/vnd.google.colaboratory.intrinsic+json": {
              "type": "string"
            }
          },
          "metadata": {},
          "execution_count": 56
        }
      ]
    },
    {
      "cell_type": "code",
      "source": [
        "from tensorflow.keras import layers\n",
        "\n",
        "inputs = layers.Input(shape=(1,), dtype=\"string\")\n",
        "x = text_vectorizer(inputs)\n",
        "x = embedding(x)\n",
        "print(x.shape)\n",
        "#x = layers.LSTM(64, return_sequences=True)(x)\n",
        "#print(x.shape)\n",
        "x = layers.LSTM(64)(x)\n",
        "print(x.shape)\n",
        "#x = layers.Dense(64, activation=\"relu\")(x)\n",
        "outputs = layers.Dense(1, activation=\"sigmoid\")(x)\n",
        "model_2 = tf.keras.Model(inputs, outputs, name=\"model_2_LSTM\")"
      ],
      "metadata": {
        "colab": {
          "base_uri": "https://localhost:8080/"
        },
        "id": "0LZA0LBDdHUX",
        "outputId": "5e0d0cac-1bd9-4d47-851b-7dc25c5cf18f"
      },
      "execution_count": 57,
      "outputs": [
        {
          "output_type": "stream",
          "name": "stdout",
          "text": [
            "(None, 15, 128)\n",
            "(None, 64)\n"
          ]
        }
      ]
    },
    {
      "cell_type": "code",
      "source": [
        "#Get a summary\n",
        "model_2.summary()"
      ],
      "metadata": {
        "colab": {
          "base_uri": "https://localhost:8080/"
        },
        "id": "faBVR96Edw7A",
        "outputId": "cdcd7190-47b6-4aff-df5b-a26b487addf9"
      },
      "execution_count": 58,
      "outputs": [
        {
          "output_type": "stream",
          "name": "stdout",
          "text": [
            "Model: \"model_2_LSTM\"\n",
            "_________________________________________________________________\n",
            " Layer (type)                Output Shape              Param #   \n",
            "=================================================================\n",
            " input_2 (InputLayer)        [(None, 1)]               0         \n",
            "                                                                 \n",
            " text_vectorization_1 (TextV  (None, 15)               0         \n",
            " ectorization)                                                   \n",
            "                                                                 \n",
            " embedding (Embedding)       (None, 15, 128)           1280000   \n",
            "                                                                 \n",
            " lstm (LSTM)                 (None, 64)                49408     \n",
            "                                                                 \n",
            " dense_1 (Dense)             (None, 1)                 65        \n",
            "                                                                 \n",
            "=================================================================\n",
            "Total params: 1,329,473\n",
            "Trainable params: 1,329,473\n",
            "Non-trainable params: 0\n",
            "_________________________________________________________________\n"
          ]
        }
      ]
    },
    {
      "cell_type": "code",
      "source": [
        "#compile\n",
        "model_2.compile(loss=\"binary_crossentropy\",\n",
        "                optimizer=tf.keras.optimizers.Adam(),\n",
        "                metrics=[\"accuracy\"])"
      ],
      "metadata": {
        "id": "Z8vKhE9xev3g"
      },
      "execution_count": 59,
      "outputs": []
    },
    {
      "cell_type": "code",
      "source": [
        "model_2_history = model_2.fit(train_sentences,\n",
        "                              train_labels,\n",
        "                              epochs=5,\n",
        "                              validation_data=(val_sentences,val_labels),\n",
        "                              callbacks=[create_tensorboard_callback(SAVE_DIR,\n",
        "                                                                     \"model_2_LSTM\")])"
      ],
      "metadata": {
        "colab": {
          "base_uri": "https://localhost:8080/"
        },
        "id": "zcCEMmvMfBec",
        "outputId": "830a73e0-f52f-49c5-881a-a03cc562bf77"
      },
      "execution_count": 60,
      "outputs": [
        {
          "output_type": "stream",
          "name": "stdout",
          "text": [
            "Saving TensorBoard log files to: model_logs/model_2_LSTM/20220730-175444\n",
            "Epoch 1/5\n",
            "215/215 [==============================] - 6s 8ms/step - loss: 0.2334 - accuracy: 0.9183 - val_loss: 0.5401 - val_accuracy: 0.7717\n",
            "Epoch 2/5\n",
            "215/215 [==============================] - 1s 6ms/step - loss: 0.1567 - accuracy: 0.9438 - val_loss: 0.5593 - val_accuracy: 0.7717\n",
            "Epoch 3/5\n",
            "215/215 [==============================] - 1s 6ms/step - loss: 0.1273 - accuracy: 0.9549 - val_loss: 0.6590 - val_accuracy: 0.7717\n",
            "Epoch 4/5\n",
            "215/215 [==============================] - 1s 6ms/step - loss: 0.1043 - accuracy: 0.9615 - val_loss: 0.9083 - val_accuracy: 0.7585\n",
            "Epoch 5/5\n",
            "215/215 [==============================] - 1s 6ms/step - loss: 0.0857 - accuracy: 0.9667 - val_loss: 0.9631 - val_accuracy: 0.7703\n"
          ]
        }
      ]
    },
    {
      "cell_type": "code",
      "source": [
        "model_2_pred_probs = model_2.predict(val_sentences)\n",
        "model_2_pred_probs[:10]"
      ],
      "metadata": {
        "colab": {
          "base_uri": "https://localhost:8080/"
        },
        "id": "IlDFF_PgfRSk",
        "outputId": "0f520934-b17f-4aca-e3dc-e4fe0bbfaf50"
      },
      "execution_count": 61,
      "outputs": [
        {
          "output_type": "execute_result",
          "data": {
            "text/plain": [
              "array([[2.7337461e-03],\n",
              "       [9.4766408e-01],\n",
              "       [9.9967837e-01],\n",
              "       [7.5921612e-03],\n",
              "       [9.9934167e-01],\n",
              "       [5.0018006e-03],\n",
              "       [2.6041004e-04],\n",
              "       [6.0779918e-03],\n",
              "       [9.9965644e-01],\n",
              "       [9.9958235e-01]], dtype=float32)"
            ]
          },
          "metadata": {},
          "execution_count": 61
        }
      ]
    },
    {
      "cell_type": "code",
      "source": [
        "#convert model 2 pred probs to labels\n",
        "model_2_preds = tf.squeeze(tf.round(model_2_pred_probs))\n",
        "model_2_preds[:10]"
      ],
      "metadata": {
        "colab": {
          "base_uri": "https://localhost:8080/"
        },
        "id": "5rpOeSSZfa54",
        "outputId": "06bfe350-39ad-4437-f2c9-a5980f624b56"
      },
      "execution_count": 62,
      "outputs": [
        {
          "output_type": "execute_result",
          "data": {
            "text/plain": [
              "<tf.Tensor: shape=(10,), dtype=float32, numpy=array([0., 1., 1., 0., 1., 0., 0., 0., 1., 1.], dtype=float32)>"
            ]
          },
          "metadata": {},
          "execution_count": 62
        }
      ]
    },
    {
      "cell_type": "code",
      "source": [
        "model_2_results = calculate_results(y_true=val_labels,\n",
        "                                    y_pred=model_2_preds)"
      ],
      "metadata": {
        "id": "WWBptCNkfkD6"
      },
      "execution_count": 63,
      "outputs": []
    },
    {
      "cell_type": "code",
      "source": [
        "model_2_results"
      ],
      "metadata": {
        "colab": {
          "base_uri": "https://localhost:8080/"
        },
        "id": "gOEi_DQMfySB",
        "outputId": "0ff1b2f9-4077-4f5b-ccf4-f3517375f14b"
      },
      "execution_count": 64,
      "outputs": [
        {
          "output_type": "execute_result",
          "data": {
            "text/plain": [
              "{'accuracy': 77.03412073490814,\n",
              " 'f1': 0.7698916484806789,\n",
              " 'precision': 0.769660000553622,\n",
              " 'recall': 0.7703412073490814}"
            ]
          },
          "metadata": {},
          "execution_count": 64
        }
      ]
    },
    {
      "cell_type": "code",
      "source": [
        "#Model 3: GRU\n",
        "#GRU = Gated recurrent unit\n",
        "##GRU is similar to LSTM, but has less parameters"
      ],
      "metadata": {
        "id": "Y-An2arVf021"
      },
      "execution_count": 65,
      "outputs": []
    },
    {
      "cell_type": "code",
      "source": [
        "from tensorflow.keras import layers\n",
        "\n",
        "model_3_embedding = layers.Embedding(input_dim=max_vocab_length,\n",
        "                                     output_dim=128,\n",
        "                                     embeddings_initializer=\"uniform\",\n",
        "                                     input_length=max_length,\n",
        "                                     name=\"embedding_3\")\n",
        "\n",
        "\n",
        "inputs = layers.Input(shape=(1,), dtype=tf.string)\n",
        "x = text_vectorizer(inputs)\n",
        "x = embedding(x)\n",
        "x = layers.GRU(64)(x)\n",
        "outputs = layers.Dense(1, activation=\"sigmoid\")(x)\n",
        "model_3 = tf.keras.Model(inputs, outputs, name=\"model_3_GRU\")\n",
        "\n",
        "'''\n",
        "# Build an RNN using the GRU cell\n",
        "inputs = layers.Input(shape=(1,), dtype=\"string\")\n",
        "x = text_vectorizer(inputs)\n",
        "x = model_3_embedding(x)\n",
        "# x = layers.GRU(64, return_sequences=True) # stacking recurrent cells requires return_sequences=True\n",
        "x = layers.GRU(64)(x) \n",
        "# x = layers.Dense(64, activation=\"relu\")(x) # optional dense layer after GRU cell\n",
        "outputs = layers.Dense(1, activation=\"sigmoid\")(x)\n",
        "model_3 = tf.keras.Model(inputs, outputs, name=\"model_3_GRU\")\n",
        "'''\n"
      ],
      "metadata": {
        "colab": {
          "base_uri": "https://localhost:8080/",
          "height": 0
        },
        "id": "JzWn9hofgXt3",
        "outputId": "29be5e8a-20c7-42d4-c35c-1de90b25adec"
      },
      "execution_count": 66,
      "outputs": [
        {
          "output_type": "execute_result",
          "data": {
            "text/plain": [
              "'\\n# Build an RNN using the GRU cell\\ninputs = layers.Input(shape=(1,), dtype=\"string\")\\nx = text_vectorizer(inputs)\\nx = model_3_embedding(x)\\n# x = layers.GRU(64, return_sequences=True) # stacking recurrent cells requires return_sequences=True\\nx = layers.GRU(64)(x) \\n# x = layers.Dense(64, activation=\"relu\")(x) # optional dense layer after GRU cell\\noutputs = layers.Dense(1, activation=\"sigmoid\")(x)\\nmodel_3 = tf.keras.Model(inputs, outputs, name=\"model_3_GRU\")\\n'"
            ],
            "application/vnd.google.colaboratory.intrinsic+json": {
              "type": "string"
            }
          },
          "metadata": {},
          "execution_count": 66
        }
      ]
    },
    {
      "cell_type": "code",
      "source": [
        "#compile\n",
        "model_3.compile(loss=\"binary_crossentropy\",\n",
        "                optimizer=tf.keras.optimizers.Adam(),\n",
        "                metrics=[\"accuracy\"])"
      ],
      "metadata": {
        "id": "GDj5HiiwhAM4"
      },
      "execution_count": 67,
      "outputs": []
    },
    {
      "cell_type": "code",
      "source": [
        "model_3.summary()"
      ],
      "metadata": {
        "colab": {
          "base_uri": "https://localhost:8080/"
        },
        "id": "Ofves2m6ilkm",
        "outputId": "c9e09bd8-6f74-4243-bebd-8360ad6cac49"
      },
      "execution_count": 68,
      "outputs": [
        {
          "output_type": "stream",
          "name": "stdout",
          "text": [
            "Model: \"model_3_GRU\"\n",
            "_________________________________________________________________\n",
            " Layer (type)                Output Shape              Param #   \n",
            "=================================================================\n",
            " input_3 (InputLayer)        [(None, 1)]               0         \n",
            "                                                                 \n",
            " text_vectorization_1 (TextV  (None, 15)               0         \n",
            " ectorization)                                                   \n",
            "                                                                 \n",
            " embedding (Embedding)       (None, 15, 128)           1280000   \n",
            "                                                                 \n",
            " gru (GRU)                   (None, 64)                37248     \n",
            "                                                                 \n",
            " dense_2 (Dense)             (None, 1)                 65        \n",
            "                                                                 \n",
            "=================================================================\n",
            "Total params: 1,317,313\n",
            "Trainable params: 1,317,313\n",
            "Non-trainable params: 0\n",
            "_________________________________________________________________\n"
          ]
        }
      ]
    },
    {
      "cell_type": "code",
      "source": [
        "# Fit model\n",
        "model_3_history = model_3.fit(train_sentences,\n",
        "                              train_labels,\n",
        "                              epochs=5,\n",
        "                              validation_data=(val_sentences, val_labels),\n",
        "                              callbacks=[create_tensorboard_callback(SAVE_DIR, \"GRU\")])"
      ],
      "metadata": {
        "colab": {
          "base_uri": "https://localhost:8080/"
        },
        "id": "MYbzl90qip3F",
        "outputId": "d743f989-34d7-4b32-efcc-c3565080c08b"
      },
      "execution_count": 69,
      "outputs": [
        {
          "output_type": "stream",
          "name": "stdout",
          "text": [
            "Saving TensorBoard log files to: model_logs/GRU/20220730-175457\n",
            "Epoch 1/5\n",
            "215/215 [==============================] - 3s 8ms/step - loss: 0.1563 - accuracy: 0.9380 - val_loss: 0.8505 - val_accuracy: 0.7677\n",
            "Epoch 2/5\n",
            "215/215 [==============================] - 1s 6ms/step - loss: 0.0798 - accuracy: 0.9696 - val_loss: 0.8466 - val_accuracy: 0.7769\n",
            "Epoch 3/5\n",
            "215/215 [==============================] - 1s 6ms/step - loss: 0.0697 - accuracy: 0.9712 - val_loss: 0.8684 - val_accuracy: 0.7756\n",
            "Epoch 4/5\n",
            "215/215 [==============================] - 1s 6ms/step - loss: 0.0663 - accuracy: 0.9723 - val_loss: 1.1653 - val_accuracy: 0.7677\n",
            "Epoch 5/5\n",
            "215/215 [==============================] - 1s 6ms/step - loss: 0.0553 - accuracy: 0.9753 - val_loss: 1.1224 - val_accuracy: 0.7638\n"
          ]
        }
      ]
    },
    {
      "cell_type": "code",
      "source": [
        "model_3_preds = tf.squeeze(tf.round(model_3.predict(val_sentences)))\n",
        "model_3_preds"
      ],
      "metadata": {
        "colab": {
          "base_uri": "https://localhost:8080/"
        },
        "id": "KxSrnKt-kk_e",
        "outputId": "a7c4f4cb-18a7-4c56-9c5d-84df0d423039"
      },
      "execution_count": 70,
      "outputs": [
        {
          "output_type": "execute_result",
          "data": {
            "text/plain": [
              "<tf.Tensor: shape=(762,), dtype=float32, numpy=\n",
              "array([0., 1., 1., 0., 1., 0., 0., 0., 1., 1., 0., 0., 1., 0., 0., 0., 1.,\n",
              "       0., 1., 1., 0., 0., 1., 0., 0., 1., 0., 0., 1., 1., 1., 0., 1., 0.,\n",
              "       0., 1., 0., 0., 0., 0., 0., 1., 1., 1., 0., 0., 0., 1., 1., 0., 0.,\n",
              "       1., 0., 0., 1., 0., 0., 0., 0., 1., 0., 0., 1., 1., 0., 1., 0., 1.,\n",
              "       0., 0., 0., 0., 0., 0., 0., 1., 0., 1., 1., 1., 0., 0., 0., 1., 0.,\n",
              "       1., 0., 1., 0., 0., 0., 0., 0., 0., 1., 0., 0., 1., 0., 0., 0., 0.,\n",
              "       1., 0., 0., 0., 1., 0., 1., 0., 0., 1., 1., 0., 0., 1., 1., 1., 1.,\n",
              "       1., 1., 1., 1., 1., 0., 0., 1., 0., 1., 1., 0., 1., 0., 0., 1., 0.,\n",
              "       1., 1., 1., 0., 0., 1., 1., 0., 0., 1., 1., 0., 0., 0., 1., 0., 0.,\n",
              "       1., 0., 0., 0., 1., 1., 0., 1., 1., 0., 0., 0., 0., 0., 0., 0., 1.,\n",
              "       1., 0., 0., 0., 1., 0., 1., 1., 0., 1., 0., 1., 0., 0., 1., 0., 1.,\n",
              "       0., 0., 0., 0., 0., 1., 0., 0., 0., 1., 1., 0., 0., 0., 1., 0., 0.,\n",
              "       0., 1., 0., 0., 1., 0., 0., 0., 0., 1., 0., 1., 1., 0., 1., 1., 1.,\n",
              "       0., 1., 0., 0., 0., 1., 1., 0., 0., 1., 1., 0., 1., 1., 0., 0., 0.,\n",
              "       1., 0., 0., 1., 0., 0., 0., 0., 0., 0., 1., 0., 1., 1., 1., 0., 0.,\n",
              "       0., 0., 0., 0., 1., 0., 1., 0., 0., 1., 0., 1., 0., 0., 1., 0., 0.,\n",
              "       1., 0., 1., 1., 1., 0., 1., 0., 1., 1., 1., 0., 1., 1., 1., 1., 1.,\n",
              "       1., 0., 0., 0., 1., 0., 1., 1., 0., 1., 1., 1., 0., 1., 1., 0., 0.,\n",
              "       1., 1., 1., 1., 0., 0., 0., 0., 0., 0., 1., 0., 1., 0., 1., 1., 1.,\n",
              "       1., 0., 0., 1., 1., 0., 0., 1., 1., 0., 0., 0., 0., 0., 0., 0., 0.,\n",
              "       1., 1., 0., 1., 0., 0., 0., 0., 1., 1., 0., 1., 0., 0., 0., 0., 0.,\n",
              "       0., 0., 1., 1., 0., 0., 0., 1., 1., 1., 1., 0., 0., 1., 0., 1., 1.,\n",
              "       0., 0., 0., 0., 1., 1., 1., 0., 0., 0., 1., 0., 1., 1., 0., 1., 1.,\n",
              "       1., 0., 0., 0., 0., 1., 1., 0., 0., 0., 0., 0., 1., 1., 1., 0., 0.,\n",
              "       1., 0., 0., 1., 1., 0., 0., 0., 0., 0., 1., 1., 0., 0., 0., 1., 0.,\n",
              "       0., 1., 0., 0., 0., 1., 0., 0., 0., 1., 1., 1., 1., 1., 1., 0., 1.,\n",
              "       0., 0., 0., 1., 0., 0., 0., 1., 0., 1., 1., 0., 0., 0., 1., 0., 1.,\n",
              "       1., 0., 1., 0., 1., 1., 0., 0., 0., 0., 0., 1., 0., 0., 0., 0., 0.,\n",
              "       1., 0., 0., 1., 0., 0., 0., 1., 0., 0., 0., 0., 1., 0., 0., 1., 1.,\n",
              "       0., 0., 1., 1., 0., 1., 1., 1., 0., 0., 0., 1., 0., 1., 1., 0., 0.,\n",
              "       1., 0., 0., 0., 0., 1., 1., 0., 1., 0., 1., 0., 0., 0., 0., 0., 1.,\n",
              "       0., 0., 1., 0., 0., 1., 0., 0., 1., 0., 1., 1., 0., 0., 1., 0., 0.,\n",
              "       1., 0., 0., 0., 0., 0., 0., 1., 1., 1., 1., 1., 1., 1., 0., 1., 1.,\n",
              "       0., 1., 0., 0., 0., 0., 1., 0., 0., 1., 0., 1., 0., 1., 1., 0., 1.,\n",
              "       1., 0., 1., 1., 1., 0., 0., 0., 0., 0., 1., 1., 0., 0., 1., 0., 1.,\n",
              "       0., 1., 0., 0., 0., 0., 1., 1., 1., 1., 0., 0., 1., 1., 0., 1., 0.,\n",
              "       1., 0., 0., 0., 0., 0., 1., 0., 1., 0., 0., 0., 1., 0., 1., 1., 1.,\n",
              "       1., 0., 1., 1., 1., 0., 0., 0., 0., 0., 0., 1., 0., 0., 0., 0., 1.,\n",
              "       1., 0., 0., 0., 1., 1., 0., 1., 0., 0., 1., 1., 1., 1., 1., 0., 0.,\n",
              "       0., 0., 0., 0., 1., 0., 1., 1., 1., 0., 0., 0., 0., 0., 1., 1., 0.,\n",
              "       1., 0., 0., 0., 1., 0., 1., 1., 0., 1., 0., 1., 0., 1., 0., 1., 0.,\n",
              "       0., 0., 0., 0., 0., 0., 0., 1., 1., 0., 0., 1., 1., 0., 0., 1., 1.,\n",
              "       1., 0., 0., 0., 0., 1., 1., 0., 1., 1., 1., 0., 0., 0., 0., 0., 0.,\n",
              "       1., 1., 0., 0., 1., 1., 0., 0., 0., 1., 0., 0., 0., 0., 0., 1., 0.,\n",
              "       0., 1., 1., 1., 1., 0., 0., 0., 1., 1., 0., 1., 1., 0.],\n",
              "      dtype=float32)>"
            ]
          },
          "metadata": {},
          "execution_count": 70
        }
      ]
    },
    {
      "cell_type": "code",
      "source": [
        "model_3_results = calculate_results(y_true=val_labels,\n",
        "                                    y_pred=model_3_preds)"
      ],
      "metadata": {
        "id": "JTfeVvyilHFf"
      },
      "execution_count": 71,
      "outputs": []
    },
    {
      "cell_type": "code",
      "source": [
        "model_3_results"
      ],
      "metadata": {
        "colab": {
          "base_uri": "https://localhost:8080/"
        },
        "id": "-jzAoUpmlrkj",
        "outputId": "fba2e653-f648-43d9-c220-5befc75bf352"
      },
      "execution_count": 72,
      "outputs": [
        {
          "output_type": "execute_result",
          "data": {
            "text/plain": [
              "{'accuracy': 76.37795275590551,\n",
              " 'f1': 0.7635827883174681,\n",
              " 'precision': 0.7634285816082944,\n",
              " 'recall': 0.7637795275590551}"
            ]
          },
          "metadata": {},
          "execution_count": 72
        }
      ]
    },
    {
      "cell_type": "code",
      "source": [
        "#Model 4: Bidirectional RNN\n",
        "##goes left to right and right to left"
      ],
      "metadata": {
        "id": "7GzSusEOlsvy"
      },
      "execution_count": 73,
      "outputs": []
    },
    {
      "cell_type": "code",
      "source": [
        "from tensorflow.keras import layers\n",
        "inputs = layers.Input(shape=(1,), dtype=\"string\")\n",
        "x = text_vectorizer(inputs)\n",
        "x = embedding(x)\n",
        "#x = layers.Bidirectional(layers.LSTM(64, return_sequences=True))(x)\n",
        "x = layers.Bidirectional(layers.LSTM(64))(x)\n",
        "outputs = layers.Dense(1, activation=\"sigmoid\")(x)\n",
        "model_4 = tf.keras.Model(inputs, outputs, name=\"model_4\")"
      ],
      "metadata": {
        "id": "Use5CQ2VxJJm"
      },
      "execution_count": 74,
      "outputs": []
    },
    {
      "cell_type": "code",
      "source": [
        "model_4.summary()"
      ],
      "metadata": {
        "colab": {
          "base_uri": "https://localhost:8080/"
        },
        "id": "cZkBd7oEyYOJ",
        "outputId": "a1c76f57-b0f1-4347-f885-4764b87e8e9a"
      },
      "execution_count": 75,
      "outputs": [
        {
          "output_type": "stream",
          "name": "stdout",
          "text": [
            "Model: \"model_4\"\n",
            "_________________________________________________________________\n",
            " Layer (type)                Output Shape              Param #   \n",
            "=================================================================\n",
            " input_4 (InputLayer)        [(None, 1)]               0         \n",
            "                                                                 \n",
            " text_vectorization_1 (TextV  (None, 15)               0         \n",
            " ectorization)                                                   \n",
            "                                                                 \n",
            " embedding (Embedding)       (None, 15, 128)           1280000   \n",
            "                                                                 \n",
            " bidirectional (Bidirectiona  (None, 128)              98816     \n",
            " l)                                                              \n",
            "                                                                 \n",
            " dense_3 (Dense)             (None, 1)                 129       \n",
            "                                                                 \n",
            "=================================================================\n",
            "Total params: 1,378,945\n",
            "Trainable params: 1,378,945\n",
            "Non-trainable params: 0\n",
            "_________________________________________________________________\n"
          ]
        }
      ]
    },
    {
      "cell_type": "code",
      "source": [
        "#compile\n",
        "model_4.compile(loss=\"binary_crossentropy\",\n",
        "                optimizer=tf.keras.optimizers.Adam(),\n",
        "                metrics=[\"accuracy\"])"
      ],
      "metadata": {
        "id": "adNTiqKuyje2"
      },
      "execution_count": 76,
      "outputs": []
    },
    {
      "cell_type": "code",
      "source": [
        "# Fit model\n",
        "model_4_history = model_4.fit(train_sentences,\n",
        "                              train_labels,\n",
        "                              epochs=5,\n",
        "                              validation_data=(val_sentences, val_labels),\n",
        "                              callbacks=[create_tensorboard_callback(SAVE_DIR, \"Bidrectional\")])"
      ],
      "metadata": {
        "colab": {
          "base_uri": "https://localhost:8080/"
        },
        "id": "bgj9Au4jzIAS",
        "outputId": "2b6a66e0-feb6-45ad-eaa3-6e8803cec9ff"
      },
      "execution_count": 77,
      "outputs": [
        {
          "output_type": "stream",
          "name": "stdout",
          "text": [
            "Saving TensorBoard log files to: model_logs/Bidrectional/20220730-175506\n",
            "Epoch 1/5\n",
            "215/215 [==============================] - 5s 11ms/step - loss: 0.1034 - accuracy: 0.9699 - val_loss: 0.9955 - val_accuracy: 0.7638\n",
            "Epoch 2/5\n",
            "215/215 [==============================] - 2s 8ms/step - loss: 0.0522 - accuracy: 0.9762 - val_loss: 1.1774 - val_accuracy: 0.7690\n",
            "Epoch 3/5\n",
            "215/215 [==============================] - 2s 8ms/step - loss: 0.0443 - accuracy: 0.9783 - val_loss: 1.3421 - val_accuracy: 0.7585\n",
            "Epoch 4/5\n",
            "215/215 [==============================] - 2s 8ms/step - loss: 0.0422 - accuracy: 0.9799 - val_loss: 1.5236 - val_accuracy: 0.7507\n",
            "Epoch 5/5\n",
            "215/215 [==============================] - 2s 8ms/step - loss: 0.0406 - accuracy: 0.9794 - val_loss: 1.4545 - val_accuracy: 0.7415\n"
          ]
        }
      ]
    },
    {
      "cell_type": "code",
      "source": [
        "model_4_pred_probs = model_4.predict(val_sentences)\n",
        "model_4_pred_probs"
      ],
      "metadata": {
        "colab": {
          "base_uri": "https://localhost:8080/"
        },
        "id": "rwQB-EBKzYpF",
        "outputId": "eea0b751-da17-43cc-ca7f-8d0b483933cd"
      },
      "execution_count": 78,
      "outputs": [
        {
          "output_type": "execute_result",
          "data": {
            "text/plain": [
              "array([[3.30881856e-04],\n",
              "       [9.86408591e-01],\n",
              "       [9.99985218e-01],\n",
              "       [1.10942172e-03],\n",
              "       [9.99937534e-01],\n",
              "       [8.81536007e-02],\n",
              "       [1.41749706e-05],\n",
              "       [6.58327132e-04],\n",
              "       [9.99829292e-01],\n",
              "       [9.99978781e-01],\n",
              "       [3.50831222e-04],\n",
              "       [8.10304715e-04],\n",
              "       [9.99993920e-01],\n",
              "       [1.95194662e-04],\n",
              "       [4.37968520e-05],\n",
              "       [8.47523749e-01],\n",
              "       [9.99988914e-01],\n",
              "       [7.10556225e-04],\n",
              "       [9.90121603e-01],\n",
              "       [9.63982880e-01],\n",
              "       [1.45598883e-02],\n",
              "       [7.22153159e-03],\n",
              "       [9.99546230e-01],\n",
              "       [6.15829170e-01],\n",
              "       [1.26990164e-02],\n",
              "       [9.99989867e-01],\n",
              "       [8.98571452e-04],\n",
              "       [1.39907832e-04],\n",
              "       [9.99888659e-01],\n",
              "       [9.99987125e-01],\n",
              "       [9.99985576e-01],\n",
              "       [1.33514707e-03],\n",
              "       [9.87563670e-01],\n",
              "       [7.59155446e-05],\n",
              "       [1.14206647e-04],\n",
              "       [9.99973536e-01],\n",
              "       [2.11905826e-05],\n",
              "       [9.61932659e-01],\n",
              "       [3.12310690e-03],\n",
              "       [1.49409389e-04],\n",
              "       [1.40702512e-04],\n",
              "       [9.99988794e-01],\n",
              "       [9.99951005e-01],\n",
              "       [4.53533500e-01],\n",
              "       [4.49617255e-05],\n",
              "       [2.14085667e-04],\n",
              "       [4.45062965e-01],\n",
              "       [9.99977469e-01],\n",
              "       [9.93349135e-01],\n",
              "       [9.26861539e-04],\n",
              "       [2.22928429e-04],\n",
              "       [9.99988675e-01],\n",
              "       [4.93946020e-04],\n",
              "       [6.79271109e-03],\n",
              "       [9.69495773e-01],\n",
              "       [4.49506661e-05],\n",
              "       [8.81738379e-05],\n",
              "       [1.28042870e-04],\n",
              "       [8.73817597e-04],\n",
              "       [9.53763664e-01],\n",
              "       [2.58614222e-04],\n",
              "       [2.73781945e-04],\n",
              "       [9.99980569e-01],\n",
              "       [9.99989390e-01],\n",
              "       [4.86344652e-05],\n",
              "       [9.99989510e-01],\n",
              "       [4.97167290e-04],\n",
              "       [9.99968648e-01],\n",
              "       [7.09785335e-03],\n",
              "       [5.76572020e-05],\n",
              "       [7.67426245e-05],\n",
              "       [3.88806548e-05],\n",
              "       [2.66760035e-04],\n",
              "       [2.60758772e-03],\n",
              "       [1.90400761e-02],\n",
              "       [9.99935269e-01],\n",
              "       [2.10365513e-04],\n",
              "       [9.99992132e-01],\n",
              "       [9.99985814e-01],\n",
              "       [9.99984860e-01],\n",
              "       [3.40335965e-01],\n",
              "       [2.47261138e-03],\n",
              "       [9.14201021e-01],\n",
              "       [9.99940038e-01],\n",
              "       [1.03355793e-04],\n",
              "       [5.50896883e-01],\n",
              "       [5.80699998e-05],\n",
              "       [9.99984384e-01],\n",
              "       [2.61952486e-02],\n",
              "       [2.81083360e-02],\n",
              "       [8.67564499e-01],\n",
              "       [1.30367763e-02],\n",
              "       [5.30052239e-05],\n",
              "       [2.27937431e-04],\n",
              "       [9.99925613e-01],\n",
              "       [6.41438164e-05],\n",
              "       [5.34867346e-01],\n",
              "       [9.99264300e-01],\n",
              "       [1.05559116e-03],\n",
              "       [1.11399556e-03],\n",
              "       [5.41428926e-05],\n",
              "       [3.23600471e-01],\n",
              "       [9.99777377e-01],\n",
              "       [5.83807705e-05],\n",
              "       [6.03113265e-04],\n",
              "       [4.42109711e-04],\n",
              "       [9.99220133e-01],\n",
              "       [2.26697121e-02],\n",
              "       [9.33916807e-01],\n",
              "       [1.50235314e-02],\n",
              "       [4.32742418e-05],\n",
              "       [9.99966621e-01],\n",
              "       [9.99895334e-01],\n",
              "       [9.74383831e-01],\n",
              "       [4.41361735e-05],\n",
              "       [9.99162316e-01],\n",
              "       [9.99971747e-01],\n",
              "       [9.99973178e-01],\n",
              "       [9.99989867e-01],\n",
              "       [9.94629204e-01],\n",
              "       [9.99982953e-01],\n",
              "       [9.96729016e-01],\n",
              "       [9.99967694e-01],\n",
              "       [9.99992013e-01],\n",
              "       [1.49921143e-05],\n",
              "       [4.28908497e-01],\n",
              "       [9.99928236e-01],\n",
              "       [1.49762994e-02],\n",
              "       [9.99988317e-01],\n",
              "       [9.99600232e-01],\n",
              "       [4.46587086e-01],\n",
              "       [9.99929905e-01],\n",
              "       [1.24558888e-03],\n",
              "       [2.09710747e-01],\n",
              "       [9.99517083e-01],\n",
              "       [3.47138313e-03],\n",
              "       [9.98836100e-01],\n",
              "       [9.99988914e-01],\n",
              "       [9.99986529e-01],\n",
              "       [1.37361189e-04],\n",
              "       [1.28042127e-04],\n",
              "       [9.99961615e-01],\n",
              "       [9.99705136e-01],\n",
              "       [1.91247575e-02],\n",
              "       [5.43881797e-05],\n",
              "       [9.99968290e-01],\n",
              "       [9.99907732e-01],\n",
              "       [1.93789256e-05],\n",
              "       [1.05003370e-02],\n",
              "       [4.18764248e-05],\n",
              "       [9.99990702e-01],\n",
              "       [8.17542337e-03],\n",
              "       [3.80216916e-05],\n",
              "       [9.99958873e-01],\n",
              "       [6.76052659e-05],\n",
              "       [2.07141298e-03],\n",
              "       [2.29610340e-03],\n",
              "       [9.96887267e-01],\n",
              "       [9.99960303e-01],\n",
              "       [1.14049859e-01],\n",
              "       [9.99926925e-01],\n",
              "       [9.99983907e-01],\n",
              "       [1.28661597e-03],\n",
              "       [2.86244154e-01],\n",
              "       [1.46564547e-04],\n",
              "       [2.51264006e-01],\n",
              "       [1.59893636e-04],\n",
              "       [8.36947729e-05],\n",
              "       [7.68626109e-03],\n",
              "       [9.76258337e-01],\n",
              "       [9.99524713e-01],\n",
              "       [1.27467036e-03],\n",
              "       [2.92006618e-04],\n",
              "       [5.33790226e-05],\n",
              "       [9.56150353e-01],\n",
              "       [1.11746704e-04],\n",
              "       [9.99918342e-01],\n",
              "       [9.83456671e-01],\n",
              "       [1.97571389e-05],\n",
              "       [9.99705493e-01],\n",
              "       [2.88360548e-04],\n",
              "       [9.99903440e-01],\n",
              "       [3.51576804e-04],\n",
              "       [5.58658659e-01],\n",
              "       [9.97450173e-01],\n",
              "       [3.80189973e-04],\n",
              "       [9.99991775e-01],\n",
              "       [8.79863024e-01],\n",
              "       [2.73619927e-02],\n",
              "       [7.16626382e-05],\n",
              "       [1.53837427e-05],\n",
              "       [3.49524780e-03],\n",
              "       [9.99909043e-01],\n",
              "       [6.75317496e-02],\n",
              "       [2.94952351e-03],\n",
              "       [8.78772795e-01],\n",
              "       [9.99972105e-01],\n",
              "       [7.72604525e-01],\n",
              "       [5.81763446e-01],\n",
              "       [2.53664242e-04],\n",
              "       [1.83477285e-04],\n",
              "       [9.99977589e-01],\n",
              "       [4.33700843e-05],\n",
              "       [7.08346197e-05],\n",
              "       [2.44542771e-05],\n",
              "       [9.99410391e-01],\n",
              "       [2.19746889e-05],\n",
              "       [9.87832785e-01],\n",
              "       [9.99964714e-01],\n",
              "       [3.66495005e-05],\n",
              "       [3.78286350e-05],\n",
              "       [7.02793332e-05],\n",
              "       [3.97880614e-01],\n",
              "       [9.12928641e-01],\n",
              "       [1.50545588e-04],\n",
              "       [9.99852896e-01],\n",
              "       [9.98660922e-01],\n",
              "       [5.60362168e-05],\n",
              "       [9.99960303e-01],\n",
              "       [9.97567654e-01],\n",
              "       [9.99972582e-01],\n",
              "       [2.52968694e-05],\n",
              "       [9.99980807e-01],\n",
              "       [7.19384179e-02],\n",
              "       [3.89105480e-05],\n",
              "       [2.66596023e-03],\n",
              "       [9.99374688e-01],\n",
              "       [9.99987245e-01],\n",
              "       [7.72700785e-03],\n",
              "       [8.17200169e-04],\n",
              "       [9.99123991e-01],\n",
              "       [9.99873996e-01],\n",
              "       [1.37733341e-05],\n",
              "       [9.99754727e-01],\n",
              "       [9.99957919e-01],\n",
              "       [4.40602869e-01],\n",
              "       [8.42032721e-04],\n",
              "       [3.69606496e-05],\n",
              "       [9.99977827e-01],\n",
              "       [1.27467036e-03],\n",
              "       [2.01785326e-04],\n",
              "       [8.23684394e-01],\n",
              "       [2.55123450e-05],\n",
              "       [4.00159694e-03],\n",
              "       [1.37505252e-02],\n",
              "       [3.32475320e-05],\n",
              "       [8.40569288e-03],\n",
              "       [4.96780276e-02],\n",
              "       [9.89346921e-01],\n",
              "       [2.18888242e-02],\n",
              "       [9.99953032e-01],\n",
              "       [9.99155402e-01],\n",
              "       [9.79554176e-01],\n",
              "       [3.77301272e-04],\n",
              "       [2.24175341e-02],\n",
              "       [2.93415913e-04],\n",
              "       [1.75176526e-03],\n",
              "       [2.05495835e-05],\n",
              "       [2.21172418e-03],\n",
              "       [9.99900579e-01],\n",
              "       [9.39269157e-05],\n",
              "       [9.99986053e-01],\n",
              "       [2.51755027e-05],\n",
              "       [6.04092602e-05],\n",
              "       [9.99992371e-01],\n",
              "       [3.33562319e-04],\n",
              "       [9.84790981e-01],\n",
              "       [7.49959072e-05],\n",
              "       [3.18459608e-02],\n",
              "       [9.99929428e-01],\n",
              "       [4.69951844e-03],\n",
              "       [2.47227399e-05],\n",
              "       [9.99923110e-01],\n",
              "       [1.86461827e-03],\n",
              "       [9.98471558e-01],\n",
              "       [9.99988198e-01],\n",
              "       [9.99991536e-01],\n",
              "       [6.62752390e-01],\n",
              "       [9.77224648e-01],\n",
              "       [1.34654139e-04],\n",
              "       [9.99963641e-01],\n",
              "       [8.59664977e-01],\n",
              "       [9.94788527e-01],\n",
              "       [1.96797890e-03],\n",
              "       [9.99967337e-01],\n",
              "       [9.98880565e-01],\n",
              "       [2.52844036e-01],\n",
              "       [9.99905348e-01],\n",
              "       [9.99776304e-01],\n",
              "       [9.99705255e-01],\n",
              "       [3.49289551e-02],\n",
              "       [1.27467036e-03],\n",
              "       [4.02464502e-04],\n",
              "       [9.99673843e-01],\n",
              "       [1.41595700e-03],\n",
              "       [9.99969363e-01],\n",
              "       [9.98918891e-01],\n",
              "       [3.63841772e-01],\n",
              "       [9.81270075e-01],\n",
              "       [9.99963760e-01],\n",
              "       [9.99975920e-01],\n",
              "       [9.79231409e-05],\n",
              "       [9.99952555e-01],\n",
              "       [9.99959111e-01],\n",
              "       [3.01964972e-02],\n",
              "       [5.02497051e-03],\n",
              "       [9.72184420e-01],\n",
              "       [9.79632974e-01],\n",
              "       [9.99795973e-01],\n",
              "       [9.99902368e-01],\n",
              "       [9.63153541e-01],\n",
              "       [5.81030690e-05],\n",
              "       [4.49007784e-04],\n",
              "       [4.50839192e-01],\n",
              "       [2.36028456e-04],\n",
              "       [1.64889265e-04],\n",
              "       [9.99934435e-01],\n",
              "       [5.56948408e-03],\n",
              "       [9.86307085e-01],\n",
              "       [2.05241784e-04],\n",
              "       [9.99977589e-01],\n",
              "       [5.30983448e-01],\n",
              "       [9.99906063e-01],\n",
              "       [9.99434173e-01],\n",
              "       [3.40111619e-05],\n",
              "       [4.72336650e-01],\n",
              "       [9.99991417e-01],\n",
              "       [9.99952912e-01],\n",
              "       [3.98874938e-01],\n",
              "       [8.72145582e-04],\n",
              "       [9.99990702e-01],\n",
              "       [9.99525189e-01],\n",
              "       [2.28704922e-02],\n",
              "       [1.38983174e-04],\n",
              "       [1.27002914e-02],\n",
              "       [6.88322834e-05],\n",
              "       [3.62600898e-03],\n",
              "       [1.39596144e-04],\n",
              "       [9.53754352e-05],\n",
              "       [1.19770914e-01],\n",
              "       [9.96485591e-01],\n",
              "       [9.99989271e-01],\n",
              "       [9.90337649e-05],\n",
              "       [9.99955177e-01],\n",
              "       [1.41338009e-04],\n",
              "       [2.44780767e-05],\n",
              "       [1.25179486e-02],\n",
              "       [1.43361816e-04],\n",
              "       [9.99977469e-01],\n",
              "       [9.95088875e-01],\n",
              "       [1.55333251e-01],\n",
              "       [9.99985099e-01],\n",
              "       [4.30027127e-01],\n",
              "       [6.75633317e-03],\n",
              "       [6.52907358e-04],\n",
              "       [1.37186493e-03],\n",
              "       [1.00598775e-01],\n",
              "       [2.95271096e-03],\n",
              "       [8.50279689e-01],\n",
              "       [9.99956012e-01],\n",
              "       [9.98471558e-01],\n",
              "       [8.32483888e-01],\n",
              "       [3.41414586e-02],\n",
              "       [1.24905014e-03],\n",
              "       [9.99784052e-01],\n",
              "       [9.99975324e-01],\n",
              "       [9.97753680e-01],\n",
              "       [9.99878883e-01],\n",
              "       [2.16012239e-04],\n",
              "       [2.62525439e-01],\n",
              "       [9.96497691e-01],\n",
              "       [1.57028611e-04],\n",
              "       [9.99989867e-01],\n",
              "       [9.99966025e-01],\n",
              "       [1.35488273e-03],\n",
              "       [3.29723880e-02],\n",
              "       [4.86455619e-01],\n",
              "       [4.98130510e-04],\n",
              "       [9.99542594e-01],\n",
              "       [9.99987125e-01],\n",
              "       [9.99983668e-01],\n",
              "       [4.89836530e-05],\n",
              "       [5.63386238e-05],\n",
              "       [4.59587693e-01],\n",
              "       [9.99989271e-01],\n",
              "       [2.07697463e-04],\n",
              "       [9.99985933e-01],\n",
              "       [9.99989867e-01],\n",
              "       [8.11791688e-04],\n",
              "       [9.99968052e-01],\n",
              "       [9.99966145e-01],\n",
              "       [9.99117076e-01],\n",
              "       [2.68861681e-04],\n",
              "       [9.27331508e-04],\n",
              "       [3.28018396e-05],\n",
              "       [3.28521201e-05],\n",
              "       [5.05757689e-01],\n",
              "       [9.99985099e-01],\n",
              "       [8.65947921e-04],\n",
              "       [2.79923115e-04],\n",
              "       [2.87823914e-05],\n",
              "       [8.25714524e-05],\n",
              "       [4.68081594e-01],\n",
              "       [9.99913454e-01],\n",
              "       [9.99906540e-01],\n",
              "       [9.97971356e-01],\n",
              "       [2.57913180e-05],\n",
              "       [7.24229394e-05],\n",
              "       [9.98687685e-01],\n",
              "       [6.64381878e-05],\n",
              "       [1.74579280e-03],\n",
              "       [9.84186471e-01],\n",
              "       [9.99974608e-01],\n",
              "       [1.30223911e-04],\n",
              "       [5.62681234e-04],\n",
              "       [2.32408798e-04],\n",
              "       [1.06052414e-03],\n",
              "       [6.69189453e-01],\n",
              "       [9.99959111e-01],\n",
              "       [9.99959111e-01],\n",
              "       [7.95414526e-05],\n",
              "       [3.58659338e-04],\n",
              "       [4.89241660e-01],\n",
              "       [9.99987960e-01],\n",
              "       [2.36133637e-05],\n",
              "       [1.10382221e-04],\n",
              "       [9.57148373e-01],\n",
              "       [3.44267813e-04],\n",
              "       [4.17204101e-05],\n",
              "       [1.26164290e-04],\n",
              "       [9.64720011e-01],\n",
              "       [1.20193930e-03],\n",
              "       [1.35104544e-02],\n",
              "       [7.87023365e-01],\n",
              "       [9.99859929e-01],\n",
              "       [9.99977350e-01],\n",
              "       [9.99988556e-01],\n",
              "       [9.99908447e-01],\n",
              "       [9.94453132e-01],\n",
              "       [9.93423820e-01],\n",
              "       [5.28495526e-04],\n",
              "       [9.99961734e-01],\n",
              "       [7.64567230e-05],\n",
              "       [1.92214828e-02],\n",
              "       [5.78133436e-03],\n",
              "       [9.94994223e-01],\n",
              "       [9.98265684e-01],\n",
              "       [3.51181370e-03],\n",
              "       [4.70493436e-01],\n",
              "       [9.99990106e-01],\n",
              "       [2.14305212e-04],\n",
              "       [9.97768760e-01],\n",
              "       [6.08146131e-01],\n",
              "       [5.98218758e-04],\n",
              "       [1.94280326e-01],\n",
              "       [1.12224109e-02],\n",
              "       [9.99942780e-01],\n",
              "       [1.86651119e-03],\n",
              "       [9.98926580e-01],\n",
              "       [9.99775708e-01],\n",
              "       [3.93933617e-03],\n",
              "       [9.99841571e-01],\n",
              "       [6.81635429e-05],\n",
              "       [8.43607187e-01],\n",
              "       [9.99833226e-01],\n",
              "       [4.08377964e-05],\n",
              "       [4.51799154e-01],\n",
              "       [3.62290949e-01],\n",
              "       [4.59587693e-01],\n",
              "       [7.61866322e-05],\n",
              "       [9.99848008e-01],\n",
              "       [4.39215764e-05],\n",
              "       [8.85922127e-05],\n",
              "       [3.57842713e-04],\n",
              "       [9.91458476e-01],\n",
              "       [1.85951870e-03],\n",
              "       [9.98408496e-01],\n",
              "       [6.74928669e-05],\n",
              "       [1.02376204e-03],\n",
              "       [9.99994636e-01],\n",
              "       [8.53371457e-05],\n",
              "       [3.85806430e-04],\n",
              "       [4.23421234e-01],\n",
              "       [9.99950171e-01],\n",
              "       [1.56215823e-03],\n",
              "       [9.88447845e-01],\n",
              "       [8.88806753e-05],\n",
              "       [2.32593366e-03],\n",
              "       [9.99926448e-01],\n",
              "       [2.29889647e-05],\n",
              "       [3.12985328e-04],\n",
              "       [9.99973893e-01],\n",
              "       [9.99341309e-01],\n",
              "       [9.96608101e-03],\n",
              "       [5.85952257e-05],\n",
              "       [8.45619142e-01],\n",
              "       [9.93902683e-01],\n",
              "       [6.50153495e-04],\n",
              "       [9.98632014e-01],\n",
              "       [6.55339241e-01],\n",
              "       [9.99994874e-01],\n",
              "       [1.62492335e-01],\n",
              "       [1.38435076e-04],\n",
              "       [1.81692976e-05],\n",
              "       [9.99846578e-01],\n",
              "       [2.34532381e-05],\n",
              "       [9.99366224e-01],\n",
              "       [9.99947786e-01],\n",
              "       [9.97201085e-01],\n",
              "       [6.42973721e-01],\n",
              "       [9.99994874e-01],\n",
              "       [3.95179632e-05],\n",
              "       [5.75233134e-04],\n",
              "       [3.37696460e-04],\n",
              "       [6.53255614e-04],\n",
              "       [9.99993443e-01],\n",
              "       [9.99947906e-01],\n",
              "       [2.13690326e-02],\n",
              "       [9.53169763e-01],\n",
              "       [1.40253641e-03],\n",
              "       [9.99995232e-01],\n",
              "       [3.69666777e-05],\n",
              "       [4.04691702e-04],\n",
              "       [2.47261138e-03],\n",
              "       [9.64845880e-04],\n",
              "       [5.16930653e-04],\n",
              "       [9.99927759e-01],\n",
              "       [2.61041343e-01],\n",
              "       [1.44714388e-04],\n",
              "       [9.99981284e-01],\n",
              "       [3.10100091e-04],\n",
              "       [3.28233400e-05],\n",
              "       [9.99987960e-01],\n",
              "       [8.13083723e-04],\n",
              "       [3.66161490e-04],\n",
              "       [9.99976039e-01],\n",
              "       [8.08822806e-04],\n",
              "       [9.99975324e-01],\n",
              "       [9.99993324e-01],\n",
              "       [1.13010661e-04],\n",
              "       [2.56907437e-02],\n",
              "       [9.99952197e-01],\n",
              "       [1.98662092e-04],\n",
              "       [3.90322275e-05],\n",
              "       [9.99945164e-01],\n",
              "       [1.17183990e-04],\n",
              "       [1.50350912e-04],\n",
              "       [4.27961553e-04],\n",
              "       [6.90198004e-01],\n",
              "       [2.98610330e-02],\n",
              "       [1.40576332e-04],\n",
              "       [9.99994636e-01],\n",
              "       [9.99980688e-01],\n",
              "       [9.99963880e-01],\n",
              "       [8.10810089e-01],\n",
              "       [8.23558271e-01],\n",
              "       [9.99976397e-01],\n",
              "       [9.99854207e-01],\n",
              "       [8.04499444e-03],\n",
              "       [9.99473274e-01],\n",
              "       [9.99922633e-01],\n",
              "       [9.35970008e-01],\n",
              "       [8.27342033e-01],\n",
              "       [5.25370669e-05],\n",
              "       [3.83743027e-05],\n",
              "       [6.26317269e-05],\n",
              "       [9.38031226e-05],\n",
              "       [9.99972105e-01],\n",
              "       [1.13509350e-01],\n",
              "       [3.24543417e-01],\n",
              "       [9.98987973e-01],\n",
              "       [3.03097786e-05],\n",
              "       [9.99773681e-01],\n",
              "       [9.23675543e-04],\n",
              "       [9.89708602e-01],\n",
              "       [9.99994874e-01],\n",
              "       [9.35054632e-05],\n",
              "       [9.99952197e-01],\n",
              "       [9.99985576e-01],\n",
              "       [5.36787848e-04],\n",
              "       [9.99771059e-01],\n",
              "       [9.99985099e-01],\n",
              "       [9.99953985e-01],\n",
              "       [5.28542876e-01],\n",
              "       [5.62145531e-01],\n",
              "       [5.03748748e-03],\n",
              "       [2.42119931e-04],\n",
              "       [1.60351896e-03],\n",
              "       [9.99958992e-01],\n",
              "       [9.99930263e-01],\n",
              "       [8.88563573e-01],\n",
              "       [2.71208286e-01],\n",
              "       [9.99665618e-01],\n",
              "       [9.75864828e-01],\n",
              "       [9.99879241e-01],\n",
              "       [6.84846484e-04],\n",
              "       [9.96472359e-01],\n",
              "       [9.47923779e-01],\n",
              "       [3.39817643e-01],\n",
              "       [1.36538365e-04],\n",
              "       [9.30871538e-05],\n",
              "       [9.99906540e-01],\n",
              "       [9.99989510e-01],\n",
              "       [9.98894870e-01],\n",
              "       [9.99913335e-01],\n",
              "       [1.91603333e-01],\n",
              "       [6.44516479e-03],\n",
              "       [1.06808946e-01],\n",
              "       [9.92170274e-01],\n",
              "       [1.73109456e-05],\n",
              "       [9.99923229e-01],\n",
              "       [1.01447431e-03],\n",
              "       [9.98472035e-01],\n",
              "       [2.27897745e-02],\n",
              "       [1.93172600e-05],\n",
              "       [7.38639137e-05],\n",
              "       [4.21616889e-04],\n",
              "       [6.49752910e-05],\n",
              "       [9.98944104e-01],\n",
              "       [7.49198914e-01],\n",
              "       [9.98999178e-01],\n",
              "       [1.01494722e-01],\n",
              "       [4.56061214e-03],\n",
              "       [1.85180579e-05],\n",
              "       [9.99985337e-01],\n",
              "       [4.22328757e-03],\n",
              "       [9.98068869e-01],\n",
              "       [9.99988556e-01],\n",
              "       [9.99919534e-01],\n",
              "       [9.99821723e-01],\n",
              "       [2.19976224e-04],\n",
              "       [9.99947071e-01],\n",
              "       [9.99938488e-01],\n",
              "       [9.97422457e-01],\n",
              "       [2.20894068e-01],\n",
              "       [5.62386960e-03],\n",
              "       [1.31416693e-02],\n",
              "       [9.22965992e-05],\n",
              "       [4.81482223e-03],\n",
              "       [1.03315264e-02],\n",
              "       [9.99921322e-01],\n",
              "       [4.39861178e-04],\n",
              "       [2.96461312e-05],\n",
              "       [1.91200286e-01],\n",
              "       [7.06558421e-05],\n",
              "       [9.99979138e-01],\n",
              "       [9.99730766e-01],\n",
              "       [4.23636027e-02],\n",
              "       [1.61030263e-01],\n",
              "       [5.17501758e-05],\n",
              "       [9.97442484e-01],\n",
              "       [6.55339241e-01],\n",
              "       [4.59147595e-05],\n",
              "       [9.96224523e-01],\n",
              "       [2.00316757e-02],\n",
              "       [2.82756955e-04],\n",
              "       [9.99960661e-01],\n",
              "       [9.99994993e-01],\n",
              "       [9.99975085e-01],\n",
              "       [8.70335102e-01],\n",
              "       [9.99928832e-01],\n",
              "       [2.15471227e-04],\n",
              "       [4.70493436e-01],\n",
              "       [2.51377851e-01],\n",
              "       [5.28762583e-04],\n",
              "       [1.18740179e-04],\n",
              "       [1.15234834e-04],\n",
              "       [9.69636559e-01],\n",
              "       [2.99734325e-04],\n",
              "       [9.99874711e-01],\n",
              "       [9.99465287e-01],\n",
              "       [9.99969363e-01],\n",
              "       [1.99159578e-04],\n",
              "       [3.94589151e-05],\n",
              "       [2.93061981e-04],\n",
              "       [1.11062160e-04],\n",
              "       [1.50851032e-03],\n",
              "       [9.99986410e-01],\n",
              "       [9.99968767e-01],\n",
              "       [5.54720464e-05],\n",
              "       [9.99752581e-01],\n",
              "       [5.70378266e-02],\n",
              "       [1.55106478e-03],\n",
              "       [8.94137084e-01],\n",
              "       [9.98582721e-01],\n",
              "       [1.62247266e-03],\n",
              "       [9.99971032e-01],\n",
              "       [3.82346720e-01],\n",
              "       [4.97385627e-03],\n",
              "       [9.99978900e-01],\n",
              "       [2.18370720e-03],\n",
              "       [9.98995245e-01],\n",
              "       [5.40814362e-05],\n",
              "       [5.21557570e-01],\n",
              "       [7.27243314e-04],\n",
              "       [9.99977946e-01],\n",
              "       [1.18740179e-04],\n",
              "       [4.46805730e-04],\n",
              "       [7.22987577e-04],\n",
              "       [1.42117636e-03],\n",
              "       [8.21090341e-02],\n",
              "       [2.41173312e-01],\n",
              "       [4.41526849e-04],\n",
              "       [6.73569292e-02],\n",
              "       [9.99973178e-01],\n",
              "       [5.35107672e-01],\n",
              "       [8.30813404e-03],\n",
              "       [7.89110258e-04],\n",
              "       [9.99971628e-01],\n",
              "       [9.99974728e-01],\n",
              "       [1.13943832e-04],\n",
              "       [1.67167149e-04],\n",
              "       [9.99985218e-01],\n",
              "       [7.21955419e-01],\n",
              "       [9.99933720e-01],\n",
              "       [4.06265646e-01],\n",
              "       [7.33379493e-05],\n",
              "       [5.50599689e-05],\n",
              "       [2.48687401e-01],\n",
              "       [9.99811590e-01],\n",
              "       [9.99988317e-01],\n",
              "       [1.53481305e-01],\n",
              "       [9.99991536e-01],\n",
              "       [6.55339241e-01],\n",
              "       [5.96971393e-01],\n",
              "       [4.82719243e-01],\n",
              "       [3.47157984e-05],\n",
              "       [4.69194463e-04],\n",
              "       [3.04161832e-02],\n",
              "       [5.61568797e-01],\n",
              "       [1.58717278e-02],\n",
              "       [9.99964237e-01],\n",
              "       [9.48968470e-01],\n",
              "       [3.18616219e-02],\n",
              "       [1.05087891e-01],\n",
              "       [9.99986887e-01],\n",
              "       [9.98011112e-01],\n",
              "       [2.79044616e-04],\n",
              "       [2.30264443e-04],\n",
              "       [6.90216720e-01],\n",
              "       [9.99850512e-01],\n",
              "       [3.95664567e-04],\n",
              "       [9.24837708e-01],\n",
              "       [2.64180650e-04],\n",
              "       [6.85611274e-04],\n",
              "       [4.96732886e-04],\n",
              "       [9.98013020e-01],\n",
              "       [2.25659140e-04],\n",
              "       [4.35532856e-05],\n",
              "       [9.93513167e-01],\n",
              "       [9.99991894e-01],\n",
              "       [9.99941230e-01],\n",
              "       [9.99991894e-01],\n",
              "       [3.42694693e-05],\n",
              "       [6.32882933e-04],\n",
              "       [8.46611438e-05],\n",
              "       [9.93086338e-01],\n",
              "       [9.99960184e-01],\n",
              "       [2.57489388e-03],\n",
              "       [9.99900937e-01],\n",
              "       [9.99993443e-01],\n",
              "       [1.09651918e-02]], dtype=float32)"
            ]
          },
          "metadata": {},
          "execution_count": 78
        }
      ]
    },
    {
      "cell_type": "code",
      "source": [
        "model_4_preds = tf.squeeze(tf.round(model_4_pred_probs))"
      ],
      "metadata": {
        "id": "ROZPErBazoMX"
      },
      "execution_count": 79,
      "outputs": []
    },
    {
      "cell_type": "code",
      "source": [
        "model_4_preds[:20]"
      ],
      "metadata": {
        "colab": {
          "base_uri": "https://localhost:8080/"
        },
        "id": "8buRao8yztdG",
        "outputId": "0fdf114e-d021-4be2-8812-3bc314fb626d"
      },
      "execution_count": 80,
      "outputs": [
        {
          "output_type": "execute_result",
          "data": {
            "text/plain": [
              "<tf.Tensor: shape=(20,), dtype=float32, numpy=\n",
              "array([0., 1., 1., 0., 1., 0., 0., 0., 1., 1., 0., 0., 1., 0., 0., 1., 1.,\n",
              "       0., 1., 1.], dtype=float32)>"
            ]
          },
          "metadata": {},
          "execution_count": 80
        }
      ]
    },
    {
      "cell_type": "code",
      "source": [
        "#calc the results of biredcational model\n",
        "model_4_results = calculate_results(val_labels, model_4_preds)"
      ],
      "metadata": {
        "id": "M-jif3FlzvJR"
      },
      "execution_count": 81,
      "outputs": []
    },
    {
      "cell_type": "code",
      "source": [
        "model_4_results"
      ],
      "metadata": {
        "id": "TW7nA3VHz1eu",
        "outputId": "7e7f9de9-4e55-43f4-a957-79d239062164",
        "colab": {
          "base_uri": "https://localhost:8080/"
        }
      },
      "execution_count": 82,
      "outputs": [
        {
          "output_type": "execute_result",
          "data": {
            "text/plain": [
              "{'accuracy': 74.1469816272966,\n",
              " 'f1': 0.7425295159659813,\n",
              " 'precision': 0.7454480879390357,\n",
              " 'recall': 0.7414698162729659}"
            ]
          },
          "metadata": {},
          "execution_count": 82
        }
      ]
    },
    {
      "cell_type": "markdown",
      "source": [
        "#Convolution Neural Networks for Text (and other sequences)"
      ],
      "metadata": {
        "id": "b28rxXIdz3iZ"
      }
    },
    {
      "cell_type": "markdown",
      "source": [
        "#Model 5: Conv1D NN"
      ],
      "metadata": {
        "id": "fYLSiCAD2E8T"
      }
    },
    {
      "cell_type": "code",
      "source": [
        "#Test out our embedding layer, Conv1d layer and pooling layer\n",
        "embedding_test = embedding(text_vectorizer([\"This is a test sentence\"]))\n",
        "conv_1d = layers.Conv1D(filters=32,\n",
        "                        kernel_size=5,\n",
        "                        activation=\"relu\",\n",
        "                        padding=\"valid\")\n",
        "\n",
        "conv_1d_output = conv_1d(embedding_test)\n",
        "max_pool = layers.GlobalMaxPool1D()\n",
        "max_pool_output = max_pool(conv_1d_output) # Get the most important feature\n",
        "embedding_test.shape, conv_1d_output.shape, max_pool_output.shape"
      ],
      "metadata": {
        "colab": {
          "base_uri": "https://localhost:8080/"
        },
        "id": "Iw-F2j5f2JEW",
        "outputId": "71a0a4ee-7991-4256-a011-4434bbe4166e"
      },
      "execution_count": 83,
      "outputs": [
        {
          "output_type": "execute_result",
          "data": {
            "text/plain": [
              "(TensorShape([1, 15, 128]), TensorShape([1, 11, 32]), TensorShape([1, 32]))"
            ]
          },
          "metadata": {},
          "execution_count": 83
        }
      ]
    },
    {
      "cell_type": "code",
      "source": [
        "embedding_test"
      ],
      "metadata": {
        "colab": {
          "base_uri": "https://localhost:8080/"
        },
        "id": "6u24Z09Y2Vmg",
        "outputId": "b3036b6d-69f5-4cc4-a7cd-cdfb045588c0"
      },
      "execution_count": 84,
      "outputs": [
        {
          "output_type": "execute_result",
          "data": {
            "text/plain": [
              "<tf.Tensor: shape=(1, 15, 128), dtype=float32, numpy=\n",
              "array([[[ 5.9401777e-02, -8.0554873e-02, -2.0926047e-02, ...,\n",
              "          2.5527958e-02,  7.0057027e-02, -2.0466179e-02],\n",
              "        [ 4.0905189e-02,  2.0496104e-02,  4.4687774e-02, ...,\n",
              "         -3.1735960e-02, -6.5073255e-03,  3.6059108e-02],\n",
              "        [-4.2772599e-02,  3.8686223e-02,  1.4977301e-02, ...,\n",
              "          2.6833275e-02,  4.0736418e-02,  4.7129984e-03],\n",
              "        ...,\n",
              "        [ 2.1100075e-03, -4.6237968e-02,  9.5080882e-03, ...,\n",
              "          9.0071076e-04,  6.1466548e-05,  5.4679578e-03],\n",
              "        [ 2.1100075e-03, -4.6237968e-02,  9.5080882e-03, ...,\n",
              "          9.0071076e-04,  6.1466548e-05,  5.4679578e-03],\n",
              "        [ 2.1100075e-03, -4.6237968e-02,  9.5080882e-03, ...,\n",
              "          9.0071076e-04,  6.1466548e-05,  5.4679578e-03]]], dtype=float32)>"
            ]
          },
          "metadata": {},
          "execution_count": 84
        }
      ]
    },
    {
      "cell_type": "code",
      "source": [
        "conv_1d_output"
      ],
      "metadata": {
        "colab": {
          "base_uri": "https://localhost:8080/"
        },
        "id": "OQNajT-c4V1i",
        "outputId": "636c778e-2c74-4350-95b3-2fe5d4c49f38"
      },
      "execution_count": 85,
      "outputs": [
        {
          "output_type": "execute_result",
          "data": {
            "text/plain": [
              "<tf.Tensor: shape=(1, 11, 32), dtype=float32, numpy=\n",
              "array([[[0.02046588, 0.        , 0.01510248, 0.01134766, 0.00376934,\n",
              "         0.05325548, 0.05843903, 0.00196538, 0.        , 0.        ,\n",
              "         0.07833953, 0.00752475, 0.10070987, 0.        , 0.        ,\n",
              "         0.        , 0.05888323, 0.04493806, 0.05834231, 0.        ,\n",
              "         0.        , 0.        , 0.01172077, 0.03658486, 0.08674968,\n",
              "         0.02137731, 0.08860622, 0.01987527, 0.        , 0.00761625,\n",
              "         0.        , 0.        ],\n",
              "        [0.02076238, 0.00470237, 0.        , 0.03293324, 0.        ,\n",
              "         0.07943621, 0.        , 0.02455911, 0.04292443, 0.        ,\n",
              "         0.05956221, 0.        , 0.        , 0.01409604, 0.        ,\n",
              "         0.        , 0.00942169, 0.        , 0.        , 0.        ,\n",
              "         0.        , 0.0569893 , 0.02556253, 0.        , 0.05271862,\n",
              "         0.        , 0.01508843, 0.0175335 , 0.        , 0.05182746,\n",
              "         0.        , 0.        ],\n",
              "        [0.        , 0.01775323, 0.        , 0.        , 0.        ,\n",
              "         0.        , 0.        , 0.        , 0.09444112, 0.01621869,\n",
              "         0.03150392, 0.03969269, 0.        , 0.06656086, 0.        ,\n",
              "         0.00849971, 0.00956652, 0.        , 0.        , 0.        ,\n",
              "         0.01029116, 0.06805236, 0.        , 0.        , 0.        ,\n",
              "         0.        , 0.        , 0.        , 0.        , 0.02218003,\n",
              "         0.03389873, 0.        ],\n",
              "        [0.        , 0.11840934, 0.        , 0.02669831, 0.        ,\n",
              "         0.        , 0.00294647, 0.        , 0.008051  , 0.        ,\n",
              "         0.        , 0.        , 0.        , 0.0949917 , 0.02950467,\n",
              "         0.        , 0.        , 0.        , 0.        , 0.        ,\n",
              "         0.        , 0.01521161, 0.        , 0.03805972, 0.        ,\n",
              "         0.        , 0.        , 0.01096767, 0.        , 0.        ,\n",
              "         0.        , 0.        ],\n",
              "        [0.        , 0.00527281, 0.00713226, 0.0227874 , 0.        ,\n",
              "         0.        , 0.00965928, 0.        , 0.        , 0.01513903,\n",
              "         0.0084348 , 0.00260751, 0.        , 0.08993991, 0.        ,\n",
              "         0.03163496, 0.        , 0.        , 0.        , 0.        ,\n",
              "         0.        , 0.        , 0.05408438, 0.01402726, 0.        ,\n",
              "         0.        , 0.        , 0.009616  , 0.        , 0.        ,\n",
              "         0.        , 0.        ],\n",
              "        [0.00834435, 0.        , 0.01971007, 0.        , 0.        ,\n",
              "         0.        , 0.        , 0.        , 0.        , 0.01344408,\n",
              "         0.04693801, 0.        , 0.00213572, 0.04367057, 0.00914076,\n",
              "         0.02412736, 0.        , 0.        , 0.        , 0.        ,\n",
              "         0.        , 0.        , 0.02284388, 0.01417777, 0.        ,\n",
              "         0.        , 0.        , 0.01045249, 0.        , 0.        ,\n",
              "         0.        , 0.02590689],\n",
              "        [0.00834435, 0.        , 0.01971008, 0.        , 0.        ,\n",
              "         0.        , 0.        , 0.        , 0.        , 0.01344408,\n",
              "         0.04693801, 0.        , 0.00213573, 0.04367056, 0.00914077,\n",
              "         0.02412737, 0.        , 0.        , 0.        , 0.        ,\n",
              "         0.        , 0.        , 0.02284387, 0.01417777, 0.        ,\n",
              "         0.        , 0.        , 0.01045248, 0.        , 0.        ,\n",
              "         0.        , 0.02590691],\n",
              "        [0.00834436, 0.        , 0.01971008, 0.        , 0.        ,\n",
              "         0.        , 0.        , 0.        , 0.        , 0.01344408,\n",
              "         0.04693801, 0.        , 0.00213573, 0.04367056, 0.00914077,\n",
              "         0.02412737, 0.        , 0.        , 0.        , 0.        ,\n",
              "         0.        , 0.        , 0.02284388, 0.01417777, 0.        ,\n",
              "         0.        , 0.        , 0.01045248, 0.        , 0.        ,\n",
              "         0.        , 0.0259069 ],\n",
              "        [0.00834436, 0.        , 0.01971007, 0.        , 0.        ,\n",
              "         0.        , 0.        , 0.        , 0.        , 0.01344408,\n",
              "         0.04693801, 0.        , 0.00213573, 0.04367056, 0.00914077,\n",
              "         0.02412737, 0.        , 0.        , 0.        , 0.        ,\n",
              "         0.        , 0.        , 0.02284387, 0.01417777, 0.        ,\n",
              "         0.        , 0.        , 0.01045248, 0.        , 0.        ,\n",
              "         0.        , 0.02590691],\n",
              "        [0.00834435, 0.        , 0.01971007, 0.        , 0.        ,\n",
              "         0.        , 0.        , 0.        , 0.        , 0.01344407,\n",
              "         0.04693801, 0.        , 0.00213572, 0.04367056, 0.00914076,\n",
              "         0.02412736, 0.        , 0.        , 0.        , 0.        ,\n",
              "         0.        , 0.        , 0.02284388, 0.01417776, 0.        ,\n",
              "         0.        , 0.        , 0.01045249, 0.        , 0.        ,\n",
              "         0.        , 0.0259069 ],\n",
              "        [0.00834434, 0.        , 0.01971007, 0.        , 0.        ,\n",
              "         0.        , 0.        , 0.        , 0.        , 0.01344408,\n",
              "         0.04693801, 0.        , 0.00213572, 0.04367056, 0.00914076,\n",
              "         0.02412736, 0.        , 0.        , 0.        , 0.        ,\n",
              "         0.        , 0.        , 0.02284387, 0.01417777, 0.        ,\n",
              "         0.        , 0.        , 0.01045248, 0.        , 0.        ,\n",
              "         0.        , 0.02590691]]], dtype=float32)>"
            ]
          },
          "metadata": {},
          "execution_count": 85
        }
      ]
    },
    {
      "cell_type": "code",
      "source": [
        "max_pool_output"
      ],
      "metadata": {
        "colab": {
          "base_uri": "https://localhost:8080/"
        },
        "id": "7OpPBHkm4XbX",
        "outputId": "58edf587-b508-4d8e-9b3a-486889384428"
      },
      "execution_count": 86,
      "outputs": [
        {
          "output_type": "execute_result",
          "data": {
            "text/plain": [
              "<tf.Tensor: shape=(1, 32), dtype=float32, numpy=\n",
              "array([[0.02076238, 0.11840934, 0.01971008, 0.03293324, 0.00376934,\n",
              "        0.07943621, 0.05843903, 0.02455911, 0.09444112, 0.01621869,\n",
              "        0.07833953, 0.03969269, 0.10070987, 0.0949917 , 0.02950467,\n",
              "        0.03163496, 0.05888323, 0.04493806, 0.05834231, 0.        ,\n",
              "        0.01029116, 0.06805236, 0.05408438, 0.03805972, 0.08674968,\n",
              "        0.02137731, 0.08860622, 0.01987527, 0.        , 0.05182746,\n",
              "        0.03389873, 0.02590691]], dtype=float32)>"
            ]
          },
          "metadata": {},
          "execution_count": 86
        }
      ]
    },
    {
      "cell_type": "code",
      "source": [
        "#Model 5: 1-dimensional convolutional layer to model sequences\n",
        "from tensorflow.keras import layers\n",
        "inputs = layers.Input(shape=(1,), dtype=tf.string)\n",
        "x = text_vectorizer(inputs)\n",
        "x = embedding(x)\n",
        "x = layers.Conv1D(filters=64, kernel_size=5, activation=\"relu\", padding=\"valid\")(x)\n",
        "x = layers.GlobalMaxPool1D()(x)\n",
        "\n",
        "\n",
        "outputs = layers.Dense(1, activation=\"sigmoid\")(x)\n",
        "model_5 = tf.keras.Model(inputs, outputs, name=\"model_5\")"
      ],
      "metadata": {
        "id": "_KPZVOzd4Ygh"
      },
      "execution_count": 87,
      "outputs": []
    },
    {
      "cell_type": "code",
      "source": [
        "model_5.compile(loss=\"binary_crossentropy\",\n",
        "               optimizer=tf.keras.optimizers.Adam(),\n",
        "                metrics=[\"accuracy\"])"
      ],
      "metadata": {
        "id": "2GSGbTTl5MLG"
      },
      "execution_count": 88,
      "outputs": []
    },
    {
      "cell_type": "code",
      "source": [
        "model_5.summary()"
      ],
      "metadata": {
        "colab": {
          "base_uri": "https://localhost:8080/"
        },
        "id": "w2k2OJiP5ZCd",
        "outputId": "cbad1b83-54d2-4802-a2aa-01d73922226c"
      },
      "execution_count": 89,
      "outputs": [
        {
          "output_type": "stream",
          "name": "stdout",
          "text": [
            "Model: \"model_5\"\n",
            "_________________________________________________________________\n",
            " Layer (type)                Output Shape              Param #   \n",
            "=================================================================\n",
            " input_5 (InputLayer)        [(None, 1)]               0         \n",
            "                                                                 \n",
            " text_vectorization_1 (TextV  (None, 15)               0         \n",
            " ectorization)                                                   \n",
            "                                                                 \n",
            " embedding (Embedding)       (None, 15, 128)           1280000   \n",
            "                                                                 \n",
            " conv1d_1 (Conv1D)           (None, 11, 64)            41024     \n",
            "                                                                 \n",
            " global_max_pooling1d_1 (Glo  (None, 64)               0         \n",
            " balMaxPooling1D)                                                \n",
            "                                                                 \n",
            " dense_4 (Dense)             (None, 1)                 65        \n",
            "                                                                 \n",
            "=================================================================\n",
            "Total params: 1,321,089\n",
            "Trainable params: 1,321,089\n",
            "Non-trainable params: 0\n",
            "_________________________________________________________________\n"
          ]
        }
      ]
    },
    {
      "cell_type": "code",
      "source": [
        "model_5_history = model_5.fit(train_sentences,\n",
        "                              train_labels,\n",
        "                              epochs=5,\n",
        "                              validation_data=(val_sentences, val_labels),\n",
        "                              callbacks=[create_tensorboard_callback(SAVE_DIR,\n",
        "                                                                     \"Conv1D\")])"
      ],
      "metadata": {
        "colab": {
          "base_uri": "https://localhost:8080/"
        },
        "id": "cdnDuksE5hTM",
        "outputId": "0a9b5a87-9733-4ade-8562-75ff2ce28432"
      },
      "execution_count": 90,
      "outputs": [
        {
          "output_type": "stream",
          "name": "stdout",
          "text": [
            "Saving TensorBoard log files to: model_logs/Conv1D/20220730-175526\n",
            "Epoch 1/5\n",
            "215/215 [==============================] - 3s 6ms/step - loss: 0.1242 - accuracy: 0.9584 - val_loss: 0.9360 - val_accuracy: 0.7546\n",
            "Epoch 2/5\n",
            "215/215 [==============================] - 1s 5ms/step - loss: 0.0758 - accuracy: 0.9708 - val_loss: 1.0815 - val_accuracy: 0.7454\n",
            "Epoch 3/5\n",
            "215/215 [==============================] - 1s 5ms/step - loss: 0.0630 - accuracy: 0.9731 - val_loss: 1.1616 - val_accuracy: 0.7493\n",
            "Epoch 4/5\n",
            "215/215 [==============================] - 1s 5ms/step - loss: 0.0564 - accuracy: 0.9771 - val_loss: 1.2252 - val_accuracy: 0.7428\n",
            "Epoch 5/5\n",
            "215/215 [==============================] - 1s 5ms/step - loss: 0.0534 - accuracy: 0.9768 - val_loss: 1.2526 - val_accuracy: 0.7454\n"
          ]
        }
      ]
    },
    {
      "cell_type": "code",
      "source": [
        "model_5_pred_probs = model_5.predict(val_sentences)"
      ],
      "metadata": {
        "id": "1vxonHIq55iX"
      },
      "execution_count": 91,
      "outputs": []
    },
    {
      "cell_type": "code",
      "source": [
        "model_5_preds = tf.squeeze(tf.round(model_5_pred_probs))"
      ],
      "metadata": {
        "id": "Jq-US31r6CjL"
      },
      "execution_count": 92,
      "outputs": []
    },
    {
      "cell_type": "code",
      "source": [
        "model_5_preds"
      ],
      "metadata": {
        "colab": {
          "base_uri": "https://localhost:8080/"
        },
        "id": "cqEIYMl16HTM",
        "outputId": "fce72b64-f692-4868-817a-cee6eee9f6f5"
      },
      "execution_count": 93,
      "outputs": [
        {
          "output_type": "execute_result",
          "data": {
            "text/plain": [
              "<tf.Tensor: shape=(762,), dtype=float32, numpy=\n",
              "array([0., 1., 1., 0., 1., 0., 0., 0., 1., 1., 0., 0., 1., 0., 0., 0., 1.,\n",
              "       0., 1., 1., 0., 0., 1., 0., 0., 1., 0., 0., 1., 1., 1., 0., 0., 0.,\n",
              "       0., 1., 0., 0., 0., 0., 0., 1., 1., 1., 0., 0., 0., 1., 1., 0., 0.,\n",
              "       1., 0., 0., 1., 0., 0., 0., 0., 1., 0., 0., 1., 1., 0., 1., 0., 1.,\n",
              "       0., 0., 0., 0., 0., 0., 0., 1., 0., 1., 1., 1., 0., 0., 1., 1., 0.,\n",
              "       0., 0., 1., 0., 0., 0., 0., 0., 0., 1., 0., 0., 1., 0., 0., 0., 1.,\n",
              "       1., 0., 0., 0., 1., 0., 1., 0., 0., 1., 1., 0., 0., 1., 1., 1., 1.,\n",
              "       1., 1., 1., 1., 1., 0., 0., 1., 0., 1., 1., 0., 1., 0., 0., 1., 0.,\n",
              "       0., 1., 1., 0., 0., 1., 1., 0., 0., 1., 1., 0., 0., 0., 1., 0., 0.,\n",
              "       1., 0., 0., 0., 0., 1., 1., 1., 1., 0., 0., 0., 0., 0., 0., 0., 1.,\n",
              "       1., 0., 0., 0., 0., 0., 1., 1., 0., 1., 0., 1., 0., 1., 1., 0., 1.,\n",
              "       0., 1., 0., 0., 0., 0., 0., 0., 1., 1., 0., 0., 0., 0., 1., 0., 0.,\n",
              "       0., 1., 0., 1., 1., 0., 0., 0., 0., 0., 0., 1., 1., 0., 1., 1., 1.,\n",
              "       0., 1., 0., 0., 0., 1., 1., 0., 1., 1., 1., 0., 1., 1., 0., 0., 0.,\n",
              "       1., 0., 0., 1., 0., 0., 0., 0., 0., 0., 1., 0., 1., 1., 0., 0., 0.,\n",
              "       0., 0., 0., 1., 1., 0., 1., 0., 0., 1., 0., 1., 0., 0., 1., 0., 0.,\n",
              "       1., 0., 1., 1., 1., 1., 1., 0., 1., 1., 1., 0., 1., 1., 1., 1., 1.,\n",
              "       1., 0., 0., 0., 1., 0., 1., 1., 0., 1., 1., 1., 0., 1., 1., 1., 0.,\n",
              "       0., 1., 0., 1., 1., 0., 0., 0., 0., 0., 1., 1., 1., 0., 1., 0., 1.,\n",
              "       1., 0., 0., 1., 1., 0., 0., 1., 1., 0., 0., 0., 0., 0., 0., 0., 0.,\n",
              "       0., 1., 0., 1., 0., 0., 0., 0., 1., 1., 0., 1., 0., 0., 0., 0., 0.,\n",
              "       0., 0., 1., 1., 1., 0., 0., 1., 1., 0., 1., 0., 0., 1., 0., 1., 1.,\n",
              "       0., 0., 1., 0., 1., 1., 1., 0., 0., 0., 1., 0., 1., 1., 0., 1., 1.,\n",
              "       0., 0., 0., 0., 0., 0., 1., 0., 0., 0., 0., 0., 1., 1., 1., 0., 0.,\n",
              "       1., 0., 0., 1., 1., 0., 0., 0., 0., 1., 1., 1., 0., 0., 0., 1., 0.,\n",
              "       0., 0., 0., 0., 0., 1., 0., 0., 1., 1., 1., 1., 1., 1., 1., 0., 1.,\n",
              "       0., 0., 0., 1., 1., 0., 0., 1., 0., 1., 0., 0., 0., 0., 1., 0., 1.,\n",
              "       0., 0., 1., 0., 1., 1., 0., 1., 0., 0., 0., 1., 0., 0., 0., 0., 0.,\n",
              "       1., 0., 0., 1., 0., 0., 0., 1., 0., 1., 0., 0., 1., 0., 0., 1., 1.,\n",
              "       1., 0., 1., 1., 0., 1., 0., 1., 0., 0., 0., 1., 0., 1., 1., 1., 1.,\n",
              "       1., 0., 0., 0., 0., 1., 1., 0., 0., 0., 1., 0., 0., 0., 0., 0., 1.,\n",
              "       1., 0., 1., 0., 0., 1., 0., 0., 1., 0., 1., 1., 0., 0., 1., 0., 0.,\n",
              "       1., 0., 0., 0., 0., 0., 0., 1., 1., 1., 1., 0., 1., 1., 0., 1., 1.,\n",
              "       1., 1., 0., 0., 0., 0., 1., 0., 0., 1., 0., 1., 0., 1., 1., 0., 1.,\n",
              "       1., 0., 1., 1., 1., 1., 0., 0., 0., 0., 1., 1., 1., 0., 0., 0., 1.,\n",
              "       0., 1., 1., 0., 0., 0., 1., 1., 1., 1., 1., 0., 1., 1., 0., 1., 0.,\n",
              "       1., 0., 0., 0., 0., 0., 1., 0., 0., 0., 0., 0., 1., 0., 1., 1., 1.,\n",
              "       1., 0., 1., 0., 1., 1., 0., 0., 0., 0., 0., 1., 0., 0., 0., 0., 1.,\n",
              "       0., 0., 0., 0., 1., 0., 0., 1., 0., 0., 1., 1., 1., 0., 1., 0., 0.,\n",
              "       0., 0., 0., 0., 1., 0., 1., 1., 1., 0., 0., 0., 0., 0., 1., 1., 0.,\n",
              "       1., 0., 0., 1., 1., 0., 1., 1., 1., 1., 0., 1., 0., 1., 0., 1., 0.,\n",
              "       0., 0., 0., 0., 0., 0., 0., 1., 1., 0., 0., 1., 1., 0., 0., 1., 0.,\n",
              "       1., 0., 0., 0., 1., 1., 1., 0., 1., 0., 0., 0., 0., 0., 1., 0., 0.,\n",
              "       1., 1., 0., 0., 1., 1., 0., 0., 1., 1., 0., 0., 0., 0., 0., 0., 0.,\n",
              "       0., 1., 1., 1., 1., 0., 0., 0., 0., 1., 0., 1., 1., 0.],\n",
              "      dtype=float32)>"
            ]
          },
          "metadata": {},
          "execution_count": 93
        }
      ]
    },
    {
      "cell_type": "code",
      "source": [
        "model_5_results = calculate_results(val_labels, model_5_preds)"
      ],
      "metadata": {
        "id": "CgG01_vN6JC4"
      },
      "execution_count": 94,
      "outputs": []
    },
    {
      "cell_type": "code",
      "source": [
        "model_5_results"
      ],
      "metadata": {
        "colab": {
          "base_uri": "https://localhost:8080/"
        },
        "id": "DgCFtnn_6M3O",
        "outputId": "3f1744d0-f348-4f13-a4c7-e7d57ae8ee04"
      },
      "execution_count": 95,
      "outputs": [
        {
          "output_type": "execute_result",
          "data": {
            "text/plain": [
              "{'accuracy': 74.54068241469817,\n",
              " 'f1': 0.7453026865121976,\n",
              " 'precision': 0.7452088992828466,\n",
              " 'recall': 0.7454068241469817}"
            ]
          },
          "metadata": {},
          "execution_count": 95
        }
      ]
    },
    {
      "cell_type": "markdown",
      "source": [
        "#Universal Sentence Encoder transfer learning"
      ],
      "metadata": {
        "id": "MUuZ0Za86NwW"
      }
    },
    {
      "cell_type": "code",
      "source": [
        "#model 5\n",
        "import tensorflow_hub as hub\n",
        "embed = hub.load(\"https://tfhub.dev/google/universal-sentence-encoder/4\")\n",
        "embed_samples = embed([sample_sentence,\"When you call a USE on a sentence, it turn sit into numbers\"])\n"
      ],
      "metadata": {
        "id": "wuA36g1u6OyR"
      },
      "execution_count": 96,
      "outputs": []
    },
    {
      "cell_type": "code",
      "source": [
        "sample_sentence"
      ],
      "metadata": {
        "colab": {
          "base_uri": "https://localhost:8080/",
          "height": 35
        },
        "id": "CP2RD5oW8SeH",
        "outputId": "781b33f9-c1e8-4621-80a7-510b0c5d8188"
      },
      "execution_count": 97,
      "outputs": [
        {
          "output_type": "execute_result",
          "data": {
            "text/plain": [
              "'A tornado destroyed my house'"
            ],
            "application/vnd.google.colaboratory.intrinsic+json": {
              "type": "string"
            }
          },
          "metadata": {},
          "execution_count": 97
        }
      ]
    },
    {
      "cell_type": "code",
      "source": [
        "embed_samples[0][:50]"
      ],
      "metadata": {
        "colab": {
          "base_uri": "https://localhost:8080/"
        },
        "id": "RPDdYZK58ibB",
        "outputId": "9c344c91-075d-479e-9557-38374db8f0e7"
      },
      "execution_count": 98,
      "outputs": [
        {
          "output_type": "execute_result",
          "data": {
            "text/plain": [
              "<tf.Tensor: shape=(50,), dtype=float32, numpy=\n",
              "array([-0.01050084, -0.00229794, -0.05725909, -0.04777098,  0.04511795,\n",
              "        0.02202453,  0.02400334,  0.0667739 , -0.00083695,  0.05448426,\n",
              "        0.05745116, -0.04347977, -0.00139513,  0.01398681,  0.046919  ,\n",
              "       -0.01260869, -0.06758504, -0.02162268, -0.00623832, -0.00575831,\n",
              "        0.01941228, -0.00105522,  0.0304017 ,  0.06340312, -0.02500383,\n",
              "       -0.07751907,  0.04895177, -0.04103375,  0.00698542, -0.0394792 ,\n",
              "        0.03514631,  0.03659685, -0.05294777,  0.02191273, -0.02828331,\n",
              "       -0.01387694,  0.05540748,  0.01839826, -0.02460213, -0.03052922,\n",
              "        0.04902494, -0.0124156 , -0.01220245, -0.05936461, -0.08365225,\n",
              "       -0.01479258, -0.0334257 , -0.00039739,  0.01519083, -0.01560132],\n",
              "      dtype=float32)>"
            ]
          },
          "metadata": {},
          "execution_count": 98
        }
      ]
    },
    {
      "cell_type": "code",
      "source": [
        "embed_samples[0].shape"
      ],
      "metadata": {
        "colab": {
          "base_uri": "https://localhost:8080/"
        },
        "id": "EBz5Y-Ow8kMO",
        "outputId": "d28f6034-a691-41a9-affc-abc3e8800439"
      },
      "execution_count": 99,
      "outputs": [
        {
          "output_type": "execute_result",
          "data": {
            "text/plain": [
              "TensorShape([512])"
            ]
          },
          "metadata": {},
          "execution_count": 99
        }
      ]
    },
    {
      "cell_type": "code",
      "source": [
        "#Create keras layer using pretrained embedding layer\n",
        "sentence_encoder_layer = hub.KerasLayer(\"https://tfhub.dev/google/universal-sentence-encoder/4\",\n",
        "                                        input_shape=[],\n",
        "                                        dtype=tf.string,\n",
        "                                        trainable=False,\n",
        "                                        name=\"USE\")"
      ],
      "metadata": {
        "id": "nPPJxkZd8m_a"
      },
      "execution_count": 100,
      "outputs": []
    },
    {
      "cell_type": "code",
      "source": [
        "#model 6\n",
        "model_6 = tf.keras.Sequential([\n",
        "  sentence_encoder_layer,\n",
        "  layers.Dense(64, activation=\"sigmoid\"),\n",
        "  layers.Dense(1, activation=\"sigmoid\")\n",
        "], name='model_6')\n",
        "\n",
        "model_6.compile(loss=\"binary_crossentropy\",\n",
        "                optimizer=tf.keras.optimizers.Adam(),\n",
        "                metrics=[\"accuracy\"])\n",
        "\n",
        "model_6.summary()"
      ],
      "metadata": {
        "colab": {
          "base_uri": "https://localhost:8080/"
        },
        "id": "9GyrkGpZ9BiE",
        "outputId": "c04f0297-a8f8-4a8a-d6ff-1c310cd817ac"
      },
      "execution_count": 101,
      "outputs": [
        {
          "output_type": "stream",
          "name": "stdout",
          "text": [
            "Model: \"model_6\"\n",
            "_________________________________________________________________\n",
            " Layer (type)                Output Shape              Param #   \n",
            "=================================================================\n",
            " USE (KerasLayer)            (None, 512)               256797824 \n",
            "                                                                 \n",
            " dense_5 (Dense)             (None, 64)                32832     \n",
            "                                                                 \n",
            " dense_6 (Dense)             (None, 1)                 65        \n",
            "                                                                 \n",
            "=================================================================\n",
            "Total params: 256,830,721\n",
            "Trainable params: 32,897\n",
            "Non-trainable params: 256,797,824\n",
            "_________________________________________________________________\n"
          ]
        }
      ]
    },
    {
      "cell_type": "code",
      "source": [
        "model_6_history = model_6.fit(train_sentences,\n",
        "                              train_labels,\n",
        "                              epochs=5,\n",
        "                              validation_data=(val_sentences, val_labels),\n",
        "                              callbacks=[create_tensorboard_callback(SAVE_DIR,\n",
        "                                                                     \"Transfer_Learning_THUB\")])"
      ],
      "metadata": {
        "colab": {
          "base_uri": "https://localhost:8080/"
        },
        "id": "Ybul56iv90Ds",
        "outputId": "358e1e7b-a0fb-4554-b6c5-9a3607770191"
      },
      "execution_count": 102,
      "outputs": [
        {
          "output_type": "stream",
          "name": "stdout",
          "text": [
            "Saving TensorBoard log files to: model_logs/Transfer_Learning_THUB/20220730-175552\n",
            "Epoch 1/5\n",
            "215/215 [==============================] - 7s 16ms/step - loss: 0.5953 - accuracy: 0.7233 - val_loss: 0.4997 - val_accuracy: 0.7992\n",
            "Epoch 2/5\n",
            "215/215 [==============================] - 2s 11ms/step - loss: 0.4773 - accuracy: 0.8028 - val_loss: 0.4324 - val_accuracy: 0.8202\n",
            "Epoch 3/5\n",
            "215/215 [==============================] - 2s 11ms/step - loss: 0.4416 - accuracy: 0.8065 - val_loss: 0.4074 - val_accuracy: 0.8281\n",
            "Epoch 4/5\n",
            "215/215 [==============================] - 2s 11ms/step - loss: 0.4275 - accuracy: 0.8119 - val_loss: 0.3962 - val_accuracy: 0.8360\n",
            "Epoch 5/5\n",
            "215/215 [==============================] - 2s 11ms/step - loss: 0.4197 - accuracy: 0.8173 - val_loss: 0.3906 - val_accuracy: 0.8281\n"
          ]
        }
      ]
    },
    {
      "cell_type": "code",
      "source": [
        "model_6_pred_probs = model_6.predict(val_sentences)\n",
        "model_6_preds = tf.squeeze(tf.round(model_6_pred_probs))"
      ],
      "metadata": {
        "id": "EAhtx_cn-DA7"
      },
      "execution_count": 103,
      "outputs": []
    },
    {
      "cell_type": "code",
      "source": [
        "model_6_results = calculate_results(val_labels,\n",
        "                                    model_6_preds)"
      ],
      "metadata": {
        "id": "3lYTFiDP-OUS"
      },
      "execution_count": 104,
      "outputs": []
    },
    {
      "cell_type": "code",
      "source": [
        "model_6_results"
      ],
      "metadata": {
        "colab": {
          "base_uri": "https://localhost:8080/"
        },
        "id": "RiA0ymlS-VuM",
        "outputId": "b4555ebf-4635-49c4-96b3-5fc5759c24d5"
      },
      "execution_count": 105,
      "outputs": [
        {
          "output_type": "execute_result",
          "data": {
            "text/plain": [
              "{'accuracy': 82.80839895013123,\n",
              " 'f1': 0.8279775568573017,\n",
              " 'precision': 0.8278971804091912,\n",
              " 'recall': 0.8280839895013123}"
            ]
          },
          "metadata": {},
          "execution_count": 105
        }
      ]
    },
    {
      "cell_type": "markdown",
      "source": [
        "## Model 7: TF HUB pretraned USE with 10%"
      ],
      "metadata": {
        "id": "yjVHtELL-XDB"
      }
    },
    {
      "cell_type": "code",
      "source": [
        "#Create a subsets of 10% of the training data\n",
        "train_10_percent = train_df_shuffled[[\"text\", \"target\"]].sample(frac=0.1, random_state=42)\n",
        "train_sentences_10_percent = train_10_percent[\"text\"].to_list()\n",
        "train_labels_10_percent = train_10_percent[\"target\"].to_list()"
      ],
      "metadata": {
        "id": "4GbxB5q_X6mg"
      },
      "execution_count": 106,
      "outputs": []
    },
    {
      "cell_type": "code",
      "source": [
        "len(train_sentences_10_percent)"
      ],
      "metadata": {
        "colab": {
          "base_uri": "https://localhost:8080/"
        },
        "id": "jFUWQR84YLgj",
        "outputId": "690487cf-d00c-436a-a002-d5001cc69850"
      },
      "execution_count": 107,
      "outputs": [
        {
          "output_type": "execute_result",
          "data": {
            "text/plain": [
              "761"
            ]
          },
          "metadata": {},
          "execution_count": 107
        }
      ]
    },
    {
      "cell_type": "code",
      "source": [
        "train_sentences_10_percent[:10]"
      ],
      "metadata": {
        "colab": {
          "base_uri": "https://localhost:8080/"
        },
        "id": "vEidgIbGYO_6",
        "outputId": "4bb956cd-3bfc-4d4f-8d29-f29b01b07ddb"
      },
      "execution_count": 108,
      "outputs": [
        {
          "output_type": "execute_result",
          "data": {
            "text/plain": [
              "['DFR EP016 Monthly Meltdown - On Dnbheaven 2015.08.06 http://t.co/EjKRf8N8A8 #Drum and Bass #heavy #nasty http://t.co/SPHWE6wFI5',\n",
              " 'FedEx no longer to transport bioterror germs in wake of anthrax lab mishaps http://t.co/qZQc8WWwcN via @usatoday',\n",
              " 'Gunmen kill four in El Salvador bus attack: Suspected Salvadoran gang members killed four people and wounded s... http://t.co/CNtwB6ScZj',\n",
              " '@camilacabello97 Internally and externally screaming',\n",
              " 'Radiation emergency #preparedness starts with knowing to: get inside stay inside and stay tuned http://t.co/RFFPqBAz2F via @CDCgov',\n",
              " 'Investigators rule catastrophic structural failure resulted in 2014 Virg.. Related Articles: http://t.co/Cy1LFeNyV8',\n",
              " 'How the West was burned: Thousands of wildfires ablaze in #California alone http://t.co/iCSjGZ9tE1 #climate #energy http://t.co/9FxmN0l0Bd',\n",
              " \"Map: Typhoon Soudelor's predicted path as it approaches Taiwan; expected to make landfall over southern China by S\\x89Û_ http://t.co/JDVSGVhlIs\",\n",
              " '\\x89Ûª93 blasts accused Yeda Yakub dies in Karachi of heart attack http://t.co/mfKqyxd8XG #Mumbai',\n",
              " 'My ears are bleeding  https://t.co/k5KnNwugwT']"
            ]
          },
          "metadata": {},
          "execution_count": 108
        }
      ]
    },
    {
      "cell_type": "code",
      "source": [
        "train_10_percent[\"target\"].value_counts()"
      ],
      "metadata": {
        "colab": {
          "base_uri": "https://localhost:8080/"
        },
        "id": "0K6RAXjDYP7I",
        "outputId": "91ba805e-8d23-4469-a8b6-80115b9a0924"
      },
      "execution_count": 109,
      "outputs": [
        {
          "output_type": "execute_result",
          "data": {
            "text/plain": [
              "0    413\n",
              "1    348\n",
              "Name: target, dtype: int64"
            ]
          },
          "metadata": {},
          "execution_count": 109
        }
      ]
    },
    {
      "cell_type": "code",
      "source": [
        "train_df_shuffled[\"target\"].value_counts()"
      ],
      "metadata": {
        "colab": {
          "base_uri": "https://localhost:8080/"
        },
        "id": "7TAxvKsAYfTw",
        "outputId": "c737756e-4c6f-41b3-8e9e-1059024ce7f5"
      },
      "execution_count": 110,
      "outputs": [
        {
          "output_type": "execute_result",
          "data": {
            "text/plain": [
              "0    4342\n",
              "1    3271\n",
              "Name: target, dtype: int64"
            ]
          },
          "metadata": {},
          "execution_count": 110
        }
      ]
    },
    {
      "cell_type": "code",
      "source": [
        "model_7_history = model_6.fit(train_sentences_10_percent,\n",
        "                              train_labels_10_percent,\n",
        "                              epochs=5,\n",
        "                              validation_data=(val_sentences, val_labels),\n",
        "                              callbacks=[create_tensorboard_callback(SAVE_DIR,\n",
        "                                                                     \"Transfer_Learning_THUB_10_percent\")])"
      ],
      "metadata": {
        "colab": {
          "base_uri": "https://localhost:8080/"
        },
        "id": "oRyox5IxYi4H",
        "outputId": "91fbb94b-c242-41e7-f544-74249fcf0b04"
      },
      "execution_count": 111,
      "outputs": [
        {
          "output_type": "stream",
          "name": "stdout",
          "text": [
            "Saving TensorBoard log files to: model_logs/Transfer_Learning_THUB_10_percent/20220730-175610\n",
            "Epoch 1/5\n",
            "24/24 [==============================] - 1s 27ms/step - loss: 0.4305 - accuracy: 0.8160 - val_loss: 0.3906 - val_accuracy: 0.8294\n",
            "Epoch 2/5\n",
            "24/24 [==============================] - 0s 20ms/step - loss: 0.4263 - accuracy: 0.8160 - val_loss: 0.3902 - val_accuracy: 0.8281\n",
            "Epoch 3/5\n",
            "24/24 [==============================] - 0s 21ms/step - loss: 0.4207 - accuracy: 0.8173 - val_loss: 0.3913 - val_accuracy: 0.8307\n",
            "Epoch 4/5\n",
            "24/24 [==============================] - 1s 24ms/step - loss: 0.4155 - accuracy: 0.8213 - val_loss: 0.3904 - val_accuracy: 0.8346\n",
            "Epoch 5/5\n",
            "24/24 [==============================] - 1s 24ms/step - loss: 0.4096 - accuracy: 0.8226 - val_loss: 0.3902 - val_accuracy: 0.8360\n"
          ]
        }
      ]
    },
    {
      "cell_type": "code",
      "source": [
        "model_7 = tf.keras.models.clone_model(model_6)\n",
        "model_7.summary()"
      ],
      "metadata": {
        "colab": {
          "base_uri": "https://localhost:8080/"
        },
        "id": "x0W0_lSbY2hK",
        "outputId": "4ea7e8d2-2ffa-42f8-e8d4-9dd064aef71a"
      },
      "execution_count": 112,
      "outputs": [
        {
          "output_type": "stream",
          "name": "stdout",
          "text": [
            "Model: \"model_6\"\n",
            "_________________________________________________________________\n",
            " Layer (type)                Output Shape              Param #   \n",
            "=================================================================\n",
            " USE (KerasLayer)            (None, 512)               256797824 \n",
            "                                                                 \n",
            " dense_5 (Dense)             (None, 64)                32832     \n",
            "                                                                 \n",
            " dense_6 (Dense)             (None, 1)                 65        \n",
            "                                                                 \n",
            "=================================================================\n",
            "Total params: 256,830,721\n",
            "Trainable params: 32,897\n",
            "Non-trainable params: 256,797,824\n",
            "_________________________________________________________________\n"
          ]
        }
      ]
    },
    {
      "cell_type": "code",
      "source": [
        "#Compile model\n",
        "model_7.compile(loss=\"binary_crossentropy\",\n",
        "                optimizer=tf.keras.optimizers.Adam(),\n",
        "                metrics=[\"accuracy\"])\n",
        "\n",
        "model_7.summary()"
      ],
      "metadata": {
        "colab": {
          "base_uri": "https://localhost:8080/"
        },
        "id": "h0YRPrjFZJx6",
        "outputId": "932efdeb-d1e3-43be-dd71-591a93bf2e85"
      },
      "execution_count": 113,
      "outputs": [
        {
          "output_type": "stream",
          "name": "stdout",
          "text": [
            "Model: \"model_6\"\n",
            "_________________________________________________________________\n",
            " Layer (type)                Output Shape              Param #   \n",
            "=================================================================\n",
            " USE (KerasLayer)            (None, 512)               256797824 \n",
            "                                                                 \n",
            " dense_5 (Dense)             (None, 64)                32832     \n",
            "                                                                 \n",
            " dense_6 (Dense)             (None, 1)                 65        \n",
            "                                                                 \n",
            "=================================================================\n",
            "Total params: 256,830,721\n",
            "Trainable params: 32,897\n",
            "Non-trainable params: 256,797,824\n",
            "_________________________________________________________________\n"
          ]
        }
      ]
    },
    {
      "cell_type": "code",
      "source": [
        "model_7_history = model_7.fit(train_sentences_10_percent,\n",
        "                              train_labels_10_percent,\n",
        "                              epochs=5,\n",
        "                              validation_data=(val_sentences, val_labels),\n",
        "                              callbacks=[create_tensorboard_callback(SAVE_DIR,\n",
        "                                                                     \"Transfer_Learning_THUB_10_percent\")])"
      ],
      "metadata": {
        "colab": {
          "base_uri": "https://localhost:8080/"
        },
        "id": "xt75AtijZW3j",
        "outputId": "47d6cf61-b399-4472-ea97-ddda8875fd6d"
      },
      "execution_count": 114,
      "outputs": [
        {
          "output_type": "stream",
          "name": "stdout",
          "text": [
            "Saving TensorBoard log files to: model_logs/Transfer_Learning_THUB_10_percent/20220730-175617\n",
            "Epoch 1/5\n",
            "24/24 [==============================] - 3s 53ms/step - loss: 0.6803 - accuracy: 0.5545 - val_loss: 0.6601 - val_accuracy: 0.6457\n",
            "Epoch 2/5\n",
            "24/24 [==============================] - 1s 21ms/step - loss: 0.6492 - accuracy: 0.6689 - val_loss: 0.6345 - val_accuracy: 0.7651\n",
            "Epoch 3/5\n",
            "24/24 [==============================] - 1s 24ms/step - loss: 0.6246 - accuracy: 0.7385 - val_loss: 0.6120 - val_accuracy: 0.7835\n",
            "Epoch 4/5\n",
            "24/24 [==============================] - 0s 20ms/step - loss: 0.5993 - accuracy: 0.8068 - val_loss: 0.5903 - val_accuracy: 0.7953\n",
            "Epoch 5/5\n",
            "24/24 [==============================] - 0s 20ms/step - loss: 0.5766 - accuracy: 0.8055 - val_loss: 0.5697 - val_accuracy: 0.7953\n"
          ]
        }
      ]
    },
    {
      "cell_type": "code",
      "source": [
        "#Make predictions on model trained on 10 percent\n",
        "model_7_pred_probs = model_7.predict(val_sentences)\n",
        "model_7_preds = tf.squeeze(tf.round(model_7_pred_probs))\n",
        "model_7_preds"
      ],
      "metadata": {
        "colab": {
          "base_uri": "https://localhost:8080/"
        },
        "id": "R1ULAop1Zqtw",
        "outputId": "c2c54f3d-fe48-4719-cddc-52dd25278d42"
      },
      "execution_count": 115,
      "outputs": [
        {
          "output_type": "execute_result",
          "data": {
            "text/plain": [
              "<tf.Tensor: shape=(762,), dtype=float32, numpy=\n",
              "array([0., 0., 1., 0., 1., 0., 0., 0., 1., 1., 0., 0., 1., 0., 0., 0., 1.,\n",
              "       0., 1., 0., 0., 0., 1., 1., 1., 1., 1., 0., 1., 1., 1., 0., 0., 1.,\n",
              "       0., 1., 0., 0., 0., 0., 0., 1., 1., 0., 0., 0., 0., 1., 0., 0., 0.,\n",
              "       1., 0., 0., 0., 0., 0., 0., 1., 0., 0., 1., 1., 1., 0., 1., 1., 1.,\n",
              "       1., 0., 1., 1., 0., 0., 1., 1., 0., 1., 1., 1., 0., 0., 0., 0., 1.,\n",
              "       0., 0., 1., 0., 0., 0., 0., 0., 0., 1., 1., 1., 1., 0., 0., 1., 0.,\n",
              "       1., 0., 0., 0., 0., 0., 0., 1., 0., 1., 0., 0., 0., 0., 1., 1., 1.,\n",
              "       0., 1., 0., 1., 1., 1., 0., 1., 0., 1., 1., 0., 1., 0., 0., 1., 0.,\n",
              "       0., 1., 1., 1., 0., 1., 1., 0., 0., 1., 0., 0., 0., 0., 1., 0., 0.,\n",
              "       0., 0., 0., 0., 0., 1., 0., 1., 1., 1., 0., 0., 0., 0., 0., 0., 0.,\n",
              "       1., 0., 0., 0., 0., 0., 1., 0., 0., 1., 0., 1., 0., 0., 1., 0., 1.,\n",
              "       0., 0., 0., 0., 1., 1., 0., 1., 1., 1., 0., 1., 0., 0., 1., 0., 0.,\n",
              "       0., 0., 0., 0., 1., 0., 0., 0., 1., 1., 0., 1., 1., 0., 1., 1., 1.,\n",
              "       0., 0., 0., 1., 0., 0., 1., 0., 0., 1., 1., 0., 0., 1., 0., 0., 0.,\n",
              "       1., 0., 0., 0., 0., 0., 0., 0., 0., 0., 1., 0., 1., 0., 0., 0., 0.,\n",
              "       0., 0., 0., 0., 1., 0., 1., 1., 0., 1., 0., 0., 0., 1., 1., 0., 0.,\n",
              "       1., 0., 1., 1., 1., 0., 0., 0., 1., 0., 1., 0., 1., 0., 0., 0., 1.,\n",
              "       1., 0., 0., 0., 1., 0., 1., 0., 0., 1., 1., 1., 0., 1., 1., 0., 0.,\n",
              "       0., 0., 0., 0., 0., 0., 0., 0., 0., 0., 1., 0., 0., 0., 1., 0., 1.,\n",
              "       1., 0., 0., 1., 1., 1., 0., 1., 1., 0., 0., 0., 0., 0., 0., 0., 0.,\n",
              "       1., 1., 0., 1., 0., 0., 0., 0., 1., 1., 0., 1., 0., 0., 0., 0., 0.,\n",
              "       0., 0., 1., 1., 0., 0., 0., 1., 1., 1., 0., 1., 0., 0., 0., 1., 1.,\n",
              "       0., 0., 0., 0., 1., 1., 1., 0., 0., 0., 1., 0., 1., 1., 0., 1., 1.,\n",
              "       0., 0., 0., 0., 0., 1., 1., 0., 0., 0., 0., 0., 0., 0., 0., 0., 0.,\n",
              "       0., 0., 0., 1., 1., 0., 0., 0., 0., 0., 1., 0., 0., 0., 0., 1., 1.,\n",
              "       0., 0., 0., 0., 0., 1., 0., 0., 0., 0., 1., 1., 0., 0., 0., 1., 0.,\n",
              "       0., 0., 0., 0., 0., 0., 0., 1., 0., 0., 0., 0., 0., 0., 1., 0., 0.,\n",
              "       0., 0., 1., 0., 1., 1., 0., 0., 0., 0., 0., 0., 0., 0., 1., 0., 0.,\n",
              "       1., 0., 0., 1., 0., 0., 0., 1., 0., 0., 0., 0., 0., 0., 0., 1., 1.,\n",
              "       0., 0., 1., 0., 0., 1., 1., 1., 0., 0., 0., 1., 0., 0., 1., 1., 0.,\n",
              "       1., 0., 0., 0., 0., 1., 1., 0., 0., 0., 1., 1., 0., 0., 0., 0., 1.,\n",
              "       0., 0., 1., 0., 0., 1., 0., 0., 1., 1., 1., 1., 1., 0., 1., 0., 0.,\n",
              "       1., 0., 0., 1., 0., 0., 0., 1., 1., 1., 0., 1., 1., 1., 0., 1., 1.,\n",
              "       0., 0., 0., 0., 0., 0., 1., 0., 0., 0., 0., 1., 0., 0., 1., 0., 1.,\n",
              "       1., 0., 0., 1., 1., 0., 0., 0., 0., 0., 1., 1., 0., 0., 1., 1., 1.,\n",
              "       0., 1., 1., 0., 0., 0., 1., 1., 1., 0., 0., 0., 1., 1., 0., 1., 0.,\n",
              "       0., 0., 0., 0., 0., 0., 1., 0., 0., 0., 1., 0., 1., 0., 0., 1., 1.,\n",
              "       0., 0., 1., 0., 0., 0., 0., 0., 0., 0., 1., 1., 0., 1., 0., 1., 1.,\n",
              "       0., 1., 0., 0., 0., 1., 0., 1., 0., 0., 0., 1., 1., 1., 1., 0., 0.,\n",
              "       0., 0., 1., 0., 0., 0., 1., 1., 1., 0., 0., 0., 0., 0., 1., 1., 0.,\n",
              "       1., 0., 0., 0., 0., 0., 1., 0., 1., 1., 1., 0., 0., 0., 0., 1., 1.,\n",
              "       0., 0., 0., 0., 0., 0., 0., 1., 0., 0., 1., 1., 0., 0., 0., 1., 1.,\n",
              "       0., 0., 0., 0., 0., 1., 1., 0., 1., 1., 0., 0., 0., 0., 0., 0., 0.,\n",
              "       0., 1., 0., 0., 0., 1., 0., 0., 0., 1., 0., 0., 0., 0., 0., 0., 0.,\n",
              "       0., 0., 1., 1., 1., 0., 0., 0., 1., 1., 0., 1., 1., 0.],\n",
              "      dtype=float32)>"
            ]
          },
          "metadata": {},
          "execution_count": 115
        }
      ]
    },
    {
      "cell_type": "code",
      "source": [
        "model_7_results = calculate_results(val_labels, model_7_preds)"
      ],
      "metadata": {
        "id": "X1Lf-yCaZ_ZK"
      },
      "execution_count": 116,
      "outputs": []
    },
    {
      "cell_type": "code",
      "source": [
        "model_7_results"
      ],
      "metadata": {
        "colab": {
          "base_uri": "https://localhost:8080/"
        },
        "id": "koyOsfl1aETS",
        "outputId": "44989d0f-791e-49fc-e24f-66c4d17f718d"
      },
      "execution_count": 117,
      "outputs": [
        {
          "output_type": "execute_result",
          "data": {
            "text/plain": [
              "{'accuracy': 79.52755905511812,\n",
              " 'f1': 0.7922439946673488,\n",
              " 'precision': 0.7964327373252089,\n",
              " 'recall': 0.7952755905511811}"
            ]
          },
          "metadata": {},
          "execution_count": 117
        }
      ]
    },
    {
      "cell_type": "code",
      "source": [
        "#Making better dataset split with no leakage\n",
        "train_10_percent_split = int(0.1 * len(train_sentences))\n",
        "train_10_percent_split"
      ],
      "metadata": {
        "colab": {
          "base_uri": "https://localhost:8080/"
        },
        "id": "0QInV_r0aG92",
        "outputId": "a4f0a50c-c173-4ae4-f891-14da245c0368"
      },
      "execution_count": 118,
      "outputs": [
        {
          "output_type": "execute_result",
          "data": {
            "text/plain": [
              "685"
            ]
          },
          "metadata": {},
          "execution_count": 118
        }
      ]
    },
    {
      "cell_type": "code",
      "source": [
        "train_10_percent = train_sentences[:train_10_percnet_split]"
      ],
      "metadata": {
        "id": "qFsCAzZlbaO3",
        "colab": {
          "base_uri": "https://localhost:8080/",
          "height": 169
        },
        "outputId": "f6935cb1-7ef9-472b-f838-2cdb835e7618"
      },
      "execution_count": 119,
      "outputs": [
        {
          "output_type": "error",
          "ename": "NameError",
          "evalue": "ignored",
          "traceback": [
            "\u001b[0;31m---------------------------------------------------------------------------\u001b[0m",
            "\u001b[0;31mNameError\u001b[0m                                 Traceback (most recent call last)",
            "\u001b[0;32m<ipython-input-119-c5d1741fd273>\u001b[0m in \u001b[0;36m<module>\u001b[0;34m()\u001b[0m\n\u001b[0;32m----> 1\u001b[0;31m \u001b[0mtrain_10_percent\u001b[0m \u001b[0;34m=\u001b[0m \u001b[0mtrain_sentences\u001b[0m\u001b[0;34m[\u001b[0m\u001b[0;34m:\u001b[0m\u001b[0mtrain_10_percnet_split\u001b[0m\u001b[0;34m]\u001b[0m\u001b[0;34m\u001b[0m\u001b[0;34m\u001b[0m\u001b[0m\n\u001b[0m",
            "\u001b[0;31mNameError\u001b[0m: name 'train_10_percnet_split' is not defined"
          ]
        }
      ]
    },
    {
      "cell_type": "code",
      "source": [
        "train_10_percent"
      ],
      "metadata": {
        "id": "0XWwCUt3bgg9"
      },
      "execution_count": null,
      "outputs": []
    },
    {
      "cell_type": "code",
      "source": [
        "train_labels_10_percent = train_labels[:train_10_percent_split]"
      ],
      "metadata": {
        "id": "VUyUxj1AbkI6"
      },
      "execution_count": 120,
      "outputs": []
    },
    {
      "cell_type": "code",
      "source": [
        "len(train_labels_10_percent)"
      ],
      "metadata": {
        "id": "9xBhwhTxbqEW"
      },
      "execution_count": null,
      "outputs": []
    },
    {
      "cell_type": "code",
      "source": [
        "train_labels_10_percent"
      ],
      "metadata": {
        "colab": {
          "base_uri": "https://localhost:8080/"
        },
        "id": "CVsjHiHcbtjZ",
        "outputId": "595faf6f-7461-41b7-e7db-05e0f03b3f3c"
      },
      "execution_count": 122,
      "outputs": [
        {
          "output_type": "execute_result",
          "data": {
            "text/plain": [
              "array([1, 1, 1, 1, 1, 0, 0, 1, 0, 0, 0, 1, 1, 0, 0, 1, 0, 0, 1, 0, 1, 0,\n",
              "       0, 0, 0, 0, 1, 1, 0, 1, 1, 0, 0, 1, 1, 0, 1, 1, 0, 0, 0, 0, 1, 0,\n",
              "       1, 1, 0, 0, 1, 0, 1, 0, 1, 1, 1, 1, 1, 1, 0, 0, 0, 1, 0, 0, 1, 1,\n",
              "       0, 0, 1, 0, 1, 1, 1, 0, 0, 0, 0, 1, 1, 0, 0, 0, 1, 0, 1, 1, 0, 1,\n",
              "       1, 1, 0, 1, 1, 0, 0, 0, 0, 1, 0, 1, 0, 1, 1, 0, 1, 1, 1, 0, 0, 0,\n",
              "       0, 0, 0, 0, 1, 1, 0, 0, 1, 0, 0, 0, 0, 0, 1, 1, 1, 1, 1, 0, 1, 0,\n",
              "       0, 0, 0, 1, 1, 1, 1, 0, 1, 1, 1, 0, 0, 0, 0, 1, 1, 1, 0, 0, 1, 1,\n",
              "       1, 1, 1, 0, 1, 0, 1, 1, 1, 1, 1, 0, 0, 0, 1, 0, 0, 0, 0, 0, 1, 0,\n",
              "       1, 1, 1, 0, 0, 1, 1, 0, 1, 0, 0, 0, 1, 0, 0, 0, 1, 0, 0, 1, 0, 0,\n",
              "       0, 0, 0, 1, 1, 0, 1, 1, 1, 1, 1, 1, 1, 0, 1, 1, 0, 0, 0, 0, 1, 1,\n",
              "       0, 1, 0, 0, 0, 0, 0, 1, 0, 1, 0, 0, 0, 1, 1, 1, 0, 1, 0, 0, 0, 1,\n",
              "       0, 0, 0, 1, 0, 0, 0, 1, 1, 0, 1, 0, 0, 0, 1, 1, 1, 1, 0, 1, 1, 0,\n",
              "       1, 0, 0, 0, 0, 1, 1, 0, 1, 0, 1, 1, 1, 1, 1, 0, 1, 1, 0, 1, 0, 0,\n",
              "       1, 1, 0, 1, 1, 0, 0, 0, 1, 1, 0, 1, 1, 0, 0, 0, 1, 1, 0, 0, 1, 0,\n",
              "       0, 0, 1, 0, 0, 0, 0, 0, 0, 0, 0, 1, 1, 0, 1, 0, 1, 0, 0, 0, 0, 1,\n",
              "       0, 1, 1, 0, 1, 0, 0, 0, 0, 0, 1, 0, 1, 0, 0, 0, 0, 1, 0, 0, 1, 1,\n",
              "       1, 1, 0, 1, 1, 0, 0, 0, 0, 0, 1, 1, 0, 1, 1, 1, 1, 1, 0, 0, 0, 1,\n",
              "       0, 0, 1, 1, 0, 0, 0, 0, 1, 1, 0, 0, 0, 1, 0, 0, 0, 1, 1, 0, 1, 0,\n",
              "       0, 1, 0, 1, 0, 0, 0, 1, 1, 0, 0, 1, 1, 0, 0, 1, 0, 0, 1, 0, 0, 0,\n",
              "       0, 0, 0, 1, 1, 0, 1, 0, 1, 0, 1, 1, 0, 1, 0, 0, 1, 1, 1, 1, 0, 1,\n",
              "       0, 0, 0, 0, 0, 1, 1, 1, 0, 0, 0, 0, 0, 0, 0, 1, 0, 0, 0, 1, 1, 1,\n",
              "       0, 0, 0, 1, 0, 1, 0, 0, 0, 0, 0, 0, 0, 1, 1, 0, 1, 0, 0, 0, 0, 0,\n",
              "       0, 1, 1, 0, 0, 0, 1, 1, 0, 1, 0, 0, 0, 0, 0, 1, 0, 0, 0, 1, 0, 1,\n",
              "       0, 1, 0, 1, 0, 0, 0, 1, 0, 1, 1, 0, 1, 0, 0, 0, 1, 1, 1, 0, 1, 0,\n",
              "       0, 0, 1, 0, 0, 0, 0, 0, 0, 1, 0, 1, 0, 0, 0, 0, 0, 0, 0, 0, 0, 1,\n",
              "       1, 0, 0, 0, 1, 0, 0, 1, 0, 0, 1, 0, 1, 1, 1, 0, 0, 1, 0, 0, 0, 0,\n",
              "       1, 0, 0, 0, 0, 0, 0, 1, 1, 0, 0, 1, 0, 1, 0, 0, 1, 0, 1, 0, 1, 1,\n",
              "       1, 0, 0, 1, 1, 1, 0, 1, 1, 1, 0, 1, 1, 1, 0, 1, 1, 0, 1, 1, 1, 0,\n",
              "       1, 0, 0, 1, 1, 0, 0, 1, 0, 0, 0, 0, 1, 1, 0, 0, 1, 1, 1, 1, 0, 1,\n",
              "       1, 1, 1, 0, 0, 1, 1, 0, 0, 0, 0, 0, 0, 1, 1, 1, 1, 1, 0, 0, 1, 1,\n",
              "       0, 0, 0, 0, 1, 1, 0, 0, 0, 1, 0, 0, 0, 0, 0, 1, 0, 1, 0, 0, 1, 0,\n",
              "       0, 1, 0])"
            ]
          },
          "metadata": {},
          "execution_count": 122
        }
      ]
    },
    {
      "cell_type": "code",
      "source": [
        "model_7_results = calculate_results(val_labels, model_7_preds)"
      ],
      "metadata": {
        "id": "qXr_cOidbwjZ"
      },
      "execution_count": 123,
      "outputs": []
    },
    {
      "cell_type": "code",
      "source": [
        "#Compile model\n",
        "model_7.compile(loss=\"binary_crossentropy\",\n",
        "                optimizer=tf.keras.optimizers.Adam(),\n",
        "                metrics=[\"accuracy\"])\n",
        "\n",
        "model_7.summary()"
      ],
      "metadata": {
        "colab": {
          "base_uri": "https://localhost:8080/"
        },
        "id": "vvNI2bUPcG7I",
        "outputId": "8b681f82-d81a-4a1e-ab28-fc32c1d3e75b"
      },
      "execution_count": 124,
      "outputs": [
        {
          "output_type": "stream",
          "name": "stdout",
          "text": [
            "Model: \"model_6\"\n",
            "_________________________________________________________________\n",
            " Layer (type)                Output Shape              Param #   \n",
            "=================================================================\n",
            " USE (KerasLayer)            (None, 512)               256797824 \n",
            "                                                                 \n",
            " dense_5 (Dense)             (None, 64)                32832     \n",
            "                                                                 \n",
            " dense_6 (Dense)             (None, 1)                 65        \n",
            "                                                                 \n",
            "=================================================================\n",
            "Total params: 256,830,721\n",
            "Trainable params: 32,897\n",
            "Non-trainable params: 256,797,824\n",
            "_________________________________________________________________\n"
          ]
        }
      ]
    },
    {
      "cell_type": "markdown",
      "source": [
        "##Comparing all of our models\n"
      ],
      "metadata": {
        "id": "PxdamjYjcagF"
      }
    },
    {
      "cell_type": "code",
      "source": [
        "#Combine model results into a DataFrame\n",
        "all_model_results = pd.DataFrame({\"model_1\": model_1_results,\n",
        "                                  \"model_2\": model_2_results,\n",
        "                                  \"model_3\": model_3_results,\n",
        "                                  \"model_4\": model_4_results,\n",
        "                                  \"model_5\": model_5_results,\n",
        "                                  \"model_6\": model_6_results,\n",
        "                                  \"model_7\": model_7_results,})\n",
        "all_model_results\n",
        "all_model_results = all_model_results.transpose()"
      ],
      "metadata": {
        "id": "OyXHs5kfciRE"
      },
      "execution_count": 125,
      "outputs": []
    },
    {
      "cell_type": "code",
      "source": [
        "# Reduce accuracy to same scale\n",
        "all_model_results[\"accuracy\"] = all_model_results[\"accuracy\"] / 100"
      ],
      "metadata": {
        "id": "0P5oTpNdcuma"
      },
      "execution_count": 126,
      "outputs": []
    },
    {
      "cell_type": "code",
      "source": [
        "#PLot and compare all of the model reuslts\n",
        "all_model_results.plot(kind=\"bar\",\n",
        "                       figsize=(10, 7)).legend(bbox_to_anchor=(1.0,1.0))"
      ],
      "metadata": {
        "colab": {
          "base_uri": "https://localhost:8080/",
          "height": 479
        },
        "id": "0ULXb_UqdTDW",
        "outputId": "a610be8e-6096-457c-9fd5-f21073b4266f"
      },
      "execution_count": 127,
      "outputs": [
        {
          "output_type": "execute_result",
          "data": {
            "text/plain": [
              "<matplotlib.legend.Legend at 0x7efb2d5d0510>"
            ]
          },
          "metadata": {},
          "execution_count": 127
        },
        {
          "output_type": "display_data",
          "data": {
            "text/plain": [
              "<Figure size 720x504 with 1 Axes>"
            ],
            "image/png": "[encoded data removed]"
          },
          "metadata": {
            "needs_background": "light"
          }
        }
      ]
    },
    {
      "cell_type": "code",
      "source": [
        "#Sort model results by f1-score\n",
        "all_model_results.sort_values(\"f1\", ascending=False)[\"f1\"].plot(kind=\"bar\", figsize=(10, 7))"
      ],
      "metadata": {
        "colab": {
          "base_uri": "https://localhost:8080/",
          "height": 479
        },
        "id": "-WuB1rO1dkEt",
        "outputId": "e8ec815f-8efa-43fb-deb3-194fdee293bc"
      },
      "execution_count": 128,
      "outputs": [
        {
          "output_type": "execute_result",
          "data": {
            "text/plain": [
              "<matplotlib.axes._subplots.AxesSubplot at 0x7efac99bef10>"
            ]
          },
          "metadata": {},
          "execution_count": 128
        },
        {
          "output_type": "display_data",
          "data": {
            "text/plain": [
              "<Figure size 720x504 with 1 Axes>"
            ],
            "image/png": "[encoded data removed]"
          },
          "metadata": {
            "needs_background": "light"
          }
        }
      ]
    },
    {
      "cell_type": "code",
      "source": [
        "# View Tensorboard logs of transfer learning modelling experiemnts\n",
        "#Upload tensorflow dev records\n",
        "!tensorboard dev upload --logdir ./model_logs/ \\\n",
        "  --name \"NLP Modelling Experiments\" \\\n",
        "  --description \"Comparing multiple types of model on Hazard Tweets dataset\" \\\n",
        "  --one_shot"
      ],
      "metadata": {
        "colab": {
          "base_uri": "https://localhost:8080/"
        },
        "id": "RJAK1qureMOM",
        "outputId": "896725dd-129a-46c0-da02-8776ffa44b62"
      },
      "execution_count": 129,
      "outputs": [
        {
          "output_type": "stream",
          "name": "stdout",
          "text": [
            "\n",
            "***** TensorBoard Uploader *****\n",
            "\n",
            "This will upload your TensorBoard logs to https://tensorboard.dev/ from\n",
            "the following directory:\n",
            "\n",
            "./model_logs/\n",
            "\n",
            "This TensorBoard will be visible to everyone. Do not upload sensitive\n",
            "data.\n",
            "\n",
            "Your use of this service is subject to Google's Terms of Service\n",
            "<https://policies.google.com/terms> and Privacy Policy\n",
            "<https://policies.google.com/privacy>, and TensorBoard.dev's Terms of Service\n",
            "<https://tensorboard.dev/policy/terms/>.\n",
            "\n",
            "This notice will not be shown again while you are logged into the uploader.\n",
            "To log out, run `tensorboard dev auth revoke`.\n",
            "\n",
            "Continue? (yes/NO) no\n"
          ]
        }
      ]
    },
    {
      "cell_type": "code",
      "source": [
        "#Saving and loading a model\n",
        "model_6.save(\"model_6.h5\")"
      ],
      "metadata": {
        "id": "_QH5XH05fAQ0"
      },
      "execution_count": 130,
      "outputs": []
    },
    {
      "cell_type": "code",
      "source": [
        "#load the model with custome hub layer (required with HDF5 format)\n",
        "loaded_model_6 = tf.keras.models.load_model(\"model_6.h5\",\n",
        "                                            custom_objects={\"KerasLayer\": hub.KerasLayer})"
      ],
      "metadata": {
        "id": "NA6CTuANSyfk"
      },
      "execution_count": 131,
      "outputs": []
    },
    {
      "cell_type": "code",
      "source": [
        "loaded_model_6.evaluate(val_sentences, val_labels)"
      ],
      "metadata": {
        "colab": {
          "base_uri": "https://localhost:8080/"
        },
        "id": "gvMhpdqnTEt5",
        "outputId": "a7d1557b-efb5-4d4a-d84f-b04d0f1ef8e4"
      },
      "execution_count": 132,
      "outputs": [
        {
          "output_type": "stream",
          "name": "stdout",
          "text": [
            "24/24 [==============================] - 1s 21ms/step - loss: 0.3902 - accuracy: 0.8360\n"
          ]
        },
        {
          "output_type": "execute_result",
          "data": {
            "text/plain": [
              "[0.3901631534099579, 0.8359580039978027]"
            ]
          },
          "metadata": {},
          "execution_count": 132
        }
      ]
    },
    {
      "cell_type": "code",
      "source": [
        "model_6.save(\"model_6_SavedModel_format\")"
      ],
      "metadata": {
        "colab": {
          "base_uri": "https://localhost:8080/"
        },
        "id": "OpAaACWMTPWx",
        "outputId": "114c05e5-acef-48b8-c6f8-d885c76f674c"
      },
      "execution_count": 133,
      "outputs": [
        {
          "output_type": "stream",
          "name": "stderr",
          "text": [
            "WARNING:absl:Function `_wrapped_model` contains input name(s) USE_input with unsupported characters which will be renamed to use_input in the SavedModel.\n"
          ]
        },
        {
          "output_type": "stream",
          "name": "stdout",
          "text": [
            "INFO:tensorflow:Assets written to: model_6_SavedModel_format/assets\n"
          ]
        },
        {
          "output_type": "stream",
          "name": "stderr",
          "text": [
            "INFO:tensorflow:Assets written to: model_6_SavedModel_format/assets\n"
          ]
        }
      ]
    },
    {
      "cell_type": "code",
      "source": [
        "loaded_model_6_SavedModel = tf.keras.models.load_model(\"model_6_SavedModel_format\")"
      ],
      "metadata": {
        "id": "WaksXSQ3Tldz"
      },
      "execution_count": 135,
      "outputs": []
    },
    {
      "cell_type": "code",
      "source": [
        "loaded_model_6_SavedModel.evaluate(val_sentences, val_labels)"
      ],
      "metadata": {
        "colab": {
          "base_uri": "https://localhost:8080/"
        },
        "id": "9PjTFmDkTqz6",
        "outputId": "2f7a7dd8-7665-407d-b1d1-dae792cb235c"
      },
      "execution_count": 136,
      "outputs": [
        {
          "output_type": "stream",
          "name": "stdout",
          "text": [
            "24/24 [==============================] - 1s 17ms/step - loss: 0.3902 - accuracy: 0.8360\n"
          ]
        },
        {
          "output_type": "execute_result",
          "data": {
            "text/plain": [
              "[0.3901631534099579, 0.8359580039978027]"
            ]
          },
          "metadata": {},
          "execution_count": 136
        }
      ]
    },
    {
      "cell_type": "markdown",
      "source": [
        "#Finding most wrong examples"
      ],
      "metadata": {
        "id": "3YpiauHrTusk"
      }
    },
    {
      "cell_type": "code",
      "source": [
        "#downloaded pretrianed moel\n",
        "!wget https://storage.googleapis.com/ztm_tf_course/08_model_6_USE_feature_extractor.zip\n",
        "!unzip 08_model_6_USE_feature_extractor.zip"
      ],
      "metadata": {
        "colab": {
          "base_uri": "https://localhost:8080/"
        },
        "id": "RCj-mwD2UmMd",
        "outputId": "10163631-d408-4d81-de00-64c4d82ee669"
      },
      "execution_count": 137,
      "outputs": [
        {
          "output_type": "stream",
          "name": "stdout",
          "text": [
            "--2022-07-30 18:16:35--  https://storage.googleapis.com/ztm_tf_course/08_model_6_USE_feature_extractor.zip\n",
            "Resolving storage.googleapis.com (storage.googleapis.com)... 172.217.2.112, 172.253.62.128, 142.251.45.16, ...\n",
            "Connecting to storage.googleapis.com (storage.googleapis.com)|172.217.2.112|:443... connected.\n",
            "HTTP request sent, awaiting response... 200 OK\n",
            "Length: 960779165 (916M) [application/zip]\n",
            "Saving to: ‘08_model_6_USE_feature_extractor.zip’\n",
            "\n",
            "08_model_6_USE_feat 100%[===================>] 916.27M  63.4MB/s    in 12s     \n",
            "\n",
            "2022-07-30 18:16:47 (76.7 MB/s) - ‘08_model_6_USE_feature_extractor.zip’ saved [960779165/960779165]\n",
            "\n",
            "Archive:  08_model_6_USE_feature_extractor.zip\n",
            "   creating: 08_model_6_USE_feature_extractor/\n",
            "   creating: 08_model_6_USE_feature_extractor/assets/\n",
            "   creating: 08_model_6_USE_feature_extractor/variables/\n",
            "  inflating: 08_model_6_USE_feature_extractor/variables/variables.data-00000-of-00001  \n",
            "  inflating: 08_model_6_USE_feature_extractor/variables/variables.index  \n",
            "  inflating: 08_model_6_USE_feature_extractor/saved_model.pb  \n"
          ]
        }
      ]
    },
    {
      "cell_type": "code",
      "source": [
        "model_6_pretrained = tf.keras.models.load_model(\"08_model_6_USE_feature_extractor\")\n",
        "model_6_pretrained.evaluate(val_sentences, val_labels)"
      ],
      "metadata": {
        "colab": {
          "base_uri": "https://localhost:8080/"
        },
        "id": "Tbf47uNrUwY6",
        "outputId": "cc72851a-8382-4990-af00-e8f5a1977a41"
      },
      "execution_count": 139,
      "outputs": [
        {
          "output_type": "stream",
          "name": "stdout",
          "text": [
            "WARNING:tensorflow:SavedModel saved prior to TF 2.5 detected when loading Keras model. Please ensure that you are saving the model with model.save() or tf.keras.models.save_model(), *NOT* tf.saved_model.save(). To confirm, there should be a file named \"keras_metadata.pb\" in the SavedModel directory.\n"
          ]
        },
        {
          "output_type": "stream",
          "name": "stderr",
          "text": [
            "WARNING:tensorflow:SavedModel saved prior to TF 2.5 detected when loading Keras model. Please ensure that you are saving the model with model.save() or tf.keras.models.save_model(), *NOT* tf.saved_model.save(). To confirm, there should be a file named \"keras_metadata.pb\" in the SavedModel directory.\n"
          ]
        },
        {
          "output_type": "stream",
          "name": "stdout",
          "text": [
            "24/24 [==============================] - 1s 11ms/step - loss: 0.3369 - accuracy: 0.8583\n"
          ]
        },
        {
          "output_type": "execute_result",
          "data": {
            "text/plain": [
              "[0.3369034230709076, 0.8582677245140076]"
            ]
          },
          "metadata": {},
          "execution_count": 139
        }
      ]
    },
    {
      "cell_type": "code",
      "source": [
        "model_6_pred_probs = model_6_pretrained.predict(val_sentences)\n",
        "model_6_pretrained_preds = tf.squeeze(tf.round(model_6_pred_probs))"
      ],
      "metadata": {
        "id": "jt6JX-_IVEbF"
      },
      "execution_count": 140,
      "outputs": []
    },
    {
      "cell_type": "code",
      "source": [
        "model_6_pretrained_preds"
      ],
      "metadata": {
        "colab": {
          "base_uri": "https://localhost:8080/"
        },
        "id": "dX9GIhGkVRFt",
        "outputId": "75790520-d092-4047-ae72-ba6bcb28c56e"
      },
      "execution_count": 141,
      "outputs": [
        {
          "output_type": "execute_result",
          "data": {
            "text/plain": [
              "<tf.Tensor: shape=(762,), dtype=float32, numpy=\n",
              "array([0., 0., 1., 0., 1., 0., 0., 1., 1., 1., 0., 0., 1., 0., 0., 0., 1.,\n",
              "       0., 1., 0., 0., 0., 1., 1., 1., 1., 1., 0., 1., 1., 1., 0., 0., 0.,\n",
              "       0., 1., 0., 1., 1., 0., 1., 1., 1., 0., 0., 0., 0., 1., 0., 0., 0.,\n",
              "       1., 0., 0., 0., 0., 0., 0., 1., 1., 0., 0., 1., 1., 0., 1., 1., 1.,\n",
              "       1., 1., 0., 1., 0., 1., 0., 1., 1., 1., 1., 1., 0., 0., 0., 0., 0.,\n",
              "       1., 0., 1., 0., 0., 0., 0., 0., 0., 1., 0., 1., 0., 0., 0., 1., 0.,\n",
              "       1., 0., 0., 0., 0., 0., 0., 0., 0., 0., 1., 0., 0., 0., 1., 1., 1.,\n",
              "       0., 1., 0., 1., 1., 0., 1., 1., 0., 1., 1., 0., 1., 0., 0., 1., 0.,\n",
              "       0., 1., 1., 1., 0., 1., 1., 0., 0., 1., 0., 0., 0., 0., 1., 0., 0.,\n",
              "       1., 0., 0., 0., 0., 1., 0., 1., 1., 1., 0., 1., 0., 0., 0., 0., 0.,\n",
              "       1., 0., 0., 0., 0., 0., 1., 1., 0., 1., 0., 1., 0., 0., 1., 0., 1.,\n",
              "       1., 0., 0., 0., 0., 1., 0., 0., 0., 1., 0., 0., 0., 0., 1., 0., 0.,\n",
              "       0., 1., 0., 0., 1., 0., 0., 0., 1., 1., 0., 1., 1., 0., 1., 1., 1.,\n",
              "       0., 1., 1., 0., 0., 0., 1., 0., 0., 1., 1., 0., 1., 1., 0., 0., 1.,\n",
              "       1., 0., 0., 0., 0., 0., 0., 0., 0., 0., 1., 0., 1., 0., 0., 0., 0.,\n",
              "       0., 0., 0., 0., 1., 0., 1., 1., 0., 1., 0., 0., 0., 0., 1., 0., 0.,\n",
              "       1., 0., 1., 1., 1., 0., 1., 0., 1., 0., 1., 1., 1., 0., 0., 1., 1.,\n",
              "       1., 0., 0., 0., 1., 0., 1., 0., 0., 1., 1., 1., 0., 1., 1., 0., 0.,\n",
              "       0., 0., 1., 1., 0., 1., 0., 0., 0., 0., 0., 0., 1., 0., 1., 0., 0.,\n",
              "       1., 0., 0., 1., 1., 1., 0., 1., 1., 0., 0., 0., 0., 0., 0., 0., 0.,\n",
              "       1., 1., 0., 1., 0., 0., 0., 0., 1., 0., 0., 1., 1., 0., 0., 0., 0.,\n",
              "       0., 0., 1., 1., 0., 0., 0., 1., 1., 1., 0., 1., 1., 0., 0., 1., 1.,\n",
              "       0., 0., 0., 0., 1., 1., 1., 0., 0., 0., 1., 0., 1., 1., 0., 1., 1.,\n",
              "       0., 0., 0., 0., 0., 0., 1., 1., 0., 0., 0., 0., 0., 1., 0., 0., 0.,\n",
              "       0., 0., 0., 1., 1., 0., 0., 0., 0., 0., 1., 0., 0., 0., 0., 1., 1.,\n",
              "       0., 0., 0., 0., 0., 1., 0., 0., 0., 1., 1., 1., 0., 0., 0., 0., 0.,\n",
              "       0., 0., 0., 0., 0., 0., 0., 1., 1., 0., 0., 0., 0., 0., 1., 0., 1.,\n",
              "       1., 0., 1., 0., 1., 1., 0., 0., 0., 0., 0., 0., 0., 0., 0., 0., 0.,\n",
              "       1., 0., 0., 1., 0., 0., 0., 0., 0., 0., 0., 0., 0., 0., 0., 1., 1.,\n",
              "       0., 0., 1., 1., 0., 1., 1., 1., 0., 0., 0., 1., 0., 0., 1., 1., 0.,\n",
              "       1., 0., 0., 0., 0., 1., 1., 0., 1., 0., 1., 0., 0., 0., 0., 0., 1.,\n",
              "       0., 0., 1., 0., 0., 1., 0., 0., 1., 1., 1., 1., 1., 0., 1., 1., 0.,\n",
              "       1., 0., 0., 0., 0., 0., 0., 1., 1., 1., 1., 1., 1., 0., 0., 1., 1.,\n",
              "       0., 1., 0., 0., 0., 0., 1., 0., 1., 1., 0., 1., 0., 0., 1., 0., 1.,\n",
              "       1., 0., 1., 1., 1., 0., 0., 0., 0., 0., 1., 1., 0., 0., 0., 1., 1.,\n",
              "       0., 1., 1., 0., 0., 1., 1., 1., 1., 0., 0., 0., 1., 1., 0., 0., 0.,\n",
              "       1., 0., 0., 0., 0., 0., 1., 0., 0., 0., 1., 0., 1., 0., 0., 1., 1.,\n",
              "       0., 0., 1., 0., 0., 0., 0., 0., 0., 0., 1., 1., 0., 1., 1., 1., 1.,\n",
              "       0., 0., 0., 0., 1., 1., 0., 1., 1., 0., 0., 1., 1., 1., 1., 0., 0.,\n",
              "       0., 0., 0., 0., 0., 0., 1., 1., 1., 1., 0., 0., 0., 1., 1., 1., 1.,\n",
              "       1., 0., 0., 0., 1., 0., 0., 0., 1., 1., 1., 1., 1., 0., 0., 1., 0.,\n",
              "       0., 0., 1., 0., 0., 0., 0., 0., 0., 1., 1., 1., 0., 0., 0., 1., 1.,\n",
              "       1., 0., 0., 0., 0., 1., 1., 0., 1., 1., 0., 0., 0., 0., 0., 0., 0.,\n",
              "       1., 1., 0., 0., 0., 0., 0., 0., 0., 1., 0., 0., 0., 0., 0., 0., 0.,\n",
              "       0., 0., 1., 1., 1., 0., 1., 0., 0., 1., 0., 1., 1., 0.],\n",
              "      dtype=float32)>"
            ]
          },
          "metadata": {},
          "execution_count": 141
        }
      ]
    },
    {
      "cell_type": "code",
      "source": [
        "#Create dataframe with validation sentecnes and best performing model prediciton labels and probs\n",
        "val_df = pd.DataFrame({\"text\": val_sentences,\n",
        "                       \"target\": val_labels,\n",
        "                       \"pred\": model_6_pretrained_preds,\n",
        "                       \"pred_prob\": tf.squeeze(model_6_pred_probs)})\n",
        "val_df"
      ],
      "metadata": {
        "colab": {
          "base_uri": "https://localhost:8080/",
          "height": 424
        },
        "id": "YHtOPLmcVSt_",
        "outputId": "25efddad-6aec-4156-ee77-0b6a14e02fec"
      },
      "execution_count": 143,
      "outputs": [
        {
          "output_type": "execute_result",
          "data": {
            "text/plain": [
              "                                                  text  target  pred  \\\n",
              "0               Blaze is my bro http://t.co/UdKeSJ01mL       0   0.0   \n",
              "1    I was taught at school in the 1970s that pirac...       1   0.0   \n",
              "2    http://t.co/FueRk0gWui Twelve feared killed in...       1   1.0   \n",
              "3    I'm a friggin wreck destiel sucks (read the vi...       0   0.0   \n",
              "4    Dr. Bengston on #wildfire management: ÛÏnumbe...       1   1.0   \n",
              "..                                                 ...     ...   ...   \n",
              "757  Usama bin Ladins family dead in airplane crash...       1   1.0   \n",
              "758  @OfficialTJonez Your 'Lost For Words' made me ...       0   0.0   \n",
              "759  This from The City of Calgary - \\n\\nCity of Ca...       1   1.0   \n",
              "760  Experts in France begin examining airplane deb...       1   1.0   \n",
              "761  I just got screamed at for asking my dad to mo...       0   0.0   \n",
              "\n",
              "     pred_prob  \n",
              "0     0.089644  \n",
              "1     0.426126  \n",
              "2     0.992623  \n",
              "3     0.026283  \n",
              "4     0.865555  \n",
              "..         ...  \n",
              "757   0.896717  \n",
              "758   0.027396  \n",
              "759   0.790174  \n",
              "760   0.949035  \n",
              "761   0.062409  \n",
              "\n",
              "[762 rows x 4 columns]"
            ],
            "text/html": [
              "\n",
              "  <div id=\"df-f9c99b86-a9f7-4ed0-8b3f-969d42854518\">\n",
              "    <div class=\"colab-df-container\">\n",
              "      <div>\n",
              "<style scoped>\n",
              "    .dataframe tbody tr th:only-of-type {\n",
              "        vertical-align: middle;\n",
              "    }\n",
              "\n",
              "    .dataframe tbody tr th {\n",
              "        vertical-align: top;\n",
              "    }\n",
              "\n",
              "    .dataframe thead th {\n",
              "        text-align: right;\n",
              "    }\n",
              "</style>\n",
              "<table border=\"1\" class=\"dataframe\">\n",
              "  <thead>\n",
              "    <tr style=\"text-align: right;\">\n",
              "      <th></th>\n",
              "      <th>text</th>\n",
              "      <th>target</th>\n",
              "      <th>pred</th>\n",
              "      <th>pred_prob</th>\n",
              "    </tr>\n",
              "  </thead>\n",
              "  <tbody>\n",
              "    <tr>\n",
              "      <th>0</th>\n",
              "      <td>Blaze is my bro http://t.co/UdKeSJ01mL</td>\n",
              "      <td>0</td>\n",
              "      <td>0.0</td>\n",
              "      <td>0.089644</td>\n",
              "    </tr>\n",
              "    <tr>\n",
              "      <th>1</th>\n",
              "      <td>I was taught at school in the 1970s that pirac...</td>\n",
              "      <td>1</td>\n",
              "      <td>0.0</td>\n",
              "      <td>0.426126</td>\n",
              "    </tr>\n",
              "    <tr>\n",
              "      <th>2</th>\n",
              "      <td>http://t.co/FueRk0gWui Twelve feared killed in...</td>\n",
              "      <td>1</td>\n",
              "      <td>1.0</td>\n",
              "      <td>0.992623</td>\n",
              "    </tr>\n",
              "    <tr>\n",
              "      <th>3</th>\n",
              "      <td>I'm a friggin wreck destiel sucks (read the vi...</td>\n",
              "      <td>0</td>\n",
              "      <td>0.0</td>\n",
              "      <td>0.026283</td>\n",
              "    </tr>\n",
              "    <tr>\n",
              "      <th>4</th>\n",
              "      <td>Dr. Bengston on #wildfire management: ÛÏnumbe...</td>\n",
              "      <td>1</td>\n",
              "      <td>1.0</td>\n",
              "      <td>0.865555</td>\n",
              "    </tr>\n",
              "    <tr>\n",
              "      <th>...</th>\n",
              "      <td>...</td>\n",
              "      <td>...</td>\n",
              "      <td>...</td>\n",
              "      <td>...</td>\n",
              "    </tr>\n",
              "    <tr>\n",
              "      <th>757</th>\n",
              "      <td>Usama bin Ladins family dead in airplane crash...</td>\n",
              "      <td>1</td>\n",
              "      <td>1.0</td>\n",
              "      <td>0.896717</td>\n",
              "    </tr>\n",
              "    <tr>\n",
              "      <th>758</th>\n",
              "      <td>@OfficialTJonez Your 'Lost For Words' made me ...</td>\n",
              "      <td>0</td>\n",
              "      <td>0.0</td>\n",
              "      <td>0.027396</td>\n",
              "    </tr>\n",
              "    <tr>\n",
              "      <th>759</th>\n",
              "      <td>This from The City of Calgary - \\n\\nCity of Ca...</td>\n",
              "      <td>1</td>\n",
              "      <td>1.0</td>\n",
              "      <td>0.790174</td>\n",
              "    </tr>\n",
              "    <tr>\n",
              "      <th>760</th>\n",
              "      <td>Experts in France begin examining airplane deb...</td>\n",
              "      <td>1</td>\n",
              "      <td>1.0</td>\n",
              "      <td>0.949035</td>\n",
              "    </tr>\n",
              "    <tr>\n",
              "      <th>761</th>\n",
              "      <td>I just got screamed at for asking my dad to mo...</td>\n",
              "      <td>0</td>\n",
              "      <td>0.0</td>\n",
              "      <td>0.062409</td>\n",
              "    </tr>\n",
              "  </tbody>\n",
              "</table>\n",
              "<p>762 rows × 4 columns</p>\n",
              "</div>\n",
              "      <button class=\"colab-df-convert\" onclick=\"convertToInteractive('df-f9c99b86-a9f7-4ed0-8b3f-969d42854518')\"\n",
              "              title=\"Convert this dataframe to an interactive table.\"\n",
              "              style=\"display:none;\">\n",
              "        \n",
              "  <svg xmlns=\"http://www.w3.org/2000/svg\" height=\"24px\"viewBox=\"0 0 24 24\"\n",
              "       width=\"24px\">\n",
              "    <path d=\"M0 0h24v24H0V0z\" fill=\"none\"/>\n",
              "    <path d=\"M18.56 5.44l.94 2.06.94-2.06 2.06-.94-2.06-.94-.94-2.06-.94 2.06-2.06.94zm-11 1L8.5 8.5l.94-2.06 2.06-.94-2.06-.94L8.5 2.5l-.94 2.06-2.06.94zm10 10l.94 2.06.94-2.06 2.06-.94-2.06-.94-.94-2.06-.94 2.06-2.06.94z\"/><path d=\"M17.41 7.96l-1.37-1.37c-.4-.4-.92-.59-1.43-.59-.52 0-1.04.2-1.43.59L10.3 9.45l-7.72 7.72c-.78.78-.78 2.05 0 2.83L4 21.41c.39.39.9.59 1.41.59.51 0 1.02-.2 1.41-.59l7.78-7.78 2.81-2.81c.8-.78.8-2.07 0-2.86zM5.41 20L4 18.59l7.72-7.72 1.47 1.35L5.41 20z\"/>\n",
              "  </svg>\n",
              "      </button>\n",
              "      \n",
              "  <style>\n",
              "    .colab-df-container {\n",
              "      display:flex;\n",
              "      flex-wrap:wrap;\n",
              "      gap: 12px;\n",
              "    }\n",
              "\n",
              "    .colab-df-convert {\n",
              "      background-color: #E8F0FE;\n",
              "      border: none;\n",
              "      border-radius: 50%;\n",
              "      cursor: pointer;\n",
              "      display: none;\n",
              "      fill: #1967D2;\n",
              "      height: 32px;\n",
              "      padding: 0 0 0 0;\n",
              "      width: 32px;\n",
              "    }\n",
              "\n",
              "    .colab-df-convert:hover {\n",
              "      background-color: #E2EBFA;\n",
              "      box-shadow: 0px 1px 2px rgba(60, 64, 67, 0.3), 0px 1px 3px 1px rgba(60, 64, 67, 0.15);\n",
              "      fill: #174EA6;\n",
              "    }\n",
              "\n",
              "    [theme=dark] .colab-df-convert {\n",
              "      background-color: #3B4455;\n",
              "      fill: #D2E3FC;\n",
              "    }\n",
              "\n",
              "    [theme=dark] .colab-df-convert:hover {\n",
              "      background-color: #434B5C;\n",
              "      box-shadow: 0px 1px 3px 1px rgba(0, 0, 0, 0.15);\n",
              "      filter: drop-shadow(0px 1px 2px rgba(0, 0, 0, 0.3));\n",
              "      fill: #FFFFFF;\n",
              "    }\n",
              "  </style>\n",
              "\n",
              "      <script>\n",
              "        const buttonEl =\n",
              "          document.querySelector('#df-f9c99b86-a9f7-4ed0-8b3f-969d42854518 button.colab-df-convert');\n",
              "        buttonEl.style.display =\n",
              "          google.colab.kernel.accessAllowed ? 'block' : 'none';\n",
              "\n",
              "        async function convertToInteractive(key) {\n",
              "          const element = document.querySelector('#df-f9c99b86-a9f7-4ed0-8b3f-969d42854518');\n",
              "          const dataTable =\n",
              "            await google.colab.kernel.invokeFunction('convertToInteractive',\n",
              "                                                     [key], {});\n",
              "          if (!dataTable) return;\n",
              "\n",
              "          const docLinkHtml = 'Like what you see? Visit the ' +\n",
              "            '<a target=\"_blank\" href=https://colab.research.google.com/notebooks/data_table.ipynb>data table notebook</a>'\n",
              "            + ' to learn more about interactive tables.';\n",
              "          element.innerHTML = '';\n",
              "          dataTable['output_type'] = 'display_data';\n",
              "          await google.colab.output.renderOutput(dataTable, element);\n",
              "          const docLink = document.createElement('div');\n",
              "          docLink.innerHTML = docLinkHtml;\n",
              "          element.appendChild(docLink);\n",
              "        }\n",
              "      </script>\n",
              "    </div>\n",
              "  </div>\n",
              "  "
            ]
          },
          "metadata": {},
          "execution_count": 143
        }
      ]
    },
    {
      "cell_type": "code",
      "source": [
        "most_wrong = val_df[val_df[\"target\"] != val_df[\"pred\"]].sort_values(\"pred_prob\", ascending=False)\n",
        "most_wrong"
      ],
      "metadata": {
        "colab": {
          "base_uri": "https://localhost:8080/",
          "height": 424
        },
        "id": "EPf1j-kEVrbm",
        "outputId": "37bbef39-373e-4220-ca3d-31bff6fa07d2"
      },
      "execution_count": 146,
      "outputs": [
        {
          "output_type": "execute_result",
          "data": {
            "text/plain": [
              "                                                  text  target  pred  \\\n",
              "556  @adorableappple No reported flooding po in the...       0   1.0   \n",
              "179  Teen Disaster Preparedness Event in Van Nuys A...       0   1.0   \n",
              "142  Two Jewish Terrorists Charged In Historic-Chur...       0   1.0   \n",
              "740  Large rain drops falling in Rock Hill off Ande...       0   1.0   \n",
              "278  One thing for sure-God has promised Israel wil...       0   1.0   \n",
              "..                                                 ...     ...   ...   \n",
              "576          Until my death I'll forever rep the Jets.       1   0.0   \n",
              "748  Love living on my own. I can blaze inside my a...       1   0.0   \n",
              "394  Rand Paul's Debate Strategy 'demolish Some oth...       1   0.0   \n",
              "738  Jack Wilshere has poor injury recordand his of...       1   0.0   \n",
              "741  Reddit Will Now QuarantineÛ_ http://t.co/pkUA...       1   0.0   \n",
              "\n",
              "     pred_prob  \n",
              "556   0.970023  \n",
              "179   0.948890  \n",
              "142   0.918810  \n",
              "740   0.901049  \n",
              "278   0.878904  \n",
              "..         ...  \n",
              "576   0.106549  \n",
              "748   0.103954  \n",
              "394   0.098877  \n",
              "738   0.097724  \n",
              "741   0.038949  \n",
              "\n",
              "[108 rows x 4 columns]"
            ],
            "text/html": [
              "\n",
              "  <div id=\"df-bcd05d3f-b0a0-419f-9227-072876917daf\">\n",
              "    <div class=\"colab-df-container\">\n",
              "      <div>\n",
              "<style scoped>\n",
              "    .dataframe tbody tr th:only-of-type {\n",
              "        vertical-align: middle;\n",
              "    }\n",
              "\n",
              "    .dataframe tbody tr th {\n",
              "        vertical-align: top;\n",
              "    }\n",
              "\n",
              "    .dataframe thead th {\n",
              "        text-align: right;\n",
              "    }\n",
              "</style>\n",
              "<table border=\"1\" class=\"dataframe\">\n",
              "  <thead>\n",
              "    <tr style=\"text-align: right;\">\n",
              "      <th></th>\n",
              "      <th>text</th>\n",
              "      <th>target</th>\n",
              "      <th>pred</th>\n",
              "      <th>pred_prob</th>\n",
              "    </tr>\n",
              "  </thead>\n",
              "  <tbody>\n",
              "    <tr>\n",
              "      <th>556</th>\n",
              "      <td>@adorableappple No reported flooding po in the...</td>\n",
              "      <td>0</td>\n",
              "      <td>1.0</td>\n",
              "      <td>0.970023</td>\n",
              "    </tr>\n",
              "    <tr>\n",
              "      <th>179</th>\n",
              "      <td>Teen Disaster Preparedness Event in Van Nuys A...</td>\n",
              "      <td>0</td>\n",
              "      <td>1.0</td>\n",
              "      <td>0.948890</td>\n",
              "    </tr>\n",
              "    <tr>\n",
              "      <th>142</th>\n",
              "      <td>Two Jewish Terrorists Charged In Historic-Chur...</td>\n",
              "      <td>0</td>\n",
              "      <td>1.0</td>\n",
              "      <td>0.918810</td>\n",
              "    </tr>\n",
              "    <tr>\n",
              "      <th>740</th>\n",
              "      <td>Large rain drops falling in Rock Hill off Ande...</td>\n",
              "      <td>0</td>\n",
              "      <td>1.0</td>\n",
              "      <td>0.901049</td>\n",
              "    </tr>\n",
              "    <tr>\n",
              "      <th>278</th>\n",
              "      <td>One thing for sure-God has promised Israel wil...</td>\n",
              "      <td>0</td>\n",
              "      <td>1.0</td>\n",
              "      <td>0.878904</td>\n",
              "    </tr>\n",
              "    <tr>\n",
              "      <th>...</th>\n",
              "      <td>...</td>\n",
              "      <td>...</td>\n",
              "      <td>...</td>\n",
              "      <td>...</td>\n",
              "    </tr>\n",
              "    <tr>\n",
              "      <th>576</th>\n",
              "      <td>Until my death I'll forever rep the Jets.</td>\n",
              "      <td>1</td>\n",
              "      <td>0.0</td>\n",
              "      <td>0.106549</td>\n",
              "    </tr>\n",
              "    <tr>\n",
              "      <th>748</th>\n",
              "      <td>Love living on my own. I can blaze inside my a...</td>\n",
              "      <td>1</td>\n",
              "      <td>0.0</td>\n",
              "      <td>0.103954</td>\n",
              "    </tr>\n",
              "    <tr>\n",
              "      <th>394</th>\n",
              "      <td>Rand Paul's Debate Strategy 'demolish Some oth...</td>\n",
              "      <td>1</td>\n",
              "      <td>0.0</td>\n",
              "      <td>0.098877</td>\n",
              "    </tr>\n",
              "    <tr>\n",
              "      <th>738</th>\n",
              "      <td>Jack Wilshere has poor injury recordand his of...</td>\n",
              "      <td>1</td>\n",
              "      <td>0.0</td>\n",
              "      <td>0.097724</td>\n",
              "    </tr>\n",
              "    <tr>\n",
              "      <th>741</th>\n",
              "      <td>Reddit Will Now QuarantineÛ_ http://t.co/pkUA...</td>\n",
              "      <td>1</td>\n",
              "      <td>0.0</td>\n",
              "      <td>0.038949</td>\n",
              "    </tr>\n",
              "  </tbody>\n",
              "</table>\n",
              "<p>108 rows × 4 columns</p>\n",
              "</div>\n",
              "      <button class=\"colab-df-convert\" onclick=\"convertToInteractive('df-bcd05d3f-b0a0-419f-9227-072876917daf')\"\n",
              "              title=\"Convert this dataframe to an interactive table.\"\n",
              "              style=\"display:none;\">\n",
              "        \n",
              "  <svg xmlns=\"http://www.w3.org/2000/svg\" height=\"24px\"viewBox=\"0 0 24 24\"\n",
              "       width=\"24px\">\n",
              "    <path d=\"M0 0h24v24H0V0z\" fill=\"none\"/>\n",
              "    <path d=\"M18.56 5.44l.94 2.06.94-2.06 2.06-.94-2.06-.94-.94-2.06-.94 2.06-2.06.94zm-11 1L8.5 8.5l.94-2.06 2.06-.94-2.06-.94L8.5 2.5l-.94 2.06-2.06.94zm10 10l.94 2.06.94-2.06 2.06-.94-2.06-.94-.94-2.06-.94 2.06-2.06.94z\"/><path d=\"M17.41 7.96l-1.37-1.37c-.4-.4-.92-.59-1.43-.59-.52 0-1.04.2-1.43.59L10.3 9.45l-7.72 7.72c-.78.78-.78 2.05 0 2.83L4 21.41c.39.39.9.59 1.41.59.51 0 1.02-.2 1.41-.59l7.78-7.78 2.81-2.81c.8-.78.8-2.07 0-2.86zM5.41 20L4 18.59l7.72-7.72 1.47 1.35L5.41 20z\"/>\n",
              "  </svg>\n",
              "      </button>\n",
              "      \n",
              "  <style>\n",
              "    .colab-df-container {\n",
              "      display:flex;\n",
              "      flex-wrap:wrap;\n",
              "      gap: 12px;\n",
              "    }\n",
              "\n",
              "    .colab-df-convert {\n",
              "      background-color: #E8F0FE;\n",
              "      border: none;\n",
              "      border-radius: 50%;\n",
              "      cursor: pointer;\n",
              "      display: none;\n",
              "      fill: #1967D2;\n",
              "      height: 32px;\n",
              "      padding: 0 0 0 0;\n",
              "      width: 32px;\n",
              "    }\n",
              "\n",
              "    .colab-df-convert:hover {\n",
              "      background-color: #E2EBFA;\n",
              "      box-shadow: 0px 1px 2px rgba(60, 64, 67, 0.3), 0px 1px 3px 1px rgba(60, 64, 67, 0.15);\n",
              "      fill: #174EA6;\n",
              "    }\n",
              "\n",
              "    [theme=dark] .colab-df-convert {\n",
              "      background-color: #3B4455;\n",
              "      fill: #D2E3FC;\n",
              "    }\n",
              "\n",
              "    [theme=dark] .colab-df-convert:hover {\n",
              "      background-color: #434B5C;\n",
              "      box-shadow: 0px 1px 3px 1px rgba(0, 0, 0, 0.15);\n",
              "      filter: drop-shadow(0px 1px 2px rgba(0, 0, 0, 0.3));\n",
              "      fill: #FFFFFF;\n",
              "    }\n",
              "  </style>\n",
              "\n",
              "      <script>\n",
              "        const buttonEl =\n",
              "          document.querySelector('#df-bcd05d3f-b0a0-419f-9227-072876917daf button.colab-df-convert');\n",
              "        buttonEl.style.display =\n",
              "          google.colab.kernel.accessAllowed ? 'block' : 'none';\n",
              "\n",
              "        async function convertToInteractive(key) {\n",
              "          const element = document.querySelector('#df-bcd05d3f-b0a0-419f-9227-072876917daf');\n",
              "          const dataTable =\n",
              "            await google.colab.kernel.invokeFunction('convertToInteractive',\n",
              "                                                     [key], {});\n",
              "          if (!dataTable) return;\n",
              "\n",
              "          const docLinkHtml = 'Like what you see? Visit the ' +\n",
              "            '<a target=\"_blank\" href=https://colab.research.google.com/notebooks/data_table.ipynb>data table notebook</a>'\n",
              "            + ' to learn more about interactive tables.';\n",
              "          element.innerHTML = '';\n",
              "          dataTable['output_type'] = 'display_data';\n",
              "          await google.colab.output.renderOutput(dataTable, element);\n",
              "          const docLink = document.createElement('div');\n",
              "          docLink.innerHTML = docLinkHtml;\n",
              "          element.appendChild(docLink);\n",
              "        }\n",
              "      </script>\n",
              "    </div>\n",
              "  </div>\n",
              "  "
            ]
          },
          "metadata": {},
          "execution_count": 146
        }
      ]
    },
    {
      "cell_type": "code",
      "source": [
        "#Check false positives (pred 1, actual: 0)\n",
        "for row in most_wrong[:10].itertuples():\n",
        "  _, text, target, pred, pred_prob = row\n",
        "  print(f\"Target: {target}, Pred: {pred}, Pred_Prob; {pred_prob}\")\n",
        "  print(f\"text: {text}\")\n",
        "  print(f\".   \")"
      ],
      "metadata": {
        "colab": {
          "base_uri": "https://localhost:8080/"
        },
        "id": "_0-cwBplWHKD",
        "outputId": "9eaae142-f072-4257-fa22-8f33a90fe33a"
      },
      "execution_count": 148,
      "outputs": [
        {
          "output_type": "stream",
          "name": "stdout",
          "text": [
            "Target: 0, Pred: 1.0, Pred_Prob; 0.9700231552124023\n",
            "text: @adorableappple No reported flooding po in the area. Ten-4. #mmda\n",
            ".   \n",
            "Target: 0, Pred: 1.0, Pred_Prob; 0.9488900303840637\n",
            "text: Teen Disaster Preparedness Event in Van Nuys August 11 @ 5:30pm http://t.co/fXUX987vZx via @VanNuysCouncil\n",
            ".   \n",
            "Target: 0, Pred: 1.0, Pred_Prob; 0.9188095331192017\n",
            "text: Two Jewish Terrorists Charged In Historic-Church Arson | The Ugly Truth http://t.co/iEksNFSbY7 http://t.co/VWCf3slkrW\n",
            ".   \n",
            "Target: 0, Pred: 1.0, Pred_Prob; 0.9010494351387024\n",
            "text: Large rain drops falling in Rock Hill off Anderson Road. #rain #scwx #drought\n",
            ".   \n",
            "Target: 0, Pred: 1.0, Pred_Prob; 0.8789042830467224\n",
            "text: One thing for sure-God has promised Israel will not be annihilated. But...the horror of Iran w/nukes. https://t.co/xn09Mx6sxy\n",
            ".   \n",
            "Target: 0, Pred: 1.0, Pred_Prob; 0.8490898013114929\n",
            "text: @StephanieMarija 'light rain' was the forecast I based my dressing on. Light. Rain. Not incessant deluge!\n",
            ".   \n",
            "Target: 0, Pred: 1.0, Pred_Prob; 0.8352574706077576\n",
            "text: This Attempted Mass Murder brought to You by the Obama Administration http://t.co/jbrK8ZsrY6\n",
            ".   \n",
            "Target: 0, Pred: 1.0, Pred_Prob; 0.8315193057060242\n",
            "text: Cyclist who collided with runner on Roanoke greenway wins $300000 civil verdict http://t.co/WgasoeNCwc via @roanoketimes\n",
            ".   \n",
            "Target: 0, Pred: 1.0, Pred_Prob; 0.803056001663208\n",
            "text: December 2011 court dismissed the group charge of rape victims saying 'getting raped was an occupational hazard..!'\n",
            "\n",
            "US military = ISIS!\n",
            ".   \n",
            "Target: 0, Pred: 1.0, Pred_Prob; 0.7962477803230286\n",
            "text: VIDEO: Slain Mexican Journalist Unknowingly Predicted His Own Death http://t.co/QxhOwCv16R via @BreitbartNews\n",
            ".   \n"
          ]
        }
      ]
    },
    {
      "cell_type": "code",
      "source": [
        "#Check false negatives (pred 1, actual: 0)\n",
        "for row in most_wrong[::-10].itertuples():\n",
        "  _, text, target, pred, pred_prob = row\n",
        "  print(f\"Target: {target}, Pred: {pred}, Pred_Prob; {pred_prob}\")\n",
        "  print(f\"text: {text}\")\n",
        "  print(f\".   \")"
      ],
      "metadata": {
        "colab": {
          "base_uri": "https://localhost:8080/"
        },
        "id": "7e0tZkKYXEJJ",
        "outputId": "bad51544-548b-4f90-bfb5-c9baab77d094"
      },
      "execution_count": 149,
      "outputs": [
        {
          "output_type": "stream",
          "name": "stdout",
          "text": [
            "Target: 1, Pred: 0.0, Pred_Prob; 0.03894943371415138\n",
            "text: Reddit Will Now QuarantineÛ_ http://t.co/pkUAMXw6pm #onlinecommunities #reddit #amageddon #freespeech #Business http://t.co/PAWvNJ4sAP\n",
            ".   \n",
            "Target: 1, Pred: 0.0, Pred_Prob; 0.14120042324066162\n",
            "text: Aquarium Ornament Wreck Sailing Boat Sunk Ship Destroyer Fish Tank Cave Decor - Full read Û_ http://t.co/nosA8JJjiN http://t.co/WUKvdavUJu\n",
            ".   \n",
            "Target: 1, Pred: 0.0, Pred_Prob; 0.22915491461753845\n",
            "text: @ameenshaikh3 sir i just only wanted to make a point about @sureshpprabhu you made and said he is lying about bridge collapse.\n",
            ".   \n",
            "Target: 1, Pred: 0.0, Pred_Prob; 0.2790153920650482\n",
            "text: @godsfirstson1 and she wrapped his coat around herself. It practically engulfed her.\n",
            ".   \n",
            "Target: 1, Pred: 0.0, Pred_Prob; 0.327956885099411\n",
            "text: I hope the only time I end up on TV is when I'm being arrested for lighting buildings on fire.\n",
            ".   \n",
            "Target: 1, Pred: 0.0, Pred_Prob; 0.37122276425361633\n",
            "text: Oops: Bounty hunters try to raid Phoenix police chief's home: http://t.co/yPRJWMigHL -- A group of armed bounty... http://t.co/3RrKRCjYW7\n",
            ".   \n",
            "Target: 1, Pred: 0.0, Pred_Prob; 0.4537872076034546\n",
            "text: Another hour! It's August 05 2015 at 08:02PM Here's Red Rover Zombie Apocalypse 2014! http://t.co/cf9e6TU3g7 #internetradio #collegeradiÛ_\n",
            ".   \n",
            "Target: 0, Pred: 1.0, Pred_Prob; 0.5138096809387207\n",
            "text: this is the first time a tweet has blown up almost half a day later... RE https://t.co/1BUF0xM53d\n",
            ".   \n",
            "Target: 0, Pred: 1.0, Pred_Prob; 0.5703545212745667\n",
            "text: China's Stock Market Crash: Are There Gems In The Rubble? http://t.co/o6oNSjHCsD #tcot #p2 #news\n",
            ".   \n",
            "Target: 0, Pred: 1.0, Pred_Prob; 0.6892165541648865\n",
            "text: On holiday to relax sunbathe and drink ... Putting out bush fires? Not so much ?? #spain https://t.co/dRno7OKM21\n",
            ".   \n",
            "Target: 0, Pred: 1.0, Pred_Prob; 0.8315193057060242\n",
            "text: Cyclist who collided with runner on Roanoke greenway wins $300000 civil verdict http://t.co/WgasoeNCwc via @roanoketimes\n",
            ".   \n"
          ]
        }
      ]
    },
    {
      "cell_type": "markdown",
      "source": [
        "#Making predictions on the test_datset\n"
      ],
      "metadata": {
        "id": "pyo6UBKKXdSi"
      }
    },
    {
      "cell_type": "code",
      "source": [
        "#making predictions and visualizing\n",
        "test_sentences = test_df[\"text\"].to_list()\n",
        "test_samples = random.sample(test_sentences, 10)\n",
        "for test_sample in test_samples:\n",
        "  pred_prob = tf.squeeze(model_6_pretrained.predict([test_sample]))\n",
        "  pred = tf.round(pred_prob)\n",
        "  print(f\"pred; {int(pred)}, prob: {pred_prob}\")\n",
        "  print(f\"Text: {test_sample}\")"
      ],
      "metadata": {
        "colab": {
          "base_uri": "https://localhost:8080/"
        },
        "id": "lY5VyVnZYFfs",
        "outputId": "f3e659dd-7998-4ee7-d876-a597359be42b"
      },
      "execution_count": 150,
      "outputs": [
        {
          "output_type": "stream",
          "name": "stdout",
          "text": [
            "pred; 0, prob: 0.090957872569561\n",
            "Text: I added some dumb ideas to beat the #summer heat cheaply\n",
            " http://t.co/jatxpAFvA9 @brokelyn #brokelynati\n",
            "pred; 1, prob: 0.8373509645462036\n",
            "Text: #maritime The sand carrier Shinto Maru and chemical tanker Hoshin Maru collided on 7 nautical miles off Honshu... http://t.co/2bnfoAGpzD\n",
            "pred; 0, prob: 0.29987403750419617\n",
            "Text: If Oikawa was in Karasuno I guess I'd just collapse from such an overwhelming happiness.\n",
            "pred; 1, prob: 0.9687044024467468\n",
            "Text: Pakistani Terrorist Was Captured By Villagers He Took Hostage - NDTV http://t.co/C5X10JAkGE\n",
            "pred; 0, prob: 0.11020726710557938\n",
            "Text: @Stretcher @Grazed @witter @Rexyy @Towel thanks aiden\n",
            "pred; 0, prob: 0.2093210518360138\n",
            "Text: 320 [IR] ICEMOON [AFTERSHOCK] | http://t.co/THyzOMVWU0 | @djicemoon | #Dubstep #TrapMusic #DnB #EDM #Dance #IcesÛ_ http://t.co/83jOO0xk29\n",
            "pred; 1, prob: 0.6758798360824585\n",
            "Text: FedEx no longer to transport bioterror germs in wake of anthrax lab mishaps http://t.co/L04Q4DKvue http://t.co/z5voujEus4\n",
            "pred; 0, prob: 0.1021018698811531\n",
            "Text: The goddess is said to be married to either Perk?nas (thunder god) or Praam_ius (manifestation of chief heavenly god Dievas).\n",
            "pred; 1, prob: 0.58786940574646\n",
            "Text: U.S National Park Services Tonto National Forest: Stop the Annihilation of the Salt River Wild Horse... https://t.co/FLcQQeZnVW via @Change\n",
            "pred; 1, prob: 0.7667568325996399\n",
            "Text: @twlldun @peterjukes It's a very good piece. And I agree the failure of post-war planning was the catastrophe.\n"
          ]
        }
      ]
    },
    {
      "cell_type": "markdown",
      "source": [
        "#Speed/Score tradeoff"
      ],
      "metadata": {
        "id": "n4GSuoCOYoQ_"
      }
    },
    {
      "cell_type": "code",
      "source": [
        "import time\n",
        "\n",
        "def pred_timer(model, samples):\n",
        "  \n",
        "  start_time = time.perf_counter()\n",
        "  model.predict(samples)\n",
        "\n",
        "  end_time = time.perf_counter()\n",
        "  total_time = end_time - start_time\n",
        "  time_per_prediction = total_time / len(samples)\n",
        "\n",
        "  return total_time, time_per_prediction\n"
      ],
      "metadata": {
        "id": "jWAnamgOZkZG"
      },
      "execution_count": 151,
      "outputs": []
    },
    {
      "cell_type": "code",
      "source": [
        "model_6_total_pred_time, model_6_time_per_pred = pred_timer(model_6_pretrained, val_sentences)"
      ],
      "metadata": {
        "id": "Tt2tVdqsZ5xt"
      },
      "execution_count": 152,
      "outputs": []
    },
    {
      "cell_type": "code",
      "source": [
        "model_6_total_pred_time"
      ],
      "metadata": {
        "colab": {
          "base_uri": "https://localhost:8080/"
        },
        "id": "n3xOn3XDaBpg",
        "outputId": "d1fe4a06-3ddb-4bd4-8039-0562320da8a0"
      },
      "execution_count": 153,
      "outputs": [
        {
          "output_type": "execute_result",
          "data": {
            "text/plain": [
              "0.527659309000228"
            ]
          },
          "metadata": {},
          "execution_count": 153
        }
      ]
    },
    {
      "cell_type": "code",
      "source": [
        "model_6_time_per_pred"
      ],
      "metadata": {
        "colab": {
          "base_uri": "https://localhost:8080/"
        },
        "id": "oLRGLu-iaDMi",
        "outputId": "7bd58dc8-577f-4a74-92f2-124e34da0b95"
      },
      "execution_count": 154,
      "outputs": [
        {
          "output_type": "execute_result",
          "data": {
            "text/plain": [
              "0.000692466284777202"
            ]
          },
          "metadata": {},
          "execution_count": 154
        }
      ]
    },
    {
      "cell_type": "code",
      "source": [
        "model_6_pretrained_results = calculate_results(val_labels, model_6_pretraind_preds)"
      ],
      "metadata": {
        "colab": {
          "base_uri": "https://localhost:8080/",
          "height": 169
        },
        "id": "EWhJbD61aFuj",
        "outputId": "09fe2152-88e3-482c-9f3e-01749b42302d"
      },
      "execution_count": 155,
      "outputs": [
        {
          "output_type": "error",
          "ename": "NameError",
          "evalue": "ignored",
          "traceback": [
            "\u001b[0;31m---------------------------------------------------------------------------\u001b[0m",
            "\u001b[0;31mNameError\u001b[0m                                 Traceback (most recent call last)",
            "\u001b[0;32m<ipython-input-155-35be6147ab92>\u001b[0m in \u001b[0;36m<module>\u001b[0;34m()\u001b[0m\n\u001b[0;32m----> 1\u001b[0;31m \u001b[0mmodel_6_pretrained_results\u001b[0m \u001b[0;34m=\u001b[0m \u001b[0mcalculate_results\u001b[0m\u001b[0;34m(\u001b[0m\u001b[0mval_labels\u001b[0m\u001b[0;34m,\u001b[0m \u001b[0mmodel_6_pretraind_preds\u001b[0m\u001b[0;34m)\u001b[0m\u001b[0;34m\u001b[0m\u001b[0;34m\u001b[0m\u001b[0m\n\u001b[0m",
            "\u001b[0;31mNameError\u001b[0m: name 'model_6_pretraind_preds' is not defined"
          ]
        }
      ]
    },
    {
      "cell_type": "code",
      "source": [
        ""
      ],
      "metadata": {
        "id": "TDJVPHQDacQ0"
      },
      "execution_count": null,
      "outputs": []
    }
  ]
}