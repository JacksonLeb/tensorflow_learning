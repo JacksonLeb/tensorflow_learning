{
  "nbformat": 4,
  "nbformat_minor": 0,
  "metadata": {
    "colab": {
      "name": "08_rnn_nlp.ipynb",
      "provenance": [],
      "authorship_tag": "ABX9TyNhsF6VOaCw9kxMVT3P1p57",
      "include_colab_link": true
    },
    "kernelspec": {
      "name": "python3",
      "display_name": "Python 3"
    },
    "language_info": {
      "name": "python"
    },
    "accelerator": "GPU",
    "gpuClass": "standard"
  },
  "cells": [
    {
      "cell_type": "markdown",
      "metadata": {
        "id": "view-in-github",
        "colab_type": "text"
      },
      "source": [
        "<a href=\"https://colab.research.google.com/github/JacksonLeb/tensorflow_learning/blob/main/08_rnn_nlp.ipynb\" target=\"_parent\"><img src=\"https://colab.research.google.com/assets/colab-badge.svg\" alt=\"Open In Colab\"/></a>"
      ]
    },
    {
      "cell_type": "markdown",
      "source": [
        "#introduction to NLP fundamentals in Tf"
      ],
      "metadata": {
        "id": "ZnD4PEygtE27"
      }
    },
    {
      "cell_type": "markdown",
      "source": [
        "##Getting info from natural language (sequences or speech)\n",
        "##NLP can also be called seq2seq problems"
      ],
      "metadata": {
        "id": "D7gQKzrXtSj_"
      }
    },
    {
      "cell_type": "markdown",
      "source": [
        "###Checking for GPU\n"
      ],
      "metadata": {
        "id": "r3iGdaTrtaso"
      }
    },
    {
      "cell_type": "code",
      "source": [
        "!nvidia-smi -L"
      ],
      "metadata": {
        "colab": {
          "base_uri": "https://localhost:8080/"
        },
        "id": "NICFwKp3ti4A",
        "outputId": "46e371af-891b-49b6-fe80-dc96293d291c"
      },
      "execution_count": 1,
      "outputs": [
        {
          "output_type": "stream",
          "name": "stdout",
          "text": [
            "GPU 0: Tesla T4 (UUID: GPU-0e0f1dd3-adec-e3fe-c3a5-6808e9744f7d)\n"
          ]
        }
      ]
    },
    {
      "cell_type": "code",
      "source": [
        "##Get helper functions\n",
        "!wget https://raw.githubusercontent.com/mrdbourke/tensorflow-deep-learning/main/extras/helper_functions.py"
      ],
      "metadata": {
        "colab": {
          "base_uri": "https://localhost:8080/"
        },
        "id": "a9pVQ8PWtk3o",
        "outputId": "b15d0242-982d-40b3-96dd-a701ac9638c2"
      },
      "execution_count": 2,
      "outputs": [
        {
          "output_type": "stream",
          "name": "stdout",
          "text": [
            "--2022-07-29 23:41:50--  https://raw.githubusercontent.com/mrdbourke/tensorflow-deep-learning/main/extras/helper_functions.py\n",
            "Resolving raw.githubusercontent.com (raw.githubusercontent.com)... 185.199.109.133, 185.199.111.133, 185.199.110.133, ...\n",
            "Connecting to raw.githubusercontent.com (raw.githubusercontent.com)|185.199.109.133|:443... connected.\n",
            "HTTP request sent, awaiting response... 200 OK\n",
            "Length: 10246 (10K) [text/plain]\n",
            "Saving to: ‘helper_functions.py’\n",
            "\n",
            "helper_functions.py 100%[===================>]  10.01K  --.-KB/s    in 0s      \n",
            "\n",
            "2022-07-29 23:41:50 (98.2 MB/s) - ‘helper_functions.py’ saved [10246/10246]\n",
            "\n"
          ]
        }
      ]
    },
    {
      "cell_type": "code",
      "source": [
        "from helper_functions import unzip_data, create_tensorboard_callback, plot_loss_curves, compare_historys"
      ],
      "metadata": {
        "id": "Sv2Mb8Ant40V"
      },
      "execution_count": 3,
      "outputs": []
    },
    {
      "cell_type": "code",
      "source": [
        "##Get a text dataset\n",
        "###Using the Kaggle Intro to NLP dataset, samples of tweets labeled hazard or not\n",
        "!wget https://storage.googleapis.com/ztm_tf_course/nlp_getting_started.zip"
      ],
      "metadata": {
        "colab": {
          "base_uri": "https://localhost:8080/"
        },
        "id": "6hpLAV1suBYh",
        "outputId": "1465b3b9-e362-4824-aa4c-f605ed07ba53"
      },
      "execution_count": 4,
      "outputs": [
        {
          "output_type": "stream",
          "name": "stdout",
          "text": [
            "--2022-07-29 23:41:55--  https://storage.googleapis.com/ztm_tf_course/nlp_getting_started.zip\n",
            "Resolving storage.googleapis.com (storage.googleapis.com)... 142.250.107.128, 173.194.202.128, 173.194.203.128, ...\n",
            "Connecting to storage.googleapis.com (storage.googleapis.com)|142.250.107.128|:443... connected.\n",
            "HTTP request sent, awaiting response... 200 OK\n",
            "Length: 607343 (593K) [application/zip]\n",
            "Saving to: ‘nlp_getting_started.zip’\n",
            "\n",
            "\rnlp_getting_started   0%[                    ]       0  --.-KB/s               \rnlp_getting_started 100%[===================>] 593.11K  --.-KB/s    in 0.04s   \n",
            "\n",
            "2022-07-29 23:41:56 (15.8 MB/s) - ‘nlp_getting_started.zip’ saved [607343/607343]\n",
            "\n"
          ]
        }
      ]
    },
    {
      "cell_type": "code",
      "source": [
        "unzip_data(\"nlp_getting_started.zip\")"
      ],
      "metadata": {
        "id": "S-YrbvJruXMQ"
      },
      "execution_count": 5,
      "outputs": []
    },
    {
      "cell_type": "markdown",
      "source": [
        "##Visualizing a text dataset"
      ],
      "metadata": {
        "id": "CGGTc845ubSI"
      }
    },
    {
      "cell_type": "code",
      "source": [
        "import pandas as pd\n",
        "train_df = pd.read_csv(\"train.csv\")\n",
        "test_df = pd.read_csv(\"test.csv\")\n",
        "train_df.head()"
      ],
      "metadata": {
        "colab": {
          "base_uri": "https://localhost:8080/",
          "height": 206
        },
        "id": "dXSyq2QkurM0",
        "outputId": "22e90dec-6581-4db2-a1c2-fce098b4de40"
      },
      "execution_count": 6,
      "outputs": [
        {
          "output_type": "execute_result",
          "data": {
            "text/plain": [
              "   id keyword location                                               text  \\\n",
              "0   1     NaN      NaN  Our Deeds are the Reason of this #earthquake M...   \n",
              "1   4     NaN      NaN             Forest fire near La Ronge Sask. Canada   \n",
              "2   5     NaN      NaN  All residents asked to 'shelter in place' are ...   \n",
              "3   6     NaN      NaN  13,000 people receive #wildfires evacuation or...   \n",
              "4   7     NaN      NaN  Just got sent this photo from Ruby #Alaska as ...   \n",
              "\n",
              "   target  \n",
              "0       1  \n",
              "1       1  \n",
              "2       1  \n",
              "3       1  \n",
              "4       1  "
            ],
            "text/html": [
              "\n",
              "  <div id=\"df-0b07e95b-5337-46e5-b804-aa8932e816c7\">\n",
              "    <div class=\"colab-df-container\">\n",
              "      <div>\n",
              "<style scoped>\n",
              "    .dataframe tbody tr th:only-of-type {\n",
              "        vertical-align: middle;\n",
              "    }\n",
              "\n",
              "    .dataframe tbody tr th {\n",
              "        vertical-align: top;\n",
              "    }\n",
              "\n",
              "    .dataframe thead th {\n",
              "        text-align: right;\n",
              "    }\n",
              "</style>\n",
              "<table border=\"1\" class=\"dataframe\">\n",
              "  <thead>\n",
              "    <tr style=\"text-align: right;\">\n",
              "      <th></th>\n",
              "      <th>id</th>\n",
              "      <th>keyword</th>\n",
              "      <th>location</th>\n",
              "      <th>text</th>\n",
              "      <th>target</th>\n",
              "    </tr>\n",
              "  </thead>\n",
              "  <tbody>\n",
              "    <tr>\n",
              "      <th>0</th>\n",
              "      <td>1</td>\n",
              "      <td>NaN</td>\n",
              "      <td>NaN</td>\n",
              "      <td>Our Deeds are the Reason of this #earthquake M...</td>\n",
              "      <td>1</td>\n",
              "    </tr>\n",
              "    <tr>\n",
              "      <th>1</th>\n",
              "      <td>4</td>\n",
              "      <td>NaN</td>\n",
              "      <td>NaN</td>\n",
              "      <td>Forest fire near La Ronge Sask. Canada</td>\n",
              "      <td>1</td>\n",
              "    </tr>\n",
              "    <tr>\n",
              "      <th>2</th>\n",
              "      <td>5</td>\n",
              "      <td>NaN</td>\n",
              "      <td>NaN</td>\n",
              "      <td>All residents asked to 'shelter in place' are ...</td>\n",
              "      <td>1</td>\n",
              "    </tr>\n",
              "    <tr>\n",
              "      <th>3</th>\n",
              "      <td>6</td>\n",
              "      <td>NaN</td>\n",
              "      <td>NaN</td>\n",
              "      <td>13,000 people receive #wildfires evacuation or...</td>\n",
              "      <td>1</td>\n",
              "    </tr>\n",
              "    <tr>\n",
              "      <th>4</th>\n",
              "      <td>7</td>\n",
              "      <td>NaN</td>\n",
              "      <td>NaN</td>\n",
              "      <td>Just got sent this photo from Ruby #Alaska as ...</td>\n",
              "      <td>1</td>\n",
              "    </tr>\n",
              "  </tbody>\n",
              "</table>\n",
              "</div>\n",
              "      <button class=\"colab-df-convert\" onclick=\"convertToInteractive('df-0b07e95b-5337-46e5-b804-aa8932e816c7')\"\n",
              "              title=\"Convert this dataframe to an interactive table.\"\n",
              "              style=\"display:none;\">\n",
              "        \n",
              "  <svg xmlns=\"http://www.w3.org/2000/svg\" height=\"24px\"viewBox=\"0 0 24 24\"\n",
              "       width=\"24px\">\n",
              "    <path d=\"M0 0h24v24H0V0z\" fill=\"none\"/>\n",
              "    <path d=\"M18.56 5.44l.94 2.06.94-2.06 2.06-.94-2.06-.94-.94-2.06-.94 2.06-2.06.94zm-11 1L8.5 8.5l.94-2.06 2.06-.94-2.06-.94L8.5 2.5l-.94 2.06-2.06.94zm10 10l.94 2.06.94-2.06 2.06-.94-2.06-.94-.94-2.06-.94 2.06-2.06.94z\"/><path d=\"M17.41 7.96l-1.37-1.37c-.4-.4-.92-.59-1.43-.59-.52 0-1.04.2-1.43.59L10.3 9.45l-7.72 7.72c-.78.78-.78 2.05 0 2.83L4 21.41c.39.39.9.59 1.41.59.51 0 1.02-.2 1.41-.59l7.78-7.78 2.81-2.81c.8-.78.8-2.07 0-2.86zM5.41 20L4 18.59l7.72-7.72 1.47 1.35L5.41 20z\"/>\n",
              "  </svg>\n",
              "      </button>\n",
              "      \n",
              "  <style>\n",
              "    .colab-df-container {\n",
              "      display:flex;\n",
              "      flex-wrap:wrap;\n",
              "      gap: 12px;\n",
              "    }\n",
              "\n",
              "    .colab-df-convert {\n",
              "      background-color: #E8F0FE;\n",
              "      border: none;\n",
              "      border-radius: 50%;\n",
              "      cursor: pointer;\n",
              "      display: none;\n",
              "      fill: #1967D2;\n",
              "      height: 32px;\n",
              "      padding: 0 0 0 0;\n",
              "      width: 32px;\n",
              "    }\n",
              "\n",
              "    .colab-df-convert:hover {\n",
              "      background-color: #E2EBFA;\n",
              "      box-shadow: 0px 1px 2px rgba(60, 64, 67, 0.3), 0px 1px 3px 1px rgba(60, 64, 67, 0.15);\n",
              "      fill: #174EA6;\n",
              "    }\n",
              "\n",
              "    [theme=dark] .colab-df-convert {\n",
              "      background-color: #3B4455;\n",
              "      fill: #D2E3FC;\n",
              "    }\n",
              "\n",
              "    [theme=dark] .colab-df-convert:hover {\n",
              "      background-color: #434B5C;\n",
              "      box-shadow: 0px 1px 3px 1px rgba(0, 0, 0, 0.15);\n",
              "      filter: drop-shadow(0px 1px 2px rgba(0, 0, 0, 0.3));\n",
              "      fill: #FFFFFF;\n",
              "    }\n",
              "  </style>\n",
              "\n",
              "      <script>\n",
              "        const buttonEl =\n",
              "          document.querySelector('#df-0b07e95b-5337-46e5-b804-aa8932e816c7 button.colab-df-convert');\n",
              "        buttonEl.style.display =\n",
              "          google.colab.kernel.accessAllowed ? 'block' : 'none';\n",
              "\n",
              "        async function convertToInteractive(key) {\n",
              "          const element = document.querySelector('#df-0b07e95b-5337-46e5-b804-aa8932e816c7');\n",
              "          const dataTable =\n",
              "            await google.colab.kernel.invokeFunction('convertToInteractive',\n",
              "                                                     [key], {});\n",
              "          if (!dataTable) return;\n",
              "\n",
              "          const docLinkHtml = 'Like what you see? Visit the ' +\n",
              "            '<a target=\"_blank\" href=https://colab.research.google.com/notebooks/data_table.ipynb>data table notebook</a>'\n",
              "            + ' to learn more about interactive tables.';\n",
              "          element.innerHTML = '';\n",
              "          dataTable['output_type'] = 'display_data';\n",
              "          await google.colab.output.renderOutput(dataTable, element);\n",
              "          const docLink = document.createElement('div');\n",
              "          docLink.innerHTML = docLinkHtml;\n",
              "          element.appendChild(docLink);\n",
              "        }\n",
              "      </script>\n",
              "    </div>\n",
              "  </div>\n",
              "  "
            ]
          },
          "metadata": {},
          "execution_count": 6
        }
      ]
    },
    {
      "cell_type": "code",
      "source": [
        "train_df[\"text\"][0]"
      ],
      "metadata": {
        "colab": {
          "base_uri": "https://localhost:8080/",
          "height": 35
        },
        "id": "QZG6R-H5vMqh",
        "outputId": "92a28443-ffa0-4c83-acaa-e3662990f79e"
      },
      "execution_count": 7,
      "outputs": [
        {
          "output_type": "execute_result",
          "data": {
            "text/plain": [
              "'Our Deeds are the Reason of this #earthquake May ALLAH Forgive us all'"
            ],
            "application/vnd.google.colaboratory.intrinsic+json": {
              "type": "string"
            }
          },
          "metadata": {},
          "execution_count": 7
        }
      ]
    },
    {
      "cell_type": "code",
      "source": [
        "train_df[\"text\"][10]"
      ],
      "metadata": {
        "colab": {
          "base_uri": "https://localhost:8080/",
          "height": 35
        },
        "id": "upCsjxyJvR1r",
        "outputId": "ce64814d-49a7-45a3-8a8d-f0e902ca8857"
      },
      "execution_count": 8,
      "outputs": [
        {
          "output_type": "execute_result",
          "data": {
            "text/plain": [
              "'Three people died from the heat wave so far'"
            ],
            "application/vnd.google.colaboratory.intrinsic+json": {
              "type": "string"
            }
          },
          "metadata": {},
          "execution_count": 8
        }
      ]
    },
    {
      "cell_type": "code",
      "source": [
        "train_df[\"text\"][100]"
      ],
      "metadata": {
        "colab": {
          "base_uri": "https://localhost:8080/",
          "height": 53
        },
        "id": "AaW_eFiyvUYZ",
        "outputId": "a5bee730-9b66-474a-d229-92d3c25f92b1"
      },
      "execution_count": 9,
      "outputs": [
        {
          "output_type": "execute_result",
          "data": {
            "text/plain": [
              "'.@NorwayMFA #Bahrain police had previously died in a road accident they were not killed by explosion https://t.co/gFJfgTodad'"
            ],
            "application/vnd.google.colaboratory.intrinsic+json": {
              "type": "string"
            }
          },
          "metadata": {},
          "execution_count": 9
        }
      ]
    },
    {
      "cell_type": "code",
      "source": [
        "#shuffle trianing df\n",
        "train_df_shuffled = train_df.sample(frac=1, random_state=42)\n",
        "train_df_shuffled.head()"
      ],
      "metadata": {
        "colab": {
          "base_uri": "https://localhost:8080/",
          "height": 206
        },
        "id": "T9eGhTtBvVy6",
        "outputId": "50a9b54f-6db5-43b2-d9dd-5d9553169888"
      },
      "execution_count": 10,
      "outputs": [
        {
          "output_type": "execute_result",
          "data": {
            "text/plain": [
              "        id      keyword               location  \\\n",
              "2644  3796  destruction                    NaN   \n",
              "2227  3185       deluge                    NaN   \n",
              "5448  7769       police                     UK   \n",
              "132    191   aftershock                    NaN   \n",
              "6845  9810       trauma  Montgomery County, MD   \n",
              "\n",
              "                                                   text  target  \n",
              "2644  So you have a new weapon that can cause un-ima...       1  \n",
              "2227  The f$&amp;@ing things I do for #GISHWHES Just...       0  \n",
              "5448  DT @georgegalloway: RT @Galloway4Mayor: ÛÏThe...       1  \n",
              "132   Aftershock back to school kick off was great. ...       0  \n",
              "6845  in response to trauma Children of Addicts deve...       0  "
            ],
            "text/html": [
              "\n",
              "  <div id=\"df-d72f82b7-116c-49eb-81c4-1cd0b705f422\">\n",
              "    <div class=\"colab-df-container\">\n",
              "      <div>\n",
              "<style scoped>\n",
              "    .dataframe tbody tr th:only-of-type {\n",
              "        vertical-align: middle;\n",
              "    }\n",
              "\n",
              "    .dataframe tbody tr th {\n",
              "        vertical-align: top;\n",
              "    }\n",
              "\n",
              "    .dataframe thead th {\n",
              "        text-align: right;\n",
              "    }\n",
              "</style>\n",
              "<table border=\"1\" class=\"dataframe\">\n",
              "  <thead>\n",
              "    <tr style=\"text-align: right;\">\n",
              "      <th></th>\n",
              "      <th>id</th>\n",
              "      <th>keyword</th>\n",
              "      <th>location</th>\n",
              "      <th>text</th>\n",
              "      <th>target</th>\n",
              "    </tr>\n",
              "  </thead>\n",
              "  <tbody>\n",
              "    <tr>\n",
              "      <th>2644</th>\n",
              "      <td>3796</td>\n",
              "      <td>destruction</td>\n",
              "      <td>NaN</td>\n",
              "      <td>So you have a new weapon that can cause un-ima...</td>\n",
              "      <td>1</td>\n",
              "    </tr>\n",
              "    <tr>\n",
              "      <th>2227</th>\n",
              "      <td>3185</td>\n",
              "      <td>deluge</td>\n",
              "      <td>NaN</td>\n",
              "      <td>The f$&amp;amp;@ing things I do for #GISHWHES Just...</td>\n",
              "      <td>0</td>\n",
              "    </tr>\n",
              "    <tr>\n",
              "      <th>5448</th>\n",
              "      <td>7769</td>\n",
              "      <td>police</td>\n",
              "      <td>UK</td>\n",
              "      <td>DT @georgegalloway: RT @Galloway4Mayor: ÛÏThe...</td>\n",
              "      <td>1</td>\n",
              "    </tr>\n",
              "    <tr>\n",
              "      <th>132</th>\n",
              "      <td>191</td>\n",
              "      <td>aftershock</td>\n",
              "      <td>NaN</td>\n",
              "      <td>Aftershock back to school kick off was great. ...</td>\n",
              "      <td>0</td>\n",
              "    </tr>\n",
              "    <tr>\n",
              "      <th>6845</th>\n",
              "      <td>9810</td>\n",
              "      <td>trauma</td>\n",
              "      <td>Montgomery County, MD</td>\n",
              "      <td>in response to trauma Children of Addicts deve...</td>\n",
              "      <td>0</td>\n",
              "    </tr>\n",
              "  </tbody>\n",
              "</table>\n",
              "</div>\n",
              "      <button class=\"colab-df-convert\" onclick=\"convertToInteractive('df-d72f82b7-116c-49eb-81c4-1cd0b705f422')\"\n",
              "              title=\"Convert this dataframe to an interactive table.\"\n",
              "              style=\"display:none;\">\n",
              "        \n",
              "  <svg xmlns=\"http://www.w3.org/2000/svg\" height=\"24px\"viewBox=\"0 0 24 24\"\n",
              "       width=\"24px\">\n",
              "    <path d=\"M0 0h24v24H0V0z\" fill=\"none\"/>\n",
              "    <path d=\"M18.56 5.44l.94 2.06.94-2.06 2.06-.94-2.06-.94-.94-2.06-.94 2.06-2.06.94zm-11 1L8.5 8.5l.94-2.06 2.06-.94-2.06-.94L8.5 2.5l-.94 2.06-2.06.94zm10 10l.94 2.06.94-2.06 2.06-.94-2.06-.94-.94-2.06-.94 2.06-2.06.94z\"/><path d=\"M17.41 7.96l-1.37-1.37c-.4-.4-.92-.59-1.43-.59-.52 0-1.04.2-1.43.59L10.3 9.45l-7.72 7.72c-.78.78-.78 2.05 0 2.83L4 21.41c.39.39.9.59 1.41.59.51 0 1.02-.2 1.41-.59l7.78-7.78 2.81-2.81c.8-.78.8-2.07 0-2.86zM5.41 20L4 18.59l7.72-7.72 1.47 1.35L5.41 20z\"/>\n",
              "  </svg>\n",
              "      </button>\n",
              "      \n",
              "  <style>\n",
              "    .colab-df-container {\n",
              "      display:flex;\n",
              "      flex-wrap:wrap;\n",
              "      gap: 12px;\n",
              "    }\n",
              "\n",
              "    .colab-df-convert {\n",
              "      background-color: #E8F0FE;\n",
              "      border: none;\n",
              "      border-radius: 50%;\n",
              "      cursor: pointer;\n",
              "      display: none;\n",
              "      fill: #1967D2;\n",
              "      height: 32px;\n",
              "      padding: 0 0 0 0;\n",
              "      width: 32px;\n",
              "    }\n",
              "\n",
              "    .colab-df-convert:hover {\n",
              "      background-color: #E2EBFA;\n",
              "      box-shadow: 0px 1px 2px rgba(60, 64, 67, 0.3), 0px 1px 3px 1px rgba(60, 64, 67, 0.15);\n",
              "      fill: #174EA6;\n",
              "    }\n",
              "\n",
              "    [theme=dark] .colab-df-convert {\n",
              "      background-color: #3B4455;\n",
              "      fill: #D2E3FC;\n",
              "    }\n",
              "\n",
              "    [theme=dark] .colab-df-convert:hover {\n",
              "      background-color: #434B5C;\n",
              "      box-shadow: 0px 1px 3px 1px rgba(0, 0, 0, 0.15);\n",
              "      filter: drop-shadow(0px 1px 2px rgba(0, 0, 0, 0.3));\n",
              "      fill: #FFFFFF;\n",
              "    }\n",
              "  </style>\n",
              "\n",
              "      <script>\n",
              "        const buttonEl =\n",
              "          document.querySelector('#df-d72f82b7-116c-49eb-81c4-1cd0b705f422 button.colab-df-convert');\n",
              "        buttonEl.style.display =\n",
              "          google.colab.kernel.accessAllowed ? 'block' : 'none';\n",
              "\n",
              "        async function convertToInteractive(key) {\n",
              "          const element = document.querySelector('#df-d72f82b7-116c-49eb-81c4-1cd0b705f422');\n",
              "          const dataTable =\n",
              "            await google.colab.kernel.invokeFunction('convertToInteractive',\n",
              "                                                     [key], {});\n",
              "          if (!dataTable) return;\n",
              "\n",
              "          const docLinkHtml = 'Like what you see? Visit the ' +\n",
              "            '<a target=\"_blank\" href=https://colab.research.google.com/notebooks/data_table.ipynb>data table notebook</a>'\n",
              "            + ' to learn more about interactive tables.';\n",
              "          element.innerHTML = '';\n",
              "          dataTable['output_type'] = 'display_data';\n",
              "          await google.colab.output.renderOutput(dataTable, element);\n",
              "          const docLink = document.createElement('div');\n",
              "          docLink.innerHTML = docLinkHtml;\n",
              "          element.appendChild(docLink);\n",
              "        }\n",
              "      </script>\n",
              "    </div>\n",
              "  </div>\n",
              "  "
            ]
          },
          "metadata": {},
          "execution_count": 10
        }
      ]
    },
    {
      "cell_type": "code",
      "source": [
        "#test df\n",
        "test_df.head()"
      ],
      "metadata": {
        "colab": {
          "base_uri": "https://localhost:8080/",
          "height": 206
        },
        "id": "MsQQhmdqvYzP",
        "outputId": "12e90d74-2f6a-42da-ce4b-0e1e43701000"
      },
      "execution_count": 11,
      "outputs": [
        {
          "output_type": "execute_result",
          "data": {
            "text/plain": [
              "   id keyword location                                               text\n",
              "0   0     NaN      NaN                 Just happened a terrible car crash\n",
              "1   2     NaN      NaN  Heard about #earthquake is different cities, s...\n",
              "2   3     NaN      NaN  there is a forest fire at spot pond, geese are...\n",
              "3   9     NaN      NaN           Apocalypse lighting. #Spokane #wildfires\n",
              "4  11     NaN      NaN      Typhoon Soudelor kills 28 in China and Taiwan"
            ],
            "text/html": [
              "\n",
              "  <div id=\"df-bc1d1c38-0394-484b-980e-8181668d43ef\">\n",
              "    <div class=\"colab-df-container\">\n",
              "      <div>\n",
              "<style scoped>\n",
              "    .dataframe tbody tr th:only-of-type {\n",
              "        vertical-align: middle;\n",
              "    }\n",
              "\n",
              "    .dataframe tbody tr th {\n",
              "        vertical-align: top;\n",
              "    }\n",
              "\n",
              "    .dataframe thead th {\n",
              "        text-align: right;\n",
              "    }\n",
              "</style>\n",
              "<table border=\"1\" class=\"dataframe\">\n",
              "  <thead>\n",
              "    <tr style=\"text-align: right;\">\n",
              "      <th></th>\n",
              "      <th>id</th>\n",
              "      <th>keyword</th>\n",
              "      <th>location</th>\n",
              "      <th>text</th>\n",
              "    </tr>\n",
              "  </thead>\n",
              "  <tbody>\n",
              "    <tr>\n",
              "      <th>0</th>\n",
              "      <td>0</td>\n",
              "      <td>NaN</td>\n",
              "      <td>NaN</td>\n",
              "      <td>Just happened a terrible car crash</td>\n",
              "    </tr>\n",
              "    <tr>\n",
              "      <th>1</th>\n",
              "      <td>2</td>\n",
              "      <td>NaN</td>\n",
              "      <td>NaN</td>\n",
              "      <td>Heard about #earthquake is different cities, s...</td>\n",
              "    </tr>\n",
              "    <tr>\n",
              "      <th>2</th>\n",
              "      <td>3</td>\n",
              "      <td>NaN</td>\n",
              "      <td>NaN</td>\n",
              "      <td>there is a forest fire at spot pond, geese are...</td>\n",
              "    </tr>\n",
              "    <tr>\n",
              "      <th>3</th>\n",
              "      <td>9</td>\n",
              "      <td>NaN</td>\n",
              "      <td>NaN</td>\n",
              "      <td>Apocalypse lighting. #Spokane #wildfires</td>\n",
              "    </tr>\n",
              "    <tr>\n",
              "      <th>4</th>\n",
              "      <td>11</td>\n",
              "      <td>NaN</td>\n",
              "      <td>NaN</td>\n",
              "      <td>Typhoon Soudelor kills 28 in China and Taiwan</td>\n",
              "    </tr>\n",
              "  </tbody>\n",
              "</table>\n",
              "</div>\n",
              "      <button class=\"colab-df-convert\" onclick=\"convertToInteractive('df-bc1d1c38-0394-484b-980e-8181668d43ef')\"\n",
              "              title=\"Convert this dataframe to an interactive table.\"\n",
              "              style=\"display:none;\">\n",
              "        \n",
              "  <svg xmlns=\"http://www.w3.org/2000/svg\" height=\"24px\"viewBox=\"0 0 24 24\"\n",
              "       width=\"24px\">\n",
              "    <path d=\"M0 0h24v24H0V0z\" fill=\"none\"/>\n",
              "    <path d=\"M18.56 5.44l.94 2.06.94-2.06 2.06-.94-2.06-.94-.94-2.06-.94 2.06-2.06.94zm-11 1L8.5 8.5l.94-2.06 2.06-.94-2.06-.94L8.5 2.5l-.94 2.06-2.06.94zm10 10l.94 2.06.94-2.06 2.06-.94-2.06-.94-.94-2.06-.94 2.06-2.06.94z\"/><path d=\"M17.41 7.96l-1.37-1.37c-.4-.4-.92-.59-1.43-.59-.52 0-1.04.2-1.43.59L10.3 9.45l-7.72 7.72c-.78.78-.78 2.05 0 2.83L4 21.41c.39.39.9.59 1.41.59.51 0 1.02-.2 1.41-.59l7.78-7.78 2.81-2.81c.8-.78.8-2.07 0-2.86zM5.41 20L4 18.59l7.72-7.72 1.47 1.35L5.41 20z\"/>\n",
              "  </svg>\n",
              "      </button>\n",
              "      \n",
              "  <style>\n",
              "    .colab-df-container {\n",
              "      display:flex;\n",
              "      flex-wrap:wrap;\n",
              "      gap: 12px;\n",
              "    }\n",
              "\n",
              "    .colab-df-convert {\n",
              "      background-color: #E8F0FE;\n",
              "      border: none;\n",
              "      border-radius: 50%;\n",
              "      cursor: pointer;\n",
              "      display: none;\n",
              "      fill: #1967D2;\n",
              "      height: 32px;\n",
              "      padding: 0 0 0 0;\n",
              "      width: 32px;\n",
              "    }\n",
              "\n",
              "    .colab-df-convert:hover {\n",
              "      background-color: #E2EBFA;\n",
              "      box-shadow: 0px 1px 2px rgba(60, 64, 67, 0.3), 0px 1px 3px 1px rgba(60, 64, 67, 0.15);\n",
              "      fill: #174EA6;\n",
              "    }\n",
              "\n",
              "    [theme=dark] .colab-df-convert {\n",
              "      background-color: #3B4455;\n",
              "      fill: #D2E3FC;\n",
              "    }\n",
              "\n",
              "    [theme=dark] .colab-df-convert:hover {\n",
              "      background-color: #434B5C;\n",
              "      box-shadow: 0px 1px 3px 1px rgba(0, 0, 0, 0.15);\n",
              "      filter: drop-shadow(0px 1px 2px rgba(0, 0, 0, 0.3));\n",
              "      fill: #FFFFFF;\n",
              "    }\n",
              "  </style>\n",
              "\n",
              "      <script>\n",
              "        const buttonEl =\n",
              "          document.querySelector('#df-bc1d1c38-0394-484b-980e-8181668d43ef button.colab-df-convert');\n",
              "        buttonEl.style.display =\n",
              "          google.colab.kernel.accessAllowed ? 'block' : 'none';\n",
              "\n",
              "        async function convertToInteractive(key) {\n",
              "          const element = document.querySelector('#df-bc1d1c38-0394-484b-980e-8181668d43ef');\n",
              "          const dataTable =\n",
              "            await google.colab.kernel.invokeFunction('convertToInteractive',\n",
              "                                                     [key], {});\n",
              "          if (!dataTable) return;\n",
              "\n",
              "          const docLinkHtml = 'Like what you see? Visit the ' +\n",
              "            '<a target=\"_blank\" href=https://colab.research.google.com/notebooks/data_table.ipynb>data table notebook</a>'\n",
              "            + ' to learn more about interactive tables.';\n",
              "          element.innerHTML = '';\n",
              "          dataTable['output_type'] = 'display_data';\n",
              "          await google.colab.output.renderOutput(dataTable, element);\n",
              "          const docLink = document.createElement('div');\n",
              "          docLink.innerHTML = docLinkHtml;\n",
              "          element.appendChild(docLink);\n",
              "        }\n",
              "      </script>\n",
              "    </div>\n",
              "  </div>\n",
              "  "
            ]
          },
          "metadata": {},
          "execution_count": 11
        }
      ]
    },
    {
      "cell_type": "code",
      "source": [
        "#examples of each class\n",
        "train_df.target.value_counts()"
      ],
      "metadata": {
        "colab": {
          "base_uri": "https://localhost:8080/"
        },
        "id": "eOI5KrBPvpO4",
        "outputId": "488fae64-43be-4e46-b257-9a5b5a362d95"
      },
      "execution_count": 12,
      "outputs": [
        {
          "output_type": "execute_result",
          "data": {
            "text/plain": [
              "0    4342\n",
              "1    3271\n",
              "Name: target, dtype: int64"
            ]
          },
          "metadata": {},
          "execution_count": 12
        }
      ]
    },
    {
      "cell_type": "code",
      "source": [
        "#total num of samples\n",
        "len(train_df), len(test_df)"
      ],
      "metadata": {
        "colab": {
          "base_uri": "https://localhost:8080/"
        },
        "id": "FmNJ9EsKv1BD",
        "outputId": "283f3893-aea6-4b55-97f2-a25b60c5b5b5"
      },
      "execution_count": 13,
      "outputs": [
        {
          "output_type": "execute_result",
          "data": {
            "text/plain": [
              "(7613, 3263)"
            ]
          },
          "metadata": {},
          "execution_count": 13
        }
      ]
    },
    {
      "cell_type": "code",
      "source": [
        "#visualizing random samples\n",
        "import random\n",
        "random_index = random.randint(0, len(train_df)-5) #create random index\n",
        "for row in train_df_shuffled[[\"text\", \"target\"]][random_index:random_index +5 ].itertuples():\n",
        "  _, text, target = row\n",
        "  print(f\"Target: {target}\", \"(real disaster\" if target > 0 else \"(not real disaster)\")\n",
        "  print(f\"Text:\\n{text}\")"
      ],
      "metadata": {
        "colab": {
          "base_uri": "https://localhost:8080/"
        },
        "id": "jqgjc8eTwF6y",
        "outputId": "232aee42-a8d8-4dc6-8073-5aecdfb4f27c"
      },
      "execution_count": 14,
      "outputs": [
        {
          "output_type": "stream",
          "name": "stdout",
          "text": [
            "Target: 1 (real disaster\n",
            "Text:\n",
            "All Hail Shadow (Hybrid Mix Feat. Mike Szuter): http://t.co/9e2f7bIvlE @youtube ##youtube\n",
            "Target: 0 (not real disaster)\n",
            "Text:\n",
            "Not one character in the final destination series has ever survived ??\n",
            "Target: 0 (not real disaster)\n",
            "Text:\n",
            "We're #hiring! Read about our latest #job opening here: Emergency Department Psychiatric RN (.90 FTE Day) - http://t.co/zOEpZsOkY1\n",
            "Target: 1 (real disaster\n",
            "Text:\n",
            "Intact+MH370+Part+Lifts+Odds+Plane+Glided+Not+Crashed+Into+Sea http://t.co/MjTN3qbgOS via @YahooFinance#Hope for answers.\n",
            "Target: 1 (real disaster\n",
            "Text:\n",
            "FedEx no longer will ship potential bioterror pathogens - FedEx Corp. (NYSE: FDX) will no longer deliver packages ... http://t.co/2kdq56xTWs\n"
          ]
        }
      ]
    },
    {
      "cell_type": "code",
      "source": [
        "#splittting data into training and validation\n",
        "from sklearn.model_selection import train_test_split\n",
        "train_sentences, val_sentences, train_labels, val_labels = train_test_split(train_df_shuffled[\"text\"].to_numpy(),\n",
        "                                                                            train_df_shuffled[\"target\"].to_numpy(),\n",
        "                                                                            test_size=0.1,\n",
        "                                                                            random_state=30)"
      ],
      "metadata": {
        "id": "6D7_Msunwxry"
      },
      "execution_count": 15,
      "outputs": []
    },
    {
      "cell_type": "code",
      "source": [
        "#checking lengths of each data set\n",
        "len(train_sentences), len(val_sentences), len(train_labels), len(val_labels)"
      ],
      "metadata": {
        "colab": {
          "base_uri": "https://localhost:8080/"
        },
        "id": "NdntL4rNBpta",
        "outputId": "c00505fd-9587-4d11-d9af-3e03604c21c2"
      },
      "execution_count": 16,
      "outputs": [
        {
          "output_type": "execute_result",
          "data": {
            "text/plain": [
              "(6851, 762, 6851, 762)"
            ]
          },
          "metadata": {},
          "execution_count": 16
        }
      ]
    },
    {
      "cell_type": "code",
      "source": [
        "#check the first 10 sentences\n",
        "train_sentences[:10]"
      ],
      "metadata": {
        "colab": {
          "base_uri": "https://localhost:8080/"
        },
        "id": "cEYvscGPCRf2",
        "outputId": "530c67f4-a8a2-47cc-ccc7-82f1ca1ba96b"
      },
      "execution_count": 17,
      "outputs": [
        {
          "output_type": "execute_result",
          "data": {
            "text/plain": [
              "array([\"All residents asked to 'shelter in place' are being notified by officers. No other evacuation or shelter in place orders are expected\",\n",
              "       \"@DavidJordan88 @Stephanenny Except we don't know who started the riot or if it even makes sense to credit any particular individuals...\",\n",
              "       'Shadow boxing the apocalypse',\n",
              "       \"Maybe that's what happens when a tornado meets a volcano\",\n",
              "       '#Politics Democracy\\x89Ûªs hatred for hate: \\x89Û_ Dawabsha threaten to erode Israeli democracy. Homegrown terrorism ha...  http://t.co/q8n5Tn8WME',\n",
              "       \"@TomDean86 he's alright but Hazard/Willian ain't gonna be shifted easily.\",\n",
              "       '0-day bug in fully patched OS X comes under active exploit to hijack Macs http://t.co/sbGiRvQvzb',\n",
              "       'Three Israeli soldiers wounded in West Bank terrorist attack via /r/worldnews http://t.co/su4ZVWADj7',\n",
              "       'If it\\x89Ûªs a war you came to see you will never see a waved white flag in front me.\\nI can\\x89Ûªt end up dead I wont be misled.',\n",
              "       'York Co. first responders compete to save lives in \\x89Û÷Badges for Blood\\x89Ûª #paramedic #EMS http://t.co/E65V80FCus'],\n",
              "      dtype=object)"
            ]
          },
          "metadata": {},
          "execution_count": 17
        }
      ]
    },
    {
      "cell_type": "code",
      "source": [
        "val_sentences[:10]"
      ],
      "metadata": {
        "colab": {
          "base_uri": "https://localhost:8080/"
        },
        "id": "Dd40MBTaCXFt",
        "outputId": "b567ac52-f563-4a86-e72a-df0a6a90f984"
      },
      "execution_count": 18,
      "outputs": [
        {
          "output_type": "execute_result",
          "data": {
            "text/plain": [
              "array(['Blaze is my bro http://t.co/UdKeSJ01mL',\n",
              "       'I was taught at school in the 1970s that piracy slavery and suicide-bombing were purely historical. No one then expected them to re-occur',\n",
              "       'http://t.co/FueRk0gWui Twelve feared killed in Pakistani air ambulance helicopter crash http://t.co/Mv7GgGlmVc',\n",
              "       \"I'm a friggin wreck destiel sucks (read the vine description)\\nhttps://t.co/MKX6Ux4OZt\",\n",
              "       'Dr. Bengston on #wildfire management: \\x89ÛÏnumbers and size of fires areas affected and costs of fighting them all show upward trend.\\x89Û\\x9d #smem',\n",
              "       '@ameenshaikh3 sir i just only wanted to make a point about @sureshpprabhu you made and said he is lying about bridge collapse.',\n",
              "       'Wow! I just won this for free The Hobbit: Desolation of Smaug UV digital download code *GIN 9 http://t.co/MjFdCrjs8j #listia',\n",
              "       'Photoset: hakogaku: ?åÊI am a kurd. i was born on a battlefield. raised on a battlefield. gunfire sirens... http://t.co/obp595W7tm',\n",
              "       'Washington Post - 4 dead dozens injured in Gaza blast near house leveled in summer war http://t.co/VjXa13n8Ap',\n",
              "       '@wocowae Police Officer Wounded Suspect Dead After Exchanging Shots http://t.co/oiOeCbsh1f ushed'],\n",
              "      dtype=object)"
            ]
          },
          "metadata": {},
          "execution_count": 18
        }
      ]
    },
    {
      "cell_type": "markdown",
      "source": [
        "## Converting text into numbers"
      ],
      "metadata": {
        "id": "nVIszkTYCY-8"
      }
    },
    {
      "cell_type": "markdown",
      "source": [
        "#Tokenization and Embedding\n",
        "##Tokenization: Each word/character is set to a number/one-hot encoding\n",
        "##Embedding: Each word/character is set to a vector, with user-defined size, allowing for information on the relationship between tokens/words/characters. Additionally, can limit size and can be learned (treated as a weight matrix)\n"
      ],
      "metadata": {
        "id": "VaehOHk5CoHW"
      }
    },
    {
      "cell_type": "code",
      "source": [
        "#Text Vectorization\n",
        "import tensorflow as tf\n",
        "from tensorflow.keras.layers import TextVectorization\n",
        "\n",
        "#Use default TextVectorization parameters\n",
        "text_vectorizer = TextVectorization(max_tokens=None, #how many words in vocabulary (automaticaly add <OOV>)\n",
        "                                    standardize=\"lower_and_strip_punctuation\", #remove fluff,\n",
        "                                    split=\"whitespace\",\n",
        "                                    ngrams=None, #create groups of n words\n",
        "                                    output_mode=\"int\", #how to map tokens to numbers\n",
        "                                    output_sequence_length=None, #how long each batch of a setence should be\n",
        "                                    pad_to_max_tokens=False)\n"
      ],
      "metadata": {
        "id": "Q0gVYSLkDOp3"
      },
      "execution_count": 19,
      "outputs": []
    },
    {
      "cell_type": "code",
      "source": [
        "#find average number of tokens (words) in the trianing tweets\n",
        "round(sum([len(i.split()) for i in train_sentences])/len(train_sentences))"
      ],
      "metadata": {
        "colab": {
          "base_uri": "https://localhost:8080/"
        },
        "id": "x-2vFBt0GNd-",
        "outputId": "385db7cf-bb17-403e-d00a-7d3eade73e55"
      },
      "execution_count": 20,
      "outputs": [
        {
          "output_type": "execute_result",
          "data": {
            "text/plain": [
              "15"
            ]
          },
          "metadata": {},
          "execution_count": 20
        }
      ]
    },
    {
      "cell_type": "code",
      "source": [
        "#set up text vectorization variables\n",
        "max_vocab_length = 10000 # max num of words to have in vocabulary\n",
        "max_length = 15 #max length of a tweet that our models sees\n",
        "\n",
        "text_vectorizer = TextVectorization(max_tokens=max_vocab_length, #how many words in vocabulary (automaticaly add <OOV>)\n",
        "                                    standardize=\"lower_and_strip_punctuation\", #remove fluff,\n",
        "                                    split=\"whitespace\",\n",
        "                                    ngrams=None, #create groups of n words\n",
        "                                    output_mode=\"int\", #how to map tokens to numbers\n",
        "                                    output_sequence_length=max_length, #how long each batch of a setence should be\n",
        "                                    pad_to_max_tokens=True)"
      ],
      "metadata": {
        "id": "HbIW4m3qG2ER"
      },
      "execution_count": 21,
      "outputs": []
    },
    {
      "cell_type": "code",
      "source": [
        "#adapting text_vectorizer to training data\n",
        "text_vectorizer.adapt(train_sentences) #adapt to training data, very important"
      ],
      "metadata": {
        "id": "n0A2cWjAHPK-"
      },
      "execution_count": 22,
      "outputs": []
    },
    {
      "cell_type": "code",
      "source": [
        "train_sentences[:10]"
      ],
      "metadata": {
        "colab": {
          "base_uri": "https://localhost:8080/"
        },
        "id": "RIjbJuNvHn-Q",
        "outputId": "749cecd4-6d57-4e04-d7ab-ac508160bfca"
      },
      "execution_count": 23,
      "outputs": [
        {
          "output_type": "execute_result",
          "data": {
            "text/plain": [
              "array([\"All residents asked to 'shelter in place' are being notified by officers. No other evacuation or shelter in place orders are expected\",\n",
              "       \"@DavidJordan88 @Stephanenny Except we don't know who started the riot or if it even makes sense to credit any particular individuals...\",\n",
              "       'Shadow boxing the apocalypse',\n",
              "       \"Maybe that's what happens when a tornado meets a volcano\",\n",
              "       '#Politics Democracy\\x89Ûªs hatred for hate: \\x89Û_ Dawabsha threaten to erode Israeli democracy. Homegrown terrorism ha...  http://t.co/q8n5Tn8WME',\n",
              "       \"@TomDean86 he's alright but Hazard/Willian ain't gonna be shifted easily.\",\n",
              "       '0-day bug in fully patched OS X comes under active exploit to hijack Macs http://t.co/sbGiRvQvzb',\n",
              "       'Three Israeli soldiers wounded in West Bank terrorist attack via /r/worldnews http://t.co/su4ZVWADj7',\n",
              "       'If it\\x89Ûªs a war you came to see you will never see a waved white flag in front me.\\nI can\\x89Ûªt end up dead I wont be misled.',\n",
              "       'York Co. first responders compete to save lives in \\x89Û÷Badges for Blood\\x89Ûª #paramedic #EMS http://t.co/E65V80FCus'],\n",
              "      dtype=object)"
            ]
          },
          "metadata": {},
          "execution_count": 23
        }
      ]
    },
    {
      "cell_type": "code",
      "source": [
        "#Create sample setnces and tokenize it\n",
        "sample_sentence = \"A tornado destroyed my house\"\n",
        "text_vectorizer([sample_sentence])"
      ],
      "metadata": {
        "colab": {
          "base_uri": "https://localhost:8080/"
        },
        "id": "ghPJeZTdHpmP",
        "outputId": "f2f9aafc-9494-422d-d17c-2b968e525b24"
      },
      "execution_count": 24,
      "outputs": [
        {
          "output_type": "execute_result",
          "data": {
            "text/plain": [
              "<tf.Tensor: shape=(1, 15), dtype=int64, numpy=\n",
              "array([[  3, 595, 346,  13, 311,   0,   0,   0,   0,   0,   0,   0,   0,\n",
              "          0,   0]])>"
            ]
          },
          "metadata": {},
          "execution_count": 24
        }
      ]
    },
    {
      "cell_type": "code",
      "source": [
        "#Choose a random sentence from the triaing dataset and vectorize it\n",
        "random_sentence = random.choice(train_sentences)\n",
        "print(f\"original sentence: {random_sentence}\\n vectorized sentence: {text_vectorizer([random_sentence])}\")"
      ],
      "metadata": {
        "colab": {
          "base_uri": "https://localhost:8080/"
        },
        "id": "G1A_HeIgH1dl",
        "outputId": "3d2abc8b-a8d7-4363-b828-c2078584b151"
      },
      "execution_count": 25,
      "outputs": [
        {
          "output_type": "stream",
          "name": "stdout",
          "text": [
            "original sentence: Fire destroys two buildings on 2nd Street in #Manchester http://t.co/Tqh5amoknd\n",
            " vectorized sentence: [[  42 1682  112   95   11 1321  768    4 1509    1    0    0    0    0\n",
            "     0]]\n"
          ]
        }
      ]
    },
    {
      "cell_type": "code",
      "source": [
        "#number of unique words found in train_sentences\n",
        "words_in_vocab = text_vectorizer.get_vocabulary()\n",
        "top_5_words = words_in_vocab[:5]\n",
        "bottom_5_words = words_in_vocab[-5:]\n",
        "print(f\"Num of words: {len(words_in_vocab)}\")\n",
        "top_5_words, bottom_5_words"
      ],
      "metadata": {
        "colab": {
          "base_uri": "https://localhost:8080/"
        },
        "id": "DjHVULaBIOds",
        "outputId": "309e14dd-ea64-4a3a-916c-f8074b05bd80"
      },
      "execution_count": 26,
      "outputs": [
        {
          "output_type": "stream",
          "name": "stdout",
          "text": [
            "Num of words: 10000\n"
          ]
        },
        {
          "output_type": "execute_result",
          "data": {
            "text/plain": [
              "(['', '[UNK]', 'the', 'a', 'in'],\n",
              " ['panda', 'panama', 'pampalmater', 'palmoil', 'palmer'])"
            ]
          },
          "metadata": {},
          "execution_count": 26
        }
      ]
    },
    {
      "cell_type": "markdown",
      "source": [
        "### Creating an embedding using an embedding layer\n"
      ],
      "metadata": {
        "id": "ZAjowXaIIfNw"
      }
    },
    {
      "cell_type": "code",
      "source": [
        "#using tensorflow.keras.layeres.Embedding\n",
        "##Parameters: input_dim, output_dim, input_length\n",
        "from tensorflow.keras import layers\n",
        "\n",
        "embedding = layers.Embedding(input_dim=max_vocab_length,\n",
        "                             output_dim=128,\n",
        "                             input_length=max_length)\n",
        "embedding"
      ],
      "metadata": {
        "colab": {
          "base_uri": "https://localhost:8080/"
        },
        "id": "t6Yg2so4JQwK",
        "outputId": "4739e4ec-a6d9-46f7-8b63-525c0071cb91"
      },
      "execution_count": 27,
      "outputs": [
        {
          "output_type": "execute_result",
          "data": {
            "text/plain": [
              "<keras.layers.embeddings.Embedding at 0x7fcc3471f3d0>"
            ]
          },
          "metadata": {},
          "execution_count": 27
        }
      ]
    },
    {
      "cell_type": "code",
      "source": [
        "#get a random sentence\n",
        "random_sentence = random.choice(train_sentences)\n",
        "print(f\"random sentence: {random_sentence}\")\n",
        "print(f\"embedded:\")\n",
        "sample_embed = embedding(text_vectorizer([random_sentence]))\n",
        "sample_embed"
      ],
      "metadata": {
        "colab": {
          "base_uri": "https://localhost:8080/"
        },
        "id": "RP6-vW_-KAkY",
        "outputId": "e6c97d6c-d20d-4998-a509-e69c6e6f96f6"
      },
      "execution_count": 28,
      "outputs": [
        {
          "output_type": "stream",
          "name": "stdout",
          "text": [
            "random sentence: Schools in Western Uganda still Burning down Buildings during Strikes....Strikes in Western Uganda always Lit literally..\n",
            "embedded:\n"
          ]
        },
        {
          "output_type": "execute_result",
          "data": {
            "text/plain": [
              "<tf.Tensor: shape=(1, 15, 128), dtype=float32, numpy=\n",
              "array([[[ 0.0452236 ,  0.03141561,  0.02913788, ..., -0.00118339,\n",
              "         -0.04397987,  0.00972264],\n",
              "        [ 0.00183608, -0.04843877,  0.02644466, ...,  0.01672338,\n",
              "          0.03407112, -0.03431299],\n",
              "        [ 0.03962276,  0.0281941 , -0.02019731, ...,  0.01635191,\n",
              "          0.0130245 , -0.01942028],\n",
              "        ...,\n",
              "        [ 0.03281746, -0.03156985,  0.04017032, ...,  0.03974494,\n",
              "         -0.03434937, -0.02282306],\n",
              "        [-0.02705061,  0.03860979,  0.03364316, ...,  0.01110797,\n",
              "         -0.0144449 , -0.02146479],\n",
              "        [-0.01488053, -0.04358071,  0.02179985, ...,  0.04913285,\n",
              "          0.02247113, -0.00646057]]], dtype=float32)>"
            ]
          },
          "metadata": {},
          "execution_count": 28
        }
      ]
    },
    {
      "cell_type": "code",
      "source": [
        "sample_embed[0][0], sample_embed[0][0].shape, "
      ],
      "metadata": {
        "colab": {
          "base_uri": "https://localhost:8080/"
        },
        "id": "bnJWDCi5KZIY",
        "outputId": "f40efdc6-46d3-4eb6-8be2-f8669ac9d967"
      },
      "execution_count": 29,
      "outputs": [
        {
          "output_type": "execute_result",
          "data": {
            "text/plain": [
              "(<tf.Tensor: shape=(128,), dtype=float32, numpy=\n",
              " array([ 0.0452236 ,  0.03141561,  0.02913788, -0.04062421, -0.00592729,\n",
              "        -0.04106276,  0.01070071,  0.03806493,  0.01652802, -0.02945913,\n",
              "         0.01806333,  0.03679129,  0.04044348,  0.02869301, -0.01625561,\n",
              "        -0.04898978, -0.00045128, -0.04144446,  0.01823268,  0.00211778,\n",
              "         0.01064168,  0.03465218, -0.0287895 , -0.03373549, -0.01278378,\n",
              "        -0.02062348, -0.0395159 , -0.02650925,  0.0499027 , -0.00606375,\n",
              "         0.02659578, -0.01287929, -0.01828343, -0.04291074, -0.00848851,\n",
              "         0.0473741 ,  0.04444145, -0.03544552,  0.02954802,  0.01551714,\n",
              "        -0.0207575 , -0.03121271,  0.04374574, -0.03598351, -0.04127133,\n",
              "        -0.03295872, -0.02572646, -0.04490102, -0.01448663,  0.03100299,\n",
              "        -0.00089191, -0.00917115,  0.0024568 ,  0.01845298, -0.04842609,\n",
              "         0.01360333,  0.04751105,  0.01494617, -0.03144766,  0.04788348,\n",
              "         0.00843444, -0.01428337,  0.03629142,  0.02328267, -0.01011493,\n",
              "         0.04194779,  0.04106447, -0.01635008, -0.02776674, -0.03161078,\n",
              "         0.00251995, -0.00331734, -0.00484643, -0.02185953,  0.02161339,\n",
              "         0.03151467, -0.02822555, -0.04388487, -0.0054239 , -0.04299174,\n",
              "        -0.00404694, -0.00664874, -0.0453763 ,  0.00800664, -0.04472951,\n",
              "        -0.03715329,  0.00433813,  0.00347487, -0.02600336,  0.02599655,\n",
              "         0.02745024,  0.0418777 ,  0.03001336, -0.0197178 ,  0.00736965,\n",
              "         0.0438182 ,  0.03813672,  0.04660478, -0.03067842,  0.04274106,\n",
              "         0.0373668 , -0.02980418, -0.03706354, -0.01765434,  0.02870012,\n",
              "         0.00609014,  0.0309438 , -0.04173008,  0.02787784, -0.01834178,\n",
              "        -0.00243353, -0.01765723, -0.0204262 ,  0.03909835,  0.0007422 ,\n",
              "        -0.0005512 ,  0.01636693,  0.00635811, -0.01234744,  0.04162398,\n",
              "         0.02034184, -0.02134733,  0.01911685,  0.04973065,  0.00368501,\n",
              "        -0.00118339, -0.04397987,  0.00972264], dtype=float32)>,\n",
              " TensorShape([128]))"
            ]
          },
          "metadata": {},
          "execution_count": 29
        }
      ]
    },
    {
      "cell_type": "markdown",
      "source": [
        "##Modelling a text dataset (running series of experiments)\n",
        "###1. Naive bayes with Tf-IDF encoder (BASELINE)\n",
        "###2. Feed-forward neural network \n",
        "###3. LSTM\n",
        "###4. GRU\n",
        "###5. Bidirectiona;-LSTM\n",
        "###6. 1D CNN\n",
        "###7. TFHub pretrianed feature extractor\n",
        "###8. TFHub pretrained with 10% of trained datam\n",
        "\n"
      ],
      "metadata": {
        "id": "0DBYy9VgKz6Q"
      }
    },
    {
      "cell_type": "code",
      "source": [
        "###Model 0: Getting a baseline - Skleanrs multinomial naive bayes with tf-idf\n",
        "from sklearn.feature_extraction.text import TfidfVectorizer\n",
        "from sklearn.naive_bayes import MultinomialNB\n",
        "from sklearn.pipeline import Pipeline\n",
        "\n",
        "model_0 = Pipeline([\n",
        "                    (\"tfidf\", TfidfVectorizer()), #convert words to numbers\n",
        "                    (\"clf\", MultinomialNB()) #model the text\n",
        "\n",
        "])\n",
        "\n",
        "#fit the pipeline to the training data\n",
        "model_0.fit(train_sentences, train_labels)"
      ],
      "metadata": {
        "colab": {
          "base_uri": "https://localhost:8080/"
        },
        "id": "XkOIC43piGTm",
        "outputId": "0888933b-6415-481d-8d2c-0ceb0c352bc0"
      },
      "execution_count": 30,
      "outputs": [
        {
          "output_type": "execute_result",
          "data": {
            "text/plain": [
              "Pipeline(steps=[('tfidf', TfidfVectorizer()), ('clf', MultinomialNB())])"
            ]
          },
          "metadata": {},
          "execution_count": 30
        }
      ]
    },
    {
      "cell_type": "code",
      "source": [
        "#Evaluate our baseline model\n",
        "baseline_score = model_0.score(val_sentences, val_labels)"
      ],
      "metadata": {
        "id": "O5X_siMrizGj"
      },
      "execution_count": 31,
      "outputs": []
    },
    {
      "cell_type": "code",
      "source": [
        "baseline_score"
      ],
      "metadata": {
        "colab": {
          "base_uri": "https://localhost:8080/"
        },
        "id": "6BOnGaYPi9ve",
        "outputId": "5b61496d-3ad8-491f-e15c-9138b172d2f9"
      },
      "execution_count": 32,
      "outputs": [
        {
          "output_type": "execute_result",
          "data": {
            "text/plain": [
              "0.8044619422572179"
            ]
          },
          "metadata": {},
          "execution_count": 32
        }
      ]
    },
    {
      "cell_type": "code",
      "source": [
        "print(f\"Baseline Score: {baseline_score*100:.2f}%\")"
      ],
      "metadata": {
        "colab": {
          "base_uri": "https://localhost:8080/"
        },
        "id": "7Hashe3Ii-nf",
        "outputId": "3b13b301-5a39-441b-cf29-99c6dce70d1c"
      },
      "execution_count": 33,
      "outputs": [
        {
          "output_type": "stream",
          "name": "stdout",
          "text": [
            "Baseline Score: 80.45%\n"
          ]
        }
      ]
    },
    {
      "cell_type": "code",
      "source": [
        "baseline_preds = model_0.predict(val_sentences)\n",
        "baseline_preds[:30]"
      ],
      "metadata": {
        "colab": {
          "base_uri": "https://localhost:8080/"
        },
        "id": "BEoJh2s0jJqo",
        "outputId": "8cebfd3b-7b3a-45fb-ee1a-4e73db1b2d35"
      },
      "execution_count": 34,
      "outputs": [
        {
          "output_type": "execute_result",
          "data": {
            "text/plain": [
              "array([0, 1, 1, 0, 1, 0, 0, 0, 1, 1, 0, 0, 1, 0, 0, 0, 1, 0, 1, 0, 0, 0,\n",
              "       1, 1, 0, 1, 0, 0, 1, 1])"
            ]
          },
          "metadata": {},
          "execution_count": 34
        }
      ]
    },
    {
      "cell_type": "code",
      "source": [
        "### creating an evaluation function for our modeling experiements\n",
        "#Accuracy, Precision, Recall and f1-score\n",
        "from sklearn.metrics import accuracy_score, precision_recall_fscore_support\n",
        "\n",
        "def calculate_results(y_true, y_pred):\n",
        "  \"\"\"\n",
        "  Calculate model accuracy, preicision, recall and f1-score\n",
        "  \"\"\"\n",
        "  #calculate model accuracy\n",
        "  model_accuracy = accuracy_score(y_true, y_pred) * 100\n",
        "  \n",
        "  #precision, recall and f1-score(using weighted average)\n",
        "  model_precision, model_recall, model_f1, _ = precision_recall_fscore_support(y_true, y_pred, average=\"weighted\")\n",
        "  \n",
        "  model_results = {\n",
        "      \"accuracy\": model_accuracy,\n",
        "      \"precision\": model_precision,\n",
        "      \"recall\": model_recall,\n",
        "      \"f1\": model_f1\n",
        "  }\n",
        "\n",
        "  return model_results"
      ],
      "metadata": {
        "id": "DdUR34FxjRYZ"
      },
      "execution_count": 35,
      "outputs": []
    },
    {
      "cell_type": "code",
      "source": [
        "baseline_results = calculate_results(val_labels, baseline_preds)\n",
        "baseline_results"
      ],
      "metadata": {
        "colab": {
          "base_uri": "https://localhost:8080/"
        },
        "id": "tjVdDGjnk_q_",
        "outputId": "25eac2cd-b904-42d0-973e-d19f12cc5491"
      },
      "execution_count": 36,
      "outputs": [
        {
          "output_type": "execute_result",
          "data": {
            "text/plain": [
              "{'accuracy': 80.4461942257218,\n",
              " 'f1': 0.7993754401853582,\n",
              " 'precision': 0.8113250534023555,\n",
              " 'recall': 0.8044619422572179}"
            ]
          },
          "metadata": {},
          "execution_count": 36
        }
      ]
    },
    {
      "cell_type": "code",
      "source": [
        "### Model 1: Feed Forward NN\n",
        "\n",
        "# Create tensorboard callback (need to create a new one for each model)\n",
        "from helper_functions import create_tensorboard_callback\n",
        "\n",
        "# Create directory to save TensorBoard logs\n",
        "SAVE_DIR = \"model_logs\"\n"
      ],
      "metadata": {
        "id": "Y0JBzhS5lGDW"
      },
      "execution_count": 37,
      "outputs": []
    },
    {
      "cell_type": "code",
      "source": [
        "# Build model with the Functional API\n",
        "from tensorflow.keras import layers\n",
        "inputs = layers.Input(shape=(1,), dtype=\"string\") # inputs are 1-dimensional strings\n",
        "x = text_vectorizer(inputs) # turn the input text into numbers\n",
        "x = embedding(x) # create an embedding of the numerized numbers\n",
        "x = layers.GlobalAveragePooling1D()(x) # lower the dimensionality of the embedding (try running the model without this layer and see what happens)\n",
        "outputs = layers.Dense(1, activation=\"sigmoid\")(x) # create the output layer, want binary outputs so use sigmoid activation\n",
        "model_1 = tf.keras.Model(inputs, outputs, name=\"model_1_dense\") # construct the model"
      ],
      "metadata": {
        "id": "PwSRLYpsl56K"
      },
      "execution_count": 38,
      "outputs": []
    },
    {
      "cell_type": "code",
      "source": [
        "model_1.summary()"
      ],
      "metadata": {
        "colab": {
          "base_uri": "https://localhost:8080/"
        },
        "id": "imqHX2FbmaFz",
        "outputId": "bace1ddc-9e63-40ad-cb8f-d5e07bb83c8e"
      },
      "execution_count": 39,
      "outputs": [
        {
          "output_type": "stream",
          "name": "stdout",
          "text": [
            "Model: \"model_1_dense\"\n",
            "_________________________________________________________________\n",
            " Layer (type)                Output Shape              Param #   \n",
            "=================================================================\n",
            " input_1 (InputLayer)        [(None, 1)]               0         \n",
            "                                                                 \n",
            " text_vectorization_1 (TextV  (None, 15)               0         \n",
            " ectorization)                                                   \n",
            "                                                                 \n",
            " embedding (Embedding)       (None, 15, 128)           1280000   \n",
            "                                                                 \n",
            " global_average_pooling1d (G  (None, 128)              0         \n",
            " lobalAveragePooling1D)                                          \n",
            "                                                                 \n",
            " dense (Dense)               (None, 1)                 129       \n",
            "                                                                 \n",
            "=================================================================\n",
            "Total params: 1,280,129\n",
            "Trainable params: 1,280,129\n",
            "Non-trainable params: 0\n",
            "_________________________________________________________________\n"
          ]
        }
      ]
    },
    {
      "cell_type": "code",
      "source": [
        "# Compile model\n",
        "model_1.compile(loss=\"binary_crossentropy\",\n",
        "                optimizer=tf.keras.optimizers.Adam(),\n",
        "                metrics=[\"accuracy\"])"
      ],
      "metadata": {
        "id": "fTEaytjamd00"
      },
      "execution_count": 40,
      "outputs": []
    },
    {
      "cell_type": "code",
      "source": [
        "model_1_history = model_1.fit(x=train_sentences,\n",
        "                              y=train_labels,\n",
        "                              epochs=5,\n",
        "                              validation_data=(val_sentences, val_labels),\n",
        "                              callbacks=[create_tensorboard_callback(dir_name=SAVE_DIR,\n",
        "                                                                     experiment_name=\"model_1_dense\")])"
      ],
      "metadata": {
        "colab": {
          "base_uri": "https://localhost:8080/"
        },
        "id": "unGFznThnF8F",
        "outputId": "b61a5e52-49bc-480c-d9ad-103ed48c3baf"
      },
      "execution_count": 41,
      "outputs": [
        {
          "output_type": "stream",
          "name": "stdout",
          "text": [
            "Saving TensorBoard log files to: model_logs/model_1_dense/20220729-234205\n",
            "Epoch 1/5\n",
            "215/215 [==============================] - 8s 9ms/step - loss: 0.6111 - accuracy: 0.6911 - val_loss: 0.5128 - val_accuracy: 0.7808\n",
            "Epoch 2/5\n",
            "215/215 [==============================] - 2s 7ms/step - loss: 0.4419 - accuracy: 0.8203 - val_loss: 0.4405 - val_accuracy: 0.7966\n",
            "Epoch 3/5\n",
            "215/215 [==============================] - 1s 7ms/step - loss: 0.3480 - accuracy: 0.8610 - val_loss: 0.4282 - val_accuracy: 0.8163\n",
            "Epoch 4/5\n",
            "215/215 [==============================] - 1s 7ms/step - loss: 0.2849 - accuracy: 0.8911 - val_loss: 0.4433 - val_accuracy: 0.8123\n",
            "Epoch 5/5\n",
            "215/215 [==============================] - 1s 4ms/step - loss: 0.2378 - accuracy: 0.9095 - val_loss: 0.4592 - val_accuracy: 0.7966\n"
          ]
        }
      ]
    },
    {
      "cell_type": "code",
      "source": [
        "#check the results\n",
        "model_1.evaluate(val_sentences, val_labels)"
      ],
      "metadata": {
        "colab": {
          "base_uri": "https://localhost:8080/"
        },
        "id": "Eb3VDnQUoCdn",
        "outputId": "6111bf2b-f13f-4437-be61-006e34294ada"
      },
      "execution_count": 42,
      "outputs": [
        {
          "output_type": "stream",
          "name": "stdout",
          "text": [
            "24/24 [==============================] - 0s 3ms/step - loss: 0.4592 - accuracy: 0.7966\n"
          ]
        },
        {
          "output_type": "execute_result",
          "data": {
            "text/plain": [
              "[0.45924991369247437, 0.7965879440307617]"
            ]
          },
          "metadata": {},
          "execution_count": 42
        }
      ]
    },
    {
      "cell_type": "code",
      "source": [
        "model_1_pred_probs = model_1.predict(val_sentences)\n",
        "model_1_pred_probs"
      ],
      "metadata": {
        "colab": {
          "base_uri": "https://localhost:8080/"
        },
        "id": "k6778pBuptaD",
        "outputId": "39fcde3e-3dcf-4dce-fb01-82cbe1b05c4a"
      },
      "execution_count": 43,
      "outputs": [
        {
          "output_type": "execute_result",
          "data": {
            "text/plain": [
              "array([[5.37914075e-02],\n",
              "       [6.96465015e-01],\n",
              "       [9.98150766e-01],\n",
              "       [1.31870344e-01],\n",
              "       [9.80363786e-01],\n",
              "       [6.27877936e-02],\n",
              "       [7.56874401e-03],\n",
              "       [2.02316806e-01],\n",
              "       [9.96931434e-01],\n",
              "       [9.83283162e-01],\n",
              "       [2.76331287e-02],\n",
              "       [1.86020911e-01],\n",
              "       [9.99602020e-01],\n",
              "       [5.73287122e-02],\n",
              "       [4.94151004e-02],\n",
              "       [5.44042647e-01],\n",
              "       [9.98282671e-01],\n",
              "       [2.54923612e-01],\n",
              "       [5.64044178e-01],\n",
              "       [4.28021640e-01],\n",
              "       [1.17599018e-01],\n",
              "       [3.55447173e-01],\n",
              "       [9.07391548e-01],\n",
              "       [5.72837293e-01],\n",
              "       [3.69972825e-01],\n",
              "       [9.98697639e-01],\n",
              "       [2.66075701e-01],\n",
              "       [2.93688793e-02],\n",
              "       [9.72792745e-01],\n",
              "       [9.99867082e-01],\n",
              "       [9.99240160e-01],\n",
              "       [1.98807493e-01],\n",
              "       [4.53556538e-01],\n",
              "       [3.25399749e-02],\n",
              "       [8.30826312e-02],\n",
              "       [9.65913594e-01],\n",
              "       [8.03101808e-03],\n",
              "       [4.13990647e-01],\n",
              "       [3.88534069e-01],\n",
              "       [5.04221842e-02],\n",
              "       [3.87357444e-01],\n",
              "       [9.53491449e-01],\n",
              "       [9.29675162e-01],\n",
              "       [3.49604696e-01],\n",
              "       [4.60839504e-03],\n",
              "       [4.70941775e-02],\n",
              "       [2.23975539e-01],\n",
              "       [9.97881949e-01],\n",
              "       [2.22982049e-01],\n",
              "       [2.64112264e-01],\n",
              "       [3.87471378e-01],\n",
              "       [9.68872309e-01],\n",
              "       [3.63440752e-01],\n",
              "       [2.02839002e-01],\n",
              "       [1.75016001e-01],\n",
              "       [7.23183947e-03],\n",
              "       [1.40094623e-01],\n",
              "       [1.41358107e-01],\n",
              "       [6.68553233e-01],\n",
              "       [9.44929838e-01],\n",
              "       [2.51467705e-01],\n",
              "       [7.49970451e-02],\n",
              "       [9.44560945e-01],\n",
              "       [9.99035239e-01],\n",
              "       [2.15183198e-02],\n",
              "       [9.99383211e-01],\n",
              "       [1.18156560e-01],\n",
              "       [9.73914385e-01],\n",
              "       [3.36680502e-01],\n",
              "       [4.86984029e-02],\n",
              "       [2.54753858e-01],\n",
              "       [1.20925926e-01],\n",
              "       [1.28258467e-01],\n",
              "       [3.01382214e-01],\n",
              "       [1.99909419e-01],\n",
              "       [9.69513595e-01],\n",
              "       [7.13911831e-01],\n",
              "       [9.99063075e-01],\n",
              "       [9.99278963e-01],\n",
              "       [9.67466414e-01],\n",
              "       [1.35808125e-01],\n",
              "       [1.08728506e-01],\n",
              "       [5.31568348e-01],\n",
              "       [8.41411352e-01],\n",
              "       [4.35697198e-01],\n",
              "       [7.11110771e-01],\n",
              "       [2.51129381e-02],\n",
              "       [9.72103536e-01],\n",
              "       [2.06495970e-01],\n",
              "       [8.28682110e-02],\n",
              "       [1.03027157e-01],\n",
              "       [2.58152694e-01],\n",
              "       [2.45300587e-02],\n",
              "       [4.16744687e-02],\n",
              "       [9.82594311e-01],\n",
              "       [9.96344239e-02],\n",
              "       [5.61379373e-01],\n",
              "       [5.16440094e-01],\n",
              "       [2.75628626e-01],\n",
              "       [8.25845748e-02],\n",
              "       [1.57451108e-01],\n",
              "       [2.54119962e-01],\n",
              "       [9.41648602e-01],\n",
              "       [4.67280261e-02],\n",
              "       [8.80703628e-02],\n",
              "       [7.15917200e-02],\n",
              "       [6.28561854e-01],\n",
              "       [6.55917153e-02],\n",
              "       [2.64653265e-01],\n",
              "       [1.72317222e-01],\n",
              "       [3.98273766e-02],\n",
              "       [8.40875685e-01],\n",
              "       [9.63235199e-01],\n",
              "       [2.94678420e-01],\n",
              "       [3.05076782e-02],\n",
              "       [5.71772337e-01],\n",
              "       [8.81705523e-01],\n",
              "       [9.70596135e-01],\n",
              "       [9.97765899e-01],\n",
              "       [4.46850479e-01],\n",
              "       [9.96674895e-01],\n",
              "       [1.35559425e-01],\n",
              "       [9.98372376e-01],\n",
              "       [9.97227132e-01],\n",
              "       [1.33910403e-02],\n",
              "       [5.46584427e-01],\n",
              "       [9.75589693e-01],\n",
              "       [4.76354480e-01],\n",
              "       [9.99389052e-01],\n",
              "       [8.86635959e-01],\n",
              "       [3.11240375e-01],\n",
              "       [9.71273124e-01],\n",
              "       [3.59540701e-01],\n",
              "       [6.34877086e-02],\n",
              "       [9.54945087e-01],\n",
              "       [1.32532939e-01],\n",
              "       [4.34705436e-01],\n",
              "       [9.99833345e-01],\n",
              "       [9.99833941e-01],\n",
              "       [2.24058509e-01],\n",
              "       [2.98354514e-02],\n",
              "       [8.90116274e-01],\n",
              "       [9.29452300e-01],\n",
              "       [8.19022417e-01],\n",
              "       [4.49630231e-01],\n",
              "       [9.01640594e-01],\n",
              "       [6.53997660e-01],\n",
              "       [1.83490608e-02],\n",
              "       [3.63668770e-01],\n",
              "       [8.33863299e-03],\n",
              "       [9.95202303e-01],\n",
              "       [4.75456327e-01],\n",
              "       [4.30002296e-03],\n",
              "       [9.50689554e-01],\n",
              "       [5.98317049e-02],\n",
              "       [7.93480352e-02],\n",
              "       [1.01990789e-01],\n",
              "       [4.94767815e-01],\n",
              "       [9.40291882e-01],\n",
              "       [3.67458910e-01],\n",
              "       [9.58654225e-01],\n",
              "       [9.97071028e-01],\n",
              "       [8.02532554e-01],\n",
              "       [1.01915523e-01],\n",
              "       [6.34973645e-02],\n",
              "       [3.53886217e-01],\n",
              "       [2.74476498e-01],\n",
              "       [2.62747407e-02],\n",
              "       [5.45056239e-02],\n",
              "       [6.77814484e-01],\n",
              "       [9.77311790e-01],\n",
              "       [2.92277306e-01],\n",
              "       [7.35069960e-02],\n",
              "       [9.48021282e-03],\n",
              "       [3.74009877e-01],\n",
              "       [4.90452871e-02],\n",
              "       [9.41303432e-01],\n",
              "       [8.82578135e-01],\n",
              "       [1.54860895e-02],\n",
              "       [8.52549613e-01],\n",
              "       [7.32772499e-02],\n",
              "       [8.23256612e-01],\n",
              "       [3.82714570e-02],\n",
              "       [5.10977089e-01],\n",
              "       [4.20360476e-01],\n",
              "       [2.49175765e-02],\n",
              "       [9.99271691e-01],\n",
              "       [7.84580112e-01],\n",
              "       [5.50194442e-01],\n",
              "       [1.00688525e-01],\n",
              "       [1.63974182e-03],\n",
              "       [2.86799282e-01],\n",
              "       [6.15136087e-01],\n",
              "       [7.76601657e-02],\n",
              "       [2.88034022e-01],\n",
              "       [2.41070598e-01],\n",
              "       [9.98192489e-01],\n",
              "       [6.16011143e-01],\n",
              "       [4.89826947e-01],\n",
              "       [8.07856470e-02],\n",
              "       [1.19439654e-01],\n",
              "       [9.99213457e-01],\n",
              "       [2.25176150e-03],\n",
              "       [3.55158448e-02],\n",
              "       [2.60683186e-02],\n",
              "       [9.14067447e-01],\n",
              "       [1.93945933e-02],\n",
              "       [5.12905657e-01],\n",
              "       [9.92418528e-01],\n",
              "       [8.95660929e-03],\n",
              "       [5.24572171e-02],\n",
              "       [5.36048301e-02],\n",
              "       [2.49580458e-01],\n",
              "       [4.72957343e-01],\n",
              "       [8.50236937e-02],\n",
              "       [9.49446023e-01],\n",
              "       [7.75408149e-01],\n",
              "       [7.61431083e-02],\n",
              "       [9.81032431e-01],\n",
              "       [6.65131092e-01],\n",
              "       [9.22808826e-01],\n",
              "       [3.94615307e-02],\n",
              "       [9.73888516e-01],\n",
              "       [1.75906673e-01],\n",
              "       [1.00855134e-01],\n",
              "       [1.06823862e-01],\n",
              "       [7.61267304e-01],\n",
              "       [9.97017026e-01],\n",
              "       [1.28870592e-01],\n",
              "       [5.15135527e-02],\n",
              "       [9.45315838e-01],\n",
              "       [8.02330434e-01],\n",
              "       [1.13556311e-02],\n",
              "       [8.94998908e-01],\n",
              "       [9.36272025e-01],\n",
              "       [6.12197936e-01],\n",
              "       [3.92146051e-01],\n",
              "       [1.60590317e-02],\n",
              "       [9.98020411e-01],\n",
              "       [2.92277306e-01],\n",
              "       [9.65396389e-02],\n",
              "       [1.74479246e-01],\n",
              "       [1.02502080e-02],\n",
              "       [2.48844594e-01],\n",
              "       [1.34119421e-01],\n",
              "       [2.80197076e-02],\n",
              "       [5.90476274e-01],\n",
              "       [9.25513636e-03],\n",
              "       [8.74133289e-01],\n",
              "       [3.83005023e-01],\n",
              "       [9.02291656e-01],\n",
              "       [6.39371216e-01],\n",
              "       [1.50825202e-01],\n",
              "       [5.93593195e-02],\n",
              "       [1.64770991e-01],\n",
              "       [1.47749022e-01],\n",
              "       [1.05105557e-01],\n",
              "       [1.09721906e-02],\n",
              "       [4.31411743e-01],\n",
              "       [8.82573724e-01],\n",
              "       [4.63194475e-02],\n",
              "       [9.93577957e-01],\n",
              "       [4.54913639e-02],\n",
              "       [7.76890805e-03],\n",
              "       [9.99558032e-01],\n",
              "       [2.84141690e-01],\n",
              "       [1.88190907e-01],\n",
              "       [1.03312463e-01],\n",
              "       [3.67918819e-01],\n",
              "       [9.16011393e-01],\n",
              "       [3.08470905e-01],\n",
              "       [8.22993834e-03],\n",
              "       [9.78850722e-01],\n",
              "       [1.84058756e-01],\n",
              "       [6.56194687e-01],\n",
              "       [9.87244308e-01],\n",
              "       [9.99842167e-01],\n",
              "       [4.66043353e-01],\n",
              "       [7.52091169e-01],\n",
              "       [7.62044936e-02],\n",
              "       [9.90510643e-01],\n",
              "       [3.73409778e-01],\n",
              "       [5.68379521e-01],\n",
              "       [1.63786545e-01],\n",
              "       [9.95961964e-01],\n",
              "       [5.41523099e-01],\n",
              "       [3.67833525e-01],\n",
              "       [8.65395188e-01],\n",
              "       [8.08550060e-01],\n",
              "       [8.37028146e-01],\n",
              "       [9.04843062e-02],\n",
              "       [2.92277306e-01],\n",
              "       [1.66743904e-01],\n",
              "       [6.73204303e-01],\n",
              "       [2.21750110e-01],\n",
              "       [9.85355258e-01],\n",
              "       [4.18372840e-01],\n",
              "       [4.15114582e-01],\n",
              "       [5.94253480e-01],\n",
              "       [9.99730647e-01],\n",
              "       [9.34988439e-01],\n",
              "       [5.96658513e-02],\n",
              "       [9.65681970e-01],\n",
              "       [9.98511612e-01],\n",
              "       [4.72095162e-01],\n",
              "       [9.38868746e-02],\n",
              "       [1.71745956e-01],\n",
              "       [3.99142087e-01],\n",
              "       [9.13089812e-01],\n",
              "       [8.97868335e-01],\n",
              "       [1.99430928e-01],\n",
              "       [2.20452696e-01],\n",
              "       [1.85418911e-02],\n",
              "       [4.31964993e-01],\n",
              "       [1.10492952e-01],\n",
              "       [7.69655406e-02],\n",
              "       [9.10783648e-01],\n",
              "       [2.28376180e-01],\n",
              "       [4.32549983e-01],\n",
              "       [2.44010873e-02],\n",
              "       [9.58191156e-01],\n",
              "       [2.42857873e-01],\n",
              "       [7.26541817e-01],\n",
              "       [8.12857330e-01],\n",
              "       [2.77756769e-02],\n",
              "       [2.62627542e-01],\n",
              "       [9.99465168e-01],\n",
              "       [9.62589979e-01],\n",
              "       [2.51254141e-01],\n",
              "       [3.02758306e-01],\n",
              "       [9.95202303e-01],\n",
              "       [6.07636750e-01],\n",
              "       [1.77251145e-01],\n",
              "       [1.24615602e-01],\n",
              "       [1.99458092e-01],\n",
              "       [6.18125200e-02],\n",
              "       [1.44245803e-01],\n",
              "       [2.00771838e-01],\n",
              "       [5.37520722e-02],\n",
              "       [4.32536080e-02],\n",
              "       [6.69594765e-01],\n",
              "       [9.97054100e-01],\n",
              "       [1.14219390e-01],\n",
              "       [8.98159087e-01],\n",
              "       [5.15881896e-01],\n",
              "       [3.66896577e-02],\n",
              "       [3.35751951e-01],\n",
              "       [2.20640659e-01],\n",
              "       [9.96326387e-01],\n",
              "       [8.00151110e-01],\n",
              "       [8.47399458e-02],\n",
              "       [9.90085959e-01],\n",
              "       [6.78001165e-01],\n",
              "       [1.16447933e-01],\n",
              "       [6.66376948e-02],\n",
              "       [1.95442304e-01],\n",
              "       [2.51599580e-01],\n",
              "       [2.47061655e-01],\n",
              "       [6.66785240e-01],\n",
              "       [9.52012420e-01],\n",
              "       [6.56194687e-01],\n",
              "       [2.36505985e-01],\n",
              "       [9.26373005e-02],\n",
              "       [1.77703828e-01],\n",
              "       [9.96578276e-01],\n",
              "       [9.90277469e-01],\n",
              "       [9.51780319e-01],\n",
              "       [6.86883628e-01],\n",
              "       [2.52844751e-01],\n",
              "       [4.30609286e-01],\n",
              "       [6.30479991e-01],\n",
              "       [2.69104689e-02],\n",
              "       [9.98115540e-01],\n",
              "       [9.93513048e-01],\n",
              "       [1.71419308e-01],\n",
              "       [1.36740640e-01],\n",
              "       [2.72269309e-01],\n",
              "       [1.08909652e-01],\n",
              "       [9.26606417e-01],\n",
              "       [9.96995211e-01],\n",
              "       [9.79906738e-01],\n",
              "       [3.64724882e-02],\n",
              "       [1.69480089e-02],\n",
              "       [5.11228442e-01],\n",
              "       [9.97054100e-01],\n",
              "       [8.63223523e-02],\n",
              "       [9.56457973e-01],\n",
              "       [9.99867797e-01],\n",
              "       [1.47496641e-01],\n",
              "       [9.84678924e-01],\n",
              "       [9.89133298e-01],\n",
              "       [6.86281443e-01],\n",
              "       [1.47605896e-01],\n",
              "       [1.17674835e-01],\n",
              "       [7.05668842e-03],\n",
              "       [1.97024234e-02],\n",
              "       [7.75997818e-01],\n",
              "       [9.92887676e-01],\n",
              "       [3.80593926e-01],\n",
              "       [5.32469973e-02],\n",
              "       [1.13590360e-02],\n",
              "       [5.77953532e-02],\n",
              "       [9.57541540e-02],\n",
              "       [7.02096581e-01],\n",
              "       [9.53102410e-01],\n",
              "       [4.22489822e-01],\n",
              "       [9.29205585e-03],\n",
              "       [3.60362753e-02],\n",
              "       [3.15258086e-01],\n",
              "       [2.66534239e-01],\n",
              "       [2.61693686e-01],\n",
              "       [3.87486130e-01],\n",
              "       [9.96489167e-01],\n",
              "       [2.42022663e-01],\n",
              "       [9.17028114e-02],\n",
              "       [1.28069907e-01],\n",
              "       [5.81680179e-01],\n",
              "       [3.58816981e-01],\n",
              "       [9.98511612e-01],\n",
              "       [8.92223179e-01],\n",
              "       [5.00461906e-02],\n",
              "       [2.60145515e-01],\n",
              "       [9.81004760e-02],\n",
              "       [9.89805222e-01],\n",
              "       [1.30103037e-01],\n",
              "       [2.11985216e-01],\n",
              "       [7.88656414e-01],\n",
              "       [9.30177495e-02],\n",
              "       [6.37737885e-02],\n",
              "       [5.04756153e-01],\n",
              "       [9.14492607e-01],\n",
              "       [3.86087358e-01],\n",
              "       [2.96260476e-01],\n",
              "       [4.35792387e-01],\n",
              "       [6.45435929e-01],\n",
              "       [9.25439775e-01],\n",
              "       [9.80982840e-01],\n",
              "       [8.21727514e-01],\n",
              "       [4.28003311e-01],\n",
              "       [2.49033391e-01],\n",
              "       [2.40679875e-01],\n",
              "       [8.51521909e-01],\n",
              "       [4.91282493e-02],\n",
              "       [6.54802978e-01],\n",
              "       [2.83053428e-01],\n",
              "       [4.33766752e-01],\n",
              "       [3.99474859e-01],\n",
              "       [2.98973262e-01],\n",
              "       [3.16908300e-01],\n",
              "       [9.84613180e-01],\n",
              "       [2.60492891e-01],\n",
              "       [5.14988780e-01],\n",
              "       [6.73561513e-01],\n",
              "       [2.89359778e-01],\n",
              "       [1.65488571e-01],\n",
              "       [6.02295160e-01],\n",
              "       [9.96342719e-01],\n",
              "       [3.24130118e-01],\n",
              "       [5.69187641e-01],\n",
              "       [8.60536397e-01],\n",
              "       [4.83869612e-02],\n",
              "       [8.07707667e-01],\n",
              "       [4.60514911e-02],\n",
              "       [7.58890331e-01],\n",
              "       [7.85692811e-01],\n",
              "       [4.08678390e-02],\n",
              "       [3.15630138e-01],\n",
              "       [6.19228423e-01],\n",
              "       [5.11228442e-01],\n",
              "       [4.28104885e-02],\n",
              "       [7.92733788e-01],\n",
              "       [1.84767619e-02],\n",
              "       [6.91162571e-02],\n",
              "       [6.11593872e-02],\n",
              "       [7.06552505e-01],\n",
              "       [1.94378093e-01],\n",
              "       [9.85828996e-01],\n",
              "       [7.92701449e-03],\n",
              "       [1.87184274e-01],\n",
              "       [9.99645114e-01],\n",
              "       [1.83985785e-01],\n",
              "       [7.10126534e-02],\n",
              "       [6.10774942e-02],\n",
              "       [8.51103008e-01],\n",
              "       [4.96457338e-01],\n",
              "       [6.34985566e-01],\n",
              "       [2.06958987e-02],\n",
              "       [7.21419305e-02],\n",
              "       [6.05273902e-01],\n",
              "       [7.75025343e-04],\n",
              "       [7.76120946e-02],\n",
              "       [9.80295002e-01],\n",
              "       [9.30846393e-01],\n",
              "       [1.36544868e-01],\n",
              "       [2.78499007e-01],\n",
              "       [9.20567214e-01],\n",
              "       [8.44884992e-01],\n",
              "       [3.55653554e-01],\n",
              "       [6.83325946e-01],\n",
              "       [6.52690172e-01],\n",
              "       [9.99317288e-01],\n",
              "       [4.85272892e-02],\n",
              "       [1.00175485e-01],\n",
              "       [1.47682871e-03],\n",
              "       [9.02084351e-01],\n",
              "       [1.01942634e-02],\n",
              "       [6.20588958e-01],\n",
              "       [9.79207456e-01],\n",
              "       [8.11424851e-01],\n",
              "       [4.36684281e-01],\n",
              "       [9.99589622e-01],\n",
              "       [7.71224499e-02],\n",
              "       [5.28354704e-01],\n",
              "       [8.74736458e-02],\n",
              "       [1.40496880e-01],\n",
              "       [9.99701202e-01],\n",
              "       [9.81899738e-01],\n",
              "       [2.18908072e-01],\n",
              "       [4.12283421e-01],\n",
              "       [2.19972685e-01],\n",
              "       [9.99826014e-01],\n",
              "       [2.04593688e-02],\n",
              "       [1.83971509e-01],\n",
              "       [1.08728506e-01],\n",
              "       [2.10937157e-01],\n",
              "       [1.32159472e-01],\n",
              "       [9.26216841e-01],\n",
              "       [2.41978645e-01],\n",
              "       [6.55236989e-02],\n",
              "       [9.97148812e-01],\n",
              "       [1.39477208e-01],\n",
              "       [5.13447868e-03],\n",
              "       [9.96559799e-01],\n",
              "       [1.36543110e-01],\n",
              "       [6.18712641e-02],\n",
              "       [9.87360537e-01],\n",
              "       [4.35503453e-01],\n",
              "       [9.58285153e-01],\n",
              "       [9.99024153e-01],\n",
              "       [6.46031201e-01],\n",
              "       [4.41692844e-02],\n",
              "       [9.41722512e-01],\n",
              "       [2.16741890e-01],\n",
              "       [6.37129694e-03],\n",
              "       [9.60235834e-01],\n",
              "       [4.69641164e-02],\n",
              "       [1.21690176e-01],\n",
              "       [1.62972033e-01],\n",
              "       [5.79299748e-01],\n",
              "       [1.29709899e-01],\n",
              "       [1.47729106e-02],\n",
              "       [9.99646544e-01],\n",
              "       [9.99532580e-01],\n",
              "       [9.63398755e-01],\n",
              "       [7.46434450e-01],\n",
              "       [8.57376993e-01],\n",
              "       [9.60285008e-01],\n",
              "       [8.76294613e-01],\n",
              "       [4.32111442e-01],\n",
              "       [6.44192994e-01],\n",
              "       [8.41723263e-01],\n",
              "       [3.25521618e-01],\n",
              "       [8.15728843e-01],\n",
              "       [9.02387500e-02],\n",
              "       [1.25736361e-02],\n",
              "       [1.63582087e-01],\n",
              "       [4.76710312e-02],\n",
              "       [9.66095805e-01],\n",
              "       [6.02945089e-02],\n",
              "       [1.28811732e-01],\n",
              "       [8.83433640e-01],\n",
              "       [1.86087127e-04],\n",
              "       [7.92224646e-01],\n",
              "       [1.04171440e-01],\n",
              "       [4.23002362e-01],\n",
              "       [9.99317288e-01],\n",
              "       [4.90159057e-02],\n",
              "       [9.41722512e-01],\n",
              "       [9.99240160e-01],\n",
              "       [1.41626701e-01],\n",
              "       [8.77627373e-01],\n",
              "       [9.92887676e-01],\n",
              "       [9.12987649e-01],\n",
              "       [3.46782446e-01],\n",
              "       [5.63239336e-01],\n",
              "       [2.92402595e-01],\n",
              "       [1.14836901e-01],\n",
              "       [1.37377515e-01],\n",
              "       [9.96164203e-01],\n",
              "       [9.94252086e-01],\n",
              "       [2.53518701e-01],\n",
              "       [7.02666581e-01],\n",
              "       [9.43919599e-01],\n",
              "       [4.57725555e-01],\n",
              "       [8.47281575e-01],\n",
              "       [1.66619152e-01],\n",
              "       [7.38383234e-01],\n",
              "       [3.93452466e-01],\n",
              "       [1.11083977e-01],\n",
              "       [1.46627054e-01],\n",
              "       [9.85129178e-02],\n",
              "       [9.88976121e-01],\n",
              "       [9.99383211e-01],\n",
              "       [9.00455654e-01],\n",
              "       [5.16360283e-01],\n",
              "       [1.83109611e-01],\n",
              "       [2.03897357e-01],\n",
              "       [3.80494684e-01],\n",
              "       [7.68952608e-01],\n",
              "       [9.37055238e-03],\n",
              "       [7.38057971e-01],\n",
              "       [5.35363853e-01],\n",
              "       [6.99523151e-01],\n",
              "       [1.90057829e-01],\n",
              "       [2.69633904e-03],\n",
              "       [1.22971602e-01],\n",
              "       [2.78817594e-01],\n",
              "       [3.59779932e-02],\n",
              "       [9.29210246e-01],\n",
              "       [3.25263619e-01],\n",
              "       [4.03005749e-01],\n",
              "       [2.80109435e-01],\n",
              "       [2.95079648e-01],\n",
              "       [3.60591151e-03],\n",
              "       [9.99339640e-01],\n",
              "       [1.12286501e-01],\n",
              "       [6.08836174e-01],\n",
              "       [9.98487115e-01],\n",
              "       [9.90994632e-01],\n",
              "       [3.44773322e-01],\n",
              "       [1.44079670e-01],\n",
              "       [7.33998656e-01],\n",
              "       [8.83448064e-01],\n",
              "       [6.89547241e-01],\n",
              "       [2.66175270e-01],\n",
              "       [1.70752302e-01],\n",
              "       [6.22421324e-01],\n",
              "       [2.68309027e-01],\n",
              "       [1.12119906e-01],\n",
              "       [2.59511888e-01],\n",
              "       [8.91708612e-01],\n",
              "       [8.18928182e-02],\n",
              "       [8.04017931e-02],\n",
              "       [6.49242282e-01],\n",
              "       [3.06895643e-01],\n",
              "       [9.97057319e-01],\n",
              "       [2.14554459e-01],\n",
              "       [5.49258828e-01],\n",
              "       [7.39514902e-02],\n",
              "       [1.05664544e-02],\n",
              "       [4.61050540e-01],\n",
              "       [6.52690172e-01],\n",
              "       [2.47926638e-02],\n",
              "       [4.78226632e-01],\n",
              "       [5.32102644e-01],\n",
              "       [2.37645596e-01],\n",
              "       [7.71355271e-01],\n",
              "       [9.99933958e-01],\n",
              "       [9.99903917e-01],\n",
              "       [3.40795517e-01],\n",
              "       [9.00713325e-01],\n",
              "       [4.61176299e-02],\n",
              "       [3.16908300e-01],\n",
              "       [3.08499217e-01],\n",
              "       [5.08915961e-01],\n",
              "       [5.45654073e-02],\n",
              "       [5.17911464e-02],\n",
              "       [4.62749988e-01],\n",
              "       [3.70634854e-01],\n",
              "       [9.86974001e-01],\n",
              "       [7.18738139e-01],\n",
              "       [9.98804450e-01],\n",
              "       [1.55815527e-01],\n",
              "       [3.62112448e-02],\n",
              "       [9.29194540e-02],\n",
              "       [5.85846342e-02],\n",
              "       [4.41227376e-01],\n",
              "       [9.99470413e-01],\n",
              "       [9.97252285e-01],\n",
              "       [3.71160470e-02],\n",
              "       [5.07901669e-01],\n",
              "       [3.26289743e-01],\n",
              "       [7.33734146e-02],\n",
              "       [1.96927786e-01],\n",
              "       [6.88488901e-01],\n",
              "       [1.08504537e-02],\n",
              "       [5.87512314e-01],\n",
              "       [1.94223836e-01],\n",
              "       [5.52096546e-01],\n",
              "       [9.78310347e-01],\n",
              "       [3.74619782e-01],\n",
              "       [5.93776405e-01],\n",
              "       [1.70380905e-01],\n",
              "       [5.06661594e-01],\n",
              "       [1.21793523e-01],\n",
              "       [9.99736845e-01],\n",
              "       [5.45654073e-02],\n",
              "       [1.84646934e-01],\n",
              "       [2.16677800e-01],\n",
              "       [3.65128875e-01],\n",
              "       [2.41437957e-01],\n",
              "       [2.02760950e-01],\n",
              "       [8.53083283e-02],\n",
              "       [1.89953551e-01],\n",
              "       [6.08105183e-01],\n",
              "       [1.94789827e-01],\n",
              "       [2.90205777e-01],\n",
              "       [6.57369077e-01],\n",
              "       [9.50448394e-01],\n",
              "       [9.01217759e-01],\n",
              "       [6.89810365e-02],\n",
              "       [8.03114921e-02],\n",
              "       [9.98150766e-01],\n",
              "       [4.24063116e-01],\n",
              "       [8.74663413e-01],\n",
              "       [1.97013766e-01],\n",
              "       [3.76372784e-02],\n",
              "       [4.96589839e-02],\n",
              "       [3.15080255e-01],\n",
              "       [8.90557289e-01],\n",
              "       [9.98266399e-01],\n",
              "       [2.47704059e-01],\n",
              "       [9.96826172e-01],\n",
              "       [6.52690172e-01],\n",
              "       [1.97943762e-01],\n",
              "       [5.03868103e-01],\n",
              "       [1.32198051e-01],\n",
              "       [4.25221547e-02],\n",
              "       [2.26580709e-01],\n",
              "       [4.59870398e-01],\n",
              "       [3.52981657e-01],\n",
              "       [7.92756021e-01],\n",
              "       [9.34647679e-01],\n",
              "       [2.79712886e-01],\n",
              "       [9.77796987e-02],\n",
              "       [9.35838878e-01],\n",
              "       [8.19160342e-01],\n",
              "       [2.57150859e-01],\n",
              "       [1.44305989e-01],\n",
              "       [4.73081052e-01],\n",
              "       [9.80449677e-01],\n",
              "       [9.18835253e-02],\n",
              "       [7.81708002e-01],\n",
              "       [3.31429727e-02],\n",
              "       [9.12524983e-02],\n",
              "       [2.40887046e-01],\n",
              "       [6.81888998e-01],\n",
              "       [1.88293252e-02],\n",
              "       [2.62798388e-02],\n",
              "       [3.08424592e-01],\n",
              "       [9.99349654e-01],\n",
              "       [9.92824316e-01],\n",
              "       [9.99185979e-01],\n",
              "       [2.75926441e-01],\n",
              "       [1.17389888e-01],\n",
              "       [1.12955747e-02],\n",
              "       [7.30771661e-01],\n",
              "       [9.77907062e-01],\n",
              "       [6.89274222e-02],\n",
              "       [9.83212769e-01],\n",
              "       [9.99701202e-01],\n",
              "       [3.42056379e-02]], dtype=float32)"
            ]
          },
          "metadata": {},
          "execution_count": 43
        }
      ]
    },
    {
      "cell_type": "code",
      "source": [
        "model_1_pred_probs[0]"
      ],
      "metadata": {
        "colab": {
          "base_uri": "https://localhost:8080/"
        },
        "id": "lO_6RbS5p0hl",
        "outputId": "ad312e95-caa0-4690-f035-16ffdbed284b"
      },
      "execution_count": 44,
      "outputs": [
        {
          "output_type": "execute_result",
          "data": {
            "text/plain": [
              "array([0.05379141], dtype=float32)"
            ]
          },
          "metadata": {},
          "execution_count": 44
        }
      ]
    },
    {
      "cell_type": "code",
      "source": [
        "model_1_pred_probs.shape"
      ],
      "metadata": {
        "colab": {
          "base_uri": "https://localhost:8080/"
        },
        "id": "Np19ljwYp2bG",
        "outputId": "50f7cb24-538c-4489-8c91-cd4cbe296573"
      },
      "execution_count": 45,
      "outputs": [
        {
          "output_type": "execute_result",
          "data": {
            "text/plain": [
              "(762, 1)"
            ]
          },
          "metadata": {},
          "execution_count": 45
        }
      ]
    },
    {
      "cell_type": "code",
      "source": [
        "model_1_pred_probs[:10]"
      ],
      "metadata": {
        "colab": {
          "base_uri": "https://localhost:8080/"
        },
        "id": "FEe-BvFHp6fc",
        "outputId": "2dee4dce-bcd5-491f-d761-6383830b5d6e"
      },
      "execution_count": 46,
      "outputs": [
        {
          "output_type": "execute_result",
          "data": {
            "text/plain": [
              "array([[0.05379141],\n",
              "       [0.696465  ],\n",
              "       [0.99815077],\n",
              "       [0.13187034],\n",
              "       [0.9803638 ],\n",
              "       [0.06278779],\n",
              "       [0.00756874],\n",
              "       [0.2023168 ],\n",
              "       [0.99693143],\n",
              "       [0.98328316]], dtype=float32)"
            ]
          },
          "metadata": {},
          "execution_count": 46
        }
      ]
    },
    {
      "cell_type": "code",
      "source": [
        "model_1_preds = tf.squeeze(tf.round(model_1_pred_probs))\n",
        "model_1_preds"
      ],
      "metadata": {
        "colab": {
          "base_uri": "https://localhost:8080/"
        },
        "id": "mDgsBmSZqyqX",
        "outputId": "e883c2a9-7fe3-4e07-9d91-8ed72f39831f"
      },
      "execution_count": 47,
      "outputs": [
        {
          "output_type": "execute_result",
          "data": {
            "text/plain": [
              "<tf.Tensor: shape=(762,), dtype=float32, numpy=\n",
              "array([0., 1., 1., 0., 1., 0., 0., 0., 1., 1., 0., 0., 1., 0., 0., 1., 1.,\n",
              "       0., 1., 0., 0., 0., 1., 1., 0., 1., 0., 0., 1., 1., 1., 0., 0., 0.,\n",
              "       0., 1., 0., 0., 0., 0., 0., 1., 1., 0., 0., 0., 0., 1., 0., 0., 0.,\n",
              "       1., 0., 0., 0., 0., 0., 0., 1., 1., 0., 0., 1., 1., 0., 1., 0., 1.,\n",
              "       0., 0., 0., 0., 0., 0., 0., 1., 1., 1., 1., 1., 0., 0., 1., 1., 0.,\n",
              "       1., 0., 1., 0., 0., 0., 0., 0., 0., 1., 0., 1., 1., 0., 0., 0., 0.,\n",
              "       1., 0., 0., 0., 1., 0., 0., 0., 0., 1., 1., 0., 0., 1., 1., 1., 1.,\n",
              "       0., 1., 0., 1., 1., 0., 1., 1., 0., 1., 1., 0., 1., 0., 0., 1., 0.,\n",
              "       0., 1., 1., 0., 0., 1., 1., 1., 0., 1., 1., 0., 0., 0., 1., 0., 0.,\n",
              "       1., 0., 0., 0., 0., 1., 0., 1., 1., 1., 0., 0., 0., 0., 0., 0., 1.,\n",
              "       1., 0., 0., 0., 0., 0., 1., 1., 0., 1., 0., 1., 0., 1., 0., 0., 1.,\n",
              "       1., 1., 0., 0., 0., 1., 0., 0., 0., 1., 1., 0., 0., 0., 1., 0., 0.,\n",
              "       0., 1., 0., 1., 1., 0., 0., 0., 0., 0., 0., 1., 1., 0., 1., 1., 1.,\n",
              "       0., 1., 0., 0., 0., 1., 1., 0., 0., 1., 1., 0., 1., 1., 1., 0., 0.,\n",
              "       1., 0., 0., 0., 0., 0., 0., 0., 1., 0., 1., 0., 1., 1., 0., 0., 0.,\n",
              "       0., 0., 0., 0., 1., 0., 1., 0., 0., 1., 0., 0., 0., 0., 1., 0., 0.,\n",
              "       1., 0., 1., 1., 1., 0., 1., 0., 1., 0., 1., 0., 1., 1., 0., 1., 1.,\n",
              "       1., 0., 0., 0., 1., 0., 1., 0., 0., 1., 1., 1., 0., 1., 1., 0., 0.,\n",
              "       0., 0., 1., 1., 0., 0., 0., 0., 0., 0., 1., 0., 0., 0., 1., 0., 1.,\n",
              "       1., 0., 0., 1., 1., 0., 0., 1., 1., 0., 0., 0., 0., 0., 0., 0., 0.,\n",
              "       1., 1., 0., 1., 1., 0., 0., 0., 1., 1., 0., 1., 1., 0., 0., 0., 0.,\n",
              "       0., 1., 1., 1., 0., 0., 0., 1., 1., 1., 1., 0., 0., 1., 0., 1., 1.,\n",
              "       0., 0., 0., 0., 1., 1., 1., 0., 0., 1., 1., 0., 1., 1., 0., 1., 1.,\n",
              "       1., 0., 0., 0., 0., 1., 1., 0., 0., 0., 0., 0., 1., 1., 0., 0., 0.,\n",
              "       0., 0., 0., 0., 1., 0., 0., 0., 1., 0., 1., 1., 0., 0., 0., 1., 0.,\n",
              "       0., 1., 0., 0., 1., 1., 0., 0., 0., 1., 1., 1., 1., 0., 0., 0., 1.,\n",
              "       0., 1., 0., 0., 0., 0., 0., 1., 0., 1., 1., 0., 0., 1., 1., 0., 1.,\n",
              "       1., 0., 1., 0., 1., 1., 0., 0., 1., 1., 0., 1., 0., 0., 0., 1., 0.,\n",
              "       1., 0., 0., 1., 0., 0., 0., 1., 0., 1., 0., 0., 1., 0., 0., 1., 1.,\n",
              "       0., 0., 1., 1., 0., 1., 1., 1., 0., 0., 0., 1., 0., 1., 1., 1., 0.,\n",
              "       1., 0., 1., 0., 0., 1., 1., 0., 0., 0., 1., 0., 0., 0., 0., 0., 1.,\n",
              "       0., 0., 1., 0., 0., 1., 0., 0., 1., 0., 1., 1., 1., 0., 1., 0., 0.,\n",
              "       1., 0., 0., 0., 1., 0., 0., 1., 1., 1., 1., 1., 1., 1., 0., 1., 1.,\n",
              "       0., 1., 0., 0., 0., 0., 1., 0., 0., 1., 0., 1., 0., 0., 1., 0., 1.,\n",
              "       1., 0., 1., 1., 1., 0., 1., 0., 0., 0., 1., 1., 0., 1., 1., 0., 1.,\n",
              "       0., 1., 0., 0., 0., 0., 1., 1., 1., 1., 0., 0., 0., 1., 0., 1., 1.,\n",
              "       1., 0., 0., 0., 0., 0., 1., 0., 0., 0., 0., 0., 1., 0., 1., 1., 1.,\n",
              "       0., 0., 1., 1., 1., 0., 0., 1., 0., 0., 0., 1., 0., 0., 1., 0., 1.,\n",
              "       0., 1., 0., 0., 0., 1., 0., 0., 1., 0., 1., 1., 1., 0., 1., 0., 0.,\n",
              "       0., 1., 0., 0., 0., 0., 1., 1., 1., 0., 0., 0., 0., 0., 1., 1., 0.,\n",
              "       1., 0., 0., 0., 1., 0., 1., 0., 1., 1., 0., 1., 0., 1., 0., 1., 0.,\n",
              "       0., 0., 0., 0., 0., 0., 0., 1., 0., 0., 1., 1., 1., 0., 0., 1., 0.,\n",
              "       1., 0., 0., 0., 0., 1., 1., 0., 1., 1., 0., 1., 0., 0., 0., 0., 0.,\n",
              "       1., 1., 0., 0., 1., 1., 0., 0., 0., 1., 0., 1., 0., 0., 0., 1., 0.,\n",
              "       0., 0., 1., 1., 1., 0., 0., 0., 1., 1., 0., 1., 1., 0.],\n",
              "      dtype=float32)>"
            ]
          },
          "metadata": {},
          "execution_count": 47
        }
      ]
    },
    {
      "cell_type": "code",
      "source": [
        "#Calculate model_1 results\n",
        "model_1_results = calculate_results(y_true=val_labels,\n",
        "                                    y_pred=model_1_preds)\n",
        "model_1_results"
      ],
      "metadata": {
        "colab": {
          "base_uri": "https://localhost:8080/"
        },
        "id": "8DdOmAB8rAmf",
        "outputId": "4c05b78e-29ce-43b4-ef65-57ced67b3931"
      },
      "execution_count": 48,
      "outputs": [
        {
          "output_type": "execute_result",
          "data": {
            "text/plain": [
              "{'accuracy': 79.65879265091863,\n",
              " 'f1': 0.7963742745836615,\n",
              " 'precision': 0.7962301652859638,\n",
              " 'recall': 0.7965879265091863}"
            ]
          },
          "metadata": {},
          "execution_count": 48
        }
      ]
    },
    {
      "cell_type": "code",
      "source": [
        "baseline_results = text_vectorizer.get_vocabulary()\n",
        "len(words_in_vocab), words_in_vocab[:10]"
      ],
      "metadata": {
        "colab": {
          "base_uri": "https://localhost:8080/"
        },
        "id": "No8ERIEFrNVR",
        "outputId": "d5fe55b7-370b-4e6e-a36a-3518ad22b9ee"
      },
      "execution_count": 49,
      "outputs": [
        {
          "output_type": "execute_result",
          "data": {
            "text/plain": [
              "(10000, ['', '[UNK]', 'the', 'a', 'in', 'to', 'of', 'and', 'i', 'is'])"
            ]
          },
          "metadata": {},
          "execution_count": 49
        }
      ]
    },
    {
      "cell_type": "code",
      "source": [
        "words_in_vocab"
      ],
      "metadata": {
        "colab": {
          "base_uri": "https://localhost:8080/"
        },
        "id": "6ZH2gk7xrOSO",
        "outputId": "9100441b-f7d2-4368-ef25-c4a0571c0657"
      },
      "execution_count": 50,
      "outputs": [
        {
          "output_type": "execute_result",
          "data": {
            "text/plain": [
              "['',\n",
              " '[UNK]',\n",
              " 'the',\n",
              " 'a',\n",
              " 'in',\n",
              " 'to',\n",
              " 'of',\n",
              " 'and',\n",
              " 'i',\n",
              " 'is',\n",
              " 'for',\n",
              " 'on',\n",
              " 'you',\n",
              " 'my',\n",
              " 'with',\n",
              " 'it',\n",
              " 'that',\n",
              " 'at',\n",
              " 'by',\n",
              " 'this',\n",
              " 'from',\n",
              " 'be',\n",
              " 'are',\n",
              " 'was',\n",
              " 'have',\n",
              " 'like',\n",
              " 'me',\n",
              " 'as',\n",
              " 'up',\n",
              " 'just',\n",
              " 'but',\n",
              " 'so',\n",
              " 'im',\n",
              " 'not',\n",
              " 'amp',\n",
              " 'your',\n",
              " 'out',\n",
              " 'its',\n",
              " 'all',\n",
              " 'will',\n",
              " 'after',\n",
              " 'no',\n",
              " 'fire',\n",
              " 'has',\n",
              " 'an',\n",
              " 'when',\n",
              " 'if',\n",
              " 'get',\n",
              " 'now',\n",
              " 'we',\n",
              " 'about',\n",
              " 'new',\n",
              " 'via',\n",
              " 'more',\n",
              " 'or',\n",
              " 'people',\n",
              " 'what',\n",
              " 'news',\n",
              " 'one',\n",
              " 'how',\n",
              " 'he',\n",
              " 'they',\n",
              " 'over',\n",
              " 'dont',\n",
              " 'been',\n",
              " 'who',\n",
              " 'into',\n",
              " 'video',\n",
              " 'were',\n",
              " 'do',\n",
              " 'can',\n",
              " '2',\n",
              " 'us',\n",
              " 'disaster',\n",
              " 'emergency',\n",
              " 'there',\n",
              " 'police',\n",
              " 'than',\n",
              " 'would',\n",
              " 'still',\n",
              " 'his',\n",
              " 'some',\n",
              " 'her',\n",
              " 'body',\n",
              " 'burning',\n",
              " 'storm',\n",
              " 'crash',\n",
              " 'back',\n",
              " 'had',\n",
              " 'suicide',\n",
              " 'man',\n",
              " 'why',\n",
              " 'know',\n",
              " 'got',\n",
              " 'them',\n",
              " 'buildings',\n",
              " 'world',\n",
              " 'time',\n",
              " 'off',\n",
              " 'see',\n",
              " 'california',\n",
              " 'first',\n",
              " 'day',\n",
              " 'rt',\n",
              " 'bomb',\n",
              " 'youtube',\n",
              " 'cant',\n",
              " 'love',\n",
              " 'nuclear',\n",
              " 'going',\n",
              " 'their',\n",
              " 'dead',\n",
              " 'two',\n",
              " 'train',\n",
              " 'killed',\n",
              " 'go',\n",
              " 'attack',\n",
              " 'our',\n",
              " '3',\n",
              " 'today',\n",
              " 'good',\n",
              " 'fires',\n",
              " 'car',\n",
              " 'full',\n",
              " 'hiroshima',\n",
              " 'families',\n",
              " 'being',\n",
              " 'say',\n",
              " 'may',\n",
              " 'many',\n",
              " 'here',\n",
              " 'think',\n",
              " 'only',\n",
              " 'accident',\n",
              " 'years',\n",
              " 'life',\n",
              " 'u',\n",
              " 'last',\n",
              " 'could',\n",
              " 'watch',\n",
              " 'war',\n",
              " 'down',\n",
              " 'did',\n",
              " 'home',\n",
              " 'collapse',\n",
              " 'want',\n",
              " 'too',\n",
              " 'then',\n",
              " 'look',\n",
              " 'work',\n",
              " 'because',\n",
              " 'way',\n",
              " 'lol',\n",
              " 'even',\n",
              " 'make',\n",
              " 'best',\n",
              " 'army',\n",
              " 'year',\n",
              " 'mh370',\n",
              " 'help',\n",
              " 'wildfire',\n",
              " 'really',\n",
              " 'pm',\n",
              " 'need',\n",
              " 'him',\n",
              " 'bombing',\n",
              " 'am',\n",
              " 'youre',\n",
              " 'take',\n",
              " 'school',\n",
              " 'please',\n",
              " 'another',\n",
              " '4',\n",
              " 'let',\n",
              " 'those',\n",
              " 'should',\n",
              " 'great',\n",
              " 'right',\n",
              " 'obama',\n",
              " 'hot',\n",
              " 'fatal',\n",
              " 'death',\n",
              " 'forest',\n",
              " 'bomber',\n",
              " 'black',\n",
              " 'northern',\n",
              " 'much',\n",
              " 'mass',\n",
              " 'live',\n",
              " '\\x89Û',\n",
              " 'water',\n",
              " 'old',\n",
              " 'legionnaires',\n",
              " '1',\n",
              " 'wreck',\n",
              " 'thats',\n",
              " 'getting',\n",
              " 'flood',\n",
              " 'every',\n",
              " '5',\n",
              " '2015',\n",
              " 'she',\n",
              " 'read',\n",
              " 'latest',\n",
              " 'homes',\n",
              " 'come',\n",
              " 'where',\n",
              " 'under',\n",
              " 'never',\n",
              " 'hit',\n",
              " 'god',\n",
              " 'flames',\n",
              " 'ever',\n",
              " 'said',\n",
              " 's',\n",
              " 'feel',\n",
              " 'damage',\n",
              " 'content',\n",
              " 'atomic',\n",
              " 'any',\n",
              " 'well',\n",
              " 'weather',\n",
              " 'top',\n",
              " 'oil',\n",
              " 'near',\n",
              " 'while',\n",
              " 'shit',\n",
              " 'night',\n",
              " 'coming',\n",
              " 'city',\n",
              " 'before',\n",
              " 'ass',\n",
              " 'these',\n",
              " 'since',\n",
              " 'military',\n",
              " 'japan',\n",
              " 'during',\n",
              " 'truck',\n",
              " 'smoke',\n",
              " 'floods',\n",
              " 'fear',\n",
              " 'cause',\n",
              " 'most',\n",
              " 'little',\n",
              " 'face',\n",
              " 'everyone',\n",
              " 'without',\n",
              " 'movie',\n",
              " 'malaysia',\n",
              " 'injured',\n",
              " 'hope',\n",
              " 'cross',\n",
              " 'check',\n",
              " 'times',\n",
              " 'set',\n",
              " 'plan',\n",
              " 'next',\n",
              " 'looks',\n",
              " 'lightning',\n",
              " 'evacuation',\n",
              " 'debris',\n",
              " 'confirmed',\n",
              " 'weapon',\n",
              " 'thunderstorm',\n",
              " 'through',\n",
              " 'state',\n",
              " 'liked',\n",
              " 'hes',\n",
              " 'fucking',\n",
              " 'flooding',\n",
              " 'earthquake',\n",
              " 'w',\n",
              " 'trapped',\n",
              " 'sinking',\n",
              " 'reddit',\n",
              " 'natural',\n",
              " 'high',\n",
              " 'heat',\n",
              " 'food',\n",
              " 'fall',\n",
              " 'bad',\n",
              " 'always',\n",
              " 'also',\n",
              " 'wounded',\n",
              " 'weapons',\n",
              " 'thunder',\n",
              " 'theres',\n",
              " 'survive',\n",
              " 'stop',\n",
              " 'spill',\n",
              " 'severe',\n",
              " 'says',\n",
              " 'run',\n",
              " 'missing',\n",
              " 'loud',\n",
              " 'injuries',\n",
              " 'head',\n",
              " 'found',\n",
              " 'evacuate',\n",
              " 'wind',\n",
              " 'services',\n",
              " 'screaming',\n",
              " 'save',\n",
              " 'released',\n",
              " 'free',\n",
              " 'blood',\n",
              " '70',\n",
              " 'which',\n",
              " 'summer',\n",
              " 'story',\n",
              " 'someone',\n",
              " 'house',\n",
              " 'gonna',\n",
              " 'girl',\n",
              " 'fatalities',\n",
              " 'failure',\n",
              " 'explosion',\n",
              " 'explode',\n",
              " 'destruction',\n",
              " 'change',\n",
              " 'wreckage',\n",
              " 'until',\n",
              " 'saudi',\n",
              " 'report',\n",
              " 'rain',\n",
              " 'outbreak',\n",
              " 'ive',\n",
              " 'investigators',\n",
              " 'hurricane',\n",
              " 'collapsed',\n",
              " 'bridge',\n",
              " 'breaking',\n",
              " 'boy',\n",
              " 'bloody',\n",
              " 'bag',\n",
              " 'attacked',\n",
              " 'warning',\n",
              " 'terrorist',\n",
              " 'survived',\n",
              " 'put',\n",
              " 'photo',\n",
              " 'panic',\n",
              " 'hail',\n",
              " 'family',\n",
              " 'end',\n",
              " 'dust',\n",
              " 'destroyed',\n",
              " 'deaths',\n",
              " 'danger',\n",
              " 'collided',\n",
              " 'big',\n",
              " 'bags',\n",
              " 'again',\n",
              " 'wrecked',\n",
              " 'wild',\n",
              " 'whirlwind',\n",
              " 'update',\n",
              " 'thing',\n",
              " 'structural',\n",
              " 'sinkhole',\n",
              " 'service',\n",
              " 'refugees',\n",
              " 'made',\n",
              " 'lives',\n",
              " 'injury',\n",
              " 'fuck',\n",
              " 'county',\n",
              " 'area',\n",
              " 'week',\n",
              " 'twister',\n",
              " 'sunk',\n",
              " 'show',\n",
              " 'road',\n",
              " 'rescuers',\n",
              " 'rescue',\n",
              " 'quarantine',\n",
              " 'post',\n",
              " 'other',\n",
              " 'murder',\n",
              " 'mudslide',\n",
              " 'mosque',\n",
              " 'migrants',\n",
              " 'keep',\n",
              " 'heard',\n",
              " 'game',\n",
              " 'destroy',\n",
              " 'derailment',\n",
              " 'catastrophe',\n",
              " 'bus',\n",
              " 'burned',\n",
              " 'bleeding',\n",
              " 'better',\n",
              " 'around',\n",
              " 'air',\n",
              " 'wounds',\n",
              " 'women',\n",
              " 'whole',\n",
              " 'white',\n",
              " 'violent',\n",
              " 'tonight',\n",
              " 'things',\n",
              " 'survivors',\n",
              " 'stock',\n",
              " 'saw',\n",
              " 'sandstorm',\n",
              " 'harm',\n",
              " 'drowning',\n",
              " 'devastation',\n",
              " 'deluge',\n",
              " 'curfew',\n",
              " 'cliff',\n",
              " 'charged',\n",
              " 'casualties',\n",
              " 'battle',\n",
              " 'bang',\n",
              " 'armageddon',\n",
              " 'ambulance',\n",
              " '40',\n",
              " '15',\n",
              " '\\x89ÛÒ',\n",
              " 'woman',\n",
              " 'traumatised',\n",
              " 'screams',\n",
              " 'screamed',\n",
              " 'rescued',\n",
              " 'landslide',\n",
              " 'ill',\n",
              " 'hostages',\n",
              " 'horrible',\n",
              " 'hazardous',\n",
              " 'famine',\n",
              " 'exploded',\n",
              " 'evacuated',\n",
              " 'does',\n",
              " 'bombed',\n",
              " 'blown',\n",
              " 'away',\n",
              " 'apocalypse',\n",
              " 'windstorm',\n",
              " 'wave',\n",
              " 'wanna',\n",
              " 'trauma',\n",
              " 'tragedy',\n",
              " 'ruin',\n",
              " 'rioting',\n",
              " 'real',\n",
              " 'quarantined',\n",
              " 'power',\n",
              " 'phone',\n",
              " 'panicking',\n",
              " 'pandemonium',\n",
              " 'must',\n",
              " 'meltdown',\n",
              " 'massacre',\n",
              " 'lot',\n",
              " 'least',\n",
              " 'lava',\n",
              " 'iran',\n",
              " 'inundated',\n",
              " 'id',\n",
              " 'flattened',\n",
              " 'fedex',\n",
              " 'electrocuted',\n",
              " 'drought',\n",
              " 'displaced',\n",
              " 'detonate',\n",
              " 'desolation',\n",
              " 'cool',\n",
              " 'came',\n",
              " 'call',\n",
              " 'boat',\n",
              " 'blew',\n",
              " 'bioterror',\n",
              " 'against',\n",
              " 'typhoon',\n",
              " 'trouble',\n",
              " 'thank',\n",
              " 'terrorism',\n",
              " 'st',\n",
              " 'something',\n",
              " 'riot',\n",
              " 'red',\n",
              " 'plane',\n",
              " 'past',\n",
              " 'nothing',\n",
              " 'market',\n",
              " 'long',\n",
              " 'lets',\n",
              " 'kills',\n",
              " 'kill',\n",
              " 'hijacking',\n",
              " 'heart',\n",
              " 'hazard',\n",
              " 'drown',\n",
              " 'doing',\n",
              " 'didnt',\n",
              " 'derailed',\n",
              " 'derail',\n",
              " 'crush',\n",
              " 'chemical',\n",
              " 'bagging',\n",
              " 'baby',\n",
              " 'annihilated',\n",
              " '9',\n",
              " 'used',\n",
              " 'twitter',\n",
              " 'tsunami',\n",
              " 'traffic',\n",
              " 'tomorrow',\n",
              " 'suspect',\n",
              " 'sure',\n",
              " 'security',\n",
              " 'pkk',\n",
              " 'part',\n",
              " 'national',\n",
              " 'island',\n",
              " 'isis',\n",
              " 'hijacker',\n",
              " 'ebay',\n",
              " 'detonated',\n",
              " 'crashed',\n",
              " 'august',\n",
              " 'anniversary',\n",
              " 'already',\n",
              " 'airplane',\n",
              " '6',\n",
              " 'whats',\n",
              " 'soon',\n",
              " 'song',\n",
              " 'shoulder',\n",
              " 'reunion',\n",
              " 'responders',\n",
              " 'obliterate',\n",
              " 'minute',\n",
              " 'longer',\n",
              " 'light',\n",
              " 'left',\n",
              " 'hundreds',\n",
              " 'hostage',\n",
              " 'half',\n",
              " 'guys',\n",
              " 'government',\n",
              " 'fun',\n",
              " 'fatality',\n",
              " 'eyewitness',\n",
              " 'done',\n",
              " 'detonation',\n",
              " 'demolish',\n",
              " 'crushed',\n",
              " 'blast',\n",
              " 'believe',\n",
              " 'airport',\n",
              " 'affected',\n",
              " 'actually',\n",
              " 'yet',\n",
              " 'went',\n",
              " 'wake',\n",
              " 'volcano',\n",
              " 'very',\n",
              " 'use',\n",
              " 'upheaval',\n",
              " 'turkey',\n",
              " 'trying',\n",
              " 'thought',\n",
              " 'thanks',\n",
              " 'sound',\n",
              " 'sirens',\n",
              " 'shooting',\n",
              " 'send',\n",
              " 'same',\n",
              " 'remember',\n",
              " 'razed',\n",
              " 'prebreak',\n",
              " 'possible',\n",
              " 'ok',\n",
              " 'oh',\n",
              " 'music',\n",
              " 'media',\n",
              " 'land',\n",
              " 'issues',\n",
              " 'hijack',\n",
              " 'engulfed',\n",
              " 'electrocute',\n",
              " 'died',\n",
              " 'collision',\n",
              " 'collide',\n",
              " 'caused',\n",
              " 'catastrophic',\n",
              " 'care',\n",
              " 'calgary',\n",
              " 'building',\n",
              " 'arson',\n",
              " '8',\n",
              " 'zone',\n",
              " 'wont',\n",
              " 'tornado',\n",
              " 'three',\n",
              " 'start',\n",
              " 'site',\n",
              " 'person',\n",
              " 'obliterated',\n",
              " 'nearby',\n",
              " 'men',\n",
              " 'leave',\n",
              " 'israeli',\n",
              " 'hours',\n",
              " 'group',\n",
              " 'goes',\n",
              " 'gets',\n",
              " 'due',\n",
              " 'drowned',\n",
              " 'demolished',\n",
              " 'deluged',\n",
              " 'declares',\n",
              " 'cyclone',\n",
              " 'beautiful',\n",
              " '16yr',\n",
              " 'yourself',\n",
              " 'sue',\n",
              " 'shot',\n",
              " 'river',\n",
              " 're\\x89Û',\n",
              " 'play',\n",
              " 'plans',\n",
              " 'place',\n",
              " 'officials',\n",
              " 'nowplaying',\n",
              " 'north',\n",
              " 'making',\n",
              " 'lab',\n",
              " 'kids',\n",
              " 'job',\n",
              " 'inside',\n",
              " 'hell',\n",
              " 'fight',\n",
              " 'fan',\n",
              " 'demolition',\n",
              " 'brown',\n",
              " 'bc',\n",
              " 'avalanche',\n",
              " '\\x89ÛÓ',\n",
              " 'words',\n",
              " 'typhoondevastated',\n",
              " 'swallowed',\n",
              " 'such',\n",
              " 'stretcher',\n",
              " 'south',\n",
              " 'snowstorm',\n",
              " 'seismic',\n",
              " 'saipan',\n",
              " 'reuters',\n",
              " 'policy',\n",
              " 'pic',\n",
              " 'outside',\n",
              " 'obliteration',\n",
              " 'n',\n",
              " 'murderer',\n",
              " 'islam',\n",
              " 'hey',\n",
              " 'hellfire',\n",
              " 'far',\n",
              " 'doesnt',\n",
              " 'deal',\n",
              " 'days',\n",
              " 'bush',\n",
              " 'blazing',\n",
              " 'bar',\n",
              " 'anything',\n",
              " 'ago',\n",
              " 'ablaze',\n",
              " 'yeah',\n",
              " 'support',\n",
              " 'second',\n",
              " 'reactor',\n",
              " 'photos',\n",
              " 'mp',\n",
              " 'money',\n",
              " 'might',\n",
              " 'memories',\n",
              " 'literally',\n",
              " 'horror',\n",
              " 'hollywood',\n",
              " 'history',\n",
              " 'few',\n",
              " 'die',\n",
              " 'conclusively',\n",
              " 'casualty',\n",
              " 'business',\n",
              " 'bioterrorism',\n",
              " 'aircraft',\n",
              " 'abc',\n",
              " '7',\n",
              " '50',\n",
              " '30',\n",
              " '12',\n",
              " 'yes',\n",
              " 'west',\n",
              " 'watching',\n",
              " 'wait',\n",
              " 'ur',\n",
              " 'tv',\n",
              " 'theyre',\n",
              " 'tell',\n",
              " 'team',\n",
              " 'stay',\n",
              " 'spot',\n",
              " 'space',\n",
              " 'soudelor',\n",
              " 'seen',\n",
              " 'rubble',\n",
              " 'rainstorm',\n",
              " 'probably',\n",
              " 'pick',\n",
              " 'peace',\n",
              " 'once',\n",
              " 'officer',\n",
              " 'name',\n",
              " 'maybe',\n",
              " 'india',\n",
              " 'hear',\n",
              " 'health',\n",
              " 'find',\n",
              " 'finally',\n",
              " 'everything',\n",
              " 'd',\n",
              " 'crews',\n",
              " 'children',\n",
              " 'child',\n",
              " 'blight',\n",
              " 'amid',\n",
              " '20',\n",
              " 'waves',\n",
              " 'trench',\n",
              " 'transport',\n",
              " 'though',\n",
              " 'stand',\n",
              " 'siren',\n",
              " 'signs',\n",
              " 'shes',\n",
              " 'searching',\n",
              " 'rise',\n",
              " 'projected',\n",
              " 'own',\n",
              " 'order',\n",
              " 'move',\n",
              " 'miners',\n",
              " 'low',\n",
              " 'line',\n",
              " 'leather',\n",
              " 'la',\n",
              " 'having',\n",
              " 'happy',\n",
              " 'flash',\n",
              " 'feeling',\n",
              " 'fast',\n",
              " 'data',\n",
              " 'crisis',\n",
              " 'course',\n",
              " 'both',\n",
              " 'bodies',\n",
              " 'bigger',\n",
              " 'anyone',\n",
              " 'american',\n",
              " 'almost',\n",
              " 'wrong',\n",
              " 'worst',\n",
              " 'united',\n",
              " 'town',\n",
              " 'street',\n",
              " 'rd',\n",
              " 'pretty',\n",
              " 'others',\n",
              " 'online',\n",
              " 'offensive',\n",
              " 'needs',\n",
              " 'nearly',\n",
              " 'myself',\n",
              " 'morning',\n",
              " 'lost',\n",
              " 'huge',\n",
              " 'helicopter',\n",
              " 'heavy',\n",
              " 'hate',\n",
              " 'hat',\n",
              " 'hailstorm',\n",
              " 'effect',\n",
              " 'east',\n",
              " 'caught',\n",
              " 'book',\n",
              " 'bestnaijamade',\n",
              " 'become',\n",
              " '10',\n",
              " 'womens',\n",
              " 'usa',\n",
              " 'talk',\n",
              " 'star',\n",
              " 'sorry',\n",
              " 'self',\n",
              " 'russian',\n",
              " 'refugio',\n",
              " 'reason',\n",
              " 'picking',\n",
              " 'pay',\n",
              " 'pain',\n",
              " 'mayhem',\n",
              " 'manslaughter',\n",
              " 'listen',\n",
              " 'ladies',\n",
              " 'knock',\n",
              " 'jobs',\n",
              " 'ignition',\n",
              " 'eyes',\n",
              " 'costlier',\n",
              " 'closed',\n",
              " 'center',\n",
              " 'called',\n",
              " 'blizzard',\n",
              " 'beach',\n",
              " 'anthrax',\n",
              " 'alone',\n",
              " 'action',\n",
              " 'across',\n",
              " 'youth',\n",
              " 'win',\n",
              " 'view',\n",
              " 'vehicle',\n",
              " 'truth',\n",
              " 'thursday',\n",
              " 'thousands',\n",
              " 'ship',\n",
              " 'saved',\n",
              " 'reports',\n",
              " 'poor',\n",
              " 'pakistan',\n",
              " 'omg',\n",
              " 'mom',\n",
              " 'mishaps',\n",
              " 'meek',\n",
              " 'marks',\n",
              " 'makes',\n",
              " 'm',\n",
              " 'looking',\n",
              " 'level',\n",
              " 'houses',\n",
              " 'hard',\n",
              " 'happened',\n",
              " 'haha',\n",
              " 'guy',\n",
              " 'gun',\n",
              " 'gt',\n",
              " 'giant',\n",
              " 'gbbo',\n",
              " 'friends',\n",
              " 'flag',\n",
              " 'film',\n",
              " 'entire',\n",
              " 'emmerdale',\n",
              " 'declaration',\n",
              " 'damn',\n",
              " 'daily',\n",
              " 'couple',\n",
              " 'country',\n",
              " 'control',\n",
              " 'climate',\n",
              " 'china',\n",
              " 'chile',\n",
              " 'case',\n",
              " 'bbc',\n",
              " 'banned',\n",
              " 'ball',\n",
              " 'aug',\n",
              " 'arsonist',\n",
              " 'appears',\n",
              " 'angry',\n",
              " 'aint',\n",
              " 'aftershock',\n",
              " '60',\n",
              " '25',\n",
              " '13',\n",
              " '11',\n",
              " 'wonder',\n",
              " 'vs',\n",
              " 'virgin',\n",
              " 'village',\n",
              " 'try',\n",
              " 'totally',\n",
              " 'texas',\n",
              " 'temple',\n",
              " 'taking',\n",
              " 'takes',\n",
              " 't',\n",
              " 'side',\n",
              " 'ready',\n",
              " 'radio',\n",
              " 'public',\n",
              " 'playing',\n",
              " 'patience',\n",
              " 'outrage',\n",
              " 'official',\n",
              " 'moment',\n",
              " 'major',\n",
              " 'mad',\n",
              " 'lord',\n",
              " 'learn',\n",
              " 'large',\n",
              " 'isnt',\n",
              " 'govt',\n",
              " 'germs',\n",
              " 'fukushima',\n",
              " 'following',\n",
              " 'follow',\n",
              " 'feared',\n",
              " 'eye',\n",
              " 'else',\n",
              " 'drake',\n",
              " 'disea',\n",
              " 'devastated',\n",
              " 'desolate',\n",
              " 'computers',\n",
              " 'comes',\n",
              " 'cnn',\n",
              " 'class',\n",
              " 'christian',\n",
              " 'centre',\n",
              " 'cars',\n",
              " 'blaze',\n",
              " 'b',\n",
              " 'annihilation',\n",
              " 'america',\n",
              " '11yearold',\n",
              " 'yours',\n",
              " 'york',\n",
              " 'wanted',\n",
              " 'trains',\n",
              " 'toddler',\n",
              " 'till',\n",
              " 'theater',\n",
              " 'taken',\n",
              " 'sounds',\n",
              " 'sign',\n",
              " 'shows',\n",
              " 'running',\n",
              " 'risk',\n",
              " 'reddits',\n",
              " 'quiz',\n",
              " 'property',\n",
              " 'okay',\n",
              " 'niggas',\n",
              " 'myanmar',\n",
              " 'muslims',\n",
              " 'mph',\n",
              " 'mop',\n",
              " 'lmao',\n",
              " 'link',\n",
              " 'likely',\n",
              " 'led',\n",
              " 'issued',\n",
              " 'instead',\n",
              " 'human',\n",
              " 'holding',\n",
              " 'hiring',\n",
              " 'green',\n",
              " 'galactic',\n",
              " 'front',\n",
              " 'friend',\n",
              " 'favorite',\n",
              " 'drive',\n",
              " 'downtown',\n",
              " 'dog',\n",
              " 'date',\n",
              " 'crazy',\n",
              " 'coaches',\n",
              " 'bring',\n",
              " 'blue',\n",
              " 'bed',\n",
              " 'bayelsa',\n",
              " '100',\n",
              " 'wow',\n",
              " 'worse',\n",
              " 'upon',\n",
              " 'unconfirmed',\n",
              " 'turn',\n",
              " 'trust',\n",
              " 'true',\n",
              " 'tote',\n",
              " 'subreddits',\n",
              " 'started',\n",
              " 'seeing',\n",
              " 'secret',\n",
              " 'scared',\n",
              " 'russia',\n",
              " 'room',\n",
              " 'rock',\n",
              " 'rly',\n",
              " 'pradesh',\n",
              " 'ppl',\n",
              " 'neighbours',\n",
              " 'mount',\n",
              " 'mode',\n",
              " 'miss',\n",
              " ...]"
            ]
          },
          "metadata": {},
          "execution_count": 50
        }
      ]
    },
    {
      "cell_type": "code",
      "source": [
        "model_1.summary()"
      ],
      "metadata": {
        "colab": {
          "base_uri": "https://localhost:8080/"
        },
        "id": "ho4mV-dpr2E0",
        "outputId": "482c65d0-6ada-44fe-9f24-9bbe94967d5f"
      },
      "execution_count": 51,
      "outputs": [
        {
          "output_type": "stream",
          "name": "stdout",
          "text": [
            "Model: \"model_1_dense\"\n",
            "_________________________________________________________________\n",
            " Layer (type)                Output Shape              Param #   \n",
            "=================================================================\n",
            " input_1 (InputLayer)        [(None, 1)]               0         \n",
            "                                                                 \n",
            " text_vectorization_1 (TextV  (None, 15)               0         \n",
            " ectorization)                                                   \n",
            "                                                                 \n",
            " embedding (Embedding)       (None, 15, 128)           1280000   \n",
            "                                                                 \n",
            " global_average_pooling1d (G  (None, 128)              0         \n",
            " lobalAveragePooling1D)                                          \n",
            "                                                                 \n",
            " dense (Dense)               (None, 1)                 129       \n",
            "                                                                 \n",
            "=================================================================\n",
            "Total params: 1,280,129\n",
            "Trainable params: 1,280,129\n",
            "Non-trainable params: 0\n",
            "_________________________________________________________________\n"
          ]
        }
      ]
    },
    {
      "cell_type": "code",
      "source": [
        "#get weight matrix of embedding layer\n",
        "#numerical representations of each token in our training data, learned for 5 epochs\n",
        "embed_weights = model_1.get_layer(\"embedding\").get_weights()[0]\n",
        "print(embed_weights.shape)"
      ],
      "metadata": {
        "colab": {
          "base_uri": "https://localhost:8080/"
        },
        "id": "EptvdDbwsBll",
        "outputId": "4cdc3519-e4e9-4bfc-9ee4-f8ffe7bfe87c"
      },
      "execution_count": 52,
      "outputs": [
        {
          "output_type": "stream",
          "name": "stdout",
          "text": [
            "(10000, 128)\n"
          ]
        }
      ]
    },
    {
      "cell_type": "code",
      "source": [
        "embed_weights"
      ],
      "metadata": {
        "colab": {
          "base_uri": "https://localhost:8080/"
        },
        "id": "3_qrDxjIsMdn",
        "outputId": "48033053-1b9e-46ef-e4af-a5fd55047b6b"
      },
      "execution_count": 53,
      "outputs": [
        {
          "output_type": "execute_result",
          "data": {
            "text/plain": [
              "array([[ 0.00605106,  0.05858438,  0.03330769, ..., -0.01084881,\n",
              "        -0.0546153 , -0.03695693],\n",
              "       [-0.03272963, -0.01187464, -0.03309455, ..., -0.02592053,\n",
              "        -0.00891416, -0.00070886],\n",
              "       [-0.04949095, -0.00930552,  0.00076833, ...,  0.03429968,\n",
              "        -0.03405045, -0.03086733],\n",
              "       ...,\n",
              "       [ 0.09021532, -0.05739602,  0.02803511, ...,  0.10618759,\n",
              "         0.04523646,  0.05639001],\n",
              "       [ 0.02892767, -0.04199115,  0.02619302, ...,  0.00657955,\n",
              "         0.05643053,  0.03471509],\n",
              "       [-0.0972536 ,  0.10309324, -0.08894882, ..., -0.02059617,\n",
              "        -0.08486234, -0.05977146]], dtype=float32)"
            ]
          },
          "metadata": {},
          "execution_count": 53
        }
      ]
    },
    {
      "cell_type": "code",
      "source": [
        "#projector tool\n",
        "import io\n",
        "out_v = io.open('vectors.tsv', 'w', encoding=\"utf-8\")\n",
        "out_m = io.open('metadata.tsv', 'w', encoding=\"utf-8\")\n",
        "\n",
        "for index, word in enumerate(words_in_vocab):\n",
        "  if index == 0:\n",
        "    continue\n",
        "\n",
        "  vec = embed_weights[index]\n",
        "  out_v.write('\\t'.join([str(x) for x in vec]) + \"\\n\")\n",
        "  out_m.write(word + \"\\n\")\n",
        "out_v.close()\n",
        "out_m.close()"
      ],
      "metadata": {
        "id": "1zjPoQplsQpK"
      },
      "execution_count": 54,
      "outputs": []
    },
    {
      "cell_type": "code",
      "source": [
        "#download files from colab and upload to projector\n",
        "try:\n",
        "  from google.colab import files\n",
        "  files.download('vectors.tsv')\n",
        "  files.download('metadata.tsv')\n",
        "except Exception:\n",
        "  pass"
      ],
      "metadata": {
        "colab": {
          "base_uri": "https://localhost:8080/",
          "height": 0
        },
        "id": "HOKlSddStyhi",
        "outputId": "7c798af1-ba72-428c-d215-ca717f6c74f6"
      },
      "execution_count": 55,
      "outputs": [
        {
          "output_type": "display_data",
          "data": {
            "text/plain": [
              "<IPython.core.display.Javascript object>"
            ],
            "application/javascript": [
              "\n",
              "    async function download(id, filename, size) {\n",
              "      if (!google.colab.kernel.accessAllowed) {\n",
              "        return;\n",
              "      }\n",
              "      const div = document.createElement('div');\n",
              "      const label = document.createElement('label');\n",
              "      label.textContent = `Downloading \"${filename}\": `;\n",
              "      div.appendChild(label);\n",
              "      const progress = document.createElement('progress');\n",
              "      progress.max = size;\n",
              "      div.appendChild(progress);\n",
              "      document.body.appendChild(div);\n",
              "\n",
              "      const buffers = [];\n",
              "      let downloaded = 0;\n",
              "\n",
              "      const channel = await google.colab.kernel.comms.open(id);\n",
              "      // Send a message to notify the kernel that we're ready.\n",
              "      channel.send({})\n",
              "\n",
              "      for await (const message of channel.messages) {\n",
              "        // Send a message to notify the kernel that we're ready.\n",
              "        channel.send({})\n",
              "        if (message.buffers) {\n",
              "          for (const buffer of message.buffers) {\n",
              "            buffers.push(buffer);\n",
              "            downloaded += buffer.byteLength;\n",
              "            progress.value = downloaded;\n",
              "          }\n",
              "        }\n",
              "      }\n",
              "      const blob = new Blob(buffers, {type: 'application/binary'});\n",
              "      const a = document.createElement('a');\n",
              "      a.href = window.URL.createObjectURL(blob);\n",
              "      a.download = filename;\n",
              "      div.appendChild(a);\n",
              "      a.click();\n",
              "      div.remove();\n",
              "    }\n",
              "  "
            ]
          },
          "metadata": {}
        },
        {
          "output_type": "display_data",
          "data": {
            "text/plain": [
              "<IPython.core.display.Javascript object>"
            ],
            "application/javascript": [
              "download(\"download_5a24bb85-d0d5-4872-b979-eeabcabde9fc\", \"vectors.tsv\", 15386139)"
            ]
          },
          "metadata": {}
        },
        {
          "output_type": "display_data",
          "data": {
            "text/plain": [
              "<IPython.core.display.Javascript object>"
            ],
            "application/javascript": [
              "\n",
              "    async function download(id, filename, size) {\n",
              "      if (!google.colab.kernel.accessAllowed) {\n",
              "        return;\n",
              "      }\n",
              "      const div = document.createElement('div');\n",
              "      const label = document.createElement('label');\n",
              "      label.textContent = `Downloading \"${filename}\": `;\n",
              "      div.appendChild(label);\n",
              "      const progress = document.createElement('progress');\n",
              "      progress.max = size;\n",
              "      div.appendChild(progress);\n",
              "      document.body.appendChild(div);\n",
              "\n",
              "      const buffers = [];\n",
              "      let downloaded = 0;\n",
              "\n",
              "      const channel = await google.colab.kernel.comms.open(id);\n",
              "      // Send a message to notify the kernel that we're ready.\n",
              "      channel.send({})\n",
              "\n",
              "      for await (const message of channel.messages) {\n",
              "        // Send a message to notify the kernel that we're ready.\n",
              "        channel.send({})\n",
              "        if (message.buffers) {\n",
              "          for (const buffer of message.buffers) {\n",
              "            buffers.push(buffer);\n",
              "            downloaded += buffer.byteLength;\n",
              "            progress.value = downloaded;\n",
              "          }\n",
              "        }\n",
              "      }\n",
              "      const blob = new Blob(buffers, {type: 'application/binary'});\n",
              "      const a = document.createElement('a');\n",
              "      a.href = window.URL.createObjectURL(blob);\n",
              "      a.download = filename;\n",
              "      div.appendChild(a);\n",
              "      a.click();\n",
              "      div.remove();\n",
              "    }\n",
              "  "
            ]
          },
          "metadata": {}
        },
        {
          "output_type": "display_data",
          "data": {
            "text/plain": [
              "<IPython.core.display.Javascript object>"
            ],
            "application/javascript": [
              "download(\"download_d143dfb3-91b5-4d0a-b81e-888b2f9e4718\", \"metadata.tsv\", 80563)"
            ]
          },
          "metadata": {}
        }
      ]
    },
    {
      "cell_type": "markdown",
      "source": [
        "#Recurrent Neural Network"
      ],
      "metadata": {
        "id": "fHOfPEZVutRs"
      }
    },
    {
      "cell_type": "markdown",
      "source": [
        "##useful for sequence data - use representation of previous input to aid the representation of a later input"
      ],
      "metadata": {
        "id": "jD5N4_yla6au"
      }
    },
    {
      "cell_type": "code",
      "source": [
        "### Model 2: LSTM\n",
        "###LSTM = Long Short Term Memory (one of the most popular RNN)\n",
        "'''\n",
        " input(text) -> toeknize -> embed -> layers (RNNs/Dense) -> Output\n",
        "'''"
      ],
      "metadata": {
        "colab": {
          "base_uri": "https://localhost:8080/",
          "height": 0
        },
        "id": "RympptAgbDW5",
        "outputId": "34a56516-b47a-4ef6-e905-25e891451030"
      },
      "execution_count": 56,
      "outputs": [
        {
          "output_type": "execute_result",
          "data": {
            "text/plain": [
              "'\\n input(text) -> toeknize -> embed -> layers (RNNs/Dense) -> Output\\n'"
            ],
            "application/vnd.google.colaboratory.intrinsic+json": {
              "type": "string"
            }
          },
          "metadata": {},
          "execution_count": 56
        }
      ]
    },
    {
      "cell_type": "code",
      "source": [
        "from tensorflow.keras import layers\n",
        "\n",
        "inputs = layers.Input(shape=(1,), dtype=\"string\")\n",
        "x = text_vectorizer(inputs)\n",
        "x = embedding(x)\n",
        "print(x.shape)\n",
        "#x = layers.LSTM(64, return_sequences=True)(x)\n",
        "#print(x.shape)\n",
        "x = layers.LSTM(64)(x)\n",
        "print(x.shape)\n",
        "#x = layers.Dense(64, activation=\"relu\")(x)\n",
        "outputs = layers.Dense(1, activation=\"sigmoid\")(x)\n",
        "model_2 = tf.keras.Model(inputs, outputs, name=\"model_2_LSTM\")"
      ],
      "metadata": {
        "colab": {
          "base_uri": "https://localhost:8080/"
        },
        "id": "0LZA0LBDdHUX",
        "outputId": "e94eda7a-ee9b-427a-d412-017e2265475b"
      },
      "execution_count": 57,
      "outputs": [
        {
          "output_type": "stream",
          "name": "stdout",
          "text": [
            "(None, 15, 128)\n",
            "(None, 64)\n"
          ]
        }
      ]
    },
    {
      "cell_type": "code",
      "source": [
        "#Get a summary\n",
        "model_2.summary()"
      ],
      "metadata": {
        "colab": {
          "base_uri": "https://localhost:8080/"
        },
        "id": "faBVR96Edw7A",
        "outputId": "4a5f2198-377b-4f3b-f36f-7b05752672e6"
      },
      "execution_count": 58,
      "outputs": [
        {
          "output_type": "stream",
          "name": "stdout",
          "text": [
            "Model: \"model_2_LSTM\"\n",
            "_________________________________________________________________\n",
            " Layer (type)                Output Shape              Param #   \n",
            "=================================================================\n",
            " input_2 (InputLayer)        [(None, 1)]               0         \n",
            "                                                                 \n",
            " text_vectorization_1 (TextV  (None, 15)               0         \n",
            " ectorization)                                                   \n",
            "                                                                 \n",
            " embedding (Embedding)       (None, 15, 128)           1280000   \n",
            "                                                                 \n",
            " lstm (LSTM)                 (None, 64)                49408     \n",
            "                                                                 \n",
            " dense_1 (Dense)             (None, 1)                 65        \n",
            "                                                                 \n",
            "=================================================================\n",
            "Total params: 1,329,473\n",
            "Trainable params: 1,329,473\n",
            "Non-trainable params: 0\n",
            "_________________________________________________________________\n"
          ]
        }
      ]
    },
    {
      "cell_type": "code",
      "source": [
        "#compile\n",
        "model_2.compile(loss=\"binary_crossentropy\",\n",
        "                optimizer=tf.keras.optimizers.Adam(),\n",
        "                metrics=[\"accuracy\"])"
      ],
      "metadata": {
        "id": "Z8vKhE9xev3g"
      },
      "execution_count": 59,
      "outputs": []
    },
    {
      "cell_type": "code",
      "source": [
        "model_2_history = model_2.fit(train_sentences,\n",
        "                              train_labels,\n",
        "                              epochs=5,\n",
        "                              validation_data=(val_sentences,val_labels),\n",
        "                              callbacks=[create_tensorboard_callback(SAVE_DIR,\n",
        "                                                                     \"model_2_LSTM\")])"
      ],
      "metadata": {
        "colab": {
          "base_uri": "https://localhost:8080/"
        },
        "id": "zcCEMmvMfBec",
        "outputId": "de988b75-6fb6-4509-dbe9-87636501296c"
      },
      "execution_count": 60,
      "outputs": [
        {
          "output_type": "stream",
          "name": "stdout",
          "text": [
            "Saving TensorBoard log files to: model_logs/model_2_LSTM/20220729-234220\n",
            "Epoch 1/5\n",
            "215/215 [==============================] - 6s 8ms/step - loss: 0.2205 - accuracy: 0.9222 - val_loss: 0.5075 - val_accuracy: 0.7756\n",
            "Epoch 2/5\n",
            "215/215 [==============================] - 1s 6ms/step - loss: 0.1527 - accuracy: 0.9431 - val_loss: 0.6077 - val_accuracy: 0.7861\n",
            "Epoch 3/5\n",
            "215/215 [==============================] - 1s 6ms/step - loss: 0.1266 - accuracy: 0.9526 - val_loss: 0.5736 - val_accuracy: 0.7900\n",
            "Epoch 4/5\n",
            "215/215 [==============================] - 1s 6ms/step - loss: 0.1060 - accuracy: 0.9585 - val_loss: 0.8191 - val_accuracy: 0.7651\n",
            "Epoch 5/5\n",
            "215/215 [==============================] - 1s 6ms/step - loss: 0.0873 - accuracy: 0.9661 - val_loss: 0.9013 - val_accuracy: 0.7480\n"
          ]
        }
      ]
    },
    {
      "cell_type": "code",
      "source": [
        "model_2_pred_probs = model_2.predict(val_sentences)\n",
        "model_2_pred_probs[:10]"
      ],
      "metadata": {
        "colab": {
          "base_uri": "https://localhost:8080/"
        },
        "id": "IlDFF_PgfRSk",
        "outputId": "cfecf5da-5783-446c-dc2c-107d39e747c4"
      },
      "execution_count": 61,
      "outputs": [
        {
          "output_type": "execute_result",
          "data": {
            "text/plain": [
              "array([[4.2142454e-03],\n",
              "       [9.3022501e-01],\n",
              "       [9.9973530e-01],\n",
              "       [2.2971680e-02],\n",
              "       [9.9961889e-01],\n",
              "       [1.5341596e-02],\n",
              "       [3.7634306e-04],\n",
              "       [8.6112069e-03],\n",
              "       [9.9980146e-01],\n",
              "       [9.9948394e-01]], dtype=float32)"
            ]
          },
          "metadata": {},
          "execution_count": 61
        }
      ]
    },
    {
      "cell_type": "code",
      "source": [
        "#convert model 2 pred probs to labels\n",
        "model_2_preds = tf.squeeze(tf.round(model_2_pred_probs))\n",
        "model_2_preds[:10]"
      ],
      "metadata": {
        "colab": {
          "base_uri": "https://localhost:8080/"
        },
        "id": "5rpOeSSZfa54",
        "outputId": "d3569343-417e-4601-c0e5-3706c997c261"
      },
      "execution_count": 62,
      "outputs": [
        {
          "output_type": "execute_result",
          "data": {
            "text/plain": [
              "<tf.Tensor: shape=(10,), dtype=float32, numpy=array([0., 1., 1., 0., 1., 0., 0., 0., 1., 1.], dtype=float32)>"
            ]
          },
          "metadata": {},
          "execution_count": 62
        }
      ]
    },
    {
      "cell_type": "code",
      "source": [
        "model_2_results = calculate_results(y_true=val_labels,\n",
        "                                    y_pred=model_2_preds)"
      ],
      "metadata": {
        "id": "WWBptCNkfkD6"
      },
      "execution_count": 63,
      "outputs": []
    },
    {
      "cell_type": "code",
      "source": [
        "model_2_results"
      ],
      "metadata": {
        "colab": {
          "base_uri": "https://localhost:8080/"
        },
        "id": "gOEi_DQMfySB",
        "outputId": "5c33bba8-9e86-4f17-d388-22349ab751a7"
      },
      "execution_count": 64,
      "outputs": [
        {
          "output_type": "execute_result",
          "data": {
            "text/plain": [
              "{'accuracy': 74.80314960629921,\n",
              " 'f1': 0.7490377867542259,\n",
              " 'precision': 0.7517838304192558,\n",
              " 'recall': 0.7480314960629921}"
            ]
          },
          "metadata": {},
          "execution_count": 64
        }
      ]
    },
    {
      "cell_type": "code",
      "source": [
        "#Model 3: GRU\n",
        "#GRU = Gated recurrent unit\n",
        "##GRU is similar to LSTM, but has less parameters"
      ],
      "metadata": {
        "id": "Y-An2arVf021"
      },
      "execution_count": 65,
      "outputs": []
    },
    {
      "cell_type": "code",
      "source": [
        "from tensorflow.keras import layers\n",
        "\n",
        "model_3_embedding = layers.Embedding(input_dim=max_vocab_length,\n",
        "                                     output_dim=128,\n",
        "                                     embeddings_initializer=\"uniform\",\n",
        "                                     input_length=max_length,\n",
        "                                     name=\"embedding_3\")\n",
        "\n",
        "\n",
        "inputs = layers.Input(shape=(1,), dtype=tf.string)\n",
        "x = text_vectorizer(inputs)\n",
        "x = embedding(x)\n",
        "x = layers.GRU(64)(x)\n",
        "outputs = layers.Dense(1, activation=\"sigmoid\")(x)\n",
        "model_3 = tf.keras.Model(inputs, outputs, name=\"model_3_GRU\")\n",
        "\n",
        "'''\n",
        "# Build an RNN using the GRU cell\n",
        "inputs = layers.Input(shape=(1,), dtype=\"string\")\n",
        "x = text_vectorizer(inputs)\n",
        "x = model_3_embedding(x)\n",
        "# x = layers.GRU(64, return_sequences=True) # stacking recurrent cells requires return_sequences=True\n",
        "x = layers.GRU(64)(x) \n",
        "# x = layers.Dense(64, activation=\"relu\")(x) # optional dense layer after GRU cell\n",
        "outputs = layers.Dense(1, activation=\"sigmoid\")(x)\n",
        "model_3 = tf.keras.Model(inputs, outputs, name=\"model_3_GRU\")\n",
        "'''\n"
      ],
      "metadata": {
        "colab": {
          "base_uri": "https://localhost:8080/",
          "height": 0
        },
        "id": "JzWn9hofgXt3",
        "outputId": "25dce818-78cf-4390-c1a9-b68c71de00b2"
      },
      "execution_count": 66,
      "outputs": [
        {
          "output_type": "execute_result",
          "data": {
            "text/plain": [
              "'\\n# Build an RNN using the GRU cell\\ninputs = layers.Input(shape=(1,), dtype=\"string\")\\nx = text_vectorizer(inputs)\\nx = model_3_embedding(x)\\n# x = layers.GRU(64, return_sequences=True) # stacking recurrent cells requires return_sequences=True\\nx = layers.GRU(64)(x) \\n# x = layers.Dense(64, activation=\"relu\")(x) # optional dense layer after GRU cell\\noutputs = layers.Dense(1, activation=\"sigmoid\")(x)\\nmodel_3 = tf.keras.Model(inputs, outputs, name=\"model_3_GRU\")\\n'"
            ],
            "application/vnd.google.colaboratory.intrinsic+json": {
              "type": "string"
            }
          },
          "metadata": {},
          "execution_count": 66
        }
      ]
    },
    {
      "cell_type": "code",
      "source": [
        "#compile\n",
        "model_3.compile(loss=\"binary_crossentropy\",\n",
        "                optimizer=tf.keras.optimizers.Adam(),\n",
        "                metrics=[\"accuracy\"])"
      ],
      "metadata": {
        "id": "GDj5HiiwhAM4"
      },
      "execution_count": 67,
      "outputs": []
    },
    {
      "cell_type": "code",
      "source": [
        "model_3.summary()"
      ],
      "metadata": {
        "colab": {
          "base_uri": "https://localhost:8080/"
        },
        "id": "Ofves2m6ilkm",
        "outputId": "66e120bc-1dcc-43b0-9784-442901b15e60"
      },
      "execution_count": 68,
      "outputs": [
        {
          "output_type": "stream",
          "name": "stdout",
          "text": [
            "Model: \"model_3_GRU\"\n",
            "_________________________________________________________________\n",
            " Layer (type)                Output Shape              Param #   \n",
            "=================================================================\n",
            " input_3 (InputLayer)        [(None, 1)]               0         \n",
            "                                                                 \n",
            " text_vectorization_1 (TextV  (None, 15)               0         \n",
            " ectorization)                                                   \n",
            "                                                                 \n",
            " embedding (Embedding)       (None, 15, 128)           1280000   \n",
            "                                                                 \n",
            " gru (GRU)                   (None, 64)                37248     \n",
            "                                                                 \n",
            " dense_2 (Dense)             (None, 1)                 65        \n",
            "                                                                 \n",
            "=================================================================\n",
            "Total params: 1,317,313\n",
            "Trainable params: 1,317,313\n",
            "Non-trainable params: 0\n",
            "_________________________________________________________________\n"
          ]
        }
      ]
    },
    {
      "cell_type": "code",
      "source": [
        "# Fit model\n",
        "model_3_history = model_3.fit(train_sentences,\n",
        "                              train_labels,\n",
        "                              epochs=5,\n",
        "                              validation_data=(val_sentences, val_labels),\n",
        "                              callbacks=[create_tensorboard_callback(SAVE_DIR, \"GRU\")])"
      ],
      "metadata": {
        "colab": {
          "base_uri": "https://localhost:8080/"
        },
        "id": "MYbzl90qip3F",
        "outputId": "57c4252a-886e-4ba2-ae7d-d891fe61a5f4"
      },
      "execution_count": 69,
      "outputs": [
        {
          "output_type": "stream",
          "name": "stdout",
          "text": [
            "Saving TensorBoard log files to: model_logs/GRU/20220729-234233\n",
            "Epoch 1/5\n",
            "215/215 [==============================] - 3s 8ms/step - loss: 0.1520 - accuracy: 0.9369 - val_loss: 0.7763 - val_accuracy: 0.7651\n",
            "Epoch 2/5\n",
            "215/215 [==============================] - 1s 6ms/step - loss: 0.0829 - accuracy: 0.9693 - val_loss: 0.8705 - val_accuracy: 0.7441\n",
            "Epoch 3/5\n",
            "215/215 [==============================] - 1s 6ms/step - loss: 0.0729 - accuracy: 0.9714 - val_loss: 0.9432 - val_accuracy: 0.7559\n",
            "Epoch 4/5\n",
            "215/215 [==============================] - 1s 6ms/step - loss: 0.0625 - accuracy: 0.9749 - val_loss: 0.8945 - val_accuracy: 0.7559\n",
            "Epoch 5/5\n",
            "215/215 [==============================] - 1s 6ms/step - loss: 0.0579 - accuracy: 0.9750 - val_loss: 1.0450 - val_accuracy: 0.7533\n"
          ]
        }
      ]
    },
    {
      "cell_type": "code",
      "source": [
        "model_3_preds = tf.squeeze(tf.round(model_3.predict(val_sentences)))\n",
        "model_3_preds"
      ],
      "metadata": {
        "colab": {
          "base_uri": "https://localhost:8080/"
        },
        "id": "KxSrnKt-kk_e",
        "outputId": "6b43f4eb-96c4-42dd-9ea4-47793b087482"
      },
      "execution_count": 70,
      "outputs": [
        {
          "output_type": "execute_result",
          "data": {
            "text/plain": [
              "<tf.Tensor: shape=(762,), dtype=float32, numpy=\n",
              "array([0., 1., 1., 0., 1., 0., 0., 0., 1., 1., 0., 0., 1., 0., 0., 0., 1.,\n",
              "       0., 1., 1., 0., 0., 1., 0., 0., 1., 0., 0., 1., 1., 1., 0., 1., 0.,\n",
              "       0., 1., 0., 0., 0., 0., 0., 1., 1., 1., 0., 0., 0., 1., 1., 0., 0.,\n",
              "       1., 0., 0., 1., 0., 0., 0., 0., 1., 0., 0., 1., 1., 0., 1., 0., 1.,\n",
              "       0., 0., 0., 0., 0., 0., 0., 1., 0., 1., 1., 1., 0., 0., 0., 1., 0.,\n",
              "       1., 0., 1., 0., 0., 1., 0., 0., 0., 1., 0., 1., 1., 0., 0., 0., 1.,\n",
              "       1., 0., 0., 0., 1., 0., 1., 0., 0., 1., 1., 0., 0., 1., 1., 1., 1.,\n",
              "       1., 1., 1., 1., 1., 0., 1., 1., 0., 1., 1., 0., 1., 0., 0., 1., 0.,\n",
              "       1., 1., 1., 0., 0., 1., 1., 0., 0., 1., 1., 0., 0., 0., 1., 0., 0.,\n",
              "       1., 0., 0., 0., 1., 1., 0., 1., 1., 0., 0., 0., 0., 0., 0., 0., 1.,\n",
              "       1., 0., 0., 0., 1., 0., 1., 1., 0., 1., 0., 1., 0., 0., 1., 0., 1.,\n",
              "       1., 0., 0., 0., 0., 1., 0., 0., 1., 1., 1., 0., 0., 0., 1., 0., 0.,\n",
              "       0., 1., 0., 1., 1., 0., 0., 0., 0., 1., 0., 1., 1., 0., 1., 1., 1.,\n",
              "       0., 1., 0., 0., 0., 1., 1., 0., 0., 1., 1., 0., 1., 1., 0., 0., 0.,\n",
              "       1., 0., 0., 0., 0., 0., 0., 0., 0., 0., 1., 0., 1., 1., 1., 0., 0.,\n",
              "       0., 0., 0., 0., 1., 0., 1., 0., 0., 1., 0., 1., 0., 0., 1., 0., 0.,\n",
              "       1., 0., 1., 1., 1., 0., 1., 0., 1., 1., 1., 0., 1., 1., 1., 1., 1.,\n",
              "       1., 0., 0., 0., 1., 0., 1., 1., 1., 1., 1., 1., 0., 1., 1., 0., 0.,\n",
              "       0., 1., 1., 1., 0., 0., 0., 0., 0., 0., 1., 0., 1., 0., 1., 1., 1.,\n",
              "       1., 0., 0., 1., 1., 0., 0., 1., 1., 0., 0., 0., 0., 0., 0., 0., 0.,\n",
              "       1., 1., 0., 1., 0., 0., 0., 0., 1., 1., 0., 1., 0., 0., 0., 0., 0.,\n",
              "       0., 0., 1., 1., 1., 0., 0., 1., 1., 1., 1., 0., 0., 1., 0., 1., 1.,\n",
              "       0., 0., 1., 0., 1., 1., 1., 0., 0., 0., 1., 0., 1., 1., 0., 1., 1.,\n",
              "       1., 0., 0., 0., 0., 1., 1., 0., 0., 0., 0., 0., 1., 1., 1., 0., 0.,\n",
              "       1., 0., 0., 1., 1., 0., 0., 0., 0., 1., 1., 1., 0., 0., 0., 1., 0.,\n",
              "       0., 1., 0., 0., 0., 1., 0., 0., 1., 1., 1., 1., 1., 1., 1., 0., 1.,\n",
              "       0., 0., 0., 1., 1., 0., 0., 1., 0., 1., 1., 0., 1., 0., 1., 0., 1.,\n",
              "       1., 0., 1., 0., 1., 1., 0., 0., 0., 0., 0., 1., 0., 0., 0., 1., 0.,\n",
              "       1., 0., 0., 1., 0., 0., 0., 1., 0., 1., 0., 0., 1., 0., 0., 1., 1.,\n",
              "       0., 0., 1., 1., 0., 1., 1., 1., 0., 0., 0., 1., 0., 1., 1., 1., 0.,\n",
              "       1., 0., 0., 0., 0., 1., 1., 0., 1., 0., 1., 0., 0., 0., 0., 0., 1.,\n",
              "       0., 0., 1., 0., 0., 1., 0., 0., 1., 0., 1., 1., 0., 0., 1., 0., 0.,\n",
              "       1., 0., 0., 0., 0., 0., 0., 1., 1., 1., 1., 1., 1., 1., 0., 1., 1.,\n",
              "       1., 1., 0., 0., 0., 0., 1., 0., 0., 1., 0., 1., 0., 1., 1., 0., 1.,\n",
              "       1., 0., 1., 1., 1., 0., 1., 0., 0., 0., 1., 1., 1., 0., 0., 1., 1.,\n",
              "       0., 1., 1., 0., 0., 0., 1., 1., 1., 1., 0., 0., 1., 1., 0., 1., 0.,\n",
              "       1., 0., 0., 0., 0., 0., 1., 1., 1., 0., 0., 0., 1., 0., 1., 1., 1.,\n",
              "       1., 0., 1., 1., 1., 1., 0., 0., 0., 0., 0., 1., 0., 0., 0., 0., 1.,\n",
              "       1., 0., 0., 0., 1., 1., 0., 1., 0., 0., 1., 1., 1., 1., 1., 0., 0.,\n",
              "       0., 0., 0., 0., 1., 0., 1., 1., 1., 0., 0., 0., 0., 0., 1., 1., 0.,\n",
              "       1., 0., 0., 0., 1., 0., 1., 0., 0., 1., 0., 1., 0., 1., 0., 1., 0.,\n",
              "       0., 0., 0., 0., 0., 0., 0., 1., 1., 0., 0., 1., 1., 0., 0., 1., 1.,\n",
              "       1., 0., 0., 0., 0., 1., 1., 0., 1., 1., 1., 0., 0., 0., 0., 1., 0.,\n",
              "       1., 1., 0., 0., 1., 1., 0., 0., 1., 1., 0., 0., 0., 0., 0., 1., 0.,\n",
              "       0., 1., 1., 1., 1., 0., 0., 0., 1., 1., 0., 1., 1., 0.],\n",
              "      dtype=float32)>"
            ]
          },
          "metadata": {},
          "execution_count": 70
        }
      ]
    },
    {
      "cell_type": "code",
      "source": [
        "model_3_results = calculate_results(y_true=val_labels,\n",
        "                                    y_pred=model_3_preds)"
      ],
      "metadata": {
        "id": "JTfeVvyilHFf"
      },
      "execution_count": 71,
      "outputs": []
    },
    {
      "cell_type": "code",
      "source": [
        "model_3_results"
      ],
      "metadata": {
        "colab": {
          "base_uri": "https://localhost:8080/"
        },
        "id": "-jzAoUpmlrkj",
        "outputId": "ce9697fd-66ad-4b63-f707-dc74cc9e8c26"
      },
      "execution_count": 72,
      "outputs": [
        {
          "output_type": "execute_result",
          "data": {
            "text/plain": [
              "{'accuracy': 75.32808398950131,\n",
              " 'f1': 0.75402691938125,\n",
              " 'precision': 0.7556144297752255,\n",
              " 'recall': 0.7532808398950132}"
            ]
          },
          "metadata": {},
          "execution_count": 72
        }
      ]
    },
    {
      "cell_type": "code",
      "source": [
        "#Model 4: Bidirectional RNN\n",
        "##goes left to right and right to left"
      ],
      "metadata": {
        "id": "7GzSusEOlsvy"
      },
      "execution_count": 73,
      "outputs": []
    },
    {
      "cell_type": "code",
      "source": [
        "from tensorflow.keras import layers\n",
        "inputs = layers.Input(shape=(1,), dtype=\"string\")\n",
        "x = text_vectorizer(inputs)\n",
        "x = embedding(x)\n",
        "#x = layers.Bidirectional(layers.LSTM(64, return_sequences=True))(x)\n",
        "x = layers.Bidirectional(layers.LSTM(64))(x)\n",
        "outputs = layers.Dense(1, activation=\"sigmoid\")(x)\n",
        "model_4 = tf.keras.Model(inputs, outputs, name=\"model_4\")"
      ],
      "metadata": {
        "id": "Use5CQ2VxJJm"
      },
      "execution_count": 74,
      "outputs": []
    },
    {
      "cell_type": "code",
      "source": [
        "model_4.summary()"
      ],
      "metadata": {
        "colab": {
          "base_uri": "https://localhost:8080/"
        },
        "id": "cZkBd7oEyYOJ",
        "outputId": "b9ee602c-d045-4a28-ddcb-bb5c4ab487ee"
      },
      "execution_count": 75,
      "outputs": [
        {
          "output_type": "stream",
          "name": "stdout",
          "text": [
            "Model: \"model_4\"\n",
            "_________________________________________________________________\n",
            " Layer (type)                Output Shape              Param #   \n",
            "=================================================================\n",
            " input_4 (InputLayer)        [(None, 1)]               0         \n",
            "                                                                 \n",
            " text_vectorization_1 (TextV  (None, 15)               0         \n",
            " ectorization)                                                   \n",
            "                                                                 \n",
            " embedding (Embedding)       (None, 15, 128)           1280000   \n",
            "                                                                 \n",
            " bidirectional (Bidirectiona  (None, 128)              98816     \n",
            " l)                                                              \n",
            "                                                                 \n",
            " dense_3 (Dense)             (None, 1)                 129       \n",
            "                                                                 \n",
            "=================================================================\n",
            "Total params: 1,378,945\n",
            "Trainable params: 1,378,945\n",
            "Non-trainable params: 0\n",
            "_________________________________________________________________\n"
          ]
        }
      ]
    },
    {
      "cell_type": "code",
      "source": [
        "#compile\n",
        "model_4.compile(loss=\"binary_crossentropy\",\n",
        "                optimizer=tf.keras.optimizers.Adam(),\n",
        "                metrics=[\"accuracy\"])"
      ],
      "metadata": {
        "id": "adNTiqKuyje2"
      },
      "execution_count": 76,
      "outputs": []
    },
    {
      "cell_type": "code",
      "source": [
        "# Fit model\n",
        "model_4_history = model_4.fit(train_sentences,\n",
        "                              train_labels,\n",
        "                              epochs=5,\n",
        "                              validation_data=(val_sentences, val_labels),\n",
        "                              callbacks=[create_tensorboard_callback(SAVE_DIR, \"Bidrectional\")])"
      ],
      "metadata": {
        "colab": {
          "base_uri": "https://localhost:8080/"
        },
        "id": "bgj9Au4jzIAS",
        "outputId": "70c08468-6c67-4cb6-e0f2-8034d1c78c41"
      },
      "execution_count": 77,
      "outputs": [
        {
          "output_type": "stream",
          "name": "stdout",
          "text": [
            "Saving TensorBoard log files to: model_logs/Bidrectional/20220729-234246\n",
            "Epoch 1/5\n",
            "215/215 [==============================] - 5s 12ms/step - loss: 0.1029 - accuracy: 0.9707 - val_loss: 0.9861 - val_accuracy: 0.7625\n",
            "Epoch 2/5\n",
            "215/215 [==============================] - 2s 8ms/step - loss: 0.0513 - accuracy: 0.9781 - val_loss: 1.1695 - val_accuracy: 0.7651\n",
            "Epoch 3/5\n",
            "215/215 [==============================] - 2s 11ms/step - loss: 0.0487 - accuracy: 0.9772 - val_loss: 1.2965 - val_accuracy: 0.7507\n",
            "Epoch 4/5\n",
            "215/215 [==============================] - 2s 9ms/step - loss: 0.0441 - accuracy: 0.9790 - val_loss: 1.4009 - val_accuracy: 0.7546\n",
            "Epoch 5/5\n",
            "215/215 [==============================] - 2s 8ms/step - loss: 0.0407 - accuracy: 0.9793 - val_loss: 1.5336 - val_accuracy: 0.7520\n"
          ]
        }
      ]
    },
    {
      "cell_type": "code",
      "source": [
        "model_4_pred_probs = model_4.predict(val_sentences)\n",
        "model_4_pred_probs"
      ],
      "metadata": {
        "colab": {
          "base_uri": "https://localhost:8080/"
        },
        "id": "rwQB-EBKzYpF",
        "outputId": "0a191e9f-5539-41f4-ad9d-7a47054e89d9"
      },
      "execution_count": 78,
      "outputs": [
        {
          "output_type": "execute_result",
          "data": {
            "text/plain": [
              "array([[5.17781766e-04],\n",
              "       [9.88602996e-01],\n",
              "       [9.99991655e-01],\n",
              "       [1.31482352e-03],\n",
              "       [9.99987721e-01],\n",
              "       [5.01092039e-02],\n",
              "       [6.01542561e-05],\n",
              "       [1.58454408e-03],\n",
              "       [9.99984026e-01],\n",
              "       [9.99988079e-01],\n",
              "       [2.33333092e-04],\n",
              "       [2.03544833e-03],\n",
              "       [9.99993801e-01],\n",
              "       [5.14644926e-05],\n",
              "       [3.65783380e-05],\n",
              "       [6.96008205e-02],\n",
              "       [9.99994516e-01],\n",
              "       [6.98613760e-04],\n",
              "       [9.99666691e-01],\n",
              "       [9.94333744e-01],\n",
              "       [3.47325243e-02],\n",
              "       [9.39799786e-01],\n",
              "       [9.99886394e-01],\n",
              "       [7.74271712e-02],\n",
              "       [1.69092219e-03],\n",
              "       [9.99990344e-01],\n",
              "       [4.96092718e-04],\n",
              "       [1.29059408e-04],\n",
              "       [9.99983072e-01],\n",
              "       [9.99994516e-01],\n",
              "       [9.99994755e-01],\n",
              "       [5.65018971e-04],\n",
              "       [7.80229747e-01],\n",
              "       [4.03757513e-05],\n",
              "       [1.27336418e-04],\n",
              "       [9.99983788e-01],\n",
              "       [2.95533446e-05],\n",
              "       [6.60160184e-01],\n",
              "       [5.58093889e-03],\n",
              "       [1.88090940e-04],\n",
              "       [1.01352081e-04],\n",
              "       [9.99985576e-01],\n",
              "       [9.99989629e-01],\n",
              "       [8.96443129e-01],\n",
              "       [6.74683542e-04],\n",
              "       [3.58412217e-04],\n",
              "       [2.15145081e-01],\n",
              "       [9.99989867e-01],\n",
              "       [9.94344473e-01],\n",
              "       [6.23480696e-03],\n",
              "       [3.55326483e-04],\n",
              "       [9.99994159e-01],\n",
              "       [5.84265857e-04],\n",
              "       [1.32859964e-02],\n",
              "       [8.06230962e-01],\n",
              "       [8.64583271e-05],\n",
              "       [1.16415722e-04],\n",
              "       [1.11254958e-04],\n",
              "       [1.77512376e-03],\n",
              "       [5.36125600e-01],\n",
              "       [1.62399869e-04],\n",
              "       [2.75471667e-03],\n",
              "       [9.99975204e-01],\n",
              "       [9.99994397e-01],\n",
              "       [6.38105776e-05],\n",
              "       [9.99991179e-01],\n",
              "       [1.12473324e-03],\n",
              "       [9.99989152e-01],\n",
              "       [1.80114564e-02],\n",
              "       [2.05272911e-04],\n",
              "       [1.86403238e-04],\n",
              "       [1.62372933e-04],\n",
              "       [4.57823422e-04],\n",
              "       [9.74002667e-03],\n",
              "       [6.37045950e-02],\n",
              "       [9.99953270e-01],\n",
              "       [1.83926400e-04],\n",
              "       [9.99986410e-01],\n",
              "       [9.99992490e-01],\n",
              "       [9.99991417e-01],\n",
              "       [3.29573274e-01],\n",
              "       [1.16606522e-03],\n",
              "       [7.79627085e-01],\n",
              "       [9.99962687e-01],\n",
              "       [1.56672526e-04],\n",
              "       [5.47380447e-01],\n",
              "       [2.13236752e-04],\n",
              "       [9.99981523e-01],\n",
              "       [1.81878954e-02],\n",
              "       [1.10507794e-01],\n",
              "       [9.98835385e-01],\n",
              "       [4.12950851e-03],\n",
              "       [7.61719566e-05],\n",
              "       [4.16858122e-04],\n",
              "       [9.99975801e-01],\n",
              "       [6.43914682e-05],\n",
              "       [4.37538445e-01],\n",
              "       [9.99903917e-01],\n",
              "       [1.25417986e-03],\n",
              "       [4.06382605e-03],\n",
              "       [3.66347114e-04],\n",
              "       [3.10254902e-01],\n",
              "       [9.99950051e-01],\n",
              "       [6.07611655e-05],\n",
              "       [5.60688612e-04],\n",
              "       [7.96494947e-04],\n",
              "       [9.99819219e-01],\n",
              "       [4.46133036e-03],\n",
              "       [9.96887505e-01],\n",
              "       [1.01703264e-01],\n",
              "       [1.11035784e-04],\n",
              "       [9.99942899e-01],\n",
              "       [9.99975681e-01],\n",
              "       [6.49548993e-02],\n",
              "       [2.61385430e-05],\n",
              "       [9.99736369e-01],\n",
              "       [9.99992132e-01],\n",
              "       [9.99976754e-01],\n",
              "       [9.99987245e-01],\n",
              "       [7.77481675e-01],\n",
              "       [9.99992132e-01],\n",
              "       [9.99485493e-01],\n",
              "       [9.99995708e-01],\n",
              "       [9.99986887e-01],\n",
              "       [4.88811784e-05],\n",
              "       [3.97931963e-01],\n",
              "       [9.99976754e-01],\n",
              "       [1.07943885e-01],\n",
              "       [9.99993563e-01],\n",
              "       [9.97523606e-01],\n",
              "       [3.97389799e-01],\n",
              "       [9.99983788e-01],\n",
              "       [4.73078690e-04],\n",
              "       [1.00749470e-01],\n",
              "       [9.99944925e-01],\n",
              "       [4.91670519e-03],\n",
              "       [9.99653697e-01],\n",
              "       [9.99991536e-01],\n",
              "       [9.99996066e-01],\n",
              "       [2.58824875e-04],\n",
              "       [8.08977129e-05],\n",
              "       [9.99975085e-01],\n",
              "       [9.99953747e-01],\n",
              "       [1.02888346e-02],\n",
              "       [1.23669510e-04],\n",
              "       [9.99990702e-01],\n",
              "       [9.81445253e-01],\n",
              "       [7.46060832e-05],\n",
              "       [5.95244020e-03],\n",
              "       [1.84222314e-04],\n",
              "       [9.99985695e-01],\n",
              "       [5.24986675e-03],\n",
              "       [4.06899781e-04],\n",
              "       [9.99981165e-01],\n",
              "       [1.11856200e-04],\n",
              "       [5.00110327e-04],\n",
              "       [3.12151574e-03],\n",
              "       [9.97927308e-01],\n",
              "       [9.99989152e-01],\n",
              "       [4.36354488e-01],\n",
              "       [9.99971390e-01],\n",
              "       [9.99985218e-01],\n",
              "       [9.47631802e-03],\n",
              "       [1.87834159e-01],\n",
              "       [2.64142116e-04],\n",
              "       [1.28772873e-02],\n",
              "       [1.22458441e-03],\n",
              "       [1.26073253e-04],\n",
              "       [1.39802834e-03],\n",
              "       [9.98837054e-01],\n",
              "       [9.99896288e-01],\n",
              "       [4.48343431e-04],\n",
              "       [6.67207350e-04],\n",
              "       [1.07557571e-04],\n",
              "       [9.97651637e-01],\n",
              "       [6.73683753e-05],\n",
              "       [9.99984145e-01],\n",
              "       [9.98008668e-01],\n",
              "       [5.61641791e-05],\n",
              "       [9.99944568e-01],\n",
              "       [3.64455074e-04],\n",
              "       [9.99959946e-01],\n",
              "       [4.73582011e-04],\n",
              "       [4.80696410e-01],\n",
              "       [9.99521255e-01],\n",
              "       [2.23085997e-04],\n",
              "       [9.99990940e-01],\n",
              "       [7.16069877e-01],\n",
              "       [2.94757611e-03],\n",
              "       [5.73403813e-05],\n",
              "       [5.22236260e-05],\n",
              "       [1.30838132e-03],\n",
              "       [9.99343574e-01],\n",
              "       [5.44741424e-03],\n",
              "       [7.93307483e-01],\n",
              "       [9.76838887e-01],\n",
              "       [9.99991536e-01],\n",
              "       [5.52320421e-01],\n",
              "       [6.55117512e-01],\n",
              "       [5.04714902e-04],\n",
              "       [2.36934167e-04],\n",
              "       [9.99991536e-01],\n",
              "       [1.03801351e-04],\n",
              "       [3.08645358e-05],\n",
              "       [5.48375792e-05],\n",
              "       [9.99971509e-01],\n",
              "       [6.64963809e-05],\n",
              "       [9.99778330e-01],\n",
              "       [9.99991536e-01],\n",
              "       [2.65373201e-05],\n",
              "       [1.39679221e-04],\n",
              "       [1.34950038e-04],\n",
              "       [4.93712395e-01],\n",
              "       [9.81788933e-01],\n",
              "       [1.38933217e-04],\n",
              "       [9.99892592e-01],\n",
              "       [9.97250736e-01],\n",
              "       [4.26547049e-05],\n",
              "       [9.99972820e-01],\n",
              "       [9.79466200e-01],\n",
              "       [9.99981880e-01],\n",
              "       [2.16590081e-04],\n",
              "       [9.99989986e-01],\n",
              "       [1.94592521e-01],\n",
              "       [5.67682873e-05],\n",
              "       [2.49430075e-01],\n",
              "       [9.99654174e-01],\n",
              "       [9.99993920e-01],\n",
              "       [7.11880904e-03],\n",
              "       [9.88833420e-03],\n",
              "       [9.99941349e-01],\n",
              "       [9.99947071e-01],\n",
              "       [2.60635697e-05],\n",
              "       [9.99962449e-01],\n",
              "       [9.99985576e-01],\n",
              "       [6.08686544e-02],\n",
              "       [5.38446591e-04],\n",
              "       [7.12887777e-05],\n",
              "       [9.99990225e-01],\n",
              "       [4.48343431e-04],\n",
              "       [4.04249993e-04],\n",
              "       [5.18168509e-01],\n",
              "       [1.77578113e-05],\n",
              "       [3.91090382e-03],\n",
              "       [4.65832092e-03],\n",
              "       [5.97024336e-05],\n",
              "       [9.89662111e-02],\n",
              "       [1.90800894e-03],\n",
              "       [9.99231339e-01],\n",
              "       [7.02591846e-04],\n",
              "       [9.99981165e-01],\n",
              "       [9.99777734e-01],\n",
              "       [9.98406112e-01],\n",
              "       [3.10614356e-04],\n",
              "       [6.29268633e-03],\n",
              "       [3.30868247e-03],\n",
              "       [1.45095680e-03],\n",
              "       [3.86200554e-05],\n",
              "       [6.87088235e-04],\n",
              "       [9.99944806e-01],\n",
              "       [7.43829514e-05],\n",
              "       [9.99979138e-01],\n",
              "       [4.99371927e-05],\n",
              "       [1.27388033e-04],\n",
              "       [9.99991536e-01],\n",
              "       [3.08317802e-04],\n",
              "       [9.99433458e-01],\n",
              "       [4.99198039e-04],\n",
              "       [2.72086579e-02],\n",
              "       [9.99974966e-01],\n",
              "       [1.91131188e-03],\n",
              "       [1.23045495e-04],\n",
              "       [9.99985218e-01],\n",
              "       [1.15779405e-02],\n",
              "       [9.99783337e-01],\n",
              "       [9.99987125e-01],\n",
              "       [9.99994636e-01],\n",
              "       [6.64509594e-01],\n",
              "       [9.85033333e-01],\n",
              "       [1.33294365e-04],\n",
              "       [9.99984980e-01],\n",
              "       [1.62552819e-01],\n",
              "       [9.99684215e-01],\n",
              "       [3.48894333e-04],\n",
              "       [9.99989510e-01],\n",
              "       [9.99356449e-01],\n",
              "       [9.55151975e-01],\n",
              "       [9.99968529e-01],\n",
              "       [9.99839664e-01],\n",
              "       [9.99584615e-01],\n",
              "       [3.53708006e-02],\n",
              "       [4.48343431e-04],\n",
              "       [4.24186670e-04],\n",
              "       [9.99413133e-01],\n",
              "       [4.11313353e-03],\n",
              "       [9.99988675e-01],\n",
              "       [9.99637842e-01],\n",
              "       [3.99345189e-01],\n",
              "       [9.96996760e-01],\n",
              "       [9.99993563e-01],\n",
              "       [9.99977589e-01],\n",
              "       [7.17232033e-05],\n",
              "       [9.99978423e-01],\n",
              "       [9.99987960e-01],\n",
              "       [5.08007314e-03],\n",
              "       [7.36615714e-03],\n",
              "       [8.07430685e-01],\n",
              "       [9.92565155e-01],\n",
              "       [9.98729646e-01],\n",
              "       [9.99959826e-01],\n",
              "       [3.41697067e-01],\n",
              "       [3.51969706e-04],\n",
              "       [6.27860602e-04],\n",
              "       [4.20639664e-01],\n",
              "       [1.84995035e-04],\n",
              "       [2.04021169e-04],\n",
              "       [9.99991298e-01],\n",
              "       [1.82934236e-02],\n",
              "       [9.97824788e-01],\n",
              "       [2.80039501e-04],\n",
              "       [9.99987841e-01],\n",
              "       [3.68321776e-01],\n",
              "       [9.99990463e-01],\n",
              "       [9.99871850e-01],\n",
              "       [4.19889111e-05],\n",
              "       [4.90283191e-01],\n",
              "       [9.99992847e-01],\n",
              "       [9.99988556e-01],\n",
              "       [3.42532337e-01],\n",
              "       [2.67125224e-03],\n",
              "       [9.99985695e-01],\n",
              "       [9.99914646e-01],\n",
              "       [5.45438891e-03],\n",
              "       [1.09627275e-04],\n",
              "       [1.06331427e-03],\n",
              "       [6.34851895e-05],\n",
              "       [7.72327185e-03],\n",
              "       [2.21671144e-04],\n",
              "       [3.01379099e-04],\n",
              "       [2.15242431e-02],\n",
              "       [4.91712779e-01],\n",
              "       [9.99986768e-01],\n",
              "       [2.69288081e-04],\n",
              "       [9.99988079e-01],\n",
              "       [3.06653586e-04],\n",
              "       [3.11321528e-05],\n",
              "       [3.98841724e-02],\n",
              "       [3.59242433e-04],\n",
              "       [9.99995112e-01],\n",
              "       [9.99258101e-01],\n",
              "       [7.06504285e-02],\n",
              "       [9.99993801e-01],\n",
              "       [5.00168264e-01],\n",
              "       [1.05635142e-02],\n",
              "       [8.10435624e-04],\n",
              "       [4.11395356e-03],\n",
              "       [1.16480052e-01],\n",
              "       [9.85200750e-04],\n",
              "       [7.68189784e-03],\n",
              "       [9.99988317e-01],\n",
              "       [9.99783337e-01],\n",
              "       [8.43535602e-01],\n",
              "       [7.41924763e-01],\n",
              "       [1.14633038e-03],\n",
              "       [9.99979019e-01],\n",
              "       [9.99992132e-01],\n",
              "       [9.93379354e-01],\n",
              "       [9.99927402e-01],\n",
              "       [5.22169867e-04],\n",
              "       [1.78950787e-01],\n",
              "       [9.99501586e-01],\n",
              "       [2.43213595e-04],\n",
              "       [9.99989033e-01],\n",
              "       [9.99992132e-01],\n",
              "       [7.17940973e-03],\n",
              "       [1.14151001e-01],\n",
              "       [8.25001001e-01],\n",
              "       [4.24014841e-04],\n",
              "       [9.97979820e-01],\n",
              "       [9.99989748e-01],\n",
              "       [9.99992013e-01],\n",
              "       [5.89768242e-05],\n",
              "       [2.49488105e-04],\n",
              "       [3.51712435e-01],\n",
              "       [9.99986768e-01],\n",
              "       [2.55144085e-04],\n",
              "       [9.99986291e-01],\n",
              "       [9.99992490e-01],\n",
              "       [2.35296626e-04],\n",
              "       [9.99937296e-01],\n",
              "       [9.99962926e-01],\n",
              "       [9.51464951e-01],\n",
              "       [6.72997790e-04],\n",
              "       [9.41899326e-03],\n",
              "       [1.32431247e-04],\n",
              "       [4.94837150e-05],\n",
              "       [4.28799987e-01],\n",
              "       [9.99988675e-01],\n",
              "       [9.13726573e-04],\n",
              "       [2.40243739e-04],\n",
              "       [2.52527680e-04],\n",
              "       [2.22326678e-04],\n",
              "       [3.60840738e-01],\n",
              "       [9.99920726e-01],\n",
              "       [9.99928117e-01],\n",
              "       [9.98135805e-01],\n",
              "       [3.84508639e-05],\n",
              "       [6.25011235e-05],\n",
              "       [9.99911904e-01],\n",
              "       [1.36701972e-04],\n",
              "       [2.45256275e-02],\n",
              "       [9.80811238e-01],\n",
              "       [9.99990344e-01],\n",
              "       [4.99697693e-04],\n",
              "       [1.31703506e-03],\n",
              "       [3.13265627e-04],\n",
              "       [4.44156583e-03],\n",
              "       [9.33466852e-01],\n",
              "       [9.99987960e-01],\n",
              "       [9.99988556e-01],\n",
              "       [5.14046005e-05],\n",
              "       [7.52553926e-04],\n",
              "       [9.37765315e-02],\n",
              "       [9.99988914e-01],\n",
              "       [8.62622474e-05],\n",
              "       [1.84404547e-04],\n",
              "       [9.99560893e-01],\n",
              "       [7.66294659e-04],\n",
              "       [1.06377520e-04],\n",
              "       [2.62299320e-04],\n",
              "       [9.99709547e-01],\n",
              "       [5.81572298e-03],\n",
              "       [4.87636123e-03],\n",
              "       [7.17460573e-01],\n",
              "       [9.99958754e-01],\n",
              "       [9.99992609e-01],\n",
              "       [9.99982238e-01],\n",
              "       [9.99966025e-01],\n",
              "       [9.99555886e-01],\n",
              "       [9.96342242e-01],\n",
              "       [6.83032558e-04],\n",
              "       [9.99990225e-01],\n",
              "       [7.74352447e-05],\n",
              "       [7.87082911e-02],\n",
              "       [3.74270715e-02],\n",
              "       [9.99679089e-01],\n",
              "       [9.99744713e-01],\n",
              "       [5.72946714e-03],\n",
              "       [4.09500092e-01],\n",
              "       [9.99982953e-01],\n",
              "       [2.69776036e-04],\n",
              "       [9.99614954e-01],\n",
              "       [9.85552490e-01],\n",
              "       [1.17740012e-03],\n",
              "       [2.72926271e-01],\n",
              "       [2.73429998e-03],\n",
              "       [9.99989629e-01],\n",
              "       [2.18095374e-03],\n",
              "       [9.99804080e-01],\n",
              "       [9.99909401e-01],\n",
              "       [5.15854098e-02],\n",
              "       [9.99933124e-01],\n",
              "       [3.04777186e-05],\n",
              "       [7.25230515e-01],\n",
              "       [9.99956131e-01],\n",
              "       [1.83878685e-04],\n",
              "       [6.50447235e-02],\n",
              "       [5.23936570e-01],\n",
              "       [3.51712435e-01],\n",
              "       [2.75411177e-04],\n",
              "       [9.99933481e-01],\n",
              "       [4.39919968e-05],\n",
              "       [5.16271939e-05],\n",
              "       [1.83033699e-03],\n",
              "       [9.44926202e-01],\n",
              "       [4.06033563e-04],\n",
              "       [9.99936342e-01],\n",
              "       [6.70628215e-05],\n",
              "       [5.51454304e-03],\n",
              "       [9.99994278e-01],\n",
              "       [1.62211666e-03],\n",
              "       [7.76663306e-04],\n",
              "       [1.27680659e-01],\n",
              "       [9.99977589e-01],\n",
              "       [2.32199375e-02],\n",
              "       [9.95818555e-01],\n",
              "       [1.65819321e-04],\n",
              "       [2.85778241e-03],\n",
              "       [9.99973297e-01],\n",
              "       [2.47163061e-05],\n",
              "       [3.23147979e-04],\n",
              "       [9.99977350e-01],\n",
              "       [9.99930382e-01],\n",
              "       [7.56722912e-02],\n",
              "       [1.66853832e-03],\n",
              "       [6.27414763e-01],\n",
              "       [9.99635339e-01],\n",
              "       [6.71201677e-04],\n",
              "       [9.99869108e-01],\n",
              "       [5.15266180e-01],\n",
              "       [9.99992251e-01],\n",
              "       [1.36383131e-01],\n",
              "       [9.58840974e-05],\n",
              "       [6.03805202e-05],\n",
              "       [9.99938726e-01],\n",
              "       [8.55449107e-05],\n",
              "       [9.95478451e-01],\n",
              "       [9.99988317e-01],\n",
              "       [9.55462039e-01],\n",
              "       [4.36311275e-01],\n",
              "       [9.99991775e-01],\n",
              "       [4.60896226e-05],\n",
              "       [2.82032252e-03],\n",
              "       [2.57609936e-04],\n",
              "       [1.19614031e-03],\n",
              "       [9.99994516e-01],\n",
              "       [9.99991059e-01],\n",
              "       [7.93718770e-02],\n",
              "       [3.50499481e-01],\n",
              "       [8.98176059e-03],\n",
              "       [9.99991536e-01],\n",
              "       [6.12563235e-05],\n",
              "       [9.17799480e-04],\n",
              "       [1.16606522e-03],\n",
              "       [2.15136469e-03],\n",
              "       [1.35432428e-03],\n",
              "       [9.99968529e-01],\n",
              "       [9.52577829e-01],\n",
              "       [1.50423759e-04],\n",
              "       [9.99986768e-01],\n",
              "       [1.63112173e-03],\n",
              "       [4.63138385e-05],\n",
              "       [9.99994874e-01],\n",
              "       [1.31321151e-03],\n",
              "       [1.30951230e-04],\n",
              "       [9.99981642e-01],\n",
              "       [1.00216242e-02],\n",
              "       [9.99987841e-01],\n",
              "       [9.99990106e-01],\n",
              "       [3.83077917e-04],\n",
              "       [1.24706258e-03],\n",
              "       [9.99982595e-01],\n",
              "       [2.45932984e-04],\n",
              "       [1.12028807e-04],\n",
              "       [9.99990225e-01],\n",
              "       [8.31668789e-04],\n",
              "       [4.49372863e-04],\n",
              "       [3.08772759e-03],\n",
              "       [6.28941953e-02],\n",
              "       [3.94252548e-03],\n",
              "       [1.07171701e-03],\n",
              "       [9.99995470e-01],\n",
              "       [9.99991179e-01],\n",
              "       [9.99966264e-01],\n",
              "       [9.99104321e-01],\n",
              "       [8.72114360e-01],\n",
              "       [9.99987602e-01],\n",
              "       [9.99977708e-01],\n",
              "       [2.78530689e-03],\n",
              "       [9.97145712e-01],\n",
              "       [9.99970436e-01],\n",
              "       [3.19883525e-01],\n",
              "       [9.99320865e-01],\n",
              "       [2.63435417e-04],\n",
              "       [3.79501835e-05],\n",
              "       [1.10430854e-04],\n",
              "       [4.01089317e-04],\n",
              "       [9.99991417e-01],\n",
              "       [2.25756556e-01],\n",
              "       [1.93459466e-01],\n",
              "       [9.99868274e-01],\n",
              "       [1.52548155e-05],\n",
              "       [9.99926448e-01],\n",
              "       [7.31934968e-04],\n",
              "       [9.98437941e-01],\n",
              "       [9.99992251e-01],\n",
              "       [1.17222990e-04],\n",
              "       [9.99982595e-01],\n",
              "       [9.99994755e-01],\n",
              "       [1.14580151e-03],\n",
              "       [9.99908090e-01],\n",
              "       [9.99988675e-01],\n",
              "       [9.99956369e-01],\n",
              "       [2.74943918e-01],\n",
              "       [3.38878334e-01],\n",
              "       [7.78722465e-01],\n",
              "       [7.04569160e-04],\n",
              "       [1.23604909e-02],\n",
              "       [9.99994040e-01],\n",
              "       [9.99989867e-01],\n",
              "       [6.44990385e-01],\n",
              "       [1.68478906e-01],\n",
              "       [9.98974562e-01],\n",
              "       [9.93347943e-01],\n",
              "       [9.99964833e-01],\n",
              "       [1.40613201e-03],\n",
              "       [9.99801815e-01],\n",
              "       [9.97971594e-01],\n",
              "       [4.52713072e-02],\n",
              "       [6.84421742e-04],\n",
              "       [6.09341252e-04],\n",
              "       [9.99846697e-01],\n",
              "       [9.99991179e-01],\n",
              "       [9.99889851e-01],\n",
              "       [9.99960542e-01],\n",
              "       [7.62380481e-01],\n",
              "       [1.02381893e-01],\n",
              "       [9.97300208e-01],\n",
              "       [9.99461353e-01],\n",
              "       [3.82215694e-05],\n",
              "       [9.99961853e-01],\n",
              "       [9.21972853e-04],\n",
              "       [9.99259531e-01],\n",
              "       [6.34883810e-03],\n",
              "       [1.05466162e-04],\n",
              "       [2.88061594e-04],\n",
              "       [8.87303380e-04],\n",
              "       [8.62638990e-05],\n",
              "       [9.95238185e-01],\n",
              "       [6.49942815e-01],\n",
              "       [9.99646664e-01],\n",
              "       [3.21887783e-03],\n",
              "       [8.89291428e-03],\n",
              "       [7.77951063e-05],\n",
              "       [9.99993563e-01],\n",
              "       [1.73789058e-02],\n",
              "       [9.98213530e-01],\n",
              "       [9.99991179e-01],\n",
              "       [9.99985695e-01],\n",
              "       [9.99973774e-01],\n",
              "       [2.38550565e-04],\n",
              "       [9.99884963e-01],\n",
              "       [9.99975085e-01],\n",
              "       [9.99785244e-01],\n",
              "       [9.32387054e-01],\n",
              "       [4.57753241e-02],\n",
              "       [2.36561418e-01],\n",
              "       [1.63460805e-04],\n",
              "       [2.81812833e-03],\n",
              "       [3.94733883e-02],\n",
              "       [9.99944448e-01],\n",
              "       [8.49524804e-04],\n",
              "       [2.17071047e-05],\n",
              "       [2.66964696e-02],\n",
              "       [1.04144390e-04],\n",
              "       [9.99987960e-01],\n",
              "       [9.99809563e-01],\n",
              "       [9.54379514e-03],\n",
              "       [1.79723561e-01],\n",
              "       [5.76516541e-05],\n",
              "       [9.98937190e-01],\n",
              "       [5.15266180e-01],\n",
              "       [1.20729404e-04],\n",
              "       [9.99401212e-01],\n",
              "       [2.01782375e-03],\n",
              "       [1.30261516e-03],\n",
              "       [9.99968529e-01],\n",
              "       [9.99994278e-01],\n",
              "       [9.99992132e-01],\n",
              "       [9.07357514e-01],\n",
              "       [9.99963522e-01],\n",
              "       [2.95803358e-04],\n",
              "       [4.09500092e-01],\n",
              "       [2.11862735e-02],\n",
              "       [7.22258992e-04],\n",
              "       [1.19873628e-04],\n",
              "       [4.90760547e-04],\n",
              "       [9.99731600e-01],\n",
              "       [4.54056135e-04],\n",
              "       [9.99988675e-01],\n",
              "       [9.96602297e-01],\n",
              "       [9.99995708e-01],\n",
              "       [3.53233976e-04],\n",
              "       [1.40227305e-04],\n",
              "       [3.82635946e-04],\n",
              "       [2.06963057e-04],\n",
              "       [3.05964914e-03],\n",
              "       [9.99995947e-01],\n",
              "       [9.99988914e-01],\n",
              "       [1.34435904e-04],\n",
              "       [9.99943376e-01],\n",
              "       [1.49044588e-01],\n",
              "       [1.25208811e-03],\n",
              "       [1.82338431e-01],\n",
              "       [9.99601662e-01],\n",
              "       [1.18548761e-03],\n",
              "       [9.99974251e-01],\n",
              "       [9.73033428e-01],\n",
              "       [4.03010696e-02],\n",
              "       [9.99989629e-01],\n",
              "       [1.07764872e-02],\n",
              "       [9.99841213e-01],\n",
              "       [1.05964355e-04],\n",
              "       [4.41628784e-01],\n",
              "       [1.94796012e-03],\n",
              "       [9.99992847e-01],\n",
              "       [1.19873628e-04],\n",
              "       [3.80387559e-04],\n",
              "       [5.63492812e-03],\n",
              "       [6.16911193e-03],\n",
              "       [1.17058884e-02],\n",
              "       [2.31623083e-01],\n",
              "       [8.65217648e-04],\n",
              "       [5.00726514e-02],\n",
              "       [9.99985695e-01],\n",
              "       [9.99676943e-01],\n",
              "       [2.46529818e-01],\n",
              "       [8.50246404e-04],\n",
              "       [9.99982119e-01],\n",
              "       [9.99979496e-01],\n",
              "       [1.50538544e-04],\n",
              "       [1.38583273e-04],\n",
              "       [9.99991655e-01],\n",
              "       [6.07312143e-01],\n",
              "       [9.99964952e-01],\n",
              "       [3.24246973e-01],\n",
              "       [6.19825441e-05],\n",
              "       [2.41641857e-04],\n",
              "       [8.94790888e-01],\n",
              "       [9.99971271e-01],\n",
              "       [9.99988794e-01],\n",
              "       [1.78362757e-01],\n",
              "       [9.99985933e-01],\n",
              "       [5.15266180e-01],\n",
              "       [5.93814373e-01],\n",
              "       [4.43176687e-01],\n",
              "       [7.67932070e-05],\n",
              "       [2.40213980e-04],\n",
              "       [4.40547010e-03],\n",
              "       [9.83577728e-01],\n",
              "       [2.03167107e-02],\n",
              "       [9.99979138e-01],\n",
              "       [8.88827860e-01],\n",
              "       [1.21336849e-02],\n",
              "       [8.63224342e-02],\n",
              "       [9.99992967e-01],\n",
              "       [9.84764040e-01],\n",
              "       [2.47674994e-04],\n",
              "       [2.45276839e-04],\n",
              "       [9.84677196e-01],\n",
              "       [9.99963045e-01],\n",
              "       [8.66161718e-04],\n",
              "       [9.10203636e-01],\n",
              "       [1.21082016e-03],\n",
              "       [1.14315120e-03],\n",
              "       [1.48561259e-03],\n",
              "       [9.99668956e-01],\n",
              "       [1.44173362e-04],\n",
              "       [6.72731694e-05],\n",
              "       [9.98815179e-01],\n",
              "       [9.99990463e-01],\n",
              "       [9.99962926e-01],\n",
              "       [9.99989152e-01],\n",
              "       [3.67930043e-05],\n",
              "       [1.58750534e-03],\n",
              "       [6.92512840e-05],\n",
              "       [9.37141776e-01],\n",
              "       [9.99977231e-01],\n",
              "       [3.36296973e-03],\n",
              "       [9.99957919e-01],\n",
              "       [9.99994516e-01],\n",
              "       [5.45129587e-04]], dtype=float32)"
            ]
          },
          "metadata": {},
          "execution_count": 78
        }
      ]
    },
    {
      "cell_type": "code",
      "source": [
        "model_4_preds = tf.squeeze(tf.round(model_4_pred_probs))"
      ],
      "metadata": {
        "id": "ROZPErBazoMX"
      },
      "execution_count": 79,
      "outputs": []
    },
    {
      "cell_type": "code",
      "source": [
        "model_4_preds[:20]"
      ],
      "metadata": {
        "colab": {
          "base_uri": "https://localhost:8080/"
        },
        "id": "8buRao8yztdG",
        "outputId": "43ce120b-7c5f-436e-f1ec-f634210e64ea"
      },
      "execution_count": 80,
      "outputs": [
        {
          "output_type": "execute_result",
          "data": {
            "text/plain": [
              "<tf.Tensor: shape=(20,), dtype=float32, numpy=\n",
              "array([0., 1., 1., 0., 1., 0., 0., 0., 1., 1., 0., 0., 1., 0., 0., 0., 1.,\n",
              "       0., 1., 1.], dtype=float32)>"
            ]
          },
          "metadata": {},
          "execution_count": 80
        }
      ]
    },
    {
      "cell_type": "code",
      "source": [
        "#calc the results of biredcational model\n",
        "model_4_results = calculate_results(val_labels, model_4_preds)"
      ],
      "metadata": {
        "id": "M-jif3FlzvJR"
      },
      "execution_count": 81,
      "outputs": []
    },
    {
      "cell_type": "code",
      "source": [
        "model_4_results"
      ],
      "metadata": {
        "id": "TW7nA3VHz1eu",
        "outputId": "1ed46559-867b-4776-eca0-505d51bf7067",
        "colab": {
          "base_uri": "https://localhost:8080/"
        }
      },
      "execution_count": 82,
      "outputs": [
        {
          "output_type": "execute_result",
          "data": {
            "text/plain": [
              "{'accuracy': 75.19685039370079,\n",
              " 'f1': 0.7528754981369472,\n",
              " 'precision': 0.7551521477682726,\n",
              " 'recall': 0.7519685039370079}"
            ]
          },
          "metadata": {},
          "execution_count": 82
        }
      ]
    },
    {
      "cell_type": "markdown",
      "source": [
        "#Convolution Neural Networks for Text (and other sequences)"
      ],
      "metadata": {
        "id": "b28rxXIdz3iZ"
      }
    },
    {
      "cell_type": "markdown",
      "source": [
        "#Model 5: Conv1D NN"
      ],
      "metadata": {
        "id": "fYLSiCAD2E8T"
      }
    },
    {
      "cell_type": "code",
      "source": [
        "#Test out our embedding layer, Conv1d layer and pooling layer\n",
        "embedding_test = embedding(text_vectorizer([\"This is a test sentence\"]))\n",
        "conv_1d = layers.Conv1D(filters=32,\n",
        "                        kernel_size=5,\n",
        "                        activation=\"relu\",\n",
        "                        padding=\"valid\")\n",
        "\n",
        "conv_1d_output = conv_1d(embedding_test)\n",
        "max_pool = layers.GlobalMaxPool1D()\n",
        "max_pool_output = max_pool(conv_1d_output) # Get the most important feature\n",
        "embedding_test.shape, conv_1d_output.shape, max_pool_output.shape"
      ],
      "metadata": {
        "colab": {
          "base_uri": "https://localhost:8080/"
        },
        "id": "Iw-F2j5f2JEW",
        "outputId": "a644c13d-35cf-494d-8666-6bab6290e3ae"
      },
      "execution_count": 83,
      "outputs": [
        {
          "output_type": "execute_result",
          "data": {
            "text/plain": [
              "(TensorShape([1, 15, 128]), TensorShape([1, 11, 32]), TensorShape([1, 32]))"
            ]
          },
          "metadata": {},
          "execution_count": 83
        }
      ]
    },
    {
      "cell_type": "code",
      "source": [
        "embedding_test"
      ],
      "metadata": {
        "colab": {
          "base_uri": "https://localhost:8080/"
        },
        "id": "6u24Z09Y2Vmg",
        "outputId": "29a1bc2c-8131-4fe4-faf6-5c76e31c8591"
      },
      "execution_count": 84,
      "outputs": [
        {
          "output_type": "execute_result",
          "data": {
            "text/plain": [
              "<tf.Tensor: shape=(1, 15, 128), dtype=float32, numpy=\n",
              "array([[[-0.00546968,  0.06158869,  0.05368574, ..., -0.05467639,\n",
              "         -0.01933064,  0.00975835],\n",
              "        [-0.02205988, -0.02481544, -0.05266182, ...,  0.0481976 ,\n",
              "         -0.00351888, -0.01679514],\n",
              "        [ 0.02900114,  0.04257634,  0.00906194, ..., -0.03043692,\n",
              "         -0.05412642, -0.0031219 ],\n",
              "        ...,\n",
              "        [ 0.00861024,  0.03256583,  0.02654947, ..., -0.01196124,\n",
              "         -0.04786394, -0.01967616],\n",
              "        [ 0.00861024,  0.03256583,  0.02654947, ..., -0.01196124,\n",
              "         -0.04786394, -0.01967616],\n",
              "        [ 0.00861024,  0.03256583,  0.02654947, ..., -0.01196124,\n",
              "         -0.04786394, -0.01967616]]], dtype=float32)>"
            ]
          },
          "metadata": {},
          "execution_count": 84
        }
      ]
    },
    {
      "cell_type": "code",
      "source": [
        "conv_1d_output"
      ],
      "metadata": {
        "colab": {
          "base_uri": "https://localhost:8080/"
        },
        "id": "OQNajT-c4V1i",
        "outputId": "140550db-ab4d-46e1-9dc1-dda8414c4265"
      },
      "execution_count": 85,
      "outputs": [
        {
          "output_type": "execute_result",
          "data": {
            "text/plain": [
              "<tf.Tensor: shape=(1, 11, 32), dtype=float32, numpy=\n",
              "array([[[0.        , 0.        , 0.07680885, 0.05296579, 0.01274076,\n",
              "         0.        , 0.00840366, 0.05721629, 0.02199899, 0.01551227,\n",
              "         0.0061053 , 0.        , 0.01624917, 0.01407998, 0.04608619,\n",
              "         0.019287  , 0.        , 0.0891731 , 0.00493431, 0.        ,\n",
              "         0.00029473, 0.00598531, 0.        , 0.02243877, 0.        ,\n",
              "         0.028432  , 0.03606553, 0.        , 0.        , 0.02941792,\n",
              "         0.02149684, 0.        ],\n",
              "        [0.        , 0.02612964, 0.03783026, 0.02407816, 0.00229692,\n",
              "         0.00049205, 0.        , 0.01623581, 0.01823454, 0.01855477,\n",
              "         0.        , 0.        , 0.        , 0.        , 0.06256451,\n",
              "         0.02113906, 0.        , 0.        , 0.01826854, 0.04514677,\n",
              "         0.        , 0.        , 0.        , 0.02522728, 0.        ,\n",
              "         0.00767212, 0.02887391, 0.        , 0.        , 0.        ,\n",
              "         0.07504112, 0.        ],\n",
              "        [0.01403335, 0.        , 0.01950878, 0.00287613, 0.01972383,\n",
              "         0.11430506, 0.0487139 , 0.00957519, 0.        , 0.0608128 ,\n",
              "         0.        , 0.02908387, 0.        , 0.00060144, 0.        ,\n",
              "         0.04681079, 0.01461263, 0.05064449, 0.07482268, 0.01726252,\n",
              "         0.02572249, 0.03615791, 0.        , 0.02514561, 0.        ,\n",
              "         0.01744081, 0.06227916, 0.        , 0.01435325, 0.        ,\n",
              "         0.08286573, 0.0158071 ],\n",
              "        [0.        , 0.05589272, 0.        , 0.        , 0.0129079 ,\n",
              "         0.1229495 , 0.02139904, 0.        , 0.        , 0.        ,\n",
              "         0.        , 0.        , 0.        , 0.02622964, 0.05134232,\n",
              "         0.        , 0.00387636, 0.        , 0.        , 0.03118897,\n",
              "         0.03121752, 0.02827404, 0.05582242, 0.        , 0.        ,\n",
              "         0.02336432, 0.02163104, 0.        , 0.01188236, 0.01232983,\n",
              "         0.00346334, 0.        ],\n",
              "        [0.00648813, 0.        , 0.00587995, 0.        , 0.01103461,\n",
              "         0.06328385, 0.02303494, 0.        , 0.01178606, 0.        ,\n",
              "         0.01566167, 0.        , 0.        , 0.        , 0.04708798,\n",
              "         0.0369378 , 0.01222786, 0.00990922, 0.        , 0.03158886,\n",
              "         0.026523  , 0.        , 0.0230361 , 0.        , 0.        ,\n",
              "         0.        , 0.0192569 , 0.        , 0.        , 0.02176881,\n",
              "         0.02773264, 0.03051692],\n",
              "        [0.01835551, 0.00499899, 0.01447357, 0.        , 0.02141577,\n",
              "         0.02982814, 0.00598364, 0.00470227, 0.01085211, 0.00368521,\n",
              "         0.01337077, 0.        , 0.0040666 , 0.        , 0.04524659,\n",
              "         0.05185586, 0.02580899, 0.        , 0.00103823, 0.03141095,\n",
              "         0.02503994, 0.01003843, 0.        , 0.        , 0.        ,\n",
              "         0.01178726, 0.01307058, 0.        , 0.00537095, 0.00037696,\n",
              "         0.04565704, 0.02784568],\n",
              "        [0.01835552, 0.00499897, 0.01447357, 0.        , 0.02141578,\n",
              "         0.02982814, 0.00598364, 0.00470227, 0.01085212, 0.00368521,\n",
              "         0.01337077, 0.        , 0.00406661, 0.        , 0.04524659,\n",
              "         0.05185586, 0.025809  , 0.        , 0.00103822, 0.03141095,\n",
              "         0.02503994, 0.01003843, 0.        , 0.        , 0.        ,\n",
              "         0.01178726, 0.01307058, 0.        , 0.00537095, 0.00037697,\n",
              "         0.04565705, 0.0278457 ],\n",
              "        [0.01835552, 0.00499898, 0.01447357, 0.        , 0.02141578,\n",
              "         0.02982814, 0.00598364, 0.00470226, 0.01085211, 0.00368521,\n",
              "         0.01337076, 0.        , 0.0040666 , 0.        , 0.04524659,\n",
              "         0.05185585, 0.02580899, 0.        , 0.00103823, 0.03141095,\n",
              "         0.02503995, 0.01003843, 0.        , 0.        , 0.        ,\n",
              "         0.01178725, 0.01307057, 0.        , 0.00537095, 0.00037697,\n",
              "         0.04565703, 0.0278457 ],\n",
              "        [0.01835552, 0.00499898, 0.01447358, 0.        , 0.02141578,\n",
              "         0.02982813, 0.00598364, 0.00470227, 0.01085212, 0.00368521,\n",
              "         0.01337077, 0.        , 0.00406661, 0.        , 0.04524659,\n",
              "         0.05185585, 0.02580899, 0.        , 0.00103822, 0.03141095,\n",
              "         0.02503994, 0.01003843, 0.        , 0.        , 0.        ,\n",
              "         0.01178726, 0.01307058, 0.        , 0.00537095, 0.00037697,\n",
              "         0.04565704, 0.0278457 ],\n",
              "        [0.01835552, 0.00499897, 0.01447358, 0.        , 0.02141577,\n",
              "         0.02982813, 0.00598364, 0.00470227, 0.01085211, 0.00368521,\n",
              "         0.01337076, 0.        , 0.00406661, 0.        , 0.04524659,\n",
              "         0.05185587, 0.02580899, 0.        , 0.00103823, 0.03141095,\n",
              "         0.02503994, 0.01003842, 0.        , 0.        , 0.        ,\n",
              "         0.01178726, 0.01307058, 0.        , 0.00537095, 0.00037697,\n",
              "         0.04565703, 0.02784569],\n",
              "        [0.01835552, 0.00499898, 0.01447357, 0.        , 0.02141578,\n",
              "         0.02982815, 0.00598364, 0.00470227, 0.01085211, 0.00368521,\n",
              "         0.01337076, 0.        , 0.00406661, 0.        , 0.04524659,\n",
              "         0.05185586, 0.02580899, 0.        , 0.00103823, 0.03141095,\n",
              "         0.02503994, 0.01003843, 0.        , 0.        , 0.        ,\n",
              "         0.01178726, 0.01307057, 0.        , 0.00537095, 0.00037697,\n",
              "         0.04565704, 0.0278457 ]]], dtype=float32)>"
            ]
          },
          "metadata": {},
          "execution_count": 85
        }
      ]
    },
    {
      "cell_type": "code",
      "source": [
        "max_pool_output"
      ],
      "metadata": {
        "colab": {
          "base_uri": "https://localhost:8080/"
        },
        "id": "7OpPBHkm4XbX",
        "outputId": "8c0dc5f2-a182-4ea8-bc51-f82c77fa409a"
      },
      "execution_count": 86,
      "outputs": [
        {
          "output_type": "execute_result",
          "data": {
            "text/plain": [
              "<tf.Tensor: shape=(1, 32), dtype=float32, numpy=\n",
              "array([[0.01835552, 0.05589272, 0.07680885, 0.05296579, 0.02141578,\n",
              "        0.1229495 , 0.0487139 , 0.05721629, 0.02199899, 0.0608128 ,\n",
              "        0.01566167, 0.02908387, 0.01624917, 0.02622964, 0.06256451,\n",
              "        0.05185587, 0.025809  , 0.0891731 , 0.07482268, 0.04514677,\n",
              "        0.03121752, 0.03615791, 0.05582242, 0.02522728, 0.        ,\n",
              "        0.028432  , 0.06227916, 0.        , 0.01435325, 0.02941792,\n",
              "        0.08286573, 0.03051692]], dtype=float32)>"
            ]
          },
          "metadata": {},
          "execution_count": 86
        }
      ]
    },
    {
      "cell_type": "code",
      "source": [
        "#Model 5: 1-dimensional convolutional layer to model sequences\n",
        "from tensorflow.keras import layers\n",
        "inputs = layers.Input(shape=(1,), dtype=tf.string)\n",
        "x = text_vectorizer(inputs)\n",
        "x = embedding(x)\n",
        "x = layers.Conv1D(filters=64, kernel_size=5, activation=\"relu\", padding=\"valid\")(x)\n",
        "x = layers.GlobalMaxPool1D()(x)\n",
        "\n",
        "\n",
        "outputs = layers.Dense(1, activation=\"sigmoid\")(x)\n",
        "model_5 = tf.keras.Model(inputs, outputs, name=\"model_5\")"
      ],
      "metadata": {
        "id": "_KPZVOzd4Ygh"
      },
      "execution_count": 87,
      "outputs": []
    },
    {
      "cell_type": "code",
      "source": [
        "model_5.compile(loss=\"binary_crossentropy\",\n",
        "               optimizer=tf.keras.optimizers.Adam(),\n",
        "                metrics=[\"accuracy\"])"
      ],
      "metadata": {
        "id": "2GSGbTTl5MLG"
      },
      "execution_count": 88,
      "outputs": []
    },
    {
      "cell_type": "code",
      "source": [
        "model_5.summary()"
      ],
      "metadata": {
        "colab": {
          "base_uri": "https://localhost:8080/"
        },
        "id": "w2k2OJiP5ZCd",
        "outputId": "cdb4653a-2a49-4afd-cc7c-bc25fca7948f"
      },
      "execution_count": 89,
      "outputs": [
        {
          "output_type": "stream",
          "name": "stdout",
          "text": [
            "Model: \"model_5\"\n",
            "_________________________________________________________________\n",
            " Layer (type)                Output Shape              Param #   \n",
            "=================================================================\n",
            " input_5 (InputLayer)        [(None, 1)]               0         \n",
            "                                                                 \n",
            " text_vectorization_1 (TextV  (None, 15)               0         \n",
            " ectorization)                                                   \n",
            "                                                                 \n",
            " embedding (Embedding)       (None, 15, 128)           1280000   \n",
            "                                                                 \n",
            " conv1d_1 (Conv1D)           (None, 11, 64)            41024     \n",
            "                                                                 \n",
            " global_max_pooling1d_1 (Glo  (None, 64)               0         \n",
            " balMaxPooling1D)                                                \n",
            "                                                                 \n",
            " dense_4 (Dense)             (None, 1)                 65        \n",
            "                                                                 \n",
            "=================================================================\n",
            "Total params: 1,321,089\n",
            "Trainable params: 1,321,089\n",
            "Non-trainable params: 0\n",
            "_________________________________________________________________\n"
          ]
        }
      ]
    },
    {
      "cell_type": "code",
      "source": [
        "model_5_history = model_5.fit(train_sentences,\n",
        "                              train_labels,\n",
        "                              epochs=5,\n",
        "                              validation_data=(val_sentences, val_labels),\n",
        "                              callbacks=[create_tensorboard_callback(SAVE_DIR,\n",
        "                                                                     \"Conv1D\")])"
      ],
      "metadata": {
        "colab": {
          "base_uri": "https://localhost:8080/"
        },
        "id": "cdnDuksE5hTM",
        "outputId": "860963d9-d162-4b9a-c9b4-3e4e4a518e87"
      },
      "execution_count": 90,
      "outputs": [
        {
          "output_type": "stream",
          "name": "stdout",
          "text": [
            "Saving TensorBoard log files to: model_logs/Conv1D/20220729-234316\n",
            "Epoch 1/5\n",
            "215/215 [==============================] - 3s 6ms/step - loss: 0.1200 - accuracy: 0.9564 - val_loss: 0.9919 - val_accuracy: 0.7520\n",
            "Epoch 2/5\n",
            "215/215 [==============================] - 1s 5ms/step - loss: 0.0738 - accuracy: 0.9707 - val_loss: 1.1301 - val_accuracy: 0.7310\n",
            "Epoch 3/5\n",
            "215/215 [==============================] - 1s 5ms/step - loss: 0.0602 - accuracy: 0.9752 - val_loss: 1.2077 - val_accuracy: 0.7428\n",
            "Epoch 4/5\n",
            "215/215 [==============================] - 2s 8ms/step - loss: 0.0557 - accuracy: 0.9774 - val_loss: 1.2938 - val_accuracy: 0.7283\n",
            "Epoch 5/5\n",
            "215/215 [==============================] - 2s 8ms/step - loss: 0.0519 - accuracy: 0.9785 - val_loss: 1.2872 - val_accuracy: 0.7257\n"
          ]
        }
      ]
    },
    {
      "cell_type": "code",
      "source": [
        "model_5_pred_probs = model_5.predict(val_sentences)"
      ],
      "metadata": {
        "id": "1vxonHIq55iX"
      },
      "execution_count": 91,
      "outputs": []
    },
    {
      "cell_type": "code",
      "source": [
        "model_5_preds = tf.squeeze(tf.round(model_5_pred_probs))"
      ],
      "metadata": {
        "id": "Jq-US31r6CjL"
      },
      "execution_count": 92,
      "outputs": []
    },
    {
      "cell_type": "code",
      "source": [
        "model_5_preds"
      ],
      "metadata": {
        "colab": {
          "base_uri": "https://localhost:8080/"
        },
        "id": "cqEIYMl16HTM",
        "outputId": "5e77fb5b-762c-4fb3-d870-030ebd479593"
      },
      "execution_count": 93,
      "outputs": [
        {
          "output_type": "execute_result",
          "data": {
            "text/plain": [
              "<tf.Tensor: shape=(762,), dtype=float32, numpy=\n",
              "array([0., 1., 1., 1., 1., 0., 0., 0., 1., 1., 0., 0., 1., 0., 0., 0., 1.,\n",
              "       0., 1., 1., 0., 0., 1., 0., 0., 1., 0., 0., 1., 1., 1., 0., 0., 0.,\n",
              "       0., 1., 0., 1., 1., 0., 0., 1., 1., 1., 0., 0., 0., 1., 1., 0., 0.,\n",
              "       1., 0., 0., 1., 0., 0., 0., 0., 1., 0., 0., 1., 1., 0., 1., 0., 1.,\n",
              "       0., 0., 0., 0., 0., 0., 0., 1., 0., 1., 1., 1., 0., 0., 0., 1., 0.,\n",
              "       0., 0., 1., 1., 0., 0., 0., 0., 0., 1., 0., 1., 1., 0., 0., 0., 1.,\n",
              "       1., 0., 0., 0., 1., 0., 1., 0., 0., 1., 1., 0., 0., 1., 1., 1., 1.,\n",
              "       0., 1., 1., 1., 1., 0., 1., 1., 0., 1., 1., 0., 1., 0., 0., 1., 0.,\n",
              "       1., 1., 1., 0., 0., 1., 1., 0., 0., 1., 1., 0., 0., 0., 1., 0., 0.,\n",
              "       1., 0., 0., 0., 0., 1., 1., 1., 1., 0., 0., 0., 0., 0., 0., 0., 1.,\n",
              "       1., 0., 0., 0., 1., 0., 1., 1., 0., 1., 0., 1., 0., 1., 1., 0., 1.,\n",
              "       0., 1., 0., 0., 0., 0., 0., 0., 1., 1., 0., 0., 0., 0., 1., 0., 0.,\n",
              "       0., 1., 0., 1., 1., 0., 0., 0., 0., 0., 0., 1., 1., 0., 1., 1., 1.,\n",
              "       0., 1., 0., 0., 1., 1., 1., 0., 1., 1., 1., 0., 1., 1., 0., 0., 0.,\n",
              "       1., 0., 0., 1., 0., 0., 0., 0., 0., 0., 1., 0., 1., 1., 0., 0., 0.,\n",
              "       0., 0., 0., 1., 1., 0., 1., 0., 0., 1., 0., 1., 0., 0., 1., 0., 0.,\n",
              "       1., 0., 1., 1., 1., 1., 1., 0., 1., 1., 1., 0., 1., 1., 1., 1., 1.,\n",
              "       1., 0., 0., 0., 1., 0., 1., 1., 1., 1., 1., 1., 0., 1., 1., 1., 0.,\n",
              "       0., 1., 0., 1., 1., 0., 0., 1., 0., 0., 1., 1., 1., 0., 1., 1., 1.,\n",
              "       1., 0., 1., 1., 1., 1., 0., 1., 1., 0., 0., 0., 0., 0., 0., 0., 0.,\n",
              "       0., 1., 0., 1., 0., 0., 0., 0., 1., 1., 0., 1., 0., 0., 0., 0., 0.,\n",
              "       1., 0., 1., 1., 1., 0., 0., 1., 1., 0., 1., 0., 0., 1., 0., 1., 1.,\n",
              "       0., 0., 1., 0., 1., 1., 1., 0., 0., 0., 1., 0., 1., 1., 0., 1., 1.,\n",
              "       0., 0., 0., 0., 0., 1., 1., 0., 0., 0., 0., 0., 1., 1., 1., 0., 0.,\n",
              "       1., 0., 0., 1., 1., 0., 0., 0., 0., 1., 1., 1., 0., 0., 0., 1., 0.,\n",
              "       0., 1., 0., 0., 0., 1., 0., 0., 1., 1., 1., 1., 1., 1., 1., 0., 1.,\n",
              "       0., 0., 0., 1., 1., 0., 1., 1., 0., 1., 0., 0., 0., 0., 1., 0., 1.,\n",
              "       0., 0., 1., 0., 0., 1., 0., 1., 0., 0., 0., 1., 0., 0., 0., 0., 0.,\n",
              "       1., 0., 0., 1., 0., 0., 0., 1., 0., 1., 0., 0., 1., 0., 0., 1., 1.,\n",
              "       1., 0., 1., 1., 0., 1., 0., 1., 0., 0., 0., 1., 0., 0., 1., 1., 1.,\n",
              "       1., 0., 0., 0., 0., 1., 1., 0., 0., 0., 1., 0., 0., 0., 0., 0., 1.,\n",
              "       1., 0., 1., 0., 0., 1., 0., 0., 1., 0., 1., 1., 0., 0., 1., 0., 0.,\n",
              "       1., 0., 0., 0., 0., 0., 0., 1., 1., 1., 1., 1., 1., 1., 1., 1., 1.,\n",
              "       1., 1., 0., 0., 0., 0., 1., 0., 0., 1., 0., 1., 0., 1., 1., 0., 1.,\n",
              "       1., 0., 1., 1., 1., 1., 1., 0., 0., 0., 1., 1., 1., 0., 0., 0., 1.,\n",
              "       0., 1., 1., 0., 0., 0., 1., 1., 1., 1., 1., 0., 1., 1., 0., 1., 0.,\n",
              "       1., 0., 0., 0., 0., 0., 1., 1., 0., 0., 0., 0., 1., 0., 1., 1., 1.,\n",
              "       1., 0., 1., 1., 1., 1., 1., 0., 0., 0., 0., 1., 0., 0., 0., 0., 1.,\n",
              "       0., 0., 0., 0., 1., 0., 0., 1., 0., 0., 1., 1., 1., 0., 1., 0., 1.,\n",
              "       0., 0., 0., 0., 1., 0., 1., 1., 1., 0., 0., 0., 0., 0., 1., 1., 0.,\n",
              "       1., 0., 0., 1., 1., 0., 1., 0., 1., 1., 0., 1., 0., 1., 0., 1., 0.,\n",
              "       0., 0., 0., 0., 0., 0., 0., 1., 1., 0., 0., 1., 1., 0., 0., 1., 1.,\n",
              "       1., 0., 0., 0., 1., 1., 1., 1., 1., 0., 1., 0., 0., 0., 0., 0., 0.,\n",
              "       1., 1., 0., 0., 1., 1., 0., 0., 1., 1., 0., 0., 0., 0., 0., 1., 0.,\n",
              "       0., 1., 1., 1., 1., 0., 0., 0., 0., 1., 0., 1., 1., 0.],\n",
              "      dtype=float32)>"
            ]
          },
          "metadata": {},
          "execution_count": 93
        }
      ]
    },
    {
      "cell_type": "code",
      "source": [
        "model_5_results = calculate_results(val_labels, model_5_preds)"
      ],
      "metadata": {
        "id": "CgG01_vN6JC4"
      },
      "execution_count": 94,
      "outputs": []
    },
    {
      "cell_type": "code",
      "source": [
        "model_5_results"
      ],
      "metadata": {
        "colab": {
          "base_uri": "https://localhost:8080/"
        },
        "id": "DgCFtnn_6M3O",
        "outputId": "9e00fe1e-9f65-45ad-cd49-1134a3183d28"
      },
      "execution_count": 95,
      "outputs": [
        {
          "output_type": "execute_result",
          "data": {
            "text/plain": [
              "{'accuracy': 72.57217847769029,\n",
              " 'f1': 0.7266582708551567,\n",
              " 'precision': 0.7286957835306558,\n",
              " 'recall': 0.7257217847769029}"
            ]
          },
          "metadata": {},
          "execution_count": 95
        }
      ]
    },
    {
      "cell_type": "markdown",
      "source": [
        "#Universal Sentence Encoder transfer learning"
      ],
      "metadata": {
        "id": "MUuZ0Za86NwW"
      }
    },
    {
      "cell_type": "code",
      "source": [
        "#model 5\n",
        "import tensorflow_hub as hub\n",
        "embed = hub.load(\"https://tfhub.dev/google/universal-sentence-encoder/4\")\n",
        "embed_samples = embed([sample_sentence,\"When you call a USE on a sentence, it turn sit into numbers\"])\n"
      ],
      "metadata": {
        "id": "wuA36g1u6OyR"
      },
      "execution_count": 96,
      "outputs": []
    },
    {
      "cell_type": "code",
      "source": [
        "sample_sentence"
      ],
      "metadata": {
        "colab": {
          "base_uri": "https://localhost:8080/",
          "height": 35
        },
        "id": "CP2RD5oW8SeH",
        "outputId": "ff200c8f-ffca-49de-de9e-0b5aec21a1b7"
      },
      "execution_count": 97,
      "outputs": [
        {
          "output_type": "execute_result",
          "data": {
            "text/plain": [
              "'A tornado destroyed my house'"
            ],
            "application/vnd.google.colaboratory.intrinsic+json": {
              "type": "string"
            }
          },
          "metadata": {},
          "execution_count": 97
        }
      ]
    },
    {
      "cell_type": "code",
      "source": [
        "embed_samples[0][:50]"
      ],
      "metadata": {
        "colab": {
          "base_uri": "https://localhost:8080/"
        },
        "id": "RPDdYZK58ibB",
        "outputId": "f813c89c-760a-48dc-ab1c-e80db51f93a6"
      },
      "execution_count": 98,
      "outputs": [
        {
          "output_type": "execute_result",
          "data": {
            "text/plain": [
              "<tf.Tensor: shape=(50,), dtype=float32, numpy=\n",
              "array([-0.01050084, -0.00229794, -0.05725909, -0.04777098,  0.04511795,\n",
              "        0.02202453,  0.02400334,  0.0667739 , -0.00083695,  0.05448426,\n",
              "        0.05745116, -0.04347977, -0.00139513,  0.01398681,  0.046919  ,\n",
              "       -0.01260869, -0.06758504, -0.02162268, -0.00623832, -0.00575831,\n",
              "        0.01941228, -0.00105522,  0.0304017 ,  0.06340312, -0.02500383,\n",
              "       -0.07751907,  0.04895177, -0.04103375,  0.00698542, -0.0394792 ,\n",
              "        0.03514631,  0.03659685, -0.05294777,  0.02191273, -0.02828331,\n",
              "       -0.01387694,  0.05540748,  0.01839826, -0.02460213, -0.03052922,\n",
              "        0.04902494, -0.0124156 , -0.01220245, -0.05936461, -0.08365225,\n",
              "       -0.01479258, -0.0334257 , -0.00039739,  0.01519083, -0.01560132],\n",
              "      dtype=float32)>"
            ]
          },
          "metadata": {},
          "execution_count": 98
        }
      ]
    },
    {
      "cell_type": "code",
      "source": [
        "embed_samples[0].shape"
      ],
      "metadata": {
        "colab": {
          "base_uri": "https://localhost:8080/"
        },
        "id": "EBz5Y-Ow8kMO",
        "outputId": "f8031292-b12b-4735-eaed-6065b2845766"
      },
      "execution_count": 99,
      "outputs": [
        {
          "output_type": "execute_result",
          "data": {
            "text/plain": [
              "TensorShape([512])"
            ]
          },
          "metadata": {},
          "execution_count": 99
        }
      ]
    },
    {
      "cell_type": "code",
      "source": [
        "#Create keras layer using pretrained embedding layer\n",
        "sentence_encoder_layer = hub.KerasLayer(\"https://tfhub.dev/google/universal-sentence-encoder/4\",\n",
        "                                        input_shape=[],\n",
        "                                        dtype=tf.string,\n",
        "                                        trainable=False,\n",
        "                                        name=\"USE\")"
      ],
      "metadata": {
        "id": "nPPJxkZd8m_a"
      },
      "execution_count": 100,
      "outputs": []
    },
    {
      "cell_type": "code",
      "source": [
        "#model 6\n",
        "model_6 = tf.keras.Sequential([\n",
        "  sentence_encoder_layer,\n",
        "  layers.Dense(64, activation=\"sigmoid\"),\n",
        "  layers.Dense(1, activation=\"sigmoid\")\n",
        "], name='model_6')\n",
        "\n",
        "model_6.compile(loss=\"binary_crossentropy\",\n",
        "                optimizer=tf.keras.optimizers.Adam(),\n",
        "                metrics=[\"accuracy\"])\n",
        "\n",
        "model_6.summary()"
      ],
      "metadata": {
        "colab": {
          "base_uri": "https://localhost:8080/"
        },
        "id": "9GyrkGpZ9BiE",
        "outputId": "9adb325d-aa08-44ba-e433-322aaeef94d2"
      },
      "execution_count": 107,
      "outputs": [
        {
          "output_type": "stream",
          "name": "stdout",
          "text": [
            "Model: \"model_6\"\n",
            "_________________________________________________________________\n",
            " Layer (type)                Output Shape              Param #   \n",
            "=================================================================\n",
            " USE (KerasLayer)            (None, 512)               256797824 \n",
            "                                                                 \n",
            " dense_6 (Dense)             (None, 64)                32832     \n",
            "                                                                 \n",
            " dense_7 (Dense)             (None, 1)                 65        \n",
            "                                                                 \n",
            "=================================================================\n",
            "Total params: 256,830,721\n",
            "Trainable params: 32,897\n",
            "Non-trainable params: 256,797,824\n",
            "_________________________________________________________________\n"
          ]
        }
      ]
    },
    {
      "cell_type": "code",
      "source": [
        "model_6_history = model_6.fit(train_sentences,\n",
        "                              train_labels,\n",
        "                              epochs=5,\n",
        "                              validation_data=(val_sentences, val_labels),\n",
        "                              callbacks=[create_tensorboard_callback(SAVE_DIR,\n",
        "                                                                     \"Transfer_Learning_THUB\")])"
      ],
      "metadata": {
        "colab": {
          "base_uri": "https://localhost:8080/"
        },
        "id": "Ybul56iv90Ds",
        "outputId": "eabf97db-f1c7-45ef-df75-ba8912b6ff96"
      },
      "execution_count": 108,
      "outputs": [
        {
          "output_type": "stream",
          "name": "stdout",
          "text": [
            "Saving TensorBoard log files to: model_logs/Transfer_Learning_THUB/20220729-235012\n",
            "Epoch 1/5\n",
            "215/215 [==============================] - 4s 13ms/step - loss: 0.5846 - accuracy: 0.7326 - val_loss: 0.4985 - val_accuracy: 0.8005\n",
            "Epoch 2/5\n",
            "215/215 [==============================] - 3s 15ms/step - loss: 0.4738 - accuracy: 0.8022 - val_loss: 0.4297 - val_accuracy: 0.8176\n",
            "Epoch 3/5\n",
            "215/215 [==============================] - 3s 12ms/step - loss: 0.4394 - accuracy: 0.8070 - val_loss: 0.4055 - val_accuracy: 0.8241\n",
            "Epoch 4/5\n",
            "215/215 [==============================] - 3s 12ms/step - loss: 0.4260 - accuracy: 0.8110 - val_loss: 0.3945 - val_accuracy: 0.8294\n",
            "Epoch 5/5\n",
            "215/215 [==============================] - 2s 11ms/step - loss: 0.4193 - accuracy: 0.8154 - val_loss: 0.3891 - val_accuracy: 0.8307\n"
          ]
        }
      ]
    },
    {
      "cell_type": "code",
      "source": [
        "model_6_pred_probs = model_6.predict(val_sentences)\n",
        "model_6_preds = tf.squeeze(tf.round(model_6_pred_probs))"
      ],
      "metadata": {
        "id": "EAhtx_cn-DA7"
      },
      "execution_count": 109,
      "outputs": []
    },
    {
      "cell_type": "code",
      "source": [
        "model_6_results = calculate_results(val_labels,\n",
        "                                    model_6_preds)"
      ],
      "metadata": {
        "id": "3lYTFiDP-OUS"
      },
      "execution_count": 110,
      "outputs": []
    },
    {
      "cell_type": "code",
      "source": [
        "model_6_results"
      ],
      "metadata": {
        "colab": {
          "base_uri": "https://localhost:8080/"
        },
        "id": "RiA0ymlS-VuM",
        "outputId": "65a3af0c-60b4-484b-90e8-e9b1e5c1f8a2"
      },
      "execution_count": 111,
      "outputs": [
        {
          "output_type": "execute_result",
          "data": {
            "text/plain": [
              "{'accuracy': 83.07086614173228,\n",
              " 'f1': 0.8302135461413781,\n",
              " 'precision': 0.8302127636402483,\n",
              " 'recall': 0.8307086614173228}"
            ]
          },
          "metadata": {},
          "execution_count": 111
        }
      ]
    },
    {
      "cell_type": "markdown",
      "source": [
        "## Model 7: TF HUB pretraned USE with 10%"
      ],
      "metadata": {
        "id": "yjVHtELL-XDB"
      }
    },
    {
      "cell_type": "code",
      "source": [
        "#Create a subsets of 10% of the training data\n",
        "train_10_percent = train_df_shuffled[[\"text\", \"target\"]].sample(frac=0.1, random_state=42)\n",
        "train_sentences_10_percent = train_10_percent[\"text\"].to_list()\n",
        "train_labels_10_percent = train_10_percent[\"target\"].to_list()"
      ],
      "metadata": {
        "id": "4GbxB5q_X6mg"
      },
      "execution_count": 117,
      "outputs": []
    },
    {
      "cell_type": "code",
      "source": [
        "len(train_sentences_10_percent)"
      ],
      "metadata": {
        "colab": {
          "base_uri": "https://localhost:8080/"
        },
        "id": "jFUWQR84YLgj",
        "outputId": "d6cbb643-3cda-4c26-f09d-d90db744c7b4"
      },
      "execution_count": 118,
      "outputs": [
        {
          "output_type": "execute_result",
          "data": {
            "text/plain": [
              "761"
            ]
          },
          "metadata": {},
          "execution_count": 118
        }
      ]
    },
    {
      "cell_type": "code",
      "source": [
        "train_sentences_10_percent[:10]"
      ],
      "metadata": {
        "colab": {
          "base_uri": "https://localhost:8080/"
        },
        "id": "vEidgIbGYO_6",
        "outputId": "648a90a5-bef7-45e6-aa5b-ea75ca657d54"
      },
      "execution_count": 120,
      "outputs": [
        {
          "output_type": "execute_result",
          "data": {
            "text/plain": [
              "['DFR EP016 Monthly Meltdown - On Dnbheaven 2015.08.06 http://t.co/EjKRf8N8A8 #Drum and Bass #heavy #nasty http://t.co/SPHWE6wFI5',\n",
              " 'FedEx no longer to transport bioterror germs in wake of anthrax lab mishaps http://t.co/qZQc8WWwcN via @usatoday',\n",
              " 'Gunmen kill four in El Salvador bus attack: Suspected Salvadoran gang members killed four people and wounded s... http://t.co/CNtwB6ScZj',\n",
              " '@camilacabello97 Internally and externally screaming',\n",
              " 'Radiation emergency #preparedness starts with knowing to: get inside stay inside and stay tuned http://t.co/RFFPqBAz2F via @CDCgov',\n",
              " 'Investigators rule catastrophic structural failure resulted in 2014 Virg.. Related Articles: http://t.co/Cy1LFeNyV8',\n",
              " 'How the West was burned: Thousands of wildfires ablaze in #California alone http://t.co/iCSjGZ9tE1 #climate #energy http://t.co/9FxmN0l0Bd',\n",
              " \"Map: Typhoon Soudelor's predicted path as it approaches Taiwan; expected to make landfall over southern China by S\\x89Û_ http://t.co/JDVSGVhlIs\",\n",
              " '\\x89Ûª93 blasts accused Yeda Yakub dies in Karachi of heart attack http://t.co/mfKqyxd8XG #Mumbai',\n",
              " 'My ears are bleeding  https://t.co/k5KnNwugwT']"
            ]
          },
          "metadata": {},
          "execution_count": 120
        }
      ]
    },
    {
      "cell_type": "code",
      "source": [
        "train_10_percent[\"target\"].value_counts()"
      ],
      "metadata": {
        "colab": {
          "base_uri": "https://localhost:8080/"
        },
        "id": "0K6RAXjDYP7I",
        "outputId": "ea98838d-24fb-43f1-f0a8-7fbf79368b57"
      },
      "execution_count": 121,
      "outputs": [
        {
          "output_type": "execute_result",
          "data": {
            "text/plain": [
              "0    413\n",
              "1    348\n",
              "Name: target, dtype: int64"
            ]
          },
          "metadata": {},
          "execution_count": 121
        }
      ]
    },
    {
      "cell_type": "code",
      "source": [
        "train_df_shuffled[\"target\"].value_counts()"
      ],
      "metadata": {
        "colab": {
          "base_uri": "https://localhost:8080/"
        },
        "id": "7TAxvKsAYfTw",
        "outputId": "b9f22f67-39f4-4274-b073-9dccffa8c779"
      },
      "execution_count": 122,
      "outputs": [
        {
          "output_type": "execute_result",
          "data": {
            "text/plain": [
              "0    4342\n",
              "1    3271\n",
              "Name: target, dtype: int64"
            ]
          },
          "metadata": {},
          "execution_count": 122
        }
      ]
    },
    {
      "cell_type": "code",
      "source": [
        "model_7_history = model_6.fit(train_sentences_10_percent,\n",
        "                              train_labels_10_percent,\n",
        "                              epochs=5,\n",
        "                              validation_data=(val_sentences, val_labels),\n",
        "                              callbacks=[create_tensorboard_callback(SAVE_DIR,\n",
        "                                                                     \"Transfer_Learning_THUB_10_percent\")])"
      ],
      "metadata": {
        "colab": {
          "base_uri": "https://localhost:8080/"
        },
        "id": "oRyox5IxYi4H",
        "outputId": "eb6cc6e1-a59d-4f5c-d93d-b4ba22117165"
      },
      "execution_count": 123,
      "outputs": [
        {
          "output_type": "stream",
          "name": "stdout",
          "text": [
            "Saving TensorBoard log files to: model_logs/Transfer_Learning_THUB_10_percent/20220729-235559\n",
            "Epoch 1/5\n",
            "24/24 [==============================] - 1s 48ms/step - loss: 0.4301 - accuracy: 0.8147 - val_loss: 0.3913 - val_accuracy: 0.8294\n",
            "Epoch 2/5\n",
            "24/24 [==============================] - 1s 51ms/step - loss: 0.4240 - accuracy: 0.8187 - val_loss: 0.3923 - val_accuracy: 0.8268\n",
            "Epoch 3/5\n",
            "24/24 [==============================] - 1s 40ms/step - loss: 0.4188 - accuracy: 0.8200 - val_loss: 0.3921 - val_accuracy: 0.8268\n",
            "Epoch 4/5\n",
            "24/24 [==============================] - 1s 34ms/step - loss: 0.4139 - accuracy: 0.8226 - val_loss: 0.3907 - val_accuracy: 0.8333\n",
            "Epoch 5/5\n",
            "24/24 [==============================] - 1s 25ms/step - loss: 0.4101 - accuracy: 0.8239 - val_loss: 0.3898 - val_accuracy: 0.8360\n"
          ]
        }
      ]
    },
    {
      "cell_type": "code",
      "source": [
        "model_7 = tf.keras.models.clone_model(model_6)\n",
        "model_7.summary()"
      ],
      "metadata": {
        "colab": {
          "base_uri": "https://localhost:8080/"
        },
        "id": "x0W0_lSbY2hK",
        "outputId": "b9894457-ff25-4a41-ff61-59fc3932cf55"
      },
      "execution_count": 124,
      "outputs": [
        {
          "output_type": "stream",
          "name": "stdout",
          "text": [
            "Model: \"model_6\"\n",
            "_________________________________________________________________\n",
            " Layer (type)                Output Shape              Param #   \n",
            "=================================================================\n",
            " USE (KerasLayer)            (None, 512)               256797824 \n",
            "                                                                 \n",
            " dense_6 (Dense)             (None, 64)                32832     \n",
            "                                                                 \n",
            " dense_7 (Dense)             (None, 1)                 65        \n",
            "                                                                 \n",
            "=================================================================\n",
            "Total params: 256,830,721\n",
            "Trainable params: 32,897\n",
            "Non-trainable params: 256,797,824\n",
            "_________________________________________________________________\n"
          ]
        }
      ]
    },
    {
      "cell_type": "code",
      "source": [
        "#Compile model\n",
        "model_7.compile(loss=\"binary_crossentropy\",\n",
        "                optimizer=tf.keras.optimizers.Adam(),\n",
        "                metrics=[\"accuracy\"])\n",
        "\n",
        "model_7.summary()"
      ],
      "metadata": {
        "colab": {
          "base_uri": "https://localhost:8080/"
        },
        "id": "h0YRPrjFZJx6",
        "outputId": "9b764522-cad4-41dc-843f-d7b390efc71b"
      },
      "execution_count": 125,
      "outputs": [
        {
          "output_type": "stream",
          "name": "stdout",
          "text": [
            "Model: \"model_6\"\n",
            "_________________________________________________________________\n",
            " Layer (type)                Output Shape              Param #   \n",
            "=================================================================\n",
            " USE (KerasLayer)            (None, 512)               256797824 \n",
            "                                                                 \n",
            " dense_6 (Dense)             (None, 64)                32832     \n",
            "                                                                 \n",
            " dense_7 (Dense)             (None, 1)                 65        \n",
            "                                                                 \n",
            "=================================================================\n",
            "Total params: 256,830,721\n",
            "Trainable params: 32,897\n",
            "Non-trainable params: 256,797,824\n",
            "_________________________________________________________________\n"
          ]
        }
      ]
    },
    {
      "cell_type": "code",
      "source": [
        "model_7_history = model_7.fit(train_sentences_10_percent,\n",
        "                              train_labels_10_percent,\n",
        "                              epochs=5,\n",
        "                              validation_data=(val_sentences, val_labels),\n",
        "                              callbacks=[create_tensorboard_callback(SAVE_DIR,\n",
        "                                                                     \"Transfer_Learning_THUB_10_percent\")])"
      ],
      "metadata": {
        "colab": {
          "base_uri": "https://localhost:8080/"
        },
        "id": "xt75AtijZW3j",
        "outputId": "b16dcab3-55d5-442e-f1bf-a8f3b5706ee8"
      },
      "execution_count": 126,
      "outputs": [
        {
          "output_type": "stream",
          "name": "stdout",
          "text": [
            "Saving TensorBoard log files to: model_logs/Transfer_Learning_THUB_10_percent/20220729-235933\n",
            "Epoch 1/5\n",
            "24/24 [==============================] - 6s 81ms/step - loss: 0.6834 - accuracy: 0.6294 - val_loss: 0.6631 - val_accuracy: 0.7625\n",
            "Epoch 2/5\n",
            "24/24 [==============================] - 1s 53ms/step - loss: 0.6549 - accuracy: 0.6307 - val_loss: 0.6372 - val_accuracy: 0.7139\n",
            "Epoch 3/5\n",
            "24/24 [==============================] - 1s 35ms/step - loss: 0.6313 - accuracy: 0.7622 - val_loss: 0.6199 - val_accuracy: 0.7874\n",
            "Epoch 4/5\n",
            "24/24 [==============================] - 0s 20ms/step - loss: 0.6105 - accuracy: 0.8042 - val_loss: 0.5987 - val_accuracy: 0.7861\n",
            "Epoch 5/5\n",
            "24/24 [==============================] - 0s 20ms/step - loss: 0.5892 - accuracy: 0.8147 - val_loss: 0.5797 - val_accuracy: 0.7887\n"
          ]
        }
      ]
    },
    {
      "cell_type": "code",
      "source": [
        "#Make predictions on model trained on 10 percent\n",
        "model_7_pred_probs = model_7.predict(val_sentences)\n",
        "model_7_preds = tf.squeeze(tf.round(model_7_pred_probs))\n",
        "model_7_preds"
      ],
      "metadata": {
        "colab": {
          "base_uri": "https://localhost:8080/"
        },
        "id": "R1ULAop1Zqtw",
        "outputId": "246af973-9c01-46fd-8275-0ec5f078303e"
      },
      "execution_count": 127,
      "outputs": [
        {
          "output_type": "execute_result",
          "data": {
            "text/plain": [
              "<tf.Tensor: shape=(762,), dtype=float32, numpy=\n",
              "array([0., 0., 1., 0., 1., 0., 0., 0., 1., 1., 0., 0., 1., 0., 0., 0., 1.,\n",
              "       0., 1., 0., 0., 0., 1., 1., 1., 1., 1., 0., 1., 1., 1., 0., 0., 1.,\n",
              "       0., 1., 0., 1., 0., 0., 0., 1., 1., 0., 0., 0., 0., 1., 0., 0., 0.,\n",
              "       1., 0., 0., 0., 0., 0., 0., 1., 0., 0., 1., 1., 1., 0., 1., 1., 1.,\n",
              "       1., 0., 1., 1., 0., 0., 1., 1., 0., 1., 1., 1., 0., 0., 0., 0., 1.,\n",
              "       0., 0., 1., 0., 0., 0., 0., 0., 0., 1., 1., 1., 1., 0., 0., 1., 0.,\n",
              "       1., 0., 0., 0., 0., 0., 0., 1., 0., 1., 0., 0., 0., 0., 1., 1., 1.,\n",
              "       0., 1., 0., 1., 1., 1., 0., 1., 0., 1., 1., 0., 1., 0., 0., 1., 0.,\n",
              "       0., 1., 1., 1., 0., 1., 1., 0., 0., 1., 0., 0., 0., 0., 1., 0., 0.,\n",
              "       0., 0., 0., 0., 0., 1., 0., 1., 1., 1., 0., 0., 0., 0., 0., 0., 0.,\n",
              "       1., 0., 0., 0., 0., 0., 1., 0., 0., 1., 0., 1., 0., 0., 1., 0., 1.,\n",
              "       0., 0., 0., 0., 1., 1., 0., 1., 1., 1., 0., 1., 0., 0., 1., 0., 0.,\n",
              "       0., 0., 0., 0., 1., 0., 0., 0., 1., 1., 0., 1., 1., 0., 1., 1., 1.,\n",
              "       0., 0., 0., 1., 0., 0., 1., 0., 0., 1., 1., 0., 0., 1., 0., 0., 0.,\n",
              "       1., 0., 0., 0., 0., 0., 0., 0., 0., 0., 1., 0., 1., 0., 0., 0., 0.,\n",
              "       0., 0., 0., 0., 1., 0., 1., 1., 0., 1., 0., 0., 0., 1., 1., 0., 0.,\n",
              "       1., 0., 1., 1., 1., 0., 0., 0., 1., 0., 1., 0., 1., 0., 0., 0., 1.,\n",
              "       1., 0., 0., 0., 1., 0., 1., 0., 0., 1., 1., 1., 0., 1., 1., 0., 0.,\n",
              "       0., 0., 0., 0., 0., 0., 0., 0., 0., 0., 1., 0., 0., 0., 1., 0., 0.,\n",
              "       1., 0., 0., 1., 1., 1., 0., 1., 1., 0., 0., 0., 0., 0., 0., 0., 0.,\n",
              "       1., 1., 0., 1., 0., 0., 0., 0., 1., 0., 0., 1., 0., 0., 0., 0., 0.,\n",
              "       0., 0., 1., 1., 0., 0., 0., 1., 1., 1., 0., 1., 1., 0., 0., 1., 1.,\n",
              "       0., 0., 0., 0., 1., 1., 1., 0., 0., 0., 1., 0., 1., 1., 0., 1., 1.,\n",
              "       0., 0., 0., 0., 0., 0., 1., 0., 0., 0., 0., 0., 0., 0., 0., 0., 0.,\n",
              "       0., 0., 0., 1., 1., 0., 0., 0., 0., 0., 1., 0., 0., 0., 0., 1., 0.,\n",
              "       0., 0., 0., 0., 0., 1., 0., 0., 0., 0., 1., 1., 0., 0., 0., 1., 0.,\n",
              "       0., 0., 0., 0., 0., 0., 0., 1., 0., 0., 0., 0., 0., 0., 1., 0., 0.,\n",
              "       0., 0., 1., 0., 1., 1., 0., 0., 0., 0., 0., 0., 0., 0., 1., 0., 0.,\n",
              "       1., 0., 0., 1., 0., 0., 0., 1., 0., 0., 0., 0., 0., 0., 0., 1., 1.,\n",
              "       0., 0., 1., 0., 0., 1., 1., 1., 0., 0., 0., 1., 0., 0., 1., 1., 0.,\n",
              "       1., 0., 0., 0., 0., 1., 1., 0., 0., 0., 1., 1., 0., 0., 0., 0., 1.,\n",
              "       0., 0., 1., 0., 0., 1., 0., 0., 1., 1., 1., 1., 1., 0., 1., 0., 0.,\n",
              "       1., 0., 0., 1., 0., 0., 0., 1., 1., 1., 0., 1., 1., 0., 0., 1., 1.,\n",
              "       0., 0., 0., 0., 0., 0., 1., 0., 0., 0., 0., 1., 0., 0., 1., 0., 1.,\n",
              "       1., 0., 0., 1., 1., 0., 1., 0., 0., 0., 1., 1., 1., 0., 1., 1., 1.,\n",
              "       0., 1., 0., 0., 0., 0., 1., 1., 1., 0., 0., 0., 1., 0., 0., 1., 0.,\n",
              "       0., 0., 0., 0., 0., 0., 1., 0., 0., 0., 1., 0., 1., 0., 0., 1., 1.,\n",
              "       0., 0., 1., 0., 0., 0., 0., 0., 0., 0., 0., 1., 0., 1., 0., 1., 1.,\n",
              "       0., 1., 0., 0., 0., 1., 0., 1., 0., 0., 0., 1., 1., 1., 1., 0., 0.,\n",
              "       0., 0., 1., 0., 0., 0., 1., 1., 1., 0., 0., 0., 0., 0., 1., 1., 0.,\n",
              "       1., 0., 0., 0., 1., 0., 1., 0., 1., 1., 1., 0., 0., 1., 0., 1., 1.,\n",
              "       0., 0., 0., 0., 0., 0., 0., 1., 0., 0., 1., 1., 0., 0., 0., 1., 1.,\n",
              "       0., 0., 0., 0., 0., 1., 1., 0., 1., 1., 0., 0., 0., 0., 0., 0., 0.,\n",
              "       0., 1., 0., 0., 0., 0., 0., 0., 0., 1., 0., 0., 0., 0., 0., 0., 0.,\n",
              "       0., 0., 1., 1., 1., 0., 0., 0., 1., 1., 0., 1., 1., 0.],\n",
              "      dtype=float32)>"
            ]
          },
          "metadata": {},
          "execution_count": 127
        }
      ]
    },
    {
      "cell_type": "code",
      "source": [
        "model_7_results = calculate_results(val_labels, model_7_preds)"
      ],
      "metadata": {
        "id": "X1Lf-yCaZ_ZK"
      },
      "execution_count": 129,
      "outputs": []
    },
    {
      "cell_type": "code",
      "source": [
        "model_7_results"
      ],
      "metadata": {
        "colab": {
          "base_uri": "https://localhost:8080/"
        },
        "id": "koyOsfl1aETS",
        "outputId": "4305e353-5961-4407-a529-73d1165eef13"
      },
      "execution_count": 130,
      "outputs": [
        {
          "output_type": "execute_result",
          "data": {
            "text/plain": [
              "{'accuracy': 78.87139107611549,\n",
              " 'f1': 0.7853306882197884,\n",
              " 'precision': 0.790011827504134,\n",
              " 'recall': 0.7887139107611548}"
            ]
          },
          "metadata": {},
          "execution_count": 130
        }
      ]
    },
    {
      "cell_type": "code",
      "source": [
        "#Making better dataset split with no leakage\n",
        "train_10_percent_split = int(0.1 * len(train_sentences))\n",
        "train_10_percent_split"
      ],
      "metadata": {
        "colab": {
          "base_uri": "https://localhost:8080/"
        },
        "id": "0QInV_r0aG92",
        "outputId": "a0fbb695-b1d2-4b57-b86e-dfe7fd9118a7"
      },
      "execution_count": 132,
      "outputs": [
        {
          "output_type": "execute_result",
          "data": {
            "text/plain": [
              "685"
            ]
          },
          "metadata": {},
          "execution_count": 132
        }
      ]
    },
    {
      "cell_type": "code",
      "source": [
        "train_10_percent = train_sentences[:train_10_percnet_split]"
      ],
      "metadata": {
        "id": "qFsCAzZlbaO3"
      },
      "execution_count": 134,
      "outputs": []
    },
    {
      "cell_type": "code",
      "source": [
        "train_10_percent"
      ],
      "metadata": {
        "colab": {
          "base_uri": "https://localhost:8080/"
        },
        "id": "0XWwCUt3bgg9",
        "outputId": "a34a8934-1725-458d-ce6e-db24b48d19c8"
      },
      "execution_count": 135,
      "outputs": [
        {
          "output_type": "execute_result",
          "data": {
            "text/plain": [
              "array([\"All residents asked to 'shelter in place' are being notified by officers. No other evacuation or shelter in place orders are expected\",\n",
              "       \"@DavidJordan88 @Stephanenny Except we don't know who started the riot or if it even makes sense to credit any particular individuals...\",\n",
              "       'Shadow boxing the apocalypse',\n",
              "       \"Maybe that's what happens when a tornado meets a volcano\",\n",
              "       '#Politics Democracy\\x89Ûªs hatred for hate: \\x89Û_ Dawabsha threaten to erode Israeli democracy. Homegrown terrorism ha...  http://t.co/q8n5Tn8WME',\n",
              "       \"@TomDean86 he's alright but Hazard/Willian ain't gonna be shifted easily.\",\n",
              "       '0-day bug in fully patched OS X comes under active exploit to hijack Macs http://t.co/sbGiRvQvzb',\n",
              "       'Three Israeli soldiers wounded in West Bank terrorist attack via /r/worldnews http://t.co/su4ZVWADj7',\n",
              "       'If it\\x89Ûªs a war you came to see you will never see a waved white flag in front me.\\nI can\\x89Ûªt end up dead I wont be misled.',\n",
              "       'York Co. first responders compete to save lives in \\x89Û÷Badges for Blood\\x89Ûª #paramedic #EMS http://t.co/E65V80FCus',\n",
              "       \"@chromsucks don't drown\",\n",
              "       'Byproduct of metal price meltdown is a higher silver price http://t.co/cZWjw4UV7i',\n",
              "       'Malaysia confirms plane debris washed up on Reunion Island is from Flight MH370 http://t.co/BMxsndx14g',\n",
              "       'Truth...\\nhttps://t.co/k44tL3rfMy\\n#News\\n#BBC\\n#CNN\\n#Islam\\n#Truth\\n#god\\n#ISIS\\n#terrorism\\n#Quran\\n#Lies http://t.co/ipT0hoNoTI',\n",
              "       '7 Christians detained in Zhejiang amid widespread anger over cross removal- over 1200 crosses removed since last yr http://t.co/8PICbkDJM0',\n",
              "       'iNWS Alert SPSGSP from 8/5/2015 10:40 PM to 11:15 PM EDT for Pickens County: STRONG THUNDERSTORM WILL IMPACT... http://t.co/LdcwKyuaFf',\n",
              "       \"'if you can't summon the flames directly from hell store bought is fine'-me \\nmom-*dies*\",\n",
              "       'If a nigga was a threat then that boy ah be thru ????',\n",
              "       '#News FedEx no longer to transport bioterror germs in wake of anthrax lab mishaps (say what?): åÊFedEx no... http://t.co/K0Y7xFxmXA #TCOT',\n",
              "       \"i'd still be team usagi even if she blew up the entire solar system by some airhead misstep\",\n",
              "       '@DougMartin17 Fireman Ed runs into burning buildings while others are running out Doug he deserves your respect??????',\n",
              "       'Truck Driver Salvages Banned Tomatoes From Destruction on #Russian Border http://t.co/7b2Wf6ovFK #news',\n",
              "       \"I'm servicin in my section I'm lurkin I'm with my weapon\",\n",
              "       '7.Beyonce Is my pick for http://t.co/thoYhrHkfJ Fan Army #Beyhive http://t.co/WvJ39a3BGM',\n",
              "       '#Eyewitness media is actively embraced by #UK audiences. Read the report by @emhub on the impact of #UGC in news: http://t.co/6mBPvwiTxf',\n",
              "       '@MzGracieBaby for the record im jumpin out the window early... i got @OfficialRealRap body bagging luck.. lol save the file',\n",
              "       'What would your city look like if it had been the subject of the #Hiroshima bombing? Hint-devastation. #BeyondtheBomb http://t.co/3nKcUlGVMW',\n",
              "       'Tension In Bayelsa As Patience Jonathan Plans To Hijack APC PDP - http://t.co/ComLG0VdbV',\n",
              "       'No kinda in it that shii nasty blood. No pun intended',\n",
              "       'UD: Rescue (Structural Collapse) - Scott Road @ Ypres Road York (14 Trucks)',\n",
              "       'Accident center lane blocked in #SantaClara on US-101 NB before Great America Pkwy #BayArea #Traffic http://t.co/pmlOhZuRWR',\n",
              "       'Reddit Will Now Quarantine Offensive Content: Reddit co-founder and CEO Steve Huffman has unveiled more specif... http://t.co/TDEUKJzzII',\n",
              "       'Uribe demolished that ball ??????',\n",
              "       'Enugu Government to demolish illegal structures at International Conference Centre http://t.co/ouYLwuIXcs',\n",
              "       'Cop injured in gunfight as militants attack Udhampur police post: Suspected militants attacked a police post i... http://t.co/2h0dPMv2Ef',\n",
              "       \"that exploded &amp; brought about the\\nbeginning of universe matches what's\\nmentioned in the versethe heaven and Earth\\n(thus the universe)\",\n",
              "       'Arsonist Sets NYC Vegetarian Restaurant on Fire: Police #NewYork - http://t.co/Nr7usT3uh8',\n",
              "       \"@breakingnewslh @bree_mars watch cnn's the seventies terrorism episode. Iran has always hated the U.S. They want us obliterated.\",\n",
              "       \"I had school today and I've already had a panic attack. Thank you high school for sucking !!!\",\n",
              "       'Just burst out in actual tears of joy when Cain survived #SummerFate @emmerdale',\n",
              "       'BUT I will be uploading these videos ASAP so you guys get to see the new weapon types in action!',\n",
              "       \"#veterans VET Act would ensure every military veteran's access to highest level of emergency care services: Proper treatmen...  #followme\",\n",
              "       '#DebateQuestionsWeWantToHear If U start another war would U B willing 2 go 2 the war-zone yourself or send UR sons and/or daughters 2 fight?',\n",
              "       '@MeekMill is w(rec)k league ball @Drake is Olympic level body bagging him like his career was nothing #trollingtilMeekdiss',\n",
              "       'The latest from @BryanSinger reveals #Storm is a queen in #Apocalypse @RuPaul @AlexShipppp http://t.co/oQw8Jx6rTs',\n",
              "       'wowo--=== 12000 Nigerian refugees repatriated from Cameroon',\n",
              "       'Mini Lalaloopsy Dolls Seed Sunburst June Seashore Sweater Snowstorm Autumn Spice - Full re\\x89Û_ http://t.co/nyty7fCQo6 http://t.co/hyypsPN0yQ',\n",
              "       'Obliterated my phone screen today with a drum stick. #blessed',\n",
              "       'India shud not give any evidence 2 pak.They will share with terrorists &amp; use for next attack.Share with oth contries https://t.co/qioPbTIUVu',\n",
              "       'Womens Handbags Cross Body Geometric Pattern Satchel Totes Shoulder Bags White http://t.co/L1GFXgOZvx http://t.co/TKJYbjjsKl',\n",
              "       '@Drsarwatzaib070 come on. IK will face MCourt for attacking parliment and hijacking TV station.',\n",
              "       'I chose you so if we can search for the joy of just the two of us We\\x89Ûªll be near smiles no matter what cold flames burn our bod #PortgassDK',\n",
              "       \"'Suicide bombing at [location named]...' #premonitions http://t.co/iIkSsJGBDn\",\n",
              "       '#LatestNews: Tension In Bayelsa As Patience Jonathan Plans To Hijack APC PDP',\n",
              "       'Here\\x89Ûªs what caused a Metro train to derail in downtown D.C. http://t.co/ImTYgdS5qO',\n",
              "       'Cat Of Nine Irons XII: This nightmarishly brutal weapon is used in ritualistic country club de http://t.co/xpFmR368uF http://t.co/nmAUMYdKe1',\n",
              "       'Going to a fest? Bring swimming goggles for the dust storm in the circle pit',\n",
              "       'Pandemonium In Aba As Woman Delivers Baby Without Face (Photos) - http://t.co/c5u9qshhnb',\n",
              "       '@David5Fernandez @theblaze trump will get absolutely demolished in a general election.',\n",
              "       'Spot Flood Combo 53inch 300W Curved Cree LED Work Light Bar 4X4 Offroad Fog Lamp - Full re\\x89Û_ http://t.co/jCDd6SD6Qn http://t.co/9gUCkjghms',\n",
              "       \"JOBOOZOSO: USAT usatoday_nfl Michael Floyd's hand injury shouldn't devalue his fantasy stock http://t.co/DGkmUEoAxZ\",\n",
              "       'FAAN gives owners of abandoned aircraft evacuation ultimatum http://t.co/zZpojgngAJ via @dailytimesngr. They should probe them too!',\n",
              "       '@MisfitRarity misfit got bombed',\n",
              "       'The once desolate valley was transformed into a thriving hub of hi\\x89ÛÓtech business.',\n",
              "       'Some people are really natural disaster too',\n",
              "       \"2Leezy its like you're about to fall down a cliff but you're grabbing my hand but my palms are sweaty ... Why bruh? https://t.co/GrWdr4kuf3\",\n",
              "       'Do you want to play a game?\\nhttp://t.co/sQFp6Ecz0i\\nIts a GoogleMaps mashup that calculates the effects of the detonation of nuclear bomb',\n",
              "       'We always try to bring the heavy. #metal #RT http://t.co/YAo1e0xngw',\n",
              "       'Bloody insomnia again! Grrrr!! #Insomnia',\n",
              "       '((OFFICIAL VID)) #DoubleCups &gt;&gt; https://t.co/lfKMTZaEkk &gt;&gt; @TrubGME Prod @THISIZBWRIGHT &gt;&gt; #ARMAGEDDON',\n",
              "       '@wocowae Officer Wounded Suspect Killed in Exchange of Gunfire http://t.co/QI2BDvkab7 ushed',\n",
              "       'Ignition Knock (Detonation) Sensor-Senso fits 01-06 BMW 325Ci 2.5L-L6 http://t.co/gBVDNczjoU http://t.co/c211HISe0R',\n",
              "       'My heart goes out to all those effected by the wild fires in Cali????',\n",
              "       'The fear of the Lord is the start of knowledge: but the foolish have no use for wisdom and teaching (Amsal 1:7)',\n",
              "       \"Press PLAY on @ApolloBrown's new single with M.O.P. to 'Detonate.' http://t.co/ZDTz3RbS6w\",\n",
              "       '#hot  Funtenna: hijacking computers to send data as sound waves [Black Hat 2015] http://t.co/gUJNPLJVvt #prebreak #best',\n",
              "       \"'I can't have kids cuz I got in a bicycle accident &amp; split my testicles. it's impossible for me to have kids' MICHAEL YOU ARE THE FATHER\",\n",
              "       '#Bestnaijamade: 16yr old PKK suicide bomber who detonated bomb in ... http://t.co/KSAwlYuX02 bestnaijamade bestnaijamade bestnaijamade be\\x89Û_',\n",
              "       'One man fatally shot another wounded on Vermont Street #Buffalo - http://t.co/KakY4mpCO4',\n",
              "       '@MikeParrActor devastated!! ????',\n",
              "       \"I have my final tomorrow ?????? . Ish is stressful  but I'll survive\",\n",
              "       'Oh wait I expected to go a totally different route in LS that was derailed by another barely passing grade in a required course. Super.',\n",
              "       'Trial Date Set for Man Charged with Arson Burglary http://t.co/WftCrLz32P',\n",
              "       '2 great new recipes; mudslide cake and so sorry stew! #GBBO',\n",
              "       'Government Experts Concerned About Possible Bioterrorism Using GM Organisms: Scientists are concerned that the... http://t.co/SuMe5prO0F',\n",
              "       \"RT THR 'RT THRArchives: 1928: When Leo the MGM Lion Survived a Plane Crash #TBT http://t.co/Wpkl2qNiQW http://t.co/BD52FxDvhQ'\",\n",
              "       'Set some goals. Then demolish them ?? #fitness #inspiration',\n",
              "       'How American war planners singled out Hiroshima for destruction http://t.co/B5OKgpSpbH',\n",
              "       'Ebola: Alabama Home Quarantined Over Possible Ebola Case.. Related Articles: http://t.co/BiigD1LEq3',\n",
              "       'So this storm just came out of no where. .fuck me its cool',\n",
              "       '#np Avenged Sevenfold - Hail To The King',\n",
              "       '1.3 #Earthquake in 9Km Ssw Of Anza California #iPhone users download the Earthquake app for more information http://t.co/V3aZWOAmzK',\n",
              "       '2.0 #Earthquake in Sicily Italy #iPhone users download the Earthquake app for more information http://t.co/V3aZWOAmzK',\n",
              "       'Many thx for share and your comment Alex Lightman - \\n\\nWhat evidence did it take or will it take for you or your... http://t.co/4Wsva9WO0F',\n",
              "       'Wired: Reddit Will Now Quarantine Offensive Content - Reddit co-founder and CEO Steve Huffman has unveiled more sp... http://t.co/aByHRgsS1s',\n",
              "       'FERNO would appreciate if everyone in EMS could dust off their engineering degree &amp; inspect all stretcher components. http://t.co/GTEd6LDwho',\n",
              "       'Okay maybe not as extreme as thunder and lightning but pretty much all other types! #FIFA16  https://t.co/ETuuYISLHw',\n",
              "       'Lake Dallas crash causes train to derail http://t.co/ao4Ju9vMMF',\n",
              "       \"@IAN_Hellfire again not really. Do you have any idea how many times i have been ignored for fadc. You can't expect anything.\",\n",
              "       'A Time-Lapse Map of Every Nuclear Explosion Since 1945 - by Isao Hashimoto #War #atomicbomb \\nhttps://t.co/V0t8H4Iecc',\n",
              "       'LARGE SHIP WRECK FISH TANK ORNAMENT FOR SALE LARGE SHIP WRECK FISH TANK AQUA...http://t.co/scGhL0Piq6',\n",
              "       'Esteemed journalist recalls tragic effects of unaddressed #childhood #trauma. @keithboykin @RandallPinkston @pozarmy  http://t.co/GXq1Auzb18',\n",
              "       'Gunshot wound #9 is in the bicep. The only one of the ten wounds that is not in the chest/torso area.  #KerrickTrial #JonathanFerrell',\n",
              "       \"@BrandonMulcahy @fpine Here's the story http://t.co/TgXutUoyHl\",\n",
              "       \"You can never escape me. Bullets don't harm me. Nothing harms me. But I know pain. I know pain. Sometimes I share it. With someone like you.\",\n",
              "       '@DalaiLama then have the biggest nuclear disaster to ever have happened',\n",
              "       '#LoMasVisto THOUSANDS OF HIPSTERS FEARED LOST: Giant Sinkhole Devours Brooklyn Intersectio... http://t.co/qwtk1b2fMC #CadenaDeSeguidores',\n",
              "       '1st Quality Insurance Group is #hiring Licensed Property &amp; Casualty Insurance Agent Produc http://t.co/VMJRtuVmh4 #jobs #Denver',\n",
              "       'Seeing that army of whitewalkers was the very first thing that has slightly intrigued me on GoT so far',\n",
              "       \"OMEGA MEN Writer Explores Terrorism Religion In an 'Epic KYLE RAYNER Story' http://t.co/Hr88CWxPGz #Newsarama\",\n",
              "       'I liked a @YouTube video http://t.co/9Vw0uQQi1y Marvel VS DC (Avengers Battle!)',\n",
              "       '@5SOSFamUpdater social casualty',\n",
              "       'There are no four truths-of pain of desire that is the origin of pain of the obliteration of that desire of the pain to that obliteration.',\n",
              "       \"Ugh So hungry I'm going to demolish this food!\",\n",
              "       'Police kill hatchet-wielding gunman who opened fire inside Nashville movie theater: AåÊmiddle-aged manåÊarmed wi... http://t.co/tyD47NfL5x',\n",
              "       'Bomb squad set to detonate backpack Antioch Tenn. theater gunman had on him officials say - @Tennessean http://t.co/eb74iieIWn',\n",
              "       '#NowPlaying Porcupine Tree - Drown With Me (Live) #Listen #Live at http://t.co/iyLVzy3Cob',\n",
              "       'Check out #PREPPERS #DOOMSDAY MUST HAVE LIBRARY COLLECTION ON CD #shtf #preppertalk #survival #2A #prepper http://t.co/VPQTGeQLmA via @eBay',\n",
              "       'Student electrocuted to death in school campus http://t.co/ryah8Fni5Q',\n",
              "       \"I'm awful at painting.. why did I agree to do an A3 landscape in bloody oils of all paints ??\",\n",
              "       'awwww Baby Walter #rewatchingthepilot #TeamScorpion #Cyclone',\n",
              "       '@Starflame_girl yeah I have a crush on her',\n",
              "       \"'Refuse to let my life be reduced to rubble. When the shit keeps piling up get a shovel.' @ExpireHC\",\n",
              "       \"My blood pressure is through the roof I don't need all this extra shit!!!!\",\n",
              "       'Dying of Lyme disease: Case fatality rate nearly 100% http://t.co/RgT9GhODpW',\n",
              "       \"@CounterMoonbat @Voodoo_Ben I've heard we're still using Purple Hearts manufactured then bc of the # of casualties we expected.\",\n",
              "       '3 Former Executives to Be Prosecuted in Fukushima Nuclear #Disaster.\\n\\nThe story: http://t.co/7uFnxxaVqs via @nytimes',\n",
              "       'U.S National Park Services Tonto National Forest: Stop the Annihilation of the Salt River Wild Horse... http://t.co/SB5R7ShcCJ via @Change',\n",
              "       '#hot  C-130 specially modified to land in a stadium and rescue hostages in Iran in 1980 http://t.co/6ioaBSl6I7 #prebreak #best',\n",
              "       '#sing #tsunami Beginners #computer tutorial.: http://t.co/ia44ncZLif Everyone Wants To Learn To Build A Pc. Re http://t.co/oGTuV1pLhT',\n",
              "       'PennLive - Two families displaced by Mechanicsburg blaze - No one was injured in the fire. http://t.co/OHYD7Hhcpe',\n",
              "       \"Top link: Reddit's new content policy goes into effect many horrible subreddits banned or quarantined http://t.co/zCp5cszSLl\",\n",
              "       'Flattened https://t.co/9jCIBenckz',\n",
              "       \"@AaronTheFM guys to scared to show his real name anyway he knows I'll bomb him\",\n",
              "       '@crazyindapeg @VETS78734 completely understandable considering the trauma #ptsdchat',\n",
              "       'DC Media: tip for getting updates on the derailed #WMATA train today - ask them about movie night and quickly change the subject!',\n",
              "       'Mumbai24x7 Helping Hand: In Mumbai 2 TTEs take charge of helpline to calm anxious relatives - The Ind... http://t.co/tUARYIJpqU #Mumbai',\n",
              "       'Gov. Brown links CA wildfire to drought http://t.co/jEvrCWUdpm',\n",
              "       'Suicide bomber kills 15 in Saudi security site mosque http://t.co/YyTKP1Z5kG via @Reuters',\n",
              "       '13 reasons why we love women in the military   - lulgzimbestpicts http://t.co/uZ1yiZ7n6m http://t.co/IjwAr15H16',\n",
              "       '@colinhoffman29 I hope he does. And I hope you die in the explosion too',\n",
              "       \"Can't fix stupid. MT @CBCCalgary Don't drive through flooded underpasses warns city as it enacts Municipal Emergency Plan. #yyc #abstorm\",\n",
              "       \"Families to sue over Legionnaires: More than 40 families affected by the fatal outbreak of Legionnaires' disea... http://t.co/2Mwc9YWjZy\",\n",
              "       'Why did God order obliteration of ancient Canaanites? http://t.co/Hz4lKFfC59 via @worldnetdaily#Homosexuality is the downfall of a society.',\n",
              "       \"#GBBO The difference between Paul and Mary my dears\\nPaul: 'it looks like a mudslide'\\nMary: 'I have a feeling it's going to taste great'\",\n",
              "       'If the Taken movies took place in India 2 (Vine by @JusReign) https://t.co/hxM8C8e33D',\n",
              "       'Sprinklers: FAQ About Lawn Inundation Systems Answered eBb',\n",
              "       'Saving the City in Old Town: The Proposed Demolition of 159 West Burton http://t.co/FJddx43Ewj @MessnerMatthew for @newcity',\n",
              "       'Beat:B2 MOTOR VEHICLE COLLISION at N 35 ST / FREMONT AV N reported on 8/5/2015 6:52 PM Call# 15000270364',\n",
              "       \"UPDATE 1-Russian 'food crematoria' provoke outrage amid crisis famine memories: * Russian society still recal... http://t.co/J2erZbMjQD\",\n",
              "       'Always look for the silver lining!  \\n\\nMy barn having burned to the ground\\nI can now see the moon.\\n~ Mizuta... http://t.co/Gl4McaX0ny',\n",
              "       \"China's Stock Market Crash: Are There Gems In The Rubble? http://t.co/Ox3qb15LWQ | https://t.co/8u07FoqjzW http://t.co/tg5fQc8zEY\",\n",
              "       'Strict liability in the context of an airplane accident: Pilot error is a common component of most aviation cr... http://t.co/6CZ3bOhRd4',\n",
              "       'Truly a scene of chaos unprecedented in frenzy. Pandemonium even. Utter disorder. That anyone survived such mania is astounding. @catovitch',\n",
              "       'Christian Attacked by Muslims at the Temple Mount after Waving Israeli Flag via Pamela Geller - ... http://t.co/5qYcZyWKgG',\n",
              "       '#news Britons rescued amid Himalaya floods http://t.co/kEPznhXHXd',\n",
              "       'Global precipitation measurement satellite captures 3-D image of Typhoon Soudelor - @NASAHurricane http://t.co/iGCEtuMkcW',\n",
              "       'Had an awesome time visiting the CFC head office the ancop site and ablaze. Thanks to Tita Vida for taking care of us ??',\n",
              "       '@rvfriedmann Hell is just a fraction of his belief of total annihilation destruction of USA @LodiSilverado @ritzy_jewels',\n",
              "       \"BREAKING: Arsenal's Hector Bellerin has been arrested for questioning regarding the disappearance of Eden Hazard.\\x89Û_ http://t.co/eCMJ18AzaI\",\n",
              "       'Indeed!! I am fully aware of that battle! I support you in that fight!!  https://t.co/MctJnZX4H8',\n",
              "       \"The 2 cars right in front of me collided and If I hadnt stopped in time it would've been me too. #ButGod ????\",\n",
              "       '1.94 earthquake occurred 5km S of Volcano Hawaii at 01:04 UTC! #earthquake #Volcano http://t.co/auf4J4Owj1',\n",
              "       'I hope this tsunami clears b4 i have to walk outside to my car ????',\n",
              "       \"Families to sue over Legionnaires: More than 40 families affected by the fatal outbreak of Legionnaires' disea... http://t.co/81HVV3N3rS\",\n",
              "       '@BuffoonMike I knew mo not doing much would bite us he was influenced by that shitty staff and injuries are not acquisitions',\n",
              "       'Had lunch with Stewart &amp; Julian only a couple of hours earlier. Good to finally find out what happened to them. http://t.co/AnP9g6NjFd',\n",
              "       \"When there's trouble you know who to caaaaaall\",\n",
              "       '@USAgov Koreans are performing hijacking of the Tokyo Olympic Games.https://t.co/APkSnpLXZj',\n",
              "       '@CBSBigBrother ouch Clelli....you could almost hear their hopes and dreams being crushed !',\n",
              "       '@BadAstronomer ...I have a lot of trouble getting both students and adults to understand that the moon is farther away than they think.',\n",
              "       'Hollywood movie about trapped miners released in Chile',\n",
              "       'Black Eye 9: A space battle occurred at Star O784 involving 2 fleets totaling 3934 ships with 7 destroyed',\n",
              "       'To All The Meat-Loving Feminists Of The World Riot Grill Has Arrived: Pop quiz! Which do you prefer: fem... http://t.co/KmndkFa7me #art',\n",
              "       '@new_hart2010 #mudslide... nuff said #GBBO',\n",
              "       \"Wtf? Her biological father is holding her hostage and her adoptive parents haven't even looked for her. Criminal minds got me fucked up.\",\n",
              "       'Suicide bomber kills 15 in Saudi security site mosque  #world #news',\n",
              "       'Countless Casualties All Across The Globe War Being Orchestrated On All The Corners Of The Planet [On All Levels] http://t.co/G1BWL3DQQK',\n",
              "       'Why are you deluged with low self-image? Take the quiz: http://t.co/XsPqdOrIqj http://t.co/CQYvFR4UCy',\n",
              "       'Tell me why or why not\\nto adopt in this way\\nmaybe I overlooked something\\nfatal for me\\n?whyor why not?',\n",
              "       \"Coursing* '@WEYREY_gidi: Now they are causing Di Maria.. LOL'\",\n",
              "       'Severe T-storm Warning for Union County ~3:45pm. Top threats include heavy rain lightning &amp; damaging winds. http://t.co/XWOevMK0aA',\n",
              "       'Egyptian Militants Tied to ISIS Threaten to Kill Croatian Hostage (New York Times) http://t.co/GTXndnJRrl (1717 GMT)',\n",
              "       '@YMcglaun THANK YOU FOR UNDERSTANDING  THE GOV. ONLY TELLS US ABOUT 5% OF WHATS REALLY GOING ON I HAVE MILITARY HOUSE &amp; CIA CONNECTS !!!',\n",
              "       \"@halljh1720. I am so sick of criminals parents and friends rioting when they are killed by police. You don't give a Damn when officer is.\",\n",
              "       \"@God how come bugs haven't all drowned out of existence every time it rains?\",\n",
              "       '2 TIX 10/3 Frozen Fury XVII: Los Angeles Kings v Avalanche 103 Row:AA MGM Grand http://t.co/kBtZZZG2Tp',\n",
              "       'Come and join us Tomorrow!\\nAugust 7 2015 at Transcend:Blazing the Trail to the Diversified World of Marketing... http://t.co/NR1I8Qnao1',\n",
              "       'A diamond is just a piece of charcoal that handled stress exceptionally well. We are hard pressed on every side but not crushed.2 cor4:8',\n",
              "       'Cabin Fever 2 flames https://t.co/yXnagsqvBM',\n",
              "       \"I'll cry until my pity party's in flames ????\",\n",
              "       'Aftershock \\x89ã¢ (2010) Full\\x89ã¢ Streaming - YouTube http://t.co/vVE3UsesGf',\n",
              "       'http://t.co/FCqmKFfflW Twelve feared killed in Pakistani air ambulance helicopter crash http://t.co/vAyaYmbNgu',\n",
              "       'We gone get it  get it in blood',\n",
              "       'Sitting around a fire sounds great right about now',\n",
              "       '78 passengers evacuated safely after Green Line train derails. http://t.co/KzBSOhtwB4',\n",
              "       '11 puncture wounds', '@Mayhem_114 are you reading right to left',\n",
              "       '08/3/15: CAT FATALITY: UTICA NY; PLEASANT &amp; HOLLAND AVE:Black cat with white paws. Average size.  On grass next to north side of road.',\n",
              "       'Owner of Chicago-Area Gay Bar Admits to Arson Scheme: Frank Elliott pleaded guilty to hiring an arsonist to to... http://t.co/jCFEhrHLq8',\n",
              "       'Are souls punished withåÊannihilation? http://t.co/c1QXJWeQQU http://t.co/Zhp0SOwXRy',\n",
              "       \"'Legionnaires' Disease: What's Being Done to Stop Deadly Outbreak' http://t.co/FftOKd0Vts #????_?????\",\n",
              "       'Good thing there was actually just a legit fire in the mall and nobody evacuated!!',\n",
              "       '@tareksocal I think a lot of celebrities have to treat ppl as if they could harm them',\n",
              "       'RT_America: RT RT_com: Eye of Super Typhoon Soudelor seen from space (TIME-LAPSE) https://t.co/FC3BxRtHPG http://t.co/BIU4koWGlz',\n",
              "       \"Julian Knight - @SCVSupremeCourt dismisses mass murderer's attempt to increase prisoner pay. Challenged quantum of 5% increase 2013.\",\n",
              "       'OSP concerned about mounting fatalities http://t.co/YmP0gInwza http://t.co/FYIOQvIOif',\n",
              "       'House Energy &amp;amp; Commerce subcommittee to hold 7/28 hearing of CDC oversight of bioterror labs Army anthrax mishaps. htt\\x89Û_',\n",
              "       \"Wreckage 'Conclusively Confirmed' as From MH370: Malaysia PM: Investigators and the families of those who were... http://t.co/4xB4ZwyhCt\",\n",
              "       'real magic in real life:\\n\\nwomen went missing in Ohio town the focus of FBI probe after strange deaths and... http://t.co/6m0YNJWbc9',\n",
              "       'Watch This Airport Get Swallowed Up By A Sandstorm In Under A Minute http://t.co/sEquWmvFx4',\n",
              "       \"I wonder how times someone has wrecked trying to do the 'stare and drive' move from 2 Fast 2 Furious\",\n",
              "       'Severe Thunderstorm Warning for Oklahoma County until 10:30pm. http://t.co/RsdkWZRc8g #okwx',\n",
              "       '@chrisroth98 @chaselabsports in an emergency situation late in the year. Not as a plan in camp',\n",
              "       'wreck? wreck wreck wreck wreck wreck wreck wreck wreck wreck wreck wreck wreck?',\n",
              "       'Learn How I Gained Access To The Secrets Of The Top Earners &amp; Used Them To Explode My Home Business Here: http://t.co/8rABhQrTh5 Please #RT',\n",
              "       '@elisagxrcia I think of that every time I go to the epicentre haha',\n",
              "       'Crackdown 3 Destruction Restricted to Multiplayer: Crackdown 3 impressed earlier this week with a demonstratio... http://t.co/LMWKjsYCgj',\n",
              "       'Indian Govt. &amp; Media should take serious concern about their safety. They are in danger now. https://t.co/YX1UKbmTqB',\n",
              "       'Hiroshima survivors fight nuclear industry in Brazil Ì¢?? video http://t.co/GLZmGBM7w0',\n",
              "       'I liked a @YouTube video from @deathmule http://t.co/sxHGFIThJw MK X Tremors Stalag Might Fatality on Ermac Tournament Pharaoh',\n",
              "       \"@KIRO7Seattle Just saw a Bomb Squad car heading north on Elliott with sirens on - any word on where they're headed??\",\n",
              "       '@c_pinto001 I see people are panicking about Orpik all over again.',\n",
              "       '@joshacagan Your only option now is to move to an desolate island with nothing but a stack of DVDs you can\\x89Ûªt watch.',\n",
              "       '4 Common Running Injuries and How to Avoid Them http://t.co/E5cNS6ufPA',\n",
              "       'Petition to remaster Fatal Frame 1 with a Windwaker-style selfie mode',\n",
              "       \"Elecman could electrocute me and I'd say thanks.\",\n",
              "       'Terrorists attack police post; 2 SPOs injured http://t.co/lXMdiseUCn #YUG',\n",
              "       \"@deniseromano @megynkelly @GOP That's one way to make their heads explode...\",\n",
              "       'Expert Prepper: Financial Collapse Natural Disaster Failed Grid... http://t.co/AVVSOiNO8Z http://t.co/VoYrUxcrIN',\n",
              "       'Sexual Revolution:Blight For Women is out! http://t.co/T8Sv2ai7sW Stories via @ACeBabes @HealthWeekly1 @AmateurNester',\n",
              "       'I liked a @YouTube video from @zaire2005 http://t.co/MulRUifnN1 SPECIALGUEST CRAPGAMER RECAP MICROSOFT DESTROYED SONY AT GAMESCOM',\n",
              "       \"The best thing about this is it drowned out the call from the guy angry cause he hadn't gotten a tracking number... http://t.co/QYu8grOrQ1\",\n",
              "       \"IMAGINE A DOCTOR TREATING AN #EBOLA PATIENT WITHOUT EVER PLACING HIMSELF IN HARM'S WAY. http://t.co/dliZfkk30Y\",\n",
              "       'Refugio oil spill may have been costlier bigger than projected http://t.co/aP30psZkVx',\n",
              "       \"I'm afraid that the tornado is coming to our area...\",\n",
              "       'This bed looks like a war zone.',\n",
              "       'USGS reports a M1.94 #earthquake 5km S of Volcano Hawaii on 8/6/15 @ 1:04:01 UTC http://t.co/Njd28pg9Xv #quake',\n",
              "       'Love God more than you fear hell',\n",
              "       'Bulgarian Tittie Twister By NoEmotion Produced By EDK PathFinders (HD) M...: http://t.co/9ODqryJncF via YouTube',\n",
              "       'I keep scrolling to find out what he said or did....but there seems to be no exact starting point.  Wounds run deep. : /',\n",
              "       'Strikers in Phalaborwa striking over the CHINESE taking their jobs. Strikers burning buildings attacking cars 2... http://t.co/08LnGClZsj',\n",
              "       \"i'm really sad about red 7 closing :( yuppies n tourists ruin everything\",\n",
              "       'I still have not heard Church Leaders of Kenya coming forward to comment on the accident issue and disciplinary measures#ArrestPastorNganga',\n",
              "       \"I'm an emotional wreck watching emmerdale\",\n",
              "       'Service on the Green Line has resumed after an earlier derailment near Garfield with residual delays.',\n",
              "       'Why does it say Silas sliced in that headlinelike someone chopped him up like a piece of cabbage????????????????????????  #GH',\n",
              "       \"Having your wounds kissed by Someone who doesn't see them as disasters in your soul but rather cracks to pour their love into is amazing.\",\n",
              "       'Imagine getting flattened by Kurt Zouma',\n",
              "       'Large sinkhole swallows entire pond in Lowndes County Georgia: Large sinkhole\\x89Û_ http://t.co/bCLDQmMEHg #Occasion2B',\n",
              "       'Our mission to see the end of this movie last night @markoturner @annaciclismo after getting fire alarm evacuation http://t.co/5kFOVovjso',\n",
              "       'cancel the fucking show. Evacuate MetLife  https://t.co/SkQ8oUcM3R',\n",
              "       'Truck crash on 40w at US70 in Lebanon is a fatality. Very sad. Expect long delays through the morning.',\n",
              "       '@valdes1978 forgive me if I was a bit testy. Have been deluged with hatred &amp; have lost patience.',\n",
              "       'The f$&amp;@ing things I do for #GISHWHES Just got soaked in a deluge going for pads and tampons. Thx @mishacollins @/@',\n",
              "       \"@LaurenJauregui I would say I'm dead but I'm not that right there was obliteration\",\n",
              "       '11-Year-Old Boy Charged With Manslaughter of Toddler: Report: An 11-year-old boy has been charged with manslaughter over the fatal sh...',\n",
              "       'Zeal is a volcano the peak of which the grass of indecisiveness does not grow',\n",
              "       '#TRAFFICALERT  Eastbound 210 Freeway at Citrus Ave in Azusa. Two motorcycles involved in accident with one fully engulfed in flames in lanes',\n",
              "       'Wtf this mom just drowned her child?!',\n",
              "       \"It's Even Worse Than It Looks: How the American Constitutional System Collided With the New Politic\\x89Û_ http://t.co/Gfa3SOw9zn\",\n",
              "       'Refugio oil spill may have been costlier bigger than projected http://t.co/gtHddzAvhg #LosAngelesTimes #latimes #news',\n",
              "       'POV video captures violent landing at Amsterdam Airport Schiphol during a storm - Daily Mail http://t.co/seShqN5DSK #Amsterdam #News',\n",
              "       'Coastal German Shepherd Rescue OC shared a link... http://t.co/2JxkmkpalP #animalrescue | https://t.co/ec46LyQQc6',\n",
              "       'Driver fatalities down on Irish roads but pedestrians and cyclists at more risk http://t.co/E7OJhpdfG2',\n",
              "       \"@Furiosoxv stuns also probably won't be anything like AW stuns. And you can't detonate them\",\n",
              "       \"People with netflix there's a really good documentary about Hiroshima narrated by John Hurt. 2 Parter that interviews Pilots + Survivors.\",\n",
              "       \"#InsaneLimits #plugin enabled  @'    =TPS= | TDM | 400T | HARDCORE | LOCKER | WEAPON RULES' using 3 limits\",\n",
              "       \"I'm so traumatised.\",\n",
              "       'Hundreds feared drowned as migrant boat capsizes off Libya http://t.co/pPJi1tCNML',\n",
              "       'Dutch crane collapses demolishes houses: Dramatic eyewitness video captures the moment a Dutch crane hoisting... http://t.co/dYy7ml2NzJ',\n",
              "       'I found a diamond in the rubble',\n",
              "       'Do you feel like you are sinking in low self-image? Take the quiz: http://t.co/bJoJVM0pjX http://t.co/wHOc7LHb5F',\n",
              "       'Finnish ministers: Fennovoima nuclear reactor will go ahead http://t.co/mqMCOLwBzc',\n",
              "       'Maryland mansion fire that killed 6 caused by damaged plug under Christmas tree report says - Into the flames... http://t.co/lKJFabQzb3',\n",
              "       '@NickLee8  i went to school in a bombed out East End of London3 families to one house no bathroom outside loo &amp; poor so whats yr point',\n",
              "       '@Durban_Knight Rescuers are searching for hundreds of migrants in the Mediterranean after a boat carr... http://t.co/cWCVBuBs01 @Nosy_Be',\n",
              "       'Flood: Two people dead 60 houses destroyed in Kaduna: Two people have been reportedly killed an... http://t.co/kEE1tyTZ15 #SemasirTalks',\n",
              "       '70 Years After Atomic Bombs Japan Still Struggles With War Past: The anniversary of the devastation wrought b... http://t.co/pmS4pMuR0q',\n",
              "       'I just bought tickets to DEATH BED / DUDE BRO PARTY MASSACRE III w/ @pattonoswalt Live at @AlamoDC! https://t.co/pmXLeZJBRc',\n",
              "       'Trafford Centre film fans angry after Odeon cinema evacuated following false fire alarm http://t.co/pFMn63VnAm http://t.co/vKwqbOJFJc',\n",
              "       \"Neil_Eastwood77: I AM A KNOBHEAD!! Bin Laden family plane crashed after 'avoiding microlight and landing t... \\x89Û_ http://t.co/dUVUzhMVUT\",\n",
              "       '@jt_ruff23 @cameronhacker and I wrecked you both',\n",
              "       \"the sunset boys wreck my bed   original 1979 usa gimp label  vinyl 7' 45  newave http://t.co/X0QLgwoyMT http://t.co/hQNx8qMeG3\",\n",
              "       'Updated to Windows 10 now I get this error http://t.co/kHSBZKfd6O',\n",
              "       \"@mccauleysdesign @abysmaljoiner @DyamiPlotke it works for my purpose. A large cyclone would be better. I just don't have $4K. This was $500\",\n",
              "       'FYI: ;ACCIDENT PROPERTY DAMAGE;3460 LIMESTONE LN;COL;YELLOWSTONE WAY;FIELDSTONE DR;08/05/2015 19:36:35',\n",
              "       'Cue storm with massive wind and hail!! Now a power outage @WXII in Davidson County.',\n",
              "       \"Think I'm traumatised for life\",\n",
              "       'MEG issues Hazardous Weather Outlook (HWO) http://t.co/3X6RBQJHn3',\n",
              "       'Police: Man killed ex grandmother after son wasn&amp;#8217;t named after him http://t.co/ndCy8Q7R6I OMG!!!!! Absolutely Crazy!!!',\n",
              "       '@RockBottomRadFM Is one of the challenges on Tough Enough rescuing people from burning buildings?',\n",
              "       '@TinyJecht Are you another Stand-user? If you are I will have to detonate you with my Killer Queen.',\n",
              "       'Photographer Brian Ruebs endures 4500-feet climb to capture bride and groom http://t.co/BmWmpOyDIg',\n",
              "       'JKL issues Hazardous Weather Outlook (HWO)  http://t.co/4e719w6m4V #WX',\n",
              "       'Officials say a quarantine is in place at an Alabama home over a possible Ebola case after developing symptoms... http://t.co/rqKK15uhEY',\n",
              "       \"If you're bored with life if you don't get up every morning with a burning desire to do things - you don't have enough goals. -Lou Holtz\",\n",
              "       \"#hot  Reddit's new content policy goes into effect many horrible subreddits banned or quarantined http://t.co/nGKrZPza45 #prebreak #best\",\n",
              "       '#BREAKING411 4 police officers arrested for abusing children at police-run boot camp in San Luis Obispo Calif. - ... http://t.co/oNLvf2fyoY',\n",
              "       '@Lightning_Wolf_ You really have Activity Directory? :P',\n",
              "       \"'Biggest lead hazard in New England history.' Yeah let's nail these guys. https://t.co/xzvmzQuS0x\",\n",
              "       \"Top link: Reddit's new content policy goes into effect many horrible subreddits banned or quarantined http://t.co/u9ao3A4oGC\",\n",
              "       'Storm in RI worse than last hurricane. My city&amp;3others hardest hit. My yard looks like it was bombed. Around 20000K still without power',\n",
              "       '@D1ff3r3nt1sG00d @RiceeChrispies What if he committed a mass murder?',\n",
              "       'Swansea ?plot hijack transfer move for Southampton target Virgil van Dijk? http://t.co/NZRWDdLntp',\n",
              "       'Vince McMahon once again a billionaire: I remember reading a deluge of posts about Vince McMahon losing $350 m... http://t.co/ko0oz3RYFg',\n",
              "       'DHS Refuses to Call Chattanooga \\x89Û÷Islamic Terrorism\\x89Ûª out of respect for MUSLIMS ... http://t.co/u8RGB51d22 via @po_st http://t.co/2tnu95VGFE',\n",
              "       \"Don't let #WMATA #Metro derail your day! Get a text every morn when you wake up with the best route to work: http://t.co/uhl0aKfvSm #sms\",\n",
              "       '@AmirKingKhan you would have been annihilated so you might as well thank @FloydMayweather',\n",
              "       '@LisaVanderpump How many dogs do you have and are they all rescue dogs?',\n",
              "       '@_301DC @Cloudy_goldrush i hate white people mo',\n",
              "       'Inundated with employee holiday request paperwork? Our cloud based HR software @hronlinetweets will help simplify your staffing logistics.',\n",
              "       'New #job opening at Downtown Emergency Service Center in #Seattle - #Chemical #Dependency Counselor or Intern #jobs http://t.co/BNRdKgXavr',\n",
              "       \"Today your life could change forever - #Chronicillness can't be avoided - It can be survived\\n\\nJoin #MyLifeStory &gt;&gt;&gt; http://t.co/FYJWjDkM5I\",\n",
              "       '@emmerdale is Ross really dead?? #AskCharley',\n",
              "       'Battlefield 4 Funny Moments - Dukes of Hazard Undercover Soldier MAV T... https://t.co/JU8nfpnedl via @YouTube',\n",
              "       '@twilightfairy flattened frog?',\n",
              "       'My parents are so impulsive sometimes. I remember coming home to my room filled with dust &amp; rubble just because they wanted it redesigned. ??',\n",
              "       \"@Hail_Zel man you kno I'm there !\",\n",
              "       'Friendly reminder that the only country to ever use nuclear weapons is the U.S. And it was against civilians. https://t.co/7QrEPylLUK',\n",
              "       'This just-married Turkish couple gave 4000 Syrian refugees an incredible gift #WashingtonPost http://t.co/aRKmc7vclN',\n",
              "       'Remove the http://t.co/Xxj2B4JxRt and Linkury Browser Hijacker http://t.co/9gtYlgXrOE http://t.co/yG6Rj86BKI',\n",
              "       '@beckyfeigin I defs will when it stops bleeding!',\n",
              "       \"Diageo's CEO stresses that a board revolt at United Spirits has not impacted Indian operations http://t.co/STPOdA901U\",\n",
              "       'The sign-up is open for the FALLING FOR DANGER release day blast and review tour. Sign-up here:... http://t.co/hbdo22nqPZ',\n",
              "       \"We're #hiring in our Toronto branch! Surety Underwriter/Senior Underwriter and Casualty Product Leader. Apply today. http://t.co/PraMKlrMhz\",\n",
              "       \"Biolab safety concerns grow: FedEx stops transporting certain specimens. Research facilities 'dumbfounded' by action. http://t.co/RUjV4VPnBV\",\n",
              "       \"@POTUS Maybe we should call Israel and tell them we're sorry are Pres has sold them down the river to annihilation.\",\n",
              "       \"Drunk Meals 101: What To Cook When You're Totally Obliterated http://t.co/JlPut7Va3s\",\n",
              "       'Update on Pulwama encounter that began earlier today: 2nd terrorist killed by security forces. Security forces...  http://t.co/m5RjekVDDp',\n",
              "       \"A look at state actions a year after Ferguson's upheaval http://t.co/GZEkQWzijq\",\n",
              "       'Plains All American Pipeline company may have spilled 40 percent more crude oil than previously estimated.... http://t.co/WEZjqC4Cf2',\n",
              "       'Suspected serial arsonist arrested in Calif. http://t.co/PzotPDGAkI',\n",
              "       'Santa Fe Springs Studebaker Rd / South St **Trfc Collision-No Inj** http://t.co/6uHih9pbrU',\n",
              "       'Watch Sarah Palin OBLITERATE Planned Parenthood For Targeting Minority Women! \\x89ÛÒ BB4SP http://t.co/Dm0uUpqGWY',\n",
              "       'Students COLLIDE this Fri/Sat - register http://t.co/PwjJimRfLy #nlccollide http://t.co/3w0pxFyyri',\n",
              "       'A little filming inside a Nuclear Reactor at #Chernobyl @SonyProUSA @LumixUSA @DJIGlobal @ProfBrianCox @RT_America https://t.co/2GLjhvEAD9',\n",
              "       \"@sarahmcpants @JustJon I'll give him a titty twister\",\n",
              "       'Strange to encaustic cerography portion him till give voice deluge: bYITyf http://t.co/I7ap1MES8M',\n",
              "       '@CodyThompson25 ty just blew up the motor went up in flames he got out ok',\n",
              "       '@Vickie627 Desert Storm was an unqualified victory a treaty was signed.  Under Clinton the situation only got worse and more violent. #tcot',\n",
              "       'Womens Buckle Casual Stylish Shoulder Handbags Pockets Cross Body Bags White http://t.co/mWZQCjhZPb',\n",
              "       'RT kurtkamka: Beautiful desolation. Just me a couple of coyotes some lizards and the morning sun. #Phoenix #Ariz\\x89Û_ http://t.co/0z1PvJVdpf',\n",
              "       \"NEWS FLASH!  Any decent billers been promoted to 'manager'? If so let me know as I want to watch your billings fall off a cliff.\\n#Humble\",\n",
              "       \"Businesses are deluged with inroices.|Make yours stand out with colour or shape and it's likely to rise to the top of the pay' pile.\",\n",
              "       'Ignition Knock (Detonation) Sensor Connector-Connecto MOTORCRAFT WPT-410 http://t.co/bSmJ2HVgwD http://t.co/bXalnEdy49',\n",
              "       \"@astros stunningly poor defense it's not all on the pitcher. If our bats are MIA like the top of 1st inning this team is in trouble.\",\n",
              "       'The Catastrophic Effects of Hiroshima and Nagasaki Atomic Bombings Still Being Felt Today http://t.co/QVlxpyyyCd',\n",
              "       '@Glosblue66 no idea what this means. Look at our violent crime rate without weapons. Ban guns we become like Mexico not Australia',\n",
              "       \"+ DID YOU SAY TO HIM!!?!?!?!' and phil actually collapsed on the gravel sobbing endlessly with a crowd watching him confused angry mad+\",\n",
              "       'Slums are a manifestation state failure to provide housing to citizens. Illegality discourse confounds structural problems. #stopevictions',\n",
              "       '11-Year-Old Boy Charged With Manslaughter of Toddler: Report: An 11-year-old boy has been charged with manslaughter over the fatal sh...',\n",
              "       '#usNWSgov Severe Weather Statement issued August 05 at 10:38PM EDT by NWS: ...THE SEVERE THUNDERSTORM WARNING ... http://t.co/7HuEN4rWrn',\n",
              "       'Malaysia seem more certain than France.\\n\\nPlane debris is from missing MH370 http://t.co/eXZnmxbINJ',\n",
              "       '@Tunes_WGG lol. U got wrecked',\n",
              "       \"Woman's GPS app guides rescuers to injured biker in Marin County - SFGate http://t.co/Iz9U8BhfAA\",\n",
              "       './.....hmm 12000 Nigerian refugees repatriated from Cameroon http://t.co/YTW9SlWvmg /(',\n",
              "       \"'@NASASolarSystem: Jupiter's Great Red Spot is a violent storm larger than the entire Earth. http://t.co/2lBTshXI3c http://t.co/0jmKdTcYmJ'\",\n",
              "       \"Me- Don't bother calling or texting me because my phone is obliterated\\n\\n*has 7k missed calls and messages*\",\n",
              "       \"I cant believe a fucking cis female is going to somehow claim to be offended over a transgendered female who's been attacked by media\",\n",
              "       'UGH Y DID BLAZE PUT THE CALORIES BY THEIR PIZZAS? OK COOL #thisispublichealth',\n",
              "       '@TheEllenShow Please check into Salt River horses help stop the annihilation about to happen without 54000 more signatures.change .org Thx',\n",
              "       '@bbcmtd Wholesale Markets ablaze http://t.co/lHYXEOHY6C',\n",
              "       'It\\x89Ûªs time to do away with drought.Check out how the #cloud #IOT are helping conserve water http://t.co/nnv3zwVANt',\n",
              "       'Ranking #artectura #pop2015 #Nå¼36 Florence + The Machine - Ship To Wreck https://t.co/9LE0B19lVF  #music #playlist #YouTube',\n",
              "       '#TrainTragedy - Happened in MP due to collapse of bridge now I m afraid to take a long distance train. http://t.co/JthusynJaH',\n",
              "       '#usNWSgov Special Weather Statement issued August 05 at 10:40PM EDT by NWS: ...STRONG THUNDERSTORM WILL IMPACT... http://t.co/TQ1rUQD4LG',\n",
              "       'The Murderous Story Of America\\x89Ûªs First Hijacking http://t.co/jmAwRLt7HB',\n",
              "       'Army sources say 12 persons on board including a team of doctors die in helicopter crashed near Mansehra. weather seems to be cause of crash',\n",
              "       \"Delmont's 'Onion House' Purchased After Plans For Demolition http://t.co/yojKfQeJ6s\",\n",
              "       'Thank you @RicharkKirkArch @AusInstArchitect for words of warning re #QueensWharf #Brisbane http://t.co/jMkYWhv7mP via @FinancialReview',\n",
              "       'Jen you da bomb girl! https://t.co/czQr3CI9Xw',\n",
              "       '@chojo everyone hail to the pumpkin king!!!!',\n",
              "       'What it was like to survive the atomic bombing of Hiroshima\\nhttp://t.co/LGrOcbXPqo',\n",
              "       'London Life: photos of a beautiful bombed-out Britain http://t.co/2RAcaiVFfq #arts',\n",
              "       'See these guys reaching the front foot out loading the shoulders and spinning? Neither do I!  #hitting #load&amp;explode http://t.co/6VeI1mheA4',\n",
              "       '@Allahsfinest12 ...death to muslims',\n",
              "       \"why wasn't this warship sunk?      CNN: First on CNN: Iranian warship points weapon at U.S. helicopter official says http://t.co/hfZk09McEN\",\n",
              "       \"The Art World's Seismic Shift Back to the Oddball - Observer http://t.co/W0xR5gP8cW\",\n",
              "       'FedEx no longer will transport bioterror germs http://t.co/SHrhkfj1bC via @usatoday',\n",
              "       'http://t.co/D3cTNI8Qit #Demolition company: der abbruchsimulator',\n",
              "       '@SonofLiberty357 all illuminated by the brightly burning buildings all around the town!',\n",
              "       'Experts in France begin examining airplane debris found on Reunion Island: French air accident experts on Wednesday began examining t...',\n",
              "       'FedEx no longer to transport bioterror germs in wake of anthrax lab mishaps http://t.co/pWAMG8oZj4',\n",
              "       'Zone of the Enders MGS2 God of War. RT @D_PageXXI: Quote this with your favorite PS2 game',\n",
              "       \"I'm crazy enough to run in 95 degree mid-day heat under the blazing sun in a place where I'm not\\x89Û_ https://t.co/OSUoIVNiGO\",\n",
              "       'Remove the http://t.co/l4wJHz4AJ6 and Linkury Browser Hijacker http://t.co/KMgDv7VSAz http://t.co/byTsfms7Md',\n",
              "       \"@evacide The Ferguson RIOTS worked. This of this the next time you say RIOTING doesn't change anything.\\n\\nThere fixed it for you.\",\n",
              "       \"Despite the crippling anxiety and overwhelming panic attacks I'd say I'm fairly well-adjusted.\",\n",
              "       \"@abandonedpics You should delete this one it's not an abbandoned nor sinking. That\\x89Ûªs the darsena of the Castello scaligero di Sirmione.\",\n",
              "       '@FNAF_TalkMC *stands there engulfed in the fire smiling*',\n",
              "       '70 Years After Atomic Bombs Japan Still Struggles With War Past: The anniversary of the devastation wrought b... http://t.co/Targ56iGBZ',\n",
              "       \"#Australia #News ; RT janeenorman: 'High probability' aircraft wreckage is from #MH370 according to Deputy Prime \\x89Û_ http://t.co/cdOHgnJmsT\",\n",
              "       '#HSE releases annual workplace facilities data. Have a look | http://t.co/h4UshEekxm http://t.co/jNHNX3oISN',\n",
              "       'Hiroshima: 70 years since the worst mass murder in human history. Never forget. http://t.co/jLu2J5QS8U',\n",
              "       'An indepth look at the new world of work and how young people businesses and economies are coping with huge upheaval http://t.co/aYP6zVHm2A',\n",
              "       \"If you're lost and alone or you're sinking like a stone carry onnnn\",\n",
              "       'Cuban leader extends sympathy to Vietnam over flooding at http://t.co/xLq8G6vb2r',\n",
              "       \"Cramer: Iger's 3 words that wrecked Disney's stock - CNBC http://t.co/N6RBnHMTD4\",\n",
              "       \"'Er indoors will be devastated. RIP Arfur. #GeorgeCole\",\n",
              "       'U.S National Park Services Tonto National Forest: Stop the Annihilation of the Salt River Wild Horse... http://t.co/6LoJOoROuk via @Change',\n",
              "       \"I'm just going to say it. Under the new reddit policy changes I think /r/conspiracy will be quarantined and how that's bad for the truth m\\x89Û_\",\n",
              "       'Violent Forces Radio: Now Playing Agony - Storm of the apocalypse\\nTuneIn Player @ http://t.co/XsSgEdSbH4',\n",
              "       '4 equipment ego break upon dig your family internet hoke excepting versus a sinking term: dfLJEV',\n",
              "       '#Flashflood causes #landslide in Gilgit #Pakistan Damage to 20 homes farmland roads and bridges #365disasters  http://t.co/911F3IXRH0',\n",
              "       \"If you don't have anything nice to say you can come sit with me.\",\n",
              "       'Megadeth Week - Symphony Of Destruction http://t.co/ECd7HiZja1',\n",
              "       'Fatality https://t.co/GF5qjGoyCi',\n",
              "       \"\\x89ÛÏ@SplottDave: @TeamPalestina That's about 28700 Palestinian homes demolished now by Israel since 1967 w/ 0 Israeli home demolished @POTUS\",\n",
              "       'Captain Abbott must go down with LNP boat #refugees #christianvalues https://t.co/Kp5dpOaF58',\n",
              "       'Pisces tweets need to get better because most the tweets make me sound like a total emotional catastrophe.',\n",
              "       'Rainstorm Destroys 600 Houses In Yobe | iReporter https://t.co/0rNY349UnT via @sharethis',\n",
              "       'The Danger and Excitement of Underwater Cave Diving http://t.co/8c3fPloxcr http://t.co/cBGZ9xuN2k',\n",
              "       'Love skiing',\n",
              "       \"NASAHurricane? EASTERN PACIFIC *Full Update* Satellite Sees Formation of Eastern Pacific's Tropical Storm Hilda\\nTh\\x89Û_ http://t.co/KsXTo8NKNl\",\n",
              "       'Due to the rainstorm last night cupcake decorating is happening NOW at the Rec Hall! $2 - proceeds to #IWK! http://t.co/EaRONLwIFh',\n",
              "       \"@Stankyboy88 I should've photo bombed\",\n",
              "       \"@RogueWatson Nothing wrong with that. The Lethal Weapon series is great. Yes they're ALL great.\",\n",
              "       'every time I have a really good day someone just has to ruin it',\n",
              "       'salute to all the kids still trapped in adult bodies.',\n",
              "       \"Hey @reddit - the concept of a 'quarantine' makes no sense if the people you've quarantined can just wander out &amp; about whenever they want\",\n",
              "       'I was over here dreaming peacefully then that loud ass thunder wanted to scare me. ??',\n",
              "       'Obama Declares Disaster for Typhoon-Devastated Saipan:  http://t.co/M6LvKXl9ii',\n",
              "       '@MissDaOh and if she had a screaming baby you would have loved that so much more',\n",
              "       \"@lovemywife1983 @FoxNews like shedid on 9/11 4the public facts I am not a journalist the Bush's washard on stopping more than just terrorist\",\n",
              "       \"@CW_Hoops you better make all your shots tomorrow cause I'm recording and flames will be thrown tomorrow\",\n",
              "       '#ISIS claims responsibility for Saudi suicide bombing  http://t.co/jlMICJ6jE5',\n",
              "       \"@ushiocomics I may be panicking a little I wasn't as fast submitting the form as I usually am\",\n",
              "       '@PyrBliss ah I remember those days. In a snowstorm too.',\n",
              "       'The Murderous Story Of America\\x89Ûªs First Hijacking http://t.co/EYUGk6byxr',\n",
              "       'LOOOOOOL',\n",
              "       'Pandemonium use to be my fav cd ?? I had to get it http://t.co/6WhUgaeM3C',\n",
              "       'Angry Woman Openly Accuses NEMA Of Stealing Relief Materials Meant For IDPs: An angry Internally Displaced wom... http://t.co/Khd99oZ7u3',\n",
              "       '@adriennetomah how did people survive like that?!',\n",
              "       'Today\\x89Ûªs storm will pass; let tomorrow\\x89Ûªs light greet you with a kiss. Bask in this loving warmth; let your soul return to bliss.',\n",
              "       'Debris confirmed from MH370; relatives hope for discovery of crash site http://t.co/rLFtjmHHvT via @Reuters #Video',\n",
              "       'Exploration takes seismic shift in #Gabon to #Somalia http://t.co/kLtIt88AS3',\n",
              "       'The City has activated the Municipal Emergency Plan. Primarily stay indoors avoid flooded areas Call 311 for... http://t.co/Ch6E7vTATR',\n",
              "       \"I'm so high moe I'm bouta crush this Friday's\",\n",
              "       'Big Top Burning The True Story Of An Arsonist A Missing Girl \\x89Û_ : http://t.co/QxH1H61cwD .',\n",
              "       'A river of lava in the sky this evening! It was indeed a beautiful sunset sky tonight. (8-4-15) http://t.co/17EGMlNi80',\n",
              "       '@Stretcher @invalid @Grazed @Rexyy @Towel I see the programme (:',\n",
              "       'I Hate To Talking Otp With My Grandma... I Mean I Love Her As To Death But She Talk So Damn Much Ssshhheeesshh!!! ??????',\n",
              "       'I love the cotton candy blizzard??',\n",
              "       'Leicester_Merc : ICYMI - #Ashes 2015: Australia collapse at Trent Bridge - how Twitter rea\\x89Û_ http://t.co/HqeWMREysO) http://t.co/y4y8fclJED',\n",
              "       \"Wreckage 'Conclusively Confirmed' as From MH370: Malaysia PM: Investigators and the families of those who were... http://t.co/EdEKrmqTpQ\",\n",
              "       '@HaydnExists so glad i saved them all at once then didn\\x89Ûªt want you stealing my thunder :P',\n",
              "       'Madhya Pradesh Train Derailment: Village Youth Saved Many Lives',\n",
              "       \"I attacked Robot-lvl 19 and I've earned a total of 6615434 free satoshis! http://t.co/DMLJ1aGoTw #robotcoingame #Bitcoin #FreeBitcoin\",\n",
              "       '@AutoAmes everyone hoped we would join ISIS and get ventilated by marines while trying to detonate a bandolier of hot dogs at Fort Dix',\n",
              "       'Mental/Twitter Note: Make sure my smoke alarm battery is up to snuff at all times or face many twitter reminders of changing my battery.',\n",
              "       '@Shayoly yes I love it',\n",
              "       'Russian #ushanka #winter #military fur hat (xl61-62) with soviet badge LINK:\\nhttp://t.co/74YFQxvAK0 http://t.co/KXrEHVt6hL',\n",
              "       'DEVASTATED ISNT THE WORD ROSS OUT OF ALL PEOPLE #Emmerdale #SummerFate',\n",
              "       'Live Cricket Score In All Match International\\nDomestic\\nTeam Tour Team Squad\\nProfile &amp; Injury\\nLamha Ba Lamha Update\\n+\\nFolloW\\n@ICC_RealCKT',\n",
              "       'Jacksonville Fire &amp; Rescue Engine 58 - AWESOME TRUCK! - OFFICIAL JADE FL... https://t.co/ybdSlJw7c1 via @YouTube',\n",
              "       'Why are you feeling desolate? Take the quiz: http://t.co/E9yfe3p7P1 http://t.co/8gZbGMMaa1',\n",
              "       '@xeni my bet is mother nature might have plans to send a deluge our way.',\n",
              "       'Rory McIlroy to Test Ankle Injury in Weekend Practice #chinadotcom #sports http://t.co/UDTGWfSc3P http://t.co/V5wSx0LQN2',\n",
              "       'Obama Declares Disaster for Typhoon-Devastated Saipan: Obama signs disaster declaration for Northern Marians a... http://t.co/JCszCJiHlH',\n",
              "       \"@RayquazaErk There are Christian terrorists to be sure but I don't suicide bombing is employed often as it is in Islamic groups.\",\n",
              "       'Truth...\\nhttps://t.co/p5ZIcjUdXO\\n#News\\n#BBC\\n#CNN\\n#Islam\\n#Truth\\n#god\\n#ISIS\\n#terrorism\\n#Quran\\n#Lies http://t.co/kZhB8zX6YC',\n",
              "       'You must be annihilated!',\n",
              "       'women crush ???? http://t.co/CFXhQHvbVB',\n",
              "       \"'A Nightmare On Elm Street' Is Getting Remade... Again - http://t.co/HvwkJQXXyT\",\n",
              "       'Does anyone know why #murfreesboro #walmart was evacuated this evening? @dnj_com',\n",
              "       \"I'm about to explode ????\",\n",
              "       'Is it seclusion when a class is evacuated and a child is left alone in the class to force compliance?  #MoreVoices',\n",
              "       'Police unions retard justice &amp; drain gov $ but cops vote 4 Rs so Rs go after teachers unions instead! @DCCC @VJ44 @Lawrence @JBouie @mmfa',\n",
              "       'Incase of accident the first responders would know that there is a baby present https://t.co/sNaYMLDIUN',\n",
              "       'Anyone need a P/U tonight? I play Hybrid Slayer ps4 EU. HMU @Cod8sandscrims @EmpirikGaming @CoDAWScrims @4TP_KOTC @4TPFA @afterShock_Org',\n",
              "       \"'the fallacy is it is up to the steam roller. It's up to the object whether it will be flattened or not.' #RobertCalifornia #thereisonlysex\",\n",
              "       \"I'm setting myself up for disaster\",\n",
              "       \"I'm On Fire.  http://t.co/WATsmxYTVa\", 'Fatality!',\n",
              "       \"Private thirsty night?SAD BLOOD ROCK'N ROLL? #??\",\n",
              "       'Critters climate and two plague deaths in Colorado http://t.co/DXkt2Shuj2',\n",
              "       \"#360WiseNews : China's Stock Market Crash: Are There Gems In The Rubble? http://t.co/eaTFro3d5x\",\n",
              "       'The Threat | Anthrax | CDC http://t.co/q6oxzq45VE via @CDCgov',\n",
              "       'SMOKE ALOT OF WEED LIKE FUCK KIDNEYS PUT A DUTCH IN ME',\n",
              "       \"'It looks like a mudslide' 'It's like chewing on rubber' #GBBO ??????\",\n",
              "       'On this day in 1998 Appetite For Destruction goes to #1 on the Billboard Album Charts and stay on for 57 weeks',\n",
              "       \"Ashes 4th Test: 10 Hilarious Twitter Reactions to Australia's collapse http://t.co/6DznEjuVD3 by @Absolut_Sumya15\",\n",
              "       'Calgary news weather and traffic for August 5 * ~ 45 http://t.co/zAGBMlSf4H http://t.co/HVYXehXBmq',\n",
              "       'Back in 02 to 03 would never said that 50 would have ended ja like obliteration',\n",
              "       'Severe storm weakening as it moves SE towards Lubbock area.  Outflow boundary may create dust and 50 mph gusts http://t.co/kA1HBjlqVw',\n",
              "       '@hornybigbadwolf -sets the forest on fire-',\n",
              "       'Gov. Brown allows parole for 1976 Chowchilla school bus hijacker James Schoenfeld. http://t.co/GlWoAKppjq http://t.co/WlLfLFnDgG',\n",
              "       \"http://t.co/F7LJwxJ5jp #GamerGate The end of Reddit is coming. It's time we devise an Emergency Evacuation Plan.\",\n",
              "       'Reddit Will Now Quarantine Offensive Content: Reddit co-founder and CEO Steve Huffman has unveiled more specif... http://t.co/LJMGdpDLvs',\n",
              "       'Top insurer blasts lack of Australian Govt action on disaster mitigation http://t.co/sDgOUtWNtb via @smh',\n",
              "       'The Seven Seas - Wreck of the Giannis D. sunk after hitting a submerged reef in the\\x89Û_ http://t.co/Gn3WHNSFIb http://t.co/fWpOF5TwoC',\n",
              "       '@AtchisonSean he is dead',\n",
              "       'Severe Thunderstorm Warning for Oklahoma County until 10:30pm. Radar here: http://t.co/2HV2y2M2oZ #okwx',\n",
              "       'Why did God order obliteration of ancient Canaanites? http://t.co/IkugGvByeI',\n",
              "       'That hellfire song from the hunchback of notre dame reminds me a lot of my house',\n",
              "       \"inundated with Westeros Between Storm of Swords as a book on tape &amp; finishing S5 of Game of Thrones I don't know my Starks from my Greyjoys.\",\n",
              "       '@jasoncundy05 Chelsea need to hijack Man Utd deal for Pedro..20 mill bargain Adam driving home in Oregon USA cmon blues!!!',\n",
              "       '@Blizzard_draco GIVE ME FREE ART KAMON',\n",
              "       \"VIDEO: 'We're picking up bodies from water': Rescuers are searching for hundreds of migrants in the Mediterranean after a boat carryi...\",\n",
              "       'I have a rising follower graph! 2 more followers in the past week. Get your stats right here http://t.co/UlxF6dq3ns',\n",
              "       'Seriously these two tracks (one new one old) are amazing. Fond memories with TEARS.\\nhttps://t.co/sZ2RvwpWhj\\nhttps://t.co/laJx578DRu',\n",
              "       'I barely smoke with people i solo all my blunts',\n",
              "       'forestservice : RT dhsscitech: #Firefighters run into burning buildings\\x89ÛÓwe work on #tech t\\x89Û_ http://t.co/KybQcSvrZa) http://t.co/Ih49kyMsMp',\n",
              "       '@sriramk @DLin71 @pmarca Tragedy of commons pertains to public ownership. Not property rights based markets. The opposite of what you say.',\n",
              "       '@MissJadeBrown tells of the tragic mid-morning collision which claimed the life of a young man riding a motorcycle. https://t.co/rPDA60Aoni',\n",
              "       'You da One \\n\\n#MTVSummerStar #VideoVeranoMTV  #MTVHottest Britney Spears Lana Del Rey',\n",
              "       \"Following a catastrophic injury acute medical care takes precedent.  PTSD often follows in it's wake undetected... http://t.co/BZkqpl6R0a\",\n",
              "       'What Natural Disaster Are You When You Get Angry? http://t.co/q4gl3Dvhu1',\n",
              "       '@helene_yancey GodsLove &amp; #thankU my sister Helene for RT of NEW VIDEO http://t.co/cybKsXHF7d The Coming Apocalyptic US Earthquake &amp; Tsunami',\n",
              "       'Fear Factory - Cars (Official MusicVideo) http://t.co/UUzaUMdObc',\n",
              "       \"I've been by the pool all day #raisinfingers\",\n",
              "       'Why did God order obliteration of ancient Canaanites? http://t.co/Sf2vwQvJYa',\n",
              "       'Pic of 16yr old PKK suicide bomber who detonated bomb in Turkey Army trench released http://t.co/IUh718KCy0 http://t.co/9pQyx4xOOL',\n",
              "       'Block the plate with a charging Schwarber coming down the line Cervelli. I dare you. You would explode into a little puff of smoke',\n",
              "       '@mathew_is_angry @Z3KE_SK1 @saladinahmed they died horrible deaths trapped in the ships but they knew that was a risk.',\n",
              "       'I get to smoke my shit in peace',\n",
              "       '@brookesddl I am traumatised the lil shit nearly hopped in the bloody shower with me',\n",
              "       \"Suicide bombing for Da'esh is (rightly) despicable. Suicide bombing for Ocalan/ Marxism?\\n\\n= They share 'our values'. https://t.co/Gs0km0vlgk\",\n",
              "       'New Giant Flames (Giant Manly Brown) info/order sms:087809233445 pin:2327564d http://t.co/T1mBw0ia3o  http://t.co/CLfa0PY5Lm',\n",
              "       'FedEx no longer shipping bioterror germs - WXIA-TV | @scoopit http://t.co/ZQqJrQsbJm',\n",
              "       '@BCFCTicketLady @Mr_Aamir_Javaid Can see you and inundated ATM so just wanted to say well done.  You are doing a grand job #KRO',\n",
              "       \"@DoctorFluxx @StefanEJones @spinnellii @themermacorn  No burning buildings and rob during a riot. That's embarrassing &amp; ruining this nation.\",\n",
              "       '@115Film Doctor we must leave immediately the Core is unstable...The whole building is told to be evacuated. Take the research. We need...',\n",
              "       'Pic of 16yr old PKK suicide bomber who detonated bomb in Turkey Army trench released http://t.co/gnynJHnE6j http://t.co/1fuNEMes7M',\n",
              "       'Tips so that finding the customers ego drought: dqSVYusY',\n",
              "       \"'@jorrynja: 6. @ your bf/gf/crush ??' @Ter_ell ??\",\n",
              "       'Build and share your own custom applications all within @ThreatConnect w/ TC Exchange  http://t.co/hRL4XNJ9K7 #infosec #DFIR #ThreatIntel',\n",
              "       'Ways so archetype a bleeding well-grounded readiness: FpOJ http://t.co/WXbrArc7p3',\n",
              "       '@silverstar58200 I felt bad for Romero. He cared but mental stuff sunk his career. I worry same thing will happen to Hutch. #BlueJays',\n",
              "       'Lone Survivor: The Eyewitness Account of Operation Redwing and the Lost Heroes of SEAL Team\\x89Û_ http://t.co/NXtWXJCAVh http://t.co/oL8ESFRGLE',\n",
              "       \"lets see how good you are at soccer when you're bleeding out yo face\",\n",
              "       'Panic! at the Disco is the best song by this is gospel (acoustic) http://t.co/VCq2icptKI',\n",
              "       'Fire hazard associated with installation of non-compliant external cladding on high-rise buildings - Insurance - Aust http://t.co/wFsEaOBATo',\n",
              "       'Bloody Mary in the sink. Beet juice http://t.co/LUigmHMa1i',\n",
              "       \"@JanieTheKillr Jack closed the sketchbook biting his lip under his mask. 'I'm doing good. How're you?'\",\n",
              "       \"Don't think for one second I'm out to drown your memory. Baby you ain't worth the whiskey.\",\n",
              "       '@UrufuSanRagu a Mudslide?',\n",
              "       'Well as I was chaning an iPad screen it fucking exploded and glass went all over the place. Looks like my job is going to need a new one.',\n",
              "       '@_minimehh @cjoyner I must be overlooking the burning buildings? #BlackLivesMatter',\n",
              "       'Hail The New Caesars! http://t.co/GzMoBlsJxu http://t.co/5CGtqfk2uR',\n",
              "       'the stars are burning i here your voice in my mind',\n",
              "       'trapped in its disappearance',\n",
              "       '@InfiniteGrace7 I just screamed to the world how much I love My Little Pony ??',\n",
              "       '@HGF52611 Uh huh. You only have to be burned once to know fire hurts. Robbie Ross should throw home run derby in the All Star Game #RedSox',\n",
              "       \"@aubilenon @MarkKriegsman if you think you'd like burning man you should try it because it's the only way to know!\",\n",
              "       'Curfew really helps If you think about it ... #BC',\n",
              "       '@BenignoVito @LibertyBell1000 HILLARYMASS MURDERER.',\n",
              "       'The summer program I worked for went the city pool we had to evacuate because one of my kids left a surprise. @jimmyfallon #WorstSummerJob',\n",
              "       '#foodscare #offers2go #NestleIndia slips into loss after #Magginoodle #ban unsafe and hazardous for #humanconsumption',\n",
              "       '@tiggr_ why only Squad Obliteration?',\n",
              "       \"Don't argue cheap now. You're better than that. ??\",\n",
              "       'Lol meerkat is fucked. They will get demolished by periscope and Facebook live streaming.',\n",
              "       '[GPV Wind] As of 06JST 6AUG: WNW 06JST 6AUG / E 12JST 6AUG / S 18JST 6AUG. http://t.co/l6jBjAj8dm',\n",
              "       'Kelly Osbourne attacked for racist Donald Trump remark about Latinos on The View http://t.co/7nAgdSAdWP',\n",
              "       \"if they kill off Val I'm rioting #Emmerdale\",\n",
              "       '@Real_Liam_Payne I SCREAMED AT THE TOP OF MY LUNGS WHEN YOU SAID YOU GUYS WOULD COME BACK TO S.A SO KEEP YOUR PROMISE  #AddTexasToNext1DTour',\n",
              "       \"Science Daily: Lightning reshapes rocks at the atomic level - A lightning strike can reshape a mineral's crystal s... http://t.co/TEZLTqeyw2\",\n",
              "       \"@Groupon_UK it won't let me as you don't follow me\",\n",
              "       'how will I survive without dorrian',\n",
              "       'JKL cancels Flash Flood Warning for Bell Harlan Knox [KY]  http://t.co/4rY6zhcPOQ #WX',\n",
              "       'Zayn just blew up twitter.',\n",
              "       'Emergency units simulate a chemical explosion at NU - Evanston Now http://t.co/kfyEbhb3DI',\n",
              "       'See Aug 4 2015 PoconoRecord @EmergencyMgtMag - How Many Households Have an #Emergency Plan? | http://t.co/7zlsUmIess http://t.co/TdccH01N7q',\n",
              "       \"@Hurricane_Dame ???????? I don't have them they out here\",\n",
              "       \"I had a meltdown in Demi's instagram comments http://t.co/mcc76xOwli\",\n",
              "       \"@marynmck That's beyond adorable. I hope it won't be wrecked now that it's been noticed ...\",\n",
              "       'Islamic State claims suicide bombing at Saudi Arabian mosque: Ten members of emergency service... http://t.co/mpOaEFQl6k via @josephjett',\n",
              "       'Aug. 06 2015 Radio Show articles \\x89ÛÒ  \\n1] Eyewitness Account of Abortion Organ Harvesting by Planned Parenthood: http://t.co/49izkbOHri',\n",
              "       '@DevinJoslyn thunder and lighting ????',\n",
              "       \"@ianokavo96 he's still traumatised\",\n",
              "       \"Reddit's new content policy goes into effect many horrible subreddits banned or quarantined http://t.co/ohbV7YvtL5 http://t.co/YmuTi3ND9r\",\n",
              "       'Butt Trauma Extraordinaire',\n",
              "       'The Drowning Girl by Caitlin R. Kiernan Centipede Press Signed numbered Limited - Full re\\x89Û_ http://t.co/m2YUXNqlqY http://t.co/V8GKkfMFXT',\n",
              "       \"Paul Rudd Emile Hirsch David Gordon Green 'Prince Avalanche' Q&amp;A | Filmmakers at Google http://t.co/e4QonKzndZ  #entretenimento #Video\",\n",
              "       \"Businesses are deluged with invokces. Make yours stand out with colour or shape.and it's likely to rise to the top of the pay' pile.\",\n",
              "       \"I liked a @YouTube video http://t.co/5fR41TPzte Thorin's Thoughts - Riot and Sandbox Mode (LoL)\",\n",
              "       '@HearItFromPa Also pls help us w/ our campaign to warn the public about the hazardous keratin treatments. The Brazilian Blowout COPYCATS.',\n",
              "       '@QueenWendy_ go to sleep before someone screams at us??????',\n",
              "       '#Sismo M 1.9 - 5km S of Volcano Hawaii: Time2015-08-06 01:04:01 UTC2015-08-05 15:04:01 -10:00 at ep... http://t.co/RTUeTdfBqb #CSismica',\n",
              "       'all that panicking made me tired ;__; i want to sleep in my bed',\n",
              "       'So these savages leaked Thomas Brady gangstermail account and wonder why he was quick to fatality his Samsung mobile? B real son.',\n",
              "       'Do you feel deluged by low self-image? Take the quiz: http://t.co/QN4ZYISsPO http://t.co/3VWp7wD56W',\n",
              "       'Landslide kills three near Venice after heavyåÊrain http://t.co/q3Xq8R658r',\n",
              "       'The Great Upheaval By Winik Jay http://t.co/Ef4swP9SXZ http://t.co/Nb7MAAAOfs',\n",
              "       '#NoChillLukeHammings\\nIM SCREAMING',\n",
              "       '#world FedEx no longer to transport bioterror germs in wake of anthrax lab mishaps  http://t.co/5zDbTktwW7',\n",
              "       \"I should have known better than to think I'd get anything done after a 2 hour capoeira class. Stretcher-bearer!\",\n",
              "       'Three-alarm fire destroys two residential buildings a car in Manchester N.H. on Sunday afternoon http://t.co/rVkyj3YUVK',\n",
              "       '#dream #magic The #linden method lite version - #1 anxiety panic cure program: http://t.co/073izwX0lB THE LIND http://t.co/OkmLAGvkjv',\n",
              "       'Japan Marks 70th Anniversary of Hiroshima Atomic Bombing http://t.co/jzgxwRgFQg',\n",
              "       '@local_arsonist lmao but real live you should go',\n",
              "       '@dmassa5 Definite triple crown threat. Him and Harper both.',\n",
              "       \"#News: 'Many deaths' in shipwreck: Rescuers are trying to save hundreds of migrants after the... http://t.co/tX51oYbrN6 via @TheNewsHype\",\n",
              "       \"Don't blink ?? won't see the Lightning take the W ?? http://t.co/D4c2iqiRnU\",\n",
              "       'http://t.co/eHKLp12yiP Paci?c Media Centre | articles: AUSTRALIA: RSF protests over new security gag over reporting on...',\n",
              "       \".\\n.@Colts get demolished by #Patriots like 500-7 and whine to @nfl about 'integrity' #CantMakeItUp #PatriotsNation http://t.co/tpW5gPmhQ4\",\n",
              "       'During the 1960s the oryx a symbol of the Arabian Peninsula were annihilated by hunters. \\nhttp://t.co/yangEQBUQW http://t.co/jQ2eH5KGLt',\n",
              "       'Vladimir Putin Issues Major Warning But Is It Too Late To Escape Armageddon?\\nhttp://t.co/gBxafy1m1C',\n",
              "       'Governor allows parole for California school bus hijacker http://t.co/FZ8YtWQkwV #fresno',\n",
              "       '@TheDailyShow Mahalo nui loa for making my 20s. My generation could not have survived the (W.) Bush years without you. #JonVoyage #holomua',\n",
              "       \"Wreckage 'conclusively confirmed' as from missing flight MH370 via @YahooNewsDigest\",\n",
              "       'Malaysian prime minister says Reunion Island wreckage is from MH370: http://t.co/bpTZAMjl2K via @slate',\n",
              "       '70 Years After Atomic Bombs Japan Still Struggles With Wartime Past: The anniversary of the devastation wroug... http://t.co/EfsA6pbeMC',\n",
              "       \"@RohnertParkDPS You're another one for the history books! (Thank the Justice Department!) And by the way I haven't paid income tax in 20yrs.\",\n",
              "       'Barbados #Bridgetown JAMAICA \\x89ÛÒ Two cars set ablaze: SANTA CRUZ \\x89ÛÓ Head of the St Elizabeth Police Superintende...  http://t.co/wDUEaj8Q4J',\n",
              "       \"@onihimedesu the whole city is trapped! You can't leave the city! This was supposed to be a normal sports manga wit a love triangle (c)\",\n",
              "       '#news #science London warship exploded in 1665 because sailors were recycling artillery cartridges... http://t.co/r4WGXrA59M #life #tech',\n",
              "       '@DarkNdTatted pull up Holmes!',\n",
              "       'Armageddon https://t.co/uCSUDk3q1d',\n",
              "       'Warfighting Robots Could Reduce Civilian Casualties So Calling for a... http://t.co/9DVU1RidZ3',\n",
              "       'My @MLG and food worlds have collided in this @ijustine salmon video. #simple #Alaskaseafood #askforalaska https://t.co/2SnyGHaiVs',\n",
              "       \"'The way you move is like a full on rainstorm and I'm a house of cards'\",\n",
              "       '@LawfulSurvivor T-Dog had been holed up in an apartment store with several other survivors Glenn Morales Andrea Jacqui and Merle.--',\n",
              "       \"'It looks like a mudslide' poor thing! ?? #greatbritishbakeoff\",\n",
              "       'Just added some more fire to the flames for Saturday! Rick Wonder will be spinning a guest set along with Chachi... http://t.co/Otblb9PJ2I',\n",
              "       '@aelinrhee a group of mascara smeared girls rioting will be horrific I think',\n",
              "       '@KatieKatCubs you already know how this shit goes. World Series or Armageddon.',\n",
              "       'Photoshop Tools Crash Course - Complete Photoshop Tool Guide http://t.co/DunMvj7ITl #course http://t.co/RgdrJv63hF',\n",
              "       \"Children in Myanmar face a 'double catastrophe' as floods hit the most ... http://t.co/0jFNvAXFph\",\n",
              "       'In #India 119000 people have taken shelter in the 966 relief camps the government has set up after the #floods:   http://t.co/eU8jypIzsd',\n",
              "       \"@wrongdejavu I'm traumatised\",\n",
              "       \"I understand why broke ppl be mad or always hav an attitude now this sht ain't no fun i won't be desolate for long\",\n",
              "       '2 Injured 1 missing in bridge collapse in central Mexico http://t.co/kHF0iH05A9',\n",
              "       'Detonate (feat. M.O.P.) by Apollo Brown http://t.co/h9FSIaxv3Q',\n",
              "       \"I have completed the quest 'Demolish 5 Murlo...' in the #Android game The Tribez.  http://t.co/pBclFsXRld #androidgames #gameinsight\",\n",
              "       '@Deeeznvtzzz bring the body bags tho',\n",
              "       \"@SirBrandonKnt exactly. That's why the lesnar/cena match from summerslam last year was so great because Brock annihilated a guy who's\",\n",
              "       \"Man Found Dead in Demi Moore's Swimming Pool! http://t.co/oCtnPyUEei\",\n",
              "       'Property losses from California wildfire nearly double as week-old blaze rages http://t.co/E0UUsnpsq5',\n",
              "       '@LoneWolffur control yourself tora',\n",
              "       '@lexi_purduee the volcano by it ??????',\n",
              "       '@MayorofLondon pls reduce cyclist deaths with a compulsory highway code test as with EVERY OTHER VEHICLE that uses a road. #notrocketscience',\n",
              "       'Obama Declares Disaster for Typhoon-Devastated Saipan: Obama signs disaster declaration for Northern Marians a... http://t.co/1i19CuOv7L',\n",
              "       'Pandemonium In Aba As Woman Delivers Baby Without FaceåÊ(Photos) http://t.co/bM0SXzbNKE',\n",
              "       'Two giant cranes holding a bridge collapse into nearby homes http://t.co/9asc1hhFNJ',\n",
              "       '*se pone a cantar crying lightning*',\n",
              "       \"'It looks like a mudslide!' And #GBBO is back with a belter!\",\n",
              "       'World Annihilation vs Self Transformation http://t.co/pyehwodWun Aliens Attack to Exterminate Humans http://t.co/8jxqL8Cv8Z',\n",
              "       '#?? #???? #??? #??? MH370: Aircraft debris found on La Reunion is from missing Malaysia Airlines ...  http://t.co/hHWv0EUDFv',\n",
              "       '#NaturalDisasters As California fires rage the Forest Service sounds the alarm about rising wildfire costs: \\x89Û_...  http://t.co/TQwrW3jQWo',\n",
              "       '@SW_Trains strange loud impact bang noises under train to Epsom about to arrive #Wimbledon',\n",
              "       \"the fifth pre-dynastic #king in the legendary period before the #Deluge https://t.co/yr8knEpHGU #Dumuzid ''the Shepherd''\",\n",
              "       'The Catastrophic Effects of Hiroshima and Nagasaki Atomic Bombings Still Being Felt Today http://t.co/rNqEBAyCVM',\n",
              "       'Thousands attend a rally organized by Peace Now protesting the arson attack that took the life of an http://t.co/bvCKd9pdTi',\n",
              "       'STL Ace Grille - Surface Mounts SpeedTech Lights - Amber Emergency Lights - 544 http://t.co/t6Seku4yvm http://t.co/TJOZ4u4txl',\n",
              "       'I need a thunderstorm please!',\n",
              "       'I want to go back to Vegas for my 21 but I feel like that would be such a disaster lol so much money would need to be brought',\n",
              "       '@myrtlegroggins &lt;gasp!&gt; I forgot Sunday! OMG',\n",
              "       'Tt kettlebell upheaval blueprint over chris lopez hindsight: JhmNYe',\n",
              "       \"Check out this awesome profile on #GE's swimming #robot used in #nuclear reactors! http://t.co/HRc3oxQUIK #innovation http://t.co/wNPTvbM5T7\",\n",
              "       'The Fake of Nanking Massacre-4 Eyewitnesses (English): http://t.co/TiPnDEmPuz  #Obama #Clinton #Bush #GOP #ABC #CBS #BBC #CNN #WSJ #WPO',\n",
              "       'Refugee Connections Indiegogo campaign will be going live tomorrow! Support us and help launch the only online community for #refugees.',\n",
              "       \"Police respond to crash find 'suspected heroin' http://t.co/oJoecW29qa\",\n",
              "       '25 killed as Kamayani Express Janata Express derail in Madhya Pradesh; ex gratia announced http://t.co/6SDTzSgElq',\n",
              "       \"'Food crematoria' provoke outrage amid crisis famine memories... http://t.co/REsxAvgpyJ\",\n",
              "       'Fear is my motivator',\n",
              "       '@SenSchumer Is this what U want Netanyahu leading these UNITED STATES into a CATASTROPHIC religious world war? ENOUGH already!',\n",
              "       '#Battlefield 1942 forgotten hope secret weapons',\n",
              "       '#SigAlert: North &amp; Southbound 133 closed btwn 5 fwy and Irvine Blvd due to truck fire. CHP is detouring traffic.',\n",
              "       'THANKS!!!!! @COUNT DANTE.  :)  DO JOIN US BY FOLLOWING THE @ANNIHILATION ZONE.  JOHNNY.',\n",
              "       \"@olrules Welcome - Read a free chapter of my new book Encounters With Jesus. It's full of hope. http://t.co/6qX7arf4AG\",\n",
              "       \"that exploded &amp; brought about the\\nbeginning of universe matches what's\\nmentioned in the versethe heaven and Earth\\n(thus the universe)\",\n",
              "       '@Lenn_Len Probably. We are inundated with them most years!',\n",
              "       'BREAKING: #ISIS claims responsibility for mosque attack in Saudi Arabia that killed 13 http://t.co/VZ640XOSwj http://t.co/m2HpnOAK8b',\n",
              "       'Pandemonium In Aba As Woman Delivers Baby Without Face (Photos).... http://t.co/lYXNjlxL8s http://t.co/CXYFqN3ue4',\n",
              "       \"Snowstorm planned outside #Rome's St Mary Major tonight - annual occasion artificial snow remembering summer snow in 358 AD on same spot.\",\n",
              "       'Help yourself or those you love who suffer from self-esteem wounds. You can today! http://t.co/tu6ScRSXVG http://t.co/iDhj4JBQ05',\n",
              "       'My dog attacked me for my food #pugprobs',\n",
              "       'Green line service on south side disrupted after CTA train derails passengers evacuated. http://t.co/6eZkoof2Xt http://t.co/faCM78eg7K',\n",
              "       \"http://t.co/DeQQOpSP4f: Iger's 3 words that wrecked Disney's stock http://t.co/LbKvFqRpgT http://t.co/3rVa5uvt0P\",\n",
              "       'Listen LIve: http://t.co/1puLaekxcq #Author #Interview Beth Underwood of #Gravity on #Military #Mom #TalkRadio',\n",
              "       'I am a wreck',\n",
              "       '? Cracker - White Riot ? http://t.co/Cc7D0wxk0M #nowplaying',\n",
              "       \"I still don't know how 8 hours of physical activity in the blazing sun isn't a sport.\",\n",
              "       'FedEx to stop transporting bioterror germs after lab mishaps: FedEx has stopped transporting certain research ... http://t.co/y3dM9uLqxG',\n",
              "       'http://t.co/iNkuv5DNTX #auction #shoes Retro 5 fire red http://t.co/1cvEGTIZOG',\n",
              "       'NTSB: Virgin Galactic crash caused by structural failure triggered when brakes unlocked early http://t.co/iKnyOk9zZr http://t.co/QCKqcX4Hw9',\n",
              "       \"I'm mentally preparing myself for a bomb ass school year if it's not I'm burning buildings ??\",\n",
              "       \"Sometimes you face difficulties not because you're doing something wrong but because you're doing something right. - Joel Osteen\",\n",
              "       'Visting Georgina at The Drowned Rat Cafe.....awful view!! http://t.co/pYLFb3tI9U',\n",
              "       'RT alisonannyoung: EXCLUSIVE: FedEx no longer to transport research specimens of bioterror pathogens in wake of anthrax lab mishaps \\x89Û_',\n",
              "       'looks like a year of writing and computers is ahead. http://t.co/CyXbrZXWq4',\n",
              "       'The Police Chief assured the crowd that this officer-related shooting would be investigated: http://t.co/KMXzhO5TFM. http://t.co/AlBvDNwJtg',\n",
              "       'http://t.co/HFqlwo1kMy E-Mini SP 500: Earnings letdown equals market meltdown! http://t.co/LEi9dWVllq #Amazon'],\n",
              "      dtype=object)"
            ]
          },
          "metadata": {},
          "execution_count": 135
        }
      ]
    },
    {
      "cell_type": "code",
      "source": [
        "train_labels_10_percent = train_labels[:train_10_percent_split]"
      ],
      "metadata": {
        "id": "VUyUxj1AbkI6"
      },
      "execution_count": 136,
      "outputs": []
    },
    {
      "cell_type": "code",
      "source": [
        "len(train_labels_10_percent)"
      ],
      "metadata": {
        "colab": {
          "base_uri": "https://localhost:8080/"
        },
        "id": "9xBhwhTxbqEW",
        "outputId": "f7e2e6a1-f631-45a2-d897-f20d040c3e4a"
      },
      "execution_count": 137,
      "outputs": [
        {
          "output_type": "execute_result",
          "data": {
            "text/plain": [
              "685"
            ]
          },
          "metadata": {},
          "execution_count": 137
        }
      ]
    },
    {
      "cell_type": "code",
      "source": [
        "train_labels_10_percent"
      ],
      "metadata": {
        "colab": {
          "base_uri": "https://localhost:8080/"
        },
        "id": "CVsjHiHcbtjZ",
        "outputId": "e27f4568-535b-4f83-e3d7-200da7abcfe8"
      },
      "execution_count": 139,
      "outputs": [
        {
          "output_type": "execute_result",
          "data": {
            "text/plain": [
              "array([1, 1, 1, 1, 1, 0, 0, 1, 0, 0, 0, 1, 1, 0, 0, 1, 0, 0, 1, 0, 1, 0,\n",
              "       0, 0, 0, 0, 1, 1, 0, 1, 1, 0, 0, 1, 1, 0, 1, 1, 0, 0, 0, 0, 1, 0,\n",
              "       1, 1, 0, 0, 1, 0, 1, 0, 1, 1, 1, 1, 1, 1, 0, 0, 0, 1, 0, 0, 1, 1,\n",
              "       0, 0, 1, 0, 1, 1, 1, 0, 0, 0, 0, 1, 1, 0, 0, 0, 1, 0, 1, 1, 0, 1,\n",
              "       1, 1, 0, 1, 1, 0, 0, 0, 0, 1, 0, 1, 0, 1, 1, 0, 1, 1, 1, 0, 0, 0,\n",
              "       0, 0, 0, 0, 1, 1, 0, 0, 1, 0, 0, 0, 0, 0, 1, 1, 1, 1, 1, 0, 1, 0,\n",
              "       0, 0, 0, 1, 1, 1, 1, 0, 1, 1, 1, 0, 0, 0, 0, 1, 1, 1, 0, 0, 1, 1,\n",
              "       1, 1, 1, 0, 1, 0, 1, 1, 1, 1, 1, 0, 0, 0, 1, 0, 0, 0, 0, 0, 1, 0,\n",
              "       1, 1, 1, 0, 0, 1, 1, 0, 1, 0, 0, 0, 1, 0, 0, 0, 1, 0, 0, 1, 0, 0,\n",
              "       0, 0, 0, 1, 1, 0, 1, 1, 1, 1, 1, 1, 1, 0, 1, 1, 0, 0, 0, 0, 1, 1,\n",
              "       0, 1, 0, 0, 0, 0, 0, 1, 0, 1, 0, 0, 0, 1, 1, 1, 0, 1, 0, 0, 0, 1,\n",
              "       0, 0, 0, 1, 0, 0, 0, 1, 1, 0, 1, 0, 0, 0, 1, 1, 1, 1, 0, 1, 1, 0,\n",
              "       1, 0, 0, 0, 0, 1, 1, 0, 1, 0, 1, 1, 1, 1, 1, 0, 1, 1, 0, 1, 0, 0,\n",
              "       1, 1, 0, 1, 1, 0, 0, 0, 1, 1, 0, 1, 1, 0, 0, 0, 1, 1, 0, 0, 1, 0,\n",
              "       0, 0, 1, 0, 0, 0, 0, 0, 0, 0, 0, 1, 1, 0, 1, 0, 1, 0, 0, 0, 0, 1,\n",
              "       0, 1, 1, 0, 1, 0, 0, 0, 0, 0, 1, 0, 1, 0, 0, 0, 0, 1, 0, 0, 1, 1,\n",
              "       1, 1, 0, 1, 1, 0, 0, 0, 0, 0, 1, 1, 0, 1, 1, 1, 1, 1, 0, 0, 0, 1,\n",
              "       0, 0, 1, 1, 0, 0, 0, 0, 1, 1, 0, 0, 0, 1, 0, 0, 0, 1, 1, 0, 1, 0,\n",
              "       0, 1, 0, 1, 0, 0, 0, 1, 1, 0, 0, 1, 1, 0, 0, 1, 0, 0, 1, 0, 0, 0,\n",
              "       0, 0, 0, 1, 1, 0, 1, 0, 1, 0, 1, 1, 0, 1, 0, 0, 1, 1, 1, 1, 0, 1,\n",
              "       0, 0, 0, 0, 0, 1, 1, 1, 0, 0, 0, 0, 0, 0, 0, 1, 0, 0, 0, 1, 1, 1,\n",
              "       0, 0, 0, 1, 0, 1, 0, 0, 0, 0, 0, 0, 0, 1, 1, 0, 1, 0, 0, 0, 0, 0,\n",
              "       0, 1, 1, 0, 0, 0, 1, 1, 0, 1, 0, 0, 0, 0, 0, 1, 0, 0, 0, 1, 0, 1,\n",
              "       0, 1, 0, 1, 0, 0, 0, 1, 0, 1, 1, 0, 1, 0, 0, 0, 1, 1, 1, 0, 1, 0,\n",
              "       0, 0, 1, 0, 0, 0, 0, 0, 0, 1, 0, 1, 0, 0, 0, 0, 0, 0, 0, 0, 0, 1,\n",
              "       1, 0, 0, 0, 1, 0, 0, 1, 0, 0, 1, 0, 1, 1, 1, 0, 0, 1, 0, 0, 0, 0,\n",
              "       1, 0, 0, 0, 0, 0, 0, 1, 1, 0, 0, 1, 0, 1, 0, 0, 1, 0, 1, 0, 1, 1,\n",
              "       1, 0, 0, 1, 1, 1, 0, 1, 1, 1, 0, 1, 1, 1, 0, 1, 1, 0, 1, 1, 1, 0,\n",
              "       1, 0, 0, 1, 1, 0, 0, 1, 0, 0, 0, 0, 1, 1, 0, 0, 1, 1, 1, 1, 0, 1,\n",
              "       1, 1, 1, 0, 0, 1, 1, 0, 0, 0, 0, 0, 0, 1, 1, 1, 1, 1, 0, 0, 1, 1,\n",
              "       0, 0, 0, 0, 1, 1, 0, 0, 0, 1, 0, 0, 0, 0, 0, 1, 0, 1, 0, 0, 1, 0,\n",
              "       0, 1, 0])"
            ]
          },
          "metadata": {},
          "execution_count": 139
        }
      ]
    },
    {
      "cell_type": "code",
      "source": [
        "model_7_results = calculate_results(val_labels, model_7_preds)"
      ],
      "metadata": {
        "id": "qXr_cOidbwjZ"
      },
      "execution_count": 142,
      "outputs": []
    },
    {
      "cell_type": "code",
      "source": [
        "#Compile model\n",
        "model_7.compile(loss=\"binary_crossentropy\",\n",
        "                optimizer=tf.keras.optimizers.Adam(),\n",
        "                metrics=[\"accuracy\"])\n",
        "\n",
        "model_7.summary()"
      ],
      "metadata": {
        "colab": {
          "base_uri": "https://localhost:8080/"
        },
        "id": "vvNI2bUPcG7I",
        "outputId": "e5d73e4c-ed38-4649-c674-839a7f7c8f1d"
      },
      "execution_count": 143,
      "outputs": [
        {
          "output_type": "stream",
          "name": "stdout",
          "text": [
            "Model: \"model_6\"\n",
            "_________________________________________________________________\n",
            " Layer (type)                Output Shape              Param #   \n",
            "=================================================================\n",
            " USE (KerasLayer)            (None, 512)               256797824 \n",
            "                                                                 \n",
            " dense_6 (Dense)             (None, 64)                32832     \n",
            "                                                                 \n",
            " dense_7 (Dense)             (None, 1)                 65        \n",
            "                                                                 \n",
            "=================================================================\n",
            "Total params: 256,830,721\n",
            "Trainable params: 32,897\n",
            "Non-trainable params: 256,797,824\n",
            "_________________________________________________________________\n"
          ]
        }
      ]
    },
    {
      "cell_type": "markdown",
      "source": [
        "##Comparing all of our models\n"
      ],
      "metadata": {
        "id": "PxdamjYjcagF"
      }
    },
    {
      "cell_type": "code",
      "source": [
        "#Combine model results into a DataFrame\n",
        "all_model_results = pd.DataFrame({\"model_1\": model_1_results,\n",
        "                                  \"model_2\": model_2_results,\n",
        "                                  \"model_3\": model_3_results,\n",
        "                                  \"model_4\": model_4_results,\n",
        "                                  \"model_5\": model_5_results,\n",
        "                                  \"model_6\": model_6_results,\n",
        "                                  \"model_7\": model_7_results,})\n",
        "all_model_results\n",
        "all_model_results = all_model_results.transpose()"
      ],
      "metadata": {
        "id": "OyXHs5kfciRE"
      },
      "execution_count": 149,
      "outputs": []
    },
    {
      "cell_type": "code",
      "source": [
        "# Reduce accuracy to same scale\n",
        "all_model_results[\"accuracy\"] = all_model_results[\"accuracy\"] / 100"
      ],
      "metadata": {
        "id": "0P5oTpNdcuma"
      },
      "execution_count": 150,
      "outputs": []
    },
    {
      "cell_type": "code",
      "source": [
        "#PLot and compare all of the model reuslts\n",
        "all_model_results.plot(kind=\"bar\",\n",
        "                       figsize=(10, 7)).legend(bbox_to_anchor=(1.0,1.0))"
      ],
      "metadata": {
        "colab": {
          "base_uri": "https://localhost:8080/",
          "height": 479
        },
        "id": "0ULXb_UqdTDW",
        "outputId": "7e6b1229-9a76-4c25-a7c5-b5cf0e2f364a"
      },
      "execution_count": 152,
      "outputs": [
        {
          "output_type": "execute_result",
          "data": {
            "text/plain": [
              "<matplotlib.legend.Legend at 0x7fca65a5cf50>"
            ]
          },
          "metadata": {},
          "execution_count": 152
        },
        {
          "output_type": "display_data",
          "data": {
            "text/plain": [
              "<Figure size 720x504 with 1 Axes>"
            ],
            "image/png": "[encoded data removed]"
          },
          "metadata": {
            "needs_background": "light"
          }
        }
      ]
    },
    {
      "cell_type": "code",
      "source": [
        "#Sort model results by f1-score\n",
        "all_model_results.sort_values(\"f1\", ascending=False)[\"f1\"].plot(kind=\"bar\", figsize=(10, 7))"
      ],
      "metadata": {
        "colab": {
          "base_uri": "https://localhost:8080/",
          "height": 479
        },
        "id": "-WuB1rO1dkEt",
        "outputId": "b3b2f28d-e530-41f8-c8f5-f62ce0ee51c7"
      },
      "execution_count": 153,
      "outputs": [
        {
          "output_type": "execute_result",
          "data": {
            "text/plain": [
              "<matplotlib.axes._subplots.AxesSubplot at 0x7fcc0b8b2890>"
            ]
          },
          "metadata": {},
          "execution_count": 153
        },
        {
          "output_type": "display_data",
          "data": {
            "text/plain": [
              "<Figure size 720x504 with 1 Axes>"
            ],
            "image/png": "[encoded data removed]"
          },
          "metadata": {
            "needs_background": "light"
          }
        }
      ]
    },
    {
      "cell_type": "code",
      "source": [
        "# View Tensorboard logs of transfer learning modelling experiemnts\n",
        "#Upload tensorflow dev records\n",
        "!tensorboard dev upload --logdir ./model_logs/ \\\n",
        "  --name \"NLP Modelling Experiments\" \\\n",
        "  --description \"Comparing multiple types of model on Hazard Tweets dataset\" \\\n",
        "  --one_shot"
      ],
      "metadata": {
        "colab": {
          "base_uri": "https://localhost:8080/"
        },
        "id": "RJAK1qureMOM",
        "outputId": "1d74add4-340a-4a88-c6a2-46223bc4dbd2"
      },
      "execution_count": 154,
      "outputs": [
        {
          "output_type": "stream",
          "name": "stdout",
          "text": [
            "\n",
            "***** TensorBoard Uploader *****\n",
            "\n",
            "This will upload your TensorBoard logs to https://tensorboard.dev/ from\n",
            "the following directory:\n",
            "\n",
            "./model_logs/\n",
            "\n",
            "This TensorBoard will be visible to everyone. Do not upload sensitive\n",
            "data.\n",
            "\n",
            "Your use of this service is subject to Google's Terms of Service\n",
            "<https://policies.google.com/terms> and Privacy Policy\n",
            "<https://policies.google.com/privacy>, and TensorBoard.dev's Terms of Service\n",
            "<https://tensorboard.dev/policy/terms/>.\n",
            "\n",
            "This notice will not be shown again while you are logged into the uploader.\n",
            "To log out, run `tensorboard dev auth revoke`.\n",
            "\n",
            "Continue? (yes/NO) yes\n",
            "\n",
            "Please visit this URL to authorize this application: https://accounts.google.com/o/oauth2/auth?response_type=code&client_id=373649185512-8v619h5kft38l4456nm2dj4ubeqsrvh6.apps.googleusercontent.com&redirect_uri=urn%3Aietf%3Awg%3Aoauth%3A2.0%3Aoob&scope=openid+https%3A%2F%2Fwww.googleapis.com%2Fauth%2Fuserinfo.email&state=tEvMfvVbyqDeINkTE1xAo5rzrNQdCK&prompt=consent&access_type=offline\n",
            "Enter the authorization code: 4/1AdQt8qgAjg-dzenyR3WBgyHMCBX5MdE-dWGmRq8zBMzUrLsH-aKXnJtCpAs\n",
            "\n",
            "\n",
            "New experiment created. View your TensorBoard at: https://tensorboard.dev/experiment/jK4Nc36wS1qfdKnbybsNbQ/\n",
            "\n",
            "\u001b[1m[2022-07-30T00:23:15]\u001b[0m Started scanning logdir.\n",
            "\u001b[1m[2022-07-30T00:23:24]\u001b[0m Total uploaded: 270 scalars, 0 tensors, 9 binary objects (4.5 MB)\n",
            "\u001b[1m[2022-07-30T00:23:24]\u001b[0m Done scanning logdir.\n",
            "\n",
            "\n",
            "Done. View your TensorBoard at https://tensorboard.dev/experiment/jK4Nc36wS1qfdKnbybsNbQ/\n"
          ]
        }
      ]
    },
    {
      "cell_type": "code",
      "source": [
        ""
      ],
      "metadata": {
        "id": "_QH5XH05fAQ0"
      },
      "execution_count": null,
      "outputs": []
    }
  ]
}