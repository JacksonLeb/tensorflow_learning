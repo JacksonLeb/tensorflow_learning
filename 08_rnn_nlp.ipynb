{
  "nbformat": 4,
  "nbformat_minor": 0,
  "metadata": {
    "colab": {
      "name": "08_rnn_nlp.ipynb",
      "provenance": [],
      "authorship_tag": "ABX9TyNBBXAXSnzvKUFIHICsZu68",
      "include_colab_link": true
    },
    "kernelspec": {
      "name": "python3",
      "display_name": "Python 3"
    },
    "language_info": {
      "name": "python"
    },
    "accelerator": "GPU",
    "gpuClass": "standard"
  },
  "cells": [
    {
      "cell_type": "markdown",
      "metadata": {
        "id": "view-in-github",
        "colab_type": "text"
      },
      "source": [
        "<a href=\"https://colab.research.google.com/github/JacksonLeb/tensorflow_learning/blob/main/08_rnn_nlp.ipynb\" target=\"_parent\"><img src=\"https://colab.research.google.com/assets/colab-badge.svg\" alt=\"Open In Colab\"/></a>"
      ]
    },
    {
      "cell_type": "markdown",
      "source": [
        "#introduction to NLP fundamentals in Tf"
      ],
      "metadata": {
        "id": "ZnD4PEygtE27"
      }
    },
    {
      "cell_type": "markdown",
      "source": [
        "##Getting info from natural language (sequences or speech)\n",
        "##NLP can also be called seq2seq problems"
      ],
      "metadata": {
        "id": "D7gQKzrXtSj_"
      }
    },
    {
      "cell_type": "markdown",
      "source": [
        "###Checking for GPU\n"
      ],
      "metadata": {
        "id": "r3iGdaTrtaso"
      }
    },
    {
      "cell_type": "code",
      "source": [
        "!nvidia-smi -L"
      ],
      "metadata": {
        "colab": {
          "base_uri": "https://localhost:8080/"
        },
        "id": "NICFwKp3ti4A",
        "outputId": "2ee51a2a-d170-4c51-ded2-87b8624b2509"
      },
      "execution_count": 1,
      "outputs": [
        {
          "output_type": "stream",
          "name": "stdout",
          "text": [
            "GPU 0: Tesla T4 (UUID: GPU-ee4d1da0-c26a-898d-d244-d144f6a708b2)\n"
          ]
        }
      ]
    },
    {
      "cell_type": "code",
      "source": [
        "##Get helper functions\n",
        "!wget https://raw.githubusercontent.com/mrdbourke/tensorflow-deep-learning/main/extras/helper_functions.py"
      ],
      "metadata": {
        "colab": {
          "base_uri": "https://localhost:8080/"
        },
        "id": "a9pVQ8PWtk3o",
        "outputId": "315f36ad-e48d-4221-80fd-9407784e679c"
      },
      "execution_count": 2,
      "outputs": [
        {
          "output_type": "stream",
          "name": "stdout",
          "text": [
            "--2022-07-26 21:28:40--  https://raw.githubusercontent.com/mrdbourke/tensorflow-deep-learning/main/extras/helper_functions.py\n",
            "Resolving raw.githubusercontent.com (raw.githubusercontent.com)... 185.199.110.133, 185.199.111.133, 185.199.108.133, ...\n",
            "Connecting to raw.githubusercontent.com (raw.githubusercontent.com)|185.199.110.133|:443... connected.\n",
            "HTTP request sent, awaiting response... 200 OK\n",
            "Length: 10246 (10K) [text/plain]\n",
            "Saving to: ‘helper_functions.py’\n",
            "\n",
            "helper_functions.py 100%[===================>]  10.01K  --.-KB/s    in 0s      \n",
            "\n",
            "2022-07-26 21:28:40 (83.5 MB/s) - ‘helper_functions.py’ saved [10246/10246]\n",
            "\n"
          ]
        }
      ]
    },
    {
      "cell_type": "code",
      "source": [
        "from helper_functions import unzip_data, create_tensorboard_callback, plot_loss_curves, compare_historys"
      ],
      "metadata": {
        "id": "Sv2Mb8Ant40V"
      },
      "execution_count": 3,
      "outputs": []
    },
    {
      "cell_type": "code",
      "source": [
        "##Get a text dataset\n",
        "###Using the Kaggle Intro to NLP dataset, samples of tweets labeled hazard or not\n",
        "!wget https://storage.googleapis.com/ztm_tf_course/nlp_getting_started.zip"
      ],
      "metadata": {
        "colab": {
          "base_uri": "https://localhost:8080/"
        },
        "id": "6hpLAV1suBYh",
        "outputId": "597c5bc1-5799-4e68-da4a-a4834a0dc89c"
      },
      "execution_count": 4,
      "outputs": [
        {
          "output_type": "stream",
          "name": "stdout",
          "text": [
            "--2022-07-26 21:28:45--  https://storage.googleapis.com/ztm_tf_course/nlp_getting_started.zip\n",
            "Resolving storage.googleapis.com (storage.googleapis.com)... 142.250.148.128, 142.250.128.128, 142.251.6.128, ...\n",
            "Connecting to storage.googleapis.com (storage.googleapis.com)|142.250.148.128|:443... connected.\n",
            "HTTP request sent, awaiting response... 200 OK\n",
            "Length: 607343 (593K) [application/zip]\n",
            "Saving to: ‘nlp_getting_started.zip’\n",
            "\n",
            "\rnlp_getting_started   0%[                    ]       0  --.-KB/s               \rnlp_getting_started 100%[===================>] 593.11K  --.-KB/s    in 0.01s   \n",
            "\n",
            "2022-07-26 21:28:45 (52.7 MB/s) - ‘nlp_getting_started.zip’ saved [607343/607343]\n",
            "\n"
          ]
        }
      ]
    },
    {
      "cell_type": "code",
      "source": [
        "unzip_data(\"nlp_getting_started.zip\")"
      ],
      "metadata": {
        "id": "S-YrbvJruXMQ"
      },
      "execution_count": 5,
      "outputs": []
    },
    {
      "cell_type": "markdown",
      "source": [
        "##Visualizing a text dataset"
      ],
      "metadata": {
        "id": "CGGTc845ubSI"
      }
    },
    {
      "cell_type": "code",
      "source": [
        "import pandas as pd\n",
        "train_df = pd.read_csv(\"train.csv\")\n",
        "test_df = pd.read_csv(\"test.csv\")\n",
        "train_df.head()"
      ],
      "metadata": {
        "colab": {
          "base_uri": "https://localhost:8080/",
          "height": 206
        },
        "id": "dXSyq2QkurM0",
        "outputId": "4fac1e1c-3f35-4d78-a008-78982e126e5f"
      },
      "execution_count": 6,
      "outputs": [
        {
          "output_type": "execute_result",
          "data": {
            "text/plain": [
              "   id keyword location                                               text  \\\n",
              "0   1     NaN      NaN  Our Deeds are the Reason of this #earthquake M...   \n",
              "1   4     NaN      NaN             Forest fire near La Ronge Sask. Canada   \n",
              "2   5     NaN      NaN  All residents asked to 'shelter in place' are ...   \n",
              "3   6     NaN      NaN  13,000 people receive #wildfires evacuation or...   \n",
              "4   7     NaN      NaN  Just got sent this photo from Ruby #Alaska as ...   \n",
              "\n",
              "   target  \n",
              "0       1  \n",
              "1       1  \n",
              "2       1  \n",
              "3       1  \n",
              "4       1  "
            ],
            "text/html": [
              "\n",
              "  <div id=\"df-de01ead1-e4b2-4296-acb0-0379749185c1\">\n",
              "    <div class=\"colab-df-container\">\n",
              "      <div>\n",
              "<style scoped>\n",
              "    .dataframe tbody tr th:only-of-type {\n",
              "        vertical-align: middle;\n",
              "    }\n",
              "\n",
              "    .dataframe tbody tr th {\n",
              "        vertical-align: top;\n",
              "    }\n",
              "\n",
              "    .dataframe thead th {\n",
              "        text-align: right;\n",
              "    }\n",
              "</style>\n",
              "<table border=\"1\" class=\"dataframe\">\n",
              "  <thead>\n",
              "    <tr style=\"text-align: right;\">\n",
              "      <th></th>\n",
              "      <th>id</th>\n",
              "      <th>keyword</th>\n",
              "      <th>location</th>\n",
              "      <th>text</th>\n",
              "      <th>target</th>\n",
              "    </tr>\n",
              "  </thead>\n",
              "  <tbody>\n",
              "    <tr>\n",
              "      <th>0</th>\n",
              "      <td>1</td>\n",
              "      <td>NaN</td>\n",
              "      <td>NaN</td>\n",
              "      <td>Our Deeds are the Reason of this #earthquake M...</td>\n",
              "      <td>1</td>\n",
              "    </tr>\n",
              "    <tr>\n",
              "      <th>1</th>\n",
              "      <td>4</td>\n",
              "      <td>NaN</td>\n",
              "      <td>NaN</td>\n",
              "      <td>Forest fire near La Ronge Sask. Canada</td>\n",
              "      <td>1</td>\n",
              "    </tr>\n",
              "    <tr>\n",
              "      <th>2</th>\n",
              "      <td>5</td>\n",
              "      <td>NaN</td>\n",
              "      <td>NaN</td>\n",
              "      <td>All residents asked to 'shelter in place' are ...</td>\n",
              "      <td>1</td>\n",
              "    </tr>\n",
              "    <tr>\n",
              "      <th>3</th>\n",
              "      <td>6</td>\n",
              "      <td>NaN</td>\n",
              "      <td>NaN</td>\n",
              "      <td>13,000 people receive #wildfires evacuation or...</td>\n",
              "      <td>1</td>\n",
              "    </tr>\n",
              "    <tr>\n",
              "      <th>4</th>\n",
              "      <td>7</td>\n",
              "      <td>NaN</td>\n",
              "      <td>NaN</td>\n",
              "      <td>Just got sent this photo from Ruby #Alaska as ...</td>\n",
              "      <td>1</td>\n",
              "    </tr>\n",
              "  </tbody>\n",
              "</table>\n",
              "</div>\n",
              "      <button class=\"colab-df-convert\" onclick=\"convertToInteractive('df-de01ead1-e4b2-4296-acb0-0379749185c1')\"\n",
              "              title=\"Convert this dataframe to an interactive table.\"\n",
              "              style=\"display:none;\">\n",
              "        \n",
              "  <svg xmlns=\"http://www.w3.org/2000/svg\" height=\"24px\"viewBox=\"0 0 24 24\"\n",
              "       width=\"24px\">\n",
              "    <path d=\"M0 0h24v24H0V0z\" fill=\"none\"/>\n",
              "    <path d=\"M18.56 5.44l.94 2.06.94-2.06 2.06-.94-2.06-.94-.94-2.06-.94 2.06-2.06.94zm-11 1L8.5 8.5l.94-2.06 2.06-.94-2.06-.94L8.5 2.5l-.94 2.06-2.06.94zm10 10l.94 2.06.94-2.06 2.06-.94-2.06-.94-.94-2.06-.94 2.06-2.06.94z\"/><path d=\"M17.41 7.96l-1.37-1.37c-.4-.4-.92-.59-1.43-.59-.52 0-1.04.2-1.43.59L10.3 9.45l-7.72 7.72c-.78.78-.78 2.05 0 2.83L4 21.41c.39.39.9.59 1.41.59.51 0 1.02-.2 1.41-.59l7.78-7.78 2.81-2.81c.8-.78.8-2.07 0-2.86zM5.41 20L4 18.59l7.72-7.72 1.47 1.35L5.41 20z\"/>\n",
              "  </svg>\n",
              "      </button>\n",
              "      \n",
              "  <style>\n",
              "    .colab-df-container {\n",
              "      display:flex;\n",
              "      flex-wrap:wrap;\n",
              "      gap: 12px;\n",
              "    }\n",
              "\n",
              "    .colab-df-convert {\n",
              "      background-color: #E8F0FE;\n",
              "      border: none;\n",
              "      border-radius: 50%;\n",
              "      cursor: pointer;\n",
              "      display: none;\n",
              "      fill: #1967D2;\n",
              "      height: 32px;\n",
              "      padding: 0 0 0 0;\n",
              "      width: 32px;\n",
              "    }\n",
              "\n",
              "    .colab-df-convert:hover {\n",
              "      background-color: #E2EBFA;\n",
              "      box-shadow: 0px 1px 2px rgba(60, 64, 67, 0.3), 0px 1px 3px 1px rgba(60, 64, 67, 0.15);\n",
              "      fill: #174EA6;\n",
              "    }\n",
              "\n",
              "    [theme=dark] .colab-df-convert {\n",
              "      background-color: #3B4455;\n",
              "      fill: #D2E3FC;\n",
              "    }\n",
              "\n",
              "    [theme=dark] .colab-df-convert:hover {\n",
              "      background-color: #434B5C;\n",
              "      box-shadow: 0px 1px 3px 1px rgba(0, 0, 0, 0.15);\n",
              "      filter: drop-shadow(0px 1px 2px rgba(0, 0, 0, 0.3));\n",
              "      fill: #FFFFFF;\n",
              "    }\n",
              "  </style>\n",
              "\n",
              "      <script>\n",
              "        const buttonEl =\n",
              "          document.querySelector('#df-de01ead1-e4b2-4296-acb0-0379749185c1 button.colab-df-convert');\n",
              "        buttonEl.style.display =\n",
              "          google.colab.kernel.accessAllowed ? 'block' : 'none';\n",
              "\n",
              "        async function convertToInteractive(key) {\n",
              "          const element = document.querySelector('#df-de01ead1-e4b2-4296-acb0-0379749185c1');\n",
              "          const dataTable =\n",
              "            await google.colab.kernel.invokeFunction('convertToInteractive',\n",
              "                                                     [key], {});\n",
              "          if (!dataTable) return;\n",
              "\n",
              "          const docLinkHtml = 'Like what you see? Visit the ' +\n",
              "            '<a target=\"_blank\" href=https://colab.research.google.com/notebooks/data_table.ipynb>data table notebook</a>'\n",
              "            + ' to learn more about interactive tables.';\n",
              "          element.innerHTML = '';\n",
              "          dataTable['output_type'] = 'display_data';\n",
              "          await google.colab.output.renderOutput(dataTable, element);\n",
              "          const docLink = document.createElement('div');\n",
              "          docLink.innerHTML = docLinkHtml;\n",
              "          element.appendChild(docLink);\n",
              "        }\n",
              "      </script>\n",
              "    </div>\n",
              "  </div>\n",
              "  "
            ]
          },
          "metadata": {},
          "execution_count": 6
        }
      ]
    },
    {
      "cell_type": "code",
      "source": [
        "train_df[\"text\"][0]"
      ],
      "metadata": {
        "colab": {
          "base_uri": "https://localhost:8080/",
          "height": 35
        },
        "id": "QZG6R-H5vMqh",
        "outputId": "7dae37d0-81a6-4f70-ea43-69217c54006b"
      },
      "execution_count": 7,
      "outputs": [
        {
          "output_type": "execute_result",
          "data": {
            "text/plain": [
              "'Our Deeds are the Reason of this #earthquake May ALLAH Forgive us all'"
            ],
            "application/vnd.google.colaboratory.intrinsic+json": {
              "type": "string"
            }
          },
          "metadata": {},
          "execution_count": 7
        }
      ]
    },
    {
      "cell_type": "code",
      "source": [
        "train_df[\"text\"][10]"
      ],
      "metadata": {
        "colab": {
          "base_uri": "https://localhost:8080/",
          "height": 35
        },
        "id": "upCsjxyJvR1r",
        "outputId": "756158d7-22b1-493a-bc7a-d530a4e52898"
      },
      "execution_count": 8,
      "outputs": [
        {
          "output_type": "execute_result",
          "data": {
            "text/plain": [
              "'Three people died from the heat wave so far'"
            ],
            "application/vnd.google.colaboratory.intrinsic+json": {
              "type": "string"
            }
          },
          "metadata": {},
          "execution_count": 8
        }
      ]
    },
    {
      "cell_type": "code",
      "source": [
        "train_df[\"text\"][100]"
      ],
      "metadata": {
        "colab": {
          "base_uri": "https://localhost:8080/",
          "height": 35
        },
        "id": "AaW_eFiyvUYZ",
        "outputId": "453969ca-66dd-4673-a322-76d15b867709"
      },
      "execution_count": 9,
      "outputs": [
        {
          "output_type": "execute_result",
          "data": {
            "text/plain": [
              "'.@NorwayMFA #Bahrain police had previously died in a road accident they were not killed by explosion https://t.co/gFJfgTodad'"
            ],
            "application/vnd.google.colaboratory.intrinsic+json": {
              "type": "string"
            }
          },
          "metadata": {},
          "execution_count": 9
        }
      ]
    },
    {
      "cell_type": "code",
      "source": [
        "#shuffle trianing df\n",
        "train_df_shuffled = train_df.sample(frac=1, random_state=42)\n",
        "train_df_shuffled.head()"
      ],
      "metadata": {
        "colab": {
          "base_uri": "https://localhost:8080/",
          "height": 206
        },
        "id": "T9eGhTtBvVy6",
        "outputId": "54c8c302-1b46-4e34-9d0a-1b9532cfad26"
      },
      "execution_count": 10,
      "outputs": [
        {
          "output_type": "execute_result",
          "data": {
            "text/plain": [
              "        id      keyword               location  \\\n",
              "2644  3796  destruction                    NaN   \n",
              "2227  3185       deluge                    NaN   \n",
              "5448  7769       police                     UK   \n",
              "132    191   aftershock                    NaN   \n",
              "6845  9810       trauma  Montgomery County, MD   \n",
              "\n",
              "                                                   text  target  \n",
              "2644  So you have a new weapon that can cause un-ima...       1  \n",
              "2227  The f$&amp;@ing things I do for #GISHWHES Just...       0  \n",
              "5448  DT @georgegalloway: RT @Galloway4Mayor: ÛÏThe...       1  \n",
              "132   Aftershock back to school kick off was great. ...       0  \n",
              "6845  in response to trauma Children of Addicts deve...       0  "
            ],
            "text/html": [
              "\n",
              "  <div id=\"df-b368178d-9820-48c5-a90a-a0424840958c\">\n",
              "    <div class=\"colab-df-container\">\n",
              "      <div>\n",
              "<style scoped>\n",
              "    .dataframe tbody tr th:only-of-type {\n",
              "        vertical-align: middle;\n",
              "    }\n",
              "\n",
              "    .dataframe tbody tr th {\n",
              "        vertical-align: top;\n",
              "    }\n",
              "\n",
              "    .dataframe thead th {\n",
              "        text-align: right;\n",
              "    }\n",
              "</style>\n",
              "<table border=\"1\" class=\"dataframe\">\n",
              "  <thead>\n",
              "    <tr style=\"text-align: right;\">\n",
              "      <th></th>\n",
              "      <th>id</th>\n",
              "      <th>keyword</th>\n",
              "      <th>location</th>\n",
              "      <th>text</th>\n",
              "      <th>target</th>\n",
              "    </tr>\n",
              "  </thead>\n",
              "  <tbody>\n",
              "    <tr>\n",
              "      <th>2644</th>\n",
              "      <td>3796</td>\n",
              "      <td>destruction</td>\n",
              "      <td>NaN</td>\n",
              "      <td>So you have a new weapon that can cause un-ima...</td>\n",
              "      <td>1</td>\n",
              "    </tr>\n",
              "    <tr>\n",
              "      <th>2227</th>\n",
              "      <td>3185</td>\n",
              "      <td>deluge</td>\n",
              "      <td>NaN</td>\n",
              "      <td>The f$&amp;amp;@ing things I do for #GISHWHES Just...</td>\n",
              "      <td>0</td>\n",
              "    </tr>\n",
              "    <tr>\n",
              "      <th>5448</th>\n",
              "      <td>7769</td>\n",
              "      <td>police</td>\n",
              "      <td>UK</td>\n",
              "      <td>DT @georgegalloway: RT @Galloway4Mayor: ÛÏThe...</td>\n",
              "      <td>1</td>\n",
              "    </tr>\n",
              "    <tr>\n",
              "      <th>132</th>\n",
              "      <td>191</td>\n",
              "      <td>aftershock</td>\n",
              "      <td>NaN</td>\n",
              "      <td>Aftershock back to school kick off was great. ...</td>\n",
              "      <td>0</td>\n",
              "    </tr>\n",
              "    <tr>\n",
              "      <th>6845</th>\n",
              "      <td>9810</td>\n",
              "      <td>trauma</td>\n",
              "      <td>Montgomery County, MD</td>\n",
              "      <td>in response to trauma Children of Addicts deve...</td>\n",
              "      <td>0</td>\n",
              "    </tr>\n",
              "  </tbody>\n",
              "</table>\n",
              "</div>\n",
              "      <button class=\"colab-df-convert\" onclick=\"convertToInteractive('df-b368178d-9820-48c5-a90a-a0424840958c')\"\n",
              "              title=\"Convert this dataframe to an interactive table.\"\n",
              "              style=\"display:none;\">\n",
              "        \n",
              "  <svg xmlns=\"http://www.w3.org/2000/svg\" height=\"24px\"viewBox=\"0 0 24 24\"\n",
              "       width=\"24px\">\n",
              "    <path d=\"M0 0h24v24H0V0z\" fill=\"none\"/>\n",
              "    <path d=\"M18.56 5.44l.94 2.06.94-2.06 2.06-.94-2.06-.94-.94-2.06-.94 2.06-2.06.94zm-11 1L8.5 8.5l.94-2.06 2.06-.94-2.06-.94L8.5 2.5l-.94 2.06-2.06.94zm10 10l.94 2.06.94-2.06 2.06-.94-2.06-.94-.94-2.06-.94 2.06-2.06.94z\"/><path d=\"M17.41 7.96l-1.37-1.37c-.4-.4-.92-.59-1.43-.59-.52 0-1.04.2-1.43.59L10.3 9.45l-7.72 7.72c-.78.78-.78 2.05 0 2.83L4 21.41c.39.39.9.59 1.41.59.51 0 1.02-.2 1.41-.59l7.78-7.78 2.81-2.81c.8-.78.8-2.07 0-2.86zM5.41 20L4 18.59l7.72-7.72 1.47 1.35L5.41 20z\"/>\n",
              "  </svg>\n",
              "      </button>\n",
              "      \n",
              "  <style>\n",
              "    .colab-df-container {\n",
              "      display:flex;\n",
              "      flex-wrap:wrap;\n",
              "      gap: 12px;\n",
              "    }\n",
              "\n",
              "    .colab-df-convert {\n",
              "      background-color: #E8F0FE;\n",
              "      border: none;\n",
              "      border-radius: 50%;\n",
              "      cursor: pointer;\n",
              "      display: none;\n",
              "      fill: #1967D2;\n",
              "      height: 32px;\n",
              "      padding: 0 0 0 0;\n",
              "      width: 32px;\n",
              "    }\n",
              "\n",
              "    .colab-df-convert:hover {\n",
              "      background-color: #E2EBFA;\n",
              "      box-shadow: 0px 1px 2px rgba(60, 64, 67, 0.3), 0px 1px 3px 1px rgba(60, 64, 67, 0.15);\n",
              "      fill: #174EA6;\n",
              "    }\n",
              "\n",
              "    [theme=dark] .colab-df-convert {\n",
              "      background-color: #3B4455;\n",
              "      fill: #D2E3FC;\n",
              "    }\n",
              "\n",
              "    [theme=dark] .colab-df-convert:hover {\n",
              "      background-color: #434B5C;\n",
              "      box-shadow: 0px 1px 3px 1px rgba(0, 0, 0, 0.15);\n",
              "      filter: drop-shadow(0px 1px 2px rgba(0, 0, 0, 0.3));\n",
              "      fill: #FFFFFF;\n",
              "    }\n",
              "  </style>\n",
              "\n",
              "      <script>\n",
              "        const buttonEl =\n",
              "          document.querySelector('#df-b368178d-9820-48c5-a90a-a0424840958c button.colab-df-convert');\n",
              "        buttonEl.style.display =\n",
              "          google.colab.kernel.accessAllowed ? 'block' : 'none';\n",
              "\n",
              "        async function convertToInteractive(key) {\n",
              "          const element = document.querySelector('#df-b368178d-9820-48c5-a90a-a0424840958c');\n",
              "          const dataTable =\n",
              "            await google.colab.kernel.invokeFunction('convertToInteractive',\n",
              "                                                     [key], {});\n",
              "          if (!dataTable) return;\n",
              "\n",
              "          const docLinkHtml = 'Like what you see? Visit the ' +\n",
              "            '<a target=\"_blank\" href=https://colab.research.google.com/notebooks/data_table.ipynb>data table notebook</a>'\n",
              "            + ' to learn more about interactive tables.';\n",
              "          element.innerHTML = '';\n",
              "          dataTable['output_type'] = 'display_data';\n",
              "          await google.colab.output.renderOutput(dataTable, element);\n",
              "          const docLink = document.createElement('div');\n",
              "          docLink.innerHTML = docLinkHtml;\n",
              "          element.appendChild(docLink);\n",
              "        }\n",
              "      </script>\n",
              "    </div>\n",
              "  </div>\n",
              "  "
            ]
          },
          "metadata": {},
          "execution_count": 10
        }
      ]
    },
    {
      "cell_type": "code",
      "source": [
        "#test df\n",
        "test_df.head()"
      ],
      "metadata": {
        "colab": {
          "base_uri": "https://localhost:8080/",
          "height": 206
        },
        "id": "MsQQhmdqvYzP",
        "outputId": "3d81212c-098c-452f-eebc-60f3d35b3f17"
      },
      "execution_count": 11,
      "outputs": [
        {
          "output_type": "execute_result",
          "data": {
            "text/plain": [
              "   id keyword location                                               text\n",
              "0   0     NaN      NaN                 Just happened a terrible car crash\n",
              "1   2     NaN      NaN  Heard about #earthquake is different cities, s...\n",
              "2   3     NaN      NaN  there is a forest fire at spot pond, geese are...\n",
              "3   9     NaN      NaN           Apocalypse lighting. #Spokane #wildfires\n",
              "4  11     NaN      NaN      Typhoon Soudelor kills 28 in China and Taiwan"
            ],
            "text/html": [
              "\n",
              "  <div id=\"df-77e16a87-464a-4f70-9602-79d9f05b5add\">\n",
              "    <div class=\"colab-df-container\">\n",
              "      <div>\n",
              "<style scoped>\n",
              "    .dataframe tbody tr th:only-of-type {\n",
              "        vertical-align: middle;\n",
              "    }\n",
              "\n",
              "    .dataframe tbody tr th {\n",
              "        vertical-align: top;\n",
              "    }\n",
              "\n",
              "    .dataframe thead th {\n",
              "        text-align: right;\n",
              "    }\n",
              "</style>\n",
              "<table border=\"1\" class=\"dataframe\">\n",
              "  <thead>\n",
              "    <tr style=\"text-align: right;\">\n",
              "      <th></th>\n",
              "      <th>id</th>\n",
              "      <th>keyword</th>\n",
              "      <th>location</th>\n",
              "      <th>text</th>\n",
              "    </tr>\n",
              "  </thead>\n",
              "  <tbody>\n",
              "    <tr>\n",
              "      <th>0</th>\n",
              "      <td>0</td>\n",
              "      <td>NaN</td>\n",
              "      <td>NaN</td>\n",
              "      <td>Just happened a terrible car crash</td>\n",
              "    </tr>\n",
              "    <tr>\n",
              "      <th>1</th>\n",
              "      <td>2</td>\n",
              "      <td>NaN</td>\n",
              "      <td>NaN</td>\n",
              "      <td>Heard about #earthquake is different cities, s...</td>\n",
              "    </tr>\n",
              "    <tr>\n",
              "      <th>2</th>\n",
              "      <td>3</td>\n",
              "      <td>NaN</td>\n",
              "      <td>NaN</td>\n",
              "      <td>there is a forest fire at spot pond, geese are...</td>\n",
              "    </tr>\n",
              "    <tr>\n",
              "      <th>3</th>\n",
              "      <td>9</td>\n",
              "      <td>NaN</td>\n",
              "      <td>NaN</td>\n",
              "      <td>Apocalypse lighting. #Spokane #wildfires</td>\n",
              "    </tr>\n",
              "    <tr>\n",
              "      <th>4</th>\n",
              "      <td>11</td>\n",
              "      <td>NaN</td>\n",
              "      <td>NaN</td>\n",
              "      <td>Typhoon Soudelor kills 28 in China and Taiwan</td>\n",
              "    </tr>\n",
              "  </tbody>\n",
              "</table>\n",
              "</div>\n",
              "      <button class=\"colab-df-convert\" onclick=\"convertToInteractive('df-77e16a87-464a-4f70-9602-79d9f05b5add')\"\n",
              "              title=\"Convert this dataframe to an interactive table.\"\n",
              "              style=\"display:none;\">\n",
              "        \n",
              "  <svg xmlns=\"http://www.w3.org/2000/svg\" height=\"24px\"viewBox=\"0 0 24 24\"\n",
              "       width=\"24px\">\n",
              "    <path d=\"M0 0h24v24H0V0z\" fill=\"none\"/>\n",
              "    <path d=\"M18.56 5.44l.94 2.06.94-2.06 2.06-.94-2.06-.94-.94-2.06-.94 2.06-2.06.94zm-11 1L8.5 8.5l.94-2.06 2.06-.94-2.06-.94L8.5 2.5l-.94 2.06-2.06.94zm10 10l.94 2.06.94-2.06 2.06-.94-2.06-.94-.94-2.06-.94 2.06-2.06.94z\"/><path d=\"M17.41 7.96l-1.37-1.37c-.4-.4-.92-.59-1.43-.59-.52 0-1.04.2-1.43.59L10.3 9.45l-7.72 7.72c-.78.78-.78 2.05 0 2.83L4 21.41c.39.39.9.59 1.41.59.51 0 1.02-.2 1.41-.59l7.78-7.78 2.81-2.81c.8-.78.8-2.07 0-2.86zM5.41 20L4 18.59l7.72-7.72 1.47 1.35L5.41 20z\"/>\n",
              "  </svg>\n",
              "      </button>\n",
              "      \n",
              "  <style>\n",
              "    .colab-df-container {\n",
              "      display:flex;\n",
              "      flex-wrap:wrap;\n",
              "      gap: 12px;\n",
              "    }\n",
              "\n",
              "    .colab-df-convert {\n",
              "      background-color: #E8F0FE;\n",
              "      border: none;\n",
              "      border-radius: 50%;\n",
              "      cursor: pointer;\n",
              "      display: none;\n",
              "      fill: #1967D2;\n",
              "      height: 32px;\n",
              "      padding: 0 0 0 0;\n",
              "      width: 32px;\n",
              "    }\n",
              "\n",
              "    .colab-df-convert:hover {\n",
              "      background-color: #E2EBFA;\n",
              "      box-shadow: 0px 1px 2px rgba(60, 64, 67, 0.3), 0px 1px 3px 1px rgba(60, 64, 67, 0.15);\n",
              "      fill: #174EA6;\n",
              "    }\n",
              "\n",
              "    [theme=dark] .colab-df-convert {\n",
              "      background-color: #3B4455;\n",
              "      fill: #D2E3FC;\n",
              "    }\n",
              "\n",
              "    [theme=dark] .colab-df-convert:hover {\n",
              "      background-color: #434B5C;\n",
              "      box-shadow: 0px 1px 3px 1px rgba(0, 0, 0, 0.15);\n",
              "      filter: drop-shadow(0px 1px 2px rgba(0, 0, 0, 0.3));\n",
              "      fill: #FFFFFF;\n",
              "    }\n",
              "  </style>\n",
              "\n",
              "      <script>\n",
              "        const buttonEl =\n",
              "          document.querySelector('#df-77e16a87-464a-4f70-9602-79d9f05b5add button.colab-df-convert');\n",
              "        buttonEl.style.display =\n",
              "          google.colab.kernel.accessAllowed ? 'block' : 'none';\n",
              "\n",
              "        async function convertToInteractive(key) {\n",
              "          const element = document.querySelector('#df-77e16a87-464a-4f70-9602-79d9f05b5add');\n",
              "          const dataTable =\n",
              "            await google.colab.kernel.invokeFunction('convertToInteractive',\n",
              "                                                     [key], {});\n",
              "          if (!dataTable) return;\n",
              "\n",
              "          const docLinkHtml = 'Like what you see? Visit the ' +\n",
              "            '<a target=\"_blank\" href=https://colab.research.google.com/notebooks/data_table.ipynb>data table notebook</a>'\n",
              "            + ' to learn more about interactive tables.';\n",
              "          element.innerHTML = '';\n",
              "          dataTable['output_type'] = 'display_data';\n",
              "          await google.colab.output.renderOutput(dataTable, element);\n",
              "          const docLink = document.createElement('div');\n",
              "          docLink.innerHTML = docLinkHtml;\n",
              "          element.appendChild(docLink);\n",
              "        }\n",
              "      </script>\n",
              "    </div>\n",
              "  </div>\n",
              "  "
            ]
          },
          "metadata": {},
          "execution_count": 11
        }
      ]
    },
    {
      "cell_type": "code",
      "source": [
        "#examples of each class\n",
        "train_df.target.value_counts()"
      ],
      "metadata": {
        "colab": {
          "base_uri": "https://localhost:8080/"
        },
        "id": "eOI5KrBPvpO4",
        "outputId": "0209e9ec-9de5-4607-d8cc-44e0bd8f9218"
      },
      "execution_count": 12,
      "outputs": [
        {
          "output_type": "execute_result",
          "data": {
            "text/plain": [
              "0    4342\n",
              "1    3271\n",
              "Name: target, dtype: int64"
            ]
          },
          "metadata": {},
          "execution_count": 12
        }
      ]
    },
    {
      "cell_type": "code",
      "source": [
        "#total num of samples\n",
        "len(train_df), len(test_df)"
      ],
      "metadata": {
        "colab": {
          "base_uri": "https://localhost:8080/"
        },
        "id": "FmNJ9EsKv1BD",
        "outputId": "1bd80c56-bdb3-475d-f9c1-0f86298f5862"
      },
      "execution_count": 13,
      "outputs": [
        {
          "output_type": "execute_result",
          "data": {
            "text/plain": [
              "(7613, 3263)"
            ]
          },
          "metadata": {},
          "execution_count": 13
        }
      ]
    },
    {
      "cell_type": "code",
      "source": [
        "#visualizing random samples\n",
        "import random\n",
        "random_index = random.randint(0, len(train_df)-5) #create random index\n",
        "for row in train_df_shuffled[[\"text\", \"target\"]][random_index:random_index +5 ].itertuples():\n",
        "  _, text, target = row\n",
        "  print(f\"Target: {target}\", \"(real disaster\" if target > 0 else \"(not real disaster)\")\n",
        "  print(f\"Text:\\n{text}\")"
      ],
      "metadata": {
        "colab": {
          "base_uri": "https://localhost:8080/"
        },
        "id": "jqgjc8eTwF6y",
        "outputId": "1971df89-0b13-4961-8685-a341399e5a75"
      },
      "execution_count": 14,
      "outputs": [
        {
          "output_type": "stream",
          "name": "stdout",
          "text": [
            "Target: 1 (real disaster\n",
            "Text:\n",
            "I liked a @YouTube video http://t.co/43sXG9Z6xh TREMOR IS NO JOKE!! [TREMOR DLC] [FATALITIES/X-RAY]\n",
            "Target: 1 (real disaster\n",
            "Text:\n",
            "@leedsrouge Love what you picked! We're playing WORTH IT by FIFTH HARM/KID INK because of you! Listen &amp; Vote: http://t.co/0wrATkA2jL\n",
            "Target: 1 (real disaster\n",
            "Text:\n",
            "California meets drought-fueled fire season with extra crews.. Related Articles: http://t.co/rKDzB0TGC3\n",
            "Target: 0 (not real disaster)\n",
            "Text:\n",
            "'Biggest lead hazard in New England history.' Yeah let's nail these guys. https://t.co/xzvmzQuS0x\n",
            "Target: 0 (not real disaster)\n",
            "Text:\n",
            "Its like I never left. I just sunk to the background\n"
          ]
        }
      ]
    },
    {
      "cell_type": "code",
      "source": [
        "#splittting data into training and validation\n",
        "from sklearn.model_selection import train_test_split\n",
        "train_sentences, val_sentences, train_labels, val_labels = train_test_split(train_df_shuffled[\"text\"].to_numpy(),\n",
        "                                                                            train_df_shuffled[\"target\"].to_numpy(),\n",
        "                                                                            test_size=0.1,\n",
        "                                                                            random_state=30)"
      ],
      "metadata": {
        "id": "6D7_Msunwxry"
      },
      "execution_count": 15,
      "outputs": []
    },
    {
      "cell_type": "code",
      "source": [
        "#checking lengths of each data set\n",
        "len(train_sentences), len(val_sentences), len(train_labels), len(val_labels)"
      ],
      "metadata": {
        "colab": {
          "base_uri": "https://localhost:8080/"
        },
        "id": "NdntL4rNBpta",
        "outputId": "afd86f19-bcc2-490e-9bd1-ffad6767f2ce"
      },
      "execution_count": 16,
      "outputs": [
        {
          "output_type": "execute_result",
          "data": {
            "text/plain": [
              "(6851, 762, 6851, 762)"
            ]
          },
          "metadata": {},
          "execution_count": 16
        }
      ]
    },
    {
      "cell_type": "code",
      "source": [
        "#check the first 10 sentences\n",
        "train_sentences[:10]"
      ],
      "metadata": {
        "colab": {
          "base_uri": "https://localhost:8080/"
        },
        "id": "cEYvscGPCRf2",
        "outputId": "4872c08d-b4f4-4e93-b305-da62152100cf"
      },
      "execution_count": 17,
      "outputs": [
        {
          "output_type": "execute_result",
          "data": {
            "text/plain": [
              "array([\"All residents asked to 'shelter in place' are being notified by officers. No other evacuation or shelter in place orders are expected\",\n",
              "       \"@DavidJordan88 @Stephanenny Except we don't know who started the riot or if it even makes sense to credit any particular individuals...\",\n",
              "       'Shadow boxing the apocalypse',\n",
              "       \"Maybe that's what happens when a tornado meets a volcano\",\n",
              "       '#Politics Democracy\\x89Ûªs hatred for hate: \\x89Û_ Dawabsha threaten to erode Israeli democracy. Homegrown terrorism ha...  http://t.co/q8n5Tn8WME',\n",
              "       \"@TomDean86 he's alright but Hazard/Willian ain't gonna be shifted easily.\",\n",
              "       '0-day bug in fully patched OS X comes under active exploit to hijack Macs http://t.co/sbGiRvQvzb',\n",
              "       'Three Israeli soldiers wounded in West Bank terrorist attack via /r/worldnews http://t.co/su4ZVWADj7',\n",
              "       'If it\\x89Ûªs a war you came to see you will never see a waved white flag in front me.\\nI can\\x89Ûªt end up dead I wont be misled.',\n",
              "       'York Co. first responders compete to save lives in \\x89Û÷Badges for Blood\\x89Ûª #paramedic #EMS http://t.co/E65V80FCus'],\n",
              "      dtype=object)"
            ]
          },
          "metadata": {},
          "execution_count": 17
        }
      ]
    },
    {
      "cell_type": "code",
      "source": [
        "val_sentences[:10]"
      ],
      "metadata": {
        "colab": {
          "base_uri": "https://localhost:8080/"
        },
        "id": "Dd40MBTaCXFt",
        "outputId": "d509566a-4c90-40b2-8cdc-51912898aec6"
      },
      "execution_count": 18,
      "outputs": [
        {
          "output_type": "execute_result",
          "data": {
            "text/plain": [
              "array(['Blaze is my bro http://t.co/UdKeSJ01mL',\n",
              "       'I was taught at school in the 1970s that piracy slavery and suicide-bombing were purely historical. No one then expected them to re-occur',\n",
              "       'http://t.co/FueRk0gWui Twelve feared killed in Pakistani air ambulance helicopter crash http://t.co/Mv7GgGlmVc',\n",
              "       \"I'm a friggin wreck destiel sucks (read the vine description)\\nhttps://t.co/MKX6Ux4OZt\",\n",
              "       'Dr. Bengston on #wildfire management: \\x89ÛÏnumbers and size of fires areas affected and costs of fighting them all show upward trend.\\x89Û\\x9d #smem',\n",
              "       '@ameenshaikh3 sir i just only wanted to make a point about @sureshpprabhu you made and said he is lying about bridge collapse.',\n",
              "       'Wow! I just won this for free The Hobbit: Desolation of Smaug UV digital download code *GIN 9 http://t.co/MjFdCrjs8j #listia',\n",
              "       'Photoset: hakogaku: ?åÊI am a kurd. i was born on a battlefield. raised on a battlefield. gunfire sirens... http://t.co/obp595W7tm',\n",
              "       'Washington Post - 4 dead dozens injured in Gaza blast near house leveled in summer war http://t.co/VjXa13n8Ap',\n",
              "       '@wocowae Police Officer Wounded Suspect Dead After Exchanging Shots http://t.co/oiOeCbsh1f ushed'],\n",
              "      dtype=object)"
            ]
          },
          "metadata": {},
          "execution_count": 18
        }
      ]
    },
    {
      "cell_type": "markdown",
      "source": [
        "## Converting text into numbers"
      ],
      "metadata": {
        "id": "nVIszkTYCY-8"
      }
    },
    {
      "cell_type": "markdown",
      "source": [
        "#Tokenization and Embedding\n",
        "##Tokenization: Each word/character is set to a number/one-hot encoding\n",
        "##Embedding: Each word/character is set to a vector, with user-defined size, allowing for information on the relationship between tokens/words/characters. Additionally, can limit size and can be learned (treated as a weight matrix)\n"
      ],
      "metadata": {
        "id": "VaehOHk5CoHW"
      }
    },
    {
      "cell_type": "code",
      "source": [
        "#Text Vectorization\n",
        "import tensorflow as tf\n",
        "from tensorflow.keras.layers import TextVectorization\n",
        "\n",
        "#Use default TextVectorization parameters\n",
        "text_vectorizer = TextVectorization(max_tokens=None, #how many words in vocabulary (automaticaly add <OOV>)\n",
        "                                    standardize=\"lower_and_strip_punctuation\", #remove fluff,\n",
        "                                    split=\"whitespace\",\n",
        "                                    ngrams=None, #create groups of n words\n",
        "                                    output_mode=\"int\", #how to map tokens to numbers\n",
        "                                    output_sequence_length=None, #how long each batch of a setence should be\n",
        "                                    pad_to_max_tokens=False)\n"
      ],
      "metadata": {
        "id": "Q0gVYSLkDOp3"
      },
      "execution_count": 19,
      "outputs": []
    },
    {
      "cell_type": "code",
      "source": [
        "#find average number of tokens (words) in the trianing tweets\n",
        "round(sum([len(i.split()) for i in train_sentences])/len(train_sentences))"
      ],
      "metadata": {
        "colab": {
          "base_uri": "https://localhost:8080/"
        },
        "id": "x-2vFBt0GNd-",
        "outputId": "3f5f6885-fdfa-4171-c41d-d2ab3c17896a"
      },
      "execution_count": 20,
      "outputs": [
        {
          "output_type": "execute_result",
          "data": {
            "text/plain": [
              "15"
            ]
          },
          "metadata": {},
          "execution_count": 20
        }
      ]
    },
    {
      "cell_type": "code",
      "source": [
        "#set up text vectorization variables\n",
        "max_vocab_length = 10000 # max num of words to have in vocabulary\n",
        "max_length = 15 #max length of a tweet that our models sees\n",
        "\n",
        "text_vectorizer = TextVectorization(max_tokens=max_vocab_length, #how many words in vocabulary (automaticaly add <OOV>)\n",
        "                                    standardize=\"lower_and_strip_punctuation\", #remove fluff,\n",
        "                                    split=\"whitespace\",\n",
        "                                    ngrams=None, #create groups of n words\n",
        "                                    output_mode=\"int\", #how to map tokens to numbers\n",
        "                                    output_sequence_length=max_length, #how long each batch of a setence should be\n",
        "                                    pad_to_max_tokens=True)"
      ],
      "metadata": {
        "id": "HbIW4m3qG2ER"
      },
      "execution_count": 21,
      "outputs": []
    },
    {
      "cell_type": "code",
      "source": [
        "#adapting text_vectorizer to training data\n",
        "text_vectorizer.adapt(train_sentences) #adapt to training data, very important"
      ],
      "metadata": {
        "id": "n0A2cWjAHPK-"
      },
      "execution_count": 22,
      "outputs": []
    },
    {
      "cell_type": "code",
      "source": [
        "train_sentences[:10]"
      ],
      "metadata": {
        "colab": {
          "base_uri": "https://localhost:8080/"
        },
        "id": "RIjbJuNvHn-Q",
        "outputId": "c823813b-5278-465c-cbfa-4fe20159ba19"
      },
      "execution_count": 23,
      "outputs": [
        {
          "output_type": "execute_result",
          "data": {
            "text/plain": [
              "array([\"All residents asked to 'shelter in place' are being notified by officers. No other evacuation or shelter in place orders are expected\",\n",
              "       \"@DavidJordan88 @Stephanenny Except we don't know who started the riot or if it even makes sense to credit any particular individuals...\",\n",
              "       'Shadow boxing the apocalypse',\n",
              "       \"Maybe that's what happens when a tornado meets a volcano\",\n",
              "       '#Politics Democracy\\x89Ûªs hatred for hate: \\x89Û_ Dawabsha threaten to erode Israeli democracy. Homegrown terrorism ha...  http://t.co/q8n5Tn8WME',\n",
              "       \"@TomDean86 he's alright but Hazard/Willian ain't gonna be shifted easily.\",\n",
              "       '0-day bug in fully patched OS X comes under active exploit to hijack Macs http://t.co/sbGiRvQvzb',\n",
              "       'Three Israeli soldiers wounded in West Bank terrorist attack via /r/worldnews http://t.co/su4ZVWADj7',\n",
              "       'If it\\x89Ûªs a war you came to see you will never see a waved white flag in front me.\\nI can\\x89Ûªt end up dead I wont be misled.',\n",
              "       'York Co. first responders compete to save lives in \\x89Û÷Badges for Blood\\x89Ûª #paramedic #EMS http://t.co/E65V80FCus'],\n",
              "      dtype=object)"
            ]
          },
          "metadata": {},
          "execution_count": 23
        }
      ]
    },
    {
      "cell_type": "code",
      "source": [
        "#Create sample setnces and tokenize it\n",
        "sample_sentence = \"A tornado destroyed my house\"\n",
        "text_vectorizer([sample_sentence])"
      ],
      "metadata": {
        "colab": {
          "base_uri": "https://localhost:8080/"
        },
        "id": "ghPJeZTdHpmP",
        "outputId": "6ed05a1b-1971-4774-8b79-b42e58b08e61"
      },
      "execution_count": 24,
      "outputs": [
        {
          "output_type": "execute_result",
          "data": {
            "text/plain": [
              "<tf.Tensor: shape=(1, 15), dtype=int64, numpy=\n",
              "array([[  3, 595, 346,  13, 311,   0,   0,   0,   0,   0,   0,   0,   0,\n",
              "          0,   0]])>"
            ]
          },
          "metadata": {},
          "execution_count": 24
        }
      ]
    },
    {
      "cell_type": "code",
      "source": [
        "#Choose a random sentence from the triaing dataset and vectorize it\n",
        "random_sentence = random.choice(train_sentences)\n",
        "print(f\"original sentence: {random_sentence}\\n vectorized sentence: {text_vectorizer([random_sentence])}\")"
      ],
      "metadata": {
        "colab": {
          "base_uri": "https://localhost:8080/"
        },
        "id": "G1A_HeIgH1dl",
        "outputId": "addadcf5-bb73-493e-b843-555b5ac8669f"
      },
      "execution_count": 25,
      "outputs": [
        {
          "output_type": "stream",
          "name": "stdout",
          "text": [
            "original sentence: Panoramic Resources cuts jobs after seismic event http://t.co/mUwmfJGzYh\n",
            " vectorized sentence: [[9989 4712    1  809   40  648 1418    1    0    0    0    0    0    0\n",
            "     0]]\n"
          ]
        }
      ]
    },
    {
      "cell_type": "code",
      "source": [
        "#number of unique words found in train_sentences\n",
        "words_in_vocab = text_vectorizer.get_vocabulary()\n",
        "top_5_words = words_in_vocab[:5]\n",
        "bottom_5_words = words_in_vocab[-5:]\n",
        "print(f\"Num of words: {len(words_in_vocab)}\")\n",
        "top_5_words, bottom_5_words"
      ],
      "metadata": {
        "colab": {
          "base_uri": "https://localhost:8080/"
        },
        "id": "DjHVULaBIOds",
        "outputId": "932f329b-0ef8-41b8-c16a-277ceb9e8708"
      },
      "execution_count": 26,
      "outputs": [
        {
          "output_type": "stream",
          "name": "stdout",
          "text": [
            "Num of words: 10000\n"
          ]
        },
        {
          "output_type": "execute_result",
          "data": {
            "text/plain": [
              "(['', '[UNK]', 'the', 'a', 'in'],\n",
              " ['panda', 'panama', 'pampalmater', 'palmoil', 'palmer'])"
            ]
          },
          "metadata": {},
          "execution_count": 26
        }
      ]
    },
    {
      "cell_type": "markdown",
      "source": [
        "### Creating an embedding using an embedding layer\n"
      ],
      "metadata": {
        "id": "ZAjowXaIIfNw"
      }
    },
    {
      "cell_type": "code",
      "source": [
        "#using tensorflow.keras.layeres.Embedding\n",
        "##Parameters: input_dim, output_dim, input_length\n",
        "from tensorflow.keras import layers\n",
        "\n",
        "embedding = layers.Embedding(input_dim=max_vocab_length,\n",
        "                             output_dim=128,\n",
        "                             input_length=max_length)\n",
        "embedding"
      ],
      "metadata": {
        "colab": {
          "base_uri": "https://localhost:8080/"
        },
        "id": "t6Yg2so4JQwK",
        "outputId": "6f21756a-af7b-4056-9a9c-bee4e2023ad7"
      },
      "execution_count": 27,
      "outputs": [
        {
          "output_type": "execute_result",
          "data": {
            "text/plain": [
              "<keras.layers.embeddings.Embedding at 0x7f08a0242590>"
            ]
          },
          "metadata": {},
          "execution_count": 27
        }
      ]
    },
    {
      "cell_type": "code",
      "source": [
        "#get a random sentence\n",
        "random_sentence = random.choice(train_sentences)\n",
        "print(f\"random sentence: {random_sentence}\")\n",
        "print(f\"embedded:\")\n",
        "sample_embed = embedding(text_vectorizer([random_sentence]))\n",
        "sample_embed"
      ],
      "metadata": {
        "colab": {
          "base_uri": "https://localhost:8080/"
        },
        "id": "RP6-vW_-KAkY",
        "outputId": "74a85e3b-e40d-42a8-e189-06f6c63c3628"
      },
      "execution_count": 28,
      "outputs": [
        {
          "output_type": "stream",
          "name": "stdout",
          "text": [
            "random sentence: I can probably skip on these basic life maintenance things for a few days. (cut to burning buildings people screaming in the streets)\n",
            "embedded:\n"
          ]
        },
        {
          "output_type": "execute_result",
          "data": {
            "text/plain": [
              "<tf.Tensor: shape=(1, 15, 128), dtype=float32, numpy=\n",
              "array([[[-0.0368443 , -0.01600734, -0.00937449, ...,  0.00028076,\n",
              "          0.02494489, -0.0241089 ],\n",
              "        [-0.00776733, -0.04339819, -0.03612364, ..., -0.04791777,\n",
              "         -0.03196694, -0.00602273],\n",
              "        [ 0.04906208, -0.01253027, -0.03786515, ..., -0.02558098,\n",
              "          0.01285389,  0.04938587],\n",
              "        ...,\n",
              "        [-0.01024687, -0.04091535, -0.01002855, ..., -0.03769626,\n",
              "         -0.04486383,  0.0183211 ],\n",
              "        [ 0.01621013, -0.01467055, -0.03629965, ..., -0.0084193 ,\n",
              "          0.02920978,  0.02202323],\n",
              "        [-0.01504396, -0.0143173 ,  0.03942715, ...,  0.04735645,\n",
              "          0.00484189,  0.02596141]]], dtype=float32)>"
            ]
          },
          "metadata": {},
          "execution_count": 28
        }
      ]
    },
    {
      "cell_type": "code",
      "source": [
        "sample_embed[0][0], sample_embed[0][0].shape, "
      ],
      "metadata": {
        "colab": {
          "base_uri": "https://localhost:8080/"
        },
        "id": "bnJWDCi5KZIY",
        "outputId": "756b749a-f098-41f4-cf58-a1b8321eaae8"
      },
      "execution_count": 29,
      "outputs": [
        {
          "output_type": "execute_result",
          "data": {
            "text/plain": [
              "(<tf.Tensor: shape=(128,), dtype=float32, numpy=\n",
              " array([-3.68443020e-02, -1.60073414e-02, -9.37448815e-03, -4.38351631e-02,\n",
              "        -3.52601409e-02, -4.29368615e-02, -4.55364957e-02, -3.85195836e-02,\n",
              "        -1.31833926e-02, -4.99206781e-03, -2.37170104e-02, -1.25099532e-02,\n",
              "         4.05368917e-02,  2.82929279e-02, -3.20169218e-02, -4.94330041e-02,\n",
              "         4.05974053e-02,  2.29937471e-02,  4.09019478e-02, -1.34213455e-02,\n",
              "         3.54158022e-02,  1.92492492e-02,  2.48801745e-02,  1.53619535e-02,\n",
              "        -2.23294385e-02,  1.65385865e-02, -1.87413581e-02,  2.30629109e-02,\n",
              "         2.86393203e-02, -3.75800356e-02,  7.00627640e-03,  3.09771411e-02,\n",
              "         4.44393642e-02,  8.48401338e-04,  3.45602371e-02, -2.49132514e-02,\n",
              "         2.38928683e-02,  4.29136418e-02, -1.06425881e-02, -5.12401015e-03,\n",
              "        -3.70829105e-02, -4.04690281e-02, -7.43650272e-03,  4.77502830e-02,\n",
              "        -2.17554569e-02,  4.47491519e-02, -3.36519107e-02, -2.79536601e-02,\n",
              "         3.92803289e-02,  3.33852060e-02,  2.23391764e-02, -2.19937414e-03,\n",
              "        -2.00175177e-02, -3.91436741e-03, -9.20182467e-03, -3.68058681e-03,\n",
              "         6.70142099e-03,  2.12499388e-02,  2.28250660e-02, -3.59067693e-02,\n",
              "         2.41662525e-02, -3.74728329e-02, -3.61423604e-02, -4.10250425e-02,\n",
              "         3.54993381e-02, -2.49901898e-02, -2.83494592e-05, -4.96167317e-02,\n",
              "        -4.83128093e-02, -1.07863769e-02, -3.03581487e-02, -1.49786696e-02,\n",
              "        -4.68602888e-02,  3.68633009e-02,  1.49190761e-02,  4.09265608e-03,\n",
              "        -4.49572913e-02,  1.56356134e-02, -2.81224381e-02, -2.26422306e-02,\n",
              "        -2.26776842e-02,  2.43246295e-02,  3.37628461e-02,  2.10106373e-03,\n",
              "         1.76098235e-02, -9.68734175e-03,  4.60665300e-03,  3.80261578e-02,\n",
              "        -1.97909120e-02,  3.68347019e-03, -4.77287285e-02, -9.08028334e-04,\n",
              "         5.56843355e-03, -7.37335533e-03,  1.72615685e-02,  6.90950081e-03,\n",
              "         2.41069831e-02,  4.74261120e-03, -1.28373280e-02, -2.60540135e-02,\n",
              "        -2.30216626e-02,  1.49045102e-02,  4.14532684e-02, -7.46344402e-03,\n",
              "        -4.82033603e-02,  2.13345997e-02,  4.61999513e-02,  1.92252547e-03,\n",
              "        -2.65519619e-02, -4.13116440e-02,  7.89624453e-03, -7.29810447e-04,\n",
              "        -4.95215915e-02,  1.25863589e-02, -2.39007957e-02, -4.23351303e-02,\n",
              "        -3.73750106e-02, -3.47907767e-02, -3.56911644e-02, -4.08988371e-02,\n",
              "         1.80217884e-02,  4.30426635e-02, -2.97416002e-04, -9.34640318e-03,\n",
              "        -1.12042315e-02,  2.80760229e-04,  2.49448903e-02, -2.41088998e-02],\n",
              "       dtype=float32)>, TensorShape([128]))"
            ]
          },
          "metadata": {},
          "execution_count": 29
        }
      ]
    },
    {
      "cell_type": "markdown",
      "source": [
        "##Modelling a text dataset (running series of experiments)\n",
        "###1. Naive bayes with Tf-IDF encoder (BASELINE)\n",
        "###2. Feed-forward neural network \n",
        "###3. LSTM\n",
        "###4. GRU\n",
        "###5. Bidirectiona;-LSTM\n",
        "###6. 1D CNN\n",
        "###7. TFHub pretrianed feature extractor\n",
        "###8. TFHub pretrained with 10% of trained datam\n",
        "\n"
      ],
      "metadata": {
        "id": "0DBYy9VgKz6Q"
      }
    },
    {
      "cell_type": "code",
      "source": [
        "###Model 0: Getting a baseline - Skleanrs multinomial naive bayes with tf-idf\n",
        "from sklearn.feature_extraction.text import TfidfVectorizer\n",
        "from sklearn.naive_bayes import MultinomialNB\n",
        "from sklearn.pipeline import Pipeline\n",
        "\n",
        "model_0 = Pipeline([\n",
        "                    (\"tfidf\", TfidfVectorizer()), #convert words to numbers\n",
        "                    (\"clf\", MultinomialNB()) #model the text\n",
        "\n",
        "])\n",
        "\n",
        "#fit the pipeline to the training data\n",
        "model_0.fit(train_sentences, train_labels)"
      ],
      "metadata": {
        "colab": {
          "base_uri": "https://localhost:8080/"
        },
        "id": "XkOIC43piGTm",
        "outputId": "b7328abf-d94c-42ad-d4bb-a789456e2c5d"
      },
      "execution_count": 30,
      "outputs": [
        {
          "output_type": "execute_result",
          "data": {
            "text/plain": [
              "Pipeline(steps=[('tfidf', TfidfVectorizer()), ('clf', MultinomialNB())])"
            ]
          },
          "metadata": {},
          "execution_count": 30
        }
      ]
    },
    {
      "cell_type": "code",
      "source": [
        "#Evaluate our baseline model\n",
        "baseline_score = model_0.score(val_sentences, val_labels)"
      ],
      "metadata": {
        "id": "O5X_siMrizGj"
      },
      "execution_count": 31,
      "outputs": []
    },
    {
      "cell_type": "code",
      "source": [
        "baseline_score"
      ],
      "metadata": {
        "colab": {
          "base_uri": "https://localhost:8080/"
        },
        "id": "6BOnGaYPi9ve",
        "outputId": "1191e9d4-e05b-4ee6-9fe7-17e5758389ce"
      },
      "execution_count": 32,
      "outputs": [
        {
          "output_type": "execute_result",
          "data": {
            "text/plain": [
              "0.8044619422572179"
            ]
          },
          "metadata": {},
          "execution_count": 32
        }
      ]
    },
    {
      "cell_type": "code",
      "source": [
        "print(f\"Baseline Score: {baseline_score*100:.2f}%\")"
      ],
      "metadata": {
        "colab": {
          "base_uri": "https://localhost:8080/"
        },
        "id": "7Hashe3Ii-nf",
        "outputId": "f2fa89fc-c66f-4d30-bebc-cbc7d1380dae"
      },
      "execution_count": 33,
      "outputs": [
        {
          "output_type": "stream",
          "name": "stdout",
          "text": [
            "Baseline Score: 80.45%\n"
          ]
        }
      ]
    },
    {
      "cell_type": "code",
      "source": [
        "baseline_preds = model_0.predict(val_sentences)\n",
        "baseline_preds[:30]"
      ],
      "metadata": {
        "colab": {
          "base_uri": "https://localhost:8080/"
        },
        "id": "BEoJh2s0jJqo",
        "outputId": "0a405f92-9905-43fd-908c-36ffbf53629c"
      },
      "execution_count": 34,
      "outputs": [
        {
          "output_type": "execute_result",
          "data": {
            "text/plain": [
              "array([0, 1, 1, 0, 1, 0, 0, 0, 1, 1, 0, 0, 1, 0, 0, 0, 1, 0, 1, 0, 0, 0,\n",
              "       1, 1, 0, 1, 0, 0, 1, 1])"
            ]
          },
          "metadata": {},
          "execution_count": 34
        }
      ]
    },
    {
      "cell_type": "code",
      "source": [
        "### creating an evaluation function for our modeling experiements\n",
        "#Accuracy, Precision, Recall and f1-score\n",
        "from sklearn.metrics import accuracy_score, precision_recall_fscore_support\n",
        "\n",
        "def calculate_results(y_true, y_pred):\n",
        "  \"\"\"\n",
        "  Calculate model accuracy, preicision, recall and f1-score\n",
        "  \"\"\"\n",
        "  #calculate model accuracy\n",
        "  model_accuracy = accuracy_score(y_true, y_pred) * 100\n",
        "  \n",
        "  #precision, recall and f1-score(using weighted average)\n",
        "  model_precision, model_recall, model_f1, _ = precision_recall_fscore_support(y_true, y_pred, average=\"weighted\")\n",
        "  \n",
        "  model_results = {\n",
        "      \"accuracy\": model_accuracy,\n",
        "      \"precision\": model_precision,\n",
        "      \"recall\": model_recall,\n",
        "      \"f1\": model_f1\n",
        "  }\n",
        "\n",
        "  return model_results"
      ],
      "metadata": {
        "id": "DdUR34FxjRYZ"
      },
      "execution_count": 35,
      "outputs": []
    },
    {
      "cell_type": "code",
      "source": [
        "baseline_results = calculate_results(val_labels, baseline_preds)\n",
        "baseline_results"
      ],
      "metadata": {
        "colab": {
          "base_uri": "https://localhost:8080/"
        },
        "id": "tjVdDGjnk_q_",
        "outputId": "10dc9617-8692-43c4-db38-747177b98969"
      },
      "execution_count": 36,
      "outputs": [
        {
          "output_type": "execute_result",
          "data": {
            "text/plain": [
              "{'accuracy': 80.4461942257218,\n",
              " 'f1': 0.7993754401853582,\n",
              " 'precision': 0.8113250534023555,\n",
              " 'recall': 0.8044619422572179}"
            ]
          },
          "metadata": {},
          "execution_count": 36
        }
      ]
    },
    {
      "cell_type": "code",
      "source": [
        "### Model 1: Feed Forward NN\n",
        "\n",
        "# Create tensorboard callback (need to create a new one for each model)\n",
        "from helper_functions import create_tensorboard_callback\n",
        "\n",
        "# Create directory to save TensorBoard logs\n",
        "SAVE_DIR = \"model_logs\"\n"
      ],
      "metadata": {
        "id": "Y0JBzhS5lGDW"
      },
      "execution_count": 37,
      "outputs": []
    },
    {
      "cell_type": "code",
      "source": [
        "# Build model with the Functional API\n",
        "from tensorflow.keras import layers\n",
        "inputs = layers.Input(shape=(1,), dtype=\"string\") # inputs are 1-dimensional strings\n",
        "x = text_vectorizer(inputs) # turn the input text into numbers\n",
        "x = embedding(x) # create an embedding of the numerized numbers\n",
        "x = layers.GlobalAveragePooling1D()(x) # lower the dimensionality of the embedding (try running the model without this layer and see what happens)\n",
        "outputs = layers.Dense(1, activation=\"sigmoid\")(x) # create the output layer, want binary outputs so use sigmoid activation\n",
        "model_1 = tf.keras.Model(inputs, outputs, name=\"model_1_dense\") # construct the model"
      ],
      "metadata": {
        "id": "PwSRLYpsl56K"
      },
      "execution_count": 38,
      "outputs": []
    },
    {
      "cell_type": "code",
      "source": [
        "model_1.summary()"
      ],
      "metadata": {
        "colab": {
          "base_uri": "https://localhost:8080/"
        },
        "id": "imqHX2FbmaFz",
        "outputId": "0e07db7f-713e-440b-b059-41698666c9e1"
      },
      "execution_count": 39,
      "outputs": [
        {
          "output_type": "stream",
          "name": "stdout",
          "text": [
            "Model: \"model_1_dense\"\n",
            "_________________________________________________________________\n",
            " Layer (type)                Output Shape              Param #   \n",
            "=================================================================\n",
            " input_1 (InputLayer)        [(None, 1)]               0         \n",
            "                                                                 \n",
            " text_vectorization_1 (TextV  (None, 15)               0         \n",
            " ectorization)                                                   \n",
            "                                                                 \n",
            " embedding (Embedding)       (None, 15, 128)           1280000   \n",
            "                                                                 \n",
            " global_average_pooling1d (G  (None, 128)              0         \n",
            " lobalAveragePooling1D)                                          \n",
            "                                                                 \n",
            " dense (Dense)               (None, 1)                 129       \n",
            "                                                                 \n",
            "=================================================================\n",
            "Total params: 1,280,129\n",
            "Trainable params: 1,280,129\n",
            "Non-trainable params: 0\n",
            "_________________________________________________________________\n"
          ]
        }
      ]
    },
    {
      "cell_type": "code",
      "source": [
        "# Compile model\n",
        "model_1.compile(loss=\"binary_crossentropy\",\n",
        "                optimizer=tf.keras.optimizers.Adam(),\n",
        "                metrics=[\"accuracy\"])"
      ],
      "metadata": {
        "id": "fTEaytjamd00"
      },
      "execution_count": 40,
      "outputs": []
    },
    {
      "cell_type": "code",
      "source": [
        "model_1_history = model_1.fit(x=train_sentences,\n",
        "                              y=train_labels,\n",
        "                              epochs=5,\n",
        "                              validation_data=(val_sentences, val_labels),\n",
        "                              callbacks=[create_tensorboard_callback(dir_name=SAVE_DIR,\n",
        "                                                                     experiment_name=\"model_1_dense\")])"
      ],
      "metadata": {
        "colab": {
          "base_uri": "https://localhost:8080/"
        },
        "id": "unGFznThnF8F",
        "outputId": "ed007419-eb22-435a-c72a-45a36875642b"
      },
      "execution_count": 41,
      "outputs": [
        {
          "output_type": "stream",
          "name": "stdout",
          "text": [
            "Saving TensorBoard log files to: model_logs/model_1_dense/20220726-212853\n",
            "Epoch 1/5\n",
            "215/215 [==============================] - 8s 6ms/step - loss: 0.6142 - accuracy: 0.6878 - val_loss: 0.5170 - val_accuracy: 0.7782\n",
            "Epoch 2/5\n",
            "215/215 [==============================] - 1s 4ms/step - loss: 0.4433 - accuracy: 0.8218 - val_loss: 0.4423 - val_accuracy: 0.7953\n",
            "Epoch 3/5\n",
            "215/215 [==============================] - 1s 4ms/step - loss: 0.3486 - accuracy: 0.8584 - val_loss: 0.4340 - val_accuracy: 0.8150\n",
            "Epoch 4/5\n",
            "215/215 [==============================] - 1s 4ms/step - loss: 0.2860 - accuracy: 0.8883 - val_loss: 0.4361 - val_accuracy: 0.8176\n",
            "Epoch 5/5\n",
            "215/215 [==============================] - 1s 4ms/step - loss: 0.2389 - accuracy: 0.9092 - val_loss: 0.4601 - val_accuracy: 0.7940\n"
          ]
        }
      ]
    },
    {
      "cell_type": "code",
      "source": [
        "#check the results\n",
        "model_1.evaluate(val_sentences, val_labels)"
      ],
      "metadata": {
        "colab": {
          "base_uri": "https://localhost:8080/"
        },
        "id": "Eb3VDnQUoCdn",
        "outputId": "bae81969-b4ce-45e6-f915-144c7b80ac42"
      },
      "execution_count": 42,
      "outputs": [
        {
          "output_type": "stream",
          "name": "stdout",
          "text": [
            "24/24 [==============================] - 0s 3ms/step - loss: 0.4601 - accuracy: 0.7940\n"
          ]
        },
        {
          "output_type": "execute_result",
          "data": {
            "text/plain": [
              "[0.46011093258857727, 0.7939632534980774]"
            ]
          },
          "metadata": {},
          "execution_count": 42
        }
      ]
    },
    {
      "cell_type": "code",
      "source": [
        "model_1_pred_probs = model_1.predict(val_sentences)\n",
        "model_1_pred_probs"
      ],
      "metadata": {
        "colab": {
          "base_uri": "https://localhost:8080/"
        },
        "id": "k6778pBuptaD",
        "outputId": "a83edf1b-b6df-40be-cfc6-60de6f9aa83e"
      },
      "execution_count": 43,
      "outputs": [
        {
          "output_type": "execute_result",
          "data": {
            "text/plain": [
              "array([[5.68793118e-02],\n",
              "       [6.90988421e-01],\n",
              "       [9.98193562e-01],\n",
              "       [1.18522897e-01],\n",
              "       [9.78440881e-01],\n",
              "       [6.46007210e-02],\n",
              "       [7.38340383e-03],\n",
              "       [1.97376102e-01],\n",
              "       [9.96243000e-01],\n",
              "       [9.82323229e-01],\n",
              "       [2.94226743e-02],\n",
              "       [2.17307672e-01],\n",
              "       [9.99538898e-01],\n",
              "       [6.42023087e-02],\n",
              "       [4.36827801e-02],\n",
              "       [5.33563852e-01],\n",
              "       [9.98392642e-01],\n",
              "       [2.65316844e-01],\n",
              "       [6.33162022e-01],\n",
              "       [4.78869826e-01],\n",
              "       [1.19367152e-01],\n",
              "       [3.29248637e-01],\n",
              "       [9.31547105e-01],\n",
              "       [5.82983077e-01],\n",
              "       [3.72290790e-01],\n",
              "       [9.98727739e-01],\n",
              "       [2.31619760e-01],\n",
              "       [3.02960090e-02],\n",
              "       [9.69763875e-01],\n",
              "       [9.99854684e-01],\n",
              "       [9.99255598e-01],\n",
              "       [1.71176910e-01],\n",
              "       [4.50929821e-01],\n",
              "       [3.24511006e-02],\n",
              "       [7.75086880e-02],\n",
              "       [9.69903827e-01],\n",
              "       [7.07242917e-03],\n",
              "       [3.84042948e-01],\n",
              "       [3.93359780e-01],\n",
              "       [5.69148995e-02],\n",
              "       [3.91622752e-01],\n",
              "       [9.63292897e-01],\n",
              "       [9.25353169e-01],\n",
              "       [3.29416633e-01],\n",
              "       [4.78198892e-03],\n",
              "       [5.18761948e-02],\n",
              "       [2.77228713e-01],\n",
              "       [9.97895598e-01],\n",
              "       [2.58084595e-01],\n",
              "       [2.62404561e-01],\n",
              "       [3.92295927e-01],\n",
              "       [9.66043532e-01],\n",
              "       [3.34231853e-01],\n",
              "       [1.89626262e-01],\n",
              "       [1.26194283e-01],\n",
              "       [7.68760359e-03],\n",
              "       [1.56460941e-01],\n",
              "       [1.40465409e-01],\n",
              "       [6.20561540e-01],\n",
              "       [9.47123468e-01],\n",
              "       [2.08738685e-01],\n",
              "       [7.22536147e-02],\n",
              "       [9.40554082e-01],\n",
              "       [9.99008238e-01],\n",
              "       [2.10017804e-02],\n",
              "       [9.99507904e-01],\n",
              "       [1.26039296e-01],\n",
              "       [9.75230932e-01],\n",
              "       [3.38207960e-01],\n",
              "       [4.56105359e-02],\n",
              "       [2.42237866e-01],\n",
              "       [1.01564296e-01],\n",
              "       [1.33299947e-01],\n",
              "       [2.51448482e-01],\n",
              "       [2.08401188e-01],\n",
              "       [9.67942834e-01],\n",
              "       [6.96537435e-01],\n",
              "       [9.98886168e-01],\n",
              "       [9.99285996e-01],\n",
              "       [9.63721752e-01],\n",
              "       [1.00695737e-01],\n",
              "       [3.76680605e-02],\n",
              "       [4.91456032e-01],\n",
              "       [8.24699700e-01],\n",
              "       [4.56721634e-01],\n",
              "       [7.21178889e-01],\n",
              "       [2.98515558e-02],\n",
              "       [9.73841369e-01],\n",
              "       [2.30810344e-01],\n",
              "       [9.45316851e-02],\n",
              "       [7.93114677e-02],\n",
              "       [2.40293398e-01],\n",
              "       [2.19930522e-02],\n",
              "       [3.99025716e-02],\n",
              "       [9.82362568e-01],\n",
              "       [1.09053522e-01],\n",
              "       [5.50635397e-01],\n",
              "       [5.21575212e-01],\n",
              "       [2.71451235e-01],\n",
              "       [8.29608440e-02],\n",
              "       [1.22905962e-01],\n",
              "       [2.54925042e-01],\n",
              "       [9.35948014e-01],\n",
              "       [4.48521748e-02],\n",
              "       [8.47409293e-02],\n",
              "       [7.28427172e-02],\n",
              "       [6.23878717e-01],\n",
              "       [6.33271560e-02],\n",
              "       [2.75387824e-01],\n",
              "       [1.56580105e-01],\n",
              "       [3.47759835e-02],\n",
              "       [8.24931741e-01],\n",
              "       [9.61278796e-01],\n",
              "       [2.75367826e-01],\n",
              "       [2.45549381e-02],\n",
              "       [5.65743029e-01],\n",
              "       [8.65724504e-01],\n",
              "       [9.70508397e-01],\n",
              "       [9.97622669e-01],\n",
              "       [4.23982441e-01],\n",
              "       [9.96395409e-01],\n",
              "       [1.33263037e-01],\n",
              "       [9.98293579e-01],\n",
              "       [9.97211397e-01],\n",
              "       [1.32570295e-02],\n",
              "       [5.26307404e-01],\n",
              "       [9.75364208e-01],\n",
              "       [5.08643210e-01],\n",
              "       [9.99391437e-01],\n",
              "       [8.46826971e-01],\n",
              "       [2.05833748e-01],\n",
              "       [9.66271281e-01],\n",
              "       [3.29141915e-01],\n",
              "       [6.33251071e-02],\n",
              "       [9.51610982e-01],\n",
              "       [1.32463291e-01],\n",
              "       [4.13476825e-01],\n",
              "       [9.99800384e-01],\n",
              "       [9.99819100e-01],\n",
              "       [2.48722911e-01],\n",
              "       [2.92736981e-02],\n",
              "       [8.92081857e-01],\n",
              "       [9.24611211e-01],\n",
              "       [8.30681503e-01],\n",
              "       [3.61198425e-01],\n",
              "       [8.98289382e-01],\n",
              "       [6.04376435e-01],\n",
              "       [2.12963149e-02],\n",
              "       [3.65481108e-01],\n",
              "       [7.20604463e-03],\n",
              "       [9.94117737e-01],\n",
              "       [4.93351638e-01],\n",
              "       [4.03303280e-03],\n",
              "       [9.49621618e-01],\n",
              "       [6.63785562e-02],\n",
              "       [7.27070943e-02],\n",
              "       [9.61279720e-02],\n",
              "       [4.19068336e-01],\n",
              "       [9.49256361e-01],\n",
              "       [3.45866472e-01],\n",
              "       [9.67159867e-01],\n",
              "       [9.97497261e-01],\n",
              "       [7.74794877e-01],\n",
              "       [1.20207526e-01],\n",
              "       [5.66618070e-02],\n",
              "       [3.28039020e-01],\n",
              "       [3.17248702e-01],\n",
              "       [2.94176992e-02],\n",
              "       [6.37462586e-02],\n",
              "       [6.62684500e-01],\n",
              "       [9.80644524e-01],\n",
              "       [3.40931505e-01],\n",
              "       [7.77884126e-02],\n",
              "       [9.13892686e-03],\n",
              "       [3.63985032e-01],\n",
              "       [4.32638004e-02],\n",
              "       [9.41565096e-01],\n",
              "       [8.94613862e-01],\n",
              "       [1.73348673e-02],\n",
              "       [8.48398864e-01],\n",
              "       [8.14150646e-02],\n",
              "       [8.19088340e-01],\n",
              "       [3.86034064e-02],\n",
              "       [5.12900412e-01],\n",
              "       [4.45307165e-01],\n",
              "       [2.59632543e-02],\n",
              "       [9.99272287e-01],\n",
              "       [7.98471570e-01],\n",
              "       [5.29753387e-01],\n",
              "       [9.07249823e-02],\n",
              "       [1.44567376e-03],\n",
              "       [2.64179230e-01],\n",
              "       [6.71555638e-01],\n",
              "       [7.90746734e-02],\n",
              "       [3.19493771e-01],\n",
              "       [2.44709805e-01],\n",
              "       [9.98203397e-01],\n",
              "       [6.33438587e-01],\n",
              "       [5.14420152e-01],\n",
              "       [8.56703147e-02],\n",
              "       [1.15976267e-01],\n",
              "       [9.99047220e-01],\n",
              "       [2.37261178e-03],\n",
              "       [3.06547955e-02],\n",
              "       [2.01983862e-02],\n",
              "       [9.08200920e-01],\n",
              "       [2.43453551e-02],\n",
              "       [5.30915976e-01],\n",
              "       [9.93559718e-01],\n",
              "       [1.13190729e-02],\n",
              "       [6.16330989e-02],\n",
              "       [4.99983840e-02],\n",
              "       [2.51470566e-01],\n",
              "       [4.54629451e-01],\n",
              "       [8.72006789e-02],\n",
              "       [9.44952071e-01],\n",
              "       [7.64868498e-01],\n",
              "       [9.60462913e-02],\n",
              "       [9.77704883e-01],\n",
              "       [6.76745892e-01],\n",
              "       [9.14493620e-01],\n",
              "       [5.25146127e-02],\n",
              "       [9.75402415e-01],\n",
              "       [1.92736924e-01],\n",
              "       [1.02966800e-01],\n",
              "       [1.12250626e-01],\n",
              "       [7.64068127e-01],\n",
              "       [9.96571302e-01],\n",
              "       [1.24837875e-01],\n",
              "       [4.37276512e-02],\n",
              "       [9.46426094e-01],\n",
              "       [7.74126828e-01],\n",
              "       [1.10162878e-02],\n",
              "       [9.09630418e-01],\n",
              "       [9.14931476e-01],\n",
              "       [6.08235598e-01],\n",
              "       [3.55161816e-01],\n",
              "       [1.46088311e-02],\n",
              "       [9.98024583e-01],\n",
              "       [3.40931505e-01],\n",
              "       [9.71778780e-02],\n",
              "       [1.72803819e-01],\n",
              "       [1.11426478e-02],\n",
              "       [2.21819773e-01],\n",
              "       [1.52469099e-01],\n",
              "       [3.09189688e-02],\n",
              "       [5.94965756e-01],\n",
              "       [1.15501657e-02],\n",
              "       [8.47760081e-01],\n",
              "       [4.21970636e-01],\n",
              "       [8.98285449e-01],\n",
              "       [6.37630224e-01],\n",
              "       [1.56946063e-01],\n",
              "       [5.47495410e-02],\n",
              "       [1.50156364e-01],\n",
              "       [1.40158668e-01],\n",
              "       [1.08275153e-01],\n",
              "       [1.21961599e-02],\n",
              "       [4.39310163e-01],\n",
              "       [8.86476815e-01],\n",
              "       [4.63028923e-02],\n",
              "       [9.92967129e-01],\n",
              "       [3.83253656e-02],\n",
              "       [5.08567970e-03],\n",
              "       [9.99485970e-01],\n",
              "       [2.82228023e-01],\n",
              "       [2.12648883e-01],\n",
              "       [1.20015703e-01],\n",
              "       [3.71650815e-01],\n",
              "       [9.06434774e-01],\n",
              "       [3.01031083e-01],\n",
              "       [8.48378614e-03],\n",
              "       [9.76739287e-01],\n",
              "       [1.87557146e-01],\n",
              "       [6.67039871e-01],\n",
              "       [9.88320589e-01],\n",
              "       [9.99804437e-01],\n",
              "       [4.26228106e-01],\n",
              "       [7.73356736e-01],\n",
              "       [7.96517953e-02],\n",
              "       [9.88449693e-01],\n",
              "       [3.78100842e-01],\n",
              "       [5.73807418e-01],\n",
              "       [1.77487507e-01],\n",
              "       [9.95136082e-01],\n",
              "       [5.02764940e-01],\n",
              "       [4.02257860e-01],\n",
              "       [8.32803547e-01],\n",
              "       [7.93187976e-01],\n",
              "       [8.09953332e-01],\n",
              "       [8.44657794e-02],\n",
              "       [3.40931505e-01],\n",
              "       [1.32319540e-01],\n",
              "       [6.41270220e-01],\n",
              "       [2.22375721e-01],\n",
              "       [9.81840789e-01],\n",
              "       [3.79693836e-01],\n",
              "       [4.18993235e-01],\n",
              "       [6.08647645e-01],\n",
              "       [9.99665856e-01],\n",
              "       [9.29928005e-01],\n",
              "       [5.14848121e-02],\n",
              "       [9.61341918e-01],\n",
              "       [9.98596370e-01],\n",
              "       [4.54131186e-01],\n",
              "       [8.97613466e-02],\n",
              "       [1.41859829e-01],\n",
              "       [3.22428972e-01],\n",
              "       [9.18378234e-01],\n",
              "       [9.06012654e-01],\n",
              "       [1.97837323e-01],\n",
              "       [2.33831137e-01],\n",
              "       [1.73669718e-02],\n",
              "       [3.86683136e-01],\n",
              "       [1.19446129e-01],\n",
              "       [9.63508412e-02],\n",
              "       [9.21965361e-01],\n",
              "       [2.14268014e-01],\n",
              "       [4.94537950e-01],\n",
              "       [2.46631987e-02],\n",
              "       [9.60721731e-01],\n",
              "       [3.09160203e-01],\n",
              "       [6.67932510e-01],\n",
              "       [8.11425924e-01],\n",
              "       [3.01320422e-02],\n",
              "       [2.57782310e-01],\n",
              "       [9.99426603e-01],\n",
              "       [9.45973873e-01],\n",
              "       [3.36060345e-01],\n",
              "       [3.13748032e-01],\n",
              "       [9.94117737e-01],\n",
              "       [6.08914793e-01],\n",
              "       [1.75117970e-01],\n",
              "       [1.21074766e-01],\n",
              "       [1.95362523e-01],\n",
              "       [6.25070557e-02],\n",
              "       [9.47905481e-02],\n",
              "       [1.94121912e-01],\n",
              "       [5.54684028e-02],\n",
              "       [4.15903814e-02],\n",
              "       [6.67533755e-01],\n",
              "       [9.97319043e-01],\n",
              "       [1.28957406e-01],\n",
              "       [9.10317123e-01],\n",
              "       [4.92252469e-01],\n",
              "       [3.69728021e-02],\n",
              "       [3.74463290e-01],\n",
              "       [2.26853043e-01],\n",
              "       [9.94729996e-01],\n",
              "       [7.59789169e-01],\n",
              "       [8.76113400e-02],\n",
              "       [9.84799743e-01],\n",
              "       [7.55806029e-01],\n",
              "       [1.04590558e-01],\n",
              "       [7.84234554e-02],\n",
              "       [1.87319130e-01],\n",
              "       [2.45962813e-01],\n",
              "       [2.62704343e-01],\n",
              "       [6.83226585e-01],\n",
              "       [9.46852207e-01],\n",
              "       [6.67039871e-01],\n",
              "       [2.65987635e-01],\n",
              "       [8.48962218e-02],\n",
              "       [1.90375403e-01],\n",
              "       [9.96697664e-01],\n",
              "       [9.90279257e-01],\n",
              "       [9.54534233e-01],\n",
              "       [6.95795119e-01],\n",
              "       [2.62010545e-01],\n",
              "       [4.42821294e-01],\n",
              "       [6.28239810e-01],\n",
              "       [2.50554327e-02],\n",
              "       [9.98280764e-01],\n",
              "       [9.93138850e-01],\n",
              "       [1.47652134e-01],\n",
              "       [1.53077364e-01],\n",
              "       [2.94613928e-01],\n",
              "       [1.18546896e-01],\n",
              "       [9.27826464e-01],\n",
              "       [9.96412575e-01],\n",
              "       [9.79323268e-01],\n",
              "       [3.48846763e-02],\n",
              "       [1.87041648e-02],\n",
              "       [4.95736659e-01],\n",
              "       [9.97319043e-01],\n",
              "       [8.10392946e-02],\n",
              "       [9.56119359e-01],\n",
              "       [9.99876857e-01],\n",
              "       [1.31256804e-01],\n",
              "       [9.84540164e-01],\n",
              "       [9.91594255e-01],\n",
              "       [6.21669888e-01],\n",
              "       [1.36925742e-01],\n",
              "       [1.19100101e-01],\n",
              "       [6.28327113e-03],\n",
              "       [1.88421719e-02],\n",
              "       [7.30461478e-01],\n",
              "       [9.91712809e-01],\n",
              "       [3.57103974e-01],\n",
              "       [4.90100607e-02],\n",
              "       [1.17895314e-02],\n",
              "       [5.17030917e-02],\n",
              "       [9.09035504e-02],\n",
              "       [6.86838388e-01],\n",
              "       [9.60594654e-01],\n",
              "       [4.41197872e-01],\n",
              "       [1.14330966e-02],\n",
              "       [4.32095863e-02],\n",
              "       [3.35299492e-01],\n",
              "       [2.92809486e-01],\n",
              "       [2.51754940e-01],\n",
              "       [4.12076771e-01],\n",
              "       [9.95985568e-01],\n",
              "       [1.79512382e-01],\n",
              "       [9.40773934e-02],\n",
              "       [1.24176301e-01],\n",
              "       [5.94993889e-01],\n",
              "       [4.17806506e-01],\n",
              "       [9.98596370e-01],\n",
              "       [9.00442004e-01],\n",
              "       [4.82085198e-02],\n",
              "       [2.31043473e-01],\n",
              "       [1.05279326e-01],\n",
              "       [9.89829242e-01],\n",
              "       [1.42977744e-01],\n",
              "       [1.85859412e-01],\n",
              "       [7.78100252e-01],\n",
              "       [9.76464972e-02],\n",
              "       [5.75239696e-02],\n",
              "       [4.81894255e-01],\n",
              "       [8.93906415e-01],\n",
              "       [3.97858500e-01],\n",
              "       [3.03759098e-01],\n",
              "       [4.37510967e-01],\n",
              "       [6.42552614e-01],\n",
              "       [9.24343228e-01],\n",
              "       [9.80695784e-01],\n",
              "       [8.27643633e-01],\n",
              "       [4.01911169e-01],\n",
              "       [2.46372357e-01],\n",
              "       [2.29121163e-01],\n",
              "       [8.39360237e-01],\n",
              "       [4.77172136e-02],\n",
              "       [6.23410881e-01],\n",
              "       [2.78274477e-01],\n",
              "       [4.12782609e-01],\n",
              "       [3.79876047e-01],\n",
              "       [2.96619356e-01],\n",
              "       [3.12512994e-01],\n",
              "       [9.86283779e-01],\n",
              "       [2.34008819e-01],\n",
              "       [5.00265419e-01],\n",
              "       [6.86248958e-01],\n",
              "       [2.72206962e-01],\n",
              "       [1.71514854e-01],\n",
              "       [6.48116708e-01],\n",
              "       [9.95882034e-01],\n",
              "       [2.94391841e-01],\n",
              "       [5.36664605e-01],\n",
              "       [8.51086736e-01],\n",
              "       [5.43133356e-02],\n",
              "       [8.02872658e-01],\n",
              "       [4.46264036e-02],\n",
              "       [8.18242371e-01],\n",
              "       [7.81248927e-01],\n",
              "       [5.53236492e-02],\n",
              "       [3.43338549e-01],\n",
              "       [6.39524043e-01],\n",
              "       [4.95736659e-01],\n",
              "       [5.37196621e-02],\n",
              "       [7.61216700e-01],\n",
              "       [2.14044545e-02],\n",
              "       [6.57268316e-02],\n",
              "       [6.17768206e-02],\n",
              "       [6.26922250e-01],\n",
              "       [1.85917646e-01],\n",
              "       [9.86381531e-01],\n",
              "       [7.77057000e-03],\n",
              "       [1.93858594e-01],\n",
              "       [9.99612510e-01],\n",
              "       [2.06461087e-01],\n",
              "       [7.42226988e-02],\n",
              "       [7.24672899e-02],\n",
              "       [8.18099976e-01],\n",
              "       [5.21903396e-01],\n",
              "       [6.15903139e-01],\n",
              "       [2.16672160e-02],\n",
              "       [8.14373046e-02],\n",
              "       [5.76454818e-01],\n",
              "       [7.27097737e-04],\n",
              "       [7.53200129e-02],\n",
              "       [9.76613820e-01],\n",
              "       [9.36033130e-01],\n",
              "       [1.25094265e-01],\n",
              "       [2.78181434e-01],\n",
              "       [9.10310626e-01],\n",
              "       [8.56720090e-01],\n",
              "       [3.71632844e-01],\n",
              "       [7.21948445e-01],\n",
              "       [7.67239153e-01],\n",
              "       [9.99494195e-01],\n",
              "       [4.44401689e-02],\n",
              "       [1.11408748e-01],\n",
              "       [1.79787946e-03],\n",
              "       [9.02718961e-01],\n",
              "       [1.09747155e-02],\n",
              "       [5.84486306e-01],\n",
              "       [9.80699241e-01],\n",
              "       [7.80639470e-01],\n",
              "       [4.06578332e-01],\n",
              "       [9.99594033e-01],\n",
              "       [8.07594284e-02],\n",
              "       [5.35736918e-01],\n",
              "       [8.04547444e-02],\n",
              "       [1.31004080e-01],\n",
              "       [9.99688983e-01],\n",
              "       [9.78755057e-01],\n",
              "       [2.20346987e-01],\n",
              "       [4.78947252e-01],\n",
              "       [2.14693978e-01],\n",
              "       [9.99869466e-01],\n",
              "       [1.77714657e-02],\n",
              "       [2.53671736e-01],\n",
              "       [3.76680605e-02],\n",
              "       [1.95010707e-01],\n",
              "       [1.37260213e-01],\n",
              "       [9.33345020e-01],\n",
              "       [2.47945905e-01],\n",
              "       [6.51607513e-02],\n",
              "       [9.97174144e-01],\n",
              "       [1.43084690e-01],\n",
              "       [6.20654318e-03],\n",
              "       [9.96325552e-01],\n",
              "       [1.23207107e-01],\n",
              "       [5.78386709e-02],\n",
              "       [9.88114834e-01],\n",
              "       [4.64868307e-01],\n",
              "       [9.55818057e-01],\n",
              "       [9.98724043e-01],\n",
              "       [6.61918283e-01],\n",
              "       [4.87585664e-02],\n",
              "       [9.43786561e-01],\n",
              "       [2.43569985e-01],\n",
              "       [7.36316945e-03],\n",
              "       [9.64227200e-01],\n",
              "       [4.57462482e-02],\n",
              "       [1.12672038e-01],\n",
              "       [1.74750999e-01],\n",
              "       [5.61311781e-01],\n",
              "       [1.46780521e-01],\n",
              "       [2.25601420e-02],\n",
              "       [9.99679804e-01],\n",
              "       [9.99544561e-01],\n",
              "       [9.60265219e-01],\n",
              "       [7.71200597e-01],\n",
              "       [8.73420835e-01],\n",
              "       [9.53736782e-01],\n",
              "       [8.67768526e-01],\n",
              "       [4.17907625e-01],\n",
              "       [6.81097627e-01],\n",
              "       [8.64139140e-01],\n",
              "       [3.06710660e-01],\n",
              "       [8.06239545e-01],\n",
              "       [9.05179307e-02],\n",
              "       [1.37519017e-02],\n",
              "       [1.53435767e-01],\n",
              "       [5.99679463e-02],\n",
              "       [9.50502455e-01],\n",
              "       [5.29329292e-02],\n",
              "       [2.06569433e-01],\n",
              "       [8.76570404e-01],\n",
              "       [2.35201078e-04],\n",
              "       [7.50702560e-01],\n",
              "       [9.83929411e-02],\n",
              "       [4.63020802e-01],\n",
              "       [9.99494195e-01],\n",
              "       [4.99075130e-02],\n",
              "       [9.43786561e-01],\n",
              "       [9.99255598e-01],\n",
              "       [1.33590415e-01],\n",
              "       [8.56379151e-01],\n",
              "       [9.91712809e-01],\n",
              "       [9.14949536e-01],\n",
              "       [3.34742665e-01],\n",
              "       [5.45064569e-01],\n",
              "       [3.04038018e-01],\n",
              "       [1.18149251e-01],\n",
              "       [1.33287430e-01],\n",
              "       [9.96077597e-01],\n",
              "       [9.93637443e-01],\n",
              "       [2.49677062e-01],\n",
              "       [7.09732056e-01],\n",
              "       [9.33653712e-01],\n",
              "       [4.19494659e-01],\n",
              "       [8.56679320e-01],\n",
              "       [1.57902241e-01],\n",
              "       [7.67740548e-01],\n",
              "       [3.95290703e-01],\n",
              "       [1.00463711e-01],\n",
              "       [1.47175431e-01],\n",
              "       [9.69389454e-02],\n",
              "       [9.90349293e-01],\n",
              "       [9.99507904e-01],\n",
              "       [8.87738705e-01],\n",
              "       [5.36196887e-01],\n",
              "       [1.26233503e-01],\n",
              "       [1.95838407e-01],\n",
              "       [3.79715234e-01],\n",
              "       [7.55375981e-01],\n",
              "       [1.13587845e-02],\n",
              "       [7.35523760e-01],\n",
              "       [5.22354245e-01],\n",
              "       [6.76564038e-01],\n",
              "       [2.42430493e-01],\n",
              "       [3.03597259e-03],\n",
              "       [1.38823822e-01],\n",
              "       [3.08969527e-01],\n",
              "       [3.93845141e-02],\n",
              "       [9.34532762e-01],\n",
              "       [3.09220225e-01],\n",
              "       [4.06420916e-01],\n",
              "       [2.82402396e-01],\n",
              "       [2.73417741e-01],\n",
              "       [3.11394269e-03],\n",
              "       [9.99433458e-01],\n",
              "       [1.20511353e-01],\n",
              "       [6.13279104e-01],\n",
              "       [9.98332202e-01],\n",
              "       [9.91753221e-01],\n",
              "       [3.21386576e-01],\n",
              "       [1.30134210e-01],\n",
              "       [7.12687612e-01],\n",
              "       [8.85124028e-01],\n",
              "       [7.07253098e-01],\n",
              "       [2.80704111e-01],\n",
              "       [1.43871546e-01],\n",
              "       [6.08143985e-01],\n",
              "       [3.38627726e-01],\n",
              "       [1.12876236e-01],\n",
              "       [2.58520335e-01],\n",
              "       [8.62098694e-01],\n",
              "       [7.73424581e-02],\n",
              "       [9.96180326e-02],\n",
              "       [6.18150115e-01],\n",
              "       [3.46747816e-01],\n",
              "       [9.97273624e-01],\n",
              "       [1.87593296e-01],\n",
              "       [5.20075023e-01],\n",
              "       [7.88136274e-02],\n",
              "       [1.09110931e-02],\n",
              "       [4.61600661e-01],\n",
              "       [7.67239153e-01],\n",
              "       [2.38631014e-02],\n",
              "       [4.54386443e-01],\n",
              "       [5.38084507e-01],\n",
              "       [2.12151721e-01],\n",
              "       [7.73303449e-01],\n",
              "       [9.99933600e-01],\n",
              "       [9.99898911e-01],\n",
              "       [3.17447394e-01],\n",
              "       [8.77232373e-01],\n",
              "       [4.53274734e-02],\n",
              "       [3.12512994e-01],\n",
              "       [3.40764612e-01],\n",
              "       [4.90085900e-01],\n",
              "       [5.63164726e-02],\n",
              "       [4.49562147e-02],\n",
              "       [4.21214849e-01],\n",
              "       [3.55201840e-01],\n",
              "       [9.84105766e-01],\n",
              "       [7.32391953e-01],\n",
              "       [9.98818815e-01],\n",
              "       [1.42524049e-01],\n",
              "       [3.53440195e-02],\n",
              "       [9.34506059e-02],\n",
              "       [6.42780215e-02],\n",
              "       [4.49098945e-01],\n",
              "       [9.99347508e-01],\n",
              "       [9.96462762e-01],\n",
              "       [3.74001451e-02],\n",
              "       [5.16149521e-01],\n",
              "       [2.83374459e-01],\n",
              "       [9.42228809e-02],\n",
              "       [1.82334080e-01],\n",
              "       [7.09953487e-01],\n",
              "       [1.26082394e-02],\n",
              "       [5.64124823e-01],\n",
              "       [1.98585615e-01],\n",
              "       [5.20148516e-01],\n",
              "       [9.76611257e-01],\n",
              "       [3.77156973e-01],\n",
              "       [5.68443656e-01],\n",
              "       [1.19844407e-01],\n",
              "       [5.59236825e-01],\n",
              "       [1.28223270e-01],\n",
              "       [9.99669433e-01],\n",
              "       [5.63164726e-02],\n",
              "       [1.75554171e-01],\n",
              "       [2.16868907e-01],\n",
              "       [3.51422340e-01],\n",
              "       [2.07290158e-01],\n",
              "       [2.15755001e-01],\n",
              "       [9.04537290e-02],\n",
              "       [1.89254433e-01],\n",
              "       [5.70165873e-01],\n",
              "       [2.07373574e-01],\n",
              "       [3.06400567e-01],\n",
              "       [6.48039103e-01],\n",
              "       [9.56189334e-01],\n",
              "       [8.96284699e-01],\n",
              "       [7.99645260e-02],\n",
              "       [8.38589445e-02],\n",
              "       [9.98193562e-01],\n",
              "       [5.08692503e-01],\n",
              "       [8.66481125e-01],\n",
              "       [1.91015080e-01],\n",
              "       [3.97354662e-02],\n",
              "       [4.99944314e-02],\n",
              "       [2.87289858e-01],\n",
              "       [8.96985173e-01],\n",
              "       [9.98083711e-01],\n",
              "       [2.64234304e-01],\n",
              "       [9.96835887e-01],\n",
              "       [7.67239153e-01],\n",
              "       [2.03456178e-01],\n",
              "       [4.53934312e-01],\n",
              "       [1.18626401e-01],\n",
              "       [3.54817696e-02],\n",
              "       [2.15126872e-01],\n",
              "       [4.77947086e-01],\n",
              "       [3.36259544e-01],\n",
              "       [8.21950018e-01],\n",
              "       [9.41688597e-01],\n",
              "       [2.67591029e-01],\n",
              "       [1.01744048e-01],\n",
              "       [9.37926173e-01],\n",
              "       [7.89415598e-01],\n",
              "       [2.35454783e-01],\n",
              "       [1.38425022e-01],\n",
              "       [5.26727200e-01],\n",
              "       [9.78689015e-01],\n",
              "       [7.32539669e-02],\n",
              "       [7.54595816e-01],\n",
              "       [3.45189869e-02],\n",
              "       [8.69143158e-02],\n",
              "       [2.19938010e-01],\n",
              "       [6.01656079e-01],\n",
              "       [2.17804350e-02],\n",
              "       [2.95214150e-02],\n",
              "       [3.14920813e-01],\n",
              "       [9.99414563e-01],\n",
              "       [9.92722213e-01],\n",
              "       [9.98947442e-01],\n",
              "       [2.65889883e-01],\n",
              "       [1.17800534e-01],\n",
              "       [1.30556747e-02],\n",
              "       [7.16571510e-01],\n",
              "       [9.71474528e-01],\n",
              "       [7.19090402e-02],\n",
              "       [9.76658285e-01],\n",
              "       [9.99688983e-01],\n",
              "       [4.83530574e-02]], dtype=float32)"
            ]
          },
          "metadata": {},
          "execution_count": 43
        }
      ]
    },
    {
      "cell_type": "code",
      "source": [
        "model_1_pred_probs[0]"
      ],
      "metadata": {
        "colab": {
          "base_uri": "https://localhost:8080/"
        },
        "id": "lO_6RbS5p0hl",
        "outputId": "41684cea-41ff-472d-96b1-ba245c8396d5"
      },
      "execution_count": 44,
      "outputs": [
        {
          "output_type": "execute_result",
          "data": {
            "text/plain": [
              "array([0.05687931], dtype=float32)"
            ]
          },
          "metadata": {},
          "execution_count": 44
        }
      ]
    },
    {
      "cell_type": "code",
      "source": [
        "model_1_pred_probs.shape"
      ],
      "metadata": {
        "colab": {
          "base_uri": "https://localhost:8080/"
        },
        "id": "Np19ljwYp2bG",
        "outputId": "344418a8-d769-4462-f83e-51201a6b969d"
      },
      "execution_count": 45,
      "outputs": [
        {
          "output_type": "execute_result",
          "data": {
            "text/plain": [
              "(762, 1)"
            ]
          },
          "metadata": {},
          "execution_count": 45
        }
      ]
    },
    {
      "cell_type": "code",
      "source": [
        "model_1_pred_probs[:10]"
      ],
      "metadata": {
        "colab": {
          "base_uri": "https://localhost:8080/"
        },
        "id": "FEe-BvFHp6fc",
        "outputId": "d70bc08b-1e18-4f5b-8882-11a536d4ecb3"
      },
      "execution_count": 46,
      "outputs": [
        {
          "output_type": "execute_result",
          "data": {
            "text/plain": [
              "array([[0.05687931],\n",
              "       [0.6909884 ],\n",
              "       [0.99819356],\n",
              "       [0.1185229 ],\n",
              "       [0.9784409 ],\n",
              "       [0.06460072],\n",
              "       [0.0073834 ],\n",
              "       [0.1973761 ],\n",
              "       [0.996243  ],\n",
              "       [0.9823232 ]], dtype=float32)"
            ]
          },
          "metadata": {},
          "execution_count": 46
        }
      ]
    },
    {
      "cell_type": "code",
      "source": [
        "model_1_preds = tf.squeeze(tf.round(model_1_pred_probs))\n",
        "model_1_preds"
      ],
      "metadata": {
        "colab": {
          "base_uri": "https://localhost:8080/"
        },
        "id": "mDgsBmSZqyqX",
        "outputId": "a91ec155-325c-432e-ddc4-1428d8719107"
      },
      "execution_count": 47,
      "outputs": [
        {
          "output_type": "execute_result",
          "data": {
            "text/plain": [
              "<tf.Tensor: shape=(762,), dtype=float32, numpy=\n",
              "array([0., 1., 1., 0., 1., 0., 0., 0., 1., 1., 0., 0., 1., 0., 0., 1., 1.,\n",
              "       0., 1., 0., 0., 0., 1., 1., 0., 1., 0., 0., 1., 1., 1., 0., 0., 0.,\n",
              "       0., 1., 0., 0., 0., 0., 0., 1., 1., 0., 0., 0., 0., 1., 0., 0., 0.,\n",
              "       1., 0., 0., 0., 0., 0., 0., 1., 1., 0., 0., 1., 1., 0., 1., 0., 1.,\n",
              "       0., 0., 0., 0., 0., 0., 0., 1., 1., 1., 1., 1., 0., 0., 0., 1., 0.,\n",
              "       1., 0., 1., 0., 0., 0., 0., 0., 0., 1., 0., 1., 1., 0., 0., 0., 0.,\n",
              "       1., 0., 0., 0., 1., 0., 0., 0., 0., 1., 1., 0., 0., 1., 1., 1., 1.,\n",
              "       0., 1., 0., 1., 1., 0., 1., 1., 1., 1., 1., 0., 1., 0., 0., 1., 0.,\n",
              "       0., 1., 1., 0., 0., 1., 1., 1., 0., 1., 1., 0., 0., 0., 1., 0., 0.,\n",
              "       1., 0., 0., 0., 0., 1., 0., 1., 1., 1., 0., 0., 0., 0., 0., 0., 1.,\n",
              "       1., 0., 0., 0., 0., 0., 1., 1., 0., 1., 0., 1., 0., 1., 0., 0., 1.,\n",
              "       1., 1., 0., 0., 0., 1., 0., 0., 0., 1., 1., 1., 0., 0., 1., 0., 0.,\n",
              "       0., 1., 0., 1., 1., 0., 0., 0., 0., 0., 0., 1., 1., 0., 1., 1., 1.,\n",
              "       0., 1., 0., 0., 0., 1., 1., 0., 0., 1., 1., 0., 1., 1., 1., 0., 0.,\n",
              "       1., 0., 0., 0., 0., 0., 0., 0., 1., 0., 1., 0., 1., 1., 0., 0., 0.,\n",
              "       0., 0., 0., 0., 1., 0., 1., 0., 0., 1., 0., 0., 0., 0., 1., 0., 0.,\n",
              "       1., 0., 1., 1., 1., 0., 1., 0., 1., 0., 1., 0., 1., 1., 0., 1., 1.,\n",
              "       1., 0., 0., 0., 1., 0., 1., 0., 0., 1., 1., 1., 0., 1., 1., 0., 0.,\n",
              "       0., 0., 1., 1., 0., 0., 0., 0., 0., 0., 1., 0., 0., 0., 1., 0., 1.,\n",
              "       1., 0., 0., 1., 1., 0., 0., 1., 1., 0., 0., 0., 0., 0., 0., 0., 0.,\n",
              "       1., 1., 0., 1., 0., 0., 0., 0., 1., 1., 0., 1., 1., 0., 0., 0., 0.,\n",
              "       0., 1., 1., 1., 0., 0., 0., 1., 1., 1., 1., 0., 0., 1., 0., 1., 1.,\n",
              "       0., 0., 0., 0., 1., 1., 1., 0., 0., 0., 1., 0., 1., 1., 0., 1., 1.,\n",
              "       1., 0., 0., 0., 0., 1., 1., 0., 0., 0., 0., 0., 1., 1., 0., 0., 0.,\n",
              "       0., 0., 0., 0., 1., 0., 0., 0., 1., 0., 1., 1., 0., 0., 0., 1., 0.,\n",
              "       0., 1., 0., 0., 0., 1., 0., 0., 0., 1., 1., 1., 1., 0., 0., 0., 1.,\n",
              "       0., 1., 0., 0., 0., 0., 0., 1., 0., 1., 1., 0., 0., 1., 1., 0., 1.,\n",
              "       1., 0., 1., 0., 1., 1., 0., 0., 1., 0., 0., 1., 0., 0., 0., 1., 0.,\n",
              "       1., 0., 0., 1., 0., 0., 0., 1., 1., 1., 0., 0., 1., 0., 0., 1., 1.,\n",
              "       0., 0., 1., 1., 0., 1., 1., 1., 0., 0., 0., 1., 0., 1., 1., 1., 0.,\n",
              "       1., 0., 1., 0., 0., 1., 1., 0., 0., 0., 1., 0., 0., 0., 0., 0., 1.,\n",
              "       0., 0., 1., 0., 0., 1., 0., 0., 1., 0., 1., 1., 1., 0., 1., 0., 0.,\n",
              "       1., 0., 0., 0., 1., 0., 0., 1., 1., 1., 1., 1., 1., 1., 0., 1., 1.,\n",
              "       0., 1., 0., 0., 0., 0., 1., 0., 0., 1., 0., 1., 0., 0., 1., 0., 1.,\n",
              "       1., 0., 1., 1., 1., 0., 1., 0., 0., 0., 1., 1., 0., 1., 1., 0., 1.,\n",
              "       0., 1., 0., 0., 0., 0., 1., 1., 1., 1., 0., 0., 0., 1., 0., 1., 1.,\n",
              "       1., 0., 0., 0., 0., 0., 1., 0., 0., 0., 0., 0., 1., 0., 1., 1., 1.,\n",
              "       0., 0., 1., 1., 1., 0., 0., 1., 0., 0., 0., 1., 0., 0., 1., 0., 1.,\n",
              "       0., 1., 0., 0., 0., 1., 0., 0., 1., 0., 1., 1., 1., 0., 1., 0., 0.,\n",
              "       0., 0., 0., 0., 0., 0., 1., 1., 1., 0., 0., 0., 0., 0., 1., 1., 0.,\n",
              "       1., 0., 0., 0., 1., 0., 1., 0., 1., 1., 0., 1., 0., 1., 0., 1., 0.,\n",
              "       0., 0., 0., 0., 0., 0., 0., 1., 0., 0., 1., 1., 1., 0., 0., 1., 1.,\n",
              "       1., 0., 0., 0., 0., 1., 1., 0., 1., 1., 0., 0., 0., 0., 0., 0., 0.,\n",
              "       1., 1., 0., 0., 1., 1., 0., 0., 1., 1., 0., 1., 0., 0., 0., 1., 0.,\n",
              "       0., 0., 1., 1., 1., 0., 0., 0., 1., 1., 0., 1., 1., 0.],\n",
              "      dtype=float32)>"
            ]
          },
          "metadata": {},
          "execution_count": 47
        }
      ]
    },
    {
      "cell_type": "code",
      "source": [
        "#Calculate model_1 results\n",
        "model_1_results = calculate_results(y_true=val_labels,\n",
        "                                    y_pred=model_1_preds)\n",
        "model_1_results"
      ],
      "metadata": {
        "colab": {
          "base_uri": "https://localhost:8080/"
        },
        "id": "8DdOmAB8rAmf",
        "outputId": "94b9ba1b-fbbb-45a5-e635-813521e05e59"
      },
      "execution_count": 48,
      "outputs": [
        {
          "output_type": "execute_result",
          "data": {
            "text/plain": [
              "{'accuracy': 79.39632545931758,\n",
              " 'f1': 0.7936549291543362,\n",
              " 'precision': 0.7934825934657364,\n",
              " 'recall': 0.7939632545931758}"
            ]
          },
          "metadata": {},
          "execution_count": 48
        }
      ]
    },
    {
      "cell_type": "code",
      "source": [
        "baseline_results = text_vectorizer.get_vocabulary()\n",
        "len(words_in_vocab), words_in_vocab[:10]"
      ],
      "metadata": {
        "colab": {
          "base_uri": "https://localhost:8080/"
        },
        "id": "No8ERIEFrNVR",
        "outputId": "3c578e5d-6d12-4cd1-fd36-e370fb5df213"
      },
      "execution_count": 49,
      "outputs": [
        {
          "output_type": "execute_result",
          "data": {
            "text/plain": [
              "(10000, ['', '[UNK]', 'the', 'a', 'in', 'to', 'of', 'and', 'i', 'is'])"
            ]
          },
          "metadata": {},
          "execution_count": 49
        }
      ]
    },
    {
      "cell_type": "code",
      "source": [
        "words_in_vocab"
      ],
      "metadata": {
        "colab": {
          "base_uri": "https://localhost:8080/"
        },
        "id": "6ZH2gk7xrOSO",
        "outputId": "0bae3561-59ed-4e9c-f3e8-cc35881bc7f7"
      },
      "execution_count": 50,
      "outputs": [
        {
          "output_type": "execute_result",
          "data": {
            "text/plain": [
              "['',\n",
              " '[UNK]',\n",
              " 'the',\n",
              " 'a',\n",
              " 'in',\n",
              " 'to',\n",
              " 'of',\n",
              " 'and',\n",
              " 'i',\n",
              " 'is',\n",
              " 'for',\n",
              " 'on',\n",
              " 'you',\n",
              " 'my',\n",
              " 'with',\n",
              " 'it',\n",
              " 'that',\n",
              " 'at',\n",
              " 'by',\n",
              " 'this',\n",
              " 'from',\n",
              " 'be',\n",
              " 'are',\n",
              " 'was',\n",
              " 'have',\n",
              " 'like',\n",
              " 'me',\n",
              " 'as',\n",
              " 'up',\n",
              " 'just',\n",
              " 'but',\n",
              " 'so',\n",
              " 'im',\n",
              " 'not',\n",
              " 'amp',\n",
              " 'your',\n",
              " 'out',\n",
              " 'its',\n",
              " 'all',\n",
              " 'will',\n",
              " 'after',\n",
              " 'no',\n",
              " 'fire',\n",
              " 'has',\n",
              " 'an',\n",
              " 'when',\n",
              " 'if',\n",
              " 'get',\n",
              " 'now',\n",
              " 'we',\n",
              " 'about',\n",
              " 'new',\n",
              " 'via',\n",
              " 'more',\n",
              " 'or',\n",
              " 'people',\n",
              " 'what',\n",
              " 'news',\n",
              " 'one',\n",
              " 'how',\n",
              " 'he',\n",
              " 'they',\n",
              " 'over',\n",
              " 'dont',\n",
              " 'been',\n",
              " 'who',\n",
              " 'into',\n",
              " 'video',\n",
              " 'were',\n",
              " 'do',\n",
              " 'can',\n",
              " '2',\n",
              " 'us',\n",
              " 'disaster',\n",
              " 'emergency',\n",
              " 'there',\n",
              " 'police',\n",
              " 'than',\n",
              " 'would',\n",
              " 'still',\n",
              " 'his',\n",
              " 'some',\n",
              " 'her',\n",
              " 'body',\n",
              " 'burning',\n",
              " 'storm',\n",
              " 'crash',\n",
              " 'back',\n",
              " 'had',\n",
              " 'suicide',\n",
              " 'man',\n",
              " 'why',\n",
              " 'know',\n",
              " 'got',\n",
              " 'them',\n",
              " 'buildings',\n",
              " 'world',\n",
              " 'time',\n",
              " 'off',\n",
              " 'see',\n",
              " 'california',\n",
              " 'first',\n",
              " 'day',\n",
              " 'rt',\n",
              " 'bomb',\n",
              " 'youtube',\n",
              " 'cant',\n",
              " 'love',\n",
              " 'nuclear',\n",
              " 'going',\n",
              " 'their',\n",
              " 'dead',\n",
              " 'two',\n",
              " 'train',\n",
              " 'killed',\n",
              " 'go',\n",
              " 'attack',\n",
              " 'our',\n",
              " '3',\n",
              " 'today',\n",
              " 'good',\n",
              " 'fires',\n",
              " 'car',\n",
              " 'full',\n",
              " 'hiroshima',\n",
              " 'families',\n",
              " 'being',\n",
              " 'say',\n",
              " 'may',\n",
              " 'many',\n",
              " 'here',\n",
              " 'think',\n",
              " 'only',\n",
              " 'accident',\n",
              " 'years',\n",
              " 'life',\n",
              " 'u',\n",
              " 'last',\n",
              " 'could',\n",
              " 'watch',\n",
              " 'war',\n",
              " 'down',\n",
              " 'did',\n",
              " 'home',\n",
              " 'collapse',\n",
              " 'want',\n",
              " 'too',\n",
              " 'then',\n",
              " 'look',\n",
              " 'work',\n",
              " 'because',\n",
              " 'way',\n",
              " 'lol',\n",
              " 'even',\n",
              " 'make',\n",
              " 'best',\n",
              " 'army',\n",
              " 'year',\n",
              " 'mh370',\n",
              " 'help',\n",
              " 'wildfire',\n",
              " 'really',\n",
              " 'pm',\n",
              " 'need',\n",
              " 'him',\n",
              " 'bombing',\n",
              " 'am',\n",
              " 'youre',\n",
              " 'take',\n",
              " 'school',\n",
              " 'please',\n",
              " 'another',\n",
              " '4',\n",
              " 'let',\n",
              " 'those',\n",
              " 'should',\n",
              " 'great',\n",
              " 'right',\n",
              " 'obama',\n",
              " 'hot',\n",
              " 'fatal',\n",
              " 'death',\n",
              " 'forest',\n",
              " 'bomber',\n",
              " 'black',\n",
              " 'northern',\n",
              " 'much',\n",
              " 'mass',\n",
              " 'live',\n",
              " '\\x89Û',\n",
              " 'water',\n",
              " 'old',\n",
              " 'legionnaires',\n",
              " '1',\n",
              " 'wreck',\n",
              " 'thats',\n",
              " 'getting',\n",
              " 'flood',\n",
              " 'every',\n",
              " '5',\n",
              " '2015',\n",
              " 'she',\n",
              " 'read',\n",
              " 'latest',\n",
              " 'homes',\n",
              " 'come',\n",
              " 'where',\n",
              " 'under',\n",
              " 'never',\n",
              " 'hit',\n",
              " 'god',\n",
              " 'flames',\n",
              " 'ever',\n",
              " 'said',\n",
              " 's',\n",
              " 'feel',\n",
              " 'damage',\n",
              " 'content',\n",
              " 'atomic',\n",
              " 'any',\n",
              " 'well',\n",
              " 'weather',\n",
              " 'top',\n",
              " 'oil',\n",
              " 'near',\n",
              " 'while',\n",
              " 'shit',\n",
              " 'night',\n",
              " 'coming',\n",
              " 'city',\n",
              " 'before',\n",
              " 'ass',\n",
              " 'these',\n",
              " 'since',\n",
              " 'military',\n",
              " 'japan',\n",
              " 'during',\n",
              " 'truck',\n",
              " 'smoke',\n",
              " 'floods',\n",
              " 'fear',\n",
              " 'cause',\n",
              " 'most',\n",
              " 'little',\n",
              " 'face',\n",
              " 'everyone',\n",
              " 'without',\n",
              " 'movie',\n",
              " 'malaysia',\n",
              " 'injured',\n",
              " 'hope',\n",
              " 'cross',\n",
              " 'check',\n",
              " 'times',\n",
              " 'set',\n",
              " 'plan',\n",
              " 'next',\n",
              " 'looks',\n",
              " 'lightning',\n",
              " 'evacuation',\n",
              " 'debris',\n",
              " 'confirmed',\n",
              " 'weapon',\n",
              " 'thunderstorm',\n",
              " 'through',\n",
              " 'state',\n",
              " 'liked',\n",
              " 'hes',\n",
              " 'fucking',\n",
              " 'flooding',\n",
              " 'earthquake',\n",
              " 'w',\n",
              " 'trapped',\n",
              " 'sinking',\n",
              " 'reddit',\n",
              " 'natural',\n",
              " 'high',\n",
              " 'heat',\n",
              " 'food',\n",
              " 'fall',\n",
              " 'bad',\n",
              " 'always',\n",
              " 'also',\n",
              " 'wounded',\n",
              " 'weapons',\n",
              " 'thunder',\n",
              " 'theres',\n",
              " 'survive',\n",
              " 'stop',\n",
              " 'spill',\n",
              " 'severe',\n",
              " 'says',\n",
              " 'run',\n",
              " 'missing',\n",
              " 'loud',\n",
              " 'injuries',\n",
              " 'head',\n",
              " 'found',\n",
              " 'evacuate',\n",
              " 'wind',\n",
              " 'services',\n",
              " 'screaming',\n",
              " 'save',\n",
              " 'released',\n",
              " 'free',\n",
              " 'blood',\n",
              " '70',\n",
              " 'which',\n",
              " 'summer',\n",
              " 'story',\n",
              " 'someone',\n",
              " 'house',\n",
              " 'gonna',\n",
              " 'girl',\n",
              " 'fatalities',\n",
              " 'failure',\n",
              " 'explosion',\n",
              " 'explode',\n",
              " 'destruction',\n",
              " 'change',\n",
              " 'wreckage',\n",
              " 'until',\n",
              " 'saudi',\n",
              " 'report',\n",
              " 'rain',\n",
              " 'outbreak',\n",
              " 'ive',\n",
              " 'investigators',\n",
              " 'hurricane',\n",
              " 'collapsed',\n",
              " 'bridge',\n",
              " 'breaking',\n",
              " 'boy',\n",
              " 'bloody',\n",
              " 'bag',\n",
              " 'attacked',\n",
              " 'warning',\n",
              " 'terrorist',\n",
              " 'survived',\n",
              " 'put',\n",
              " 'photo',\n",
              " 'panic',\n",
              " 'hail',\n",
              " 'family',\n",
              " 'end',\n",
              " 'dust',\n",
              " 'destroyed',\n",
              " 'deaths',\n",
              " 'danger',\n",
              " 'collided',\n",
              " 'big',\n",
              " 'bags',\n",
              " 'again',\n",
              " 'wrecked',\n",
              " 'wild',\n",
              " 'whirlwind',\n",
              " 'update',\n",
              " 'thing',\n",
              " 'structural',\n",
              " 'sinkhole',\n",
              " 'service',\n",
              " 'refugees',\n",
              " 'made',\n",
              " 'lives',\n",
              " 'injury',\n",
              " 'fuck',\n",
              " 'county',\n",
              " 'area',\n",
              " 'week',\n",
              " 'twister',\n",
              " 'sunk',\n",
              " 'show',\n",
              " 'road',\n",
              " 'rescuers',\n",
              " 'rescue',\n",
              " 'quarantine',\n",
              " 'post',\n",
              " 'other',\n",
              " 'murder',\n",
              " 'mudslide',\n",
              " 'mosque',\n",
              " 'migrants',\n",
              " 'keep',\n",
              " 'heard',\n",
              " 'game',\n",
              " 'destroy',\n",
              " 'derailment',\n",
              " 'catastrophe',\n",
              " 'bus',\n",
              " 'burned',\n",
              " 'bleeding',\n",
              " 'better',\n",
              " 'around',\n",
              " 'air',\n",
              " 'wounds',\n",
              " 'women',\n",
              " 'whole',\n",
              " 'white',\n",
              " 'violent',\n",
              " 'tonight',\n",
              " 'things',\n",
              " 'survivors',\n",
              " 'stock',\n",
              " 'saw',\n",
              " 'sandstorm',\n",
              " 'harm',\n",
              " 'drowning',\n",
              " 'devastation',\n",
              " 'deluge',\n",
              " 'curfew',\n",
              " 'cliff',\n",
              " 'charged',\n",
              " 'casualties',\n",
              " 'battle',\n",
              " 'bang',\n",
              " 'armageddon',\n",
              " 'ambulance',\n",
              " '40',\n",
              " '15',\n",
              " '\\x89ÛÒ',\n",
              " 'woman',\n",
              " 'traumatised',\n",
              " 'screams',\n",
              " 'screamed',\n",
              " 'rescued',\n",
              " 'landslide',\n",
              " 'ill',\n",
              " 'hostages',\n",
              " 'horrible',\n",
              " 'hazardous',\n",
              " 'famine',\n",
              " 'exploded',\n",
              " 'evacuated',\n",
              " 'does',\n",
              " 'bombed',\n",
              " 'blown',\n",
              " 'away',\n",
              " 'apocalypse',\n",
              " 'windstorm',\n",
              " 'wave',\n",
              " 'wanna',\n",
              " 'trauma',\n",
              " 'tragedy',\n",
              " 'ruin',\n",
              " 'rioting',\n",
              " 'real',\n",
              " 'quarantined',\n",
              " 'power',\n",
              " 'phone',\n",
              " 'panicking',\n",
              " 'pandemonium',\n",
              " 'must',\n",
              " 'meltdown',\n",
              " 'massacre',\n",
              " 'lot',\n",
              " 'least',\n",
              " 'lava',\n",
              " 'iran',\n",
              " 'inundated',\n",
              " 'id',\n",
              " 'flattened',\n",
              " 'fedex',\n",
              " 'electrocuted',\n",
              " 'drought',\n",
              " 'displaced',\n",
              " 'detonate',\n",
              " 'desolation',\n",
              " 'cool',\n",
              " 'came',\n",
              " 'call',\n",
              " 'boat',\n",
              " 'blew',\n",
              " 'bioterror',\n",
              " 'against',\n",
              " 'typhoon',\n",
              " 'trouble',\n",
              " 'thank',\n",
              " 'terrorism',\n",
              " 'st',\n",
              " 'something',\n",
              " 'riot',\n",
              " 'red',\n",
              " 'plane',\n",
              " 'past',\n",
              " 'nothing',\n",
              " 'market',\n",
              " 'long',\n",
              " 'lets',\n",
              " 'kills',\n",
              " 'kill',\n",
              " 'hijacking',\n",
              " 'heart',\n",
              " 'hazard',\n",
              " 'drown',\n",
              " 'doing',\n",
              " 'didnt',\n",
              " 'derailed',\n",
              " 'derail',\n",
              " 'crush',\n",
              " 'chemical',\n",
              " 'bagging',\n",
              " 'baby',\n",
              " 'annihilated',\n",
              " '9',\n",
              " 'used',\n",
              " 'twitter',\n",
              " 'tsunami',\n",
              " 'traffic',\n",
              " 'tomorrow',\n",
              " 'suspect',\n",
              " 'sure',\n",
              " 'security',\n",
              " 'pkk',\n",
              " 'part',\n",
              " 'national',\n",
              " 'island',\n",
              " 'isis',\n",
              " 'hijacker',\n",
              " 'ebay',\n",
              " 'detonated',\n",
              " 'crashed',\n",
              " 'august',\n",
              " 'anniversary',\n",
              " 'already',\n",
              " 'airplane',\n",
              " '6',\n",
              " 'whats',\n",
              " 'soon',\n",
              " 'song',\n",
              " 'shoulder',\n",
              " 'reunion',\n",
              " 'responders',\n",
              " 'obliterate',\n",
              " 'minute',\n",
              " 'longer',\n",
              " 'light',\n",
              " 'left',\n",
              " 'hundreds',\n",
              " 'hostage',\n",
              " 'half',\n",
              " 'guys',\n",
              " 'government',\n",
              " 'fun',\n",
              " 'fatality',\n",
              " 'eyewitness',\n",
              " 'done',\n",
              " 'detonation',\n",
              " 'demolish',\n",
              " 'crushed',\n",
              " 'blast',\n",
              " 'believe',\n",
              " 'airport',\n",
              " 'affected',\n",
              " 'actually',\n",
              " 'yet',\n",
              " 'went',\n",
              " 'wake',\n",
              " 'volcano',\n",
              " 'very',\n",
              " 'use',\n",
              " 'upheaval',\n",
              " 'turkey',\n",
              " 'trying',\n",
              " 'thought',\n",
              " 'thanks',\n",
              " 'sound',\n",
              " 'sirens',\n",
              " 'shooting',\n",
              " 'send',\n",
              " 'same',\n",
              " 'remember',\n",
              " 'razed',\n",
              " 'prebreak',\n",
              " 'possible',\n",
              " 'ok',\n",
              " 'oh',\n",
              " 'music',\n",
              " 'media',\n",
              " 'land',\n",
              " 'issues',\n",
              " 'hijack',\n",
              " 'engulfed',\n",
              " 'electrocute',\n",
              " 'died',\n",
              " 'collision',\n",
              " 'collide',\n",
              " 'caused',\n",
              " 'catastrophic',\n",
              " 'care',\n",
              " 'calgary',\n",
              " 'building',\n",
              " 'arson',\n",
              " '8',\n",
              " 'zone',\n",
              " 'wont',\n",
              " 'tornado',\n",
              " 'three',\n",
              " 'start',\n",
              " 'site',\n",
              " 'person',\n",
              " 'obliterated',\n",
              " 'nearby',\n",
              " 'men',\n",
              " 'leave',\n",
              " 'israeli',\n",
              " 'hours',\n",
              " 'group',\n",
              " 'goes',\n",
              " 'gets',\n",
              " 'due',\n",
              " 'drowned',\n",
              " 'demolished',\n",
              " 'deluged',\n",
              " 'declares',\n",
              " 'cyclone',\n",
              " 'beautiful',\n",
              " '16yr',\n",
              " 'yourself',\n",
              " 'sue',\n",
              " 'shot',\n",
              " 'river',\n",
              " 're\\x89Û',\n",
              " 'play',\n",
              " 'plans',\n",
              " 'place',\n",
              " 'officials',\n",
              " 'nowplaying',\n",
              " 'north',\n",
              " 'making',\n",
              " 'lab',\n",
              " 'kids',\n",
              " 'job',\n",
              " 'inside',\n",
              " 'hell',\n",
              " 'fight',\n",
              " 'fan',\n",
              " 'demolition',\n",
              " 'brown',\n",
              " 'bc',\n",
              " 'avalanche',\n",
              " '\\x89ÛÓ',\n",
              " 'words',\n",
              " 'typhoondevastated',\n",
              " 'swallowed',\n",
              " 'such',\n",
              " 'stretcher',\n",
              " 'south',\n",
              " 'snowstorm',\n",
              " 'seismic',\n",
              " 'saipan',\n",
              " 'reuters',\n",
              " 'policy',\n",
              " 'pic',\n",
              " 'outside',\n",
              " 'obliteration',\n",
              " 'n',\n",
              " 'murderer',\n",
              " 'islam',\n",
              " 'hey',\n",
              " 'hellfire',\n",
              " 'far',\n",
              " 'doesnt',\n",
              " 'deal',\n",
              " 'days',\n",
              " 'bush',\n",
              " 'blazing',\n",
              " 'bar',\n",
              " 'anything',\n",
              " 'ago',\n",
              " 'ablaze',\n",
              " 'yeah',\n",
              " 'support',\n",
              " 'second',\n",
              " 'reactor',\n",
              " 'photos',\n",
              " 'mp',\n",
              " 'money',\n",
              " 'might',\n",
              " 'memories',\n",
              " 'literally',\n",
              " 'horror',\n",
              " 'hollywood',\n",
              " 'history',\n",
              " 'few',\n",
              " 'die',\n",
              " 'conclusively',\n",
              " 'casualty',\n",
              " 'business',\n",
              " 'bioterrorism',\n",
              " 'aircraft',\n",
              " 'abc',\n",
              " '7',\n",
              " '50',\n",
              " '30',\n",
              " '12',\n",
              " 'yes',\n",
              " 'west',\n",
              " 'watching',\n",
              " 'wait',\n",
              " 'ur',\n",
              " 'tv',\n",
              " 'theyre',\n",
              " 'tell',\n",
              " 'team',\n",
              " 'stay',\n",
              " 'spot',\n",
              " 'space',\n",
              " 'soudelor',\n",
              " 'seen',\n",
              " 'rubble',\n",
              " 'rainstorm',\n",
              " 'probably',\n",
              " 'pick',\n",
              " 'peace',\n",
              " 'once',\n",
              " 'officer',\n",
              " 'name',\n",
              " 'maybe',\n",
              " 'india',\n",
              " 'hear',\n",
              " 'health',\n",
              " 'find',\n",
              " 'finally',\n",
              " 'everything',\n",
              " 'd',\n",
              " 'crews',\n",
              " 'children',\n",
              " 'child',\n",
              " 'blight',\n",
              " 'amid',\n",
              " '20',\n",
              " 'waves',\n",
              " 'trench',\n",
              " 'transport',\n",
              " 'though',\n",
              " 'stand',\n",
              " 'siren',\n",
              " 'signs',\n",
              " 'shes',\n",
              " 'searching',\n",
              " 'rise',\n",
              " 'projected',\n",
              " 'own',\n",
              " 'order',\n",
              " 'move',\n",
              " 'miners',\n",
              " 'low',\n",
              " 'line',\n",
              " 'leather',\n",
              " 'la',\n",
              " 'having',\n",
              " 'happy',\n",
              " 'flash',\n",
              " 'feeling',\n",
              " 'fast',\n",
              " 'data',\n",
              " 'crisis',\n",
              " 'course',\n",
              " 'both',\n",
              " 'bodies',\n",
              " 'bigger',\n",
              " 'anyone',\n",
              " 'american',\n",
              " 'almost',\n",
              " 'wrong',\n",
              " 'worst',\n",
              " 'united',\n",
              " 'town',\n",
              " 'street',\n",
              " 'rd',\n",
              " 'pretty',\n",
              " 'others',\n",
              " 'online',\n",
              " 'offensive',\n",
              " 'needs',\n",
              " 'nearly',\n",
              " 'myself',\n",
              " 'morning',\n",
              " 'lost',\n",
              " 'huge',\n",
              " 'helicopter',\n",
              " 'heavy',\n",
              " 'hate',\n",
              " 'hat',\n",
              " 'hailstorm',\n",
              " 'effect',\n",
              " 'east',\n",
              " 'caught',\n",
              " 'book',\n",
              " 'bestnaijamade',\n",
              " 'become',\n",
              " '10',\n",
              " 'womens',\n",
              " 'usa',\n",
              " 'talk',\n",
              " 'star',\n",
              " 'sorry',\n",
              " 'self',\n",
              " 'russian',\n",
              " 'refugio',\n",
              " 'reason',\n",
              " 'picking',\n",
              " 'pay',\n",
              " 'pain',\n",
              " 'mayhem',\n",
              " 'manslaughter',\n",
              " 'listen',\n",
              " 'ladies',\n",
              " 'knock',\n",
              " 'jobs',\n",
              " 'ignition',\n",
              " 'eyes',\n",
              " 'costlier',\n",
              " 'closed',\n",
              " 'center',\n",
              " 'called',\n",
              " 'blizzard',\n",
              " 'beach',\n",
              " 'anthrax',\n",
              " 'alone',\n",
              " 'action',\n",
              " 'across',\n",
              " 'youth',\n",
              " 'win',\n",
              " 'view',\n",
              " 'vehicle',\n",
              " 'truth',\n",
              " 'thursday',\n",
              " 'thousands',\n",
              " 'ship',\n",
              " 'saved',\n",
              " 'reports',\n",
              " 'poor',\n",
              " 'pakistan',\n",
              " 'omg',\n",
              " 'mom',\n",
              " 'mishaps',\n",
              " 'meek',\n",
              " 'marks',\n",
              " 'makes',\n",
              " 'm',\n",
              " 'looking',\n",
              " 'level',\n",
              " 'houses',\n",
              " 'hard',\n",
              " 'happened',\n",
              " 'haha',\n",
              " 'guy',\n",
              " 'gun',\n",
              " 'gt',\n",
              " 'giant',\n",
              " 'gbbo',\n",
              " 'friends',\n",
              " 'flag',\n",
              " 'film',\n",
              " 'entire',\n",
              " 'emmerdale',\n",
              " 'declaration',\n",
              " 'damn',\n",
              " 'daily',\n",
              " 'couple',\n",
              " 'country',\n",
              " 'control',\n",
              " 'climate',\n",
              " 'china',\n",
              " 'chile',\n",
              " 'case',\n",
              " 'bbc',\n",
              " 'banned',\n",
              " 'ball',\n",
              " 'aug',\n",
              " 'arsonist',\n",
              " 'appears',\n",
              " 'angry',\n",
              " 'aint',\n",
              " 'aftershock',\n",
              " '60',\n",
              " '25',\n",
              " '13',\n",
              " '11',\n",
              " 'wonder',\n",
              " 'vs',\n",
              " 'virgin',\n",
              " 'village',\n",
              " 'try',\n",
              " 'totally',\n",
              " 'texas',\n",
              " 'temple',\n",
              " 'taking',\n",
              " 'takes',\n",
              " 't',\n",
              " 'side',\n",
              " 'ready',\n",
              " 'radio',\n",
              " 'public',\n",
              " 'playing',\n",
              " 'patience',\n",
              " 'outrage',\n",
              " 'official',\n",
              " 'moment',\n",
              " 'major',\n",
              " 'mad',\n",
              " 'lord',\n",
              " 'learn',\n",
              " 'large',\n",
              " 'isnt',\n",
              " 'govt',\n",
              " 'germs',\n",
              " 'fukushima',\n",
              " 'following',\n",
              " 'follow',\n",
              " 'feared',\n",
              " 'eye',\n",
              " 'else',\n",
              " 'drake',\n",
              " 'disea',\n",
              " 'devastated',\n",
              " 'desolate',\n",
              " 'computers',\n",
              " 'comes',\n",
              " 'cnn',\n",
              " 'class',\n",
              " 'christian',\n",
              " 'centre',\n",
              " 'cars',\n",
              " 'blaze',\n",
              " 'b',\n",
              " 'annihilation',\n",
              " 'america',\n",
              " '11yearold',\n",
              " 'yours',\n",
              " 'york',\n",
              " 'wanted',\n",
              " 'trains',\n",
              " 'toddler',\n",
              " 'till',\n",
              " 'theater',\n",
              " 'taken',\n",
              " 'sounds',\n",
              " 'sign',\n",
              " 'shows',\n",
              " 'running',\n",
              " 'risk',\n",
              " 'reddits',\n",
              " 'quiz',\n",
              " 'property',\n",
              " 'okay',\n",
              " 'niggas',\n",
              " 'myanmar',\n",
              " 'muslims',\n",
              " 'mph',\n",
              " 'mop',\n",
              " 'lmao',\n",
              " 'link',\n",
              " 'likely',\n",
              " 'led',\n",
              " 'issued',\n",
              " 'instead',\n",
              " 'human',\n",
              " 'holding',\n",
              " 'hiring',\n",
              " 'green',\n",
              " 'galactic',\n",
              " 'front',\n",
              " 'friend',\n",
              " 'favorite',\n",
              " 'drive',\n",
              " 'downtown',\n",
              " 'dog',\n",
              " 'date',\n",
              " 'crazy',\n",
              " 'coaches',\n",
              " 'bring',\n",
              " 'blue',\n",
              " 'bed',\n",
              " 'bayelsa',\n",
              " '100',\n",
              " 'wow',\n",
              " 'worse',\n",
              " 'upon',\n",
              " 'unconfirmed',\n",
              " 'turn',\n",
              " 'trust',\n",
              " 'true',\n",
              " 'tote',\n",
              " 'subreddits',\n",
              " 'started',\n",
              " 'seeing',\n",
              " 'secret',\n",
              " 'scared',\n",
              " 'russia',\n",
              " 'room',\n",
              " 'rock',\n",
              " 'rly',\n",
              " 'pradesh',\n",
              " 'ppl',\n",
              " 'neighbours',\n",
              " 'mount',\n",
              " 'mode',\n",
              " 'miss',\n",
              " ...]"
            ]
          },
          "metadata": {},
          "execution_count": 50
        }
      ]
    },
    {
      "cell_type": "code",
      "source": [
        "model_1.summary()"
      ],
      "metadata": {
        "colab": {
          "base_uri": "https://localhost:8080/"
        },
        "id": "ho4mV-dpr2E0",
        "outputId": "6b42fb7e-1e3d-43df-8c70-76cb77d62ee0"
      },
      "execution_count": 51,
      "outputs": [
        {
          "output_type": "stream",
          "name": "stdout",
          "text": [
            "Model: \"model_1_dense\"\n",
            "_________________________________________________________________\n",
            " Layer (type)                Output Shape              Param #   \n",
            "=================================================================\n",
            " input_1 (InputLayer)        [(None, 1)]               0         \n",
            "                                                                 \n",
            " text_vectorization_1 (TextV  (None, 15)               0         \n",
            " ectorization)                                                   \n",
            "                                                                 \n",
            " embedding (Embedding)       (None, 15, 128)           1280000   \n",
            "                                                                 \n",
            " global_average_pooling1d (G  (None, 128)              0         \n",
            " lobalAveragePooling1D)                                          \n",
            "                                                                 \n",
            " dense (Dense)               (None, 1)                 129       \n",
            "                                                                 \n",
            "=================================================================\n",
            "Total params: 1,280,129\n",
            "Trainable params: 1,280,129\n",
            "Non-trainable params: 0\n",
            "_________________________________________________________________\n"
          ]
        }
      ]
    },
    {
      "cell_type": "code",
      "source": [
        "#get weight matrix of embedding layer\n",
        "#numerical representations of each token in our training data, learned for 5 epochs\n",
        "embed_weights = model_1.get_layer(\"embedding\").get_weights()[0]\n",
        "print(embed_weights.shape)"
      ],
      "metadata": {
        "colab": {
          "base_uri": "https://localhost:8080/"
        },
        "id": "EptvdDbwsBll",
        "outputId": "a7e3f3d6-6894-4579-af2c-a8a4bf7a8656"
      },
      "execution_count": 52,
      "outputs": [
        {
          "output_type": "stream",
          "name": "stdout",
          "text": [
            "(10000, 128)\n"
          ]
        }
      ]
    },
    {
      "cell_type": "code",
      "source": [
        "embed_weights"
      ],
      "metadata": {
        "colab": {
          "base_uri": "https://localhost:8080/"
        },
        "id": "3_qrDxjIsMdn",
        "outputId": "e0702cba-0ee6-4ca8-ea2b-f4114214aff2"
      },
      "execution_count": 53,
      "outputs": [
        {
          "output_type": "execute_result",
          "data": {
            "text/plain": [
              "array([[ 0.02067396, -0.03137651, -0.0256853 , ...,  0.0332809 ,\n",
              "         0.02185918, -0.04110548],\n",
              "       [ 0.00941567, -0.04390863, -0.01144137, ..., -0.01998647,\n",
              "         0.03199439, -0.0354187 ],\n",
              "       [ 0.04797686, -0.04616719,  0.04812387, ..., -0.04899676,\n",
              "         0.04264632, -0.0176123 ],\n",
              "       ...,\n",
              "       [-0.04369865,  0.03549594, -0.11140639, ...,  0.03668834,\n",
              "        -0.07150431, -0.05931189],\n",
              "       [-0.07915282,  0.04015886,  0.00857119, ...,  0.07443297,\n",
              "        -0.082226  , -0.07792288],\n",
              "       [ 0.08639867, -0.03349399,  0.06666066, ..., -0.02923373,\n",
              "         0.0288353 ,  0.07209289]], dtype=float32)"
            ]
          },
          "metadata": {},
          "execution_count": 53
        }
      ]
    },
    {
      "cell_type": "code",
      "source": [
        "#projector tool\n",
        "import io\n",
        "out_v = io.open('vectors.tsv', 'w', encoding=\"utf-8\")\n",
        "out_m = io.open('metadata.tsv', 'w', encoding=\"utf-8\")\n",
        "\n",
        "for index, word in enumerate(words_in_vocab):\n",
        "  if index == 0:\n",
        "    continue\n",
        "\n",
        "  vec = embed_weights[index]\n",
        "  out_v.write('\\t'.join([str(x) for x in vec]) + \"\\n\")\n",
        "  out_m.write(word + \"\\n\")\n",
        "out_v.close()\n",
        "out_m.close()"
      ],
      "metadata": {
        "id": "1zjPoQplsQpK"
      },
      "execution_count": 54,
      "outputs": []
    },
    {
      "cell_type": "code",
      "source": [
        "#download files from colab and upload to projector\n",
        "try:\n",
        "  from google.colab import files\n",
        "  files.download('vectors.tsv')\n",
        "  files.download('metadata.tsv')\n",
        "except Exception:\n",
        "  pass"
      ],
      "metadata": {
        "colab": {
          "base_uri": "https://localhost:8080/",
          "height": 17
        },
        "id": "HOKlSddStyhi",
        "outputId": "9d225667-51c9-44d9-e6e3-a09c4b1578d0"
      },
      "execution_count": 55,
      "outputs": [
        {
          "output_type": "display_data",
          "data": {
            "text/plain": [
              "<IPython.core.display.Javascript object>"
            ],
            "application/javascript": [
              "\n",
              "    async function download(id, filename, size) {\n",
              "      if (!google.colab.kernel.accessAllowed) {\n",
              "        return;\n",
              "      }\n",
              "      const div = document.createElement('div');\n",
              "      const label = document.createElement('label');\n",
              "      label.textContent = `Downloading \"${filename}\": `;\n",
              "      div.appendChild(label);\n",
              "      const progress = document.createElement('progress');\n",
              "      progress.max = size;\n",
              "      div.appendChild(progress);\n",
              "      document.body.appendChild(div);\n",
              "\n",
              "      const buffers = [];\n",
              "      let downloaded = 0;\n",
              "\n",
              "      const channel = await google.colab.kernel.comms.open(id);\n",
              "      // Send a message to notify the kernel that we're ready.\n",
              "      channel.send({})\n",
              "\n",
              "      for await (const message of channel.messages) {\n",
              "        // Send a message to notify the kernel that we're ready.\n",
              "        channel.send({})\n",
              "        if (message.buffers) {\n",
              "          for (const buffer of message.buffers) {\n",
              "            buffers.push(buffer);\n",
              "            downloaded += buffer.byteLength;\n",
              "            progress.value = downloaded;\n",
              "          }\n",
              "        }\n",
              "      }\n",
              "      const blob = new Blob(buffers, {type: 'application/binary'});\n",
              "      const a = document.createElement('a');\n",
              "      a.href = window.URL.createObjectURL(blob);\n",
              "      a.download = filename;\n",
              "      div.appendChild(a);\n",
              "      a.click();\n",
              "      div.remove();\n",
              "    }\n",
              "  "
            ]
          },
          "metadata": {}
        },
        {
          "output_type": "display_data",
          "data": {
            "text/plain": [
              "<IPython.core.display.Javascript object>"
            ],
            "application/javascript": [
              "download(\"download_0bb6f7ea-b0dd-4f89-8df3-57b431f85950\", \"vectors.tsv\", 15364200)"
            ]
          },
          "metadata": {}
        },
        {
          "output_type": "display_data",
          "data": {
            "text/plain": [
              "<IPython.core.display.Javascript object>"
            ],
            "application/javascript": [
              "\n",
              "    async function download(id, filename, size) {\n",
              "      if (!google.colab.kernel.accessAllowed) {\n",
              "        return;\n",
              "      }\n",
              "      const div = document.createElement('div');\n",
              "      const label = document.createElement('label');\n",
              "      label.textContent = `Downloading \"${filename}\": `;\n",
              "      div.appendChild(label);\n",
              "      const progress = document.createElement('progress');\n",
              "      progress.max = size;\n",
              "      div.appendChild(progress);\n",
              "      document.body.appendChild(div);\n",
              "\n",
              "      const buffers = [];\n",
              "      let downloaded = 0;\n",
              "\n",
              "      const channel = await google.colab.kernel.comms.open(id);\n",
              "      // Send a message to notify the kernel that we're ready.\n",
              "      channel.send({})\n",
              "\n",
              "      for await (const message of channel.messages) {\n",
              "        // Send a message to notify the kernel that we're ready.\n",
              "        channel.send({})\n",
              "        if (message.buffers) {\n",
              "          for (const buffer of message.buffers) {\n",
              "            buffers.push(buffer);\n",
              "            downloaded += buffer.byteLength;\n",
              "            progress.value = downloaded;\n",
              "          }\n",
              "        }\n",
              "      }\n",
              "      const blob = new Blob(buffers, {type: 'application/binary'});\n",
              "      const a = document.createElement('a');\n",
              "      a.href = window.URL.createObjectURL(blob);\n",
              "      a.download = filename;\n",
              "      div.appendChild(a);\n",
              "      a.click();\n",
              "      div.remove();\n",
              "    }\n",
              "  "
            ]
          },
          "metadata": {}
        },
        {
          "output_type": "display_data",
          "data": {
            "text/plain": [
              "<IPython.core.display.Javascript object>"
            ],
            "application/javascript": [
              "download(\"download_f991efd3-6772-4b25-81d3-1ddc3678e165\", \"metadata.tsv\", 80563)"
            ]
          },
          "metadata": {}
        }
      ]
    },
    {
      "cell_type": "markdown",
      "source": [
        "#Recurrent Neural Network"
      ],
      "metadata": {
        "id": "fHOfPEZVutRs"
      }
    },
    {
      "cell_type": "markdown",
      "source": [
        "##useful for sequence data - use representation of previous input to aid the representation of a later input"
      ],
      "metadata": {
        "id": "jD5N4_yla6au"
      }
    },
    {
      "cell_type": "code",
      "source": [
        "### Model 2: LSTM\n",
        "###LSTM = Long Short Term Memory (one of the most popular RNN)\n",
        "'''\n",
        " input(text) -> toeknize -> embed -> layers (RNNs/Dense) -> Output\n",
        "'''"
      ],
      "metadata": {
        "colab": {
          "base_uri": "https://localhost:8080/",
          "height": 35
        },
        "id": "RympptAgbDW5",
        "outputId": "3b6881a2-5596-4718-c02e-7fd961272de2"
      },
      "execution_count": 59,
      "outputs": [
        {
          "output_type": "execute_result",
          "data": {
            "text/plain": [
              "'\\n input(text) -> toeknize -> embed -> layers (RNNs/Dense) -> Output\\n'"
            ],
            "application/vnd.google.colaboratory.intrinsic+json": {
              "type": "string"
            }
          },
          "metadata": {},
          "execution_count": 59
        }
      ]
    },
    {
      "cell_type": "code",
      "source": [
        "from tensorflow.keras import layers\n",
        "\n",
        "inputs = layers.Input(shape=(1,), dtype=\"string\")\n",
        "x = text_vectorizer(inputs)\n",
        "x = embedding(x)\n",
        "print(x.shape)\n",
        "#x = layers.LSTM(64, return_sequences=True)(x)\n",
        "#print(x.shape)\n",
        "x = layers.LSTM(64)(x)\n",
        "print(x.shape)\n",
        "#x = layers.Dense(64, activation=\"relu\")(x)\n",
        "outputs = layers.Dense(1, activation=\"sigmoid\")(x)\n",
        "model_2 = tf.keras.Model(inputs, outputs, name=\"model_2_LSTM\")"
      ],
      "metadata": {
        "colab": {
          "base_uri": "https://localhost:8080/"
        },
        "id": "0LZA0LBDdHUX",
        "outputId": "3ef50a8e-b78a-4797-99a6-17e2118b2bd1"
      },
      "execution_count": 66,
      "outputs": [
        {
          "output_type": "stream",
          "name": "stdout",
          "text": [
            "(None, 15, 128)\n",
            "(None, 64)\n"
          ]
        }
      ]
    },
    {
      "cell_type": "code",
      "source": [
        "#Get a summary\n",
        "model_2.summary()"
      ],
      "metadata": {
        "colab": {
          "base_uri": "https://localhost:8080/"
        },
        "id": "faBVR96Edw7A",
        "outputId": "d4886d18-f464-4c49-8380-b86edf492ded"
      },
      "execution_count": 67,
      "outputs": [
        {
          "output_type": "stream",
          "name": "stdout",
          "text": [
            "Model: \"model_2_LSTM\"\n",
            "_________________________________________________________________\n",
            " Layer (type)                Output Shape              Param #   \n",
            "=================================================================\n",
            " input_7 (InputLayer)        [(None, 1)]               0         \n",
            "                                                                 \n",
            " text_vectorization_1 (TextV  (None, 15)               0         \n",
            " ectorization)                                                   \n",
            "                                                                 \n",
            " embedding (Embedding)       (None, 15, 128)           1280000   \n",
            "                                                                 \n",
            " lstm_7 (LSTM)               (None, 64)                49408     \n",
            "                                                                 \n",
            " dense_11 (Dense)            (None, 1)                 65        \n",
            "                                                                 \n",
            "=================================================================\n",
            "Total params: 1,329,473\n",
            "Trainable params: 1,329,473\n",
            "Non-trainable params: 0\n",
            "_________________________________________________________________\n"
          ]
        }
      ]
    },
    {
      "cell_type": "code",
      "source": [
        "#compile\n",
        "model_2.compile(loss=\"binary_crossentropy\",\n",
        "                optimizer=tf.keras.optimizers.Adam(),\n",
        "                metrics=[\"accuracy\"])"
      ],
      "metadata": {
        "id": "Z8vKhE9xev3g"
      },
      "execution_count": 68,
      "outputs": []
    },
    {
      "cell_type": "code",
      "source": [
        "model_2_history = model_2.fit(train_sentences,\n",
        "                              train_labels,\n",
        "                              epochs=5,\n",
        "                              validation_data=(val_sentences,val_labels),\n",
        "                              callbacks=[create_tensorboard_callback(SAVE_DIR,\n",
        "                                                                     \"model_2_LSTM\")])"
      ],
      "metadata": {
        "colab": {
          "base_uri": "https://localhost:8080/"
        },
        "id": "zcCEMmvMfBec",
        "outputId": "af95e466-4397-45b2-922b-eaa4b1b645e1"
      },
      "execution_count": 69,
      "outputs": [
        {
          "output_type": "stream",
          "name": "stdout",
          "text": [
            "Saving TensorBoard log files to: model_logs/model_2_LSTM/20220726-215006\n",
            "Epoch 1/5\n",
            "215/215 [==============================] - 9s 14ms/step - loss: 0.2185 - accuracy: 0.9241 - val_loss: 0.5306 - val_accuracy: 0.7900\n",
            "Epoch 2/5\n",
            "215/215 [==============================] - 2s 10ms/step - loss: 0.1571 - accuracy: 0.9423 - val_loss: 0.5458 - val_accuracy: 0.7795\n",
            "Epoch 3/5\n",
            "215/215 [==============================] - 2s 10ms/step - loss: 0.1325 - accuracy: 0.9527 - val_loss: 0.7055 - val_accuracy: 0.7638\n",
            "Epoch 4/5\n",
            "215/215 [==============================] - 2s 10ms/step - loss: 0.1028 - accuracy: 0.9596 - val_loss: 0.7279 - val_accuracy: 0.7559\n",
            "Epoch 5/5\n",
            "215/215 [==============================] - 2s 10ms/step - loss: 0.0874 - accuracy: 0.9650 - val_loss: 1.0608 - val_accuracy: 0.7441\n"
          ]
        }
      ]
    },
    {
      "cell_type": "code",
      "source": [
        "model_2_pred_probs = model_2.predict(val_sentences)\n",
        "model_2_pred_probs[:10]"
      ],
      "metadata": {
        "colab": {
          "base_uri": "https://localhost:8080/"
        },
        "id": "IlDFF_PgfRSk",
        "outputId": "db2f0734-a183-45c8-81c1-98608877c243"
      },
      "execution_count": 70,
      "outputs": [
        {
          "output_type": "execute_result",
          "data": {
            "text/plain": [
              "array([[2.4576774e-03],\n",
              "       [9.8581481e-01],\n",
              "       [9.9982733e-01],\n",
              "       [1.1489737e-02],\n",
              "       [9.9982470e-01],\n",
              "       [6.0913898e-03],\n",
              "       [5.6041317e-04],\n",
              "       [7.9026166e-03],\n",
              "       [9.9985230e-01],\n",
              "       [9.9973398e-01]], dtype=float32)"
            ]
          },
          "metadata": {},
          "execution_count": 70
        }
      ]
    },
    {
      "cell_type": "code",
      "source": [
        "#convert model 2 pred probs to labels\n",
        "model_2_preds = tf.squeeze(tf.round(model_2_pred_probs))\n",
        "model_2_preds[:10]"
      ],
      "metadata": {
        "colab": {
          "base_uri": "https://localhost:8080/"
        },
        "id": "5rpOeSSZfa54",
        "outputId": "416e3cee-f9be-4d59-e86a-410a0b501906"
      },
      "execution_count": 72,
      "outputs": [
        {
          "output_type": "execute_result",
          "data": {
            "text/plain": [
              "<tf.Tensor: shape=(10,), dtype=float32, numpy=array([0., 1., 1., 0., 1., 0., 0., 0., 1., 1.], dtype=float32)>"
            ]
          },
          "metadata": {},
          "execution_count": 72
        }
      ]
    },
    {
      "cell_type": "code",
      "source": [
        "model_2_results = calculate_results(y_true=val_labels,\n",
        "                                    y_pred=model_2_preds)"
      ],
      "metadata": {
        "id": "WWBptCNkfkD6"
      },
      "execution_count": 73,
      "outputs": []
    },
    {
      "cell_type": "code",
      "source": [
        "model_2_results"
      ],
      "metadata": {
        "colab": {
          "base_uri": "https://localhost:8080/"
        },
        "id": "gOEi_DQMfySB",
        "outputId": "037b7b89-9303-443a-8246-5f33dacd9ea5"
      },
      "execution_count": 74,
      "outputs": [
        {
          "output_type": "execute_result",
          "data": {
            "text/plain": [
              "{'accuracy': 74.40944881889764,\n",
              " 'f1': 0.7453630731452584,\n",
              " 'precision': 0.7501311284355908,\n",
              " 'recall': 0.7440944881889764}"
            ]
          },
          "metadata": {},
          "execution_count": 74
        }
      ]
    },
    {
      "cell_type": "code",
      "source": [
        "#Model 3: GRU\n",
        "#GRU = Gated recurrent unit\n",
        "##GRU is similar to LSTM, but has less parameters"
      ],
      "metadata": {
        "id": "Y-An2arVf021"
      },
      "execution_count": 76,
      "outputs": []
    },
    {
      "cell_type": "code",
      "source": [
        "from tensorflow.keras import layers\n",
        "\n",
        "model_3_embedding = layers.Embedding(input_dim=max_vocab_length,\n",
        "                                     output_dim=128,\n",
        "                                     embeddings_initializer=\"uniform\",\n",
        "                                     input_length=max_length,\n",
        "                                     name=\"embedding_3\")\n",
        "\n",
        "\n",
        "inputs = layers.Input(shape=(1,), dtype=tf.string)\n",
        "x = text_vectorizer(inputs)\n",
        "x = embedding(x)\n",
        "x = layers.GRU(64)(x)\n",
        "outputs = layers.Dense(1, activation=\"sigmoid\")(x)\n",
        "model_3 = tf.keras.Model(inputs, outputs, name=\"model_3_GRU\")\n",
        "\n",
        "'''\n",
        "# Build an RNN using the GRU cell\n",
        "inputs = layers.Input(shape=(1,), dtype=\"string\")\n",
        "x = text_vectorizer(inputs)\n",
        "x = model_3_embedding(x)\n",
        "# x = layers.GRU(64, return_sequences=True) # stacking recurrent cells requires return_sequences=True\n",
        "x = layers.GRU(64)(x) \n",
        "# x = layers.Dense(64, activation=\"relu\")(x) # optional dense layer after GRU cell\n",
        "outputs = layers.Dense(1, activation=\"sigmoid\")(x)\n",
        "model_3 = tf.keras.Model(inputs, outputs, name=\"model_3_GRU\")\n",
        "'''\n"
      ],
      "metadata": {
        "colab": {
          "base_uri": "https://localhost:8080/",
          "height": 89
        },
        "id": "JzWn9hofgXt3",
        "outputId": "f09c28f2-9b55-4bde-ce57-f351f7ce22dc"
      },
      "execution_count": 99,
      "outputs": [
        {
          "output_type": "execute_result",
          "data": {
            "text/plain": [
              "'\\n# Build an RNN using the GRU cell\\ninputs = layers.Input(shape=(1,), dtype=\"string\")\\nx = text_vectorizer(inputs)\\nx = model_3_embedding(x)\\n# x = layers.GRU(64, return_sequences=True) # stacking recurrent cells requires return_sequences=True\\nx = layers.GRU(64)(x) \\n# x = layers.Dense(64, activation=\"relu\")(x) # optional dense layer after GRU cell\\noutputs = layers.Dense(1, activation=\"sigmoid\")(x)\\nmodel_3 = tf.keras.Model(inputs, outputs, name=\"model_3_GRU\")\\n'"
            ],
            "application/vnd.google.colaboratory.intrinsic+json": {
              "type": "string"
            }
          },
          "metadata": {},
          "execution_count": 99
        }
      ]
    },
    {
      "cell_type": "code",
      "source": [
        "#compile\n",
        "model_3.compile(loss=\"binary_crossentropy\",\n",
        "                optimizer=tf.keras.optimizers.Adam(),\n",
        "                metrics=[\"accuracy\"])"
      ],
      "metadata": {
        "id": "GDj5HiiwhAM4"
      },
      "execution_count": 100,
      "outputs": []
    },
    {
      "cell_type": "code",
      "source": [
        "model_3.summary()"
      ],
      "metadata": {
        "colab": {
          "base_uri": "https://localhost:8080/"
        },
        "id": "Ofves2m6ilkm",
        "outputId": "cc500316-ab14-42cb-c81c-7b13af88dfde"
      },
      "execution_count": 101,
      "outputs": [
        {
          "output_type": "stream",
          "name": "stdout",
          "text": [
            "Model: \"model_3_GRU\"\n",
            "_________________________________________________________________\n",
            " Layer (type)                Output Shape              Param #   \n",
            "=================================================================\n",
            " input_13 (InputLayer)       [(None, 1)]               0         \n",
            "                                                                 \n",
            " text_vectorization_1 (TextV  (None, 15)               0         \n",
            " ectorization)                                                   \n",
            "                                                                 \n",
            " embedding (Embedding)       (None, 15, 128)           1280000   \n",
            "                                                                 \n",
            " gru_5 (GRU)                 (None, 64)                37248     \n",
            "                                                                 \n",
            " dense_17 (Dense)            (None, 1)                 65        \n",
            "                                                                 \n",
            "=================================================================\n",
            "Total params: 1,317,313\n",
            "Trainable params: 1,317,313\n",
            "Non-trainable params: 0\n",
            "_________________________________________________________________\n"
          ]
        }
      ]
    },
    {
      "cell_type": "code",
      "source": [
        "# Fit model\n",
        "model_3_history = model_3.fit(train_sentences,\n",
        "                              train_labels,\n",
        "                              epochs=5,\n",
        "                              validation_data=(val_sentences, val_labels),\n",
        "                              callbacks=[create_tensorboard_callback(SAVE_DIR, \"GRU\")])"
      ],
      "metadata": {
        "colab": {
          "base_uri": "https://localhost:8080/"
        },
        "id": "MYbzl90qip3F",
        "outputId": "5dd5ba73-351f-4aa4-b755-0d658506c17a"
      },
      "execution_count": 94,
      "outputs": [
        {
          "output_type": "stream",
          "name": "stdout",
          "text": [
            "Saving TensorBoard log files to: model_logs/GRU/20220726-221449\n",
            "Epoch 1/5\n",
            "215/215 [==============================] - 3s 8ms/step - loss: 0.1578 - accuracy: 0.9402 - val_loss: 0.8071 - val_accuracy: 0.7493\n",
            "Epoch 2/5\n",
            "215/215 [==============================] - 1s 6ms/step - loss: 0.0865 - accuracy: 0.9676 - val_loss: 0.8873 - val_accuracy: 0.7572\n",
            "Epoch 3/5\n",
            "215/215 [==============================] - 1s 6ms/step - loss: 0.0737 - accuracy: 0.9723 - val_loss: 0.8861 - val_accuracy: 0.7585\n",
            "Epoch 4/5\n",
            "215/215 [==============================] - 1s 6ms/step - loss: 0.0657 - accuracy: 0.9730 - val_loss: 1.0593 - val_accuracy: 0.7612\n",
            "Epoch 5/5\n",
            "215/215 [==============================] - 1s 7ms/step - loss: 0.0539 - accuracy: 0.9750 - val_loss: 1.1937 - val_accuracy: 0.7507\n"
          ]
        }
      ]
    },
    {
      "cell_type": "code",
      "source": [
        "model_3_preds = tf.squeeze(tf.round(model_3.predict(val_sentences)))\n",
        "model_3_preds"
      ],
      "metadata": {
        "colab": {
          "base_uri": "https://localhost:8080/"
        },
        "id": "KxSrnKt-kk_e",
        "outputId": "a0fcd18f-3ad1-4299-9e00-594a07f2d801"
      },
      "execution_count": 96,
      "outputs": [
        {
          "output_type": "execute_result",
          "data": {
            "text/plain": [
              "<tf.Tensor: shape=(762,), dtype=float32, numpy=\n",
              "array([0., 1., 1., 0., 1., 0., 0., 0., 1., 1., 0., 0., 1., 0., 0., 0., 1.,\n",
              "       0., 1., 1., 0., 0., 1., 0., 0., 1., 0., 0., 1., 1., 1., 0., 1., 0.,\n",
              "       0., 1., 0., 0., 0., 0., 0., 1., 1., 1., 0., 0., 0., 1., 1., 0., 0.,\n",
              "       1., 0., 0., 1., 0., 0., 0., 0., 1., 0., 0., 1., 1., 0., 1., 0., 1.,\n",
              "       0., 0., 0., 0., 0., 0., 0., 1., 0., 1., 1., 1., 0., 0., 1., 1., 0.,\n",
              "       0., 0., 1., 0., 0., 0., 0., 0., 0., 1., 0., 1., 1., 0., 0., 0., 1.,\n",
              "       1., 0., 0., 0., 1., 0., 1., 0., 0., 1., 1., 0., 0., 1., 1., 1., 1.,\n",
              "       1., 1., 1., 1., 1., 0., 1., 1., 0., 1., 1., 0., 1., 0., 0., 1., 0.,\n",
              "       1., 1., 1., 0., 0., 1., 1., 0., 0., 1., 1., 0., 0., 0., 1., 0., 0.,\n",
              "       1., 0., 0., 0., 1., 1., 0., 1., 1., 0., 0., 0., 1., 0., 0., 0., 1.,\n",
              "       1., 0., 0., 0., 1., 0., 1., 1., 0., 1., 0., 1., 0., 1., 1., 0., 1.,\n",
              "       1., 0., 0., 0., 0., 1., 0., 0., 1., 1., 1., 0., 0., 0., 1., 0., 0.,\n",
              "       0., 1., 0., 0., 1., 0., 0., 0., 0., 0., 0., 1., 1., 0., 1., 1., 1.,\n",
              "       0., 1., 0., 0., 1., 1., 1., 0., 0., 1., 1., 0., 1., 1., 0., 0., 0.,\n",
              "       1., 0., 0., 0., 0., 0., 0., 0., 0., 0., 1., 0., 1., 1., 1., 0., 0.,\n",
              "       0., 0., 0., 0., 1., 0., 1., 0., 0., 1., 0., 1., 0., 0., 1., 0., 0.,\n",
              "       1., 0., 1., 1., 1., 0., 0., 0., 1., 1., 1., 0., 1., 1., 1., 1., 1.,\n",
              "       1., 0., 0., 0., 1., 0., 1., 1., 0., 1., 1., 1., 0., 1., 1., 0., 0.,\n",
              "       1., 1., 1., 1., 0., 0., 0., 0., 0., 0., 1., 0., 1., 0., 1., 1., 1.,\n",
              "       1., 0., 0., 1., 1., 0., 0., 1., 1., 0., 0., 0., 0., 0., 0., 0., 0.,\n",
              "       1., 1., 0., 1., 0., 0., 0., 0., 1., 1., 0., 1., 1., 0., 0., 0., 0.,\n",
              "       0., 1., 1., 1., 1., 0., 0., 1., 1., 1., 1., 0., 0., 1., 0., 1., 1.,\n",
              "       0., 0., 1., 0., 1., 1., 1., 0., 0., 0., 1., 0., 1., 1., 0., 1., 1.,\n",
              "       1., 0., 0., 0., 0., 0., 1., 0., 0., 0., 0., 0., 1., 1., 1., 0., 0.,\n",
              "       1., 0., 0., 1., 1., 0., 0., 0., 0., 1., 1., 1., 0., 0., 1., 1., 0.,\n",
              "       0., 1., 0., 0., 0., 1., 0., 0., 1., 1., 1., 1., 1., 1., 1., 0., 1.,\n",
              "       0., 0., 0., 1., 1., 0., 0., 1., 0., 1., 1., 0., 0., 0., 1., 0., 1.,\n",
              "       1., 0., 1., 0., 1., 1., 0., 1., 0., 0., 0., 1., 0., 0., 0., 0., 0.,\n",
              "       1., 0., 0., 1., 0., 0., 0., 1., 0., 1., 0., 0., 1., 0., 0., 1., 1.,\n",
              "       0., 0., 1., 1., 0., 1., 1., 1., 0., 0., 0., 1., 0., 1., 1., 0., 1.,\n",
              "       1., 0., 0., 0., 0., 1., 1., 0., 1., 0., 1., 0., 0., 0., 0., 0., 1.,\n",
              "       0., 0., 1., 0., 0., 1., 0., 0., 1., 0., 1., 1., 0., 0., 1., 0., 0.,\n",
              "       1., 0., 0., 0., 0., 0., 0., 1., 1., 1., 1., 1., 1., 1., 0., 1., 1.,\n",
              "       1., 1., 0., 0., 0., 0., 1., 0., 0., 1., 0., 1., 0., 1., 1., 0., 1.,\n",
              "       1., 0., 1., 1., 1., 0., 1., 0., 0., 0., 1., 1., 1., 0., 0., 1., 1.,\n",
              "       0., 1., 1., 0., 0., 0., 1., 1., 1., 1., 0., 0., 0., 1., 0., 1., 0.,\n",
              "       1., 0., 0., 0., 0., 0., 1., 1., 1., 0., 0., 0., 1., 0., 1., 1., 1.,\n",
              "       1., 0., 1., 1., 1., 1., 0., 0., 0., 0., 0., 1., 0., 0., 0., 0., 1.,\n",
              "       1., 0., 0., 0., 1., 1., 0., 1., 1., 0., 1., 1., 1., 0., 1., 0., 0.,\n",
              "       0., 0., 0., 0., 1., 0., 1., 1., 1., 0., 0., 0., 0., 0., 1., 1., 0.,\n",
              "       1., 0., 0., 0., 1., 0., 1., 0., 0., 1., 0., 1., 0., 0., 0., 1., 0.,\n",
              "       0., 0., 0., 0., 0., 0., 0., 1., 1., 0., 0., 1., 1., 0., 0., 1., 1.,\n",
              "       1., 0., 0., 0., 0., 1., 1., 0., 1., 1., 1., 0., 0., 0., 0., 1., 0.,\n",
              "       1., 1., 0., 0., 1., 1., 0., 0., 1., 1., 0., 1., 0., 0., 0., 1., 0.,\n",
              "       0., 1., 1., 1., 1., 0., 0., 0., 0., 1., 0., 1., 1., 0.],\n",
              "      dtype=float32)>"
            ]
          },
          "metadata": {},
          "execution_count": 96
        }
      ]
    },
    {
      "cell_type": "code",
      "source": [
        "model_3_results = calculate_results(y_true=val_labels,\n",
        "                                    y_pred=model_3_preds)"
      ],
      "metadata": {
        "id": "JTfeVvyilHFf"
      },
      "execution_count": 97,
      "outputs": []
    },
    {
      "cell_type": "code",
      "source": [
        "model_3_results"
      ],
      "metadata": {
        "colab": {
          "base_uri": "https://localhost:8080/"
        },
        "id": "-jzAoUpmlrkj",
        "outputId": "7c4a69db-8d7c-4324-825d-eda57e18ce25"
      },
      "execution_count": 98,
      "outputs": [
        {
          "output_type": "execute_result",
          "data": {
            "text/plain": [
              "{'accuracy': 75.06561679790026,\n",
              " 'f1': 0.7513408330263004,\n",
              " 'precision': 0.7526882947827785,\n",
              " 'recall': 0.7506561679790026}"
            ]
          },
          "metadata": {},
          "execution_count": 98
        }
      ]
    },
    {
      "cell_type": "code",
      "source": [
        "#Model 4: Bidirectional RNN\n",
        "##goes left to right and right to left"
      ],
      "metadata": {
        "id": "7GzSusEOlsvy"
      },
      "execution_count": 103,
      "outputs": []
    },
    {
      "cell_type": "code",
      "source": [
        "from tensorflow.keras import layers\n",
        "inputs = layers.Input(shape=(1,), dtype=\"string\")\n",
        "x = text_vectorizer(inputs)\n",
        "x = embedding(x)\n",
        "#x = layers.Bidirectional(layers.LSTM(64, return_sequences=True))(x)\n",
        "x = layers.Bidirectional(layers.LSTM(64))(x)\n",
        "outputs = layers.Dense(1, activation=\"sigmoid\")(x)\n",
        "model_4 = tf.keras.Model(inputs, outputs, name=\"model_4\")"
      ],
      "metadata": {
        "id": "Use5CQ2VxJJm"
      },
      "execution_count": 108,
      "outputs": []
    },
    {
      "cell_type": "code",
      "source": [
        "model_4.summary()"
      ],
      "metadata": {
        "colab": {
          "base_uri": "https://localhost:8080/"
        },
        "id": "cZkBd7oEyYOJ",
        "outputId": "5c8767e6-bf6a-4f28-d6c0-426bd68db0ce"
      },
      "execution_count": 109,
      "outputs": [
        {
          "output_type": "stream",
          "name": "stdout",
          "text": [
            "Model: \"model_4\"\n",
            "_________________________________________________________________\n",
            " Layer (type)                Output Shape              Param #   \n",
            "=================================================================\n",
            " input_17 (InputLayer)       [(None, 1)]               0         \n",
            "                                                                 \n",
            " text_vectorization_1 (TextV  (None, 15)               0         \n",
            " ectorization)                                                   \n",
            "                                                                 \n",
            " embedding (Embedding)       (None, 15, 128)           1280000   \n",
            "                                                                 \n",
            " bidirectional_6 (Bidirectio  (None, 128)              98816     \n",
            " nal)                                                            \n",
            "                                                                 \n",
            " dense_21 (Dense)            (None, 1)                 129       \n",
            "                                                                 \n",
            "=================================================================\n",
            "Total params: 1,378,945\n",
            "Trainable params: 1,378,945\n",
            "Non-trainable params: 0\n",
            "_________________________________________________________________\n"
          ]
        }
      ]
    },
    {
      "cell_type": "code",
      "source": [
        "#compile\n",
        "model_4.compile(loss=\"binary_crossentropy\",\n",
        "                optimizer=tf.keras.optimizers.Adam(),\n",
        "                metrics=[\"accuracy\"])"
      ],
      "metadata": {
        "id": "adNTiqKuyje2"
      },
      "execution_count": 110,
      "outputs": []
    },
    {
      "cell_type": "code",
      "source": [
        "# Fit model\n",
        "model_4_history = model_4.fit(train_sentences,\n",
        "                              train_labels,\n",
        "                              epochs=5,\n",
        "                              validation_data=(val_sentences, val_labels),\n",
        "                              callbacks=[create_tensorboard_callback(SAVE_DIR, \"Bidrectional\")])"
      ],
      "metadata": {
        "colab": {
          "base_uri": "https://localhost:8080/"
        },
        "id": "bgj9Au4jzIAS",
        "outputId": "8bb7937b-10e7-4f9b-f8ae-c43c2372d533"
      },
      "execution_count": 111,
      "outputs": [
        {
          "output_type": "stream",
          "name": "stdout",
          "text": [
            "Saving TensorBoard log files to: model_logs/Bidrectional/20220726-231759\n",
            "Epoch 1/5\n",
            "215/215 [==============================] - 8s 15ms/step - loss: 0.1081 - accuracy: 0.9696 - val_loss: 0.9426 - val_accuracy: 0.7612\n",
            "Epoch 2/5\n",
            "215/215 [==============================] - 2s 8ms/step - loss: 0.0536 - accuracy: 0.9762 - val_loss: 1.2133 - val_accuracy: 0.7546\n",
            "Epoch 3/5\n",
            "215/215 [==============================] - 2s 9ms/step - loss: 0.0473 - accuracy: 0.9777 - val_loss: 1.2297 - val_accuracy: 0.7717\n",
            "Epoch 4/5\n",
            "215/215 [==============================] - 2s 8ms/step - loss: 0.0434 - accuracy: 0.9791 - val_loss: 1.2276 - val_accuracy: 0.7467\n",
            "Epoch 5/5\n",
            "215/215 [==============================] - 2s 8ms/step - loss: 0.0424 - accuracy: 0.9791 - val_loss: 1.2391 - val_accuracy: 0.7612\n"
          ]
        }
      ]
    },
    {
      "cell_type": "code",
      "source": [
        "model_4_pred_probs = model_4.predict(val_sentences)\n",
        "model_4_pred_probs"
      ],
      "metadata": {
        "colab": {
          "base_uri": "https://localhost:8080/"
        },
        "id": "rwQB-EBKzYpF",
        "outputId": "5fb19a19-4005-4445-dd97-334479a2c3f2"
      },
      "execution_count": 112,
      "outputs": [
        {
          "output_type": "execute_result",
          "data": {
            "text/plain": [
              "array([[3.79128207e-04],\n",
              "       [9.63261485e-01],\n",
              "       [9.99965668e-01],\n",
              "       [1.17093429e-03],\n",
              "       [9.99939799e-01],\n",
              "       [1.64047405e-02],\n",
              "       [5.85848902e-05],\n",
              "       [2.31915317e-03],\n",
              "       [9.99234319e-01],\n",
              "       [9.99945283e-01],\n",
              "       [3.21053405e-04],\n",
              "       [9.62224905e-04],\n",
              "       [9.99990582e-01],\n",
              "       [1.74180575e-04],\n",
              "       [9.10055824e-05],\n",
              "       [4.68805898e-03],\n",
              "       [9.99980092e-01],\n",
              "       [1.00257550e-03],\n",
              "       [9.87244189e-01],\n",
              "       [8.62708151e-01],\n",
              "       [2.89962739e-02],\n",
              "       [6.36417046e-03],\n",
              "       [9.97761011e-01],\n",
              "       [3.42260115e-02],\n",
              "       [2.98240618e-03],\n",
              "       [9.99972105e-01],\n",
              "       [3.45131266e-04],\n",
              "       [1.69665669e-04],\n",
              "       [9.99883056e-01],\n",
              "       [9.99981284e-01],\n",
              "       [9.99980569e-01],\n",
              "       [2.44566239e-03],\n",
              "       [5.56201458e-01],\n",
              "       [1.17868512e-04],\n",
              "       [1.15425973e-04],\n",
              "       [9.99910235e-01],\n",
              "       [5.86337992e-05],\n",
              "       [1.93684828e-02],\n",
              "       [6.22876128e-03],\n",
              "       [1.51212123e-04],\n",
              "       [3.83155915e-04],\n",
              "       [9.99963522e-01],\n",
              "       [9.99670506e-01],\n",
              "       [7.95198739e-01],\n",
              "       [1.08742919e-04],\n",
              "       [2.70635996e-04],\n",
              "       [2.84246147e-01],\n",
              "       [9.99949574e-01],\n",
              "       [8.73293996e-01],\n",
              "       [1.02158729e-03],\n",
              "       [2.51186080e-04],\n",
              "       [9.99981642e-01],\n",
              "       [2.61511013e-04],\n",
              "       [2.51021306e-03],\n",
              "       [7.18756974e-01],\n",
              "       [8.42541049e-05],\n",
              "       [2.51134596e-04],\n",
              "       [2.26572811e-04],\n",
              "       [4.64769371e-04],\n",
              "       [6.10974491e-01],\n",
              "       [4.79931361e-04],\n",
              "       [6.61505444e-04],\n",
              "       [9.99874592e-01],\n",
              "       [9.99983072e-01],\n",
              "       [8.86240596e-05],\n",
              "       [9.99979019e-01],\n",
              "       [9.38865356e-04],\n",
              "       [9.99926925e-01],\n",
              "       [3.15842009e-03],\n",
              "       [1.65657038e-04],\n",
              "       [1.60301512e-04],\n",
              "       [1.11932277e-04],\n",
              "       [2.07727353e-04],\n",
              "       [2.64266580e-02],\n",
              "       [2.58635986e-03],\n",
              "       [9.99633908e-01],\n",
              "       [1.44473801e-04],\n",
              "       [9.99981523e-01],\n",
              "       [9.99971271e-01],\n",
              "       [9.99973178e-01],\n",
              "       [2.78660685e-01],\n",
              "       [5.94674842e-04],\n",
              "       [3.95345628e-01],\n",
              "       [9.99766409e-01],\n",
              "       [1.61937525e-04],\n",
              "       [1.83808967e-01],\n",
              "       [1.24778235e-04],\n",
              "       [9.99925017e-01],\n",
              "       [1.48290433e-02],\n",
              "       [2.08880436e-02],\n",
              "       [8.48371625e-01],\n",
              "       [4.20941319e-03],\n",
              "       [8.10064812e-05],\n",
              "       [4.31996188e-04],\n",
              "       [9.99392986e-01],\n",
              "       [1.23831880e-04],\n",
              "       [4.20479923e-01],\n",
              "       [9.97420788e-01],\n",
              "       [1.22771901e-03],\n",
              "       [1.33558153e-03],\n",
              "       [1.35199138e-04],\n",
              "       [2.82770723e-01],\n",
              "       [9.98183668e-01],\n",
              "       [1.31994646e-04],\n",
              "       [4.75933455e-04],\n",
              "       [3.85809923e-04],\n",
              "       [9.94004071e-01],\n",
              "       [1.70417856e-02],\n",
              "       [7.80401349e-01],\n",
              "       [1.77184448e-01],\n",
              "       [9.07618742e-05],\n",
              "       [9.99483585e-01],\n",
              "       [9.99795735e-01],\n",
              "       [1.70956075e-01],\n",
              "       [9.16741701e-05],\n",
              "       [9.93647277e-01],\n",
              "       [9.99961257e-01],\n",
              "       [9.99768317e-01],\n",
              "       [9.99971390e-01],\n",
              "       [9.43817675e-01],\n",
              "       [9.99966145e-01],\n",
              "       [9.86040473e-01],\n",
              "       [9.99974847e-01],\n",
              "       [9.99972105e-01],\n",
              "       [5.47420241e-05],\n",
              "       [1.20630704e-01],\n",
              "       [9.99710500e-01],\n",
              "       [2.68055126e-02],\n",
              "       [9.99984145e-01],\n",
              "       [9.93202806e-01],\n",
              "       [3.30381721e-01],\n",
              "       [9.99871492e-01],\n",
              "       [4.06041101e-04],\n",
              "       [9.93106067e-02],\n",
              "       [9.90224302e-01],\n",
              "       [3.03346827e-03],\n",
              "       [9.38007772e-01],\n",
              "       [9.99983072e-01],\n",
              "       [9.99985218e-01],\n",
              "       [3.54512013e-04],\n",
              "       [1.28928790e-04],\n",
              "       [9.99827385e-01],\n",
              "       [9.94643807e-01],\n",
              "       [1.18749440e-02],\n",
              "       [2.08955607e-04],\n",
              "       [9.99937534e-01],\n",
              "       [9.55665827e-01],\n",
              "       [5.21977854e-05],\n",
              "       [6.60133141e-04],\n",
              "       [1.36165851e-04],\n",
              "       [9.99970675e-01],\n",
              "       [1.79223046e-02],\n",
              "       [1.35564725e-04],\n",
              "       [9.99852419e-01],\n",
              "       [2.60811095e-04],\n",
              "       [1.08973670e-03],\n",
              "       [1.09653838e-03],\n",
              "       [7.72930682e-01],\n",
              "       [9.99853611e-01],\n",
              "       [1.26681507e-01],\n",
              "       [9.99861360e-01],\n",
              "       [9.99955297e-01],\n",
              "       [2.17783870e-03],\n",
              "       [1.63796393e-03],\n",
              "       [1.75947120e-04],\n",
              "       [7.36410171e-02],\n",
              "       [3.87693784e-04],\n",
              "       [1.24561280e-04],\n",
              "       [1.98167260e-03],\n",
              "       [9.83735442e-01],\n",
              "       [9.90512788e-01],\n",
              "       [6.83944789e-04],\n",
              "       [3.66253662e-04],\n",
              "       [1.09505672e-04],\n",
              "       [8.33436608e-01],\n",
              "       [1.06810839e-04],\n",
              "       [9.99614716e-01],\n",
              "       [8.34523857e-01],\n",
              "       [5.94821722e-05],\n",
              "       [9.98992622e-01],\n",
              "       [4.46921826e-04],\n",
              "       [9.98410106e-01],\n",
              "       [3.99557874e-04],\n",
              "       [4.07949626e-01],\n",
              "       [9.73084450e-01],\n",
              "       [3.01703403e-04],\n",
              "       [9.99979496e-01],\n",
              "       [9.36305672e-02],\n",
              "       [1.81212220e-02],\n",
              "       [1.18456330e-04],\n",
              "       [4.03462655e-05],\n",
              "       [2.02351343e-03],\n",
              "       [9.98055577e-01],\n",
              "       [7.37681636e-04],\n",
              "       [5.26633263e-02],\n",
              "       [3.37961435e-01],\n",
              "       [9.99958158e-01],\n",
              "       [7.93202102e-01],\n",
              "       [7.84493610e-02],\n",
              "       [3.48379835e-04],\n",
              "       [1.98397276e-04],\n",
              "       [9.99976635e-01],\n",
              "       [8.38806955e-05],\n",
              "       [1.22829209e-04],\n",
              "       [6.05827336e-05],\n",
              "       [9.99121249e-01],\n",
              "       [6.69608271e-05],\n",
              "       [2.74182726e-02],\n",
              "       [9.99936461e-01],\n",
              "       [8.51466830e-05],\n",
              "       [1.02916085e-04],\n",
              "       [2.10937549e-04],\n",
              "       [3.71172756e-01],\n",
              "       [3.84064252e-03],\n",
              "       [1.86174817e-04],\n",
              "       [9.96003211e-01],\n",
              "       [7.24738657e-01],\n",
              "       [1.13443937e-04],\n",
              "       [9.99523282e-01],\n",
              "       [8.84652555e-01],\n",
              "       [9.99922514e-01],\n",
              "       [1.00184872e-04],\n",
              "       [9.99943137e-01],\n",
              "       [2.33946905e-01],\n",
              "       [1.08386681e-04],\n",
              "       [1.57888308e-01],\n",
              "       [9.98673439e-01],\n",
              "       [9.99979973e-01],\n",
              "       [2.98869368e-02],\n",
              "       [2.84290547e-03],\n",
              "       [9.99569714e-01],\n",
              "       [9.92713630e-01],\n",
              "       [3.61052080e-05],\n",
              "       [9.99271214e-01],\n",
              "       [9.99938130e-01],\n",
              "       [6.86281994e-02],\n",
              "       [4.60523792e-04],\n",
              "       [6.76372510e-05],\n",
              "       [9.99951482e-01],\n",
              "       [6.83944789e-04],\n",
              "       [2.77758576e-04],\n",
              "       [2.27921024e-01],\n",
              "       [5.32777121e-05],\n",
              "       [4.98205470e-03],\n",
              "       [1.13283598e-03],\n",
              "       [8.26169780e-05],\n",
              "       [7.90740773e-02],\n",
              "       [1.77042943e-03],\n",
              "       [9.63237464e-01],\n",
              "       [2.31220387e-03],\n",
              "       [9.99778688e-01],\n",
              "       [9.17992294e-01],\n",
              "       [9.67634439e-01],\n",
              "       [1.44371326e-04],\n",
              "       [3.36909457e-03],\n",
              "       [7.24106329e-04],\n",
              "       [7.07609288e-04],\n",
              "       [5.20282701e-05],\n",
              "       [3.79639026e-03],\n",
              "       [9.99682903e-01],\n",
              "       [1.27495950e-04],\n",
              "       [9.99942899e-01],\n",
              "       [6.37772391e-05],\n",
              "       [1.51479384e-04],\n",
              "       [9.99982715e-01],\n",
              "       [6.22720865e-04],\n",
              "       [8.15974534e-01],\n",
              "       [7.79273221e-04],\n",
              "       [2.04611942e-02],\n",
              "       [9.99039590e-01],\n",
              "       [2.00708536e-03],\n",
              "       [5.88126022e-05],\n",
              "       [9.99867916e-01],\n",
              "       [3.83658195e-03],\n",
              "       [9.94116902e-01],\n",
              "       [9.99951601e-01],\n",
              "       [9.99986649e-01],\n",
              "       [3.28651726e-01],\n",
              "       [7.23102689e-01],\n",
              "       [1.76700487e-04],\n",
              "       [9.99902368e-01],\n",
              "       [9.22107756e-01],\n",
              "       [9.35264826e-01],\n",
              "       [6.67517015e-04],\n",
              "       [9.99933839e-01],\n",
              "       [9.97961760e-01],\n",
              "       [8.83973420e-01],\n",
              "       [9.95014608e-01],\n",
              "       [9.99427438e-01],\n",
              "       [9.93755221e-01],\n",
              "       [4.84454110e-02],\n",
              "       [6.83944789e-04],\n",
              "       [2.86207738e-04],\n",
              "       [9.98874485e-01],\n",
              "       [1.16256438e-02],\n",
              "       [9.99955773e-01],\n",
              "       [9.74201202e-01],\n",
              "       [5.16442768e-02],\n",
              "       [8.37522924e-01],\n",
              "       [9.99944210e-01],\n",
              "       [9.99857187e-01],\n",
              "       [1.69217994e-04],\n",
              "       [9.99829531e-01],\n",
              "       [9.99953747e-01],\n",
              "       [1.85411621e-03],\n",
              "       [1.88910943e-02],\n",
              "       [1.63616061e-01],\n",
              "       [9.45550382e-01],\n",
              "       [7.85097599e-01],\n",
              "       [9.99638081e-01],\n",
              "       [4.91235517e-02],\n",
              "       [1.45630765e-04],\n",
              "       [3.90249363e-04],\n",
              "       [3.19744229e-01],\n",
              "       [2.24897885e-04],\n",
              "       [2.06054334e-04],\n",
              "       [9.99935746e-01],\n",
              "       [2.05268362e-03],\n",
              "       [9.37352479e-01],\n",
              "       [1.53396744e-04],\n",
              "       [9.99973297e-01],\n",
              "       [4.20037597e-01],\n",
              "       [9.93946373e-01],\n",
              "       [9.96178627e-01],\n",
              "       [7.90595222e-05],\n",
              "       [3.42246562e-01],\n",
              "       [9.99980569e-01],\n",
              "       [9.99903917e-01],\n",
              "       [2.99080193e-01],\n",
              "       [1.19391608e-03],\n",
              "       [9.99970675e-01],\n",
              "       [9.97865498e-01],\n",
              "       [4.36854840e-04],\n",
              "       [1.86368226e-04],\n",
              "       [1.15765561e-03],\n",
              "       [1.00777703e-04],\n",
              "       [1.88564695e-03],\n",
              "       [3.21825646e-04],\n",
              "       [3.62968771e-04],\n",
              "       [1.50757632e-03],\n",
              "       [7.88032293e-01],\n",
              "       [9.99974728e-01],\n",
              "       [2.28967285e-04],\n",
              "       [9.99946952e-01],\n",
              "       [2.91886099e-04],\n",
              "       [6.11122014e-05],\n",
              "       [1.81665942e-02],\n",
              "       [2.60467146e-04],\n",
              "       [9.99977589e-01],\n",
              "       [9.55948293e-01],\n",
              "       [7.46762380e-03],\n",
              "       [9.99976754e-01],\n",
              "       [6.93882108e-01],\n",
              "       [2.40460457e-03],\n",
              "       [1.05922425e-03],\n",
              "       [3.51498742e-03],\n",
              "       [1.16200201e-01],\n",
              "       [9.96961026e-04],\n",
              "       [1.86851859e-01],\n",
              "       [9.99864101e-01],\n",
              "       [9.94116902e-01],\n",
              "       [6.61206067e-01],\n",
              "       [3.83899733e-03],\n",
              "       [7.93929154e-04],\n",
              "       [9.99822915e-01],\n",
              "       [9.99939561e-01],\n",
              "       [9.93892550e-01],\n",
              "       [9.97256696e-01],\n",
              "       [3.33233009e-04],\n",
              "       [2.76139200e-01],\n",
              "       [9.38484192e-01],\n",
              "       [2.26504781e-04],\n",
              "       [9.99987245e-01],\n",
              "       [9.99956131e-01],\n",
              "       [4.55331616e-03],\n",
              "       [7.29916734e-04],\n",
              "       [4.58326072e-01],\n",
              "       [3.36972531e-04],\n",
              "       [9.99692678e-01],\n",
              "       [9.99971032e-01],\n",
              "       [9.99962330e-01],\n",
              "       [1.39349577e-04],\n",
              "       [1.30023900e-03],\n",
              "       [3.32901478e-01],\n",
              "       [9.99974728e-01],\n",
              "       [2.20505011e-04],\n",
              "       [9.99953032e-01],\n",
              "       [9.99983191e-01],\n",
              "       [5.45812480e-04],\n",
              "       [9.99893069e-01],\n",
              "       [9.99806821e-01],\n",
              "       [9.90360618e-01],\n",
              "       [7.65623176e-04],\n",
              "       [8.23275128e-04],\n",
              "       [8.27723270e-05],\n",
              "       [7.01864410e-05],\n",
              "       [4.06975091e-01],\n",
              "       [9.99961495e-01],\n",
              "       [1.43890735e-03],\n",
              "       [1.62221433e-04],\n",
              "       [8.99034130e-05],\n",
              "       [1.55910384e-04],\n",
              "       [3.15477997e-01],\n",
              "       [9.98119891e-01],\n",
              "       [9.99231219e-01],\n",
              "       [9.94283497e-01],\n",
              "       [6.46037224e-05],\n",
              "       [1.59583360e-04],\n",
              "       [9.96346414e-01],\n",
              "       [1.61363845e-04],\n",
              "       [9.98205505e-04],\n",
              "       [9.47090089e-01],\n",
              "       [9.99950290e-01],\n",
              "       [2.02186115e-04],\n",
              "       [3.67719942e-04],\n",
              "       [2.68843258e-04],\n",
              "       [1.25288516e-02],\n",
              "       [8.84329498e-01],\n",
              "       [9.99953747e-01],\n",
              "       [9.99941707e-01],\n",
              "       [1.27396299e-04],\n",
              "       [4.07724699e-04],\n",
              "       [9.47985575e-02],\n",
              "       [9.99973893e-01],\n",
              "       [7.10265813e-05],\n",
              "       [1.82846285e-04],\n",
              "       [8.71941745e-01],\n",
              "       [5.30340651e-04],\n",
              "       [1.34739166e-04],\n",
              "       [1.83199503e-04],\n",
              "       [7.46628642e-01],\n",
              "       [6.11640373e-03],\n",
              "       [1.55485852e-03],\n",
              "       [8.79389226e-01],\n",
              "       [9.86000001e-01],\n",
              "       [9.99964952e-01],\n",
              "       [9.99931455e-01],\n",
              "       [9.99588192e-01],\n",
              "       [9.41293180e-01],\n",
              "       [9.38741982e-01],\n",
              "       [7.31402019e-04],\n",
              "       [9.99941707e-01],\n",
              "       [8.41575893e-05],\n",
              "       [3.05550778e-03],\n",
              "       [3.46277026e-03],\n",
              "       [9.03888166e-01],\n",
              "       [9.86533642e-01],\n",
              "       [8.65065493e-04],\n",
              "       [2.99184501e-01],\n",
              "       [9.99963522e-01],\n",
              "       [1.81611060e-04],\n",
              "       [9.93394077e-01],\n",
              "       [2.48607621e-01],\n",
              "       [6.21889660e-04],\n",
              "       [1.01283818e-01],\n",
              "       [6.27322169e-03],\n",
              "       [9.99943256e-01],\n",
              "       [6.17800839e-03],\n",
              "       [9.94127989e-01],\n",
              "       [9.94243205e-01],\n",
              "       [6.34294702e-04],\n",
              "       [9.98662353e-01],\n",
              "       [1.06850574e-04],\n",
              "       [6.19170368e-01],\n",
              "       [9.99214053e-01],\n",
              "       [7.94875377e-05],\n",
              "       [4.54907089e-01],\n",
              "       [1.42220467e-01],\n",
              "       [3.32901478e-01],\n",
              "       [1.88342747e-04],\n",
              "       [9.98755455e-01],\n",
              "       [1.03821440e-04],\n",
              "       [1.59296018e-04],\n",
              "       [7.95122818e-04],\n",
              "       [1.26821190e-01],\n",
              "       [2.41035319e-04],\n",
              "       [9.72887218e-01],\n",
              "       [8.72540259e-05],\n",
              "       [1.39657792e-03],\n",
              "       [9.99989510e-01],\n",
              "       [3.26821289e-04],\n",
              "       [4.03985381e-04],\n",
              "       [1.61388278e-01],\n",
              "       [9.99321818e-01],\n",
              "       [1.26780504e-02],\n",
              "       [9.80406165e-01],\n",
              "       [1.45599523e-04],\n",
              "       [8.44983209e-04],\n",
              "       [9.99495983e-01],\n",
              "       [4.57135247e-05],\n",
              "       [2.63633381e-04],\n",
              "       [9.99905944e-01],\n",
              "       [9.99811232e-01],\n",
              "       [5.54700047e-02],\n",
              "       [4.85053170e-04],\n",
              "       [6.78304493e-01],\n",
              "       [9.57709074e-01],\n",
              "       [4.36651666e-04],\n",
              "       [9.92900729e-01],\n",
              "       [4.71825957e-01],\n",
              "       [9.99989748e-01],\n",
              "       [5.33074401e-02],\n",
              "       [1.58360112e-04],\n",
              "       [5.66755807e-05],\n",
              "       [9.99048889e-01],\n",
              "       [5.93142831e-05],\n",
              "       [9.42773402e-01],\n",
              "       [9.99928832e-01],\n",
              "       [8.49873006e-01],\n",
              "       [7.47688949e-01],\n",
              "       [9.99990702e-01],\n",
              "       [8.70805525e-05],\n",
              "       [3.15838400e-03],\n",
              "       [2.28684105e-04],\n",
              "       [7.21042394e-04],\n",
              "       [9.99984980e-01],\n",
              "       [9.99931216e-01],\n",
              "       [4.74962853e-02],\n",
              "       [8.43102276e-01],\n",
              "       [1.35353825e-03],\n",
              "       [9.99989629e-01],\n",
              "       [9.43600680e-05],\n",
              "       [1.51255669e-03],\n",
              "       [5.94674842e-04],\n",
              "       [7.84441305e-04],\n",
              "       [5.41359768e-04],\n",
              "       [9.99388337e-01],\n",
              "       [2.18039602e-01],\n",
              "       [1.69938823e-04],\n",
              "       [9.99953985e-01],\n",
              "       [2.41093469e-04],\n",
              "       [7.01784666e-05],\n",
              "       [9.99979973e-01],\n",
              "       [7.55601737e-04],\n",
              "       [3.29792209e-04],\n",
              "       [9.99935389e-01],\n",
              "       [6.62119826e-03],\n",
              "       [9.99923587e-01],\n",
              "       [9.99986172e-01],\n",
              "       [2.86738155e-04],\n",
              "       [7.39664887e-04],\n",
              "       [9.99906659e-01],\n",
              "       [2.24575386e-04],\n",
              "       [6.39634309e-05],\n",
              "       [9.99917865e-01],\n",
              "       [1.83804907e-04],\n",
              "       [1.66944141e-04],\n",
              "       [5.54214988e-04],\n",
              "       [1.69628835e-03],\n",
              "       [2.22364813e-03],\n",
              "       [2.58426386e-04],\n",
              "       [9.99990225e-01],\n",
              "       [9.99963880e-01],\n",
              "       [9.98257220e-01],\n",
              "       [6.74724460e-01],\n",
              "       [6.10780656e-01],\n",
              "       [9.99923110e-01],\n",
              "       [9.97601330e-01],\n",
              "       [7.86690798e-04],\n",
              "       [9.74077106e-01],\n",
              "       [9.99439895e-01],\n",
              "       [4.34447706e-01],\n",
              "       [9.90368128e-01],\n",
              "       [1.10881418e-04],\n",
              "       [7.66169978e-05],\n",
              "       [1.99891641e-04],\n",
              "       [2.10597718e-04],\n",
              "       [9.99955773e-01],\n",
              "       [2.04555437e-01],\n",
              "       [2.95756519e-01],\n",
              "       [9.94203150e-01],\n",
              "       [4.95339082e-05],\n",
              "       [9.98024225e-01],\n",
              "       [3.84882529e-04],\n",
              "       [8.53092194e-01],\n",
              "       [9.99989748e-01],\n",
              "       [1.49958039e-04],\n",
              "       [9.99906659e-01],\n",
              "       [9.99980569e-01],\n",
              "       [6.64815947e-04],\n",
              "       [9.96069431e-01],\n",
              "       [9.99961495e-01],\n",
              "       [9.99438345e-01],\n",
              "       [3.43365729e-01],\n",
              "       [5.64275146e-01],\n",
              "       [2.01816503e-02],\n",
              "       [3.78372322e-04],\n",
              "       [1.65872194e-03],\n",
              "       [9.99964237e-01],\n",
              "       [9.99924779e-01],\n",
              "       [5.18234372e-01],\n",
              "       [2.36218601e-01],\n",
              "       [9.98676002e-01],\n",
              "       [4.48283970e-01],\n",
              "       [9.99106467e-01],\n",
              "       [9.65967425e-04],\n",
              "       [9.67451990e-01],\n",
              "       [5.15620351e-01],\n",
              "       [8.64644069e-04],\n",
              "       [6.70763606e-04],\n",
              "       [2.52976606e-04],\n",
              "       [9.99785244e-01],\n",
              "       [9.99979019e-01],\n",
              "       [9.94781792e-01],\n",
              "       [9.99707282e-01],\n",
              "       [3.63115664e-03],\n",
              "       [1.04438039e-02],\n",
              "       [1.38456494e-01],\n",
              "       [9.53036487e-01],\n",
              "       [4.79832961e-05],\n",
              "       [9.98917103e-01],\n",
              "       [6.69667264e-04],\n",
              "       [7.73187220e-01],\n",
              "       [9.90375783e-03],\n",
              "       [4.93707812e-05],\n",
              "       [1.80652700e-04],\n",
              "       [1.14527869e-03],\n",
              "       [1.17440606e-04],\n",
              "       [9.98425961e-01],\n",
              "       [8.75676215e-01],\n",
              "       [9.95501339e-01],\n",
              "       [1.78090427e-02],\n",
              "       [2.50171567e-03],\n",
              "       [5.42908674e-05],\n",
              "       [9.99974728e-01],\n",
              "       [1.63940934e-03],\n",
              "       [9.81579423e-01],\n",
              "       [9.99974728e-01],\n",
              "       [9.99865055e-01],\n",
              "       [9.96730804e-01],\n",
              "       [3.78763536e-04],\n",
              "       [9.99901772e-01],\n",
              "       [9.99800503e-01],\n",
              "       [9.89131749e-01],\n",
              "       [4.05008376e-01],\n",
              "       [4.43777516e-02],\n",
              "       [6.23650011e-03],\n",
              "       [2.16720029e-04],\n",
              "       [4.60335426e-03],\n",
              "       [2.61697895e-03],\n",
              "       [9.98903513e-01],\n",
              "       [2.83842761e-04],\n",
              "       [6.55139083e-05],\n",
              "       [3.63647677e-02],\n",
              "       [1.34836460e-04],\n",
              "       [9.99949098e-01],\n",
              "       [9.77129996e-01],\n",
              "       [1.26625886e-02],\n",
              "       [2.17439923e-02],\n",
              "       [9.81998382e-05],\n",
              "       [9.21460092e-01],\n",
              "       [4.71825957e-01],\n",
              "       [9.91936759e-05],\n",
              "       [9.62508917e-01],\n",
              "       [2.16152128e-02],\n",
              "       [4.14590293e-04],\n",
              "       [9.99673367e-01],\n",
              "       [9.99989629e-01],\n",
              "       [9.99960661e-01],\n",
              "       [6.18572176e-01],\n",
              "       [9.99055088e-01],\n",
              "       [2.40825349e-04],\n",
              "       [2.99184501e-01],\n",
              "       [1.08921668e-02],\n",
              "       [3.14281817e-04],\n",
              "       [2.01794770e-04],\n",
              "       [2.30130769e-04],\n",
              "       [9.74757254e-01],\n",
              "       [4.91917133e-04],\n",
              "       [9.99826252e-01],\n",
              "       [9.76990700e-01],\n",
              "       [9.99975562e-01],\n",
              "       [5.45976625e-04],\n",
              "       [1.42329343e-04],\n",
              "       [3.58590798e-04],\n",
              "       [1.71612934e-04],\n",
              "       [1.28419918e-03],\n",
              "       [9.99984741e-01],\n",
              "       [9.99951601e-01],\n",
              "       [1.95104978e-04],\n",
              "       [9.95054483e-01],\n",
              "       [1.14633098e-01],\n",
              "       [7.66584533e-04],\n",
              "       [1.12617895e-01],\n",
              "       [9.85999644e-01],\n",
              "       [8.88383307e-04],\n",
              "       [9.98569965e-01],\n",
              "       [7.96889722e-01],\n",
              "       [4.74077230e-03],\n",
              "       [9.99926448e-01],\n",
              "       [3.18671879e-03],\n",
              "       [9.91555512e-01],\n",
              "       [1.64184210e-04],\n",
              "       [3.47413242e-01],\n",
              "       [5.63292939e-04],\n",
              "       [9.99970675e-01],\n",
              "       [2.01794770e-04],\n",
              "       [7.08039326e-04],\n",
              "       [1.94465893e-03],\n",
              "       [3.21038999e-03],\n",
              "       [4.90869815e-03],\n",
              "       [3.73116374e-01],\n",
              "       [3.13510594e-04],\n",
              "       [3.20416130e-03],\n",
              "       [9.99916434e-01],\n",
              "       [9.80925381e-01],\n",
              "       [2.92045493e-02],\n",
              "       [7.48397666e-04],\n",
              "       [9.99936342e-01],\n",
              "       [9.99903321e-01],\n",
              "       [1.63816076e-04],\n",
              "       [1.52235094e-04],\n",
              "       [9.99965668e-01],\n",
              "       [6.08805060e-01],\n",
              "       [9.99648690e-01],\n",
              "       [2.52751261e-01],\n",
              "       [9.57077064e-05],\n",
              "       [1.04657891e-04],\n",
              "       [3.30999773e-03],\n",
              "       [9.99384642e-01],\n",
              "       [9.99973297e-01],\n",
              "       [1.90348327e-01],\n",
              "       [9.99969363e-01],\n",
              "       [4.71825957e-01],\n",
              "       [8.96958530e-01],\n",
              "       [4.08462137e-01],\n",
              "       [8.55755789e-05],\n",
              "       [5.52726211e-04],\n",
              "       [3.46996170e-03],\n",
              "       [9.37283456e-01],\n",
              "       [7.85630848e-03],\n",
              "       [9.99718964e-01],\n",
              "       [6.18491411e-01],\n",
              "       [7.78425112e-03],\n",
              "       [1.61271426e-03],\n",
              "       [9.99966264e-01],\n",
              "       [9.98285830e-01],\n",
              "       [3.97340540e-04],\n",
              "       [3.02470609e-04],\n",
              "       [9.19696689e-01],\n",
              "       [9.99146938e-01],\n",
              "       [3.88900313e-04],\n",
              "       [3.19549069e-02],\n",
              "       [3.78036144e-04],\n",
              "       [4.45737562e-04],\n",
              "       [8.62983579e-04],\n",
              "       [9.94826734e-01],\n",
              "       [1.58160154e-04],\n",
              "       [1.38614458e-04],\n",
              "       [7.32220352e-01],\n",
              "       [9.99979496e-01],\n",
              "       [9.99870896e-01],\n",
              "       [9.99976039e-01],\n",
              "       [8.77091807e-05],\n",
              "       [5.64955524e-04],\n",
              "       [1.20025521e-04],\n",
              "       [3.41875970e-01],\n",
              "       [9.99688148e-01],\n",
              "       [2.61402945e-03],\n",
              "       [9.99654293e-01],\n",
              "       [9.99984980e-01],\n",
              "       [1.35431008e-03]], dtype=float32)"
            ]
          },
          "metadata": {},
          "execution_count": 112
        }
      ]
    },
    {
      "cell_type": "code",
      "source": [
        "model_4_preds = tf.squeeze(tf.round(model_4_pred_probs))"
      ],
      "metadata": {
        "id": "ROZPErBazoMX"
      },
      "execution_count": 113,
      "outputs": []
    },
    {
      "cell_type": "code",
      "source": [
        "model_4_preds[:20]"
      ],
      "metadata": {
        "colab": {
          "base_uri": "https://localhost:8080/"
        },
        "id": "8buRao8yztdG",
        "outputId": "1fc84696-5958-49c3-bd97-124e458ff5c2"
      },
      "execution_count": 114,
      "outputs": [
        {
          "output_type": "execute_result",
          "data": {
            "text/plain": [
              "<tf.Tensor: shape=(20,), dtype=float32, numpy=\n",
              "array([0., 1., 1., 0., 1., 0., 0., 0., 1., 1., 0., 0., 1., 0., 0., 0., 1.,\n",
              "       0., 1., 1.], dtype=float32)>"
            ]
          },
          "metadata": {},
          "execution_count": 114
        }
      ]
    },
    {
      "cell_type": "code",
      "source": [
        "#calc the results of biredcational model\n",
        "model_4_results = calculate_results(val_labels, model_4_preds)"
      ],
      "metadata": {
        "id": "M-jif3FlzvJR"
      },
      "execution_count": 116,
      "outputs": []
    },
    {
      "cell_type": "code",
      "source": [
        "model_4_results"
      ],
      "metadata": {
        "colab": {
          "base_uri": "https://localhost:8080/"
        },
        "id": "TW7nA3VHz1eu",
        "outputId": "17b8169e-3f18-41e4-bf01-30f330fcd344"
      },
      "execution_count": 117,
      "outputs": [
        {
          "output_type": "execute_result",
          "data": {
            "text/plain": [
              "{'accuracy': 76.11548556430446,\n",
              " 'f1': 0.761057159511443,\n",
              " 'precision': 0.7609700467283487,\n",
              " 'recall': 0.7611548556430446}"
            ]
          },
          "metadata": {},
          "execution_count": 117
        }
      ]
    },
    {
      "cell_type": "code",
      "source": [
        ""
      ],
      "metadata": {
        "id": "b28rxXIdz3iZ"
      },
      "execution_count": null,
      "outputs": []
    }
  ]
}